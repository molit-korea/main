{
 "cells": [
  {
   "cell_type": "code",
   "execution_count": 48,
   "metadata": {},
   "outputs": [],
   "source": [
    "import json\n",
    "import requests\n",
    "import pandas as pd\n",
    "import numpy as np\n",
    "\n",
    "import matplotlib.pyplot as plt\n",
    "import seaborn as sns\n",
    "import platform\n",
    "import folium\n",
    "import json\n",
    "import warnings\n",
    "warnings.simplefilter(action = \"ignore\", category = FutureWarning)"
   ]
  },
  {
   "cell_type": "code",
   "execution_count": 49,
   "metadata": {},
   "outputs": [],
   "source": [
    "from matplotlib import font_manager, rc\n",
    "\n",
    "%matplotlib inline\n",
    "\n",
    "from matplotlib import font_manager, rc\n",
    "if platform.system() == 'Darwin':\n",
    "    rc('font', family='AppleGothic')\n",
    "elif platform.system() == 'Windows':\n",
    "    font_name = font_manager.FontProperties(fname=\"c:/Windows/Fonts/malgun.ttf\").get_name()\n",
    "    rc('font', family=font_name)\n",
    "else:\n",
    "    print('Unknown system')"
   ]
  },
  {
   "cell_type": "code",
   "execution_count": 41,
   "metadata": {},
   "outputs": [],
   "source": [
    "def getLatLng(addr):\n",
    "      url = 'https://dapi.kakao.com/v2/local/search/address.json?query='+addr\n",
    "      headers = {\"Authorization\": \"KakaoAK fa144b983fda10a3dc2a20aa1551cbdb\"}\n",
    "      result = json.loads(str(requests.get(url,headers=headers).text)) \n",
    "      match_first = result['documents'][0]['address']\n",
    "      return float(match_first['y']),float(match_first['x'])\n"
   ]
  },
  {
   "cell_type": "code",
   "execution_count": 44,
   "metadata": {},
   "outputs": [
    {
     "data": {
      "text/plain": [
       "(37.50219728715107, 126.95857632056587)"
      ]
     },
     "execution_count": 44,
     "metadata": {},
     "output_type": "execute_result"
    }
   ],
   "source": [
    "addr = '서울특별시 동작구 흑석동 339'\n",
    "getLatLng(addr)"
   ]
  },
  {
   "cell_type": "code",
   "execution_count": 94,
   "metadata": {},
   "outputs": [
    {
     "data": {
      "text/html": [
       "<div style=\"width:100%;\"><div style=\"position:relative;width:100%;height:0;padding-bottom:60%;\"><iframe src=\"data:text/html;charset=utf-8;base64,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\" style=\"position:absolute;width:100%;height:100%;left:0;top:0;border:none !important;\" allowfullscreen webkitallowfullscreen mozallowfullscreen></iframe></div></div>"
      ],
      "text/plain": [
       "<folium.folium.Map at 0x21d9eaba860>"
      ]
     },
     "execution_count": 94,
     "metadata": {},
     "output_type": "execute_result"
    }
   ],
   "source": [
    "mt = folium.Map(location=[37.5242135, 127.0016985], zoom_start=11)\n",
    "mt"
   ]
  },
  {
   "cell_type": "code",
   "execution_count": 95,
   "metadata": {},
   "outputs": [
    {
     "data": {
      "text/html": [
       "<div style=\"width:100%;\"><div style=\"position:relative;width:100%;height:0;padding-bottom:60%;\"><iframe src=\"data:text/html;charset=utf-8;base64,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\" style=\"position:absolute;width:100%;height:100%;left:0;top:0;border:none !important;\" allowfullscreen webkitallowfullscreen mozallowfullscreen></iframe></div></div>"
      ],
      "text/plain": [
       "<folium.folium.Map at 0x21d9eb3d208>"
      ]
     },
     "execution_count": 95,
     "metadata": {},
     "output_type": "execute_result"
    }
   ],
   "source": [
    "m1 = folium.Map(location=[37.5242135, 127.0016985], zoom_start=11)\n",
    "folium.CircleMarker([37.511599, 126.917118], radius=10, popup='circle',\n",
    "                   fill_color='#3B0B0B').add_to(m1)\n",
    "# folium.RegularPolygonMarker([37.51,127.01], popup='1', fill_color='#3B0B0B',\n",
    "#                            number_of_sides=4, radius=10).add_to(m1)\n",
    "folium.CircleMarker([37.541599, 126.917118], radius=10, popup='circle',\n",
    "                   fill_color='#3B0B0B').add_to(m1)\n",
    "folium.CircleMarker([37.531599, 126.917118], radius=10, popup='circle',\n",
    "                   fill_color='#3B0B0B').add_to(m1)\n",
    "folium.CircleMarker([37.521599, 126.917118], radius=10, popup='circle',\n",
    "                   fill_color='#3B0B0B').add_to(m1)\n",
    "folium.Marker(location=[37.5502, 126.982], popup=\"Marker A\",\n",
    "             icon=folium.Icon(icon='cloud')).add_to(m1)\n",
    "folium.Marker(location=[37.5411, 127.0107], popup=\"한남동\",\n",
    "             icon=folium.Icon(color='red')).add_to(m1)\n",
    "m1.save('C:/Users/KSJ/Documents/국토부해커톤/Code/m1.html')\n",
    "m1"
   ]
  }
 ],
 "metadata": {
  "kernelspec": {
   "display_name": "Python 3",
   "language": "python",
   "name": "python3"
  },
  "language_info": {
   "codemirror_mode": {
    "name": "ipython",
    "version": 3
   },
   "file_extension": ".py",
   "mimetype": "text/x-python",
   "name": "python",
   "nbconvert_exporter": "python",
   "pygments_lexer": "ipython3",
   "version": "3.6.5"
  }
 },
 "nbformat": 4,
 "nbformat_minor": 2
}
