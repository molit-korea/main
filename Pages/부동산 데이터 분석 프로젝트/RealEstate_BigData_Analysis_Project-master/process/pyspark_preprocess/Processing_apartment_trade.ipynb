{
 "cells": [
  {
   "cell_type": "code",
   "execution_count": 1,
   "metadata": {},
   "outputs": [],
   "source": [
    "#-*- coding: utf-8 -*-\n",
    "#import sys \n",
    "#reload(sys)\n",
    "#sys.setdefaultencoding('utf-8')\n",
    "\n",
    "import requests\n",
    "#from pprint import pprint\n"
   ]
  },
  {
   "cell_type": "code",
   "execution_count": 2,
   "metadata": {},
   "outputs": [],
   "source": [
    "# kakao api\n",
    "APP_KEY = \"${API_KEY}\"\n",
    "kakao_url = \"https://dapi.kakao.com/v2/local/search/address.json\"\n",
    "kakao_headers = {\"Authorization\" : \"KakaoAK {}\".format(APP_KEY)}\n",
    "\n",
    "# naver api\n",
    "client_id = \"${CLIENT_IT}\"\n",
    "client_secret = \"${CLIENT_SECRET}\"\n",
    "naver_url = \"https://openapi.naver.com/v1/map/geocode\" \n",
    "naver_headers = {\"X-Naver-Client-Id\" : \"{}\".format(client_id) , \"X-Naver-Client-Secret\": \"{}\".format(client_secret)}"
   ]
  },
  {
   "cell_type": "code",
   "execution_count": 3,
   "metadata": {},
   "outputs": [],
   "source": [
    "def kakao_req(params, method):\n",
    "#     print('HTTP Method: %s' % method)\n",
    "#     print('Request URL: %s' % kakao_url)\n",
    "#     print('Headers: %s' % kakao_headers)\n",
    "#     print('QueryString: %s' % params)\n",
    "\n",
    "    if method == 'GET':\n",
    "        return requests.get(kakao_url, headers=kakao_headers, params=params)\n",
    "    \n",
    "def naver_req(params, method):\n",
    "#     print('HTTP Method: %s' % method)\n",
    "#     print('Request URL: %s' % naver_url)\n",
    "#     print('Headers: %s' % naver_headers)\n",
    "#     print('QueryString: %s' % params)\n",
    "    \n",
    "    if method == 'GET':\n",
    "        return requests.get(naver_url, headers=naver_headers, params=params)"
   ]
  },
  {
   "cell_type": "code",
   "execution_count": 4,
   "metadata": {},
   "outputs": [],
   "source": [
    "def get_location(address):\n",
    "\n",
    "    params = {\"query\": \"{}\".format(address)}\n",
    "\n",
    "    response = naver_req(params, 'GET')\n",
    "        \n",
    "\n",
    "#    #kakao parsing\n",
    "#     pprint(data['meta']['total_count'])\n",
    "#     pprint(data[\"documents\"][0][\"x\"])\n",
    "#     pprint(data[\"documents\"][0][\"y\"])\n",
    "    \n",
    "        \n",
    "    return response"
   ]
  },
  {
   "cell_type": "code",
   "execution_count": 5,
   "metadata": {},
   "outputs": [],
   "source": [
    "import findspark\n",
    "findspark.init()\n",
    "import pyspark\n",
    "import os\n",
    "import numpy as np"
   ]
  },
  {
   "cell_type": "code",
   "execution_count": 6,
   "metadata": {},
   "outputs": [],
   "source": [
    "#sc = pyspark.SparkContext.getOrCreate()\n",
    "sqlContext = SQLContext(sc)"
   ]
  },
  {
   "cell_type": "code",
   "execution_count": 7,
   "metadata": {},
   "outputs": [
    {
     "name": "stdout",
     "output_type": "stream",
     "text": [
      "apartment_trade_201009.csv\n",
      "apartment_trade_200801.csv\n",
      "apartment_trade_201301.csv\n",
      "apartment_trade_200802.csv\n",
      "apartment_trade_201707.csv\n",
      "apartment_trade_201001.csv\n",
      "apartment_trade_201106.csv\n",
      "apartment_trade_201612.csv\n",
      "apartment_trade_201605.csv\n",
      "apartment_trade_201109.csv\n",
      "apartment_trade_201805.csv\n",
      "apartment_trade_201711.csv\n",
      "apartment_trade_201102.csv\n",
      "apartment_trade_200901.csv\n",
      "apartment_trade_201101.csv\n",
      "apartment_trade_200805.csv\n",
      "apartment_trade_201610.csv\n",
      "apartment_trade_201312.csv\n",
      "apartment_trade_201803.csv\n",
      "apartment_trade_201002.csv\n",
      "apartment_trade_201404.csv\n",
      "apartment_trade_201201.csv\n",
      "apartment_trade_201108.csv\n",
      "apartment_trade_200912.csv\n",
      "apartment_trade_201703.csv\n",
      "apartment_trade_201202.csv\n",
      "apartment_trade_201203.csv\n",
      "apartment_trade_201004.csv\n",
      "apartment_trade_201209.csv\n",
      "apartment_trade_201407.csv\n",
      "apartment_trade_201011.csv\n",
      "apartment_trade_200909.csv\n",
      "apartment_trade_201509.csv\n",
      "apartment_trade_201306.csv\n",
      "apartment_trade_201409.csv\n",
      "apartment_trade_201208.csv\n",
      "apartment_trade_201710.csv\n",
      "apartment_trade_201709.csv\n",
      "apartment_trade_201405.csv\n",
      "apartment_trade_201408.csv\n",
      "apartment_trade_201012.csv\n",
      "apartment_trade_200904.csv\n",
      "apartment_trade_200810.csv\n",
      "apartment_trade_201406.csv\n",
      "apartment_trade_200902.csv\n",
      "apartment_trade_201302.csv\n",
      "apartment_trade_201802.csv\n",
      "apartment_trade_201806.csv\n",
      "apartment_trade_200906.csv\n",
      "apartment_trade_200806.csv\n",
      "apartment_trade_201507.csv\n",
      "apartment_trade_201204.csv\n",
      "apartment_trade_201303.csv\n",
      "apartment_trade_200811.csv\n",
      "apartment_trade_201104.csv\n",
      "apartment_trade_201309.csv\n",
      "apartment_trade_201609.csv\n",
      "apartment_trade_201211.csv\n",
      "apartment_trade_201602.csv\n",
      "apartment_trade_201701.csv\n",
      "apartment_trade_200812.csv\n",
      "apartment_trade_201305.csv\n",
      "apartment_trade_201708.csv\n",
      "apartment_trade_200910.csv\n",
      "apartment_trade_201801.csv\n",
      "apartment_trade_200903.csv\n",
      "apartment_trade_201107.csv\n",
      "apartment_trade_201706.csv\n",
      "apartment_trade_201008.csv\n",
      "apartment_trade_200907.csv\n",
      "apartment_trade_201704.csv\n",
      "apartment_trade_201307.csv\n",
      "apartment_trade_201103.csv\n",
      "apartment_trade_201105.csv\n",
      "apartment_trade_201401.csv\n",
      "apartment_trade_201501.csv\n",
      "apartment_trade_201212.csv\n",
      "apartment_trade_201310.csv\n",
      "apartment_trade_201705.csv\n",
      "apartment_trade_201502.csv\n",
      "apartment_trade_201601.csv\n",
      "apartment_trade_200908.csv\n",
      "apartment_trade_201604.csv\n",
      "apartment_trade_200808.csv\n",
      "apartment_trade_201111.csv\n",
      "apartment_trade_201611.csv\n",
      "apartment_trade_200911.csv\n",
      "apartment_trade_201410.csv\n",
      "apartment_trade_201608.csv\n",
      "apartment_trade_200809.csv\n",
      "apartment_trade_200803.csv\n",
      "apartment_trade_201304.csv\n",
      "apartment_trade_201112.csv\n",
      "apartment_trade_201206.csv\n",
      "apartment_trade_201207.csv\n",
      "apartment_trade_201506.csv\n",
      "apartment_trade_201003.csv\n",
      "apartment_trade_201010.csv\n",
      "apartment_trade_201508.csv\n",
      "apartment_trade_201510.csv\n",
      "apartment_trade_201804.csv\n",
      "apartment_trade_201005.csv\n",
      "apartment_trade_201006.csv\n",
      "apartment_trade_201308.csv\n",
      "apartment_trade_201311.csv\n",
      "apartment_trade_201606.csv\n",
      "apartment_trade_201511.csv\n",
      "apartment_trade_201110.csv\n",
      "apartment_trade_201512.csv\n",
      "apartment_trade_201702.csv\n",
      "apartment_trade_200807.csv\n",
      "apartment_trade_201007.csv\n",
      "apartment_trade_200905.csv\n",
      "apartment_trade_201607.csv\n",
      "apartment_trade_201603.csv\n",
      "apartment_trade_201412.csv\n",
      "apartment_trade_201402.csv\n",
      "apartment_trade_201205.csv\n",
      "apartment_trade_201403.csv\n",
      "apartment_trade_201505.csv\n",
      "apartment_trade_201504.csv\n",
      "apartment_trade_200804.csv\n",
      "apartment_trade_201210.csv\n",
      "apartment_trade_201411.csv\n",
      "apartment_trade_201503.csv\n",
      "apartment_trade_201712.csv\n",
      "['/home/project/real_estate/data/apartment_trade_data/apartment_trade_201009.csv', '/home/project/real_estate/data/apartment_trade_data/apartment_trade_200801.csv', '/home/project/real_estate/data/apartment_trade_data/apartment_trade_201301.csv', '/home/project/real_estate/data/apartment_trade_data/apartment_trade_200802.csv', '/home/project/real_estate/data/apartment_trade_data/apartment_trade_201707.csv', '/home/project/real_estate/data/apartment_trade_data/apartment_trade_201001.csv', '/home/project/real_estate/data/apartment_trade_data/apartment_trade_201106.csv', '/home/project/real_estate/data/apartment_trade_data/apartment_trade_201612.csv', '/home/project/real_estate/data/apartment_trade_data/apartment_trade_201605.csv', '/home/project/real_estate/data/apartment_trade_data/apartment_trade_201109.csv', '/home/project/real_estate/data/apartment_trade_data/apartment_trade_201805.csv', '/home/project/real_estate/data/apartment_trade_data/apartment_trade_201711.csv', '/home/project/real_estate/data/apartment_trade_data/apartment_trade_201102.csv', '/home/project/real_estate/data/apartment_trade_data/apartment_trade_200901.csv', '/home/project/real_estate/data/apartment_trade_data/apartment_trade_201101.csv', '/home/project/real_estate/data/apartment_trade_data/apartment_trade_200805.csv', '/home/project/real_estate/data/apartment_trade_data/apartment_trade_201610.csv', '/home/project/real_estate/data/apartment_trade_data/apartment_trade_201312.csv', '/home/project/real_estate/data/apartment_trade_data/apartment_trade_201803.csv', '/home/project/real_estate/data/apartment_trade_data/apartment_trade_201002.csv', '/home/project/real_estate/data/apartment_trade_data/apartment_trade_201404.csv', '/home/project/real_estate/data/apartment_trade_data/apartment_trade_201201.csv', '/home/project/real_estate/data/apartment_trade_data/apartment_trade_201108.csv', '/home/project/real_estate/data/apartment_trade_data/apartment_trade_200912.csv', '/home/project/real_estate/data/apartment_trade_data/apartment_trade_201703.csv', '/home/project/real_estate/data/apartment_trade_data/apartment_trade_201202.csv', '/home/project/real_estate/data/apartment_trade_data/apartment_trade_201203.csv', '/home/project/real_estate/data/apartment_trade_data/apartment_trade_201004.csv', '/home/project/real_estate/data/apartment_trade_data/apartment_trade_201209.csv', '/home/project/real_estate/data/apartment_trade_data/apartment_trade_201407.csv', '/home/project/real_estate/data/apartment_trade_data/apartment_trade_201011.csv', '/home/project/real_estate/data/apartment_trade_data/apartment_trade_200909.csv', '/home/project/real_estate/data/apartment_trade_data/apartment_trade_201509.csv', '/home/project/real_estate/data/apartment_trade_data/apartment_trade_201306.csv', '/home/project/real_estate/data/apartment_trade_data/apartment_trade_201409.csv', '/home/project/real_estate/data/apartment_trade_data/apartment_trade_201208.csv', '/home/project/real_estate/data/apartment_trade_data/apartment_trade_201710.csv', '/home/project/real_estate/data/apartment_trade_data/apartment_trade_201709.csv', '/home/project/real_estate/data/apartment_trade_data/apartment_trade_201405.csv', '/home/project/real_estate/data/apartment_trade_data/apartment_trade_201408.csv', '/home/project/real_estate/data/apartment_trade_data/apartment_trade_201012.csv', '/home/project/real_estate/data/apartment_trade_data/apartment_trade_200904.csv', '/home/project/real_estate/data/apartment_trade_data/apartment_trade_200810.csv', '/home/project/real_estate/data/apartment_trade_data/apartment_trade_201406.csv', '/home/project/real_estate/data/apartment_trade_data/apartment_trade_200902.csv', '/home/project/real_estate/data/apartment_trade_data/apartment_trade_201302.csv', '/home/project/real_estate/data/apartment_trade_data/apartment_trade_201802.csv', '/home/project/real_estate/data/apartment_trade_data/apartment_trade_201806.csv', '/home/project/real_estate/data/apartment_trade_data/apartment_trade_200906.csv', '/home/project/real_estate/data/apartment_trade_data/apartment_trade_200806.csv', '/home/project/real_estate/data/apartment_trade_data/apartment_trade_201507.csv', '/home/project/real_estate/data/apartment_trade_data/apartment_trade_201204.csv', '/home/project/real_estate/data/apartment_trade_data/apartment_trade_201303.csv', '/home/project/real_estate/data/apartment_trade_data/apartment_trade_200811.csv', '/home/project/real_estate/data/apartment_trade_data/apartment_trade_201104.csv', '/home/project/real_estate/data/apartment_trade_data/apartment_trade_201309.csv', '/home/project/real_estate/data/apartment_trade_data/apartment_trade_201609.csv', '/home/project/real_estate/data/apartment_trade_data/apartment_trade_201211.csv', '/home/project/real_estate/data/apartment_trade_data/apartment_trade_201602.csv', '/home/project/real_estate/data/apartment_trade_data/apartment_trade_201701.csv', '/home/project/real_estate/data/apartment_trade_data/apartment_trade_200812.csv', '/home/project/real_estate/data/apartment_trade_data/apartment_trade_201305.csv', '/home/project/real_estate/data/apartment_trade_data/apartment_trade_201708.csv', '/home/project/real_estate/data/apartment_trade_data/apartment_trade_200910.csv', '/home/project/real_estate/data/apartment_trade_data/apartment_trade_201801.csv', '/home/project/real_estate/data/apartment_trade_data/apartment_trade_200903.csv', '/home/project/real_estate/data/apartment_trade_data/apartment_trade_201107.csv', '/home/project/real_estate/data/apartment_trade_data/apartment_trade_201706.csv', '/home/project/real_estate/data/apartment_trade_data/apartment_trade_201008.csv', '/home/project/real_estate/data/apartment_trade_data/apartment_trade_200907.csv', '/home/project/real_estate/data/apartment_trade_data/apartment_trade_201704.csv', '/home/project/real_estate/data/apartment_trade_data/apartment_trade_201307.csv', '/home/project/real_estate/data/apartment_trade_data/apartment_trade_201103.csv', '/home/project/real_estate/data/apartment_trade_data/apartment_trade_201105.csv', '/home/project/real_estate/data/apartment_trade_data/apartment_trade_201401.csv', '/home/project/real_estate/data/apartment_trade_data/apartment_trade_201501.csv', '/home/project/real_estate/data/apartment_trade_data/apartment_trade_201212.csv', '/home/project/real_estate/data/apartment_trade_data/apartment_trade_201310.csv', '/home/project/real_estate/data/apartment_trade_data/apartment_trade_201705.csv', '/home/project/real_estate/data/apartment_trade_data/apartment_trade_201502.csv', '/home/project/real_estate/data/apartment_trade_data/apartment_trade_201601.csv', '/home/project/real_estate/data/apartment_trade_data/apartment_trade_200908.csv', '/home/project/real_estate/data/apartment_trade_data/apartment_trade_201604.csv', '/home/project/real_estate/data/apartment_trade_data/apartment_trade_200808.csv', '/home/project/real_estate/data/apartment_trade_data/apartment_trade_201111.csv', '/home/project/real_estate/data/apartment_trade_data/apartment_trade_201611.csv', '/home/project/real_estate/data/apartment_trade_data/apartment_trade_200911.csv', '/home/project/real_estate/data/apartment_trade_data/apartment_trade_201410.csv', '/home/project/real_estate/data/apartment_trade_data/apartment_trade_201608.csv', '/home/project/real_estate/data/apartment_trade_data/apartment_trade_200809.csv', '/home/project/real_estate/data/apartment_trade_data/apartment_trade_200803.csv', '/home/project/real_estate/data/apartment_trade_data/apartment_trade_201304.csv', '/home/project/real_estate/data/apartment_trade_data/apartment_trade_201112.csv', '/home/project/real_estate/data/apartment_trade_data/apartment_trade_201206.csv', '/home/project/real_estate/data/apartment_trade_data/apartment_trade_201207.csv', '/home/project/real_estate/data/apartment_trade_data/apartment_trade_201506.csv', '/home/project/real_estate/data/apartment_trade_data/apartment_trade_201003.csv', '/home/project/real_estate/data/apartment_trade_data/apartment_trade_201010.csv', '/home/project/real_estate/data/apartment_trade_data/apartment_trade_201508.csv', '/home/project/real_estate/data/apartment_trade_data/apartment_trade_201510.csv', '/home/project/real_estate/data/apartment_trade_data/apartment_trade_201804.csv', '/home/project/real_estate/data/apartment_trade_data/apartment_trade_201005.csv', '/home/project/real_estate/data/apartment_trade_data/apartment_trade_201006.csv', '/home/project/real_estate/data/apartment_trade_data/apartment_trade_201308.csv', '/home/project/real_estate/data/apartment_trade_data/apartment_trade_201311.csv', '/home/project/real_estate/data/apartment_trade_data/apartment_trade_201606.csv', '/home/project/real_estate/data/apartment_trade_data/apartment_trade_201511.csv', '/home/project/real_estate/data/apartment_trade_data/apartment_trade_201110.csv', '/home/project/real_estate/data/apartment_trade_data/apartment_trade_201512.csv', '/home/project/real_estate/data/apartment_trade_data/apartment_trade_201702.csv', '/home/project/real_estate/data/apartment_trade_data/apartment_trade_200807.csv', '/home/project/real_estate/data/apartment_trade_data/apartment_trade_201007.csv', '/home/project/real_estate/data/apartment_trade_data/apartment_trade_200905.csv', '/home/project/real_estate/data/apartment_trade_data/apartment_trade_201607.csv', '/home/project/real_estate/data/apartment_trade_data/apartment_trade_201603.csv', '/home/project/real_estate/data/apartment_trade_data/apartment_trade_201412.csv', '/home/project/real_estate/data/apartment_trade_data/apartment_trade_201402.csv', '/home/project/real_estate/data/apartment_trade_data/apartment_trade_201205.csv', '/home/project/real_estate/data/apartment_trade_data/apartment_trade_201403.csv', '/home/project/real_estate/data/apartment_trade_data/apartment_trade_201505.csv', '/home/project/real_estate/data/apartment_trade_data/apartment_trade_201504.csv', '/home/project/real_estate/data/apartment_trade_data/apartment_trade_200804.csv', '/home/project/real_estate/data/apartment_trade_data/apartment_trade_201210.csv', '/home/project/real_estate/data/apartment_trade_data/apartment_trade_201411.csv', '/home/project/real_estate/data/apartment_trade_data/apartment_trade_201503.csv', '/home/project/real_estate/data/apartment_trade_data/apartment_trade_201712.csv']\n"
     ]
    }
   ],
   "source": [
    "basic_folder = '/home/project/real_estate/data/apartment_trade_data/'\n",
    "\n",
    "file_list = os.listdir(basic_folder)\n",
    "path_list=[]\n",
    "for file in file_list:\n",
    "    print(file)\n",
    "    path_list.append(basic_folder + file)\n",
    "    \n",
    "print(path_list)"
   ]
  },
  {
   "cell_type": "code",
   "execution_count": 8,
   "metadata": {},
   "outputs": [],
   "source": [
    "df = sqlContext.read.format(\"com.databricks.spark.csv\") \\\n",
    "    .option(\"header\", \"true\").option(\"inferSchema\", \"true\").load(path_list)"
   ]
  },
  {
   "cell_type": "code",
   "execution_count": 9,
   "metadata": {
    "scrolled": false
   },
   "outputs": [
    {
     "name": "stdout",
     "output_type": "stream",
     "text": [
      "root\n",
      " |-- _c0: integer (nullable = true)\n",
      " |-- build_year: integer (nullable = true)\n",
      " |-- trade_price: string (nullable = true)\n",
      " |-- year: integer (nullable = true)\n",
      " |-- month: integer (nullable = true)\n",
      " |-- day: string (nullable = true)\n",
      " |-- city: string (nullable = true)\n",
      " |-- sub_city: string (nullable = true)\n",
      " |-- dong: string (nullable = true)\n",
      " |-- code: integer (nullable = true)\n",
      " |-- name: string (nullable = true)\n",
      " |-- floor: string (nullable = true)\n",
      " |-- exclusive_private_area: double (nullable = true)\n",
      " |-- address: string (nullable = true)\n",
      " |-- detailed_address: string (nullable = true)\n",
      "\n"
     ]
    }
   ],
   "source": [
    "df.printSchema()"
   ]
  },
  {
   "cell_type": "code",
   "execution_count": 10,
   "metadata": {
    "scrolled": true
   },
   "outputs": [
    {
     "name": "stdout",
     "output_type": "stream",
     "text": [
      "+---+----------+-----------+----+-----+-----+-----+--------+-----+-----+---------------+-----+----------------------+---------------+----------------+\n",
      "|_c0|build_year|trade_price|year|month|  day| city|sub_city| dong| code|           name|floor|exclusive_private_area|        address|detailed_address|\n",
      "+---+----------+-----------+----+-----+-----+-----+--------+-----+-----+---------------+-----+----------------------+---------------+----------------+\n",
      "|  0|      2000|     89,000|2015|    3|11~20|서울특별시|     종로구|  청운동|11110|           청운현대|    1|                129.76| 서울특별시 종로구  청운동|           56-45|\n",
      "|  1|      2002|     48,500|2015|    3| 1~10|서울특별시|     종로구|  신교동|11110|       신현(101동)|    3|                 84.82| 서울특별시 종로구  신교동|            6-13|\n",
      "|  2|      2008|     85,000|2015|    3| 1~10|서울특별시|     종로구|  사직동|11110|광화문풍림스페이스본(9-0)|    9|                 94.51| 서울특별시 종로구  사직동|               9|\n",
      "|  3|      2008|    107,000|2015|    3|11~20|서울특별시|     종로구|  사직동|11110|광화문풍림스페이스본(9-1)|    6|                144.52| 서울특별시 종로구  사직동|             9-1|\n",
      "|  4|      2008|     73,000|2015|    3|21~31|서울특별시|     종로구|  사직동|11110|광화문풍림스페이스본(9-0)|    7|                 94.51| 서울특별시 종로구  사직동|               9|\n",
      "|  5|      2008|     96,500|2015|    3|21~31|서울특별시|     종로구|  사직동|11110|광화문풍림스페이스본(9-0)|    4|                126.34| 서울특별시 종로구  사직동|               9|\n",
      "|  6|      2008|     77,000|2015|    3|21~31|서울특별시|     종로구|  사직동|11110|광화문풍림스페이스본(9-0)|    1|                 97.61| 서울특별시 종로구  사직동|               9|\n",
      "|  7|      1981|     42,500|2015|    3| 1~10|서울특별시|     종로구|  당주동|11110|            미도파|    7|                 93.36| 서울특별시 종로구  당주동|             145|\n",
      "|  8|      2004|    108,000|2015|    3| 1~10|서울특별시|     종로구|  내수동|11110|      경희궁의아침2단지|    2|                124.17| 서울특별시 종로구  내수동|              71|\n",
      "|  9|      2003|    117,500|2015|    3| 1~10|서울특별시|     종로구|  내수동|11110|          파크팰리스|   14|                146.39| 서울특별시 종로구  내수동|              95|\n",
      "| 10|      2004|    115,000|2015|    3|21~31|서울특별시|     종로구|  내수동|11110|      경희궁의아침4단지|   14|                150.48| 서울특별시 종로구  내수동|              73|\n",
      "| 11|      2003|    111,000|2015|    3|21~31|서울특별시|     종로구|  내수동|11110|          파크팰리스|   16|                147.62| 서울특별시 종로구  내수동|              95|\n",
      "| 12|      2003|     25,700|2015|    3| 1~10|서울특별시|     종로구|  익선동|11110|         현대뜨레비앙|    7|                 48.54| 서울특별시 종로구  익선동|              55|\n",
      "| 13|      2006|     51,000|2015|    3| 1~10|서울특별시|     종로구|  인의동|11110|        효성쥬얼리시티|   17|                 84.98| 서울특별시 종로구  인의동|            48-2|\n",
      "| 14|      2006|     60,000|2015|    3|11~20|서울특별시|     종로구|  인의동|11110|        효성쥬얼리시티|   14|                 98.39| 서울특별시 종로구  인의동|            48-2|\n",
      "| 15|      2014|     17,500|2015|    3| 1~10|서울특별시|     종로구|  연건동|11110|          이화에수풀|   13|                 16.98| 서울특별시 종로구  연건동|          195-10|\n",
      "| 16|      2002|     40,700|2015|    3|21~31|서울특별시|     종로구| 명륜1가|11110|           아마레스|    7|                 73.17|서울특별시 종로구  명륜1가|            45-5|\n",
      "| 17|      1995|     56,300|2015|    3| 1~10|서울특별시|     종로구| 명륜2가|11110|            아남1|    4|                  84.9|서울특별시 종로구  명륜2가|               4|\n",
      "| 18|      1996|     74,500|2015|    3|11~20|서울특별시|     종로구| 명륜2가|11110|            아남2|    5|                114.36|서울특별시 종로구  명륜2가|             236|\n",
      "| 19|      1995|     58,000|2015|    3|11~20|서울특별시|     종로구| 명륜2가|11110|            아남1|   14|                  84.9|서울특별시 종로구  명륜2가|               4|\n",
      "+---+----------+-----------+----+-----+-----+-----+--------+-----+-----+---------------+-----+----------------------+---------------+----------------+\n",
      "only showing top 20 rows\n",
      "\n"
     ]
    },
    {
     "data": {
      "text/plain": [
       "5967446"
      ]
     },
     "execution_count": 10,
     "metadata": {},
     "output_type": "execute_result"
    }
   ],
   "source": [
    "df.show()\n",
    "df.count()"
   ]
  },
  {
   "cell_type": "code",
   "execution_count": 11,
   "metadata": {
    "scrolled": true
   },
   "outputs": [],
   "source": [
    "#filter_df = df.filter((df[\"detailed_address\"] == \"\") | df[\"detailed_address\"].isNull() | isnan(df[\"detailed_address\"]))\n",
    "#filter_df.show()\n",
    "#filter_df.count() == 36\n",
    "\n",
    "filter_df = df.na.drop()\n",
    "\n"
   ]
  },
  {
   "cell_type": "code",
   "execution_count": 12,
   "metadata": {},
   "outputs": [],
   "source": [
    "from pyspark.sql.functions import *"
   ]
  },
  {
   "cell_type": "code",
   "execution_count": 13,
   "metadata": {},
   "outputs": [],
   "source": [
    "unique_date_df = filter_df.groupBy(filter_df.year,filter_df.month, filter_df.day).agg(count(\"day\").alias('count'))\n",
    "\n",
    "unique_date_list = unique_date_df.collect()\n",
    "\n",
    "new_date_list = []\n",
    "\n",
    "for unique_date in unique_date_list:\n",
    "    if unique_date[1] < 10 :\n",
    "        if int(unique_date[2].split('~')[0]) < 10 : \n",
    "            date = str(unique_date[0]) + '-' + '0' + str(unique_date[1]) + '-' + '0' +unique_date[2].split('~')[0] + 'T' + \"00:00:00\"\n",
    "        else:\n",
    "            date = str(unique_date[0]) + '-' + '0' + str(unique_date[1]) + '-' +unique_date[2].split('~')[0] + 'T' + \"00:00:00\"\n",
    "        \n",
    "    else:\n",
    "        if int(unique_date[2].split('~')[0]) < 10 : \n",
    "            date = str(unique_date[0]) + '-' + str(unique_date[1]) + '-' + '0' +unique_date[2].split('~')[0] + 'T' + \"00:00:00\"\n",
    "    \n",
    "        else:\n",
    "            date = str(unique_date[0]) + '-' + str(unique_date[1]) + '-' +unique_date[2].split('~')[0] + 'T' + \"00:00:00\"\n",
    "    \n",
    "    \n",
    "    new_date_list.append([unique_date[0], unique_date[1],unique_date[2],date])\n",
    "    \n",
    "    \n",
    "unique_date_df = sc.parallelize(new_date_list).toDF(['year','month','day','date'])"
   ]
  },
  {
   "cell_type": "code",
   "execution_count": 14,
   "metadata": {},
   "outputs": [
    {
     "name": "stdout",
     "output_type": "stream",
     "text": [
      "+----+-----+----+---+----------+-----------+-----+--------+------+-----+--------+-----+----------------------+---------------+----------------+-------------------+\n",
      "|year|month| day|_c0|build_year|trade_price| city|sub_city|  dong| code|    name|floor|exclusive_private_area|        address|detailed_address|               date|\n",
      "+----+-----+----+---+----------+-----------+-----+--------+------+-----+--------+-----+----------------------+---------------+----------------+-------------------+\n",
      "|2008|    1|1~10|  9|      2004|     45,000|서울특별시|      중구|   신당동|11140|   삼성홈타운|    6|                104.98|  서울특별시 중구  신당동|             849|2008-01-01T00:00:00|\n",
      "|2008|    1|1~10|  0|      1981|      4,800|서울특별시|      중구| 장충동2가|11140|      장충|    6|                 31.24|서울특별시 중구  장충동2가|          193-29|2008-01-01T00:00:00|\n",
      "|2008|    1|1~10|  8|      2002|     37,300|서울특별시|      중구|   신당동|11140|    남산타운|   14|                 59.94|  서울특별시 중구  신당동|             844|2008-01-01T00:00:00|\n",
      "|2008|    1|1~10| 17|      1968|     12,500|서울특별시|     종로구|   창신동|11110|(436-79)|    6|                  59.6| 서울특별시 종로구  창신동|          436-79|2008-01-01T00:00:00|\n",
      "|2008|    1|1~10| 33|      1997|      8,350|서울특별시|     종로구|   평창동|11110|      갑을|   12|                 30.46| 서울특별시 종로구  평창동|             595|2008-01-01T00:00:00|\n",
      "|2008|    1|1~10|  4|      2001|     14,450|서울특별시|      중구|   신당동|11140|동산빌라(2차)|    2|                 54.46|  서울특별시 중구  신당동|        432-1952|2008-01-01T00:00:00|\n",
      "|2008|    1|1~10|  7|      2003|     23,000|서울특별시|      중구|   신당동|11140|   청구파크뷰|    5|                 78.57|  서울특별시 중구  신당동|          292-35|2008-01-01T00:00:00|\n",
      "|2008|    1|1~10|  5|      2006|     67,000|서울특별시|     종로구|   인의동|11110| 효성쥬얼리시티|   16|                106.81| 서울특별시 종로구  인의동|            48-2|2008-01-01T00:00:00|\n",
      "|2008|    1|1~10| 12|      2003|     22,000|서울특별시|     종로구|  명륜1가|11110| 리치캐슬아파트|    2|                  75.6|서울특별시 종로구  명륜1가|           33-85|2008-01-01T00:00:00|\n",
      "|2008|    1|1~10| 19|      1999|     28,300|서울특별시|     종로구|   창신동|11110|      두산|    5|                 59.95| 서울특별시 종로구  창신동|             232|2008-01-01T00:00:00|\n",
      "|2008|    1|1~10| 20|      1999|     28,300|서울특별시|     종로구|   창신동|11110|      두산|    4|                 59.95| 서울특별시 종로구  창신동|             232|2008-01-01T00:00:00|\n",
      "|2008|    1|1~10|  2|      1999|     29,250|서울특별시|      중구|   신당동|11140|   약수하이츠|    1|                 57.63|  서울특별시 중구  신당동|             842|2008-01-01T00:00:00|\n",
      "|2008|    1|1~10|  3|      2003|     35,000|서울특별시|      중구|   신당동|11140|    란스미어|    1|                 83.69|  서울특별시 중구  신당동|           404-2|2008-01-01T00:00:00|\n",
      "|2008|    1|1~10|  5|      1999|     74,500|서울특별시|      중구|   신당동|11140|   약수하이츠|   10|                114.92|  서울특별시 중구  신당동|             842|2008-01-01T00:00:00|\n",
      "|2008|    1|1~10|  6|      1999|     30,000|서울특별시|      중구|   신당동|11140|      삼성|   10|                 59.98|  서울특별시 중구  신당동|             843|2008-01-01T00:00:00|\n",
      "|2008|    1|1~10|  1|      1973|     20,000|서울특별시|     종로구|   필운동|11110|  사직파크맨션|    6|                 99.17| 서울특별시 종로구  필운동|             142|2008-01-01T00:00:00|\n",
      "|2008|    1|1~10|  2|      2007|     38,500|서울특별시|     종로구|   필운동|11110|  두레엘리시안|    6|                 84.74| 서울특별시 종로구  필운동|           174-1|2008-01-01T00:00:00|\n",
      "|2008|    1|1~10|  6|      2006|     50,270|서울특별시|     종로구|   인의동|11110| 효성쥬얼리시티|    7|                 92.81| 서울특별시 종로구  인의동|            48-2|2008-01-01T00:00:00|\n",
      "|2008|    1|1~10| 11|      2002|     30,400|서울특별시|     종로구|  명륜1가|11110|    아마레스|    1|                 84.59|서울특별시 종로구  명륜1가|            45-5|2008-01-01T00:00:00|\n",
      "|2008|    1|1~10| 18|      1999|     26,800|서울특별시|     종로구|   창신동|11110|      두산|    2|                 59.95| 서울특별시 종로구  창신동|             232|2008-01-01T00:00:00|\n",
      "+----+-----+----+---+----------+-----------+-----+--------+------+-----+--------+-----+----------------------+---------------+----------------+-------------------+\n",
      "only showing top 20 rows\n",
      "\n"
     ]
    },
    {
     "data": {
      "text/plain": [
       "5967410"
      ]
     },
     "execution_count": 14,
     "metadata": {},
     "output_type": "execute_result"
    }
   ],
   "source": [
    "added_date_df = filter_df.join(unique_date_df, ['year','month','day']).sort('date')\n",
    "added_date_df.show()\n",
    "added_date_df.count()"
   ]
  },
  {
   "cell_type": "code",
   "execution_count": 15,
   "metadata": {},
   "outputs": [
    {
     "name": "stdout",
     "output_type": "stream",
     "text": [
      "+--------------------+----------------+-----+\n",
      "|             address|detailed_address|count|\n",
      "+--------------------+----------------+-----+\n",
      "|     서울특별시 동대문구  장안동|           329-2|  518|\n",
      "|      서울특별시 노원구  중계동|             600|   26|\n",
      "|       부산광역시 북구  화명동|            2264| 1659|\n",
      "|      부산광역시 사상구  학장동|             819|  428|\n",
      "|       인천광역시 남구  관교동|            13-9|  213|\n",
      "|      인천광역시 부평구  삼산동|           453-1|  873|\n",
      "|      인천광역시 부평구  부개동|           477-2|  153|\n",
      "|      인천광역시 계양구  병방동|             383|  202|\n",
      "|   울산광역시 울주군 범서읍 구영리|           881-2|  237|\n",
      "|       경기도 의정부시  민락동|           692-1|  485|\n",
      "|        경기도 평택시  합정동|             835|  845|\n",
      "|    경기도 안산시 단원구  초지동|             741| 1543|\n",
      "|   경기도 고양시 일산서구  주엽동|              90|  294|\n",
      "|   충청북도 청주시 상당구  금천동|            50-3|  448|\n",
      "|전라북도 전주시 완산구  중화산동1가|             329|  187|\n",
      "|       전라북도 익산시  팔봉동|             304|  745|\n",
      "|       전라북도 익산시  부송동|            1038|  372|\n",
      "|    전라북도 무주군 무주읍 읍내리|          1216-3|   45|\n",
      "|        경상북도 안동시  옥동|             974|  748|\n",
      "|    경상남도 밀양시 하남읍 수산리|          429-12|   27|\n",
      "+--------------------+----------------+-----+\n",
      "only showing top 20 rows\n",
      "\n"
     ]
    },
    {
     "data": {
      "text/plain": [
       "38638"
      ]
     },
     "execution_count": 15,
     "metadata": {},
     "output_type": "execute_result"
    }
   ],
   "source": [
    "new_df = added_date_df.groupBy(added_date_df.address,added_date_df.detailed_address).agg(count(\"detailed_address\").alias(\"count\"))\n",
    "new_df.show()\n",
    "new_df.count()"
   ]
  },
  {
   "cell_type": "code",
   "execution_count": 16,
   "metadata": {},
   "outputs": [],
   "source": [
    "sum = new_df.select(sum(\"count\"))"
   ]
  },
  {
   "cell_type": "code",
   "execution_count": 17,
   "metadata": {},
   "outputs": [
    {
     "name": "stdout",
     "output_type": "stream",
     "text": [
      "+----------+\n",
      "|sum(count)|\n",
      "+----------+\n",
      "|   5967410|\n",
      "+----------+\n",
      "\n"
     ]
    }
   ],
   "source": [
    "sum.show()"
   ]
  },
  {
   "cell_type": "code",
   "execution_count": 18,
   "metadata": {},
   "outputs": [
    {
     "name": "stdout",
     "output_type": "stream",
     "text": [
      "서울특별시 동대문구  이문동\n"
     ]
    }
   ],
   "source": [
    "unique_address_list = new_df.collect()\n",
    "print unique_address_list[0][0]"
   ]
  },
  {
   "cell_type": "code",
   "execution_count": 19,
   "metadata": {
    "scrolled": true
   },
   "outputs": [
    {
     "name": "stdout",
     "output_type": "stream",
     "text": [
      "8189\n",
      "1.22% completed\n",
      "2.44% completed\n",
      "3.66% completed\n",
      "4.88% completed\n",
      "6.11% completed\n",
      "7.33% completed\n",
      "8.55% completed\n",
      "9.77% completed\n",
      "10.99% completed\n",
      "12.21% completed\n",
      "error address: 인천광역시 부평구  부평동 180-24\n",
      "1\n",
      "13.43% completed\n",
      "14.65% completed\n",
      "15.87% completed\n",
      "17.10% completed\n",
      "18.32% completed\n",
      "19.54% completed\n",
      "20.76% completed\n",
      "21.98% completed\n",
      "23.20% completed\n",
      "24.42% completed\n",
      "25.64% completed\n",
      "26.87% completed\n",
      "28.09% completed\n",
      "29.31% completed\n",
      "30.53% completed\n",
      "31.75% completed\n",
      "32.97% completed\n",
      "34.19% completed\n",
      "35.41% completed\n",
      "36.63% completed\n",
      "37.86% completed\n",
      "39.08% completed\n",
      "40.30% completed\n",
      "41.52% completed\n",
      "42.74% completed\n",
      "43.96% completed\n",
      "45.18% completed\n",
      "46.40% completed\n",
      "47.62% completed\n",
      "48.85% completed\n",
      "50.07% completed\n",
      "51.29% completed\n",
      "52.51% completed\n",
      "53.73% completed\n",
      "54.95% completed\n",
      "56.17% completed\n",
      "57.39% completed\n",
      "58.62% completed\n",
      "59.84% completed\n",
      "61.06% completed\n",
      "62.28% completed\n",
      "63.50% completed\n",
      "64.72% completed\n",
      "65.94% completed\n",
      "67.16% completed\n",
      "68.38% completed\n",
      "69.61% completed\n",
      "70.83% completed\n",
      "72.05% completed\n",
      "73.27% completed\n",
      "74.49% completed\n",
      "75.71% completed\n",
      "76.93% completed\n",
      "78.15% completed\n",
      "79.37% completed\n",
      "80.60% completed\n",
      "81.82% completed\n",
      "83.04% completed\n",
      "84.26% completed\n",
      "85.48% completed\n",
      "86.70% completed\n",
      "87.92% completed\n",
      "89.14% completed\n",
      "90.37% completed\n",
      "91.59% completed\n",
      "92.81% completed\n",
      "94.03% completed\n",
      "95.25% completed\n",
      "96.47% completed\n",
      "97.69% completed\n",
      "98.91% completed\n"
     ]
    }
   ],
   "source": [
    "location_list = []\n",
    "\n",
    "# checking why no result data\n",
    "# response = get_location(\"경상북도 영천시 신령면 완전리\") -> 신녕면\n",
    "# print response.status_code\n",
    "# data = response.json()\n",
    "# print data\n",
    "\n",
    "index = 1.0;\n",
    "length = len(unique_address_list)\n",
    "count = 0;\n",
    "\n",
    "print length \n",
    "\n",
    "for address in unique_address_list:    \n",
    "    full_address = (address[0] + \" \" + address[1]).encode('utf8')\n",
    "    #print str(\"full \" + full_address)\n",
    "    response = get_location(full_address)\n",
    "\n",
    "    if response.status_code == 200 :\n",
    "        \n",
    "        data = response.json()\n",
    "        \n",
    "        \n",
    "        x = data['result']['items'][0]['point']['x']\n",
    "        y = data['result']['items'][0]['point']['y']\n",
    "    \n",
    "        location_list.append([address[0],address[1],y,x])\n",
    "        \n",
    "    else: \n",
    "        print str(\"error address: \" + full_address)\n",
    "        count += 1\n",
    "        print count\n",
    "        \n",
    "        location_list.append([address[0],address[1] ,np.nan,np.nan])\n",
    "    \n",
    "    if(index % 100 == 0):\n",
    "        print (\"%0.2f\" % (index / length * 100.0)) + \"% completed\"\n",
    "        \n",
    "    index += 1.0\n",
    "\n",
    "     "
   ]
  },
  {
   "cell_type": "code",
   "execution_count": 20,
   "metadata": {},
   "outputs": [
    {
     "name": "stdout",
     "output_type": "stream",
     "text": [
      "+-----------------+----------------+----------+-----------+\n",
      "|          address|detailed_address|  latitude|  longitude|\n",
      "+-----------------+----------------+----------+-----------+\n",
      "|  서울특별시 동대문구  이문동|          325-20|37.5944677|127.0593227|\n",
      "|  서울특별시 서대문구  창천동|           29-81| 37.556057|126.9382413|\n",
      "|   부산광역시 금정구  구서동|          192-11|35.2542948|129.0893518|\n",
      "|   대전광역시 유성구  지족동|           863-2|36.3825628|127.3205555|\n",
      "|  경기도 안산시 상록구  사동|          1197-4|37.3017055|126.8511012|\n",
      "|부산광역시 기장군 기장읍 대라리|           500-6|35.2424389|129.2117922|\n",
      "|  서울특별시 중구  의주로1가|            32-2|37.5643082| 126.968413|\n",
      "|  경기도 평택시 안중읍 안중리|          252-33|36.9881887|126.9255043|\n",
      "|경상남도 창원시 성산구  상남동|            11-6| 35.222296|128.6851114|\n",
      "|      경기도 부천시  상동|           449-1|37.4899962|126.7565083|\n",
      "|   서울특별시 강북구  수유동|            48-1|37.6344091|127.0228738|\n",
      "|   인천광역시 남동구  만수동|             867|37.4603807|126.7289466|\n",
      "|  경기도 화성시 남양읍 남양리|          1265-3|37.2101135|126.8181706|\n",
      "|   서울특별시 강동구  암사동|           502-3|37.5509491|127.1269475|\n",
      "| 경기도 수원시 영통구  이의동|            1330|37.2924897|127.0491615|\n",
      "|   부산광역시 동래구  온천동|          151-22|  35.22181| 129.084597|\n",
      "|   부산광역시 수영구  광안동|          372-13|35.1522973|129.1126209|\n",
      "|   부산광역시 금정구  장전동|          364-24|35.2349315|129.0886999|\n",
      "|  부산광역시 부산진구  부전동|           414-2| 35.160133|129.0539069|\n",
      "|부산광역시 기장군 기장읍 동부리|           126-5|35.2465033|129.2145274|\n",
      "+-----------------+----------------+----------+-----------+\n",
      "only showing top 20 rows\n",
      "\n"
     ]
    }
   ],
   "source": [
    "#print location_list[0]\n",
    "\n",
    "\n",
    "#checking_df = df.filter(df.address == \"인천광역시 서구  왕길동\").filter(df.detailed_address == \"가-81-1\")\n",
    "\n",
    "#checking_df.show()\n",
    "#print(checking_df.count())\n",
    "\n",
    "                \n",
    "location = sc.parallelize(location_list).toDF(['address','detailed_address','latitude','longitude'])\n",
    "location.show()"
   ]
  },
  {
   "cell_type": "code",
   "execution_count": 21,
   "metadata": {},
   "outputs": [
    {
     "data": {
      "text/plain": [
       "8189"
      ]
     },
     "execution_count": 21,
     "metadata": {},
     "output_type": "execute_result"
    }
   ],
   "source": [
    "location.count()"
   ]
  },
  {
   "cell_type": "code",
   "execution_count": 22,
   "metadata": {},
   "outputs": [],
   "source": [
    "# error : solution -> add duplicate columns(address, detailed address) to join\n",
    "#new_df_id = new_df.withColumn('id', monotonically_increasing_id())\n",
    "#new_df_id.show()\n",
    "#new_df_id.count()\n",
    "#new_df_id.filter(new_df_id.id == '10000').show()\n",
    "#add_df.count()\n",
    "\n",
    "\n",
    "#location_id = location.withColumn('id', row_number().over (Window.partitionBy().partitionBy(location['logitude']).orderBy(lit(1))))\n",
    "#location_id.show()\n",
    "#location_id.count()\n",
    "\n",
    "#location_id.filter(location_id.id == '37777').show()\n",
    "\n",
    "\n",
    "#add_df = new_df_id.select('address', 'detailed_address','id').join(location_id , new_df_id.id == location_id.id).drop(new_df_id.id)\n",
    "#add_df.orderBy('id', ascending=True).show()\n",
    "#add_df.count()"
   ]
  },
  {
   "cell_type": "code",
   "execution_count": 23,
   "metadata": {},
   "outputs": [],
   "source": [
    "joined_df = added_date_df.join(location.select('address','detailed_address','latitude','longitude'), ['address','detailed_address'])"
   ]
  },
  {
   "cell_type": "code",
   "execution_count": 24,
   "metadata": {},
   "outputs": [
    {
     "name": "stdout",
     "output_type": "stream",
     "text": [
      "+----------------+----------------+----+-----+-----+---+----------+-----------+----+--------+----+-----+------------+-----+----------------------+-------------------+----------+-----------+\n",
      "|         address|detailed_address|year|month|  day|_c0|build_year|trade_price|city|sub_city|dong| code|        name|floor|exclusive_private_area|               date|  latitude|  longitude|\n",
      "+----------------+----------------+----+-----+-----+---+----------+-----------+----+--------+----+-----+------------+-----+----------------------+-------------------+----------+-----------+\n",
      "|     경기도 부천시  상동|           449-1|2011|    4| 1~10| 99|      1996|      9,800| 경기도|     부천시|  상동|41190|     동아하이츠빌딩|    8|                 62.74|2011-04-01T00:00:00|37.4899962|126.7565083|\n",
      "|     경기도 부천시  상동|           449-1|2012|    9| 1~10| 31|      1996|      9,000| 경기도|     부천시|  상동|41190|     동아하이츠빌딩|    9|                 62.74|2012-09-01T00:00:00|37.4899962|126.7565083|\n",
      "|     경기도 부천시  상동|           449-1|2015|    3|21~31|144|      1996|      6,000| 경기도|     부천시|  상동|41190|     동아하이츠빌딩|    8|                 49.41|2015-03-21T00:00:00|37.4899962|126.7565083|\n",
      "|     경기도 부천시  상동|           449-1|2015|    3|21~31|145|      1996|      3,800| 경기도|     부천시|  상동|41190|     동아하이츠빌딩|    8|                  32.4|2015-03-21T00:00:00|37.4899962|126.7565083|\n",
      "|     경기도 부천시  상동|           449-1|2015|   11|11~20| 94|      1996|      6,500| 경기도|     부천시|  상동|41190|     동아하이츠빌딩|    9|                 57.35|2015-11-11T00:00:00|37.4899962|126.7565083|\n",
      "|     경기도 부천시  상동|           449-1|2015|   11|11~20| 95|      1996|      8,500| 경기도|     부천시|  상동|41190|     동아하이츠빌딩|    9|                 78.96|2015-11-11T00:00:00|37.4899962|126.7565083|\n",
      "|    경기도 부천시  심곡동|          373-11|2017|    5|11~20|  3|      2014|     18,000| 경기도|     부천시| 심곡동|41190|       스타파크빌|    3|                 75.91|2017-05-11T00:00:00| 37.490205|126.7814637|\n",
      "|경기도 수원시 영통구  이의동|            1330|2013|    5| 1~10|  0|      2012|     14,099| 경기도| 수원시 영통구| 이의동|41117|광교서희스타힐스오피스텔|    9|                 29.87|2013-05-01T00:00:00|37.2924897|127.0491615|\n",
      "|경기도 수원시 영통구  이의동|            1330|2014|    5|21~31|  3|      2012|      8,500| 경기도| 수원시 영통구| 이의동|41117|광교서희스타힐스오피스텔|    5|                 29.85|2014-05-21T00:00:00|37.2924897|127.0491615|\n",
      "|경기도 수원시 영통구  이의동|            1330|2014|    5|21~31|  4|      2012|      8,500| 경기도| 수원시 영통구| 이의동|41117|광교서희스타힐스오피스텔|    7|                 29.85|2014-05-21T00:00:00|37.2924897|127.0491615|\n",
      "|경기도 수원시 영통구  이의동|            1330|2014|    5|21~31|  5|      2012|      8,500| 경기도| 수원시 영통구| 이의동|41117|광교서희스타힐스오피스텔|    7|                 29.85|2014-05-21T00:00:00|37.2924897|127.0491615|\n",
      "|경기도 수원시 영통구  이의동|            1330|2014|    5|21~31|  6|      2012|      8,500| 경기도| 수원시 영통구| 이의동|41117|광교서희스타힐스오피스텔|    6|                 29.85|2014-05-21T00:00:00|37.2924897|127.0491615|\n",
      "|경기도 수원시 영통구  이의동|            1330|2014|    5|21~31|  7|      2012|      8,500| 경기도| 수원시 영통구| 이의동|41117|광교서희스타힐스오피스텔|    7|                 29.85|2014-05-21T00:00:00|37.2924897|127.0491615|\n",
      "|경기도 수원시 영통구  이의동|            1330|2014|    5|21~31|  8|      2012|      8,500| 경기도| 수원시 영통구| 이의동|41117|광교서희스타힐스오피스텔|    8|                 29.85|2014-05-21T00:00:00|37.2924897|127.0491615|\n",
      "|경기도 수원시 영통구  이의동|            1330|2014|    5|21~31|  9|      2012|      8,500| 경기도| 수원시 영통구| 이의동|41117|광교서희스타힐스오피스텔|    7|                 29.87|2014-05-21T00:00:00|37.2924897|127.0491615|\n",
      "|경기도 수원시 영통구  이의동|            1330|2014|    5|21~31| 10|      2012|      8,500| 경기도| 수원시 영통구| 이의동|41117|광교서희스타힐스오피스텔|    4|                 29.85|2014-05-21T00:00:00|37.2924897|127.0491615|\n",
      "|경기도 수원시 영통구  이의동|            1330|2014|    5|21~31| 11|      2012|      8,500| 경기도| 수원시 영통구| 이의동|41117|광교서희스타힐스오피스텔|    7|                 29.85|2014-05-21T00:00:00|37.2924897|127.0491615|\n",
      "|경기도 수원시 영통구  이의동|            1330|2014|    5|21~31| 12|      2012|      8,200| 경기도| 수원시 영통구| 이의동|41117|광교서희스타힐스오피스텔|    9|                 28.96|2014-05-21T00:00:00|37.2924897|127.0491615|\n",
      "|경기도 수원시 영통구  이의동|            1330|2014|    5|21~31| 13|      2012|      8,200| 경기도| 수원시 영통구| 이의동|41117|광교서희스타힐스오피스텔|    8|                 28.96|2014-05-21T00:00:00|37.2924897|127.0491615|\n",
      "|경기도 수원시 영통구  이의동|            1330|2014|    5|21~31| 14|      2012|      8,200| 경기도| 수원시 영통구| 이의동|41117|광교서희스타힐스오피스텔|    4|                 28.96|2014-05-21T00:00:00|37.2924897|127.0491615|\n",
      "+----------------+----------------+----+-----+-----+---+----------+-----------+----+--------+----+-----+------------+-----+----------------------+-------------------+----------+-----------+\n",
      "only showing top 20 rows\n",
      "\n"
     ]
    },
    {
     "data": {
      "text/plain": [
       "349140"
      ]
     },
     "execution_count": 24,
     "metadata": {},
     "output_type": "execute_result"
    }
   ],
   "source": [
    "joined_df.show()\n",
    "joined_df.count()"
   ]
  },
  {
   "cell_type": "code",
   "execution_count": 25,
   "metadata": {},
   "outputs": [
    {
     "name": "stdout",
     "output_type": "stream",
     "text": [
      "+----------------+----------------+----+-----+-----+----------+-----------+----+--------+----+-----+------------+-----+----------------------+-------------------+----------+-----------+\n",
      "|         address|detailed_address|year|month|  day|build_year|trade_price|city|sub_city|dong| code|        name|floor|exclusive_private_area|               date|  latitude|  longitude|\n",
      "+----------------+----------------+----+-----+-----+----------+-----------+----+--------+----+-----+------------+-----+----------------------+-------------------+----------+-----------+\n",
      "|     경기도 부천시  상동|           449-1|2011|    4| 1~10|      1996|      9,800| 경기도|     부천시|  상동|41190|     동아하이츠빌딩|    8|                 62.74|2011-04-01T00:00:00|37.4899962|126.7565083|\n",
      "|     경기도 부천시  상동|           449-1|2012|    9| 1~10|      1996|      9,000| 경기도|     부천시|  상동|41190|     동아하이츠빌딩|    9|                 62.74|2012-09-01T00:00:00|37.4899962|126.7565083|\n",
      "|     경기도 부천시  상동|           449-1|2015|    3|21~31|      1996|      6,000| 경기도|     부천시|  상동|41190|     동아하이츠빌딩|    8|                 49.41|2015-03-21T00:00:00|37.4899962|126.7565083|\n",
      "|     경기도 부천시  상동|           449-1|2015|    3|21~31|      1996|      3,800| 경기도|     부천시|  상동|41190|     동아하이츠빌딩|    8|                  32.4|2015-03-21T00:00:00|37.4899962|126.7565083|\n",
      "|     경기도 부천시  상동|           449-1|2015|   11|11~20|      1996|      6,500| 경기도|     부천시|  상동|41190|     동아하이츠빌딩|    9|                 57.35|2015-11-11T00:00:00|37.4899962|126.7565083|\n",
      "|     경기도 부천시  상동|           449-1|2015|   11|11~20|      1996|      8,500| 경기도|     부천시|  상동|41190|     동아하이츠빌딩|    9|                 78.96|2015-11-11T00:00:00|37.4899962|126.7565083|\n",
      "|    경기도 부천시  심곡동|          373-11|2017|    5|11~20|      2014|     18,000| 경기도|     부천시| 심곡동|41190|       스타파크빌|    3|                 75.91|2017-05-11T00:00:00| 37.490205|126.7814637|\n",
      "|경기도 수원시 영통구  이의동|            1330|2013|    5| 1~10|      2012|     14,099| 경기도| 수원시 영통구| 이의동|41117|광교서희스타힐스오피스텔|    9|                 29.87|2013-05-01T00:00:00|37.2924897|127.0491615|\n",
      "|경기도 수원시 영통구  이의동|            1330|2014|    5|21~31|      2012|      8,500| 경기도| 수원시 영통구| 이의동|41117|광교서희스타힐스오피스텔|    5|                 29.85|2014-05-21T00:00:00|37.2924897|127.0491615|\n",
      "|경기도 수원시 영통구  이의동|            1330|2014|    5|21~31|      2012|      8,500| 경기도| 수원시 영통구| 이의동|41117|광교서희스타힐스오피스텔|    7|                 29.85|2014-05-21T00:00:00|37.2924897|127.0491615|\n",
      "|경기도 수원시 영통구  이의동|            1330|2014|    5|21~31|      2012|      8,500| 경기도| 수원시 영통구| 이의동|41117|광교서희스타힐스오피스텔|    7|                 29.85|2014-05-21T00:00:00|37.2924897|127.0491615|\n",
      "|경기도 수원시 영통구  이의동|            1330|2014|    5|21~31|      2012|      8,500| 경기도| 수원시 영통구| 이의동|41117|광교서희스타힐스오피스텔|    6|                 29.85|2014-05-21T00:00:00|37.2924897|127.0491615|\n",
      "|경기도 수원시 영통구  이의동|            1330|2014|    5|21~31|      2012|      8,500| 경기도| 수원시 영통구| 이의동|41117|광교서희스타힐스오피스텔|    7|                 29.85|2014-05-21T00:00:00|37.2924897|127.0491615|\n",
      "|경기도 수원시 영통구  이의동|            1330|2014|    5|21~31|      2012|      8,500| 경기도| 수원시 영통구| 이의동|41117|광교서희스타힐스오피스텔|    8|                 29.85|2014-05-21T00:00:00|37.2924897|127.0491615|\n",
      "|경기도 수원시 영통구  이의동|            1330|2014|    5|21~31|      2012|      8,500| 경기도| 수원시 영통구| 이의동|41117|광교서희스타힐스오피스텔|    7|                 29.87|2014-05-21T00:00:00|37.2924897|127.0491615|\n",
      "|경기도 수원시 영통구  이의동|            1330|2014|    5|21~31|      2012|      8,500| 경기도| 수원시 영통구| 이의동|41117|광교서희스타힐스오피스텔|    4|                 29.85|2014-05-21T00:00:00|37.2924897|127.0491615|\n",
      "|경기도 수원시 영통구  이의동|            1330|2014|    5|21~31|      2012|      8,500| 경기도| 수원시 영통구| 이의동|41117|광교서희스타힐스오피스텔|    7|                 29.85|2014-05-21T00:00:00|37.2924897|127.0491615|\n",
      "|경기도 수원시 영통구  이의동|            1330|2014|    5|21~31|      2012|      8,200| 경기도| 수원시 영통구| 이의동|41117|광교서희스타힐스오피스텔|    9|                 28.96|2014-05-21T00:00:00|37.2924897|127.0491615|\n",
      "|경기도 수원시 영통구  이의동|            1330|2014|    5|21~31|      2012|      8,200| 경기도| 수원시 영통구| 이의동|41117|광교서희스타힐스오피스텔|    8|                 28.96|2014-05-21T00:00:00|37.2924897|127.0491615|\n",
      "|경기도 수원시 영통구  이의동|            1330|2014|    5|21~31|      2012|      8,200| 경기도| 수원시 영통구| 이의동|41117|광교서희스타힐스오피스텔|    4|                 28.96|2014-05-21T00:00:00|37.2924897|127.0491615|\n",
      "+----------------+----------------+----+-----+-----+----------+-----------+----+--------+----+-----+------------+-----+----------------------+-------------------+----------+-----------+\n",
      "only showing top 20 rows\n",
      "\n"
     ]
    },
    {
     "data": {
      "text/plain": [
       "349140"
      ]
     },
     "execution_count": 25,
     "metadata": {},
     "output_type": "execute_result"
    }
   ],
   "source": [
    "drop_index_df = joined_df.drop(\"_c0\")\n",
    "drop_index_df.show()\n",
    "drop_index_df.count()"
   ]
  },
  {
   "cell_type": "code",
   "execution_count": 27,
   "metadata": {},
   "outputs": [
    {
     "name": "stdout",
     "output_type": "stream",
     "text": [
      "+----------------+----------------+----+-----+-----+----------+-----------+----+--------+----+-----+------------+-----+----------------------+-------------------+----------+-----------+\n",
      "|         address|detailed_address|year|month|  day|build_year|trade_price|city|sub_city|dong| code|        name|floor|exclusive_private_area|               date|  latitude|  longitude|\n",
      "+----------------+----------------+----+-----+-----+----------+-----------+----+--------+----+-----+------------+-----+----------------------+-------------------+----------+-----------+\n",
      "|     경기도 부천시  상동|           449-1|2011|    4| 1~10|      1996|       9800| 경기도|     부천시|  상동|41190|     동아하이츠빌딩|    8|                 62.74|2011-04-01T00:00:00|37.4899962|126.7565083|\n",
      "|     경기도 부천시  상동|           449-1|2012|    9| 1~10|      1996|       9000| 경기도|     부천시|  상동|41190|     동아하이츠빌딩|    9|                 62.74|2012-09-01T00:00:00|37.4899962|126.7565083|\n",
      "|     경기도 부천시  상동|           449-1|2015|    3|21~31|      1996|       6000| 경기도|     부천시|  상동|41190|     동아하이츠빌딩|    8|                 49.41|2015-03-21T00:00:00|37.4899962|126.7565083|\n",
      "|     경기도 부천시  상동|           449-1|2015|    3|21~31|      1996|       3800| 경기도|     부천시|  상동|41190|     동아하이츠빌딩|    8|                  32.4|2015-03-21T00:00:00|37.4899962|126.7565083|\n",
      "|     경기도 부천시  상동|           449-1|2015|   11|11~20|      1996|       6500| 경기도|     부천시|  상동|41190|     동아하이츠빌딩|    9|                 57.35|2015-11-11T00:00:00|37.4899962|126.7565083|\n",
      "|     경기도 부천시  상동|           449-1|2015|   11|11~20|      1996|       8500| 경기도|     부천시|  상동|41190|     동아하이츠빌딩|    9|                 78.96|2015-11-11T00:00:00|37.4899962|126.7565083|\n",
      "|    경기도 부천시  심곡동|          373-11|2017|    5|11~20|      2014|      18000| 경기도|     부천시| 심곡동|41190|       스타파크빌|    3|                 75.91|2017-05-11T00:00:00| 37.490205|126.7814637|\n",
      "|경기도 수원시 영통구  이의동|            1330|2013|    5| 1~10|      2012|      14099| 경기도| 수원시 영통구| 이의동|41117|광교서희스타힐스오피스텔|    9|                 29.87|2013-05-01T00:00:00|37.2924897|127.0491615|\n",
      "|경기도 수원시 영통구  이의동|            1330|2014|    5|21~31|      2012|       8500| 경기도| 수원시 영통구| 이의동|41117|광교서희스타힐스오피스텔|    5|                 29.85|2014-05-21T00:00:00|37.2924897|127.0491615|\n",
      "|경기도 수원시 영통구  이의동|            1330|2014|    5|21~31|      2012|       8500| 경기도| 수원시 영통구| 이의동|41117|광교서희스타힐스오피스텔|    7|                 29.85|2014-05-21T00:00:00|37.2924897|127.0491615|\n",
      "|경기도 수원시 영통구  이의동|            1330|2014|    5|21~31|      2012|       8500| 경기도| 수원시 영통구| 이의동|41117|광교서희스타힐스오피스텔|    7|                 29.85|2014-05-21T00:00:00|37.2924897|127.0491615|\n",
      "|경기도 수원시 영통구  이의동|            1330|2014|    5|21~31|      2012|       8500| 경기도| 수원시 영통구| 이의동|41117|광교서희스타힐스오피스텔|    6|                 29.85|2014-05-21T00:00:00|37.2924897|127.0491615|\n",
      "|경기도 수원시 영통구  이의동|            1330|2014|    5|21~31|      2012|       8500| 경기도| 수원시 영통구| 이의동|41117|광교서희스타힐스오피스텔|    7|                 29.85|2014-05-21T00:00:00|37.2924897|127.0491615|\n",
      "|경기도 수원시 영통구  이의동|            1330|2014|    5|21~31|      2012|       8500| 경기도| 수원시 영통구| 이의동|41117|광교서희스타힐스오피스텔|    8|                 29.85|2014-05-21T00:00:00|37.2924897|127.0491615|\n",
      "|경기도 수원시 영통구  이의동|            1330|2014|    5|21~31|      2012|       8500| 경기도| 수원시 영통구| 이의동|41117|광교서희스타힐스오피스텔|    7|                 29.87|2014-05-21T00:00:00|37.2924897|127.0491615|\n",
      "|경기도 수원시 영통구  이의동|            1330|2014|    5|21~31|      2012|       8500| 경기도| 수원시 영통구| 이의동|41117|광교서희스타힐스오피스텔|    4|                 29.85|2014-05-21T00:00:00|37.2924897|127.0491615|\n",
      "|경기도 수원시 영통구  이의동|            1330|2014|    5|21~31|      2012|       8500| 경기도| 수원시 영통구| 이의동|41117|광교서희스타힐스오피스텔|    7|                 29.85|2014-05-21T00:00:00|37.2924897|127.0491615|\n",
      "|경기도 수원시 영통구  이의동|            1330|2014|    5|21~31|      2012|       8200| 경기도| 수원시 영통구| 이의동|41117|광교서희스타힐스오피스텔|    9|                 28.96|2014-05-21T00:00:00|37.2924897|127.0491615|\n",
      "|경기도 수원시 영통구  이의동|            1330|2014|    5|21~31|      2012|       8200| 경기도| 수원시 영통구| 이의동|41117|광교서희스타힐스오피스텔|    8|                 28.96|2014-05-21T00:00:00|37.2924897|127.0491615|\n",
      "|경기도 수원시 영통구  이의동|            1330|2014|    5|21~31|      2012|       8200| 경기도| 수원시 영통구| 이의동|41117|광교서희스타힐스오피스텔|    4|                 28.96|2014-05-21T00:00:00|37.2924897|127.0491615|\n",
      "+----------------+----------------+----+-----+-----+----------+-----------+----+--------+----+-----+------------+-----+----------------------+-------------------+----------+-----------+\n",
      "only showing top 20 rows\n",
      "\n"
     ]
    },
    {
     "data": {
      "text/plain": [
       "349114"
      ]
     },
     "execution_count": 27,
     "metadata": {},
     "output_type": "execute_result"
    }
   ],
   "source": [
    "final_apartment_df = drop_index_df.na.drop()\n",
    "final_apartment_df = final_apartment_df.withColumn('trade_price',regexp_replace('trade_price',\"\\\\,\", \"\"))\n",
    "final_apartment_df.show()\n",
    "final_apartment_df.count()"
   ]
  },
  {
   "cell_type": "code",
   "execution_count": 32,
   "metadata": {},
   "outputs": [
    {
     "ename": "AnalysisException",
     "evalue": "u'path file:/home/project/final_office_trade already exists.;'",
     "traceback": [
      "\u001b[0;31m---------------------------------------------------------------------------\u001b[0m",
      "\u001b[0;31mAnalysisException\u001b[0m                         Traceback (most recent call last)",
      "\u001b[0;32m<ipython-input-32-cec008c902bc>\u001b[0m in \u001b[0;36m<module>\u001b[0;34m()\u001b[0m\n\u001b[0;32m----> 1\u001b[0;31m \u001b[0mfinal_office_df\u001b[0m\u001b[0;34m.\u001b[0m\u001b[0mwrite\u001b[0m\u001b[0;34m.\u001b[0m\u001b[0mcsv\u001b[0m\u001b[0;34m(\u001b[0m\u001b[0;34m\"final_office_trade\"\u001b[0m\u001b[0;34m)\u001b[0m\u001b[0;34m\u001b[0m\u001b[0m\n\u001b[0m",
      "\u001b[0;32m/home/project/spark/python/pyspark/sql/readwriter.pyc\u001b[0m in \u001b[0;36mcsv\u001b[0;34m(self, path, mode, compression, sep, quote, escape, header, nullValue, escapeQuotes, quoteAll, dateFormat, timestampFormat)\u001b[0m\n\u001b[1;32m    709\u001b[0m                        \u001b[0mnullValue\u001b[0m\u001b[0;34m=\u001b[0m\u001b[0mnullValue\u001b[0m\u001b[0;34m,\u001b[0m \u001b[0mescapeQuotes\u001b[0m\u001b[0;34m=\u001b[0m\u001b[0mescapeQuotes\u001b[0m\u001b[0;34m,\u001b[0m \u001b[0mquoteAll\u001b[0m\u001b[0;34m=\u001b[0m\u001b[0mquoteAll\u001b[0m\u001b[0;34m,\u001b[0m\u001b[0;34m\u001b[0m\u001b[0m\n\u001b[1;32m    710\u001b[0m                        dateFormat=dateFormat, timestampFormat=timestampFormat)\n\u001b[0;32m--> 711\u001b[0;31m         \u001b[0mself\u001b[0m\u001b[0;34m.\u001b[0m\u001b[0m_jwrite\u001b[0m\u001b[0;34m.\u001b[0m\u001b[0mcsv\u001b[0m\u001b[0;34m(\u001b[0m\u001b[0mpath\u001b[0m\u001b[0;34m)\u001b[0m\u001b[0;34m\u001b[0m\u001b[0m\n\u001b[0m\u001b[1;32m    712\u001b[0m \u001b[0;34m\u001b[0m\u001b[0m\n\u001b[1;32m    713\u001b[0m     \u001b[0;34m@\u001b[0m\u001b[0msince\u001b[0m\u001b[0;34m(\u001b[0m\u001b[0;36m1.5\u001b[0m\u001b[0;34m)\u001b[0m\u001b[0;34m\u001b[0m\u001b[0m\n",
      "\u001b[0;32m/home/project/spark/python/lib/py4j-0.10.4-src.zip/py4j/java_gateway.py\u001b[0m in \u001b[0;36m__call__\u001b[0;34m(self, *args)\u001b[0m\n\u001b[1;32m   1131\u001b[0m         \u001b[0manswer\u001b[0m \u001b[0;34m=\u001b[0m \u001b[0mself\u001b[0m\u001b[0;34m.\u001b[0m\u001b[0mgateway_client\u001b[0m\u001b[0;34m.\u001b[0m\u001b[0msend_command\u001b[0m\u001b[0;34m(\u001b[0m\u001b[0mcommand\u001b[0m\u001b[0;34m)\u001b[0m\u001b[0;34m\u001b[0m\u001b[0m\n\u001b[1;32m   1132\u001b[0m         return_value = get_return_value(\n\u001b[0;32m-> 1133\u001b[0;31m             answer, self.gateway_client, self.target_id, self.name)\n\u001b[0m\u001b[1;32m   1134\u001b[0m \u001b[0;34m\u001b[0m\u001b[0m\n\u001b[1;32m   1135\u001b[0m         \u001b[0;32mfor\u001b[0m \u001b[0mtemp_arg\u001b[0m \u001b[0;32min\u001b[0m \u001b[0mtemp_args\u001b[0m\u001b[0;34m:\u001b[0m\u001b[0;34m\u001b[0m\u001b[0m\n",
      "\u001b[0;32m/home/project/spark/python/pyspark/sql/utils.pyc\u001b[0m in \u001b[0;36mdeco\u001b[0;34m(*a, **kw)\u001b[0m\n\u001b[1;32m     67\u001b[0m                                              e.java_exception.getStackTrace()))\n\u001b[1;32m     68\u001b[0m             \u001b[0;32mif\u001b[0m \u001b[0ms\u001b[0m\u001b[0;34m.\u001b[0m\u001b[0mstartswith\u001b[0m\u001b[0;34m(\u001b[0m\u001b[0;34m'org.apache.spark.sql.AnalysisException: '\u001b[0m\u001b[0;34m)\u001b[0m\u001b[0;34m:\u001b[0m\u001b[0;34m\u001b[0m\u001b[0m\n\u001b[0;32m---> 69\u001b[0;31m                 \u001b[0;32mraise\u001b[0m \u001b[0mAnalysisException\u001b[0m\u001b[0;34m(\u001b[0m\u001b[0ms\u001b[0m\u001b[0;34m.\u001b[0m\u001b[0msplit\u001b[0m\u001b[0;34m(\u001b[0m\u001b[0;34m': '\u001b[0m\u001b[0;34m,\u001b[0m \u001b[0;36m1\u001b[0m\u001b[0;34m)\u001b[0m\u001b[0;34m[\u001b[0m\u001b[0;36m1\u001b[0m\u001b[0;34m]\u001b[0m\u001b[0;34m,\u001b[0m \u001b[0mstackTrace\u001b[0m\u001b[0;34m)\u001b[0m\u001b[0;34m\u001b[0m\u001b[0m\n\u001b[0m\u001b[1;32m     70\u001b[0m             \u001b[0;32mif\u001b[0m \u001b[0ms\u001b[0m\u001b[0;34m.\u001b[0m\u001b[0mstartswith\u001b[0m\u001b[0;34m(\u001b[0m\u001b[0;34m'org.apache.spark.sql.catalyst.analysis'\u001b[0m\u001b[0;34m)\u001b[0m\u001b[0;34m:\u001b[0m\u001b[0;34m\u001b[0m\u001b[0m\n\u001b[1;32m     71\u001b[0m                 \u001b[0;32mraise\u001b[0m \u001b[0mAnalysisException\u001b[0m\u001b[0;34m(\u001b[0m\u001b[0ms\u001b[0m\u001b[0;34m.\u001b[0m\u001b[0msplit\u001b[0m\u001b[0;34m(\u001b[0m\u001b[0;34m': '\u001b[0m\u001b[0;34m,\u001b[0m \u001b[0;36m1\u001b[0m\u001b[0;34m)\u001b[0m\u001b[0;34m[\u001b[0m\u001b[0;36m1\u001b[0m\u001b[0;34m]\u001b[0m\u001b[0;34m,\u001b[0m \u001b[0mstackTrace\u001b[0m\u001b[0;34m)\u001b[0m\u001b[0;34m\u001b[0m\u001b[0m\n",
      "\u001b[0;31mAnalysisException\u001b[0m: u'path file:/home/project/final_office_trade already exists.;'"
     ],
     "output_type": "error"
    }
   ],
   "source": [
    "final_apartment_df.write.csv(\"final_apartment_trade\")"
   ]
  },
  {
   "cell_type": "code",
   "execution_count": null,
   "metadata": {},
   "outputs": [],
   "source": []
  }
 ],
 "metadata": {
  "kernelspec": {
   "display_name": "Python 2",
   "language": "python",
   "name": "python2"
  },
  "language_info": {
   "codemirror_mode": {
    "name": "ipython",
    "version": 2
   },
   "file_extension": ".py",
   "mimetype": "text/x-python",
   "name": "python",
   "nbconvert_exporter": "python",
   "pygments_lexer": "ipython2",
   "version": "2.7.12"
  }
 },
 "nbformat": 4,
 "nbformat_minor": 2
}
