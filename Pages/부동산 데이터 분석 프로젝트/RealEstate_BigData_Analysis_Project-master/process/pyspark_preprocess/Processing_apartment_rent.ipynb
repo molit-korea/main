{
 "cells": [
  {
   "cell_type": "code",
   "execution_count": null,
   "metadata": {},
   "outputs": [],
   "source": [
    "#-*- coding: utf-8 -*-\n",
    "#import sys \n",
    "#reload(sys)\n",
    "#sys.setdefaultencoding('utf-8')\n",
    "\n",
    "import requests\n",
    "from pprint import pprint\n"
   ]
  },
  {
   "cell_type": "code",
   "execution_count": 9,
   "metadata": {},
   "outputs": [],
   "source": [
    "# kakao api\n",
    "APP_KEY = \"${API_KEY}\"\n",
    "kakao_url = \"https://dapi.kakao.com/v2/local/search/address.json\"\n",
    "kakao_headers = {\"Authorization\" : \"KakaoAK {}\".format(APP_KEY)}\n",
    "\n",
    "# naver api\n",
    "client_id = \"Q9qo7SjCK9jHPd7riqzE\"\n",
    "client_secret = \"QOBbQMJe1N\"\n",
    "naver_url = \"https://openapi.naver.com/v1/map/geocode\" \n",
    "naver_headers = {\"X-Naver-Client-Id\" : \"{}\".format(client_id) , \"X-Naver-Client-Secret\": \"{}\".format(client_secret)}"
   ]
  },
  {
   "cell_type": "code",
   "execution_count": 10,
   "metadata": {},
   "outputs": [],
   "source": [
    "def kakao_req(params, method):\n",
    "#     print('HTTP Method: %s' % method)\n",
    "#     print('Request URL: %s' % kakao_url)\n",
    "#     print('Headers: %s' % kakao_headers)\n",
    "#     print('QueryString: %s' % params)\n",
    "\n",
    "    if method == 'GET':\n",
    "        return requests.get(kakao_url, headers=kakao_headers, params=params)\n",
    "    \n",
    "def naver_req(params, method):\n",
    "#     print('HTTP Method: %s' % method)\n",
    "#     print('Request URL: %s' % naver_url)\n",
    "#     print('Headers: %s' % naver_headers)\n",
    "#     print('QueryString: %s' % params)\n",
    "    \n",
    "    if method == 'GET':\n",
    "        return requests.get(naver_url, headers=naver_headers, params=params)"
   ]
  },
  {
   "cell_type": "code",
   "execution_count": 11,
   "metadata": {},
   "outputs": [],
   "source": [
    "def get_location(address):\n",
    "\n",
    "    params = {\"query\": \"{}\".format(address)}\n",
    "\n",
    "    response = naver_req(params, 'GET')\n",
    "        \n",
    "\n",
    "#    #kakao parsing\n",
    "#     pprint(data['meta']['total_count'])\n",
    "#     pprint(data[\"documents\"][0][\"x\"])\n",
    "#     pprint(data[\"documents\"][0][\"y\"])\n",
    "    \n",
    "        \n",
    "    return response"
   ]
  },
  {
   "cell_type": "code",
   "execution_count": 12,
   "metadata": {},
   "outputs": [],
   "source": [
    "import findspark\n",
    "findspark.init()\n",
    "import pyspark\n",
    "import os\n",
    "import numpy as np"
   ]
  },
  {
   "cell_type": "code",
   "execution_count": 13,
   "metadata": {},
   "outputs": [],
   "source": [
    "#sc = pyspark.SparkContext.getOrCreate()\n",
    "sqlContext = SQLContext(sc)"
   ]
  },
  {
   "cell_type": "code",
   "execution_count": 15,
   "metadata": {},
   "outputs": [
    {
     "name": "stdout",
     "output_type": "stream",
     "text": [
      "apartment_rent_201207.csv\n",
      "apartment_rent_201504.csv\n",
      "apartment_rent_201309.csv\n",
      "apartment_rent_201502.csv\n",
      "apartment_rent_201805.csv\n",
      "apartment_rent_201401.csv\n",
      "apartment_rent_201102.csv\n",
      "apartment_rent_201410.csv\n",
      "apartment_rent_201105.csv\n",
      "apartment_rent_201301.csv\n",
      "apartment_rent_201206.csv\n",
      "apartment_rent_201101.csv\n",
      "apartment_rent_201611.csv\n",
      "apartment_rent_201302.csv\n",
      "apartment_rent_201306.csv\n",
      "apartment_rent_201403.csv\n",
      "apartment_rent_201209.csv\n",
      "apartment_rent_201109.csv\n",
      "apartment_rent_201703.csv\n",
      "apartment_rent_201608.csv\n",
      "apartment_rent_201806.csv\n",
      "apartment_rent_201205.csv\n",
      "apartment_rent_201112.csv\n",
      "apartment_rent_201208.csv\n",
      "apartment_rent_201512.csv\n",
      "apartment_rent_201506.csv\n",
      "apartment_rent_201204.csv\n",
      "apartment_rent_201803.csv\n",
      "apartment_rent_201510.csv\n",
      "apartment_rent_201606.csv\n",
      "apartment_rent_201708.csv\n",
      "apartment_rent_201201.csv\n",
      "apartment_rent_201503.csv\n",
      "apartment_rent_201505.csv\n",
      "apartment_rent_201509.csv\n",
      "apartment_rent_201710.csv\n",
      "apartment_rent_201409.csv\n",
      "apartment_rent_201111.csv\n",
      "apartment_rent_201104.csv\n",
      "apartment_rent_201110.csv\n",
      "apartment_rent_201605.csv\n",
      "apartment_rent_201604.csv\n",
      "apartment_rent_201501.csv\n",
      "apartment_rent_201310.csv\n",
      "apartment_rent_201712.csv\n",
      "apartment_rent_201412.csv\n",
      "apartment_rent_201508.csv\n",
      "apartment_rent_201602.csv\n",
      "apartment_rent_201702.csv\n",
      "apartment_rent_201511.csv\n",
      "apartment_rent_201210.csv\n",
      "apartment_rent_201303.csv\n",
      "apartment_rent_201402.csv\n",
      "apartment_rent_201408.csv\n",
      "apartment_rent_201312.csv\n",
      "apartment_rent_201609.csv\n",
      "apartment_rent_201802.csv\n",
      "apartment_rent_201612.csv\n",
      "apartment_rent_201211.csv\n",
      "apartment_rent_201203.csv\n",
      "apartment_rent_201411.csv\n",
      "apartment_rent_201709.csv\n",
      "apartment_rent_201304.csv\n",
      "apartment_rent_201406.csv\n",
      "apartment_rent_201701.csv\n",
      "apartment_rent_201404.csv\n",
      "apartment_rent_201212.csv\n",
      "apartment_rent_201107.csv\n",
      "apartment_rent_201711.csv\n",
      "apartment_rent_201601.csv\n",
      "apartment_rent_201507.csv\n",
      "apartment_rent_201106.csv\n",
      "apartment_rent_201610.csv\n",
      "apartment_rent_201311.csv\n",
      "apartment_rent_201707.csv\n",
      "apartment_rent_201706.csv\n",
      "apartment_rent_201407.csv\n",
      "apartment_rent_201405.csv\n",
      "apartment_rent_201801.csv\n",
      "apartment_rent_201607.csv\n",
      "apartment_rent_201704.csv\n",
      "apartment_rent_201308.csv\n",
      "apartment_rent_201804.csv\n",
      "apartment_rent_201603.csv\n",
      "apartment_rent_201307.csv\n",
      "apartment_rent_201705.csv\n",
      "apartment_rent_201305.csv\n",
      "apartment_rent_201108.csv\n",
      "apartment_rent_201103.csv\n",
      "apartment_rent_201202.csv\n",
      "['/home/project/real_estate/data/apartment_rent_data/apartment_rent_201207.csv', '/home/project/real_estate/data/apartment_rent_data/apartment_rent_201504.csv', '/home/project/real_estate/data/apartment_rent_data/apartment_rent_201309.csv', '/home/project/real_estate/data/apartment_rent_data/apartment_rent_201502.csv', '/home/project/real_estate/data/apartment_rent_data/apartment_rent_201805.csv', '/home/project/real_estate/data/apartment_rent_data/apartment_rent_201401.csv', '/home/project/real_estate/data/apartment_rent_data/apartment_rent_201102.csv', '/home/project/real_estate/data/apartment_rent_data/apartment_rent_201410.csv', '/home/project/real_estate/data/apartment_rent_data/apartment_rent_201105.csv', '/home/project/real_estate/data/apartment_rent_data/apartment_rent_201301.csv', '/home/project/real_estate/data/apartment_rent_data/apartment_rent_201206.csv', '/home/project/real_estate/data/apartment_rent_data/apartment_rent_201101.csv', '/home/project/real_estate/data/apartment_rent_data/apartment_rent_201611.csv', '/home/project/real_estate/data/apartment_rent_data/apartment_rent_201302.csv', '/home/project/real_estate/data/apartment_rent_data/apartment_rent_201306.csv', '/home/project/real_estate/data/apartment_rent_data/apartment_rent_201403.csv', '/home/project/real_estate/data/apartment_rent_data/apartment_rent_201209.csv', '/home/project/real_estate/data/apartment_rent_data/apartment_rent_201109.csv', '/home/project/real_estate/data/apartment_rent_data/apartment_rent_201703.csv', '/home/project/real_estate/data/apartment_rent_data/apartment_rent_201608.csv', '/home/project/real_estate/data/apartment_rent_data/apartment_rent_201806.csv', '/home/project/real_estate/data/apartment_rent_data/apartment_rent_201205.csv', '/home/project/real_estate/data/apartment_rent_data/apartment_rent_201112.csv', '/home/project/real_estate/data/apartment_rent_data/apartment_rent_201208.csv', '/home/project/real_estate/data/apartment_rent_data/apartment_rent_201512.csv', '/home/project/real_estate/data/apartment_rent_data/apartment_rent_201506.csv', '/home/project/real_estate/data/apartment_rent_data/apartment_rent_201204.csv', '/home/project/real_estate/data/apartment_rent_data/apartment_rent_201803.csv', '/home/project/real_estate/data/apartment_rent_data/apartment_rent_201510.csv', '/home/project/real_estate/data/apartment_rent_data/apartment_rent_201606.csv', '/home/project/real_estate/data/apartment_rent_data/apartment_rent_201708.csv', '/home/project/real_estate/data/apartment_rent_data/apartment_rent_201201.csv', '/home/project/real_estate/data/apartment_rent_data/apartment_rent_201503.csv', '/home/project/real_estate/data/apartment_rent_data/apartment_rent_201505.csv', '/home/project/real_estate/data/apartment_rent_data/apartment_rent_201509.csv', '/home/project/real_estate/data/apartment_rent_data/apartment_rent_201710.csv', '/home/project/real_estate/data/apartment_rent_data/apartment_rent_201409.csv', '/home/project/real_estate/data/apartment_rent_data/apartment_rent_201111.csv', '/home/project/real_estate/data/apartment_rent_data/apartment_rent_201104.csv', '/home/project/real_estate/data/apartment_rent_data/apartment_rent_201110.csv', '/home/project/real_estate/data/apartment_rent_data/apartment_rent_201605.csv', '/home/project/real_estate/data/apartment_rent_data/apartment_rent_201604.csv', '/home/project/real_estate/data/apartment_rent_data/apartment_rent_201501.csv', '/home/project/real_estate/data/apartment_rent_data/apartment_rent_201310.csv', '/home/project/real_estate/data/apartment_rent_data/apartment_rent_201712.csv', '/home/project/real_estate/data/apartment_rent_data/apartment_rent_201412.csv', '/home/project/real_estate/data/apartment_rent_data/apartment_rent_201508.csv', '/home/project/real_estate/data/apartment_rent_data/apartment_rent_201602.csv', '/home/project/real_estate/data/apartment_rent_data/apartment_rent_201702.csv', '/home/project/real_estate/data/apartment_rent_data/apartment_rent_201511.csv', '/home/project/real_estate/data/apartment_rent_data/apartment_rent_201210.csv', '/home/project/real_estate/data/apartment_rent_data/apartment_rent_201303.csv', '/home/project/real_estate/data/apartment_rent_data/apartment_rent_201402.csv', '/home/project/real_estate/data/apartment_rent_data/apartment_rent_201408.csv', '/home/project/real_estate/data/apartment_rent_data/apartment_rent_201312.csv', '/home/project/real_estate/data/apartment_rent_data/apartment_rent_201609.csv', '/home/project/real_estate/data/apartment_rent_data/apartment_rent_201802.csv', '/home/project/real_estate/data/apartment_rent_data/apartment_rent_201612.csv', '/home/project/real_estate/data/apartment_rent_data/apartment_rent_201211.csv', '/home/project/real_estate/data/apartment_rent_data/apartment_rent_201203.csv', '/home/project/real_estate/data/apartment_rent_data/apartment_rent_201411.csv', '/home/project/real_estate/data/apartment_rent_data/apartment_rent_201709.csv', '/home/project/real_estate/data/apartment_rent_data/apartment_rent_201304.csv', '/home/project/real_estate/data/apartment_rent_data/apartment_rent_201406.csv', '/home/project/real_estate/data/apartment_rent_data/apartment_rent_201701.csv', '/home/project/real_estate/data/apartment_rent_data/apartment_rent_201404.csv', '/home/project/real_estate/data/apartment_rent_data/apartment_rent_201212.csv', '/home/project/real_estate/data/apartment_rent_data/apartment_rent_201107.csv', '/home/project/real_estate/data/apartment_rent_data/apartment_rent_201711.csv', '/home/project/real_estate/data/apartment_rent_data/apartment_rent_201601.csv', '/home/project/real_estate/data/apartment_rent_data/apartment_rent_201507.csv', '/home/project/real_estate/data/apartment_rent_data/apartment_rent_201106.csv', '/home/project/real_estate/data/apartment_rent_data/apartment_rent_201610.csv', '/home/project/real_estate/data/apartment_rent_data/apartment_rent_201311.csv', '/home/project/real_estate/data/apartment_rent_data/apartment_rent_201707.csv', '/home/project/real_estate/data/apartment_rent_data/apartment_rent_201706.csv', '/home/project/real_estate/data/apartment_rent_data/apartment_rent_201407.csv', '/home/project/real_estate/data/apartment_rent_data/apartment_rent_201405.csv', '/home/project/real_estate/data/apartment_rent_data/apartment_rent_201801.csv', '/home/project/real_estate/data/apartment_rent_data/apartment_rent_201607.csv', '/home/project/real_estate/data/apartment_rent_data/apartment_rent_201704.csv', '/home/project/real_estate/data/apartment_rent_data/apartment_rent_201308.csv', '/home/project/real_estate/data/apartment_rent_data/apartment_rent_201804.csv', '/home/project/real_estate/data/apartment_rent_data/apartment_rent_201603.csv', '/home/project/real_estate/data/apartment_rent_data/apartment_rent_201307.csv', '/home/project/real_estate/data/apartment_rent_data/apartment_rent_201705.csv', '/home/project/real_estate/data/apartment_rent_data/apartment_rent_201305.csv', '/home/project/real_estate/data/apartment_rent_data/apartment_rent_201108.csv', '/home/project/real_estate/data/apartment_rent_data/apartment_rent_201103.csv', '/home/project/real_estate/data/apartment_rent_data/apartment_rent_201202.csv']\n"
     ]
    }
   ],
   "source": [
    "basic_folder = '/home/project/real_estate/data/apartment_rent_data/'\n",
    "\n",
    "file_list = os.listdir(basic_folder)\n",
    "path_list=[]\n",
    "for file in file_list:\n",
    "    print(file)\n",
    "    path_list.append(basic_folder + file)\n",
    "    \n",
    "print(path_list)"
   ]
  },
  {
   "cell_type": "code",
   "execution_count": 16,
   "metadata": {},
   "outputs": [],
   "source": [
    "df = sqlContext.read.format(\"com.databricks.spark.csv\") \\\n",
    "    .option(\"header\", \"true\").option(\"inferSchema\", \"true\").load(path_list)"
   ]
  },
  {
   "cell_type": "code",
   "execution_count": 17,
   "metadata": {
    "scrolled": false
   },
   "outputs": [
    {
     "name": "stdout",
     "output_type": "stream",
     "text": [
      "root\n",
      " |-- _c0: integer (nullable = true)\n",
      " |-- build_year: integer (nullable = true)\n",
      " |-- deposit: string (nullable = true)\n",
      " |-- rental_fee: string (nullable = true)\n",
      " |-- year: integer (nullable = true)\n",
      " |-- month: integer (nullable = true)\n",
      " |-- day: string (nullable = true)\n",
      " |-- code: integer (nullable = true)\n",
      " |-- city: string (nullable = true)\n",
      " |-- sub_city: string (nullable = true)\n",
      " |-- dong: string (nullable = true)\n",
      " |-- name: string (nullable = true)\n",
      " |-- floor: string (nullable = true)\n",
      " |-- exclusive_private_area: double (nullable = true)\n",
      " |-- address: string (nullable = true)\n",
      " |-- detailed_address: string (nullable = true)\n",
      "\n"
     ]
    }
   ],
   "source": [
    "df.printSchema()"
   ]
  },
  {
   "cell_type": "code",
   "execution_count": 18,
   "metadata": {
    "scrolled": true
   },
   "outputs": [
    {
     "name": "stdout",
     "output_type": "stream",
     "text": [
      "+---+----------+----------+----------+----+-----+-----+-----+-----+--------+------+---------------+-----+----------------------+----------------+----------------+\n",
      "|_c0|build_year|   deposit|rental_fee|year|month|  day| code| city|sub_city|  dong|           name|floor|exclusive_private_area|         address|detailed_address|\n",
      "+---+----------+----------+----------+----+-----+-----+-----+-----+--------+------+---------------+-----+----------------------+----------------+----------------+\n",
      "|  0|      2008|    35,000|       120|2015|    3| 1~10|11110|서울특별시|     종로구|   사직동|광화문풍림스페이스본(9-0)|    2|                 94.51|  서울특별시 종로구  사직동|               9|\n",
      "|  1|      2008|    72,000|        50|2015|    3| 1~10|11110|서울특별시|     종로구|   사직동|광화문풍림스페이스본(9-1)|    2|                163.33|  서울특별시 종로구  사직동|             9-1|\n",
      "|  2|      2008|    60,000|       100|2015|    3| 1~10|11110|서울특별시|     종로구|   사직동|광화문풍림스페이스본(9-1)|    2|                 150.4|  서울특별시 종로구  사직동|             9-1|\n",
      "|  3|      2008|    30,000|       125|2015|    3|11~20|11110|서울특별시|     종로구|   사직동|광화문풍림스페이스본(9-0)|    8|                 94.51|  서울특별시 종로구  사직동|               9|\n",
      "|  4|      2008|    73,000|         0|2015|    3|11~20|11110|서울특별시|     종로구|   사직동|광화문풍림스페이스본(9-0)|    9|                151.81|  서울특별시 종로구  사직동|               9|\n",
      "|  5|      2008|    35,000|       120|2015|    3|11~20|11110|서울특별시|     종로구|   사직동|광화문풍림스페이스본(9-0)|   10|                 94.51|  서울특별시 종로구  사직동|               9|\n",
      "|  6|      null|    29,000|         0|2015|    3|11~20|11110|서울특별시|     종로구|   사직동|          사직아파트|    6|                103.31|  서울특별시 종로구  사직동|             1-8|\n",
      "|  7|      2008|    70,000|         0|2015|    3|21~31|11110|서울특별시|     종로구|   사직동|광화문풍림스페이스본(9-0)|    3|                146.92|  서울특별시 종로구  사직동|               9|\n",
      "|  8|      1994|    10,000|       100|2015|    3|21~31|11110|서울특별시|     종로구|   내수동|          세종로대우|   13|                 66.96|  서울특별시 종로구  내수동|             167|\n",
      "|  9|      1981|    28,000|         0|2015|    3|21~31|11110|서울특별시|     종로구| 신문로1가|          신문로맨션|    9|                 81.28|서울특별시 종로구  신문로1가|             238|\n",
      "| 10|      2008|    58,000|         0|2015|    3| 1~10|11110|서울특별시|     종로구|   견지동|        대성스카이렉스|   14|                 149.8|  서울특별시 종로구  견지동|             110|\n",
      "| 11|      2003|    17,000|         0|2015|    3| 1~10|11110|서울특별시|     종로구|   익선동|         현대뜨레비앙|    9|                 36.08|  서울특별시 종로구  익선동|              55|\n",
      "| 12|      2003|     1,000|        95|2015|    3|21~31|11110|서울특별시|     종로구|   익선동|         현대뜨레비앙|    8|                  45.5|  서울특별시 종로구  익선동|              55|\n",
      "| 13|      2003|     5,000|        50|2015|    3|21~31|11110|서울특별시|     종로구|   익선동|         현대뜨레비앙|    8|                  28.1|  서울특별시 종로구  익선동|              55|\n",
      "| 14|      1968|     5,000|       100|2015|    3|11~20|11110|서울특별시|     종로구|   낙원동|             낙원|   12|                 70.61|  서울특별시 종로구  낙원동|             288|\n",
      "| 15|      2006|    32,000|         0|2015|    3| 1~10|11110|서울특별시|     종로구|   인의동|        효성쥬얼리시티|   11|                 84.64|  서울특별시 종로구  인의동|            48-2|\n",
      "| 16|      2006|    32,500|         0|2015|    3|11~20|11110|서울특별시|     종로구|   인의동|        효성쥬얼리시티|   12|                106.81|  서울특별시 종로구  인의동|            48-2|\n",
      "| 17|      2006|    38,000|         0|2015|    3|11~20|11110|서울특별시|     종로구|   인의동|        효성쥬얼리시티|    8|                 92.81|  서울특별시 종로구  인의동|            48-2|\n",
      "| 18|      2006|    33,000|         0|2015|    3|21~31|11110|서울특별시|     종로구|   인의동|        효성쥬얼리시티|   18|                 84.64|  서울특별시 종로구  인의동|            48-2|\n",
      "| 19|      2006|    10,000|       120|2015|    3|21~31|11110|서울특별시|     종로구|   인의동|        효성쥬얼리시티|    8|                 84.64|  서울특별시 종로구  인의동|            48-2|\n",
      "+---+----------+----------+----------+----+-----+-----+-----+-----+--------+------+---------------+-----+----------------------+----------------+----------------+\n",
      "only showing top 20 rows\n",
      "\n"
     ]
    },
    {
     "data": {
      "text/plain": [
       "4631930"
      ]
     },
     "execution_count": 18,
     "metadata": {},
     "output_type": "execute_result"
    }
   ],
   "source": [
    "df.show()\n",
    "df.count()"
   ]
  },
  {
   "cell_type": "code",
   "execution_count": 20,
   "metadata": {
    "scrolled": true
   },
   "outputs": [],
   "source": [
    "#filter_df = df.filter((df[\"detailed_address\"] == \"\") | df[\"detailed_address\"].isNull() | isnan(df[\"detailed_address\"]))\n",
    "#filter_df.show()\n",
    "#filter_df.count() == 36\n",
    "\n",
    "filter_df = df.na.drop()\n",
    "\n"
   ]
  },
  {
   "cell_type": "code",
   "execution_count": 21,
   "metadata": {},
   "outputs": [],
   "source": [
    "from pyspark.sql.functions import *"
   ]
  },
  {
   "cell_type": "code",
   "execution_count": 22,
   "metadata": {},
   "outputs": [],
   "source": [
    "unique_date_df = filter_df.groupBy(filter_df.year,filter_df.month, filter_df.day).agg(count(\"day\").alias('count'))\n",
    "\n",
    "unique_date_list = unique_date_df.collect()\n",
    "\n",
    "new_date_list = []\n",
    "\n",
    "for unique_date in unique_date_list:\n",
    "    if unique_date[1] < 10 :\n",
    "        if int(unique_date[2].split('~')[0]) < 10 : \n",
    "            date = str(unique_date[0]) + '-' + '0' + str(unique_date[1]) + '-' + '0' +unique_date[2].split('~')[0] + 'T' + \"00:00:00\"\n",
    "        else:\n",
    "            date = str(unique_date[0]) + '-' + '0' + str(unique_date[1]) + '-' +unique_date[2].split('~')[0] + 'T' + \"00:00:00\"\n",
    "        \n",
    "    else:\n",
    "        if int(unique_date[2].split('~')[0]) < 10 : \n",
    "            date = str(unique_date[0]) + '-' + str(unique_date[1]) + '-' + '0' +unique_date[2].split('~')[0] + 'T' + \"00:00:00\"\n",
    "    \n",
    "        else:\n",
    "            date = str(unique_date[0]) + '-' + str(unique_date[1]) + '-' +unique_date[2].split('~')[0] + 'T' + \"00:00:00\"\n",
    "    \n",
    "    \n",
    "    new_date_list.append([unique_date[0], unique_date[1],unique_date[2],date])\n",
    "    \n",
    "    \n",
    "unique_date_df = sc.parallelize(new_date_list).toDF(['year','month','day','date'])"
   ]
  },
  {
   "cell_type": "code",
   "execution_count": 23,
   "metadata": {},
   "outputs": [
    {
     "name": "stdout",
     "output_type": "stream",
     "text": [
      "+----+-----+----+---+----------+----------+----------+-----+-----+--------+-----+---------------+-----+----------------------+---------------+----------------+-------------------+\n",
      "|year|month| day|_c0|build_year|   deposit|rental_fee| code| city|sub_city| dong|           name|floor|exclusive_private_area|        address|detailed_address|               date|\n",
      "+----+-----+----+---+----------+----------+----------+-----+-----+--------+-----+---------------+-----+----------------------+---------------+----------------+-------------------+\n",
      "|2011|    1|1~10| 67|      2004|    35,000|         0|11110|서울특별시|     종로구|  숭인동|        롯데캐슬천지인|   23|                111.73| 서울특별시 종로구  숭인동|              76|2011-01-01T00:00:00|\n",
      "|2011|    1|1~10| 41|      1993|    13,000|         0|11110|서울특별시|     종로구|  창신동|          창신쌍용2|    1|                  54.7| 서울특별시 종로구  창신동|             703|2011-01-01T00:00:00|\n",
      "|2011|    1|1~10| 48|      1968|       500|        50|11110|서울특별시|     종로구|  창신동|            동대문|    2|                  28.8| 서울특별시 종로구  창신동|          328-17|2011-01-01T00:00:00|\n",
      "|2011|    1|1~10| 25|      1995|    32,000|         0|11110|서울특별시|     종로구| 명륜2가|            아남1|   18|                  84.8|서울특별시 종로구  명륜2가|               4|2011-01-01T00:00:00|\n",
      "|2011|    1|1~10| 40|      1992|     3,000|       100|11110|서울특별시|     종로구|  창신동|          창신쌍용1|    4|                 79.87| 서울특별시 종로구  창신동|             702|2011-01-01T00:00:00|\n",
      "|2011|    1|1~10| 44|      1999|    18,000|         0|11110|서울특별시|     종로구|  창신동|             두산|   13|                 59.95| 서울특별시 종로구  창신동|             232|2011-01-01T00:00:00|\n",
      "|2011|    1|1~10| 47|      2002|    12,000|         0|11110|서울특별시|     종로구|  창신동|      MID그린(3동)|    6|                 58.91| 서울특별시 종로구  창신동|           601-2|2011-01-01T00:00:00|\n",
      "|2011|    1|1~10|  3|      2008|    40,000|         0|11110|서울특별시|     종로구|  사직동|광화문풍림스페이스본(9-0)|    4|                 97.61| 서울특별시 종로구  사직동|               9|2011-01-01T00:00:00|\n",
      "|2011|    1|1~10| 24|      1999|    20,000|         0|11110|서울특별시|     종로구| 명륜2가|            아남3|    4|                 50.49|서울특별시 종로구  명륜2가|             237|2011-01-01T00:00:00|\n",
      "|2011|    1|1~10| 27|      1999|    10,000|        65|11110|서울특별시|     종로구| 명륜2가|            아남3|    3|                 50.49|서울특별시 종로구  명륜2가|             237|2011-01-01T00:00:00|\n",
      "|2011|    1|1~10| 39|      1999|    20,000|         0|11110|서울특별시|     종로구|  창신동|             두산|   17|                 59.95| 서울특별시 종로구  창신동|             232|2011-01-01T00:00:00|\n",
      "|2011|    1|1~10| 42|      2002|    12,000|         0|11110|서울특별시|     종로구|  창신동|      MID그린(1동)|    3|                 59.55| 서울특별시 종로구  창신동|             601|2011-01-01T00:00:00|\n",
      "|2011|    1|1~10| 43|      1993|    17,500|         0|11110|서울특별시|     종로구|  창신동|          창신쌍용2|    8|                 79.87| 서울특별시 종로구  창신동|             703|2011-01-01T00:00:00|\n",
      "|2011|    1|1~10| 45|      2002|    11,000|         0|11110|서울특별시|     종로구|  창신동|      MID그린(1동)|    6|                 59.55| 서울특별시 종로구  창신동|             601|2011-01-01T00:00:00|\n",
      "|2011|    1|1~10| 46|      1993|    16,000|         0|11110|서울특별시|     종로구|  창신동|          창신쌍용2|   14|                 79.87| 서울특별시 종로구  창신동|             703|2011-01-01T00:00:00|\n",
      "|2011|    1|1~10|  1|      2008|    30,000|         0|11110|서울특별시|     종로구|  사직동|광화문풍림스페이스본(9-0)|   12|                  70.8| 서울특별시 종로구  사직동|               9|2011-01-01T00:00:00|\n",
      "|2011|    1|1~10|  2|      2008|    40,000|         0|11110|서울특별시|     종로구|  사직동|광화문풍림스페이스본(9-0)|    6|                 97.61| 서울특별시 종로구  사직동|               9|2011-01-01T00:00:00|\n",
      "|2011|    1|1~10|  5|      2008|    32,000|         0|11110|서울특별시|     종로구|  사직동|광화문풍림스페이스본(9-0)|    2|                  70.8| 서울특별시 종로구  사직동|               9|2011-01-01T00:00:00|\n",
      "|2011|    1|1~10| 23|      2003|    20,000|         0|11110|서울특별시|     종로구| 명륜1가|      송림아마레스아파트|    4|                 84.62|서울특별시 종로구  명륜1가|            2-12|2011-01-01T00:00:00|\n",
      "|2011|    1|1~10| 26|      1999|    21,000|         0|11110|서울특별시|     종로구| 명륜2가|            아남3|    7|                 47.43|서울특별시 종로구  명륜2가|             237|2011-01-01T00:00:00|\n",
      "+----+-----+----+---+----------+----------+----------+-----+-----+--------+-----+---------------+-----+----------------------+---------------+----------------+-------------------+\n",
      "only showing top 20 rows\n",
      "\n"
     ]
    },
    {
     "data": {
      "text/plain": [
       "4630954"
      ]
     },
     "execution_count": 23,
     "metadata": {},
     "output_type": "execute_result"
    }
   ],
   "source": [
    "added_date_df = filter_df.join(unique_date_df, ['year','month','day']).sort('date')\n",
    "added_date_df.show()\n",
    "added_date_df.count()"
   ]
  },
  {
   "cell_type": "code",
   "execution_count": 24,
   "metadata": {},
   "outputs": [
    {
     "name": "stdout",
     "output_type": "stream",
     "text": [
      "+-----------------+----------------+-----+\n",
      "|          address|detailed_address|count|\n",
      "+-----------------+----------------+-----+\n",
      "|   서울특별시 종로구  숭인동|             766|  273|\n",
      "|  서울특별시 동대문구  제기동|             153|  388|\n",
      "|  서울특별시 동대문구  장안동|           329-2| 1002|\n",
      "|   서울특별시 성북구  종암동|           104-5|   39|\n",
      "|   서울특별시 송파구  풍납동|             511|  140|\n",
      "|    부산광역시 북구  화명동|            2264|  811|\n",
      "|   부산광역시 사상구  학장동|             819|   87|\n",
      "|   대구광역시 수성구  황금동|             240|  155|\n",
      "|    인천광역시 남구  관교동|            13-9|  175|\n",
      "|   인천광역시 남동구  남촌동|             651|   17|\n",
      "|   인천광역시 남동구  논현동|           755-4|  800|\n",
      "|   인천광역시 부평구  삼산동|           453-1|  875|\n",
      "|   인천광역시 부평구  부개동|           477-2|  291|\n",
      "|   인천광역시 계양구  병방동|             383|  153|\n",
      "|    광주광역시 남구  주월동|           543-9|  306|\n",
      "|    광주광역시 북구  운암동|              68|   98|\n",
      "|   대전광역시 유성구  지족동|             834|   58|\n",
      "|울산광역시 울주군 온양읍 운화리|          163-22|   60|\n",
      "|    경기도 의정부시  민락동|           692-1|  411|\n",
      "|      경기도 부천시  상동|           571-1|  200|\n",
      "+-----------------+----------------+-----+\n",
      "only showing top 20 rows\n",
      "\n"
     ]
    },
    {
     "data": {
      "text/plain": [
       "38250"
      ]
     },
     "execution_count": 24,
     "metadata": {},
     "output_type": "execute_result"
    }
   ],
   "source": [
    "new_df = added_date_df.groupBy(added_date_df.address,added_date_df.detailed_address).agg(count(\"detailed_address\").alias(\"count\"))\n",
    "new_df.show()\n",
    "new_df.count()"
   ]
  },
  {
   "cell_type": "code",
   "execution_count": 25,
   "metadata": {},
   "outputs": [],
   "source": [
    "sum = new_df.select(sum(\"count\"))"
   ]
  },
  {
   "cell_type": "code",
   "execution_count": 26,
   "metadata": {},
   "outputs": [
    {
     "name": "stdout",
     "output_type": "stream",
     "text": [
      "+----------+\n",
      "|sum(count)|\n",
      "+----------+\n",
      "|   4630954|\n",
      "+----------+\n",
      "\n"
     ]
    }
   ],
   "source": [
    "sum.show()"
   ]
  },
  {
   "cell_type": "code",
   "execution_count": 27,
   "metadata": {},
   "outputs": [
    {
     "ename": "KeyboardInterrupt",
     "evalue": "",
     "traceback": [
      "\u001b[0;31m---------------------------------------------------------------------------\u001b[0m",
      "\u001b[0;31mKeyboardInterrupt\u001b[0m                         Traceback (most recent call last)",
      "\u001b[0;32m<ipython-input-27-2fd91a68ca4c>\u001b[0m in \u001b[0;36m<module>\u001b[0;34m()\u001b[0m\n\u001b[0;32m----> 1\u001b[0;31m \u001b[0munique_address_list\u001b[0m \u001b[0;34m=\u001b[0m \u001b[0mnew_df\u001b[0m\u001b[0;34m.\u001b[0m\u001b[0mcollect\u001b[0m\u001b[0;34m(\u001b[0m\u001b[0;34m)\u001b[0m\u001b[0;34m\u001b[0m\u001b[0m\n\u001b[0m\u001b[1;32m      2\u001b[0m \u001b[0;31m#print unique_address_list[0][0]\u001b[0m\u001b[0;34m\u001b[0m\u001b[0;34m\u001b[0m\u001b[0m\n",
      "\u001b[0;32m/home/project/spark/python/pyspark/sql/dataframe.pyc\u001b[0m in \u001b[0;36mcollect\u001b[0;34m(self)\u001b[0m\n\u001b[1;32m    389\u001b[0m         \"\"\"\n\u001b[1;32m    390\u001b[0m         \u001b[0;32mwith\u001b[0m \u001b[0mSCCallSiteSync\u001b[0m\u001b[0;34m(\u001b[0m\u001b[0mself\u001b[0m\u001b[0;34m.\u001b[0m\u001b[0m_sc\u001b[0m\u001b[0;34m)\u001b[0m \u001b[0;32mas\u001b[0m \u001b[0mcss\u001b[0m\u001b[0;34m:\u001b[0m\u001b[0;34m\u001b[0m\u001b[0m\n\u001b[0;32m--> 391\u001b[0;31m             \u001b[0mport\u001b[0m \u001b[0;34m=\u001b[0m \u001b[0mself\u001b[0m\u001b[0;34m.\u001b[0m\u001b[0m_jdf\u001b[0m\u001b[0;34m.\u001b[0m\u001b[0mcollectToPython\u001b[0m\u001b[0;34m(\u001b[0m\u001b[0;34m)\u001b[0m\u001b[0;34m\u001b[0m\u001b[0m\n\u001b[0m\u001b[1;32m    392\u001b[0m         \u001b[0;32mreturn\u001b[0m \u001b[0mlist\u001b[0m\u001b[0;34m(\u001b[0m\u001b[0m_load_from_socket\u001b[0m\u001b[0;34m(\u001b[0m\u001b[0mport\u001b[0m\u001b[0;34m,\u001b[0m \u001b[0mBatchedSerializer\u001b[0m\u001b[0;34m(\u001b[0m\u001b[0mPickleSerializer\u001b[0m\u001b[0;34m(\u001b[0m\u001b[0;34m)\u001b[0m\u001b[0;34m)\u001b[0m\u001b[0;34m)\u001b[0m\u001b[0;34m)\u001b[0m\u001b[0;34m\u001b[0m\u001b[0m\n\u001b[1;32m    393\u001b[0m \u001b[0;34m\u001b[0m\u001b[0m\n",
      "\u001b[0;32m/home/project/spark/python/lib/py4j-0.10.4-src.zip/py4j/java_gateway.py\u001b[0m in \u001b[0;36m__call__\u001b[0;34m(self, *args)\u001b[0m\n\u001b[1;32m   1129\u001b[0m             \u001b[0mproto\u001b[0m\u001b[0;34m.\u001b[0m\u001b[0mEND_COMMAND_PART\u001b[0m\u001b[0;34m\u001b[0m\u001b[0m\n\u001b[1;32m   1130\u001b[0m \u001b[0;34m\u001b[0m\u001b[0m\n\u001b[0;32m-> 1131\u001b[0;31m         \u001b[0manswer\u001b[0m \u001b[0;34m=\u001b[0m \u001b[0mself\u001b[0m\u001b[0;34m.\u001b[0m\u001b[0mgateway_client\u001b[0m\u001b[0;34m.\u001b[0m\u001b[0msend_command\u001b[0m\u001b[0;34m(\u001b[0m\u001b[0mcommand\u001b[0m\u001b[0;34m)\u001b[0m\u001b[0;34m\u001b[0m\u001b[0m\n\u001b[0m\u001b[1;32m   1132\u001b[0m         return_value = get_return_value(\n\u001b[1;32m   1133\u001b[0m             answer, self.gateway_client, self.target_id, self.name)\n",
      "\u001b[0;32m/home/project/spark/python/lib/py4j-0.10.4-src.zip/py4j/java_gateway.py\u001b[0m in \u001b[0;36msend_command\u001b[0;34m(self, command, retry, binary)\u001b[0m\n\u001b[1;32m    881\u001b[0m         \u001b[0mconnection\u001b[0m \u001b[0;34m=\u001b[0m \u001b[0mself\u001b[0m\u001b[0;34m.\u001b[0m\u001b[0m_get_connection\u001b[0m\u001b[0;34m(\u001b[0m\u001b[0;34m)\u001b[0m\u001b[0;34m\u001b[0m\u001b[0m\n\u001b[1;32m    882\u001b[0m         \u001b[0;32mtry\u001b[0m\u001b[0;34m:\u001b[0m\u001b[0;34m\u001b[0m\u001b[0m\n\u001b[0;32m--> 883\u001b[0;31m             \u001b[0mresponse\u001b[0m \u001b[0;34m=\u001b[0m \u001b[0mconnection\u001b[0m\u001b[0;34m.\u001b[0m\u001b[0msend_command\u001b[0m\u001b[0;34m(\u001b[0m\u001b[0mcommand\u001b[0m\u001b[0;34m)\u001b[0m\u001b[0;34m\u001b[0m\u001b[0m\n\u001b[0m\u001b[1;32m    884\u001b[0m             \u001b[0;32mif\u001b[0m \u001b[0mbinary\u001b[0m\u001b[0;34m:\u001b[0m\u001b[0;34m\u001b[0m\u001b[0m\n\u001b[1;32m    885\u001b[0m                 \u001b[0;32mreturn\u001b[0m \u001b[0mresponse\u001b[0m\u001b[0;34m,\u001b[0m \u001b[0mself\u001b[0m\u001b[0;34m.\u001b[0m\u001b[0m_create_connection_guard\u001b[0m\u001b[0;34m(\u001b[0m\u001b[0mconnection\u001b[0m\u001b[0;34m)\u001b[0m\u001b[0;34m\u001b[0m\u001b[0m\n",
      "\u001b[0;32m/home/project/spark/python/lib/py4j-0.10.4-src.zip/py4j/java_gateway.py\u001b[0m in \u001b[0;36msend_command\u001b[0;34m(self, command)\u001b[0m\n\u001b[1;32m   1026\u001b[0m \u001b[0;34m\u001b[0m\u001b[0m\n\u001b[1;32m   1027\u001b[0m         \u001b[0;32mtry\u001b[0m\u001b[0;34m:\u001b[0m\u001b[0;34m\u001b[0m\u001b[0m\n\u001b[0;32m-> 1028\u001b[0;31m             \u001b[0manswer\u001b[0m \u001b[0;34m=\u001b[0m \u001b[0msmart_decode\u001b[0m\u001b[0;34m(\u001b[0m\u001b[0mself\u001b[0m\u001b[0;34m.\u001b[0m\u001b[0mstream\u001b[0m\u001b[0;34m.\u001b[0m\u001b[0mreadline\u001b[0m\u001b[0;34m(\u001b[0m\u001b[0;34m)\u001b[0m\u001b[0;34m[\u001b[0m\u001b[0;34m:\u001b[0m\u001b[0;34m-\u001b[0m\u001b[0;36m1\u001b[0m\u001b[0;34m]\u001b[0m\u001b[0;34m)\u001b[0m\u001b[0;34m\u001b[0m\u001b[0m\n\u001b[0m\u001b[1;32m   1029\u001b[0m             \u001b[0mlogger\u001b[0m\u001b[0;34m.\u001b[0m\u001b[0mdebug\u001b[0m\u001b[0;34m(\u001b[0m\u001b[0;34m\"Answer received: {0}\"\u001b[0m\u001b[0;34m.\u001b[0m\u001b[0mformat\u001b[0m\u001b[0;34m(\u001b[0m\u001b[0manswer\u001b[0m\u001b[0;34m)\u001b[0m\u001b[0;34m)\u001b[0m\u001b[0;34m\u001b[0m\u001b[0m\n\u001b[1;32m   1030\u001b[0m             \u001b[0;32mif\u001b[0m \u001b[0manswer\u001b[0m\u001b[0;34m.\u001b[0m\u001b[0mstartswith\u001b[0m\u001b[0;34m(\u001b[0m\u001b[0mproto\u001b[0m\u001b[0;34m.\u001b[0m\u001b[0mRETURN_MESSAGE\u001b[0m\u001b[0;34m)\u001b[0m\u001b[0;34m:\u001b[0m\u001b[0;34m\u001b[0m\u001b[0m\n",
      "\u001b[0;32m/usr/lib/python2.7/socket.pyc\u001b[0m in \u001b[0;36mreadline\u001b[0;34m(self, size)\u001b[0m\n\u001b[1;32m    449\u001b[0m             \u001b[0;32mwhile\u001b[0m \u001b[0mTrue\u001b[0m\u001b[0;34m:\u001b[0m\u001b[0;34m\u001b[0m\u001b[0m\n\u001b[1;32m    450\u001b[0m                 \u001b[0;32mtry\u001b[0m\u001b[0;34m:\u001b[0m\u001b[0;34m\u001b[0m\u001b[0m\n\u001b[0;32m--> 451\u001b[0;31m                     \u001b[0mdata\u001b[0m \u001b[0;34m=\u001b[0m \u001b[0mself\u001b[0m\u001b[0;34m.\u001b[0m\u001b[0m_sock\u001b[0m\u001b[0;34m.\u001b[0m\u001b[0mrecv\u001b[0m\u001b[0;34m(\u001b[0m\u001b[0mself\u001b[0m\u001b[0;34m.\u001b[0m\u001b[0m_rbufsize\u001b[0m\u001b[0;34m)\u001b[0m\u001b[0;34m\u001b[0m\u001b[0m\n\u001b[0m\u001b[1;32m    452\u001b[0m                 \u001b[0;32mexcept\u001b[0m \u001b[0merror\u001b[0m\u001b[0;34m,\u001b[0m \u001b[0me\u001b[0m\u001b[0;34m:\u001b[0m\u001b[0;34m\u001b[0m\u001b[0m\n\u001b[1;32m    453\u001b[0m                     \u001b[0;32mif\u001b[0m \u001b[0me\u001b[0m\u001b[0;34m.\u001b[0m\u001b[0margs\u001b[0m\u001b[0;34m[\u001b[0m\u001b[0;36m0\u001b[0m\u001b[0;34m]\u001b[0m \u001b[0;34m==\u001b[0m \u001b[0mEINTR\u001b[0m\u001b[0;34m:\u001b[0m\u001b[0;34m\u001b[0m\u001b[0m\n",
      "\u001b[0;31mKeyboardInterrupt\u001b[0m: "
     ],
     "output_type": "error"
    }
   ],
   "source": [
    "unique_address_list = new_df.collect()\n",
    "#print unique_address_list[0][0]"
   ]
  },
  {
   "cell_type": "code",
   "execution_count": 19,
   "metadata": {
    "scrolled": true
   },
   "outputs": [
    {
     "name": "stdout",
     "output_type": "stream",
     "text": [
      "9480\n",
      "1.05% completed\n",
      "2.11% completed\n",
      "3.16% completed\n",
      "4.22% completed\n",
      "5.27% completed\n",
      "6.33% completed\n",
      "7.38% completed\n",
      "8.44% completed\n",
      "9.49% completed\n",
      "error address: 부산광역시 금정구  장전동 74-93\n",
      "1\n",
      "10.55% completed\n",
      "11.60% completed\n",
      "error address: 서울특별시 관악구  봉천동 863-6\n",
      "2\n",
      "12.66% completed\n",
      "13.71% completed\n",
      "14.77% completed\n",
      "15.82% completed\n",
      "16.88% completed\n",
      "17.93% completed\n",
      "18.99% completed\n",
      "20.04% completed\n",
      "21.10% completed\n",
      "22.15% completed\n",
      "23.21% completed\n",
      "24.26% completed\n",
      "25.32% completed\n",
      "26.37% completed\n",
      "27.43% completed\n",
      "28.48% completed\n",
      "29.54% completed\n",
      "30.59% completed\n",
      "31.65% completed\n",
      "32.70% completed\n",
      "33.76% completed\n",
      "34.81% completed\n",
      "35.86% completed\n",
      "36.92% completed\n",
      "37.97% completed\n",
      "39.03% completed\n",
      "40.08% completed\n",
      "41.14% completed\n",
      "42.19% completed\n",
      "43.25% completed\n",
      "44.30% completed\n",
      "45.36% completed\n",
      "46.41% completed\n",
      "47.47% completed\n",
      "48.52% completed\n",
      "49.58% completed\n",
      "50.63% completed\n",
      "51.69% completed\n",
      "52.74% completed\n",
      "53.80% completed\n",
      "54.85% completed\n",
      "55.91% completed\n",
      "56.96% completed\n",
      "58.02% completed\n",
      "59.07% completed\n",
      "60.13% completed\n",
      "61.18% completed\n",
      "62.24% completed\n",
      "63.29% completed\n",
      "64.35% completed\n",
      "65.40% completed\n",
      "66.46% completed\n",
      "67.51% completed\n",
      "68.57% completed\n",
      "69.62% completed\n",
      "70.68% completed\n",
      "71.73% completed\n",
      "72.78% completed\n",
      "73.84% completed\n",
      "74.89% completed\n",
      "75.95% completed\n",
      "77.00% completed\n",
      "78.06% completed\n",
      "79.11% completed\n",
      "80.17% completed\n",
      "81.22% completed\n",
      "82.28% completed\n",
      "83.33% completed\n",
      "84.39% completed\n",
      "85.44% completed\n",
      "86.50% completed\n",
      "87.55% completed\n",
      "88.61% completed\n",
      "89.66% completed\n",
      "error address: 충청남도 천안시 서북구  두정동 1043\n",
      "3\n",
      "90.72% completed\n",
      "error address: 충청북도 청주시 상당구  남문로1가동 180-2\n",
      "4\n",
      "91.77% completed\n",
      "92.83% completed\n",
      "93.88% completed\n",
      "94.94% completed\n",
      "95.99% completed\n",
      "97.05% completed\n",
      "98.10% completed\n",
      "99.16% completed\n"
     ]
    }
   ],
   "source": [
    "location_list = []\n",
    "\n",
    "# checking why no result data\n",
    "# response = get_location(\"경상북도 영천시 신령면 완전리\") -> 신녕면\n",
    "# print response.status_code\n",
    "# data = response.json()\n",
    "# print data\n",
    "\n",
    "index = 1.0;\n",
    "length = len(unique_address_list)\n",
    "count = 0;\n",
    "\n",
    "print length \n",
    "\n",
    "for address in unique_address_list:    \n",
    "    full_address = (address[0] + \" \" + address[1]).encode('utf8')\n",
    "    #print str(\"full \" + full_address)\n",
    "    response = get_location(full_address)\n",
    "\n",
    "    if response.status_code == 200 :\n",
    "        \n",
    "        data = response.json()\n",
    "        \n",
    "        \n",
    "        x = data['result']['items'][0]['point']['x']\n",
    "        y = data['result']['items'][0]['point']['y']\n",
    "    \n",
    "        location_list.append([address[0],address[1],y,x])\n",
    "        \n",
    "    else: \n",
    "        print str(\"error address: \" + full_address)\n",
    "        count += 1\n",
    "        print count\n",
    "        \n",
    "        location_list.append([address[0],address[1] ,np.nan,np.nan])\n",
    "    \n",
    "    if(index % 100 == 0):\n",
    "        print (\"%0.2f\" % (index / length * 100.0)) + \"% completed\"\n",
    "        \n",
    "    index += 1.0\n",
    "\n",
    "     "
   ]
  },
  {
   "cell_type": "code",
   "execution_count": 20,
   "metadata": {},
   "outputs": [
    {
     "name": "stdout",
     "output_type": "stream",
     "text": [
      "+-----------------+----------------+----------+-----------+\n",
      "|          address|detailed_address|  latitude|  longitude|\n",
      "+-----------------+----------------+----------+-----------+\n",
      "|   대전광역시 유성구  지족동|           863-2|36.3825628|127.3205555|\n",
      "|  경기도 평택시 안중읍 안중리|          252-33|36.9881887|126.9255043|\n",
      "|  경기도 화성시 남양읍 남양리|          1265-3|37.2101135|126.8181706|\n",
      "|   부산광역시 금정구  장전동|          364-24|35.2349315|129.0886999|\n",
      "|   부산광역시 금정구  장전동|          227-12|35.2372391| 129.087994|\n",
      "|  경기도 안산시 상록구  사동|          1197-4|37.3017055|126.8511012|\n",
      "|     경기도 이천시  중리동|           211-8|37.2784762| 127.444716|\n",
      "|경상남도 창원시 성산구  상남동|            11-6| 35.222296|128.6851114|\n",
      "|    인천광역시 남구  도화동|            90-2|37.4677795|126.6593777|\n",
      "|  서울특별시 동대문구  이문동|          325-20|37.5944677|127.0593227|\n",
      "|부산광역시 기장군 기장읍 대라리|           500-6|35.2424389|129.2117922|\n",
      "|  서울특별시 서대문구  창천동|           29-81| 37.556057|126.9382413|\n",
      "|   서울특별시 강북구  수유동|            48-1|37.6344091|127.0228738|\n",
      "|   서울특별시 강동구  암사동|           502-3|37.5509491|127.1269475|\n",
      "| 경기도 수원시 영통구  이의동|            1330|37.2924897|127.0491615|\n",
      "|   대구광역시 달서구  두류동|           150-9|35.8578449|128.5597582|\n",
      "|   부산광역시 금정구  구서동|          192-11|35.2542948|129.0893518|\n",
      "|  부산광역시 부산진구  부전동|           414-2| 35.160133|129.0539069|\n",
      "|   인천광역시 남동구  만수동|             867|37.4603807|126.7289466|\n",
      "|   서울특별시 은평구  불광동|           319-8| 37.619961|126.9241778|\n",
      "+-----------------+----------------+----------+-----------+\n",
      "only showing top 20 rows\n",
      "\n"
     ]
    }
   ],
   "source": [
    "#print location_list[0]\n",
    "\n",
    "\n",
    "#checking_df = df.filter(df.address == \"인천광역시 서구  왕길동\").filter(df.detailed_address == \"가-81-1\")\n",
    "\n",
    "#checking_df.show()\n",
    "#print(checking_df.count())\n",
    "\n",
    "                \n",
    "location = sc.parallelize(location_list).toDF(['address','detailed_address','latitude','longitude'])\n",
    "location.show()"
   ]
  },
  {
   "cell_type": "code",
   "execution_count": 21,
   "metadata": {},
   "outputs": [
    {
     "data": {
      "text/plain": [
       "9480"
      ]
     },
     "execution_count": 21,
     "metadata": {},
     "output_type": "execute_result"
    }
   ],
   "source": [
    "location.count()"
   ]
  },
  {
   "cell_type": "code",
   "execution_count": 22,
   "metadata": {},
   "outputs": [],
   "source": [
    "# error \n",
    "#new_df_id = new_df.withColumn('id', monotonically_increasing_id())\n",
    "#new_df_id.show()\n",
    "#new_df_id.count()\n",
    "#new_df_id.filter(new_df_id.id == '10000').show()\n",
    "#add_df.count()\n",
    "\n",
    "\n",
    "#location_id = location.withColumn('id', row_number().over (Window.partitionBy().partitionBy(location['logitude']).orderBy(lit(1))))\n",
    "#location_id.show()\n",
    "#location_id.count()\n",
    "\n",
    "#location_id.filter(location_id.id == '37777').show()\n",
    "\n",
    "\n",
    "#add_df = new_df_id.select('address', 'detailed_address','id').join(location_id , new_df_id.id == location_id.id).drop(new_df_id.id)\n",
    "#add_df.orderBy('id', ascending=True).show()\n",
    "#add_df.count()"
   ]
  },
  {
   "cell_type": "code",
   "execution_count": 23,
   "metadata": {},
   "outputs": [],
   "source": [
    "joined_df = added_date_df.join(location.select('address','detailed_address','latitude','longitude'), ['address','detailed_address'])"
   ]
  },
  {
   "cell_type": "code",
   "execution_count": 24,
   "metadata": {},
   "outputs": [
    {
     "name": "stdout",
     "output_type": "stream",
     "text": [
      "+----------------+----------------+----+-----+-----+---+----------+-------+----------+----+--------+----+-----+------------+-----+----------------------+-------------------+----------+-----------+\n",
      "|         address|detailed_address|year|month|  day|_c0|build_year|deposit|rental_fee|city|sub_city|dong| code|        name|floor|exclusive_private_area|               date|  latitude|  longitude|\n",
      "+----------------+----------------+----+-----+-----+---+----------+-------+----------+----+--------+----+-----+------------+-----+----------------------+-------------------+----------+-----------+\n",
      "|경기도 수원시 영통구  이의동|            1330|2012|   11| 1~10|  1|      2012|    500|        55| 경기도| 수원시 영통구| 이의동|41117|광교서희스타힐스오피스텔|    7|                 28.96|2012-11-01T00:00:00|37.2924897|127.0491615|\n",
      "|경기도 수원시 영통구  이의동|            1330|2013|    1| 1~10|  1|      2012|  7,000|         0| 경기도| 수원시 영통구| 이의동|41117|광교서희스타힐스오피스텔|   12|                 28.96|2013-01-01T00:00:00|37.2924897|127.0491615|\n",
      "|경기도 수원시 영통구  이의동|            1330|2013|    1| 1~10|  3|      2012|  7,500|         0| 경기도| 수원시 영통구| 이의동|41117|광교서희스타힐스오피스텔|    8|                 29.87|2013-01-01T00:00:00|37.2924897|127.0491615|\n",
      "|경기도 수원시 영통구  이의동|            1330|2013|    1|11~20|  6|      2012|  8,000|         0| 경기도| 수원시 영통구| 이의동|41117|광교서희스타힐스오피스텔|   12|                 29.85|2013-01-11T00:00:00|37.2924897|127.0491615|\n",
      "|경기도 수원시 영통구  이의동|            1330|2013|    1|11~20|  7|      2012|  7,000|         0| 경기도| 수원시 영통구| 이의동|41117|광교서희스타힐스오피스텔|   12|                 29.85|2013-01-11T00:00:00|37.2924897|127.0491615|\n",
      "|경기도 수원시 영통구  이의동|            1330|2013|    1|11~20|  8|      2012|    500|        55| 경기도| 수원시 영통구| 이의동|41117|광교서희스타힐스오피스텔|    9|                 29.87|2013-01-11T00:00:00|37.2924897|127.0491615|\n",
      "|경기도 수원시 영통구  이의동|            1330|2013|    1|11~20|  9|      2012|  7,000|         0| 경기도| 수원시 영통구| 이의동|41117|광교서희스타힐스오피스텔|   10|                 28.96|2013-01-11T00:00:00|37.2924897|127.0491615|\n",
      "|경기도 수원시 영통구  이의동|            1330|2013|    1|11~20| 10|      2012|  7,000|         0| 경기도| 수원시 영통구| 이의동|41117|광교서희스타힐스오피스텔|   12|                 28.96|2013-01-11T00:00:00|37.2924897|127.0491615|\n",
      "|경기도 수원시 영통구  이의동|            1330|2013|    1|21~31| 15|      2012| 12,000|         0| 경기도| 수원시 영통구| 이의동|41117|광교서희스타힐스오피스텔|   11|                 48.56|2013-01-21T00:00:00|37.2924897|127.0491615|\n",
      "|경기도 수원시 영통구  이의동|            1330|2013|    1|21~31| 16|      2012|  1,000|        45| 경기도| 수원시 영통구| 이의동|41117|광교서희스타힐스오피스텔|    8|                 29.85|2013-01-21T00:00:00|37.2924897|127.0491615|\n",
      "|경기도 수원시 영통구  이의동|            1330|2013|    1|21~31| 17|      2012|  7,000|         0| 경기도| 수원시 영통구| 이의동|41117|광교서희스타힐스오피스텔|   10|                 28.96|2013-01-21T00:00:00|37.2924897|127.0491615|\n",
      "|경기도 수원시 영통구  이의동|            1330|2013|    1|21~31| 18|      2012|  7,000|         0| 경기도| 수원시 영통구| 이의동|41117|광교서희스타힐스오피스텔|    5|                 28.96|2013-01-21T00:00:00|37.2924897|127.0491615|\n",
      "|경기도 수원시 영통구  이의동|            1330|2013|    1|21~31| 22|      2012|  7,000|         0| 경기도| 수원시 영통구| 이의동|41117|광교서희스타힐스오피스텔|    7|                 29.85|2013-01-21T00:00:00|37.2924897|127.0491615|\n",
      "|경기도 수원시 영통구  이의동|            1330|2013|    1|21~31| 23|      2012|  6,000|         0| 경기도| 수원시 영통구| 이의동|41117|광교서희스타힐스오피스텔|    4|                 29.85|2013-01-21T00:00:00|37.2924897|127.0491615|\n",
      "|경기도 수원시 영통구  이의동|            1330|2013|    2| 1~10|  2|      2012|  7,000|         0| 경기도| 수원시 영통구| 이의동|41117|광교서희스타힐스오피스텔|    6|                 29.85|2013-02-01T00:00:00|37.2924897|127.0491615|\n",
      "|경기도 수원시 영통구  이의동|            1330|2013|    2| 1~10|  4|      2012|  7,000|         0| 경기도| 수원시 영통구| 이의동|41117|광교서희스타힐스오피스텔|    8|                 28.96|2013-02-01T00:00:00|37.2924897|127.0491615|\n",
      "|경기도 수원시 영통구  이의동|            1330|2013|    2| 1~10|  5|      2012|    500|        45| 경기도| 수원시 영통구| 이의동|41117|광교서희스타힐스오피스텔|    5|                 29.85|2013-02-01T00:00:00|37.2924897|127.0491615|\n",
      "|경기도 수원시 영통구  이의동|            1330|2013|    2| 1~10|  6|      2012|  7,000|         0| 경기도| 수원시 영통구| 이의동|41117|광교서희스타힐스오피스텔|    9|                 28.96|2013-02-01T00:00:00|37.2924897|127.0491615|\n",
      "|경기도 수원시 영통구  이의동|            1330|2013|    2| 1~10|  7|      2012|    500|        88| 경기도| 수원시 영통구| 이의동|41117|광교서희스타힐스오피스텔|    5|                 48.56|2013-02-01T00:00:00|37.2924897|127.0491615|\n",
      "|경기도 수원시 영통구  이의동|            1330|2013|    2|11~20| 11|      2012|  7,000|         0| 경기도| 수원시 영통구| 이의동|41117|광교서희스타힐스오피스텔|    9|                 28.96|2013-02-11T00:00:00|37.2924897|127.0491615|\n",
      "+----------------+----------------+----+-----+-----+---+----------+-------+----------+----+--------+----+-----+------------+-----+----------------------+-------------------+----------+-----------+\n",
      "only showing top 20 rows\n",
      "\n"
     ]
    },
    {
     "data": {
      "text/plain": [
       "380095"
      ]
     },
     "execution_count": 24,
     "metadata": {},
     "output_type": "execute_result"
    }
   ],
   "source": [
    "joined_df.show()\n",
    "joined_df.count()"
   ]
  },
  {
   "cell_type": "code",
   "execution_count": 25,
   "metadata": {},
   "outputs": [
    {
     "name": "stdout",
     "output_type": "stream",
     "text": [
      "+----------------+----------------+----+-----+-----+----------+-------+----------+----+--------+----+-----+------------+-----+----------------------+-------------------+----------+-----------+\n",
      "|         address|detailed_address|year|month|  day|build_year|deposit|rental_fee|city|sub_city|dong| code|        name|floor|exclusive_private_area|               date|  latitude|  longitude|\n",
      "+----------------+----------------+----+-----+-----+----------+-------+----------+----+--------+----+-----+------------+-----+----------------------+-------------------+----------+-----------+\n",
      "|경기도 수원시 영통구  이의동|            1330|2012|   11| 1~10|      2012|    500|        55| 경기도| 수원시 영통구| 이의동|41117|광교서희스타힐스오피스텔|    7|                 28.96|2012-11-01T00:00:00|37.2924897|127.0491615|\n",
      "|경기도 수원시 영통구  이의동|            1330|2013|    1| 1~10|      2012|  7,000|         0| 경기도| 수원시 영통구| 이의동|41117|광교서희스타힐스오피스텔|   12|                 28.96|2013-01-01T00:00:00|37.2924897|127.0491615|\n",
      "|경기도 수원시 영통구  이의동|            1330|2013|    1| 1~10|      2012|  7,500|         0| 경기도| 수원시 영통구| 이의동|41117|광교서희스타힐스오피스텔|    8|                 29.87|2013-01-01T00:00:00|37.2924897|127.0491615|\n",
      "|경기도 수원시 영통구  이의동|            1330|2013|    1|11~20|      2012|  8,000|         0| 경기도| 수원시 영통구| 이의동|41117|광교서희스타힐스오피스텔|   12|                 29.85|2013-01-11T00:00:00|37.2924897|127.0491615|\n",
      "|경기도 수원시 영통구  이의동|            1330|2013|    1|11~20|      2012|  7,000|         0| 경기도| 수원시 영통구| 이의동|41117|광교서희스타힐스오피스텔|   12|                 29.85|2013-01-11T00:00:00|37.2924897|127.0491615|\n",
      "|경기도 수원시 영통구  이의동|            1330|2013|    1|11~20|      2012|    500|        55| 경기도| 수원시 영통구| 이의동|41117|광교서희스타힐스오피스텔|    9|                 29.87|2013-01-11T00:00:00|37.2924897|127.0491615|\n",
      "|경기도 수원시 영통구  이의동|            1330|2013|    1|11~20|      2012|  7,000|         0| 경기도| 수원시 영통구| 이의동|41117|광교서희스타힐스오피스텔|   10|                 28.96|2013-01-11T00:00:00|37.2924897|127.0491615|\n",
      "|경기도 수원시 영통구  이의동|            1330|2013|    1|11~20|      2012|  7,000|         0| 경기도| 수원시 영통구| 이의동|41117|광교서희스타힐스오피스텔|   12|                 28.96|2013-01-11T00:00:00|37.2924897|127.0491615|\n",
      "|경기도 수원시 영통구  이의동|            1330|2013|    1|21~31|      2012| 12,000|         0| 경기도| 수원시 영통구| 이의동|41117|광교서희스타힐스오피스텔|   11|                 48.56|2013-01-21T00:00:00|37.2924897|127.0491615|\n",
      "|경기도 수원시 영통구  이의동|            1330|2013|    1|21~31|      2012|  1,000|        45| 경기도| 수원시 영통구| 이의동|41117|광교서희스타힐스오피스텔|    8|                 29.85|2013-01-21T00:00:00|37.2924897|127.0491615|\n",
      "|경기도 수원시 영통구  이의동|            1330|2013|    1|21~31|      2012|  7,000|         0| 경기도| 수원시 영통구| 이의동|41117|광교서희스타힐스오피스텔|   10|                 28.96|2013-01-21T00:00:00|37.2924897|127.0491615|\n",
      "|경기도 수원시 영통구  이의동|            1330|2013|    1|21~31|      2012|  7,000|         0| 경기도| 수원시 영통구| 이의동|41117|광교서희스타힐스오피스텔|    5|                 28.96|2013-01-21T00:00:00|37.2924897|127.0491615|\n",
      "|경기도 수원시 영통구  이의동|            1330|2013|    1|21~31|      2012|  7,000|         0| 경기도| 수원시 영통구| 이의동|41117|광교서희스타힐스오피스텔|    7|                 29.85|2013-01-21T00:00:00|37.2924897|127.0491615|\n",
      "|경기도 수원시 영통구  이의동|            1330|2013|    1|21~31|      2012|  6,000|         0| 경기도| 수원시 영통구| 이의동|41117|광교서희스타힐스오피스텔|    4|                 29.85|2013-01-21T00:00:00|37.2924897|127.0491615|\n",
      "|경기도 수원시 영통구  이의동|            1330|2013|    2| 1~10|      2012|  7,000|         0| 경기도| 수원시 영통구| 이의동|41117|광교서희스타힐스오피스텔|    6|                 29.85|2013-02-01T00:00:00|37.2924897|127.0491615|\n",
      "|경기도 수원시 영통구  이의동|            1330|2013|    2| 1~10|      2012|  7,000|         0| 경기도| 수원시 영통구| 이의동|41117|광교서희스타힐스오피스텔|    8|                 28.96|2013-02-01T00:00:00|37.2924897|127.0491615|\n",
      "|경기도 수원시 영통구  이의동|            1330|2013|    2| 1~10|      2012|    500|        45| 경기도| 수원시 영통구| 이의동|41117|광교서희스타힐스오피스텔|    5|                 29.85|2013-02-01T00:00:00|37.2924897|127.0491615|\n",
      "|경기도 수원시 영통구  이의동|            1330|2013|    2| 1~10|      2012|  7,000|         0| 경기도| 수원시 영통구| 이의동|41117|광교서희스타힐스오피스텔|    9|                 28.96|2013-02-01T00:00:00|37.2924897|127.0491615|\n",
      "|경기도 수원시 영통구  이의동|            1330|2013|    2| 1~10|      2012|    500|        88| 경기도| 수원시 영통구| 이의동|41117|광교서희스타힐스오피스텔|    5|                 48.56|2013-02-01T00:00:00|37.2924897|127.0491615|\n",
      "|경기도 수원시 영통구  이의동|            1330|2013|    2|11~20|      2012|  7,000|         0| 경기도| 수원시 영통구| 이의동|41117|광교서희스타힐스오피스텔|    9|                 28.96|2013-02-11T00:00:00|37.2924897|127.0491615|\n",
      "+----------------+----------------+----+-----+-----+----------+-------+----------+----+--------+----+-----+------------+-----+----------------------+-------------------+----------+-----------+\n",
      "only showing top 20 rows\n",
      "\n"
     ]
    },
    {
     "data": {
      "text/plain": [
       "380095"
      ]
     },
     "execution_count": 25,
     "metadata": {},
     "output_type": "execute_result"
    }
   ],
   "source": [
    "drop_index_df = joined_df.drop(\"_c0\")\n",
    "drop_index_df.show()\n",
    "drop_index_df.count()"
   ]
  },
  {
   "cell_type": "code",
   "execution_count": 26,
   "metadata": {},
   "outputs": [
    {
     "name": "stdout",
     "output_type": "stream",
     "text": [
      "+----------------+----------------+----+-----+-----+----------+-------+----------+----+--------+----+-----+------------+-----+----------------------+-------------------+----------+-----------+\n",
      "|         address|detailed_address|year|month|  day|build_year|deposit|rental_fee|city|sub_city|dong| code|        name|floor|exclusive_private_area|               date|  latitude|  longitude|\n",
      "+----------------+----------------+----+-----+-----+----------+-------+----------+----+--------+----+-----+------------+-----+----------------------+-------------------+----------+-----------+\n",
      "|경기도 수원시 영통구  이의동|            1330|2012|   11| 1~10|      2012|    500|        55| 경기도| 수원시 영통구| 이의동|41117|광교서희스타힐스오피스텔|    7|                 28.96|2012-11-01T00:00:00|37.2924897|127.0491615|\n",
      "|경기도 수원시 영통구  이의동|            1330|2013|    1| 1~10|      2012|   7000|         0| 경기도| 수원시 영통구| 이의동|41117|광교서희스타힐스오피스텔|   12|                 28.96|2013-01-01T00:00:00|37.2924897|127.0491615|\n",
      "|경기도 수원시 영통구  이의동|            1330|2013|    1| 1~10|      2012|   7500|         0| 경기도| 수원시 영통구| 이의동|41117|광교서희스타힐스오피스텔|    8|                 29.87|2013-01-01T00:00:00|37.2924897|127.0491615|\n",
      "|경기도 수원시 영통구  이의동|            1330|2013|    1|11~20|      2012|   8000|         0| 경기도| 수원시 영통구| 이의동|41117|광교서희스타힐스오피스텔|   12|                 29.85|2013-01-11T00:00:00|37.2924897|127.0491615|\n",
      "|경기도 수원시 영통구  이의동|            1330|2013|    1|11~20|      2012|   7000|         0| 경기도| 수원시 영통구| 이의동|41117|광교서희스타힐스오피스텔|   12|                 29.85|2013-01-11T00:00:00|37.2924897|127.0491615|\n",
      "|경기도 수원시 영통구  이의동|            1330|2013|    1|11~20|      2012|    500|        55| 경기도| 수원시 영통구| 이의동|41117|광교서희스타힐스오피스텔|    9|                 29.87|2013-01-11T00:00:00|37.2924897|127.0491615|\n",
      "|경기도 수원시 영통구  이의동|            1330|2013|    1|11~20|      2012|   7000|         0| 경기도| 수원시 영통구| 이의동|41117|광교서희스타힐스오피스텔|   10|                 28.96|2013-01-11T00:00:00|37.2924897|127.0491615|\n",
      "|경기도 수원시 영통구  이의동|            1330|2013|    1|11~20|      2012|   7000|         0| 경기도| 수원시 영통구| 이의동|41117|광교서희스타힐스오피스텔|   12|                 28.96|2013-01-11T00:00:00|37.2924897|127.0491615|\n",
      "|경기도 수원시 영통구  이의동|            1330|2013|    1|21~31|      2012|  12000|         0| 경기도| 수원시 영통구| 이의동|41117|광교서희스타힐스오피스텔|   11|                 48.56|2013-01-21T00:00:00|37.2924897|127.0491615|\n",
      "|경기도 수원시 영통구  이의동|            1330|2013|    1|21~31|      2012|   1000|        45| 경기도| 수원시 영통구| 이의동|41117|광교서희스타힐스오피스텔|    8|                 29.85|2013-01-21T00:00:00|37.2924897|127.0491615|\n",
      "|경기도 수원시 영통구  이의동|            1330|2013|    1|21~31|      2012|   7000|         0| 경기도| 수원시 영통구| 이의동|41117|광교서희스타힐스오피스텔|   10|                 28.96|2013-01-21T00:00:00|37.2924897|127.0491615|\n",
      "|경기도 수원시 영통구  이의동|            1330|2013|    1|21~31|      2012|   7000|         0| 경기도| 수원시 영통구| 이의동|41117|광교서희스타힐스오피스텔|    5|                 28.96|2013-01-21T00:00:00|37.2924897|127.0491615|\n",
      "|경기도 수원시 영통구  이의동|            1330|2013|    1|21~31|      2012|   7000|         0| 경기도| 수원시 영통구| 이의동|41117|광교서희스타힐스오피스텔|    7|                 29.85|2013-01-21T00:00:00|37.2924897|127.0491615|\n",
      "|경기도 수원시 영통구  이의동|            1330|2013|    1|21~31|      2012|   6000|         0| 경기도| 수원시 영통구| 이의동|41117|광교서희스타힐스오피스텔|    4|                 29.85|2013-01-21T00:00:00|37.2924897|127.0491615|\n",
      "|경기도 수원시 영통구  이의동|            1330|2013|    2| 1~10|      2012|   7000|         0| 경기도| 수원시 영통구| 이의동|41117|광교서희스타힐스오피스텔|    6|                 29.85|2013-02-01T00:00:00|37.2924897|127.0491615|\n",
      "|경기도 수원시 영통구  이의동|            1330|2013|    2| 1~10|      2012|   7000|         0| 경기도| 수원시 영통구| 이의동|41117|광교서희스타힐스오피스텔|    8|                 28.96|2013-02-01T00:00:00|37.2924897|127.0491615|\n",
      "|경기도 수원시 영통구  이의동|            1330|2013|    2| 1~10|      2012|    500|        45| 경기도| 수원시 영통구| 이의동|41117|광교서희스타힐스오피스텔|    5|                 29.85|2013-02-01T00:00:00|37.2924897|127.0491615|\n",
      "|경기도 수원시 영통구  이의동|            1330|2013|    2| 1~10|      2012|   7000|         0| 경기도| 수원시 영통구| 이의동|41117|광교서희스타힐스오피스텔|    9|                 28.96|2013-02-01T00:00:00|37.2924897|127.0491615|\n",
      "|경기도 수원시 영통구  이의동|            1330|2013|    2| 1~10|      2012|    500|        88| 경기도| 수원시 영통구| 이의동|41117|광교서희스타힐스오피스텔|    5|                 48.56|2013-02-01T00:00:00|37.2924897|127.0491615|\n",
      "|경기도 수원시 영통구  이의동|            1330|2013|    2|11~20|      2012|   7000|         0| 경기도| 수원시 영통구| 이의동|41117|광교서희스타힐스오피스텔|    9|                 28.96|2013-02-11T00:00:00|37.2924897|127.0491615|\n",
      "+----------------+----------------+----+-----+-----+----------+-------+----------+----+--------+----+-----+------------+-----+----------------------+-------------------+----------+-----------+\n",
      "only showing top 20 rows\n",
      "\n"
     ]
    },
    {
     "data": {
      "text/plain": [
       "379966"
      ]
     },
     "execution_count": 26,
     "metadata": {},
     "output_type": "execute_result"
    }
   ],
   "source": [
    "final_apartment_df = drop_index_df.na.drop()\n",
    "final_apartment_df = final_apartment_df.withColumn('deposit',regexp_replace('deposit',\"\\\\,\", \"\")).withColumn('rental_fee',regexp_replace('rental_fee',\"\\\\,\", \"\"))\n",
    "final_apartment_df.show()\n",
    "final_apartment_df.count()"
   ]
  },
  {
   "cell_type": "code",
   "execution_count": 28,
   "metadata": {},
   "outputs": [],
   "source": [
    "final_apartment_df.write.csv(\"final_apartment_rent\")"
   ]
  },
  {
   "cell_type": "code",
   "execution_count": null,
   "metadata": {},
   "outputs": [],
   "source": []
  }
 ],
 "metadata": {
  "kernelspec": {
   "display_name": "Python 2",
   "language": "python",
   "name": "python2"
  },
  "language_info": {
   "codemirror_mode": {
    "name": "ipython",
    "version": 2
   },
   "file_extension": ".py",
   "mimetype": "text/x-python",
   "name": "python",
   "nbconvert_exporter": "python",
   "pygments_lexer": "ipython2",
   "version": "2.7.12"
  }
 },
 "nbformat": 4,
 "nbformat_minor": 2
}
