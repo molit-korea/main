{
 "cells": [
  {
   "cell_type": "code",
   "execution_count": 1,
   "metadata": {},
   "outputs": [],
   "source": [
    "#-*- coding: utf-8 -*-\n",
    "#import sys \n",
    "#reload(sys)\n",
    "#sys.setdefaultencoding('utf-8')\n",
    "\n",
    "import requests\n",
    "from pprint import pprint\n"
   ]
  },
  {
   "cell_type": "code",
   "execution_count": 2,
   "metadata": {},
   "outputs": [],
   "source": [
    "# kakao api\n",
    "APP_KEY = \"${API_KEY}\"\n",
    "kakao_url = \"https://dapi.kakao.com/v2/local/search/address.json\"\n",
    "kakao_headers = {\"Authorization\" : \"KakaoAK {}\".format(APP_KEY)}\n",
    "\n",
    "# naver api\n",
    "client_id = \"${CLIENT_ID}\"\n",
    "client_secret = \"${CLIENT_SECRET}\"\n",
    "naver_url = \"https://openapi.naver.com/v1/map/geocode\" \n",
    "naver_headers = {\"X-Naver-Client-Id\" : \"{}\".format(client_id) , \"X-Naver-Client-Secret\": \"{}\".format(client_secret)}"
   ]
  },
  {
   "cell_type": "code",
   "execution_count": 3,
   "metadata": {},
   "outputs": [],
   "source": [
    "def kakao_req(params, method):\n",
    "#     print('HTTP Method: %s' % method)\n",
    "#     print('Request URL: %s' % kakao_url)\n",
    "#     print('Headers: %s' % kakao_headers)\n",
    "#     print('QueryString: %s' % params)\n",
    "\n",
    "    if method == 'GET':\n",
    "        return requests.get(kakao_url, headers=kakao_headers, params=params)\n",
    "    \n",
    "def naver_req(params, method):\n",
    "#     print('HTTP Method: %s' % method)\n",
    "#     print('Request URL: %s' % naver_url)\n",
    "#     print('Headers: %s' % naver_headers)\n",
    "#     print('QueryString: %s' % params)\n",
    "    \n",
    "    if method == 'GET':\n",
    "        return requests.get(naver_url, headers=naver_headers, params=params)"
   ]
  },
  {
   "cell_type": "code",
   "execution_count": 4,
   "metadata": {},
   "outputs": [],
   "source": [
    "def get_location(address):\n",
    "\n",
    "    params = {\"query\": \"{}\".format(address)}\n",
    "\n",
    "    response = naver_req(params, 'GET')\n",
    "        \n",
    "\n",
    "#    #kakao parsing\n",
    "#     pprint(data['meta']['total_count'])\n",
    "#     pprint(data[\"documents\"][0][\"x\"])\n",
    "#     pprint(data[\"documents\"][0][\"y\"])\n",
    "    \n",
    "        \n",
    "    return response"
   ]
  },
  {
   "cell_type": "code",
   "execution_count": 5,
   "metadata": {},
   "outputs": [],
   "source": [
    "import findspark\n",
    "findspark.init()\n",
    "import pyspark\n",
    "import os\n",
    "import numpy as np"
   ]
  },
  {
   "cell_type": "code",
   "execution_count": 6,
   "metadata": {},
   "outputs": [],
   "source": [
    "#sc = pyspark.SparkContext.getOrCreate()\n",
    "sqlContext = SQLContext(sc)"
   ]
  },
  {
   "cell_type": "code",
   "execution_count": 7,
   "metadata": {},
   "outputs": [
    {
     "name": "stdout",
     "output_type": "stream",
     "text": [
      "office_trade_201509.csv\n",
      "office_trade_201411.csv\n",
      "office_trade_201604.csv\n",
      "office_trade_201503.csv\n",
      "office_trade_201608.csv\n",
      "office_trade_200902.csv\n",
      "office_trade_201312.csv\n",
      "office_trade_201505.csv\n",
      "office_trade_201207.csv\n",
      "office_trade_200801.csv\n",
      "office_trade_201612.csv\n",
      "office_trade_201404.csv\n",
      "office_trade_201202.csv\n",
      "office_trade_200806.csv\n",
      "office_trade_201611.csv\n",
      "office_trade_201407.csv\n",
      "office_trade_201308.csv\n",
      "office_trade_201501.csv\n",
      "office_trade_201103.csv\n",
      "office_trade_201805.csv\n",
      "office_trade_201607.csv\n",
      "office_trade_201511.csv\n",
      "office_trade_201102.csv\n",
      "office_trade_200812.csv\n",
      "office_trade_201310.csv\n",
      "office_trade_201211.csv\n",
      "office_trade_201105.csv\n",
      "office_trade_201210.csv\n",
      "office_trade_201003.csv\n",
      "office_trade_201006.csv\n",
      "office_trade_200804.csv\n",
      "office_trade_201401.csv\n",
      "office_trade_201206.csv\n",
      "office_trade_201702.csv\n",
      "office_trade_201007.csv\n",
      "office_trade_200903.csv\n",
      "office_trade_201610.csv\n",
      "office_trade_201705.csv\n",
      "office_trade_201602.csv\n",
      "office_trade_201403.csv\n",
      "office_trade_201110.csv\n",
      "office_trade_201106.csv\n",
      "office_trade_201711.csv\n",
      "office_trade_201212.csv\n",
      "office_trade_201005.csv\n",
      "office_trade_201104.csv\n",
      "office_trade_201109.csv\n",
      "office_trade_201801.csv\n",
      "office_trade_201504.csv\n",
      "office_trade_201704.csv\n",
      "office_trade_201111.csv\n",
      "office_trade_201203.csv\n",
      "office_trade_201507.csv\n",
      "office_trade_201703.csv\n",
      "office_trade_200910.csv\n",
      "office_trade_200905.csv\n",
      "office_trade_201303.csv\n",
      "office_trade_201307.csv\n",
      "office_trade_201301.csv\n",
      "office_trade_201011.csv\n",
      "office_trade_200907.csv\n",
      "office_trade_201009.csv\n",
      "office_trade_201412.csv\n",
      "office_trade_200808.csv\n",
      "office_trade_200912.csv\n",
      "office_trade_200906.csv\n",
      "office_trade_201506.csv\n",
      "office_trade_201701.csv\n",
      "office_trade_201603.csv\n",
      "office_trade_201204.csv\n",
      "office_trade_201107.csv\n",
      "office_trade_201004.csv\n",
      "office_trade_201512.csv\n",
      "office_trade_201508.csv\n",
      "office_trade_200901.csv\n",
      "office_trade_200809.csv\n",
      "office_trade_201410.csv\n",
      "office_trade_201802.csv\n",
      "office_trade_201002.csv\n",
      "office_trade_200803.csv\n",
      "office_trade_201208.csv\n",
      "office_trade_201806.csv\n",
      "office_trade_200904.csv\n",
      "office_trade_201804.csv\n",
      "office_trade_201405.csv\n",
      "office_trade_201101.csv\n",
      "office_trade_200811.csv\n",
      "office_trade_201010.csv\n",
      "office_trade_201001.csv\n",
      "office_trade_201012.csv\n",
      "office_trade_201112.csv\n",
      "office_trade_200909.csv\n",
      "office_trade_201306.csv\n",
      "office_trade_201305.csv\n",
      "office_trade_200911.csv\n",
      "office_trade_201606.csv\n",
      "office_trade_201408.csv\n",
      "office_trade_201008.csv\n",
      "office_trade_201309.csv\n",
      "office_trade_201601.csv\n",
      "office_trade_201205.csv\n",
      "office_trade_201605.csv\n",
      "office_trade_201710.csv\n",
      "office_trade_201302.csv\n",
      "office_trade_200807.csv\n",
      "office_trade_201406.csv\n",
      "office_trade_201311.csv\n",
      "office_trade_201709.csv\n",
      "office_trade_201708.csv\n",
      "office_trade_201502.csv\n",
      "office_trade_201209.csv\n",
      "office_trade_200908.csv\n",
      "office_trade_200810.csv\n",
      "office_trade_201304.csv\n",
      "office_trade_201409.csv\n",
      "office_trade_201803.csv\n",
      "office_trade_200802.csv\n",
      "office_trade_201706.csv\n",
      "office_trade_201108.csv\n",
      "office_trade_201712.csv\n",
      "office_trade_201510.csv\n",
      "office_trade_200805.csv\n",
      "office_trade_201201.csv\n",
      "office_trade_201609.csv\n",
      "office_trade_201707.csv\n",
      "office_trade_201402.csv\n",
      "['/home/project/real_estate/data/office_trade_data/office_trade_201509.csv', '/home/project/real_estate/data/office_trade_data/office_trade_201411.csv', '/home/project/real_estate/data/office_trade_data/office_trade_201604.csv', '/home/project/real_estate/data/office_trade_data/office_trade_201503.csv', '/home/project/real_estate/data/office_trade_data/office_trade_201608.csv', '/home/project/real_estate/data/office_trade_data/office_trade_200902.csv', '/home/project/real_estate/data/office_trade_data/office_trade_201312.csv', '/home/project/real_estate/data/office_trade_data/office_trade_201505.csv', '/home/project/real_estate/data/office_trade_data/office_trade_201207.csv', '/home/project/real_estate/data/office_trade_data/office_trade_200801.csv', '/home/project/real_estate/data/office_trade_data/office_trade_201612.csv', '/home/project/real_estate/data/office_trade_data/office_trade_201404.csv', '/home/project/real_estate/data/office_trade_data/office_trade_201202.csv', '/home/project/real_estate/data/office_trade_data/office_trade_200806.csv', '/home/project/real_estate/data/office_trade_data/office_trade_201611.csv', '/home/project/real_estate/data/office_trade_data/office_trade_201407.csv', '/home/project/real_estate/data/office_trade_data/office_trade_201308.csv', '/home/project/real_estate/data/office_trade_data/office_trade_201501.csv', '/home/project/real_estate/data/office_trade_data/office_trade_201103.csv', '/home/project/real_estate/data/office_trade_data/office_trade_201805.csv', '/home/project/real_estate/data/office_trade_data/office_trade_201607.csv', '/home/project/real_estate/data/office_trade_data/office_trade_201511.csv', '/home/project/real_estate/data/office_trade_data/office_trade_201102.csv', '/home/project/real_estate/data/office_trade_data/office_trade_200812.csv', '/home/project/real_estate/data/office_trade_data/office_trade_201310.csv', '/home/project/real_estate/data/office_trade_data/office_trade_201211.csv', '/home/project/real_estate/data/office_trade_data/office_trade_201105.csv', '/home/project/real_estate/data/office_trade_data/office_trade_201210.csv', '/home/project/real_estate/data/office_trade_data/office_trade_201003.csv', '/home/project/real_estate/data/office_trade_data/office_trade_201006.csv', '/home/project/real_estate/data/office_trade_data/office_trade_200804.csv', '/home/project/real_estate/data/office_trade_data/office_trade_201401.csv', '/home/project/real_estate/data/office_trade_data/office_trade_201206.csv', '/home/project/real_estate/data/office_trade_data/office_trade_201702.csv', '/home/project/real_estate/data/office_trade_data/office_trade_201007.csv', '/home/project/real_estate/data/office_trade_data/office_trade_200903.csv', '/home/project/real_estate/data/office_trade_data/office_trade_201610.csv', '/home/project/real_estate/data/office_trade_data/office_trade_201705.csv', '/home/project/real_estate/data/office_trade_data/office_trade_201602.csv', '/home/project/real_estate/data/office_trade_data/office_trade_201403.csv', '/home/project/real_estate/data/office_trade_data/office_trade_201110.csv', '/home/project/real_estate/data/office_trade_data/office_trade_201106.csv', '/home/project/real_estate/data/office_trade_data/office_trade_201711.csv', '/home/project/real_estate/data/office_trade_data/office_trade_201212.csv', '/home/project/real_estate/data/office_trade_data/office_trade_201005.csv', '/home/project/real_estate/data/office_trade_data/office_trade_201104.csv', '/home/project/real_estate/data/office_trade_data/office_trade_201109.csv', '/home/project/real_estate/data/office_trade_data/office_trade_201801.csv', '/home/project/real_estate/data/office_trade_data/office_trade_201504.csv', '/home/project/real_estate/data/office_trade_data/office_trade_201704.csv', '/home/project/real_estate/data/office_trade_data/office_trade_201111.csv', '/home/project/real_estate/data/office_trade_data/office_trade_201203.csv', '/home/project/real_estate/data/office_trade_data/office_trade_201507.csv', '/home/project/real_estate/data/office_trade_data/office_trade_201703.csv', '/home/project/real_estate/data/office_trade_data/office_trade_200910.csv', '/home/project/real_estate/data/office_trade_data/office_trade_200905.csv', '/home/project/real_estate/data/office_trade_data/office_trade_201303.csv', '/home/project/real_estate/data/office_trade_data/office_trade_201307.csv', '/home/project/real_estate/data/office_trade_data/office_trade_201301.csv', '/home/project/real_estate/data/office_trade_data/office_trade_201011.csv', '/home/project/real_estate/data/office_trade_data/office_trade_200907.csv', '/home/project/real_estate/data/office_trade_data/office_trade_201009.csv', '/home/project/real_estate/data/office_trade_data/office_trade_201412.csv', '/home/project/real_estate/data/office_trade_data/office_trade_200808.csv', '/home/project/real_estate/data/office_trade_data/office_trade_200912.csv', '/home/project/real_estate/data/office_trade_data/office_trade_200906.csv', '/home/project/real_estate/data/office_trade_data/office_trade_201506.csv', '/home/project/real_estate/data/office_trade_data/office_trade_201701.csv', '/home/project/real_estate/data/office_trade_data/office_trade_201603.csv', '/home/project/real_estate/data/office_trade_data/office_trade_201204.csv', '/home/project/real_estate/data/office_trade_data/office_trade_201107.csv', '/home/project/real_estate/data/office_trade_data/office_trade_201004.csv', '/home/project/real_estate/data/office_trade_data/office_trade_201512.csv', '/home/project/real_estate/data/office_trade_data/office_trade_201508.csv', '/home/project/real_estate/data/office_trade_data/office_trade_200901.csv', '/home/project/real_estate/data/office_trade_data/office_trade_200809.csv', '/home/project/real_estate/data/office_trade_data/office_trade_201410.csv', '/home/project/real_estate/data/office_trade_data/office_trade_201802.csv', '/home/project/real_estate/data/office_trade_data/office_trade_201002.csv', '/home/project/real_estate/data/office_trade_data/office_trade_200803.csv', '/home/project/real_estate/data/office_trade_data/office_trade_201208.csv', '/home/project/real_estate/data/office_trade_data/office_trade_201806.csv', '/home/project/real_estate/data/office_trade_data/office_trade_200904.csv', '/home/project/real_estate/data/office_trade_data/office_trade_201804.csv', '/home/project/real_estate/data/office_trade_data/office_trade_201405.csv', '/home/project/real_estate/data/office_trade_data/office_trade_201101.csv', '/home/project/real_estate/data/office_trade_data/office_trade_200811.csv', '/home/project/real_estate/data/office_trade_data/office_trade_201010.csv', '/home/project/real_estate/data/office_trade_data/office_trade_201001.csv', '/home/project/real_estate/data/office_trade_data/office_trade_201012.csv', '/home/project/real_estate/data/office_trade_data/office_trade_201112.csv', '/home/project/real_estate/data/office_trade_data/office_trade_200909.csv', '/home/project/real_estate/data/office_trade_data/office_trade_201306.csv', '/home/project/real_estate/data/office_trade_data/office_trade_201305.csv', '/home/project/real_estate/data/office_trade_data/office_trade_200911.csv', '/home/project/real_estate/data/office_trade_data/office_trade_201606.csv', '/home/project/real_estate/data/office_trade_data/office_trade_201408.csv', '/home/project/real_estate/data/office_trade_data/office_trade_201008.csv', '/home/project/real_estate/data/office_trade_data/office_trade_201309.csv', '/home/project/real_estate/data/office_trade_data/office_trade_201601.csv', '/home/project/real_estate/data/office_trade_data/office_trade_201205.csv', '/home/project/real_estate/data/office_trade_data/office_trade_201605.csv', '/home/project/real_estate/data/office_trade_data/office_trade_201710.csv', '/home/project/real_estate/data/office_trade_data/office_trade_201302.csv', '/home/project/real_estate/data/office_trade_data/office_trade_200807.csv', '/home/project/real_estate/data/office_trade_data/office_trade_201406.csv', '/home/project/real_estate/data/office_trade_data/office_trade_201311.csv', '/home/project/real_estate/data/office_trade_data/office_trade_201709.csv', '/home/project/real_estate/data/office_trade_data/office_trade_201708.csv', '/home/project/real_estate/data/office_trade_data/office_trade_201502.csv', '/home/project/real_estate/data/office_trade_data/office_trade_201209.csv', '/home/project/real_estate/data/office_trade_data/office_trade_200908.csv', '/home/project/real_estate/data/office_trade_data/office_trade_200810.csv', '/home/project/real_estate/data/office_trade_data/office_trade_201304.csv', '/home/project/real_estate/data/office_trade_data/office_trade_201409.csv', '/home/project/real_estate/data/office_trade_data/office_trade_201803.csv', '/home/project/real_estate/data/office_trade_data/office_trade_200802.csv', '/home/project/real_estate/data/office_trade_data/office_trade_201706.csv', '/home/project/real_estate/data/office_trade_data/office_trade_201108.csv', '/home/project/real_estate/data/office_trade_data/office_trade_201712.csv', '/home/project/real_estate/data/office_trade_data/office_trade_201510.csv', '/home/project/real_estate/data/office_trade_data/office_trade_200805.csv', '/home/project/real_estate/data/office_trade_data/office_trade_201201.csv', '/home/project/real_estate/data/office_trade_data/office_trade_201609.csv', '/home/project/real_estate/data/office_trade_data/office_trade_201707.csv', '/home/project/real_estate/data/office_trade_data/office_trade_201402.csv']\n"
     ]
    }
   ],
   "source": [
    "basic_folder = '/home/project/real_estate/data/office_trade_data/'\n",
    "\n",
    "file_list = os.listdir(basic_folder)\n",
    "path_list=[]\n",
    "for file in file_list:\n",
    "    print(file)\n",
    "    path_list.append(basic_folder + file)\n",
    "    \n",
    "print(path_list)"
   ]
  },
  {
   "cell_type": "code",
   "execution_count": 8,
   "metadata": {},
   "outputs": [],
   "source": [
    "df = sqlContext.read.format(\"com.databricks.spark.csv\") \\\n",
    "    .option(\"header\", \"true\").option(\"inferSchema\", \"true\").load(path_list)"
   ]
  },
  {
   "cell_type": "code",
   "execution_count": 9,
   "metadata": {
    "scrolled": false
   },
   "outputs": [
    {
     "name": "stdout",
     "output_type": "stream",
     "text": [
      "root\n",
      " |-- _c0: integer (nullable = true)\n",
      " |-- build_year: integer (nullable = true)\n",
      " |-- trade_price: string (nullable = true)\n",
      " |-- year: integer (nullable = true)\n",
      " |-- month: integer (nullable = true)\n",
      " |-- day: string (nullable = true)\n",
      " |-- city: string (nullable = true)\n",
      " |-- sub_city: string (nullable = true)\n",
      " |-- dong: string (nullable = true)\n",
      " |-- code: integer (nullable = true)\n",
      " |-- name: string (nullable = true)\n",
      " |-- floor: integer (nullable = true)\n",
      " |-- exclusive_private_area: double (nullable = true)\n",
      " |-- address: string (nullable = true)\n",
      " |-- detailed_address: string (nullable = true)\n",
      "\n"
     ]
    }
   ],
   "source": [
    "df.printSchema()"
   ]
  },
  {
   "cell_type": "code",
   "execution_count": 10,
   "metadata": {
    "scrolled": true
   },
   "outputs": [
    {
     "name": "stdout",
     "output_type": "stream",
     "text": [
      "+---+----------+-----------+----+-----+-----+-----+--------+------+-----+-----------+-----+----------------------+----------------+----------------+\n",
      "|_c0|build_year|trade_price|year|month|  day| city|sub_city|  dong| code|       name|floor|exclusive_private_area|         address|detailed_address|\n",
      "+---+----------+-----------+----+-----+-----+-----+--------+------+-----+-----------+-----+----------------------+----------------+----------------+\n",
      "|  0|      2003|     18,570|2008|    3|11~20|서울특별시|     종로구|   적선동|11110|   광화문 플래티넘|    6|                 45.36|  서울특별시 종로구  적선동|             156|\n",
      "|  1|      2003|     19,550|2008|    3|11~20|서울특별시|     종로구|   적선동|11110|   광화문 플래티넘|   13|                 45.36|  서울특별시 종로구  적선동|             156|\n",
      "|  2|      2004|     15,300|2008|    3| 1~10|서울특별시|     종로구|   내수동|11110|경희궁의 아침 2단지|    7|                 29.41|  서울특별시 종로구  내수동|              71|\n",
      "|  3|      2004|     18,000|2008|    3| 1~10|서울특별시|     종로구|   내수동|11110|      용비어천가|    7|                 37.56|  서울특별시 종로구  내수동|              75|\n",
      "|  4|      2004|     29,000|2008|    3| 1~10|서울특별시|     종로구|   내수동|11110|경희궁의 아침 2단지|    5|                  57.8|  서울특별시 종로구  내수동|              71|\n",
      "|  5|      2004|     17,500|2008|    3| 1~10|서울특별시|     종로구|   내수동|11110|경희궁의 아침 3단지|    3|                  37.5|  서울특별시 종로구  내수동|              72|\n",
      "|  6|      2004|     15,000|2008|    3| 1~10|서울특별시|     종로구|   내수동|11110|      광화문시대|   17|                 31.37|  서울특별시 종로구  내수동|              74|\n",
      "|  7|      2004|     31,000|2008|    3| 1~10|서울특별시|     종로구|   내수동|11110|경희궁의 아침 4단지|   14|                 56.48|  서울특별시 종로구  내수동|              73|\n",
      "|  8|      2004|     27,000|2008|    3|11~20|서울특별시|     종로구|   내수동|11110|      용비어천가|   15|                 45.89|  서울특별시 종로구  내수동|              75|\n",
      "|  9|      2004|     35,250|2008|    3|11~20|서울특별시|     종로구|   내수동|11110|경희궁의 아침 3단지|    9|                 63.96|  서울특별시 종로구  내수동|              72|\n",
      "| 10|      2004|     15,000|2008|    3|11~20|서울특별시|     종로구|   내수동|11110|      광화문시대|    2|                 32.01|  서울특별시 종로구  내수동|              74|\n",
      "| 11|      2004|     16,900|2008|    3|11~20|서울특별시|     종로구|   내수동|11110|      광화문시대|    9|                  34.9|  서울특별시 종로구  내수동|              74|\n",
      "| 12|      2004|     14,800|2008|    3|11~20|서울특별시|     종로구|   내수동|11110|      용비어천가|    4|                  33.0|  서울특별시 종로구  내수동|              75|\n",
      "| 13|      2004|     19,800|2008|    3|21~31|서울특별시|     종로구|   내수동|11110|      용비어천가|    7|                 42.39|  서울특별시 종로구  내수동|              75|\n",
      "| 14|      2004|     39,000|2008|    3|21~31|서울특별시|     종로구|   내수동|11110|경희궁의 아침 3단지|    8|                 71.01|  서울특별시 종로구  내수동|              72|\n",
      "| 15|      2004|     19,250|2008|    3|21~31|서울특별시|     종로구|   내수동|11110|      용비어천가|   15|                 41.34|  서울특별시 종로구  내수동|              75|\n",
      "| 16|      2004|     39,000|2008|    3|21~31|서울특별시|     종로구|   내수동|11110|경희궁의 아침 3단지|    8|                 71.01|  서울특별시 종로구  내수동|              72|\n",
      "| 17|      2004|     18,000|2008|    3|21~31|서울특별시|     종로구|   내수동|11110|      용비어천가|   16|                 42.83|  서울특별시 종로구  내수동|              75|\n",
      "| 18|      2005|     25,250|2008|    3|11~20|서울특별시|     종로구| 신문로1가|11110|  광화문오피시아빌딩|   23|                 41.71|서울특별시 종로구  신문로1가|             163|\n",
      "| 19|      2005|     25,700|2008|    3|21~31|서울특별시|     종로구| 신문로1가|11110|  광화문오피시아빌딩|   19|                 41.71|서울특별시 종로구  신문로1가|             163|\n",
      "+---+----------+-----------+----+-----+-----+-----+--------+------+-----+-----------+-----+----------------------+----------------+----------------+\n",
      "only showing top 20 rows\n",
      "\n"
     ]
    },
    {
     "data": {
      "text/plain": [
       "351810"
      ]
     },
     "execution_count": 10,
     "metadata": {},
     "output_type": "execute_result"
    }
   ],
   "source": [
    "df.show()\n",
    "df.count()"
   ]
  },
  {
   "cell_type": "code",
   "execution_count": 11,
   "metadata": {
    "scrolled": true
   },
   "outputs": [],
   "source": [
    "#filter_df = df.filter((df[\"detailed_address\"] == \"\") | df[\"detailed_address\"].isNull() | isnan(df[\"detailed_address\"]))\n",
    "#filter_df.show()\n",
    "#filter_df.count() == 36\n",
    "\n",
    "filter_df = df.na.drop()\n",
    "\n"
   ]
  },
  {
   "cell_type": "code",
   "execution_count": 12,
   "metadata": {},
   "outputs": [],
   "source": [
    "from pyspark.sql.functions import *"
   ]
  },
  {
   "cell_type": "code",
   "execution_count": 13,
   "metadata": {},
   "outputs": [],
   "source": [
    "unique_date_df = filter_df.groupBy(filter_df.year,filter_df.month, filter_df.day).agg(count(\"day\").alias('count'))\n",
    "\n",
    "unique_date_list = unique_date_df.collect()\n",
    "\n",
    "new_date_list = []\n",
    "\n",
    "for unique_date in unique_date_list:\n",
    "    if unique_date[1] < 10 :\n",
    "        if int(unique_date[2].split('~')[0]) < 10 : \n",
    "            date = str(unique_date[0]) + '-' + '0' + str(unique_date[1]) + '-' + '0' +unique_date[2].split('~')[0] + 'T' + \"00:00:00\"\n",
    "        else:\n",
    "            date = str(unique_date[0]) + '-' + '0' + str(unique_date[1]) + '-' +unique_date[2].split('~')[0] + 'T' + \"00:00:00\"\n",
    "        \n",
    "    else:\n",
    "        if int(unique_date[2].split('~')[0]) < 10 : \n",
    "            date = str(unique_date[0]) + '-' + str(unique_date[1]) + '-' + '0' +unique_date[2].split('~')[0] + 'T' + \"00:00:00\"\n",
    "    \n",
    "        else:\n",
    "            date = str(unique_date[0]) + '-' + str(unique_date[1]) + '-' +unique_date[2].split('~')[0] + 'T' + \"00:00:00\"\n",
    "    \n",
    "    \n",
    "    new_date_list.append([unique_date[0], unique_date[1],unique_date[2],date])\n",
    "    \n",
    "    \n",
    "unique_date_df = sc.parallelize(new_date_list).toDF(['year','month','day','date'])"
   ]
  },
  {
   "cell_type": "code",
   "execution_count": 14,
   "metadata": {},
   "outputs": [
    {
     "name": "stdout",
     "output_type": "stream",
     "text": [
      "+----+-----+----+---+----------+-----------+-----+--------+-----+-----+--------------+-----+----------------------+---------------+----------------+-------------------+\n",
      "|year|month| day|_c0|build_year|trade_price| city|sub_city| dong| code|          name|floor|exclusive_private_area|        address|detailed_address|               date|\n",
      "+----+-----+----+---+----------+-----------+-----+--------+-----+-----+--------------+-----+----------------------+---------------+----------------+-------------------+\n",
      "|2008|    1|1~10| 50|      2005|      5,800|서울특별시|     종로구|  숭인동|11110|      엘리시앙오피스텔|   13|                 27.36| 서울특별시 종로구  숭인동|          200-33|2008-01-01T00:00:00|\n",
      "|2008|    1|1~10| 36|      2007|     35,800|서울특별시|     종로구| 종로1가|11110|    르메이에르종로타운1|    8|                  57.5|서울특별시 종로구  종로1가|              24|2008-01-01T00:00:00|\n",
      "|2008|    1|1~10| 49|      2005|      4,500|서울특별시|     종로구|  숭인동|11110|      엘리시앙오피스텔|   12|                 20.64| 서울특별시 종로구  숭인동|          200-33|2008-01-01T00:00:00|\n",
      "|2008|    1|1~10|  7|      2004|     17,362|서울특별시|     종로구|  내수동|11110|   경희궁의 아침 4단지|   14|                 41.74| 서울특별시 종로구  내수동|              73|2008-01-01T00:00:00|\n",
      "|2008|    1|1~10| 30|      2004|     14,800|서울특별시|     종로구|  수송동|11110|      두산위브파빌리온|    5|                 37.42| 서울특별시 종로구  수송동|              58|2008-01-01T00:00:00|\n",
      "|2008|    1|1~10| 43|      2004|     15,900|서울특별시|     종로구|  낙원동|11110|           나스빌|    5|                 38.92| 서울특별시 종로구  낙원동|             212|2008-01-01T00:00:00|\n",
      "|2008|    1|1~10| 48|      2005|     20,976|서울특별시|     종로구|  숭인동|11110|      엘리시앙오피스텔|   12|                  67.2| 서울특별시 종로구  숭인동|          200-33|2008-01-01T00:00:00|\n",
      "|2008|    1|1~10|  2|      2007|     45,815|서울특별시|     종로구|  필운동|11110|신동아 블루아 광화문의 꿈|    3|                133.58| 서울특별시 종로구  필운동|             254|2008-01-01T00:00:00|\n",
      "|2008|    1|1~10|  6|      2004|     15,000|서울특별시|     종로구|  내수동|11110|         광화문시대|    4|                  33.3| 서울특별시 종로구  내수동|              74|2008-01-01T00:00:00|\n",
      "|2008|    1|1~10|  9|      2004|     19,092|서울특별시|     종로구|  내수동|11110|         용비어천가|    5|                 37.56| 서울특별시 종로구  내수동|              75|2008-01-01T00:00:00|\n",
      "|2008|    1|1~10| 10|      2004|     16,000|서울특별시|     종로구|  내수동|11110|         용비어천가|   15|                 34.45| 서울특별시 종로구  내수동|              75|2008-01-01T00:00:00|\n",
      "|2008|    1|1~10| 38|      2005|     16,721|서울특별시|     종로구|  경운동|11110|   운현궁 에스케이 허브|    9|                 35.36| 서울특별시 종로구  경운동|            89-4|2008-01-01T00:00:00|\n",
      "|2008|    1|1~10| 40|      2005|     11,000|서울특별시|     종로구|  관철동|11110|         종로1번가|   13|                 23.98| 서울특별시 종로구  관철동|             155|2008-01-01T00:00:00|\n",
      "|2008|    1|1~10| 46|      2001|      7,500|서울특별시|     종로구|  연건동|11110|       대보마로니에텔|    7|                 26.52| 서울특별시 종로구  연건동|             206|2008-01-01T00:00:00|\n",
      "|2008|    1|1~10| 47|      2005|     19,133|서울특별시|     종로구|  숭인동|11110|      엘리시앙오피스텔|    4|                  67.2| 서울특별시 종로구  숭인동|          200-33|2008-01-01T00:00:00|\n",
      "|2008|    1|1~10|  0|      2003|     19,550|서울특별시|     종로구|  적선동|11110|      광화문 플래티넘|   16|                 45.36| 서울특별시 종로구  적선동|             156|2008-01-01T00:00:00|\n",
      "|2008|    1|1~10|  1|      2003|     19,550|서울특별시|     종로구|  적선동|11110|      광화문 플래티넘|   13|                 45.36| 서울특별시 종로구  적선동|             156|2008-01-01T00:00:00|\n",
      "|2008|    1|1~10|  4|      2004|     13,700|서울특별시|     종로구|  내수동|11110|   경희궁의 아침 4단지|   12|                 28.24| 서울특별시 종로구  내수동|              73|2008-01-01T00:00:00|\n",
      "|2008|    1|1~10|  5|      2004|     16,500|서울특별시|     종로구|  내수동|11110|         용비어천가|    9|                 37.56| 서울특별시 종로구  내수동|              75|2008-01-01T00:00:00|\n",
      "|2008|    1|1~10|  8|      2004|     16,500|서울특별시|     종로구|  내수동|11110|         용비어천가|    3|                 37.56| 서울특별시 종로구  내수동|              75|2008-01-01T00:00:00|\n",
      "+----+-----+----+---+----------+-----------+-----+--------+-----+-----+--------------+-----+----------------------+---------------+----------------+-------------------+\n",
      "only showing top 20 rows\n",
      "\n"
     ]
    },
    {
     "data": {
      "text/plain": [
       "349140"
      ]
     },
     "execution_count": 14,
     "metadata": {},
     "output_type": "execute_result"
    }
   ],
   "source": [
    "added_date_df = filter_df.join(unique_date_df, ['year','month','day']).sort('date')\n",
    "added_date_df.show()\n",
    "added_date_df.count()"
   ]
  },
  {
   "cell_type": "code",
   "execution_count": 15,
   "metadata": {},
   "outputs": [
    {
     "name": "stdout",
     "output_type": "stream",
     "text": [
      "+-----------------+----------------+-----+\n",
      "|          address|detailed_address|count|\n",
      "+-----------------+----------------+-----+\n",
      "|  서울특별시 동대문구  이문동|          325-20|   78|\n",
      "|  서울특별시 서대문구  창천동|           29-81|  227|\n",
      "|   부산광역시 금정구  구서동|          192-11|   34|\n",
      "|   대전광역시 유성구  지족동|           863-2|   58|\n",
      "|  경기도 안산시 상록구  사동|          1197-4|  136|\n",
      "|부산광역시 기장군 기장읍 대라리|           500-6|   35|\n",
      "|  서울특별시 중구  의주로1가|            32-2|   35|\n",
      "|  경기도 평택시 안중읍 안중리|          252-33|   27|\n",
      "|경상남도 창원시 성산구  상남동|            11-6|   22|\n",
      "|      경기도 부천시  상동|           449-1|    6|\n",
      "|   서울특별시 강북구  수유동|            48-1|   36|\n",
      "|   인천광역시 남동구  만수동|             867|    4|\n",
      "|  경기도 화성시 남양읍 남양리|          1265-3|   14|\n",
      "|   서울특별시 강동구  암사동|           502-3|   11|\n",
      "| 경기도 수원시 영통구  이의동|            1330|   52|\n",
      "|   부산광역시 동래구  온천동|          151-22|    1|\n",
      "|   부산광역시 수영구  광안동|          372-13|    4|\n",
      "|   부산광역시 금정구  장전동|          364-24|   20|\n",
      "|  부산광역시 부산진구  부전동|           414-2|   20|\n",
      "|부산광역시 기장군 기장읍 동부리|           126-5|    2|\n",
      "+-----------------+----------------+-----+\n",
      "only showing top 20 rows\n",
      "\n"
     ]
    },
    {
     "data": {
      "text/plain": [
       "8189"
      ]
     },
     "execution_count": 15,
     "metadata": {},
     "output_type": "execute_result"
    }
   ],
   "source": [
    "new_df = added_date_df.groupBy(added_date_df.address,added_date_df.detailed_address).agg(count(\"detailed_address\").alias(\"count\"))\n",
    "new_df.show()\n",
    "new_df.count()"
   ]
  },
  {
   "cell_type": "code",
   "execution_count": 16,
   "metadata": {},
   "outputs": [],
   "source": [
    "sum = new_df.select(sum(\"count\"))"
   ]
  },
  {
   "cell_type": "code",
   "execution_count": 17,
   "metadata": {},
   "outputs": [
    {
     "name": "stdout",
     "output_type": "stream",
     "text": [
      "+----------+\n",
      "|sum(count)|\n",
      "+----------+\n",
      "|    349140|\n",
      "+----------+\n",
      "\n"
     ]
    }
   ],
   "source": [
    "sum.show()"
   ]
  },
  {
   "cell_type": "code",
   "execution_count": 18,
   "metadata": {},
   "outputs": [
    {
     "name": "stdout",
     "output_type": "stream",
     "text": [
      "서울특별시 동대문구  이문동\n"
     ]
    }
   ],
   "source": [
    "unique_address_list = new_df.collect()\n",
    "print unique_address_list[0][0]"
   ]
  },
  {
   "cell_type": "code",
   "execution_count": 19,
   "metadata": {
    "scrolled": true
   },
   "outputs": [
    {
     "name": "stdout",
     "output_type": "stream",
     "text": [
      "8189\n",
      "1.22% completed\n",
      "2.44% completed\n",
      "3.66% completed\n",
      "4.88% completed\n",
      "6.11% completed\n",
      "7.33% completed\n",
      "8.55% completed\n",
      "9.77% completed\n",
      "10.99% completed\n",
      "12.21% completed\n",
      "error address: 인천광역시 부평구  부평동 180-24\n",
      "1\n",
      "13.43% completed\n",
      "14.65% completed\n",
      "15.87% completed\n",
      "17.10% completed\n",
      "18.32% completed\n",
      "19.54% completed\n",
      "20.76% completed\n",
      "21.98% completed\n",
      "23.20% completed\n",
      "24.42% completed\n",
      "25.64% completed\n",
      "26.87% completed\n",
      "28.09% completed\n",
      "29.31% completed\n",
      "30.53% completed\n",
      "31.75% completed\n",
      "32.97% completed\n",
      "34.19% completed\n",
      "35.41% completed\n",
      "36.63% completed\n",
      "37.86% completed\n",
      "39.08% completed\n",
      "40.30% completed\n",
      "41.52% completed\n",
      "42.74% completed\n",
      "43.96% completed\n",
      "45.18% completed\n",
      "46.40% completed\n",
      "47.62% completed\n",
      "48.85% completed\n",
      "50.07% completed\n",
      "51.29% completed\n",
      "52.51% completed\n",
      "53.73% completed\n",
      "54.95% completed\n",
      "56.17% completed\n",
      "57.39% completed\n",
      "58.62% completed\n",
      "59.84% completed\n",
      "61.06% completed\n",
      "62.28% completed\n",
      "63.50% completed\n",
      "64.72% completed\n",
      "65.94% completed\n",
      "67.16% completed\n",
      "68.38% completed\n",
      "69.61% completed\n",
      "70.83% completed\n",
      "72.05% completed\n",
      "73.27% completed\n",
      "74.49% completed\n",
      "75.71% completed\n",
      "76.93% completed\n",
      "78.15% completed\n",
      "79.37% completed\n",
      "80.60% completed\n",
      "81.82% completed\n",
      "83.04% completed\n",
      "84.26% completed\n",
      "85.48% completed\n",
      "86.70% completed\n",
      "87.92% completed\n",
      "89.14% completed\n",
      "90.37% completed\n",
      "91.59% completed\n",
      "92.81% completed\n",
      "94.03% completed\n",
      "95.25% completed\n",
      "96.47% completed\n",
      "97.69% completed\n",
      "98.91% completed\n"
     ]
    }
   ],
   "source": [
    "location_list = []\n",
    "\n",
    "# checking why no result data\n",
    "# response = get_location(\"경상북도 영천시 신령면 완전리\") -> 신녕면\n",
    "# print response.status_code\n",
    "# data = response.json()\n",
    "# print data\n",
    "\n",
    "index = 1.0;\n",
    "length = len(unique_address_list)\n",
    "count = 0;\n",
    "\n",
    "print length \n",
    "\n",
    "for address in unique_address_list:    \n",
    "    full_address = (address[0] + \" \" + address[1]).encode('utf8')\n",
    "    #print str(\"full \" + full_address)\n",
    "    response = get_location(full_address)\n",
    "\n",
    "    if response.status_code == 200 :\n",
    "        \n",
    "        data = response.json()\n",
    "        \n",
    "        \n",
    "        x = data['result']['items'][0]['point']['x']\n",
    "        y = data['result']['items'][0]['point']['y']\n",
    "    \n",
    "        location_list.append([address[0],address[1],y,x])\n",
    "        \n",
    "    else: \n",
    "        print str(\"error address: \" + full_address)\n",
    "        count += 1\n",
    "        print count\n",
    "        \n",
    "        location_list.append([address[0],address[1] ,np.nan,np.nan])\n",
    "    \n",
    "    if(index % 100 == 0):\n",
    "        print (\"%0.2f\" % (index / length * 100.0)) + \"% completed\"\n",
    "        \n",
    "    index += 1.0\n",
    "\n",
    "     "
   ]
  },
  {
   "cell_type": "code",
   "execution_count": 20,
   "metadata": {},
   "outputs": [
    {
     "name": "stdout",
     "output_type": "stream",
     "text": [
      "+-----------------+----------------+----------+-----------+\n",
      "|          address|detailed_address|  latitude|  longitude|\n",
      "+-----------------+----------------+----------+-----------+\n",
      "|  서울특별시 동대문구  이문동|          325-20|37.5944677|127.0593227|\n",
      "|  서울특별시 서대문구  창천동|           29-81| 37.556057|126.9382413|\n",
      "|   부산광역시 금정구  구서동|          192-11|35.2542948|129.0893518|\n",
      "|   대전광역시 유성구  지족동|           863-2|36.3825628|127.3205555|\n",
      "|  경기도 안산시 상록구  사동|          1197-4|37.3017055|126.8511012|\n",
      "|부산광역시 기장군 기장읍 대라리|           500-6|35.2424389|129.2117922|\n",
      "|  서울특별시 중구  의주로1가|            32-2|37.5643082| 126.968413|\n",
      "|  경기도 평택시 안중읍 안중리|          252-33|36.9881887|126.9255043|\n",
      "|경상남도 창원시 성산구  상남동|            11-6| 35.222296|128.6851114|\n",
      "|      경기도 부천시  상동|           449-1|37.4899962|126.7565083|\n",
      "|   서울특별시 강북구  수유동|            48-1|37.6344091|127.0228738|\n",
      "|   인천광역시 남동구  만수동|             867|37.4603807|126.7289466|\n",
      "|  경기도 화성시 남양읍 남양리|          1265-3|37.2101135|126.8181706|\n",
      "|   서울특별시 강동구  암사동|           502-3|37.5509491|127.1269475|\n",
      "| 경기도 수원시 영통구  이의동|            1330|37.2924897|127.0491615|\n",
      "|   부산광역시 동래구  온천동|          151-22|  35.22181| 129.084597|\n",
      "|   부산광역시 수영구  광안동|          372-13|35.1522973|129.1126209|\n",
      "|   부산광역시 금정구  장전동|          364-24|35.2349315|129.0886999|\n",
      "|  부산광역시 부산진구  부전동|           414-2| 35.160133|129.0539069|\n",
      "|부산광역시 기장군 기장읍 동부리|           126-5|35.2465033|129.2145274|\n",
      "+-----------------+----------------+----------+-----------+\n",
      "only showing top 20 rows\n",
      "\n"
     ]
    }
   ],
   "source": [
    "#print location_list[0]\n",
    "\n",
    "\n",
    "#checking_df = df.filter(df.address == \"인천광역시 서구  왕길동\").filter(df.detailed_address == \"가-81-1\")\n",
    "\n",
    "#checking_df.show()\n",
    "#print(checking_df.count())\n",
    "\n",
    "                \n",
    "location = sc.parallelize(location_list).toDF(['address','detailed_address','latitude','longitude'])\n",
    "location.show()"
   ]
  },
  {
   "cell_type": "code",
   "execution_count": 21,
   "metadata": {},
   "outputs": [
    {
     "data": {
      "text/plain": [
       "8189"
      ]
     },
     "execution_count": 21,
     "metadata": {},
     "output_type": "execute_result"
    }
   ],
   "source": [
    "location.count()"
   ]
  },
  {
   "cell_type": "code",
   "execution_count": 22,
   "metadata": {},
   "outputs": [],
   "source": [
    "# error \n",
    "#new_df_id = new_df.withColumn('id', monotonically_increasing_id())\n",
    "#new_df_id.show()\n",
    "#new_df_id.count()\n",
    "#new_df_id.filter(new_df_id.id == '10000').show()\n",
    "#add_df.count()\n",
    "\n",
    "\n",
    "#location_id = location.withColumn('id', row_number().over (Window.partitionBy().partitionBy(location['logitude']).orderBy(lit(1))))\n",
    "#location_id.show()\n",
    "#location_id.count()\n",
    "\n",
    "#location_id.filter(location_id.id == '37777').show()\n",
    "\n",
    "\n",
    "#add_df = new_df_id.select('address', 'detailed_address','id').join(location_id , new_df_id.id == location_id.id).drop(new_df_id.id)\n",
    "#add_df.orderBy('id', ascending=True).show()\n",
    "#add_df.count()"
   ]
  },
  {
   "cell_type": "code",
   "execution_count": 23,
   "metadata": {},
   "outputs": [],
   "source": [
    "joined_df = added_date_df.join(location.select('address','detailed_address','latitude','longitude'), ['address','detailed_address'])"
   ]
  },
  {
   "cell_type": "code",
   "execution_count": 24,
   "metadata": {},
   "outputs": [
    {
     "name": "stdout",
     "output_type": "stream",
     "text": [
      "+----------------+----------------+----+-----+-----+---+----------+-----------+----+--------+----+-----+------------+-----+----------------------+-------------------+----------+-----------+\n",
      "|         address|detailed_address|year|month|  day|_c0|build_year|trade_price|city|sub_city|dong| code|        name|floor|exclusive_private_area|               date|  latitude|  longitude|\n",
      "+----------------+----------------+----+-----+-----+---+----------+-----------+----+--------+----+-----+------------+-----+----------------------+-------------------+----------+-----------+\n",
      "|     경기도 부천시  상동|           449-1|2011|    4| 1~10| 99|      1996|      9,800| 경기도|     부천시|  상동|41190|     동아하이츠빌딩|    8|                 62.74|2011-04-01T00:00:00|37.4899962|126.7565083|\n",
      "|     경기도 부천시  상동|           449-1|2012|    9| 1~10| 31|      1996|      9,000| 경기도|     부천시|  상동|41190|     동아하이츠빌딩|    9|                 62.74|2012-09-01T00:00:00|37.4899962|126.7565083|\n",
      "|     경기도 부천시  상동|           449-1|2015|    3|21~31|144|      1996|      6,000| 경기도|     부천시|  상동|41190|     동아하이츠빌딩|    8|                 49.41|2015-03-21T00:00:00|37.4899962|126.7565083|\n",
      "|     경기도 부천시  상동|           449-1|2015|    3|21~31|145|      1996|      3,800| 경기도|     부천시|  상동|41190|     동아하이츠빌딩|    8|                  32.4|2015-03-21T00:00:00|37.4899962|126.7565083|\n",
      "|     경기도 부천시  상동|           449-1|2015|   11|11~20| 94|      1996|      6,500| 경기도|     부천시|  상동|41190|     동아하이츠빌딩|    9|                 57.35|2015-11-11T00:00:00|37.4899962|126.7565083|\n",
      "|     경기도 부천시  상동|           449-1|2015|   11|11~20| 95|      1996|      8,500| 경기도|     부천시|  상동|41190|     동아하이츠빌딩|    9|                 78.96|2015-11-11T00:00:00|37.4899962|126.7565083|\n",
      "|    경기도 부천시  심곡동|          373-11|2017|    5|11~20|  3|      2014|     18,000| 경기도|     부천시| 심곡동|41190|       스타파크빌|    3|                 75.91|2017-05-11T00:00:00| 37.490205|126.7814637|\n",
      "|경기도 수원시 영통구  이의동|            1330|2013|    5| 1~10|  0|      2012|     14,099| 경기도| 수원시 영통구| 이의동|41117|광교서희스타힐스오피스텔|    9|                 29.87|2013-05-01T00:00:00|37.2924897|127.0491615|\n",
      "|경기도 수원시 영통구  이의동|            1330|2014|    5|21~31|  3|      2012|      8,500| 경기도| 수원시 영통구| 이의동|41117|광교서희스타힐스오피스텔|    5|                 29.85|2014-05-21T00:00:00|37.2924897|127.0491615|\n",
      "|경기도 수원시 영통구  이의동|            1330|2014|    5|21~31|  4|      2012|      8,500| 경기도| 수원시 영통구| 이의동|41117|광교서희스타힐스오피스텔|    7|                 29.85|2014-05-21T00:00:00|37.2924897|127.0491615|\n",
      "|경기도 수원시 영통구  이의동|            1330|2014|    5|21~31|  5|      2012|      8,500| 경기도| 수원시 영통구| 이의동|41117|광교서희스타힐스오피스텔|    7|                 29.85|2014-05-21T00:00:00|37.2924897|127.0491615|\n",
      "|경기도 수원시 영통구  이의동|            1330|2014|    5|21~31|  6|      2012|      8,500| 경기도| 수원시 영통구| 이의동|41117|광교서희스타힐스오피스텔|    6|                 29.85|2014-05-21T00:00:00|37.2924897|127.0491615|\n",
      "|경기도 수원시 영통구  이의동|            1330|2014|    5|21~31|  7|      2012|      8,500| 경기도| 수원시 영통구| 이의동|41117|광교서희스타힐스오피스텔|    7|                 29.85|2014-05-21T00:00:00|37.2924897|127.0491615|\n",
      "|경기도 수원시 영통구  이의동|            1330|2014|    5|21~31|  8|      2012|      8,500| 경기도| 수원시 영통구| 이의동|41117|광교서희스타힐스오피스텔|    8|                 29.85|2014-05-21T00:00:00|37.2924897|127.0491615|\n",
      "|경기도 수원시 영통구  이의동|            1330|2014|    5|21~31|  9|      2012|      8,500| 경기도| 수원시 영통구| 이의동|41117|광교서희스타힐스오피스텔|    7|                 29.87|2014-05-21T00:00:00|37.2924897|127.0491615|\n",
      "|경기도 수원시 영통구  이의동|            1330|2014|    5|21~31| 10|      2012|      8,500| 경기도| 수원시 영통구| 이의동|41117|광교서희스타힐스오피스텔|    4|                 29.85|2014-05-21T00:00:00|37.2924897|127.0491615|\n",
      "|경기도 수원시 영통구  이의동|            1330|2014|    5|21~31| 11|      2012|      8,500| 경기도| 수원시 영통구| 이의동|41117|광교서희스타힐스오피스텔|    7|                 29.85|2014-05-21T00:00:00|37.2924897|127.0491615|\n",
      "|경기도 수원시 영통구  이의동|            1330|2014|    5|21~31| 12|      2012|      8,200| 경기도| 수원시 영통구| 이의동|41117|광교서희스타힐스오피스텔|    9|                 28.96|2014-05-21T00:00:00|37.2924897|127.0491615|\n",
      "|경기도 수원시 영통구  이의동|            1330|2014|    5|21~31| 13|      2012|      8,200| 경기도| 수원시 영통구| 이의동|41117|광교서희스타힐스오피스텔|    8|                 28.96|2014-05-21T00:00:00|37.2924897|127.0491615|\n",
      "|경기도 수원시 영통구  이의동|            1330|2014|    5|21~31| 14|      2012|      8,200| 경기도| 수원시 영통구| 이의동|41117|광교서희스타힐스오피스텔|    4|                 28.96|2014-05-21T00:00:00|37.2924897|127.0491615|\n",
      "+----------------+----------------+----+-----+-----+---+----------+-----------+----+--------+----+-----+------------+-----+----------------------+-------------------+----------+-----------+\n",
      "only showing top 20 rows\n",
      "\n"
     ]
    },
    {
     "data": {
      "text/plain": [
       "349140"
      ]
     },
     "execution_count": 24,
     "metadata": {},
     "output_type": "execute_result"
    }
   ],
   "source": [
    "joined_df.show()\n",
    "joined_df.count()"
   ]
  },
  {
   "cell_type": "code",
   "execution_count": 25,
   "metadata": {},
   "outputs": [
    {
     "name": "stdout",
     "output_type": "stream",
     "text": [
      "+----------------+----------------+----+-----+-----+----------+-----------+----+--------+----+-----+------------+-----+----------------------+-------------------+----------+-----------+\n",
      "|         address|detailed_address|year|month|  day|build_year|trade_price|city|sub_city|dong| code|        name|floor|exclusive_private_area|               date|  latitude|  longitude|\n",
      "+----------------+----------------+----+-----+-----+----------+-----------+----+--------+----+-----+------------+-----+----------------------+-------------------+----------+-----------+\n",
      "|     경기도 부천시  상동|           449-1|2011|    4| 1~10|      1996|      9,800| 경기도|     부천시|  상동|41190|     동아하이츠빌딩|    8|                 62.74|2011-04-01T00:00:00|37.4899962|126.7565083|\n",
      "|     경기도 부천시  상동|           449-1|2012|    9| 1~10|      1996|      9,000| 경기도|     부천시|  상동|41190|     동아하이츠빌딩|    9|                 62.74|2012-09-01T00:00:00|37.4899962|126.7565083|\n",
      "|     경기도 부천시  상동|           449-1|2015|    3|21~31|      1996|      6,000| 경기도|     부천시|  상동|41190|     동아하이츠빌딩|    8|                 49.41|2015-03-21T00:00:00|37.4899962|126.7565083|\n",
      "|     경기도 부천시  상동|           449-1|2015|    3|21~31|      1996|      3,800| 경기도|     부천시|  상동|41190|     동아하이츠빌딩|    8|                  32.4|2015-03-21T00:00:00|37.4899962|126.7565083|\n",
      "|     경기도 부천시  상동|           449-1|2015|   11|11~20|      1996|      6,500| 경기도|     부천시|  상동|41190|     동아하이츠빌딩|    9|                 57.35|2015-11-11T00:00:00|37.4899962|126.7565083|\n",
      "|     경기도 부천시  상동|           449-1|2015|   11|11~20|      1996|      8,500| 경기도|     부천시|  상동|41190|     동아하이츠빌딩|    9|                 78.96|2015-11-11T00:00:00|37.4899962|126.7565083|\n",
      "|    경기도 부천시  심곡동|          373-11|2017|    5|11~20|      2014|     18,000| 경기도|     부천시| 심곡동|41190|       스타파크빌|    3|                 75.91|2017-05-11T00:00:00| 37.490205|126.7814637|\n",
      "|경기도 수원시 영통구  이의동|            1330|2013|    5| 1~10|      2012|     14,099| 경기도| 수원시 영통구| 이의동|41117|광교서희스타힐스오피스텔|    9|                 29.87|2013-05-01T00:00:00|37.2924897|127.0491615|\n",
      "|경기도 수원시 영통구  이의동|            1330|2014|    5|21~31|      2012|      8,500| 경기도| 수원시 영통구| 이의동|41117|광교서희스타힐스오피스텔|    5|                 29.85|2014-05-21T00:00:00|37.2924897|127.0491615|\n",
      "|경기도 수원시 영통구  이의동|            1330|2014|    5|21~31|      2012|      8,500| 경기도| 수원시 영통구| 이의동|41117|광교서희스타힐스오피스텔|    7|                 29.85|2014-05-21T00:00:00|37.2924897|127.0491615|\n",
      "|경기도 수원시 영통구  이의동|            1330|2014|    5|21~31|      2012|      8,500| 경기도| 수원시 영통구| 이의동|41117|광교서희스타힐스오피스텔|    7|                 29.85|2014-05-21T00:00:00|37.2924897|127.0491615|\n",
      "|경기도 수원시 영통구  이의동|            1330|2014|    5|21~31|      2012|      8,500| 경기도| 수원시 영통구| 이의동|41117|광교서희스타힐스오피스텔|    6|                 29.85|2014-05-21T00:00:00|37.2924897|127.0491615|\n",
      "|경기도 수원시 영통구  이의동|            1330|2014|    5|21~31|      2012|      8,500| 경기도| 수원시 영통구| 이의동|41117|광교서희스타힐스오피스텔|    7|                 29.85|2014-05-21T00:00:00|37.2924897|127.0491615|\n",
      "|경기도 수원시 영통구  이의동|            1330|2014|    5|21~31|      2012|      8,500| 경기도| 수원시 영통구| 이의동|41117|광교서희스타힐스오피스텔|    8|                 29.85|2014-05-21T00:00:00|37.2924897|127.0491615|\n",
      "|경기도 수원시 영통구  이의동|            1330|2014|    5|21~31|      2012|      8,500| 경기도| 수원시 영통구| 이의동|41117|광교서희스타힐스오피스텔|    7|                 29.87|2014-05-21T00:00:00|37.2924897|127.0491615|\n",
      "|경기도 수원시 영통구  이의동|            1330|2014|    5|21~31|      2012|      8,500| 경기도| 수원시 영통구| 이의동|41117|광교서희스타힐스오피스텔|    4|                 29.85|2014-05-21T00:00:00|37.2924897|127.0491615|\n",
      "|경기도 수원시 영통구  이의동|            1330|2014|    5|21~31|      2012|      8,500| 경기도| 수원시 영통구| 이의동|41117|광교서희스타힐스오피스텔|    7|                 29.85|2014-05-21T00:00:00|37.2924897|127.0491615|\n",
      "|경기도 수원시 영통구  이의동|            1330|2014|    5|21~31|      2012|      8,200| 경기도| 수원시 영통구| 이의동|41117|광교서희스타힐스오피스텔|    9|                 28.96|2014-05-21T00:00:00|37.2924897|127.0491615|\n",
      "|경기도 수원시 영통구  이의동|            1330|2014|    5|21~31|      2012|      8,200| 경기도| 수원시 영통구| 이의동|41117|광교서희스타힐스오피스텔|    8|                 28.96|2014-05-21T00:00:00|37.2924897|127.0491615|\n",
      "|경기도 수원시 영통구  이의동|            1330|2014|    5|21~31|      2012|      8,200| 경기도| 수원시 영통구| 이의동|41117|광교서희스타힐스오피스텔|    4|                 28.96|2014-05-21T00:00:00|37.2924897|127.0491615|\n",
      "+----------------+----------------+----+-----+-----+----------+-----------+----+--------+----+-----+------------+-----+----------------------+-------------------+----------+-----------+\n",
      "only showing top 20 rows\n",
      "\n"
     ]
    },
    {
     "data": {
      "text/plain": [
       "349140"
      ]
     },
     "execution_count": 25,
     "metadata": {},
     "output_type": "execute_result"
    }
   ],
   "source": [
    "drop_index_df = joined_df.drop(\"_c0\")\n",
    "drop_index_df.show()\n",
    "drop_index_df.count()"
   ]
  },
  {
   "cell_type": "code",
   "execution_count": 27,
   "metadata": {},
   "outputs": [
    {
     "name": "stdout",
     "output_type": "stream",
     "text": [
      "+----------------+----------------+----+-----+-----+----------+-----------+----+--------+----+-----+------------+-----+----------------------+-------------------+----------+-----------+\n",
      "|         address|detailed_address|year|month|  day|build_year|trade_price|city|sub_city|dong| code|        name|floor|exclusive_private_area|               date|  latitude|  longitude|\n",
      "+----------------+----------------+----+-----+-----+----------+-----------+----+--------+----+-----+------------+-----+----------------------+-------------------+----------+-----------+\n",
      "|     경기도 부천시  상동|           449-1|2011|    4| 1~10|      1996|       9800| 경기도|     부천시|  상동|41190|     동아하이츠빌딩|    8|                 62.74|2011-04-01T00:00:00|37.4899962|126.7565083|\n",
      "|     경기도 부천시  상동|           449-1|2012|    9| 1~10|      1996|       9000| 경기도|     부천시|  상동|41190|     동아하이츠빌딩|    9|                 62.74|2012-09-01T00:00:00|37.4899962|126.7565083|\n",
      "|     경기도 부천시  상동|           449-1|2015|    3|21~31|      1996|       6000| 경기도|     부천시|  상동|41190|     동아하이츠빌딩|    8|                 49.41|2015-03-21T00:00:00|37.4899962|126.7565083|\n",
      "|     경기도 부천시  상동|           449-1|2015|    3|21~31|      1996|       3800| 경기도|     부천시|  상동|41190|     동아하이츠빌딩|    8|                  32.4|2015-03-21T00:00:00|37.4899962|126.7565083|\n",
      "|     경기도 부천시  상동|           449-1|2015|   11|11~20|      1996|       6500| 경기도|     부천시|  상동|41190|     동아하이츠빌딩|    9|                 57.35|2015-11-11T00:00:00|37.4899962|126.7565083|\n",
      "|     경기도 부천시  상동|           449-1|2015|   11|11~20|      1996|       8500| 경기도|     부천시|  상동|41190|     동아하이츠빌딩|    9|                 78.96|2015-11-11T00:00:00|37.4899962|126.7565083|\n",
      "|    경기도 부천시  심곡동|          373-11|2017|    5|11~20|      2014|      18000| 경기도|     부천시| 심곡동|41190|       스타파크빌|    3|                 75.91|2017-05-11T00:00:00| 37.490205|126.7814637|\n",
      "|경기도 수원시 영통구  이의동|            1330|2013|    5| 1~10|      2012|      14099| 경기도| 수원시 영통구| 이의동|41117|광교서희스타힐스오피스텔|    9|                 29.87|2013-05-01T00:00:00|37.2924897|127.0491615|\n",
      "|경기도 수원시 영통구  이의동|            1330|2014|    5|21~31|      2012|       8500| 경기도| 수원시 영통구| 이의동|41117|광교서희스타힐스오피스텔|    5|                 29.85|2014-05-21T00:00:00|37.2924897|127.0491615|\n",
      "|경기도 수원시 영통구  이의동|            1330|2014|    5|21~31|      2012|       8500| 경기도| 수원시 영통구| 이의동|41117|광교서희스타힐스오피스텔|    7|                 29.85|2014-05-21T00:00:00|37.2924897|127.0491615|\n",
      "|경기도 수원시 영통구  이의동|            1330|2014|    5|21~31|      2012|       8500| 경기도| 수원시 영통구| 이의동|41117|광교서희스타힐스오피스텔|    7|                 29.85|2014-05-21T00:00:00|37.2924897|127.0491615|\n",
      "|경기도 수원시 영통구  이의동|            1330|2014|    5|21~31|      2012|       8500| 경기도| 수원시 영통구| 이의동|41117|광교서희스타힐스오피스텔|    6|                 29.85|2014-05-21T00:00:00|37.2924897|127.0491615|\n",
      "|경기도 수원시 영통구  이의동|            1330|2014|    5|21~31|      2012|       8500| 경기도| 수원시 영통구| 이의동|41117|광교서희스타힐스오피스텔|    7|                 29.85|2014-05-21T00:00:00|37.2924897|127.0491615|\n",
      "|경기도 수원시 영통구  이의동|            1330|2014|    5|21~31|      2012|       8500| 경기도| 수원시 영통구| 이의동|41117|광교서희스타힐스오피스텔|    8|                 29.85|2014-05-21T00:00:00|37.2924897|127.0491615|\n",
      "|경기도 수원시 영통구  이의동|            1330|2014|    5|21~31|      2012|       8500| 경기도| 수원시 영통구| 이의동|41117|광교서희스타힐스오피스텔|    7|                 29.87|2014-05-21T00:00:00|37.2924897|127.0491615|\n",
      "|경기도 수원시 영통구  이의동|            1330|2014|    5|21~31|      2012|       8500| 경기도| 수원시 영통구| 이의동|41117|광교서희스타힐스오피스텔|    4|                 29.85|2014-05-21T00:00:00|37.2924897|127.0491615|\n",
      "|경기도 수원시 영통구  이의동|            1330|2014|    5|21~31|      2012|       8500| 경기도| 수원시 영통구| 이의동|41117|광교서희스타힐스오피스텔|    7|                 29.85|2014-05-21T00:00:00|37.2924897|127.0491615|\n",
      "|경기도 수원시 영통구  이의동|            1330|2014|    5|21~31|      2012|       8200| 경기도| 수원시 영통구| 이의동|41117|광교서희스타힐스오피스텔|    9|                 28.96|2014-05-21T00:00:00|37.2924897|127.0491615|\n",
      "|경기도 수원시 영통구  이의동|            1330|2014|    5|21~31|      2012|       8200| 경기도| 수원시 영통구| 이의동|41117|광교서희스타힐스오피스텔|    8|                 28.96|2014-05-21T00:00:00|37.2924897|127.0491615|\n",
      "|경기도 수원시 영통구  이의동|            1330|2014|    5|21~31|      2012|       8200| 경기도| 수원시 영통구| 이의동|41117|광교서희스타힐스오피스텔|    4|                 28.96|2014-05-21T00:00:00|37.2924897|127.0491615|\n",
      "+----------------+----------------+----+-----+-----+----------+-----------+----+--------+----+-----+------------+-----+----------------------+-------------------+----------+-----------+\n",
      "only showing top 20 rows\n",
      "\n"
     ]
    },
    {
     "data": {
      "text/plain": [
       "349114"
      ]
     },
     "execution_count": 27,
     "metadata": {},
     "output_type": "execute_result"
    }
   ],
   "source": [
    "final_office_df = drop_index_df.na.drop()\n",
    "final_office_df = final_office_df.withColumn('trade_price',regexp_replace('trade_price',\"\\\\,\", \"\"))\n",
    "final_office_df.show()\n",
    "final_office_df.count()"
   ]
  },
  {
   "cell_type": "code",
   "execution_count": 32,
   "metadata": {},
   "outputs": [
    {
     "ename": "AnalysisException",
     "evalue": "u'path file:/home/project/final_office_trade already exists.;'",
     "traceback": [
      "\u001b[0;31m---------------------------------------------------------------------------\u001b[0m",
      "\u001b[0;31mAnalysisException\u001b[0m                         Traceback (most recent call last)",
      "\u001b[0;32m<ipython-input-32-cec008c902bc>\u001b[0m in \u001b[0;36m<module>\u001b[0;34m()\u001b[0m\n\u001b[0;32m----> 1\u001b[0;31m \u001b[0mfinal_office_df\u001b[0m\u001b[0;34m.\u001b[0m\u001b[0mwrite\u001b[0m\u001b[0;34m.\u001b[0m\u001b[0mcsv\u001b[0m\u001b[0;34m(\u001b[0m\u001b[0;34m\"final_office_trade\"\u001b[0m\u001b[0;34m)\u001b[0m\u001b[0;34m\u001b[0m\u001b[0m\n\u001b[0m",
      "\u001b[0;32m/home/project/spark/python/pyspark/sql/readwriter.pyc\u001b[0m in \u001b[0;36mcsv\u001b[0;34m(self, path, mode, compression, sep, quote, escape, header, nullValue, escapeQuotes, quoteAll, dateFormat, timestampFormat)\u001b[0m\n\u001b[1;32m    709\u001b[0m                        \u001b[0mnullValue\u001b[0m\u001b[0;34m=\u001b[0m\u001b[0mnullValue\u001b[0m\u001b[0;34m,\u001b[0m \u001b[0mescapeQuotes\u001b[0m\u001b[0;34m=\u001b[0m\u001b[0mescapeQuotes\u001b[0m\u001b[0;34m,\u001b[0m \u001b[0mquoteAll\u001b[0m\u001b[0;34m=\u001b[0m\u001b[0mquoteAll\u001b[0m\u001b[0;34m,\u001b[0m\u001b[0;34m\u001b[0m\u001b[0m\n\u001b[1;32m    710\u001b[0m                        dateFormat=dateFormat, timestampFormat=timestampFormat)\n\u001b[0;32m--> 711\u001b[0;31m         \u001b[0mself\u001b[0m\u001b[0;34m.\u001b[0m\u001b[0m_jwrite\u001b[0m\u001b[0;34m.\u001b[0m\u001b[0mcsv\u001b[0m\u001b[0;34m(\u001b[0m\u001b[0mpath\u001b[0m\u001b[0;34m)\u001b[0m\u001b[0;34m\u001b[0m\u001b[0m\n\u001b[0m\u001b[1;32m    712\u001b[0m \u001b[0;34m\u001b[0m\u001b[0m\n\u001b[1;32m    713\u001b[0m     \u001b[0;34m@\u001b[0m\u001b[0msince\u001b[0m\u001b[0;34m(\u001b[0m\u001b[0;36m1.5\u001b[0m\u001b[0;34m)\u001b[0m\u001b[0;34m\u001b[0m\u001b[0m\n",
      "\u001b[0;32m/home/project/spark/python/lib/py4j-0.10.4-src.zip/py4j/java_gateway.py\u001b[0m in \u001b[0;36m__call__\u001b[0;34m(self, *args)\u001b[0m\n\u001b[1;32m   1131\u001b[0m         \u001b[0manswer\u001b[0m \u001b[0;34m=\u001b[0m \u001b[0mself\u001b[0m\u001b[0;34m.\u001b[0m\u001b[0mgateway_client\u001b[0m\u001b[0;34m.\u001b[0m\u001b[0msend_command\u001b[0m\u001b[0;34m(\u001b[0m\u001b[0mcommand\u001b[0m\u001b[0;34m)\u001b[0m\u001b[0;34m\u001b[0m\u001b[0m\n\u001b[1;32m   1132\u001b[0m         return_value = get_return_value(\n\u001b[0;32m-> 1133\u001b[0;31m             answer, self.gateway_client, self.target_id, self.name)\n\u001b[0m\u001b[1;32m   1134\u001b[0m \u001b[0;34m\u001b[0m\u001b[0m\n\u001b[1;32m   1135\u001b[0m         \u001b[0;32mfor\u001b[0m \u001b[0mtemp_arg\u001b[0m \u001b[0;32min\u001b[0m \u001b[0mtemp_args\u001b[0m\u001b[0;34m:\u001b[0m\u001b[0;34m\u001b[0m\u001b[0m\n",
      "\u001b[0;32m/home/project/spark/python/pyspark/sql/utils.pyc\u001b[0m in \u001b[0;36mdeco\u001b[0;34m(*a, **kw)\u001b[0m\n\u001b[1;32m     67\u001b[0m                                              e.java_exception.getStackTrace()))\n\u001b[1;32m     68\u001b[0m             \u001b[0;32mif\u001b[0m \u001b[0ms\u001b[0m\u001b[0;34m.\u001b[0m\u001b[0mstartswith\u001b[0m\u001b[0;34m(\u001b[0m\u001b[0;34m'org.apache.spark.sql.AnalysisException: '\u001b[0m\u001b[0;34m)\u001b[0m\u001b[0;34m:\u001b[0m\u001b[0;34m\u001b[0m\u001b[0m\n\u001b[0;32m---> 69\u001b[0;31m                 \u001b[0;32mraise\u001b[0m \u001b[0mAnalysisException\u001b[0m\u001b[0;34m(\u001b[0m\u001b[0ms\u001b[0m\u001b[0;34m.\u001b[0m\u001b[0msplit\u001b[0m\u001b[0;34m(\u001b[0m\u001b[0;34m': '\u001b[0m\u001b[0;34m,\u001b[0m \u001b[0;36m1\u001b[0m\u001b[0;34m)\u001b[0m\u001b[0;34m[\u001b[0m\u001b[0;36m1\u001b[0m\u001b[0;34m]\u001b[0m\u001b[0;34m,\u001b[0m \u001b[0mstackTrace\u001b[0m\u001b[0;34m)\u001b[0m\u001b[0;34m\u001b[0m\u001b[0m\n\u001b[0m\u001b[1;32m     70\u001b[0m             \u001b[0;32mif\u001b[0m \u001b[0ms\u001b[0m\u001b[0;34m.\u001b[0m\u001b[0mstartswith\u001b[0m\u001b[0;34m(\u001b[0m\u001b[0;34m'org.apache.spark.sql.catalyst.analysis'\u001b[0m\u001b[0;34m)\u001b[0m\u001b[0;34m:\u001b[0m\u001b[0;34m\u001b[0m\u001b[0m\n\u001b[1;32m     71\u001b[0m                 \u001b[0;32mraise\u001b[0m \u001b[0mAnalysisException\u001b[0m\u001b[0;34m(\u001b[0m\u001b[0ms\u001b[0m\u001b[0;34m.\u001b[0m\u001b[0msplit\u001b[0m\u001b[0;34m(\u001b[0m\u001b[0;34m': '\u001b[0m\u001b[0;34m,\u001b[0m \u001b[0;36m1\u001b[0m\u001b[0;34m)\u001b[0m\u001b[0;34m[\u001b[0m\u001b[0;36m1\u001b[0m\u001b[0;34m]\u001b[0m\u001b[0;34m,\u001b[0m \u001b[0mstackTrace\u001b[0m\u001b[0;34m)\u001b[0m\u001b[0;34m\u001b[0m\u001b[0m\n",
      "\u001b[0;31mAnalysisException\u001b[0m: u'path file:/home/project/final_office_trade already exists.;'"
     ],
     "output_type": "error"
    }
   ],
   "source": [
    "final_office_df.write.csv(\"final_office_trade\")"
   ]
  },
  {
   "cell_type": "code",
   "execution_count": null,
   "metadata": {},
   "outputs": [],
   "source": []
  }
 ],
 "metadata": {
  "kernelspec": {
   "display_name": "Python 2",
   "language": "python",
   "name": "python2"
  },
  "language_info": {
   "codemirror_mode": {
    "name": "ipython",
    "version": 2
   },
   "file_extension": ".py",
   "mimetype": "text/x-python",
   "name": "python",
   "nbconvert_exporter": "python",
   "pygments_lexer": "ipython2",
   "version": "2.7.12"
  }
 },
 "nbformat": 4,
 "nbformat_minor": 2
}
