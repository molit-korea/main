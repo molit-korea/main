{
 "cells": [
  {
   "cell_type": "code",
   "execution_count": null,
   "metadata": {},
   "outputs": [],
   "source": [
    "# [예제 4.27] 지역고용통계 데이터 읽어오기\n",
    "\n",
    "import pandas as pd\n",
    "\n",
    "# job_path = r'C:\\Users\\JK\\Desktop\\부동산 데이터\\지역고용통계.xls'\n",
    "job_path = r' 고용 데이터 파일 디렉터리 \\ 지역고용통계.xls'\n",
    "job_raw = pd.read_excel(job_path, skiprows=2)"
   ]
  },
  {
   "cell_type": "code",
   "execution_count": null,
   "metadata": {
    "scrolled": false
   },
   "outputs": [],
   "source": [
    "# [예제 4.28] 데이터프레임 다듬기\n",
    "\n",
    "job_data = job_raw[job_raw['산업별'] == '전산업']\n",
    "job_data = job_data[['지역별', '전체종사자 (명)']]\n",
    "job_data.columns = ['지역명',  '고용자수']"
   ]
  },
  {
   "cell_type": "code",
   "execution_count": null,
   "metadata": {},
   "outputs": [],
   "source": [
    "# [예제 4.29] 지역명 나누기(ch04/ 4.2 일자리.ipynb)\n",
    "\n",
    "def get_sido(x):\n",
    "    temp = x.split(' ')[0]\n",
    "    if len(temp) != 4:\n",
    "        return temp[:2]\n",
    "    else:\n",
    "        return temp[0] + temp[2]\n",
    "\n",
    "job_data['시도'] = job_data['지역명'].apply(get_sido)\n",
    "job_data['구군'] = job_data['지역명'].apply(lambda x: x.split(' ')[1])"
   ]
  },
  {
   "cell_type": "code",
   "execution_count": null,
   "metadata": {},
   "outputs": [],
   "source": [
    "# [예제 4.30] 지역고용통계 전처리 과정 정리해서 함수화\n",
    "\n",
    "def job_preprocessing(path):\n",
    "    job_raw = pd.read_excel(path, skiprows=2)\n",
    "    job_data = job_raw[job_raw['산업별'] == '전산업']\n",
    "    job_data = job_data[['지역별', '전체종사자 (명)']]\n",
    "    job_data.columns = ['지역명',  '고용자수']\n",
    "    \n",
    "    def get_sido(x):\n",
    "        temp = x.split(' ')[0]\n",
    "        if len(temp) != 4:\n",
    "            return temp[:2]\n",
    "        else:\n",
    "            return temp[0] + temp[2]\n",
    "\n",
    "    job_data['시도'] = job_data['지역명'].apply(get_sido)\n",
    "    job_data['구군'] = job_data['지역명'].apply(lambda x: x.split(' ')[1])\n",
    "    \n",
    "    return job_data"
   ]
  },
  {
   "cell_type": "code",
   "execution_count": null,
   "metadata": {},
   "outputs": [],
   "source": [
    "# [예제 4.31] 세대수 엑셀 데이터 읽어오기\n",
    "\n",
    "# house_n_path = r'C:\\Users\\JK\\Desktop\\부동산 데이터\\행정구역_시군구_별_주민등록세대수_20190107134842.xlsx'\n",
    "house_n_path = r' 세대수 데이터 디렉터리 \\ 세대수 데이터 엑셀파일명.xlsx'\n",
    "house_n_raw = pd.read_excel(house_n_path)"
   ]
  },
  {
   "cell_type": "code",
   "execution_count": null,
   "metadata": {},
   "outputs": [],
   "source": [
    "# [예제 4.32] 세대수 데이터프레임에서 시도명 고치기\n",
    "\n",
    "house_n_raw.columns = ['시도', '구군', '세대수']\n",
    "\n",
    "big_col = []\n",
    "for num, temp in enumerate(house_n_raw['시도']):\n",
    "    if pd.isna(temp) :\n",
    "        big_col.append(big_col[num-1])\n",
    "    else:\n",
    "        big_col.append(temp)\n",
    "\n",
    "house_n_raw['시도'] = big_col"
   ]
  },
  {
   "cell_type": "code",
   "execution_count": null,
   "metadata": {},
   "outputs": [],
   "source": [
    "# [예제 4.33] 세대수 데이터프레임에서 시도명 줄임말로 고치기\n",
    "\n",
    "def get_sido(x):\n",
    "    if len(x) != 4:\n",
    "        return x[:2]\n",
    "    else:\n",
    "        return x[0] + x[2]\n",
    "\n",
    "house_n_raw['시도'] = house_n_raw['시도'].apply(get_sido)\n",
    "house_n_data = house_n_raw[house_n_raw['구군'] != '소계']"
   ]
  },
  {
   "cell_type": "code",
   "execution_count": null,
   "metadata": {
    "scrolled": false
   },
   "outputs": [],
   "source": [
    "# [예제 4.34] 세대수 데이터 전처리 과정 함수화(ch04/ 4.2 일자리.ipynb)\n",
    "\n",
    "def house_number_preprocessing(path):\n",
    "    house_n_raw = pd.read_excel(path)\n",
    "    house_n_raw.columns = ['시도', '구군', '세대수']\n",
    "\n",
    "    big_col = []\n",
    "    for num, temp in enumerate(house_n_raw['시도']):\n",
    "        if pd.isna(temp) :\n",
    "            big_col.append(big_col[num-1])\n",
    "        else:\n",
    "            big_col.append(temp)\n",
    "\n",
    "    house_n_raw['시도'] = big_col\n",
    "    \n",
    "    def get_sido(x):\n",
    "        if len(x) != 4:\n",
    "            return x[:2]\n",
    "        else:\n",
    "            return x[0] + x[2]\n",
    "\n",
    "    house_n_raw['시도'] = house_n_raw['시도'].apply(get_sido)\n",
    "    house_n_data = house_n_raw[house_n_raw['구군'] != '소계']\n",
    "    \n",
    "    return house_n_data"
   ]
  },
  {
   "cell_type": "code",
   "execution_count": null,
   "metadata": {},
   "outputs": [],
   "source": [
    "# [예제 4.35] 시도 단위로 고용자수 보기\n",
    "\n",
    "job_path = r' 고용 데이터 파일 디렉터리 \\ 지역고용통계.xls'\n",
    "job_df = job_preprocessing(job_path)\n",
    "\n",
    "job_sido = job_df.groupby('시도').sum()\n",
    "job_sido = job_sido.sort_values(by='고용자수', ascending=False)"
   ]
  },
  {
   "cell_type": "code",
   "execution_count": null,
   "metadata": {},
   "outputs": [],
   "source": [
    "# [예제 4.36] 시도 단위의 고용자수를 막대 그래프로 보기 \n",
    "\n",
    "import matplotlib.pyplot as plt\n",
    "from matplotlib import font_manager, rc\n",
    "from matplotlib import style\n",
    "import seaborn as sns\n",
    "style.use('ggplot')\n",
    "%matplotlib inline\n",
    "\n",
    "font_name = font_manager.FontProperties(fname=\"c:/Windows/Fonts/malgun.ttf\").get_name()\n",
    "rc('font', family=font_name)\n",
    "# 맥OS인 경우 위 두 줄을 입력하지 말고 아래 코드를 입력하세요\n",
    "# rc('font', family='AppleGothic')\n",
    "plt.rcParams['axes.unicode_minus'] = False\n",
    "\n",
    "\n",
    "plt.figure(figsize=(12, 4))\n",
    "job_sido['고용자수'].plot(kind='bar', color='darkcyan')\n",
    "plt.axhline(y=job_sido['고용자수'].mean(), color='orange', linewidth=2, ls='--')\n",
    "plt.xticks(rotation=0)\n",
    "plt.xlabel('')\n",
    "plt.ylabel('고용자수')\n",
    "plt.show()"
   ]
  },
  {
   "cell_type": "code",
   "execution_count": null,
   "metadata": {},
   "outputs": [],
   "source": [
    "# [예제 4.37] 세대수 데이터 추가\n",
    "\n",
    "house_n_path = r' 세대수 데이터 디렉터리 \\ 세대수 데이터 엑셀파일명.xlsx'\n",
    "house_n_df = house_number_preprocessing(house_n_path)\n",
    "\n",
    "job_sido['세대수'] = house_n_df.groupby('시도').sum().loc[job_sido.index]\n",
    "job_sido['세대수대비고용'] = job_sido['고용자수']/job_sido['세대수'] * 100"
   ]
  },
  {
   "cell_type": "code",
   "execution_count": null,
   "metadata": {},
   "outputs": [],
   "source": [
    "# [예제 4.38] 시도 단위 세대구 대비 고용비율 막대 그래프로 보기\n",
    "\n",
    "plt.figure(figsize=(12, 4))\n",
    "job_sido.sort_values(by='세대수대비고용', ascending=False)['세대수대비고용'].plot(kind='bar', color='darkcyan')\n",
    "plt.axhline(y=job_sido['세대수대비고용'].mean(), color='orange', linewidth=2, ls='--')\n",
    "plt.xticks(rotation=0)\n",
    "plt.xlabel('')\n",
    "plt.ylabel('세대수 대비 고용자수 (%)')\n",
    "plt.show()"
   ]
  },
  {
   "cell_type": "code",
   "execution_count": null,
   "metadata": {},
   "outputs": [],
   "source": [
    "# [예제 4.39] 평균 아파트 매매가격 가져오기\n",
    "\n",
    "def gamjungwon_price_preprocessing(path):\n",
    "    row_price = pd.read_excel(path, skiprows=10)\n",
    "    \n",
    "    big_col = []\n",
    "    for num, temp in enumerate(row_price['지 역']):\n",
    "        if pd.isna(temp) :\n",
    "            big_col.append(big_col[num-1])\n",
    "        else:\n",
    "            big_col.append(temp)\n",
    "\n",
    "\n",
    "    small_col = []\n",
    "    for num in range(len(row_price)):\n",
    "        temp_list = list(row_price[['지 역', 'Unnamed: 1', 'Unnamed: 2', 'Unnamed: 3']].iloc[num])\n",
    "        for temp in temp_list[3::-1]:\n",
    "            if not pd.isna(temp):\n",
    "                small_col.append(temp)\n",
    "                break\n",
    "\n",
    "    row_price.index = [big_col, small_col]\n",
    "    \n",
    "    transposed_price = row_price.drop(['지 역', 'Unnamed: 1', 'Unnamed: 2', 'Unnamed: 3'], axis=1).T\n",
    "    \n",
    "    time_index = []\n",
    "    for time in transposed_price.index:\n",
    "        temp = time.split(' ')\n",
    "        time_index.append(temp[0][:-1]+'.'+temp[1][:-1])\n",
    "\n",
    "    transposed_price.index = pd.to_datetime(time_index)\n",
    "    \n",
    "    return transposed_price\n",
    "\n",
    "\n",
    "price_path =  r' 평균 아파트 매매가격 데이터 디렉터리 \\ 평균 아파트 매매가격 데이터 엑셀 파일명.xlsx'\n",
    "price_df = gamjungwon_price_preprocessing(price_path)"
   ]
  },
  {
   "cell_type": "code",
   "execution_count": null,
   "metadata": {},
   "outputs": [],
   "source": [
    "# [예제 4.40] 고용자수, 세대수, 평균 아파트 매매가격 scatter 그래프로 나타내기\n",
    "\n",
    "sido_list = []\n",
    "for i in job_sido.index:\n",
    "    sido_list.append(price_df.loc['2018-6-1'][i][i])\n",
    "      \n",
    "job_sido['평균매매가격'] = sido_list\n",
    "\n",
    "plt.figure(figsize=(10, 6))\n",
    "plt.scatter(job_sido['고용자수'], job_sido['세대수'], c=job_sido['평균매매가격'], s=job_sido['평균매매가격']*0.001, cmap=\"YlOrRd\", alpha=0.5 )\n",
    "plt.xlabel('고용자수')\n",
    "plt.ylabel('세대수')\n",
    "for name in job_sido.index:\n",
    "    plt.text(job_sido['고용자수'][name]*1.01, job_sido['세대수'][name]*1.05, name, fontsize=13)\n",
    "\n",
    "plt.colorbar()\n",
    "plt.show()"
   ]
  },
  {
   "cell_type": "code",
   "execution_count": null,
   "metadata": {},
   "outputs": [],
   "source": [
    "# [예제 4.41] 세대수 대비 고용비율, 세대수, 평균 아파트 매매가격 scatter 그래프로 나타내기\n",
    "\n",
    "plt.figure(figsize=(10, 6))\n",
    "plt.scatter(job_sido['세대수대비고용'], job_sido['세대수'], c=job_sido['평균매매가격'], s=job_sido['평균매매가격']*0.001, cmap=\"YlOrRd\", alpha=0.5 )\n",
    "plt.xlabel('세대수 대비 고용자수 (%)')\n",
    "plt.ylabel('세대수')\n",
    "for name in job_sido.index:\n",
    "    plt.text(job_sido['세대수대비고용'][name]*1.01, job_sido['세대수'][name]*1.05, name, fontsize=13)\n",
    "\n",
    "plt.colorbar()\n",
    "plt.show()"
   ]
  },
  {
   "cell_type": "code",
   "execution_count": null,
   "metadata": {},
   "outputs": [],
   "source": [
    "# [예제 4.42] 서울시 고용자수, 세대수, 평균 매매가격 데이터프레임 만들기\n",
    "\n",
    "local = '서울'\n",
    "\n",
    "job_gugun = job_df[job_df['시도']==local].groupby('구군').sum()\n",
    "job_gugun['세대수'] = house_n_df[house_n_df['시도'] == local].groupby('구군').sum().loc[job_gugun.index]\n",
    "job_gugun['세대수대비고용'] = job_gugun['고용자수']/job_gugun['세대수'] * 100\n",
    "job_gugun['평균매매가격'] = price_df.loc['2018-6-1'][local][job_gugun.index]\n",
    "job_gugun = job_gugun.dropna()"
   ]
  },
  {
   "cell_type": "code",
   "execution_count": null,
   "metadata": {},
   "outputs": [],
   "source": [
    "# [예제 4.43] 서울시의 고용자수, 세대수 대비 고용비율 막대 그래프 그리기\n",
    "\n",
    "plt.figure(figsize=(12, 4))\n",
    "job_gugun.sort_values(by='고용자수', ascending=False)['고용자수'].plot(kind='bar', color='darkcyan')\n",
    "plt.axhline(y=job_gugun['고용자수'].mean(), color='orange', linewidth=2, ls='--')\n",
    "plt.xticks(rotation=45)\n",
    "plt.xlabel('')\n",
    "plt.ylabel('고용자수')\n",
    "plt.show()\n",
    "\n",
    "plt.figure(figsize=(12, 4))\n",
    "job_gugun.sort_values(by='세대수대비고용', ascending=False)['세대수대비고용'].plot(kind='bar', color='darkcyan')\n",
    "plt.axhline(y=job_sido['세대수대비고용'].mean(), color='orange', linewidth=2, ls='--')\n",
    "plt.xticks(rotation=45)\n",
    "plt.xlabel('')\n",
    "plt.ylabel('세대수 대비 고용자수 (%)')\n",
    "plt.show()"
   ]
  },
  {
   "cell_type": "code",
   "execution_count": null,
   "metadata": {},
   "outputs": [],
   "source": [
    "# [예제 4.44] 서울시의 고용자수, 세대수, 평균 아파트 매매가로 scatter 그래프 그리기(ch04/ 4.2 일자리.ipynb)\n",
    "\n",
    "plt.figure(figsize=(10, 6))\n",
    "plt.scatter(job_gugun['고용자수'], job_gugun['세대수'], c=job_gugun['평균매매가격'], s=pd.to_numeric(job_gugun['평균매매가격'])*0.001, cmap=\"YlOrRd\", alpha=0.5)\n",
    "plt.xlabel('고용자수')\n",
    "plt.ylabel('세대수')\n",
    "\n",
    "for name in job_gugun.index:\n",
    "    plt.text(job_gugun['고용자수'][name]*1.01, job_gugun['세대수'][name], name)\n",
    "    \n",
    "plt.colorbar()\n",
    "plt.show()"
   ]
  },
  {
   "cell_type": "code",
   "execution_count": null,
   "metadata": {},
   "outputs": [],
   "source": [
    "# [예제 4.45] 서울시의 고용비율, 세대수, 평균 아파트 매매가로 scatter 그래프 그리기\n",
    "\n",
    "plt.figure(figsize=(10, 6))\n",
    "plt.scatter(job_gugun['세대수대비고용'], job_gugun['세대수'], c=job_gugun['평균매매가격'], s=pd.to_numeric(job_gugun['평균매매가격'])*0.001, cmap=\"YlOrRd\", alpha=0.5)\n",
    "plt.xlabel('세대수 대비 고용자수 (%)')\n",
    "plt.ylabel('세대수')\n",
    "\n",
    "for name in job_gugun.index:\n",
    "    plt.text(job_gugun['세대수대비고용'][name]*1.01, job_gugun['세대수'][name], name)\n",
    "    \n",
    "plt.colorbar()\n",
    "plt.show()"
   ]
  }
 ],
 "metadata": {
  "kernelspec": {
   "display_name": "Python 3",
   "language": "python",
   "name": "python3"
  },
  "language_info": {
   "codemirror_mode": {
    "name": "ipython",
    "version": 3
   },
   "file_extension": ".py",
   "mimetype": "text/x-python",
   "name": "python",
   "nbconvert_exporter": "python",
   "pygments_lexer": "ipython3",
   "version": "3.6.4"
  }
 },
 "nbformat": 4,
 "nbformat_minor": 2
}
