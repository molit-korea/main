{
 "cells": [
  {
   "cell_type": "code",
   "execution_count": null,
   "metadata": {},
   "outputs": [],
   "source": [
    "# [예제 2.25] 기본 설정\n",
    "\n",
    "import pandas as pd\n",
    "import xlwings as xw\n",
    "\n",
    "import matplotlib.pyplot as plt\n",
    "from matplotlib import font_manager, rc\n",
    "%matplotlib inline\n",
    "\n",
    "font_name = font_manager.FontProperties(fname=\"c:/Windows/Fonts/malgun.ttf\").get_name()\n",
    "rc('font', family=font_name)\n",
    "# 맥OS인 경우 위 두 줄을 입력하지 말고 아래 코드를 입력하세요\n",
    "# rc('font', family='AppleGothic')\n",
    "plt.rcParams['axes.unicode_minus'] = False"
   ]
  },
  {
   "cell_type": "code",
   "execution_count": null,
   "metadata": {},
   "outputs": [],
   "source": [
    "# [예제 2.26] 소득 데이터 읽어오기 \n",
    "\n",
    "#path = r'C:\\Users\\JK\\Desktop\\부동산 데이터\\행정구역_시도_별_1인당_지역내총생산__지역총소득__개인소득_20180821155737.xlsx'\n",
    "path = r'내려받은 개인소득 엑셀파일의 디렉터리\\내려받은 개인소득 엑셀 파일명.xlsx'\n",
    "raw = pd.read_excel(path, sheet_name='데이터', index_col=0)\n",
    "\n",
    "raw"
   ]
  },
  {
   "cell_type": "code",
   "execution_count": null,
   "metadata": {},
   "outputs": [],
   "source": [
    "# [예제 2.27] 첫 번째 행 제거\n",
    "\n",
    "raw.drop(['행정구역(시도)별'], inplace=True)"
   ]
  },
  {
   "cell_type": "code",
   "execution_count": null,
   "metadata": {},
   "outputs": [],
   "source": [
    "# [예제 2.28] 인덱스의 시도 이름을 약어로 변경하기 \n",
    "\n",
    "index_list = raw.index\n",
    "new_index = []\n",
    "for temp in index_list:\n",
    "    if temp[-1] == '시':\n",
    "        new_index.append(temp[:2])\n",
    "    elif temp[-1] == '도':\n",
    "        if len(temp) == 3:\n",
    "            new_index.append(temp[:2])\n",
    "        elif len(temp) == 4:\n",
    "            new_index.append(temp[0] + temp[2])\n",
    "        else:\n",
    "            new_index.append('제주')\n",
    "    else:\n",
    "        new_index.append(temp)\n",
    "        \n",
    "raw.index = new_index"
   ]
  },
  {
   "cell_type": "code",
   "execution_count": null,
   "metadata": {},
   "outputs": [],
   "source": [
    "# [예제 2.29] 컬럼과 인덱스 서로 바꾸기 \n",
    "\n",
    "income_data = raw.T\n",
    "\n",
    "income_data"
   ]
  },
  {
   "cell_type": "code",
   "execution_count": null,
   "metadata": {},
   "outputs": [],
   "source": [
    "# [예제 2.30] 소득 데이터 전처리 과정 함수화 \n",
    "\n",
    "def income_preprocessing(path):\n",
    "    # path : KB 데이터 엑셀 파일의 디렉토리 (문자열)\n",
    "    \n",
    "    raw = pd.read_excel(path)\n",
    "    raw.drop([0], inplace=True)\n",
    "    raw.set_index('행정구역(시도)별', inplace=True)\n",
    "    index_list = raw.index\n",
    "    new_index = []\n",
    "    for temp in index_list:\n",
    "        if temp[-1] == '시':\n",
    "            new_index.append(temp[:2])\n",
    "        elif temp[-1] == '도':\n",
    "            if len(temp) == 3:\n",
    "                new_index.append(temp[:2])\n",
    "            elif len(temp) == 4:\n",
    "                new_index.append(temp[0] + temp[2])\n",
    "            else:\n",
    "                new_index.append('제주')\n",
    "        else:\n",
    "            new_index.append(temp)\n",
    "\n",
    "    raw.index = new_index\n",
    "    income_data = raw.T\n",
    "    return income_data\n",
    "\n",
    "\n",
    "income_data_path = r'내려받은 개인소득 엑셀파일의 디렉터리\\내려받은 개인소득 엑셀 파일명.xlsx'\n",
    "income_data = income_preprocessing(income_data_path)"
   ]
  },
  {
   "cell_type": "code",
   "execution_count": null,
   "metadata": {},
   "outputs": [],
   "source": [
    "# [예제 2.31] KB 가격지수 데이터 가져오기 \n",
    "\n",
    "def KBpriceindex_preprocessing(path, data_type):\n",
    "    # path : KB 데이터 엑셀 파일의 디렉토리 (문자열)\n",
    "    # data_type : ‘매매종합’, ‘매매APT’, ‘매매연립’, ‘매매단독’, ‘전세종합’, ‘전세APT’, ‘전세연립’, ‘전세단독’ 중 하나\n",
    "    \n",
    "    wb = xw.Book(path)                \n",
    "    sheet = wb.sheets[data_type]   \n",
    "    row_num = sheet.range(1,1).end('down').end('down').end('down').row  \n",
    "    data_range = 'A2:GE' + str(row_num)\n",
    "    raw_data = sheet[data_range].options(pd.DataFrame, index=False, header=True).value \n",
    "    \n",
    "    bignames = '서울 대구 부산 대전 광주 인천 울산 세종 경기 강원 충북 충남 전북 전남 경북 경남 제주도 6개광역시 5개광역시 수도권 기타지방 구분 전국'\n",
    "    bigname_list = bignames.split(' ')\n",
    "    big_col = list(raw_data.columns)\n",
    "    small_col = list(raw_data.iloc[0])\n",
    "\n",
    "    for num, gu_data in enumerate(small_col):\n",
    "        if gu_data == None:\n",
    "            small_col[num] = big_col[num]\n",
    "\n",
    "        check = num\n",
    "        while True:\n",
    "            if big_col[check] in bigname_list:\n",
    "                big_col[num] = big_col[check]\n",
    "                break\n",
    "            else:\n",
    "                check = check - 1\n",
    "                \n",
    "    big_col[129] = '경기' \n",
    "    big_col[130] = '경기'\n",
    "    small_col[185] = '서귀포'\n",
    "    \n",
    "    raw_data.columns = [big_col, small_col]\n",
    "    new_col_data = raw_data.drop([0,1])\n",
    "    \n",
    "    index_list = list(new_col_data['구분']['구분'])\n",
    "\n",
    "    new_index = []\n",
    "\n",
    "    for num, raw_index in enumerate(index_list):\n",
    "        temp = str(raw_index).split('.')\n",
    "        if int(temp[0]) > 12 :\n",
    "            if len(temp[0]) == 2:\n",
    "                new_index.append('19' + temp[0] + '.' + temp[1])\n",
    "            else:\n",
    "                new_index.append(temp[0] + '.' + temp[1])\n",
    "        else:\n",
    "            new_index.append(new_index[num-1].split('.')[0] + '.' + temp[0])\n",
    "\n",
    "    new_col_data.set_index(pd.to_datetime(new_index), inplace=True)\n",
    "    cleaned_data  = new_col_data.drop(('구분', '구분'), axis=1)\n",
    "    return cleaned_data\n",
    "\n",
    "\n",
    "\n",
    "path = r' 여러분이 내려 받은 KB 엑셀파일의 디렉터리를 넣으세요 \\ KB엑셀 파일명.xls'\n",
    "data_type = '매매종합'\n",
    "price_data = KBpriceindex_preprocessing(path, data_type)"
   ]
  },
  {
   "cell_type": "code",
   "execution_count": null,
   "metadata": {},
   "outputs": [],
   "source": [
    "# [예제 2.32] 특정 지역들의 부동산 가격지수 변화와 개인소득 변화를 subplot으로 나타내기 \n",
    "\n",
    "location_list = ['전국', '서울', '부산', '대구', '대전' ,'광주', '경기']\n",
    "start_year = '2004'\n",
    "end_year = '2016'\n",
    "\n",
    "num_row = int((len(location_list)-1)/2)+1\n",
    "plt.figure(figsize=(12, num_row*5))\n",
    "for j, location in enumerate(location_list):\n",
    "    year_data = []\n",
    "    for i in range(int(start_year), int(end_year) + 1):\n",
    "        if location == '제주도':\n",
    "            year_data.append(price_data[location]['서귀포'][str(i)+'.12.1'])\n",
    "        else:\n",
    "            year_data.append(price_data[location][location][str(i)+'.12.1'])\n",
    "\n",
    "    temp_df = pd.DataFrame(income_data[location][start_year:end_year])\n",
    "    temp_df.columns = [location + '소득']\n",
    "    temp_df[location + '부동산 가격지수'] = year_data\n",
    "    temp_df['소득 변화율'] = (temp_df[location + '소득']/temp_df[location + '소득'][0] - 1 )*100\n",
    "    temp_df['부동산 기격 지수 변화율'] = (temp_df[location + '부동산 가격지수']/temp_df[location + '부동산 가격지수'][0] - 1 )*100\n",
    "\n",
    "    plt.subplot(num_row, 2, j+1)\n",
    "    plt.title(location + ', ' + start_year + ' ~ ' + end_year + '까지')\n",
    "    plt.plot(temp_df['부동산 기격 지수 변화율'], label=location + ' 부동산 가격 지수 변화율')\n",
    "    plt.plot(temp_df['소득 변화율'], label=location + ' 소득 변화율')\n",
    "    plt.legend()"
   ]
  },
  {
   "cell_type": "code",
   "execution_count": null,
   "metadata": {},
   "outputs": [],
   "source": [
    "# [예제 2.33] PIR 데이터 가져오기 (ch02/ 2.2 ‘기준’이 필요해!.ipynb)\n",
    "\n",
    "path = r' 여러분이 내려 받은 KB 엑셀파일의 디렉터리를 넣으세요 \\ KB엑셀 파일명.xls'\n",
    "wb = xw.Book(path)                \n",
    "sheet = wb.sheets['PIR(월별)']   \n",
    "row_num = sheet.range('J2').end('down').row  \n",
    "data_range = 'B2:N' + str(row_num)\n",
    "pir_rawdata = sheet[data_range].options(pd.DataFrame, index=False, header=True).value "
   ]
  },
  {
   "cell_type": "code",
   "execution_count": null,
   "metadata": {},
   "outputs": [],
   "source": [
    "# [예제 2.34] 지역을 구분하는 상위 컬럼 만들기 \n",
    "\n",
    "big_col = list(pir_rawdata.columns)\n",
    "big_col[0] = 'index1'\n",
    "big_col[1] = 'index2'\n",
    "big_col[2] = 'index3'\n",
    "\n",
    "for num, col in enumerate(big_col):\n",
    "    if col == None:\n",
    "        big_col[num] = big_col[num - 1]\n",
    "    else:\n",
    "        pass"
   ]
  },
  {
   "cell_type": "code",
   "execution_count": null,
   "metadata": {
    "scrolled": false
   },
   "outputs": [],
   "source": [
    "# [예제 2.35] 소득 분위를 나타내는 하위 컬럼 만들기 \n",
    "\n",
    "small_col = list(pir_rawdata.loc[1])\n",
    "small_col[0] = 'index1'\n",
    "small_col[1] = 'index2'\n",
    "small_col[2] = 'index3'"
   ]
  },
  {
   "cell_type": "code",
   "execution_count": null,
   "metadata": {
    "scrolled": true
   },
   "outputs": [],
   "source": [
    "# [예제 2.36] 이중 컬럼 설정 \n",
    "\n",
    "pir_rawdata.columns = [big_col, small_col]\n",
    "pir_rawdata.drop([0,1], inplace=True)"
   ]
  },
  {
   "cell_type": "code",
   "execution_count": null,
   "metadata": {},
   "outputs": [],
   "source": [
    "# [예제 2.37] 상위 인덱스 설정\n",
    "\n",
    "big_index = list(pir_rawdata['index1']['index1'])\n",
    "for num, index in enumerate(big_index):\n",
    "    if index is not None:\n",
    "        if type(index) == str:\n",
    "            big_index[num] = '20' + index.split(\".\")[0][1:] + '.' + index.split(\".\")[1][:2]\n",
    "        else:\n",
    "            big_index[num] = big_index[num - 1].split(\".\")[0] + \".\" +  str(int(index))\n",
    "    else:\n",
    "        big_index[num] = big_index[num - 1]"
   ]
  },
  {
   "cell_type": "code",
   "execution_count": null,
   "metadata": {},
   "outputs": [],
   "source": [
    "# [예제 2.38] 하위 인덱스 및 이중 인덱스 설정  \n",
    "\n",
    "small_index = list(pir_rawdata['index3']['index3'])\n",
    "pir_rawdata.index = [pd.to_datetime(big_index), small_index]\n",
    "\n",
    "del pir_rawdata['index1']\n",
    "del pir_rawdata['index2']\n",
    "del pir_rawdata['index3']\n",
    "\n",
    "pir_rawdata.index.names = ['날짜', '평균주택가격']"
   ]
  },
  {
   "cell_type": "code",
   "execution_count": null,
   "metadata": {},
   "outputs": [],
   "source": [
    "pir_rawdata.xs('3분위', level='평균주택가격')"
   ]
  },
  {
   "cell_type": "code",
   "execution_count": null,
   "metadata": {},
   "outputs": [],
   "source": [
    "# [예제 2.39] 서울 각 소득 분위의 3분위 주택가격 시계열 subplot으로 나타내기  \n",
    "\n",
    "gagus = ['1분위', '2분위', '3분위', '4분위', '5분위']\n",
    "location = '서울 Seoul'\n",
    "num_row = int((len(gagus)-1)/2)+1\n",
    "\n",
    "plt.figure(figsize=(10, num_row*5))\n",
    "for i, gagu in enumerate(gagus):\n",
    "    plt.subplot(num_row, 2, i+1)\n",
    "    plt.title(gagu + \" 가구의 중간값(3분위) 주택가격 PIR\")\n",
    "    plt.plot(pir_rawdata.xs('3분위', level='평균주택가격')[location][gagu])\n",
    "    \n",
    "plt.show()"
   ]
  },
  {
   "cell_type": "code",
   "execution_count": null,
   "metadata": {},
   "outputs": [],
   "source": [
    "pir_rawdata"
   ]
  },
  {
   "cell_type": "code",
   "execution_count": null,
   "metadata": {},
   "outputs": [],
   "source": [
    "# [예제 2.40] PIR 그래프에 평균값 추가하기 \n",
    "\n",
    "gagus = ['1분위', '2분위', '3분위', '4분위', '5분위']\n",
    "location = '서울 Seoul'\n",
    "house_price_level = '3분위'\n",
    "num_row = int((len(gagus)-1)/2)+1\n",
    "\n",
    "plt.figure(figsize=(10, num_row*5))\n",
    "for i, gagu in enumerate(gagus):\n",
    "    plt.subplot(num_row, 2, i+1)\n",
    "    plt.title(gagu + \" 가구의 중간값(\" + house_price_level + \") 주택가격 PIR\")\n",
    "    plt.plot(pir_rawdata.xs(house_price_level, level='평균주택가격')[location][gagu])\n",
    "    indx = pir_rawdata.xs(house_price_level, level='평균주택가격')[location][gagu].index\n",
    "    long_mean = pir_rawdata.xs(house_price_level, level='평균주택가격')[location][gagu].mean()\n",
    "    plt.plot(indx, [long_mean for a in range(len(pir_rawdata.xs(house_price_level, level='평균주택가격')[location][gagu]))])\n",
    "    \n",
    "plt.show()"
   ]
  }
 ],
 "metadata": {
  "kernelspec": {
   "display_name": "Python 3",
   "language": "python",
   "name": "python3"
  },
  "language_info": {
   "codemirror_mode": {
    "name": "ipython",
    "version": 3
   },
   "file_extension": ".py",
   "mimetype": "text/x-python",
   "name": "python",
   "nbconvert_exporter": "python",
   "pygments_lexer": "ipython3",
   "version": "3.6.4"
  }
 },
 "nbformat": 4,
 "nbformat_minor": 2
}
