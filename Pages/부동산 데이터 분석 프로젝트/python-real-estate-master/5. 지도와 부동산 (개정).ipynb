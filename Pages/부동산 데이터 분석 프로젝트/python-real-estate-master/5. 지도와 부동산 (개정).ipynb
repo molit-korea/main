{
 "cells": [
  {
   "cell_type": "code",
   "execution_count": null,
   "metadata": {},
   "outputs": [],
   "source": [
    "# [예제 5.1] folium 모듈을 임포트해 서울 시청을 중심으로 맵 만들기 (\n",
    "\n",
    "import folium\n",
    "\n",
    "seoul_map = folium.Map(location=[37.5614378,126.9751701])"
   ]
  },
  {
   "cell_type": "code",
   "execution_count": null,
   "metadata": {},
   "outputs": [],
   "source": [
    "# [예제 5.2] 확대해서 맵 생성하기\n",
    "\n",
    "seoul_map = folium.Map(location=[37.5614378,126.9751701], zoom_start=14)"
   ]
  },
  {
   "cell_type": "code",
   "execution_count": null,
   "metadata": {},
   "outputs": [],
   "source": [
    "# [예제 5.3] 지도 위에 특정 위치 표시하기\n",
    "\n",
    "folium.Marker([37.5614378,126.9751701], popup='서울시청').add_to(seoul_map)"
   ]
  },
  {
   "cell_type": "code",
   "execution_count": null,
   "metadata": {},
   "outputs": [],
   "source": [
    "# [예제 5.4] 학교 정보 가져와서 데이터프레임으로 정리하기\n",
    "\n",
    "import pandas as pd\n",
    "\n",
    "#school_path = r'C:\\Users\\JK\\Desktop\\부동산 데이터\\2018년_공시대상학교정보(전체).xlsx'\n",
    "school_path = r' 학교정보 데이터 디렉터리  학교정보 데이터 엑셀파일명.xlsx'\n",
    "school_raw = pd.read_excel(school_path)\n",
    "school_data = school_raw[['정보공시 \\n 학교코드', '학교명', '위도', '경도' ]]\n",
    "school_data.columns = ['학교코드', '학교명','위도', '경도']\n",
    "school_df = school_data.drop_duplicates()"
   ]
  },
  {
   "cell_type": "code",
   "execution_count": null,
   "metadata": {},
   "outputs": [],
   "source": [
    "school_data"
   ]
  },
  {
   "cell_type": "code",
   "execution_count": null,
   "metadata": {},
   "outputs": [],
   "source": [
    "# [예제 5.5] graduate_preprocrssing 함수 가지고 와 데이터프레임 만들기\n",
    "\n",
    "def graduate_preprocrssing(path):\n",
    "    raw_graduate = pd.read_excel(path, sheet_name='2018_졸업생의 진로 현황(중)')\n",
    "    select_col = raw_graduate[['지역', '학교명','정보공시 \\n 학교코드', '졸업자.2', '(특수목적고)과학고 진학자.2','(특수목적고)외고ㆍ국제고 진학자.2']]\n",
    "    select_col.columns = ['지역', '학교명', '학교코드', '졸업자', '과고', '외고']\n",
    "    graduate_data = select_col.drop(0)\n",
    "    graduate_data['과고'] = pd.to_numeric(graduate_data['과고'])\n",
    "    graduate_data['외고'] =  pd.to_numeric(graduate_data['외고']) \n",
    "    graduate_data['졸업자'] =  pd.to_numeric(graduate_data['졸업자']) \n",
    "    graduate_data['총합'] = graduate_data['과고'] + graduate_data['외고']\n",
    "    \n",
    "    def get_sido(x):\n",
    "        temp = x.split(' ')[0]\n",
    "        if len(temp) != 4:\n",
    "            return temp[:2]\n",
    "        else:\n",
    "            return temp[0] + temp[2]\n",
    "    \n",
    "    graduate_data['시도'] = graduate_data['지역'].dropna().apply(get_sido)\n",
    "    graduate_data['구군'] = graduate_data['지역'].dropna().apply(lambda x: x.split(' ')[1])\n",
    "    \n",
    "    graduate_data.at[588,'시도'] = '부산'\n",
    "    graduate_data.at[588,'구군'] = '기장군'\n",
    "    graduate_data.at[3011,'시도'] = '경북'\n",
    "    graduate_data.at[3011,'구군'] = '예천군'\n",
    "    \n",
    "    return graduate_data\n",
    "\n",
    "graduate_path = r' 졸업생 진로 데이터 엑셀 파일 디렉터리 \\ 졸업생 진로 데이터 엑셀 파일명.xlsx'\n",
    "gradu_df = graduate_preprocrssing(graduate_path)"
   ]
  },
  {
   "cell_type": "code",
   "execution_count": null,
   "metadata": {},
   "outputs": [],
   "source": [
    "# [예제 5.6] 학교코드를 기준으로 데이터프레임 병합\n",
    "\n",
    "total_school_df = pd.merge(gradu_df, school_df, how='inner', right_on='학교코드', left_on='학교코드')"
   ]
  },
  {
   "cell_type": "code",
   "execution_count": null,
   "metadata": {},
   "outputs": [],
   "source": [
    "# [예제 5.7] 서울 지역에서 특목고 보낸 중학교 모두 표시하기\n",
    "\n",
    "seoul_school = total_school_df[total_school_df['시도'] == '서울']\n",
    "good_school = seoul_school[seoul_school['총합'] > 0]\n",
    "seoul_map = folium.Map(location=[37.5614378,126.9751701], zoom_start=11)\n",
    "\n",
    "for n in good_school.index:\n",
    "    folium.Marker([ good_school['위도'][n], good_school['경도'][n] ], popup=good_school['학교명_x'][n]).add_to(seoul_map)"
   ]
  },
  {
   "cell_type": "code",
   "execution_count": null,
   "metadata": {},
   "outputs": [],
   "source": [
    "# [예제 5.8] 서울의 특목고 진학률이 높은 학교와 낮은 학교 비교\n",
    "\n",
    "seoul_school['비율'] = seoul_school['총합'] /seoul_school['졸업자'] * 100\n",
    "good_school = seoul_school[seoul_school['비율'] >= 3]\n",
    "bad_school = seoul_school[seoul_school['비율'] < 3]\n",
    "seoul_map = folium.Map(location=[37.5614378,126.9751701], zoom_start=11)\n",
    "\n",
    "for n in good_school.index:\n",
    "    folium.CircleMarker([ good_school['위도'][n], good_school['경도'][n] ], color='crimson',fill_color='crimson', radius=7).add_to(seoul_map)\n",
    "\n",
    "for n in bad_school.index:\n",
    "    folium.CircleMarker([ bad_school['위도'][n], bad_school['경도'][n] ], color='#3186cc',fill_color='#3186cc',  radius=7).add_to(seoul_map)"
   ]
  },
  {
   "cell_type": "code",
   "execution_count": null,
   "metadata": {},
   "outputs": [],
   "source": [
    "# [예제 5.9] 대전의 특목고 진학률이 높은 학교와 낮은 학교 비교\n",
    "\n",
    "sido_school = total_school_df[total_school_df['시도'] == '대전']\n",
    "sido_school['비율'] = sido_school['총합'] /sido_school['졸업자'] * 100\n",
    "good_school = sido_school[sido_school['비율'] >= 3]\n",
    "bad_school = sido_school[sido_school['비율'] < 3]\n",
    "sido_map = folium.Map(location=[36.350461,127.38263], zoom_start=11)\n",
    "\n",
    "for n in good_school.index:\n",
    "    folium.CircleMarker([ good_school['위도'][n], good_school['경도'][n] ], color='crimson',fill_color='crimson', radius=7).add_to(sido_map )\n",
    "\n",
    "for n in bad_school.index:\n",
    "    folium.CircleMarker([ bad_school['위도'][n], bad_school['경도'][n] ], color='#3186cc',fill_color='#3186cc',  radius=7).add_to(sido_map )"
   ]
  },
  {
   "cell_type": "code",
   "execution_count": null,
   "metadata": {},
   "outputs": [],
   "source": [
    "# [예제 5.10] 법정동 코드 정리\n",
    "\n",
    "# local_code = pd.read_excel(r'C:\\Users\\JK\\Desktop\\부동산 데이터\\KIKcd_B.20190101.xlsx')\n",
    "local_code = pd.read_excel(r' 법정동 코드 데이터 디렉터리 \\ 법정동 코드 엑셀 파일명.xlsx')\n",
    "local_code['법정동코드'] = local_code['법정동코드'].apply(lambda x: str(x)[:5])\n",
    "filtered_code = local_code[['법정동코드', '시도명', '시군구명']].drop_duplicates()\n",
    "filtered_code.dropna(inplace=True)\n",
    "filtered_code.loc[20477] = ('36110', '세종', '세종')"
   ]
  },
  {
   "cell_type": "code",
   "execution_count": null,
   "metadata": {
    "scrolled": false
   },
   "outputs": [],
   "source": [
    "# [예제 5.11] 법정동 코드 시도명 바꾸기\n",
    "\n",
    "def get_sido(x):\n",
    "    temp = x.split(' ')[0]\n",
    "    if len(temp) != 4:\n",
    "        return temp[:2]\n",
    "    else:\n",
    "        return temp[0] + temp[2]\n",
    "    \n",
    "filtered_code['시도명'] = filtered_code['시도명'].dropna().apply(get_sido)\n",
    "filtered_code['시군구명'] = filtered_code['시군구명'].dropna().apply(lambda x : x.split(' ')[-1])"
   ]
  },
  {
   "cell_type": "code",
   "execution_count": null,
   "metadata": {},
   "outputs": [],
   "source": [
    "# [예제 5.12] KB부동산 데이터에서 매매가격 지수 데이터프레임으로 가져오기\n",
    "\n",
    "import xlwings as xw\n",
    "\n",
    "def KBpriceindex_preprocessing(path, data_type):\n",
    "    # path : KB 데이터 엑셀 파일의 디렉토리 (문자열)\n",
    "    # data_type : ‘매매종합’, ‘매매APT’, ‘매매연립’, ‘매매단독’, ‘전세종합’, ‘전세APT’, ‘전세연립’, ‘전세단독’ 중 하나\n",
    "    \n",
    "    wb = xw.Book(path)                \n",
    "    sheet = wb.sheets[data_type]   \n",
    "    row_num = sheet.range(1,1).end('down').end('down').end('down').row  \n",
    "    data_range = 'A2:GE' + str(row_num)\n",
    "    raw_data = sheet[data_range].options(pd.DataFrame, index=False, header=True).value \n",
    "    \n",
    "    bignames = '서울 대구 부산 대전 광주 인천 울산 세종 경기 강원 충북 충남 전북 전남 경북 경남 제주도 6개광역시 5개광역시 수도권 기타지방 구분 전국'\n",
    "    bigname_list = bignames.split(' ')\n",
    "    big_col = list(raw_data.columns)\n",
    "    small_col = list(raw_data.iloc[0])\n",
    "\n",
    "    for num, gu_data in enumerate(small_col):\n",
    "        if gu_data == None:\n",
    "            small_col[num] = big_col[num]\n",
    "\n",
    "        check = num\n",
    "        while True:\n",
    "            if big_col[check] in bigname_list:\n",
    "                big_col[num] = big_col[check]\n",
    "                break\n",
    "            else:\n",
    "                check = check - 1\n",
    "                \n",
    "    big_col[129] = '경기' \n",
    "    big_col[130] = '경기'\n",
    "    small_col[185] = '서귀포'\n",
    "    \n",
    "    raw_data.columns = [big_col, small_col]\n",
    "    new_col_data = raw_data.drop([0,1])\n",
    "    \n",
    "    index_list = list(new_col_data['구분']['구분'])\n",
    "\n",
    "    new_index = []\n",
    "\n",
    "    for num, raw_index in enumerate(index_list):\n",
    "        temp = str(raw_index).split('.')\n",
    "        if int(temp[0]) > 12 :\n",
    "            if len(temp[0]) == 2:\n",
    "                new_index.append('19' + temp[0] + '.' + temp[1])\n",
    "            else:\n",
    "                new_index.append(temp[0] + '.' + temp[1])\n",
    "        else:\n",
    "            new_index.append(new_index[num-1].split('.')[0] + '.' + temp[0])\n",
    "\n",
    "    new_col_data.set_index(pd.to_datetime(new_index), inplace=True)\n",
    "    cleaned_data  = new_col_data.drop(('구분', '구분'), axis=1)\n",
    "    return cleaned_data\n",
    "\n",
    "\n",
    "path =  r' 여러분이 내려 받은 KB 엑셀파일의 디렉터리를 넣으세요 \\ KB엑셀 파일명.xls'\n",
    "price_index = KBpriceindex_preprocessing(path, '매매apt')"
   ]
  },
  {
   "cell_type": "code",
   "execution_count": null,
   "metadata": {},
   "outputs": [],
   "source": [
    "# [예제 5.13] 매매가격 지수의 증감률 구하여 데이터프레임으로 만들기\n",
    "\n",
    "diff_pct = ((price_index.loc['2018-6-1']/price_index.loc['2017-6-1']) - 1) * 100\n",
    "diff_df = pd.DataFrame({'증감률':diff_pct})"
   ]
  },
  {
   "cell_type": "code",
   "execution_count": null,
   "metadata": {},
   "outputs": [],
   "source": [
    "diff_df"
   ]
  },
  {
   "cell_type": "code",
   "execution_count": null,
   "metadata": {},
   "outputs": [],
   "source": [
    "# [예제 5.14] 증감률 데이터프레임에 법정동 코드 추가\n",
    "\n",
    "filtered_code.index = [filtered_code['시도명'], filtered_code['시군구명']]\n",
    "\n",
    "code = []\n",
    "for local in diff_df.index:\n",
    "    if local[0] in filtered_code.index:\n",
    "        temp_df = filtered_code.loc[local[0]]\n",
    "        if local[1] in temp_df.index:\n",
    "            code.append(temp_df.loc[local[1]]['법정동코드'])\n",
    "        elif local[1] + '시' in temp_df.index:\n",
    "            code.append(temp_df.loc[local[1] + '시']['법정동코드'])\n",
    "        elif local[1] == '세종':\n",
    "            code.append('36110')\n",
    "        else:\n",
    "            code.append('')\n",
    "    else:\n",
    "        code.append('')\n",
    "        \n",
    "diff_df['법정동코드'] = code"
   ]
  },
  {
   "cell_type": "code",
   "execution_count": null,
   "metadata": {},
   "outputs": [],
   "source": [
    "# [예제 5.15] folium으로 choropleth 매매가격 지수 증감률 지도 만들기 \n",
    "\n",
    "import json\n",
    "\n",
    "# rfile = open(r'C:\\Users\\JK\\Desktop\\부동산 데이터\\TL_SCCO_SIG_WGS84.json', 'r', encoding='utf-8').read()\n",
    "rfile = open(r' json 파일 디렉터리 \\TL_SCCO_SIG_WGS84.json', 'r', encoding='utf-8').read()\n",
    "jsonData = json.loads(rfile)\n",
    "    \n",
    "korea_map = folium.Map(location=[36, 127], zoom_start=7)\n",
    "    \n",
    "korea_map.choropleth(\n",
    " geo_data=jsonData,\n",
    " data=diff_df,\n",
    " columns=['법정동코드', '증감률'],\n",
    " key_on='feature.properties.SIG_CD',\n",
    " fill_color='RdYlGn',\n",
    " fill_opacity=0.7,\n",
    " line_opacity=0.5,\n",
    " legend_name='증감률(%)'\n",
    ")"
   ]
  },
  {
   "cell_type": "code",
   "execution_count": null,
   "metadata": {},
   "outputs": [],
   "source": [
    "# 만들어진 지도 저장하기 \n",
    "\n",
    "korea_map.save(r'저장할 위치 디렉터리\\저장할 이름.html')"
   ]
  }
 ],
 "metadata": {
  "kernelspec": {
   "display_name": "Python 3",
   "language": "python",
   "name": "python3"
  },
  "language_info": {
   "codemirror_mode": {
    "name": "ipython",
    "version": 3
   },
   "file_extension": ".py",
   "mimetype": "text/x-python",
   "name": "python",
   "nbconvert_exporter": "python",
   "pygments_lexer": "ipython3",
   "version": "3.6.4"
  }
 },
 "nbformat": 4,
 "nbformat_minor": 2
}
