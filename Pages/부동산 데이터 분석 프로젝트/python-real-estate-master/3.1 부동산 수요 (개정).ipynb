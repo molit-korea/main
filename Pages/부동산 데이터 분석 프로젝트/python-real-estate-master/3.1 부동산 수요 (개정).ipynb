{
 "cells": [
  {
   "cell_type": "code",
   "execution_count": null,
   "metadata": {},
   "outputs": [],
   "source": [
    "# [예제 3.1] 아파트 매매, 전세 지수 데이터 전처리 시키기\n",
    "import xlwings as xw\n",
    "import pandas as pd\n",
    "\n",
    "def KBpriceindex_preprocessing(path, data_type):\n",
    "    # path : KB 데이터 엑셀 파일의 디렉토리 (문자열)\n",
    "    # data_type : ‘매매종합’, ‘매매APT’, ‘매매연립’, ‘매매단독’, ‘전세종합’, ‘전세APT’, ‘전세연립’, ‘전세단독’ 중 하나\n",
    "    \n",
    "    wb = xw.Book(path)                \n",
    "    sheet = wb.sheets[data_type]   \n",
    "    row_num = sheet.range(1,1).end('down').end('down').end('down').row  \n",
    "    data_range = 'A2:GE' + str(row_num)\n",
    "    raw_data = sheet[data_range].options(pd.DataFrame, index=False, header=True).value \n",
    "    \n",
    "    bignames = '서울 대구 부산 대전 광주 인천 울산 세종 경기 강원 충북 충남 전북 전남 경북 경남 제주도 6개광역시 5개광역시 수도권 기타지방 구분 전국'\n",
    "    bigname_list = bignames.split(' ')\n",
    "    big_col = list(raw_data.columns)\n",
    "    small_col = list(raw_data.iloc[0])\n",
    "\n",
    "    for num, gu_data in enumerate(small_col):\n",
    "        if gu_data == None:\n",
    "            small_col[num] = big_col[num]\n",
    "\n",
    "        check = num\n",
    "        while True:\n",
    "            if big_col[check] in bigname_list:\n",
    "                big_col[num] = big_col[check]\n",
    "                break\n",
    "            else:\n",
    "                check = check - 1\n",
    "                \n",
    "    big_col[129] = '경기' \n",
    "    big_col[130] = '경기'\n",
    "    small_col[185] = '서귀포'\n",
    "    \n",
    "    raw_data.columns = [big_col, small_col]\n",
    "    new_col_data = raw_data.drop([0,1])\n",
    "    \n",
    "    index_list = list(new_col_data['구분']['구분'])\n",
    "\n",
    "    new_index = []\n",
    "\n",
    "    for num, raw_index in enumerate(index_list):\n",
    "        temp = str(raw_index).split('.')\n",
    "        if int(temp[0]) > 12 :\n",
    "            if len(temp[0]) == 2:\n",
    "                new_index.append('19' + temp[0] + '.' + temp[1])\n",
    "            else:\n",
    "                new_index.append(temp[0] + '.' + temp[1])\n",
    "        else:\n",
    "            new_index.append(new_index[num-1].split('.')[0] + '.' + temp[0])\n",
    "\n",
    "    new_col_data.set_index(pd.to_datetime(new_index), inplace=True)\n",
    "    cleaned_data  = new_col_data.drop(('구분', '구분'), axis=1)\n",
    "    return cleaned_data\n",
    "\n",
    "\n",
    "path = r' 여러분이 내려 받은 KB 엑셀파일의 디렉터리를 넣으세요 \\ KB엑셀 파일명.xls'\n",
    "price_index = KBpriceindex_preprocessing(path, '매매apt')\n",
    "jeonse_index = KBpriceindex_preprocessing(path, '전세apt')"
   ]
  },
  {
   "cell_type": "code",
   "execution_count": null,
   "metadata": {},
   "outputs": [],
   "source": [
    "# [예제 3.2] KBpriceindex_preprocessing 함수 실행\n",
    "\n",
    "import xlwings as xw\n",
    "\n",
    "def KBpriceindex_preprocessing(path, data_type):\n",
    "    # path : KB 데이터 엑셀 파일의 디렉토리 (문자열)\n",
    "    # data_type : ‘매매종합’, ‘매매APT’, ‘매매연립’, ‘매매단독’, ‘전세종합’, ‘전세APT’, ‘전세연립’, ‘전세단독’ 중 하나\n",
    "    \n",
    "    wb = xw.Book(path)                \n",
    "    sheet = wb.sheets[data_type]   \n",
    "    row_num = sheet.range(1,1).end('down').end('down').end('down').row  \n",
    "    data_range = 'A2:GE' + str(row_num)\n",
    "    raw_data = sheet[data_range].options(pd.DataFrame, index=False, header=True).value \n",
    "    \n",
    "    bignames = '서울 대구 부산 대전 광주 인천 울산 세종 경기 강원 충북 충남 전북 전남 경북 경남 제주도 6개광역시 5개광역시 수도권 기타지방 구분 전국'\n",
    "    bigname_list = bignames.split(' ')\n",
    "    big_col = list(raw_data.columns)\n",
    "    small_col = list(raw_data.iloc[0])\n",
    "\n",
    "    for num, gu_data in enumerate(small_col):\n",
    "        if gu_data == None:\n",
    "            small_col[num] = big_col[num]\n",
    "\n",
    "        check = num\n",
    "        while True:\n",
    "            if big_col[check] in bigname_list:\n",
    "                big_col[num] = big_col[check]\n",
    "                break\n",
    "            else:\n",
    "                check = check - 1\n",
    "                \n",
    "    big_col[129] = '경기' \n",
    "    big_col[130] = '경기'\n",
    "    small_col[185] = '서귀포'\n",
    "    \n",
    "    raw_data.columns = [big_col, small_col]\n",
    "    new_col_data = raw_data.drop([0,1])\n",
    "    \n",
    "    index_list = list(new_col_data['구분']['구분'])\n",
    "\n",
    "    new_index = []\n",
    "\n",
    "    for num, raw_index in enumerate(index_list):\n",
    "        temp = str(raw_index).split('.')\n",
    "        if int(temp[0]) > 20 :\n",
    "            if len(temp[0]) == 2:\n",
    "                new_index.append('19' + temp[0] + '.' + temp[1])\n",
    "            else:\n",
    "                new_index.append(temp[0] + '.' + temp[1])\n",
    "        else:\n",
    "            new_index.append(new_index[num-1].split('.')[0] + '.' + temp[0])\n",
    "\n",
    "    new_col_data.set_index(pd.to_datetime(new_index), inplace=True)\n",
    "    cleaned_data  = new_col_data.drop(('구분', '구분'), axis=1)\n",
    "    return cleaned_data"
   ]
  },
  {
   "cell_type": "code",
   "execution_count": null,
   "metadata": {},
   "outputs": [],
   "source": [
    "# [예제 3.3] 아파트 매매가 지수, 전세가 지수 가져오기\n",
    "\n",
    "import pandas as pd\n",
    "\n",
    "path = r' 여러분이 내려 받은 KB 엑셀파일의 디렉터리를 넣으세요 \\ KB엑셀 파일명.xls'\n",
    "price_index = KBpriceindex_preprocessing(path, '매매apt')\n",
    "jeonse_index = KBpriceindex_preprocessing(path, '전세apt')"
   ]
  },
  {
   "cell_type": "code",
   "execution_count": null,
   "metadata": {},
   "outputs": [],
   "source": [
    "# [예제 3.4] 매매가 지수 데이터프레임에서 날짜를 기준으로 데이터 가져오기\n",
    "\n",
    "from datetime import datetime\n",
    "from dateutil.relativedelta import relativedelta\n",
    "\n",
    "index_date = datetime(2010, 1, 1)\n",
    "time_range = 12\n",
    "prev_date = index_date - relativedelta(months=time_range)\n",
    "\n",
    "print(index_date)\n",
    "print(prev_date)\n",
    "\n",
    "price_index.loc[index_date]"
   ]
  },
  {
   "cell_type": "code",
   "execution_count": null,
   "metadata": {
    "scrolled": true
   },
   "outputs": [],
   "source": [
    "# [예제 3.5] 1년 동안의 매매가 지수 증감 구하기\n",
    "\n",
    "(price_index.loc[index_date] - price_index.loc[prev_date])/price_index.loc[prev_date]"
   ]
  },
  {
   "cell_type": "code",
   "execution_count": null,
   "metadata": {},
   "outputs": [],
   "source": [
    "# [예제 3.6] 매매가, 전세가 지수 증감률을 계산해서 데이터프레임 형태로 저장(ch03/ 3.1 부동산 수요.ipynb)\n",
    "\n",
    "demand_df = pd.DataFrame()\n",
    "demand_df['매매증감률'] = (price_index.loc[index_date] - price_index.loc[prev_date])/ price_index.loc[prev_date]\n",
    "demand_df['전세증감률'] = (jeonse_index.loc[index_date] - jeonse_index.loc[prev_date])/jeonse_index.loc[prev_date]"
   ]
  },
  {
   "cell_type": "code",
   "execution_count": null,
   "metadata": {
    "scrolled": true
   },
   "outputs": [],
   "source": [
    "# [예제 3.7] 기준 날짜로부터 지난 3년간의 데이터 가져오기\n",
    "\n",
    "prev_date2 = index_date - relativedelta(months=time_range*3)\n",
    "price_index[prev_date2:index_date][:-1]"
   ]
  },
  {
   "cell_type": "code",
   "execution_count": null,
   "metadata": {},
   "outputs": [],
   "source": [
    "# [예제 3.8] demand_df에 지난 최댓값과 기준 날짜 값의 최댓값 대비 증감률 저장\n",
    "\n",
    "demand_df['이전최대값'] = price_index[prev_date2:index_date][:-1].max()\n",
    "demand_df['최댓값대비증감률'] = (price_index.loc[index_date] - demand_df['이전최대값']) /demand_df['이전최대값']"
   ]
  },
  {
   "cell_type": "code",
   "execution_count": null,
   "metadata": {},
   "outputs": [],
   "source": [
    "# [예제 3.9] 매매가 지수와 전세가 지수의 상승여부를 계산해 demand_df에 저장\n",
    "\n",
    "demand_df['매매가상승'] = demand_df['매매증감률'] > 0.01\n",
    "demand_df['전세가상승'] = demand_df['전세증감률'] > 0.01"
   ]
  },
  {
   "cell_type": "code",
   "execution_count": null,
   "metadata": {},
   "outputs": [],
   "source": [
    "# [예제 3.10] 전세가 지수 상승이 매매가 지수 상승보다 빠른지와 \n",
    "# 기준 날짜의 매매가 지수 값이 지난 3년의 최댓값보다 큰지 계산하여 demand_df에 저장\n",
    "\n",
    "demand_df['더빠른전세상승'] = demand_df['전세증감률'] > demand_df['매매증감률']\n",
    "demand_df['최댓값대비상승'] = demand_df['최댓값대비증감률'] > 0"
   ]
  },
  {
   "cell_type": "code",
   "execution_count": null,
   "metadata": {},
   "outputs": [],
   "source": [
    "# [예제 3.11] 지역별로 수요 조건의 총합 구하기 (ch03/ 3.1 부동산 수요.ipynb)\n",
    "\n",
    "demand_df['수요총합'] = demand_df[['매매가상승','전세가상승','더빠른전세상승','최댓값대비상승']].sum(axis=1)"
   ]
  },
  {
   "cell_type": "code",
   "execution_count": null,
   "metadata": {},
   "outputs": [],
   "source": [
    "# [예제 3.12] 수요총합이 4점인 지역만 보기\n",
    "\n",
    "demand_df = demand_df[demand_df['수요총합'] == 4]"
   ]
  },
  {
   "cell_type": "code",
   "execution_count": null,
   "metadata": {},
   "outputs": [],
   "source": [
    "# [예제 3.13] demand_df에서 원하는 지역만 남기기 \n",
    "\n",
    "demand_df.loc[[('서울','동대문구'), ('부산', '중구')]]"
   ]
  },
  {
   "cell_type": "code",
   "execution_count": null,
   "metadata": {},
   "outputs": [],
   "source": [
    "# [예제 3.14] 시군 단위의 인덱스만 남기기\n",
    "\n",
    "seleted_index = []\n",
    "\n",
    "for name in demand_df.index:\n",
    "    if name[0] is not name[1]:\n",
    "        seleted_index.append((name[0], name[1]))\n",
    "        \n",
    "demand_df = demand_df.loc[seleted_index]"
   ]
  },
  {
   "cell_type": "code",
   "execution_count": null,
   "metadata": {},
   "outputs": [],
   "source": [
    "# [예제 3.15] 코드를 정리해 함수화 하기 \n",
    "\n",
    "def demand(price_index, jeonse_index, index_date, time_range):\n",
    "\n",
    "    prev_date = index_date - relativedelta(months=time_range)\n",
    "    prev_date2 = index_date - relativedelta(months=time_range*3)\n",
    "\n",
    "    demand_df = pd.DataFrame()\n",
    "    demand_df['매매증감률'] = (price_index.loc[index_date] - price_index.loc[prev_date])/ price_index.loc[prev_date].replace(0,None)\n",
    "    demand_df['전세증감률'] = (jeonse_index.loc[index_date] - jeonse_index.loc[prev_date])/jeonse_index.loc[prev_date].replace(0,None)\n",
    "    demand_df['이전최대값'] = price_index[prev_date2:index_date][:-1].max()\n",
    "    demand_df['최댓값대비증감률'] = (price_index.loc[index_date] - demand_df['이전최대값']) /demand_df['이전최대값'].replace(0,None)\n",
    "\n",
    "    demand_df['매매가상승'] = demand_df['매매증감률'] > 0.01\n",
    "    demand_df['전세가상승'] = demand_df['전세증감률'] > 0.01\n",
    "    demand_df['더빠른전세상승'] = demand_df['전세증감률'] > demand_df['매매증감률']\n",
    "    demand_df['최댓값대비상승'] = demand_df['최댓값대비증감률'] > 0\n",
    "    demand_df['수요총합'] = demand_df[['매매가상승','전세가상승','더빠른전세상승','최댓값대비상승']].sum(axis=1)\n",
    "\n",
    "    demand_df = demand_df[demand_df['수요총합'] == 4]\n",
    "\n",
    "    seleted_index = []\n",
    "\n",
    "    for name in demand_df.index:\n",
    "        if name[0] is not name[1]:\n",
    "            seleted_index.append((name[0], name[1]))\n",
    "\n",
    "    demand_df = demand_df.loc[seleted_index]\n",
    "    \n",
    "    return demand_df"
   ]
  },
  {
   "cell_type": "code",
   "execution_count": null,
   "metadata": {},
   "outputs": [],
   "source": [
    "# [예제 3.16] demand 함수 사용 예시\n",
    "\n",
    "path = r' 여러분이 내려 받은 KB 엑셀파일의 디렉터리를 넣으세요 \\ KB엑셀 파일명.xls'\n",
    "price_index = KBpriceindex_preprocessing(path, '매매apt')\n",
    "jeonse_index = KBpriceindex_preprocessing(path, '전세apt')\n",
    "\n",
    "index_date = datetime(2010, 1, 1)\n",
    "time_range = 12\n",
    "\n",
    "demand_ex = demand(price_index, jeonse_index, index_date, time_range)"
   ]
  },
  {
   "cell_type": "code",
   "execution_count": null,
   "metadata": {},
   "outputs": [],
   "source": [
    "# [예제 3.17] matplotlib를 불러오고 한글폰트 \n",
    "\n",
    "import matplotlib.pyplot as plt\n",
    "from matplotlib import font_manager, rc\n",
    "from matplotlib import style\n",
    "style.use('ggplot')\n",
    "%matplotlib inline\n",
    "\n",
    "font_name = font_manager.FontProperties(fname=\"c:/Windows/Fonts/malgun.ttf\").get_name()\n",
    "rc('font', family=font_name)\n",
    "# 맥OS인 경우 위 두 줄을 입력하지 말고 아래 코드를 입력하세요\n",
    "# rc('font', family='AppleGothic')\n",
    "plt.rcParams['axes.unicode_minus'] = False"
   ]
  },
  {
   "cell_type": "code",
   "execution_count": null,
   "metadata": {},
   "outputs": [],
   "source": [
    "# [예제 3.18] 특정 날짜를 기준으로 부산 중구 그래프 그리기 \n",
    "\n",
    "si = '부산'\n",
    "gu = '중구'\n",
    "index_date = datetime(2010, 1, 1)\n",
    "\n",
    "prev_date = index_date - relativedelta(months=12)\n",
    "prev_date2 = index_date - relativedelta(months=36)\n",
    "graph_start = index_date - relativedelta(years=3)\n",
    "graph_end = index_date + relativedelta(years=3)\n",
    "\n",
    "plt.figure(figsize=(10, 5))\n",
    "plt.title(si + ' - ' + gu)\n",
    "plt.plot(price_index[si][gu][graph_start:graph_end], label='매매가')\n",
    "plt.plot(jeonse_index[si][gu][graph_start:graph_end], label='전세가')\n",
    "plt.axvline(x=index_date, color='lightcoral', linestyle='--')\n",
    "plt.axvline(x=prev_date, color='darkseagreen', linestyle='--')\n",
    "plt.axvline(x=prev_date2, color='darkseagreen', linestyle='--')\n",
    "plt.legend()\n",
    "plt.show()"
   ]
  },
  {
   "cell_type": "code",
   "execution_count": null,
   "metadata": {},
   "outputs": [],
   "source": [
    "# [예제 3.19] 수요전략의 결과 데이터프레임에서 지역 이름 가져오기\n",
    "\n",
    "for name in demand_ex.index:\n",
    "    print(name)"
   ]
  },
  {
   "cell_type": "code",
   "execution_count": null,
   "metadata": {},
   "outputs": [],
   "source": [
    "# [예제 3.20] demand 함수를 이용해 선택 된 전 지역의 그래프 그리기 \n",
    "\n",
    "index_date = datetime(2010, 1, 1)\n",
    "\n",
    "time_range = 12\n",
    "prev_date = index_date - relativedelta(months=time_range)\n",
    "prev_date2 = index_date - relativedelta(months=time_range * 3)\n",
    "graph_start = index_date - relativedelta(months=time_range * 3)\n",
    "graph_end = index_date + relativedelta(months=time_range * 3)\n",
    "\n",
    "num_row = int((len(demand_ex.index)-1)/2)+1\n",
    "\n",
    "plt.figure(figsize=(15, num_row*5))\n",
    "for i, spot in enumerate(demand_ex.index):\n",
    "    plt.subplot(num_row, 2, i+1)\n",
    "    plt.title(spot)\n",
    "    si = spot[0]\n",
    "    gu = spot[1]\n",
    "    plt.plot(price_index[si][gu][graph_start:graph_end], label='매매가')\n",
    "    plt.plot(jeonse_index[si][gu][graph_start:graph_end], label='전세가')\n",
    "    plt.axvline(x=index_date, color='lightcoral', linestyle='--')\n",
    "    plt.axvline(x=prev_date, color='darkseagreen', linestyle='--')\n",
    "    plt.axvline(x=prev_date2, color='darkseagreen', linestyle='--')\n",
    "    plt.legend(loc='lower right')\n",
    "    \n",
    "plt.show()"
   ]
  }
 ],
 "metadata": {
  "kernelspec": {
   "display_name": "Python 3",
   "language": "python",
   "name": "python3"
  },
  "language_info": {
   "codemirror_mode": {
    "name": "ipython",
    "version": 3
   },
   "file_extension": ".py",
   "mimetype": "text/x-python",
   "name": "python",
   "nbconvert_exporter": "python",
   "pygments_lexer": "ipython3",
   "version": "3.6.4"
  }
 },
 "nbformat": 4,
 "nbformat_minor": 2
}
