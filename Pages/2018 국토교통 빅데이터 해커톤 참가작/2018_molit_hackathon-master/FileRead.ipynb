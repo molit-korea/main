{
 "cells": [
  {
   "cell_type": "code",
   "execution_count": 13,
   "metadata": {},
   "outputs": [],
   "source": [
    "import pandas as pd\n",
    "import numpy as np\n",
    "import urllib.request\n",
    "import xml.etree.ElementTree as ET   \n",
    "from pprint import pprint"
   ]
  },
  {
   "cell_type": "code",
   "execution_count": 56,
   "metadata": {},
   "outputs": [],
   "source": [
    "def query_sender(citicode, route):\n",
    "    url = 'http://openapi.tago.go.kr/openapi/service/BusRouteInfoInqireService/getRouteNoList?'\n",
    "    code_info = '&cityCode=' + citicode + '&routeNo=' + route\n",
    "    key = 'serviceKey=A%2B5yiKxuv%2FA7XoZ1NHQJAzOG9LvrCcXAxTvzpiw23AVvZORC6nZVbb9ePvaCDWR0ebeRjP0K6ZCujm8hxzXpiw%3D%3D'\n",
    "    request = urllib.request.Request(url + key + code_info )\n",
    "    request.get_method = lambda: 'GET'\n",
    "    response_body = urllib.request.urlopen(request).read()\n",
    "    u = str(response_body ,'utf-8')\n",
    "    return u\n",
    "def xml_to_item_list(xml_string):\n",
    "    result = []\n",
    "    root = ET.fromstring(xml_string)\n",
    "    elements = root.findall('body/items/item')\n",
    "    item_list = []\n",
    "    for item in elements:\n",
    "        try:\n",
    "            item_list = []\n",
    "            #item_list.append(BeginDate)\n",
    "            item_list.append(item.find('routeid').text)\n",
    "            item_list.append(item.find('routeno').text)\n",
    "            item_list.append(item.find('routetp').text)\n",
    "            item_list.append(item.find('endnodenm').text)\n",
    "            item_list.append(item.find('startnodenm').text)\n",
    "            item_list.append(item.find('endvehicletime').text)\n",
    "            item_list.append(item.find('startvehicletime').text)\n",
    "            result.append(item_list)\n",
    "        except Exception as e:\n",
    "            print(e)\n",
    "            print(\"This row will be ignored. \",item_list)\n",
    "    return result"
   ]
  },
  {
   "cell_type": "code",
   "execution_count": 71,
   "metadata": {},
   "outputs": [],
   "source": [
    "def query_sender2():\n",
    "    url = 'http://openapi.tago.go.kr/openapi/service/TrainInfoService/getCtyCodeList?'\n",
    "    key = 'serviceKey=A%2B5yiKxuv%2FA7XoZ1NHQJAzOG9LvrCcXAxTvzpiw23AVvZORC6nZVbb9ePvaCDWR0ebeRjP0K6ZCujm8hxzXpiw%3D%3D'\n",
    "    request = urllib.request.Request(url + key  )\n",
    "    request.get_method = lambda: 'GET'\n",
    "    response_body = urllib.request.urlopen(request).read()\n",
    "    u = str(response_body ,'utf-8')\n",
    "    return u\n",
    "def xml_to_item_list2(xml_string):\n",
    "    result = []\n",
    "    root = ET.fromstring(xml_string)\n",
    "    elements = root.findall('body/items/item')\n",
    "    item_list = []\n",
    "    for item in elements:\n",
    "        try:\n",
    "            item_list = []\n",
    "            #item_list.append(BeginDate)\n",
    "            item_list.append(item.find('citicode').text)\n",
    "            item_list.append(item.find('citiname').text)\n",
    "            result.append(item_list)\n",
    "        except Exception as e:\n",
    "            print(e)\n",
    "            print(\"This row will be ignored. \",item_list)\n",
    "    return result"
   ]
  },
  {
   "cell_type": "code",
   "execution_count": null,
   "metadata": {},
   "outputs": [],
   "source": [
    "def query_sender2(id1):\n",
    "    url = 'http://openapi.tago.go.kr/openapi/service/BusRouteInfoInqireService/getRouteNoList?'\n",
    "    code_info = '&id='+ id1\n",
    "    key = 'serviceKey=A%2B5yiKxuv%2FA7XoZ1NHQJAzOG9LvrCcXAxTvzpiw23AVvZORC6nZVbb9ePvaCDWR0ebeRjP0K6ZCujm8hxzXpiw%3D%3D'\n",
    "    request = urllib.request.Request(url + key + code_info )\n",
    "    request.get_method = lambda: 'GET'\n",
    "    response_body = urllib.request.urlopen(request).read()\n",
    "    u = str(response_body ,'utf-8')\n",
    "    return u\n",
    "def xml_to_item_list2(xml_string):\n",
    "    result = []\n",
    "    root = ET.fromstring(xml_string)\n",
    "    elements = root.findall('body/items/item')\n",
    "    item_list = []\n",
    "    for item in elements:\n",
    "        try:\n",
    "            item_list = []\n",
    "            #item_list.append(BeginDate)\n",
    "            item_list.append(item.find('citicode').text)\n",
    "            item_list.append(item.find('citiname').text)\n",
    "            result.append(item_list)\n",
    "        except Exception as e:\n",
    "            print(e)\n",
    "            print(\"This row will be ignored. \",item_list)\n",
    "    return result"
   ]
  },
  {
   "cell_type": "code",
   "execution_count": 72,
   "metadata": {},
   "outputs": [],
   "source": [
    "xml = query_sender2()"
   ]
  },
  {
   "cell_type": "code",
   "execution_count": 74,
   "metadata": {},
   "outputs": [
    {
     "data": {
      "text/plain": [
       "'<?xml version=\"1.0\" encoding=\"UTF-8\" standalone=\"yes\"?><response><header><resultCode>99</resultCode><resultMsg>SERVICE ACCESS DENIED ERROR.</resultMsg></header></response>'"
      ]
     },
     "execution_count": 74,
     "metadata": {},
     "output_type": "execute_result"
    }
   ],
   "source": [
    "xml"
   ]
  },
  {
   "cell_type": "code",
   "execution_count": 70,
   "metadata": {},
   "outputs": [
    {
     "ename": "TypeError",
     "evalue": "query_sender() missing 1 required positional argument: 'route'",
     "output_type": "error",
     "traceback": [
      "\u001b[1;31m---------------------------------------------------------------------------\u001b[0m",
      "\u001b[1;31mTypeError\u001b[0m                                 Traceback (most recent call last)",
      "\u001b[1;32m<ipython-input-70-9301eeefbd2c>\u001b[0m in \u001b[0;36m<module>\u001b[1;34m()\u001b[0m\n\u001b[1;32m----> 1\u001b[1;33m \u001b[0mxml_string_1\u001b[0m \u001b[1;33m=\u001b[0m \u001b[0mquery_sender\u001b[0m\u001b[1;33m(\u001b[0m\u001b[1;34m'11'\u001b[0m\u001b[1;33m)\u001b[0m\u001b[1;33m\u001b[0m\u001b[0m\n\u001b[0m",
      "\u001b[1;31mTypeError\u001b[0m: query_sender() missing 1 required positional argument: 'route'"
     ]
    }
   ],
   "source": [
    "xml_string_1 = query_sender('11', )"
   ]
  },
  {
   "cell_type": "code",
   "execution_count": 69,
   "metadata": {},
   "outputs": [
    {
     "data": {
      "text/plain": [
       "'<?xml version=\"1.0\" encoding=\"UTF-8\" standalone=\"yes\"?><response><header><resultCode>00</resultCode><resultMsg>NORMAL SERVICE.</resultMsg></header><body><items/><numOfRows>10</numOfRows><pageNo>1</pageNo><totalCount>0</totalCount></body></response>'"
      ]
     },
     "execution_count": 69,
     "metadata": {},
     "output_type": "execute_result"
    }
   ],
   "source": [
    "xml_string_1"
   ]
  },
  {
   "cell_type": "code",
   "execution_count": 59,
   "metadata": {},
   "outputs": [],
   "source": [
    "item_list_1 = xml_to_item_list(xml_string_1)\n",
    "item_numpy_list_1 = np.array(item_list_1)\n",
    "df1 = pd.DataFrame(item_numpy_list_1) "
   ]
  },
  {
   "cell_type": "code",
   "execution_count": 60,
   "metadata": {},
   "outputs": [
    {
     "data": {
      "text/html": [
       "<div>\n",
       "<style scoped>\n",
       "    .dataframe tbody tr th:only-of-type {\n",
       "        vertical-align: middle;\n",
       "    }\n",
       "\n",
       "    .dataframe tbody tr th {\n",
       "        vertical-align: top;\n",
       "    }\n",
       "\n",
       "    .dataframe thead th {\n",
       "        text-align: right;\n",
       "    }\n",
       "</style>\n",
       "<table border=\"1\" class=\"dataframe\">\n",
       "  <thead>\n",
       "    <tr style=\"text-align: right;\">\n",
       "      <th></th>\n",
       "      <th>0</th>\n",
       "      <th>1</th>\n",
       "      <th>2</th>\n",
       "      <th>3</th>\n",
       "      <th>4</th>\n",
       "      <th>5</th>\n",
       "      <th>6</th>\n",
       "    </tr>\n",
       "  </thead>\n",
       "  <tbody>\n",
       "    <tr>\n",
       "      <th>0</th>\n",
       "      <td>DJB30300004ND</td>\n",
       "      <td>5</td>\n",
       "      <td>마을버스</td>\n",
       "      <td>목련아파트</td>\n",
       "      <td>마을,봉산동</td>\n",
       "      <td>2230</td>\n",
       "      <td>0600</td>\n",
       "    </tr>\n",
       "  </tbody>\n",
       "</table>\n",
       "</div>"
      ],
      "text/plain": [
       "               0  1     2      3       4     5     6\n",
       "0  DJB30300004ND  5  마을버스  목련아파트  마을,봉산동  2230  0600"
      ]
     },
     "execution_count": 60,
     "metadata": {},
     "output_type": "execute_result"
    }
   ],
   "source": [
    "df1.head()"
   ]
  },
  {
   "cell_type": "code",
   "execution_count": 28,
   "metadata": {},
   "outputs": [
    {
     "data": {
      "text/html": [
       "<div>\n",
       "<style scoped>\n",
       "    .dataframe tbody tr th:only-of-type {\n",
       "        vertical-align: middle;\n",
       "    }\n",
       "\n",
       "    .dataframe tbody tr th {\n",
       "        vertical-align: top;\n",
       "    }\n",
       "\n",
       "    .dataframe thead th {\n",
       "        text-align: right;\n",
       "    }\n",
       "</style>\n",
       "<table border=\"1\" class=\"dataframe\">\n",
       "  <thead>\n",
       "    <tr style=\"text-align: right;\">\n",
       "      <th></th>\n",
       "      <th>0</th>\n",
       "    </tr>\n",
       "  </thead>\n",
       "  <tbody>\n",
       "  </tbody>\n",
       "</table>\n",
       "</div>"
      ],
      "text/plain": [
       "Empty DataFrame\n",
       "Columns: [0]\n",
       "Index: []"
      ]
     },
     "execution_count": 28,
     "metadata": {},
     "output_type": "execute_result"
    }
   ],
   "source": [
    "df1.head()"
   ]
  },
  {
   "cell_type": "code",
   "execution_count": 10,
   "metadata": {
    "collapsed": true
   },
   "outputs": [],
   "source": [
    "xml_string_5 = query_sender('20170101','20171231','422400','','','','','','1','30000','')\n",
    "item_list_5 = xml_to_item_list(xml_string_5)\n",
    "item_numpy_list_5 = np.array(item_list_5)\n",
    "df_cat_2017 = pd.DataFrame(item_numpy_list_5) \n"
   ]
  },
  {
   "cell_type": "code",
   "execution_count": 3,
   "metadata": {
    "collapsed": true
   },
   "outputs": [],
   "source": [
    "df_2015 = pd.concat([df1,df2,df3,df4])"
   ]
  },
  {
   "cell_type": "code",
   "execution_count": 5,
   "metadata": {
    "collapsed": true
   },
   "outputs": [],
   "source": [
    "df_2015.to_csv(\"df_2015.csv\",encoding='EUC-KR',header = False,index = False )"
   ]
  },
  {
   "cell_type": "code",
   "execution_count": 4,
   "metadata": {},
   "outputs": [
    {
     "data": {
      "text/plain": [
       "58535"
      ]
     },
     "execution_count": 4,
     "metadata": {},
     "output_type": "execute_result"
    }
   ],
   "source": [
    "len(df_2015)"
   ]
  },
  {
   "cell_type": "code",
   "execution_count": 12,
   "metadata": {
    "collapsed": true
   },
   "outputs": [],
   "source": [
    "df_cat_2017.to_csv(\"2017_cat.csv\",encoding='EUC-KR',header = False,index = False )"
   ]
  },
  {
   "cell_type": "code",
   "execution_count": 18,
   "metadata": {
    "collapsed": true
   },
   "outputs": [],
   "source": [
    "df_cat_2017 = pd.read_csv(\"2017_cat.csv\", encoding = 'euc-kr')"
   ]
  },
  {
   "cell_type": "code",
   "execution_count": 20,
   "metadata": {
    "collapsed": true
   },
   "outputs": [],
   "source": [
    "df_cat_2017['입양여부'] = 0"
   ]
  },
  {
   "cell_type": "code",
   "execution_count": 25,
   "metadata": {},
   "outputs": [
    {
     "data": {
      "text/plain": [
       "6565"
      ]
     },
     "execution_count": 25,
     "metadata": {},
     "output_type": "execute_result"
    }
   ],
   "source": [
    "df_cat_2017['입양여부'].sum()"
   ]
  },
  {
   "cell_type": "code",
   "execution_count": 32,
   "metadata": {},
   "outputs": [
    {
     "data": {
      "text/html": [
       "<div>\n",
       "<style>\n",
       "    .dataframe thead tr:only-child th {\n",
       "        text-align: right;\n",
       "    }\n",
       "\n",
       "    .dataframe thead th {\n",
       "        text-align: left;\n",
       "    }\n",
       "\n",
       "    .dataframe tbody tr th {\n",
       "        vertical-align: top;\n",
       "    }\n",
       "</style>\n",
       "<table border=\"1\" class=\"dataframe\">\n",
       "  <thead>\n",
       "    <tr>\n",
       "      <th></th>\n",
       "      <th colspan=\"2\" halign=\"left\">입양여부</th>\n",
       "    </tr>\n",
       "    <tr>\n",
       "      <th></th>\n",
       "      <th>size</th>\n",
       "      <th>mean</th>\n",
       "    </tr>\n",
       "    <tr>\n",
       "      <th>성별</th>\n",
       "      <th></th>\n",
       "      <th></th>\n",
       "    </tr>\n",
       "  </thead>\n",
       "  <tbody>\n",
       "    <tr>\n",
       "      <th>F</th>\n",
       "      <td>10223</td>\n",
       "      <td>0.262154</td>\n",
       "    </tr>\n",
       "    <tr>\n",
       "      <th>M</th>\n",
       "      <td>10911</td>\n",
       "      <td>0.250390</td>\n",
       "    </tr>\n",
       "    <tr>\n",
       "      <th>Q</th>\n",
       "      <td>5433</td>\n",
       "      <td>0.212222</td>\n",
       "    </tr>\n",
       "  </tbody>\n",
       "</table>\n",
       "</div>"
      ],
      "text/plain": [
       "     입양여부          \n",
       "     size      mean\n",
       "성별                 \n",
       "F   10223  0.262154\n",
       "M   10911  0.250390\n",
       "Q    5433  0.212222"
      ]
     },
     "execution_count": 32,
     "metadata": {},
     "output_type": "execute_result"
    }
   ],
   "source": [
    "df_cat_2017[['성별','입양여부']].groupby('성별').agg([np.size, np.mean])"
   ]
  },
  {
   "cell_type": "code",
   "execution_count": 33,
   "metadata": {},
   "outputs": [
    {
     "data": {
      "text/html": [
       "<div>\n",
       "<style>\n",
       "    .dataframe thead tr:only-child th {\n",
       "        text-align: right;\n",
       "    }\n",
       "\n",
       "    .dataframe thead th {\n",
       "        text-align: left;\n",
       "    }\n",
       "\n",
       "    .dataframe tbody tr th {\n",
       "        vertical-align: top;\n",
       "    }\n",
       "</style>\n",
       "<table border=\"1\" class=\"dataframe\">\n",
       "  <thead>\n",
       "    <tr>\n",
       "      <th></th>\n",
       "      <th colspan=\"2\" halign=\"left\">입양여부</th>\n",
       "    </tr>\n",
       "    <tr>\n",
       "      <th></th>\n",
       "      <th>size</th>\n",
       "      <th>mean</th>\n",
       "    </tr>\n",
       "    <tr>\n",
       "      <th>중성화</th>\n",
       "      <th></th>\n",
       "      <th></th>\n",
       "    </tr>\n",
       "  </thead>\n",
       "  <tbody>\n",
       "    <tr>\n",
       "      <th>N</th>\n",
       "      <td>18397</td>\n",
       "      <td>0.266022</td>\n",
       "    </tr>\n",
       "    <tr>\n",
       "      <th>U</th>\n",
       "      <td>7625</td>\n",
       "      <td>0.193443</td>\n",
       "    </tr>\n",
       "    <tr>\n",
       "      <th>Y</th>\n",
       "      <td>545</td>\n",
       "      <td>0.359633</td>\n",
       "    </tr>\n",
       "  </tbody>\n",
       "</table>\n",
       "</div>"
      ],
      "text/plain": [
       "      입양여부          \n",
       "      size      mean\n",
       "중성화                 \n",
       "N    18397  0.266022\n",
       "U     7625  0.193443\n",
       "Y      545  0.359633"
      ]
     },
     "execution_count": 33,
     "metadata": {},
     "output_type": "execute_result"
    }
   ],
   "source": [
    "df_cat_2017[['중성화','입양여부']].groupby('중성화').agg([np.size, np.mean])"
   ]
  },
  {
   "cell_type": "code",
   "execution_count": 34,
   "metadata": {},
   "outputs": [
    {
     "data": {
      "text/html": [
       "<div>\n",
       "<style>\n",
       "    .dataframe thead tr:only-child th {\n",
       "        text-align: right;\n",
       "    }\n",
       "\n",
       "    .dataframe thead th {\n",
       "        text-align: left;\n",
       "    }\n",
       "\n",
       "    .dataframe tbody tr th {\n",
       "        vertical-align: top;\n",
       "    }\n",
       "</style>\n",
       "<table border=\"1\" class=\"dataframe\">\n",
       "  <thead>\n",
       "    <tr style=\"text-align: right;\">\n",
       "      <th></th>\n",
       "      <th>공고시작일</th>\n",
       "      <th>이미지</th>\n",
       "      <th>상태</th>\n",
       "      <th>성별</th>\n",
       "      <th>중성화</th>\n",
       "      <th>특징</th>\n",
       "      <th>보호소1</th>\n",
       "      <th>보호소2</th>\n",
       "      <th>보호소3</th>\n",
       "      <th>유기번호</th>\n",
       "      <th>접수일</th>\n",
       "      <th>발견장소</th>\n",
       "      <th>품종</th>\n",
       "      <th>색상</th>\n",
       "      <th>나이</th>\n",
       "      <th>체중</th>\n",
       "      <th>공고번호</th>\n",
       "      <th>공고종료일</th>\n",
       "      <th>입양여부</th>\n",
       "    </tr>\n",
       "  </thead>\n",
       "  <tbody>\n",
       "    <tr>\n",
       "      <th>0</th>\n",
       "      <td>20180118</td>\n",
       "      <td>http://www.animal.go.kr/files/shelter/2017/12/...</td>\n",
       "      <td>종료(자연사)</td>\n",
       "      <td>M</td>\n",
       "      <td>N</td>\n",
       "      <td>건강상태 매우 나쁨</td>\n",
       "      <td>영일동물플러스</td>\n",
       "      <td>054-262-8295</td>\n",
       "      <td>경상북도 포항시 북구 흥해읍 덕장길 224 (흥해읍)</td>\n",
       "      <td>4.475020e+14</td>\n",
       "      <td>20171231</td>\n",
       "      <td>경북 포항시 학잠동 동아아파트 105동 부근</td>\n",
       "      <td>[고양이] 한국 고양이</td>\n",
       "      <td>황,백</td>\n",
       "      <td>2017(년생)</td>\n",
       "      <td>1(Kg)</td>\n",
       "      <td>경북-포항-2018-00045</td>\n",
       "      <td>20180108</td>\n",
       "      <td>0</td>\n",
       "    </tr>\n",
       "    <tr>\n",
       "      <th>1</th>\n",
       "      <td>20180112</td>\n",
       "      <td>http://www.animal.go.kr/files/shelter/2018/01/...</td>\n",
       "      <td>보호중</td>\n",
       "      <td>M</td>\n",
       "      <td>N</td>\n",
       "      <td>(1422) 전 세입자가 버리고 감. 유기행위를 경고했으나 소유권을 포기함.</td>\n",
       "      <td>천안시유기동물보호소</td>\n",
       "      <td>050-5994-9119</td>\n",
       "      <td>충청남도 천안시 동남구 목천읍 학수소사길 132 (목천읍) [입양센터:서북구 천안천...</td>\n",
       "      <td>4.444490e+14</td>\n",
       "      <td>20171231</td>\n",
       "      <td>1422 *안서동 동화홈피스텔 입구</td>\n",
       "      <td>[고양이] 한국 고양이</td>\n",
       "      <td>치즈</td>\n",
       "      <td>2015(년생)</td>\n",
       "      <td>6(Kg)</td>\n",
       "      <td>충남-천안-2018-00046</td>\n",
       "      <td>20180103</td>\n",
       "      <td>0</td>\n",
       "    </tr>\n",
       "    <tr>\n",
       "      <th>2</th>\n",
       "      <td>20180112</td>\n",
       "      <td>http://www.animal.go.kr/files/shelter/2018/01/...</td>\n",
       "      <td>보호중</td>\n",
       "      <td>F</td>\n",
       "      <td>N</td>\n",
       "      <td>(1420) 소심해요</td>\n",
       "      <td>천안시유기동물보호소</td>\n",
       "      <td>050-5994-9119</td>\n",
       "      <td>충청남도 천안시 동남구 목천읍 학수소사길 132 (목천읍) [입양센터:서북구 천안천...</td>\n",
       "      <td>4.444490e+14</td>\n",
       "      <td>20171231</td>\n",
       "      <td>1420 *백석동 268-5 가게 옆 담벼락</td>\n",
       "      <td>[고양이] 한국 고양이</td>\n",
       "      <td>치즈</td>\n",
       "      <td>2018(년생)</td>\n",
       "      <td>1(Kg)</td>\n",
       "      <td>충남-천안-2018-00044</td>\n",
       "      <td>20180103</td>\n",
       "      <td>0</td>\n",
       "    </tr>\n",
       "    <tr>\n",
       "      <th>3</th>\n",
       "      <td>20180112</td>\n",
       "      <td>http://www.animal.go.kr/files/shelter/2018/01/...</td>\n",
       "      <td>보호중</td>\n",
       "      <td>M</td>\n",
       "      <td>N</td>\n",
       "      <td>(1418) 유기된 고양이를 병원으로 데리고 옴</td>\n",
       "      <td>천안시유기동물보호소</td>\n",
       "      <td>050-5994-9119</td>\n",
       "      <td>충청남도 천안시 동남구 목천읍 학수소사길 132 (목천읍) [입양센터:서북구 천안천...</td>\n",
       "      <td>4.444490e+14</td>\n",
       "      <td>20171231</td>\n",
       "      <td>1418 *청당동 가온동물병원</td>\n",
       "      <td>[고양이] 한국 고양이</td>\n",
       "      <td>반고등어</td>\n",
       "      <td>2018(년생)</td>\n",
       "      <td>0.9(Kg)</td>\n",
       "      <td>충남-천안-2018-00042</td>\n",
       "      <td>20180103</td>\n",
       "      <td>0</td>\n",
       "    </tr>\n",
       "    <tr>\n",
       "      <th>4</th>\n",
       "      <td>20180112</td>\n",
       "      <td>http://www.animal.go.kr/files/shelter/2018/01/...</td>\n",
       "      <td>보호중</td>\n",
       "      <td>F</td>\n",
       "      <td>N</td>\n",
       "      <td>(1417) 유기된 고양이를 병원으로 데리고 옴</td>\n",
       "      <td>천안시유기동물보호소</td>\n",
       "      <td>050-5994-9119</td>\n",
       "      <td>충청남도 천안시 동남구 목천읍 학수소사길 132 (목천읍) [입양센터:서북구 천안천...</td>\n",
       "      <td>4.444490e+14</td>\n",
       "      <td>20171231</td>\n",
       "      <td>1417 *청당동 가온동물병원</td>\n",
       "      <td>[고양이] 한국 고양이</td>\n",
       "      <td>반고등어</td>\n",
       "      <td>2018(년생)</td>\n",
       "      <td>0.9(Kg)</td>\n",
       "      <td>충남-천안-2018-00041</td>\n",
       "      <td>20180103</td>\n",
       "      <td>0</td>\n",
       "    </tr>\n",
       "  </tbody>\n",
       "</table>\n",
       "</div>"
      ],
      "text/plain": [
       "      공고시작일                                                이미지       상태 성별  \\\n",
       "0  20180118  http://www.animal.go.kr/files/shelter/2017/12/...  종료(자연사)  M   \n",
       "1  20180112  http://www.animal.go.kr/files/shelter/2018/01/...      보호중  M   \n",
       "2  20180112  http://www.animal.go.kr/files/shelter/2018/01/...      보호중  F   \n",
       "3  20180112  http://www.animal.go.kr/files/shelter/2018/01/...      보호중  M   \n",
       "4  20180112  http://www.animal.go.kr/files/shelter/2018/01/...      보호중  F   \n",
       "\n",
       "  중성화                                           특징        보호소1           보호소2  \\\n",
       "0   N                                   건강상태 매우 나쁨     영일동물플러스   054-262-8295   \n",
       "1   N  (1422) 전 세입자가 버리고 감. 유기행위를 경고했으나 소유권을 포기함.   천안시유기동물보호소  050-5994-9119   \n",
       "2   N                                  (1420) 소심해요  천안시유기동물보호소  050-5994-9119   \n",
       "3   N                   (1418) 유기된 고양이를 병원으로 데리고 옴  천안시유기동물보호소  050-5994-9119   \n",
       "4   N                   (1417) 유기된 고양이를 병원으로 데리고 옴  천안시유기동물보호소  050-5994-9119   \n",
       "\n",
       "                                                보호소3          유기번호       접수일  \\\n",
       "0                     경상북도 포항시 북구 흥해읍 덕장길 224 (흥해읍)   4.475020e+14  20171231   \n",
       "1  충청남도 천안시 동남구 목천읍 학수소사길 132 (목천읍) [입양센터:서북구 천안천...  4.444490e+14  20171231   \n",
       "2  충청남도 천안시 동남구 목천읍 학수소사길 132 (목천읍) [입양센터:서북구 천안천...  4.444490e+14  20171231   \n",
       "3  충청남도 천안시 동남구 목천읍 학수소사길 132 (목천읍) [입양센터:서북구 천안천...  4.444490e+14  20171231   \n",
       "4  충청남도 천안시 동남구 목천읍 학수소사길 132 (목천읍) [입양센터:서북구 천안천...  4.444490e+14  20171231   \n",
       "\n",
       "                       발견장소            품종    색상        나이       체중  \\\n",
       "0  경북 포항시 학잠동 동아아파트 105동 부근  [고양이] 한국 고양이   황,백  2017(년생)    1(Kg)   \n",
       "1       1422 *안서동 동화홈피스텔 입구  [고양이] 한국 고양이    치즈  2015(년생)    6(Kg)   \n",
       "2  1420 *백석동 268-5 가게 옆 담벼락  [고양이] 한국 고양이    치즈  2018(년생)    1(Kg)   \n",
       "3          1418 *청당동 가온동물병원  [고양이] 한국 고양이  반고등어  2018(년생)  0.9(Kg)   \n",
       "4          1417 *청당동 가온동물병원  [고양이] 한국 고양이  반고등어  2018(년생)  0.9(Kg)   \n",
       "\n",
       "               공고번호     공고종료일  입양여부  \n",
       "0  경북-포항-2018-00045  20180108     0  \n",
       "1  충남-천안-2018-00046  20180103     0  \n",
       "2  충남-천안-2018-00044  20180103     0  \n",
       "3  충남-천안-2018-00042  20180103     0  \n",
       "4  충남-천안-2018-00041  20180103     0  "
      ]
     },
     "execution_count": 34,
     "metadata": {},
     "output_type": "execute_result"
    }
   ],
   "source": [
    "df_cat_2017.head()"
   ]
  },
  {
   "cell_type": "code",
   "execution_count": 24,
   "metadata": {
    "scrolled": false
   },
   "outputs": [
    {
     "name": "stderr",
     "output_type": "stream",
     "text": [
      "C:\\Users\\pjk\\Anaconda3\\lib\\site-packages\\ipykernel_launcher.py:1: SettingWithCopyWarning: \n",
      "A value is trying to be set on a copy of a slice from a DataFrame\n",
      "\n",
      "See the caveats in the documentation: http://pandas.pydata.org/pandas-docs/stable/indexing.html#indexing-view-versus-copy\n",
      "  \"\"\"Entry point for launching an IPython kernel.\n"
     ]
    }
   ],
   "source": [
    "df_cat_2017['입양여부'][df_cat_2017['상태'] == '종료(입양)'] = 1"
   ]
  },
  {
   "cell_type": "code",
   "execution_count": 62,
   "metadata": {},
   "outputs": [
    {
     "ename": "TypeError",
     "evalue": "string indices must be integers",
     "output_type": "error",
     "traceback": [
      "\u001b[1;31m---------------------------------------------------------------------------\u001b[0m",
      "\u001b[1;31mTypeError\u001b[0m                                 Traceback (most recent call last)",
      "\u001b[1;32m<ipython-input-62-7f7f9b9c7fad>\u001b[0m in \u001b[0;36m<module>\u001b[1;34m()\u001b[0m\n\u001b[0;32m     12\u001b[0m \u001b[1;33m\u001b[0m\u001b[0m\n\u001b[0;32m     13\u001b[0m \u001b[1;32mfor\u001b[0m \u001b[0mdataset\u001b[0m \u001b[1;32min\u001b[0m \u001b[0mdf_2016\u001b[0m \u001b[1;33m:\u001b[0m\u001b[1;33m\u001b[0m\u001b[0m\n\u001b[1;32m---> 14\u001b[1;33m     \u001b[0mdataset\u001b[0m\u001b[1;33m[\u001b[0m\u001b[1;34m'입양여부'\u001b[0m\u001b[1;33m]\u001b[0m \u001b[1;33m=\u001b[0m \u001b[0mdataset\u001b[0m\u001b[1;33m[\u001b[0m\u001b[1;34m'입양여부'\u001b[0m\u001b[1;33m]\u001b[0m\u001b[1;33m.\u001b[0m\u001b[0mmap\u001b[0m\u001b[1;33m(\u001b[0m\u001b[0mtitle_mapping\u001b[0m\u001b[1;33m)\u001b[0m\u001b[1;33m\u001b[0m\u001b[0m\n\u001b[0m\u001b[0;32m     15\u001b[0m     \u001b[1;31m#dataset['입양여부'] = dataset['입양여부'].fillna(0)\u001b[0m\u001b[1;33m\u001b[0m\u001b[1;33m\u001b[0m\u001b[0m\n",
      "\u001b[1;31mTypeError\u001b[0m: string indices must be integers"
     ]
    }
   ],
   "source": [
    "'''\n",
    "보호중         1467\n",
    "종료(기증)      1174\n",
    "종료(미포획)       57\n",
    "종료(반환)     13148\n",
    "종료(방사)        28\n",
    "종료(안락사)    15591\n",
    "종료(입양)     21815\n",
    "종료(자연사)     9459\n",
    "'''\n",
    "title_mapping = {\"보호중\": \"0\", \"종료(기증)\": \"0\", \"종료(미포획)\": \"0\", \"종료(반환)\": \"0\", \\\n",
    "                 \"종료(방사)\": \"0\" ,\"종료(안락사)\": \"0\", \"종료(입양)\": \"1\", \"종료(자연사)\": \"0\" }\n",
    "\n",
    "for dataset in df_2016 :\n",
    "    dataset['입양여부'] = dataset['입양여부'].map(title_mapping)\n",
    "    #dataset['입양여부'] = dataset['입양여부'].fillna(0)"
   ]
  },
  {
   "cell_type": "code",
   "execution_count": null,
   "metadata": {
    "collapsed": true
   },
   "outputs": [],
   "source": []
  }
 ],
 "metadata": {
  "kernelspec": {
   "display_name": "Python 3",
   "language": "python",
   "name": "python3"
  },
  "language_info": {
   "codemirror_mode": {
    "name": "ipython",
    "version": 3
   },
   "file_extension": ".py",
   "mimetype": "text/x-python",
   "name": "python",
   "nbconvert_exporter": "python",
   "pygments_lexer": "ipython3",
   "version": "3.6.5"
  }
 },
 "nbformat": 4,
 "nbformat_minor": 2
}
