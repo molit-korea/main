{
 "cells": [
  {
   "cell_type": "code",
   "execution_count": 1,
   "metadata": {},
   "outputs": [],
   "source": [
    "import pandas as pd"
   ]
  },
  {
   "cell_type": "code",
   "execution_count": 5,
   "metadata": {},
   "outputs": [],
   "source": [
    "indf = pd.read_csv('yearvador.csv', engine='python')"
   ]
  },
  {
   "cell_type": "code",
   "execution_count": 6,
   "metadata": {},
   "outputs": [
    {
     "data": {
      "text/html": [
       "<div>\n",
       "<style scoped>\n",
       "    .dataframe tbody tr th:only-of-type {\n",
       "        vertical-align: middle;\n",
       "    }\n",
       "\n",
       "    .dataframe tbody tr th {\n",
       "        vertical-align: top;\n",
       "    }\n",
       "\n",
       "    .dataframe thead th {\n",
       "        text-align: right;\n",
       "    }\n",
       "</style>\n",
       "<table border=\"1\" class=\"dataframe\">\n",
       "  <thead>\n",
       "    <tr style=\"text-align: right;\">\n",
       "      <th></th>\n",
       "      <th>TPath</th>\n",
       "      <th>TPCnt</th>\n",
       "      <th>TLinkCnt</th>\n",
       "    </tr>\n",
       "  </thead>\n",
       "  <tbody>\n",
       "    <tr>\n",
       "      <th>0</th>\n",
       "      <td>1000987,1001783,1001784,1001790,1001835,100184...</td>\n",
       "      <td>1</td>\n",
       "      <td>177</td>\n",
       "    </tr>\n",
       "    <tr>\n",
       "      <th>1</th>\n",
       "      <td>1000987,1001783,1001784,1001790,1001835,100184...</td>\n",
       "      <td>1</td>\n",
       "      <td>212</td>\n",
       "    </tr>\n",
       "    <tr>\n",
       "      <th>2</th>\n",
       "      <td>1000987,1001783,1001784,1001790,1001835,100184...</td>\n",
       "      <td>1</td>\n",
       "      <td>119</td>\n",
       "    </tr>\n",
       "    <tr>\n",
       "      <th>3</th>\n",
       "      <td>1069503,0,1090781,1090783,1039862,1040091,1040...</td>\n",
       "      <td>1</td>\n",
       "      <td>47</td>\n",
       "    </tr>\n",
       "    <tr>\n",
       "      <th>4</th>\n",
       "      <td>1069503,0,1090781,1090783,1039862,1040092,1040...</td>\n",
       "      <td>1</td>\n",
       "      <td>18</td>\n",
       "    </tr>\n",
       "  </tbody>\n",
       "</table>\n",
       "</div>"
      ],
      "text/plain": [
       "                                               TPath  TPCnt  TLinkCnt\n",
       "0  1000987,1001783,1001784,1001790,1001835,100184...      1       177\n",
       "1  1000987,1001783,1001784,1001790,1001835,100184...      1       212\n",
       "2  1000987,1001783,1001784,1001790,1001835,100184...      1       119\n",
       "3  1069503,0,1090781,1090783,1039862,1040091,1040...      1        47\n",
       "4  1069503,0,1090781,1090783,1039862,1040092,1040...      1        18"
      ]
     },
     "execution_count": 6,
     "metadata": {},
     "output_type": "execute_result"
    }
   ],
   "source": [
    "indf.head()"
   ]
  },
  {
   "cell_type": "code",
   "execution_count": null,
   "metadata": {},
   "outputs": [],
   "source": [
    "pd.concat([df[[0]], df[1].str.split(', ', expand=True)], axis=1)"
   ]
  },
  {
   "cell_type": "code",
   "execution_count": null,
   "metadata": {},
   "outputs": [],
   "source": [
    "dfcleancsv = pd.concat([dfcleancsv['KEYS'], dfcleancsv[1].str.split(', ', expand=True)], axis=1)\n"
   ]
  },
  {
   "cell_type": "code",
   "execution_count": 103,
   "metadata": {},
   "outputs": [],
   "source": [
    "import gc"
   ]
  },
  {
   "cell_type": "code",
   "execution_count": 107,
   "metadata": {},
   "outputs": [
    {
     "data": {
      "text/plain": [
       "0"
      ]
     },
     "execution_count": 107,
     "metadata": {},
     "output_type": "execute_result"
    }
   ],
   "source": [
    "gc.collect()"
   ]
  },
  {
   "cell_type": "code",
   "execution_count": 100,
   "metadata": {},
   "outputs": [
    {
     "data": {
      "text/html": [
       "<div>\n",
       "<style scoped>\n",
       "    .dataframe tbody tr th:only-of-type {\n",
       "        vertical-align: middle;\n",
       "    }\n",
       "\n",
       "    .dataframe tbody tr th {\n",
       "        vertical-align: top;\n",
       "    }\n",
       "\n",
       "    .dataframe thead th {\n",
       "        text-align: right;\n",
       "    }\n",
       "</style>\n",
       "<table border=\"1\" class=\"dataframe\">\n",
       "  <thead>\n",
       "    <tr style=\"text-align: right;\">\n",
       "      <th></th>\n",
       "      <th>TPCnt</th>\n",
       "      <th>TLinkCnt</th>\n",
       "      <th>0</th>\n",
       "    </tr>\n",
       "  </thead>\n",
       "  <tbody>\n",
       "    <tr>\n",
       "      <th>0</th>\n",
       "      <td>1</td>\n",
       "      <td>177</td>\n",
       "      <td>1000987,1001783,1001784,1001790,1001835,100184...</td>\n",
       "    </tr>\n",
       "    <tr>\n",
       "      <th>1</th>\n",
       "      <td>1</td>\n",
       "      <td>212</td>\n",
       "      <td>1000987,1001783,1001784,1001790,1001835,100184...</td>\n",
       "    </tr>\n",
       "    <tr>\n",
       "      <th>2</th>\n",
       "      <td>1</td>\n",
       "      <td>119</td>\n",
       "      <td>1000987,1001783,1001784,1001790,1001835,100184...</td>\n",
       "    </tr>\n",
       "    <tr>\n",
       "      <th>3</th>\n",
       "      <td>1</td>\n",
       "      <td>47</td>\n",
       "      <td>1069503,0,1090781,1090783,1039862,1040091,1040...</td>\n",
       "    </tr>\n",
       "    <tr>\n",
       "      <th>4</th>\n",
       "      <td>1</td>\n",
       "      <td>18</td>\n",
       "      <td>1069503,0,1090781,1090783,1039862,1040092,1040...</td>\n",
       "    </tr>\n",
       "  </tbody>\n",
       "</table>\n",
       "</div>"
      ],
      "text/plain": [
       "   TPCnt  TLinkCnt                                                  0\n",
       "0      1       177  1000987,1001783,1001784,1001790,1001835,100184...\n",
       "1      1       212  1000987,1001783,1001784,1001790,1001835,100184...\n",
       "2      1       119  1000987,1001783,1001784,1001790,1001835,100184...\n",
       "3      1        47  1069503,0,1090781,1090783,1039862,1040091,1040...\n",
       "4      1        18  1069503,0,1090781,1090783,1039862,1040092,1040..."
      ]
     },
     "execution_count": 100,
     "metadata": {},
     "output_type": "execute_result"
    }
   ],
   "source": [
    "indf2.head()"
   ]
  },
  {
   "cell_type": "code",
   "execution_count": 13,
   "metadata": {},
   "outputs": [],
   "source": [
    "df1 = pd.read_csv('(분석맵)추정구간교통량(시간별).csv', engine='python', encoding='euc_kr')"
   ]
  },
  {
   "cell_type": "code",
   "execution_count": 14,
   "metadata": {},
   "outputs": [
    {
     "data": {
      "text/html": [
       "<div>\n",
       "<style scoped>\n",
       "    .dataframe tbody tr th:only-of-type {\n",
       "        vertical-align: middle;\n",
       "    }\n",
       "\n",
       "    .dataframe tbody tr th {\n",
       "        vertical-align: top;\n",
       "    }\n",
       "\n",
       "    .dataframe thead th {\n",
       "        text-align: right;\n",
       "    }\n",
       "</style>\n",
       "<table border=\"1\" class=\"dataframe\">\n",
       "  <thead>\n",
       "    <tr style=\"text-align: right;\">\n",
       "      <th></th>\n",
       "      <th>LinkID</th>\n",
       "      <th>도로등급</th>\n",
       "      <th>연장</th>\n",
       "      <th>도로명</th>\n",
       "      <th>도로번호</th>\n",
       "      <th>시도명</th>\n",
       "      <th>시군구명</th>\n",
       "      <th>읍면동명</th>\n",
       "      <th>시간</th>\n",
       "      <th>전체</th>\n",
       "      <th>승용차</th>\n",
       "      <th>버스</th>\n",
       "      <th>트럭</th>\n",
       "    </tr>\n",
       "  </thead>\n",
       "  <tbody>\n",
       "    <tr>\n",
       "      <th>0</th>\n",
       "      <td>1000001</td>\n",
       "      <td>106</td>\n",
       "      <td>4.651</td>\n",
       "      <td>대한로</td>\n",
       "      <td>1120</td>\n",
       "      <td>제주특별자치도</td>\n",
       "      <td>서귀포시</td>\n",
       "      <td>대정읍</td>\n",
       "      <td>0</td>\n",
       "      <td>2.0</td>\n",
       "      <td>2.0</td>\n",
       "      <td>0.0</td>\n",
       "      <td>0.0</td>\n",
       "    </tr>\n",
       "    <tr>\n",
       "      <th>1</th>\n",
       "      <td>1000001</td>\n",
       "      <td>106</td>\n",
       "      <td>4.651</td>\n",
       "      <td>대한로</td>\n",
       "      <td>1120</td>\n",
       "      <td>제주특별자치도</td>\n",
       "      <td>서귀포시</td>\n",
       "      <td>대정읍</td>\n",
       "      <td>1</td>\n",
       "      <td>1.0</td>\n",
       "      <td>1.0</td>\n",
       "      <td>0.0</td>\n",
       "      <td>0.0</td>\n",
       "    </tr>\n",
       "    <tr>\n",
       "      <th>2</th>\n",
       "      <td>1000001</td>\n",
       "      <td>106</td>\n",
       "      <td>4.651</td>\n",
       "      <td>대한로</td>\n",
       "      <td>1120</td>\n",
       "      <td>제주특별자치도</td>\n",
       "      <td>서귀포시</td>\n",
       "      <td>대정읍</td>\n",
       "      <td>2</td>\n",
       "      <td>1.0</td>\n",
       "      <td>1.0</td>\n",
       "      <td>0.0</td>\n",
       "      <td>0.0</td>\n",
       "    </tr>\n",
       "    <tr>\n",
       "      <th>3</th>\n",
       "      <td>1000001</td>\n",
       "      <td>106</td>\n",
       "      <td>4.651</td>\n",
       "      <td>대한로</td>\n",
       "      <td>1120</td>\n",
       "      <td>제주특별자치도</td>\n",
       "      <td>서귀포시</td>\n",
       "      <td>대정읍</td>\n",
       "      <td>3</td>\n",
       "      <td>2.0</td>\n",
       "      <td>2.0</td>\n",
       "      <td>0.0</td>\n",
       "      <td>0.0</td>\n",
       "    </tr>\n",
       "    <tr>\n",
       "      <th>4</th>\n",
       "      <td>1000001</td>\n",
       "      <td>106</td>\n",
       "      <td>4.651</td>\n",
       "      <td>대한로</td>\n",
       "      <td>1120</td>\n",
       "      <td>제주특별자치도</td>\n",
       "      <td>서귀포시</td>\n",
       "      <td>대정읍</td>\n",
       "      <td>4</td>\n",
       "      <td>4.0</td>\n",
       "      <td>3.0</td>\n",
       "      <td>0.0</td>\n",
       "      <td>1.0</td>\n",
       "    </tr>\n",
       "  </tbody>\n",
       "</table>\n",
       "</div>"
      ],
      "text/plain": [
       "    LinkID  도로등급     연장  도로명  도로번호      시도명  시군구명 읍면동명  시간   전체  승용차   버스   트럭\n",
       "0  1000001   106  4.651  대한로  1120  제주특별자치도  서귀포시  대정읍   0  2.0  2.0  0.0  0.0\n",
       "1  1000001   106  4.651  대한로  1120  제주특별자치도  서귀포시  대정읍   1  1.0  1.0  0.0  0.0\n",
       "2  1000001   106  4.651  대한로  1120  제주특별자치도  서귀포시  대정읍   2  1.0  1.0  0.0  0.0\n",
       "3  1000001   106  4.651  대한로  1120  제주특별자치도  서귀포시  대정읍   3  2.0  2.0  0.0  0.0\n",
       "4  1000001   106  4.651  대한로  1120  제주특별자치도  서귀포시  대정읍   4  4.0  3.0  0.0  1.0"
      ]
     },
     "execution_count": 14,
     "metadata": {},
     "output_type": "execute_result"
    }
   ],
   "source": [
    "df1.head()"
   ]
  },
  {
   "cell_type": "code",
   "execution_count": 20,
   "metadata": {},
   "outputs": [],
   "source": [
    "df2 = pd.read_csv('(분석맵)전체평균속도(시간별).csv', engine='python', encoding='euc_kr')"
   ]
  },
  {
   "cell_type": "code",
   "execution_count": 21,
   "metadata": {},
   "outputs": [
    {
     "data": {
      "text/html": [
       "<div>\n",
       "<style scoped>\n",
       "    .dataframe tbody tr th:only-of-type {\n",
       "        vertical-align: middle;\n",
       "    }\n",
       "\n",
       "    .dataframe tbody tr th {\n",
       "        vertical-align: top;\n",
       "    }\n",
       "\n",
       "    .dataframe thead th {\n",
       "        text-align: right;\n",
       "    }\n",
       "</style>\n",
       "<table border=\"1\" class=\"dataframe\">\n",
       "  <thead>\n",
       "    <tr style=\"text-align: right;\">\n",
       "      <th></th>\n",
       "      <th>LinkID</th>\n",
       "      <th>도로등급</th>\n",
       "      <th>연장</th>\n",
       "      <th>도로명</th>\n",
       "      <th>도로번호</th>\n",
       "      <th>도명</th>\n",
       "      <th>시군구명</th>\n",
       "      <th>읍면동명</th>\n",
       "      <th>시간</th>\n",
       "      <th>전체평균속도</th>\n",
       "    </tr>\n",
       "  </thead>\n",
       "  <tbody>\n",
       "    <tr>\n",
       "      <th>0</th>\n",
       "      <td>1000001</td>\n",
       "      <td>106</td>\n",
       "      <td>4.651</td>\n",
       "      <td>대한로</td>\n",
       "      <td>1120</td>\n",
       "      <td>제주특별자치도</td>\n",
       "      <td>서귀포시</td>\n",
       "      <td>대정읍</td>\n",
       "      <td>0</td>\n",
       "      <td>38.894158</td>\n",
       "    </tr>\n",
       "    <tr>\n",
       "      <th>1</th>\n",
       "      <td>1000001</td>\n",
       "      <td>106</td>\n",
       "      <td>4.651</td>\n",
       "      <td>대한로</td>\n",
       "      <td>1120</td>\n",
       "      <td>제주특별자치도</td>\n",
       "      <td>서귀포시</td>\n",
       "      <td>대정읍</td>\n",
       "      <td>1</td>\n",
       "      <td>41.153917</td>\n",
       "    </tr>\n",
       "    <tr>\n",
       "      <th>2</th>\n",
       "      <td>1000001</td>\n",
       "      <td>106</td>\n",
       "      <td>4.651</td>\n",
       "      <td>대한로</td>\n",
       "      <td>1120</td>\n",
       "      <td>제주특별자치도</td>\n",
       "      <td>서귀포시</td>\n",
       "      <td>대정읍</td>\n",
       "      <td>2</td>\n",
       "      <td>39.426082</td>\n",
       "    </tr>\n",
       "    <tr>\n",
       "      <th>3</th>\n",
       "      <td>1000001</td>\n",
       "      <td>106</td>\n",
       "      <td>4.651</td>\n",
       "      <td>대한로</td>\n",
       "      <td>1120</td>\n",
       "      <td>제주특별자치도</td>\n",
       "      <td>서귀포시</td>\n",
       "      <td>대정읍</td>\n",
       "      <td>3</td>\n",
       "      <td>40.301041</td>\n",
       "    </tr>\n",
       "    <tr>\n",
       "      <th>4</th>\n",
       "      <td>1000001</td>\n",
       "      <td>106</td>\n",
       "      <td>4.651</td>\n",
       "      <td>대한로</td>\n",
       "      <td>1120</td>\n",
       "      <td>제주특별자치도</td>\n",
       "      <td>서귀포시</td>\n",
       "      <td>대정읍</td>\n",
       "      <td>4</td>\n",
       "      <td>40.350000</td>\n",
       "    </tr>\n",
       "  </tbody>\n",
       "</table>\n",
       "</div>"
      ],
      "text/plain": [
       "    LinkID  도로등급     연장  도로명  도로번호       도명  시군구명 읍면동명  시간     전체평균속도\n",
       "0  1000001   106  4.651  대한로  1120  제주특별자치도  서귀포시  대정읍   0  38.894158\n",
       "1  1000001   106  4.651  대한로  1120  제주특별자치도  서귀포시  대정읍   1  41.153917\n",
       "2  1000001   106  4.651  대한로  1120  제주특별자치도  서귀포시  대정읍   2  39.426082\n",
       "3  1000001   106  4.651  대한로  1120  제주특별자치도  서귀포시  대정읍   3  40.301041\n",
       "4  1000001   106  4.651  대한로  1120  제주특별자치도  서귀포시  대정읍   4  40.350000"
      ]
     },
     "execution_count": 21,
     "metadata": {},
     "output_type": "execute_result"
    }
   ],
   "source": [
    "df2.head()"
   ]
  },
  {
   "cell_type": "code",
   "execution_count": 31,
   "metadata": {},
   "outputs": [],
   "source": [
    "dfall = pd.merge(df1, df2[['LinkID','시간','전체평균속도']], on=['LinkID', '시간'], how='outer')"
   ]
  },
  {
   "cell_type": "code",
   "execution_count": 32,
   "metadata": {
    "scrolled": true
   },
   "outputs": [
    {
     "data": {
      "text/html": [
       "<div>\n",
       "<style scoped>\n",
       "    .dataframe tbody tr th:only-of-type {\n",
       "        vertical-align: middle;\n",
       "    }\n",
       "\n",
       "    .dataframe tbody tr th {\n",
       "        vertical-align: top;\n",
       "    }\n",
       "\n",
       "    .dataframe thead th {\n",
       "        text-align: right;\n",
       "    }\n",
       "</style>\n",
       "<table border=\"1\" class=\"dataframe\">\n",
       "  <thead>\n",
       "    <tr style=\"text-align: right;\">\n",
       "      <th></th>\n",
       "      <th>LinkID</th>\n",
       "      <th>도로등급</th>\n",
       "      <th>연장</th>\n",
       "      <th>도로명</th>\n",
       "      <th>도로번호</th>\n",
       "      <th>시도명</th>\n",
       "      <th>시군구명</th>\n",
       "      <th>읍면동명</th>\n",
       "      <th>시간</th>\n",
       "      <th>전체</th>\n",
       "      <th>승용차</th>\n",
       "      <th>버스</th>\n",
       "      <th>트럭</th>\n",
       "      <th>전체평균속도</th>\n",
       "    </tr>\n",
       "  </thead>\n",
       "  <tbody>\n",
       "    <tr>\n",
       "      <th>0</th>\n",
       "      <td>1000001</td>\n",
       "      <td>106</td>\n",
       "      <td>4.651</td>\n",
       "      <td>대한로</td>\n",
       "      <td>1120</td>\n",
       "      <td>제주특별자치도</td>\n",
       "      <td>서귀포시</td>\n",
       "      <td>대정읍</td>\n",
       "      <td>0</td>\n",
       "      <td>2.0</td>\n",
       "      <td>2.0</td>\n",
       "      <td>0.0</td>\n",
       "      <td>0.0</td>\n",
       "      <td>38.894158</td>\n",
       "    </tr>\n",
       "    <tr>\n",
       "      <th>1</th>\n",
       "      <td>1000001</td>\n",
       "      <td>106</td>\n",
       "      <td>4.651</td>\n",
       "      <td>대한로</td>\n",
       "      <td>1120</td>\n",
       "      <td>제주특별자치도</td>\n",
       "      <td>서귀포시</td>\n",
       "      <td>대정읍</td>\n",
       "      <td>1</td>\n",
       "      <td>1.0</td>\n",
       "      <td>1.0</td>\n",
       "      <td>0.0</td>\n",
       "      <td>0.0</td>\n",
       "      <td>41.153917</td>\n",
       "    </tr>\n",
       "    <tr>\n",
       "      <th>2</th>\n",
       "      <td>1000001</td>\n",
       "      <td>106</td>\n",
       "      <td>4.651</td>\n",
       "      <td>대한로</td>\n",
       "      <td>1120</td>\n",
       "      <td>제주특별자치도</td>\n",
       "      <td>서귀포시</td>\n",
       "      <td>대정읍</td>\n",
       "      <td>2</td>\n",
       "      <td>1.0</td>\n",
       "      <td>1.0</td>\n",
       "      <td>0.0</td>\n",
       "      <td>0.0</td>\n",
       "      <td>39.426082</td>\n",
       "    </tr>\n",
       "    <tr>\n",
       "      <th>3</th>\n",
       "      <td>1000001</td>\n",
       "      <td>106</td>\n",
       "      <td>4.651</td>\n",
       "      <td>대한로</td>\n",
       "      <td>1120</td>\n",
       "      <td>제주특별자치도</td>\n",
       "      <td>서귀포시</td>\n",
       "      <td>대정읍</td>\n",
       "      <td>3</td>\n",
       "      <td>2.0</td>\n",
       "      <td>2.0</td>\n",
       "      <td>0.0</td>\n",
       "      <td>0.0</td>\n",
       "      <td>40.301041</td>\n",
       "    </tr>\n",
       "    <tr>\n",
       "      <th>4</th>\n",
       "      <td>1000001</td>\n",
       "      <td>106</td>\n",
       "      <td>4.651</td>\n",
       "      <td>대한로</td>\n",
       "      <td>1120</td>\n",
       "      <td>제주특별자치도</td>\n",
       "      <td>서귀포시</td>\n",
       "      <td>대정읍</td>\n",
       "      <td>4</td>\n",
       "      <td>4.0</td>\n",
       "      <td>3.0</td>\n",
       "      <td>0.0</td>\n",
       "      <td>1.0</td>\n",
       "      <td>40.350000</td>\n",
       "    </tr>\n",
       "  </tbody>\n",
       "</table>\n",
       "</div>"
      ],
      "text/plain": [
       "    LinkID  도로등급     연장  도로명  도로번호      시도명  시군구명 읍면동명  시간   전체  승용차   버스  \\\n",
       "0  1000001   106  4.651  대한로  1120  제주특별자치도  서귀포시  대정읍   0  2.0  2.0  0.0   \n",
       "1  1000001   106  4.651  대한로  1120  제주특별자치도  서귀포시  대정읍   1  1.0  1.0  0.0   \n",
       "2  1000001   106  4.651  대한로  1120  제주특별자치도  서귀포시  대정읍   2  1.0  1.0  0.0   \n",
       "3  1000001   106  4.651  대한로  1120  제주특별자치도  서귀포시  대정읍   3  2.0  2.0  0.0   \n",
       "4  1000001   106  4.651  대한로  1120  제주특별자치도  서귀포시  대정읍   4  4.0  3.0  0.0   \n",
       "\n",
       "    트럭     전체평균속도  \n",
       "0  0.0  38.894158  \n",
       "1  0.0  41.153917  \n",
       "2  0.0  39.426082  \n",
       "3  0.0  40.301041  \n",
       "4  1.0  40.350000  "
      ]
     },
     "execution_count": 32,
     "metadata": {},
     "output_type": "execute_result"
    }
   ],
   "source": [
    "dfall.head()"
   ]
  },
  {
   "cell_type": "code",
   "execution_count": 97,
   "metadata": {},
   "outputs": [],
   "source": [
    "dfall.to_csv('dfall.csv')"
   ]
  },
  {
   "cell_type": "code",
   "execution_count": 98,
   "metadata": {},
   "outputs": [],
   "source": [
    "dfks.to_csv('dfks.csv')"
   ]
  },
  {
   "cell_type": "code",
   "execution_count": 33,
   "metadata": {},
   "outputs": [],
   "source": [
    "dfall['통과시간'] = dfall['연장'] / dfall['전체평균속도']"
   ]
  },
  {
   "cell_type": "code",
   "execution_count": 94,
   "metadata": {},
   "outputs": [],
   "source": [
    "dfall['km당통과시간'] = dfall['전체평균속도'] /  dfall['연장']"
   ]
  },
  {
   "cell_type": "code",
   "execution_count": 74,
   "metadata": {},
   "outputs": [],
   "source": [
    "dd = [dfall['시도명'] == '서울특별시'] or [dfall['시도명']=='경기도']"
   ]
  },
  {
   "cell_type": "code",
   "execution_count": 95,
   "metadata": {},
   "outputs": [],
   "source": [
    "dfks = dfall[(dfall['시도명'] == '경기도') | (dfall['시도명']=='서울특별시') | (dfall['시도명']=='인천광역시')]"
   ]
  },
  {
   "cell_type": "code",
   "execution_count": 113,
   "metadata": {},
   "outputs": [],
   "source": [
    "dfdic = dfks[['LinkID', '도로등급', '연장', '도로명', '도로번호', '시도명', '시군구명', '읍면동명']].groupby(['LinkID']).max()"
   ]
  },
  {
   "cell_type": "code",
   "execution_count": 126,
   "metadata": {},
   "outputs": [
    {
     "data": {
      "text/plain": [
       "pandas.core.frame.DataFrame"
      ]
     },
     "execution_count": 126,
     "metadata": {},
     "output_type": "execute_result"
    }
   ],
   "source": [
    "type(dfdic)"
   ]
  },
  {
   "cell_type": "code",
   "execution_count": 127,
   "metadata": {},
   "outputs": [
    {
     "data": {
      "text/html": [
       "<div>\n",
       "<style scoped>\n",
       "    .dataframe tbody tr th:only-of-type {\n",
       "        vertical-align: middle;\n",
       "    }\n",
       "\n",
       "    .dataframe tbody tr th {\n",
       "        vertical-align: top;\n",
       "    }\n",
       "\n",
       "    .dataframe thead th {\n",
       "        text-align: right;\n",
       "    }\n",
       "</style>\n",
       "<table border=\"1\" class=\"dataframe\">\n",
       "  <thead>\n",
       "    <tr style=\"text-align: right;\">\n",
       "      <th></th>\n",
       "      <th>도로등급</th>\n",
       "      <th>연장</th>\n",
       "      <th>도로명</th>\n",
       "      <th>도로번호</th>\n",
       "      <th>시도명</th>\n",
       "      <th>시군구명</th>\n",
       "      <th>읍면동명</th>\n",
       "    </tr>\n",
       "    <tr>\n",
       "      <th>LinkID</th>\n",
       "      <th></th>\n",
       "      <th></th>\n",
       "      <th></th>\n",
       "      <th></th>\n",
       "      <th></th>\n",
       "      <th></th>\n",
       "      <th></th>\n",
       "    </tr>\n",
       "  </thead>\n",
       "  <tbody>\n",
       "    <tr>\n",
       "      <th>1011122</th>\n",
       "      <td>101</td>\n",
       "      <td>5.596</td>\n",
       "      <td>서해안고속도로</td>\n",
       "      <td>15</td>\n",
       "      <td>경기도</td>\n",
       "      <td>평택시</td>\n",
       "      <td>포승읍</td>\n",
       "    </tr>\n",
       "    <tr>\n",
       "      <th>1011123</th>\n",
       "      <td>101</td>\n",
       "      <td>0.357</td>\n",
       "      <td>서해안고속도로</td>\n",
       "      <td>15</td>\n",
       "      <td>경기도</td>\n",
       "      <td>평택시</td>\n",
       "      <td>포승읍</td>\n",
       "    </tr>\n",
       "    <tr>\n",
       "      <th>1011124</th>\n",
       "      <td>108</td>\n",
       "      <td>0.630</td>\n",
       "      <td>서해안고속도로</td>\n",
       "      <td>15</td>\n",
       "      <td>경기도</td>\n",
       "      <td>평택시</td>\n",
       "      <td>포승읍</td>\n",
       "    </tr>\n",
       "    <tr>\n",
       "      <th>1011125</th>\n",
       "      <td>101</td>\n",
       "      <td>0.498</td>\n",
       "      <td>서해안고속도로</td>\n",
       "      <td>15</td>\n",
       "      <td>경기도</td>\n",
       "      <td>평택시</td>\n",
       "      <td>포승읍</td>\n",
       "    </tr>\n",
       "    <tr>\n",
       "      <th>1011126</th>\n",
       "      <td>108</td>\n",
       "      <td>0.354</td>\n",
       "      <td>서해안고속도로</td>\n",
       "      <td>15</td>\n",
       "      <td>경기도</td>\n",
       "      <td>평택시</td>\n",
       "      <td>포승읍</td>\n",
       "    </tr>\n",
       "  </tbody>\n",
       "</table>\n",
       "</div>"
      ],
      "text/plain": [
       "         도로등급     연장      도로명  도로번호  시도명 시군구명 읍면동명\n",
       "LinkID                                            \n",
       "1011122   101  5.596  서해안고속도로    15  경기도  평택시  포승읍\n",
       "1011123   101  0.357  서해안고속도로    15  경기도  평택시  포승읍\n",
       "1011124   108  0.630  서해안고속도로    15  경기도  평택시  포승읍\n",
       "1011125   101  0.498  서해안고속도로    15  경기도  평택시  포승읍\n",
       "1011126   108  0.354  서해안고속도로    15  경기도  평택시  포승읍"
      ]
     },
     "execution_count": 127,
     "metadata": {},
     "output_type": "execute_result"
    }
   ],
   "source": [
    "dfdic"
   ]
  },
  {
   "cell_type": "code",
   "execution_count": 116,
   "metadata": {},
   "outputs": [
    {
     "data": {
      "text/html": [
       "<div>\n",
       "<style scoped>\n",
       "    .dataframe tbody tr th:only-of-type {\n",
       "        vertical-align: middle;\n",
       "    }\n",
       "\n",
       "    .dataframe tbody tr th {\n",
       "        vertical-align: top;\n",
       "    }\n",
       "\n",
       "    .dataframe thead th {\n",
       "        text-align: right;\n",
       "    }\n",
       "</style>\n",
       "<table border=\"1\" class=\"dataframe\">\n",
       "  <thead>\n",
       "    <tr style=\"text-align: right;\">\n",
       "      <th></th>\n",
       "      <th>도로등급</th>\n",
       "      <th>연장</th>\n",
       "      <th>도로명</th>\n",
       "      <th>도로번호</th>\n",
       "      <th>시도명</th>\n",
       "      <th>시군구명</th>\n",
       "      <th>읍면동명</th>\n",
       "    </tr>\n",
       "    <tr>\n",
       "      <th>LinkID</th>\n",
       "      <th></th>\n",
       "      <th></th>\n",
       "      <th></th>\n",
       "      <th></th>\n",
       "      <th></th>\n",
       "      <th></th>\n",
       "      <th></th>\n",
       "    </tr>\n",
       "  </thead>\n",
       "  <tbody>\n",
       "  </tbody>\n",
       "</table>\n",
       "</div>"
      ],
      "text/plain": [
       "Empty DataFrame\n",
       "Columns: [도로등급, 연장, 도로명, 도로번호, 시도명, 시군구명, 읍면동명]\n",
       "Index: []"
      ]
     },
     "execution_count": 116,
     "metadata": {},
     "output_type": "execute_result"
    }
   ],
   "source": [
    "dfdic[ dfdic['시도명'] == '제주특별자치도']"
   ]
  }
 ],
 "metadata": {
  "kernelspec": {
   "display_name": "Python 3",
   "language": "python",
   "name": "python3"
  },
  "language_info": {
   "codemirror_mode": {
    "name": "ipython",
    "version": 3
   },
   "file_extension": ".py",
   "mimetype": "text/x-python",
   "name": "python",
   "nbconvert_exporter": "python",
   "pygments_lexer": "ipython3",
   "version": "3.6.5"
  }
 },
 "nbformat": 4,
 "nbformat_minor": 2
}
