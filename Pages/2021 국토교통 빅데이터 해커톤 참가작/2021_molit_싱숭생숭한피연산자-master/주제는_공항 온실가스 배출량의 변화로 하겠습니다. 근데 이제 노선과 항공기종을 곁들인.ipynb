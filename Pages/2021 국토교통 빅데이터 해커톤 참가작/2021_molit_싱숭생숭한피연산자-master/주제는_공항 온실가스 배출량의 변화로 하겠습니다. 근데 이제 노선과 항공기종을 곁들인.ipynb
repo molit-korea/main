{
 "cells": [
  {
   "cell_type": "markdown",
   "id": "b7c9fcb9",
   "metadata": {},
   "source": [
    "# 공항 온실가스 배출량 변화 요인 산출 및 제언-항공 노선 운항 편수 및 항공기종의 변화 위주"
   ]
  },
  {
   "cell_type": "markdown",
   "id": "c30384dc",
   "metadata": {},
   "source": [
    "# 1. 서론"
   ]
  },
  {
   "cell_type": "markdown",
   "id": "6a4b2ea8",
   "metadata": {},
   "source": [
    "지구온난화에 대해 수송 분야에서의 온실가스 감축의 필요성이 점차 대두되고 있습니다. 지구온난화는 해수면 상승, 기후 이상, 생태계 파괴 등의 문제를 가지기 때문에 이를 해결하기 위해 전반적인 온실가스 배출을 감축해야 할 필요성이 있습니다. 우리나라는 2030년까지 온실가스 배출을 전망치 대비 37% 줄이는 것을 목표로 하고 있습니다. 하지만 제조업 중심 경제 특성상 산업계 온실감축량은 전망치 대비 12% 이내로 설정했습니다. 따라서 발전, 수송 부문에서의 감축이 요구되며, 항공 수송에서의 온실가스 배출 절감이 불가피합니다. 항공기 온실가스 배출량은 전세계 온실가스 배출량의 2.5%를 차지하고 있으며 [1], 성층권에 직접 온실가스를 배출하는 항공기 특성상 지구온난화에 항공기가 미치는 영향은 무시할 수 없습니다 [2]. 이때 항공기의 온실가스 발생량이 공항 발생 온실가스의 상당 비율(약 78%, 2020년도 인천국제공항 기준)을 차지하기 때문에 항공기에서 배출되는 온실가스의 양만 감축해도 공항에서 발생하는 온실가스를 상당수 감소시킬 수 있습니다 [3]. \n",
    "\n",
    "본 코드에서는 2011년부터 2020년까지 국내 공항에서의 온실가스 배출 현황을 알아봅니다. 그리고 온실가스 변화 요인으로 추정되는 국내공항 항공기 운행 편수, 운행 거리, 그리고 연료 소모량 변화를 알아봅니다.\n",
    "  \n",
    "본론은 크게 현황 분석과 제언 두 부분으로 나뉩니다. 현황 분석에서는 2011년부터 2020년까지의 온실가스 배출 현황을 알아봅니다. 그 후 온실가스 배출에 영향을 끼칠 수 있는 요소들인 연도별 항공기 운항 편수, 운항 거리, 연료 소모량을 살펴봅니다. 마지막으로 이 네가지 변수를 조합해 종합 상관관계 분석을 통해 각각의 관계를 분석합니다.\n",
    "\n",
    "제언부분에서는 현황 분석을 바탕으로 실질적으로 항공기 온실가스를 줄이기 위한 방안을 살펴봅니다. 그 과정에서 다중 회귀 분석을 통해 온실가스 배출량에 가장 큰 영향을 주는 항공기종을 찾아내고 그 기종 비율 조정을 통해 얼마나 온실가스를 감축할 수 있는지 살펴봅니다. 또한 회귀분석을 통해 2030년 예상 노선 사용량을 예측해 온실가스 발생량 감소 대상 우선순위 노선을 산출합니다."
   ]
  },
  {
   "cell_type": "markdown",
   "id": "01304120",
   "metadata": {},
   "source": [
    "# 2. 본론"
   ]
  },
  {
   "cell_type": "markdown",
   "id": "5dbb42a1",
   "metadata": {},
   "source": [
    "## 2-1. 데이터 분석 및 시각화"
   ]
  },
  {
   "cell_type": "markdown",
   "id": "0614454f",
   "metadata": {},
   "source": [
    "### 2-1-0. 관련 데이터 수집 및 1차 가공"
   ]
  },
  {
   "cell_type": "markdown",
   "id": "aa42a0d2",
   "metadata": {},
   "source": [
    "#### 관련 패키지 설치"
   ]
  },
  {
   "cell_type": "code",
   "execution_count": 1,
   "id": "f1607e97",
   "metadata": {},
   "outputs": [
    {
     "name": "stderr",
     "output_type": "stream",
     "text": [
      "Warning message:\n",
      "\"package 'XML' was built under R version 3.6.3\"Warning message:\n",
      "\"package 'readxl' was built under R version 3.6.3\"Warning message:\n",
      "\"package 'dplyr' was built under R version 3.6.3\"\n",
      "Attaching package: 'dplyr'\n",
      "\n",
      "The following objects are masked from 'package:stats':\n",
      "\n",
      "    filter, lag\n",
      "\n",
      "The following objects are masked from 'package:base':\n",
      "\n",
      "    intersect, setdiff, setequal, union\n",
      "\n",
      "Warning message:\n",
      "\"package 'gridExtra' was built under R version 3.6.3\"\n",
      "Attaching package: 'gridExtra'\n",
      "\n",
      "The following object is masked from 'package:dplyr':\n",
      "\n",
      "    combine\n",
      "\n",
      "Registered S3 method overwritten by 'GGally':\n",
      "  method from   \n",
      "  +.gg   ggplot2\n"
     ]
    }
   ],
   "source": [
    "#install.packages(\"XML\")\n",
    "#install.packages(\"readxl\")\n",
    "#install.packages(\"ggplot2\")\n",
    "#install.packages(\"dplyr\")\n",
    "#install.packages(\"gridExtra\")\n",
    "#install.packages(\"GGally\")\n",
    "library(XML)       # OpenAPI 데이터 추출용 패키지\n",
    "library(rvest)     # 웹사이트 크롤링 관련 패키지\n",
    "library(readxl)    # 엑셀 파일 관련 패키지\n",
    "library(stringr)   # 문자열 편집 패키지 (함수: str_trim 등)\n",
    "library(dplyr)     # 데이터베이스 변형 패키지\n",
    "library(ggplot2)   # 데이터베이스 시각화 패키지 (함수: ggplot)\n",
    "library(grid)      # 시각화 자료 변형 패키지 (함수: textGrob)\n",
    "library(gridExtra) # 시각화 자료 변형 패키지 (함수: grid.arrange)\n",
    "library(GGally)    # 데이터 요소 간 상관관계 그래프 시각화 관련 패키지"
   ]
  },
  {
   "cell_type": "markdown",
   "id": "d37b1ede",
   "metadata": {},
   "source": [
    "#### 데이터 수집용 변수 설정"
   ]
  },
  {
   "cell_type": "code",
   "execution_count": 2,
   "id": "9da571dc",
   "metadata": {},
   "outputs": [],
   "source": [
    "serviceKey <- \"dGin1VVy2Rems7vf1voG21KwgnTBn2vz2UQzQcS/EVA1YpQHdTVlDcJhCHl13yNAKoQ6TMeLLlGLaUEqpv9xyQ==\"  # (개별) 인증키\n",
    "numOfRows <- 500\n",
    "\n",
    "# 공항 온실가스 데이터\n",
    "serviceURL_GG <- \"http://openapi.airport.co.kr/service/rest/EpiDataService/\"  # 서비스 URL\n",
    "op_GG <- \"getEpiGhDataService\"  # 오퍼레이션명\n",
    "parameter_GG <- paste0(\"?serviceKey=\",serviceKey,\n",
    "                       \"&numOfRows=\",numOfRows)  # 요청 변수\n",
    "\n",
    "# 수송실적통계 데이터\n",
    "serviceURL_AS <- \"http://openapi.airport.co.kr/service/rest/totalAirportStatsService/\"  # 서비스 URL\n",
    "op_AS <- \"getAirportStats\"  # 오퍼레이션명\n",
    "\n",
    "# 항공기 운항 스케줄 데이터\n",
    "serviceURL_FS <- \"http://openapi.airport.co.kr/service/rest/FlightScheduleList/\"  # 서비스 URL\n",
    "op_FSD <- \"getDflightScheduleList\"  # 오퍼레이션명(국내)\n",
    "op_FSI <- \"getIflightScheduleList\"  # 오퍼레이션명(국제)\n",
    "parameter_FS <- paste0(\"?serviceKey=\",serviceKey,\n",
    "                        \"&numOfRows=\",numOfRows)  # 요청 변수\n",
    "\n",
    "# 노선별 소요시간 및 거리 정보 데이터\n",
    "serviceURL_TD <- \"http://openapi.airport.co.kr/service/rest/serviceLine/\"  # 서비스 URL\n",
    "op_TD <- \"serviceLines\"  # 오퍼레이션명\n",
    "schStDate <- \"20110101\"  # 검색시작일\n",
    "schEdDate <- \"20201231\"  #검색종료일\n",
    "parameter_TD <- paste0(\"?serviceKey=\",serviceKey,\n",
    "                       \"&schStDate=\",schStDate,\n",
    "                       \"&schEdDate=\",schEdDate,\n",
    "                       \"&numOfRows=\",numOfRows)  # 요청 변수"
   ]
  },
  {
   "cell_type": "markdown",
   "id": "1c4c35c2",
   "metadata": {},
   "source": [
    "#### 데이터 수집 및 1차 가공"
   ]
  },
  {
   "cell_type": "markdown",
   "id": "7735376d",
   "metadata": {},
   "source": [
    "##### 1. 공항 온실가스 데이터 1) 2)"
   ]
  },
  {
   "cell_type": "code",
   "execution_count": 3,
   "id": "8a46aafd",
   "metadata": {},
   "outputs": [
    {
     "data": {
      "text/html": [
       "<table>\n",
       "<thead><tr><th scope=col>yyyy</th><th scope=col>fuel1</th><th scope=col>fuel2</th><th scope=col>fuel3</th><th scope=col>totalTco2e</th></tr></thead>\n",
       "<tbody>\n",
       "\t<tr><td>2011     </td><td>29050.5  </td><td>181051.5 </td><td> 653312.5</td><td> 775176.5</td></tr>\n",
       "\t<tr><td>2012     </td><td>29009.5  </td><td>192885.5 </td><td> 715757.5</td><td> 826851.5</td></tr>\n",
       "\t<tr><td>2013     </td><td>32791.5  </td><td>171407.5 </td><td> 755860.5</td><td> 862866.5</td></tr>\n",
       "\t<tr><td>2014     </td><td>32707.5  </td><td>172215.5 </td><td> 790155.5</td><td> 875587.5</td></tr>\n",
       "\t<tr><td>2015     </td><td>33493.5  </td><td>173108.5 </td><td> 904992.5</td><td>1028146.5</td></tr>\n",
       "\t<tr><td>2016     </td><td>35307.0  </td><td>176595.0 </td><td>1070124.0</td><td>1150826.0</td></tr>\n",
       "\t<tr><td>2017     </td><td>37483.0  </td><td>209759.0 </td><td>1131579.0</td><td>1218698.0</td></tr>\n",
       "\t<tr><td>2018     </td><td>40592.0  </td><td>254128.0 </td><td>1193121.0</td><td>1277675.0</td></tr>\n",
       "\t<tr><td>2019     </td><td>39405.0  </td><td>244654.0 </td><td>1242697.0</td><td>1326234.0</td></tr>\n",
       "\t<tr><td>2020     </td><td>28500.0  </td><td>201429.0 </td><td> 690036.0</td><td> 759794.0</td></tr>\n",
       "</tbody>\n",
       "</table>\n"
      ],
      "text/latex": [
       "\\begin{tabular}{r|lllll}\n",
       " yyyy & fuel1 & fuel2 & fuel3 & totalTco2e\\\\\n",
       "\\hline\n",
       "\t 2011      & 29050.5   & 181051.5  &  653312.5 &  775176.5\\\\\n",
       "\t 2012      & 29009.5   & 192885.5  &  715757.5 &  826851.5\\\\\n",
       "\t 2013      & 32791.5   & 171407.5  &  755860.5 &  862866.5\\\\\n",
       "\t 2014      & 32707.5   & 172215.5  &  790155.5 &  875587.5\\\\\n",
       "\t 2015      & 33493.5   & 173108.5  &  904992.5 & 1028146.5\\\\\n",
       "\t 2016      & 35307.0   & 176595.0  & 1070124.0 & 1150826.0\\\\\n",
       "\t 2017      & 37483.0   & 209759.0  & 1131579.0 & 1218698.0\\\\\n",
       "\t 2018      & 40592.0   & 254128.0  & 1193121.0 & 1277675.0\\\\\n",
       "\t 2019      & 39405.0   & 244654.0  & 1242697.0 & 1326234.0\\\\\n",
       "\t 2020      & 28500.0   & 201429.0  &  690036.0 &  759794.0\\\\\n",
       "\\end{tabular}\n"
      ],
      "text/markdown": [
       "\n",
       "| yyyy | fuel1 | fuel2 | fuel3 | totalTco2e |\n",
       "|---|---|---|---|---|\n",
       "| 2011      | 29050.5   | 181051.5  |  653312.5 |  775176.5 |\n",
       "| 2012      | 29009.5   | 192885.5  |  715757.5 |  826851.5 |\n",
       "| 2013      | 32791.5   | 171407.5  |  755860.5 |  862866.5 |\n",
       "| 2014      | 32707.5   | 172215.5  |  790155.5 |  875587.5 |\n",
       "| 2015      | 33493.5   | 173108.5  |  904992.5 | 1028146.5 |\n",
       "| 2016      | 35307.0   | 176595.0  | 1070124.0 | 1150826.0 |\n",
       "| 2017      | 37483.0   | 209759.0  | 1131579.0 | 1218698.0 |\n",
       "| 2018      | 40592.0   | 254128.0  | 1193121.0 | 1277675.0 |\n",
       "| 2019      | 39405.0   | 244654.0  | 1242697.0 | 1326234.0 |\n",
       "| 2020      | 28500.0   | 201429.0  |  690036.0 |  759794.0 |\n",
       "\n"
      ],
      "text/plain": [
       "   yyyy fuel1   fuel2    fuel3     totalTco2e\n",
       "1  2011 29050.5 181051.5  653312.5  775176.5 \n",
       "2  2012 29009.5 192885.5  715757.5  826851.5 \n",
       "3  2013 32791.5 171407.5  755860.5  862866.5 \n",
       "4  2014 32707.5 172215.5  790155.5  875587.5 \n",
       "5  2015 33493.5 173108.5  904992.5 1028146.5 \n",
       "6  2016 35307.0 176595.0 1070124.0 1150826.0 \n",
       "7  2017 37483.0 209759.0 1131579.0 1218698.0 \n",
       "8  2018 40592.0 254128.0 1193121.0 1277675.0 \n",
       "9  2019 39405.0 244654.0 1242697.0 1326234.0 \n",
       "10 2020 28500.0 201429.0  690036.0  759794.0 "
      ]
     },
     "metadata": {},
     "output_type": "display_data"
    }
   ],
   "source": [
    "# 저장용 데이터베이스\n",
    "totalData_GG <- data.frame()  \n",
    "\n",
    "# 국내공항(인천공항 제외) 온실가스 배출량 입력\n",
    "## 데이터 추출용 URL\n",
    "url_GG <- paste0(serviceURL_GG, op_GG, parameter_GG)\n",
    "\n",
    "## Open API 호출\n",
    "xmlDocument_GG <- xmlTreeParse(url_GG, useInternalNodes = TRUE, encoding = \"UTF-8\")\n",
    "\n",
    "## XML Root Node 추출\n",
    "rootNode_GG <- xmlRoot(xmlDocument_GG)\n",
    "\n",
    "## item Node의 데이터 추출\n",
    "xmlData_GG <- xmlToDataFrame(nodes = getNodeSet(rootNode_GG,'//item'), stringsAsFactor = FALSE)\n",
    "totalData_GG <- rbind(totalData_GG, xmlData_GG)\n",
    "\n",
    "## 2021년 데이터 제거\n",
    "totalData_GG <- totalData_GG %>% filter(yyyy != 2021)\n",
    "\n",
    "## 데이터베이스 각 열의 타입 변경\n",
    "totalData_GG[,c(\"fuel1\",\"fuel2\",\"totalTco2e\")] <- sapply(totalData_GG[,c(\"fuel1\",\"fuel2\",\"totalTco2e\")], as.numeric)\n",
    "\n",
    "# 데이터베이스에 인천공항 온실가스 배출량 추가(출처: 인천국제공항 그린레포트)\n",
    "totalData_GG$fuel1 <- totalData_GG$fuel1 + c(16245,18096,20397,20964,20921,22637,23347,28131,27476,18114)\n",
    "totalData_GG$fuel2 <- totalData_GG$fuel1 + c(160356,172231,146971,147863,147970,141288,172276,213536,205249,172929)\n",
    "\n",
    "## 기타간접온실가스 추가(16-20년: 21년도 기준, 11-15년: 16년도 기준)\n",
    "totalData_GG$fuel3 <- c(988679,1051124,1091227,1125522,1240359,1070124,1131579,1193121,1242697,690036)\n",
    "\n",
    "## 데이터 산정범위 및 변동으로 인한 2016년 및 2017년 온실가스 배출량 차이 (2019년 및 2017년 책자 출처)\n",
    "fuel1gap <- c(22637-22637,23346-23347)\n",
    "fuel2gap <- c(141288-141288,172276-188987)\n",
    "fuel3gap <- c(1070124-1406103,1131579-(135741+931062+66581+332949))\n",
    "\n",
    "## 11-15년도 데이터에 배출량 차이 적용\n",
    "totalData_GG$fuel1 <- ifelse(totalData_GG$yyyy<=2015,totalData_GG$fuel1+mean(fuel1gap),totalData_GG$fuel1)\n",
    "totalData_GG$fuel2 <- ifelse(totalData_GG$yyyy<=2015,totalData_GG$fuel2+mean(fuel2gap),totalData_GG$fuel2)\n",
    "totalData_GG$fuel3 <- ifelse(totalData_GG$yyyy<=2015,totalData_GG$fuel3+mean(fuel3gap),totalData_GG$fuel3)\n",
    "\n",
    "## totalTco2e에 기타간접온실가스 배출량 추가\n",
    "totalData_GG$totalTco2e <- totalData_GG$totalTco2e + totalData_GG$fuel3\n",
    "\n",
    "# 셀 순서 변경\n",
    "totalData_GG <- totalData_GG %>% select(yyyy, fuel1, fuel2, fuel3, totalTco2e)\n",
    "\n",
    "totalData_GG"
   ]
  },
  {
   "cell_type": "markdown",
   "id": "91a792cd",
   "metadata": {},
   "source": [
    "각 컬럼의 의미는 다음과 같습니다. 이때 모든 배출량의 단위는 tCO2e(이산화탄소 환산톤)입니다.\n",
    "\n",
    "|번호|컬럼명|내용\n",
    "|:--- | :--- | :---\n",
    "|1|yyyy|연도(범위: 2011~2020년)\n",
    "|2|fuel1|직접 온실가스 배출량(보일러 및 차량 연료, 소각 등)\n",
    "|3|fuel2|간접 온실가스 배출량(전력, 중온수 등)\n",
    "|4|fuel3|기타 간접 온실가스 배출량(항공기 배출, 입주사 사용 전력 및 중온수, 지상조업차량, 승객 및 임직원 이동 등)\n",
    "|5|totalTco2e|fuel1~3을 합한 값\n"
   ]
  },
  {
   "cell_type": "markdown",
   "id": "28d54794",
   "metadata": {},
   "source": [
    "##### 2. 수송실적통계 데이터  3)"
   ]
  },
  {
   "cell_type": "code",
   "execution_count": 4,
   "id": "58008bfa",
   "metadata": {},
   "outputs": [
    {
     "data": {
      "text/html": [
       "<table>\n",
       "<thead><tr><th scope=col>airport</th><th scope=col>arrcargo</th><th scope=col>arrflgt</th><th scope=col>arrpassenger</th><th scope=col>depcargo</th><th scope=col>depflgt</th><th scope=col>deppassenger</th><th scope=col>subcargo</th><th scope=col>subflgt</th><th scope=col>subpassenger</th><th scope=col>year</th></tr></thead>\n",
       "<tbody>\n",
       "\t<tr><td>김포      </td><td> 136706219</td><td> 58169    </td><td> 8626264  </td><td> 105415089</td><td> 58233    </td><td> 8604853  </td><td> 242121308</td><td>116402    </td><td>17231117  </td><td>2011      </td></tr>\n",
       "\t<tr><td>김해      </td><td>  54300685</td><td> 30529    </td><td> 4049534  </td><td>  61864939</td><td> 30554    </td><td> 4017875  </td><td> 116165624</td><td> 61083    </td><td> 8067409  </td><td>2011      </td></tr>\n",
       "\t<tr><td>제주      </td><td> 100166471</td><td> 52315    </td><td> 8017091  </td><td> 134853977</td><td> 52329    </td><td> 8095621  </td><td> 235020448</td><td>104644    </td><td>16112712  </td><td>2011      </td></tr>\n",
       "\t<tr><td>대구      </td><td>   8076701</td><td>  3914    </td><td>  540337  </td><td>  10156241</td><td>  3909    </td><td>  546983  </td><td>  18232942</td><td>  7823    </td><td> 1087320  </td><td>2011      </td></tr>\n",
       "\t<tr><td>광주      </td><td>   5946032</td><td>  4946    </td><td>  644632  </td><td>   8207066</td><td>  4945    </td><td>  632075  </td><td>  14153098</td><td>  9891    </td><td> 1276707  </td><td>2011      </td></tr>\n",
       "\t<tr><td>무안      </td><td>    437105</td><td>   376    </td><td>   41844  </td><td>    334997</td><td>   376    </td><td>   35558  </td><td>    772102</td><td>   752    </td><td>   77402  </td><td>2011      </td></tr>\n",
       "\t<tr><td>청주      </td><td>   8120617</td><td>  4142    </td><td>  616983  </td><td>   6851047</td><td>  4142    </td><td>  606239  </td><td>  14971664</td><td>  8284    </td><td> 1223222  </td><td>2011      </td></tr>\n",
       "\t<tr><td>양양      </td><td>     29284</td><td>    36    </td><td>    2917  </td><td>     41422</td><td>    36    </td><td>    2832  </td><td>     70706</td><td>    72    </td><td>    5749  </td><td>2011      </td></tr>\n",
       "\t<tr><td>여수      </td><td>    823059</td><td>  2653    </td><td>  282703  </td><td>   1588030</td><td>  2652    </td><td>  289109  </td><td>   2411089</td><td>  5305    </td><td>  571812  </td><td>2011      </td></tr>\n",
       "\t<tr><td>울산      </td><td>   1573441</td><td>  2710    </td><td>  270017  </td><td>   1493077</td><td>  2710    </td><td>  271936  </td><td>   3066518</td><td>  5420    </td><td>  541953  </td><td>2011      </td></tr>\n",
       "\t<tr><td>진주      </td><td>    369170</td><td>   833    </td><td>   68422  </td><td>    290766</td><td>   833    </td><td>   63540  </td><td>    659936</td><td>  1666    </td><td>  131962  </td><td>2011      </td></tr>\n",
       "\t<tr><td>포항      </td><td>    418671</td><td>  1645    </td><td>  121276  </td><td>    385262</td><td>  1645    </td><td>  121081  </td><td>    803933</td><td>  3290    </td><td>  242357  </td><td>2011      </td></tr>\n",
       "\t<tr><td>군산      </td><td>    822640</td><td>   647    </td><td>   81878  </td><td>    696124</td><td>   647    </td><td>   78287  </td><td>   1518764</td><td>  1294    </td><td>  160165  </td><td>2011      </td></tr>\n",
       "\t<tr><td>원주      </td><td>    239496</td><td>   320    </td><td>   33966  </td><td>    153917</td><td>   320    </td><td>   32649  </td><td>    393413</td><td>   640    </td><td>   66615  </td><td>2011      </td></tr>\n",
       "\t<tr><td>인천      </td><td>1375657543</td><td>105116    </td><td>16118530  </td><td>1463928475</td><td>105071    </td><td>15926794  </td><td>2839586018</td><td>210187    </td><td>32045324  </td><td>2011      </td></tr>\n",
       "\t<tr><td>총계      </td><td>1693687134</td><td>268351    </td><td>39516394  </td><td>1796260429</td><td>268402    </td><td>39325432  </td><td>3489947563</td><td>536753    </td><td>78841826  </td><td>2011      </td></tr>\n",
       "</tbody>\n",
       "</table>\n"
      ],
      "text/latex": [
       "\\begin{tabular}{r|lllllllllll}\n",
       " airport & arrcargo & arrflgt & arrpassenger & depcargo & depflgt & deppassenger & subcargo & subflgt & subpassenger & year\\\\\n",
       "\\hline\n",
       "\t 김포       &  136706219 &  58169     &  8626264   &  105415089 &  58233     &  8604853   &  242121308 & 116402     & 17231117   & 2011      \\\\\n",
       "\t 김해       &   54300685 &  30529     &  4049534   &   61864939 &  30554     &  4017875   &  116165624 &  61083     &  8067409   & 2011      \\\\\n",
       "\t 제주       &  100166471 &  52315     &  8017091   &  134853977 &  52329     &  8095621   &  235020448 & 104644     & 16112712   & 2011      \\\\\n",
       "\t 대구       &    8076701 &   3914     &   540337   &   10156241 &   3909     &   546983   &   18232942 &   7823     &  1087320   & 2011      \\\\\n",
       "\t 광주       &    5946032 &   4946     &   644632   &    8207066 &   4945     &   632075   &   14153098 &   9891     &  1276707   & 2011      \\\\\n",
       "\t 무안       &     437105 &    376     &    41844   &     334997 &    376     &    35558   &     772102 &    752     &    77402   & 2011      \\\\\n",
       "\t 청주       &    8120617 &   4142     &   616983   &    6851047 &   4142     &   606239   &   14971664 &   8284     &  1223222   & 2011      \\\\\n",
       "\t 양양       &      29284 &     36     &     2917   &      41422 &     36     &     2832   &      70706 &     72     &     5749   & 2011      \\\\\n",
       "\t 여수       &     823059 &   2653     &   282703   &    1588030 &   2652     &   289109   &    2411089 &   5305     &   571812   & 2011      \\\\\n",
       "\t 울산       &    1573441 &   2710     &   270017   &    1493077 &   2710     &   271936   &    3066518 &   5420     &   541953   & 2011      \\\\\n",
       "\t 진주       &     369170 &    833     &    68422   &     290766 &    833     &    63540   &     659936 &   1666     &   131962   & 2011      \\\\\n",
       "\t 포항       &     418671 &   1645     &   121276   &     385262 &   1645     &   121081   &     803933 &   3290     &   242357   & 2011      \\\\\n",
       "\t 군산       &     822640 &    647     &    81878   &     696124 &    647     &    78287   &    1518764 &   1294     &   160165   & 2011      \\\\\n",
       "\t 원주       &     239496 &    320     &    33966   &     153917 &    320     &    32649   &     393413 &    640     &    66615   & 2011      \\\\\n",
       "\t 인천       & 1375657543 & 105116     & 16118530   & 1463928475 & 105071     & 15926794   & 2839586018 & 210187     & 32045324   & 2011      \\\\\n",
       "\t 총계       & 1693687134 & 268351     & 39516394   & 1796260429 & 268402     & 39325432   & 3489947563 & 536753     & 78841826   & 2011      \\\\\n",
       "\\end{tabular}\n"
      ],
      "text/markdown": [
       "\n",
       "| airport | arrcargo | arrflgt | arrpassenger | depcargo | depflgt | deppassenger | subcargo | subflgt | subpassenger | year |\n",
       "|---|---|---|---|---|---|---|---|---|---|---|\n",
       "| 김포       |  136706219 |  58169     |  8626264   |  105415089 |  58233     |  8604853   |  242121308 | 116402     | 17231117   | 2011       |\n",
       "| 김해       |   54300685 |  30529     |  4049534   |   61864939 |  30554     |  4017875   |  116165624 |  61083     |  8067409   | 2011       |\n",
       "| 제주       |  100166471 |  52315     |  8017091   |  134853977 |  52329     |  8095621   |  235020448 | 104644     | 16112712   | 2011       |\n",
       "| 대구       |    8076701 |   3914     |   540337   |   10156241 |   3909     |   546983   |   18232942 |   7823     |  1087320   | 2011       |\n",
       "| 광주       |    5946032 |   4946     |   644632   |    8207066 |   4945     |   632075   |   14153098 |   9891     |  1276707   | 2011       |\n",
       "| 무안       |     437105 |    376     |    41844   |     334997 |    376     |    35558   |     772102 |    752     |    77402   | 2011       |\n",
       "| 청주       |    8120617 |   4142     |   616983   |    6851047 |   4142     |   606239   |   14971664 |   8284     |  1223222   | 2011       |\n",
       "| 양양       |      29284 |     36     |     2917   |      41422 |     36     |     2832   |      70706 |     72     |     5749   | 2011       |\n",
       "| 여수       |     823059 |   2653     |   282703   |    1588030 |   2652     |   289109   |    2411089 |   5305     |   571812   | 2011       |\n",
       "| 울산       |    1573441 |   2710     |   270017   |    1493077 |   2710     |   271936   |    3066518 |   5420     |   541953   | 2011       |\n",
       "| 진주       |     369170 |    833     |    68422   |     290766 |    833     |    63540   |     659936 |   1666     |   131962   | 2011       |\n",
       "| 포항       |     418671 |   1645     |   121276   |     385262 |   1645     |   121081   |     803933 |   3290     |   242357   | 2011       |\n",
       "| 군산       |     822640 |    647     |    81878   |     696124 |    647     |    78287   |    1518764 |   1294     |   160165   | 2011       |\n",
       "| 원주       |     239496 |    320     |    33966   |     153917 |    320     |    32649   |     393413 |    640     |    66615   | 2011       |\n",
       "| 인천       | 1375657543 | 105116     | 16118530   | 1463928475 | 105071     | 15926794   | 2839586018 | 210187     | 32045324   | 2011       |\n",
       "| 총계       | 1693687134 | 268351     | 39516394   | 1796260429 | 268402     | 39325432   | 3489947563 | 536753     | 78841826   | 2011       |\n",
       "\n"
      ],
      "text/plain": [
       "   airport arrcargo   arrflgt arrpassenger depcargo   depflgt deppassenger\n",
       "1  김포     136706219  58169   8626264      105415089  58233   8604853    \n",
       "2  김해      54300685  30529   4049534       61864939  30554   4017875    \n",
       "3  제주     100166471  52315   8017091      134853977  52329   8095621    \n",
       "4  대구       8076701   3914    540337       10156241   3909    546983    \n",
       "5  광주       5946032   4946    644632        8207066   4945    632075    \n",
       "6  무안        437105    376     41844         334997    376     35558    \n",
       "7  청주       8120617   4142    616983        6851047   4142    606239    \n",
       "8  양양         29284     36      2917          41422     36      2832    \n",
       "9  여수        823059   2653    282703        1588030   2652    289109    \n",
       "10 울산       1573441   2710    270017        1493077   2710    271936    \n",
       "11 진주        369170    833     68422         290766    833     63540    \n",
       "12 포항        418671   1645    121276         385262   1645    121081    \n",
       "13 군산        822640    647     81878         696124    647     78287    \n",
       "14 원주        239496    320     33966         153917    320     32649    \n",
       "15 인천    1375657543 105116  16118530     1463928475 105071  15926794    \n",
       "16 총계    1693687134 268351  39516394     1796260429 268402  39325432    \n",
       "   subcargo   subflgt subpassenger year\n",
       "1   242121308 116402  17231117     2011\n",
       "2   116165624  61083   8067409     2011\n",
       "3   235020448 104644  16112712     2011\n",
       "4    18232942   7823   1087320     2011\n",
       "5    14153098   9891   1276707     2011\n",
       "6      772102    752     77402     2011\n",
       "7    14971664   8284   1223222     2011\n",
       "8       70706     72      5749     2011\n",
       "9     2411089   5305    571812     2011\n",
       "10    3066518   5420    541953     2011\n",
       "11     659936   1666    131962     2011\n",
       "12     803933   3290    242357     2011\n",
       "13    1518764   1294    160165     2011\n",
       "14     393413    640     66615     2011\n",
       "15 2839586018 210187  32045324     2011\n",
       "16 3489947563 536753  78841826     2011"
      ]
     },
     "metadata": {},
     "output_type": "display_data"
    }
   ],
   "source": [
    "# 저장용 데이터베이스\n",
    "totalData_AS <- data.frame()  \n",
    "\n",
    "for(year in 2011:2020){\n",
    "    # 날짜 설정\n",
    "    stDate <- '0101'\n",
    "    edDate <- '1231'\n",
    "    startDePd <- paste0(as.character(year),stDate)\n",
    "    endDePd <- paste0(as.character(year),edDate)\n",
    "    \n",
    "    parameter_AS <- paste0(\"?serviceKey=\",serviceKey,\n",
    "                           \"&startDePd=\", startDePd,\n",
    "                           \"&endDePd=\", endDePd)  # 요청 변수\n",
    "    # 데이터 추출용 URL\n",
    "    url_AS <- paste0(serviceURL_AS, op_AS, parameter_AS)\n",
    "\n",
    "    # Open API 호출\n",
    "    xmlDocument_AS <- xmlTreeParse(url_AS, useInternalNodes = TRUE, encoding = \"UTF-8\")\n",
    "\n",
    "    # XML Root Node 추출\n",
    "    rootNode_AS <- xmlRoot(xmlDocument_AS)\n",
    "\n",
    "    # item Node의 데이터 추출\n",
    "    xmlData_AS <- xmlToDataFrame(nodes = getNodeSet(rootNode_AS,'//item'), stringsAsFactor = FALSE)\n",
    "    xmlData_AS[,2:ncol(xmlData_AS)] <- sapply(xmlData_AS[,2:ncol(xmlData_AS)], as.numeric)\n",
    "    xmlData_AS[,\"year\"] <- rep(as.character(year),times=nrow(xmlData_AS))\n",
    "    totalData_AS <- rbind(totalData_AS, xmlData_AS)\n",
    "}\n",
    "\n",
    "totalData_AS %>% filter(year==2011)"
   ]
  },
  {
   "cell_type": "markdown",
   "id": "0aa708cb",
   "metadata": {},
   "source": [
    "각 컬럼의 의미는 다음과 같습니다.\n",
    "\n",
    "|번호|컬럼명|내용\n",
    "|:--- | :--- | :---\n",
    "|1|airport|국내 공항명\n",
    "|2|depcargo, arrcargo, subcargo|출발, 도착 화물 및 화물 소계(단위: kg)\n",
    "|3|depflgt, arrflgt, subflgt|출발, 도착 운항 편수 및 운항 편수 소계(단위: 편)\n",
    "|4|deppassenger, arrpassenger, subpassenger|출발, 도착 승객 및 승객 수 소계(단위: 명)\n",
    "|5|year|연도(범위: 2011~2020년)"
   ]
  },
  {
   "cell_type": "markdown",
   "id": "ac1e8f2b",
   "metadata": {},
   "source": [
    "##### 3. 국내/국제 항공기 운항 스케줄 데이터  4)"
   ]
  },
  {
   "cell_type": "code",
   "execution_count": 5,
   "id": "98fd39f3",
   "metadata": {},
   "outputs": [],
   "source": [
    "# 저장용 데이터베이스\n",
    "totalData_FSD <- data.frame()\n",
    "totalData_FSI <- data.frame()\n",
    "\n",
    "# 데이터 추출용 URL\n",
    "url_FSD <- paste0(serviceURL_FS, op_FSD, parameter_FS)\n",
    "url_FSI <- paste0(serviceURL_FS, op_FSI, parameter_FS)\n",
    "\n",
    "# Open API 호출 (page수 확인용)\n",
    "xmlDocument_FSD <- xmlTreeParse(url_FSD, useInternalNodes = TRUE, encoding = \"UTF-8\")\n",
    "xmlDocument_FSI <- xmlTreeParse(url_FSI, useInternalNodes = TRUE, encoding = \"UTF-8\")\n",
    "\n",
    "# XML Root Node 추출\n",
    "rootNode_FSD <- xmlRoot(xmlDocument_FSD)\n",
    "rootNode_FSI <- xmlRoot(xmlDocument_FSI)\n",
    "\n",
    "# 오픈API 호출 결과 데이터의 개수\n",
    "numOfRows_FSD <- as.numeric(xpathSApply(rootNode_FSD, \"//numOfRows\",xmlValue))\n",
    "numOfRows_FSI <- as.numeric(xpathSApply(rootNode_FSI, \"//numOfRows\",xmlValue))\n",
    "\n",
    "# 전체 데이터의 개수 확인\n",
    "totalCount_FSD <- as.numeric(xpathSApply(rootNode_FSD, \"//totalCount\",xmlValue))\n",
    "totalCount_FSI <- as.numeric(xpathSApply(rootNode_FSI, \"//totalCount\",xmlValue))\n",
    "\n",
    "# 총 open API 호출 횟수 계산\n",
    "loopCount_FSD <- round(totalCount_FSD/numOfRows_FSD, 0)\n",
    "loopCount_FSI <- round(totalCount_FSI/numOfRows_FSI, 0)\n",
    "\n",
    "# API 호출 횟수 보정\n",
    "if(loopCount_FSD * numOfRows_FSD < totalCount_FSD){loopCount_FSD <- loopCount_FSD + 1}\n",
    "if(loopCount_FSI * numOfRows_FSI < totalCount_FSI){loopCount_FSI <- loopCount_FSI + 1}\n",
    "\n",
    "# Open API 호출(국내선)\n",
    "for(i in 1:loopCount_FSD){\n",
    "  url <- paste0(serviceURL_FS,op_FSD,parameter_FS,\n",
    "                paste0(\"&pageNo=\", i)) # 반복 실행 때마다 페이지 위치 1씩 증가\n",
    "  \n",
    "  doc <- xmlTreeParse(url, useInternalNodes = TRUE, encoding = \"UTF-8\")\n",
    "  \n",
    "  # XML Root Node 추출\n",
    "  rootNode <- xmlRoot(doc)\n",
    "  \n",
    "  # item Node의 데이터 추출\n",
    "  xmlData <- xmlToDataFrame(nodes = getNodeSet(rootNode,'//item'), stringsAsFactor = FALSE)\n",
    "  totalData_FSD <- bind_rows(totalData_FSD, xmlData)\n",
    "}\n",
    "\n",
    "# Open API 호출(국제선)\n",
    "for(i in 1:loopCount_FSI){\n",
    "  url <- paste0(serviceURL_FS,op_FSI,parameter_FS,\n",
    "                paste0(\"&pageNo=\", i)) # 반복 실행 때마다 페이지 위치 1씩 증가\n",
    "  \n",
    "  doc <- xmlTreeParse(url, useInternalNodes = TRUE, encoding = \"UTF-8\")\n",
    "  \n",
    "  # XML Root Node 추출\n",
    "  rootNode <- xmlRoot(doc)\n",
    "  \n",
    "  # item Node의 데이터 추출\n",
    "  xmlData <- xmlToDataFrame(nodes = getNodeSet(rootNode,'//item'), stringsAsFactor = FALSE)\n",
    "  totalData_FSI <- bind_rows(totalData_FSI, xmlData)\n",
    "}\n",
    "\n",
    "# 운항 시작일 및 종료일 데이터 타입 변경(chr -> Date)\n",
    "totalData_FSD$domesticStdate <- as.Date(totalData_FSD$domesticStdate)\n",
    "totalData_FSD$domesticEddate <- as.Date(totalData_FSD$domesticEddate)\n",
    "totalData_FSD$domesticStartTime <- format(strptime(totalData_FSD$domesticStartTime,\"%H%M\"),\"%H:%M\")\n",
    "totalData_FSD$domesticArrivalTime <- format(strptime(totalData_FSD$domesticArrivalTime,\"%H%M\"),\"%H:%M\")\n",
    "totalData_FSI$internationalStdate <- as.Date(totalData_FSI$internationalStdate)\n",
    "totalData_FSI$internationalEddate <- as.Date(totalData_FSI$internationalEddate)\n",
    "totalData_FSI$internationalTime <- format(strptime(totalData_FSI$internationalTime,\"%H%M\"),\"%H:%M\")\n",
    "\n",
    "# 2011~2020년의 운항 스케줄 데이터 추출 및 컬럼 순서 정돈\n",
    "totalData_FSD <- distinct(totalData_FSD) %>%\n",
    "    filter(domesticStdate <= as.Date('2020-12-31') &\n",
    "           domesticEddate >= as.Date('2011-01-01') &\n",
    "           domesticStdate <= domesticEddate) %>%  # 도착 일정이 출발 일정보다 이후인 데이터만 추출\n",
    "    arrange(domesticStdate, domesticEddate) %>%\n",
    "    select(\"domesticNum\", \"airlineEnglish\",\"startcityCode\", \"startcity\", \"arrivalcityCode\", \"arrivalcity\",\n",
    "           \"domesticStdate\", \"domesticEddate\", \"domesticStartTime\", \"domesticArrivalTime\",\"flightPurpose\",\n",
    "           \"domesticMon\",\"domesticTue\",\"domesticWed\",\"domesticThu\",\"domesticFri\",\"domesticSat\",\"domesticSun\")\n",
    "totalData_FSI <- distinct(totalData_FSI) %>%\n",
    "    filter(internationalStdate <= as.Date('2020-12-31') &\n",
    "           internationalEddate >= as.Date('2011-01-01') &\n",
    "           internationalStdate <= internationalEddate) %>%  # 도착 일정이 출발 일정보다 이후인 데이터만 추출\n",
    "    arrange(internationalStdate, internationalEddate, internationalIoType) %>%\n",
    "    select(\"internationalNum\", \"airlineEnglish\", \"airportCode\", \"airport\", \"cityCode\", \"city\",\n",
    "           \"internationalStdate\", \"internationalEddate\", \"internationalTime\", \"internationalIoType\",\"flightPurpose\",\n",
    "           \"internationalMon\",\"internationalTue\",\"internationalWed\",\"internationalThu\",\n",
    "           \"internationalFri\",\"internationalSat\",\"internationalSun\")\n",
    "\n",
    "# 컬럼명 바꾸기\n",
    "names(totalData_FSD) <- c(\"flightNum\", \"airline\",\"startCityCode\", \"startCity\", \"arrivalCityCode\", \"arrivalCity\",\n",
    "                          \"startDate\", \"endDate\", \"startTime\", \"arrivalTime\",\"flightPurpose\",\n",
    "                          \"mon\",\"tue\",\"wed\",\"thu\",\"fri\",\"sat\",\"sun\")\n",
    "names(totalData_FSI) <- c(\"flightNum\", \"airline\", \"domesticCityCode\", \"domesticCity\",\n",
    "                          \"internationalCityCode\", \"internationalCity\",\n",
    "                          \"startDate\", \"endDate\", \"recordedTime\", \"ioType\",\"flightPurpose\",\n",
    "                          \"mon\",\"tue\",\"wed\",\"thu\",\"fri\",\"sat\",\"sun\")"
   ]
  },
  {
   "cell_type": "code",
   "execution_count": 6,
   "id": "7435c55d",
   "metadata": {},
   "outputs": [
    {
     "data": {
      "text/html": [
       "<table>\n",
       "<thead><tr><th scope=col>flightNum</th><th scope=col>airline</th><th scope=col>startCityCode</th><th scope=col>startCity</th><th scope=col>arrivalCityCode</th><th scope=col>arrivalCity</th><th scope=col>startDate</th><th scope=col>endDate</th><th scope=col>startTime</th><th scope=col>arrivalTime</th><th scope=col>flightPurpose</th><th scope=col>mon</th><th scope=col>tue</th><th scope=col>wed</th><th scope=col>thu</th><th scope=col>fri</th><th scope=col>sat</th><th scope=col>sun</th></tr></thead>\n",
       "<tbody>\n",
       "\t<tr><td>OZ8903        </td><td>ASIANA AIRLINE</td><td>GMP           </td><td>서울/김포     </td><td>CJU           </td><td>제주          </td><td>2010-10-31    </td><td>2011-01-02    </td><td>06:40         </td><td>07:45         </td><td>여객기        </td><td>Y             </td><td>Y             </td><td>Y             </td><td>Y             </td><td>Y             </td><td>Y             </td><td>Y             </td></tr>\n",
       "\t<tr><td>OZ8906        </td><td>ASIANA AIRLINE</td><td>CJU           </td><td>제주          </td><td>GMP           </td><td>서울/김포     </td><td>2010-10-31    </td><td>2011-01-02    </td><td>08:15         </td><td>09:20         </td><td>여객기        </td><td>Y             </td><td>Y             </td><td>Y             </td><td>Y             </td><td>Y             </td><td>Y             </td><td>Y             </td></tr>\n",
       "\t<tr><td>OZ8911        </td><td>ASIANA AIRLINE</td><td>GMP           </td><td>서울/김포     </td><td>CJU           </td><td>제주          </td><td>2010-10-31    </td><td>2011-01-02    </td><td>09:50         </td><td>10:55         </td><td>여객기        </td><td>Y             </td><td>Y             </td><td>Y             </td><td>Y             </td><td>Y             </td><td>Y             </td><td>Y             </td></tr>\n",
       "\t<tr><td>OZ8916        </td><td>ASIANA AIRLINE</td><td>CJU           </td><td>제주          </td><td>GMP           </td><td>서울/김포     </td><td>2010-10-31    </td><td>2011-01-02    </td><td>11:25         </td><td>12:30         </td><td>여객기        </td><td>Y             </td><td>Y             </td><td>Y             </td><td>Y             </td><td>Y             </td><td>Y             </td><td>Y             </td></tr>\n",
       "\t<tr><td>OZ8919        </td><td>ASIANA AIRLINE</td><td>GMP           </td><td>서울/김포     </td><td>CJU           </td><td>제주          </td><td>2010-10-31    </td><td>2011-01-02    </td><td>12:35         </td><td>13:40         </td><td>여객기        </td><td>Y             </td><td>Y             </td><td>Y             </td><td>Y             </td><td>Y             </td><td>Y             </td><td>Y             </td></tr>\n",
       "\t<tr><td>OZ8923        </td><td>ASIANA AIRLINE</td><td>GMP           </td><td>서울/김포     </td><td>CJU           </td><td>제주          </td><td>2010-10-31    </td><td>2011-01-02    </td><td>13:00         </td><td>14:05         </td><td>여객기        </td><td>Y             </td><td>Y             </td><td>Y             </td><td>Y             </td><td>Y             </td><td>Y             </td><td>Y             </td></tr>\n",
       "</tbody>\n",
       "</table>\n"
      ],
      "text/latex": [
       "\\begin{tabular}{r|llllllllllllllllll}\n",
       " flightNum & airline & startCityCode & startCity & arrivalCityCode & arrivalCity & startDate & endDate & startTime & arrivalTime & flightPurpose & mon & tue & wed & thu & fri & sat & sun\\\\\n",
       "\\hline\n",
       "\t OZ8903         & ASIANA AIRLINE & GMP            & 서울/김포      & CJU            & 제주           & 2010-10-31     & 2011-01-02     & 06:40          & 07:45          & 여객기         & Y              & Y              & Y              & Y              & Y              & Y              & Y             \\\\\n",
       "\t OZ8906         & ASIANA AIRLINE & CJU            & 제주           & GMP            & 서울/김포      & 2010-10-31     & 2011-01-02     & 08:15          & 09:20          & 여객기         & Y              & Y              & Y              & Y              & Y              & Y              & Y             \\\\\n",
       "\t OZ8911         & ASIANA AIRLINE & GMP            & 서울/김포      & CJU            & 제주           & 2010-10-31     & 2011-01-02     & 09:50          & 10:55          & 여객기         & Y              & Y              & Y              & Y              & Y              & Y              & Y             \\\\\n",
       "\t OZ8916         & ASIANA AIRLINE & CJU            & 제주           & GMP            & 서울/김포      & 2010-10-31     & 2011-01-02     & 11:25          & 12:30          & 여객기         & Y              & Y              & Y              & Y              & Y              & Y              & Y             \\\\\n",
       "\t OZ8919         & ASIANA AIRLINE & GMP            & 서울/김포      & CJU            & 제주           & 2010-10-31     & 2011-01-02     & 12:35          & 13:40          & 여객기         & Y              & Y              & Y              & Y              & Y              & Y              & Y             \\\\\n",
       "\t OZ8923         & ASIANA AIRLINE & GMP            & 서울/김포      & CJU            & 제주           & 2010-10-31     & 2011-01-02     & 13:00          & 14:05          & 여객기         & Y              & Y              & Y              & Y              & Y              & Y              & Y             \\\\\n",
       "\\end{tabular}\n"
      ],
      "text/markdown": [
       "\n",
       "| flightNum | airline | startCityCode | startCity | arrivalCityCode | arrivalCity | startDate | endDate | startTime | arrivalTime | flightPurpose | mon | tue | wed | thu | fri | sat | sun |\n",
       "|---|---|---|---|---|---|---|---|---|---|---|---|---|---|---|---|---|---|\n",
       "| OZ8903         | ASIANA AIRLINE | GMP            | 서울/김포      | CJU            | 제주           | 2010-10-31     | 2011-01-02     | 06:40          | 07:45          | 여객기         | Y              | Y              | Y              | Y              | Y              | Y              | Y              |\n",
       "| OZ8906         | ASIANA AIRLINE | CJU            | 제주           | GMP            | 서울/김포      | 2010-10-31     | 2011-01-02     | 08:15          | 09:20          | 여객기         | Y              | Y              | Y              | Y              | Y              | Y              | Y              |\n",
       "| OZ8911         | ASIANA AIRLINE | GMP            | 서울/김포      | CJU            | 제주           | 2010-10-31     | 2011-01-02     | 09:50          | 10:55          | 여객기         | Y              | Y              | Y              | Y              | Y              | Y              | Y              |\n",
       "| OZ8916         | ASIANA AIRLINE | CJU            | 제주           | GMP            | 서울/김포      | 2010-10-31     | 2011-01-02     | 11:25          | 12:30          | 여객기         | Y              | Y              | Y              | Y              | Y              | Y              | Y              |\n",
       "| OZ8919         | ASIANA AIRLINE | GMP            | 서울/김포      | CJU            | 제주           | 2010-10-31     | 2011-01-02     | 12:35          | 13:40          | 여객기         | Y              | Y              | Y              | Y              | Y              | Y              | Y              |\n",
       "| OZ8923         | ASIANA AIRLINE | GMP            | 서울/김포      | CJU            | 제주           | 2010-10-31     | 2011-01-02     | 13:00          | 14:05          | 여객기         | Y              | Y              | Y              | Y              | Y              | Y              | Y              |\n",
       "\n"
      ],
      "text/plain": [
       "  flightNum airline        startCityCode startCity arrivalCityCode arrivalCity\n",
       "1 OZ8903    ASIANA AIRLINE GMP           서울/김포 CJU             제주       \n",
       "2 OZ8906    ASIANA AIRLINE CJU           제주      GMP             서울/김포  \n",
       "3 OZ8911    ASIANA AIRLINE GMP           서울/김포 CJU             제주       \n",
       "4 OZ8916    ASIANA AIRLINE CJU           제주      GMP             서울/김포  \n",
       "5 OZ8919    ASIANA AIRLINE GMP           서울/김포 CJU             제주       \n",
       "6 OZ8923    ASIANA AIRLINE GMP           서울/김포 CJU             제주       \n",
       "  startDate  endDate    startTime arrivalTime flightPurpose mon tue wed thu fri\n",
       "1 2010-10-31 2011-01-02 06:40     07:45       여객기        Y   Y   Y   Y   Y  \n",
       "2 2010-10-31 2011-01-02 08:15     09:20       여객기        Y   Y   Y   Y   Y  \n",
       "3 2010-10-31 2011-01-02 09:50     10:55       여객기        Y   Y   Y   Y   Y  \n",
       "4 2010-10-31 2011-01-02 11:25     12:30       여객기        Y   Y   Y   Y   Y  \n",
       "5 2010-10-31 2011-01-02 12:35     13:40       여객기        Y   Y   Y   Y   Y  \n",
       "6 2010-10-31 2011-01-02 13:00     14:05       여객기        Y   Y   Y   Y   Y  \n",
       "  sat sun\n",
       "1 Y   Y  \n",
       "2 Y   Y  \n",
       "3 Y   Y  \n",
       "4 Y   Y  \n",
       "5 Y   Y  \n",
       "6 Y   Y  "
      ]
     },
     "metadata": {},
     "output_type": "display_data"
    }
   ],
   "source": [
    "head(totalData_FSD)  # 국내 항공기 운항 스케줄 데이터"
   ]
  },
  {
   "cell_type": "markdown",
   "id": "54c86ad5",
   "metadata": {},
   "source": [
    "각 컬럼의 의미는 다음과 같습니다.\n",
    "\n",
    "|번호|컬럼명|내용\n",
    "|:--- | :--- | :---\n",
    "|1|flightNum|항공편명\n",
    "|2|airline|항공사\n",
    "|3|startCityCode, startCity|출발 공항 코드(IATA) 및 출발 공항명\n",
    "|4|arrivalCityCode, arrivalCity|도착 공항 코드(IATA) 및 도착 공항명\n",
    "|5|startDate|운항 스케줄 시행 시작일\n",
    "|6|endDate|운항 스케줄 시행 종료일\n",
    "|7|startTime, arrivalTime|항공기 출발 시각 및 도착 시각\n",
    "|8|flightPurpose|항공기 사용 목적(여객기 등)\n",
    "|9|mon~sun|운항 스케줄 시행 요일 여부(Y, N)"
   ]
  },
  {
   "cell_type": "code",
   "execution_count": 7,
   "id": "52053e67",
   "metadata": {
    "scrolled": false
   },
   "outputs": [
    {
     "data": {
      "text/html": [
       "<table>\n",
       "<thead><tr><th scope=col>flightNum</th><th scope=col>airline</th><th scope=col>domesticCityCode</th><th scope=col>domesticCity</th><th scope=col>internationalCityCode</th><th scope=col>internationalCity</th><th scope=col>startDate</th><th scope=col>endDate</th><th scope=col>recordedTime</th><th scope=col>ioType</th><th scope=col>flightPurpose</th><th scope=col>mon</th><th scope=col>tue</th><th scope=col>wed</th><th scope=col>thu</th><th scope=col>fri</th><th scope=col>sat</th><th scope=col>sun</th></tr></thead>\n",
       "<tbody>\n",
       "\t<tr><td>KE830                 </td><td>KOREAN AIR            </td><td>PUS                   </td><td>부산/김해             </td><td>PEK                   </td><td>북경/베이징           </td><td>2010-10-31            </td><td>2011-01-01            </td><td>13:05                 </td><td>IN                    </td><td>여객기                </td><td>Y                     </td><td>Y                     </td><td>Y                     </td><td>Y                     </td><td>N                     </td><td>Y                     </td><td>N                     </td></tr>\n",
       "\t<tr><td>KE772                 </td><td>KOREAN AIR            </td><td>PUS                   </td><td>부산/김해             </td><td>CTS                   </td><td>삿포로                </td><td>2010-10-31            </td><td>2011-01-01            </td><td>20:05                 </td><td>IN                    </td><td>여객기                </td><td>N                     </td><td>Y                     </td><td>N                     </td><td>Y                     </td><td>N                     </td><td>Y                     </td><td>N                     </td></tr>\n",
       "\t<tr><td>KE829                 </td><td>KOREAN AIR            </td><td>PUS                   </td><td>부산/김해             </td><td>PEK                   </td><td>북경/베이징           </td><td>2010-10-31            </td><td>2011-01-01            </td><td>07:20                 </td><td>OUT                   </td><td>여객기                </td><td>Y                     </td><td>Y                     </td><td>Y                     </td><td>Y                     </td><td>N                     </td><td>Y                     </td><td>N                     </td></tr>\n",
       "\t<tr><td>MU273                 </td><td>CHINA EASTERN AIRLINES</td><td>CJU                   </td><td>제주                  </td><td>PEK                   </td><td>북경/베이징           </td><td>2010-10-31            </td><td>2011-01-10            </td><td>20:40                 </td><td>IN                    </td><td>여객기                </td><td>Y                     </td><td>N                     </td><td>N                     </td><td>N                     </td><td>N                     </td><td>N                     </td><td>N                     </td></tr>\n",
       "\t<tr><td>MU274                 </td><td>CHINA EASTERN AIRLINES</td><td>CJU                   </td><td>제주                  </td><td>PEK                   </td><td>북경/베이징           </td><td>2010-10-31            </td><td>2011-01-10            </td><td>21:30                 </td><td>OUT                   </td><td>여객기                </td><td>Y                     </td><td>N                     </td><td>N                     </td><td>N                     </td><td>N                     </td><td>N                     </td><td>N                     </td></tr>\n",
       "\t<tr><td>KE715                 </td><td>KOREAN AIR            </td><td>PUS                   </td><td>부산/김해             </td><td>NRT                   </td><td>동경/도쿄/나리타      </td><td>2010-10-31            </td><td>2011-02-05            </td><td>10:50                 </td><td>OUT                   </td><td>여객기                </td><td>Y                     </td><td>Y                     </td><td>Y                     </td><td>Y                     </td><td>Y                     </td><td>Y                     </td><td>Y                     </td></tr>\n",
       "</tbody>\n",
       "</table>\n"
      ],
      "text/latex": [
       "\\begin{tabular}{r|llllllllllllllllll}\n",
       " flightNum & airline & domesticCityCode & domesticCity & internationalCityCode & internationalCity & startDate & endDate & recordedTime & ioType & flightPurpose & mon & tue & wed & thu & fri & sat & sun\\\\\n",
       "\\hline\n",
       "\t KE830                  & KOREAN AIR             & PUS                    & 부산/김해              & PEK                    & 북경/베이징            & 2010-10-31             & 2011-01-01             & 13:05                  & IN                     & 여객기                 & Y                      & Y                      & Y                      & Y                      & N                      & Y                      & N                     \\\\\n",
       "\t KE772                  & KOREAN AIR             & PUS                    & 부산/김해              & CTS                    & 삿포로                 & 2010-10-31             & 2011-01-01             & 20:05                  & IN                     & 여객기                 & N                      & Y                      & N                      & Y                      & N                      & Y                      & N                     \\\\\n",
       "\t KE829                  & KOREAN AIR             & PUS                    & 부산/김해              & PEK                    & 북경/베이징            & 2010-10-31             & 2011-01-01             & 07:20                  & OUT                    & 여객기                 & Y                      & Y                      & Y                      & Y                      & N                      & Y                      & N                     \\\\\n",
       "\t MU273                  & CHINA EASTERN AIRLINES & CJU                    & 제주                   & PEK                    & 북경/베이징            & 2010-10-31             & 2011-01-10             & 20:40                  & IN                     & 여객기                 & Y                      & N                      & N                      & N                      & N                      & N                      & N                     \\\\\n",
       "\t MU274                  & CHINA EASTERN AIRLINES & CJU                    & 제주                   & PEK                    & 북경/베이징            & 2010-10-31             & 2011-01-10             & 21:30                  & OUT                    & 여객기                 & Y                      & N                      & N                      & N                      & N                      & N                      & N                     \\\\\n",
       "\t KE715                  & KOREAN AIR             & PUS                    & 부산/김해              & NRT                    & 동경/도쿄/나리타       & 2010-10-31             & 2011-02-05             & 10:50                  & OUT                    & 여객기                 & Y                      & Y                      & Y                      & Y                      & Y                      & Y                      & Y                     \\\\\n",
       "\\end{tabular}\n"
      ],
      "text/markdown": [
       "\n",
       "| flightNum | airline | domesticCityCode | domesticCity | internationalCityCode | internationalCity | startDate | endDate | recordedTime | ioType | flightPurpose | mon | tue | wed | thu | fri | sat | sun |\n",
       "|---|---|---|---|---|---|---|---|---|---|---|---|---|---|---|---|---|---|\n",
       "| KE830                  | KOREAN AIR             | PUS                    | 부산/김해              | PEK                    | 북경/베이징            | 2010-10-31             | 2011-01-01             | 13:05                  | IN                     | 여객기                 | Y                      | Y                      | Y                      | Y                      | N                      | Y                      | N                      |\n",
       "| KE772                  | KOREAN AIR             | PUS                    | 부산/김해              | CTS                    | 삿포로                 | 2010-10-31             | 2011-01-01             | 20:05                  | IN                     | 여객기                 | N                      | Y                      | N                      | Y                      | N                      | Y                      | N                      |\n",
       "| KE829                  | KOREAN AIR             | PUS                    | 부산/김해              | PEK                    | 북경/베이징            | 2010-10-31             | 2011-01-01             | 07:20                  | OUT                    | 여객기                 | Y                      | Y                      | Y                      | Y                      | N                      | Y                      | N                      |\n",
       "| MU273                  | CHINA EASTERN AIRLINES | CJU                    | 제주                   | PEK                    | 북경/베이징            | 2010-10-31             | 2011-01-10             | 20:40                  | IN                     | 여객기                 | Y                      | N                      | N                      | N                      | N                      | N                      | N                      |\n",
       "| MU274                  | CHINA EASTERN AIRLINES | CJU                    | 제주                   | PEK                    | 북경/베이징            | 2010-10-31             | 2011-01-10             | 21:30                  | OUT                    | 여객기                 | Y                      | N                      | N                      | N                      | N                      | N                      | N                      |\n",
       "| KE715                  | KOREAN AIR             | PUS                    | 부산/김해              | NRT                    | 동경/도쿄/나리타       | 2010-10-31             | 2011-02-05             | 10:50                  | OUT                    | 여객기                 | Y                      | Y                      | Y                      | Y                      | Y                      | Y                      | Y                      |\n",
       "\n"
      ],
      "text/plain": [
       "  flightNum airline                domesticCityCode domesticCity\n",
       "1 KE830     KOREAN AIR             PUS              부산/김해   \n",
       "2 KE772     KOREAN AIR             PUS              부산/김해   \n",
       "3 KE829     KOREAN AIR             PUS              부산/김해   \n",
       "4 MU273     CHINA EASTERN AIRLINES CJU              제주        \n",
       "5 MU274     CHINA EASTERN AIRLINES CJU              제주        \n",
       "6 KE715     KOREAN AIR             PUS              부산/김해   \n",
       "  internationalCityCode internationalCity startDate  endDate    recordedTime\n",
       "1 PEK                   북경/베이징       2010-10-31 2011-01-01 13:05       \n",
       "2 CTS                   삿포로            2010-10-31 2011-01-01 20:05       \n",
       "3 PEK                   북경/베이징       2010-10-31 2011-01-01 07:20       \n",
       "4 PEK                   북경/베이징       2010-10-31 2011-01-10 20:40       \n",
       "5 PEK                   북경/베이징       2010-10-31 2011-01-10 21:30       \n",
       "6 NRT                   동경/도쿄/나리타  2010-10-31 2011-02-05 10:50       \n",
       "  ioType flightPurpose mon tue wed thu fri sat sun\n",
       "1 IN     여객기        Y   Y   Y   Y   N   Y   N  \n",
       "2 IN     여객기        N   Y   N   Y   N   Y   N  \n",
       "3 OUT    여객기        Y   Y   Y   Y   N   Y   N  \n",
       "4 IN     여객기        Y   N   N   N   N   N   N  \n",
       "5 OUT    여객기        Y   N   N   N   N   N   N  \n",
       "6 OUT    여객기        Y   Y   Y   Y   Y   Y   Y  "
      ]
     },
     "metadata": {},
     "output_type": "display_data"
    }
   ],
   "source": [
    "head(totalData_FSI)  # 국제 항공기 운항 스케줄 데이터"
   ]
  },
  {
   "cell_type": "markdown",
   "id": "644b0fa9",
   "metadata": {},
   "source": [
    "각 컬럼의 의미는 다음과 같습니다.\n",
    "\n",
    "|번호|컬럼명|내용\n",
    "|:--- | :--- | :---\n",
    "|1|flightNum|항공편명\n",
    "|2|airline|항공사\n",
    "|3|domesticCityCode, domesticCity|국내 공항 코드(IATA) 및 국내 공항명\n",
    "|4|internationalCityCode, internationalCity|해외 공항 코드(IATA) 및 해외 공항명\n",
    "|5|startDate|운항 스케줄 시행 시작일\n",
    "|6|endDate|운항 스케줄 시행 종료일\n",
    "|7|recordedTime|국내 출발 또는 도착 기록 시각\n",
    "|8|ioType|입국 또는 출국 구분(IN, OUT)\n",
    "|9|flightPurpose|항공기 사용 목적(여객기 등)\n",
    "|10|mon~sun|운항 스케줄 시행 요일 여부(Y, N)"
   ]
  },
  {
   "cell_type": "markdown",
   "id": "924311b7",
   "metadata": {},
   "source": [
    "##### 4. 노선별 소요시간 및 거리 정보 데이터  5)"
   ]
  },
  {
   "cell_type": "code",
   "execution_count": 8,
   "id": "2f528acd",
   "metadata": {},
   "outputs": [
    {
     "data": {
      "text/html": [
       "<table>\n",
       "<thead><tr><th scope=col>diType</th><th scope=col>cityCode1</th><th scope=col>cityCode2</th><th scope=col>distance.km</th><th scope=col>time.m</th></tr></thead>\n",
       "<tbody>\n",
       "\t<tr><td>D  </td><td>CJJ</td><td>CJU</td><td>367</td><td>42 </td></tr>\n",
       "\t<tr><td>D  </td><td>CJU</td><td>CJJ</td><td>367</td><td>42 </td></tr>\n",
       "\t<tr><td>D  </td><td>CJU</td><td>GMP</td><td>449</td><td>48 </td></tr>\n",
       "\t<tr><td>D  </td><td>CJU</td><td>HIN</td><td>227</td><td>32 </td></tr>\n",
       "\t<tr><td>D  </td><td>CJU</td><td>ICN</td><td>438</td><td>47 </td></tr>\n",
       "\t<tr><td>D  </td><td>CJU</td><td>KPO</td><td>383</td><td>43 </td></tr>\n",
       "</tbody>\n",
       "</table>\n"
      ],
      "text/latex": [
       "\\begin{tabular}{r|lllll}\n",
       " diType & cityCode1 & cityCode2 & distance.km & time.m\\\\\n",
       "\\hline\n",
       "\t D   & CJJ & CJU & 367 & 42 \\\\\n",
       "\t D   & CJU & CJJ & 367 & 42 \\\\\n",
       "\t D   & CJU & GMP & 449 & 48 \\\\\n",
       "\t D   & CJU & HIN & 227 & 32 \\\\\n",
       "\t D   & CJU & ICN & 438 & 47 \\\\\n",
       "\t D   & CJU & KPO & 383 & 43 \\\\\n",
       "\\end{tabular}\n"
      ],
      "text/markdown": [
       "\n",
       "| diType | cityCode1 | cityCode2 | distance.km | time.m |\n",
       "|---|---|---|---|---|\n",
       "| D   | CJJ | CJU | 367 | 42  |\n",
       "| D   | CJU | CJJ | 367 | 42  |\n",
       "| D   | CJU | GMP | 449 | 48  |\n",
       "| D   | CJU | HIN | 227 | 32  |\n",
       "| D   | CJU | ICN | 438 | 47  |\n",
       "| D   | CJU | KPO | 383 | 43  |\n",
       "\n"
      ],
      "text/plain": [
       "  diType cityCode1 cityCode2 distance.km time.m\n",
       "1 D      CJJ       CJU       367         42    \n",
       "2 D      CJU       CJJ       367         42    \n",
       "3 D      CJU       GMP       449         48    \n",
       "4 D      CJU       HIN       227         32    \n",
       "5 D      CJU       ICN       438         47    \n",
       "6 D      CJU       KPO       383         43    "
      ]
     },
     "metadata": {},
     "output_type": "display_data"
    }
   ],
   "source": [
    "# 저장용 데이터베이스\n",
    "totalData_TD <- data.frame()  \n",
    "\n",
    "# 데이터 추출용 URL\n",
    "url_TD <- paste0(serviceURL_TD, op_TD, parameter_TD)\n",
    "\n",
    "# Open API 호출 (page수 확인용)\n",
    "xmlDocument_TD <- xmlTreeParse(url_TD, useInternalNodes = TRUE, encoding = \"UTF-8\")\n",
    "\n",
    "# XML Root Node 추출\n",
    "rootNode_TD <- xmlRoot(xmlDocument_TD)\n",
    "\n",
    "# 오픈API 호출 결과 데이터의 개수\n",
    "numOfRows_TD <- as.numeric(xpathSApply(rootNode_TD, \"//numOfRows\",xmlValue))\n",
    "\n",
    "# 전체 데이터의 개수 확인\n",
    "totalCount_TD <- as.numeric(xpathSApply(rootNode_TD, \"//totalCount\",xmlValue))\n",
    "\n",
    "# 총 open API 호출 횟수 계산\n",
    "loopCount_TD <- round(totalCount_TD/numOfRows_TD, 0)\n",
    "\n",
    "# API 호출 횟수 보정\n",
    "if(loopCount_TD * numOfRows_TD < totalCount_TD){loopCount_TD <- loopCount_TD + 1}\n",
    "\n",
    "# Open API 호출\n",
    "for(i in 1:loopCount_TD){\n",
    "  url <- paste0(serviceURL_TD,op_TD,parameter_TD,\n",
    "                paste0(\"&pageNo=\", i)) # 반복 실행 때마다 페이지 위치 1씩 증가\n",
    "  \n",
    "  doc <- xmlTreeParse(url, useInternalNodes = TRUE, encoding = \"UTF-8\")\n",
    "  \n",
    "  # XML Root Node 추출\n",
    "  rootNode <- xmlRoot(doc)\n",
    "  \n",
    "  # item Node의 데이터 추출\n",
    "  xmlData <- xmlToDataFrame(nodes = getNodeSet(rootNode,'//item'), stringsAsFactor = FALSE)\n",
    "  totalData_TD <- rbind(totalData_TD, xmlData)\n",
    "}\n",
    "\n",
    "# 거리 및 시간 데이터 타입 변경(chr -> numeric)\n",
    "totalData_TD$km <- as.numeric(totalData_TD$km)\n",
    "totalData_TD$time <- as.numeric(totalData_TD$time)\n",
    "\n",
    "# 컬럼 순서 정돈\n",
    "totalData_TD <- totalData_TD %>% select(\"tof\", \"arp\", \"odp\", \"km\", \"time\") %>%\n",
    "                                  arrange(tof, arp, odp)\n",
    "\n",
    "# 컬럼명 바꾸기\n",
    "names(totalData_TD) <- c(\"diType\", \"cityCode1\", \"cityCode2\", \"distance.km\", \"time.m\")\n",
    "\n",
    "head(totalData_TD)"
   ]
  },
  {
   "cell_type": "markdown",
   "id": "149ab701",
   "metadata": {},
   "source": [
    "각 컬럼의 의미는 다음과 같습니다.\n",
    "\n",
    "|번호|컬럼명|내용\n",
    "|:--- | :--- | :---\n",
    "|1|diType|국내선 또는 국제선 구분(D: 국내선, I: 국제선)\n",
    "|2|cityCode1, cityCode2|노선의 출도착 공항 코드(IATA)\n",
    "|3|distance.km|출도착 공항 간 거리(단위: km)\n",
    "|4|time.m|출도착 공항 간 소요 시간(단위: 분)"
   ]
  },
  {
   "cell_type": "markdown",
   "id": "8d5c3838",
   "metadata": {},
   "source": [
    "##### 5. 기종별 연료 소모량  데이터 - \"국내 공항 연도별 항공기종 사용 현황(하단 참조)\"의 10년 간 사용량 0인 항공기는 제외 6) 7) 8) 9) 10)"
   ]
  },
  {
   "cell_type": "code",
   "execution_count": 9,
   "id": "6d8bd8d4",
   "metadata": {
    "scrolled": true
   },
   "outputs": [
    {
     "data": {
      "text/html": [
       "'LC_COLLATE=English_United States.1252;LC_CTYPE=English_United States.1252;LC_MONETARY=English_United States.1252;LC_NUMERIC=C;LC_TIME=English_United States.1252'"
      ],
      "text/latex": [
       "'LC\\_COLLATE=English\\_United States.1252;LC\\_CTYPE=English\\_United States.1252;LC\\_MONETARY=English\\_United States.1252;LC\\_NUMERIC=C;LC\\_TIME=English\\_United States.1252'"
      ],
      "text/markdown": [
       "'LC_COLLATE=English_United States.1252;LC_CTYPE=English_United States.1252;LC_MONETARY=English_United States.1252;LC_NUMERIC=C;LC_TIME=English_United States.1252'"
      ],
      "text/plain": [
       "[1] \"LC_COLLATE=English_United States.1252;LC_CTYPE=English_United States.1252;LC_MONETARY=English_United States.1252;LC_NUMERIC=C;LC_TIME=English_United States.1252\""
      ]
     },
     "metadata": {},
     "output_type": "display_data"
    },
    {
     "data": {
      "text/html": [
       "'LC_COLLATE=Korean_Korea.949;LC_CTYPE=Korean_Korea.949;LC_MONETARY=Korean_Korea.949;LC_NUMERIC=C;LC_TIME=Korean_Korea.949'"
      ],
      "text/latex": [
       "'LC\\_COLLATE=Korean\\_Korea.949;LC\\_CTYPE=Korean\\_Korea.949;LC\\_MONETARY=Korean\\_Korea.949;LC\\_NUMERIC=C;LC\\_TIME=Korean\\_Korea.949'"
      ],
      "text/markdown": [
       "'LC_COLLATE=Korean_Korea.949;LC_CTYPE=Korean_Korea.949;LC_MONETARY=Korean_Korea.949;LC_NUMERIC=C;LC_TIME=Korean_Korea.949'"
      ],
      "text/plain": [
       "[1] \"LC_COLLATE=Korean_Korea.949;LC_CTYPE=Korean_Korea.949;LC_MONETARY=Korean_Korea.949;LC_NUMERIC=C;LC_TIME=Korean_Korea.949\""
      ]
     },
     "metadata": {},
     "output_type": "display_data"
    },
    {
     "data": {
      "text/html": [
       "<table>\n",
       "<thead><tr><th scope=col>model</th><th scope=col>ICAO</th><th scope=col>seats</th><th scope=col>fuelBurn.kg.km</th><th scope=col>fuelPerSeat.L.100km</th><th scope=col>sector.nmi</th><th scope=col>sector.km</th></tr></thead>\n",
       "<tbody>\n",
       "\t<tr><td>Boeing 737-300  </td><td>B737            </td><td>126             </td><td>3.49            </td><td>3.46            </td><td>507             </td><td> 938.964        </td></tr>\n",
       "\t<tr><td>Boeing 737-600  </td><td>B737            </td><td>110             </td><td>3.16            </td><td>3.59            </td><td>500             </td><td> 926.000        </td></tr>\n",
       "\t<tr><td>Boeing 737-700  </td><td>B737            </td><td>126             </td><td>3.21            </td><td>3.19            </td><td>500             </td><td> 926.000        </td></tr>\n",
       "\t<tr><td>Boeing 737 MAX 7</td><td>B737            </td><td>128             </td><td>2.85            </td><td>2.77            </td><td>660             </td><td>1222.320        </td></tr>\n",
       "\t<tr><td>Boeing 737 MAX 7</td><td>B737            </td><td>144             </td><td>3.39            </td><td>2.93            </td><td>600             </td><td>1111.200        </td></tr>\n",
       "\t<tr><td>Boeing 737-800  </td><td>B737            </td><td>162             </td><td>3.59            </td><td>2.77            </td><td>500             </td><td> 926.000        </td></tr>\n",
       "</tbody>\n",
       "</table>\n"
      ],
      "text/latex": [
       "\\begin{tabular}{r|lllllll}\n",
       " model & ICAO & seats & fuelBurn.kg.km & fuelPerSeat.L.100km & sector.nmi & sector.km\\\\\n",
       "\\hline\n",
       "\t Boeing 737-300   & B737             & 126              & 3.49             & 3.46             & 507              &  938.964        \\\\\n",
       "\t Boeing 737-600   & B737             & 110              & 3.16             & 3.59             & 500              &  926.000        \\\\\n",
       "\t Boeing 737-700   & B737             & 126              & 3.21             & 3.19             & 500              &  926.000        \\\\\n",
       "\t Boeing 737 MAX 7 & B737             & 128              & 2.85             & 2.77             & 660              & 1222.320        \\\\\n",
       "\t Boeing 737 MAX 7 & B737             & 144              & 3.39             & 2.93             & 600              & 1111.200        \\\\\n",
       "\t Boeing 737-800   & B737             & 162              & 3.59             & 2.77             & 500              &  926.000        \\\\\n",
       "\\end{tabular}\n"
      ],
      "text/markdown": [
       "\n",
       "| model | ICAO | seats | fuelBurn.kg.km | fuelPerSeat.L.100km | sector.nmi | sector.km |\n",
       "|---|---|---|---|---|---|---|\n",
       "| Boeing 737-300   | B737             | 126              | 3.49             | 3.46             | 507              |  938.964         |\n",
       "| Boeing 737-600   | B737             | 110              | 3.16             | 3.59             | 500              |  926.000         |\n",
       "| Boeing 737-700   | B737             | 126              | 3.21             | 3.19             | 500              |  926.000         |\n",
       "| Boeing 737 MAX 7 | B737             | 128              | 2.85             | 2.77             | 660              | 1222.320         |\n",
       "| Boeing 737 MAX 7 | B737             | 144              | 3.39             | 2.93             | 600              | 1111.200         |\n",
       "| Boeing 737-800   | B737             | 162              | 3.59             | 2.77             | 500              |  926.000         |\n",
       "\n"
      ],
      "text/plain": [
       "  model            ICAO seats fuelBurn.kg.km fuelPerSeat.L.100km sector.nmi\n",
       "1 Boeing 737-300   B737 126   3.49           3.46                507       \n",
       "2 Boeing 737-600   B737 110   3.16           3.59                500       \n",
       "3 Boeing 737-700   B737 126   3.21           3.19                500       \n",
       "4 Boeing 737 MAX 7 B737 128   2.85           2.77                660       \n",
       "5 Boeing 737 MAX 7 B737 144   3.39           2.93                600       \n",
       "6 Boeing 737-800   B737 162   3.59           2.77                500       \n",
       "  sector.km\n",
       "1  938.964 \n",
       "2  926.000 \n",
       "3  926.000 \n",
       "4 1222.320 \n",
       "5 1111.200 \n",
       "6  926.000 "
      ]
     },
     "metadata": {},
     "output_type": "display_data"
    }
   ],
   "source": [
    "# 연료 소모량 데이터베이스 종합\n",
    "tempTotalData_FC <- data.frame()\n",
    "\n",
    "# 위키백과에서 기종별 연료 소모량 데이터베이스 크롤링\n",
    "Sys.setlocale(\"LC_ALL\", \"English\")\n",
    "tdist <- read_html(\"https://en.wikipedia.org/wiki/Fuel_economy_in_aircraft\")\n",
    "table <- tdist %>%\n",
    "  html_nodes(\".wikitable\") %>%\n",
    "  html_table(header = TRUE)\n",
    "Sys.setlocale(\"LC_ALL\", \"Korean\")\n",
    "\n",
    "# 크롤링한 데이터 가공\n",
    "for(i in 1:5){\n",
    "    tempTable <- table[i][[1]]\n",
    "    if(i == 1 | i == 3){\n",
    "        tempTable <- tempTable[,c(1,3,4,5)]\n",
    "        if(i == 1){tempTable$sector.nmi <- '300'}\n",
    "        else{tempTable$sector.nmi <- '1000'}\n",
    "    }\n",
    "    else{tempTable <- tempTable[,c(1,3,5,6,4)]}\n",
    "    colnames(tempTable) <- c(\"model\", \"seats\",\"fuelBurn.kg.km\",\"fuelPerSeat.L.100km\",\"sector.nmi\")\n",
    "    tempTotalData_FC <- rbind(tempTotalData_FC, tempTable)\n",
    "}\n",
    "\n",
    "tempTotalData_FC$model <- str_replace_all(tempTotalData_FC$model, '\\u00A0', \" \")\n",
    "tempTotalData_FC$model <- str_trim(tempTotalData_FC$model)\n",
    "tempTotalData_FC$fuelBurn.kg.km <- str_replace_all(tempTotalData_FC$fuelBurn.kg.km, '\\u00A0', \" \")\n",
    "tempTotalData_FC$fuelBurn.kg.km <- substr(tempTotalData_FC$fuelBurn.kg.km, 1,\n",
    "                                        str_locate(tempTotalData_FC$fuelBurn.kg.km, \" \")[,1])\n",
    "tempTotalData_FC$fuelPerSeat.L.100km <- str_replace_all( tempTotalData_FC$fuelPerSeat.L.100km,'\\u00A0', \" \")\n",
    "tempTotalData_FC$fuelPerSeat.L.100km <- substr(tempTotalData_FC$fuelPerSeat.L.100km, 1,\n",
    "                                             str_locate(tempTotalData_FC$fuelPerSeat.L.100km, \" \")[,1])\n",
    "tempTotalData_FC$sector.nmi <- str_replace_all(tempTotalData_FC$sector.nmi, '\\u00A0', \" \")\n",
    "tempTotalData_FC$sector.nmi <- str_replace_all(tempTotalData_FC$sector.nmi, ',', \"\")\n",
    "tempTotalData_FC$sector.nmi <- ifelse(str_detect(tempTotalData_FC$sector.nmi, \" \"),\n",
    "                                    substr(tempTotalData_FC$sector.nmi, 1, str_locate(tempTotalData_FC$sector.nmi, \" \")[,1]),\n",
    "                                    tempTotalData_FC$sector.nmi)\n",
    "\n",
    "# totalData_FC에 한국공항공사의 기종별 통계에 나온 항공기 종류만 추출\n",
    "totalData_FC <- tempTotalData_FC %>% filter(str_detect(model, \"Boeing 737\")) %>% mutate(ICAO = \"B737\")\n",
    "totalData_FC <- rbind(totalData_FC,\n",
    "                        tempTotalData_FC %>% filter(str_detect(model, \"Boeing 747\")) %>% mutate(ICAO = \"B747\"))\n",
    "totalData_FC <- rbind(totalData_FC,\n",
    "                        tempTotalData_FC %>% filter(str_detect(model, \"Boeing 767\")) %>% mutate(ICAO = \"B767\"))\n",
    "totalData_FC <- rbind(totalData_FC,\n",
    "                        tempTotalData_FC %>% filter(str_detect(model, \"Boeing 777\")) %>% mutate(ICAO = \"B777\"))\n",
    "totalData_FC <- rbind(totalData_FC,\n",
    "                        tempTotalData_FC %>% filter(str_detect(model, \"A330\")) %>% mutate(ICAO = \"A330\"))\n",
    "\n",
    "## 열 순서 변경\n",
    "totalData_FC <- totalData_FC %>% select(model, ICAO, seats, fuelBurn.kg.km, fuelPerSeat.L.100km, sector.nmi)\n",
    "\n",
    "# A300 항공기 정보 추가\n",
    "totalData_FC <- rbind(totalData_FC,c(\"Airbus A300-600\",\"A300\",289,round(62000/6852,2),NA,3700,6852))\n",
    "totalData_FC <- rbind(totalData_FC,c(\"Airbus A300-600R\",\"A300\",289,round(68165/7500,2),NA,4050,7500))\n",
    "\n",
    "# MD82 항공기 정보 추가\n",
    "## 연료는 Jet A-1(밀도: 0.8075(0.775와 0.840의 평균))을 사용한다고 가정\n",
    "totalData_FC <- rbind(totalData_FC,c(\"McDonnell Douglas/Boeing MD-82\",\"MD82\",172,round(22150*0.8075/3800,2),NA,2050,3800))\n",
    "\n",
    "# IL62 항공기 정보 추가\n",
    "## 연료는 Jet A-1(밀도: 0.8075(0.775와 0.840의 평균))을 사용한다고 가정\n",
    "totalData_FC <- rbind(totalData_FC,c(\"Ilyushin Il-62\",\"IL62\", 186, round(105300*0.8075/10000,2),NA,5400,10000))\n",
    "\n",
    "# 실수형 데이터 타입 변경 (chr -> numeric)\n",
    "totalData_FC$seats <- as.numeric(totalData_FC$seats)\n",
    "totalData_FC$fuelBurn.kg.km <- as.numeric(totalData_FC$fuelBurn.kg.km)\n",
    "totalData_FC$fuelPerSeat.L.100km <- as.numeric(totalData_FC$fuelPerSeat.L.100km)\n",
    "totalData_FC$sector.nmi <- as.numeric(totalData_FC$sector.nmi)\n",
    "\n",
    "## 운항거리 킬로미터(km) 환산치 추가\n",
    "totalData_FC$sector.km <- totalData_FC$sector.nmi * 1.852\n",
    "\n",
    "head(totalData_FC)"
   ]
  },
  {
   "cell_type": "markdown",
   "id": "112a5b01",
   "metadata": {},
   "source": [
    "각 컬럼의 의미는 다음과 같습니다.\n",
    "\n",
    "|번호|컬럼명|내용\n",
    "|:--- | :--- | :---\n",
    "|1|model|항공기 모델\n",
    "|2|ICAO|항공기종 코드\n",
    "|3|seats|기내 좌석 수\n",
    "|4|fuelBurn.kg.km|연비(단위: kg/km)\n",
    "|5|fuelPerSeat.L.100km|100km 주행 시 좌석 1칸 당 소요되는 연료의 부피(단위: L/100km)\n",
    "|6|sector.nmi|최대 운항 거리(단위: nmi(해리))\n",
    "|7|sector.km|최대 운항 거리(단위: km)"
   ]
  },
  {
   "cell_type": "markdown",
   "id": "41ca82cd",
   "metadata": {},
   "source": [
    "##### 6. 국내 공항 연도별 항공기종 사용 현황  데이터 - 인천국제공항 제외 11)"
   ]
  },
  {
   "cell_type": "code",
   "execution_count": 10,
   "id": "b7d7f263",
   "metadata": {},
   "outputs": [
    {
     "data": {
      "text/html": [
       "<table>\n",
       "<thead><tr><th scope=col>공항명</th><th scope=col>B737</th><th scope=col>B747</th><th scope=col>B767</th><th scope=col>B777</th><th scope=col>DC8</th><th scope=col>DC10</th><th scope=col>MD11</th><th scope=col>MD82</th><th scope=col>A300</th><th scope=col>A330</th><th scope=col>IL62</th><th scope=col>TU154</th><th scope=col>F100</th><th scope=col>기타</th><th scope=col>계</th><th scope=col>연도</th></tr></thead>\n",
       "<tbody>\n",
       "\t<tr><td>김포  </td><td> 79184</td><td>2231  </td><td>2821  </td><td>1976  </td><td>0     </td><td>0     </td><td>0     </td><td> 1    </td><td> 33408</td><td> 5766 </td><td>0     </td><td>0     </td><td>0     </td><td> 728  </td><td>126115</td><td>2011  </td></tr>\n",
       "\t<tr><td>김해  </td><td> 42411</td><td>   6  </td><td> 236  </td><td>  30  </td><td>0     </td><td>0     </td><td>0     </td><td>15    </td><td> 19134</td><td> 3799 </td><td>0     </td><td>0     </td><td>0     </td><td> 894  </td><td> 66525</td><td>2011  </td></tr>\n",
       "\t<tr><td>제주  </td><td> 70571</td><td> 388  </td><td> 367  </td><td>  69  </td><td>0     </td><td>0     </td><td>0     </td><td> 0    </td><td> 37769</td><td> 3530 </td><td>0     </td><td>0     </td><td>0     </td><td>   2  </td><td>112696</td><td>2011  </td></tr>\n",
       "\t<tr><td>대구  </td><td>  4924</td><td>   0  </td><td> 132  </td><td>   0  </td><td>0     </td><td>0     </td><td>0     </td><td> 0    </td><td>  3427</td><td>    0 </td><td>0     </td><td>0     </td><td>0     </td><td>   6  </td><td>  8489</td><td>2011  </td></tr>\n",
       "\t<tr><td>광주  </td><td>  5007</td><td>   0  </td><td> 346  </td><td>   0  </td><td>0     </td><td>0     </td><td>0     </td><td> 0    </td><td>  5428</td><td>    0 </td><td>0     </td><td>0     </td><td>0     </td><td>   0  </td><td> 10781</td><td>2011  </td></tr>\n",
       "\t<tr><td>무안  </td><td>    44</td><td>   0  </td><td>   1  </td><td>   1  </td><td>0     </td><td>0     </td><td>0     </td><td> 5    </td><td>   822</td><td>    2 </td><td>0     </td><td>0     </td><td>0     </td><td>   0  </td><td>   875</td><td>2011  </td></tr>\n",
       "\t<tr><td>청주  </td><td>  5777</td><td>  44  </td><td>   0  </td><td>   0  </td><td>0     </td><td>0     </td><td>0     </td><td> 0    </td><td>  3261</td><td>    0 </td><td>0     </td><td>0     </td><td>0     </td><td>   0  </td><td>  9082</td><td>2011  </td></tr>\n",
       "\t<tr><td>양양  </td><td>     1</td><td>   0  </td><td>   0  </td><td>   0  </td><td>0     </td><td>0     </td><td>0     </td><td> 0    </td><td>    71</td><td>    0 </td><td>0     </td><td>0     </td><td>0     </td><td>   0  </td><td>    72</td><td>2011  </td></tr>\n",
       "\t<tr><td>여수  </td><td>  3742</td><td>   0  </td><td>   0  </td><td>   0  </td><td>0     </td><td>0     </td><td>0     </td><td> 0    </td><td>  2061</td><td>    0 </td><td>0     </td><td>0     </td><td>0     </td><td>   0  </td><td>  5803</td><td>2011  </td></tr>\n",
       "\t<tr><td>울산  </td><td>  5510</td><td>   0  </td><td>   0  </td><td>   0  </td><td>0     </td><td>0     </td><td>0     </td><td> 0    </td><td>   605</td><td>    0 </td><td>0     </td><td>0     </td><td>0     </td><td>   0  </td><td>  6115</td><td>2011  </td></tr>\n",
       "\t<tr><td>사천  </td><td>  1626</td><td>   0  </td><td>   0  </td><td>   0  </td><td>0     </td><td>0     </td><td>0     </td><td> 0    </td><td>   200</td><td>    0 </td><td>0     </td><td>0     </td><td>0     </td><td>   0  </td><td>  1826</td><td>2011  </td></tr>\n",
       "\t<tr><td>포항  </td><td>  2860</td><td>   0  </td><td>   0  </td><td>   0  </td><td>0     </td><td>0     </td><td>0     </td><td> 0    </td><td>   682</td><td>    0 </td><td>0     </td><td>0     </td><td>0     </td><td>   0  </td><td>  3542</td><td>2011  </td></tr>\n",
       "\t<tr><td>군산  </td><td>  1398</td><td>   0  </td><td>   0  </td><td>   0  </td><td>0     </td><td>0     </td><td>0     </td><td> 0    </td><td>     0</td><td>    0 </td><td>0     </td><td>0     </td><td>0     </td><td>   0  </td><td>  1398</td><td>2011  </td></tr>\n",
       "\t<tr><td>원주  </td><td>   696</td><td>   0  </td><td>   0  </td><td>   0  </td><td>0     </td><td>0     </td><td>0     </td><td> 0    </td><td>     0</td><td>    0 </td><td>0     </td><td>0     </td><td>0     </td><td>   0  </td><td>   696</td><td>2011  </td></tr>\n",
       "\t<tr><td>합계  </td><td>223751</td><td>2669  </td><td>3903  </td><td>2076  </td><td>0     </td><td>0     </td><td>0     </td><td>21    </td><td>106868</td><td>13097 </td><td>0     </td><td>0     </td><td>0     </td><td>1630  </td><td>354015</td><td>2011  </td></tr>\n",
       "</tbody>\n",
       "</table>\n"
      ],
      "text/latex": [
       "\\begin{tabular}{r|lllllllllllllllll}\n",
       " 공항명 & B737 & B747 & B767 & B777 & DC8 & DC10 & MD11 & MD82 & A300 & A330 & IL62 & TU154 & F100 & 기타 & 계 & 연도\\\\\n",
       "\\hline\n",
       "\t 김포   &  79184 & 2231   & 2821   & 1976   & 0      & 0      & 0      &  1     &  33408 &  5766  & 0      & 0      & 0      &  728   & 126115 & 2011  \\\\\n",
       "\t 김해   &  42411 &    6   &  236   &   30   & 0      & 0      & 0      & 15     &  19134 &  3799  & 0      & 0      & 0      &  894   &  66525 & 2011  \\\\\n",
       "\t 제주   &  70571 &  388   &  367   &   69   & 0      & 0      & 0      &  0     &  37769 &  3530  & 0      & 0      & 0      &    2   & 112696 & 2011  \\\\\n",
       "\t 대구   &   4924 &    0   &  132   &    0   & 0      & 0      & 0      &  0     &   3427 &     0  & 0      & 0      & 0      &    6   &   8489 & 2011  \\\\\n",
       "\t 광주   &   5007 &    0   &  346   &    0   & 0      & 0      & 0      &  0     &   5428 &     0  & 0      & 0      & 0      &    0   &  10781 & 2011  \\\\\n",
       "\t 무안   &     44 &    0   &    1   &    1   & 0      & 0      & 0      &  5     &    822 &     2  & 0      & 0      & 0      &    0   &    875 & 2011  \\\\\n",
       "\t 청주   &   5777 &   44   &    0   &    0   & 0      & 0      & 0      &  0     &   3261 &     0  & 0      & 0      & 0      &    0   &   9082 & 2011  \\\\\n",
       "\t 양양   &      1 &    0   &    0   &    0   & 0      & 0      & 0      &  0     &     71 &     0  & 0      & 0      & 0      &    0   &     72 & 2011  \\\\\n",
       "\t 여수   &   3742 &    0   &    0   &    0   & 0      & 0      & 0      &  0     &   2061 &     0  & 0      & 0      & 0      &    0   &   5803 & 2011  \\\\\n",
       "\t 울산   &   5510 &    0   &    0   &    0   & 0      & 0      & 0      &  0     &    605 &     0  & 0      & 0      & 0      &    0   &   6115 & 2011  \\\\\n",
       "\t 사천   &   1626 &    0   &    0   &    0   & 0      & 0      & 0      &  0     &    200 &     0  & 0      & 0      & 0      &    0   &   1826 & 2011  \\\\\n",
       "\t 포항   &   2860 &    0   &    0   &    0   & 0      & 0      & 0      &  0     &    682 &     0  & 0      & 0      & 0      &    0   &   3542 & 2011  \\\\\n",
       "\t 군산   &   1398 &    0   &    0   &    0   & 0      & 0      & 0      &  0     &      0 &     0  & 0      & 0      & 0      &    0   &   1398 & 2011  \\\\\n",
       "\t 원주   &    696 &    0   &    0   &    0   & 0      & 0      & 0      &  0     &      0 &     0  & 0      & 0      & 0      &    0   &    696 & 2011  \\\\\n",
       "\t 합계   & 223751 & 2669   & 3903   & 2076   & 0      & 0      & 0      & 21     & 106868 & 13097  & 0      & 0      & 0      & 1630   & 354015 & 2011  \\\\\n",
       "\\end{tabular}\n"
      ],
      "text/markdown": [
       "\n",
       "| 공항명 | B737 | B747 | B767 | B777 | DC8 | DC10 | MD11 | MD82 | A300 | A330 | IL62 | TU154 | F100 | 기타 | 계 | 연도 |\n",
       "|---|---|---|---|---|---|---|---|---|---|---|---|---|---|---|---|---|\n",
       "| 김포   |  79184 | 2231   | 2821   | 1976   | 0      | 0      | 0      |  1     |  33408 |  5766  | 0      | 0      | 0      |  728   | 126115 | 2011   |\n",
       "| 김해   |  42411 |    6   |  236   |   30   | 0      | 0      | 0      | 15     |  19134 |  3799  | 0      | 0      | 0      |  894   |  66525 | 2011   |\n",
       "| 제주   |  70571 |  388   |  367   |   69   | 0      | 0      | 0      |  0     |  37769 |  3530  | 0      | 0      | 0      |    2   | 112696 | 2011   |\n",
       "| 대구   |   4924 |    0   |  132   |    0   | 0      | 0      | 0      |  0     |   3427 |     0  | 0      | 0      | 0      |    6   |   8489 | 2011   |\n",
       "| 광주   |   5007 |    0   |  346   |    0   | 0      | 0      | 0      |  0     |   5428 |     0  | 0      | 0      | 0      |    0   |  10781 | 2011   |\n",
       "| 무안   |     44 |    0   |    1   |    1   | 0      | 0      | 0      |  5     |    822 |     2  | 0      | 0      | 0      |    0   |    875 | 2011   |\n",
       "| 청주   |   5777 |   44   |    0   |    0   | 0      | 0      | 0      |  0     |   3261 |     0  | 0      | 0      | 0      |    0   |   9082 | 2011   |\n",
       "| 양양   |      1 |    0   |    0   |    0   | 0      | 0      | 0      |  0     |     71 |     0  | 0      | 0      | 0      |    0   |     72 | 2011   |\n",
       "| 여수   |   3742 |    0   |    0   |    0   | 0      | 0      | 0      |  0     |   2061 |     0  | 0      | 0      | 0      |    0   |   5803 | 2011   |\n",
       "| 울산   |   5510 |    0   |    0   |    0   | 0      | 0      | 0      |  0     |    605 |     0  | 0      | 0      | 0      |    0   |   6115 | 2011   |\n",
       "| 사천   |   1626 |    0   |    0   |    0   | 0      | 0      | 0      |  0     |    200 |     0  | 0      | 0      | 0      |    0   |   1826 | 2011   |\n",
       "| 포항   |   2860 |    0   |    0   |    0   | 0      | 0      | 0      |  0     |    682 |     0  | 0      | 0      | 0      |    0   |   3542 | 2011   |\n",
       "| 군산   |   1398 |    0   |    0   |    0   | 0      | 0      | 0      |  0     |      0 |     0  | 0      | 0      | 0      |    0   |   1398 | 2011   |\n",
       "| 원주   |    696 |    0   |    0   |    0   | 0      | 0      | 0      |  0     |      0 |     0  | 0      | 0      | 0      |    0   |    696 | 2011   |\n",
       "| 합계   | 223751 | 2669   | 3903   | 2076   | 0      | 0      | 0      | 21     | 106868 | 13097  | 0      | 0      | 0      | 1630   | 354015 | 2011   |\n",
       "\n"
      ],
      "text/plain": [
       "   공항명 B737   B747 B767 B777 DC8 DC10 MD11 MD82 A300   A330  IL62 TU154 F100\n",
       "1  김포    79184 2231 2821 1976 0   0    0     1    33408  5766 0    0     0   \n",
       "2  김해    42411    6  236   30 0   0    0    15    19134  3799 0    0     0   \n",
       "3  제주    70571  388  367   69 0   0    0     0    37769  3530 0    0     0   \n",
       "4  대구     4924    0  132    0 0   0    0     0     3427     0 0    0     0   \n",
       "5  광주     5007    0  346    0 0   0    0     0     5428     0 0    0     0   \n",
       "6  무안       44    0    1    1 0   0    0     5      822     2 0    0     0   \n",
       "7  청주     5777   44    0    0 0   0    0     0     3261     0 0    0     0   \n",
       "8  양양        1    0    0    0 0   0    0     0       71     0 0    0     0   \n",
       "9  여수     3742    0    0    0 0   0    0     0     2061     0 0    0     0   \n",
       "10 울산     5510    0    0    0 0   0    0     0      605     0 0    0     0   \n",
       "11 사천     1626    0    0    0 0   0    0     0      200     0 0    0     0   \n",
       "12 포항     2860    0    0    0 0   0    0     0      682     0 0    0     0   \n",
       "13 군산     1398    0    0    0 0   0    0     0        0     0 0    0     0   \n",
       "14 원주      696    0    0    0 0   0    0     0        0     0 0    0     0   \n",
       "15 합계   223751 2669 3903 2076 0   0    0    21   106868 13097 0    0     0   \n",
       "   기타 계     연도\n",
       "1   728 126115 2011\n",
       "2   894  66525 2011\n",
       "3     2 112696 2011\n",
       "4     6   8489 2011\n",
       "5     0  10781 2011\n",
       "6     0    875 2011\n",
       "7     0   9082 2011\n",
       "8     0     72 2011\n",
       "9     0   5803 2011\n",
       "10    0   6115 2011\n",
       "11    0   1826 2011\n",
       "12    0   3542 2011\n",
       "13    0   1398 2011\n",
       "14    0    696 2011\n",
       "15 1630 354015 2011"
      ]
     },
     "metadata": {},
     "output_type": "display_data"
    }
   ],
   "source": [
    "# 파일 읽기\n",
    "totalData_UA <- as.data.frame(read_excel(\"기종별 통계.xlsx\",\n",
    "                                 sheet = \"2011\",\n",
    "                                 range=\"A7:P22\"))\n",
    "totalData_UA$연도 <- rep(2011,times=nrow(totalData_UA))\n",
    "\n",
    "for(i in 2012:2020){\n",
    "    data <- as.data.frame(read_excel(\"기종별 통계.xlsx\",\n",
    "                                 sheet = as.character(i),\n",
    "                                 range=\"A7:P22\"))\n",
    "    data$연도 <- rep(i,times=nrow(data))\n",
    "    totalData_UA <- bind_rows(totalData_UA, data)\n",
    "}\n",
    "\n",
    "totalData_UA %>% filter(연도==\"2011\")"
   ]
  },
  {
   "cell_type": "markdown",
   "id": "c059783e",
   "metadata": {},
   "source": [
    "각 컬럼의 의미는 다음과 같습니다.\n",
    "\n",
    "|번호|컬럼명|내용\n",
    "|:--- | :--- | :---\n",
    "1|공항명|공항명\n",
    "2|B737 ~ F100, 기타|각 항공기종의 사용량(단위: 회)\n",
    "3|계|모든 항공기종 사용량의 총합\n",
    "4|연도|연도(범위: 2011~2020년)"
   ]
  },
  {
   "cell_type": "markdown",
   "id": "27dca4e7",
   "metadata": {},
   "source": [
    "### 2-1-1. 국내 공항 총 운항편수 및 연간 온실가스 배출량 변화"
   ]
  },
  {
   "cell_type": "markdown",
   "id": "efcf17c6",
   "metadata": {},
   "source": [
    "해당 시각화에서는 **1. 공항 온실가스 데이터** 및 **2. 수송실적통계 데이터**를 사용했습니다."
   ]
  },
  {
   "cell_type": "markdown",
   "id": "51e61814",
   "metadata": {},
   "source": [
    "#### 데이터 가공"
   ]
  },
  {
   "cell_type": "code",
   "execution_count": 11,
   "id": "9324c8b2",
   "metadata": {},
   "outputs": [
    {
     "data": {
      "text/html": [
       "<table>\n",
       "<thead><tr><th scope=col>year</th><th scope=col>stats</th><th scope=col>fuelType</th></tr></thead>\n",
       "<tbody>\n",
       "\t<tr><td>2011            </td><td> 653312.5       </td><td>기타간접온실가스</td></tr>\n",
       "\t<tr><td>2012            </td><td> 715757.5       </td><td>기타간접온실가스</td></tr>\n",
       "\t<tr><td>2013            </td><td> 755860.5       </td><td>기타간접온실가스</td></tr>\n",
       "\t<tr><td>2014            </td><td> 790155.5       </td><td>기타간접온실가스</td></tr>\n",
       "\t<tr><td>2015            </td><td> 904992.5       </td><td>기타간접온실가스</td></tr>\n",
       "\t<tr><td>2016            </td><td>1070124.0       </td><td>기타간접온실가스</td></tr>\n",
       "</tbody>\n",
       "</table>\n"
      ],
      "text/latex": [
       "\\begin{tabular}{r|lll}\n",
       " year & stats & fuelType\\\\\n",
       "\\hline\n",
       "\t 2011             &  653312.5        & 기타간접온실가스\\\\\n",
       "\t 2012             &  715757.5        & 기타간접온실가스\\\\\n",
       "\t 2013             &  755860.5        & 기타간접온실가스\\\\\n",
       "\t 2014             &  790155.5        & 기타간접온실가스\\\\\n",
       "\t 2015             &  904992.5        & 기타간접온실가스\\\\\n",
       "\t 2016             & 1070124.0        & 기타간접온실가스\\\\\n",
       "\\end{tabular}\n"
      ],
      "text/markdown": [
       "\n",
       "| year | stats | fuelType |\n",
       "|---|---|---|\n",
       "| 2011             |  653312.5        | 기타간접온실가스 |\n",
       "| 2012             |  715757.5        | 기타간접온실가스 |\n",
       "| 2013             |  755860.5        | 기타간접온실가스 |\n",
       "| 2014             |  790155.5        | 기타간접온실가스 |\n",
       "| 2015             |  904992.5        | 기타간접온실가스 |\n",
       "| 2016             | 1070124.0        | 기타간접온실가스 |\n",
       "\n"
      ],
      "text/plain": [
       "  year stats     fuelType        \n",
       "1 2011  653312.5 기타간접온실가스\n",
       "2 2012  715757.5 기타간접온실가스\n",
       "3 2013  755860.5 기타간접온실가스\n",
       "4 2014  790155.5 기타간접온실가스\n",
       "5 2015  904992.5 기타간접온실가스\n",
       "6 2016 1070124.0 기타간접온실가스"
      ]
     },
     "metadata": {},
     "output_type": "display_data"
    }
   ],
   "source": [
    "# 데이터 시각화를 위해 온실가스 데이터 형태 변형\n",
    "fuel1Data <- totalData_GG[,c(\"yyyy\", \"fuel3\")]\n",
    "fuel1Data <- cbind(fuel1Data, rep(\"기타간접온실가스\", times=nrow(fuel1Data)))\n",
    "colnames(fuel1Data) <- c(\"year\", \"stats\", \"fuelType\")\n",
    "fuel2Data <- totalData_GG[,c(\"yyyy\", \"fuel2\")]\n",
    "fuel2Data <- cbind(fuel2Data, rep(\"간접온실가스\", times=nrow(fuel2Data)))\n",
    "colnames(fuel2Data) <- c(\"year\", \"stats\", \"fuelType\")\n",
    "fuel3Data <- totalData_GG[,c(\"yyyy\", \"fuel1\")]\n",
    "fuel3Data <- cbind(fuel3Data, rep(\"직접온실가스\", times=nrow(fuel3Data)))\n",
    "colnames(fuel3Data) <- c(\"year\", \"stats\", \"fuelType\")\n",
    "totalFuelData <- totalData_GG[,c(\"yyyy\",\"totalTco2e\")]\n",
    "totalFuelData <- cbind(totalFuelData, rep(\"온실가스총합\", times=nrow(totalFuelData)))\n",
    "colnames(totalFuelData) <- c(\"year\", \"stats\", \"fuelType\")\n",
    "fuelData <- rbind(fuel1Data,fuel2Data)\n",
    "fuelData <- rbind(fuelData,fuel3Data)\n",
    "fuelData <- rbind(fuelData, totalFuelData)\n",
    "\n",
    "# 연도별 총 국내 공항(인천 포함) 출발+도착 건수 추출\n",
    "subflgtData <- totalData_AS %>% select(\"subflgt\", \"year\", \"airport\") %>% filter(airport==\"총계\")\n",
    "\n",
    "head(fuelData)"
   ]
  },
  {
   "cell_type": "markdown",
   "id": "33302b7c",
   "metadata": {},
   "source": [
    "각 컬럼의 의미는 다음과 같습니다.\n",
    "\n",
    "|번호|컬럼명|내용\n",
    "|:--- | :--- | :---\n",
    "1|year|연도(범위: 2011~2020년)\n",
    "2|stats|유형별 온실가스 발생량(단위: tCO2e)\n",
    "3|fuelType|온실가스 유형(직접온실가스, 간접온실가스, 기타간접온실가스, 온실가스총합)"
   ]
  },
  {
   "cell_type": "markdown",
   "id": "366eb04b",
   "metadata": {},
   "source": [
    "#### 데이터 시각화"
   ]
  },
  {
   "cell_type": "code",
   "execution_count": 12,
   "id": "4f0259bc",
   "metadata": {},
   "outputs": [
    {
     "data": {
      "image/png": "[encoded data removed]",
      "text/plain": [
       "plot without title"
      ]
     },
     "metadata": {},
     "output_type": "display_data"
    }
   ],
   "source": [
    "# 시각화용 데이터 제작\n",
    "fig1Data <- inner_join(fuelData, subflgtData, by=\"year\") %>% filter(fuelType == \"온실가스총합\")\n",
    "\n",
    "# 보정값\n",
    "ratio <- mean(fig1Data$subflgt)/mean(fig1Data$stats)*0.001\n",
    "\n",
    "ggplot() + theme_bw() + \n",
    "           geom_bar(data=fig1Data,aes(x=year,y=subflgt/1000,color=subflgt, fill=subflgt),stat=\"identity\",width=0.7,alpha=0.2) +\n",
    "           geom_line(data=fig1Data,aes(x=year,y=stats*ratio),color=\"cadetblue4\", size=0.7,group=1) +\n",
    "           coord_cartesian(ylim=c(0,1000)) +\n",
    "           scale_color_gradient(low=\"#CC66FF\", high=\"#FF9999\")+\n",
    "           scale_fill_gradient(low=\"#CC66FF\", high=\"#FF9999\")+\n",
    "           labs(title=\"연도별 국내 공항 총 운항 편수(막대그래프) 및 총 온실가스 배출량(꺾은선그래프)\", x=\"연도\",\n",
    "                fill=\"운항 편수   \", color=\"운항 편수   \") + \n",
    "           scale_y_continuous(name = \"운항 편수\\n(출발 및 도착 합계, 단위: 천 편)\",\n",
    "                              sec.axis = sec_axis(~./ratio/1000, name=\"온실가스 배출량 (단위: ktCO2e)\"))+\n",
    "           theme(legend.position = \"none\",\n",
    "                 title = element_text(size=12,face='bold'),\n",
    "                 axis.title.x =  element_text(size=12,face='bold'),\n",
    "                 axis.title.y = element_text(size=12,face='bold')\n",
    "                 )"
   ]
  },
  {
   "cell_type": "markdown",
   "id": "49b7fab7",
   "metadata": {},
   "source": [
    "2011년부터 2019년까지 국내 항공기 온실가스 배출량이 증가하고 있음을 알 수 있습니다. 그러나 2020년 항공기 운항량의 감소로 온실가스 배출량이 급격히 하락하였습니다.\n",
    "\n",
    "위 그래프에서 볼 수 있듯 2011년부터 2019년까지 국내 항공기 운항 편수 역시 증가했습니다. 다만 2020년 코로나19 범유행으로 운항 편수가 눈에 띄게 감소했습니다. 대체적으로 온실가스 배출량과 **양의 상관관계**에 있음을 알 수 있습니다."
   ]
  },
  {
   "cell_type": "markdown",
   "id": "b8b13b70",
   "metadata": {},
   "source": [
    "### 2-1-2. 국내/국제별 총 운항 거리 (운항 편수 * 노선 거리) 변화"
   ]
  },
  {
   "cell_type": "markdown",
   "id": "0627f9f7",
   "metadata": {},
   "source": [
    "해당 시각화에서는 **1. 공항 온실가스 데이터**, **3. 국내/국제 항공기 운항 스케줄 데이터** 및 **4. 노선별 소요시간 및 거리 정보 데이터**를 사용했습니다."
   ]
  },
  {
   "cell_type": "markdown",
   "id": "a935af7f",
   "metadata": {},
   "source": [
    "#### 데이터 가공"
   ]
  },
  {
   "cell_type": "code",
   "execution_count": 13,
   "id": "1bb8ece6",
   "metadata": {},
   "outputs": [
    {
     "name": "stderr",
     "output_type": "stream",
     "text": [
      "`summarise()` has grouped output by 'cityCode1'. You can override using the `.groups` argument.\n",
      "`summarise()` has grouped output by 'cityCode1'. You can override using the `.groups` argument.\n",
      "`summarise()` has grouped output by 'cityCode1'. You can override using the `.groups` argument.\n",
      "`summarise()` has grouped output by 'cityCode1'. You can override using the `.groups` argument.\n",
      "`summarise()` has grouped output by 'cityCode1'. You can override using the `.groups` argument.\n",
      "`summarise()` has grouped output by 'cityCode1'. You can override using the `.groups` argument.\n",
      "`summarise()` has grouped output by 'cityCode1'. You can override using the `.groups` argument.\n",
      "`summarise()` has grouped output by 'cityCode1'. You can override using the `.groups` argument.\n",
      "`summarise()` has grouped output by 'cityCode1'. You can override using the `.groups` argument.\n",
      "`summarise()` has grouped output by 'cityCode1'. You can override using the `.groups` argument.\n"
     ]
    },
    {
     "data": {
      "text/html": [
       "<table>\n",
       "<thead><tr><th scope=col>flightYear</th><th scope=col>cityCode1</th><th scope=col>cityCode2</th><th scope=col>diType</th><th scope=col>distance.km</th><th scope=col>time.m</th><th scope=col>totalFlight</th></tr></thead>\n",
       "<tbody>\n",
       "\t<tr><td>2011  </td><td>CJU   </td><td>GMP   </td><td>D     </td><td>449   </td><td>48    </td><td>233483</td></tr>\n",
       "\t<tr><td>2011  </td><td>GMP   </td><td>PUS   </td><td>D     </td><td>327   </td><td>39    </td><td> 54955</td></tr>\n",
       "\t<tr><td>2011  </td><td>CJU   </td><td>PUS   </td><td>D     </td><td>291   </td><td>36    </td><td> 53532</td></tr>\n",
       "\t<tr><td>2011  </td><td>CJJ   </td><td>CJU   </td><td>D     </td><td>367   </td><td>42    </td><td> 21390</td></tr>\n",
       "\t<tr><td>2011  </td><td>GMP   </td><td>RSU   </td><td>D     </td><td>311   </td><td>38    </td><td> 16380</td></tr>\n",
       "\t<tr><td>2011  </td><td>CJU   </td><td>KWJ   </td><td>D     </td><td>182   </td><td>28    </td><td> 16365</td></tr>\n",
       "</tbody>\n",
       "</table>\n"
      ],
      "text/latex": [
       "\\begin{tabular}{r|lllllll}\n",
       " flightYear & cityCode1 & cityCode2 & diType & distance.km & time.m & totalFlight\\\\\n",
       "\\hline\n",
       "\t 2011   & CJU    & GMP    & D      & 449    & 48     & 233483\\\\\n",
       "\t 2011   & GMP    & PUS    & D      & 327    & 39     &  54955\\\\\n",
       "\t 2011   & CJU    & PUS    & D      & 291    & 36     &  53532\\\\\n",
       "\t 2011   & CJJ    & CJU    & D      & 367    & 42     &  21390\\\\\n",
       "\t 2011   & GMP    & RSU    & D      & 311    & 38     &  16380\\\\\n",
       "\t 2011   & CJU    & KWJ    & D      & 182    & 28     &  16365\\\\\n",
       "\\end{tabular}\n"
      ],
      "text/markdown": [
       "\n",
       "| flightYear | cityCode1 | cityCode2 | diType | distance.km | time.m | totalFlight |\n",
       "|---|---|---|---|---|---|---|\n",
       "| 2011   | CJU    | GMP    | D      | 449    | 48     | 233483 |\n",
       "| 2011   | GMP    | PUS    | D      | 327    | 39     |  54955 |\n",
       "| 2011   | CJU    | PUS    | D      | 291    | 36     |  53532 |\n",
       "| 2011   | CJJ    | CJU    | D      | 367    | 42     |  21390 |\n",
       "| 2011   | GMP    | RSU    | D      | 311    | 38     |  16380 |\n",
       "| 2011   | CJU    | KWJ    | D      | 182    | 28     |  16365 |\n",
       "\n"
      ],
      "text/plain": [
       "  flightYear cityCode1 cityCode2 diType distance.km time.m totalFlight\n",
       "1 2011       CJU       GMP       D      449         48     233483     \n",
       "2 2011       GMP       PUS       D      327         39      54955     \n",
       "3 2011       CJU       PUS       D      291         36      53532     \n",
       "4 2011       CJJ       CJU       D      367         42      21390     \n",
       "5 2011       GMP       RSU       D      311         38      16380     \n",
       "6 2011       CJU       KWJ       D      182         28      16365     "
      ]
     },
     "metadata": {},
     "output_type": "display_data"
    }
   ],
   "source": [
    "# 국내선 데이터 가공\n",
    "regData_D <- data.frame()\n",
    "\n",
    "# 운항 일정 및 운항 요일 기반 추정운항일수 추출\n",
    "for(k in 2011:2020){\n",
    "    subData_FSD <- totalData_FSD %>% select(\"flightNum\", \"startCityCode\", \"arrivalCityCode\", \"startDate\", \"endDate\",\n",
    "                                                     \"mon\", \"tue\", \"wed\", \"thu\", \"fri\", \"sat\", \"sun\") %>%\n",
    "                                                filter(format(endDate, \"%Y\")==as.character(k) | format(startDate, \"%Y\")==as.character(k))\n",
    "    # 정확한 운항 일수 추출 위해 연도별 날짜 조정\n",
    "    subData_FSD$revisedStartDate <- as.Date(ifelse(subData_FSD$startDate < as.Date(paste0(as.character(i),'-01-01')),\n",
    "                                                format(as.Date(paste0(as.character(k),'-01-01')),\"%Y-%m-%d\"),\n",
    "                                                format(subData_FSD$startDate, \"%Y-%m-%d\")))\n",
    "    subData_FSD$revisedEndDate <- as.Date(ifelse(subData_FSD$endDate > paste0(as.character(i),'-12-31'),\n",
    "                                              format(as.Date(paste0(as.character(k),'-12-31')),\"%Y-%m-%d\"),\n",
    "                                              format(subData_FSD$endDate, \"%Y-%m-%d\")))\n",
    "\n",
    "    # 요일별 운항일수 데이터 제작 (flightDay_FSD)\n",
    "    dateInterval_FSD <- subData_FSD$revisedEndDate - subData_FSD$revisedStartDate  # 운행일수\n",
    "    flightPerDay_FSD <- floor(dateInterval_FSD/7)  # 요일 당 최소운항편수 리스트\n",
    "    flightAddDay_FSD <- floor((dateInterval_FSD/7 - flightPerDay_FSD)*7)  # 보정용 요일별 운항편수 리스트\n",
    "    flightDay_FSD <- flightPerDay_FSD  # 요일별 운항일수 데이터\n",
    "    for(i in 1:6){\n",
    "        flightDay_FSD <- cbind(flightDay_FSD, flightPerDay_FSD)\n",
    "    }\n",
    "    colnames(flightDay_FSD) <- list(1,2,3,4,5,6,7)  # 컬럼명을 요일로 수정(1 = 월요일)\n",
    "    revisedStartDate_FSD <- as.numeric(factor(weekdays(subData_FSD$revisedStartDate)))  # 항공편별 시작 요일 숫자 환산값\n",
    "    for(i in 1:length(flightAddDay_FSD)){\n",
    "        for(j in 0:6){\n",
    "            if(j <= flightAddDay_FSD[i]){\n",
    "                flightDay_FSD[i,(j+revisedStartDate_FSD[i]-1)%%7+1] <- flightDay_FSD[i,(j+revisedStartDate_FSD[i]-1)%%7+1]+1\n",
    "            }\n",
    "        }\n",
    "    }\n",
    "\n",
    "    # 기간 내 요일별 추정 운행일수 합산\n",
    "    totalFlight_FSD <- rep(0, times=nrow(subData_FSD))\n",
    "    flightWeekdays_FSD <- subData_FSD %>% select(\"mon\",\"tue\",\"wed\",\"thu\",\"fri\",\"sat\",\"sun\")\n",
    "    for(i in 1:nrow(subData_FSD)){\n",
    "        for(j in 1:7){\n",
    "            if(flightWeekdays_FSD[i,j] != \"N\"){\n",
    "                totalFlight_FSD[i] <- totalFlight_FSD[i]+flightDay_FSD[i,j]\n",
    "            }\n",
    "        }\n",
    "    }\n",
    "\n",
    "    # 총 추정 운행일수 데이터를 subData_FSD에 합산\n",
    "    subData_FSD$totalFlight <- totalFlight_FSD\n",
    "\n",
    "    # 공항별 총 운항 편수(출발+도착) 추출\n",
    "    ## 임시로 startCityCode가 arrivalCityCode보다 뒤면 역순, 아니면 정순으로 컬럼 새로 지정\n",
    "    subData_FSD$cityCode1 <- ifelse(as.character(subData_FSD$startCityCode) <= as.character(subData_FSD$arrivalCityCode),\n",
    "                                             as.character(subData_FSD$startCityCode),\n",
    "                                             as.character(subData_FSD$arrivalCityCode))\n",
    "    subData_FSD$cityCode2 <- ifelse(as.character(subData_FSD$startCityCode) <= as.character(subData_FSD$arrivalCityCode),\n",
    "                                               as.character(subData_FSD$arrivalCityCode),\n",
    "                                               as.character(subData_FSD$startCityCode))\n",
    "\n",
    "    # 공항별 총 운항 편수(출발+도착) 추출\n",
    "    subData_FSD <- subData_FSD %>% group_by(cityCode1, cityCode2) %>%\n",
    "                                            summarise(totalFlight=sum(totalFlight))\n",
    "\n",
    "    # 연도 및 국내/국제 타입 컬럼 추가\n",
    "    subData_FSD$flightYear <- rep(k, times=nrow(subData_FSD))\n",
    "    subData_FSD$diType <- rep(\"D\", times=nrow(subData_FSD))\n",
    "\n",
    "    # 출발/도착지 간 노선 거리 및 소요 시간 추가\n",
    "    subData_FSD <- left_join(subData_FSD, totalData_TD, by=c(\"diType\", \"cityCode1\", \"cityCode2\"))\n",
    "    regData_D <- bind_rows(regData_D, subData_FSD)\n",
    "}\n",
    "# 순서 조정\n",
    "regData_D <- regData_D %>% select(flightYear, cityCode1, cityCode2, diType, distance.km, time.m, totalFlight)\n",
    "\n",
    "# 시각화 위해 운항 연도(flightYear) 타입 변경 (num -> chr)\n",
    "regData_D$flightYear <- as.character(regData_D$flightYear)\n",
    "\n",
    "head(regData_D %>% arrange(flightYear, desc(totalFlight)))"
   ]
  },
  {
   "cell_type": "markdown",
   "id": "b3428ced",
   "metadata": {},
   "source": [
    "각 컬럼의 의미는 다음과 같습니다.\n",
    "\n",
    "|번호|컬럼명|내용\n",
    "|:--- | :--- | :---\n",
    "|1|flightYear|운항 연도(범위: 2011~2020년)\n",
    "|2|diType|국내선 또는 국제선 구분(D: 국내선, I: 국제선)\n",
    "|3|cityCode1, cityCode2|노선의 출도착 공항 코드(IATA)\n",
    "|4|distance.km|출도착 공항 간 거리(단위: km)\n",
    "|5|time.m|출도착 공항 간 소요 시간(단위: 분)\n",
    "|**6**|**totalFlight**|**운항 일정 및 운항 요일 기반 연내 총 추정 운항 편수**(1->2 및 2->1 합계)"
   ]
  },
  {
   "cell_type": "code",
   "execution_count": 14,
   "id": "62b8f7f5",
   "metadata": {},
   "outputs": [
    {
     "name": "stderr",
     "output_type": "stream",
     "text": [
      "`summarise()` has grouped output by 'cityCode1'. You can override using the `.groups` argument.\n",
      "`summarise()` has grouped output by 'cityCode1'. You can override using the `.groups` argument.\n",
      "`summarise()` has grouped output by 'cityCode1'. You can override using the `.groups` argument.\n",
      "`summarise()` has grouped output by 'cityCode1'. You can override using the `.groups` argument.\n",
      "`summarise()` has grouped output by 'cityCode1'. You can override using the `.groups` argument.\n",
      "`summarise()` has grouped output by 'cityCode1'. You can override using the `.groups` argument.\n",
      "`summarise()` has grouped output by 'cityCode1'. You can override using the `.groups` argument.\n",
      "`summarise()` has grouped output by 'cityCode1'. You can override using the `.groups` argument.\n",
      "`summarise()` has grouped output by 'cityCode1'. You can override using the `.groups` argument.\n",
      "`summarise()` has grouped output by 'cityCode1'. You can override using the `.groups` argument.\n"
     ]
    },
    {
     "data": {
      "text/html": [
       "<table>\n",
       "<thead><tr><th scope=col>flightYear</th><th scope=col>cityCode1</th><th scope=col>cityCode2</th><th scope=col>diType</th><th scope=col>distance.km</th><th scope=col>time.m</th><th scope=col>totalFlight</th></tr></thead>\n",
       "<tbody>\n",
       "\t<tr><td>2011 </td><td>GMP  </td><td>HND  </td><td>I    </td><td>1183 </td><td>103  </td><td>22454</td></tr>\n",
       "\t<tr><td>2011 </td><td>GMP  </td><td>KIX  </td><td>I    </td><td> 837 </td><td> 77  </td><td>13717</td></tr>\n",
       "\t<tr><td>2011 </td><td>GMP  </td><td>SHA  </td><td>I    </td><td> 866 </td><td> 79  </td><td> 9012</td></tr>\n",
       "\t<tr><td>2011 </td><td>NRT  </td><td>PUS  </td><td>I    </td><td>1040 </td><td> 93  </td><td> 8974</td></tr>\n",
       "\t<tr><td>2011 </td><td>PEK  </td><td>PUS  </td><td>I    </td><td>1215 </td><td>106  </td><td> 7863</td></tr>\n",
       "\t<tr><td>2011 </td><td>CJU  </td><td>TPE  </td><td>I    </td><td>1065 </td><td> 94  </td><td> 7032</td></tr>\n",
       "</tbody>\n",
       "</table>\n"
      ],
      "text/latex": [
       "\\begin{tabular}{r|lllllll}\n",
       " flightYear & cityCode1 & cityCode2 & diType & distance.km & time.m & totalFlight\\\\\n",
       "\\hline\n",
       "\t 2011  & GMP   & HND   & I     & 1183  & 103   & 22454\\\\\n",
       "\t 2011  & GMP   & KIX   & I     &  837  &  77   & 13717\\\\\n",
       "\t 2011  & GMP   & SHA   & I     &  866  &  79   &  9012\\\\\n",
       "\t 2011  & NRT   & PUS   & I     & 1040  &  93   &  8974\\\\\n",
       "\t 2011  & PEK   & PUS   & I     & 1215  & 106   &  7863\\\\\n",
       "\t 2011  & CJU   & TPE   & I     & 1065  &  94   &  7032\\\\\n",
       "\\end{tabular}\n"
      ],
      "text/markdown": [
       "\n",
       "| flightYear | cityCode1 | cityCode2 | diType | distance.km | time.m | totalFlight |\n",
       "|---|---|---|---|---|---|---|\n",
       "| 2011  | GMP   | HND   | I     | 1183  | 103   | 22454 |\n",
       "| 2011  | GMP   | KIX   | I     |  837  |  77   | 13717 |\n",
       "| 2011  | GMP   | SHA   | I     |  866  |  79   |  9012 |\n",
       "| 2011  | NRT   | PUS   | I     | 1040  |  93   |  8974 |\n",
       "| 2011  | PEK   | PUS   | I     | 1215  | 106   |  7863 |\n",
       "| 2011  | CJU   | TPE   | I     | 1065  |  94   |  7032 |\n",
       "\n"
      ],
      "text/plain": [
       "  flightYear cityCode1 cityCode2 diType distance.km time.m totalFlight\n",
       "1 2011       GMP       HND       I      1183        103    22454      \n",
       "2 2011       GMP       KIX       I       837         77    13717      \n",
       "3 2011       GMP       SHA       I       866         79     9012      \n",
       "4 2011       NRT       PUS       I      1040         93     8974      \n",
       "5 2011       PEK       PUS       I      1215        106     7863      \n",
       "6 2011       CJU       TPE       I      1065         94     7032      "
      ]
     },
     "metadata": {},
     "output_type": "display_data"
    }
   ],
   "source": [
    "# 국제선 데이터 가공\n",
    "regData_I <- data.frame()\n",
    "\n",
    "# 운항 일정 및 운항 요일 기반 추정운항일수 추출\n",
    "for(k in 2011:2020){\n",
    "    subData_FSI <- totalData_FSI %>% select(\"flightNum\", \"domesticCityCode\", \"internationalCityCode\", \"startDate\", \"endDate\",\n",
    "                                                     \"mon\", \"tue\", \"wed\", \"thu\", \"fri\", \"sat\", \"sun\") %>%\n",
    "                                                filter(format(endDate, \"%Y\")==as.character(k) | format(startDate, \"%Y\")==as.character(k))\n",
    "    # 정확한 운항 일수 추출 위해 연도별 날짜 조정\n",
    "    subData_FSI$revisedStartDate <- as.Date(ifelse(subData_FSI$startDate < as.Date(paste0(as.character(i),'-01-01')),\n",
    "                                                format(as.Date(paste0(as.character(k),'-01-01')),\"%Y-%m-%d\"),\n",
    "                                                format(subData_FSI$startDate, \"%Y-%m-%d\")))\n",
    "    subData_FSI$revisedEndDate <- as.Date(ifelse(subData_FSI$endDate > paste0(as.character(i),'-12-31'),\n",
    "                                              format(as.Date(paste0(as.character(k),'-12-31')),\"%Y-%m-%d\"),\n",
    "                                              format(subData_FSI$endDate, \"%Y-%m-%d\")))\n",
    "\n",
    "    # 요일별 운항일수 데이터 제작 (flightDay_FSI)\n",
    "    dateInterval_FSI <- subData_FSI$revisedEndDate - subData_FSI$revisedStartDate  # 운행일수\n",
    "    flightPerDay_FSI <- floor(dateInterval_FSI/7)  # 요일 당 최소운항편수 리스트\n",
    "    flightAddDay_FSI <- floor((dateInterval_FSI/7 - flightPerDay_FSI)*7)  # 보정용 요일별 운항편수 리스트\n",
    "    flightDay_FSI <- flightPerDay_FSI  # 요일별 운항일수 데이터\n",
    "    for(i in 1:6){\n",
    "        flightDay_FSI <- cbind(flightDay_FSI, flightPerDay_FSI)\n",
    "    }\n",
    "    colnames(flightDay_FSI) <- list(1,2,3,4,5,6,7)  # 컬럼명을 요일로 수정(1 = 월요일)\n",
    "    revisedStartDate_FSI <- as.numeric(factor(weekdays(subData_FSI$revisedStartDate)))  # 항공편별 시작 요일 숫자 환산값\n",
    "    for(i in 1:length(flightAddDay_FSI)){\n",
    "        for(j in 0:6){\n",
    "            if(j <= flightAddDay_FSI[i]){\n",
    "                flightDay_FSI[i,(j+revisedStartDate_FSI[i]-1)%%7+1] <- flightDay_FSI[i,(j+revisedStartDate_FSI[i]-1)%%7+1]+1\n",
    "            }\n",
    "        }\n",
    "    }\n",
    "\n",
    "    # 기간 내 요일별 추정 운행일수 합산\n",
    "    totalFlight_FSI <- rep(0, times=nrow(subData_FSI))\n",
    "    flightWeekdays_FSI <- subData_FSI %>% select(\"mon\",\"tue\",\"wed\",\"thu\",\"fri\",\"sat\",\"sun\")\n",
    "    for(i in 1:nrow(subData_FSI)){\n",
    "        for(j in 1:7){\n",
    "            if(flightWeekdays_FSI[i,j] != \"N\"){\n",
    "                totalFlight_FSI[i] <- totalFlight_FSI[i]+flightDay_FSI[i,j]\n",
    "            }\n",
    "        }\n",
    "    }\n",
    "\n",
    "    # 총 추정 운행일수 데이터를 subData_FSI에 합산\n",
    "    subData_FSI$totalFlight <- totalFlight_FSI\n",
    "\n",
    "    # 공항별 총 운항편수(출발+도착) 추출\n",
    "    ## 임시로 startCityCode가 arrivalCityCode보다 뒤면 역순, 아니면 정순으로 컬럼 새로 지정\n",
    "    subData_FSI$cityCode1 <- ifelse(as.character(subData_FSI$domesticCityCode) <= as.character(subData_FSI$internationalCityCode),\n",
    "                                             as.character(subData_FSI$domesticCityCode),\n",
    "                                             as.character(subData_FSI$internationalCityCode))\n",
    "    subData_FSI$cityCode2 <- ifelse(as.character(subData_FSI$domesticCityCode) <= as.character(subData_FSI$internationalCityCode),\n",
    "                                               as.character(subData_FSI$internationalCityCode),\n",
    "                                               as.character(subData_FSI$domesticCityCode))\n",
    "\n",
    "    # 공항별 총 운항편수(출발+도착) 추출\n",
    "    subData_FSI <- subData_FSI %>% group_by(cityCode1, cityCode2) %>%\n",
    "                                            summarise(totalFlight=sum(totalFlight))\n",
    "\n",
    "    # 연도 및 국내/국제 타입 컬럼 추가\n",
    "    subData_FSI$flightYear <- rep(k, times=nrow(subData_FSI))\n",
    "    subData_FSI$diType <- rep(\"I\", times=nrow(subData_FSI))\n",
    "\n",
    "    # 출발/도착지 간 노선 거리 및 소요 시간 추가\n",
    "    subData_FSI <- left_join(subData_FSI, totalData_TD, by=c(\"diType\", \"cityCode1\", \"cityCode2\"))\n",
    "    regData_I <- bind_rows(regData_I, subData_FSI)\n",
    "}\n",
    "# 순서 조정\n",
    "regData_I <- regData_I %>% select(flightYear, cityCode1, cityCode2, diType, distance.km, time.m, totalFlight)\n",
    "\n",
    "# 시각화 위해 운항 연도(flightYear) 타입 변경 (num -> chr)\n",
    "regData_I$flightYear <- as.character(regData_I$flightYear)\n",
    "\n",
    "head(regData_I %>% arrange(flightYear, desc(totalFlight)))\n"
   ]
  },
  {
   "cell_type": "markdown",
   "id": "a4491006",
   "metadata": {},
   "source": [
    "각 컬럼의 의미는 다음과 같습니다.\n",
    "\n",
    "|번호|컬럼명|내용\n",
    "|:--- | :--- | :---\n",
    "|1|flightYear|운항 연도(범위: 2011~2020년)\n",
    "|2|diType|국내선 또는 국제선 구분(D: 국내선, I: 국제선)\n",
    "|3|cityCode1, cityCode2|노선의 출도착 공항 코드(IATA)\n",
    "|4|distance.km|출도착 공항 간 거리(단위: km)\n",
    "|5|time.m|출도착 공항 간 소요 시간(단위: 분)\n",
    "|**6**|**totalFlight**|**운항 일정 및 운항 요일 기반 연내 총 추정 운항 편수**(1->2 및 2->1 합계)"
   ]
  },
  {
   "cell_type": "code",
   "execution_count": 15,
   "id": "490cc36d",
   "metadata": {},
   "outputs": [],
   "source": [
    "# 결측(na)값 빠진 데이터 변수 생성(운항 거리 통계용)\n",
    "omRegData_D <- na.omit(regData_D) %>% arrange(desc(totalFlight*distance.km))\n",
    "omRegData_I <- na.omit(regData_I) %>% arrange(desc(totalFlight*distance.km))\n",
    "\n",
    "# 앞의 2개의 데이터를 regData에 합치기\n",
    "regData <- data.frame()\n",
    "regData <- rbind(regData, omRegData_D)\n",
    "regData <- rbind(regData, omRegData_I)\n",
    "\n",
    "# 시각화를 위해 flightYear 타입 변환(numeric -> character)\n",
    "regData$flightYear <- as.character(regData$flightYear)\n",
    "\n",
    "# 출발/도착 도시명 단일화한 컬럼 추가\n",
    "regData$flightCity <- paste0(regData$cityCode1, \"-\", regData$cityCode2)"
   ]
  },
  {
   "cell_type": "markdown",
   "id": "85ca2358",
   "metadata": {},
   "source": [
    "#### 데이터 시각화"
   ]
  },
  {
   "cell_type": "code",
   "execution_count": 16,
   "id": "5e2b7e73",
   "metadata": {},
   "outputs": [
    {
     "data": {
      "text/plain": [
       "TableGrob (4 x 9) \"arrange\": 5 grobs\n",
       "  z     cells    name                grob\n",
       "1 1 (2-2,1-9) arrange      gtable[layout]\n",
       "2 2 (3-3,1-4) arrange      gtable[layout]\n",
       "3 3 (3-3,5-8) arrange      gtable[layout]\n",
       "4 4 (1-1,1-9) arrange text[GRID.text.163]\n",
       "5 5 (4-4,1-9) arrange text[GRID.text.164]"
      ]
     },
     "metadata": {},
     "output_type": "display_data"
    },
    {
     "data": {
      "image/png": "[encoded data removed]",
      "text/plain": [
       "plot without title"
      ]
     },
     "metadata": {},
     "output_type": "display_data"
    }
   ],
   "source": [
    "# 연도별 공항 온실가스 배출량 데이터 가공\n",
    "gasData <- totalData_GG %>% select(\"yyyy\", \"totalTco2e\")\n",
    "\n",
    "# 온실가스 배출량 데이터 컬럼명 변경\n",
    "colnames(gasData) <- c(\"year\", \"totalTco2e\")\n",
    "\n",
    "# 시각화용 데이터 제작\n",
    "fig2Data <- rename(regData, \"year\" = \"flightYear\")\n",
    "fig2Data <- inner_join(fig2Data, gasData, by=\"year\")\n",
    "\n",
    "# 시각화 시 보정용 비율\n",
    "ratio <- mean(fig2Data$totalTco2e)/mean(fig2Data$totalFlight*fig2Data$distance.km)/600\n",
    "\n",
    "# 국내 및 국제선 종합 그래프(상단)\n",
    "fig2_T <- ggplot(data=fig2Data,aes(x = year, y = totalFlight*distance.km/1000000, fill=diType, color=diType)) + theme_bw() + \n",
    "           scale_fill_manual(values=c(\"orange\",\"steelblue\")) +\n",
    "           scale_color_manual(values=c(\"orange\",\"steelblue\")) +\n",
    "           geom_bar(stat=\"identity\",width=0.5,size=0.005,alpha=0.2) +\n",
    "           geom_line(data=fig2Data,aes(x=year,y=totalTco2e*ratio),color=\"cadetblue3\", size=0.7,group=1) +\n",
    "           labs(x=\"국내(황) 및 국제(청)\", fill=\"노선 유형\\n(D: 국내, I: 국제)\") + \n",
    "           coord_cartesian(ylim=c(0,600)) +\n",
    "           scale_y_continuous(name = \"총 운항 거리 (단위: 백만 km)\",\n",
    "                              sec.axis = sec_axis(~./ratio/1000,\n",
    "                                                  name=\"온실가스 배출량\\n(단위: ktCO2e)\"\n",
    "                                                 ),\n",
    "                              )+\n",
    "           theme(legend.position = \"none\",\n",
    "                 title = element_text(size=15,face='bold'),\n",
    "                 axis.title.x =  element_text(size=12,face='bold'),\n",
    "                 axis.title.y = element_text(size=12,face='bold'),\n",
    "                 axis.text.x = element_text(angle=90,vjust = 0.5, hjust=1),\n",
    "                 )\n",
    "\n",
    "# 국내선 그래프(좌하단)\n",
    "fig2_D <- ggplot(data=omRegData_D,aes(x = flightYear, y = totalFlight*distance.km/1000000, fill = totalFlight)) + theme_bw() +\n",
    "           geom_bar(stat=\"identity\",width=0.5, fill=\"orange\", color=\"orange\",size=0.005,alpha=0.2) +\n",
    "           labs(x=\"국내\", fill=\"총 운항 거리\") + \n",
    "           coord_cartesian(ylim=c(0,400)) +\n",
    "           scale_y_continuous(name = \"총 운항 거리 (단위: 백만 km)\")+\n",
    "           theme(legend.position = \"none\",\n",
    "                 title = element_text(size=15,face='bold'),\n",
    "                 axis.title.x =  element_text(size=12,face='bold'),\n",
    "                 axis.title.y = element_text(size=9,face='bold'),\n",
    "                 axis.text.x = element_text(angle=90,vjust = 0.5, hjust=1)\n",
    "                 )\n",
    "\n",
    "# 국내선 그래프(우하단)\n",
    "fig2_I <- ggplot(data=omRegData_I,aes(x = flightYear, y = totalFlight*distance.km/1000000, fill = totalFlight)) + theme_bw() +\n",
    "           geom_bar(stat=\"identity\",width=0.5, fill=\"steelblue\", color=\"steelblue\",size=0.005,alpha=0.2) +\n",
    "           labs(x=\"국제\", fill=\"총 운항 거리\") + \n",
    "           coord_cartesian(ylim=c(0,400)) +\n",
    "           theme(legend.position = \"none\",\n",
    "                 title = element_text(size=14,face='bold'),\n",
    "                 axis.title.x =  element_text(size=12,face='bold'),\n",
    "                 axis.title.y = element_blank(),\n",
    "                 axis.text.x = element_text(angle=90,vjust = 0.5, hjust=1),\n",
    "                 axis.text.y = element_blank(),\n",
    "                 )\n",
    "\n",
    "fig2 <- grid.arrange(fig2_T, fig2_D, fig2_I,\n",
    "                     nrow=2,\n",
    "                     heights=c(2, 1),\n",
    "                     layout_matrix = rbind(c(1,1,1,1,1,1,1,1,1),c(2,2,2,2,3,3,3,3,NA)),\n",
    "                     top = textGrob(paste0(\"연도별 총 운항 거리 (각 노선별 (운항 거리*연간 운항 편수)의 합, 막대그래프) 및\",\n",
    "                                           \"\\n연간 온실가스 배출량(꺾은선그래프)\"),\n",
    "                                    gp = gpar(fontsize = 15, fontface = 'bold')),\n",
    "                     bottom = textGrob(paste0(\"※ 한국공항공사의 \\\"노선별 소요시간 및 거리 정보\\\"\",\n",
    "                                              \"데이터에서 조회되는 노선만 추출하여 계산.\\n\",\n",
    "                                              \"연간 국내 평균 노선 개수(\", round(nrow(regData_D)/10),\"개 중 \",\n",
    "                                              round(nrow(omRegData_D)/10),\"개 추출) + \",\n",
    "                                              \"국제 평균 노선 개수(\", round(nrow(regData_I)/10),\"개 중 \",\n",
    "                                              round(nrow(omRegData_I)/10),\"개 추출)\\n\",\n",
    "                                              \"= 연간 평균 노선 개수(\", round((nrow(regData_D)+nrow(regData_I))/10),\"개 중 \",\n",
    "                                              round((nrow(omRegData_D)+nrow(omRegData_I))/10),\"개 추출)\\n\",\n",
    "                                              \"막대그래프 내 각각의 도수는 각 노선의 총 운항 거리를 의미함.\"),\n",
    "                                       gp = gpar(fontsize = 10), hjust=1, x=0.9))\n",
    "\n",
    "fig2"
   ]
  },
  {
   "cell_type": "markdown",
   "id": "368e850e",
   "metadata": {},
   "source": [
    "2012년부터 2019년까지 국내 항공기 총 운항거리(국내선+국제선)가 점진적으로 증가했습니다. 반면 2011년과 2012년 사이, 2019년과 2020년 사이 국내 항공기 운항거리가 감소했습니다. 특히 2020년에는 코로나19 범유행으로 운항 거리가 크게 감소했습니다.\n",
    "\n",
    "2-1-1 항목의 연도별 운항 편수-온실가스 간 관계와 마찬가지로 운항 거리와 온실가스 배출량이 대체적으로 비례하는 것을 볼 수 있습니다.\n",
    "\n",
    "세부적으로 국내선과 국제선을 나눠보면, 2012년부터 2019년까지 국제선 이용이 국내선 이용보다 빠르게 증가한 것을 볼 수 있습니다. 하지만 2020년 국제선 이용은 코로나 영향으로 크게 줄어든데 반해 국내선 이용은 오히려 소폭 증가한 모습을 보였습니다. 이는 국제선 이용 규제로 인한 반사 효과로 보입니다."
   ]
  },
  {
   "cell_type": "markdown",
   "id": "937be1b2",
   "metadata": {},
   "source": [
    "### 2-1-3. 사용 항공기종 변화"
   ]
  },
  {
   "cell_type": "markdown",
   "id": "32ac8ffa",
   "metadata": {},
   "source": [
    "해당 시각화에서는 **1. 공항 온실가스 데이터**, **5. 기종별 연료 소모량 데이터** 및 **6. 국내 공항 연도별 항공기종 사용 현황 데이터**를 사용했습니다."
   ]
  },
  {
   "cell_type": "markdown",
   "id": "25780084",
   "metadata": {},
   "source": [
    "#### 데이터 가공"
   ]
  },
  {
   "cell_type": "code",
   "execution_count": 17,
   "id": "cc3c8c2f",
   "metadata": {},
   "outputs": [
    {
     "data": {
      "text/html": [
       "<table>\n",
       "<thead><tr><th scope=col>ICAO</th><th scope=col>count</th><th scope=col>year</th><th scope=col>seats</th><th scope=col>fuelBurn.kg.km</th><th scope=col>sector.nmi</th><th scope=col>sector.km</th><th scope=col>maxFuelBurn.kt</th></tr></thead>\n",
       "<tbody>\n",
       "\t<tr><td>B737    </td><td>223751  </td><td>2011    </td><td>151.0909</td><td>3.126818</td><td>1040.318</td><td>1926.669</td><td>1347.953</td></tr>\n",
       "\t<tr><td>B737    </td><td>249630  </td><td>2012    </td><td>151.0909</td><td>3.126818</td><td>1040.318</td><td>1926.669</td><td>1503.857</td></tr>\n",
       "\t<tr><td>B737    </td><td>253812  </td><td>2013    </td><td>151.0909</td><td>3.126818</td><td>1040.318</td><td>1926.669</td><td>1529.051</td></tr>\n",
       "\t<tr><td>B737    </td><td>256717  </td><td>2014    </td><td>151.0909</td><td>3.126818</td><td>1040.318</td><td>1926.669</td><td>1546.552</td></tr>\n",
       "\t<tr><td>B737    </td><td>278528  </td><td>2015    </td><td>151.0909</td><td>3.126818</td><td>1040.318</td><td>1926.669</td><td>1677.949</td></tr>\n",
       "\t<tr><td>B737    </td><td>283341  </td><td>2016    </td><td>151.0909</td><td>3.126818</td><td>1040.318</td><td>1926.669</td><td>1706.944</td></tr>\n",
       "</tbody>\n",
       "</table>\n"
      ],
      "text/latex": [
       "\\begin{tabular}{r|llllllll}\n",
       " ICAO & count & year & seats & fuelBurn.kg.km & sector.nmi & sector.km & maxFuelBurn.kt\\\\\n",
       "\\hline\n",
       "\t B737     & 223751   & 2011     & 151.0909 & 3.126818 & 1040.318 & 1926.669 & 1347.953\\\\\n",
       "\t B737     & 249630   & 2012     & 151.0909 & 3.126818 & 1040.318 & 1926.669 & 1503.857\\\\\n",
       "\t B737     & 253812   & 2013     & 151.0909 & 3.126818 & 1040.318 & 1926.669 & 1529.051\\\\\n",
       "\t B737     & 256717   & 2014     & 151.0909 & 3.126818 & 1040.318 & 1926.669 & 1546.552\\\\\n",
       "\t B737     & 278528   & 2015     & 151.0909 & 3.126818 & 1040.318 & 1926.669 & 1677.949\\\\\n",
       "\t B737     & 283341   & 2016     & 151.0909 & 3.126818 & 1040.318 & 1926.669 & 1706.944\\\\\n",
       "\\end{tabular}\n"
      ],
      "text/markdown": [
       "\n",
       "| ICAO | count | year | seats | fuelBurn.kg.km | sector.nmi | sector.km | maxFuelBurn.kt |\n",
       "|---|---|---|---|---|---|---|---|\n",
       "| B737     | 223751   | 2011     | 151.0909 | 3.126818 | 1040.318 | 1926.669 | 1347.953 |\n",
       "| B737     | 249630   | 2012     | 151.0909 | 3.126818 | 1040.318 | 1926.669 | 1503.857 |\n",
       "| B737     | 253812   | 2013     | 151.0909 | 3.126818 | 1040.318 | 1926.669 | 1529.051 |\n",
       "| B737     | 256717   | 2014     | 151.0909 | 3.126818 | 1040.318 | 1926.669 | 1546.552 |\n",
       "| B737     | 278528   | 2015     | 151.0909 | 3.126818 | 1040.318 | 1926.669 | 1677.949 |\n",
       "| B737     | 283341   | 2016     | 151.0909 | 3.126818 | 1040.318 | 1926.669 | 1706.944 |\n",
       "\n"
      ],
      "text/plain": [
       "  ICAO count  year seats    fuelBurn.kg.km sector.nmi sector.km maxFuelBurn.kt\n",
       "1 B737 223751 2011 151.0909 3.126818       1040.318   1926.669  1347.953      \n",
       "2 B737 249630 2012 151.0909 3.126818       1040.318   1926.669  1503.857      \n",
       "3 B737 253812 2013 151.0909 3.126818       1040.318   1926.669  1529.051      \n",
       "4 B737 256717 2014 151.0909 3.126818       1040.318   1926.669  1546.552      \n",
       "5 B737 278528 2015 151.0909 3.126818       1040.318   1926.669  1677.949      \n",
       "6 B737 283341 2016 151.0909 3.126818       1040.318   1926.669  1706.944      "
      ]
     },
     "metadata": {},
     "output_type": "display_data"
    }
   ],
   "source": [
    "# 국내 연도별 기종 사용량 변형\n",
    "totalData_UA2 <- totalData_UA %>% filter(공항명 == '합계') %>% subset(select=c(-공항명, -기타, -계))\n",
    "\n",
    "## 데이터 형태 변형\n",
    "aircraftData <- data.frame()\n",
    "for(i in 1:(ncol(totalData_UA2)-1)){\n",
    "    subData <- data.frame(totalData_UA2[,i])\n",
    "    colnames(subData) <- c(\"count\")\n",
    "    colname <- colnames(totalData_UA2)[i]\n",
    "    subData$year <- 2011:2020\n",
    "    subData$ICAO <- rep(colname,times=nrow(subData))\n",
    "    aircraftData <- bind_rows(aircraftData, subData)\n",
    "}\n",
    "\n",
    "## 컬럼 순서 변경\n",
    "aircraftData <- aircraftData %>% select(ICAO, count, year)\n",
    "\n",
    "# 기종별 연료 사용량 변형\n",
    "## 각 수치를 평균화하여 ICAO별로 요약함. (각 ICAO별로 모델을 균일하게 사용한다고 가정함.)\n",
    "### 좌석별 연료 샤용량(fuelPerSeat.L.100km)의 경우 데이터가 기재되지 않은 항공기가 있어 사용하지 않음.\n",
    "fuelConsDataSummarize <- totalData_FC %>% group_by(ICAO) %>% summarize(seats=mean(seats),\n",
    "                                                                        fuelBurn.kg.km=mean(fuelBurn.kg.km),\n",
    "                                                                        sector.nmi=mean(sector.nmi),\n",
    "                                                                        sector.km=mean(sector.km))\n",
    "\n",
    "# 연도 타입 변경\n",
    "aircraftData$year <- as.character(aircraftData$year)\n",
    "\n",
    "# 기종별 연료 사용량 데이터와 join\n",
    "aircraftData <- left_join(aircraftData, fuelConsDataSummarize, by=\"ICAO\")\n",
    "\n",
    "# 결측치(NA)가 있는 데이터 제거\n",
    "aircraftData <- na.omit(aircraftData)\n",
    "\n",
    "# 연도별 총 항공기 연료 사용량 추가\n",
    "## 모든 항공기가 최대 거리(sector)를 운항한다 가정\n",
    "aircraftData$maxFuelBurn.kt <- aircraftData$count*aircraftData$fuelBurn.kg.km*aircraftData$sector.km/1000000\n",
    "\n",
    "head(aircraftData)"
   ]
  },
  {
   "cell_type": "markdown",
   "id": "b459856b",
   "metadata": {},
   "source": [
    "각 컬럼의 의미는 다음과 같습니다. 이때 항공기종별 최대 연료 소모량 합계(maxFuelBurn.kt)은 모든 항공기가 최대 거리(sector)를 이동하는 것으로 가정한 후 계산한 값입니다.\n",
    "\n",
    "|번호|컬럼명|내용\n",
    "|:--- | :--- | :---\n",
    "|1|ICAO|항공기종 코드\n",
    "|2|count|같은 항공기종 코드 내 모델의 연도별 항공기종 사용량 합계(단위: 회)\n",
    "|3|year|연도(범위: 2011~2020년)\n",
    "|3|seats|같은 항공기종 코드 내 모델의 평균 기내 좌석 수\n",
    "|4|fuelBurn.kg.km|같은 항공기종 코드 내 모델의 평균 연비(단위: kg/km)\n",
    "|6|sector.nmi|같은 항공기종 코드 내 모델 최대 운항 거리의 평균(단위: nmi(해리))\n",
    "|7|sector.km|같은 항공기종 코드 내 모델 최대 운항 거리의 평균(단위: km)\n",
    "|**8**|**maxFuelBurn.kt**|**항공기종별 최대 연료 소모량 합계**(count * fuelBurn.kg.km * sector.km, 단위: kt)"
   ]
  },
  {
   "cell_type": "markdown",
   "id": "4f744a7c",
   "metadata": {},
   "source": [
    "#### 데이터 시각화"
   ]
  },
  {
   "cell_type": "code",
   "execution_count": 18,
   "id": "5c774aef",
   "metadata": {
    "scrolled": false
   },
   "outputs": [
    {
     "data": {
      "image/png": "[encoded data removed]",
      "text/plain": [
       "plot without title"
      ]
     },
     "metadata": {},
     "output_type": "display_data"
    }
   ],
   "source": [
    "# 연도별 총 국내 공항(인천 포함) 출발+도착 건수 추출\n",
    "gasData <- totalData_GG %>% select(\"yyyy\", \"totalTco2e\")\n",
    "\n",
    "colnames(gasData) <- c(\"year\", \"totalTco2e\")\n",
    "\n",
    "# 시각화용 데이터 제작\n",
    "fig3Data <- inner_join(aircraftData, gasData, by=\"year\")\n",
    "\n",
    "ratio <- mean(fig3Data$maxFuelBurn.kt)/mean(fig3Data$totalTco2e) * 8\n",
    "\n",
    "fig3 <- ggplot() + theme_bw() + \n",
    "       geom_bar(data=fig3Data,aes(x=year,y=maxFuelBurn.kt,fill=ICAO,color=ICAO),stat=\"identity\", width=0.7,alpha=0.2) +\n",
    "       geom_line(data=fig3Data,aes(x=year,y=totalTco2e*ratio),color=\"cadetblue4\", size=0.7,group=1) +\n",
    "       labs(title=\"연도별 연료 소모량(막대그래프) 및 총 온실가스 배출량(꺾은선그래프)\", x=\"연도\", fill=\"항공기종  \", color=\"항공기종  \") + \n",
    "       scale_y_continuous(name = \"총 연료 소모량 (단위: kt)\",\n",
    "                          sec.axis = sec_axis(~./ratio/1000, name=\"온실가스 배출량 (단위: ktCO2e)\"))+\n",
    "       scale_color_brewer(palette = \"Set2\") +\n",
    "       scale_fill_brewer(palette = \"Set2\") + \n",
    "       theme(legend.position = \"bottom\",\n",
    "             title = element_text(size=13,face='bold'),\n",
    "             axis.title.x =  element_text(size=12,face='bold'),\n",
    "             axis.title.y = element_text(size=12,face='bold'),\n",
    "             legend.title = element_text(size=15,face='bold', vjust=0.5),\n",
    "             legend.text = element_text(size=12, vjust=0.5)\n",
    "             )\n",
    "fig3"
   ]
  },
  {
   "cell_type": "markdown",
   "id": "350a6b9b",
   "metadata": {},
   "source": [
    "연도별 총 연료 소모량은 **각 기종별 연료 소모량**에 **연간 각 기종의 운항 횟수**를 곱한 값을 더하여 구했습니다. 이때 각 기종의 연료 소모량은 노선별 사용 항공기종 공공 데이터가 없었으므로 임시적으로 기종의 **연비**에 **최대 이동 가능 거리(sector)**를 곱한 값을 이용했습니다. 또한 만일 모델이 여러 개인 항공기종의 경우 각 모델의 사용 비율이 같다고 가정, **연비의 평균**에 **최대 이동 가능 거리의 평균**을 곱한 값을 사용했습니다.\n",
    "\n",
    "연도별 총 연료 소모량은 2012년부터 2016년까지 증가하다가 2018년과 2019년에 정체, 2020년 감소하는 형태입니다. 이렇게 연료 소모량이 들쭉날쭉한 모습을 보이는 것은 운항횟수는 증가했지만 항공기종의 변화에 따라 엔진 효율화를 이룬 결과로 비춰집니다."
   ]
  },
  {
   "cell_type": "markdown",
   "id": "0116c5fd",
   "metadata": {},
   "source": [
    "### 2-1-4. 2-1-1, 2, 3 항목의 통계 결과 및 온실가스 배출량 간의 상관관계 분석"
   ]
  },
  {
   "cell_type": "markdown",
   "id": "3b804f6a",
   "metadata": {},
   "source": [
    "#### 데이터 가공 및 시각화"
   ]
  },
  {
   "cell_type": "code",
   "execution_count": 19,
   "id": "a89cfb7a",
   "metadata": {},
   "outputs": [
    {
     "data": {
      "image/png": "[encoded data removed]",
      "text/plain": [
       "plot without title"
      ]
     },
     "metadata": {},
     "output_type": "display_data"
    }
   ],
   "source": [
    "revisedFig1Data <- fig1Data %>% select(year,subflgt,stats) %>% rename(\"flightNum\" = \"subflgt\", \"total.tCO2e\"=\"stats\")\n",
    "revisedFig2Data <- fig2Data %>% group_by(year) %>% summarize(flightDistance=sum(totalFlight*distance.km))\n",
    "revisedFig3Data <- fig3Data %>% group_by(year) %>% summarize(fuelConsumption=sum(maxFuelBurn.kt))\n",
    "\n",
    "fig4Data <- inner_join(revisedFig1Data, revisedFig2Data, by=\"year\")\n",
    "fig4Data <- inner_join(fig4Data, revisedFig3Data, by=\"year\")\n",
    "fig4Data <- fig4Data %>% select(-year) %>% select(flightNum, flightDistance, fuelConsumption, total.tCO2e)\n",
    "fig4 <- ggpairs(fig4Data) + theme_bw()\n",
    "fig4"
   ]
  },
  {
   "cell_type": "markdown",
   "id": "bbf3f455",
   "metadata": {},
   "source": [
    "앞에서 사용한 시각화 자료를 바탕으로 운항 편수, 운항 거리, 연료 소비량과 온실가스량 사이의 상관관계를 분석했습니다. 온실가스와 운항 편수의 상관계수는 0.957, 온실가스와 운항 거리의 상관계수는 0.948, 온실가스와 연료 소비량의 상관계수는 0.927로 산출됐습니다. 이로써 운항횟수, 운항거리, 연료소비량은 온실가스량과 비교적 뚜렷한 양의 상관관계를 가짐을 알 수 있습니다. **운항횟수, 운항거리, 연료소비량이 온실가스량을 결정하는 변수**들이라 개연적으로 추측할 수 있습니다.\n",
    "\n",
    "이번에는 운항 편수, 운항 거리, 연료 소비량 각각의 상관관계를 살펴봅시다. 운항 편수와 운항 거리의 상관계수는 0.979, 운항 편수와 연료 소비량의 상관계수는 0.929, 운항 거리와 연료 소비량의 상관계수는 0.922입니다. 변수들 사이 상관관계가 높음을 볼 때 온실가스를 유발하는 변수들 사이의 독립성이 훼손됐다고 생각할 수 있습니다. 따라서 다중공선성이 발생해 이 세가지 변수를 이용해 **다중회귀분석을 하는 것은 적절하지 않다**는 결론이 나왔습니다.\n",
    "\n",
    " 상관관계를 분석하고 나니 변수들 사이 상관관계가 높은 것이 당연하다는 생각이 들었습니다. 운항 횟수가 늘수록 운항거리가 늘 확률이 개연적으로 높아지고, 연료 소모량은 연비에 운항거리를 곱한 값이기 때문입니다."
   ]
  },
  {
   "cell_type": "markdown",
   "id": "51159197",
   "metadata": {},
   "source": [
    "## 2-2. 제언"
   ]
  },
  {
   "cell_type": "markdown",
   "id": "e42e30be",
   "metadata": {},
   "source": [
    "2-1 항목에서 보았듯 항공기 운항 횟수를 줄이고 거리를 줄이면 자연히 항공기 온실가스양은 줄어들 것입니다. 하지만 무작정 항공기 운행을 규제하는 것은 현실적이지 못합니다. 따라서 제언에서는 현실을 감안해 항공기 온실가스를 줄일 수 있는 현실적 방안을 제시하고자 합니다."
   ]
  },
  {
   "cell_type": "markdown",
   "id": "7f9f369a",
   "metadata": {},
   "source": [
    "### 2-2-1. 온실가스 배출량에 영향을 주는 항공기 분석"
   ]
  },
  {
   "cell_type": "markdown",
   "id": "f3218741",
   "metadata": {},
   "source": [
    "해당 분석은 **1. 공항 온실가스 데이터**에서의 *연도별 온실가스 총 배출량*과, 각 항공기종의 연비(fuelBurn)를 반영하지 않는 **6. 국내 공항 연도별 항공기종 사용 현황 데이터**에서의 *각 항공기종의 연간 사용량*을 사용합니다."
   ]
  },
  {
   "cell_type": "markdown",
   "id": "8255af7d",
   "metadata": {},
   "source": [
    "#### 데이터 가공"
   ]
  },
  {
   "cell_type": "code",
   "execution_count": 20,
   "id": "0122bb05",
   "metadata": {},
   "outputs": [],
   "source": [
    "# 분석용 항공기종 데이터베이스\n",
    "analysisAircraft <- data.frame()\n",
    "\n",
    "# 연도별 총 국내 공항 총합 온실 가스 데이터 추출\n",
    "gasData <- totalData_GG %>% select(\"yyyy\", \"totalTco2e\")\n",
    "colnames(gasData) <- c(\"year\", \"totalTco2e\")\n",
    "\n",
    "# 분석용 데이터베이스에 항공기종 데이터베이스를 다중 회귀선(1차식) 형태로 변형하여 투입\n",
    "for(i in 2011:2020){\n",
    "    subData <- aircraftData %>% filter(year == as.character(i)) %>% select(ICAO,count) %>% arrange(ICAO)\n",
    "    colname <- subData$ICAO\n",
    "    subData <- data.frame(t(subData$count))\n",
    "    colnames(subData) <- colname\n",
    "    subData$year <- as.character(i)\n",
    "    analysisAircraft <- rbind(analysisAircraft,subData)\n",
    "}\n",
    "# 연도를 기준으로 gasData와 join\n",
    "analysisAircraft <- inner_join(analysisAircraft, gasData, by=\"year\")"
   ]
  },
  {
   "cell_type": "code",
   "execution_count": 21,
   "id": "9722d7a5",
   "metadata": {},
   "outputs": [
    {
     "data": {
      "text/html": [
       "'1. stepwise 방식으로 온실가스 배출량 예측에 적합한 변수 설정'"
      ],
      "text/latex": [
       "'1. stepwise 방식으로 온실가스 배출량 예측에 적합한 변수 설정'"
      ],
      "text/markdown": [
       "'1. stepwise 방식으로 온실가스 배출량 예측에 적합한 변수 설정'"
      ],
      "text/plain": [
       "[1] \"1. stepwise 방식으로 온실가스 배출량 예측에 적합한 변수 설정\""
      ]
     },
     "metadata": {},
     "output_type": "display_data"
    },
    {
     "name": "stdout",
     "output_type": "stream",
     "text": [
      "Start:  AIC=205.08\n",
      "totalTco2e ~ A300 + A330 + B737 + B747 + B767 + B777 + IL62 + \n",
      "    MD82\n",
      "\n",
      "       Df  Sum of Sq        RSS    AIC\n",
      "- A330  1  161136583 1494206618 204.22\n",
      "<none>               1333070035 205.08\n",
      "- B747  1  449325110 1782395145 205.99\n",
      "- B777  1  776959617 2110029652 207.67\n",
      "- IL62  1 2960113917 4293183951 214.78\n",
      "- B737  1 3043815320 4376885354 214.97\n",
      "- MD82  1 3642043766 4975113801 216.25\n",
      "- A300  1 5751887612 7084957647 219.79\n",
      "- B767  1 6964534597 8297604632 221.37\n",
      "\n",
      "Step:  AIC=204.22\n",
      "totalTco2e ~ A300 + B737 + B747 + B767 + B777 + IL62 + MD82\n",
      "\n",
      "       Df  Sum of Sq        RSS    AIC\n",
      "<none>               1494206618 204.22\n",
      "- B747  1  339601176 1833807794 204.27\n",
      "+ A330  1  161136583 1333070035 205.08\n",
      "- B777  1  647838962 2142045580 205.82\n",
      "- IL62  1 3216303007 4710509624 213.71\n",
      "- B737  1 3359386236 4853592854 214.00\n",
      "- MD82  1 4240666540 5734873158 215.67\n",
      "- B767  1 6981698114 8475904731 219.58\n",
      "- A300  1 8362035324 9856241942 221.09\n"
     ]
    }
   ],
   "source": [
    "# stepwise 방식으로 온실가스 배출에 영향을 주지 않는 항공기종 제거\n",
    "sprintf(\"1. stepwise 방식으로 온실가스 배출량 예측에 적합한 변수 설정\")\n",
    "lmAircraft <- lm(formula = totalTco2e ~ A300 + A330 + B737 + B747 + B767 + B777 + IL62 + MD82, data = analysisAircraft)\n",
    "con <- lm(totalTco2e~1,data=analysisAircraft)  # 상수항만 포함된 회귀원형\n",
    "fitLmAircraft <- step(lmAircraft,scope=list(lower=con,upper=lmAircraft), direction = \"both\")"
   ]
  },
  {
   "cell_type": "code",
   "execution_count": 22,
   "id": "4d9fc9f0",
   "metadata": {},
   "outputs": [
    {
     "data": {
      "text/html": [
       "'2. 불필요한 항공기종 사용량 변수(A330) 제거 이후 선형 회귀 시의 계수 요약'"
      ],
      "text/latex": [
       "'2. 불필요한 항공기종 사용량 변수(A330) 제거 이후 선형 회귀 시의 계수 요약'"
      ],
      "text/markdown": [
       "'2. 불필요한 항공기종 사용량 변수(A330) 제거 이후 선형 회귀 시의 계수 요약'"
      ],
      "text/plain": [
       "[1] \"2. 불필요한 항공기종 사용량 변수(A330) 제거 이후 선형 회귀 시의 계수 요약\""
      ]
     },
     "metadata": {},
     "output_type": "display_data"
    },
    {
     "data": {
      "text/html": [
       "<table>\n",
       "<thead><tr><th></th><th scope=col>Estimate</th><th scope=col>Std. Error</th><th scope=col>t value</th><th scope=col>Pr(&gt;|t|)</th></tr></thead>\n",
       "<tbody>\n",
       "\t<tr><th scope=row>(Intercept)</th><td>-3.628600e+05</td><td>1.349073e+05 </td><td>-2.6896992   </td><td>0.1148896    </td></tr>\n",
       "\t<tr><th scope=row>A300</th><td> 5.412910e+00</td><td>1.617950e+00 </td><td> 3.3455357   </td><td>0.0789137    </td></tr>\n",
       "\t<tr><th scope=row>B737</th><td> 2.165464e+00</td><td>1.021201e+00 </td><td> 2.1205067   </td><td>0.1680479    </td></tr>\n",
       "\t<tr><th scope=row>B747</th><td> 5.508564e+00</td><td>8.170415e+00 </td><td> 0.6742086   </td><td>0.5696640    </td></tr>\n",
       "\t<tr><th scope=row>B767</th><td> 1.316052e+01</td><td>4.305098e+00 </td><td> 3.0569631   </td><td>0.0924146    </td></tr>\n",
       "\t<tr><th scope=row>B777</th><td>-5.770773e+00</td><td>6.197133e+00 </td><td>-0.9312005   </td><td>0.4500551    </td></tr>\n",
       "\t<tr><th scope=row>IL62</th><td>-8.459262e+04</td><td>4.077034e+04 </td><td>-2.0748569   </td><td>0.1736871    </td></tr>\n",
       "\t<tr><th scope=row>MD82</th><td> 6.395222e+02</td><td>2.684287e+02 </td><td> 2.3824661   </td><td>0.1400857    </td></tr>\n",
       "</tbody>\n",
       "</table>\n"
      ],
      "text/latex": [
       "\\begin{tabular}{r|llll}\n",
       "  & Estimate & Std. Error & t value & Pr(>\\textbar{}t\\textbar{})\\\\\n",
       "\\hline\n",
       "\t(Intercept) & -3.628600e+05 & 1.349073e+05  & -2.6896992    & 0.1148896    \\\\\n",
       "\tA300 &  5.412910e+00 & 1.617950e+00  &  3.3455357    & 0.0789137    \\\\\n",
       "\tB737 &  2.165464e+00 & 1.021201e+00  &  2.1205067    & 0.1680479    \\\\\n",
       "\tB747 &  5.508564e+00 & 8.170415e+00  &  0.6742086    & 0.5696640    \\\\\n",
       "\tB767 &  1.316052e+01 & 4.305098e+00  &  3.0569631    & 0.0924146    \\\\\n",
       "\tB777 & -5.770773e+00 & 6.197133e+00  & -0.9312005    & 0.4500551    \\\\\n",
       "\tIL62 & -8.459262e+04 & 4.077034e+04  & -2.0748569    & 0.1736871    \\\\\n",
       "\tMD82 &  6.395222e+02 & 2.684287e+02  &  2.3824661    & 0.1400857    \\\\\n",
       "\\end{tabular}\n"
      ],
      "text/markdown": [
       "\n",
       "| <!--/--> | Estimate | Std. Error | t value | Pr(>|t|) |\n",
       "|---|---|---|---|---|\n",
       "| (Intercept) | -3.628600e+05 | 1.349073e+05  | -2.6896992    | 0.1148896     |\n",
       "| A300 |  5.412910e+00 | 1.617950e+00  |  3.3455357    | 0.0789137     |\n",
       "| B737 |  2.165464e+00 | 1.021201e+00  |  2.1205067    | 0.1680479     |\n",
       "| B747 |  5.508564e+00 | 8.170415e+00  |  0.6742086    | 0.5696640     |\n",
       "| B767 |  1.316052e+01 | 4.305098e+00  |  3.0569631    | 0.0924146     |\n",
       "| B777 | -5.770773e+00 | 6.197133e+00  | -0.9312005    | 0.4500551     |\n",
       "| IL62 | -8.459262e+04 | 4.077034e+04  | -2.0748569    | 0.1736871     |\n",
       "| MD82 |  6.395222e+02 | 2.684287e+02  |  2.3824661    | 0.1400857     |\n",
       "\n"
      ],
      "text/plain": [
       "            Estimate      Std. Error   t value    Pr(>|t|) \n",
       "(Intercept) -3.628600e+05 1.349073e+05 -2.6896992 0.1148896\n",
       "A300         5.412910e+00 1.617950e+00  3.3455357 0.0789137\n",
       "B737         2.165464e+00 1.021201e+00  2.1205067 0.1680479\n",
       "B747         5.508564e+00 8.170415e+00  0.6742086 0.5696640\n",
       "B767         1.316052e+01 4.305098e+00  3.0569631 0.0924146\n",
       "B777        -5.770773e+00 6.197133e+00 -0.9312005 0.4500551\n",
       "IL62        -8.459262e+04 4.077034e+04 -2.0748569 0.1736871\n",
       "MD82         6.395222e+02 2.684287e+02  2.3824661 0.1400857"
      ]
     },
     "metadata": {},
     "output_type": "display_data"
    }
   ],
   "source": [
    "# 제거 이후 상관관계 분석 요약\n",
    "sprintf(\"2. 불필요한 항공기종 사용량 변수(A330) 제거 이후 선형 회귀 시의 계수 요약\")\n",
    "summary(fitLmAircraft)$coefficients  # A300, B767이 확률 0.1 미만의 유의성을 보임"
   ]
  },
  {
   "cell_type": "code",
   "execution_count": 23,
   "id": "dd0afcce",
   "metadata": {
    "scrolled": false
   },
   "outputs": [
    {
     "data": {
      "text/html": [
       "'3. 확률(Pr(&gt;|t|)) 10% 이내 유의성을 보이는 항공기종 사용량 변수만 선형 회귀 시의 계수 요약'"
      ],
      "text/latex": [
       "'3. 확률(Pr(>\\textbar{}t\\textbar{})) 10\\% 이내 유의성을 보이는 항공기종 사용량 변수만 선형 회귀 시의 계수 요약'"
      ],
      "text/markdown": [
       "'3. 확률(Pr(&gt;|t|)) 10% 이내 유의성을 보이는 항공기종 사용량 변수만 선형 회귀 시의 계수 요약'"
      ],
      "text/plain": [
       "[1] \"3. 확률(Pr(>|t|)) 10% 이내 유의성을 보이는 항공기종 사용량 변수만 선형 회귀 시의 계수 요약\""
      ]
     },
     "metadata": {},
     "output_type": "display_data"
    },
    {
     "data": {
      "text/html": [
       "<table>\n",
       "<thead><tr><th></th><th scope=col>Estimate</th><th scope=col>Std. Error</th><th scope=col>t value</th><th scope=col>Pr(&gt;|t|)</th></tr></thead>\n",
       "<tbody>\n",
       "\t<tr><th scope=row>(Intercept)</th><td>-57806.364474</td><td>1.498573e+05 </td><td>-0.3857427   </td><td>0.7111423110 </td></tr>\n",
       "\t<tr><th scope=row>A300</th><td>     7.709977</td><td>1.349788e+00 </td><td> 5.7119924   </td><td>0.0007262965 </td></tr>\n",
       "\t<tr><th scope=row>B767</th><td>     9.520726</td><td>4.490242e+00 </td><td> 2.1203146   </td><td>0.0716881925 </td></tr>\n",
       "</tbody>\n",
       "</table>\n"
      ],
      "text/latex": [
       "\\begin{tabular}{r|llll}\n",
       "  & Estimate & Std. Error & t value & Pr(>\\textbar{}t\\textbar{})\\\\\n",
       "\\hline\n",
       "\t(Intercept) & -57806.364474 & 1.498573e+05  & -0.3857427    & 0.7111423110 \\\\\n",
       "\tA300 &      7.709977 & 1.349788e+00  &  5.7119924    & 0.0007262965 \\\\\n",
       "\tB767 &      9.520726 & 4.490242e+00  &  2.1203146    & 0.0716881925 \\\\\n",
       "\\end{tabular}\n"
      ],
      "text/markdown": [
       "\n",
       "| <!--/--> | Estimate | Std. Error | t value | Pr(>|t|) |\n",
       "|---|---|---|---|---|\n",
       "| (Intercept) | -57806.364474 | 1.498573e+05  | -0.3857427    | 0.7111423110  |\n",
       "| A300 |      7.709977 | 1.349788e+00  |  5.7119924    | 0.0007262965  |\n",
       "| B767 |      9.520726 | 4.490242e+00  |  2.1203146    | 0.0716881925  |\n",
       "\n"
      ],
      "text/plain": [
       "            Estimate      Std. Error   t value    Pr(>|t|)    \n",
       "(Intercept) -57806.364474 1.498573e+05 -0.3857427 0.7111423110\n",
       "A300             7.709977 1.349788e+00  5.7119924 0.0007262965\n",
       "B767             9.520726 4.490242e+00  2.1203146 0.0716881925"
      ]
     },
     "metadata": {},
     "output_type": "display_data"
    }
   ],
   "source": [
    "# 10% 오차범위 이내 유의성을 보이는 변수(A300, B767)만 다시 상관관계 분석 요약\n",
    "sprintf(\"3. 확률(Pr(>|t|)) 10%% 이내 유의성을 보이는 항공기종 사용량 변수만 선형 회귀 시의 계수 요약\")\n",
    "summary(lm(formula = totalTco2e ~ A300 + B767, data = analysisAircraft))$coefficients  # A300이 확률 0.001 미만의 유의성을 보임"
   ]
  },
  {
   "cell_type": "markdown",
   "id": "136ad4c2",
   "metadata": {},
   "source": [
    "각 컬럼의 의미는 다음과 같습니다.\n",
    "\n",
    "항공기종 ***????***의 사용량을 ***x<sub>????</sub>***, 온실가스 배출량을 ***y***라고 했을 때, 관계식\n",
    "\n",
    "**<center>*y = β<sub>0</sub> + β<sub>Xxyz</sub>x<sub>Xxyz</sub> + β<sub>Yabc</sub>x<sub>Yabc</sub> + ... + β<sub>Zdef</sub>x<sub>Zdef</sub>*</center>**\n",
    "\n",
    "에서\n",
    "\n",
    "|번호|컬럼명|내용\n",
    "|:--|:--|:--\n",
    "|1|Estimate|각 항공기 사용량의 추정 β값 (β<sub>0</sub>의 경우 Intercept)\n",
    "|2|Std. Error|각 항공기종별 추정 β값의 표준 오차\n",
    "|3|t value|각 항공기종별 추정 β값을 t분포로 정규화한 값\n",
    "|4|Pr(>\\|t\\|)|각 항공기의 사용량이 온실가스 배출량에 **영향을 미치지 않을 확률** (β<sub>????</sub>=0일 확률)"
   ]
  },
  {
   "cell_type": "markdown",
   "id": "7dd9bf02",
   "metadata": {},
   "source": [
    "A300, B737, B747, B767, B777, IL62, MD82 항공기종과 온실가스 배출량 사이의 다중회귀분석 결과, **온실가스 배출량에 영향을 주지 않을 확률(Pr(>|t|))이 0.1 이하**인 항공기종, 즉 온실가스 배출량과 **사실상 유의미한 상관관계**를 보이는 항공기종은 A300과 B767이었습니다. 특히 A300과 B767 두 변수를 대상으로 한 다중회귀분석을 한 결과, A300의 Pr(>|t|) 값은 약 **0.07%**로 온실가스 배출량과 상당히 높은 상관관계를 보였습니다."
   ]
  },
  {
   "cell_type": "markdown",
   "id": "9f15c198",
   "metadata": {},
   "source": [
    "### 2-2-2. 2030년 예상 노선 사용량 기반 온실가스 발생량 감소 대상 우선순위 노선 산출"
   ]
  },
  {
   "cell_type": "markdown",
   "id": "df42e25f",
   "metadata": {},
   "source": [
    "해당 시각화에서는 **2-1-2. 연도 및 국내/국제 총 운항 거리 총합 비교**에서 가공된 데이터를 응용했습니다."
   ]
  },
  {
   "cell_type": "markdown",
   "id": "69f347a6",
   "metadata": {},
   "source": [
    "#### 데이터 가공"
   ]
  },
  {
   "cell_type": "code",
   "execution_count": 24,
   "id": "5f8e2278",
   "metadata": {},
   "outputs": [
    {
     "name": "stderr",
     "output_type": "stream",
     "text": [
      "`summarise()` has grouped output by 'flightCity'. You can override using the `.groups` argument.\n"
     ]
    },
    {
     "data": {
      "text/html": [
       "<table>\n",
       "<thead><tr><th scope=col>flightCity</th><th scope=col>totalFlight</th><th scope=col>flightYear</th><th scope=col>diType</th><th scope=col>distance.km</th><th scope=col>intercept</th><th scope=col>slope</th><th scope=col>anticipatedValue</th></tr></thead>\n",
       "<tbody>\n",
       "\t<tr><td>CJU-GMP    </td><td>233483     </td><td>2011       </td><td>D          </td><td> 449       </td><td>-4217969.0 </td><td>2211.7273  </td><td>229814.5273</td></tr>\n",
       "\t<tr><td>GMP-PUS    </td><td> 54955     </td><td>2011       </td><td>D          </td><td> 327       </td><td>-5917114.6 </td><td>2962.8970  </td><td> 41271.1636</td></tr>\n",
       "\t<tr><td>CJJ-CJU    </td><td> 21390     </td><td>2011       </td><td>D          </td><td> 367       </td><td>-5732137.6 </td><td>2858.9697  </td><td> 17250.4364</td></tr>\n",
       "\t<tr><td>CJU-TAE    </td><td> 14864     </td><td>2011       </td><td>D          </td><td> 330       </td><td>-5899342.8 </td><td>2939.7879  </td><td> 12570.6545</td></tr>\n",
       "\t<tr><td>GUM-PUS    </td><td>   388     </td><td>2011       </td><td>I          </td><td>2884       </td><td> -769768.1 </td><td> 382.9818  </td><td>   408.3818</td></tr>\n",
       "\t<tr><td>CJU-PUS    </td><td> 53532     </td><td>2011       </td><td>D          </td><td> 291       </td><td> -952924.9 </td><td> 500.0061  </td><td> 52587.2727</td></tr>\n",
       "</tbody>\n",
       "</table>\n"
      ],
      "text/latex": [
       "\\begin{tabular}{r|llllllll}\n",
       " flightCity & totalFlight & flightYear & diType & distance.km & intercept & slope & anticipatedValue\\\\\n",
       "\\hline\n",
       "\t CJU-GMP     & 233483      & 2011        & D           &  449        & -4217969.0  & 2211.7273   & 229814.5273\\\\\n",
       "\t GMP-PUS     &  54955      & 2011        & D           &  327        & -5917114.6  & 2962.8970   &  41271.1636\\\\\n",
       "\t CJJ-CJU     &  21390      & 2011        & D           &  367        & -5732137.6  & 2858.9697   &  17250.4364\\\\\n",
       "\t CJU-TAE     &  14864      & 2011        & D           &  330        & -5899342.8  & 2939.7879   &  12570.6545\\\\\n",
       "\t GUM-PUS     &    388      & 2011        & I           & 2884        &  -769768.1  &  382.9818   &    408.3818\\\\\n",
       "\t CJU-PUS     &  53532      & 2011        & D           &  291        &  -952924.9  &  500.0061   &  52587.2727\\\\\n",
       "\\end{tabular}\n"
      ],
      "text/markdown": [
       "\n",
       "| flightCity | totalFlight | flightYear | diType | distance.km | intercept | slope | anticipatedValue |\n",
       "|---|---|---|---|---|---|---|---|\n",
       "| CJU-GMP     | 233483      | 2011        | D           |  449        | -4217969.0  | 2211.7273   | 229814.5273 |\n",
       "| GMP-PUS     |  54955      | 2011        | D           |  327        | -5917114.6  | 2962.8970   |  41271.1636 |\n",
       "| CJJ-CJU     |  21390      | 2011        | D           |  367        | -5732137.6  | 2858.9697   |  17250.4364 |\n",
       "| CJU-TAE     |  14864      | 2011        | D           |  330        | -5899342.8  | 2939.7879   |  12570.6545 |\n",
       "| GUM-PUS     |    388      | 2011        | I           | 2884        |  -769768.1  |  382.9818   |    408.3818 |\n",
       "| CJU-PUS     |  53532      | 2011        | D           |  291        |  -952924.9  |  500.0061   |  52587.2727 |\n",
       "\n"
      ],
      "text/plain": [
       "  flightCity totalFlight flightYear diType distance.km intercept  slope    \n",
       "1 CJU-GMP    233483      2011       D       449        -4217969.0 2211.7273\n",
       "2 GMP-PUS     54955      2011       D       327        -5917114.6 2962.8970\n",
       "3 CJJ-CJU     21390      2011       D       367        -5732137.6 2858.9697\n",
       "4 CJU-TAE     14864      2011       D       330        -5899342.8 2939.7879\n",
       "5 GUM-PUS       388      2011       I      2884         -769768.1  382.9818\n",
       "6 CJU-PUS     53532      2011       D       291         -952924.9  500.0061\n",
       "  anticipatedValue\n",
       "1 229814.5273     \n",
       "2  41271.1636     \n",
       "3  17250.4364     \n",
       "4  12570.6545     \n",
       "5    408.3818     \n",
       "6  52587.2727     "
      ]
     },
     "metadata": {},
     "output_type": "display_data"
    }
   ],
   "source": [
    "# 각 노선당 회귀선 요소 데이터 추출(2011~2019년 데이터 집계, 2020년은 집계 제외)\n",
    "## 집계 연도가 2개 이상인 노선만 추출 (1개인 노선은 오류 발생)\n",
    "fig5CityCount <- regData %>% filter(as.numeric(flightYear)<=2019) %>%\n",
    "                 group_by(flightCity, diType) %>% summarize(count = n()) %>% filter(count>=2)\n",
    "\n",
    "fig5Data <- inner_join(regData, fig5CityCount, by=c(\"flightCity\",\"diType\"))\n",
    "\n",
    "# 추세선 산출 위해 연도 타입 변경(chr -> num)\n",
    "fig5Data$flightYear <- as.numeric(fig5Data$flightYear)\n",
    "\n",
    "# 노선당 추세선의 y절편(intercept) 및 기울기(slope) 산출\n",
    "fig5RegressionData <- fig5Data %>% group_by(flightCity) %>%\n",
    "                                    summarize(intercept = summary(lm(totalFlight~flightYear))$coefficients[1,1],\n",
    "                                              slope = summary(lm(totalFlight~flightYear))$coefficients[2,1])\n",
    "fig5RegressionData <- inner_join(fig5RegressionData, fig5Data %>% select(flightCity, diType), by=\"flightCity\")\n",
    "\n",
    "# 추세선 데이터 기반 2030년 예상값 추가\n",
    "fig5RegressionData$anticipate2030 <- ifelse(fig5RegressionData$intercept+fig5RegressionData$slope*2030<0,\n",
    "                                            0,fig5RegressionData$intercept+fig5RegressionData$slope*2030)\n",
    "\n",
    "# 시각화 데이터에 적용하기 위해 데이터 형태 변경\n",
    "fig5AnticiData <- fig5RegressionData %>% select(flightCity, anticipate2030,diType) %>% rename(totalFlight=anticipate2030)\n",
    "fig5AnticiData$flightYear <- rep(2030, times=nrow(fig5AnticiData))\n",
    "\n",
    "# 기존 데이터에서 노선, 총 운항 편수, 연도만 추출\n",
    "fig5Data <- fig5Data %>% select(flightCity, totalFlight, flightYear, diType)\n",
    "\n",
    "# 예상 데이터를 기존 데이터에 붙여넣기\n",
    "fig5Data <- rbind(fig5Data, fig5AnticiData)\n",
    "\n",
    "# 회귀에 사용하지 않은 데이터(2020년 데이터) 제거\n",
    "fig5Data <- fig5Data %>% filter(flightYear != 2020)\n",
    "\n",
    "# 노선 간 거리 데이터 추출\n",
    "fig5DistanceData <- regData %>% select(flightCity, distance.km)\n",
    "fig5DistanceData <- unique(fig5DistanceData)\n",
    "\n",
    "# 시각화 데이터에 거리 및 국내/국제 여부 데이터 추가\n",
    "fig5Data <- inner_join(fig5Data, fig5DistanceData, by = \"flightCity\") %>% arrange(flightCity, flightYear)\n",
    "\n",
    "# 2030년 예상 운항 거리 상위 8개 노선 데이터만 추출\n",
    "fig5Top <- head(fig5Data %>% filter(flightYear==2030) %>%\n",
    "                arrange(desc(totalFlight*distance.km)) %>% distinct(flightCity,diType), 8)\n",
    "fig5Top$top <- rep(\"o\", times=nrow(fig5Top))\n",
    "\n",
    "# 시각화 데이터에서 상위 8개 노선 데이터 추출\n",
    "fig5Data <- inner_join(fig5Data, fig5Top, by =  c(\"flightCity\",\"diType\")) %>% select(-top)\n",
    "\n",
    "# 노선별 추세선 작도 위해 y절편 및 기울기 데이터 추가\n",
    "fig5Data <- inner_join(fig5Data, unique(fig5RegressionData),by = c(\"flightCity\",\"diType\")) %>% select(-anticipate2030)\n",
    "fig5Data <- unique(fig5Data)\n",
    "\n",
    "# 각 연도의 운항 편수 예측값 추가\n",
    "fig5Data$anticipatedValue <- ifelse(fig5Data$intercept+fig5Data$slope*fig5Data$flightYear<0,\n",
    "                                  0,fig5Data$intercept+fig5Data$slope*fig5Data$flightYear)\n",
    "\n",
    "\n",
    "# 운항 거리별 정렬\n",
    "fig5Data$flightCity <- factor(fig5Data$flightCity, levels = fig5Top$flightCity)\n",
    "\n",
    "head(fig5Data %>% arrange(flightYear, flightCity))"
   ]
  },
  {
   "cell_type": "markdown",
   "id": "0456dc56",
   "metadata": {},
   "source": [
    "각 컬럼의 의미는 다음과 같습니다\n",
    "\n",
    "|번호|컬럼명|내용\n",
    "|:---|:---|:---\n",
    "|1|flightCity|출도착 공항명\n",
    "|2|totalFlight|연도별 총 운항 편수\n",
    "|3|diType|국내선 또는 국제선 구분(D: 국내선, I: 국제선)\n",
    "|4|distance.km|출도착 공항 간 거리(단위: km)\n",
    "|5|intercept|노선별 단일선형회귀 실행 시 산출되는 **y절편**\n",
    "|6|slope|노선별 단일선형회귀 실행 시 산출되는 **기울기**\n",
    "|7|anticipatedValue|선형 회귀에 따른 예상값(노선별 추세선 그리기에 사용될 예정, y = intercept + slope * totalFlight)"
   ]
  },
  {
   "cell_type": "markdown",
   "id": "816188b8",
   "metadata": {},
   "source": [
    "#### 데이터 시각화"
   ]
  },
  {
   "cell_type": "code",
   "execution_count": 25,
   "id": "e42b9c3b",
   "metadata": {},
   "outputs": [
    {
     "name": "stderr",
     "output_type": "stream",
     "text": [
      "`geom_smooth()` using formula 'y ~ x'\n"
     ]
    },
    {
     "data": {
      "image/png": "[encoded data removed]",
      "text/plain": [
       "plot without title"
      ]
     },
     "metadata": {},
     "output_type": "display_data"
    }
   ],
   "source": [
    "fig5 <- ggplot() + theme_bw() +\n",
    "        geom_point(data=fig5Data, aes(x=flightYear, y=totalFlight*distance.km/1000,color=flightCity, shape=diType)) +\n",
    "        geom_smooth(data=fig5Data, aes(x=flightYear, y=anticipatedValue*distance.km/1000,color=flightCity),\n",
    "                    size=0.5, linetype = 2, method = \"lm\")+\n",
    "        labs(title=\"2030년 예상 운항 거리 상위 8개 노선별 총 운항 거리\",\n",
    "             x=\"연도\", y=\"총 운항 거리 (단위: 천 km)\",color=\"노선\",shape=\"국내/국제선 구분\") + \n",
    "        #scale_x_continuous(breaks=c(2020,2030), labels) +\n",
    "        scale_y_continuous(name = \"총 운항 거리 (단위: 천 km)\")+\n",
    "        scale_color_brewer(palette = \"Set2\") +\n",
    "        theme(legend.position = \"right\",\n",
    "              title = element_text(size=13,face='bold'),\n",
    "              axis.title.x =  element_text(size=12,face='bold'),\n",
    "              axis.title.y = element_text(size=12,face='bold'),\n",
    "              legend.title = element_text(size=15,face='bold', vjust=0.5),\n",
    "              legend.text = element_text(size=12, vjust=0.5)\n",
    "              ) + \n",
    "        annotate(\"rect\", xmin=2019.5, xmax=2030.5, ymin=0, ymax=125000, alpha=0, color=\"gray25\", lty=\"dashed\") +\n",
    "        annotate(\"text\", x=2023, y=5000, label=\"회귀에 의한 예상치\", size=5, fontface=2)\n",
    "\n",
    "fig5"
   ]
  },
  {
   "cell_type": "markdown",
   "id": "3b0d9b3b",
   "metadata": {},
   "source": [
    " 2011년부터 2019년까지 국내 및 국제 상위 8개 노선의 총 운항 거리 데이터를 이용해 각 노선별로 선형회귀분석하여 2030년 연료소모량을 예측했습니다. 그 결과 **청주-김포 노선(CJU-GMP)**이 눈에 띄게 높은 총 운항 거리를 보였고, 다낭(베트남)-부산 노선(DAD-PUS), 김포-부산 노선(GMP-PUS)이 뒤를 이었습니다. 2020년의 데이터는 **코로나19 범유행의 특수성**을 고려해 반영하지 않았습니다. 해당 사태가 안정된다면 항공기 이용량이 기존 추세로 복귀할 것으로 예상되기 때문입니다.\n",
    " \n",
    " 이렇게 **예상 연료 사용량이 높은 노선 위주**로 기존 항공기를 연비가 좋은 항공기로 대체하거나 기존 항공기의 연비를 개선하도록 개조한다면 항공기 온실가스 증가를 효과적으로 억제할 수 있을 것입니다. 실제로 최근 대한항공이 좌석수 400석의 A380의 운영을 접고 좌석당 연료 효율이 20%이상 높은 B787과 같은 항공기로 대체하였습니다 [4]. 또한 인천 국제공항에서는 기존 화석 기반 항공유를 바이오 항공유로 대체함을 통해 온실가스 배출량을 약 80% 줄일 수 있을 것이라 예상했습니다 [5]. 이러한 항공기 기종, 항공기 연료 대체를 노선 사용량이 큰 항공기 우선으로 유도한다면 정책효과를 거둘 수 있을 것입니다. 이를 유도하기 위한 방안으로 지원금, 탄소배출권 규제 등이 있을 것입니다.\n"
   ]
  },
  {
   "cell_type": "markdown",
   "id": "841d4d36",
   "metadata": {},
   "source": [
    "# 3. 결론"
   ]
  },
  {
   "cell_type": "markdown",
   "id": "b719c3a9",
   "metadata": {},
   "source": [
    "## 3-1. 요약"
   ]
  },
  {
   "cell_type": "markdown",
   "id": "619b7529",
   "metadata": {},
   "source": [
    " 지금까지 항공기 운항거리, 편수, 연료 소모량과 항공기 온실가스 사이의 관계, 온실가스 변화량과 가장 연관 관계가 큰 항공기, 미래 노선별 연료 소모량 예측을 시도했습니다. 그 과정에서 \n",
    "1. 운항 거리, 편수, 연료소모량과 온실가스 사이에 밀접한 **양의 상관관계**가 있음을 확인했습니다.\n",
    "\n",
    "2. 온실가스 배출량에 밀접한 관계를 가지는 항공기는 **A300**이었습니다. 이때 A300 항공기종의 비율이 증가함에 따라 온실가스 배출량 또한 비례하여 증가하는 관계를 갖고 있습니다.\n",
    "\n",
    "3. 청주 공항과 김포 공항 사이 2030년 운항 거리와 편수를 반영한 총 연료 소모량이 **타 노선 대비 월등히게 클 것**을 예상할 수 있었습니다. 따라서 청주 공항과 김포 공항을 이동하는 항공기 위주로 연료, 항공기 대체 작업을 한다면 온실가스 방출량을 줄일 수 있을 것입니다."
   ]
  },
  {
   "cell_type": "markdown",
   "id": "80e530e5",
   "metadata": {},
   "source": [
    "## 3-2. 한계점"
   ]
  },
  {
   "cell_type": "markdown",
   "id": "cc3a3843",
   "metadata": {},
   "source": [
    "### 3-2-1. 항공기종별 운항 기록 부재"
   ]
  },
  {
   "cell_type": "markdown",
   "id": "f2e32fa6",
   "metadata": {},
   "source": [
    "공공 데이터와 누구에게나 공개된 민간 데이터 중에서는 항공기종이 기록된 운항 기록이 존재하지 않아, 항공기의 정확한 연료 소모량을 산출할 수 없는 문제점이 있었습니다. 따라서 **2-1-3. 사용 항공기종 변화** 항목에서의 **연도별 연료 소모량 그래프**를 만들 때 각 항공기종의 연비에 그 기종의 최대 이동 거리(sector)와 항공기 사용 횟수를 곱한 값으로 대체하여 나타냈습니다."
   ]
  },
  {
   "cell_type": "markdown",
   "id": "44a23289",
   "metadata": {},
   "source": [
    "### 3-2-2. 인천국제공항공사 출처 기종별 운항 편수 데이터 부재"
   ]
  },
  {
   "cell_type": "markdown",
   "id": "011984ff",
   "metadata": {},
   "source": [
    "인천국제공항을 제외한 모든 국내 공항의 기종 사용량은 한국공항공사에서 공개한 기종별 통계를 통해 얻을 수 있었던 반면, 인천국제공항 관련 공공 데이터를 얻을 수 있는 방법이 없었습니다. 그래서 한국공항공사 출처 기종별 통계와 위키피디아 자료를 기반으로 항공기 연료 소모량을 구하여 시각화를 한 이후, 온실가스 배출량과의 상관관계를 구하였습니다 (**2-1-3. 사용 항공기종 변화** 항목 및 **2-1-4. 2-1-1, 2, 3 항목의 통계 결과 및 온실가스 배출량 간의 상관관계 분석** 항목 참조). 만일 인천국제공항공사에서 기종별 통계를 제공한다면 연료 사용량과 온실가스 배출량 사이의 식을 통해 더 정확한 항공기 연료 소모량을 산출할 수 있을 것으로 사고합니다."
   ]
  },
  {
   "cell_type": "markdown",
   "id": "139ca5d7",
   "metadata": {},
   "source": [
    "### 3-2-3. 과거 실제 운항 데이터 부재"
   ]
  },
  {
   "cell_type": "markdown",
   "id": "8110071a",
   "metadata": {},
   "source": [
    "공공 데이터 중 **4) 한국공항공사의 항공기 운항정보**를 통해 실시간 운항 정보를 받을 수 있지만, **3-2-1. 항공기종별 운항 기록 부재** 항목과 마찬가지로 Flightradar24 또는 FlightAware 등의 상업용 항공 관련 데이터베이스 제공 사이트 외에는 과거 운항 데이터를 얻을 수 있는 방법이 없었습니다. 그래서 4)번 출처의 운항 스케줄로 노선별로 추정 운항 편수를 구하여 사용했습니다 (**2-1-2. 국내/국제별 총 운항 거리 변화** 항목 참조). 만일 실제 운항 데이터가 공공 데이터로 사용할 수 있다면 결항 등을 반영하여 더 정확한 운항 편수를 구할 수 있을 것으로 보입니다."
   ]
  },
  {
   "cell_type": "markdown",
   "id": "4e33356f",
   "metadata": {},
   "source": [
    "# 4. 참고 데이터 및 문헌"
   ]
  },
  {
   "cell_type": "markdown",
   "id": "162322ab",
   "metadata": {},
   "source": [
    "## 4-1. 데이터 출처\n",
    "1) 한국공항공사. 공항 온실가스. OpenAPI. https://www.data.go.kr/tcs/dss/selectApiDataDetailView.do?publicDataPk=3050602\n",
    "\n",
    "2) 인천국제공항공사. 그린리포트. 간행물. https://www.airport.kr/co_cnt/ko/cyberpr/publicat/pbooks/pbooks.do\n",
    "\n",
    "3) 한국공항공사. 전국공항 수송실적통계. OpenAPI. https://www.data.go.kr/tcs/dss/selectApiDataDetailView.do?publicDataPk=3034194\n",
    "\n",
    "4) 한국공항공사. 항공기 운항정보. OpenAPI. https://www.data.go.kr/tcs/dss/selectApiDataDetailView.do?publicDataPk=15000126\n",
    "\n",
    "5) 한국공항공사. 노선별 소요시간 및 거리 정보. OpenAPI. https://www.data.go.kr/tcs/dss/selectApiDataDetailView.do?publicDataPk=15007809\n",
    "\n",
    "6) Wikipedia. \"Fuel economy in aircraft.\" https://en.wikipedia.org/wiki/Fuel_economy_in_aircraft\n",
    "\n",
    "7) 항공정보포털시스템. 항공기 정보 > A300. https://www.airportal.go.kr/upload/aircraft/%EC%83%81%EC%84%B8%EC%A0%95%EB%B3%B4%20-%20A300-600.pdf\n",
    "\n",
    "8) 항공정보포털시스템. 항공기 정보 > MD-80. https://www.airportal.go.kr/upload/aircraft/%EC%83%81%EC%84%B8%EC%A0%95%EB%B3%B4%20-%20A300-600.pdf\n",
    "\n",
    "9) 위키백과. \"일류신 Il-62.\" https://ko.wikipedia.org/wiki/%EC%9D%BC%EB%A5%98%EC%8B%A0_Il-62\n",
    "\n",
    "10) 한화토탈. 물질안전보건자료(MSDS). Jet A-1. https://www.hanwha-total.com/Dext/file_down?dir=product&fileName=628da97b8b0742b1af3d2fe1abcc37aa&oriFileName=GHSMSDS0591_JETA1_KR.pdf\n",
    "\n",
    "11) 한국공항공사. 정보공개 > 항공통계 > 기종별 통계. https://www.airport.co.kr/www/cms/frFlightStatsCon/kindStats.do?MENU_ID=1250"
   ]
  },
  {
   "cell_type": "markdown",
   "id": "3b9ccd18",
   "metadata": {},
   "source": [
    "## 문헌 출처\n",
    "[1] 주희진. \"국내 공항 온실가스 배출량 산정 및 저감효과 분석.\" 국내석사학위논문 세종대학교 일반대학원, 2016. 서울\n",
    "\n",
    "[2] 윤태영. \"공항에서 항공기(APU) 온실가스배출 저감에 관한 연구.\" 국내석사학위논문 한국항공대학교 대학원, 2013. 경기도\n",
    "\n",
    "[3] 인천국제공항공사 에너지환경처, *인천국제공항공사 그린리포트 2021*, 2021, pp. 21. Available: https://www.airport.kr/co_cnt/ko/cyberpr/publicat/pbooks/pbooks.do\n",
    "\n",
    "[4] msn 뉴스, “대한항공 ‘a380’ 등 대형기 운영 접는다…’ 연비 좋은 중형기로 대체, \"기름값 아끼자\" 연비좋은 중형기 도입 붐 - 매일경제 (mk.co.kr)\n",
    "\n",
    "[5] 서울신문, “인천공항 ‘친황경 공항’ 구축 속도낸다, 인천공항 ‘친환경 공항’ 구축 속도낸다 | 서울신문 (seoul.co.kr)\n"
   ]
  },
  {
   "cell_type": "markdown",
   "id": "fdfc0920",
   "metadata": {},
   "source": [
    "본 저작물의 저작권은 Apache License v2.0을 따릅니다."
   ]
  }
 ],
 "metadata": {
  "kernelspec": {
   "display_name": "R",
   "language": "R",
   "name": "ir"
  },
  "language_info": {
   "codemirror_mode": "r",
   "file_extension": ".r",
   "mimetype": "text/x-r-source",
   "name": "R",
   "pygments_lexer": "r",
   "version": "3.6.1"
  }
 },
 "nbformat": 4,
 "nbformat_minor": 5
}
