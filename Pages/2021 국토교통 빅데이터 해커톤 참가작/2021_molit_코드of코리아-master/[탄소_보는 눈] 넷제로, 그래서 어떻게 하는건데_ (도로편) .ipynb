{
 "cells": [
  {
   "cell_type": "markdown",
   "id": "6ed49f68",
   "metadata": {},
   "source": [
    "![제목](title.png)\n",
    "\n",
    "# [탄소 보는 눈] 데이터보드 - 도로편\n",
    "## 배경\n",
    "* 기후변화는 '발등에 떨어진 불', 이제는 **기후위기**입니다. 올해 발간된 IPCC 보고서에 따르면 지구온난화 1.5도 상승에 도달하는 시점이 예상보다 10년 앞당겨져 2040년 안에 **극한고온 현상과 홍수, 가뭄**이 수 배 강화될 것으로 예측했습니다.\n",
    "* 파리협정 1.5도 목표를 달성하기 위해서는 전지구적으로 2050년까지 탄소중립을 달성해야 합니다. 국내에서도 미래세대를 중심으로 탄소중립을 요구하는 목소리가 커지고 있습니다.\n",
    "* 우리나라는 **2050년 탄소중립**을 국가비전으로 선언하고, 이를 달성하기 위한 추진 전략을 준비하고 있습니다.\n",
    "* 온실가스종합정보센터에서 국가 온실가스 통계를 구축하고 있지만,\n",
    "    + 업데이트가 **늦고**(2018년 자료가 최신)\n",
    "    + **한눈에** 보기 어려우며(데이터가 여러 부처의 사이트와 보고서에 퍼져있음)\n",
    "    + 제대로 달성하고 있는지 **판단**이 어렵습니다(데이터가 숫자만 보여줄 뿐 계획대로 이루어지는지 직관적으로 파악하기 어려움)\n",
    "    \n",
    "## 목적\n",
    "    \n",
    "온실가스를 효과적으로 감축하려면, 감축 계획을 철저히 검증하고 변화 하는 상황을 긴밀하게 모니터링해야 합니다. 기후변화 국내외 정세, 배출 상황은 시시각각 변하기 때문에 이에 긴밀하게 대응하고 유연하게 정책을 수정해 나가야 합니다.\n",
    "\n",
    "### 우리는 생각했습니다.\n",
    "공공데이터에서 매달 각종 데이터가 쏟아져 나오는데, **최신 데이터로 배출량을 바로바로 파악할 순 없을까?**\n",
    "\n",
    "이에, 우리나라 탄소선진국 프로젝트 **[탄소 보는 눈]**을 기획했습니다.\n",
    "\n",
    "이 프로젝트는\n",
    "* 최신 데이터로 탄소감축 성과를 판단할 수 있는 **데이터보드**입니다.\n",
    "* 탄소배출에 대한 여러 부처의 데이터와 정책을 **한곳에 보기 좋게 정리**합니다.\n",
    "* 탄고감축의 걸림돌을 시시각각 확인하고, 이를 해결하는 **정부-기업-시민 프로젝트를 촉진**합니다.\n",
    "\n",
    "여러 탄소배출 부문을 검토해본 결과 비교적 데이터 제공이 원활한 **수송 부문**을 시작점으로 잡았습니다.\n",
    "월별 에너지소비 데이터로 온실가스 배출량을 계산해보고 그 값을 국가가 공시하는 배출량과 비교해 검증해보았습니다.\n",
    "또한 여러 데이터를 검토하고 시각화하며 데이터보드에 적합한 형태를 고민했습니다.\n",
    "\n",
    "### 데이터보드 미리보기\n",
    "![page1](page1.png)\n",
    "![page2](page2.png)\n",
    "![page3](page3.png)\n",
    "\n",
    "## 차례\n",
    "1. 데이터 탐색과 검증\n",
    "    + 1-1) 수송부문 온실가스 감축량\n",
    "    + 1-2) 탄소감축 정책 평가 - 서울시 사례\n",
    "        * 통행량 감축\n",
    "        * 대중교통 확대\n",
    "2. 데이터보드 활용방안\n",
    "\n",
    "### 활용 데이터\n",
    "1. 온실가스\n",
    "* KOSIS 최종에너지 부문별 소비: 수송 https://kosis.kr/statHtml/statHtml.do?orgId=339&tblId=DT_F_M190\n",
    "* 한국석유공사 석유제품별산업별 소비 https://www.petronet.co.kr/main2.jsp\n",
    "* 석유환산톤(toe) 및 배출량 계산기 http://tips.energy.or.kr/popup/toe.do#\n",
    "* 에너지법 시행규칙 [별표] 에너지열량 환산기준\n",
    "* KOTEMS 교통부문 연도별 온실가스 배출량 https://www.kotems.or.kr/app/kotems/forward?pageUrl=/kotems/ptl/emission/nir/KotemsPtlEmissionNirEmissionYearLs&topmenu1=01&topmenu2=03&topmenu3=03\n",
    "\n",
    "2. 서울 통행량\n",
    "* Topis 서울시 교통정보 - 지점별 일자별 교통량 https://topis.seoul.go.kr/refRoom/openRefRoom_2.do\n",
    "\n",
    "3. 서울 대중교통 이용량\n",
    "* 서울열린데이터광장 서울시 버스노선별 정류장별 승하차 인원 정보 http://data.seoul.go.kr/dataList/OA-12912/S/1/datasetView.do\n",
    "* 서울열린데이터광장 서울특별시 버스정류소 위치정보 http://data.seoul.go.kr/dataList/OA-15067/S/1/datasetView.do\n",
    "* 서울열린데이터광장 서울시 지하철호선별 역별 승하차 인원 정보 http://data.seoul.go.kr/dataList/OA-12914/S/1/datasetView.do\n",
    "* 전국도시철도역사정보표준데이터 https://www.data.go.kr/data/15013205/standard.do"
   ]
  },
  {
   "cell_type": "markdown",
   "id": "cf32f839",
   "metadata": {},
   "source": [
    "# 우리나라 교통부문 온실가스는 계획대로 감소하고 있는가?\n",
    "\n",
    "# 1. 데이터 탐색과 검증\n",
    "교통부문 월별 연료소비량 데이터를 통해, 확보할 수 있는 가장 최근까지의(2021년 5월) 온실가스 배출량을 계산하였습니다.\n",
    "온실가스배출량 계산법 중 확보할 수 있는 데이터로 계산이 가능한 Tier1 계산법(연료사용량과 연료별 배출계수로 계산)을 사용하였습니다. Tier1 계산법은, 정확한 탄소배출량을 계산하기보다는, 가장 최근까지의 탄소배출 동향을 빠르게 파악할 수 있는 약식 계산으로 사용할 수 있습니다.\n",
    "\n",
    "2050탄소배출 시나리오는 아직 협의 중이기 때문에 정확한 국가 목표치를 제시할 수 없지만, 파리협약에서 우리나라 정부를 포함한 당사국들이 약속한 1.5도 기준에 부합하는 2050 넷제로 시나리오를 본 프로젝트에서 예시로 사용하였습니다."
   ]
  },
  {
   "cell_type": "code",
   "execution_count": 3,
   "id": "9fc39d4b",
   "metadata": {},
   "outputs": [
    {
     "name": "stderr",
     "output_type": "stream",
     "text": [
      "\n",
      "Attaching package: ‘dplyr’\n",
      "\n",
      "The following objects are masked from ‘package:stats’:\n",
      "\n",
      "    filter, lag\n",
      "\n",
      "The following objects are masked from ‘package:base’:\n",
      "\n",
      "    intersect, setdiff, setequal, union\n",
      "\n",
      "Loading required package: ggplot2\n",
      "\n",
      "Attaching package: ‘plotly’\n",
      "\n",
      "The following object is masked from ‘package:ggplot2’:\n",
      "\n",
      "    last_plot\n",
      "\n",
      "The following object is masked from ‘package:stats’:\n",
      "\n",
      "    filter\n",
      "\n",
      "The following object is masked from ‘package:graphics’:\n",
      "\n",
      "    layout\n",
      "\n",
      "\n",
      "Attaching package: ‘lubridate’\n",
      "\n",
      "The following objects are masked from ‘package:base’:\n",
      "\n",
      "    date, intersect, setdiff, union\n",
      "\n"
     ]
    }
   ],
   "source": [
    "# 라이브러리 불러오기\n",
    "library(dplyr)\n",
    "library(tidyr)\n",
    "library(plotly) # charts\n",
    "library(readxl) # read excel files\n",
    "library(lubridate) # calculate dates\n",
    "library(stringr)\n",
    "library(leaflet) # interactive maps\n",
    "library(leaflet.extras) # heatmaps\n",
    "library(htmlwidgets)"
   ]
  },
  {
   "cell_type": "markdown",
   "id": "01edc36d",
   "metadata": {},
   "source": [
    "## 1-1 수송부문 온실가스 배출량\n",
    "### 데이터 전처리"
   ]
  },
  {
   "cell_type": "code",
   "execution_count": null,
   "id": "b22a4952",
   "metadata": {},
   "outputs": [],
   "source": [
    "# 교통부문 연료소비량 데이터 불러오기 및 전처리\n",
    "totalEnergy <- read.csv('data/최종에너지_부문별_소비_수송_9701_2105.csv', fileEncoding = 'EUC-KR') %>%\n",
    "  pivot_longer(-1, names_to = 'year_month')\n",
    "\n",
    "names(totalEnergy) <- c('category', 'year_month', 'toe1000')\n",
    "totalEnergy$year_month <- sub('X', '', totalEnergy$year_month)\n",
    "totalEnergy$year_month <- sub('..', '-', totalEnergy$year_month, fixed=T)"
   ]
  },
  {
   "cell_type": "markdown",
   "id": "586c63d4",
   "metadata": {},
   "source": [
    "### 온실가스 배출량 계산"
   ]
  },
  {
   "cell_type": "code",
   "execution_count": null,
   "id": "19d42c10",
   "metadata": {},
   "outputs": [],
   "source": [
    "# 교통부문 월별 연료소비량\n",
    "plot <- totalEnergy %>%\n",
    "  filter(category != '합계') %>%\n",
    "  plot_ly(x=~year_month, y=~toe1000, type = 'scatter', mode = 'lines', color = ~category) %>%\n",
    "  add_annotations(text=\"1000TOE\", xref=\"paper\", yref=\"paper\", \n",
    "                  x=0.02, xanchor=\"right\",\n",
    "                  y=1.1, yanchor=\"top\",\n",
    "                  legendtitle=TRUE, showarrow=FALSE) %>%\n",
    "  layout(xaxis = list(title=\"\"),\n",
    "         yaxis = list(title=\"\"))\n",
    "\n",
    "embed_notebook(plot)"
   ]
  },
  {
   "cell_type": "markdown",
   "id": "99b30abd",
   "metadata": {},
   "source": [
    "![energy use plot](energyuse_m.png)\n",
    "그래프를 보면 경유 사용량은 최근 10년간 꾸준히 증가하고 있으며, 휘발유 사용량도 완만하게 증가함을 알 수 있습니다. 전력과 신재생에너지 및 기타는 아주 미세하게 증가하는 추세입니다.\n",
    "교통부문에서 탄소중립을 달성하기 위해 휘발유나 경유 사용량을 줄이고 전력과 신재생에너지, 천연가스 사용량을 늘리려는 전략을 취하고 있습니다. 전력과 신재생에너지 전환이 일어나고 있지만 매우 더딘 상황임을 확인할 수 있습니다."
   ]
  },
  {
   "cell_type": "code",
   "execution_count": null,
   "id": "ce31ec3e",
   "metadata": {},
   "outputs": [],
   "source": [
    "# 연료소비량을 바탕으로 탄소배출량 계산하기\n",
    "coefficient <- c(\"휘발유\" = 2.179/781, \"경유\" = 2.596/903, \"LPG\" = 3.737/1519, \"CNG\" = 2.774/1306000, \n",
    "                 \"전력\" = 0.04594/22900)\n",
    "\n",
    "totalEmission <- data.frame()\n",
    "for ( fuel in names(coefficient) ) {\n",
    "  df <- totalEnergy %>% filter(category == fuel)\n",
    "  df$milCO2 <- df$toe1000 * coefficient[fuel]\n",
    "  totalEmission <- rbind(totalEmission, df)\n",
    "}\n",
    "\n",
    "# 연도별 총 탄소배출량 계산하기\n",
    "totalEmission$year <- as.numeric(substr(totalEmission$year_month, 1, 4))\n",
    "totalEmission$month <- as.numeric(substr(totalEmission$year_month, 6, 7))\n",
    "\n",
    "sumEmission_yr <- totalEmission %>% group_by(year) %>% summarize(milCO2 = sum(milCO2, na.rm=T))"
   ]
  },
  {
   "cell_type": "markdown",
   "id": "856c80a2",
   "metadata": {},
   "source": [
    "### 계산값 검증하기\n",
    "KOTEMS에서 공표한 배출량 데이터와, 간이로 계산한 값을 비교하여 계산식의 정확성을 검증해보았습니다."
   ]
  },
  {
   "cell_type": "code",
   "execution_count": 4,
   "id": "9a011900",
   "metadata": {},
   "outputs": [
    {
     "name": "stderr",
     "output_type": "stream",
     "text": [
      "Joining, by = \"year\"\n"
     ]
    },
    {
     "data": {
      "text/plain": [
       "    Min.  1st Qu.   Median     Mean  3rd Qu.     Max. \n",
       "-0.03899  2.21352  4.67996  4.23310  5.93149  7.49777 "
      ]
     },
     "metadata": {},
     "output_type": "display_data"
    }
   ],
   "source": [
    "# 계산값 검증하기\n",
    "emission_proof <- read_xls('data/연도별 온실가스 배출량.xls') %>%\n",
    "  pivot_longer(-부문, names_to='year', values_to='milCO2_actual') %>%\n",
    "  select(-부문)\n",
    "\n",
    "emission_proof$year <- as.numeric(emission_proof$year)\n",
    "emission_proof <- emission_proof %>% \n",
    "  full_join(sumEmission_yr) %>%\n",
    "  mutate(diff = milCO2_actual - milCO2) %>% # 실제값-계산값 차이 계산\n",
    "  na.omit()\n",
    "\n",
    "# 실제값-계산값 차이의 분포\n",
    "summary(emission_proof$diff)"
   ]
  },
  {
   "cell_type": "markdown",
   "id": "f7b031b2",
   "metadata": {},
   "source": [
    "계산값은 실제값과 0~7.5 백만톤 CO₂eq. 사이의 차이를 보였습니다. 추세의 차이를 확인해보기 위해 그래프로 표현해보았습니다."
   ]
  },
  {
   "cell_type": "code",
   "execution_count": null,
   "id": "486562af",
   "metadata": {},
   "outputs": [],
   "source": [
    "# 계산값과 실제값 비교하기\n",
    "plot <- emission_proof %>%\n",
    "  plot_ly(x=~year, y=~milCO2_actual, name = '실제배출량',type = 'scatter', mode = 'lines') %>%\n",
    "  add_trace(y=~milCO2, name = '계산배출량')\n",
    "embed_notebook(plot)"
   ]
  },
  {
   "cell_type": "markdown",
   "id": "90eb608c",
   "metadata": {},
   "source": [
    "![proof](emission_proof.png)\n",
    "계산된 배출량이 실제 배출량의 변화추세와 유사한 경향을 보였습니다. 따라서 계산 값은 정밀한 탄소배출량 값을 제공하기는 어려울 수 있으나 추세를 파악하는 용도로는 활용이 가능할 것으로 판단합니다."
   ]
  },
  {
   "cell_type": "code",
   "execution_count": null,
   "id": "78d15bbe",
   "metadata": {},
   "outputs": [],
   "source": [
    "# 연도별 탄소배출량 시각화\n",
    "\n",
    "# 12달 미만인 연도 제외\n",
    "latestYear <- max(totalEmission$year)\n",
    "latestMonth <- str_sub(max(totalEmission$year_month), 6, 7)\n",
    "\n",
    "if (latestMonth != '12') {\n",
    "  dt <- sumEmission_yr %>% filter(year < max(totalEmission$year))\n",
    "} else {\n",
    "  dt <- sumEmission_yr\n",
    "}\n",
    "\n",
    "plot <- plot_ly(dt, type = 'bar') %>%\n",
    "  add_trace(x=c(2018, 2050), y=c(sumEmission_yr$milCO2[which(sumEmission_yr==2018)], 2.8), \n",
    "            type='scatter', mode='lines', line=list(color='green')) %>%\n",
    "  add_trace(name='배출량', x=~year, y=~milCO2, type = 'bar', marker=list(color='orange')) %>%\n",
    "  add_trace(name='목표량', x=2050, y=2.8, type='bar', marker=list(color='green')) %>%\n",
    "  add_annotations(x=2050, y=20, text='목표\\n2.8', showarrow=F, font=list(size=20, color='green')) %>%\n",
    "  add_annotations(text=\"백만톤CO2eq\", xref=\"paper\", yref=\"paper\", \n",
    "                  x=0.03, xanchor=\"right\", y=1, yanchor=\"top\",\n",
    "                  legendtitle=TRUE, showarrow=FALSE) %>%\n",
    "  layout(xaxis = list(title=\"\"),\n",
    "         yaxis = list(title=\"\"),\n",
    "         showlegend=F)\n",
    "embed_notebook(plot)"
   ]
  },
  {
   "cell_type": "markdown",
   "id": "5de74c1b",
   "metadata": {},
   "source": [
    "![annual emission](emission_yr.png)\n",
    "2050탄소중립 시나리오 초안에 의하면, 우리나라는 2050년까지 넷제로를 달성하기 위해서는 수송부문에서 2050년까지 2.8백만 CO2eq로 줄여야합니다.\n",
    "2020년은 코로나의 여파로 전년보다 감소하였지만, 2018년부터 2050년까지 일정한 속도로 감축한다고 가정했을 때 2020년에 감축해야하는 양에는 못 미치는 것을 알 수 있습니다(2020년 배출량이 초록색 선보다 높게 나타남). 이는 향후에 감축 부담이 더 커질 수 있음을 시사합니다."
   ]
  },
  {
   "cell_type": "code",
   "execution_count": null,
   "id": "6b441094",
   "metadata": {},
   "outputs": [],
   "source": [
    "# 월별 탄소배출량 시각화\n",
    "sumEmission_m <- totalEmission %>% group_by(year_month) %>% summarize(milCO2 = sum(milCO2, na.rm=T))\n",
    "\n",
    "plot <- sumEmission_m %>%\n",
    "  plot_ly(x=~year_month, y=~milCO2, type = 'scatter', mode = 'line+marker') %>%\n",
    "  add_annotations(text=\"백만톤CO2eq\", xref=\"paper\", yref=\"paper\", \n",
    "                  x=0.03, xanchor=\"right\",\n",
    "                  y=1, yanchor=\"top\",\n",
    "                  legendtitle=TRUE, showarrow=FALSE) %>%\n",
    "  layout(xaxis = list(title=\"\"),\n",
    "         yaxis = list(title=\"\"))\n",
    "embed_notebook(plot)"
   ]
  },
  {
   "cell_type": "markdown",
   "id": "c0e3a6a4",
   "metadata": {},
   "source": [
    "![emission by month](emission_m.png)\n",
    "수송부문 탄소배출량은 월별로 편차가 큰 것을 확인할 수 있습니다. 따라서 월 배출량의 증감을 비교할 때는 전년 동월을 기준으로 계산하는 것이 적합해보입니다(예를 들어 2021년 8월 배출량은 2020년 8월과 비교해 몇 % 증가하거나 감소했는지 계산). "
   ]
  },
  {
   "cell_type": "markdown",
   "id": "0623d943",
   "metadata": {},
   "source": [
    "### 올해 누적배출량 평가\n",
    "가장 최신 데이터를 기준으로(2021년 5월) 올해 누적 배출량(2021년 1월-5월)을 계산하고, 올해의 탄소배출 상황을 평가하였습니다.\n",
    "전년도 같은 기간동안의 배출량과 비교하여, 작년보다 0.5% 이상 증가했으면 '나쁨', 작년과 비슷하면(-0.5%-0.5%) '보통', 작년보다 0.5% 이상 감소했으면 '좋음'으로 평가하였습니다.\n",
    "이러한 평가를 바탕으로 올해 남은 기간동안 배출 관리를 유연하게 대처할 수 있습니다."
   ]
  },
  {
   "cell_type": "code",
   "execution_count": 5,
   "id": "d3a6d7ae",
   "metadata": {},
   "outputs": [
    {
     "data": {
      "text/html": [
       "'올해 누적 배출량: 36.704 백만톤CO2eq. ( 05 월 기준)'"
      ],
      "text/latex": [
       "'올해 누적 배출량: 36.704 백만톤CO2eq. ( 05 월 기준)'"
      ],
      "text/markdown": [
       "'올해 누적 배출량: 36.704 백만톤CO2eq. ( 05 월 기준)'"
      ],
      "text/plain": [
       "[1] \"올해 누적 배출량: 36.704 백만톤CO2eq. ( 05 월 기준)\""
      ]
     },
     "metadata": {},
     "output_type": "display_data"
    },
    {
     "data": {
      "text/html": [
       "'작년 동월대비 2.4 %'"
      ],
      "text/latex": [
       "'작년 동월대비 2.4 \\%'"
      ],
      "text/markdown": [
       "'작년 동월대비 2.4 %'"
      ],
      "text/plain": [
       "[1] \"작년 동월대비 2.4 %\""
      ]
     },
     "metadata": {},
     "output_type": "display_data"
    },
    {
     "data": {
      "text/html": [
       "'평가 보통'"
      ],
      "text/latex": [
       "'평가 보통'"
      ],
      "text/markdown": [
       "'평가 보통'"
      ],
      "text/plain": [
       "[1] \"평가 보통\""
      ]
     },
     "metadata": {},
     "output_type": "display_data"
    }
   ],
   "source": [
    "# 교통부문 연도별 탄소배출 목표 계산하기 \n",
    "# 2050탄소중립위원회(2021.08)의 <2050 탄소중립시나리오 초안>에 제시된 넷제로 시나리오를 바탕으로 계산\n",
    "ref <- sumEmission_yr$milCO2[which(sumEmission_yr==2018)]\n",
    "target <- 2.8\n",
    "emissionTargets <- data.frame(year = c(2018:2050), \n",
    "                              target_milCO2 = seq(from=ref, to=2.8, length.out= (2050-2017)))\n",
    "\n",
    "# 올해 누적 탄소배출량 계산하기\n",
    "targetThisYear <- emissionTargets$target_milCO2[which(emissionTargets$year == latestYear)]\n",
    "\n",
    "sumEmission_now <- totalEmission %>% filter(year == latestYear) %>%\n",
    "  group_by(month) %>%\n",
    "  summarize(milCO2 = sum(milCO2, na.rm=T))\n",
    "sumEmission_now$month <- paste0(sumEmission_now$month, '월')\n",
    "\n",
    "emissionThisYear <- sum(sumEmission_now$milCO2, na.rm=T)\n",
    "\n",
    "emissionLastYear <- totalEmission %>% \n",
    "  filter(year == latestYear-1, month <= as.numeric(latestMonth)) %>%\n",
    "  summarize(milCO2 = sum(milCO2, na.rm=T)) %>%\n",
    "  pull()\n",
    "\n",
    "emissionChange <- (emissionThisYear - emissionLastYear)/emissionLastYear*100\n",
    "\n",
    "# 올해 누적배출량 평가\n",
    "if(emissionChange > 5) {\n",
    "  status <- '나쁨'\n",
    "} else if (emissionChange < -5) {\n",
    "  status <- '좋음'\n",
    "} else {\n",
    "  status <- '보통'\n",
    "}\n",
    "\n",
    "paste('올해 누적 배출량:', round(emissionThisYear, 3), '백만톤CO2eq.', '(', latestMonth, '월 기준)')\n",
    "paste('작년 동월대비', round(emissionChange, 1), '%')\n",
    "paste('평가', status)"
   ]
  },
  {
   "cell_type": "markdown",
   "id": "f9d2d2ed",
   "metadata": {},
   "source": [
    "올해 5월 기준, 올해 누적탄소배출량(2021년 1-5월 합)은 작년(2020년 1-5월 합)보다 2.4% 증가하여, '보통' 수준이라고 평가할 수 있습니다."
   ]
  },
  {
   "cell_type": "markdown",
   "id": "1e4cfa67",
   "metadata": {},
   "source": [
    "### 운송수단별 탄소배출량 계산"
   ]
  },
  {
   "cell_type": "code",
   "execution_count": null,
   "id": "8c53a723",
   "metadata": {},
   "outputs": [],
   "source": [
    "# 운송수단별 연료소비량 데이터 불러오기\n",
    "sectorUse <- data.frame()\n",
    "for (sector in c('철도', '도로', '항공', '해운')) {\n",
    "  dt <- read_xls(paste0('data/petronet/제품별산업별소비_', sector, '_201701_202107.xls'))\n",
    "  dt <- dt[grepl('월', dt$월),]\n",
    "  dt$year <- c(rep(2017, 12), rep(2018, 12), rep(2019, 12), rep(2020, 12), rep(2021, 7))\n",
    "  dt$month <- c(rep(1:12, 4), 1:7)\n",
    "  \n",
    "  dt <- dt %>%\n",
    "    select(-월, -제품, -ends_with('계')) %>%\n",
    "    pivot_longer(-c(year, month), names_to = 'fuel', values_to = 'qnt_1000bbl')\n",
    "  dt$sector <- sector\n",
    "  dt$qnt_1000bbl <- as.numeric(dt$qnt_1000bbl)\n",
    "  dt <- na.omit(dt)\n",
    "  \n",
    "  sectorUse <- rbind(sectorUse, dt)\n",
    "}\n",
    "\n",
    "sectorUse$연월 <- paste0(sectorUse$year, '-', str_pad(sectorUse$month, 2, 'left', '0'))"
   ]
  },
  {
   "cell_type": "code",
   "execution_count": null,
   "id": "60f4af3b",
   "metadata": {},
   "outputs": [],
   "source": [
    "# 운송수단별 월별 연소소비량 및 탄소배출량 계산\n",
    "emissionFactors <- read.csv('data/온실가스배출계수.csv')\n",
    "\n",
    "sectorUse_m <- sectorUse %>%\n",
    "  left_join(emissionFactors, by = c('fuel' = '구분')) %>%\n",
    "  mutate(tCO2eq = qnt_1000bbl*배럴당이산화탄소배출량.tCo2.bbl.*1000) %>%\n",
    "  group_by(연월, sector) %>%\n",
    "  summarize(qnt_1000bbl = sum(qnt_1000bbl),\n",
    "            miltCO2eq = sum(tCO2eq)/10^6)\n",
    "\n",
    "plot <- sectorUse_m %>%\n",
    "  plot_ly(x=~연월, y=~miltCO2eq, color = ~sector, type = 'scatter', mode = 'line') %>%\n",
    "  layout(xaxis = list(title=\"\"),\n",
    "         yaxis = list(title=\"백만tCO2eq\"))\n",
    "embed_notebook(plot)"
   ]
  },
  {
   "cell_type": "markdown",
   "id": "29dda08a",
   "metadata": {},
   "source": [
    "![emission by sector](emission_sector.png)\n",
    "운송수단별로 보았을 때, 도로부문(승용차, 화물트럭 등)의 이산화탄소 배출량이 가장 많고, 철도가 가장 적게 나타났습니다. 전기사용량은 포함되지 않았기 때문에 추후 전기사용량 데이터를 보완하여 총 배출량을 계산해야 합니다."
   ]
  },
  {
   "cell_type": "code",
   "execution_count": null,
   "id": "0996ff94",
   "metadata": {},
   "outputs": [],
   "source": [
    "# 최근 월의 운송수단별 탄소배출 비율\n",
    "latestYearMonth_sector <- max(sectorUse_m$연월)\n",
    "emissionThisYear_sector <- round(sum(filter(sectorUse_m, 연월 == latestYearMonth_sector)$miltCO2eq),1)\n",
    "plot <- sectorUse_m %>%\n",
    "  filter(연월 == max(sectorUse_m$연월)) %>%\n",
    "  plot_ly(labels = ~sector, values = ~miltCO2eq) %>%\n",
    "  add_pie(hole = 0.7) %>%\n",
    "  add_annotations(text = paste(emissionThisYear_sector, '\\n백만tCO2eq'),\n",
    "                  showarrow = F, font=list(size=30)) %>%\n",
    "  layout(title = paste(latestYearMonth_sector, '운송수단별 탄소배출 (백만tCO2eq)'))\n",
    "embed_notebook(plot)"
   ]
  },
  {
   "cell_type": "markdown",
   "id": "b39375c6",
   "metadata": {},
   "source": [
    "![pie chart of emission by sector](pie_sector_emission.png)"
   ]
  },
  {
   "cell_type": "markdown",
   "id": "930da0b3",
   "metadata": {},
   "source": [
    "## 1-2 감축정책 효과 평가 - 서울시 사례\n",
    "우리나라는 교통부문 온실가스 배출량을 감축하기 위해 다음과 같은 정책을 이행하거나 계획하고 있습니다(2050탄소중립시나리오 초안에서 발췌).\n",
    "- 대중교통 및 개인 모빌리티 이용 확대(자전거, 킥보드 등)\n",
    "- 화물운송수단 전환(도로 대신 철도/해운)\n",
    "- 공유차량 등으로 승용차통행량 감축\n",
    "- 전기/수소차 등 무공해차 76-97% 이상 보급\n",
    "- 바이오연료 확대 & 친환경 선박/항공기 전환\n",
    "\n",
    "그 중 비교적 데이터가 잘 구축된 **1) 통행량 감축**과 **2) 대중교통 이용 확산**을 선정해, 두 정책이 의도한 대로 진행되고 있는지, 서울시를 사례로 선정해 파악해보았습니다."
   ]
  },
  {
   "cell_type": "markdown",
   "id": "3f5f27df",
   "metadata": {},
   "source": [
    "### A. 통행량 감축 현황\n",
    "2050탄소중립시나리오 초안은 넷제로 달성을 위해 2050년까지 2018년 대비 승용차 통행량 15% 감축을 제안하고 있습니다. 아직 국가에서 정한 목표치는 없지만, 국가 비전 선언대로 2050년까지 탄소중립을 달성하는 목표를 그대로 이행한다고 가정하였습니다. 2018년 이후 서울시에서 집계된 통행량 데이터를 바탕으로 변화량과 목표량을 계산하였습니다."
   ]
  },
  {
   "cell_type": "code",
   "execution_count": null,
   "id": "ef1b6a55",
   "metadata": {},
   "outputs": [],
   "source": [
    "# 데이터 전처리\n",
    "\n",
    "traffic <- data.frame()\n",
    "for (file in list.files('data/Seoul_traffic/')) {\n",
    "  df <- read_excel(paste0('data/Seoul_traffic/', file), sheet = 2) %>%\n",
    "    select(\"일자\", \"요일\", \"지점명\", \"지점번호\", \"방향\", \"구분\", \"0시\", \"1시\", \"2시\", \"3시\", \"4시\", \"5시\", \"6시\",\n",
    "           \"7시\", \"8시\", \"9시\", \"10시\", \"11시\", \"12시\", \"13시\", \"14시\", \"15시\", \"16시\", \"17시\", \"18시\", \"19시\", \"20시\",\n",
    "           \"21시\", \"22시\", \"23시\") %>%\n",
    "    pivot_longer(ends_with('시'), names_to = '시') %>%\n",
    "    group_by(일자, 지점번호, 방향) %>%\n",
    "    summarize(avg_cars.h = mean(value, na.rm=T)) %>%\n",
    "    group_by(일자, 지점번호) %>%\n",
    "    summarize(avg_cars.h = sum(avg_cars.h, na.rm=T)) %>%\n",
    "    filter(avg_cars.h > 0)\n",
    "  \n",
    "  df$일자 <- ymd(df$일자)\n",
    "  df$연월 <- format(df$일자, \"%Y-%m\")\n",
    "  df <- df %>%\n",
    "    group_by(연월, 지점번호) %>%\n",
    "    summarize(교통량_대.시 = mean(avg_cars.h, na.rm=T))\n",
    "  traffic <- bind_rows(traffic, df)\n",
    "}"
   ]
  },
  {
   "cell_type": "code",
   "execution_count": null,
   "id": "c22a6f38",
   "metadata": {},
   "outputs": [],
   "source": [
    "# 서울시 월별 구간평균 통행량(대/시/지점)\n",
    "traffic_avg <- traffic %>% group_by(연월) %>% summarize(교통량_대.시 = mean(교통량_대.시, na.rm=T))\n",
    "\n",
    "# 2018년 통행량 대비 증감률 계산\n",
    "traffic_avg <- traffic_avg %>%\n",
    "  separate(col='연월', into = c('연도', '월'), sep = '-', remove=F)\n",
    "\n",
    "traffic_2018 <- filter(traffic_avg, 연도 == 2018) %>% arrange(월)\n",
    "traffic_2018_avg <- mean(traffic_2018$교통량_대.시)\n",
    "\n",
    "traffic_avg$변화량_perc <- (traffic_avg$교통량_대.시 / traffic_2018$교통량_대.시[as.numeric(traffic_avg$월)]-1)*100\n",
    "\n",
    "# 최근 월 데이터 설명 텍스트\n",
    "latestMonth <- traffic_avg %>% arrange(연월) %>% tail(1)\n",
    "\n",
    "if (latestMonth$변화량_perc > 0) {\n",
    "  change <- '증가'\n",
    "} else {\n",
    "  change <- '감소'\n",
    "}\n",
    "\n",
    "summary <- paste0(latestMonth$연도, '년 ', latestMonth$월, '월 통행량: ',\n",
    "                  format(round(latestMonth$교통량_대.시, 0), big.mark=','), '대/시간\\n',\n",
    "                  '2018년 ', latestMonth$월, '월 대비 <b>', round(abs(latestMonth$변화량_perc), 1), '% ', change, '</b>')\n",
    "\n",
    "traffic_avg$날짜 <- as.Date(paste0(traffic_avg$연월, \"-01\"), '%Y-%m-%d') # 시각화 위해 임의 날짜 설정\n",
    "\n",
    "# 시각화\n",
    "plot <- traffic_avg %>%\n",
    "  plot_ly(x=~날짜, y=~교통량_대.시, type = 'scatter', mode = 'lines') %>%\n",
    "  add_lines(x=c('2018-01-01', '2050-01-01'), y=c(traffic_2018_avg, traffic_2018_avg*0.85)) %>%\n",
    "  add_markers(x=latestMonth$연월, y=latestMonth$교통량_대.시, size = 10) %>%\n",
    "  add_annotations(text = summary, font = list(size = 20), color = 'green',\n",
    "                  x=latestMonth$연월, xanchor=\"left\",\n",
    "                  y=latestMonth$교통량_대.시, yanchor=\"bottom\",\n",
    "                  arrowhead = 0, ax = 50, ay = -50, arrowcolor = \"green\",\n",
    "                  legendtitle=TRUE, showarrow=T) %>%\n",
    "  layout(showlegend = F,\n",
    "         xaxis = list(title=\"\"),\n",
    "         yaxis = list(title=\"구간평균 통행량(차량수/시간)\"))\n",
    "embed_notebook(plot)"
   ]
  },
  {
   "cell_type": "markdown",
   "id": "7cc6c6f6",
   "metadata": {},
   "source": [
    "![traffic trend](seoul_traffic_trend.png)\n",
    "코로나의 영향으로 2020년 이후 도로 통행량이 감소한 것으로 나타났습니다."
   ]
  },
  {
   "cell_type": "code",
   "execution_count": null,
   "id": "0d15576a",
   "metadata": {},
   "outputs": [],
   "source": [
    "# 통행 밀집 지역 시각화\n",
    "\n",
    "# 측정지점 데이터 불러오기\n",
    "roads <- read_excel('data/Seoul_traffic/서울시_지점별일자별교통량_202106.xlsx', sheet = 3, col_types = 'text')\n",
    "\n",
    "# 위치데이터와 통행량 데이터 합치기\n",
    "dt <- traffic %>% \n",
    "  left_join(select(roads, 지점번호, 지점명칭, 위도, 경도))\n",
    "dt$위도 <- as.numeric(dt$위도)\n",
    "dt$경도 <- as.numeric(dt$경도)\n",
    "dt$scale <- scale(dt$교통량_대.시)\n",
    "\n",
    "# 지도에 표시하기\n",
    "m <- dt %>%\n",
    "  leaflet() %>%\n",
    "  setView(lng=126.9784, lat=37.566, zoom=11) %>%\n",
    "  addTiles() %>%\n",
    "  addHeatmap(lng=~경도, lat=~위도, intensity = ~scale, \n",
    "             blur=20, max=2, radius=20, minOpacity = 0.5) %>%\n",
    "  addCircleMarkers(lng=~경도, lat=~위도, radius = 10, stroke = F, label = ~지점명칭, fillOpacity = 0)"
   ]
  },
  {
   "cell_type": "markdown",
   "id": "a6fe87e1",
   "metadata": {},
   "source": [
    "![image](seoul_traffic.png)"
   ]
  },
  {
   "cell_type": "code",
   "execution_count": null,
   "id": "ccf4d490",
   "metadata": {},
   "outputs": [],
   "source": [
    "# 교통량이 가장 많이 감소한 도로와 가장 많이 증가한 지역 찾기\n",
    "\n",
    "lastYear <- strftime(ym(max(traffic$연월))-years(1), '%Y-%m')\n",
    "dt <- traffic %>%\n",
    "    filter(연월 %in% c(max(traffic$연월), lastYear)) %>%\n",
    "    pivot_wider(names_from=연월, values_from=교통량_대.시)\n",
    "\n",
    "names(dt) <- c('지점번호', '작년교통량', '올해교통량')\n",
    "\n",
    "dt <- dt %>%\n",
    "    mutate(교통량변화_perc = (올해교통량 - 작년교통량) / 작년교통량 *100) %>% # 작년 동월 대비 교통량변화(%) 계산하기\n",
    "    left_join(select(roads, 지점번호, 지점명칭, 위도, 경도)) %>% # 위치데이터와 통행량 데이터 합치기\n",
    "    filter(!is.na(교통량변화_perc)) # 신규 교통수집지점 발생 등으로 인해 교통량변화가 계산되지 않은 도로 제외\n",
    "    \n",
    "dt$위도 <- as.numeric(dt$위도)\n",
    "dt$경도 <- as.numeric(dt$경도)\n",
    "\n",
    "# 교통량 최다증가 도로 top5\n",
    "head(dt %>% arrange(교통량변화_perc), 5)\n",
    "\n",
    "# 교통량 최다감소 도로 top5\n",
    "head(dt %>% arrange(desc(교통량변화_perc)), 5)"
   ]
  },
  {
   "cell_type": "code",
   "execution_count": null,
   "id": "ca06fee6",
   "metadata": {},
   "outputs": [],
   "source": [
    "# 교통량변화 지도에 표시하기\n",
    "m <- dt %>%\n",
    "  leaflet() %>%\n",
    "  setView(lng=126.9784, lat=37.566, zoom=11) %>%\n",
    "  addTiles() %>%\n",
    "  addHeatmap(lng=~경도, lat=~위도, intensity = ~교통량변화_perc, \n",
    "             blur=20, max=2, radius=20, minOpacity = 0.5) %>%\n",
    "  addCircleMarkers(lng=~경도, lat=~위도, radius = 10, stroke = F, label = ~지점명칭, fillOpacity = 0)"
   ]
  },
  {
   "cell_type": "markdown",
   "id": "7d4282aa",
   "metadata": {},
   "source": [
    "![seoul traffic change](seoul_traffic_change.png)"
   ]
  },
  {
   "cell_type": "markdown",
   "id": "cbb79372",
   "metadata": {},
   "source": [
    "통행량 증감 데이터를 바탕으로, 통행량이 증가한 지역을 위주로 감축이 잘 이루어지지 않은 원인을 조사하고, 해당 지역에 대해 집중적으로 카풀 등 비지니스 서비스나 대중교통 및 개인모빌리티 정책을 개선해볼 수 있을 것입니다."
   ]
  },
  {
   "cell_type": "markdown",
   "id": "ed584dcb",
   "metadata": {},
   "source": [
    "### B. 대중교통 확산 현황: 버스&지하철\n"
   ]
  },
  {
   "cell_type": "markdown",
   "id": "54c66f7e",
   "metadata": {},
   "source": [
    "### 버스 일평균 승차인원"
   ]
  },
  {
   "cell_type": "code",
   "execution_count": null,
   "id": "9aac87ce",
   "metadata": {},
   "outputs": [],
   "source": [
    "# 서울시 버스 승하차 승객수 데이터 불러오기 및 전처리\n",
    "bus <- data.frame()\n",
    "for (file in list.files('data/Seoul_bus/')) {\n",
    "  df <- read.csv(paste0('data/Seoul_bus/', file), fileEncoding = 'EUC-KR',\n",
    "                 col.names = c(\"일자\", \"노선번호\", \"노선명\", \"버스정류장ARS번호\", \"역명\", \n",
    "                 \"승차총승객수\", \"하차총승객수\", \"등록일자\"))\n",
    "  df$일자 <- ymd(df$일자)\n",
    "  df$연월 <- format(df$일자, \"%Y-%m\")\n",
    "  df <- df %>%\n",
    "    group_by(연월, 일자, 버스정류장ARS번호) %>%\n",
    "    summarize(승차총승객수 = sum(승차총승객수, na.rm=T),\n",
    "              하차총승객수 = sum(하차총승객수, na.rm=T)) %>%\n",
    "    group_by(연월, 버스정류장ARS번호) %>%\n",
    "    summarize(일평균승차승객수 = mean(승차총승객수, na.rm=T),\n",
    "              일평균하차승객수 = mean(하차총승객수, na.rm=T)) %>%\n",
    "    ungroup()\n",
    "  \n",
    "  bus <- rbind(bus, df)\n",
    "}\n",
    "bus$버스정류장ARS번호 <- str_pad(bus$버스정류장ARS번호, 5, 'left', '0')\n",
    "\n",
    "# 버스정류소 좌표 데이터 불러오기 및 전처리\n",
    "busstops <- read.csv('data/서울시버스정류소좌표데이터(2021.01.14.).csv', \n",
    "                     fileEncoding = 'EUC-KR')\n",
    "busstops$ARS.ID <- str_pad(busstops$ARS.ID, 5, 'left', '0')"
   ]
  },
  {
   "cell_type": "code",
   "execution_count": null,
   "id": "dc2b2e91",
   "metadata": {},
   "outputs": [],
   "source": [
    "# 월별 버스 승차인원 변화\n",
    "\n",
    "bus_avg <- bus %>% group_by(연월) %>% \n",
    "  summarize(일평균승차승객수 = sum(일평균승차승객수, na.rm=T))\n",
    "\n",
    "plot <- bus_avg %>%\n",
    "  plot_ly(x=~연월, y=~일평균승차승객수/10^6, type = 'scatter', mode= 'lines+markers',\n",
    "          marker = list(size=10)) %>%\n",
    "  layout(xaxis = list(title=\"\"),\n",
    "         yaxis = list(title=\"일평균 승차승객 수(백만 명)\"))\n",
    "embed_notebook(plot)"
   ]
  },
  {
   "cell_type": "markdown",
   "id": "7c447a79",
   "metadata": {},
   "source": [
    "![bus trend](seoul_bus_trend.png)\n",
    "2018-2019년 사이에는 버스 승차 수가 일정한 수준으로 유지되다가 2020년 코로나 이후 현저하게 감소한 것을 확인할 수 있습니다."
   ]
  },
  {
   "cell_type": "code",
   "execution_count": null,
   "id": "f4749885",
   "metadata": {},
   "outputs": [],
   "source": [
    "# 버스 승차인원 증감율 계산\n",
    "thisYear <- max(bus$연월)\n",
    "lastYear <- strftime(ym(thisYear)-years(1), '%Y-%m')\n",
    "\n",
    "num_thisYear <- bus_avg$일평균승차승객수[which(bus_avg$연월 == thisYear)]\n",
    "num_lastYear <- bus_avg$일평균승차승객수[which(bus_avg$연월 == lastYear)]\n",
    "\n",
    "change <- (num_thisYear - num_lastYear)/num_lastYear*100\n",
    "change"
   ]
  },
  {
   "cell_type": "markdown",
   "id": "13076bd9",
   "metadata": {},
   "source": [
    "올해 최근(2021년 7월) 버스 승차인원은 작년 동월 대비 11.3% 감소했습니다."
   ]
  },
  {
   "cell_type": "code",
   "execution_count": null,
   "id": "b06915d4",
   "metadata": {},
   "outputs": [],
   "source": [
    "# 버스이용 현황 지도에 표시하기\n",
    "\n",
    "# 최근 월 데이터 추출하기\n",
    "bus_now <- bus %>% \n",
    "  filter(연월 %in% c(thisYear, lastYear)) %>%\n",
    "  pivot_longer(starts_with('일평균'), names_to = '구분', values_to = '일평균승객수') %>%\n",
    "  pivot_wider(names_from = 연월, values_from = 일평균승객수)\n",
    "names(bus_now) <- c('버스정류장ARS번호', '구분', '작년', '올해')\n",
    "bus_now <- bus_now %>% \n",
    "  filter(올해 > 0) %>%\n",
    "  mutate(변화율 = (올해 - 작년)/작년*100) %>%\n",
    "  left_join(busstops, by = c('버스정류장ARS번호' = 'ARS.ID'))\n",
    "\n",
    "# 정류소별 일평균 승차승객수 히트맵\n",
    "m__on <- bus_now %>%\n",
    "  filter(구분 == '일평균승차승객수') %>%\n",
    "  na.omit() %>% # 위치정보가 제공되지 않은 일부 버스정류장은 분석에서 제외\n",
    "  leaflet() %>%\n",
    "  setView(lng=126.9784, lat=37.566, zoom=11) %>%\n",
    "  addTiles() %>%\n",
    "  addHeatmap(lng=~X좌표, lat=~Y좌표, intensity = ~올해,\n",
    "             blur=15, max=7000, radius=10, minOpacity = 0.5) %>%\n",
    "  addCircleMarkers(lng=~X좌표, lat=~Y좌표, label = ~정류소명,\n",
    "                   radius = 10, stroke = F,  fillOpacity = 0)\n",
    "\n",
    "# 정류소별 일평균 하차승객수 히트맵\n",
    "m_off <- bus_now %>%\n",
    "  filter(구분 == '일평균하차승객수') %>%\n",
    "  na.omit() %>% # 위치정보가 제공되지 않은 일부 버스정류장은 분석에서 제외\n",
    "  leaflet() %>%\n",
    "  setView(lng=126.9784, lat=37.566, zoom=11) %>%\n",
    "  addTiles() %>%\n",
    "  addHeatmap(lng=~X좌표, lat=~Y좌표, intensity = ~올해,\n",
    "             blur=15, max=7000, radius=10, minOpacity = 0.5) %>%\n",
    "  addCircleMarkers(lng=~X좌표, lat=~Y좌표, label = ~정류소명,\n",
    "                   radius = 10, stroke = F,  fillOpacity = 0)"
   ]
  },
  {
   "cell_type": "markdown",
   "id": "68473ad1",
   "metadata": {},
   "source": [
    "#### 서울 정류소별 일평균 승차승객수 히트맵\n",
    "![서울버스_승차](seoul_bus_on.png)\n",
    "\n",
    "#### 서울 정류소별 일평균 하차승객수 히트맵\n",
    "![서울버스_승차](seoul_bus_off.png)\n",
    "\n",
    "두 지도를 비교하였을 때 승차와 하차 수의 지역적 분포가 비슷함을 알 수 있습니다."
   ]
  },
  {
   "cell_type": "code",
   "execution_count": null,
   "id": "dc8fb590",
   "metadata": {},
   "outputs": [],
   "source": [
    "# 버스 이용객이 가장 많이 증가하거나 감소한 지역 찾기\n",
    "bus_rank <- bus_now %>%\n",
    "    select(버스정류장ARS번호, 구분, 작년, 올해) %>%\n",
    "    group_by(버스정류장ARS번호) %>%\n",
    "    summarize(작년동월이용객수 = sum(작년, na.rm=T),\n",
    "              이번달이용객수 = sum(올해, na.rm=T)) %>%\n",
    "    mutate(변화율 = (이번달이용객수-작년동월이용객수)/작년동월이용객수*100,\n",
    "           변화수 = 이번달이용객수-작년동월이용객수) %>%\n",
    "    left_join(busstops, by = c('버스정류장ARS번호' = 'ARS.ID'))\n",
    "    \n",
    "\n",
    "# 이용객수 최다 증가 정류장 top5\n",
    "bus_rank %>%\n",
    "    select(정류소명, 버스정류장ARS번호, 이번달이용객수, 작년동월이용객수, 변화수, 변화율) %>% \n",
    "    filter(변화율 < Inf) %>%\n",
    "    arrange(desc(변화수)) %>%\n",
    "    head(5)"
   ]
  },
  {
   "cell_type": "code",
   "execution_count": null,
   "id": "c2b1c339",
   "metadata": {},
   "outputs": [],
   "source": [
    "# 이용객수 최다 감소 정류장 top5\n",
    "bus_rank %>%\n",
    "    select(정류소명, 버스정류장ARS번호, 이번달이용객수, 작년동월이용객수, 변화수, 변화율) %>% \n",
    "    na.omit() %>% # 정류소명 정보를 찾을 수 없는 데이터는 제외\n",
    "    arrange(변화수) %>%\n",
    "    head(5)"
   ]
  },
  {
   "cell_type": "code",
   "execution_count": null,
   "id": "597c1cdc",
   "metadata": {},
   "outputs": [],
   "source": [
    "# 버스 이용객 변화 지도에 나타내기\n",
    "m <- bus_rank %>%\n",
    "  na.omit() %>% # 위치정보가 제공되지 않은 일부 버스정류장은 분석에서 제외\n",
    "  filter(변화율 < Inf) %>%\n",
    "  leaflet() %>%\n",
    "  setView(lng=126.9784, lat=37.566, zoom=11) %>%\n",
    "  addTiles() %>%\n",
    "  addHeatmap(lng=~X좌표, lat=~Y좌표, intensity = ~변화수,\n",
    "             blur=15, max=500, radius=10, minOpacity = 0.5) %>%\n",
    "  addCircleMarkers(lng=~X좌표, lat=~Y좌표, label = ~정류소명,\n",
    "                   radius = 10, stroke = F,  fillOpacity = 0)"
   ]
  },
  {
   "cell_type": "markdown",
   "id": "12b80d7d",
   "metadata": {},
   "source": [
    "![seoul_bus_change](seoul_bus_change.png)\n",
    "\n",
    "여의도, 연남동, 동대문, 회기동 등지에서 버스 이용객 수가 증가한 것을 볼 수 있습니다."
   ]
  },
  {
   "cell_type": "markdown",
   "id": "4d8fdcf9",
   "metadata": {},
   "source": [
    "### 지하철 일평균 이용현황"
   ]
  },
  {
   "cell_type": "code",
   "execution_count": null,
   "id": "a8652e9e",
   "metadata": {},
   "outputs": [],
   "source": [
    "# 서울시 지하철  승하차 인원 데이터 불러오기\n",
    "metro <- read.csv('data/서울시 지하철 호선별 역별 시간대별 승하차 인원 정보.csv', \n",
    "                  fileEncoding = 'EUC-KR') %>%\n",
    "  pivot_longer(starts_with('X'), names_to='시간', values_to='인원')\n",
    "metro$구분 <- NA\n",
    "metro$구분[grep('승차', metro$시간)] <- '승차'\n",
    "metro$구분[grep('하차', metro$시간)] <- '하차'\n",
    "\n",
    "metro <- metro %>%\n",
    "  group_by(연월 = 사용월, 호선명, 지하철역, 구분) %>%\n",
    "  summarize(인원 = sum(인원, na.rm=T)) %>%\n",
    "  ungroup()\n",
    "metro$연월 <- ym(metro$연월)"
   ]
  },
  {
   "cell_type": "code",
   "execution_count": null,
   "id": "82066342",
   "metadata": {},
   "outputs": [],
   "source": [
    "# 월별 승차인원\n",
    "metro_avg <- metro %>%\n",
    "  filter(구분 == '승차') %>%\n",
    "  group_by(연월) %>%\n",
    "  summarize(인원 = sum(인원, na.rm=T))\n",
    "\n",
    "plot <- metro_avg %>%\n",
    "  plot_ly(x=~연월, y=~인원/10^6, type = 'scatter', mode= 'lines+markers',\n",
    "          marker = list(size=10)) %>%\n",
    "  layout(xaxis = list(title=\"\"),\n",
    "         yaxis = list(title=\"월별승차인원(백만 명)\"))\n",
    "embed_notebook(plot)"
   ]
  },
  {
   "cell_type": "markdown",
   "id": "7af99ead",
   "metadata": {},
   "source": [
    "![metro trend](seoul_metro_trend.png)\n",
    "버스와 마찬가지로 2020년 이전까지는 사용객 수가 큰 변화없이 유지되다가 2020년 코로나 이후 감소한 이래 일정 수준을 유지하고 있음을 확인할 수 있습니다."
   ]
  },
  {
   "cell_type": "code",
   "execution_count": null,
   "id": "26aad1b1",
   "metadata": {},
   "outputs": [],
   "source": [
    "# 지하철 승차인원 증감율 계산\n",
    "thisYear <- max(metro$연월)\n",
    "lastYear <- strftime(thisYear-years(1))\n",
    "\n",
    "num_thisYear <- metro_avg$인원[which(metro_avg$연월 == thisYear)]\n",
    "num_lastYear <- metro_avg$인원[which(metro_avg$연월 == lastYear)]\n",
    "\n",
    "change <- (num_thisYear - num_lastYear)/num_lastYear*100\n",
    "change"
   ]
  },
  {
   "cell_type": "markdown",
   "id": "103e613c",
   "metadata": {},
   "source": [
    "최근(2021년 7월) 지하철 승차 수는 전년 동월 대비 약 13% 감소하여, 버스 이용객 수와 비슷한 수준으로 감소하였습니다."
   ]
  },
  {
   "cell_type": "code",
   "execution_count": null,
   "id": "6c5c853d",
   "metadata": {},
   "outputs": [],
   "source": [
    "# 지하철 이용 현황 지도에 표시하기\n",
    "\n",
    "# 지하철 주소 데이터 불러오기 및 전처리\n",
    "metroAddress <- read.csv('data/전국도시철도역사정보표준데이터.csv',\n",
    "                         fileEncoding = 'EUC-KR') %>%\n",
    "  filter(운영기관명 %in% c(\"서울교통공사\", \"한국철도공사\", \"인천교통공사\")) #  수도권 지역으로  제한\n",
    "metroAddress$역사명 <- paste0(metroAddress$역사명, ' ') # 이하 지하철 승차인원 데이터의 지하철역과 통일시키기 위한 전처리\n",
    "metroAddress$역사명 <- str_replace(metroAddress$역사명, '역 ', ' ')  \n",
    "metroAddress$역사명 <- str_replace(metroAddress$역사명, ' ', '')\n",
    "ind <- which(metroAddress$역사명 == '서울')\n",
    "metroAddress$역사명[ind] <- '서울역'\n",
    "metroAddress <- separate(metroAddress, 역사명, c('역사명', 'etc'), '\\\\(')\n",
    "metroAddress <- metroAddress %>%\n",
    "  group_by(역사명) %>%\n",
    "  summarize(역위도=mean(역위도), 역경도=mean(역경도))\n",
    "\n",
    "# 최근 월 데이터 추출하기\n",
    "metro_now <- metro %>% \n",
    "  filter(연월 == thisYear | 연월 == lastYear) %>%\n",
    "  separate(지하철역, c('지하철역', 'etc'), '\\\\(') %>%\n",
    "  group_by(연월, 지하철역, 구분) %>%\n",
    "  summarize(인원 = sum(인원)) %>%\n",
    "  pivot_wider(names_from = 연월, values_from = 인원)\n",
    "names(metro_now) <- c('지하철역', '구분', '작년', '올해')\n",
    "metro_now <- metro_now %>% \n",
    "  filter(올해 > 0) %>%\n",
    "  mutate(변화율 = (올해 - 작년)/작년*100,\n",
    "         변화수 = 올해 - 작년) %>%\n",
    "  left_join(metroAddress, by = c('지하철역'='역사명'))"
   ]
  },
  {
   "cell_type": "code",
   "execution_count": null,
   "id": "3cbcaeac",
   "metadata": {},
   "outputs": [],
   "source": [
    "# 지하철역별 월간 승차승객수 히트맵\n",
    "m__on <- metro_now %>%\n",
    "  filter(구분 == '승차') %>%\n",
    "  na.omit() %>% # 위치정보가 제공되지 않은 일부 지하철역은 분석에서 제외\n",
    "  leaflet() %>%\n",
    "  setView(lng=126.9784, lat=37.566, zoom=11) %>%\n",
    "  addTiles() %>%\n",
    "  addHeatmap(lng=~역경도, lat=~역위도, intensity = ~올해,\n",
    "             blur=15, max=10^6, radius=10, minOpacity = 0.5) %>%\n",
    "  addCircleMarkers(lng=~역경도, lat=~역위도, label = ~지하철역,\n",
    "                   radius = 10, stroke = F,  fillOpacity = 0)\n",
    "\n",
    "# 지하철역별 월간 하차승객수 히트맵\n",
    "m__off <- metro_now %>%\n",
    "  filter(구분 == '하차') %>%\n",
    "  na.omit() %>% # 위치정보가 제공되지 않은 일부 지하철역은 분석에서 제외\n",
    "  leaflet() %>%\n",
    "  setView(lng=126.9784, lat=37.566, zoom=11) %>%\n",
    "  addTiles() %>%\n",
    "  addHeatmap(lng=~역경도, lat=~역위도, intensity = ~올해,\n",
    "             blur=15, max=10^6, radius=10, minOpacity = 0.5) %>%\n",
    "  addCircleMarkers(lng=~역경도, lat=~역위도, label = ~지하철역,\n",
    "                   radius = 10, stroke = F,  fillOpacity = 0)"
   ]
  },
  {
   "cell_type": "markdown",
   "id": "6550f7ce",
   "metadata": {},
   "source": [
    "#### 서울 지하철 월간 승차승객수 히트맵\n",
    "![서울지하철_승차](seoul_metro_on.png)\n",
    "\n",
    "#### 서울 지하철 월간 하차승객수 히트맵\n",
    "![서울지하철_승차](seoul_metro_off.png)\n",
    "\n",
    "두 지도를 비교하였을 때 버스와 마찬가지로 승차와 하차 수의 지역적 분포가 비슷함을 알 수 있습니다. 또한 이용객 수가 종로-을지로 부근에 밀집되어 있음을 보입니다."
   ]
  },
  {
   "cell_type": "code",
   "execution_count": null,
   "id": "f9e7499b",
   "metadata": {},
   "outputs": [],
   "source": [
    "# 지하철 이용객이 가장 많이 증가하거나 감소한 지역 찾기\n",
    "metro_rank <- metro_now %>%\n",
    "    select(지하철역, 구분, 작년, 올해) %>%\n",
    "    group_by(지하철역) %>%\n",
    "    summarize(작년동월이용객수 = sum(작년, na.rm=T),\n",
    "              이번달이용객수 = sum(올해, na.rm=T)) %>%\n",
    "    mutate(변화율 = (이번달이용객수-작년동월이용객수)/작년동월이용객수*100,\n",
    "           변화수 = 이번달이용객수-작년동월이용객수) %>%\n",
    "    left_join(metroAddress, by = c('지하철역'='역사명'))\n",
    "    \n",
    "# 이용객수 최다 증가 정류장 top5\n",
    "metro_rank %>%\n",
    "    select(지하철역, 이번달이용객수, 작년동월이용객수, 변화수, 변화율) %>% \n",
    "    filter(변화율 < Inf) %>%\n",
    "    arrange(desc(변화수)) %>%\n",
    "    head(5)# 버스 이용객이 가장 많이 증가하거나 감소한 지역 찾기"
   ]
  },
  {
   "cell_type": "code",
   "execution_count": null,
   "id": "ff3d235c",
   "metadata": {},
   "outputs": [],
   "source": [
    "# 이용객수 최다 감소감소 정류장 top5\n",
    "metro_rank %>%\n",
    "    select(지하철역, 이번달이용객수, 작년동월이용객수, 변화수, 변화율) %>% \n",
    "    filter(변화율 < Inf) %>%\n",
    "    arrange(변화수) %>%\n",
    "    head(5)"
   ]
  },
  {
   "cell_type": "code",
   "execution_count": null,
   "id": "fa2ddebc",
   "metadata": {},
   "outputs": [],
   "source": [
    "# 지하철 이용객 변화 지도에 나타내기\n",
    "m <- metro_rank %>%\n",
    "  na.omit() %>% # 위치정보가 제공되지 않은 일부 버스정류장은 분석에서 제외\n",
    "  filter(변화율 < Inf) %>%\n",
    "  leaflet() %>%\n",
    "  setView(lng=126.9784, lat=37.566, zoom=11) %>%\n",
    "  addTiles() %>%\n",
    "  addHeatmap(lng=~역경도, lat=~역위도, intensity = ~변화수,\n",
    "             blur=15, max=max(metro_rank$변화수), radius=10, minOpacity = 0.5) %>%\n",
    "  addCircleMarkers(lng=~역경도, lat=~역위도, label = ~지하철역,\n",
    "                   radius = 10, stroke = F,  fillOpacity = 0)"
   ]
  },
  {
   "cell_type": "markdown",
   "id": "d5b44cb8",
   "metadata": {},
   "source": [
    "#### 수도권 지하철 이용객 변화 히트맵\n",
    "![수도권 지하철 이용객 변화](seoul_metro_change.png)\n",
    "\n"
   ]
  },
  {
   "cell_type": "markdown",
   "id": "a66dcb28",
   "metadata": {},
   "source": [
    "### 통행량과 대중교통, 자전거 이용률의 상관관계\n",
    "2050탄소감축 시나리오 초안에 따르면 대중교통 이용 확산을 통해 도로 통행량을 줄일 것을 탄소 감축 전략 중 하나로 제안하고 있습니다. 실제로 과거 퉁행량과 대중교통 이용량이 음의 상관관계를 보이는지 확인해보았습니다."
   ]
  },
  {
   "cell_type": "code",
   "execution_count": null,
   "id": "61eb700d",
   "metadata": {},
   "outputs": [],
   "source": [
    "# 교통량, 버스승객수, 지하철승객수 간 상관관계 분석\n",
    "dt <- full_join(select(traffic_avg, 연월, 교통량 = 교통량_대.시), \n",
    "                select(bus_avg, 연월, 버스승객수 = 일평균승차승객수)) %>%\n",
    "  full_join(select(metro_avg, 연월, 지하철승객수 = 인원)) %>%\n",
    "  full_join(sumEmission_m)\n",
    "\n",
    "pairs(dt[, 2:5])"
   ]
  },
  {
   "cell_type": "markdown",
   "id": "793df4ce",
   "metadata": {},
   "source": [
    "![correlation](cor.png)\n",
    "도로 교통량과 버스승객수, 지하철승객수는 서로 양의 상관관계를 보이는 것으로 나타났습니다. 이는 대중교통 이용객 수가 늘면 그만큼 통행량이 감소할 것이라고 예상하기 어려우며, 대중교통 이용객 수의 증가를 자가용->대중교통 전환의 지표로 사용할 수 없음을 시사합니다. 사람들의 활동량의 변화에 따라 교통량과 대중교통이 함께 증가하거나 감소하는 경향을 따를 가능성이 있습니다."
   ]
  },
  {
   "cell_type": "markdown",
   "id": "8ba1e310",
   "metadata": {},
   "source": [
    "# 2. 데이터보드 활용방안\n",
    "앞서 교통부문 탄소배출량을 계산할 수 있는 공공데이터를 탐색하고 계산식을 검증해보았습니다.  또한 서울시를 사례로, 도로부문 탄소감축 전략인 1) 통행량 감축과 2) 대중교통 이용 확산 현황을 다양하게 시각화해보고 평가해보았습니다\n",
    "\n",
    "이를 바탕으로 다음과 같은 데이터보드를 구상했습니다.\n",
    "\n",
    "![databoard](databoard_explained.png)\n",
    "\n",
    "#### 세션1: 감축현황\n",
    "월단위로 최근의 탄소배출량 현황과 목표달성율을 직관적으로 보여줍니다. 연간데이터, 월별그래프, 연료별/운송수단별 차트 등 다양한 정보를 한눈에 탐색할 수 있습니다. 또한 기존 다른 데이터보드나 웹사이트들과의 연계를 통해 이들의 접근성을 높여줍니다.\n",
    "\n",
    "#### 세션2: 정책성과\n",
    "전국 또는 지역별로 주요 감축 정책의 결과를 모니터링합니다. 왼편에는 주요 감축정책의 목표달성도를 나쁨-보통-좋음 단계로 표시하고, 오른편에는 정책별로 월별 변화, 핫스팟지도 등 시각화자료를 확인할 수 있습니다.\n",
    "\n",
    "#### 세션3: 작당모의\n",
    "탄소감축이 더디다? 오히려 증가했다? 그럼 어떻게 해야할까요? 작당모의 탭을 클릭합니다. 데이터를 보고 답답한 마음을 '작당모의' 오픈챗 사람들과 나누고 정보를 공유합니다.\n",
    "페이지에는 정부, 비지니스, 시민단체 등에서 시도하고 있는 여러가지 제로탄소 프로젝트들을 탐색하고 참여할 수 있습니다.\n",
    "이를 통해 정부는 기존의 정책을 홍보할 수 있고, 기업은 탄소감축을 돕는 사업을 시작하거나 홍보할 수 있고, 시민단체에서는 탄소 목표 달성을 돕는 다양한 캠페인을 전개할 수 있습니다.\n",
    "\n",
    "## 기대효과\n",
    "* 시시각각 변하는 탄소 정세에 **즉각 대응**할 수 있습니다\n",
    "    + 최신데이터로 빠른 탄소 모니터링\n",
    "    + 정책, 비지니스, 캠페인 등의 감축 영향을 확인\n",
    "    + 이러한 빠른 대응은 전략의 유연한 수정을 도와 목표달성에 기여\n",
    "    \n",
    "* 여기저기 퍼져있는 정보를 **한눈에** 볼 수 있습니다.\n",
    "    + 여러 부처 홈페이지에 퍼져있는 탄소관련 다양한 데이터를 한 곳에서 직관적으로 확인\n",
    "    + 기존 대시보드, 웹사이트 등을 연결해 정보 접근성을 높임\n",
    "    \n",
    "* 데이터를 **변화**로 잇는 플랫폼을 제공합니다.\n",
    "    + 탄소배출량 변화에 대해 사람들이 소통하고 생각을 키워나가는 기회를 제공\n",
    "    + 국민은 데이터를 바탕으로 상황에 맞는 정책을 요구하거나 시민운동, 스타트업을 기획할 수 있음\n",
    "    \n",
    "\n",
    "대시보드는 현재 R Shiny로 구현 중이며, 가까운 시일 내에 시범운영할 예정입니다\n",
    "\n",
    "\n",
    "## 탄소중립, 계획만 말고 바로 이행하도록\n",
    "# [탄소 보는 눈]이 지켜보겠습니다\n",
    "\n",
    "\n",
    "----\n",
    "본 저작물의 저작권은 Apache License v2.0을 따릅니다"
   ]
  }
 ],
 "metadata": {
  "kernelspec": {
   "display_name": "R",
   "language": "R",
   "name": "ir"
  },
  "language_info": {
   "codemirror_mode": "r",
   "file_extension": ".r",
   "mimetype": "text/x-r-source",
   "name": "R",
   "pygments_lexer": "r",
   "version": "3.6.1"
  }
 },
 "nbformat": 4,
 "nbformat_minor": 5
}
