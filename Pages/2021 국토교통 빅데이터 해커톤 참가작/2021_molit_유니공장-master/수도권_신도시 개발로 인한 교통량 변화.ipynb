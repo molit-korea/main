{
 "cells": [
  {
   "cell_type": "markdown",
   "id": "3cca352e",
   "metadata": {},
   "source": [
    "# [0] 소개. 분석 배경과 과정"
   ]
  },
  {
   "cell_type": "markdown",
   "id": "d459cf3c",
   "metadata": {},
   "source": [
    "### 분석 배경과 이유"
   ]
  },
  {
   "cell_type": "markdown",
   "id": "57d0f7af",
   "metadata": {},
   "source": [
    "* 서울시는 십 수년에 걸쳐 고질적인 교통체증에 시달리고 있고 이제는 출퇴근 시간의 몇몇 특정한 도로를 넘어 거의 모든 시간에 걸쳐 모든 자동차도로에서 심각한 체증이 유발되고 있다.\n",
    "* 서울시내의 수많은 재개발 사업으로 인한 인구 밀집도 증가와 2000년대 초반부터 시작된 경기도의 신도시 개발로 인해 서울과 경기를 연결짓는 도로들 또한 교통 통행량이 비약적으로 증가하였다.\n",
    "* 경기권에서의 외곽순환 고속도로 개발이 지속적으로 진행중이고 서울과 경기를 오가는 다양한 고속도로가 생겼음에도 서울시내와 서울시 외곽 도로의 교통체증은 크게 감소하지 않았다는 생각이 들었다.\n",
    "* 이에 실제로 자주 이용되는 도로에서 측정된 데이터를 보고 분석해 지난 몇년간 교통량이 어떻게 변화되었는지 측정해보고 실제로 서울시와 경기도의 거주 인구 변화량을 파악해 어느 도로가 이용량이 많고 어느 지역의 교통 체증을 해소해줘야하는지 알아보기로 하였다."
   ]
  },
  {
   "cell_type": "markdown",
   "id": "6c7c3227",
   "metadata": {},
   "source": [
    "### 분석 과정"
   ]
  },
  {
   "cell_type": "markdown",
   "id": "94609519",
   "metadata": {},
   "source": [
    "<1> 데이터 준비\n",
    "    1. 서울시 주민등록인구 (구별) 통계: 서울 열린데이터 광장 \n",
    "    2. 경기도 주민등록 인구 (시별) 통계: 경기통계 \n",
    "    3. 서울시 교통량 정보: Seoul Topis \n",
    "    4. 링크 모음\n",
    "(1)\n",
    "[서울열린데이터광장](https://data.seoul.go.kr/dataList/419/S/2/datasetView.do)\n",
    "(2)\n",
    "[경기통계](https://stat.gg.go.kr/statgg/tblInfo/TblInfoList.html)\n",
    "(3)\n",
    "[Topis](https://topis.seoul.go.kr/refRoom/openRefRoom_2.do)"
   ]
  },
  {
   "cell_type": "markdown",
   "id": "025ed730",
   "metadata": {},
   "source": [
    "<2> 데이터 전처리\n",
    "    1. R을 이용해 원본 인구데이터 csv파일과 서울시내 교통량 csv파일을 필요한 분류와 내용에 따라 전처리 작업. \n",
    "    2. 파이썬을 이용해 R에서 한번 전처리된 파일들을 시각화 용도에 맞게끔 간단한 수정 작업."
   ]
  },
  {
   "cell_type": "markdown",
   "id": "e3f10468",
   "metadata": {},
   "source": [
    "<3> 시각화 1 - 그래프\n",
    "    1. 파이썬 matplotlib을 이용해 서울시와 경기도의 인구 증감율 년도별 그래프 그리기.\n",
    "    2. 인구 증감율 그래프는 서울의 경우 구별, 경기도는 시별로 년 단위의 인구 증감율을 나타냄.\n",
    "    3. R ggplot을 이용해 서울시내 교통량 증감율 그래프 그리기.\n",
    "    4. 교통량 증감율 그래프의 경우 교통량 측정 지점별(B,C,D,F) 년 단위의 증감율을 나타냄."
   ]
  },
  {
   "cell_type": "markdown",
   "id": "28b198a3",
   "metadata": {},
   "source": [
    "<4> 시각화2 - 수도권 지도\n",
    "    1. 파이썬 folium을 이용해 서울시와 경기도를 포함한 수도권 지도 생성.\n",
    "    2. 서울시는 구 단위, 경기도는 시 단위로 polygon 좌표 연결 및 구역 나누기.\n",
    "    3. 서울시와 경기도의 인구 증감율에 따라 색깔별 명암비로 표현하기. 서울시 -> 파란색, 경기도 -> 초록색.\n",
    "    4. 서울시와 경기도 모두 2016년 - 2021년 동안의 기간을 1년 단위 지도 레이어를 생성하고 16-21년에 해당하는 5년 단위의 지도 레이어도 생성.\n",
    "    5. 서울시내 교통량 측정 데이터의 기반이 되는 측정 지점을 모두 마커로 수도권 지도에 표시하기. \n",
    "    6. 마커는 지점 번호에 따라 B,C,D,F 각 색을 부여. B -> 빨간색, C -> 보라색, D -> 연두색, F -> 하늘색.\n",
    "    7. 모든 마커는 툴팁(\"click\")이라는 문구를 포함하고 클릭시에 지점번호, 지점명, 해당하는 년도에 따른 유입과 유출 증감율을 보여줌."
   ]
  },
  {
   "cell_type": "markdown",
   "id": "2d654fde",
   "metadata": {},
   "source": [
    "<5> 시각화3 - 듀얼맵\n",
    "    1. 파이썬 folium의 dualmap을 사용해 2016-2018에 해당하는 수도권 지도와 2018-2021에 해당하는 수도권 지도 두 지도를 좌, 우로 나누어 보여줌.\n",
    "    2. 좌측 지도는 2016-2018에 해당하는 수도권 지도로써, 지도는 서울시와 경기도의 해당 3년간의 인구 증감율을 색깔별 명암비로 나타내고, 우측 지도는 2018-2021에 해당하는 수도권 지도로써 역할은 좌측과 동일함.\n",
    "    3. 좌측 지도에 있는 써클 마커는 해당 3년동안의 각 교통량 측정 지점별 가장 유입과 유출의 증가세가 컸던 지점만 선정해 나타내었고, 우측 지도의 써클 마커 또한 2018-2021에 해당하는 동일한 역할의 써클 마커 지정.\n",
    "    4. 가지고 있는 2016 - 2021년 기간의 데이터를 보다 효과적이고 직관적으로 시각화하기 위해 듀얼맵을 만들었으며, 인구와 교통량이 어떤식으로 움직이고 더 문제가 심화되었는지 한눈에 파악할 수 있음."
   ]
  },
  {
   "cell_type": "markdown",
   "id": "f526a1a3",
   "metadata": {},
   "source": [
    "# [1] 본론(1). 데이터 준비와 분석 및 시각화를 위한 전처리 (R)"
   ]
  },
  {
   "cell_type": "markdown",
   "id": "c12455e5",
   "metadata": {},
   "source": [
    "### 1-1. 외부 사이트에서 받은 서울시 지점별 통행량 데이터 합치고 정리하기"
   ]
  },
  {
   "cell_type": "code",
   "execution_count": null,
   "id": "7b3cb0e5",
   "metadata": {},
   "outputs": [],
   "source": [
    "library(RSQLite)\n",
    "library(sqldf)\n",
    "library(dplyr)\n",
    "library(readxl)\n",
    "library(ggplot2)\n",
    "library(stringr)\n",
    "library(writexl)"
   ]
  },
  {
   "cell_type": "markdown",
   "id": "a987e116",
   "metadata": {},
   "source": [
    "### 1-2. 데이터 불러오기"
   ]
  },
  {
   "cell_type": "code",
   "execution_count": null,
   "id": "e7cb74f3",
   "metadata": {},
   "outputs": [],
   "source": [
    "# 각 년도별, 월별 데이터를 하나의 데이터로 만들기 위해 불러오기\n",
    "Seoul_traffic_201501 <- read_excel('C:/Users/82105/Downloads/2015_1월 서울시 교통량 조사자료.xlsx')\n",
    "Seoul_traffic_201502 <- read_excel('C:/Users/82105/Downloads/2015_2월 서울시 교통량 조사자료.xlsx')\n",
    "Seoul_traffic_201503 <- read_excel('C:/Users/82105/Downloads/2015_3월 서울시 교통량 조사자료.xlsx')\n",
    "Seoul_traffic_201504 <- read_excel('C:/Users/82105/Downloads/2015_4월 서울시 교통량 조사자료.xlsx')\n",
    "Seoul_traffic_201505 <- read_excel('C:/Users/82105/Downloads/2015_5월 서울시 교통량 조사자료.xlsx')\n",
    "Seoul_traffic_201506 <- read_excel('C:/Users/82105/Downloads/2015_6월 서울시 교통량 조사자료.xlsx')\n",
    "Seoul_traffic_201507 <- read_excel('C:/Users/82105/Downloads/2015_7월 서울시 교통량 조사자료.xlsx')\n",
    "Seoul_traffic_201508 <- read_excel('C:/Users/82105/Downloads/2015_8월 서울시 교통량 조사자료.xlsx')\n",
    "Seoul_traffic_201509 <- read_excel('C:/Users/82105/Downloads/2015_9월 서울시 교통량 조사자료.xlsx')\n",
    "Seoul_traffic_201510 <- read_excel('C:/Users/82105/Downloads/2015_10월 서울시 교통량 조사자료.xlsx')\n",
    "Seoul_traffic_201511 <- read_excel('C:/Users/82105/Downloads/2015_11월 서울시 교통량 조사자료.xlsx')\n",
    "Seoul_traffic_201512 <- read_excel('C:/Users/82105/Downloads/2015_12월 서울시 교통량 조사자료.xlsx')\n",
    "\n",
    "Seoul_traffic_2015 <- rbind(Seoul_traffic_201501, Seoul_traffic_201502, Seoul_traffic_201503, Seoul_traffic_201504, Seoul_traffic_201505, Seoul_traffic_201506, Seoul_traffic_201507, Seoul_traffic_201508, Seoul_traffic_201509, Seoul_traffic_201510, Seoul_traffic_201511, Seoul_traffic_201512)\n",
    "\n",
    "Seoul_traffic_201601 <- read_excel('C:/Users/82105/Downloads/2016년 01월 서울시 교통량 조사자료.xlsx')\n",
    "Seoul_traffic_201602 <- read_excel('C:/Users/82105/Downloads/2016년 02월 서울시 교통량 조사자료.xlsx')\n",
    "Seoul_traffic_201603 <- read_excel('C:/Users/82105/Downloads/2016년 03월 서울시 교통량 조사자료.xlsx')\n",
    "Seoul_traffic_201604 <- read_excel('C:/Users/82105/Downloads/2016년 04월 서울시 교통량 조사자료.xlsx')\n",
    "Seoul_traffic_201605 <- read_excel('C:/Users/82105/Downloads/2016년 05월 서울시 교통량 조사자료.xlsx')\n",
    "Seoul_traffic_201606 <- read_excel('C:/Users/82105/Downloads/2016년 06월 서울시 교통량 조사자료.xlsx')\n",
    "Seoul_traffic_201607 <- read_excel('C:/Users/82105/Downloads/2016년 07월 서울시 교통량 조사자료.xlsx')\n",
    "Seoul_traffic_201608 <- read_excel('C:/Users/82105/Downloads/2016년 08월 서울시 교통량 조사자료.xlsx')\n",
    "Seoul_traffic_201609 <- read_excel('C:/Users/82105/Downloads/2016년 09월 서울시 교통량 조사자료.xlsx')\n",
    "Seoul_traffic_201610 <- read_excel('C:/Users/82105/Downloads/2016년 10월 서울시 교통량 조사자료.xlsx')\n",
    "Seoul_traffic_201611 <- read_excel('C:/Users/82105/Downloads/2016년 11월 서울시 교통량 조사자료.xlsx')\n",
    "Seoul_traffic_201612 <- read_excel('C:/Users/82105/Downloads/2016년 12월 서울시 교통량 조사자료.xlsx')\n",
    "\n",
    "Seoul_traffic_2016 <- rbind(Seoul_traffic_201601, Seoul_traffic_201602, Seoul_traffic_201603, Seoul_traffic_201604, Seoul_traffic_201605, Seoul_traffic_201606, Seoul_traffic_201607, Seoul_traffic_201608, Seoul_traffic_201609, Seoul_traffic_201610, Seoul_traffic_201611, Seoul_traffic_201612)\n",
    "\n",
    "Seoul_traffic_201701 <- read_excel('C:/Users/82105/Downloads/2017_1월 서울시 교통량 조사자료.xlsx')\n",
    "Seoul_traffic_201702 <- read_excel('C:/Users/82105/Downloads/2017_2월 서울시 교통량 조사자료.xlsx')\n",
    "Seoul_traffic_201703 <- read_excel('C:/Users/82105/Downloads/2017_3월 서울시 교통량 조사자료.xlsx')\n",
    "Seoul_traffic_201704 <- read_excel('C:/Users/82105/Downloads/2017_4월 서울시 교통량 조사자료.xlsx')\n",
    "Seoul_traffic_201705 <- read_excel('C:/Users/82105/Downloads/2017_5월 서울시 교통량 조사자료.xlsx')\n",
    "Seoul_traffic_201706 <- read_excel('C:/Users/82105/Downloads/2017_6월 서울시 교통량 조사자료.xlsx')\n",
    "Seoul_traffic_201707 <- read_excel('C:/Users/82105/Downloads/2017_7월 서울시 교통량 조사자료.xlsx')\n",
    "Seoul_traffic_201708 <- read_excel('C:/Users/82105/Downloads/2017_8월 서울시 교통량 조사자료.xlsx')\n",
    "Seoul_traffic_201709 <- read_excel('C:/Users/82105/Downloads/2017_9월 서울시 교통량 조사자료.xlsx')\n",
    "Seoul_traffic_201710 <- read_excel('C:/Users/82105/Downloads/2017_10월 서울시 교통량 조사자료.xlsx')\n",
    "Seoul_traffic_201711 <- read_excel('C:/Users/82105/Downloads/2017_11월 서울시 교통량 조사자료.xlsx')\n",
    "Seoul_traffic_201712 <- read_excel('C:/Users/82105/Downloads/2017_12월 서울시 교통량 조사자료.xlsx')\n",
    "\n",
    "Seoul_traffic_2017 <- rbind(Seoul_traffic_201701, Seoul_traffic_201702, Seoul_traffic_201703, Seoul_traffic_201704, Seoul_traffic_201705, Seoul_traffic_201706, Seoul_traffic_201707, Seoul_traffic_201708, Seoul_traffic_201709, Seoul_traffic_201710, Seoul_traffic_201711, Seoul_traffic_201712)\n",
    "\n",
    "Seoul_traffic_201801 <- read_excel('C:/Users/82105/Downloads/2018_1월 서울시 교통량 조사자료.xlsx', sheet='2018년 1월')\n",
    "Seoul_traffic_201802 <- read_excel('C:/Users/82105/Downloads/2018_2월 서울시 교통량 조사자료.xlsx', sheet='2018년 2월')\n",
    "Seoul_traffic_201803 <- read_excel('C:/Users/82105/Downloads/2018_3월 서울시 교통량 조사자료.xlsx', sheet='2018년 3월')\n",
    "Seoul_traffic_201804 <- read_excel('C:/Users/82105/Downloads/2018_4월 서울시 교통량 조사자료.xlsx', sheet='2018년 4월')\n",
    "Seoul_traffic_201805 <- read_excel('C:/Users/82105/Downloads/2018_5월 서울시 교통량 조사자료.xlsx', sheet='2018년 5월')\n",
    "Seoul_traffic_201806 <- read_excel('C:/Users/82105/Downloads/2018_6월 서울시 교통량 조사자료.xlsx', sheet='2018년 6월')\n",
    "Seoul_traffic_201807 <- read_excel('C:/Users/82105/Downloads/2018_7월 서울시 교통량 조사자료.xlsx', sheet='2018년 7월')\n",
    "Seoul_traffic_201808 <- read_excel('C:/Users/82105/Downloads/2018_8월 서울시 교통량 조사자료.xlsx', sheet='2018년 8월')\n",
    "Seoul_traffic_201809 <- read_excel('C:/Users/82105/Downloads/2018_9월 서울시 교통량 조사자료.xlsx', sheet='2018년 9월')\n",
    "Seoul_traffic_201810 <- read_excel('C:/Users/82105/Downloads/2018_10월 서울시 교통량 조사자료.xlsx', sheet='2018년 10월')\n",
    "Seoul_traffic_201811 <- read_excel('C:/Users/82105/Downloads/2018_11월 서울시 교통량 조사자료.xlsx', sheet='2018년 11월')\n",
    "Seoul_traffic_201812 <- read_excel('C:/Users/82105/Downloads/2018_12월 서울시 교통량 조사자료.xlsx', sheet='2018년 12월')\n",
    "\n",
    "Seoul_traffic_2018 <- rbind(Seoul_traffic_201801, Seoul_traffic_201802, Seoul_traffic_201803, Seoul_traffic_201804, Seoul_traffic_201805, Seoul_traffic_201806, Seoul_traffic_201807, Seoul_traffic_201808, Seoul_traffic_201809, Seoul_traffic_201810, Seoul_traffic_201811, Seoul_traffic_201812)\n",
    "\n",
    "Seoul_traffic_201901 <- read_excel('C:/Users/82105/Downloads/2019_1월 서울시 교통량 조사자료.xlsx', sheet='2019년 1월')\n",
    "Seoul_traffic_201902 <- read_excel('C:/Users/82105/Downloads/2019_2월 서울시 교통량 조사자료.xlsx', sheet='2019년 2월')\n",
    "Seoul_traffic_201903 <- read_excel('C:/Users/82105/Downloads/2019_3월 서울시 교통량 조사자료.xlsx', sheet='2019년 3월')\n",
    "Seoul_traffic_201904 <- read_excel('C:/Users/82105/Downloads/2019_4월 서울시 교통량 조사자료.xlsx', sheet='2019년 4월')\n",
    "Seoul_traffic_201905 <- read_excel('C:/Users/82105/Downloads/2019_5월 서울시 교통량 조사자료.xlsx', sheet='2019년 5월')\n",
    "Seoul_traffic_201906 <- read_excel('C:/Users/82105/Downloads/2019_6월 서울시 교통량 조사자료.xlsx', sheet='2019년 6월')\n",
    "Seoul_traffic_201907 <- read_excel('C:/Users/82105/Downloads/2019_7월 서울시 교통량 조사자료.xlsx', sheet='2019년 7월')\n",
    "Seoul_traffic_201908 <- read_excel('C:/Users/82105/Downloads/2019_8월 서울시 교통량 조사자료.xlsx', sheet='2019년 8월')\n",
    "Seoul_traffic_201909 <- read_excel('C:/Users/82105/Downloads/2019_9월 서울시 교통량 조사자료.xlsx', sheet='2019년 9월')\n",
    "Seoul_traffic_201910 <- read_excel('C:/Users/82105/Downloads/2019_10월 서울시 교통량 조사자료.xlsx', sheet='2019년 10월')\n",
    "Seoul_traffic_201911 <- read_excel('C:/Users/82105/Downloads/2019_11월 서울시 교통량 조사자료.xlsx', sheet='2019년 11월')\n",
    "Seoul_traffic_201912 <- read_excel('C:/Users/82105/Downloads/2019_12월 서울시 교통량 조사자료.xlsx', sheet='2019년 12월')\n",
    "\n",
    "Seoul_traffic_2019 <- rbind(Seoul_traffic_201901, Seoul_traffic_201902, Seoul_traffic_201903, Seoul_traffic_201904, Seoul_traffic_201905, Seoul_traffic_201906, Seoul_traffic_201907, Seoul_traffic_201908, Seoul_traffic_201909, Seoul_traffic_201910, Seoul_traffic_201911, Seoul_traffic_201912)\n",
    "\n",
    "Seoul_traffic_202001 <- read_excel('C:/Users/82105/Downloads/2020_1월 서울시 교통량 조사자료.xlsx', sheet='2020년 01월')\n",
    "Seoul_traffic_202002 <- read_excel('C:/Users/82105/Downloads/2020_2월 서울시 교통량 조사자료.xlsx', sheet='2020년 02월')\n",
    "Seoul_traffic_202003 <- read_excel('C:/Users/82105/Downloads/2020_3월 서울시 교통량 조사자료.xlsx', sheet='2020년 03월')\n",
    "Seoul_traffic_202004 <- read_excel('C:/Users/82105/Downloads/2020_4월 서울시 교통량 조사자료.xlsx', sheet='2020년 04월')\n",
    "Seoul_traffic_202005 <- read_excel('C:/Users/82105/Downloads/2020_5월 서울시 교통량 조사자료.xlsx', sheet='2020년 05월')\n",
    "Seoul_traffic_202006 <- read_excel('C:/Users/82105/Downloads/2020_6월 서울시 교통량 조사자료.xlsx', sheet='2020년 06월')\n",
    "Seoul_traffic_202007 <- read_excel('C:/Users/82105/Downloads/2020_7월 서울시 교통량 조사자료.xlsx', sheet='2020년 07월')\n",
    "Seoul_traffic_202008 <- read_excel('C:/Users/82105/Downloads/2020_8월 서울시 교통량 조사자료.xlsx', sheet='2020년 08월')\n",
    "Seoul_traffic_202009 <- read_excel('C:/Users/82105/Downloads/2020_9월 서울시 교통량 조사자료.xlsx', sheet='2020년 09월')\n",
    "Seoul_traffic_202010 <- read_excel('C:/Users/82105/Downloads/2020_10월 서울시 교통량 조사자료.xlsx', sheet='2020년 10월')\n",
    "Seoul_traffic_202011 <- read_excel('C:/Users/82105/Downloads/2020_11월 서울시 교통량 조사자료.xlsx', sheet='2020년 11월')\n",
    "Seoul_traffic_202012 <- read_excel('C:/Users/82105/Downloads/2020_12월 서울시 교통량 조사자료.xlsx', sheet='2020년 12월')\n",
    "\n",
    "Seoul_traffic_2020 <- rbind(Seoul_traffic_202001, Seoul_traffic_202002, Seoul_traffic_202003, Seoul_traffic_202004, Seoul_traffic_202005, Seoul_traffic_202006, Seoul_traffic_202007, Seoul_traffic_202008, Seoul_traffic_202009, Seoul_traffic_202010, Seoul_traffic_202011, Seoul_traffic_202012)\n",
    "\n",
    "Seoul_traffic_202101 <- read_excel('C:/Users/82105/Downloads/2021_1월 서울시 교통량 조사자료.xlsx', sheet='2021년 01월')\n",
    "Seoul_traffic_202102 <- read_excel('C:/Users/82105/Downloads/2021_2월 서울시 교통량 조사자료.xlsx', sheet='2021년 02월')\n",
    "Seoul_traffic_202103 <- read_excel('C:/Users/82105/Downloads/2021_3월 서울시 교통량 조사자료.xlsx', sheet='2021년 03월')\n",
    "Seoul_traffic_202104 <- read_excel('C:/Users/82105/Downloads/2021_4월 서울시 교통량 조사자료.xlsx', sheet='2021년 04월')\n",
    "Seoul_traffic_202105 <- read_excel('C:/Users/82105/Downloads/2021_5월 서울시 교통량 조사자료.xlsx', sheet='2021년 05월')\n",
    "Seoul_traffic_202106 <- read_excel('C:/Users/82105/Downloads/2021_6월 서울시 교통량 조사자료.xlsx', sheet='2021년 06월')\n",
    "\n",
    "Seoul_traffic_2021 <- rbind(Seoul_traffic_202101, Seoul_traffic_202102, Seoul_traffic_202103, Seoul_traffic_202104, Seoul_traffic_202105, Seoul_traffic_202106)\n",
    "\n",
    "# 저장 후 주석처리\n",
    "# writexl::write_xlsx(Seoul_traffic_2015, 'c:/Big Data Contest/Seoul_traffic_2015.xlsx')\n",
    "# writexl::write_xlsx(Seoul_traffic_2016, 'c:/Big Data Contest/Seoul_traffic_2016.xlsx')\n",
    "# writexl::write_xlsx(Seoul_traffic_2017, 'c:/Big Data Contest/Seoul_traffic_2017.xlsx')\n",
    "# writexl::write_xlsx(Seoul_traffic_2018, 'c:/Big Data Contest/Seoul_traffic_2018.xlsx')\n",
    "# writexl::write_xlsx(Seoul_traffic_2019, 'c:/Big Data Contest/Seoul_traffic_2019.xlsx')\n",
    "# writexl::write_xlsx(Seoul_traffic_2020, 'c:/Big Data Contest/Seoul_traffic_2020.xlsx')\n",
    "# writexl::write_xlsx(Seoul_traffic_2021, 'c:/Big Data Contest/Seoul_traffic_2021.xlsx')\n",
    "\n",
    "# 사용이 완료된 변수들은 헷갈리지 않게 다시 리셋\n",
    "rm(list=ls())"
   ]
  },
  {
   "cell_type": "markdown",
   "id": "49d348ab",
   "metadata": {},
   "source": [
    "### 1-3. 년도별로 합친 데이터를 하나의 통합데이터로 담기\n"
   ]
  },
  {
   "cell_type": "code",
   "execution_count": null,
   "id": "b2287e8a",
   "metadata": {},
   "outputs": [],
   "source": [
    "# 년도별 데이터를 통합하기 위해 불러오기\n",
    "Seoul_traffic_2015 <- read_excel('c:/Big Data Contest/Seoul_traffic_2015.xlsx')\n",
    "Seoul_traffic_2016 <- read_excel('c:/Big Data Contest/Seoul_traffic_2016.xlsx')\n",
    "Seoul_traffic_2017 <- read_excel('c:/Big Data Contest/Seoul_traffic_2017.xlsx')\n",
    "Seoul_traffic_2018 <- read_excel('c:/Big Data Contest/Seoul_traffic_2018.xlsx')\n",
    "Seoul_traffic_2019 <- read_excel('c:/Big Data Contest/Seoul_traffic_2019.xlsx')\n",
    "Seoul_traffic_2020 <- read_excel('c:/Big Data Contest/Seoul_traffic_2020.xlsx')\n",
    "Seoul_traffic_2021 <- read_excel('c:/Big Data Contest/Seoul_traffic_2021.xlsx')\n",
    "\n",
    "# 불러온 년도별 데이터를 행을 결합해 하나의 데이터로 묶어주기\n",
    "Seoul_traffic_R <- rbind(Seoul_traffic_2015, Seoul_traffic_2016, Seoul_traffic_2017, Seoul_traffic_2018, Seoul_traffic_2019, Seoul_traffic_2020, Seoul_traffic_2021)\n",
    "# write_xlsx(Seoul_traffic_R, 'c:/Big Data Contest/Seoul_traffic_R.xlsx')\n",
    "\n",
    "# 사용이 완료된 변수들은 헷갈리지 않게 다시 리셋\n",
    "rm(list=ls())"
   ]
  },
  {
   "cell_type": "markdown",
   "id": "b9d7f655",
   "metadata": {},
   "source": [
    "### 1-4. Seoul_traffic에서 Date 속성이 character이라서 새로운 new_date 컬럼을 만들고 as.date를 통해 DATE 속성 부여"
   ]
  },
  {
   "cell_type": "code",
   "execution_count": null,
   "id": "8d9ab8c1",
   "metadata": {},
   "outputs": [],
   "source": [
    "# 년도별 총합 데이터 불러오기\n",
    "Seoul_traffic <- read_excel('c:/Big Data Contest/Seoul_traffic_R.xlsx')\n",
    "\n",
    "# 날짜 속성을 부여한 DATE라는 새로운 컬럼 생성\n",
    "Seoul_traffic <- Seoul_traffic %>% mutate(DATE = as.Date(Date, format='%Y%m%d')) \n",
    "\n",
    "# 컬럼의 순서를 보기 편하게 위치 바꿔주기\n",
    "Seoul_traffic <- Seoul_traffic[,c(31, 1, 2, 3, 4, 5, 6, 7, 8, 9, 10, 11, 12, 13, 14, 15, 16, 17, 18, 19, 20, 21, 22, 23, 24, 25, 26, 27, 28, 29, 30)]\n",
    "\n",
    "# 날짜 속성을 부여받기 위해 사용된 기존의 날짜는 제거\n",
    "Seoul_traffic <- Seoul_traffic %>% select(-Date)\n",
    "# write_xlsx(Seoul_traffic, 'c:/Big Data Contest/Seoul_traffic_R_final.xlsx')\n",
    "\n",
    "# 사용이 완료된 변수들은 헷갈리지 않게 다시 리셋\n",
    "rm(list=ls())"
   ]
  },
  {
   "cell_type": "markdown",
   "id": "24275f5c",
   "metadata": {},
   "source": [
    "### 1-5. 사용할 데이터 분류하기"
   ]
  },
  {
   "cell_type": "code",
   "execution_count": null,
   "id": "d507a1e6",
   "metadata": {},
   "outputs": [],
   "source": [
    "# 날짜 속성을 부여받고 컬럼의 위치도 조정된 데이터 불러오기\n",
    "Seoul_traffic <- read_excel('c:/Big Data Contest/Seoul_traffic_R_final.xlsx')\n",
    "\n",
    "# 2016년 1월 1일 이후 데이터만 변수에 담기\n",
    "Seoul_traffic <- Seoul_traffic %>% filter(DATE >= '2016-01-01')\n",
    "\n",
    "# 지점이 A로 시작하는 데이터들은 안쓰기에 빼고 나머지만 변수에 담기\n",
    "Seoul_traffic <- Seoul_traffic %>% mutate(a_check = str_detect(Point_No, 'A', FALSE)) %>% filter(a_check != TRUE)\n",
    "\n",
    "# 독립된 코드번호 부여\n",
    "Seoul_traffic <- Seoul_traffic %>% mutate(code = row_number())\n",
    "\n",
    "# 안쓰는 컬럼들은 제거해서 변수에 담기\n",
    "Seoul_traffic <- Seoul_traffic %>% select(-Time_0, -Time_1, -Time_2, -Time_3, -Time_4, -Time_5, -Time_23, -Direction)"
   ]
  },
  {
   "cell_type": "markdown",
   "id": "9763d333",
   "metadata": {},
   "source": [
    "### 1-6. na값을 0으로 변환"
   ]
  },
  {
   "cell_type": "code",
   "execution_count": null,
   "id": "d9faf4a3",
   "metadata": {},
   "outputs": [],
   "source": [
    "Seoul_traffic[is.na(Seoul_traffic)] <- 0"
   ]
  },
  {
   "cell_type": "markdown",
   "id": "40e065f3",
   "metadata": {},
   "source": [
    "### 1-7. 모든 시간대에 값이 없는 row들을 제거하기 위해 필터링하기"
   ]
  },
  {
   "cell_type": "code",
   "execution_count": null,
   "id": "85fb286e",
   "metadata": {},
   "outputs": [],
   "source": [
    "# 6~22까지 모든 데이터의 값이 0인 녀석들을 논리형 연산자로 구분\n",
    "Seoul_traffic <- Seoul_traffic %>% mutate(delete_TF = if_else(Time_6 == 0 &\n",
    "                                                                Time_7 == 0 &\n",
    "                                                                Time_8 == 0 &\n",
    "                                                                Time_9 == 0 &\n",
    "                                                                Time_10 == 0 &\n",
    "                                                                Time_11 == 0 &\n",
    "                                                                Time_12 == 0 &\n",
    "                                                                Time_13 == 0 &\n",
    "                                                                Time_14 == 0 &\n",
    "                                                                Time_15 == 0 &\n",
    "                                                                Time_16 == 0 &\n",
    "                                                                Time_17 == 0 &\n",
    "                                                                Time_18 == 0 &\n",
    "                                                                Time_19 == 0 &\n",
    "                                                                Time_20 == 0 &\n",
    "                                                                Time_21 == 0 &\n",
    "                                                                Time_22 == 0, TRUE, FALSE))\n",
    "\n",
    "# 0값이 아닌 데이터들만 변수에 담을 수 있게 분류\n",
    "Seoul_traffic <- Seoul_traffic %>% filter(delete_TF == FALSE)\n",
    "Seoul_traffic <- Seoul_traffic %>% select(-a_check, -delete_TF, -code)\n",
    "# write.csv(Seoul_traffic, 'c:/Big Data Contest/Seoul_traffic_08_11.csv')\n",
    "\n",
    "# 사용이 완료된 변수들은 헷갈리지 않게 다시 리셋\n",
    "rm(list=ls())"
   ]
  },
  {
   "cell_type": "markdown",
   "id": "c2dd9bf1",
   "metadata": {},
   "source": [
    "### 1-8. 시간대별로 각 row의 0의 유무 체크하기(위에서 na를 0으로 변환했기에 여기서 0값은 na값)"
   ]
  },
  {
   "cell_type": "code",
   "execution_count": null,
   "id": "29efdb5a",
   "metadata": {},
   "outputs": [],
   "source": [
    "# na값을 정리한 데이터를 가져오기\n",
    "Seoul_traffic <- read.csv('c:/Big Data Contest/Seoul_traffic_08_11.csv')\n",
    "\n",
    "# 시간대 별로 0값이 있는 데이터 유무 논리형 연산자로 체크하기\n",
    "Seoul_traffic <- Seoul_traffic %>% mutate(T6 = if_else(Time_6 == 0, TRUE, FALSE)) %>% \n",
    "  mutate(T7 = if_else(Time_7 == 0, TRUE, FALSE)) %>%\n",
    "  mutate(T8 = if_else(Time_8 == 0, TRUE, FALSE)) %>%\n",
    "  mutate(T9 = if_else(Time_9 == 0, TRUE, FALSE)) %>%\n",
    "  mutate(T10 = if_else(Time_10 == 0, TRUE, FALSE)) %>%\n",
    "  mutate(T11 = if_else(Time_11 == 0, TRUE, FALSE)) %>%\n",
    "  mutate(T12 = if_else(Time_12 == 0, TRUE, FALSE)) %>%\n",
    "  mutate(T13 = if_else(Time_13 == 0, TRUE, FALSE)) %>%\n",
    "  mutate(T14 = if_else(Time_14 == 0, TRUE, FALSE)) %>%\n",
    "  mutate(T15 = if_else(Time_15 == 0, TRUE, FALSE)) %>%\n",
    "  mutate(T16 = if_else(Time_16 == 0, TRUE, FALSE)) %>%\n",
    "  mutate(T17 = if_else(Time_17 == 0, TRUE, FALSE)) %>%\n",
    "  mutate(T18 = if_else(Time_18 == 0, TRUE, FALSE)) %>%\n",
    "  mutate(T19 = if_else(Time_19 == 0, TRUE, FALSE)) %>%\n",
    "  mutate(T20 = if_else(Time_20 == 0, TRUE, FALSE)) %>%\n",
    "  mutate(T21 = if_else(Time_21 == 0, TRUE, FALSE)) %>%\n",
    "  mutate(T22 = if_else(Time_22 == 0, TRUE, FALSE))"
   ]
  },
  {
   "cell_type": "markdown",
   "id": "6669616d",
   "metadata": {},
   "source": [
    "### 1-9. 지점별, 요일별, 시간대별로 0값은 앞전 데이터로 값을 채워주기"
   ]
  },
  {
   "cell_type": "code",
   "execution_count": null,
   "id": "df7b7e9a",
   "metadata": {},
   "outputs": [],
   "source": [
    "# 사용할 컬럼들만 뽑은 유입데이터와 유출 데이터를 분류하고 지점별, 요일별로 정렬해주기\n",
    "ist6 <- Seoul_traffic %>% select(DATE, Day, Point_Name, Point_No, Inflow_Spill, Time_6, T6) %>% filter(Inflow_Spill == '유입') %>% arrange(Point_No, Day)\n",
    "sst6 <- Seoul_traffic %>% select(DATE, Day, Point_Name, Point_No, Inflow_Spill, Time_6, T6) %>% filter(Inflow_Spill == '유출') %>% arrange(Point_No, Day)\n",
    "\n",
    "\n",
    "# 해당 컬럼의 값이 0인지 T/F로 체크 -> 값이 없는 칸을 채워주기 위해 n칸 끌어내려서 데이터값 입력 -> 이후 n칸 끌어내린 데이터의 값이 0이면 n+1칸 끌어내린 값을 입력, 그렇지 않으면 기존 값을 입력 -> 이후 다시 0값이 완전히 없어질때까지 반복(결측값에 데이터를 넣어주기 위함// 단, Point_No별로 요일별 값을 넣어주기)\n",
    "ist6 <- ist6 %>% mutate(T6_lag1 = lag(Time_6, 1)) %>%\n",
    "  mutate(NT6_1 = if_else(T6 == TRUE, print(T6_lag1), print(Time_6))) %>%\n",
    "  mutate(check_NT6_1 = if_else(NT6_1 == 0, TRUE, FALSE)) %>% \n",
    "  mutate(T6_lag2 = lag(Time_6, 2)) %>% \n",
    "  mutate(NT6_2 = if_else(check_NT6_1 == TRUE, print(T6_lag2), print(NT6_1))) %>% \n",
    "  mutate(check_NT6_2 = if_else(NT6_2 == 0, TRUE, FALSE)) %>% \n",
    "  mutate(T6_lag3 = lag(Time_6, 3)) %>% \n",
    "  mutate(NT6_3 = if_else(check_NT6_2 == TRUE, print(T6_lag3), print(NT6_2))) %>% \n",
    "  mutate(check_NT6_3 = if_else(NT6_3 == 0, TRUE, FALSE)) %>%\n",
    "  mutate(T6_lag4 = lag(Time_6, 4)) %>% \n",
    "  mutate(NT6_4 = if_else(check_NT6_3 == TRUE, print(T6_lag4), print(NT6_3))) %>% \n",
    "  mutate(check_NT6_4 = if_else(NT6_4 == 0, TRUE, FALSE)) %>% \n",
    "  mutate(T6_lag5 = lag(Time_6, 5)) %>% \n",
    "  mutate(NT6_5 = if_else(check_NT6_4 == TRUE, print(T6_lag5), print(NT6_4))) %>% \n",
    "  mutate(check_NT6_5 = if_else(NT6_5 == 0, TRUE, FALSE)) %>% \n",
    "  mutate(T6_lag6 = lag(Time_6, 6)) %>%\n",
    "  mutate(NT6_6 = if_else(check_NT6_5 == TRUE, print(T6_lag6), print(NT6_5))) %>% \n",
    "  mutate(check_NT6_6 = if_else(NT6_6 == 0, TRUE, FALSE)) %>% \n",
    "  mutate(T6_lag7 = lag(Time_6, 7)) %>%\n",
    "  mutate(NT6_7 = if_else(check_NT6_6 == TRUE, print(T6_lag7), print(NT6_6))) %>% \n",
    "  mutate(check_NT6_7 = if_else(NT6_7 == 0, TRUE, FALSE)) %>% \n",
    "  mutate(T6_lag8 = lag(Time_6, 8)) %>%\n",
    "  mutate(NT6_8 = if_else(check_NT6_7 == TRUE, print(T6_lag8), print(NT6_7)))\n",
    "\n",
    "ist6 <- ist6 %>% select(DATE, Day, Point_Name, Point_No, Inflow_Spill, NT6_8)\n",
    "\n",
    "\n",
    "\n",
    "sst6 <- sst6 %>% mutate(T6_lag1 = lag(Time_6, 1)) %>%\n",
    "  mutate(NT6_1 = if_else(T6 == TRUE, print(T6_lag1), print(Time_6))) %>%\n",
    "  mutate(check_NT6_1 = if_else(NT6_1 == 0, TRUE, FALSE)) %>% \n",
    "  mutate(T6_lag2 = lag(Time_6, 2)) %>% \n",
    "  mutate(NT6_2 = if_else(check_NT6_1 == TRUE, print(T6_lag2), print(NT6_1))) %>% \n",
    "  mutate(check_NT6_2 = if_else(NT6_2 == 0, TRUE, FALSE)) %>% \n",
    "  mutate(T6_lag3 = lag(Time_6, 3)) %>% \n",
    "  mutate(NT6_3 = if_else(check_NT6_2 == TRUE, print(T6_lag3), print(NT6_2))) %>% \n",
    "  mutate(check_NT6_3 = if_else(NT6_3 == 0, TRUE, FALSE)) %>%\n",
    "  mutate(T6_lag4 = lag(Time_6, 4)) %>% \n",
    "  mutate(NT6_4 = if_else(check_NT6_3 == TRUE, print(T6_lag4), print(NT6_3))) %>% \n",
    "  mutate(check_NT6_4 = if_else(NT6_4 == 0, TRUE, FALSE)) %>% \n",
    "  mutate(T6_lag5 = lag(Time_6, 5)) %>% \n",
    "  mutate(NT6_5 = if_else(check_NT6_4 == TRUE, print(T6_lag5), print(NT6_4))) %>% \n",
    "  mutate(check_NT6_5 = if_else(NT6_5 == 0, TRUE, FALSE)) %>% \n",
    "  mutate(T6_lag6 = lag(Time_6, 6)) %>%\n",
    "  mutate(NT6_6 = if_else(check_NT6_5 == TRUE, print(T6_lag6), print(NT6_5))) %>% \n",
    "  mutate(check_NT6_6 = if_else(NT6_6 == 0, TRUE, FALSE)) %>% \n",
    "  mutate(T6_lag7 = lag(Time_6, 7)) %>%\n",
    "  mutate(NT6_7 = if_else(check_NT6_6 == TRUE, print(T6_lag7), print(NT6_6))) %>% \n",
    "  mutate(check_NT6_7 = if_else(NT6_7 == 0, TRUE, FALSE)) %>% \n",
    "  mutate(T6_lag8 = lag(Time_6, 8)) %>%\n",
    "  mutate(NT6_8 = if_else(check_NT6_7 == TRUE, print(T6_lag8), print(NT6_7))) %>% \n",
    "  mutate(check_NT6_8 = if_else(NT6_8 == 0, TRUE, FALSE)) %>% \n",
    "  mutate(T6_lag9 = lag(Time_6, 9)) %>%\n",
    "  mutate(NT6_9 = if_else(check_NT6_8 == TRUE, print(T6_lag9), print(NT6_8))) %>% \n",
    "  mutate(check_NT6_9 = if_else(NT6_9 == 0, TRUE, FALSE)) %>% \n",
    "  mutate(T6_lag10 = lag(Time_6, 10)) %>%\n",
    "  mutate(NT6_10 = if_else(check_NT6_9 == TRUE, print(T6_lag10), print(NT6_9))) %>%\n",
    "  mutate(check_NT6_10 = if_else(NT6_10 == 0, TRUE, FALSE)) %>% \n",
    "  mutate(T6_lag11 = lag(Time_6, 11)) %>%\n",
    "  mutate(NT6_11 = if_else(check_NT6_10 == TRUE, print(T6_lag11), print(NT6_10))) %>% \n",
    "  mutate(check_NT6_11 = if_else(NT6_11 == 0, TRUE, FALSE)) %>% \n",
    "  mutate(T6_lag12 = lag(Time_6, 12)) %>%\n",
    "  mutate(NT6_12 = if_else(check_NT6_11 == TRUE, print(T6_lag12), print(NT6_11))) %>% \n",
    "  mutate(check_NT6_12 = if_else(NT6_12 == 0, TRUE, FALSE)) %>% \n",
    "  mutate(T6_lag13 = lag(Time_6, 13)) %>%\n",
    "  mutate(NT6_13 = if_else(check_NT6_12 == TRUE, print(T6_lag13), print(NT6_12))) %>% \n",
    "  mutate(check_NT6_13 = if_else(NT6_13 == 0, TRUE, FALSE)) %>% \n",
    "  mutate(T6_lag14 = lag(Time_6, 14)) %>%\n",
    "  mutate(NT6_14 = if_else(check_NT6_13 == TRUE, print(T6_lag14), print(NT6_13))) %>% \n",
    "  mutate(check_NT6_14 = if_else(NT6_14 == 0, TRUE, FALSE)) %>% \n",
    "  mutate(T6_lag15 = lag(Time_6, 15)) %>%\n",
    "  mutate(NT6_15 = if_else(check_NT6_14 == TRUE, print(T6_lag15), print(NT6_14))) %>% \n",
    "  mutate(check_NT6_15 = if_else(NT6_15 == 0, TRUE, FALSE)) %>% \n",
    "  mutate(T6_lag16 = lag(Time_6, 16)) %>%\n",
    "  mutate(NT6_16 = if_else(check_NT6_15 == TRUE, print(T6_lag16), print(NT6_15)))\n",
    "\n",
    "sst6 <- sst6 %>% select(DATE, Day, Point_Name, Point_No, Inflow_Spill, NT6_16)\n",
    "# 이와 같은 형식으로 6시부터 22시까지 모든 컬럼의 0값을 같은 지점별, 같은 요일, 같은 시간대로 값을 채워주는 작업 진행"
   ]
  },
  {
   "cell_type": "markdown",
   "id": "346b02b0",
   "metadata": {},
   "source": [
    "### 1-10. 변환작업하느라 늘어난 컬럼을 사용할 컬럼만 남기고 유입, 유출 구분해서 각각의 변수에 담기"
   ]
  },
  {
   "cell_type": "code",
   "execution_count": null,
   "id": "b6cf6cc3",
   "metadata": {},
   "outputs": [],
   "source": [
    "# 0값 변환 작업이 끝난 데이터들을 유입, 유출 데이터로 분류해서 각 변수에 담기\n",
    "istall <- cbind(ist6, ist7$NT7_10, ist8$NT8_11, ist9$NT9_11, ist10$NT10_11, ist11$NT11_11, ist12$NT12_12, ist13$NT13_11, ist14$NT14_11, ist15$NT15_9, ist16$NT16_9, ist17$NT17_9, ist18$NT18_9, ist19$NT19_9, ist20$NT20_7, ist21$NT21_8, ist22$NT22_8)\n",
    "sstall <- cbind(sst6, sst7$NT7_9, sst8$NT8_7, sst9$NT9_11, sst10$NT10_11, sst11$NT11_11, sst12$NT12_11, sst13$NT13_10, sst14$NT14_10, sst15$NT15_9, sst16$NT16_8, sst17$NT17_8, sst18$NT18_7, sst19$NT19_6, sst20$NT20_6, sst21$NT21_6, sst22$NT22_6)\n",
    "\n",
    "# 저장 후 주석처리\n",
    "write.csv(istall, 'c:/Big Data Contest/istall.csv')\n",
    "write.csv(sstall, 'c:/Big Data Contest/sstall.csv')\n",
    "\n",
    "\n",
    "# 사용이 완료된 변수들은 헷갈리지 않게 다시 리셋\n",
    "#rm(list=ls())"
   ]
  },
  {
   "cell_type": "markdown",
   "id": "6a389630",
   "metadata": {},
   "source": [
    "### 1-11. 컬럼명을 사용할 컬럼명으로 바꿔서 두 항목을 맞춰주기"
   ]
  },
  {
   "cell_type": "code",
   "execution_count": null,
   "id": "6df3f4ba",
   "metadata": {},
   "outputs": [],
   "source": [
    "# 0값 처리가 완료된 유입, 유출 데이터를 불러오기\n",
    "ist <- read.csv('c:/Big Data Contest/istall.csv')\n",
    "sst <- read.csv('c:/Big Data Contest/sstall.csv')\n",
    "\n",
    "# 유입, 유출 데이터의 컬럼명을 맞춰주기\n",
    "names(ist) <- c(\"Seq\", \"DATE\",\"Day\",\"Point_Name\", \"Point_No\",\"Inflow_Spill\",\"T6\", \"T7\", \"T8\", \"T9\", \"T10\", \"T11\", \"T12\", \"T13\", \"T14\", \"T15\", \"T16\", \"T17\", \"T18\", \"T19\", \"T20\", \"T21\", \"T22\")\n",
    "names(sst) <- c(\"Seq\", \"DATE\",\"Day\",\"Point_Name\", \"Point_No\",\"Inflow_Spill\",\"T6\", \"T7\", \"T8\", \"T9\", \"T10\", \"T11\", \"T12\", \"T13\", \"T14\", \"T15\", \"T16\", \"T17\", \"T18\", \"T19\", \"T20\", \"T21\", \"T22\")"
   ]
  },
  {
   "cell_type": "markdown",
   "id": "37a30960",
   "metadata": {},
   "source": [
    "### 1-12. 서로 다른 데이터 프레임을 합치고 가공할 형식으로 변환 작업"
   ]
  },
  {
   "cell_type": "code",
   "execution_count": null,
   "id": "c0dc18c1",
   "metadata": {},
   "outputs": [],
   "source": [
    "# 유입, 유출 통합데이터 만들기\n",
    "Seoul_traffic <- rbind(ist, sst)\n",
    "\n",
    "# 안쓰는 컬럼 제거 후 날짜별, 지점별로 정렬\n",
    "Seoul_traffic <- Seoul_traffic %>% select(-Seq) %>% arrange(DATE, Point_No)\n",
    "\n",
    "# 요일을 통해 평일, 주말을 분류하기\n",
    "Seoul_traffic <- Seoul_traffic %>% mutate(Day_check = if_else((Day == '토' | Day == '일'), '주말', '평일'))\n",
    "\n",
    "# 순서부여 및 시간대를 3시간 단위로 합치기\n",
    "Seoul_traffic <- Seoul_traffic %>% mutate(Code = row_number()) %>% \n",
    "  mutate(Time6_8 = print(Seoul_traffic$T6 + Seoul_traffic$T7 + Seoul_traffic$T8)) %>% \n",
    "  mutate(Time9_11 = print(Seoul_traffic$T9 + Seoul_traffic$T10 + Seoul_traffic$T11)) %>% \n",
    "  mutate(Time12_14 = print(Seoul_traffic$T12 + Seoul_traffic$T13 + Seoul_traffic$T14)) %>% \n",
    "  mutate(Time15_17 = print(Seoul_traffic$T15 + Seoul_traffic$T16 + Seoul_traffic$T17)) %>% \n",
    "  mutate(Time18_20 = print(Seoul_traffic$T18 + Seoul_traffic$T19 + Seoul_traffic$T20)) %>% \n",
    "  mutate(Time21_22 = print(Seoul_traffic$T21 + Seoul_traffic$T22))\n",
    "\n",
    "# 날짜 속성 부여\n",
    "Seoul_traffic <- Seoul_traffic %>% mutate(New_Date = as.Date(DATE, format = '%Y-%m-%d'))"
   ]
  },
  {
   "cell_type": "markdown",
   "id": "dcba4809",
   "metadata": {},
   "source": [
    "### 1-13. 데이터를 월별기준으로 뽑아낸 후 분기별로 값을 지정해주기"
   ]
  },
  {
   "cell_type": "code",
   "execution_count": null,
   "id": "2644674f",
   "metadata": {},
   "outputs": [],
   "source": [
    "# 벡터 작업을 위해 DATE를 character 속성으로 변환해주기\n",
    "Seoul_traffic<- Seoul_traffic %>% mutate(Chrdate = as.character(DATE))\n",
    "\n",
    "# Character로 변환된 컬럼을 string 함수를 쓰기 위해 벡터로 담기\n",
    "vecdate <- as.vector(Seoul_traffic$Chrdate)\n",
    "\n",
    "# 기호를 기준으로 월별만 분류하기 위해 str_split 함수 사용\n",
    "Seoul_traffic <- Seoul_traffic %>% mutate(Month = str_split(vecdate, '-', simplify = TRUE)[ ,2])\n",
    "\n",
    "# 월별로 나온 값들을 분기별 데이터로 나누어 새로운 컬럼에 저장\n",
    "Seoul_traffic <- Seoul_traffic %>% mutate(Quarter = case_when(Month == '01' ~ 'Q1',\n",
    "                                                              Month == '02' ~ 'Q1',\n",
    "                                                              Month == '03' ~ 'Q1',\n",
    "                                                              Month == '04' ~ 'Q2',\n",
    "                                                              Month == '05' ~ 'Q2',\n",
    "                                                              Month == '06' ~ 'Q2',\n",
    "                                                              Month == '07' ~ 'Q3',\n",
    "                                                              Month == '08' ~ 'Q3',\n",
    "                                                              Month == '09' ~ 'Q3',\n",
    "                                                              Month == '10' ~ 'Q4',\n",
    "                                                              Month == '11' ~ 'Q4',\n",
    "                                                              Month == '12' ~ 'Q4'))"
   ]
  },
  {
   "cell_type": "markdown",
   "id": "a12a24c9",
   "metadata": {},
   "source": [
    "### 1-14. 필요없는 컬럼은 제거 후 컬럼 순서 변경 후 각 지점별 통행량통합과 각 지점별 유입출 건수를 이용해서 증감율 구하기"
   ]
  },
  {
   "cell_type": "code",
   "execution_count": null,
   "id": "b1d9785c",
   "metadata": {},
   "outputs": [],
   "source": [
    "# 안쓰는 컬럼은 제거\n",
    "Seoul_traffic <- Seoul_traffic %>% select(-T6, -T7, -T8, -T9, -T10, -T11, -T12, -T13, -T14, -T15, -T16, -T17, -T18, -T19, -T20, -T21, -T22, -DATE, -Chrdate, -Month)\n",
    "\n",
    "# 날짜 데이터를 년도만 뽑아내기\n",
    "Seoul_traffic <- Seoul_traffic %>% mutate(Year = str_extract(New_Date, '[0-9]{1,4}'))\n",
    "\n",
    "# 컬럼의 순서변경\n",
    "Seoul_traffic <- Seoul_traffic[, c(13, 14, 15, 1, 2, 3, 4, 5, 6, 7, 8, 9, 10, 11, 12)]\n",
    "\n",
    "# 시간대별 통행량을 년도별, 분기별, 지점별, 유입/유출 별로 나누어 합산\n",
    "Seoul_traffic_Quarter_new <- Seoul_traffic %>% group_by(Year, Quarter, Point_No, Inflow_Spill) %>% summarise(sum = sum(Time6_8, Time9_11, Time12_14, Time15_17, Time18_20, Time21_22))\n",
    "\n",
    "# 각 데이터에게 고유번호 부여\n",
    "qnp <- Seoul_traffic_Quarter_new %>% group_by() %>% mutate(code = row_number())\n",
    "\n",
    "# 년도별, 분기별, 지점별, 유입/유출 별로 각각 몇 건의 데이터가 있는지 계산 후 고유번호 부여\n",
    "countp <- Seoul_traffic %>%  group_by(Year, Quarter, Point_No, Inflow_Spill) %>% summarise(n=n()) %>% group_by() %>% mutate(code = row_number())\n",
    "\n",
    "# join을 통해 변수 합칠 때 겹치는 컬럼들을 제거\n",
    "countp <- countp %>% select(code, n)\n",
    "\n",
    "# 건수 데이터와 총합 데이터를 고유번호를 통해 합치기\n",
    "qnp <- qnp %>% inner_join(countp, by = c('code' = 'code')) \n",
    "\n",
    "# 년도별, 지점별, 유입/유출 별로 총합과 건수 합치기\n",
    "qnp <- qnp %>% group_by(Year, Point_No, Inflow_Spill) %>% summarise(allsum = sum(sum), alln = sum(n))\n",
    "\n",
    "# 시계열 함수인 lag를 사용하기 위해 순서부여\n",
    "qnp <- qnp %>% group_by() %>% mutate(seq = row_number())\n",
    "\n",
    "# 중간 저장 후 주석처리\n",
    "# write.csv(qnp, 'c:/Big Data Contest/년도_지점_유입출_sum_n_통합데이터.csv')\n",
    "\n",
    "# 알파벳 지점만 나올 수 있게 새로운 컬럼 만들기\n",
    "qwe <- qnp %>% mutate(Point_check = str_extract(Point_No, '[A-Z]{1,1}'))"
   ]
  },
  {
   "cell_type": "markdown",
   "id": "9b67d534",
   "metadata": {},
   "source": [
    "### 1-15. 각 지점값을 num이라는 변수에 입력하고 spread함수를 통해 데이터 변환 후 특정 기간별 증감율 확인(num에 B, C, D, F 중 입력)"
   ]
  },
  {
   "cell_type": "code",
   "execution_count": null,
   "id": "c1f842d4",
   "metadata": {},
   "outputs": [],
   "source": [
    "# num에 B, C, D, F를 입력해서 각 알파벳 지점별로 증감율 데이터 확인 하기\n",
    "num <- 'F'\n",
    "\n",
    "# 총합 / 총건수 를 담은 ratio 컬럼에 넣고 정해놓은 증감율 계산 법을 따라 계산 후 spread 함수를 통해 행으로 넓혀서 증감율 체크\n",
    "qwe %>% filter(Year <= 2018 & Point_check == num  & Inflow_Spill == '유입') %>% group_by(Point_No) %>% mutate(ratio = allsum/alln) %>%\n",
    "  mutate(lag_ratio = lag(ratio, 2)) %>% mutate(per_val = (ratio - lag_ratio) / ( lag_ratio/100)) %>% select(Point_No, Year, per_val) %>% \n",
    "  spread(key=Year, value=per_val)\n",
    "\n",
    "qwe %>% filter(Year <= 2018 & Point_check == num  & Inflow_Spill == '유출') %>% group_by(Point_No) %>% mutate(ratio = allsum/alln) %>%\n",
    "  mutate(lag_ratio = lag(ratio, 2)) %>% mutate(per_val = (ratio - lag_ratio) / ( lag_ratio/100)) %>% select(Point_No, Year, per_val) %>% \n",
    "  spread(key=Year, value=per_val)\n",
    "\n",
    "qwe %>% filter(Year >= 2018 & Point_check == num  & Inflow_Spill == '유입') %>% group_by(Point_No) %>% mutate(ratio = allsum/alln) %>%\n",
    "  mutate(lag_ratio = lag(ratio, 3)) %>% mutate(per_val = (ratio - lag_ratio) / ( lag_ratio/100)) %>% select(Point_No, Year, per_val) %>% \n",
    "  spread(key=Year, value=per_val)\n",
    "\n",
    "qwe %>% filter(Year >= 2018 & Point_check == num  & Inflow_Spill == '유출') %>% group_by(Point_No) %>% mutate(ratio = allsum/alln) %>%\n",
    "  mutate(lag_ratio = lag(ratio, 3)) %>% mutate(per_val = (ratio - lag_ratio) / ( lag_ratio/100)) %>% select(Point_No, Year, per_val) %>% \n",
    "  spread(key=Year, value=per_val)\n",
    "\n",
    "qwe %>% filter(Point_check == num  & Inflow_Spill == '유입') %>% group_by(Point_No) %>% mutate(ratio = allsum/alln) %>%\n",
    "  mutate(lag_ratio = lag(ratio, 3)) %>% mutate(per_val = (ratio - lag_ratio) / ( lag_ratio/100)) %>% select(Point_No, Year, per_val) %>% \n",
    "  spread(key=Year, value=per_val)\n",
    "\n",
    "qwe %>% filter(Point_check == num  & Inflow_Spill == '유출') %>% group_by(Point_No) %>% mutate(ratio = allsum/alln) %>%\n",
    "  mutate(lag_ratio = lag(ratio, 3)) %>% mutate(per_val = (ratio - lag_ratio) / ( lag_ratio/100)) %>% select(Point_No, Year, per_val) %>% \n",
    "  spread(key=Year, value=per_val)"
   ]
  },
  {
   "cell_type": "markdown",
   "id": "751c41a1",
   "metadata": {},
   "source": [
    "### 1-16. 지점별 유입, 유출 증감율 데이터를 변수에 담고 gather 함수를 이용해 시각화작업을 위한 데이터로 변환하기"
   ]
  },
  {
   "cell_type": "code",
   "execution_count": null,
   "id": "6e8f9486",
   "metadata": {},
   "outputs": [],
   "source": [
    "# 지점별 유입/ 우츨 증감율 데이터를 각 변수에 담기\n",
    "ipnb <- qwe %>% filter(Point_check == 'B'  & Inflow_Spill == '유입') %>% group_by(Point_No) %>% mutate(ratio = allsum/alln) %>%\n",
    "  mutate(lag_ratio = lag(ratio, 1)) %>% mutate(per_val = (ratio - lag_ratio) / ( lag_ratio/100)) %>% select(Point_No, Year, per_val) %>% \n",
    "  spread(key=Year, value=per_val)\n",
    "spnb <- qwe %>% filter(Point_check == 'B'  & Inflow_Spill == '유출') %>% group_by(Point_No) %>% mutate(ratio = allsum/alln) %>%\n",
    "  mutate(lag_ratio = lag(ratio, 1)) %>% mutate(per_val = (ratio - lag_ratio) / ( lag_ratio/100)) %>% select(Point_No, Year, per_val) %>% \n",
    "  spread(key=Year, value=per_val)\n",
    "ipnc <- qwe %>% filter(Point_check == 'C'  & Inflow_Spill == '유입') %>% group_by(Point_No) %>% mutate(ratio = allsum/alln) %>%\n",
    "  mutate(lag_ratio = lag(ratio, 1)) %>% mutate(per_val = (ratio - lag_ratio) / ( lag_ratio/100)) %>% select(Point_No, Year, per_val) %>% \n",
    "  spread(key=Year, value=per_val)\n",
    "spnc <- qwe %>% filter(Point_check == 'C'  & Inflow_Spill == '유출') %>% group_by(Point_No) %>% mutate(ratio = allsum/alln) %>%\n",
    "  mutate(lag_ratio = lag(ratio, 1)) %>% mutate(per_val = (ratio - lag_ratio) / ( lag_ratio/100)) %>% select(Point_No, Year, per_val) %>% \n",
    "  spread(key=Year, value=per_val)\n",
    "ipnd <- qwe %>% filter(Point_check == 'D'  & Inflow_Spill == '유입') %>% group_by(Point_No) %>% mutate(ratio = allsum/alln) %>%\n",
    "  mutate(lag_ratio = lag(ratio, 1)) %>% mutate(per_val = (ratio - lag_ratio) / ( lag_ratio/100)) %>% select(Point_No, Year, per_val) %>% \n",
    "  spread(key=Year, value=per_val)\n",
    "spnd <- qwe %>% filter(Point_check == 'D'  & Inflow_Spill == '유출') %>% group_by(Point_No) %>% mutate(ratio = allsum/alln) %>%\n",
    "  mutate(lag_ratio = lag(ratio, 1)) %>% mutate(per_val = (ratio - lag_ratio) / ( lag_ratio/100)) %>% select(Point_No, Year, per_val) %>% \n",
    "  spread(key=Year, value=per_val)\n",
    "ipnf <- qwe %>% filter(Point_check == 'F'  & Inflow_Spill == '유입') %>% group_by(Point_No) %>% mutate(ratio = allsum/alln) %>%\n",
    "  mutate(lag_ratio = lag(ratio, 1)) %>% mutate(per_val = (ratio - lag_ratio) / ( lag_ratio/100)) %>% select(Point_No, Year, per_val) %>% \n",
    "  spread(key=Year, value=per_val)\n",
    "spnf <- qwe %>% filter(Point_check == 'F'  & Inflow_Spill == '유출') %>% group_by(Point_No) %>% mutate(ratio = allsum/alln) %>%\n",
    "  mutate(lag_ratio = lag(ratio, 1)) %>% mutate(per_val = (ratio - lag_ratio) / ( lag_ratio/100)) %>% select(Point_No, Year, per_val) %>% \n",
    "  spread(key=Year, value=per_val)\n",
    "\n",
    "# 유입/ 유출을 기준으로 데이터 합치기\n",
    "ipn <- rbind(ipnb, ipnc, ipnd, ipnf)\n",
    "spn <- rbind(spnb, spnc, spnd, spnf)\n",
    "\n",
    "# 알파벳 지점 컬럼을 추가\n",
    "ipn <- ipn %>% mutate(Inflow_spill = if_else(Point_No != 0, '유입', '오류')) %>% mutate(Point_check = str_extract(Point_No, '[A-Z]{1,1}'))\n",
    "spn <- spn %>% mutate(Inflow_spill = if_else(Point_No != 0, '유출', '오류')) %>% mutate(Point_check = str_extract(Point_No, '[A-Z]{1,1}'))\n",
    "\n",
    "# 알파벳 지점을 부여받은 두 데이터를 하나의 통합데이터로 합치기\n",
    "pn <- rbind(ipn, spn)\n",
    "\n",
    "# gather 함수를 통해서 행데이터를 열 데이터로 변환\n",
    "pn_temp <- gather(pn, key='year', value = 'value', -Point_No, -Inflow_spill, -Point_check)"
   ]
  },
  {
   "cell_type": "markdown",
   "id": "e626ebf6",
   "metadata": {},
   "source": [
    "### 1-17. 반복문에 사용할 변수에 대한 값을 지정 후 반복문을 통한 시각화 처리 및 저장"
   ]
  },
  {
   "cell_type": "code",
   "execution_count": null,
   "id": "9ce4626d",
   "metadata": {},
   "outputs": [],
   "source": [
    "# 년도 데이터를 값이 중복되지 않게 변수에 저장\n",
    "para_list <- unique(pn_temp$year)\n",
    "# 데이터 수 확인\n",
    "length(para_list)\n",
    "\n",
    "# 알파벳 지점별 데이터를 중복되지 않게 변수에 저장\n",
    "pn_list <- unique(pn_temp$Point_check)\n",
    "# 데이터 수 확인\n",
    "length(pn_list)\n",
    "\n",
    "# 반복문을 통해서 각 년도별, 알파벳 지점별로 유입, 유출 데이터를 막대그래프로로 시각화 한 후 저장하기\n",
    "for (i in 2:length(para_list)){\n",
    "  v_para <- para_list[i]\n",
    "  for (k in 1:length(pn_list)){\n",
    "    v_pn <- pn_list[k]\n",
    "    pn_temp %>% filter(year == v_para & Inflow_spill == '유입' & Point_check ==  v_pn) %>% ggplot(aes(x = value, y = Point_No)) +\n",
    "      geom_col() + ggtitle(paste0(v_para, '년 ', v_pn, '지점 유입증감율')) +\n",
    "      ggsave(file = paste0(\"C:/Big Data Contest/지점년도별 증감율그래프/ipn_\", v_pn, v_para, \".jpg\"))\n",
    "  }\n",
    "}\n",
    "\n",
    "\n",
    "for (i in 2:length(para_list)){\n",
    "  v_para <- para_list[i]\n",
    "  for (k in 1:length(pn_list)){\n",
    "    v_pn <- pn_list[k]\n",
    "    pn_temp %>% filter(year == v_para & Inflow_spill == '유출' & Point_check ==  v_pn) %>% ggplot(aes(x = value, y = Point_No)) +\n",
    "      geom_col() + ggtitle(paste0(v_para, '년 ', v_pn, '지점 유출증감율')) +\n",
    "      ggsave(file = paste0(\"C:/Big Data Contest/지점년도별 증감율그래프/spn_\", v_pn, v_para, \".jpg\"))\n",
    "  }\n",
    "}"
   ]
  },
  {
   "cell_type": "markdown",
   "id": "a1015eef",
   "metadata": {},
   "source": [
    "# [2] 본론(2). 데이터 준비와 분석 및 시각화를 위한 전처리 (Python)"
   ]
  },
  {
   "cell_type": "code",
   "execution_count": null,
   "id": "d552817e",
   "metadata": {},
   "outputs": [],
   "source": [
    "# 데이터 전처리 기본 라이브러리\n",
    "import pandas as pd\n",
    "import numpy as np\n",
    "import glob\n",
    "import math\n",
    "\n",
    "# 그래프 시각화 라이브러리\n",
    "import matplotlib\n",
    "import matplotlib.pyplot as plt\n",
    "from matplotlib import rc, font_manager\n",
    "\n",
    "# 맵 시각화 라이브러리\n",
    "import folium\n",
    "from folium import plugins\n",
    "from folium.features import CustomIcon\n",
    "import json\n",
    "import requests"
   ]
  },
  {
   "cell_type": "markdown",
   "id": "3d643e95",
   "metadata": {},
   "source": [
    "### 2-1. 교통량 데이터 지점 번호별, 유입/유출 별 분류하기"
   ]
  },
  {
   "cell_type": "code",
   "execution_count": null,
   "id": "cc1fcf79",
   "metadata": {},
   "outputs": [],
   "source": [
    "# 년도와 월별로 구분되어있는 파일들 불러오기\n",
    "path = r'./CSV/년도별_total'\n",
    "filenames = glob.glob(path + \"/*.csv\")\n",
    "dfs = []\n",
    "point = 'F-09'\n",
    "\n",
    "# 루프로 각 지점 번호에 대한 데이터들 빼오기\n",
    "for filename in filenames:\n",
    "    df = pd.read_csv(filename, \n",
    "                     header = 0)\n",
    "    df = df[df['지점번호'] == point]\n",
    "    df = df.loc[:, ['일자', '요일', '지점번호', '구분', '방향', \n",
    "                    'time_1', 'time_2', 'time_3', 'time_4', \n",
    "                    'time_5', 'time_6', 'time_7', 'time_8', \n",
    "                    'total_day']]\n",
    "    dfs.append(df)\n",
    "    \n",
    "# 만들어진 프레임 합치고 유입과 유출을 구분하여 새로운 데이터 프레임 생성\n",
    "all_tables = pd.concat(dfs, axis = 0, ignore_index = True)\n",
    "all_tables = all_tables.sort_values(by = '일자', ascending = True)\n",
    "all_table_in = all_tables[all_tables['구분'] == '유입']\n",
    "all_table_out = all_tables[all_tables['구분'] == '유출']\n",
    "all_table_in = all_table_in.sort_values(by = '일자', ascending = True)\n",
    "all_table_out = all_table_out.sort_values(by = '일자', ascending = True)\n",
    "\n",
    "# 각 포인트별 토탈, 유입, 유출 세 버전으로 저장하기 \n",
    "all_tables.to_csv('./CSV/' + point+'.csv')\n",
    "all_table_in.to_csv('./CSV/'+point+'_IN.csv')\n",
    "all_table_out.to_csv('./CSV/'+point+'_OUT.csv')"
   ]
  },
  {
   "cell_type": "markdown",
   "id": "ef480b03",
   "metadata": {},
   "source": [
    "### 2-2. 교통량 데이터를 원하는 시간대별로 묶어 년도별, 월별 저장하기"
   ]
  },
  {
   "cell_type": "code",
   "execution_count": null,
   "id": "239e0ebb",
   "metadata": {},
   "outputs": [],
   "source": [
    "# 각 년도별 만들어진 폴더에서 모든 파일 가져와 작업 \n",
    "# 큰 문제가 원본 데이터에서 년도별 월별 컬럼 명칭과 갯수 등 파일 형식이 각기 달랐기에 루프로 작업하는데 어려움이 많았음.\n",
    "path = r'./CSV/2021'\n",
    "filenames = glob.glob(path + \"/*.csv\")\n",
    "dfs = []\n",
    "column_name = ['일자','요일','지점명','지점번호','구분','방향',\n",
    "               '0시','1시','2시','3시','4시','5시','6시','7시',\n",
    "               '8시','9시','10시','11시','12시','13시','14시',\n",
    "               '15시','16시','17시','18시','19시','20시','21시',\n",
    "               '22시','23시']\n",
    "\n",
    "for filename in filenames:\n",
    "    df = pd.read_csv(filename, \n",
    "                     header = None, thousands = ',')\n",
    "    \n",
    "    df.columns = column_name\n",
    "    df = df.drop([0])\n",
    "    df = df.dropna(axis=0)\n",
    "    dfs.append(df)\n",
    "    \n",
    "all_tables = pd.concat(dfs, axis = 0, ignore_index = True)\n",
    "\n",
    "# 1시간 단위로 보는것 보다 세시간 단위로 끊어 보는것이 편할 것 같아 타임 프레임을 새로 지정해줌\n",
    "time1 = ['0시','1시','2시']\n",
    "time2 = ['3시','4시','5시']\n",
    "time3 = ['6시','7시','8시']\n",
    "time4 = ['9시','10시','11시']\n",
    "time5 = ['12시','13시','14시']\n",
    "time6 = ['15시','16시','17시']\n",
    "time7 = ['18시','19시','20시']\n",
    "time8 = ['21시','22시','23시']\n",
    "time_total = ['0시','1시','2시', '3시','4시','5시', \n",
    "              '6시','7시','8시', '9시','10시','11시', \n",
    "             '12시','13시','14시', '15시','16시','17시',\n",
    "             '18시','19시','20시', '21시','22시','23시']\n",
    "\n",
    "# 각 타임 별, 각 날짜에 따른 합계를 구하기\n",
    "all_tables['time_1'] = all_tables[time1].sum(axis = 1)\n",
    "all_tables['time_2'] = all_tables[time2].sum(axis = 1)\n",
    "all_tables['time_3'] = all_tables[time3].sum(axis = 1)\n",
    "all_tables['time_4'] = all_tables[time4].sum(axis = 1)\n",
    "all_tables['time_5'] = all_tables[time5].sum(axis = 1)\n",
    "all_tables['time_6'] = all_tables[time6].sum(axis = 1)\n",
    "all_tables['time_7'] = all_tables[time7].sum(axis = 1)\n",
    "all_tables['time_8'] = all_tables[time8].sum(axis = 1)\n",
    "\n",
    "# 날짜 별 총 합 구하기\n",
    "all_tables['total_day'] = all_tables[time_total].sum(axis = 1)\n",
    "\n",
    "# 년도별 파일로 저장\n",
    "all_tables.to_csv('./CSV/2021_total.csv')"
   ]
  },
  {
   "cell_type": "markdown",
   "id": "e9ee4778",
   "metadata": {},
   "source": [
    "### 2-3. 개별로 만들어진 교통량 증감율 파일들을 하나의 파일로 합치기"
   ]
  },
  {
   "cell_type": "code",
   "execution_count": null,
   "id": "a094b57b",
   "metadata": {},
   "outputs": [],
   "source": [
    "# 유입/유출 폴더에서 모든 파일 불러오기\n",
    "path = r'./CSV/traffic/OUT'\n",
    "filenames = glob.glob(path + '/*.csv')\n",
    "dfs = []\n",
    "\n",
    "# 루프를 통해 파일 하나씩 불러 읽으며 한곳으로 모으기\n",
    "for filename in filenames:\n",
    "    df = pd.read_csv(filename, header = 0, thousands = ',')\n",
    "    dfs.append(df)\n",
    "    \n",
    "all_IN = pd.concat(dfs, axis = 0, ignore_index = False)\n",
    "all_IN = all_IN.sort_values(by = 'Point_No', ascending = True)\n",
    "\n",
    "column_name = ['0','Point_No','P1','P2','P3','P4','P5','P6','P7','P8','P9',\n",
    "               'P10','P11','P12','P13','P14','P15','P16','P17','P18',\n",
    "               'P19','P20','P21','P22']\n",
    "all_IN.columns = column_name\n",
    "\n",
    "# 소수점을 깔끔하게 하기위해 두자리수 까지만 남겨놓기\n",
    "all_IN['P2'] = round(all_IN['P2'],2)\n",
    "all_IN['P3'] = round(all_IN['P3'],2)\n",
    "all_IN['P4'] = round(all_IN['P4'],2)\n",
    "all_IN['P5'] = round(all_IN['P5'],2)\n",
    "all_IN['P6'] = round(all_IN['P6'],2)\n",
    "all_IN['P7'] = round(all_IN['P7'],2)\n",
    "all_IN['P8'] = round(all_IN['P8'],2)\n",
    "all_IN['P9'] = round(all_IN['P9'],2)\n",
    "all_IN['P10'] = round(all_IN['P10'],2)\n",
    "all_IN['P11'] = round(all_IN['P11'],2)\n",
    "all_IN['P12'] = round(all_IN['P12'],2)\n",
    "all_IN['P13'] = round(all_IN['P13'],2)\n",
    "all_IN['P14'] = round(all_IN['P14'],2)\n",
    "all_IN['P15'] = round(all_IN['P15'],2)\n",
    "all_IN['P16'] = round(all_IN['P16'],2)\n",
    "all_IN['P17'] = round(all_IN['P17'],2)\n",
    "all_IN['P18'] = round(all_IN['P18'],2)\n",
    "all_IN['P19'] = round(all_IN['P19'],2)\n",
    "all_IN['P20'] = round(all_IN['P20'],2)\n",
    "all_IN['P21'] = round(all_IN['P21'],2)\n",
    "all_IN['P22'] = round(all_IN['P22'],2)\n",
    "\n",
    "# 유입과 유출을 따로 구분하여 저장\n",
    "all_IN.to_csv('./CSV/traffic/유출_증감율.csv')"
   ]
  },
  {
   "cell_type": "markdown",
   "id": "a1903ba4",
   "metadata": {},
   "source": [
    "### 2-4. 외부 사이트에서 받은 서울시와 경기도의 시/구별 인구량 데이터를 필요한 기간과 지역에 맞춰 분류 작업하기"
   ]
  },
  {
   "cell_type": "code",
   "execution_count": null,
   "id": "79484fcc",
   "metadata": {},
   "outputs": [],
   "source": [
    "# 서울시 인구 데이터 가져오기\n",
    "df = pd.read_csv('./CSV/population/서울시_주민등록인구_구별_수정.csv', header = 0, index_col = False)\n",
    "\n",
    "# 구 이름으로 리스트 만들기\n",
    "region_list = ['강남구','강동구','강북구','강서구',\n",
    "                            '관악구','광진구','구로구','금천구','노원구',\n",
    "                            '도봉구','동대문구','동작구','마포구','서대문구',\n",
    "                            '서초구','성동구','성북구','송파구','양천구',\n",
    "                            '영등포구','용산구','은평구','종로구','중구','중랑구'\n",
    "                            ]\n",
    "\n",
    "# 루프에서 사용하기 위한 빈 리스트들\n",
    "r_list = []\n",
    "n_list = []\n",
    "\n",
    "# 각 구에 따른 데이터 정리해서 옮겨 담기\n",
    "for region in region_list:\n",
    "    r_list = df[df.isin(df[(df.자치구 == region)])]['인구']\n",
    "    n_list.append(r_list)\n",
    "    \n",
    "# 새로운 데이터 프레임을 만들어 리스트 합쳐주기\n",
    "df_new = pd.concat(n_list, axis = 1, ignore_index = True)\n",
    "\n",
    "df_new.to_csv('./CSV/서울시_주민등록인구_구별.csv')\n",
    "\n",
    "#-------------------------------------------------------------------\n",
    "\n",
    "# 같은 방식으로 경기도 인구 데이터 작업\n",
    "df = pd.read_csv('./CSV/population/경기도_시별_인구.csv', header = 0)\n",
    "\n",
    "# 숫자 값들이 str으로 지정되어있기 때문에 int로 바꿔주기\n",
    "for i in 0 ... 32 :\n",
    "    df[i] = df[i].astype(int)\n",
    "\n",
    "df_sub = pd.DataFrame(index = range(0,87),\n",
    "                     columns = ['합계','수원시','용인시','성남시','부천시',\n",
    "                                '화성시','안산시','안양시','평택시','시흥시',\n",
    "                                '김포시','광주시','광명시','군포시','하남시',\n",
    "                                '오산시','이천시','안성시','의왕시','양평군',\n",
    "                                '여주시','과천시','고양시','남양주시','파주시',\n",
    "                                '의정부시','양주시','구리시','포천시','동두천시',\n",
    "                                '가평군','연천군'])\n",
    "\n",
    "# 서울시 인구 데이터와 구성이 다르기 때문에 루프문에 조금의 차이가 있음\n",
    "idx = 1\n",
    "df.iloc[88,1]\n",
    "period_list = []\n",
    "frames = []\n",
    "\n",
    "while idx < 33:\n",
    "    for i in range(0,87,3):\n",
    "        period = df.iloc[i,idx]+df.iloc[i+1,idx]+df.iloc[i+2,idx]\n",
    "        period_list.append(period)\n",
    "        #print(period_list)\n",
    "    narray = np.array(period_list)\n",
    "    #period_list2 = pd.DataFrame.from_records(narray)\n",
    "    period_list2 = pd.Series(period_list)\n",
    "    frames += [period_list2]\n",
    "    period_list = []\n",
    "    idx += 1\n",
    "\n",
    "# 리스트에 담긴 데이터들 새로운 데이터 프레임에 합쳐주기\n",
    "result = pd.concat(frames, axis = 1, ignore_index = True)\n",
    "\n",
    "# 최종적으로 컬럼과 인덱스명 지정해주기\n",
    "result.columns = columns_cities\n",
    "result['분기'] = index_list\n",
    "\n",
    "result.to_csv('./CSV/population/경기도_시별_인구_분기별.csv')"
   ]
  },
  {
   "cell_type": "markdown",
   "id": "7578655b",
   "metadata": {},
   "source": [
    "### 2-5. 서울시와 경기도의 시/구별 인구량 데이터를 받아 증감율로 변환하기"
   ]
  },
  {
   "cell_type": "code",
   "execution_count": null,
   "id": "4f25621b",
   "metadata": {},
   "outputs": [],
   "source": [
    "# 서울시 구별 그리고 2015~2021에 해당하는 분기별 인구량 데이터 받아오기\n",
    "df = pd.read_csv('./CSV/population/서울시_주민등록인구_구별_수정.csv')\n",
    "\n",
    "# 숫자에서 천의 자리 , 부호 없애주기\n",
    "for i in 0 ... 28 :\n",
    "    df[i] = df[i].str.replace(',','')\n",
    "    \n",
    "# 숫자들이 str값으로 읽어지므로 이를 float으로 변환 후 int로 변환하기\n",
    "for j in 0 ... 28 :\n",
    "    df[j] = df[j].astype(float).astype(int)\n",
    "    \n",
    "#새로운 데이터 프레임을 만들어 인덱스와 컬럼명 재설정해준 후 데이터 옮겨주기\n",
    "df_sub = pd.DataFrame(index = range(1, 29), columns = ['강남구', '강동구', '강북구','강서구',\n",
    "                                 '관악구','광진구','구로구','금천구','노원구',\n",
    "                                 '도봉구','동대문구','동작구','마포구','서대문구',\n",
    "                                 '서초구','성동구','성북구','송파구','양천구',\n",
    "                                 '영등포구','용산구','은평구','종로구','중구','중랑구'])\n",
    "\n",
    "# 인구량 데이터를 인구 증감율 데이터로 계산해주기\n",
    "i = 0\n",
    "while i < 25:\n",
    "    for idx in range(1, 29):\n",
    "        sub = df.iloc[idx,i+1] - df.iloc[idx-1,i+1]\n",
    "        ratio = (sub/df.iloc[idx-1, i+1])*100\n",
    "        df_sub.loc[idx, df_sub.columns[i]] = round(ratio, 2)\n",
    "    i+=1\n",
    "\n",
    "# 인구 증감율 파일 csv로 저장하기\n",
    "df_sub.to_csv('./CSV/population/서울시_인구_증감율.csv')\n",
    "\n",
    "# 같은 방식으로 경기도 인구 증감율 파일 만들기\n",
    "df = pd.read_csv('./CSV/population/경기도_시별_인구_분기별.csv')\n",
    "\n",
    "df_sub = pd.DataFrame(index = range(1,29), columns = ['합계','수원시','용인시','성남시','부천시',\n",
    "                                '화성시','안산시','안양시','평택시','시흥시',\n",
    "                                '김포시','광주시','광명시','군포시','하남시',\n",
    "                                '오산시','이천시','안성시','의왕시','양평군',\n",
    "                                '여주시','과천시','고양시','남양주시','파주시',\n",
    "                                '의정부시','양주시','구리시','포천시','동두천시',\n",
    "                                '가평군','연천군'])\n",
    "\n",
    "i = 0\n",
    "while i < 32:\n",
    "    for idx in range(1,29):\n",
    "        sub = df.iloc[idx,i+1] - df.iloc[idx-1, i+1]\n",
    "        ratio = (sub/df.iloc[idx-1, i+1])*100\n",
    "        df_sub.loc[idx, df_sub.columns[i]] = round(ratio, 2)\n",
    "    i += 1\n",
    "    \n",
    "df_sub.to_csv('./CSV/population/경기도_인구_증감율.csv')"
   ]
  },
  {
   "cell_type": "markdown",
   "id": "19bc3522",
   "metadata": {},
   "source": [
    "# [3] 시각화1. 파이썬 matplotlib을 이용한 그래프 시각화"
   ]
  },
  {
   "cell_type": "markdown",
   "id": "d25eb1e9",
   "metadata": {},
   "source": [
    "### 3-1. matplotlib를 이용해 서울시와 경기도 인구 증감율에 대한 각 년도별 그래프 그리기\n"
   ]
  },
  {
   "cell_type": "markdown",
   "id": "d4ca32d7",
   "metadata": {},
   "source": [
    "* 이전에 정리된 서울시와 경기도의 년간 인구 증감율 csv 파일을 이용해 matplotlib로 그래프를 그린다. <br>\n",
    "* 그래프에서 y축이 될 구 혹은 시 이름들로 새로운 그룹을 만들어주고 파일 내에서 각 년도별로 순차적으로 데이터들을 가져온다. <br>\n",
    "* 한글 깨짐과 - 부호 깨짐 현상이 일어나므로 이를 방지하기 위해 맑은고딕 폰트로 미리 폰트 설정을 해주고 부호 또한 처리를 해준다. <br>\n",
    "* 기간별 증감율의 범위가 매우 다른편이기에 모든 기간에 공통 x축 범위를 지정하지 못하고, 각 그래프별 데이터에 맞춰 x축의 범위를 지정하였다. <br>\n",
    "* 경기도의 경우 애초에 경기통계를 통해 받은 원본 파일에 경기도 전체 합계 데이터가 들어가 있었으므로 굳이 빼지 않고 그래프에 추가하였다. <br> <br>\n",
    "    "
   ]
  },
  {
   "cell_type": "code",
   "execution_count": null,
   "id": "628f738c",
   "metadata": {},
   "outputs": [],
   "source": [
    "# 서울시 인구 데이터 파일 불러오기\n",
    "df = pd.read_csv('./CSV/population/서울시_YbyY증감율.csv')\n",
    "\n",
    "# 구 이름으로 그래프에 들어갈 그룹 정해주기\n",
    "group_names = ['강남구', '강동구', '강북구','강서구',\n",
    "                                 '관악구','광진구','구로구','금천구','노원구',\n",
    "                                 '도봉구','동대문구','동작구','마포구','서대문구',\n",
    "                                 '서초구','성동구','성북구','송파구','양천구',\n",
    "                                 '영등포구','용산구','은평구','종로구','중구','중랑구'\n",
    "                                ]\n",
    "\n",
    "# 파일 내에서 순차적으로 각 년도에 해당하는 인덱스별로 가져오기\n",
    "group_data = df.iloc[1, 1:]\n",
    "\n",
    "# 한글 깨짐 현상을 방지하기 위해 맑은고딕 폰트와 - 부호 설정\n",
    "rc('font', family = \"Malgun Gothic\")\n",
    "matplotlib.rcParams['axes.unicode_minus'] = False\n",
    "\n",
    "# 그래프 스타일 설정\n",
    "plt.style.use('fivethirtyeight')\n",
    "\n",
    "# 그래프 그리기 x축은 증감율로, y축은 구 이름으로 설정, 년도별 증감율 폭이 다르므로 각 년도별 \n",
    "# 사이즈에 맞는 x축 limit 정해주기\n",
    "plt.rcParams.update({'figure.autolayout': True})\n",
    "fig, ax = plt.subplots(figsize = (10, 10))\n",
    "ax.barh(group_names, group_data)\n",
    "labels = ax.get_xticklabels()\n",
    "plt.setp(labels, rotation = 0, horizontalalignment = 'right')\n",
    "ax.set(xlim = [-4, 3], xlabel = '증감율', ylabel = '구 이름', title = '서울시 인구 증감율 (2015~2016)')\n",
    "\n",
    "# dpi 200으로 그래프 png파일로 저장\n",
    "fig.savefig('./CSV/population/서울시인구증감율그래프(2015~2016).png', dpi = 200)\n",
    "\n",
    "# -------------------------------------------------------------------------------------------\n",
    "\n",
    "# 같은 방식으로 경기도 그래프 작업\n",
    "df = pd.read_csv('./CSV/population/경기도_YbyY증감율.csv')\n",
    "\n",
    "group_names = ['합계','수원시','용인시','성남시','부천시',\n",
    "                                '화성시','안산시','안양시','평택시','시흥시',\n",
    "                                '김포시','광주시','광명시','군포시','하남시',\n",
    "                                '오산시','이천시','안성시','의왕시','양평군',\n",
    "                                '여주시','과천시','고양시','남양주시','파주시',\n",
    "                                '의정부시','양주시','구리시','포천시','동두천시',\n",
    "                                '가평군','연천군']\n",
    "group_data = df.iloc[7, 1:]\n",
    "\n",
    "plt.rcParams.update({'figure.autolayout': True})\n",
    "fig, ax = plt.subplots(figsize = (10, 10))\n",
    "ax.barh(group_names, group_data)\n",
    "labels = ax.get_xticklabels()\n",
    "plt.setp(labels, rotation = 0, horizontalalignment = 'right')\n",
    "ax.set(xlim = [-15, 40], xlabel = '증감율(%)', ylabel = '시 이름', title = '경기도 인구 증감율 (2016~2021)')\n",
    "\n",
    "# dpi 200으로 경기도 그래프 png파일로 저장\n",
    "fig.savefig('./CSV/population/경기도인구증감율그래프(2016~2021).png', dpi = 200)"
   ]
  },
  {
   "cell_type": "markdown",
   "id": "93ef4794",
   "metadata": {},
   "source": [
    "### 3-2. 서울시와 경기도의 인구 증감율 그래프 예시"
   ]
  },
  {
   "cell_type": "markdown",
   "id": "2de53714",
   "metadata": {},
   "source": [
    "<img src=\"https://user-images.githubusercontent.com/34597321/130604293-6d14167e-60de-4ace-9645-9d45dc99e48d.png\" width=\"500\" height=\"500\" align=\"center\">"
   ]
  },
  {
   "cell_type": "markdown",
   "id": "06f47ac2",
   "metadata": {},
   "source": [
    "* 서울시 2016~2021 인구 증감율의 구별 그래프\n",
    "* 서울의 경우 지난 5년을 기준으로 봤을 때, 거의 모든 구에서 인구가 감소했고 강동구만 눈에 띄는 증가를 했음을 볼 수 있다."
   ]
  },
  {
   "cell_type": "markdown",
   "id": "c9231a4a",
   "metadata": {},
   "source": [
    "<img src=\"https://user-images.githubusercontent.com/34597321/130604705-c2d89bfa-7999-469d-bfd8-d9982c447610.png\" width=\"500\" height=\"500\" align=\"center\">"
   ]
  },
  {
   "cell_type": "markdown",
   "id": "a10c591d",
   "metadata": {},
   "source": [
    "* 경기도 2016~2021 인구 증감율의 시별 그래프\n",
    "위 경우엔 하남, 김포, 화성시의 인구가 지난 오년 사이에 비약적으로 증가했음을 알 수있고, \n",
    "해당하는 세 지역 모두 2기와 3기 신도시 개발이 크게 일어났던 지역들이다.\n",
    "<br>\n",
    "* 모든 시기에 해당하는 그래프들은 아래에있다.\n",
    "<br>\n",
    "<br>"
   ]
  },
  {
   "cell_type": "markdown",
   "id": "0f383056",
   "metadata": {},
   "source": [
    "# [4]시각화2. 파이썬 folium을 이용한 지도 시각화"
   ]
  },
  {
   "cell_type": "markdown",
   "id": "d22a63c4",
   "metadata": {},
   "source": [
    "### 4-1. 지도 시각화에 앞서 이전에 만들어진 지역별 인구 증감율 파일을 시각화하기 편하게끔 변환해 주기"
   ]
  },
  {
   "cell_type": "code",
   "execution_count": null,
   "id": "9887d93d",
   "metadata": {},
   "outputs": [],
   "source": [
    "# 서울시와 경기도 인구 데이터를 불러와 열과 행의 위치를 바꿔주고 필요한 컬럼들만 남기는 작업\n",
    "# Folium에서 csv파일을 받아 사용하기 위해서는 기간과 시/구가 컬럼이 되어야함\n",
    "seoul_data = pd.read_csv('./CSV/population/서울시_YbyY증감율.csv', header = 0)\n",
    "seoul_data = seoul_data.T\n",
    "column = ['Y2015-Y2014','Y2016-Y2015','Y2017-Y2016','Y2018-Y2017',\n",
    "          'Y2019-Y2018','Y2020-Y2019','Y2021-Y2020','Y2021-Y2016', 'district_name']\n",
    "seoul_data = seoul_data.drop(['기간'])\n",
    "seoul_data.columns = column\n",
    "\n",
    "seoul_data.to_csv('./CSV/population/seoul_map_total.csv')"
   ]
  },
  {
   "cell_type": "markdown",
   "id": "3adeb55f",
   "metadata": {},
   "source": [
    "### 4-2. Folium을 이용해 2016부터 2021년까지의 서울시와 경기도 인구 변화와 교통량 변화량을 보여주는 지도 만들기"
   ]
  },
  {
   "cell_type": "markdown",
   "id": "e620533f",
   "metadata": {},
   "source": [
    "* Folium 라이브러리를 이용해 서울과 경기도의 구별, 시별 인구 증감율을 지도로 나타내준다. <br>\n",
    "* 서울과 경기 모두 2016년부터 2021년까지의 1년단위 layer과 16~21년의 5년단위 layer를 만들어준다. <br>\n",
    "* 한국의 각 시, 구 별 경계 좌표가 들어있는 json파일을 받아와 연결해준다. <br>\n",
    "* 구분을 위하여 서울시는 파란색으로 경기도는 초록색으로 명암단위 표시를 해주었다. <br>\n",
    "* 교통량 데이터에서의 측정 위치를 나타내주는 마커들을 생성하고 편의를 위해 B, C, D, F points의 각각의 sub group을 만들어 담아준다. 그리고 모든 마커들을 통틀어 컨트롤 할 수 있는 큰 group안에 sub group들을 넣어준다. <br>\n",
    "* 각각의 마커들은 클릭 시에 마커가 담고 있는 지점번호, 지점명 그리고 2016-2021간의 교통량 유입/유출 증감율을 보여준다. <br>\n",
    "<br>"
   ]
  },
  {
   "cell_type": "code",
   "execution_count": null,
   "id": "d8ed81ab",
   "metadata": {},
   "outputs": [],
   "source": [
    "# 서울시 인구 데이터 구별, 년도별로 구분하기\n",
    "seoul_data = pd.read_csv('./CSV/population/seoul_map_total.csv', header = 0)\n",
    "\n",
    "seoul_data_1 = seoul_data[['district_name', 'Y2021-Y2016']]\n",
    "seoul_data_2 = seoul_data[['district_name', 'Y2021-Y2020']]\n",
    "seoul_data_3 = seoul_data[['district_name', 'Y2020-Y2019']]\n",
    "seoul_data_4 = seoul_data[['district_name', 'Y2019-Y2018']]\n",
    "seoul_data_5 = seoul_data[['district_name', 'Y2018-Y2017']]\n",
    "seoul_data_6 = seoul_data[['district_name', 'Y2017-Y2016']]\n",
    "\n",
    "# 경기도 인구 데이터 시별, 년도별로 구분하기\n",
    "gyeonggi_data = pd.read_csv('./CSV/population/gyeonggi_data_total.csv', header = 0)\n",
    "\n",
    "gyeonggi_data_1 = gyeonggi_data[['District_Name', 'Y2021-Y2016']]\n",
    "gyeonggi_data_2 = gyeonggi_data[['District_Name', 'Y2021-Y2020']]\n",
    "gyeonggi_data_3 = gyeonggi_data[['District_Name', 'Y2020-Y2019']]\n",
    "gyeonggi_data_4 = gyeonggi_data[['District_Name', 'Y2019-Y2018']]\n",
    "gyeonggi_data_5 = gyeonggi_data[['District_Name', 'Y2018-Y2017']]\n",
    "gyeonggi_data_6 = gyeonggi_data[['District_Name', 'Y2017-Y2016']]\n",
    "\n",
    "# 한국의 각 시, 구 별 경계 좌표가 들어있는 json 파일\n",
    "req = requests.get('https://raw.githubusercontent.com/southkorea/southkorea-maps/master/kostat/2013/json/skorea_municipalities_geo_simple.json')\n",
    "state_geo = req.json()\n",
    "\n",
    "# 지도의 중심을 서울 중심 좌표로 설정\n",
    "seoul_map = folium.Map(location = [37.5502, 126.982],\n",
    "                      zoom_start = 10.5)\n",
    "                      #tiles = 'cartodbpositron')\n",
    "                      #tiles = 'openstreetmap')\n",
    "\n",
    "# Folium의 Choropleth를 이용해 위에서 나눈 각 데이터프레임들을 지도에 적용, 레이어 만들기\n",
    "folium.Choropleth(\n",
    "    geo_data = state_geo,\n",
    "    name = '서울시 인구변화 16~21',\n",
    "    data = seoul_data_1,\n",
    "    columns = ['district_name','Y2021-Y2016'],\n",
    "    key_on = 'feature.properties.name',\n",
    "    fill_color = 'Blues',\n",
    "    fill_opacity = 0.7,\n",
    "    line_opacity = 0.3,\n",
    "    Highlight = True,\n",
    "    show = False,\n",
    "    overlay = True,\n",
    "    legend_name = '서울 16~21'\n",
    "    ).add_to(seoul_map)\n",
    "\n",
    "folium.Choropleth(\n",
    "    geo_data = state_geo,\n",
    "    name = '서울시 인구변화 20~21',\n",
    "    data = seoul_data_2,\n",
    "    columns = ['district_name','Y2021-Y2020'],\n",
    "    key_on = 'feature.properties.name',\n",
    "    fill_color = 'Blues',\n",
    "    fill_opacity = 0.7,\n",
    "    line_opacity = 0.3,\n",
    "    Highlight = True,\n",
    "    show = False,\n",
    "    overlay = True,\n",
    "    legend_name = '서울 20~21'\n",
    "    ).add_to(seoul_map)\n",
    "\n",
    "folium.Choropleth(\n",
    "    geo_data = state_geo,\n",
    "    name = '서울시 인구변화 19~20',\n",
    "    data = seoul_data_3,\n",
    "    columns = ['district_name','Y2020-Y2019'],\n",
    "    key_on = 'feature.properties.name',\n",
    "    fill_color = 'Blues',\n",
    "    fill_opacity = 0.7,\n",
    "    line_opacity = 0.3,\n",
    "    Highlight = True,\n",
    "    show = False,\n",
    "    overlay = True,\n",
    "    legend_name = '서울 19~20'\n",
    "    ).add_to(seoul_map)\n",
    "\n",
    "folium.Choropleth(\n",
    "    geo_data = state_geo,\n",
    "    name = '서울시 인구변화 18~19',\n",
    "    data = seoul_data_4,\n",
    "    columns = ['district_name','Y2019-Y2018'],\n",
    "    key_on = 'feature.properties.name',\n",
    "    fill_color = 'Blues',\n",
    "    fill_opacity = 0.7,\n",
    "    line_opacity = 0.3,\n",
    "    Highlight = True,\n",
    "    show = False,\n",
    "    overlay = True,\n",
    "    legend_name = '서울 18~19'\n",
    "    ).add_to(seoul_map)\n",
    "\n",
    "folium.Choropleth(\n",
    "    geo_data = state_geo,\n",
    "    name = '서울시 인구변화 17~18',\n",
    "    data = seoul_data_5,\n",
    "    columns = ['district_name','Y2018-Y2017'],\n",
    "    key_on = 'feature.properties.name',\n",
    "    fill_color = 'Blues',\n",
    "    fill_opacity = 0.7,\n",
    "    line_opacity = 0.3,\n",
    "    Highlight = True,\n",
    "    show = False,\n",
    "    overlay = True,\n",
    "    legend_name = '서울 17~18'\n",
    "    ).add_to(seoul_map)\n",
    "\n",
    "folium.Choropleth(\n",
    "    geo_data = state_geo,\n",
    "    name = '서울시 인구변화 16~17',\n",
    "    data = seoul_data_6,\n",
    "    columns = ['district_name','Y2017-Y2016'],\n",
    "    key_on = 'feature.properties.name',\n",
    "    fill_color = 'Blues',\n",
    "    fill_opacity = 0.7,\n",
    "    line_opacity = 0.3,\n",
    "    Highlight = True,\n",
    "    show = False,\n",
    "    overlay = True,\n",
    "    legend_name = '서울 16~17'\n",
    "    ).add_to(seoul_map)\n",
    "\n",
    "#-----------------------------------------------------------------------\n",
    "\n",
    "folium.Choropleth(\n",
    "    geo_data = state_geo,\n",
    "    name = '경기도 인구변화 16~21',\n",
    "    data = gyeonggi_data_1,\n",
    "    columns = ['District_Name', 'Y2021-Y2016'],\n",
    "    key_on = 'feature.properties.name',\n",
    "    fill_color = 'Greens',\n",
    "    fill_opacity = 0.7,\n",
    "    line_opacity = 0.3,\n",
    "    Highlight = True,\n",
    "    show = False,\n",
    "    overlay = True,\n",
    "    legend_name = '경기 16~21'\n",
    "    ).add_to(seoul_map)\n",
    "\n",
    "folium.Choropleth(\n",
    "    geo_data = state_geo,\n",
    "    name = '경기도 인구변화 20~21',\n",
    "    data = gyeonggi_data_2,\n",
    "    columns = ['District_Name', 'Y2021-Y2020'],\n",
    "    key_on = 'feature.properties.name',\n",
    "    fill_color = 'Greens',\n",
    "    fill_opacity = 0.7,\n",
    "    line_opacity = 0.3,\n",
    "    Highlight = True,\n",
    "    show = False,\n",
    "    overlay = True,\n",
    "    legend_name = '경기 20~21'\n",
    "    ).add_to(seoul_map)\n",
    "\n",
    "folium.Choropleth(\n",
    "    geo_data = state_geo,\n",
    "    name = '경기도 인구변화 19~20',\n",
    "    data = gyeonggi_data_3,\n",
    "    columns = ['District_Name', 'Y2020-Y2019'],\n",
    "    key_on = 'feature.properties.name',\n",
    "    fill_color = 'Greens',\n",
    "    fill_opacity = 0.7,\n",
    "    line_opacity = 0.3,\n",
    "    Highlight = True,\n",
    "    show = False,\n",
    "    overlay = True,\n",
    "    legend_name = '경기 19~20'\n",
    "    ).add_to(seoul_map)\n",
    "\n",
    "folium.Choropleth(\n",
    "    geo_data = state_geo,\n",
    "    name = '경기도 인구변화 18~19',\n",
    "    data = gyeonggi_data_4,\n",
    "    columns = ['District_Name', 'Y2019-Y2018'],\n",
    "    key_on = 'feature.properties.name',\n",
    "    fill_color = 'Greens',\n",
    "    fill_opacity = 0.7,\n",
    "    line_opacity = 0.3,\n",
    "    Highlight = True,\n",
    "    show = False,\n",
    "    overlay = True,\n",
    "    legend_name = '경기 18~19'\n",
    "    ).add_to(seoul_map)\n",
    "\n",
    "folium.Choropleth(\n",
    "    geo_data = state_geo,\n",
    "    name = '경기도 인구변화 17~18',\n",
    "    data = gyeonggi_data_5,\n",
    "    columns = ['District_Name', 'Y2018-Y2017'],\n",
    "    key_on = 'feature.properties.name',\n",
    "    fill_color = 'Greens',\n",
    "    fill_opacity = 0.7,\n",
    "    line_opacity = 0.3,\n",
    "    Highlight = True,\n",
    "    show = False,\n",
    "    overlay = True,    \n",
    "    legend_name = '경기 17~18'\n",
    "    ).add_to(seoul_map)\n",
    "\n",
    "folium.Choropleth(\n",
    "    geo_data = state_geo,\n",
    "    name = '경기도 인구변화 16~17',\n",
    "    data = gyeonggi_data_6,\n",
    "    columns = ['District_Name', 'Y2017-Y2016'],\n",
    "    key_on = 'feature.properties.name',\n",
    "    fill_color = 'Greens',\n",
    "    fill_opacity = 0.7,\n",
    "    line_opacity = 0.3,\n",
    "    Highlight = True,\n",
    "    show = False,\n",
    "    overlay = True,\n",
    "    legend_name = '경기 16~17'\n",
    "    ).add_to(seoul_map)\n",
    "\n",
    "# 교통량 측정 지점을 담고 있는 마커들을 효율적으로 관리하기 위해 각 지점번호별 서브 그룹 만들고 \n",
    "# Markers 그룹의 서브 그룹으로 부여\n",
    "fg = folium.FeatureGroup(name = 'Markers 2016~2021', show = False)\n",
    "seoul_map.add_child(fg)\n",
    "g1 = folium.plugins.FeatureGroupSubGroup(fg, 'B_Points')\n",
    "seoul_map.add_child(g1)\n",
    "g2 = folium.plugins.FeatureGroupSubGroup(fg, 'C_Points')\n",
    "seoul_map.add_child(g2)\n",
    "g3 = folium.plugins.FeatureGroupSubGroup(fg, 'D_Points')\n",
    "seoul_map.add_child(g3)\n",
    "g4 = folium.plugins.FeatureGroupSubGroup(fg, 'F_Points')\n",
    "seoul_map.add_child(g4)\n",
    "\n",
    "folium.LayerControl(collapsed = True).add_to(seoul_map)\n",
    "\n",
    "# 반복되는 코드들을 모두 표시하기엔 가독성이 떨어져 <간략>으로 표시하고 대표하는 코드들만 나타내었다.\n",
    "# <간략> BeautifyIcon plugin을 이용해 각 마커의 색상과 디자인 부여하는 예시\n",
    "icon_number_b1 = plugins.BeautifyIcon(\n",
    "    border_color = '#FF0000', \n",
    "    text_color = '#FF0000',\n",
    "    number = 1,\n",
    "    inner_icon_style = 'margin-top:0'\n",
    ")\n",
    "\n",
    "# <간략> 각 지점별 마커를 만들고, 팝업으로 지점 번호, 지점명, 16~21년에 해당하는 유입, 유출량 표시하는 예시\n",
    "folium.Marker(\n",
    "    location = [37.6899062,127.0428593], \n",
    "    popup = folium.Popup(\"<b>B-1 도봉로 <br>유입:1.15% <br>유출:-15.19% </br></br></b>\",max_width = 200),\n",
    "    tooltip = tooltip,\n",
    "    icon = icon_number_b1\n",
    "    ).add_to(g1)\n",
    "\n",
    "# 완성된 지도를 html파일로 저장\n",
    "seoul_map.save('./CSV/population/sudogwon_map.html')"
   ]
  },
  {
   "cell_type": "markdown",
   "id": "0da93276",
   "metadata": {},
   "source": [
    "### 4-3. 서울과 경기도의 맵 예시"
   ]
  },
  {
   "cell_type": "markdown",
   "id": "1e5eef77",
   "metadata": {},
   "source": [
    "<img src=\"https://user-images.githubusercontent.com/34597321/130607341-1cee88cf-3b19-4c5a-9bd0-7539f169380e.png\" width=\"500\" height=\"500\"></img>\n",
    "<br><br>"
   ]
  },
  {
   "cell_type": "markdown",
   "id": "33781eee",
   "metadata": {},
   "source": [
    "* 수도권 지도내 경기지역 16~21 인구 증감율 지도와 서울 시내 교통량 측정 지점 마커들이 켜져 있는 상태이다. <br>"
   ]
  },
  {
   "cell_type": "markdown",
   "id": "99fcbc68",
   "metadata": {},
   "source": [
    "<img src=\"https://user-images.githubusercontent.com/34597321/130607345-e6877645-a0a6-4203-9c7d-2361b6e49cfc.png\" width=\"500\" height=\"500\"></img>\n",
    "<br><br>"
   ]
  },
  {
   "cell_type": "markdown",
   "id": "7d5b8997",
   "metadata": {},
   "source": [
    "* 수도권 지도내 서울지역 16~21 인구 증감율 지도와 서울 시내 교통량 측정 지점 마커들이 켜져 있는 상태이다.\n",
    "<br>"
   ]
  },
  {
   "cell_type": "markdown",
   "id": "35b0529a",
   "metadata": {},
   "source": [
    "<img src=\"https://user-images.githubusercontent.com/34597321/130607336-dab78559-7cfd-4637-828b-cdd7c2fe6eea.png\" width=\"500\" height=\"500\"></img>\n",
    "<br><br>"
   ]
  },
  {
   "cell_type": "markdown",
   "id": "317d7acb",
   "metadata": {},
   "source": [
    "* 마커는 위와 같이 툴팁과 팝업 기능이 있고 툴팁을 클릭해 팝업을 띄울 시에는 지점번호, 지점명, 5년간의 유입, 유출 증감율이 나타난다. <br>\n",
    "* (더 다양한 지도 이미지는 아래에있다.)\n",
    "<br>\n",
    "<br>"
   ]
  },
  {
   "cell_type": "markdown",
   "id": "8186da07",
   "metadata": {},
   "source": [
    "# [5] 시각화3. 파이썬 folium의 dualmap 시각화"
   ]
  },
  {
   "cell_type": "markdown",
   "id": "18b7d44b",
   "metadata": {},
   "source": [
    "### 5-1. Folium Dual Map을 이용해 2016 ~ 2018과 2018 ~ 2021 두 기간별 인구 증감율과 교통량 증감율 비교"
   ]
  },
  {
   "cell_type": "markdown",
   "id": "795e8192",
   "metadata": {},
   "source": [
    "* 위에서 사용한 서울시와 경기도의 인구량 데이터를 사용하지만 듀얼맵의 경우에는 조금 더 명확한 차이를 보기 위해 모든 년도의 인구 증감율이 아닌 2016-2018과 2018-2021 두 구간으로 나누어 왼쪽 오른쪽으로 배치한다.\n",
    "* 왼쪽은 서울시와 경기도의 2016-2018년 간의 인구 증감율과, 같은 기간동안의 교통량 지점별 증감율을 따졌을 때 가장 증가세가 높은 지점들을 골라 유입, 유출을 나누어 서클 마커로 표시하였다. \n",
    "* 오른쪽은 같은 지도이지만 기간이 2018-2021년에 해당한다.\n",
    "* 서클 마커의 경우 빨간색은 유입이고 파란색은 유출이다. 각 서클 마커를 클릭하였을 때는 지점번호, 지점명, 그리고 해당 기간 동안의 증가율을 보여준다. \n",
    "* 마찬가지로 마커 관리의 편의를 위하여, 각 지도별, 유입/유출별, 지점번호별 서브 그룹을 만들어 넣어주었고, 큰 그룹으로는 유입과 유출 마커들을 관리 할 수 있도록 하였다."
   ]
  },
  {
   "cell_type": "code",
   "execution_count": null,
   "id": "52c611e4",
   "metadata": {},
   "outputs": [],
   "source": [
    "# 서울과 경기지역의 인구 증감율 데이터 불러오기\n",
    "seoul_data = pd.read_csv('./CSV/population/seoul_map_total.csv', header = 0)\n",
    "seoul_data_1 = seoul_data[['district_name', 'Y2018-Y2016']]\n",
    "seoul_data_2 = seoul_data[['district_name', 'Y2021-Y2018']]\n",
    "\n",
    "gyeonggi_data = pd.read_csv('./CSV/population/gyeonggi_data_total.csv', header = 0)\n",
    "gyeonggi_data_1 = gyeonggi_data[['District_Name', 'Y2018-Y2016']]\n",
    "gyeonggi_data_2 = gyeonggi_data[['District_Name', 'Y2021-Y2018']]\n",
    "\n",
    "# 한국의 각 시, 구 별 경계 좌표가 들어있는 json 파일\n",
    "req = requests.get('https://raw.githubusercontent.com/southkorea/southkorea-maps/master/kostat/2013/json/skorea_municipalities_geo_simple.json')\n",
    "state_geo = req.json()\n",
    "\n",
    "# 맵의 중심은 서울 중앙으로 설정\n",
    "m = folium.plugins.DualMap(location = [37.5502, 126.982], \n",
    "                           zoom_start = 10.5,\n",
    "                          tiles = 'openstreetmap')\n",
    "\n",
    "# 듀얼맵의 각 페이지에 들어갈 서울, 경기 지역 레이어 설정\n",
    "layer_1 = folium.features.Choropleth( \n",
    "    geo_data = state_geo,\n",
    "    name = '서울시 인구 증감율 16~18',\n",
    "    data = seoul_data_1,\n",
    "    columns = ['district_name', 'Y2018-Y2016'],\n",
    "    key_on = 'feature.properties.name',\n",
    "    fill_color = 'Blues',\n",
    "    fill_opacity = 0.8,\n",
    "    line_opacity = 0.5,\n",
    "    show = False,\n",
    "    legend_name = '서울 16-18'\n",
    ").add_to(m.m1)\n",
    "\n",
    "layer_2 = folium.features.Choropleth( \n",
    "    geo_data = state_geo,\n",
    "    name = '서울시 인구 증감율 18~21',\n",
    "    data = seoul_data_2,\n",
    "    columns = ['district_name', 'Y2021-Y2018'],\n",
    "    key_on = 'feature.properties.name',\n",
    "    fill_color = 'Blues',\n",
    "    fill_opacity = 0.8,\n",
    "    line_opacity = 0.5,\n",
    "    show = False,\n",
    "    legend_name = '서울 18-21'\n",
    ").add_to(m.m2)\n",
    "\n",
    "layer_3 = folium.features.Choropleth(\n",
    "    geo_data = state_geo,\n",
    "    name = '경기도 인구 증감율 16~18',\n",
    "    data = gyeonggi_data_1,\n",
    "    columns = ['District_Name', 'Y2018-Y2016'],\n",
    "    key_on = 'feature.properties.name',\n",
    "    fill_color = 'Greens',\n",
    "    fill_opacity = 0.8,\n",
    "    line_opacity = 0.5,\n",
    "    show = False,\n",
    "    legend_name = '경기 16-18'\n",
    ").add_to(m.m1)\n",
    "\n",
    "layer_4 = folium.features.Choropleth(\n",
    "    geo_data = state_geo,\n",
    "    name = '경기도 인구 증감율 18~21',\n",
    "    data = gyeonggi_data_2,\n",
    "    columns = ['District_Name', 'Y2021-Y2018'],\n",
    "    key_on = 'feature.properties.name',\n",
    "    fill_color = 'Greens',\n",
    "    fill_opacity = 0.8,\n",
    "    line_opacity = 0.5,\n",
    "    show = False,\n",
    "    legend_name = '경기 18-21'\n",
    ").add_to(m.m2)\n",
    "\n",
    "# folium FeatureGroup과 plugins를 이용해\n",
    "# 각 기간별 교통량 유입과 유출의 가장 큰 변화가 있는 지점들만 골라내 원형 마커로 표시하기 위한 그룹핑 작업\n",
    "fg1 = folium.FeatureGroup(name = '<유입> 2016~2018_Circle_Markers', show = False).add_to(m.m1)\n",
    "fg2 = folium.FeatureGroup(name = '<유출> 2016~2018_Circle_Markers', show = False).add_to(m.m1)\n",
    "g5 = folium.plugins.FeatureGroupSubGroup(fg1, name = '<유입> B markers').add_to(m.m1)\n",
    "g6 = folium.plugins.FeatureGroupSubGroup(fg1, name = '<유입> C markers').add_to(m.m1)\n",
    "g7 = folium.plugins.FeatureGroupSubGroup(fg1, name = '<유입> D markers').add_to(m.m1)\n",
    "g8 = folium.plugins.FeatureGroupSubGroup(fg1, name = '<유입> F markers').add_to(m.m1)\n",
    "g9 = folium.plugins.FeatureGroupSubGroup(fg2, name = '<유출> B markers').add_to(m.m1)\n",
    "g10 = folium.plugins.FeatureGroupSubGroup(fg2, name = '<유출> C markers').add_to(m.m1)\n",
    "g11 = folium.plugins.FeatureGroupSubGroup(fg2, name = '<유출> D markers').add_to(m.m1)\n",
    "g12 = folium.plugins.FeatureGroupSubGroup(fg2, name = '<유출> F markers').add_to(m.m1)\n",
    "\n",
    "fg3 = folium.FeatureGroup(name = '<유입> 2018~2021_Circle_Markers', show = False).add_to(m.m2)\n",
    "fg4 = folium.FeatureGroup(name = '<유출> 2018~2021_Circle_Markers', show = False).add_to(m.m2)\n",
    "h5 = folium.plugins.FeatureGroupSubGroup(fg3, name = '<유입> B markers').add_to(m.m2)\n",
    "h6 = folium.plugins.FeatureGroupSubGroup(fg3, name = '<유입> C markers').add_to(m.m2)\n",
    "h7 = folium.plugins.FeatureGroupSubGroup(fg3, name = '<유입> D markers').add_to(m.m2)\n",
    "h8 = folium.plugins.FeatureGroupSubGroup(fg3, name = '<유입> F markers').add_to(m.m2)\n",
    "h9 = folium.plugins.FeatureGroupSubGroup(fg4, name = '<유출> B markers').add_to(m.m2)\n",
    "h10 = folium.plugins.FeatureGroupSubGroup(fg4, name = '<유출> C markers').add_to(m.m2)\n",
    "h11 = folium.plugins.FeatureGroupSubGroup(fg4, name = '<유출> D markers').add_to(m.m2)\n",
    "h12 = folium.plugins.FeatureGroupSubGroup(fg4, name = '<유출> F markers').add_to(m.m2)\n",
    "\n",
    "folium.LayerControl(collapsed = True).add_to(m)\n",
    "\n",
    "# 반복되는 코드들을 모두 표시하기엔 가독성이 떨어져 <간략>으로 표시하고 대표하는 코드들만 나타내었다.\n",
    "# <간략> 원형 마커를 위한 예시 (년도와 유입/유출, 지점번호에 맞게 각 그룹에 추가)\n",
    "folium.CircleMarker(\n",
    "    [37.5544386,127.1083746],\n",
    "    radius = 25,\n",
    "    color = 'red',\n",
    "    fill_color = '#ffffggg',\n",
    "    popup = '<b>B-3 <br>아차산로 <br>+38.11%</br></br></b>'\n",
    ").add_to(g5)\n",
    "\n",
    "folium.CircleMarker(\n",
    "    [37.6186095,127.1023901],\n",
    "    radius = 20,\n",
    "    color = 'blue',\n",
    "    fill_color = '#ffffggg',\n",
    "    popup = '<b>B-5 <br>경춘북로 <br>+28.67</br></br></b>'\n",
    ").add_to(g9)\n",
    "\n",
    "# 완성된 듀얼맵을 html로 저장\n",
    "m.save('./CSV/population/dualmap.html')"
   ]
  },
  {
   "cell_type": "markdown",
   "id": "14133628",
   "metadata": {},
   "source": [
    "### 5-2. 듀얼맵 예시"
   ]
  },
  {
   "cell_type": "markdown",
   "id": "227ba559",
   "metadata": {},
   "source": [
    "<img src=\"https://user-images.githubusercontent.com/34597321/130607317-91c6ad14-4732-420a-b99b-0f1e341d2506.png\" width=\"800\" height=\"600\"></img>\n",
    "                                                                         \n"
   ]
  },
  {
   "cell_type": "markdown",
   "id": "1f187080",
   "metadata": {},
   "source": [
    "* 듀얼 맵에서 서울 인구 증감율 지도 2016-2018 <왼쪽>과 서울 인구 증감율 지도 2018-2021 <오른쪽> 그리고 같은 기간내 교통량 증가세가 가장 컸던 지점들의 유출 유입 마커가 켜져있는 상태이다.\n",
    "<br>\n",
    "* (더 다양한 듀얼맵 이미지는 아래에 있다.)\n",
    "<br>\n",
    "<br>"
   ]
  },
  {
   "cell_type": "markdown",
   "id": "271e24bf",
   "metadata": {},
   "source": [
    "# [6] 정리. 데이터 결과 요약"
   ]
  },
  {
   "cell_type": "markdown",
   "id": "e19aceac",
   "metadata": {},
   "source": [
    "## 6-1. 인구 증감율 (2016년 - 2021년)"
   ]
  },
  {
   "cell_type": "markdown",
   "id": "096120ca",
   "metadata": {},
   "source": [
    "* 서울 인구 증가율 Top 3 : <br>\n",
    "    1) 강동구 (약 +5%) <br>\n",
    "    <br>\n",
    "* 서울 인구 감소율 Top 3:<br>\n",
    "    1) 노원구 (약 -8.5%)<br>\n",
    "    2) 도봉구 (약 -7.5%)<br>\n",
    "    3) 강북구 (약 -7%)<br>\n",
    "    <br>\n",
    "* 경기도 인구 증가율 Top 4:<br>\n",
    "    1) 하남시 (약 +39%)<br>\n",
    "    2) 화성시 (약 +33%)<br>\n",
    "    3) 김포시 (약 +33%)<br>\n",
    "    4) 시흥시 (약 +26%)<br>\n",
    "    <br>\n",
    "* 경기도 인구 감소율 Top 2:<br>\n",
    "    1) 광명시 (약 -13%)<br>\n",
    "    2) 안양시 (약 -8%)<br>"
   ]
  },
  {
   "cell_type": "markdown",
   "id": "c9127f77",
   "metadata": {},
   "source": [
    "## 6-2. 교통 증감율 (2016년 - 2021년)"
   ]
  },
  {
   "cell_type": "markdown",
   "id": "ae332a5a",
   "metadata": {},
   "source": [
    "<img src=\"https://user-images.githubusercontent.com/34597321/131308630-ed24b05e-39b8-4d4f-88f0-a856a92cf303.jpg\" width=\"800\" height=\"600\">\n",
    "<img src=\"https://user-images.githubusercontent.com/34597321/131308639-bfd1c94c-71db-41d8-869e-35eb2139e5d7.jpg\" width=\"800\" height=\"600\">"
   ]
  },
  {
   "cell_type": "markdown",
   "id": "cce59b2b",
   "metadata": {},
   "source": [
    "#### 지점 번호 -> 지점 명\n",
    "* B-02: 동일로(의정부IC)\n",
    "* B-17: 반포대로(우면산터널)\n",
    "* B-22: 광명대교(광명시계)\n",
    "* B-26: 오성로(부천시계)\n",
    "* B-32: 올림픽대로(개화IC)\n",
    "* C-12: 잠수교\n",
    "* C-21: 광진교\n",
    "* D-02: 평창문회로(북악터널)\n",
    "* D-08: 화랑로(상월곡역)\n",
    "* D-27: 국회대로(여의2교)\n",
    "* D-39: 남부순환로(수서IC)\n",
    "* D-43: 강남대로(신사역)\n",
    "* D-44: 백제고분로(종합운동장)\n",
    "* F-08: 강남순환로(관악터널)"
   ]
  },
  {
   "cell_type": "markdown",
   "id": "2aa062d5",
   "metadata": {},
   "source": [
    "## 6-3. 개선 필요 지점"
   ]
  },
  {
   "cell_type": "markdown",
   "id": "1875063b",
   "metadata": {},
   "source": [
    "<img src=\"https://user-images.githubusercontent.com/34597321/131310767-dccad841-96b3-4aed-ae8e-04b34e0c619a.png\" width=\"500\" height=\"700\">"
   ]
  },
  {
   "cell_type": "markdown",
   "id": "423a366d",
   "metadata": {},
   "source": [
    "#### 개선 필요 지점\n",
    "* F-08 강남순환로의 경우 지난 5년간의 유입량이 60% 이상 증가하였다. 화성 동탄, 시흥, 평택 지역의 인구의 급격한 증가로 인한 정체 심화로 보인다.\n",
    "* D-39 남부순환로의 경우 지난 5년간의 유입량이 35% 이상 증가하였다. 광주와 하남 지역의 인구의 급격한 증가로 인한 정체 심화로 보인다.\n",
    "* B-32 올림픽대로(개화IC)의 경우 지난 5년간의 유입량이 78%, 유출량은 93% 이상 증가하였다. 김포와 인천시의 인구의 급격한 증가로 인한 정체 심화로 보인다."
   ]
  },
  {
   "cell_type": "markdown",
   "id": "cef5bf0b",
   "metadata": {},
   "source": [
    "### Final Map\n",
    "* 서울과 경기도의 인가 감소는 빼고 서울의 경우 유일한 증가 추세인 강동구, 경기도의 경우 인구 증가율이 15%가 넘는 지역만 추려서 지도 시각화에 추가하였다.\n",
    "* 초록색 원형 마커는 2기 신도시 지역들의 위치를 표시한 것이다.\n",
    "* 빨간색 원형 마커는 3기 신도시 지역들의 위치를 표시한 것이지만 3기 신도시의 경우 아직 사업이 본격적으로 시작된 곳은 하남뿐이다.\n",
    "* 주황색 원형 마커는 2016년-2021년 교통량이 가장 폭넓게 증가한 지점들 6곳이다.\n",
    "<br><br>\n",
    "* 신도시 참고자료: 연합뉴스, [그래픽] 수도권 주요 신도시 현황 (https://www.yna.co.kr/view/GYH20190507001200044)"
   ]
  },
  {
   "cell_type": "markdown",
   "id": "90e156af",
   "metadata": {},
   "source": [
    "# [7] 부가. 자세한 그래프와 지도 이미지 모음"
   ]
  },
  {
   "cell_type": "markdown",
   "id": "162d6f95",
   "metadata": {},
   "source": [
    "## 7-1. 2016-2021 년도별 서울시와 경기도 그래프 모음"
   ]
  },
  {
   "cell_type": "markdown",
   "id": "feae10b8",
   "metadata": {},
   "source": [
    "<img src=\"https://user-images.githubusercontent.com/34597321/130604286-abcb75ac-5365-4aa2-9336-d008d1abec04.png\" width=\"380\" height=\"350\">\n",
    "<img src=\"https://user-images.githubusercontent.com/34597321/130604295-c49119d8-b394-4f26-af00-ad145fd636e6.png\" width=\"380\" height=\"350\">\n",
    "\n",
    "<img src=\"https://user-images.githubusercontent.com/34597321/130604297-1e48208c-e339-4bbf-9b2e-9094123af66b.png\" width=\"380\" height=\"350\">\n",
    "<img src=\"https://user-images.githubusercontent.com/34597321/130604300-bf0d7a3b-4cd1-4838-9fab-63ab1fd491c5.png\" width=\"380\" height=\"350\">\n",
    "\n",
    "<img src=\"https://user-images.githubusercontent.com/34597321/130604339-c48edba2-7138-4a9e-ba9b-13d37fbe244a.png\" width=\"380\" height=\"350\">\n",
    "<img src=\"https://user-images.githubusercontent.com/34597321/130604293-6d14167e-60de-4ace-9645-9d45dc99e48d.png\" width=\"380\" height=\"350\">\n",
    "<br>\n",
    "<br>"
   ]
  },
  {
   "cell_type": "markdown",
   "id": "3dfcefb6",
   "metadata": {},
   "source": [
    "* 서울시의 2016년부터 2021년 1분기까지의 인구 증감율 그래프들이다.\n",
    "* 눈에 띄는 증가세 특징으로는 2018년부터 강동구의 인구 증가량이 대폭 증가해왔다.\n",
    "* 반대로 감소세 특징으로는 서울시내의 거의 모든 구의 인구가 감소했지만 그중에도 특히 노원구, 도봉구, 강북구, 서초구, 양천구의 인구가 5% 이상 크게 감소했다.\n",
    "<br>\n",
    "<br>"
   ]
  },
  {
   "cell_type": "markdown",
   "id": "1fedde7e",
   "metadata": {},
   "source": [
    "<img src=\"https://user-images.githubusercontent.com/34597321/130604699-ff5ef120-f7a1-4784-aa8d-5a9a47d80e7b.png\" width=\"380\" height=\"350\">\n",
    "<img src=\"https://user-images.githubusercontent.com/34597321/130604708-6a139fb1-392e-4130-9c42-d0e3e500d890.png\" width=\"380\" height=\"350\">\n",
    "\n",
    "<img src=\"https://user-images.githubusercontent.com/34597321/130604711-ebc31c5c-3ecb-4197-a66b-80eb16ef9d11.png\" width=\"380\" height=\"350\">\n",
    "<img src=\"https://user-images.githubusercontent.com/34597321/130604713-fad8f99b-7a91-4a3a-8f17-3c25baa146d5.png\" width=\"380\" height=\"350\">\n",
    "\n",
    "<img src=\"https://user-images.githubusercontent.com/34597321/130604714-7f6372d5-4200-451a-8b9c-5bb6575d57b8.png\" width=\"380\" height=\"350\">\n",
    "<img src=\"https://user-images.githubusercontent.com/34597321/130604705-c2d89bfa-7999-469d-bfd8-d9982c447610.png\" width=\"380\" height=\"350\">\n",
    "<br>\n",
    "<br>"
   ]
  },
  {
   "cell_type": "markdown",
   "id": "b427e64c",
   "metadata": {},
   "source": [
    "* 경기도의 2016년부터 2021년 1분기까지의 인구 증감율 그래프이다.\n",
    "* 눈에 띄는 증가세 특징으로는 지난 5년에 걸쳐 화성시와 하남시의 인구가 비약적으로 증가를 했고, 그 이외에도 김포시, 시흥시, 평택시, 광주시가 큰 폭으로 증가했다.\n",
    "* 눈에 띄는 감소세 특징으로는 경기도의 경우 대부분의 시들의 인구가 증가했지만 광명시와 연천군, 포천시, 동두천시, 안양시 등의 몇몇 시와 군에서 인구가 감소했다. 대부분의 경우 신도시 사업으로써의 주목을 받지 못한 지역들이다.\n",
    "* 인구가 증가한 시들은 대부분 큰 규모의 2기, 3기 신도시 개발된 지역들이고, 그 증가세의 범위가 20%-40%로 기간에 비해 엄청난 인구 증가를 했다고 볼 수 있다.\n",
    "<br>\n",
    "<br>"
   ]
  },
  {
   "cell_type": "markdown",
   "id": "608ab78e",
   "metadata": {},
   "source": [
    "## 7-2. 2016-2021 년도별 서울시내 교통량 증감율 그래프"
   ]
  },
  {
   "cell_type": "markdown",
   "id": "5265f0df",
   "metadata": {},
   "source": [
    "### 지점 및 년도별 유입 그래프"
   ]
  },
  {
   "cell_type": "markdown",
   "id": "a0beaafd",
   "metadata": {},
   "source": [
    "<img src=\"https://user-images.githubusercontent.com/34597321/130605435-28fa6336-7aaf-4ccf-8c2a-1bacc6cafc41.jpg\" width=\"250\" height=\"300\">\n",
    "<img src=\"https://user-images.githubusercontent.com/34597321/130605454-7015fc51-1d19-4e14-9c7d-6d1e965523e9.jpg\" width=\"250\" height=\"300\">\n",
    "<img src=\"https://user-images.githubusercontent.com/34597321/130605461-37a61c64-c6eb-47c5-84ba-51470007b5d6.jpg\" width=\"250\" height=\"300\">\n",
    "\n",
    "<img src=\"https://user-images.githubusercontent.com/34597321/130605466-bf823209-1049-4494-84a7-c915d94ab2f6.jpg\" width=\"250\" height=\"300\">\n",
    "<img src=\"https://user-images.githubusercontent.com/34597321/130605468-f23ae588-961c-49a4-9dd1-d211208e9c55.jpg\" width=\"250\" height=\"300\">\n",
    "<img src=\"https://user-images.githubusercontent.com/34597321/130605469-ef214d2f-f02f-4956-896d-03e16207016d.jpg\" width=\"250\" height=\"300\">\n",
    "\n",
    "<img src=\"https://user-images.githubusercontent.com/34597321/130605472-639f2f09-18bf-4cfe-bcf5-8e78d31457ce.jpg\" width=\"250\" height=\"300\">\n",
    "<img src=\"https://user-images.githubusercontent.com/34597321/130605476-b591286b-9e93-478f-8978-3ef050855ec8.jpg\" width=\"250\" height=\"300\">\n",
    "<img src=\"https://user-images.githubusercontent.com/34597321/130605477-672dff16-130f-4d54-b69e-5c05eaa474b1.jpg\" width=\"250\" height=\"300\">\n",
    "\n",
    "<img src=\"https://user-images.githubusercontent.com/34597321/130605479-b47947bf-9415-4a81-a01e-f159f3716931.jpg\" width=\"250\" height=\"300\">\n",
    "<img src=\"https://user-images.githubusercontent.com/34597321/130605483-7031de9d-0b2b-42c6-b5d2-655128c43999.jpg\" width=\"250\" height=\"300\">\n",
    "<img src=\"https://user-images.githubusercontent.com/34597321/130605487-cd0f4b3c-4941-4606-b510-09cbc7e622a3.jpg\" width=\"250\" height=\"300\">\n",
    "\n",
    "<img src=\"https://user-images.githubusercontent.com/34597321/130605490-9ca5b71f-a1b1-45a0-bfbb-359d30684047.jpg\" width=\"250\" height=\"300\">\n",
    "<img src=\"https://user-images.githubusercontent.com/34597321/130605492-b878c7ad-ceb5-420c-826e-0a141758457d.jpg\" width=\"250\" height=\"300\">\n",
    "<img src=\"https://user-images.githubusercontent.com/34597321/130605495-6a5ed2e2-d799-41a2-ab08-6f5935f19bea.jpg\" width=\"250\" height=\"300\">\n",
    "\n",
    "<img src=\"https://user-images.githubusercontent.com/34597321/130605500-2f5bd312-5e0a-4f14-b746-86d92e9e2974.jpg\" width=\"250\" height=\"300\">\n",
    "<img src=\"https://user-images.githubusercontent.com/34597321/130605504-3bd4b2cf-92a3-40a0-82b8-7cc57a078395.jpg\" width=\"250\" height=\"300\">\n",
    "<img src=\"https://user-images.githubusercontent.com/34597321/130605506-e4d80817-e2f6-4cac-927c-922ed4214365.jpg\" width=\"250\" height=\"300\">\n",
    "\n",
    "<img src=\"https://user-images.githubusercontent.com/34597321/130605510-9e7d2458-7b26-4068-8871-6dc493a12bf0.jpg\" width=\"250\" height=\"300\">\n",
    "<img src=\"https://user-images.githubusercontent.com/34597321/130605514-a6b35f54-72ef-48f3-87df-06cff9bd3028.jpg\" width=\"250\" height=\"300\">\n",
    "<br>\n",
    "<br>"
   ]
  },
  {
   "cell_type": "markdown",
   "id": "5e030c22",
   "metadata": {},
   "source": [
    "### 지점 및 년도별 유출 그래프"
   ]
  },
  {
   "cell_type": "markdown",
   "id": "4beebfd2",
   "metadata": {},
   "source": [
    "<img src=\"https://user-images.githubusercontent.com/34597321/130605515-17ea635c-0504-4a78-ab3e-377757a0f9ca.jpg\" width=\"250\" height=\"300\">\n",
    "<img src=\"https://user-images.githubusercontent.com/34597321/130605516-ac86cba5-a72d-4280-a869-ab45b6f29ca2.jpg\" width=\"250\" height=\"300\">\n",
    "<img src=\"https://user-images.githubusercontent.com/34597321/130605517-73e6cbd0-c4db-493b-b67a-adef4025462a.jpg\" width=\"250\" height=\"300\">\n",
    "\n",
    "<img src=\"https://user-images.githubusercontent.com/34597321/130605521-88743f65-560b-4584-99de-7cafc4fa2b1c.jpg\" width=\"250\" height=\"300\">\n",
    "<img src=\"https://user-images.githubusercontent.com/34597321/130605524-94706abe-8fcb-40b8-adb8-2c8102685d23.jpg\" width=\"250\" height=\"300\">\n",
    "<img src=\"https://user-images.githubusercontent.com/34597321/130605525-b57d6fd5-8b56-4f77-a675-ae62e1e461d1.jpg\" width=\"250\" height=\"300\">\n",
    "\n",
    "<img src=\"https://user-images.githubusercontent.com/34597321/130605528-c7fa76f2-630f-4cae-b5ab-6c328ec7e8e1.jpg\" width=\"250\" height=\"300\">\n",
    "<img src=\"https://user-images.githubusercontent.com/34597321/130605532-e424d082-1525-44b9-bfee-306467f40d87.jpg\" width=\"250\" height=\"300\">\n",
    "<img src=\"https://user-images.githubusercontent.com/34597321/130605534-8ea0dfca-8240-43c1-82cc-816663814c40.jpg\" width=\"250\" height=\"300\">\n",
    "\n",
    "<img src=\"https://user-images.githubusercontent.com/34597321/130605536-f0739981-7312-444f-9ad6-182bbfa5a4ca.jpg\" width=\"250\" height=\"300\">\n",
    "<img src=\"https://user-images.githubusercontent.com/34597321/130605538-9a890aad-418e-40ee-9346-3d32dfa70628.jpg\" width=\"250\" height=\"300\">\n",
    "<img src=\"https://user-images.githubusercontent.com/34597321/130605543-c9b41a6c-e2b4-4b74-8315-4006d2eb221d.jpg\" width=\"250\" height=\"300\">\n",
    "\n",
    "<img src=\"https://user-images.githubusercontent.com/34597321/130605544-a079527c-eb4c-4df1-84cb-5db1e21b3260.jpg\" width=\"250\" height=\"300\">\n",
    "<img src=\"https://user-images.githubusercontent.com/34597321/130605545-fc6e7c05-8ce8-407d-b2b6-64bff71e2336.jpg\" width=\"250\" height=\"300\">\n",
    "<img src=\"https://user-images.githubusercontent.com/34597321/130605549-1f9d5017-4335-4d01-a5ee-07f881f282f2.jpg\" width=\"250\" height=\"300\">\n",
    "\n",
    "<img src=\"https://user-images.githubusercontent.com/34597321/130605552-3fad13a0-b3cf-48db-9c8c-a66101035bf9.jpg\" width=\"250\" height=\"300\">\n",
    "<img src=\"https://user-images.githubusercontent.com/34597321/130605554-12fa4aa1-a830-45e5-9ba6-f36c7b3bad72.jpg\" width=\"250\" height=\"300\">\n",
    "<img src=\"https://user-images.githubusercontent.com/34597321/130605558-f2c114b8-d032-4e36-a857-92055cc83973.jpg\" width=\"250\" height=\"300\">\n",
    "\n",
    "<img src=\"https://user-images.githubusercontent.com/34597321/130605562-1be6d72d-07b2-4883-a0d9-1c0142c27c27.jpg\" width=\"250\" height=\"300\">\n",
    "<img src=\"https://user-images.githubusercontent.com/34597321/130605563-b299e2a4-b8c7-414f-82c5-43c859c4342e.jpg\" width=\"250\" height=\"300\">\n",
    "<br>\n",
    "<br>"
   ]
  },
  {
   "cell_type": "markdown",
   "id": "3338e9e8",
   "metadata": {},
   "source": [
    "## 7-3. 년도별 수도권 지도 이미지 모음"
   ]
  },
  {
   "cell_type": "markdown",
   "id": "d950c84d",
   "metadata": {},
   "source": [
    "<img src=\"https://user-images.githubusercontent.com/34597321/130606561-0857366e-e721-4831-b8df-16696fb5e258.png\" width=\"380\" height=\"350\">\n",
    "<img src=\"https://user-images.githubusercontent.com/34597321/130606568-044e036c-b1ff-41cc-b421-a5e0f7b8fb92.png\" width=\"380\" height=\"350\">\n",
    "\n",
    "<img src=\"https://user-images.githubusercontent.com/34597321/130606571-39b28d9d-be55-4946-aeb0-433fb0465103.png\" width=\"380\" height=\"350\">\n",
    "<img src=\"https://user-images.githubusercontent.com/34597321/130606573-3d0517c1-31e6-4f78-a80d-56f7bb207a99.png\" width=\"380\" height=\"350\">\n",
    "\n",
    "<img src=\"https://user-images.githubusercontent.com/34597321/130606575-1930d937-b282-4c01-b6f5-28df2580f5fa.png\" width=\"380\" height=\"350\">\n",
    "<img src=\"https://user-images.githubusercontent.com/34597321/130606562-3f1e8646-bac7-44b7-8283-7c29b296a951.png\" width=\"380\" height=\"350\">"
   ]
  },
  {
   "cell_type": "markdown",
   "id": "6defc3be",
   "metadata": {},
   "source": [
    "* 위는 서울시의 2016년부터 2021년 1분기 까지의 인구 증감율을 지도로 시각화한 캡쳐 이미지들이다. \n",
    "* 왼쪽 위에서부터 16-17년, 17-18년, 18-19년, 19-20년, 20-21년, 16-21년 순이다. \n",
    "* 서울시는 파란색으로 표시되었고 색이 진할수록 증가세가 크다는 뜻이고 연할수록 감소세가 심하다는 뜻이다.\n",
    "* 타일은 'openstreetmap' 유형으로 설정되었다.\n",
    "* 증감율의 특징은 위의 그래프와 같은 데이터를 기반으로 만들어졌기 때문에 동일하다.\n",
    "<br>\n",
    "<br>"
   ]
  },
  {
   "cell_type": "markdown",
   "id": "5dad8487",
   "metadata": {},
   "source": [
    "<img src=\"https://user-images.githubusercontent.com/34597321/130606540-87fa1e1f-20b1-4207-bd32-164214d8f50f.png\" width=\"380\" height=\"350\">\n",
    "<img src=\"https://user-images.githubusercontent.com/34597321/130606553-f8c237ce-8810-4cbd-bdb2-e51431860c47.png\" width=\"380\" height=\"350\">\n",
    "\n",
    "<img src=\"https://user-images.githubusercontent.com/34597321/130606556-8226a53c-ccdb-45a3-b75f-f8f811503071.png\" width=\"380\" height=\"350\">\n",
    "<img src=\"https://user-images.githubusercontent.com/34597321/130606557-d80a9ee9-1547-4287-b8e2-2fc7d632a193.png\" width=\"380\" height=\"350\">\n",
    "\n",
    "<img src=\"https://user-images.githubusercontent.com/34597321/130606559-1e0aca77-4f8e-401e-803b-a2e68da2cdad.png\" width=\"380\" height=\"350\">\n",
    "<img src=\"https://user-images.githubusercontent.com/34597321/130606549-a29b3849-ae6f-46cc-bb7f-2ef0bca1bc71.png\" width=\"380\" height=\"350\">"
   ]
  },
  {
   "cell_type": "markdown",
   "id": "5b9f85ae",
   "metadata": {},
   "source": [
    "* 위는 경기도의 2016년부터 2021년 1분기 까지의 인구 증감율을 지도로 시각화한 캡쳐 이미지들이다. \n",
    "* 왼쪽 위에서부터 16-17년, 17-18년, 18-19년, 19-20년, 20-21년, 16-21년 순이다. \n",
    "* 경기도는 초록색으로 표시되었고 색이 진할수록 증가세가 크다는 뜻이고 연할수록 감소세가 심하다는 뜻이다.\n",
    "* 한 지역이 압도적으로 증가세가 심할 경우 다른 증가세가 높은 지역들이 비교적 연하게 표현되는 경우도 있다.\n",
    "* 타일은 'openstreetmap' 유형으로 설정되었다.\n",
    "* 증감율의 특징은 위의 그래프와 같은 데이터를 기반으로 만들어졌기 때문에 동일하다.\n",
    "<br>\n",
    "<br>"
   ]
  },
  {
   "cell_type": "markdown",
   "id": "db2a33ea",
   "metadata": {},
   "source": [
    "<img src=\"https://user-images.githubusercontent.com/34597321/130606584-9df5db40-b91d-4479-981e-742c1cede4f3.png\" width=\"380\" height=\"350\">\n",
    "<img src=\"https://user-images.githubusercontent.com/34597321/130606593-64fa0df1-052e-4963-bf12-7398818b41a8.png\" width=\"380\" height=\"350\">\n",
    "\n",
    "<img src=\"https://user-images.githubusercontent.com/34597321/130606595-02cf085d-578c-4e35-bc8a-30329cd06269.png\" width=\"380\" height=\"350\">\n",
    "<img src=\"https://user-images.githubusercontent.com/34597321/130606596-fb3e1e68-16de-4d4f-b68a-560f96c76f03.png\" width=\"380\" height=\"350\">\n",
    "\n",
    "<img src=\"https://user-images.githubusercontent.com/34597321/130606580-9d38ad6d-24d4-44b4-9a5e-1ddda810594d.png\" width=\"600\" height=\"400\">\n"
   ]
  },
  {
   "cell_type": "markdown",
   "id": "e5e6052e",
   "metadata": {},
   "source": [
    "* 위는 서울시 지도위에 교통량 측정 지점들이 표시되어있는 마커들의 캡쳐 이미지이다.\n",
    "* 왼쪽 위에서부터 B포인트, C포인트, D포인트, F포인트, 그리고 전체 포인트 마커들이다.\n",
    "* 마커들의 특징으로는 아래와 같다: \n",
    "    * B포인트는 서울에서 경기도로 오가는 지역들의 도로들\n",
    "    * C포인트는 서울 시내의 대교들\n",
    "    * D포인트는 서울시내의 간선도로들\n",
    "    * F포인트는 서울시내의 도시고속화 도로들\n",
    "* 각 마커는 툴팁과 클릭시에 마커가 포함하고 있는 지점번호, 지점명, 그리고 2016-2021년 간의 교통량 유입, 유출 증감율을 보여준다.\n",
    "<br>\n",
    "<br>"
   ]
  },
  {
   "cell_type": "markdown",
   "id": "bbcf00f5",
   "metadata": {},
   "source": [
    "## 7-4. 듀얼맵 이미지 모음"
   ]
  },
  {
   "cell_type": "markdown",
   "id": "6b50d0d5",
   "metadata": {},
   "source": [
    "<img src=\"https://user-images.githubusercontent.com/34597321/130607160-260068b4-d098-4c23-a439-53509be87707.png\" width=\"800\" height=\"600\">\n",
    "<img src=\"https://user-images.githubusercontent.com/34597321/130607144-d0b2c38a-a700-426d-8c99-23eb15b886f4.png\" width=\"800\" height=\"600\">\n"
   ]
  },
  {
   "cell_type": "markdown",
   "id": "059105d5",
   "metadata": {},
   "source": [
    "* <위> 서울시의 듀얼맵 이미지이고 왼쪽은 2016-2018년에 해당하는 인구증감율과 같은 기간 교통량 증가세가 가장 큰곳들을 유입/유출로 나누어 서클마커 표시해둔것이고 오른쪽은 2018-2021년의 기간동안의 동일한 내용을 보여주는 캡쳐 이미지이다.\n",
    "* <아래> 경기도의 듀얼맵 이미지이고 왼쪽은 2016-2018년 동안의 인구증감율, 오른쪽은 2018-2021년 동안의 인구증감율을 보여준다.\n",
    "* 써클마커의 경우 빨간색은 유입을 파란색은 유출을 나타낸다. 각 써클 마커는 툴팁 기능을 가지고 있고 클릭시에 지점번호, 지점명과 유입 혹은 유출에 해당하는 증가율을 보여준다.\n",
    "<br>\n",
    "<br>"
   ]
  },
  {
   "cell_type": "markdown",
   "id": "cddc4e0b",
   "metadata": {},
   "source": [
    "본 저작물의 저작권은 Apache License v2.0을 따릅니다"
   ]
  }
 ],
 "metadata": {
  "kernelspec": {
   "display_name": "Python 3",
   "language": "python",
   "name": "python3"
  },
  "language_info": {
   "codemirror_mode": {
    "name": "ipython",
    "version": 3
   },
   "file_extension": ".py",
   "mimetype": "text/x-python",
   "name": "python",
   "nbconvert_exporter": "python",
   "pygments_lexer": "ipython3",
   "version": "3.7.0"
  }
 },
 "nbformat": 4,
 "nbformat_minor": 5
}
