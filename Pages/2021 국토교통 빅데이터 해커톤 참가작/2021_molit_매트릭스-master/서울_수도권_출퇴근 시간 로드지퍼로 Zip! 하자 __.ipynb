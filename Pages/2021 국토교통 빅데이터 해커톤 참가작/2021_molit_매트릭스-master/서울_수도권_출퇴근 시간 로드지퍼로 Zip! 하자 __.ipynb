{
 "cells": [
  {
   "cell_type": "markdown",
   "metadata": {
    "id": "B2u-Ydc9WMRV"
   },
   "source": [
    "# 서울/수도권 출퇴근 시간 로드지퍼로 Zip! 하자 🚗"
   ]
  },
  {
   "cell_type": "markdown",
   "metadata": {
    "id": "e6sfRLWSWMRa"
   },
   "source": [
    "## - 서울/수도권 출퇴근 정체를 해결을 위한 로드지퍼 위치 제안 및 차선 확대 효과 예측 "
   ]
  },
  {
   "cell_type": "markdown",
   "metadata": {
    "id": "Zc4gl99OWMRc"
   },
   "source": [
    "![image-3.png](attachment:image-3.png)"
   ]
  },
  {
   "cell_type": "markdown",
   "metadata": {
    "id": "WupnZxhhWMRd"
   },
   "source": [
    "---"
   ]
  },
  {
   "cell_type": "markdown",
   "metadata": {
    "id": "xDNRkMsKWMRe"
   },
   "source": [
    "# 목차\n",
    "### 서론 1. 분석 배경\n",
    "   * 1-1. 서울/경기 인구 수 및 차량 통행 지표\n",
    "   * 1-2. 출퇴근 교통 체증문제 해결책 : BTX 도입\n",
    "   * 1-3. 로드지퍼 필요성 및 정의\n",
    "   \n",
    "### 본론 2. 데이터 전처리\n",
    "   * 2-1 속도 데이터\n",
    "   * 2-2 교통량 데이터 \n",
    "   * 2-3 서울시 표준 노드와 속도 데이터 링크아이디 매핑 \n",
    "   * 2-4) 속도,교통량 모두 있는 지점 선정 \n",
    "   * 2-5) 속도데이터에 상/하행 속도 차이 추가\n",
    "   * 2-6) 교통량 데이터에 상/하행 교통량 차이 추가\n",
    "   * 2-7) 속도 데이터와 교통량 데이터 합치기 \n",
    "   * 2-8) 지점별 시간대별 교통 밀도 추가\n",
    "   * 2-9) 지점별 CCTV, 진입로, 교차로 ,신호등 갯수 추가  \n",
    "   \n",
    "### 본론 3. 모델링\n",
    "   * 3-1. 군집분석\n",
    "   * 3-2. 최종 군집 EDA\n",
    "   * 3-3. 최종 로드지퍼 설치 위치 제안 \n",
    "   \n",
    "### 본론 4. 로드지퍼 설치 효과 \n",
    "   * 4-1. 지점/상하행별 임계속도 분석\n",
    "   * 4-2. 차선 확대에 따른 임계속도 예측 \n",
    "   \n",
    "### 결론 5. 로드지퍼 활용 방안  \n",
    "   * 5-1. 로드지퍼 활용 방안 "
   ]
  },
  {
   "cell_type": "markdown",
   "metadata": {
    "id": "fDBAlT36WMRf"
   },
   "source": [
    "***"
   ]
  },
  {
   "cell_type": "markdown",
   "metadata": {
    "id": "Mx1LUafMWMRg"
   },
   "source": [
    "# 서론"
   ]
  },
  {
   "cell_type": "markdown",
   "metadata": {
    "id": "srbz4D-RWMRh"
   },
   "source": [
    "## 1. 분석 배경 "
   ]
  },
  {
   "cell_type": "markdown",
   "metadata": {
    "id": "31yU5nNhWMRi"
   },
   "source": [
    "### 1-1) 서울/경기 인구수 및 차량 통행 지표"
   ]
  },
  {
   "cell_type": "markdown",
   "metadata": {
    "id": "5pjZoxKNWMRk"
   },
   "source": [
    "![image.png](attachment:image.png)"
   ]
  },
  {
   "cell_type": "markdown",
   "metadata": {
    "id": "xbtOMAZlWMRk"
   },
   "source": [
    "- 수도권 인구수(2601만)가 전체 인구수(5167만)의 50% 돌파\n",
    "- 경기도 > 서울 > 인천 순으로 인구수 많음\n",
    "\n",
    "#### -> 경기도 인구수가 가장 많지만 서울특별시의 교통량과 교통혼잡도가 제일 심함\n",
    "#### -> 즉, 경기도에서 서울로 통근 하는 사람이 多, 서울 활동 인구수에 다수의 경기도민이 포함됨"
   ]
  },
  {
   "cell_type": "markdown",
   "metadata": {
    "id": "RmgNPwcpWMRk"
   },
   "source": [
    "### 1-2) 출퇴근 교통 체증문제 해결책 : BTX 도입"
   ]
  },
  {
   "cell_type": "markdown",
   "metadata": {
    "id": "P33R7dpUWMRl"
   },
   "source": [
    "![image.png](attachment:image.png)"
   ]
  },
  {
   "cell_type": "markdown",
   "metadata": {
    "id": "CdxljDNoWMRl"
   },
   "source": [
    "![image-6.png](attachment:image-6.png)"
   ]
  },
  {
   "cell_type": "markdown",
   "metadata": {
    "id": "hzQ7wCD9WMRm"
   },
   "source": [
    "### 1-3) 로드지퍼란 ? "
   ]
  },
  {
   "cell_type": "markdown",
   "metadata": {
    "id": "ymQT-0acWMRm"
   },
   "source": [
    "![image-2.png](attachment:image-2.png)"
   ]
  },
  {
   "cell_type": "markdown",
   "metadata": {
    "id": "YblZdXeuWMRm"
   },
   "source": [
    "![image.png](attachment:image.png)"
   ]
  },
  {
   "cell_type": "markdown",
   "metadata": {
    "id": "7H2x9vvgWMRm"
   },
   "source": [
    "### 장점 \n",
    "* 필요에 따라 중앙분리대를 움직여 교통 체증 완화 가능\n",
    "* 충돌방지 시스템으로 교통사고 방지\n",
    "* BRT, BTX 도입시킬 수 있어, 경기도민의 통근시간 감축 가능 "
   ]
  },
  {
   "cell_type": "markdown",
   "metadata": {
    "id": "BxtyV1rrWMRn"
   },
   "source": [
    "### 개선기회\n",
    "* 사업비가 많이 든다.(설치 차량 40억)\n",
    "* 1km 설치 당 약 32억원 필요\n",
    "* 로드지퍼 설치 끝나는 부분의 병목현상 발생 될 수 있음 "
   ]
  },
  {
   "cell_type": "markdown",
   "metadata": {
    "id": "DMwEXCCdWMRn"
   },
   "source": [
    "![image-3.png](attachment:image-3.png)"
   ]
  },
  {
   "cell_type": "markdown",
   "metadata": {
    "id": "97YV1GSPWMRn"
   },
   "source": [
    "---"
   ]
  },
  {
   "cell_type": "markdown",
   "metadata": {
    "id": "8f5ot8ktWMRn"
   },
   "source": [
    "# 본론"
   ]
  },
  {
   "cell_type": "markdown",
   "metadata": {
    "id": "q9Hs14TxWMRo"
   },
   "source": [
    "## 2. 데이터 전처리"
   ]
  },
  {
   "cell_type": "markdown",
   "metadata": {
    "id": "o2M4pBhgWMRo"
   },
   "source": [
    "### <사용 데이터>"
   ]
  },
  {
   "cell_type": "markdown",
   "metadata": {
    "id": "MTu2bvGUWMRo"
   },
   "source": [
    "* 서울시 링크/노드 데이터 \n",
    "* 서울시 SHP 파일 [http://www.gisdeveloper.co.kr/?p=2332]\n",
    "* Topis 도로별 일자별 통행속도 데이터[https://topis.seoul.go.kr/refRoom/openRefRoom_1.do]\n",
    "* Topis 서울시 교통량 데이터 [https://topis.seoul.go.kr/refRoom/openRefRoom_2.do]\n",
    "* ITS 표준노드, 링크아이디 매핑 데이터 "
   ]
  },
  {
   "cell_type": "code",
   "execution_count": null,
   "metadata": {
    "id": "jInv7hNbWMRo"
   },
   "outputs": [],
   "source": [
    "import pandas as pd\n",
    "import numpy as np\n",
    "import matplotlib.pyplot as plt\n",
    "import seaborn as sns\n",
    "import matplotlib\n",
    "import geopandas as gpd\n",
    "from IPython.display import Image\n",
    "matplotlib.rc('font',family='NanumGothic')\n",
    "plt.rc('font',family='NanumGothic')"
   ]
  },
  {
   "cell_type": "markdown",
   "metadata": {
    "id": "1KqlS-GBWMRp"
   },
   "source": [
    "### 2-1) 속도 데이터 "
   ]
  },
  {
   "cell_type": "markdown",
   "metadata": {
    "id": "6f7k36oXWMRq"
   },
   "source": [
    "#### 서울시 차량통행속도 데이터\n",
    "#### 수집기간 : 2021년 01 ~ 06월, 24시간 (00~24시)\n",
    "#### 수집범위 : 서울특별시 485개도로\n",
    "\n",
    "* Topis 서울시 도로별 일자별 통행속도 데이터 중 2021년 01~06월까지 데이터 다운 후, csv 변환\n",
    "- 일자, 요일, 도로명, 링크아이디, 시점명, 종점명, 방향(상/하행), 거리, 차선수,기능유형구분(보조간선도로/기타도로), 도심/외곽구분, 권역구분, 시간대별 속도로 구성 "
   ]
  },
  {
   "cell_type": "code",
   "execution_count": null,
   "metadata": {
    "id": "0txGtJ0tWMRq"
   },
   "outputs": [],
   "source": [
    "# 2021년 01 ~ 06월 속도 데이터 다운로드 \n",
    "speed_01 = pd.read_csv('2021년 01월 서울시 차량통행속도.csv',encoding='cp949')\n",
    "speed_02 = pd.read_csv('2021년 02월 서울시 차량통행속도.csv',encoding='cp949')\n",
    "speed_03 = pd.read_csv('2021년 03월 서울시 차량통행속도.csv',encoding='cp949')\n",
    "speed_04 = pd.read_csv('2021년 04월 서울시 차량통행속도.csv',encoding='cp949')\n",
    "speed_05 = pd.read_csv('2021년 05월 서울시 차량통행속도.csv',encoding='cp949')\n",
    "speed_06 = pd.read_csv('2021년 06월 서울시 차량통행속도.csv',encoding='cp949')\n",
    "\n",
    "# 데이터 합치기\n",
    "speed_21 = pd.concat([speed_01,speed_02,speed_03,speed_04,speed_05,speed_06])"
   ]
  },
  {
   "cell_type": "code",
   "execution_count": null,
   "metadata": {
    "id": "oryMmOe4WMRq"
   },
   "outputs": [],
   "source": [
    "speed_21 =speed_21.dropna()"
   ]
  },
  {
   "cell_type": "markdown",
   "metadata": {
    "id": "Ota3GQ8xWMRq"
   },
   "source": [
    "### 2-2) 교통량 데이터 "
   ]
  },
  {
   "cell_type": "markdown",
   "metadata": {
    "id": "a7v9sh1EWMRq"
   },
   "source": [
    "#### 서울시 교통량 데이터\n",
    "#### 수집기간 : 2021년 01 ~ 06월, 24시간 (00~24시)\n",
    "#### 수집범위 : 서울특별시 주요간선도로 및 도시고속도로\n",
    "\n",
    "* Topis 서울시 교통량 데이터 중 2021년 01~06월까지 데이터 다운 후, csv 변환\n",
    "* 일자, 요일, 지점명, 지점번호, 방향, 구분, 시간별 교통량으로 구성"
   ]
  },
  {
   "cell_type": "code",
   "execution_count": null,
   "metadata": {
    "id": "u5s8GKvUWMRr",
    "scrolled": true
   },
   "outputs": [],
   "source": [
    "# 2021년 01 ~ 06월 교통량 데이터 다운로드 \n",
    "traffic_01 = pd.read_csv('01월 서울시 교통량 조사자료.csv',encoding='cp949')\n",
    "traffic_02 = pd.read_csv('02월 서울시 교통량 조사자료.csv',encoding='cp949')\n",
    "traffic_03 = pd.read_csv('03월 서울시 교통량 조사자료.csv',encoding='cp949')\n",
    "traffic_04 = pd.read_csv('04월 서울시 교통량 조사자료.csv',encoding='cp949')\n",
    "traffic_05 = pd.read_csv('05월 서울시 교통량 조사자료.csv',encoding='cp949')\n",
    "traffic_06 = pd.read_csv('06월 서울시 교통량 조사자료.csv',encoding='cp949')\n",
    "\n",
    "# 데이터 합치기\n",
    "traffic_21 = pd.concat([traffic_01,traffic_02,traffic_03,traffic_04,traffic_05,traffic_06])"
   ]
  },
  {
   "cell_type": "markdown",
   "metadata": {
    "id": "jqOmsYjHWMRr"
   },
   "source": [
    "### 2-3) 서울시 표준 링크와 속도 데이터의 링크아이디 매핑"
   ]
  },
  {
   "cell_type": "markdown",
   "metadata": {
    "id": "qIzMqCZrWMRr"
   },
   "source": [
    "#### 서울시 표준 링크와 속도 데이터의 링크아이디가 다름 \n",
    "- ex ) 서울 표준 링크아이디에서 서비스 링크 100 인 도로 = 속도 데이터 링크아이디 101 + 102 + 103 결합한 도로 \n",
    "#### 서울시 표준 링크 데이터가 shp 파일이기때문에, join을 위해서 매핑 작업이 필요"
   ]
  },
  {
   "cell_type": "code",
   "execution_count": null,
   "metadata": {
    "id": "CCaUCDsyWMRr",
    "outputId": "6413b5e4-05b5-476b-a503-8c23af35de93",
    "scrolled": true
   },
   "outputs": [],
   "source": [
    "# 서울시 표준링크SPEED매핑 데이터 다운로드 \n",
    "mapping = pd.read_csv('서울시 표준링크SPEED매핑.csv',encoding='cp949')\n",
    "mapping = mapping.drop(\"표준링크순서\",axis=1)\n",
    "mapping = mapping.drop_duplicates(subset=['서비스링크'])\n",
    "\n",
    "mapping\n",
    "# 서울시 표준링크SPEED매핑 데이터와 속도 데이터 링크아이디와 결합 \n",
    "# speed_21 = pd.merge(left=speed_21,right=mapping,how='inner',left_on='링크아이디',right_on='서비스링크')"
   ]
  },
  {
   "cell_type": "markdown",
   "metadata": {
    "id": "Mhm4RS5EWMRs"
   },
   "source": [
    "### 2-4) 속도,교통량 모두 있는 지점 선정 "
   ]
  },
  {
   "cell_type": "markdown",
   "metadata": {
    "id": "3-d6raLnWMRs"
   },
   "source": [
    "#### (1) 속도, 교통량 데이터에서 지점명과 종점명이 같은 데이터만 추출 "
   ]
  },
  {
   "cell_type": "markdown",
   "metadata": {
    "id": "35oRFoTjWMRt"
   },
   "source": [
    "#### 속도데이터와 교통량 데이터가 있고, 기준을 충족하는 총 37개 지점을 선정함\n",
    "- 기준1) 로드지퍼 도입할 만큼 차선이 충분한 지점 [4개이상]\n",
    "- 기준2) 상/하행 데이터가 모두 존재하는 지점"
   ]
  },
  {
   "cell_type": "markdown",
   "metadata": {
    "id": "G2N3x7rYWMRt"
   },
   "source": [
    "#### (2) 속도 데이터와 교통량 데이터에서 기준 지점들만 추출 "
   ]
  },
  {
   "cell_type": "code",
   "execution_count": null,
   "metadata": {
    "id": "v_iRJ1rSWMRt",
    "scrolled": true
   },
   "outputs": [],
   "source": [
    "# 링크아이디, 서비스링크있는 기준지점 데이터 다운로드 \n",
    "df = pd.read_csv('기준지점.csv',encoding='cp949')\n",
    "df.columns = ['LINK_ID','SERVICE','방향','지점']\n",
    "df = df[['LINK_ID','SERVICE','지점']]"
   ]
  },
  {
   "cell_type": "markdown",
   "metadata": {
    "id": "OmwcLfSZWMRt"
   },
   "source": [
    "### 속도데이터"
   ]
  },
  {
   "cell_type": "code",
   "execution_count": null,
   "metadata": {
    "id": "G_5Uqi68WMRt",
    "scrolled": true
   },
   "outputs": [],
   "source": [
    "# 속도데이터 기준지점 링크아이디 기준으로 결합 \n",
    "speed_21 = pd.merge(left=speed_21,right=df,how='inner',left_on='링크아이디',right_on='SERVICE')\n",
    "\n",
    "# 속도 데이터 기준 지점인 37개 지점 추출 \n",
    "speed_21 = speed_21[(speed_21['지점']=='D-33')|(speed_21['지점']=='D-40')|(speed_21['지점']=='D-36')|(speed_21['지점']=='A-17')|\n",
    "                  (speed_21['지점']=='F-07')|(speed_21['지점']=='D-29')|(speed_21['지점']=='F-02')|(speed_21['지점']=='C-09')|\n",
    "                  (speed_21['지점']=='B-18')|(speed_21['지점']=='D-23')|(speed_21['지점']=='A-13')|(speed_21['지점']=='D-16')|\n",
    "                  (speed_21['지점']=='C-05')|(speed_21['지점']=='B-17')|(speed_21['지점']=='D-27')|(speed_21['지점']=='B-09')|\n",
    "                  (speed_21['지점']=='B-08')|(speed_21['지점']=='D-44')|(speed_21['지점']=='D-39')|(speed_21['지점']=='D-28')|\n",
    "                  (speed_21['지점']=='B-36')|(speed_21['지점']=='B-13')|(speed_21['지점']=='D-35')|(speed_21['지점']=='D-42')|\n",
    "                  (speed_21['지점']=='C-07')|(speed_21['지점']=='B-15')|(speed_21['지점']=='D-45')|(speed_21['지점']=='B-32')| \n",
    "                  (speed_21['지점']=='D-18')|(speed_21['지점']=='C-18')|(speed_21['지점']=='D-26')|(speed_21['지점']=='A-10')|         \n",
    "                  (speed_21['지점']=='F-01')|(speed_21['지점']=='D-24')|(speed_21['지점']=='D-43')|(speed_21['지점']=='C-15')|\n",
    "                  (speed_21['지점']=='D-05')]"
   ]
  },
  {
   "cell_type": "markdown",
   "metadata": {
    "id": "n32nmFeMWMRu"
   },
   "source": [
    "### 교통량 데이터"
   ]
  },
  {
   "cell_type": "code",
   "execution_count": null,
   "metadata": {
    "id": "xE_GYfz4WMRu",
    "outputId": "794255e9-1301-4c9e-c669-5d12ee09f1f2",
    "scrolled": true
   },
   "outputs": [],
   "source": [
    "traffic = traffic_21\n",
    "\n",
    "# 교통량 데이터 기준 지점인 37개 지점 추출 \n",
    "traffic = traffic[(traffic['지점번호']=='D-33')|(traffic['지점번호']=='D-40')|(traffic['지점번호']=='D-36')|(traffic['지점번호']=='A-17')|\n",
    "                  (traffic['지점번호']=='F-07')|(traffic['지점번호']=='D-29')|(traffic['지점번호']=='F-02')|(traffic['지점번호']=='C-09')|\n",
    "                  (traffic['지점번호']=='B-18')|(traffic['지점번호']=='D-23')|(traffic['지점번호']=='A-13')|(traffic['지점번호']=='D-16')|\n",
    "                  (traffic['지점번호']=='C-05')|(traffic['지점번호']=='B-17')|(traffic['지점번호']=='D-27')|(traffic['지점번호']=='B-09')|\n",
    "                  (traffic['지점번호']=='B-08')|(traffic['지점번호']=='D-44')|(traffic['지점번호']=='D-39')|(traffic['지점번호']=='D-28')|\n",
    "                  (traffic['지점번호']=='B-36')|(traffic['지점번호']=='B-13')|(traffic['지점번호']=='D-35')|(traffic['지점번호']=='D-42')|\n",
    "                  (traffic['지점번호']=='C-07')|(traffic['지점번호']=='B-15')|(traffic['지점번호']=='D-45')|(traffic['지점번호']=='B-32')| \n",
    "                  (traffic['지점번호']=='D-18')|(traffic['지점번호']=='C-18')|(traffic['지점번호']=='D-26')|(traffic['지점번호']=='A-10')|         \n",
    "                  (traffic['지점번호']=='F-01')|(traffic['지점번호']=='D-24')|(traffic['지점번호']=='D-43')|(traffic['지점번호']=='C-15')|\n",
    "                  (traffic['지점번호']=='D-05')]\n",
    "\n",
    "traffic.reset_index(inplace=True)\n",
    "traffic.drop(['index'],axis=1, inplace = True)\n",
    "\n",
    "# 방향 유입 -> 상행, 유출 -> 하행으로 변경 \n",
    "traffic['방향1']=''\n",
    "for i in range(len(traffic)):\n",
    "        if traffic['방향'][i] == \"유입\" :\n",
    "            traffic['방향1'][i] = \"상행\"\n",
    "        else:\n",
    "            traffic['방향1'][i] = \"하행\"\n",
    "            \n",
    "# 지점번호랑 방향 합치기 \n",
    "traffic['지점방향']=''\n",
    "for i in range(len(traffic)):\n",
    "            traffic['지점방향'][i] = (traffic['지점번호'][i]+ traffic['방향1'][i])            "
   ]
  },
  {
   "cell_type": "markdown",
   "metadata": {
    "id": "RDcVRVNVWMRu"
   },
   "source": [
    "### 2-5) 속도데이터에 상/하행 속도 차이 추가"
   ]
  },
  {
   "cell_type": "code",
   "execution_count": null,
   "metadata": {
    "id": "ksC5wI47WMRv",
    "outputId": "e9775a4b-b2fb-4998-c470-73812dfbc074"
   },
   "outputs": [],
   "source": [
    "#속도 차이 데이터 넣을 열 미리 만들어 주기\n",
    "speed_21['01시_속도차'] = 0.0\n",
    "speed_21['02시_속도차'] = 0.0\n",
    "speed_21['03시_속도차'] = 0.0\n",
    "speed_21['04시_속도차']  = 0.0\n",
    "speed_21['05시_속도차']  = 0.0\n",
    "speed_21['06시_속도차']  = 0.0\n",
    "speed_21['07시_속도차']  = 0.0\n",
    "speed_21['08시_속도차']  = 0.0\n",
    "speed_21['09시_속도차']  = 0.0\n",
    "speed_21['10시_속도차']  = 0.0\n",
    "speed_21['11시_속도차']  = 0.0\n",
    "speed_21['12시_속도차']  = 0.0\n",
    "speed_21['13시_속도차']  = 0.0\n",
    "speed_21['14시_속도차']  = 0.0\n",
    "speed_21['15시_속도차']  = 0.0\n",
    "speed_21['16시_속도차']  = 0.0\n",
    "speed_21['17시_속도차']  = 0.0\n",
    "speed_21['18시_속도차']  = 0.0\n",
    "speed_21['19시_속도차']  = 0.0\n",
    "speed_21['20시_속도차']  = 0.0\n",
    "speed_21['21시_속도차']  = 0.0\n",
    "speed_21['22시_속도차']  = 0.0\n",
    "speed_21['23시_속도차']  = 0.0\n",
    "speed_21['24시_속도차']  = 0.0\n",
    "\n",
    "df3 = speed_21\n",
    "df3 = df3.sort_values([\"일자\"], ascending=[True])\n",
    "df3 = df3.reset_index()\n",
    "df3 = df3.iloc[:,1:]\n",
    "\n",
    "#상행 하행 같은값 찾고 같으면 차이값 넣기\n",
    "num = 0\n",
    "idx = []\n",
    "date_=df3['일자'][0]\n",
    "test = 1\n",
    "for i in range(len(df3)-1):\n",
    "    if df3['일자'][i] != date_:\n",
    "        date_= df3['일자'][i]\n",
    "        test = i\n",
    "#         print('date= ',date_)\n",
    "    for j in range(test ,len(df3)):\n",
    "\n",
    "        if df3['지점'][i] == df3['지점'][j] and df3['일자'][i] == df3['일자'][j] and i!=j :\n",
    "            num+=1\n",
    "#             print('num = ',  num)\n",
    "#             print('i =',i , 'j =',j)\n",
    "#             print(df3['시점명'][i], df3['종점명'][i])\n",
    "#             print(df3['시점명'][j], df3['종점명'][j])\n",
    "            idx.append(i)\n",
    "            idx.append(j)\n",
    "\n",
    "            df3['01시_속도차'][j] = abs(df3['01시'][i]-df3['01시'][j])\n",
    "            df3['02시_속도차'][j] = abs(df3['02시'][i]-df3['02시'][j])\n",
    "            df3['03시_속도차'][j] = abs(df3['03시'][i]-df3['03시'][j])\n",
    "            df3['04시_속도차'][j] = abs(df3['04시'][i]-df3['04시'][j])\n",
    "            df3['05시_속도차'][j] = abs(df3['05시'][i]-df3['05시'][j])\n",
    "            df3['06시_속도차'][j] = abs(df3['06시'][i]-df3['06시'][j])\n",
    "            df3['07시_속도차'][j] = abs(df3['07시'][i]-df3['07시'][j])\n",
    "            df3['08시_속도차'][j] = abs(df3['08시'][i]-df3['08시'][j])\n",
    "            df3['09시_속도차'][j] = abs(df3['09시'][i]-df3['09시'][j])\n",
    "            df3['10시_속도차'][j] = abs(df3['10시'][i]-df3['10시'][j])\n",
    "            df3['11시_속도차'][j] = abs(df3['11시'][i]-df3['11시'][j])\n",
    "            df3['12시_속도차'][j] = abs(df3['12시'][i]-df3['12시'][j])\n",
    "            df3['13시_속도차'][j] = abs(df3['13시'][i]-df3['13시'][j])\n",
    "            df3['14시_속도차'][j] = abs(df3['14시'][i]-df3['14시'][j])\n",
    "            df3['15시_속도차'][j] = abs(df3['15시'][i]-df3['15시'][j])\n",
    "            df3['16시_속도차'][j] = abs(df3['16시'][i]-df3['16시'][j])\n",
    "            df3['17시_속도차'][j] = abs(df3['17시'][i]-df3['17시'][j])\n",
    "            df3['18시_속도차'][j] = abs(df3['18시'][i]-df3['18시'][j])\n",
    "            df3['19시_속도차'][j] = abs(df3['19시'][i]-df3['19시'][j])\n",
    "            df3['20시_속도차'][j] = abs(df3['20시'][i]-df3['20시'][j])\n",
    "            df3['21시_속도차'][j] = abs(df3['21시'][i]-df3['21시'][j])\n",
    "            df3['22시_속도차'][j] = abs(df3['22시'][i]-df3['22시'][j])\n",
    "            df3['23시_속도차'][j] = abs(df3['23시'][i]-df3['23시'][j])\n",
    "            df3['24시_속도차'][j] = abs(df3['24시'][i]-df3['24시'][j])\n",
    "\n",
    "#             if df3['01시_속도차'][i] == 0:\n",
    "            df3['01시_속도차'][i] = abs(df3['01시'][i]-df3['01시'][j])\n",
    "            df3['02시_속도차'][i] = abs(df3['02시'][i]-df3['02시'][j])\n",
    "            df3['03시_속도차'][i] = abs(df3['03시'][i]-df3['03시'][j])\n",
    "            df3['04시_속도차'][i] = abs(df3['04시'][i]-df3['04시'][j])\n",
    "            df3['05시_속도차'][i] = abs(df3['05시'][i]-df3['05시'][j])\n",
    "            df3['06시_속도차'][i] = abs(df3['06시'][i]-df3['06시'][j])\n",
    "            df3['07시_속도차'][i] = abs(df3['07시'][i]-df3['07시'][j])\n",
    "            df3['08시_속도차'][i] = abs(df3['08시'][i]-df3['08시'][j])\n",
    "            df3['09시_속도차'][i] = abs(df3['09시'][i]-df3['09시'][j])\n",
    "            df3['10시_속도차'][i] = abs(df3['10시'][i]-df3['10시'][j])\n",
    "            df3['11시_속도차'][i] = abs(df3['11시'][i]-df3['11시'][j])\n",
    "            df3['12시_속도차'][i] = abs(df3['12시'][i]-df3['12시'][j])\n",
    "            df3['13시_속도차'][i] = abs(df3['13시'][i]-df3['13시'][j])\n",
    "            df3['14시_속도차'][i] = abs(df3['14시'][i]-df3['14시'][j])\n",
    "            df3['15시_속도차'][i] = abs(df3['15시'][i]-df3['15시'][j])\n",
    "            df3['16시_속도차'][i] = abs(df3['16시'][i]-df3['16시'][j])\n",
    "            df3['17시_속도차'][i] = abs(df3['17시'][i]-df3['17시'][j])\n",
    "            df3['18시_속도차'][i] = abs(df3['18시'][i]-df3['18시'][j])\n",
    "            df3['19시_속도차'][i] = abs(df3['19시'][i]-df3['19시'][j])\n",
    "            df3['20시_속도차'][i] = abs(df3['20시'][i]-df3['20시'][j])\n",
    "            df3['21시_속도차'][i] = abs(df3['21시'][i]-df3['21시'][j])\n",
    "            df3['22시_속도차'][i] = abs(df3['22시'][i]-df3['22시'][j])\n",
    "            df3['23시_속도차'][i] = abs(df3['23시'][i]-df3['23시'][j])\n",
    "            df3['24시_속도차'][i] = abs(df3['24시'][i]-df3['24시'][j])\n",
    "        elif df3['일자'][i] != df3['일자'][j]:\n",
    "            break\n",
    "print(num)"
   ]
  },
  {
   "cell_type": "code",
   "execution_count": null,
   "metadata": {
    "id": "G3mzOoH0WMRx",
    "outputId": "0a889a9b-dfd2-4579-9727-29693577cadd"
   },
   "outputs": [],
   "source": [
    "idx_fin = set(idx) #중복제거\n",
    "len(idx_fin) #길이 확인"
   ]
  },
  {
   "cell_type": "code",
   "execution_count": null,
   "metadata": {
    "id": "oY2SEwi0WMRz",
    "outputId": "262184b3-e9ea-416b-c80c-47dfca2c198b"
   },
   "outputs": [],
   "source": [
    "df3=df3.loc[idx_fin] #차이값 존재하는 데이터만 뽑기\n",
    "\n",
    "df3['join']=''\n",
    "\n",
    "for i in range(len(df3)):\n",
    "            df3['join'][i] = (str(df3['일자'][i])+ df3['지점'][i]+ df3['방향'][i])"
   ]
  },
  {
   "cell_type": "markdown",
   "metadata": {
    "id": "yEZl5F_YWMRz"
   },
   "source": [
    "### 2-7) 속도 데이터와 교통량 데이터 합치기 "
   ]
  },
  {
   "cell_type": "code",
   "execution_count": null,
   "metadata": {
    "id": "HILNOGQRWMRz",
    "outputId": "a876e8bc-aac1-4ad8-8766-520530de13d4"
   },
   "outputs": [],
   "source": [
    "traffic = traffic.reset_index()\n",
    "traffic = traffic.iloc[:,1:]\n",
    "\n",
    "traffic['join']=''\n",
    "for i in range(len(traffic)):\n",
    "            traffic['join'][i] = (str(int(traffic['일자'][i])) + traffic['지점방향'][i])\n",
    "        \n",
    "traffic_1 = traffic.drop(['일자','요일','지점명','지점번호','방향','방향1','구분'],axis=1)\n",
    "traffic_1.columns = ['0시_교통량','1시_교통량','2시_교통량','3시_교통량','4시_교통량', '5시_교통량','6시_교통량','7시_교통량','8시_교통량',\n",
    "                     '9시_교통량','10시_교통량','11시_교통량','12시_교통량','13시_교통량','14시_교통량','15시_교통량','16시_교통량',\n",
    "                     '17시_교통량','18시_교통량','19시_교통량','20시_교통량','21시_교통량','22시_교통량','23시_교통량','지점방향','join']\n",
    "\n",
    "data = pd.merge(df3, traffic_1, left_on='join', right_on='join', how='inner')\n",
    "data.columns"
   ]
  },
  {
   "cell_type": "code",
   "execution_count": null,
   "metadata": {
    "id": "bjkst6ZgWMR0",
    "outputId": "19b195c2-1b50-4e32-fef3-653a6ba1f451"
   },
   "outputs": [],
   "source": [
    "data.columns = ['일자', '요일', '도로명','링크아이디', '시점명', '종점명', '방향_x', '거리', '차선수',\n",
    "                '기능유형구분', '도심/외곽구분', '권역구분','01시_속도', '02시_속도', '03시_속도',\n",
    "                '04시_속도', '05시_속도', '06시_속도', '07시_속도','08시_속도', '09시_속도', '10시_속도', '11시_속도', '12시_속도', '13시_속도', '14시_속도',\n",
    "                '15시_속도', '16시_속도', '17시_속도', '18시_속도', '19시_속도', '20시_속도', '21시_속도',\n",
    "                '22시_속도', '23시_속도', '24시_속도', 'LINK_ID', 'SERVICE', '지점', '01시_속도차',\n",
    "                '02시_속도차', '03시_속도차', '04시_속도차', '05시_속도차', '06시_속도차', '07시_속도차',\n",
    "                '08시_속도차', '09시_속도차', '10시_속도차', '11시_속도차', '12시_속도차', '13시_속도차',\n",
    "                '14시_속도차', '15시_속도차', '16시_속도차', '17시_속도차', '18시_속도차', '19시_속도차',\n",
    "                '20시_속도차', '21시_속도차', '22시_속도차', '23시_속도차', '24시_속도차', 'join',\n",
    "                '0시_교통량', '1시_교통량', '2시_교통량', '3시_교통량', '4시_교통량', '5시_교통량', '6시_교통량',\n",
    "                '7시_교통량', '8시_교통량', '9시_교통량', '10시_교통량', '11시_교통량', '12시_교통량',\n",
    "                '13시_교통량', '14시_교통량', '15시_교통량', '16시_교통량', '17시_교통량', '18시_교통량',\n",
    "                '19시_교통량', '20시_교통량', '21시_교통량', '22시_교통량', '23시_교통량','지점방향']\n",
    "\n",
    "data.columns[65:88]"
   ]
  },
  {
   "cell_type": "code",
   "execution_count": null,
   "metadata": {
    "id": "7Z4eTY1WWMR0",
    "outputId": "7be07d49-fd92-4a72-9529-e02775a49a45"
   },
   "outputs": [],
   "source": [
    "data.columns[12:35]"
   ]
  },
  {
   "cell_type": "markdown",
   "metadata": {
    "id": "R_i7QNYyWMR0"
   },
   "source": [
    "### 2-8) 지점별 시간대별 교통 밀도 추가 "
   ]
  },
  {
   "cell_type": "code",
   "execution_count": null,
   "metadata": {
    "id": "HWZ9tXrDWMR0"
   },
   "outputs": [],
   "source": [
    "x= 1\n",
    "for i in range(23):\n",
    "    _str = str(str(x+i)+\"시 밀도\")\n",
    "    data[_str] = data[data.columns[65+i]]/data[data.columns[12+i]]\n",
    "    \n",
    "data['24시 밀도'] = data['0시_교통량']/data['24시_속도']"
   ]
  },
  {
   "cell_type": "markdown",
   "metadata": {
    "id": "UiUlwVOhWMR0"
   },
   "source": [
    "### 2-9) 지점별 CCTV, 진입로, 교차로 ,신호등 갯수 추가 "
   ]
  },
  {
   "cell_type": "code",
   "execution_count": null,
   "metadata": {
    "id": "bC0aGgxAWMR1",
    "outputId": "425ba381-0934-4c38-9c6a-e71de9a70653"
   },
   "outputs": [],
   "source": [
    "x = pd.read_csv('기준.csv',encoding='cp949')\n",
    "x = x[['기준','교차로','진입로','신호등','CCTV','MAX_SPD']]\n",
    "\n",
    "a = pd.merge(data, x, left_on='지점방향', right_on='기준', how='inner')\n",
    "a = a.dropna()\n",
    "\n",
    "data = a.drop(['지점방향'],axis=1)\n",
    "data.columns"
   ]
  },
  {
   "cell_type": "markdown",
   "metadata": {
    "id": "BuotgJ3vWMR1"
   },
   "source": [
    "### 2-10) 지오코딩 데이터"
   ]
  },
  {
   "cell_type": "code",
   "execution_count": null,
   "metadata": {
    "id": "YWbAizHjWMR1"
   },
   "outputs": [],
   "source": [
    "point = pd.read_csv('기준final.csv' , encoding = 'euc-kr')  #지점 데이터 \n",
    "cluster = pd.read_csv('총군집.csv', encoding = 'euc-kr') # 군집\n",
    "seoul_file = '서울5186.shp'  #서울 shp 파일\n",
    "seoul_link_file = '전체조인5186_5.shp' #37개 상하행 link\n",
    "seoul_link_file2 = '서울LINK.shp' #서울 전체 link\n",
    "joinfile = pd.read_csv('전체조인3.csv') #속도 교통량 밀도 파일\n",
    "seoul_link = gpd.read_file(seoul_link_file, encoding = 'euc-kr' )\n",
    "seoul_link2 = gpd.read_file(seoul_link_file2, encoding = 'euc-kr' )\n",
    "seoul = gpd.read_file(seoul_file, encoding = 'euc-kr')\n",
    "joinfile=joinfile[joinfile.columns[82:107]]"
   ]
  },
  {
   "cell_type": "code",
   "execution_count": null,
   "metadata": {
    "id": "yGsnK8vBWMR2"
   },
   "outputs": [],
   "source": [
    "point = pd.read_csv('C:/Users/ddouo/pyhonpro/데이콘/속도차이/기준final.csv' , encoding = 'euc-kr')  #지점 데이터 "
   ]
  },
  {
   "cell_type": "code",
   "execution_count": null,
   "metadata": {
    "id": "Ov_5FifpWMR2"
   },
   "outputs": [],
   "source": [
    "seoul_file = 'C:/Users/ddouo/Desktop/이정헌1/DACON/QGIS/현섭이형 파일/서울5186.shp'  #서울 shp 파일"
   ]
  },
  {
   "cell_type": "code",
   "execution_count": null,
   "metadata": {
    "id": "DbVB7WM1WMR2"
   },
   "outputs": [],
   "source": [
    "seoul_link_file = 'C:/Users/ddouo/Desktop/이정헌1/DACON/QGIS/현섭이형 파일/전체조인5186_5.shp' #37개 상하행 link"
   ]
  },
  {
   "cell_type": "code",
   "execution_count": null,
   "metadata": {
    "id": "C6uhXzAwWMR2"
   },
   "outputs": [],
   "source": [
    "seoul_link_file2 = 'C:/Users/ddouo/Desktop/이정헌1/DACON/QGIS/서울qgis/서울LINK.shp' #서울 전체 link"
   ]
  },
  {
   "cell_type": "code",
   "execution_count": null,
   "metadata": {
    "id": "QvY_lL1jWMR2"
   },
   "outputs": [],
   "source": [
    "joinfile = pd.read_csv('C:/Users/ddouo/Desktop/이정헌1/DACON/QGIS/현섭이형 파일/전체조인3.csv') #속도 교통량 밀도 파일"
   ]
  },
  {
   "cell_type": "code",
   "execution_count": null,
   "metadata": {
    "id": "FVfaQhUbWMR3"
   },
   "outputs": [],
   "source": [
    "seoul_link = gpd.read_file(seoul_link_file, encoding = 'euc-kr' )"
   ]
  },
  {
   "cell_type": "code",
   "execution_count": null,
   "metadata": {
    "id": "JEe6OfHaWMR3"
   },
   "outputs": [],
   "source": [
    "seoul_link2 = gpd.read_file(seoul_link_file2, encoding = 'euc-kr' )"
   ]
  },
  {
   "cell_type": "code",
   "execution_count": null,
   "metadata": {
    "id": "_KH1DWCMWMR3"
   },
   "outputs": [],
   "source": [
    "seoul = gpd.read_file(seoul_file, encoding = 'euc-kr')"
   ]
  },
  {
   "cell_type": "code",
   "execution_count": null,
   "metadata": {
    "id": "VUHxqtD-WMR3"
   },
   "outputs": [],
   "source": [
    "joinfile=joinfile[joinfile.columns[82:107]]"
   ]
  },
  {
   "cell_type": "markdown",
   "metadata": {
    "id": "ADUBoiOYWMR3"
   },
   "source": [
    "# 시간별 밀도, 속도, 교통량 지도에 시각화"
   ]
  },
  {
   "cell_type": "markdown",
   "metadata": {
    "id": "JT2nnzezWMR3"
   },
   "source": [
    "### 1. 데이터 전처리\n",
    "- 서비스 링크 기준으로 밀도, 속도, 교통량 조인"
   ]
  },
  {
   "cell_type": "code",
   "execution_count": null,
   "metadata": {
    "id": "j9Z51ElYWMR3",
    "outputId": "5f38e90c-cc50-4c2f-c3bc-c3ba035312fb"
   },
   "outputs": [],
   "source": [
    "joinfile     # 교통량 파일 (밀도와 속도도 똑같이 반복)"
   ]
  },
  {
   "cell_type": "code",
   "execution_count": null,
   "metadata": {
    "id": "7dF1_WwbWMR4"
   },
   "outputs": [],
   "source": [
    "seoul_link =pd.merge(seoul_link, joinfile, left_on='서비스링크', right_on='SERVICE_1', how='inner')  #교통량 합치기"
   ]
  },
  {
   "cell_type": "code",
   "execution_count": null,
   "metadata": {
    "id": "xBL6h-naWMR4",
    "outputId": "f2bfcd2a-aada-478c-c0a3-6d8f866ed611"
   },
   "outputs": [],
   "source": [
    "seoul_link"
   ]
  },
  {
   "cell_type": "markdown",
   "metadata": {
    "id": "qHLVeGN-WMR4"
   },
   "source": [
    "### 시간별로 변화하는 gif를 만들기위해 24시간 모두 시각화"
   ]
  },
  {
   "cell_type": "code",
   "execution_count": null,
   "metadata": {
    "id": "Ef5t8lUBWMR4",
    "outputId": "f6bfaed9-a1eb-4431-fea3-e1c8d4ad6147"
   },
   "outputs": [],
   "source": [
    "seoul_link.columns[42:66] #속도 들어가있는 컬럼 확인"
   ]
  },
  {
   "cell_type": "code",
   "execution_count": null,
   "metadata": {
    "id": "Vyut9Jj-WMR4",
    "outputId": "ae55b397-77c6-4a43-faf2-b4c33df5318f"
   },
   "outputs": [],
   "source": [
    "seoul_link.columns[68:] #교통량 들어가있는 컬럼 확인"
   ]
  },
  {
   "cell_type": "code",
   "execution_count": null,
   "metadata": {
    "id": "UaS5jkGEWMR4",
    "outputId": "c354f076-2816-4eca-cec9-ace31d8704dc"
   },
   "outputs": [],
   "source": [
    "#속도 리스트 만들어 주기\n",
    "traffic =seoul_link.columns[68:]   \n",
    "seoul_traffic_list = []\n",
    "\n",
    "for i in range(len(traffic)):\n",
    "    seoul_traffic_list.append(traffic[i])\n",
    "seoul_traffic_list"
   ]
  },
  {
   "cell_type": "code",
   "execution_count": null,
   "metadata": {
    "id": "4JffGlSiWMR5",
    "outputId": "2724a182-db05-4b81-aa1c-502f247087c1"
   },
   "outputs": [],
   "source": [
    "#밀도 리스트 만들어 주기\n",
    "den =seoul_link.columns[18:42]   \n",
    "seoul_den_list = []\n",
    "\n",
    "for i in range(len(den)):\n",
    "    seoul_den_list.append(den[i])\n",
    "seoul_den_list"
   ]
  },
  {
   "cell_type": "code",
   "execution_count": null,
   "metadata": {
    "id": "ko0FZtYyWMR5",
    "outputId": "b72138ed-23d6-48dd-d856-f0dad259fb5a"
   },
   "outputs": [],
   "source": [
    "#속도 리스트 만들어 주기\n",
    "\n",
    "speed =seoul_link.columns[42:66]\n",
    "seoul_speed_list = []\n",
    "\n",
    "for i in range(len(speed)):\n",
    "    seoul_speed_list.append(speed[i])\n",
    "seoul_speed_list"
   ]
  },
  {
   "cell_type": "markdown",
   "metadata": {
    "id": "EtGZWSGsWMR5"
   },
   "source": [
    "### gif 파일을 만들기위해 지도에 시각화 및 png 파일 저장\n",
    "- 저장된 파일은 https://ezgif.com/maker/ezgif-7-20fcdec3-gif 홈페이지를 통해 gif 파일로 변환"
   ]
  },
  {
   "cell_type": "code",
   "execution_count": null,
   "metadata": {
    "id": "2yP5ZRcEWMR5",
    "outputId": "0d6c1ad8-b6b6-4e7d-adbb-c994baab4093"
   },
   "outputs": [],
   "source": [
    "#교통량 데이터 시각화 및 저장\n",
    "for i in seoul_traffic_list:\n",
    "    \n",
    "    ax = seoul.plot(figsize = (20,20), color = 'none', edgecolor = 'gainsboro', zorder=3)\n",
    "    seoul_link2.plot(color=\"gainsboro\", lw=1,ax=ax)\n",
    "    seoul_link.plot(column=i,vmax = 8000, legend=True, cmap=\"OrRd\", ax=ax, lw = 8)\n",
    "    plt.title(i,fontsize = 50)\n",
    "#     plt.savefig(i, dpi=300) #png파일 저장 \n",
    "\n"
   ]
  },
  {
   "cell_type": "markdown",
   "metadata": {
    "id": "R7PSBjp6WMR5"
   },
   "source": [
    "### 교통량 gif"
   ]
  },
  {
   "cell_type": "code",
   "execution_count": null,
   "metadata": {
    "id": "YW3bhMd4WMR5",
    "outputId": "447fa509-d985-4730-c284-3c6fd78da889"
   },
   "outputs": [],
   "source": [
    "Image(filename='교통량.gif') "
   ]
  },
  {
   "cell_type": "code",
   "execution_count": null,
   "metadata": {
    "id": "CguQzlWNWMR6",
    "outputId": "08ef62c7-99e0-4432-b086-1e206ad8cdad"
   },
   "outputs": [],
   "source": [
    "#속도 데이터 시각화 및 저장\n",
    "for i in seoul_speed_list:\n",
    "    \n",
    "    ax = seoul.plot(figsize = (20,20), color = 'none', edgecolor = 'gainsboro', zorder=3)\n",
    "    seoul_link2.plot(color=\"gainsboro\", lw=1,ax=ax)\n",
    "    seoul_link.plot(column=i,vmin =-20,vmax =100, legend=True, cmap=\"hot\", ax=ax, lw = 8)\n",
    "    plt.title(i,fontsize = 50)\n",
    "#     plt.savefig(i, dpi=300) #이미지 파일 저장\n",
    "\n"
   ]
  },
  {
   "cell_type": "markdown",
   "metadata": {
    "id": "Yh2NoD4VWMR6"
   },
   "source": [
    "### 속도 gif 파일"
   ]
  },
  {
   "cell_type": "code",
   "execution_count": null,
   "metadata": {
    "id": "zMkRa-pZWMR6",
    "outputId": "2662022d-e946-4045-f1ec-3ab8a9d9c9c6"
   },
   "outputs": [],
   "source": [
    "Image(filename='속도.gif') "
   ]
  },
  {
   "cell_type": "code",
   "execution_count": null,
   "metadata": {
    "id": "dfIdco6aWMR6",
    "outputId": "20f461ad-1267-4e0f-a3b7-95f7aa3dc284"
   },
   "outputs": [],
   "source": [
    "#밀도 데이터 시각화 및 저장\n",
    "\n",
    "for i in seoul_den_list:\n",
    "    \n",
    "    ax = seoul.plot(figsize = (20,20), color = 'none', edgecolor = 'gainsboro', zorder=3)\n",
    "    seoul_link2.plot(color=\"gainsboro\", lw=1,ax=ax)\n",
    "    seoul_link.plot(column=i,vmax =300, legend=True, cmap=\"OrRd\", ax=ax, lw = 8)\n",
    "    plt.title(i,fontsize = 50)\n",
    "#     plt.savefig(i, dpi=300) #이미지 파일 저장\n",
    "\n"
   ]
  },
  {
   "cell_type": "markdown",
   "metadata": {
    "id": "uMp51A71WMR6"
   },
   "source": [
    "### 밀도 gif 파일"
   ]
  },
  {
   "cell_type": "code",
   "execution_count": null,
   "metadata": {
    "id": "G7g-pcw5WMR6",
    "outputId": "61a81533-d762-4b49-832f-7ef70f6abf20"
   },
   "outputs": [],
   "source": [
    "Image(filename='밀도.gif') "
   ]
  },
  {
   "cell_type": "markdown",
   "metadata": {
    "id": "bjkTM3g0WMR7"
   },
   "source": [
    "---"
   ]
  },
  {
   "cell_type": "markdown",
   "metadata": {
    "id": "Hp7HsqkgWMR7"
   },
   "source": [
    "## 3. 군집분석"
   ]
  },
  {
   "cell_type": "markdown",
   "metadata": {
    "id": "DKiGR4k_WMR7"
   },
   "source": [
    "### 1) 고려 요인"
   ]
  },
  {
   "cell_type": "markdown",
   "metadata": {
    "id": "TOWg1XRIWMR7"
   },
   "source": [
    "- 지점\n",
    "- 차선수\n",
    "- 교차로\n",
    "- 진입로\n",
    "- 신호등\n",
    "- CCTV\n",
    "- 거리\n",
    "- 방향(상/하행)\n",
    "- 도심/외곽 구분\n",
    "- 9시 속도\n",
    "- 9시 밀도\n",
    "- 9시 교통량"
   ]
  },
  {
   "cell_type": "markdown",
   "metadata": {
    "id": "v0vhWDwTWMR7"
   },
   "source": [
    "### 1-2) 특정 시간인 9시 선정 이유"
   ]
  },
  {
   "cell_type": "code",
   "execution_count": null,
   "metadata": {
    "id": "dxy7m6-yWMR7"
   },
   "outputs": [],
   "source": [
    "point_group = data.groupby(['지점'], as_index=False).mean()"
   ]
  },
  {
   "cell_type": "markdown",
   "metadata": {
    "id": "vRjEYiGKWMR7"
   },
   "source": [
    "#### 출근(06-10시)시간대 속도/속도차이/교통량"
   ]
  },
  {
   "cell_type": "code",
   "execution_count": null,
   "metadata": {
    "id": "uM4tQNiEWMR7",
    "outputId": "7332538f-59b1-47dd-b7aa-e1e69729619a"
   },
   "outputs": [],
   "source": [
    "point_group_morning = point_group[['06시_속도','07시_속도','08시_속도','09시_속도','10시_속도']]\n",
    "point_group_morning=point_group_morning.rename(columns={'06시_속도':'6시','07시_속도':'7시','08시_속도':'8시','09시_속도':'9시','10시_속도':'10시'})\n",
    "point_group_morning_trans = point_group_morning.transpose()\n",
    "\n",
    "morning_diff = point_group[['06시_속도차','07시_속도차','08시_속도차','09시_속도차','10시_속도차']]\n",
    "morning_diff=morning_diff.rename(columns={'06시_속도차':'6시','07시_속도차':'7시','08시_속도차':'8시','09시_속도차':'9시','10시_속도차':'10시'})\n",
    "morning_diff_trans=morning_diff.transpose()\n",
    "\n",
    "\n",
    "morning_traffic = point_group[['6시_교통량','7시_교통량','8시_교통량','9시_교통량','10시_교통량']]\n",
    "morning_traffic=morning_traffic.rename(columns={'6시_교통량':'6시','7시_교통량':'7시','8시_교통량':'8시','9시_교통량':'9시','10시_교통량':'10시'})\n",
    "morning_traffic_trans=morning_traffic.transpose()\n",
    "\n",
    "\n",
    "plt.figure(figsize=[20,5])\n",
    "\n",
    "plt.subplot(131)\n",
    "plt.plot(point_group_morning_trans)\n",
    "plt.xticks(rotation = 60)\n",
    "plt.title(\"출근시간대 지점별 속도\")\n",
    "\n",
    "plt.subplot(132)\n",
    "plt.plot(morning_diff_trans)\n",
    "plt.xticks(rotation = 60)\n",
    "plt.title(\"출근시간대 지점별 속도 차\")\n",
    "\n",
    "plt.subplot(133)\n",
    "plt.plot(morning_traffic_trans)\n",
    "plt.xticks(rotation = 60)\n",
    "plt.title(\"출근시간대 지점별 교통량\")"
   ]
  },
  {
   "cell_type": "markdown",
   "metadata": {
    "id": "mD2fFKz-WMR8"
   },
   "source": [
    "- 제한속도 60,80,90으로 다양하게 존재하지만 6시에는 제한 속도까지 평균치를 나타냄\n",
    "- 시간이 흐름에 따라 오전 9시쯤에는 가장 낮은 속도 분포를 보이고 있음\n",
    "- 출근 시간대를 가장 잘 나타내는 시간대가 9시라 생각하여 군집 요인으로 9시의 특징을 뽑았음"
   ]
  },
  {
   "cell_type": "markdown",
   "metadata": {
    "id": "vrrqKmEWWMR8"
   },
   "source": [
    "#### 퇴근(17-21시)시간대 속도/속도차이/교통량"
   ]
  },
  {
   "cell_type": "code",
   "execution_count": null,
   "metadata": {
    "id": "9U6X36dSWMR8",
    "outputId": "1fe7ed17-1677-4202-82a7-6c07d405cde2"
   },
   "outputs": [],
   "source": [
    "point_group_evening = point_group[['17시_속도','18시_속도','19시_속도','20시_속도','21시_속도']]\n",
    "point_group_evening=point_group_evening.rename(columns={'17시_속도':'17시','18시_속도':'18시','19시_속도':'19시','20시_속도':'20시','21시_속도':'21시'})\n",
    "point_group_evening_trans = point_group_evening.transpose()\n",
    "\n",
    "evening_diff = point_group[['17시_속도차','18시_속도차','19시_속도차','20시_속도차','21시_속도차']]\n",
    "evening_diff=evening_diff.rename(columns={'17시_속도차':'17시','18시_속도차':'18시','19시_속도차':'19시','20시_속도차':'20시','21시_속도차':'21시'})\n",
    "evening_diff_trans=evening_diff.transpose()\n",
    "\n",
    "evening_traffic = point_group[['17시_교통량','18시_교통량','19시_교통량','20시_교통량','21시_교통량']]\n",
    "evening_traffic=evening_traffic.rename(columns={'17시_교통량':'17시','18시_교통량':'18시','19시_교통량':'19시','20시_교통량':'20시','21시_교통량':'21시'})\n",
    "evening_traffic_trans=evening_traffic.transpose()\n",
    "\n",
    "plt.figure(figsize=[20,5])\n",
    "\n",
    "plt.subplot(131)\n",
    "plt.plot(point_group_evening_trans)\n",
    "plt.xticks(rotation = 60)\n",
    "plt.title(\"퇴근시간대 지점별 속도\")\n",
    "\n",
    "plt.subplot(132)\n",
    "plt.plot(evening_diff_trans)\n",
    "plt.xticks(rotation = 60)\n",
    "plt.title(\"퇴근시간대 지점별 속도 차\")\n",
    "\n",
    "plt.subplot(133)\n",
    "plt.plot(evening_traffic_trans)\n",
    "plt.xticks(rotation = 60)\n",
    "plt.title(\"퇴근시간대 지점별 교통량\")"
   ]
  },
  {
   "cell_type": "markdown",
   "metadata": {
    "id": "iMNaZdAzWMR8"
   },
   "source": [
    "- 출근 시간대와 달리 속도가 제한 속도 밑으로 위치함\n",
    "- 전반적으로 정체가 일어나는 상황에선 로드지퍼를 설치 할 수 없음\n",
    "- 군집 설정엔 퇴근 시간보다 출근 시간(9시)이 적합함"
   ]
  },
  {
   "cell_type": "code",
   "execution_count": null,
   "metadata": {
    "id": "RuQoPBXJWMR8"
   },
   "outputs": [],
   "source": [
    "factor = data[['지점','차선수','교차로','진입로','신호등','CCTV','거리', '방향_x','도심/외곽구분','09시_속도','9시 밀도','9시_교통량']]\n",
    "factor=factor.reset_index()\n",
    "factor = factor.iloc[:,1:]"
   ]
  },
  {
   "cell_type": "code",
   "execution_count": null,
   "metadata": {
    "id": "PT_qv5HyWMR8"
   },
   "outputs": [],
   "source": [
    "factor2 = pd.get_dummies(factor)"
   ]
  },
  {
   "cell_type": "markdown",
   "metadata": {
    "id": "2rMJuFZrWMR9"
   },
   "source": [
    "### 2) 군집 나누기"
   ]
  },
  {
   "cell_type": "code",
   "execution_count": null,
   "metadata": {
    "id": "0oHhUddsWMR9"
   },
   "outputs": [],
   "source": [
    "from sklearn.cluster import KMeans\n",
    "plt.rc('font', family='Malgun Gothic')"
   ]
  },
  {
   "cell_type": "code",
   "execution_count": null,
   "metadata": {
    "id": "AUISOgtiWMR9",
    "outputId": "71519979-c0df-459b-8a84-e84d7ddf1087"
   },
   "outputs": [],
   "source": [
    "# 최적의 K 정하기 (elbow method)\n",
    "def elbow(X):\n",
    "    sse = [] # sum of squre error 오차제곱합\n",
    "    for i in range(1, 11):\n",
    "        kmeans = KMeans(n_clusters=i, init='k-means++', random_state=0)\n",
    "        kmeans.fit(X)\n",
    "        # SSE 값 저장\n",
    "        sse.append(kmeans.inertia_)\n",
    "    plt.plot(range(1, 11), sse, marker = 'o')\n",
    "    plt.title(\"elbow method\")\n",
    "    plt.xlabel(\"number of clusters\")\n",
    "    plt.ylabel(\"SSE\")\n",
    "    plt.show()\n",
    "elbow(factor2)"
   ]
  },
  {
   "cell_type": "markdown",
   "metadata": {
    "id": "A8GB3-ePWMR9"
   },
   "source": [
    "- k-means : 클러스터내 오차제곱합(SSE)의 값이 최소가 되도록 하는 방법\n",
    "- 위의 그래프는 클러스터의 개수를 늘려가면서 계산한 SSE 그래프임\n",
    "- 4를 기점으로 크게 줄어든 것을 알 수 있고, 적당한 수의 군집의 수인 4로 설정함"
   ]
  },
  {
   "cell_type": "code",
   "execution_count": null,
   "metadata": {
    "id": "Txy310qJWMR9"
   },
   "outputs": [],
   "source": [
    "n_clusters = 4\n",
    "kmeans = KMeans(n_clusters=n_clusters, init='k-means++', max_iter=300, n_init=10, random_state=1339) \n",
    "y_pred = kmeans.fit_predict(factor2)\n",
    "y_pred = pd.DataFrame(y_pred) # 군집 결정\n",
    "result = pd.concat([factor,y_pred],axis = 1)\n",
    "df = result.rename(columns={0: '군집'})"
   ]
  },
  {
   "cell_type": "markdown",
   "metadata": {
    "id": "2mkaw2JMWMR9"
   },
   "source": [
    "### 3) 군집 결과"
   ]
  },
  {
   "cell_type": "markdown",
   "metadata": {
    "id": "6a2h1TfqWMR9"
   },
   "source": [
    "### 3-1) 군집 0"
   ]
  },
  {
   "cell_type": "code",
   "execution_count": null,
   "metadata": {
    "id": "y5Xp62STWMR-",
    "outputId": "4b0b893c-d887-45bf-f1d9-efce37c6fa36"
   },
   "outputs": [],
   "source": [
    "group0 = df.query('군집==0')\n",
    "group0['지점'].value_counts()"
   ]
  },
  {
   "cell_type": "markdown",
   "metadata": {
    "id": "Fpq_dsQFWMR-"
   },
   "source": [
    "### 3-2) 군집 1"
   ]
  },
  {
   "cell_type": "code",
   "execution_count": null,
   "metadata": {
    "id": "zPtYjLSgWMR-",
    "outputId": "b5e85c38-4e78-4ca7-9628-c9cfcd5ee906"
   },
   "outputs": [],
   "source": [
    "group1 = df.query('군집==1')\n",
    "group1['지점'].value_counts()"
   ]
  },
  {
   "cell_type": "markdown",
   "metadata": {
    "id": "fLkpB3XiWMR-"
   },
   "source": [
    "### 3-3) 군집 2"
   ]
  },
  {
   "cell_type": "code",
   "execution_count": null,
   "metadata": {
    "id": "ETGZS9UAWMR-",
    "outputId": "90d93af4-a1f9-45ae-9481-21dbcef40b3e"
   },
   "outputs": [],
   "source": [
    "group2 = df.query('군집==2')\n",
    "group2['지점'].value_counts()"
   ]
  },
  {
   "cell_type": "markdown",
   "metadata": {
    "id": "GrO5cSEjWMR_"
   },
   "source": [
    "### 3-4) 군집 3"
   ]
  },
  {
   "cell_type": "code",
   "execution_count": null,
   "metadata": {
    "id": "rlvsqH_3WMR_",
    "outputId": "b1adc9d3-39f0-43d9-f30c-691cfbb55d90"
   },
   "outputs": [],
   "source": [
    "group3 = df.query('군집==3')\n",
    "group3['지점'].value_counts()"
   ]
  },
  {
   "cell_type": "markdown",
   "metadata": {
    "id": "njQwSyqHWMR_"
   },
   "source": [
    "### 3-5) 군집 지오코딩"
   ]
  },
  {
   "cell_type": "markdown",
   "metadata": {
    "id": "Qp7phF7pWMR_"
   },
   "source": [
    "# 군집과 시간별 속도, 교통량, 밀도를 지도에 시각화"
   ]
  },
  {
   "cell_type": "markdown",
   "metadata": {
    "id": "nCgtXwZVWMSA"
   },
   "source": [
    "# 군집 시각화"
   ]
  },
  {
   "cell_type": "markdown",
   "metadata": {
    "id": "3eUO9AzgWMSA"
   },
   "source": [
    "### 1. 군집 데이터 전처리"
   ]
  },
  {
   "cell_type": "markdown",
   "metadata": {
    "id": "8GK7FmE0WMSA"
   },
   "source": [
    "#### - 군집을 지도에 시각화 하기 위해 GeoDataframe에 지점과 방향 기준으로 군집을 조인"
   ]
  },
  {
   "cell_type": "code",
   "execution_count": null,
   "metadata": {
    "id": "UbN34VxXWMSA"
   },
   "outputs": [],
   "source": [
    "cluster = pd.read_csv('C:/Users/ddouo/pyhonpro/데이콘/속도차이/총군집.csv', encoding = 'euc-kr') # 군집"
   ]
  },
  {
   "cell_type": "code",
   "execution_count": null,
   "metadata": {
    "id": "9K-q4qz6WMSA",
    "outputId": "7e07ba53-83a6-4101-82b2-74f7c5462081"
   },
   "outputs": [],
   "source": [
    "cluster"
   ]
  },
  {
   "cell_type": "code",
   "execution_count": null,
   "metadata": {
    "id": "CEFFFmSPWMSA",
    "outputId": "e12155b4-1970-46d9-ff5b-180ae604de60"
   },
   "outputs": [],
   "source": [
    "point"
   ]
  },
  {
   "cell_type": "code",
   "execution_count": null,
   "metadata": {
    "id": "iQikU9AzWMSB"
   },
   "outputs": [],
   "source": [
    "point = point[['지점', 'SERVICE']]"
   ]
  },
  {
   "cell_type": "code",
   "execution_count": null,
   "metadata": {
    "id": "u_JZ3ogbWMSB",
    "outputId": "4a432e56-2b8f-4d56-b777-4448845688d0"
   },
   "outputs": [],
   "source": [
    "seoul_link"
   ]
  },
  {
   "cell_type": "code",
   "execution_count": null,
   "metadata": {
    "id": "TvePDaJDWMSB",
    "outputId": "0159b7e8-c584-48d8-b818-5f983fc59bf6"
   },
   "outputs": [],
   "source": [
    "seoul_link.columns"
   ]
  },
  {
   "cell_type": "code",
   "execution_count": null,
   "metadata": {
    "id": "flL-DuJcWMSB"
   },
   "outputs": [],
   "source": [
    "seoul_link_point =pd.merge(seoul_link, point, left_on='서비스링크', right_on='SERVICE', how='inner')  #지점 데이터 조인"
   ]
  },
  {
   "cell_type": "code",
   "execution_count": null,
   "metadata": {
    "id": "16QU8Fm9WMSB",
    "outputId": "7be5d264-3100-410d-998d-49675580336c"
   },
   "outputs": [],
   "source": [
    "seoul_link_point['지점'].isna().value_counts() # null 확인 "
   ]
  },
  {
   "cell_type": "code",
   "execution_count": null,
   "metadata": {
    "id": "a7coaUh6WMSB",
    "outputId": "696fb918-b734-4146-ca9f-8ec0df706a1f"
   },
   "outputs": [],
   "source": [
    "seoul_link_point"
   ]
  },
  {
   "cell_type": "code",
   "execution_count": null,
   "metadata": {
    "id": "PjVYwguWWMSC"
   },
   "outputs": [],
   "source": [
    "seoul_link_point=seoul_link_point.drop(['SERVICE'], axis = 1)"
   ]
  },
  {
   "cell_type": "code",
   "execution_count": null,
   "metadata": {
    "id": "qHLhVeNQWMSC",
    "outputId": "3ea6c966-dca9-4757-a425-ce1d12a77385"
   },
   "outputs": [],
   "source": [
    "seoul_link_point"
   ]
  },
  {
   "cell_type": "code",
   "execution_count": null,
   "metadata": {
    "id": "wviXhgTAWMSC",
    "outputId": "6dde2ede-eb34-46e0-cdd1-256bfb42fc5b"
   },
   "outputs": [],
   "source": [
    "cluster"
   ]
  },
  {
   "cell_type": "code",
   "execution_count": null,
   "metadata": {
    "id": "WRDKlGMkWMSC",
    "outputId": "9aee54c0-ba76-4f02-ef95-98fd230d1f07"
   },
   "outputs": [],
   "source": [
    "cluster[cluster['지점_방향_x']=='D-35_하행'] #지점당 데이터는 179개"
   ]
  },
  {
   "cell_type": "code",
   "execution_count": null,
   "metadata": {
    "id": "i-_sX0QzWMSC"
   },
   "outputs": [],
   "source": [
    "cluster_group = cluster.groupby('군집') #군집별로 나누기위해 group 형성"
   ]
  },
  {
   "cell_type": "code",
   "execution_count": null,
   "metadata": {
    "id": "gndz--uwWMSC",
    "outputId": "654ec954-2cc0-4904-def2-96c0ad396121"
   },
   "outputs": [],
   "source": [
    "cluster_group['지점_방향_x'].value_counts()"
   ]
  },
  {
   "cell_type": "code",
   "execution_count": null,
   "metadata": {
    "id": "vD66otLvWMSC"
   },
   "outputs": [],
   "source": [
    "cluster_group_counts = cluster_group['지점_방향_x'].value_counts().unstack()"
   ]
  },
  {
   "cell_type": "code",
   "execution_count": null,
   "metadata": {
    "id": "-pmUbalhWMSD"
   },
   "outputs": [],
   "source": [
    "cluster_group_counts=cluster_group_counts.reset_index()"
   ]
  },
  {
   "cell_type": "code",
   "execution_count": null,
   "metadata": {
    "id": "9WfirabxWMSD",
    "outputId": "5fe7c8b4-55f7-47b3-c142-f0dc1e201372"
   },
   "outputs": [],
   "source": [
    "cluster_group_counts=cluster_group_counts.T.reset_index()\n",
    "cluster_group_counts"
   ]
  },
  {
   "cell_type": "code",
   "execution_count": null,
   "metadata": {
    "id": "ilHB2NC4WMSD"
   },
   "outputs": [],
   "source": [
    "cluster_group_counts.to_csv('cluster_group_counts.csv') #파일 저장"
   ]
  },
  {
   "cell_type": "code",
   "execution_count": null,
   "metadata": {
    "id": "CL6b9KPSWMSD",
    "outputId": "2c494d53-edb4-4a64-86df-e70761039bd4"
   },
   "outputs": [],
   "source": [
    "cluster_group0_counts=cluster_group_counts[['지점_방향_x',0]]  #군집별로 df 만들기\n",
    "cluster_group1_counts=cluster_group_counts[['지점_방향_x',1]]\n",
    "cluster_group2_counts=cluster_group_counts[['지점_방향_x',2]]\n",
    "cluster_group3_counts=cluster_group_counts[['지점_방향_x',3]]\n",
    "cluster_group0_counts"
   ]
  },
  {
   "cell_type": "markdown",
   "metadata": {
    "id": "WdOKOSkUWMSD"
   },
   "source": [
    "### \n",
    "군집에 중복으로 포함되는 지점이 존재하고 지점당 개수가 179개이므로\n",
    "\n",
    "임의로 같은 지점이 100개 이상인곳만 군집으로 처리\n"
   ]
  },
  {
   "cell_type": "code",
   "execution_count": null,
   "metadata": {
    "id": "aIaUyGriWMSD",
    "outputId": "40dd865e-ef8a-4282-a030-5779ef5203a1"
   },
   "outputs": [],
   "source": [
    "cluster_group0_counts.dropna(inplace=True)   \n",
    "cluster_group0_counts=cluster_group0_counts[cluster_group0_counts[0]>100]  #군집에서 너무 적은 것들은 제외\n",
    "cluster_group1_counts.dropna(inplace=True)\n",
    "cluster_group1_counts=cluster_group1_counts[cluster_group1_counts[1]>100]\n",
    "cluster_group2_counts.dropna(inplace=True)\n",
    "cluster_group2_counts=cluster_group2_counts[cluster_group2_counts[2]>100]\n",
    "cluster_group3_counts.dropna(inplace=True)\n",
    "cluster_group3_counts=cluster_group3_counts[cluster_group3_counts[3]>100]"
   ]
  },
  {
   "cell_type": "markdown",
   "metadata": {
    "id": "3BBTV5-cWMSD"
   },
   "source": [
    "### 데이터확인"
   ]
  },
  {
   "cell_type": "code",
   "execution_count": null,
   "metadata": {
    "id": "0hxJMmyqWMSE",
    "outputId": "15f550c9-fac4-4aff-b9cc-633f7f76ef73"
   },
   "outputs": [],
   "source": [
    "cluster_group0_counts"
   ]
  },
  {
   "cell_type": "code",
   "execution_count": null,
   "metadata": {
    "id": "1bX6K4zzWMSE",
    "outputId": "6b1c9e22-cf66-4bca-9dd9-bbfb69ae8b05"
   },
   "outputs": [],
   "source": [
    "cluster_group1_counts"
   ]
  },
  {
   "cell_type": "code",
   "execution_count": null,
   "metadata": {
    "id": "CdzjiTikWMSE",
    "outputId": "73c25322-086c-482d-b5bc-b0c41d7f81f7"
   },
   "outputs": [],
   "source": [
    "cluster_group2_counts"
   ]
  },
  {
   "cell_type": "code",
   "execution_count": null,
   "metadata": {
    "id": "1PidUe4zWMSE",
    "outputId": "4564e9bd-ca7a-4c90-e294-1ff3539c4b57"
   },
   "outputs": [],
   "source": [
    "cluster_group3_counts"
   ]
  },
  {
   "cell_type": "code",
   "execution_count": null,
   "metadata": {
    "id": "HzViJQplWMSE",
    "outputId": "fbb946a2-6fd8-4d78-caf4-55030f6358fe"
   },
   "outputs": [],
   "source": [
    "seoul_link_point"
   ]
  },
  {
   "cell_type": "markdown",
   "metadata": {
    "id": "wKtz1hS8WMSE"
   },
   "source": [
    "### 서울 링크에 군집별로 합치기"
   ]
  },
  {
   "cell_type": "code",
   "execution_count": null,
   "metadata": {
    "id": "MadqpkBFWMSE"
   },
   "outputs": [],
   "source": [
    "seoul_link_point =pd.merge(seoul_link_point, cluster_group0_counts, left_on='지점', right_on='지점_방향_x', how='left')"
   ]
  },
  {
   "cell_type": "code",
   "execution_count": null,
   "metadata": {
    "id": "6M2KhLFoWMSF"
   },
   "outputs": [],
   "source": [
    "seoul_link_point =pd.merge(seoul_link_point, cluster_group1_counts, left_on='지점', right_on='지점_방향_x', how='left')"
   ]
  },
  {
   "cell_type": "code",
   "execution_count": null,
   "metadata": {
    "id": "2u3wtJl2WMSF"
   },
   "outputs": [],
   "source": [
    "seoul_link_point =pd.merge(seoul_link_point, cluster_group2_counts, left_on='지점', right_on='지점_방향_x', how='left')"
   ]
  },
  {
   "cell_type": "code",
   "execution_count": null,
   "metadata": {
    "id": "q6rc95jKWMSF"
   },
   "outputs": [],
   "source": [
    "seoul_link_point =pd.merge(seoul_link_point, cluster_group3_counts, left_on='지점', right_on='지점_방향_x', how='left')"
   ]
  },
  {
   "cell_type": "code",
   "execution_count": null,
   "metadata": {
    "id": "1Wz0uvfgWMSF"
   },
   "outputs": [],
   "source": [
    "seoul_link_point_cluster=seoul_link_point.drop(['지점_방향_x_x','지점_방향_x_y','지점_방향_x_y'], axis = 1)"
   ]
  },
  {
   "cell_type": "code",
   "execution_count": null,
   "metadata": {
    "id": "0zxfKWHeWMSF",
    "outputId": "d1c04dae-23b6-4c7d-8285-c9924e33e08b"
   },
   "outputs": [],
   "source": [
    "seoul_link_point_cluster"
   ]
  },
  {
   "cell_type": "markdown",
   "metadata": {
    "id": "fToy1l-nWMSF"
   },
   "source": [
    "### 2. 군집별로 분리\n",
    "- 군집별로 따로 시각화하기 위해"
   ]
  },
  {
   "cell_type": "code",
   "execution_count": null,
   "metadata": {
    "id": "816Uk3gnWMSF",
    "outputId": "422514f3-63a4-4d13-cb1e-0fab93a0a1da"
   },
   "outputs": [],
   "source": [
    "seoul_link_point_cluster0=seoul_link_point_cluster[seoul_link_point_cluster[0]>0]\n",
    "seoul_link_point_cluster1=seoul_link_point_cluster[seoul_link_point_cluster[1]>0]\n",
    "seoul_link_point_cluster2=seoul_link_point_cluster[seoul_link_point_cluster[2]>0]\n",
    "seoul_link_point_cluster3=seoul_link_point_cluster[seoul_link_point_cluster[3]>0]\n",
    "\n",
    "seoul_link_point_cluster0"
   ]
  },
  {
   "cell_type": "markdown",
   "metadata": {
    "id": "fYJhZ88aWMSG"
   },
   "source": [
    "### 3. 시각화"
   ]
  },
  {
   "cell_type": "code",
   "execution_count": null,
   "metadata": {
    "id": "No14GinUWMSG",
    "outputId": "b5c4f829-1a5b-4686-afcb-efb872be64b9"
   },
   "outputs": [],
   "source": [
    "ax = seoul.plot(figsize = (20,20), color = 'none', edgecolor = 'gainsboro', zorder=3)\n",
    "seoul_link2.plot(color=\"gainsboro\", lw=1,ax=ax)\n",
    "seoul_link_point_cluster1.plot(color=\"Blue\", lw=8,ax=ax, label = '군집 0')\n",
    "seoul_link_point_cluster2.plot(color=\"Green\", lw=8,ax=ax, label = '군집 1')\n",
    "seoul_link_point_cluster0.plot(color=\"Red\", lw=8,ax=ax , label = '군집 2')\n",
    "seoul_link_point_cluster3.plot(color=\"Yellow\", lw=8,ax=ax, label = '군집 3')\n",
    "plt.title('Clustering', fontsize = 50)\n",
    "plt.legend(fontsize = 20)\n",
    "#plt.savefig('Clustering', dpi=300) #이미지파일 저장"
   ]
  },
  {
   "cell_type": "code",
   "execution_count": null,
   "metadata": {
    "id": "o7nlfVE0WMSG",
    "outputId": "e8f95727-16e9-44c2-ac6d-2ec5f8cc4dc0"
   },
   "outputs": [],
   "source": [
    "ax = seoul.plot(figsize = (20,20), color = 'none', edgecolor = 'gainsboro', zorder=3)\n",
    "seoul_link2.plot(color=\"gainsboro\", lw=1,ax=ax)\n",
    "seoul_link_point_cluster1.plot(color=\"Blue\", lw=8,ax=ax, label = '군집 0')\n",
    "# seoul_link_point_cluster2.plot(color=\"Green\", lw=8,ax=ax, label = '군집 1')\n",
    "# seoul_link_point_cluster0.plot(color=\"Red\", lw=8,ax=ax , label = '군집 2')\n",
    "# seoul_link_point_cluster3.plot(color=\"Yellow\", lw=8,ax=ax, label = '군집 3')\n",
    "plt.title('Cluster 0', fontsize = 50)\n",
    "plt.legend(fontsize = 20)\n",
    "# plt.savefig('Cluster0', dpi=300) #이미지 파일 저장"
   ]
  },
  {
   "cell_type": "code",
   "execution_count": null,
   "metadata": {
    "id": "Hhic0snsWMSG",
    "outputId": "2e65e32c-c869-4b47-91ec-221b03df8fad"
   },
   "outputs": [],
   "source": [
    "ax = seoul.plot(figsize = (20,20), color = 'none', edgecolor = 'gainsboro', zorder=3)\n",
    "seoul_link2.plot(color=\"gainsboro\", lw=1,ax=ax)\n",
    "#seoul_link_point_cluster1.plot(color=\"Blue\", lw=8,ax=ax, label = '군집 0')\n",
    "seoul_link_point_cluster2.plot(color=\"Green\", lw=8,ax=ax, label = '군집 1')\n",
    "# seoul_link_point_cluster0.plot(color=\"Red\", lw=8,ax=ax , label = '군집 2')\n",
    "# seoul_link_point_cluster3.plot(color=\"Yellow\", lw=8,ax=ax, label = '군집 3')\n",
    "plt.title('Cluster 1', fontsize = 50)\n",
    "plt.legend(fontsize = 20)\n",
    "# plt.savefig('Cluster1', dpi=300) #이미지 파일 저장"
   ]
  },
  {
   "cell_type": "code",
   "execution_count": null,
   "metadata": {
    "id": "uCnzlZ8UWMSG",
    "outputId": "0718ccc7-4552-4569-b881-d2750d35a915"
   },
   "outputs": [],
   "source": [
    "ax = seoul.plot(figsize = (20,20), color = 'none', edgecolor = 'gainsboro', zorder=3)\n",
    "seoul_link2.plot(color=\"gainsboro\", lw=1,ax=ax)\n",
    "#seoul_link_point_cluster1.plot(color=\"Blue\", lw=8,ax=ax, label = '군집 0')\n",
    "# seoul_link_point_cluster2.plot(color=\"Green\", lw=8,ax=ax, label = '군집 1')\n",
    "seoul_link_point_cluster0.plot(color=\"Red\", lw=8,ax=ax , label = '군집 2')\n",
    "# seoul_link_point_cluster3.plot(color=\"Yellow\", lw=8,ax=ax, label = '군집 3')\n",
    "plt.title('Cluster 2', fontsize = 50)\n",
    "plt.legend(fontsize = 20)\n",
    "# plt.savefig('Cluster2', dpi=300) #이미지 파일 저장"
   ]
  },
  {
   "cell_type": "code",
   "execution_count": null,
   "metadata": {
    "id": "Hwscu1J8WMSG",
    "outputId": "252a3c10-b08b-485a-f26d-5d9489387a57"
   },
   "outputs": [],
   "source": [
    "ax = seoul.plot(figsize = (20,20), color = 'none', edgecolor = 'gainsboro', zorder=3)\n",
    "seoul_link2.plot(color=\"gainsboro\", lw=1,ax=ax)\n",
    "#seoul_link_point_cluster1.plot(color=\"Blue\", lw=8,ax=ax, label = '군집 0')\n",
    "# seoul_link_point_cluster2.plot(color=\"Green\", lw=8,ax=ax, label = '군집 1')\n",
    "# seoul_link_point_cluster0.plot(color=\"Red\", lw=8,ax=ax , label = '군집 2')\n",
    "seoul_link_point_cluster3.plot(color=\"Yellow\", lw=8,ax=ax, label = '군집 3')\n",
    "plt.title('Cluster 3', fontsize = 50)\n",
    "plt.legend(fontsize = 20)\n",
    "# plt.savefig('Cluster3', dpi=300) #이미지 파일 저장"
   ]
  },
  {
   "cell_type": "markdown",
   "metadata": {
    "id": "H6MWD66RWMSH"
   },
   "source": [
    "### 4) 군집별 EDA"
   ]
  },
  {
   "cell_type": "code",
   "execution_count": null,
   "metadata": {
    "id": "8kWpD7pIWMSH",
    "outputId": "7719012e-131e-4e8c-9b7f-a354f5a8cc53"
   },
   "outputs": [],
   "source": [
    "plt.figure(figsize=[20,7])\n",
    "\n",
    "plt.subplot(131)\n",
    "sns.boxplot(x='군집', y='신호등',data=df)\n",
    "plt.title('신호등')\n",
    "\n",
    "plt.subplot(132)\n",
    "sns.boxplot(x='군집', y='교차로',data=df)\n",
    "plt.title('교차로')\n",
    "\n",
    "plt.subplot(133)\n",
    "sns.boxplot(x='군집', y='진입로',data=df)\n",
    "plt.title('진입로')\n"
   ]
  },
  {
   "cell_type": "markdown",
   "metadata": {
    "id": "HHiwl7ExWMSI"
   },
   "source": [
    "- 차선 수는 모든 군집에서 유사하게 나타남\n",
    "- 로드지퍼를 선정할 때 병목현상을 줄이기 위해선 교차로, 진입로, 신호등의 수가 중요함\n",
    "- 교차로, 진입로의 수가 많으면 병목현상 위험이 커지기 때문에 3번 군집은 적당하지 않음을 추측"
   ]
  },
  {
   "cell_type": "code",
   "execution_count": null,
   "metadata": {
    "id": "EgRYfRyiWMSI",
    "outputId": "269bfc1b-9bd4-4f92-dddb-98463f09faae"
   },
   "outputs": [],
   "source": [
    "plt.figure(figsize=[20,7])\n",
    "\n",
    "plt.subplot(131)\n",
    "sns.boxplot(x='군집', y='차선수',data=df)\n",
    "plt.title('차선수')\n",
    "\n",
    "plt.subplot(132)\n",
    "sns.boxplot(x='군집', y='CCTV',data=df)\n",
    "plt.title('CCTV')\n",
    "\n",
    "plt.subplot(133)\n",
    "sns.boxplot(x='군집', y='거리',data=df)\n",
    "plt.title('거리')"
   ]
  },
  {
   "cell_type": "markdown",
   "metadata": {
    "id": "QwZqdtiMWMSI"
   },
   "source": [
    "- 차선 수는 비슷한 양상을 보이고 있음\n",
    "- 속도에 영향을 미칠 수 있는 과속 CCTV 수가 3번 군집에서 가장 많이 존재함\n",
    "- 로드지퍼의 원활한 설치를 위해선 가급적 긴 거리가 적합함\n",
    "- 위의 병목현상의 이유로 3번 군집을 제외하고, 1번, 2번 군집이 적합해 보임"
   ]
  },
  {
   "cell_type": "code",
   "execution_count": null,
   "metadata": {
    "id": "nqQ6mwiSWMSI",
    "outputId": "ada1bf08-50e2-461c-f8ab-5b103e659e5b"
   },
   "outputs": [],
   "source": [
    "plt.figure(figsize=[20,7])\n",
    "\n",
    "plt.subplot(131)\n",
    "sns.boxplot(x='군집', y='09시_속도',data=df)\n",
    "plt.title('09시_속도')\n",
    "\n",
    "plt.subplot(132)\n",
    "sns.boxplot(x='군집', y='9시 밀도',data=df)\n",
    "plt.title('9시 밀도')\n",
    "\n",
    "plt.subplot(133)\n",
    "sns.boxplot(x='군집', y='9시_교통량',data=df)\n",
    "plt.title('9시_교통량')\n"
   ]
  },
  {
   "cell_type": "markdown",
   "metadata": {
    "id": "kxKpsTWuWMSJ"
   },
   "source": [
    "- 속도는 낮으며, 밀도와 교통량은 많은 군집이 로드지퍼 설치에 적합함\n",
    "- 제한속도라는 한계점이 있기 때문에 밀도와 교통량이 많은 1, 2번 군집이 적합해 보임"
   ]
  },
  {
   "cell_type": "code",
   "execution_count": null,
   "metadata": {
    "id": "jRm_uFAMWMSJ",
    "outputId": "7d84dc13-7c88-4f58-e46a-94bc7a437755"
   },
   "outputs": [],
   "source": [
    "speed = df[['09시_속도','군집']]\n",
    "density = df[['9시 밀도','군집']]\n",
    "traffic = df[['9시_교통량','군집']]\n",
    "\n",
    "plt.figure(figsize=[20,7])\n",
    "\n",
    "plt.subplot(131)\n",
    "sns.barplot(data= speed,x= \"군집\",y= \"09시_속도\")\n",
    "plt.title('9시 속도 평균')\n",
    "\n",
    "plt.subplot(132)\n",
    "sns.barplot(data= density,x= \"군집\",y= \"9시 밀도\")\n",
    "plt.title('9시 밀도 평균')\n",
    "\n",
    "plt.subplot(133)\n",
    "sns.barplot(data= traffic,x= \"군집\",y= \"9시_교통량\")\n",
    "plt.title('9시 교통량 평균')"
   ]
  },
  {
   "cell_type": "markdown",
   "metadata": {
    "id": "7lXtE9oQWMSJ"
   },
   "source": [
    "위의 boxplot와 동일한 데이터를 평균치로 barplot으로 표현함"
   ]
  },
  {
   "cell_type": "markdown",
   "metadata": {
    "id": "MDH0N_h1WMSK"
   },
   "source": [
    "### 5) 선정된 최종 군집 EDA"
   ]
  },
  {
   "cell_type": "markdown",
   "metadata": {
    "id": "tlW--RxBWMSK"
   },
   "source": [
    "#### 출/퇴근이 영향을 미치는지 확인하기 위해 평일/주말의 평균 속도 차이 확인"
   ]
  },
  {
   "cell_type": "code",
   "execution_count": null,
   "metadata": {
    "id": "Z8JW0GuGWMSK",
    "outputId": "dd8b79a0-21ed-4a7b-997f-5637ec6cd6d7"
   },
   "outputs": [],
   "source": [
    "day = data.replace([\"월\",\"화\", \"수\", \"목\", \"금\"], \"평일\")\n",
    "day = day.replace([\"토\", \"일\"], \"주말\")\n",
    "언주로 = day.query('도로명==\"언주로\"')\n",
    "언주로_평일_speed = 언주로.query('요일==\"평일\"')\n",
    "언주로_주말_speed = 언주로.query('요일==\"주말\"')\n",
    "\n",
    "언주로_평일_평균속도=언주로_평일_speed[['01시_속도','02시_속도','03시_속도','04시_속도','05시_속도','06시_속도','07시_속도',\n",
    "                           '08시_속도','09시_속도','10시_속도','11시_속도','12시_속도','13시_속도','14시_속도',\n",
    "                           '15시_속도','16시_속도','17시_속도','18시_속도','19시_속도','20시_속도','21시_속도',\n",
    "                           '22시_속도','23시_속도','24시_속도']]\n",
    "언주로_주말_평균속도=언주로_주말_speed[['01시_속도','02시_속도','03시_속도','04시_속도','05시_속도','06시_속도','07시_속도',\n",
    "                           '08시_속도','09시_속도','10시_속도','11시_속도','12시_속도','13시_속도','14시_속도',\n",
    "                           '15시_속도','16시_속도','17시_속도','18시_속도','19시_속도','20시_속도','21시_속도',\n",
    "                           '22시_속도','23시_속도','24시_속도']]\n",
    "언주로_평일_평균속도=언주로_평일_평균속도.mean()\n",
    "언주로_주말_평균속도=언주로_주말_평균속도.mean()\n",
    "\n",
    "경인로 = day.query('도로명==\"경인로\"')\n",
    "경인로_평일_speed = 경인로.query('요일==\"평일\"')\n",
    "경인로_주말_speed = 경인로.query('요일==\"주말\"')\n",
    "\n",
    "경인로_평일_평균속도=경인로_평일_speed[['01시_속도','02시_속도','03시_속도','04시_속도','05시_속도','06시_속도','07시_속도',\n",
    "                           '08시_속도','09시_속도','10시_속도','11시_속도','12시_속도','13시_속도','14시_속도',\n",
    "                           '15시_속도','16시_속도','17시_속도','18시_속도','19시_속도','20시_속도','21시_속도',\n",
    "                           '22시_속도','23시_속도','24시_속도']]\n",
    "경인로_주말_평균속도=경인로_주말_speed[['01시_속도','02시_속도','03시_속도','04시_속도','05시_속도','06시_속도','07시_속도',\n",
    "                           '08시_속도','09시_속도','10시_속도','11시_속도','12시_속도','13시_속도','14시_속도',\n",
    "                           '15시_속도','16시_속도','17시_속도','18시_속도','19시_속도','20시_속도','21시_속도',\n",
    "                           '22시_속도','23시_속도','24시_속도']]\n",
    "경인로_평일_평균속도=경인로_평일_평균속도.mean()\n",
    "경인로_주말_평균속도=경인로_주말_평균속도.mean()\n",
    "\n",
    "올림픽대로 = day.query('도로명==\"올림픽대로\"')\n",
    "올림픽대로_평일_speed = 올림픽대로.query('요일==\"평일\"')\n",
    "올림픽대로_주말_speed = 올림픽대로.query('요일==\"주말\"')\n",
    "\n",
    "올림픽대로_평일_평균속도=올림픽대로_평일_speed[['01시_속도','02시_속도','03시_속도','04시_속도','05시_속도','06시_속도','07시_속도',\n",
    "                           '08시_속도','09시_속도','10시_속도','11시_속도','12시_속도','13시_속도','14시_속도',\n",
    "                           '15시_속도','16시_속도','17시_속도','18시_속도','19시_속도','20시_속도','21시_속도',\n",
    "                           '22시_속도','23시_속도','24시_속도']]\n",
    "올림픽대로_주말_평균속도=올림픽대로_주말_speed[['01시_속도','02시_속도','03시_속도','04시_속도','05시_속도','06시_속도','07시_속도',\n",
    "                           '08시_속도','09시_속도','10시_속도','11시_속도','12시_속도','13시_속도','14시_속도',\n",
    "                           '15시_속도','16시_속도','17시_속도','18시_속도','19시_속도','20시_속도','21시_속도',\n",
    "                           '22시_속도','23시_속도','24시_속도']]\n",
    "올림픽대로_평일_평균속도=올림픽대로_평일_평균속도.mean()\n",
    "올림픽대로_주말_평균속도=올림픽대로_주말_평균속도.mean()\n",
    "\n",
    "\n",
    "plt.figure(figsize=[17,5])\n",
    "plt.subplot(131)\n",
    "언주로_평일_평균속도.plot(linestyle=\"-\",label='평일')\n",
    "언주로_주말_평균속도.plot(linestyle=\"--\",label='주말')\n",
    "plt.title(\"언주로 평일/주말 Speed\")\n",
    "plt.xlabel(\"Time\")\n",
    "plt.ylabel(\"Speed\")\n",
    "plt.legend()\n",
    "\n",
    "plt.subplot(132)\n",
    "경인로_평일_평균속도.plot(linestyle=\"-\",label='평일')\n",
    "경인로_주말_평균속도.plot(linestyle=\"--\",label='주말')\n",
    "plt.title(\"경인로 평일/주말 Speed\")\n",
    "plt.xlabel(\"Time\")\n",
    "plt.ylabel(\"Speed\")\n",
    "plt.legend()\n",
    "\n",
    "plt.subplot(133)\n",
    "올림픽대로_평일_평균속도.plot(linestyle=\"-\",label='평일')\n",
    "올림픽대로_주말_평균속도.plot(linestyle=\"--\",label='주말')\n",
    "plt.title(\"올림픽대로 평일/주말 Speed\")\n",
    "plt.xlabel(\"Time\")\n",
    "plt.ylabel(\"Speed\")\n",
    "plt.legend()"
   ]
  },
  {
   "cell_type": "markdown",
   "metadata": {
    "id": "XjuKOMPqWMSL"
   },
   "source": [
    "- 위와 같이 세 종류의 도로를 평일/주말 평균 속도를 알아보았을 때, 평일이 주말대비 평균 속도가 느리다는 것을 알 수 가 있음  \n",
    "- 즉, 출/퇴근이 유의미한 차이를 보인다는 것을 알 수 있었고 평일 시간 대상의 분석을 진행함\n",
    "  \n",
    "- 로드지퍼 설치를 위해선 상/하행의 차이를 비교해야함\n",
    "- 또한 출/퇴근 시간대를 설치를 예상하므로 주말은 제거"
   ]
  },
  {
   "cell_type": "code",
   "execution_count": null,
   "metadata": {
    "id": "T2usJRD8WMSL"
   },
   "outputs": [],
   "source": [
    "# 필요 변수 정의\n",
    "week = data.query('요일 !=\"일\" and 요일 !=\"토\"')\n",
    "up = week.query('방향_x==\"상행\"')\n",
    "down = week.query('방향_x==\"하행\"')\n",
    "교통량 = up.columns[64:88]\n",
    "속도 = up.columns[12:36]\n",
    "속도차이 = up.columns[39:63]\n",
    "밀도 = up.columns[88:112]"
   ]
  },
  {
   "cell_type": "markdown",
   "metadata": {
    "id": "mpCfuB-gWMSL"
   },
   "source": [
    "### 군집 2"
   ]
  },
  {
   "cell_type": "markdown",
   "metadata": {
    "id": "A5q8hXT9WMSL"
   },
   "source": [
    "- 군집 결과 중 데이터의 수 200개 넘는 것만 선택 (for 군집의 신뢰도)\n",
    "- 평균 교통량, 밀도, 속도, 속도차이 시각화\n",
    "- 도로 길이, 제한 속도 확인"
   ]
  },
  {
   "cell_type": "markdown",
   "metadata": {
    "id": "q8cnXE3SWMSM"
   },
   "source": [
    "### 5-1) F-07 남부순환로"
   ]
  },
  {
   "cell_type": "code",
   "execution_count": null,
   "metadata": {
    "id": "30Xsy_m_WMSM",
    "outputId": "80b7efc1-a427-4724-f14e-8177fff250f8"
   },
   "outputs": [],
   "source": [
    "남부순환로_상행 = up[up['도로명']=='남부순환로']\n",
    "남부순환로_하행 = down[down['도로명']=='남부순환로']\n",
    "\n",
    "남부순환로_F07_상행=남부순환로_상행[남부순환로_상행['지점']=='F-07']\n",
    "남부순환로_F07_하행=남부순환로_하행[남부순환로_하행['지점']=='F-07']\n",
    "\n",
    "남부순환로_F07_상행_교통량 = 남부순환로_F07_상행[교통량]\n",
    "남부순환로_F07_하행_교통량 = 남부순환로_F07_하행[교통량]\n",
    "남부순환로_F07_상행_교통량_평균 = 남부순환로_F07_상행_교통량.mean()\n",
    "남부순환로_F07_하행_교통량_평균 = 남부순환로_F07_하행_교통량.mean()\n",
    "\n",
    "남부순환로_F07_하행_속도 = 남부순환로_F07_하행[속도]\n",
    "남부순환로_F07_상행_속도 = 남부순환로_F07_상행[속도]\n",
    "남부순환로_F07_상행_속도_평균 = 남부순환로_F07_상행_속도.mean()\n",
    "남부순환로_F07_하행_속도_평균 = 남부순환로_F07_하행_속도.mean()\n",
    "\n",
    "남부순환로_F07_속도차이 = 남부순환로_F07_상행[속도차이]\n",
    "남부순환로_F07_속도차이_평균 = 남부순환로_F07_속도차이.mean()\n",
    "\n",
    "남부순환로_F07_상행_밀도 = 남부순환로_F07_상행[밀도]\n",
    "남부순환로_F07_하행_밀도 = 남부순환로_F07_하행[밀도]\n",
    "남부순환로_F07_상행_밀도_평균 = 남부순환로_F07_상행_밀도.mean()\n",
    "남부순환로_F07_하행_밀도_평균 = 남부순환로_F07_하행_밀도.mean()\n",
    "\n",
    "# 시각화 \n",
    "plt.figure(figsize=[18,15])\n",
    "\n",
    "plt.subplot(221)\n",
    "남부순환로_F07_상행_교통량_평균.plot(label= 'up')\n",
    "남부순환로_F07_하행_교통량_평균.plot(label= 'down')\n",
    "plt.legend()\n",
    "plt.title(\"남부순환로(F07) 평균 교통량\")\n",
    "\n",
    "\n",
    "plt.subplot(222)\n",
    "남부순환로_F07_상행_밀도_평균.plot(label='up')\n",
    "남부순환로_F07_하행_밀도_평균.plot(label='down')\n",
    "plt.title(\"남부순환로(F07) 평균 밀도\")\n",
    "plt.legend()\n",
    "\n",
    "\n",
    "plt.subplot(223)\n",
    "남부순환로_F07_상행_속도_평균.plot(label= 'up')\n",
    "남부순환로_F07_하행_속도_평균.plot(label= 'down')\n",
    "plt.legend()\n",
    "plt.title(\"남부순환로(F07) 평균 속도\")\n",
    "\n",
    "plt.subplot(224)\n",
    "남부순환로_F07_속도차이_평균.plot()\n",
    "plt.title(\"남부순환로(F07) 평균 속도 차이\")\n",
    "plt.legend()\n",
    "plt.show()"
   ]
  },
  {
   "cell_type": "code",
   "execution_count": null,
   "metadata": {
    "id": "62P8jiqMWMSM",
    "outputId": "04ce2c30-4478-4d11-d952-4f8375419a7c"
   },
   "outputs": [],
   "source": [
    "print(data.query('도로명==\"`남부순환로\"')['MAX_SPD'][0:1])\n",
    "print(data.query('도로명==\"남부순환로\"')['거리'][0:1])"
   ]
  },
  {
   "cell_type": "markdown",
   "metadata": {
    "id": "Dc8etBLNWMSN"
   },
   "source": [
    "- 상/하행 통행량은 비슷하지만, 출근 시간에 하행 부분에서 정체가 일어나고있음\n",
    "- 아침 9-10시에서 상행 57, 상행 43으로 나타남 \n",
    "- 출근 시간에 설치하면 효과적일 것으로 판단 됌"
   ]
  },
  {
   "cell_type": "markdown",
   "metadata": {
    "id": "DG8sZGZzWMSN"
   },
   "source": [
    "### 5-2) C-15 언주로"
   ]
  },
  {
   "cell_type": "code",
   "execution_count": null,
   "metadata": {
    "id": "5NhpNuToWMSN",
    "outputId": "3e08e254-d717-4245-d81b-32cdbdc07e8c"
   },
   "outputs": [],
   "source": [
    "언주로_상행 = up[up['도로명']=='언주로']\n",
    "언주로_하행 = down[down['도로명']=='언주로']\n",
    "\n",
    "언주로_C15_상행=언주로_상행[언주로_상행['지점']=='C-15']\n",
    "언주로_C15_하행=언주로_하행[언주로_하행['지점']=='C-15']\n",
    "\n",
    "언주로_C15_상행_교통량 = 언주로_C15_상행[교통량]\n",
    "언주로_C15_하행_교통량 = 언주로_C15_하행[교통량]\n",
    "언주로_C15_상행_교통량_평균 = 언주로_C15_상행_교통량.mean()\n",
    "언주로_C15_하행_교통량_평균 = 언주로_C15_하행_교통량.mean()\n",
    "\n",
    "언주로_C15_상행_속도 = 언주로_C15_상행[속도]\n",
    "언주로_C15_하행_속도 = 언주로_C15_하행[속도]\n",
    "\n",
    "언주로_C15_상행_속도_평균 = 언주로_C15_상행_속도.mean()\n",
    "언주로_C15_하행_속도_평균 = 언주로_C15_하행_속도.mean()\n",
    "\n",
    "언주로_C15_속도차이 = 언주로_C15_상행[속도차이]\n",
    "언주로_C15_속도차이_평균 = 언주로_C15_속도차이.mean()\n",
    "\n",
    "언주로_C15_상행_밀도 = 언주로_C15_상행[밀도]\n",
    "언주로_C15_하행_밀도 = 언주로_C15_하행[밀도]\n",
    "\n",
    "언주로_C15_상행_밀도_평균 = 언주로_C15_상행_밀도.mean()\n",
    "언주로_C15_하행_밀도_평균 = 언주로_C15_하행_밀도.mean()\n",
    "\n",
    "# 시각화 \n",
    "plt.figure(figsize=[18,15])\n",
    "\n",
    "plt.subplot(221)\n",
    "언주로_C15_상행_교통량_평균.plot(label= 'up')\n",
    "언주로_C15_하행_교통량_평균.plot(label= 'down')\n",
    "plt.legend()\n",
    "plt.title(\"언주로(C15) 평균 교통량\")\n",
    "\n",
    "\n",
    "plt.subplot(222)\n",
    "언주로_C15_상행_밀도_평균.plot(label='up')\n",
    "언주로_C15_하행_밀도_평균.plot(label='down')\n",
    "plt.title(\"언주로(C15) 평균 밀도\")\n",
    "plt.legend()\n",
    "\n",
    "\n",
    "plt.subplot(223)\n",
    "언주로_C15_상행_속도_평균.plot(label= 'up')\n",
    "언주로_C15_하행_속도_평균.plot(label= 'down')\n",
    "plt.legend()\n",
    "plt.title(\"언주로(C15) 평균 속도\")\n",
    "\n",
    "plt.subplot(224)\n",
    "언주로_C15_속도차이_평균.plot()\n",
    "plt.legend()\n",
    "plt.title(\"언주로(C15) 평균 속도차이\")\n",
    "plt.show()"
   ]
  },
  {
   "cell_type": "code",
   "execution_count": null,
   "metadata": {
    "id": "9VGqb5vyWMSO",
    "outputId": "c1b21ceb-d1a2-4649-c7bd-4e948f3b1b2c"
   },
   "outputs": [],
   "source": [
    "print(data.query('도로명==\"언주로\"')['MAX_SPD'][0:1])\n",
    "print(data.query('도로명==\"언주로\"')['거리'][0:1])"
   ]
  },
  {
   "cell_type": "markdown",
   "metadata": {
    "id": "N9Z9-400WMSO"
   },
   "source": [
    "- 밀도가 높을 수록 속도가 낮은 것을 알 수가 있음\n",
    "- 출근 시간(6-9시)대 약 2배(7시) 가량의 교통량 차이를 보임\n",
    "- 출근시간대인 8시부터 오후 12시까지 약 3배이상의 속도 차이를 보이고 있음\n",
    "- 교통량은 상행이 낮지만, 속도가 낮은 이유는 교통 용량을 초과했음을 추측할수 있음\n",
    "- 교통 용량 : 도로를 통과할 수 있는 최대 교통량. 기본적으로 1시간 간격으로 나타냄."
   ]
  },
  {
   "cell_type": "markdown",
   "metadata": {
    "id": "l8YvB_5oWMSO"
   },
   "source": [
    "### 5-3) C-05 선유로"
   ]
  },
  {
   "cell_type": "code",
   "execution_count": null,
   "metadata": {
    "id": "mPNjTwVLWMSO",
    "outputId": "c14ceb03-0608-4372-b22b-16aceeae2ee3"
   },
   "outputs": [],
   "source": [
    "선유로_상행 = up[up['도로명']=='선유로']\n",
    "선유로_하행 = down[down['도로명']=='선유로']\n",
    "선유로_C05_상행=선유로_상행[선유로_상행['지점']=='C-05']\n",
    "선유로_C05_하행=선유로_하행[선유로_하행['지점']=='C-05']\n",
    "\n",
    "선유로_C05_상행_교통량 = 선유로_C05_상행[교통량]\n",
    "선유로_C05_하행_교통량 = 선유로_C05_하행[교통량]\n",
    "선유로_C05_상행_교통량_평균 = 선유로_C05_상행_교통량.mean()\n",
    "선유로_C05_하행_교통량_평균 = 선유로_C05_하행_교통량.mean()\n",
    "\n",
    "선유로_C05_상행_속도 = 선유로_C05_상행[속도]\n",
    "선유로_C05_하행_속도 = 선유로_C05_하행[속도]\n",
    "선유로_C05_상행_속도_평균 = 선유로_C05_상행_속도.mean()\n",
    "선유로_C05_하행_속도_평균 = 선유로_C05_하행_속도.mean()\n",
    "\n",
    "선유로_C05_속도차이 = 선유로_C05_상행[속도차이]\n",
    "선유로_C05_속도차이_평균 = 선유로_C05_속도차이.mean()\n",
    "\n",
    "선유로_C05_상행_밀도 = 선유로_C05_상행[밀도]\n",
    "선유로_C05_하행_밀도 = 선유로_C05_하행[밀도]\n",
    "선유로_C05_상행_밀도_평균 = 선유로_C05_상행_밀도.mean()\n",
    "선유로_C05_하행_밀도_평균 = 선유로_C05_하행_밀도.mean()\n",
    "\n",
    "# 시각화 \n",
    "plt.figure(figsize=[18,15])\n",
    "\n",
    "plt.subplot(221)\n",
    "선유로_C05_상행_교통량_평균.plot(label= 'up')\n",
    "선유로_C05_하행_교통량_평균.plot(label= 'down')\n",
    "plt.legend()\n",
    "plt.title(\"선유로(C05) 평균 교통량\")\n",
    "\n",
    "plt.subplot(222)\n",
    "선유로_C05_상행_밀도_평균.plot(label='up')\n",
    "선유로_C05_하행_밀도_평균.plot(label='down')\n",
    "plt.title(\"선유로(C05) 평균 밀도\")\n",
    "plt.legend()\n",
    "\n",
    "plt.subplot(223)\n",
    "선유로_C05_상행_속도_평균.plot(label= 'up')\n",
    "선유로_C05_하행_속도_평균.plot(label= 'down')\n",
    "plt.legend()\n",
    "plt.title(\"선유로(C05) 평균 속도\")\n",
    "\n",
    "plt.subplot(224)\n",
    "선유로_C05_속도차이_평균.plot()\n",
    "plt.title(\"선유로(C05) 평균 속도차이\")\n",
    "plt.legend()"
   ]
  },
  {
   "cell_type": "code",
   "execution_count": null,
   "metadata": {
    "id": "zX9jJqB5WMSP",
    "outputId": "a425ece4-0d00-4df6-89bd-06ff8d28007f"
   },
   "outputs": [],
   "source": [
    "print(data.query('도로명==\"선유로\"')['MAX_SPD'][0:1])\n",
    "print(data.query('도로명==\"선유로\"')['거리'][0:1])"
   ]
  },
  {
   "cell_type": "markdown",
   "metadata": {
    "id": "cGBia5pnWMSP"
   },
   "source": [
    "- 밀도가 높을 수록 속도가 낮은 것을 알 수가 있음\n",
    "- 전반적으로 모든 시간에 걸쳐 상하행 모두 같은 경향을 띄는것을 볼 수 있다.\n",
    "- 교통량, 속도 모두 차이가 미세하고, 속도차이 최대치도 9km/h(21시)로 낮은편\n",
    "- 약 6시 ~22시 구간에서 속도가 제한속도(60km/h)이하로 형성되는것을 보아 교통용량을 초과했음을 알수있으며, \n",
    "    출근시간보다 퇴근시간대에 더 많은 정체가 일어나는것으로 보임"
   ]
  },
  {
   "cell_type": "markdown",
   "metadata": {
    "id": "Rmb6N91bWMSP"
   },
   "source": [
    "### 5-4) B-08 강동대로"
   ]
  },
  {
   "cell_type": "code",
   "execution_count": null,
   "metadata": {
    "id": "ibSJFUewWMSQ",
    "outputId": "7255f668-3905-4732-e5bc-f0413b53f36a"
   },
   "outputs": [],
   "source": [
    "강동대로_상행 = up[up['도로명']=='강동대로']\n",
    "강동대로_하행 = down[down['도로명']=='강동대로']\n",
    "강동대로_B08_상행=강동대로_상행[강동대로_상행['지점']=='B-08']\n",
    "강동대로_B08_하행=강동대로_하행[강동대로_하행['지점']=='B-08']\n",
    "\n",
    "강동대로_B08_상행_교통량 = 강동대로_B08_상행[교통량]\n",
    "강동대로_B08_하행_교통량 = 강동대로_B08_하행[교통량]\n",
    "강동대로_B08_상행_교통량_평균 = 강동대로_B08_상행_교통량.mean()\n",
    "강동대로_B08_하행_교통량_평균 = 강동대로_B08_하행_교통량.mean()\n",
    "\n",
    "강동대로_B08_상행_속도 = 강동대로_B08_상행[속도]\n",
    "강동대로_B08_하행_속도 = 강동대로_B08_하행[속도]\n",
    "강동대로_B08_상행_속도_평균 = 강동대로_B08_상행_속도.mean()\n",
    "강동대로_B08_하행_속도_평균 = 강동대로_B08_하행_속도.mean()\n",
    "\n",
    "강동대로_B08_속도차이 = 강동대로_B08_상행[속도차이]\n",
    "강동대로_B08_속도차이_평균 = 강동대로_B08_속도차이.mean()\n",
    "\n",
    "강동대로_B08_상행_밀도 = 강동대로_B08_상행[밀도]\n",
    "강동대로_B08_하행_밀도 = 강동대로_B08_하행[밀도]\n",
    "강동대로_B08_상행_밀도_평균 = 강동대로_B08_상행_밀도.mean()\n",
    "강동대로_B08_하행_밀도_평균 = 강동대로_B08_하행_밀도.mean()\n",
    "\n",
    "# 시각화 \n",
    "plt.figure(figsize=[18,15])\n",
    "\n",
    "plt.subplot(221)\n",
    "강동대로_B08_상행_교통량_평균.plot(label= 'up')\n",
    "강동대로_B08_하행_교통량_평균.plot(label= 'down')\n",
    "plt.title(\"강동대로(B08) 평균 교통량\")\n",
    "plt.legend()\n",
    "\n",
    "plt.subplot(222)\n",
    "강동대로_B08_상행_밀도_평균.plot(label='up')\n",
    "강동대로_B08_하행_밀도_평균.plot(label='down')\n",
    "plt.title(\"강동대로(B08) 평균 밀도\")\n",
    "plt.legend()\n",
    "\n",
    "plt.subplot(223)\n",
    "강동대로_B08_상행_속도_평균.plot(label= 'up')\n",
    "강동대로_B08_하행_속도_평균.plot(label= 'down')\n",
    "plt.legend()\n",
    "plt.title(\"강동대로(B08) 평균 속도\")\n",
    "\n",
    "plt.subplot(224)\n",
    "강동대로_B08_속도차이_평균.plot()\n",
    "plt.title(\"강동대로(B08) 평균 속도차이\")\n",
    "plt.legend()"
   ]
  },
  {
   "cell_type": "code",
   "execution_count": null,
   "metadata": {
    "id": "rnVrDL6aWMSQ",
    "outputId": "e8b8c72f-a514-4ea0-a091-9a930f5ae0f1"
   },
   "outputs": [],
   "source": [
    "print(data.query('도로명==\"강동대로\"')['MAX_SPD'][0:1])\n",
    "print(data.query('도로명==\"강동대로\"')['거리'][0:1])"
   ]
  },
  {
   "cell_type": "markdown",
   "metadata": {
    "id": "O0lbDft_WMSR"
   },
   "source": [
    "- 밀도가 높을 수록 속도가 낮은 것을 알 수가 있음\n",
    "- 교통량, 밀도 차이가 미세하고, 속도차이 최대치도 8km/h(7시)로 낮은편.\n",
    "- 모든 구간이 제한속도(60km/h)보다 낮은 평균속도를 보임. 그 이유는 신호 중 대기로 인한 정차가 원인인것으로 예상됨 "
   ]
  },
  {
   "cell_type": "markdown",
   "metadata": {
    "id": "nYbMDQgZWMSR"
   },
   "source": [
    "### 5-5) C-07 여의대로"
   ]
  },
  {
   "cell_type": "code",
   "execution_count": null,
   "metadata": {
    "id": "-WK2O9uqWMSR",
    "outputId": "2a1607fb-7d3b-45da-c450-ba9dce88ae9d"
   },
   "outputs": [],
   "source": [
    "여의대로_상행 = up[up['도로명']=='여의대로']\n",
    "여의대로_하행 = down[down['도로명']=='여의대로']\n",
    "여의대로_C07_상행=여의대로_상행[여의대로_상행['지점']=='C-07']\n",
    "여의대로_C07_하행=여의대로_하행[여의대로_하행['지점']=='C-07']\n",
    "\n",
    "여의대로_C07_상행_교통량 = 여의대로_C07_상행[교통량]\n",
    "여의대로_C07_하행_교통량 = 여의대로_C07_하행[교통량]\n",
    "여의대로_C07_상행_교통량_평균 = 여의대로_C07_상행_교통량.mean()\n",
    "여의대로_C07_하행_교통량_평균 = 여의대로_C07_하행_교통량.mean()\n",
    "\n",
    "여의대로_C07_상행_속도 = 여의대로_C07_상행[속도]\n",
    "여의대로_C07_하행_속도 = 여의대로_C07_하행[속도]\n",
    "여의대로_C07_상행_속도_평균 = 여의대로_C07_상행_속도.mean()\n",
    "여의대로_C07_하행_속도_평균 = 여의대로_C07_하행_속도.mean()\n",
    "\n",
    "여의대로_C07_속도차이 = 여의대로_C07_상행[속도차이]\n",
    "여의대로_C07_속도차이_평균 = 여의대로_C07_속도차이.mean()\n",
    "\n",
    "여의대로_C07_상행_밀도 = 여의대로_C07_상행[밀도]\n",
    "여의대로_C07_하행_밀도 = 여의대로_C07_하행[밀도]\n",
    "여의대로_C07_상행_밀도_평균 = 여의대로_C07_상행_밀도.mean()\n",
    "여의대로_C07_하행_밀도_평균 = 여의대로_C07_하행_밀도.mean()\n",
    "\n",
    "\n",
    "# 시각화 \n",
    "plt.figure(figsize=[18,15])\n",
    "\n",
    "plt.subplot(221)\n",
    "여의대로_C07_상행_교통량_평균.plot(label= 'up')\n",
    "여의대로_C07_하행_교통량_평균.plot(label= 'down')\n",
    "plt.title(\"여의대로(C07) 평균 교통량\")\n",
    "plt.legend()\n",
    "\n",
    "plt.subplot(222)\n",
    "여의대로_C07_상행_밀도_평균.plot(label='up')\n",
    "여의대로_C07_하행_밀도_평균.plot(label='down')\n",
    "plt.title(\"여의대로(C07) 평균 밀도\")\n",
    "plt.legend()\n",
    "\n",
    "plt.subplot(223)\n",
    "여의대로_C07_상행_속도_평균.plot(label= 'up')\n",
    "여의대로_C07_하행_속도_평균.plot(label= 'down')\n",
    "plt.title(\"여의대로(C07) 평균 속도\")\n",
    "plt.legend()\n",
    "\n",
    "plt.subplot(224)\n",
    "여의대로_C07_속도차이_평균.plot()\n",
    "plt.title(\"여의대로(C07) 평균 속도차이\")\n",
    "plt.legend()"
   ]
  },
  {
   "cell_type": "code",
   "execution_count": null,
   "metadata": {
    "id": "fOr4THYIWMSS",
    "outputId": "5cf2eb98-1332-45ec-c529-91e0a1e9ace5"
   },
   "outputs": [],
   "source": [
    "print(data.query('도로명==\"여의대로\"')['MAX_SPD'][0:1])\n",
    "print(data.query('도로명==\"여의대로\"')['거리'][0:1])"
   ]
  },
  {
   "cell_type": "markdown",
   "metadata": {
    "id": "y2gRyv-qWMSS"
   },
   "source": [
    "- 밀도가 높을 수록 속도가 낮은 것을 알 수가 있음\n",
    "- 약 7시~11시의 교통량이 하행이 더 낮지만, 밀도는 높은것으로 보아 차량 정체로 인한 교통량 감소인것으로 판단됨.\n",
    "- 상행의 경우 퇴근시간대(17시~20시)를 제외한 대부분 구간에서 평균속도가 제한속도(60km/h)-10 범위인것으로 보아 정체가 없는것으로\n",
    "    판단됨\n",
    "- 하행의 경우 출근시간대(7~10시)를 제외한 대부분 제한속도-10 범위 밖이지만, 교통량이 적은 새벽 구간에도 평균속도가 낮은것으로 \n",
    "    보아 정체로 인한 것은 아닌것으로 판단됨\n",
    "- 출근시간(7~10시)의 경우 상행은 여유로운편, 하행은 정체구간으로 차이를 보임"
   ]
  },
  {
   "cell_type": "markdown",
   "metadata": {
    "id": "eFjzkzSFWMST"
   },
   "source": [
    "### 5-6) D-28 경인로"
   ]
  },
  {
   "cell_type": "code",
   "execution_count": null,
   "metadata": {
    "id": "qNcF3PCXWMST",
    "outputId": "1ab0b2cf-be26-4edf-b097-c3febf88bf80"
   },
   "outputs": [],
   "source": [
    "경인로_상행 = up[up['도로명']=='경인로']\n",
    "경인로_하행 = down[down['도로명']=='경인로']\n",
    "경인로_D28_상행=경인로_상행[경인로_상행['지점']=='D-28']\n",
    "경인로_D28_하행=경인로_하행[경인로_하행['지점']=='D-28']\n",
    "\n",
    "경인로_D28_상행_교통량 = 경인로_D28_상행[교통량]\n",
    "경인로_D28_하행_교통량 = 경인로_D28_하행[교통량]\n",
    "경인로_D28_상행_교통량_평균 = 경인로_D28_상행_교통량.mean()\n",
    "경인로_D28_하행_교통량_평균 = 경인로_D28_하행_교통량.mean()\n",
    "\n",
    "경인로_D28_상행_속도 = 경인로_D28_상행[속도]\n",
    "경인로_D28_하행_속도 = 경인로_D28_하행[속도]\n",
    "경인로_D28_상행_속도_평균 = 경인로_D28_상행_속도.mean()\n",
    "경인로_D28_하행_속도_평균 = 경인로_D28_하행_속도.mean()\n",
    "\n",
    "경인로_D28_속도차이 = 경인로_D28_상행[속도차이]\n",
    "경인로_D28_속도차이_평균 = 경인로_D28_속도차이.mean()\n",
    "\n",
    "경인로_D28_상행_밀도 = 경인로_D28_상행[밀도]\n",
    "경인로_D28_하행_밀도 = 경인로_D28_하행[밀도]\n",
    "경인로_D28_상행_밀도_평균 = 경인로_D28_상행_밀도.mean()\n",
    "경인로_D28_하행_밀도_평균 = 경인로_D28_하행_밀도.mean()\n",
    "\n",
    "# 시각화 \n",
    "plt.figure(figsize=[18,15])\n",
    "\n",
    "plt.subplot(221)\n",
    "경인로_D28_상행_교통량_평균.plot(label= 'up')\n",
    "경인로_D28_하행_교통량_평균.plot(label= 'down')\n",
    "plt.title(\"경인로(D28) 평균 교통량\")\n",
    "plt.legend()\n",
    "\n",
    "plt.subplot(222)\n",
    "경인로_D28_상행_밀도_평균.plot(label='up')\n",
    "경인로_D28_하행_밀도_평균.plot(label='down')\n",
    "plt.title(\"경인로(D28) 평균 밀도\")\n",
    "plt.legend()\n",
    "\n",
    "plt.subplot(223)\n",
    "경인로_D28_상행_속도_평균.plot(label= 'up')\n",
    "경인로_D28_하행_속도_평균.plot(label= 'down')\n",
    "plt.title(\"경인로(D28) 평균 속도\")\n",
    "plt.legend()\n",
    "\n",
    "plt.subplot(224)\n",
    "경인로_D28_속도차이_평균.plot()\n",
    "plt.title(\"경인로(D28) 평균 속도 차이\")\n",
    "plt.legend()\n",
    "\n"
   ]
  },
  {
   "cell_type": "code",
   "execution_count": null,
   "metadata": {
    "id": "8GIaPQCRWMST",
    "outputId": "9defabc5-5e4d-463a-8d91-8fa479d0a8d8"
   },
   "outputs": [],
   "source": [
    "print(data.query('도로명==\"경인로\"')['MAX_SPD'][0:1])\n",
    "print(data.query('도로명==\"경인로\"')['거리'][0:1])"
   ]
  },
  {
   "cell_type": "markdown",
   "metadata": {
    "id": "mPaTcXcVWMST"
   },
   "source": [
    "- 밀도가 높을 수록 속도가 낮은 것을 알 수가 있음\n",
    "- 약 6~16시까지 상행의 밀도가 매우 높고, 속도차가 매우 큰것을 보아 정체가 심한것으로 보임\n",
    "- 하행의 경우, 퇴근시간을 제외하면 대체로 약 40~45km/h로 제한속도(60km/h)보다 낮지만 교통량이 매우 낮은 곳에서도 45km/h인것으로 보아\n",
    "    정체가 원인이 아닌 신호등이나 교차로로 인한 속도 저하로 예상됨\n",
    "- 위의 사실을 고려하면 아침 시간(7~10시)의 하행은 큰 정체가 없는것으로 예상되며, 상행의 경우 심한 정체가 일어난것으로 예상됨\n",
    "- 퇴근시간(16~20시)의 경우 하행 또한 정체가 일어나며, 상하행 모두 정체가 일어나는것으로 예상됨"
   ]
  },
  {
   "cell_type": "markdown",
   "metadata": {
    "id": "608tEAfqWMST"
   },
   "source": [
    "### 5-7) B-32 올림픽대로"
   ]
  },
  {
   "cell_type": "code",
   "execution_count": null,
   "metadata": {
    "id": "IOHDbJYkWMST",
    "outputId": "95aebe21-5e25-4d8a-9c36-09edbb06b5e1"
   },
   "outputs": [],
   "source": [
    "올림픽대로_상행 = up[up['도로명']=='올림픽대로']\n",
    "올림픽대로_하행 = down[down['도로명']=='올림픽대로']\n",
    "올림픽대로_B32_상행=올림픽대로_상행[올림픽대로_상행['지점']=='B-32']\n",
    "올림픽대로_B32_하행=올림픽대로_하행[올림픽대로_하행['지점']=='B-32']\n",
    "\n",
    "올림픽대로_B32_상행_교통량 = 올림픽대로_B32_상행[교통량]\n",
    "올림픽대로_B32_하행_교통량 = 올림픽대로_B32_하행[교통량]\n",
    "올림픽대로_B32_상행_교통량_평균 = 올림픽대로_B32_상행_교통량.mean()\n",
    "올림픽대로_B32_하행_교통량_평균 = 올림픽대로_B32_하행_교통량.mean()\n",
    "\n",
    "올림픽대로_B32_상행_속도 = 올림픽대로_B32_상행[속도]\n",
    "올림픽대로_B32_하행_속도 = 올림픽대로_B32_하행[속도]\n",
    "올림픽대로_B32_상행_속도_평균 = 올림픽대로_B32_상행_속도.mean()\n",
    "올림픽대로_B32_하행_속도_평균 = 올림픽대로_B32_하행_속도.mean()\n",
    "\n",
    "올림픽대로_B32_속도차이 = 올림픽대로_B32_상행[속도차이]\n",
    "올림픽대로_B32_속도차이_평균 = 올림픽대로_B32_속도차이.mean()\n",
    "\n",
    "올림픽대로_B32_상행_밀도 = 올림픽대로_B32_상행[밀도]\n",
    "올림픽대로_B32_하행_밀도 = 올림픽대로_B32_하행[밀도]\n",
    "올림픽대로_B32_상행_밀도_평균 = 올림픽대로_B32_상행_밀도.mean()\n",
    "올림픽대로_B32_하행_밀도_평균 = 올림픽대로_B32_하행_밀도.mean()\n",
    "\n",
    "# 시각화 \n",
    "plt.figure(figsize=[18,15])\n",
    "\n",
    "plt.subplot(221)\n",
    "올림픽대로_B32_상행_교통량_평균.plot(label= 'up')\n",
    "올림픽대로_B32_하행_교통량_평균.plot(label= 'down')\n",
    "plt.title(\"올림픽대로(B32) 평균 교통량\")\n",
    "plt.legend()\n",
    "\n",
    "plt.subplot(222)\n",
    "올림픽대로_B32_상행_밀도_평균.plot(label='up')\n",
    "올림픽대로_B32_하행_밀도_평균.plot(label='down')\n",
    "plt.title(\"올림픽대로(B32) 평균 밀도\")\n",
    "plt.legend()\n",
    "\n",
    "plt.subplot(223)\n",
    "올림픽대로_B32_상행_속도_평균.plot(label= 'up')\n",
    "올림픽대로_B32_하행_속도_평균.plot(label= 'down')\n",
    "plt.title(\"올림픽대로(B32) 평균 속도\")\n",
    "plt.legend()\n",
    "\n",
    "plt.subplot(224)\n",
    "올림픽대로_B32_속도차이_평균.plot()\n",
    "plt.title(\"올림픽대로(B32) 평균 속도 차이\")\n",
    "plt.legend()"
   ]
  },
  {
   "cell_type": "code",
   "execution_count": null,
   "metadata": {
    "id": "tuzntn_4WMSU",
    "outputId": "5f089b63-d9c4-4b75-e9ee-c7aa4dd86887"
   },
   "outputs": [],
   "source": [
    "print(data.query('도로명==\"올림픽대로\"')['MAX_SPD'][0:1])\n",
    "print(data.query('도로명==\"올림픽대로\"')['거리'][0:1])"
   ]
  },
  {
   "cell_type": "markdown",
   "metadata": {
    "id": "hMtUyRlPWMSU"
   },
   "source": [
    "- 밀도가 높을 수록 속도가 낮은 것을 알 수가 있음\n",
    "- 상행의 경우 퇴근 시간(17~21시)를 제외한 모든 시간대가 약 80km/h 안밖으로 정체가 거의 없는것으로 예상됨\n",
    "- 하행의 경우 출근 시간(6 ~ 11시)에서 매우 심각한 정체가 일어나는것으로 보이며, 속도차이가 최고 약60km/h(9~10시)까지 나타남\n",
    "- 출근 시간에 적용하면 매우 효과적일것으로 예상됨"
   ]
  },
  {
   "cell_type": "markdown",
   "metadata": {
    "id": "_0ItCjsBWMSU"
   },
   "source": [
    "### 5-8) D-39 남부순환로"
   ]
  },
  {
   "cell_type": "code",
   "execution_count": null,
   "metadata": {
    "id": "SNdtOyMjWMSV",
    "outputId": "dfec8f2d-f948-48cc-c0b4-93942aa192b7"
   },
   "outputs": [],
   "source": [
    "남부순환로_상행 = up[up['도로명']=='남부순환로']\n",
    "남부순환로_하행 = down[down['도로명']=='남부순환로']\n",
    "남부순환로_D39_상행=남부순환로_상행[남부순환로_상행['지점']=='D-39']\n",
    "남부순환로_D39_하행=남부순환로_하행[남부순환로_하행['지점']=='D-39']\n",
    "\n",
    "남부순환로_D39_상행_교통량 = 남부순환로_D39_상행[교통량]\n",
    "남부순환로_D39_하행_교통량 = 남부순환로_D39_하행[교통량]\n",
    "남부순환로_D39_상행_교통량_평균 = 남부순환로_D39_상행_교통량.mean()\n",
    "남부순환로_D39_하행_교통량_평균 = 남부순환로_D39_하행_교통량.mean()\n",
    "\n",
    "남부순환로_D39_하행_속도 = 남부순환로_D39_하행[속도]\n",
    "남부순환로_D39_상행_속도 = 남부순환로_D39_상행[속도]\n",
    "남부순환로_D39_상행_속도_평균 = 남부순환로_D39_상행_속도.mean()\n",
    "남부순환로_D39_하행_속도_평균 = 남부순환로_D39_하행_속도.mean()\n",
    "\n",
    "남부순환로_D39_속도차이 = 남부순환로_D39_상행[속도차이]\n",
    "남부순환로_D39_속도차이_평균 = 남부순환로_D39_속도차이.mean()\n",
    "\n",
    "남부순환로_D39_상행_밀도 = 남부순환로_D39_상행[밀도]\n",
    "남부순환로_D39_하행_밀도 = 남부순환로_D39_하행[밀도]\n",
    "남부순환로_D39_상행_밀도_평균 = 남부순환로_D39_상행_밀도.mean()\n",
    "남부순환로_D39_하행_밀도_평균 = 남부순환로_D39_하행_밀도.mean()\n",
    "\n",
    "# 시각화 \n",
    "plt.figure(figsize=[18,15])\n",
    "\n",
    "plt.subplot(221)\n",
    "남부순환로_D39_상행_교통량_평균.plot(label= 'up')\n",
    "남부순환로_D39_하행_교통량_평균.plot(label= 'down')\n",
    "plt.title(\"남부순환로(D39) 평균 교통량\")\n",
    "plt.legend()\n",
    "\n",
    "plt.subplot(222)\n",
    "남부순환로_D39_상행_밀도_평균.plot(label='up')\n",
    "남부순환로_D39_하행_밀도_평균.plot(label='down')\n",
    "plt.title(\"남부순환로(D39) 평균 밀도\")\n",
    "plt.legend()\n",
    "\n",
    "plt.subplot(223)\n",
    "남부순환로_D39_상행_속도_평균.plot(label= 'up')\n",
    "남부순환로_D39_하행_속도_평균.plot(label= 'down')\n",
    "plt.title(\"남부순환로(D39) 평균 속도\")\n",
    "plt.legend()\n",
    "\n",
    "plt.subplot(224)\n",
    "남부순환로_D39_속도차이_평균.plot()\n",
    "plt.legend()\n",
    "plt.title(\"남부순환로(D39) 평균 속도 차이\")\n"
   ]
  },
  {
   "cell_type": "code",
   "execution_count": null,
   "metadata": {
    "id": "WiUIy5iKWMSV",
    "outputId": "453f3d20-46d2-47d4-a6b7-2380b0725741"
   },
   "outputs": [],
   "source": [
    "print(data.query('도로명==\"남부순환로\"')['MAX_SPD'][0:1])\n",
    "print(data.query('도로명==\"남부순환로\"')['거리'][0:1])"
   ]
  },
  {
   "cell_type": "markdown",
   "metadata": {
    "id": "SbgYX_1CWMSW"
   },
   "source": [
    "- 밀도가 높을 수록 속도가 낮은 것을 알 수가 있음\n",
    "- 상행의 경우 모든 구간에서 제한속도(60km/h)-10 범위안에 드는것으로 확인되며, 큰 정체는 없는것으로 예상됨\n",
    "- 하행의 경우 주간(7 ~ 20시)에 심한 정체가 있는것으로 예상되며, 속도 차이 또한 약 20~25km/h로 크게 나타난다.\n",
    "- 주간 시간에 적용하면 효과적일것으로 예상된다"
   ]
  },
  {
   "cell_type": "markdown",
   "metadata": {
    "id": "omp7bxOiWMSW"
   },
   "source": [
    "---"
   ]
  },
  {
   "cell_type": "markdown",
   "metadata": {
    "id": "B-3p5WvlWMSW"
   },
   "source": [
    "### 군집 1"
   ]
  },
  {
   "cell_type": "markdown",
   "metadata": {
    "id": "ugf1-3VUWMSW"
   },
   "source": [
    "- 군집 결과 중 데이터의 수 200개 넘는 것만 선택 (for 군집의 신뢰도)\n",
    "- 평균 교통량, 밀도, 속도, 속도차이 시각화\n",
    "- 도로 길이, 제한 속도 확인"
   ]
  },
  {
   "cell_type": "markdown",
   "metadata": {
    "id": "xxKLSf64WMSW"
   },
   "source": [
    "### 5-9) F-01 올림픽대로"
   ]
  },
  {
   "cell_type": "code",
   "execution_count": null,
   "metadata": {
    "id": "MIuw0osFWMSW",
    "outputId": "51891fd5-6889-4bdc-b9db-748e0cee4663"
   },
   "outputs": [],
   "source": [
    "올림픽대로_상행 = up[up['도로명']=='올림픽대로']\n",
    "올림픽대로_하행 = down[down['도로명']=='올림픽대로']\n",
    "올림픽대로_F01_상행=올림픽대로_상행[올림픽대로_상행['지점']=='F-01']\n",
    "올림픽대로_F01_하행=올림픽대로_하행[올림픽대로_하행['지점']=='F-01']\n",
    "\n",
    "올림픽대로_F01_상행_교통량 = 올림픽대로_F01_상행[교통량]\n",
    "올림픽대로_F01_하행_교통량 = 올림픽대로_F01_하행[교통량]\n",
    "올림픽대로_F01_상행_교통량_평균 = 올림픽대로_F01_상행_교통량.mean()\n",
    "올림픽대로_F01_하행_교통량_평균 = 올림픽대로_F01_하행_교통량.mean()\n",
    "\n",
    "올림픽대로_F01_상행_속도 = 올림픽대로_F01_상행[속도]\n",
    "올림픽대로_F01_하행_속도 = 올림픽대로_F01_하행[속도]\n",
    "올림픽대로_F01_상행_속도_평균 = 올림픽대로_F01_상행_속도.mean()\n",
    "올림픽대로_F01_하행_속도_평균 = 올림픽대로_F01_하행_속도.mean()\n",
    "\n",
    "올림픽대로_F01_속도차이 = 올림픽대로_F01_상행[속도차이]\n",
    "올림픽대로_F01_속도차이_평균 = 올림픽대로_F01_속도차이.mean()\n",
    "\n",
    "올림픽대로_F01_상행_밀도 = 올림픽대로_F01_상행[밀도]\n",
    "올림픽대로_F01_하행_밀도 = 올림픽대로_F01_하행[밀도]\n",
    "올림픽대로_F01_상행_밀도_평균 = 올림픽대로_F01_상행_밀도.mean()\n",
    "올림픽대로_F01_하행_밀도_평균 = 올림픽대로_F01_하행_밀도.mean()\n",
    "\n",
    "# 시각화 \n",
    "plt.figure(figsize=[18,15])\n",
    "\n",
    "plt.subplot(221)\n",
    "올림픽대로_F01_상행_교통량_평균.plot(label= 'up')\n",
    "올림픽대로_F01_하행_교통량_평균.plot(label= 'down')\n",
    "plt.title(\"올림픽대로(F01) 평균 교통량\")\n",
    "plt.legend()\n",
    "\n",
    "plt.subplot(222)\n",
    "올림픽대로_F01_상행_밀도_평균.plot(label='up')\n",
    "올림픽대로_F01_하행_밀도_평균.plot(label='down')\n",
    "plt.title(\"올림픽대로(F01) 평균 밀도\")\n",
    "plt.legend()\n",
    "\n",
    "plt.subplot(223)\n",
    "올림픽대로_F01_상행_속도_평균.plot(label= 'up')\n",
    "올림픽대로_F01_하행_속도_평균.plot(label= 'down')\n",
    "plt.title(\"올림픽대로(F01) 평균 교통량\")\n",
    "plt.legend()\n",
    "\n",
    "plt.subplot(224)\n",
    "올림픽대로_F01_속도차이_평균.plot()\n",
    "plt.legend()\n",
    "plt.title(\"올림픽대로(F01) 평균 속도 차이\")"
   ]
  },
  {
   "cell_type": "code",
   "execution_count": null,
   "metadata": {
    "id": "B5pcuXl5WMSW",
    "outputId": "0d79bbdd-8575-4511-9d93-cac0465fc1f3"
   },
   "outputs": [],
   "source": [
    "print(data.query('도로명==\"올림픽대로\"')['MAX_SPD'][0:1])\n",
    "print(data.query('도로명==\"올림픽대로\"')['거리'][0:1])"
   ]
  },
  {
   "cell_type": "markdown",
   "metadata": {
    "id": "_uAJ4W-BWMSX"
   },
   "source": [
    "- 밀도가 높을 수록 속도가 낮은 것을 알 수가 있음\n",
    "- 저녁, 새벽 시간을 제외하면(6 ~ 21시) 상하행 모두 제한속도(80km/h)-10 범위 이하로 정체가 있는것으로 예상되며 정체의 뱡향도 시간에\n",
    "    따라 역전된다.\n",
    "- 퇴근시간의 최대 속도차이가 약 40km/h(20시)로 매우 높지만 하행의 평균 속도 또한 50~70km/h로 약간의 정체가 있으므로, 로드지퍼 \n",
    "    적용시 역정체의 위험이 있을것으로 예상된다"
   ]
  },
  {
   "cell_type": "markdown",
   "metadata": {
    "id": "kUhMg3OHWMSX"
   },
   "source": [
    "### 5-10) F-02 강변북로"
   ]
  },
  {
   "cell_type": "code",
   "execution_count": null,
   "metadata": {
    "id": "q_dNNPTnWMSX",
    "outputId": "42e0d3d8-be11-4c8a-d4dc-5c7ab15fdcf1"
   },
   "outputs": [],
   "source": [
    "강변북로_상행 = up[up['도로명']=='강변북로']\n",
    "강변북로_하행 = down[down['도로명']=='강변북로']\n",
    "강변북로_F02_상행=강변북로_상행[강변북로_상행['지점']=='F-02']\n",
    "강변북로_F02_하행=강변북로_하행[강변북로_하행['지점']=='F-02']\n",
    "\n",
    "강변북로_F02_상행_교통량 = 강변북로_F02_상행[교통량]\n",
    "강변북로_F02_하행_교통량 = 강변북로_F02_하행[교통량]\n",
    "강변북로_F02_상행_교통량_평균 = 강변북로_F02_상행_교통량.mean()\n",
    "강변북로_F02_하행_교통량_평균 = 강변북로_F02_하행_교통량.mean()\n",
    "\n",
    "강변북로_F02_상행_속도 = 강변북로_F02_상행[속도]\n",
    "강변북로_F02_하행_속도 = 강변북로_F02_하행[속도]\n",
    "강변북로_F02_상행_속도_평균 = 강변북로_F02_상행_속도.mean()\n",
    "강변북로_F02_하행_속도_평균 = 강변북로_F02_하행_속도.mean()\n",
    "\n",
    "강변북로_F02_속도차이 = 강변북로_F02_상행[속도차이]\n",
    "강변북로_F02_속도차이_평균 = 강변북로_F02_속도차이.mean()\n",
    "\n",
    "강변북로_F02_상행_밀도 = 강변북로_F02_상행[밀도]\n",
    "강변북로_F02_하행_밀도 = 강변북로_F02_하행[밀도]\n",
    "강변북로_F02_상행_밀도_평균 = 강변북로_F02_상행_밀도.mean()\n",
    "강변북로_F02_하행_밀도_평균 = 강변북로_F02_하행_밀도.mean()\n",
    "\n",
    "# 시각화 \n",
    "plt.figure(figsize=[18,15])\n",
    "\n",
    "plt.subplot(221)\n",
    "강변북로_F02_상행_교통량_평균.plot(label= 'up')\n",
    "강변북로_F02_하행_교통량_평균.plot(label= 'down')\n",
    "plt.title(\"강변북로(F02) 평균 교통량\")\n",
    "plt.legend()\n",
    "\n",
    "plt.subplot(222)\n",
    "강변북로_F02_상행_밀도_평균.plot(label='up')\n",
    "강변북로_F02_하행_밀도_평균.plot(label='down')\n",
    "plt.title(\"강변북로(F02) 평균 밀도\")\n",
    "plt.legend()\n",
    "\n",
    "plt.subplot(223)\n",
    "강변북로_F02_상행_속도_평균.plot(label= 'up')\n",
    "강변북로_F02_하행_속도_평균.plot(label= 'down')\n",
    "plt.title(\"강변북로(F02) 평균 속도\")\n",
    "plt.legend()\n",
    "\n",
    "plt.subplot(224)\n",
    "강변북로_F02_속도차이_평균.plot()\n",
    "plt.legend()\n",
    "plt.title(\"강변북로(F02) 평균 속도차이\")\n",
    "plt.show()"
   ]
  },
  {
   "cell_type": "code",
   "execution_count": null,
   "metadata": {
    "id": "Re65wOlGWMSX",
    "outputId": "0c1ac658-bcc4-425a-a179-30e28eae6700"
   },
   "outputs": [],
   "source": [
    "print(data.query('도로명==\"강변북로\"')['MAX_SPD'][0:1])\n",
    "print(data.query('도로명==\"강변북로\"')['거리'][0:1])"
   ]
  },
  {
   "cell_type": "markdown",
   "metadata": {
    "id": "znAUxITFWMSY"
   },
   "source": [
    "- 밀도가 높을 수록 속도가 낮은 것을 알 수가 있음\n",
    "- 새벽 시간(23 ~ 6시)을 제외하면 상하행 모두 제한속도(80km/h)-10 범위 이하인 50km/h아래로 정체가 있는것으로 예상\n",
    "- 상하행간 속도차이가 커보이지만 상하행 모두 정체를 겪는것으로 예상되므로 로드지퍼를 설치하기 부적합."
   ]
  },
  {
   "cell_type": "markdown",
   "metadata": {
    "id": "JFO7kr1HWMSY"
   },
   "source": [
    "### 5-11) B-36 강변북로"
   ]
  },
  {
   "cell_type": "code",
   "execution_count": null,
   "metadata": {
    "id": "YWN9u_mRWMSY",
    "outputId": "2e9c4fc7-06d0-4bbe-e453-62c11a03fb70"
   },
   "outputs": [],
   "source": [
    "강변북로_상행 = up[up['도로명']=='강변북로']\n",
    "강변북로_하행 = down[down['도로명']=='강변북로']\n",
    "강변북로_B36_상행=강변북로_상행[강변북로_상행['지점']=='B-36']\n",
    "강변북로_B36_하행=강변북로_하행[강변북로_하행['지점']=='B-36']\n",
    "\n",
    "강변북로_B36_상행_교통량 = 강변북로_B36_상행[교통량]\n",
    "강변북로_B36_하행_교통량 = 강변북로_B36_하행[교통량]\n",
    "강변북로_B36_상행_교통량_평균 = 강변북로_B36_상행_교통량.mean()\n",
    "강변북로_B36_하행_교통량_평균 = 강변북로_B36_하행_교통량.mean()\n",
    "\n",
    "강변북로_B36_상행_속도 = 강변북로_B36_상행[속도]\n",
    "강변북로_B36_하행_속도 = 강변북로_B36_하행[속도]\n",
    "강변북로_B36_상행_속도_평균 = 강변북로_B36_상행_속도.mean()\n",
    "강변북로_B36_하행_속도_평균 = 강변북로_B36_하행_속도.mean()\n",
    "\n",
    "강변북로_B36_속도차이 = 강변북로_B36_상행[속도차이]\n",
    "강변북로_B36_속도차이_평균 = 강변북로_B36_속도차이.mean()\n",
    "\n",
    "강변북로_B36_상행_밀도 = 강변북로_B36_상행[밀도]\n",
    "강변북로_B36_하행_밀도 = 강변북로_B36_하행[밀도]\n",
    "강변북로_B36_상행_밀도_평균 = 강변북로_B36_상행_밀도.mean()\n",
    "강변북로_B36_하행_밀도_평균 = 강변북로_B36_하행_밀도.mean()\n",
    "\n",
    "# 시각화 \n",
    "plt.figure(figsize=[18,15])\n",
    "\n",
    "plt.subplot(221)\n",
    "강변북로_B36_상행_교통량_평균.plot(label= 'up')\n",
    "강변북로_B36_하행_교통량_평균.plot(label= 'down')\n",
    "plt.title(\"강변북로(B36) 평균 교통량\")\n",
    "plt.legend()\n",
    "\n",
    "plt.subplot(222)\n",
    "강변북로_B36_상행_밀도_평균.plot(label='up')\n",
    "강변북로_B36_하행_밀도_평균.plot(label='down')\n",
    "plt.title(\"강변북로(B36) 평균 밀도\")\n",
    "plt.legend()\n",
    "\n",
    "plt.subplot(223)\n",
    "강변북로_B36_상행_속도_평균.plot(label= 'up')\n",
    "강변북로_B36_하행_속도_평균.plot(label= 'down')\n",
    "plt.title(\"강변북로(B36) 평균 속도\")\n",
    "plt.legend()\n",
    "\n",
    "plt.subplot(224)\n",
    "강변북로_B36_속도차이_평균.plot()\n",
    "plt.title(\"강변북로(B36) 평균 속도 차이\")\n",
    "plt.legend()\n"
   ]
  },
  {
   "cell_type": "code",
   "execution_count": null,
   "metadata": {
    "id": "M8qV6dtJWMSY",
    "outputId": "30a9b2fc-298f-4507-8f65-353b8597e7bb"
   },
   "outputs": [],
   "source": [
    "print(data.query('도로명==\"강변북로\"')['MAX_SPD'][0:1])\n",
    "print(data.query('도로명==\"강변북로\"')['거리'][0:1])"
   ]
  },
  {
   "cell_type": "markdown",
   "metadata": {
    "id": "0xCUsiM1WMSY"
   },
   "source": [
    "- 밀도가 높을 수록 속도가 낮은 것을 알 수가 있음\n",
    "- 상행의 경우 퇴근시간(17 ~ 21시)를 제외하면 모두 약 80km/h 안밖으로 정체가 없는것으로 예상됨\n",
    "- 하행의 경우 출근시간(6 ~ 11시)에 매우 심한 정체(30km/h이하)를 겪는것으로 보이며, 속도차이도 약60km/h로 매우 심각한 상태\n",
    "- 출근시간에 적용하면 매우 효과적일것으로 예상됨"
   ]
  },
  {
   "cell_type": "markdown",
   "metadata": {
    "id": "ukgbu83iWMSY"
   },
   "source": [
    "---"
   ]
  },
  {
   "cell_type": "markdown",
   "metadata": {
    "id": "e5dGxPfiWMSZ"
   },
   "source": [
    "## 4. 로드지퍼 설치 효과 "
   ]
  },
  {
   "cell_type": "markdown",
   "metadata": {
    "id": "zwjqq66_WMSZ"
   },
   "source": [
    "### 3-1) 지점/상하행별 임계속도 분석\n"
   ]
  },
  {
   "cell_type": "code",
   "execution_count": null,
   "metadata": {
    "colab": {
     "base_uri": "https://localhost:8080/"
    },
    "executionInfo": {
     "elapsed": 44151,
     "status": "ok",
     "timestamp": 1630399663448,
     "user": {
      "displayName": "Foshe 0402",
      "photoUrl": "https://lh3.googleusercontent.com/a-/AOh14GgajKr8Hw9h3vJC2ivv8lu8-6KtcBNS4fiPGhMw=s64",
      "userId": "12082443723334275296"
     },
     "user_tz": -540
    },
    "id": "PXp8ounWWMSZ",
    "outputId": "b44f59f7-6db9-49f7-f878-3d23c432cebf"
   },
   "outputs": [],
   "source": [
    "#구글 코랩을 이용했으므로 코랩 import를 시켜줌\n",
    "from google.colab import drive\n",
    "drive.mount('/content/gdrive/')"
   ]
  },
  {
   "cell_type": "code",
   "execution_count": null,
   "metadata": {
    "executionInfo": {
     "elapsed": 2,
     "status": "ok",
     "timestamp": 1630399665296,
     "user": {
      "displayName": "Foshe 0402",
      "photoUrl": "https://lh3.googleusercontent.com/a-/AOh14GgajKr8Hw9h3vJC2ivv8lu8-6KtcBNS4fiPGhMw=s64",
      "userId": "12082443723334275296"
     },
     "user_tz": -540
    },
    "id": "f3pF4nstWMSZ"
   },
   "outputs": [],
   "source": [
    "# 사용할 모듈을 import 시켜줌\n",
    "import pandas as pd\n",
    "import matplotlib.pyplot as plt"
   ]
  },
  {
   "cell_type": "code",
   "execution_count": null,
   "metadata": {
    "executionInfo": {
     "elapsed": 1482,
     "status": "ok",
     "timestamp": 1630399667229,
     "user": {
      "displayName": "Foshe 0402",
      "photoUrl": "https://lh3.googleusercontent.com/a-/AOh14GgajKr8Hw9h3vJC2ivv8lu8-6KtcBNS4fiPGhMw=s64",
      "userId": "12082443723334275296"
     },
     "user_tz": -540
    },
    "id": "fmcP4m2BXKcC"
   },
   "outputs": [],
   "source": [
    "#사용할 파일을 불러옴\n",
    "df1 = pd.read_csv('/content/gdrive/MyDrive/bigdata_contest/speed_traffic_21_inner_null_density.csv', engine= 'python', encoding = 'euc-kr')"
   ]
  },
  {
   "cell_type": "code",
   "execution_count": null,
   "metadata": {
    "colab": {
     "base_uri": "https://localhost:8080/",
     "height": 1000
    },
    "executionInfo": {
     "elapsed": 648,
     "status": "ok",
     "timestamp": 1630399669265,
     "user": {
      "displayName": "Foshe 0402",
      "photoUrl": "https://lh3.googleusercontent.com/a-/AOh14GgajKr8Hw9h3vJC2ivv8lu8-6KtcBNS4fiPGhMw=s64",
      "userId": "12082443723334275296"
     },
     "user_tz": -540
    },
    "id": "PfFTyeC4XKfu",
    "outputId": "ae1790fc-a2da-440b-dbae-62341c84503f"
   },
   "outputs": [],
   "source": [
    "df1"
   ]
  },
  {
   "cell_type": "code",
   "execution_count": null,
   "metadata": {
    "executionInfo": {
     "elapsed": 5,
     "status": "ok",
     "timestamp": 1630399670857,
     "user": {
      "displayName": "Foshe 0402",
      "photoUrl": "https://lh3.googleusercontent.com/a-/AOh14GgajKr8Hw9h3vJC2ivv8lu8-6KtcBNS4fiPGhMw=s64",
      "userId": "12082443723334275296"
     },
     "user_tz": -540
    },
    "id": "XAWqbsYcXKi4"
   },
   "outputs": [],
   "source": [
    "#상행/하행을 나눠줌\n",
    "df_up = df1[df1['방향_x'] == '상행']\n",
    "df_down = df1[df1['방향_x'] == '하행']"
   ]
  },
  {
   "cell_type": "code",
   "execution_count": null,
   "metadata": {
    "colab": {
     "base_uri": "https://localhost:8080/",
     "height": 1000,
     "output_embedded_package_id": "1IKEcbrgrvmZdKxvA6k6rISRyGfWWeAqd"
    },
    "executionInfo": {
     "elapsed": 21511,
     "status": "ok",
     "timestamp": 1630399693437,
     "user": {
      "displayName": "Foshe 0402",
      "photoUrl": "https://lh3.googleusercontent.com/a-/AOh14GgajKr8Hw9h3vJC2ivv8lu8-6KtcBNS4fiPGhMw=s64",
      "userId": "12082443723334275296"
     },
     "user_tz": -540
    },
    "id": "OhYHSLwqXKmN",
    "outputId": "16586906-cd77-47cd-cf41-e42d7505b282"
   },
   "outputs": [],
   "source": [
    "#point라는 리스트에 지점을 넣어두고 for문을 돌려 전체 지점의 전체 시간 교통량을 확인함\n",
    "point = [\n",
    "'A-10',\n",
    "'A-13',\n",
    "'A-17',\n",
    "'B-08',\n",
    "'B-09',\n",
    "'B-13',\n",
    "'B-15',\n",
    "'B-17',\n",
    "'B-18',\n",
    "'B-32',\n",
    "'B-36',\n",
    "'C-05',\n",
    "'C-07',\n",
    "'C-09',\n",
    "'C-15',\n",
    "'C-18',\n",
    "'D-05',\n",
    "'D-16',\n",
    "'D-18',\n",
    "'D-23',\n",
    "'D-24',\n",
    "'D-26',\n",
    "'D-27',\n",
    "'D-28',\n",
    "'D-29',\n",
    "'D-33',\n",
    "'D-35',\n",
    "'D-36',\n",
    "'D-39',\n",
    "'D-40',\n",
    "'D-42',\n",
    "'D-43',\n",
    "'D-44',\n",
    "'D-45',\n",
    "'F-01',\n",
    "'F-02',\n",
    "'F-07',\n",
    "]\n",
    "\n",
    "for i in point :\n",
    "\n",
    "\n",
    "  df_up = df1[df1['방향_x'] == '상행']\n",
    "  df_down = df1[df1['방향_x'] == '하행']\n",
    "\n",
    "  df_up_point = df_up[df_up['지점'] == i]\n",
    "  df_down_point = df_down[df_down['지점'] == i]\n",
    "\n",
    "  plt.scatter(df_up_point['2시_교통량'], df_up_point['02시_속도'], label = '2')\n",
    "  plt.scatter(df_up_point['3시_교통량'], df_up_point['03시_속도'])\n",
    "  plt.scatter(df_up_point['5시_교통량'], df_up_point['05시_속도'])\n",
    "  plt.scatter(df_up_point['6시_교통량'], df_up_point['06시_속도'])\n",
    "  plt.scatter(df_up_point['7시_교통량'], df_up_point['07시_속도'])\n",
    "  plt.scatter(df_up_point['8시_교통량'], df_up_point['08시_속도'])\n",
    "  plt.scatter(df_up_point['10시_교통량'], df_up_point['10시_속도'])\n",
    "  plt.scatter(df_up_point['11시_교통량'], df_up_point['11시_속도'])\n",
    "  plt.scatter(df_up_point['13시_교통량'], df_up_point['13시_속도'])\n",
    "  plt.scatter(df_up_point['14시_교통량'], df_up_point['14시_속도'])\n",
    "  plt.scatter(df_up_point['15시_교통량'], df_up_point['15시_속도'])\n",
    "  plt.scatter(df_up_point['16시_교통량'], df_up_point['16시_속도'])\n",
    "  plt.scatter(df_up_point['17시_교통량'], df_up_point['17시_속도'])\n",
    "  plt.scatter(df_up_point['18시_교통량'], df_up_point['18시_속도'])\n",
    "  plt.scatter(df_up_point['20시_교통량'], df_up_point['20시_속도'])\n",
    "  plt.scatter(df_up_point['21시_교통량'], df_up_point['21시_속도'])\n",
    "  plt.scatter(df_up_point['22시_교통량'], df_up_point['22시_속도'])\n",
    "  plt.scatter(df_up_point['23시_교통량'], df_up_point['23시_속도'])\n",
    "\n",
    "\n",
    "  plt.scatter(df_up_point['19시_교통량'], df_up_point['19시_속도'])\n",
    "  plt.scatter(df_up_point['9시_교통량'], df_up_point['09시_속도'])\n",
    "  plt.scatter(df_up_point['1시_교통량'], df_up_point['01시_속도'])\n",
    "  plt.scatter(df_up_point['4시_교통량'], df_up_point['04시_속도'])\n",
    "  plt.scatter(df_up_point['12시_교통량'], df_up_point['12시_속도'])\n",
    "  plt.scatter(df_up_point['0시_교통량'], df_up_point['24시_속도'])\n",
    "  plt.xlabel('traffic')\n",
    "  plt.ylabel('speed')\n",
    "  plt.title(i)\n",
    "  plt.show()\n",
    "\n",
    "  plt.scatter(df_down_point['19시_교통량'], df_down_point['19시_속도'])\n",
    "  plt.scatter(df_down_point['9시_교통량'], df_down_point['09시_속도'])\n",
    "  plt.scatter(df_down_point['1시_교통량'], df_down_point['01시_속도'])\n",
    "  plt.scatter(df_down_point['4시_교통량'], df_down_point['04시_속도'])\n",
    "  plt.scatter(df_up_point['12시_교통량'], df_up_point['12시_속도'])\n",
    "  plt.scatter(df_up_point['0시_교통량'], df_up_point['24시_속도'])\n",
    "  \n",
    "  plt.scatter(df_up_point['2시_교통량'], df_up_point['02시_속도'])\n",
    "  plt.scatter(df_up_point['3시_교통량'], df_up_point['03시_속도'])\n",
    "  plt.scatter(df_up_point['5시_교통량'], df_up_point['05시_속도'])\n",
    "  plt.scatter(df_up_point['6시_교통량'], df_up_point['06시_속도'])\n",
    "  plt.scatter(df_up_point['7시_교통량'], df_up_point['07시_속도'])\n",
    "  plt.scatter(df_up_point['8시_교통량'], df_up_point['08시_속도'])\n",
    "  plt.scatter(df_up_point['10시_교통량'], df_up_point['10시_속도'])\n",
    "  plt.scatter(df_up_point['11시_교통량'], df_up_point['11시_속도'])\n",
    "  plt.scatter(df_up_point['13시_교통량'], df_up_point['13시_속도'])\n",
    "  plt.scatter(df_up_point['14시_교통량'], df_up_point['14시_속도'])\n",
    "  plt.scatter(df_up_point['15시_교통량'], df_up_point['15시_속도'])\n",
    "  plt.scatter(df_up_point['16시_교통량'], df_up_point['16시_속도'])\n",
    "  plt.scatter(df_up_point['17시_교통량'], df_up_point['17시_속도'])\n",
    "  plt.scatter(df_up_point['18시_교통량'], df_up_point['18시_속도'])\n",
    "  plt.scatter(df_up_point['20시_교통량'], df_up_point['20시_속도'])\n",
    "  plt.scatter(df_up_point['21시_교통량'], df_up_point['21시_속도'])\n",
    "  plt.scatter(df_up_point['22시_교통량'], df_up_point['22시_속도'])\n",
    "  plt.scatter(df_up_point['23시_교통량'], df_up_point['23시_속도'])\n",
    "  plt.xlabel('traffic')\n",
    "  plt.ylabel('speed')\n",
    "  plt.title(i)\n",
    "  plt.legend()\n",
    "  plt.show()"
   ]
  },
  {
   "cell_type": "markdown",
   "metadata": {
    "id": "j1pdTL3jXKpz"
   },
   "source": [
    "![속도-교통량_관계.png](data:image/png;base64,iVBORw0KGgoAAAANSUhEUgAAAqQAAAHVCAYAAAAn0OlQAAAAAXNSR0IArs4c6QAAAARnQU1BAACxjwv8YQUAAAAJcEhZcwAAEnQAABJ0Ad5mH3gAAP+lSURBVHhe7F0FgBXV96a7BAu7u4MwQEHAwO4WO1BsBTuQ7gaVBulQWpplu9ldYrtYaonNl9//fGfefftYFwRZfvrX+ZbDzNy5eea+O9+cW1U2BAVh+YoVyMvLg9vthsfjwV+F1+uF0+nUI+MqKirCrt27sXfvXuTvzcf+A/uxf/9+5OfnY9++/dgn10boXlhYqOEoLpdLpbS0FFk52UhOTUFqRjpSMzNQXFys+WRajGvLli0oKSnRcGvWrEWQlInxMbzD4fDlzaP3mTdix44dWLBgAaKio0EX+mWc5j7Bc3PNsLxv/AWKKS+PzJM55z3C+CMSEzfjtNPPxCuvvg5HgK54pDB+CaF+/ypMXAY813x65Oi24t6Vvxvf9+yJ7j0+Q1ZWrrqVOErh9lj6N+EDj3wWH3zwAc4551ysWx8kbnrLhg0bNmzYsGHjmFClZetWqN+wAebNn6cOJB779u3Dug3rsXLNKpHV+H3VSqxeu0ZllVyvXL0Ka9ev0+OadWv1GL9pk58oKnkRIjh7zhw88eSTeP6F5/HCiy/gOTlSurzYBc8+/yye7/KCuHfBC3J89rnnMGz4cE2b4Q0RioqOQsc7O+KKq67ClddcjZY3tcbChQv996dPn47rrrtOiOgavb7yqqtx/oUXYNee3Xpt4vII0SIpNZg0aRKqVKmCp597Rq8NkTYSCEMmjwUkecQ333yH04WQrlm7Xq8DYdINzKfBofJ2JGAYQ0hNPjYEB6Fu3bq44oqrERu3Sd0ISUH9GjHpGR3ExsbihKZN8cmnPfTaxGfwV/Jnw4YNGzZs2Phvo8qVV1+FWnVqYf6C+epAQhEREYGzzjkbtevURgMhqw0aNRRphHr166NuvXri1khIbEMJVwdNmjXT84cfeRjbt2/XOIiikmK82fUtJX1HKre2bYPteXkanvkgSfz9999xleTxpJNPQvPTTsPpZ52J8ePHo1jiJ0aMHKlhx08Yr9dXCCE9Q/zk7dyh14YwkZBSrHMPhg4bquFub98OGVmZahm0rJPW/UAixvO8vJ2YM2cuJkyciMlTpmLqtOmYPM06Tp06DVOmTsUUcZ8m1z9L/ubMnYu9ey1ybcgcSfK5512A9nd0xIEDReqWtGUzFv76K3K351ppirjdLj0PlECUvzY4nDvzEGj5/NlHyN97/0MUFBQgJDRUPzb2HzigFmOC/hkuUB/5+Xtw++2345prb0BmVo6fyBscKg82bNiwYcOGDRuHQhWSvbr16mLBwgXqQPIRExsLEtXTzjgdZ5x9lsjZQgTPxmlnniXHc4TwnYMzzzkP5wi5aty0mRKb+x96ELt27dI4iOLSErz/4Qdyryoee+ppjB49BsNGjsawEaMwcvRYDB81CsNHi4waieEjR2CIEMTFS5egsLjIT+AIj5CirVu3ITIqEvGb4hGfmIBSp9UNT4wYbRHSGbNm6vVlQkjPveB87DCE1Ec0LXJldUfv2bMHne68E1WqVkWDBg0w3RfWdO8HkjeXi4QLWLlyNU4+ubmmxTJZ8kdSbdxPOe10hEVEanwlpaV6HCnlbdzkBHz2+ZdwuS3i1rd/PyX6036ZrtdMk4SURI/5Lst7mdXSiCF/PAa6lfdj3Disgef5+/bjyWef03xOEhLNe+07dMLZ55yDrdu2aZxM0zpawx4sQm8NWejfrz9q1KyFIUOH+/yUWUkZvw0bNmzYsGHDxtGgSqPGjYQkNVaLnkFhUTHCIyKwbmMQ1oeEYENwMNZvFJHjBrleHxyC4NBQ/L5mLe5/5FElNh98/MlBxITjEd//+GO99/Z774v/MKxevwFrgjZKvMHW+Yb1WLVurQ4PWLV2NbbvyFPrnEdITUZmBp5//nl06dIFr732Grp27Yo333hT5A28+OKLeOXVVyTOEIwdN1bTMIT08quvwbkXXoCs3By99ngtEuVyWaSKYHc9rb+1RBj2jjs7aXqEIV2BhJBYvvx3NG9+OmrXrisE/VycKuT8jHPOxekiZ557Hs4873ycfraQdbk+5fQzcH3rmxARFa1hnb5023e4A01OaIbgkDDJlzqh5w89NQ/DRgyH0Ed183ot4mzEJaRQj778GHev5JX5pRg344/557lHEjKk1Okj8psSkyQfTXGG5HvVmnVwujy4/oaWopP6iIuPVz+Mg0MHrLwwPitdIkKIdt169fHkU8/ouFKbhNqwYcOGDRs2jgVVqlSvjiYnnoQ588rGkBoS9mfYX1iAp5+3LG09f/jBcvRxk8KSYnz4ySd6r36jhmh20ok4oVkzkaZoetJJaNKUxxPR9MRmOPGUk9G4cWMMHjzYT25iYmM0rJFqNaqjSrWqqFq9ml5Xr1kD839diB9//FGvp06fpuGuvvZanH3euf6u//Jl2bBxo1pQ6zSoj6eefQZXXHO1hv+ke3eUlPospL4xnAzLcbHEkqVLcUrz5ri+RQuNIzIqCtHRMYgSiY6xJDwyUidJhQthi09IwIGCAiWGBMfc0uJ84cUX48CBAonbInc//NBL0x8+ajTcPpZKqyzJqRJLh5yLX0M2HXLP7SOhoiy/O/0QjIPR8D4JJYk44yNcQiqJJcuWaZoPP/aYfHwUYd/e/WjdqrU8gyZIkHwTgXrzp8E0BRkZmbjqmutwwsmnYMnyFepm7vmPkjejRxs2bNiwYcOGjcOhykWXXoZa9epj5uzZ6kAiQiGxYHc5JdDNHImUtBS0uf02i1CNGKZuTiF1JJUlDgc++PgjvXeVkL6OnTqi0113okPHDri9wx1o0+52tGvfDnfINS2Ht7Zpg1mzZvkJ6Z69+Zg9dw4WCOnkpKqNIcFqsf19zWrMXbgAs+fNRYEQ4h/HjdM0ODnrwYcfQqMmjXDJpZcg1zee1ZA4jin9+rtvcfrZZ6n/Bx99RAh1IeYsmI8mQpJr1aqFRx97AolJm9XqRzLFsIZQ/rZ4sZDqZpLv23Q4wpEgMPynPbqjqhDqx554XN2Me+/efTQ/I0aOJr8s073cc8o588Iuc6MX/u+WvHEYQJGQZfrXe76wBYVFGoZwOWm9tCyc+szc8lxKStC129ua5vvyfIgdeTtw3fXXoXHTE6T8iepGIs5VD1xSBoJ5YPzE7t178NQz1odIvyGD1c34I0xebTpqw4YNGzZs2DgSVGE3c/3GTTBvwUJ1UGuYj3AGEioDuvn4BjYlJuBMIXhVq1bFdN8YSLfPUkdC2u3995S0fNfzex2byAk8CSLxQnoSNm9Gkkji5iTrmJSEHbt2WpY1EjJfIrz/6uuv6ZjWq669RrvXV6xehWKHRboMIQ2Uy6643D/BKjEhEa9J+IuFpFapKvdFHnjoQaRlZKh1kBN6xk+cgGYnnqRhT21+Ou4U4jxx0kQlYdb4SQ8WLVmMk085Gbe0bYO9B/Zr3NQF75GAGdG8i5C88T7DE08/+4zGT12wbIbc9erVW91HjLAIKeMgEZ0npJvlniOknG4paak6xpbLXsUmbML9Qr6vv/EGnczF9AqLCjFg0EAh45fjns73IjI6SuOndTTwOebm5uKc88/Dic1PwSyJm9i5cydubNkCDZs0RqI8n9CIcHSQD4gbW7XEV19/jeycHH/5CB6HDh+l+e763rv++mLAoQR61P9t2LBhw4YNGzYOjypVqlYTInIC5syzZtkfDWLj4tCk6Qk45bTmWLN2rc/VAmfZv/fRh0pamp9+Gi4Xknj+RRfi4ssv027y8y++COfJ9QVyJFk857xz8dbbXdUyahAvxOu6G673x3HmOWfr+alyPt83CWv06NHqdvOtt+CBRx5GoxOaaHx5PkK6ZMkSNGrUSP1wOSgOLaB1kcsetWvfHr369FZ/Cxb+io6d7kbNWnXU70svv6TuhlAuXb5MZ/rfJOns2rtH3QhDQCmBhI0E0JDOktIS3P/gAxrvgl+tfBsrpumyHz1mnF4TTItlbNioIWbPsSzXH3/6iQ59ePXNN3DBJRdrGErN2rUwbcYMfNr9U78bhXpLSLSsnYY4E+vWr9Oxszff1lbXf2WOd+/erctpNWjcCN0+eB+N5JkGxvX4U0/q+F7ClPHXRUv03j33348cn655zy+8timpDRs2bNiwYeMIUKWBkNH6InPnW0Tp95UrdTzp/IULxW0+5i1YgLm8XjBfruepLPztV7UY9uz1A6oLIbpICOCIkSO0i33z1i3a3V1QVIiPe3RX0sLxnjVq1bTGgNaqgapyTalGt+rVrKP4u++B+/3Ep7ikBD0+66Hud959F9Zv2ICQ8HC8+OorqF6jBjre2UnJ4tgx1qSmXxf9puFoHb1AiG52drZek4hNmDQRzz3/vFpbDczs/CeefAKlvnGZpQ4XBgwcjNdefx3pGeka1lh8aZ08UQjpbe3b+ScpHSlo/W0lhI/prVlrrZdqLJbGQjpwqDXkISUtTYcf1KxVC0OGW25Ed+qiWjXV15XXXoNnnn8Ot/qGS1D/J550Iu6652488+yzOPf889T9y6++0rAut1OeidW1/+333+m9p555Wu+x+58W0patrfzxuZwnxJ2rJtx2R3vUExJcs3Zt/LZ4kfo3hHTRYouQXteiBTYlWuuYmnv+o/5vw4YNGzZs2LBxeFS5oWUr1K5XHwt+XaRrY159zXVKNKpXr4mq1YRI1qytBLBu/Xpo2LgRagkB5cQiXaNUrkmQKLTUMdynQpwMouPjMGToEIz76Uf8+PPPIj/h5rZtUEVIz52d78FP43/G6LFj8dOECRg1dgy4a5QBx4C2vuVmyUM1zPKNbyUOFBfh5NOaK+nauWsXxowZo+maSU1XXHUlzjn3HO2aPhxohWS419543edSMYxlkf6Z7uXXXI1fJD+/CiknMV8gxJ0L9XPZLArXFJ0zZ44S+337ra59WnrZvV5Dyr0tOVkJm8NnITWEdMKUqcjJy8Pd991r5eutN1HisJZpIrr7yP3JzU9FaGSEukXGxGj3O905NpU7PxFjf7SGMbz2+hvWLHj54zhSLqlF0sp1ZTlMwZp45MWe/Hy0vvkmDXO1kF1udkD3vB078OLLL6n7519+oZsdGCxZugzVpH6ccc45WB/w3MrIqBW3DRs2bNiwYcPGn6FKi9Y3oV6Dhvh18RIUFRXjkUcex3XX34AWLVrjxhtb4cYWrXDpZZcr4azXoL4uUk9rH2eq0+J5lpA/dvfe0Kolrr3+Ovw4YTzCIiOV1ISGhyFGSGlYVKQeY0U633+/EtjnXuqCuE2bEB0bi4iYaETFxSJciNbadeuEtG3TCTXWOqZV8PJrr2Lrtq3YvTcf/YcMUosdF9HnBJ1xQmjpxxBSTqC66OKL1Oq3evVqfP/dd+jZsyd+6N0LvXr3xvc/yHmvXkJE31Ci3ap1K3GXe336oHfvvnKvj/r55rtvMWrUSGRmZmq8i5ct0aEJTKu+EHFaDrnDFYcINGjSWLvT6dZIzqsJ8aTVkuUnEpIScEPLG9VKTAuyRUgtcme67EeN+wlvvP2Ont/U5lZkZmXpfUOIP/vsMx2rS4JY4NsUIF3yRksxw3D7V8IlccclJoBDMe699wEhlWVrwyYkJerQiIsuuVgX6Xf5LL07d+9CC3l+tUWvQ4eVWWWJRYsW6eYIjz7+GPbsy/cTzg0bNuLEk04VgtwcazdYu07xnhEOE7BtpDZs2LBhw4aNI0GVq6+/HrXr1tXudiI5NRVJm7foskVJW7YIEUzWMYocv8mu8BUrf0dKSgq+/OZrnSD0XJcXsEVIVuymeEQKseRSUB2EJJ19/nk6TpTEjOSV3cAXX3qpkJuGainkjG6OKaWce+H5OFeO9HPmWWfitbfeABe0j42NwelnnI5q1aujZavWaN+xk5C62qgjxGncjz9qfjlUQAnp1Kl6ffmVV2mau/P36JhU3juUVKtpWXUPJWeceaaOuSTWCsG+6OKLUUd0ZRHRpqgvRL56zZqoLkSznrhxUhCtj7Xq1tHxqtz9iEgQgkgLKeNMTk5RN5Jp4ocfflD36+Q+d7zixCkSc4Jd7YbUffjRx0Kga6JPv346u54gaSUhrV2nDjZu3KhuRHRcHKoK2e58331q5TSYPW+ePOt6Gobg5Cli567duOHGlmjYsDHiJCxh1mwN2hgsz+QsnQi2O7+MkK4Ust+gcWM0P+MMXdKKoFVU74sYIm3Dhg0bNmzYsPFnqMIxkY1PaILfFlljBCtCeFQkzjrvXLU+csY1wV2HSKS4tFMguMQS/fFezTq1hQDVQb369bTLn9uOch3SZic2Q7NmzZTEUWrLveril2NJOd6U4xe57BDHWf72229o0bKlkFK5V70WLr74MoyfMME/2YjDAZj/ZUuX6fWlvslT3KlplOSRFt0bWtyI60Sub9ESN7ZoLdethCC21KOR61u2sKy8LVrgupa0Cl+BRx59DJu3bNZ4Dxw4gLCwMAQFb0SoEM3w8AgMHzFKdyxieefNn4/QsFCRMF2iiuuUchtOgpOLOIudFuUk3zhWk/8+faxln4xwktjEyZPkDkmdtWQT8cmn3VGtWk188eVXuhQXQULKJbNIgpkngzj5OKhTry7uurezn5C6RJfvvv8Bataqi379+6ubZcUEdu3OV73Uq98QmzZZ40ENId0QFIKzzjlHl9Tau3evn5D+tug3ze9lV16BiEhrRyqOHTb3ebRJqQ0bNmzYsGHjSFCF3biRsTHYI2SDi7Fzco9TSBDHC3JZJJKKdUEbcPo5Z+n4zG0pyRqQOwuRkLz9bjdrxyB32W5BsbGxFnETgsbdlEiQaHnjovGLly3DfE6KWrYUUeKPXfXssifp3bAxSLv6U1NTlYwacrM9b7vuLhQbF6/rhHK5KVosp8+coeuS0qLIbUuZV3a1f/3N10qeCg4UaJd7dm4OtgtB3bFjJ3b6hOfcn56yQ4T3c3fuRHZeHnKFxHHxd4bjjPxDjYVctmKlEtLrrr9e83wo5O3I0/VWOfZ22YplWi5DSHv1srrsT2l+Kl54sYsOAbj08suQnGJt4WlIXY/Pv9Bxvd9//wPMovqZ2RYhpcU2WEiwwaaEBP0AuPOeu3WcLdMrKiwExws3PqGpPpNA7Nq9R0h/a9Rv0MhvITUICg7BmWefrRZSbrlqsHiJNamJHzTJqZbVN1BP5tnZsGHDhg0bNmz8Gaq83a0bCh1W9zGJJQkplwP68OOPdCF77pgUEhGOM4SQ0hpmyMdQHyHl0k6Ey3HwepcGJHTs5mfXfrsOHdDipta4psUNuOHm1uhwz13o9v77WC3ksjxIaJSUyh9RUFSMXr374qabb8G5552rOz/VrFsHp511Jq64+iodA8ndlrimKUmcEjnfzkdZ2dk6njN+UwLi4jcJ6dok5FYkNt6SGCHMiYmIiI3WCUOJEocBZ6E7OQvfZe3pznOugcr8zZ2/UEnijTfeiPj4eHWjDuiPSz4ZofuTTz+l+iKRJ8rWIbUIaY/PP8Pe/fvQ5aUX9ZprkNLabMZ5fvzJp6heoxa+/vo7f1gSUhJdWkiDQ8pIJok/l3bqfN+9yPXtWMUdmE4740xcdfW1yMqxViAwpJEWUkNIWY5AbBRCepYQUq6AYAgpw02eOkXz+eIrL+NAYYG6G/j1b8OGDRs2bNiwcQQQTlEFL7/+hnZJG+zdtxe3tLlVic7SZUt1UhIn9NByx8lFxHDf2M33PvhAr7nFpVcIoCFlBLun773/PvVH4WSfutpFXxe1G9bXLmy9V70a3uz6Fvbt26fhSOiMtZWgtbX1TTdbcQgp4/hM7iykct11OM83wYpjWlu0bqVjXAnuGkV8+KG1Hmr9xo1Rp2EjSxo0VKkr55Ta9RpIeRsJKauvS0dxnCbXUj0cFi1eJoS0huThWiQnW5bjQ6Hr229L/qrira5dtXzGQsoJV8zbqDGj9Zpk8exzz0GTE07A/AXWUlzEJ59+prPaaSE1eiEh5QL25Qkpu91pIb3n3s662QDRf8AAHWv67PMvoNT30WCIrdVl30oJafku+6CNITqG9KFHH/ETUk44485TzPcPva11XGlV948hFfBozm3YsGHDhg0bNg6HKnXr1gPXIuV6owQtW/v279NtPTnxiNt0ZuXm4JPun6J33z7Iz89XK+H6Devx0quv6NaehnjQusrJSLzKzdvuXwz+kssuRZcXu6BPv74YMXoURo4Zg2EjRuCb77/DQ489ijPOOlP9kawVFhRqXMayWCDkx1gNr7n2Onzf8wekZ2aoH4J+koWA0sJIaylJ6dPPPq3WVbP4fM8feuKkU07GuedfiHNULvAdL8S5F1hynpyfeeY5QmyrKMHlOqhcRikjIwu//roIC0U/nHHO9U7nLZiPpcuX44svv0HdevUl7HkYPmK4kPdl4vdXLF68GAtFL1wGimNgOZxgyrSpOtb1pptv1glNRmfGQkqCbzBpymSdyNXmtnbI27lb3T7tLoS0ek18933PgwipsZCGBBBSWjlpIb278z3+dV0feeQRXUJr8BBrFj2fs8lD/t79aNnqJjRs1Ni/l72xcG4MDhVCejYeePBB8bdX3TiEgkSYqxRM9k0mozXXEFIjNmzYsGHDhg0bR4IqF1x8qS4RNO6nn9SBZCd/314dm3jSqadgpW8h9yMBxxDSUsaxqCHhoUJYquO000/DOt+yQIdC/wH9dV1TTsThEAHCECLO4L++hTVDPSjIIl0kivsP7Eexb+tPM2P9fZ8llLP1Ocue3ezscue411+XLNGZ4WvXrMOaNWuxZq0cA2T9+g348efxOO2MM3Dm2Wei1DeMoVevvhrnscgvM36R+Epx+ZVXKDHOycnxl88QUi6Cbygcl2R67Mmn1f3zL78Wv1588kkPndT01Vff+odFZGRm6ocDraGBY0jj4uOUkN517z3YKXFxJybO8m9y0kk6Dpdg+iYPO3bJ/RtaHtRlbwjlhiDOsj8b9wd02ZO0Nj2xmW6jmsYNBEhAxZ1hTLysRzYptWHDhg0bNmwcCao0atQYtRs0xNTpv/icoLPD299xBxo2aYIvv/1Wd2zi1qLcwYnHuXruE7k3c85c/C5kb+/+A5aFVHhIeEQEqlatrt29vy1a7Iu5YvQbOFDIaD1UqV4dYeHWjG3TnZySmoKbbrG6678X8nYoOF1uPPnss+rvwksuVlJNlN9n/XDguqjnX3ghzjjzDLWukmjNmjVLl0niUla0RrYTon5Hp45yzmtx7yRHve6A9j7htZ6LDjt37uxfOqrbe++iyQlNMWr0aP8EoK+//lrzPHxEmYWUCAoNxcmnnooaNWpi0dKl+KSHtWvVZ19+6ddNano6bm5zqw55WB+0Qd1IBkkq6ZcTjg4UFmHS5Mmq3xtatPAPzSBZNJbWnTt34aqrrxHCWz1g2SdLb1xvlDP/OZ6YQzmIufPmavxffPO1Xmt3vcQXSEDLX9uwYcOGDRs2bBwKwiuq4L4HH8J23+QXYu++/bjr7s5qOW3U9ESccsaZOKn5aThR5OTTTsdJIjy3js3FT1MhRm2U0BmQ5Dwg8TL+Cy+6BG+8+TYGDhqCWbPnYuasOfjll5kYNmwYnn/xRZx5nrXb0LNduiB/rzWO1BAaEkN2x/M+91h/+vnnMGToMMyZOx/TZ8zC7DnzMHDwEDz42GNocuJJQqqq6ZajJHzGSsfliEjiSJaNBc9IoCUvJIwzys9SEs0xpKVOh1phc3JzkJmTjYzsLBWecwa+ceOxIsnIzsT27dt1xQLaELko/smnNMejjz2h6RFcrmnIkCFISkryl5ngOM9lv6/AgIED1NocHReLEWNGISomWu/T3/6CQvy6ZDF+mjBeu+ZZFlpPd+7aqcthLVq6RPwB775nbTDQ47PPrIli4ki/hnRyia158rHxk4TZv3+/3jf3uMHAhIkTsGzFch2qwXx1efklXWA/Isr6eDDE1oYNGzZs2LBh46+gyiOPPKpLHBGGiHCs4H33369bh1avWQvVa9W2thCVcy5MT1F3ceMC7CQ7HCdqCIohMxzb+fDDj+p9CmeJN258ApqdeLJKrdq1/feeePopJXGEy23NTjfx7BBS9Mprr+r4TvqtU7c+TjrpVDRtdhKaNTtZr614quH1N9/Uca5KQH2ky8RTHqa85j4nT3E862lnnG5NahIyWlkwtsKHRN+XXX4lNm+2JocZayfB/FCOBMbCGoiKwuduz0OHjneqftZvsKyo1AvF+A8MY8hlRXERm7dt1TG2T8nzcridQlLL8k9UFMaGDRs2bNiwYeNwqMIJNwTHKZJMkJyRJKWkpeoySVzUPTEpCYmJFYncE+GWoLT+cSynmUFuiAnJ7cxZs/Do44/rOqbcg56E5oKLLsI1112Lx594HDNmzdSJVLoOKq2ZHosw0ZqnxFTcDhQU4JeZM3QLS259eeppzXHWOWerRZNx3vfAA1jx+0rtkva6PTrD3uNy63JUPBJmFQAjLKshrQQnS73x1ptCtp5GiRBSQ1YpDGtgykYExndY8aWxctVqnHBCM/Ttay1OT10FpuNPr1x4JZCSB94zYC6oLx3D6fNDfdGqbIjlkqVLceFFF+r2r2lp6epm4q8oHZM+wWv5z3+PcY4ZMwYnND0BEyZMUKuvicMg8NyGDRs2bNiwYeNIUIX/KWkTshHYpU1YZKeMAP0Z6JcEy5A8M/mG2F94QCfr7N6zBznbc3XB9j1783UWvYHD6UCJs1QJKYkVyQ2PRki8CooKNR7GwclKXCaJe7GbeLhAvyGiJKYSiR4NGTXguSkrhWXneFPGz4lS6kadiJhu7qOFCcO4eE7ZvScf3d59D998+73GTTfGTz8GJk+BafLcuAXGRx8un755bXTPI3WWlZ2FOfPmqvWXz0b1KPeNHwOGNeA9cwz0w679QYMGoWvXrtqVT/xV3diwYcOGDRs2bBhUMdZMCsmKITQWsaS1rVjOrYXgCePXCP3q0XddWmpIj3WP4ye5JFB5kOwaOJ0WSZLg6s5uYMZBIZin8qStIvC+W8io8c9jYD7LQ/2LHyNaBnGnf15b1ssykkeY+I5ESNAZ3oQz5XEIWc7P36vXgf4NmJ7xb9yZvj8PFJ+7yZvxz/ScDobncADLwmxAP/zwMPGacAbmOlCMG48UklLqhWA8VpoVPxeGs2HDhg0bNmzY+DNUUeLlI3tGSDKczlIhNiVKSEmBDLkwRCWQpHg8JLIkJiRCDO+U8BbRZfyGAFkkt4wAOhmOlklNT8gf3b0khmX5CEzHH5+EMbsYMU4jZvtSkmCzJiqthwSvGd7AxGvyYogVz018PKd11eMqI1wMFxjPn8IX1IRzu0kcrfAmXU0nIN4yv1beyt8z40d1GAH/0S/zz3sSv1c4KNMxwzCI8mU1BN/o1fgz941/c988CwNec2hAYFgbNmzYsGHDho2/gipKPHxCGAKkTMcnhyIcdCYBpZB5ud20StIiRzJkkdNA0mNA4km4hTk5XbS2MQ3xI2FIRklKDdExYuIhlLBq3pi+Rdx8F3qPd7Qc+sfYLSmP8vEHpkNC6vOk7gbG/xFBE7b8mnCW5djv7Hc3YmDOy9+nGEIqFyok4jzSVQmppkG/ZeENuTQSaEG2ovrj0YgBz42uGYchroEI9G/Dhg0bNmzYsHEk0DGkR4syomKTDxs2bNiwYcOGDRvHhr9ESG3YsGHDhg0bNmzYqCz4CamxepZZP/+IitwP5deGDRs2bNiwYcOGjSPBUVlIbfJpw4YNGzZs2LBho7KhhPRIiaZNSG3YsGHDhg0bNmxUNqqQZHKmtCGb5pzCGdVmdra5DvRr3KxF58vCBQr9B4axYcOGDRs2bNiwYSMQVczyP1ymyezUxGuzTiXPXb7F5gldN5QkVAimi37knNfGnyVlC6ab80CSKlTWJzZs2LBhw4YNGzb+69CF8Q1cXJTeZ9E0i8M7dV1RC6npadi5Zxe4wiehW45ylyWuHeom+Sxbk5LxMh4DQ0rp5pV0QDkKHExobdj458Guo38fbL3bsPHfg/27/9+gIh0fD71X4Z7yP4+fiGXLl1m7JClhtHZVopW0RI6//vYbXn3tVbRp2wYPPPAAXnz5JUz/ZbpGQAsp/XH7TyItLR39+g3Q/c7ffvsdDBs2wr/vuSG7XADfG0BWbdj4N8BuGP8+UPe2/m3YsGHj/y+qrFu/Ho0aNcY7776rlk6CDTtJJrFW7jdv3hxVqlQ5SE5pfip+/OkntZUaK2tISBju6NDpIH81atbCs8+9gKysLPVDv/Z7w4YNGzZs2LBh4+/F4T7kK/rQP54f/lWef6GLEsePP/0ETo9FQk0m0jPScUOrVnr/5Vdexm9LFmP2vLl4vssL6nbZVVdiW0qyhtmzdy8efOgRdT/l1NPQt38/vN2tG+rUqadun3/xpe59TgR25duw8W9A+R9u+WsblQdbr8cPpt7aOrbxT0VF9dOur38dh/q9G/eK5HihSo3adZQwftKjO5xua/92Y/FcsfJ3vffAo48I4cxXNyIjMxNXX3MNatauhaEjR6jb5ClTUb9BI5zQ9ESs+H2V7jVfIgR01OixGkejxidg3boN6pfW14oKeaRio3JQkW6N2DgyUFdmKIoOR/Hpz+oJsPVY2TiUvo3Y+Osor0tbn5WLivRrxMaRoSLdUUxbYOPoYXQYiPJ6DWxvjyeEK1ZBlWo18HH3T+ByWzPuicLiYrz30YdKJr/94Qd147hSTk4qKirC+++/r/defv1VvffhRx/rdde330WpwwW3r/s/MWkzbmxhWVlHjxmnhSJMAQ8lzEegBN4zyrLl6MQg0C1QrxXptrx/Ww4Wo5/y+jOrTJhrWypHqFO7PTh+Yuu18sQg0C1Qv+V1bBDoZkvFUl53pk0IdLPl6MXUP1M/jV75PuO58UMEnlcWqpx/8cVCSKvh08+665JOBDNQUFiIz776Eje1aYN5CxaoOwkpwfvjxo1Tkvn8Sy+q9bRjp06oXqM6pk77Re6rNzilEMSXX32tfu+6uzNyt+epW/lCBxZcj3LtdDmF3DpESvU+r+muYW05aqHejATqXisbz33CscSBYQLjsOVg4U/S6NPUYXOu16rLQPGF8x1tOZRYuvLryehVl6eTo9zXZep8eqU/PouD47DliMWnXyOmHVapyL8tfypaJ32i9VR0ybrrclsvd1OXA+u6XYePQKhH33vLnJMblH932XLk8sd6Sp26/DzM4RDu5dO3Af1XNqoMGzFcyeKn3T/VBAmH0yHixI4dO5CRkeHPiLlfUFiEN97saoX7/HMEh4XqJKcTTmyGjaHB6oeZdfoI7KhRo9Xv2eech6TNW9SN8ZkCsQvfxG3Dhg0bNmzYsGHjnwGSVvMhZbjbcSGkc+fNVbL42eefWV9tTNBtfXUY8JyEkRkgg+ZEprOEXNaoVQsTJk/BsuXL0aBBA1xw8UVI3LxZwyiB9c3Unyx+qleviRNPOgWxcZvUjfcDhfFv3boV4eHh4icOkdFRWL12DYYMHYqZs2chMioKUTExiBaJiolGVLQtRyvRPIoeIyMj9TwoKAgbN27Uc+o3QnQeERWpR+qfYXhePh5bAoT10ifUK49Gtxs2BiEmLvag+kq9qjCMicOWP4i/3lF3ItQZ62aknK8L2oD1ol+2BdQj74Xznq3Tvy6+ert+/XptE2JjY7U+R0REVOzfliMSrZuREVpXuWLNhmCr3mpdZp32iWkT7Dp8eFE9+dpZPUZGIUb0yfZgY0iIcgfTZhwURiQwHlvKxNIPj2XXRn+x8XFYt2E9snKylZAarkYcF0I6S8ieIaRMiAkGWix5HZhwcUkxXnjRmpl/zfU3YOfu3ZgwaaJe39iqJdIzM9Ufw5ilo5YsXaZktG69BggNi1C3wK1GmRaHA2zZsgVhYWHaMMZIgzhi9CiN9+7O90i4MP2xRlNR+sPlC8iWoxLfC0ZfMqLDefPmYf78+XoeTnfel8bTOlphzNGWikX1I8IPKaNbXs+eMxvz5s8rI00B/gP1a0vFUqYf6k5e2rxWtyjMom4XSL2VhpMve94LjxD92zr96+LT76xZs7BgwQJtg02drtC/LUckrJNsU1lXp02fpm0Cz8vu/VHKx2FLmYSLfsKFCwS2tdTnxCmTMVd0GxNr2ts/trmB8dhSJhXrxtJfnBBS8jvyMSKQD/K8slHll5kzlfR90v1THTPARHTyktOlhNLpKetKT01NxUuvvKz+mzZriklSCYixP1rjSa9vcSNS0tPUzVhbifUbgnD2Oeejdp16CNoYom6mYBS1ylZQuA1BGzTeru9207E1NioX/ADYtm2b78pGZSJxS5Ja/G1UPqjb5NQU35WNykRSUpK28zYqH3FxcUhJsevt8UCkfPhvS7aWoLRRuaC11CzvSRjedjxQZdbs2RYh7dEdLh9JdJSUwuu2LKXcvYlITNqC+x94UP3Wb9gAI0aO9FtAx4yzlnZqeVNrv4WUBNOQzOXLV+japFwWamNwqLoZEmpIK49MOzDcylWrNN6X33gdRaUl6mbuG6XYcuQSqDuC3XLx8fF6Xt6vLUco1Ken7NpM5GNX/aYEa3iKuWfX3WMXgl1K7JojzIB8W6/HJqZHjL0lpk0wbbItf12oQ6NbWpwTEhL03K6vf03MpBueU7dmonVIeBgS5GOKKB/GliOXwHrJc2JjSDA2bymb+2P8HA/4CenH3T+Fw/fD0T3quTe9bx/7UPkhtW59s/o7/cwzdUwn965n5SDYhVanXl1ccMnFSNpqZZxk1RTol19maHf9SSefiphYq7EjAgttlGDOidVrVmuar7z5BgpLitXN+LPl6MXAnG/atMnfQAb6MecVXdtysFjT7FVNeu2U34zcQUx83CEbSIPy7rYcWoy+iMiYKMRJ3a0I5cPZcuRCsKveEFKDivza8udSHoGEtCL/tvy5CBU6+NrHH4LDQ5FYQXtrEOhmy8FiUP7ar9uQEGz29fYZMsqPrEC/lYUqv8ycoaTPWhi/zFpZWmxZJDdv24pb27ZVPxdfejnWrtvgX2PU5VsmaunyZWh2YjOcctqpOrmAYMaNBXX0GMuCesZZZ/tf0ubrm0dTcFNYc+0npK+/jlKn9SVEa5SNv4byFSiQkNr4ixCVsr6aums0HBUbg02Jib4rG5UBU3+jaX326TawvShfv20cOYzuOEEkIaDeGt3aOHqUr5cc85hotwnHBPMLp04Df/shEeF+K56Nv47ANtSc00K6RXggYfQe6K8y4Sek3Xv08Hc38iGTKBYUFuPNru/o/UuuuAyc5U4wKySjtJAyY3l5eejQoQOqVquKGbNmqh/C7bLWWfvq2280jo5334WcvO16j6Z2Q0bLF85cr1plEdLXXn9Td32ycYwoV4fiEzZhUwUWUhtHDt83u1935hgVS9JkfXzZOEpQhRVURXbPE9FC9uMTy4ZD2Dh2+OttTLTU27I2wcaxgTo0egwkpIHuNo4c5dtaPyENF936VvixcZQ4RDU0ug0ODcGWcvMhjlfdrTJzlm+W/Rdfwum2LJomI7+vXIkqVavhxJNPwdy5c9WN+9GXlpQooeQ6o45Sy3L55ltvaTwffvKxlo+LqRIcU3pL2zZ675ue3yuxND9GpmMT0v8hytUhm5AeO2xCehxAFVZQFW1Cevzgr7c2Ia1UUIdGjzYhPXaUb2ttQloJOEQ1/FsIKS2aJH0fffKpdoubTHB70NffsBa//+jjT9TtcBj344+oW78ezjnvPF0TzGDo8GGo36ABGjRsgN9Xr1I3LQz/ybGighk3m5BWMsqp2iakxw6bkB4HUIUVVEWbkB4/+OutTUgrFdSh0aNNSI8d5dtam5BWAg5RDf8WQsoJSiR9H3/KSU1lE5Fyc3NxxZVX673b2rXHhx99hHfffw/vfvC+Je+9i27duul6gMxcdk4Obrujvfq/+vrr8NXXX+ODDz/EeRecr25vvPUm8vfm++M/XIHMPZuQVjLKqdwmpMcOm5AeB1CFFVRFm5AeP/jrrU1IKxXUodGjTUiPHeXbWpuQVgIOUQ3/FkI6dfo0JX09PvscJY4y0pecnIJzziWZrKb3DyWvC9E0mft1yWKcff55f/DT9ra2SE2z1rajX87QMoWtCCY+m5BWMsrVIZuQHjtsQnocQBVWUBVtQnr84K+3NiGtVFCHRo82IT12lG9rbUJaCThENfxbCCm34Xv0sccwb8EC/6x5jxx37NiJ0WPGoWfvvujdrz/6DRggx74YPHQIeg/oh+9690IvOTI8Z75zmSi+MLge2DPPP4ebbr0FLVq30jGlmVlZGq9Zr1GXDFCXimEKaxPSSkY5pduE9NhhE9LjAKqwgqpoE9LjB3+9tQlppYI6NHq0Cemxo3xbaxPSSsAhquHfQkj3FxzAvv37rd2ZhIhyMhIzouuISqIurkcq19yX3twjoeQSUVxz0U0Sy0X0uXaprwD7DxxA3s4d2L5jh3+5Jl1sn8RV/GhFCigQrwMLaM5tQlrJKFeHbEJ67LAJ6XEAVVhBVbQJ6fGDv97ahLRSQR0aPdqE9NhRvq01nMMmpMeAQ1RDo9v/KSENjJgZoFjLMVnW0j+DqRSUQ2WSSz8d7n55GH82Ia1klFO/TUiPHTYhPQ6gCiuoijYhPX7w19tyhNTW77EhUId/NyE16fHI97E5DxSzFGPg/aN5dx9vSC79eTF5I0hIk47HOqRMKsCQFigm7UDQPfBIBJ6XhWF8FK7HLpxL3K03SRlMGkY0HpHyaZT3Y9wJuvGZalqoaOc18SRiwpvnb8ISQRs3im4tsm/cGJ8GrGQoIaUQB2e0TAJR0X1KeRh3FuBQfg4F49cmpJWMco/AJqTHDqnhImW6M0ebkB4DqMIKqqJNSI8f/PXWJqSVikAd/hMIqXkfk3gY8sEje0RNfiwCY+XP+DH3/m5Irvx5Yb48kj/ieBFSowdC0xPheu2qI5+b8ROoK+PXhA080p/b7fSLyyXCsFo6ltECw1t+LdG5N1zbnX598avItcYvYuLnkWLiYBoeSUv9adx85uzh9uVTxMztYU+2piFCbAwu2zq0LPxxIqS+4z8KptA2Ia1klKs/NiE9dtiE9DiAKqygKtqE9PjBX29tQlqpCNTh301Ilbz4hISjsKhIyZXD6VBCqmuMi+ga43JNgmJIikVA/n6wrTWg/ky+jhchDSy7n7DJH4kchziaPBh9medqwplrCsEjdUwi6nCUih9Lx3weXAeebZxp5wjGYdLVzYSEkPLabCykQytJHiUMrym8Z9KnXwOSWZM3bgvPknDYJc/pj0MyHawHfP6+c24RH0RC6tsSnjBx82lUNmxC+l9CufpjE9Jjh/y8RQ5ucAibkB4DqMIKqqJNSI8f/PXWJqSVikAd/p2ElGmRRJCw6A6L8se5IX8GQ5YsAvL3g/k2elNiJHkjQsLC/WNIjW6PRg4F3jN6M7qj9khIA5fJFCf/pG3j38Rtzg14XVxSrGRS42RcQgKpaxOGMPEEHl0OK4zxZwinyZOJg34ZP0E3Tjp38yjuek/yzi3gGcZsBX8opKSmIisnW89Nuh4dxnBkwzqPBkdESE0m/lcwadmEtJJR7hHahPTYIT9LkTLdmaNNSI8BVGEFVdEmpMcP/nprE9JKRaAO/wkWUkNsmDInNA8cPAjvvPsuPvroY3Tv3gMffPiRnvM4aPAQf5cu5Z8AtrUGqkNfvkJFt8dlDKmA6VBvTNrBLnYhYhQSUloTaWGm0NKo+hKCRxJoyKJ5zia/SmadtEha1k43w/lIpoH6FTEEk0duVsTJ4SSatLIWFxejxLdrJq2ZtHYH+jeWUmO95bAACieiKxllPvXag8ysbH3e773/gW6E9KnUhU8+7Y4PPvgIzz7/HKZMmyocrMSXN5M/m5DaOBaUe4Q2IT122IT0OIAqrKAq2oT0+MFfb21CWqkI1OHfbSGlGDJKZOfm4pIrLtd3bEVy7XU3ym/OIrJ/R17Ly+EQHhWNLdu2+a4qHySZ7N42uSAhLXaUYN+B/UrsC4oKdUUhc19y7M839XeQVVPIqMvtFQJJYmrG71o69vsRAmn0TuK5b98+lYL9B7B3716V/fv36709e/bgQGGBWj0lgKZlPjx4VAJLUir5KnYIofURZ+2295HKiOgYnHfhxRXWA8orr72q6RlY+a38jxQ/IWXBD4XD3TseMOnZhLSSUe4x2oT02GET0uMAqrCCqmgT0uMHf721CWmlIlCHfzchJZSo+M6zt2/HDa1aomqNGqhdpx6qVa+pUqVqdX3vXn9DCw1XnpAe73wz/kOJ0+VQ6yCXmeSRFkK6bwgORmx8vJ6rxfAohDo5HBgnW3mCmwfNnjsHz73wPG5v3w43tLhRpYXo8e7O9+Db779DeGSEv/mi7gIJKREWFoann3kO993/IL7+5jsUFRvLo3WfR/onKSXmzZuHG2+8UaWFyPXXX4+WLVta1y1a4LrrrsM9nTtjs28mvD5jSZNlY1zpaWn4uEcPPPDY43jl9dex0mzhziEGHqtbPzp+Ey658iqLgFaT51+9hh7rNmiIqtWr4+VXXzmIkEpoifs4EtJ/EsyDsQlpJcP8SnywCemxwyakxwFUYQVV0Sakfwbqgi9Xviisl4VRJdVkqcp34hPzu6cFiIiMFkKaZNVbhzi55J5b/qyxczzSSiQvSi5Xw1m7Hr5o+RsIEF4zPhWJiC8+ky1xMEvdBIYpyzPD+PKn5jlGYIHRueVaQmt+3PIy1bx7SCqs9wODMQ2e0ArkT4s3+H7X+OhmhdWXMv+sgJoD051pXZk4LNG4jwKahi/uyMhIPyEtT/KOP5hWWV6InLztuL5lCyGg1VC9Vh2cec55uOKqa3DxJZfhvPMvxKOPP+lXP/NbEfibNGUxcfMYExeHAQMH4fueP6DfoEGIk3eNgXazH6bovGXi5JHEkwiPisTTzz+HTnffhc7334+Od92Jex+4H/c99CBubtMG7Tp1wr0PP4y75V6g3PPAA3847/zgg+r/wccew+p16zR+Q+QoPDfXPBI7d+/C8y+9iMaNG1vErQKpWbsWzj3/PHzX83uLEDJeWjslDkMwJ06ZLGTP2gGz7e23abyE0aFJk0di1NjRf0invJx00smIkt8uwXA6UcmX7+CQYFx4kWX9rFGnNgYNHVKmfq3nwLaUFNz/4AM4/8ILcNFll+FSIadnnHOu+K+r9eOV197Q9eUJ85yPB2xC+l9CuXpkE9JjhzQfIgc3xoRNSI8BVGEFVdEmpBYOVWa+WlxyiySC5/SmL3+SRh03RkJpiUuE104hc/L605cmyVm0vPQTE2Ks+HRWrpA98cGNUEhO+acTGtxyxhefuDHNikTJiohbskDx50v+eN8Z4JevTiMkmyS9Hm+phJP0mZ66WWWRjGmEXkbKFyrTkPy5XSQxIiyzHlluHkmcObbPSl+PWharfBQ6ivNBQt9epmWF8ol1h8/gSOpeoL/yhPR/C6tUgXnONYSUFjGR73r2QnZOLmLjNiFuUwKy5Fx1Rd1VkF/GZH6TvG/iZpfwyDFjcELTE1FDiG7t+vUx5qdxek/rWUAeKoLEpEfWx0AL5i+zZqLZqSdbJKy6ELoaliW3SlXfNa16VaqKyHk1WvhEaO0VQlWlhrH8yn1agVlmErTadTHu5581flNOCtMkgTQTg/J27MB9QtiqVJXw1ZiGRQSr16yhJJRHdfPdq1uvLgYOHMgKYNVNEY1byjZx6hTUFGJIf+3vaI8du3ZoGoFp82gI7PSZv+C0008TfTZFsxNPVqFuKSef0hxNmjTFVVddq+9y6pbjSXWTI3kOREhYKC6/4kpNr06D+hgyfJi6K+R3oktAid+09DTExsfpmqPbUtPQZ8BAVK9dR8O9KhzMJqQ2Ia1clKtHNiE9dvAlyVeZ0Z052oT0GEAVVlAVbUJ6MMxv1gitek6STD3ympSL9VNeiPLnEHfLTURe9iSV1rqGHhTzJSgkMCw6StoFH2lyl8p9oYbCRSwSxzRF5ETTE7ImZ/70SVTNufyTtEgqhQxKitYDFT8kinrui8uI34ekEyDMq0v+d6k1lASzREmikl25w5nilh+5IlllmiSr+kKXMkmESoolrhLxJSUCKTb98x7LRjk4VQkvYSjqye/Oc/nfd0/vHwGMv0BCeqRhKw9M7+A8H0RI5T07dpxFGgPBiTIkR4fKr8Yq98r7GTxsmJCyBhJvVVStWRMjx45WdyV4FUflh9YRX1yGpBEz5szGSac317zS0qdEVM6PTapijK/cJi2KIaQ8p4W2x+efqX8SyapCPpuf1hwPPvwQPvr4Y3z+5Rd4/c030KFTR9StXw/VfET5kssuRVRUlJbFdJ8Tk6ZNRR3xRz93dOwghHSnuhviWh7c9XLx0iVYtHgxfv1tEX77bQl+W2TJ4iXLMHfeAqxdtwElkkZF4E5LV159jaZXv1FDDB0x3HeHZeZHmTU+tjymz5rtrxs2IRXYhLSSUa4e2YT02MHXomjOrztztAnpMYAqrKAq2oS0Yli/XZ7Iy8xDax+JGa/1rvyRfMlLnRZEWj358qEfIXZup9A0F8fkWS+z6KgIv4XUAiPhS9KQsvIwCVUkDCdpedl209LEayPGT0VgOvRjUD7twLAkxbT0koTTEloKt6tEXrS0xAmhoIXXTSur5IHj5bTcItSHRsEjCZBJg+eWhSrwNx0oRwsT5h9LSGn1k/fs2B8tYkZyYkiZsdYdKr/lXc0yTCPHjEb9Bo0k3mpqIR01doy6E2rZPgwYpyFmTNd02c+eNxennXWm5rVewwa44uqr8OQzz+Dhxx/D7R3uwN33dsYTTz6Bhx95GA8FyCOPPoIHH3pIjo/iYTnn9aOPPYp777sXTz3zNFavWaPxm7KashsLZURUJK68yrIw0gJ6+plnYN78eXqvPHr2+gG1lCwLEa9eDZ998bm6c6wr4+Svceq0aahTr67GR0Javss+Uj4KRwuB/2n8zxj304/6XDjLfcKkifh5wkRMmjwVEydN8ctPP0/A5CnTMH7iBPz480/qn2HT0tM13rCIMFx1zbWaXl3RW6CFlPWeH5Z85vz4EAffHSHOU6YK+a6l4WxCKrAJaSWjXD2yCemxwyakxwFUYQVV8f8rITW/LSOVDUZJYU20bKHyUpU/awylvPyVgPEFb0iXObde+nJThO2rG1s2xwkpTURRIbB3P7B1WwmSUt1ITPEiLMaFVeuLsWIdj8CyVcAUeS9PmgNMnmudT5EjzyeL20SR0VOAoT+7MHyCByMnClERGTUJmDDb8q9+faLhRaZJuPmLvFi5DlgTBCxfDayW9GLk57QlDUhK8iIjE9gn78d9++QXaJk4BUa3JL/GjUSb5SzxFZ/K4ixjh/Bza7axpSf65fPx6cyHwz2uI3mWgc/8n9ll39IiWiKGkHJZIJfTWu+SCCxDeRhXQ1p1uIRgwJAhqFe/IapWq4Ga9eph+KiR6k7Qwm4CmrgD4+eZuTbkkCAhbX7G6WoZbdCooU4gIpjftevXITHJ0q1Z5siQSopxU+EORXLP7yZHpsdzups0zTOaPHUK6jWorySzRt06fgsj/Zc6SrWLnEcKQcJb1Wclvf+B+5WMMi3qhr0Y036ZXkZIhUgbQkowH599+YX/mfxVK3DjE5pg7jz5MQnYZX+Vz0Jar5yFlNp2ua01Sc0zNM9mgpDdanaXfVmB/9WE9KuvRPui/kPJ8UC5evRfI6SmjBXJX4VNSI8DqMIKHsm/iZCWdwuUQPjd5Y8vDHaLW+5GxN0tRNQt95R0GkvkwfEQjlKXkBAnohNdWLTKgxlLgD5jPfh2KPBZH6C7yKuf7MHLH+/Gx308eLdnCbp+W4S3e4r8UIC35PpNOX/j+wNyPIA3eu7D+wN34MNBlnw0eCc+pMj5B7weloMeY3Lx1fhd+GbCbnz+Yy6++HE7vpm4B5+OEn9DJNzQPDluV/loqIQR+XjYDrw7YKeksUvS2I03ftiN17/fgze/24+3vi3F29978Pa3Trz9TSk++B547xsvPvzOjY97Ad+OAnqPBn6aCcxZ7FFSu3kbsN3qFRVQL3yXCOMmSfWRc6Mtaycci9DSjUMbjK4NzDPyP5tDiIE5JyFN8k0Ys56lj8QF+D1+YBoHp1XeQjpm3Fh1J2Ezk3AMKasIjMsi81bdNMTRIeFeef01nblPQlq9Vi18/d23Vg5YXh37a+VDr31iUHZ2MCGdu2A+TvdZSBs2boQhw6Ti+pCZlYX8/Hzf1dGD6ZQnpCZPvfv2kXJYY1bPOu9c1ZsB/QSG4XHZ0qVo0LCh5vPGFjdiW2qyz69VNlo72bXP++0DuuwJxvHehx8cTEQDxqxawmsRHRMr+dLrg/02btLYb8XVLvurrlZ3WpaNhZT50edMQsqPVoGbZF30QEydPsM3LtcmpHr8TxPS8lIZKFePbEJaJn8VNiE9DqAKK3gk/x8JqalffFFRAuuJcSsvZWXikUJSQLHIk+VWHl44HUByshehUfIymVuKviPdeOtzB57/EHj4LS8eesOFp9/34OXPPXj920K80ydXCGUueozMRq9fkjFoQQa+HB+CwfNjMC0oFRPXxGNBTAp+jU3Ewpg4LN+SiA3Z27A+exPWZkUhOC8Gm4ujsbUkEluKLdlcZB23lkRhc2k4tjojkOyNQIo3HCmeUJEwuQ4Td/FbaiTCJxLWIdfOWETuj8L6rFCsy4rBhpwkrEpLwqL4TZKfTfhtUxLmRCRh4rpEjF+XjFHLUzFw/lYMmJOGr8em4YvRuXi3z3Z0/aEQXT4vwHPdS/D0RyV4+E03nn0P6PK+G917edRqO3+1BxuiS7C/oESNp2X6tnSsv255WetYO7XsHax/83wrFt63/BCBhNSQl4Of9/EE07DyZfAHC6lvLCWJGXEkeSMhNcTVhGP3b7sOd6Bq1RqoWcuysD3X5QUUFPIjoEwfBM+NGJjfOd0sHVnXtJCSkFYV0kVCd6OQ6cefeAJPPv0U7nvgfjz48IN48qkn8dgTj4u7yJNP6PGJJ59UefSxx7RL37g/+NCDeOa5Z7Fm7RpNK/CZGHJKKCGtXg3VatXEqWecjuztuepOf/TDsPTPI8eKLlq0CPUbcPxsFVx34w1I8FluaUGVkiohNRbS9qKnQELKOH4c/zOub9US1wmZveaG69GidSst6/Vy3rLVTWjRsrUQ3VZo0aI1brixpV7T/foW4kf8XXn11bitfTusWW+tHkAL6RU+Qqpd9iPKuuw9HJ4hH7K6qL5TiCk/RqRchE1IfTAFtgnpIeQwoOb4g+Ywfx2/ZV5maj2xrk2PVEJ8okicnpuulkDwOVjPwgWnCee00uB/OiGA5/8gWF1uVv0h9B0iR2rE4ZUfHe9pI1IKzi/mRA/ri93yf7SwCelxgPXA/oDjSkhNmhWI9XvhU+YYMHlp6Q1xYdq8p/7oUV3ln/wqfATGcuYe1UVwS52T5l4n1bCLzCX1juO31JOG0wgE/FXR3fp1cchn8QEvCvZ4sXOXB4mpLqwKcWPCHDd6jvDi3e+9uP/VUtz5YjHue7sET3xciDf67MMnI7LQb2YqRi/ZgmnrtmBhSDyWxyZg/bZEROTGI3pXlBDHaKS5I5GBYGxHJFanTEFI7lzsRjRyxC0XoSJhch6KbISIhCJLjhSeZyJCJFwlQ4+8jpD7PDLeCKRLeArvU3huhbH8lpdsCZcjR6a9Xfzl6HWkLy/Bcj9Y88Nr5oPn1rWk4Q5HmisSm/ZFIWpHAkIyN2Hl5gSsiIvD4o2JmLYiCSPnZuDrcTl4d+BedPliDx59by/uea0Ad75ciGc/dKjVdfgkL2YucyAk3oOsXC927PYif78LRSXcf5wWVAPfs9MWksv8aGWR5y3nJDgu8e9bkioqQghpYqycsW4IgfGNc9UwjIKNlRIEIUVyqfXOiFYNk9ZfR+DvZXtenq5Daqxx43xd9oaQ0O+hUjPx0K/OhJf6bi2VJR9FqSlCiq5SEmeIVwshSpt9OynpeGYfGI9Jj9Brpqvxsy23CB8xe948Hb9Ji27tuhbRrQwZPdayDDMfTItCoqkTsATaZS9EjlZSTqb69oeecPBHWQG4UH6nOztp2Rk3x6yyy97sqESNapd9XZ+F9I4OUrcsQmrS3i9xbNm6FalpaUjPzERaZoZu38kZ8GEREVi3fj3WbViP31etQnBoKOI2xavfNPGbkZUlflN0/OiBAotAbgwN8RPS+g0bYdiIsuET+kEhZeWzM4Tc6HvK9OlCSGmFrYrX3njLT0iPJw7Pbv4mGIX858aQSlmPSt591xewDNScpT1WLopcqaNFnfjT16Va5C92U6z/xW41ElZIn/p9R3EX5skZrFwmho2oSxpbmvpZgfn3z0JZ46bL0/gu+YMr5YuAf1IGD/chlqxzRrKS1L8IS6tWQ6LXvqNNSI8BVGEFj+Tvs5CWvajkP6teueVc6pblzj2taWEjmSBl5W/F50+7f/m7obDuiTgloJIatmkc41gsddCF4lIv9u0HMrZL/dkGrAjxYvoSoPePLnzYz4GuPR14uNtePPT+ATzdIx9v98vDNxMzMGxRImZFp+H3xHgkpYVjS24UUvbFILU4ClleEUQhTwhePtYL0dyAHQgSAhcs7kLgvKFIpQXTI+TRG4ulm37BmuQFQvrixS0CyR5aNnm/YmHYQEkT4niski6S4ZN0iTPdKyRWJM0T5ks30i+pXhEe9VryIPlNF39ZPsKaJ7JLypqHjUpus+RI8prplrIXxmDL9igkZcQhYusmLI2NwpR18Rg6Lxndh+bg1S/z8dSHRXjo3X14vocT3b5346vBHoyd5sHC34G1YR4hDg7sED5RUEgLmDxbbQ/Z6FAK5OCRdxfdgaDwSMRpjxTrjlO7xvWjRK5JVUrZtioh4MoEUjc4GczLesVPZ8vE4GvO/jICfy9/RkiJMt+HBv2TkBq/nIjTqEljPyGtUZML79fG9Bm/6H126RvLov93JfBf+86t0hohIfV12Ut+tcub3dO+vDMtzn5Xt4pEhyXwKESR4uvm5jqbP42foPHTymkso4HkjJOMLvPtaFW9di00btYUA4cOQWZONg7s34+CggIcELJGf11eelEnNelMe8nbhx9/pHGzG1zHrIqepuikpvoaXyAhZXqBuie4EP/S5cvwTrd3cFu723G55OOSyy7BRRdfhAtFrrrmarS7o73en//rr7pblIF5HhuFtF7mW/apUeMTMHKUNcFMmiJtr7TNknR161PfcyGmTp8mhNTSlU1IBf/5SU1S9r8kAqrQzzHLCX/yUg0RvykOCb5B9txP1/Ig//v0T9CfvC31a5/WRH7PO9VMyh8rv+T/aYS0DKZB0RLLC9/llhcEy6OLYvPHz+4lWq4CLR5HB+pH9enTmTnahPQYYD2yP+DvIqT6a5FqTlGrpZAEWti5MLxLzrX/gJVJssJ65vYWS60QVyEdFM74Vosn654WjOTTjew8DzZvcyIoApg014OeI51465tCPPtREV7+ogQvf7kfXX/IQ8+J2zHi162YGpyIlVtjkbgzGsn7NyGnOAF5rhjkOIOFbIYL2aRFMUwl00MrYoQc5VxIW5oQtTS3EEaRVDfJWzRShKymiqR45VzIXAZisCzxF6xLWSBh44XcGaLpI34VivFjSUUE82jlIEIaeH4E8dNfmuRby0v/FCGf6VLmNI+QdE+UDiFgvLTE0ipMsr5Lj2Fq9c3ybkSWQ/wXhWPz/miE5mzCb3ExmLRmKwbNzcWHw7fj+W/y8OyXQlQ/KMJrnzrxeR83RvzkxfxFTkTGurA1wyVEQ+qCPG0LXkRFBiMhIVprgEPaVH7gw2PVI36osH7Tgs7xwFKRtG7zj3FYYurPX0fg76WyCCnjJNlSK5sIdzEiQeTanLRk6qxzib97j+5C2oVcB+SBMHnyH/3nzIcRi5CaSU0kuhddcrEutUSixi7tVje11t2TuNh8ebntdnG/rb1IO7Rr30GPN918CzreeTcWL1mq6RlCyHNzrdZfKROXdqrGcaRCbkl82fV9zfXX4c6779IF+kkKz73gfL1P0sryXnDxhdgYHKx5J9Ej4ePznDR1KurUrZiQqj8hr8TWbdt0FQCOl6XfP5NGTZvgiaee1HVECaPloNAQXH7lVTqelxPNnnr6WYwd9yOGjxiFgYOGIirGWlWDz9CUn5iihNS2kPoV8p8npIEQPRytyO9IwJ+Ar5L5fmS05PClGBsXh02brBe7rino07sBry3iJvckHImpvGHlB8omQu7p4tg+z/8gBJbDlEEbNWn0uU6jlWlt+uXLVcrHcqjvo4fqln++NM3RJqTHAKqwggfydxHSst4DETm1qhB/Sz4iSqbK3xTP+eMQfwyh/vXMgwMFTiQJ+VwZ5MKUXz34crhXiKcDD7xagie6leDN7/Lx9Y/bMCkoHqtS4hCaHYWYPRFIdrIbm93jJJrstqbV0+rCziHxZPe5N1xIZqiQrGghXDFIcQvpcgmBExJmhN3yqXI/jX58RFQJpVoXJR03u9OjhZBOE0I6T+KOk3jCdeznH0looFQuGaUExlleUtRiW7Gk0ZIqOqGVlNdWGCHfIhlynusORpYnFBm0jlKEtGd4Nsh5ELJUN1HY5g2RcnNIQpDolu4bhahGiT74DDaIBKkFdnNhBOLyo7AmKxpzoxIxbOFWdB+5HS/02If73irEA+8dwNvfujB6OvDb7x4ER3mxfHUctqRa3dYWxbRqiVVFaF2nBY3ts9Qcq6qJ+NoWViXzTXMMCPy9VAYh1feJCEk0/bK7/vIrLWsiySilRi1uSVod55x7jnY7m3DMixHCf9T/CUsDlgRYSCVuElIuqcR95CncDpNjJQsKC7A7f88fZNee3dizN/8gN85up7t2WYuoBVPIIPPBoykb87Nj504dq8q0aTXkeNIy66u48Sjuuj4qy16/Hkb4VhYwlleOreW7YrIQPUNI7+hQtuyTpUfWC2DXrl146OGH1Y9Z1/TyK69ApzvvxAMPPKBy3733olOnTrjkkktQs6YvP+Kv83336QQvo8eQiDBcrl32kr+atXV92AYNGys5JdkcOsyada8fC5IHA7WQ1uAYUpuQ6tEmpIcBu+tFN0cs+qNmZfc1hKLimOitiJXGlGD3voFpJLRyypGLSevXvKtAPu3368vYKWJ9yfsC/YNg6g+h3ab+ay+KXQ4sSfBgcSKtV6xT8kVK0v0XC2IT0uMAqrCCx/H3EVLWI1rVi+RKWIH8FNzycebQLlfLj/W7shgDc7R/HxArj3/+MjeGT3WhWy9OrBEC2nUvHnl/Jz4fmokJi5KwIWOTEJ9oIZrsRudYyyi1YuaQeHK8pYfkSIgau9aFTCnpRIwIiVaIEMkgJVBpQrp4L10IZrpH4pD7tCimesPEX6hcs9vbciM5Yxd4BkWIG4UW0kzEYnnSdKxPnS/5iZewQuokXHlSGCjlyWRlSEXpHImoNTQgv9RJmhBvJeESb4rcS2b8Uk5ahalHq5s/RM6DhIxuFBFdeWOQKTpM93B8LQk+9cB4YoS0UzhGlmNZ+Wzi1aqaLmQ1VSRDzhOKE7AsNhlj52ShW888PPTmXjz0TiEe77oDn/bOx4RZXqwOKkVqmlvqEOsO/2NXK4/8sGEPlBx9Q6SscZR6qW0v67yRo0VgmGMlpIzLkChdw1IwfOQI1K9fXwhoNZx0yslqnQy0kvYb0N+ypkqY8uXwH/V/gvkwYgjpWRpP/YYNdHtO43djSLBO0iV0Tc0KhL9MWjsdLt8yR3JdVFKslktGxPSZL5aJa5/ySDf6J1LT03QBfF0CSvJg9FZeLrn0UgwaMkTDaHghehR+2DK/HJtpuuwDCakuC+XTS0REhJJ43QVKSOG999+HtAxrXdHy2Lx5M2655RYhpNWUFJ986ilYtmyZ7y4QLETddNmThFoTzaoqOaUbt3glNI8Bz94mpD6YimkT0qOA6OloJSM1HhnJlnmfb12qPfBHybpJN5285OEop0JpLovFkd0KJHq0nFoN0T8J+qOSjLMWKZmQo54LaVgQ4cQdPZ1o3ceBX2JIMph/loVBjr6RtwnpcQBVWMFjOK6E1KRZXuQ/LziOT+qK2zdRRcknX1LyW9DhK1b3+4ZIL6YsBHqPLMUH3x7AC18U49nPCvHaNznoPzETvwZvwZa9sSgQUrQfG8GxnLTApQoJoiV0i4tWPotMbiWRVKtdrHY1ZwhBylBLH4ml1eWcLn7ThTylY5MQp0SJJxbbhBSlCSlKFUkT4sRZ7bT8pQkBSycpFSGhskhV2eQjWhJJSJclCiFNmS+EOF7CkNj9kTD+U0V1IuUpc6MuWXarfKlyL4VlEjcOV0gR3SWLzqjDXOpRyHyGNx5Z3jhkuePFnfHRohys+twmxD2Z+pAwlGSSVnlOGSSuJMISf6p7k8QTpxZVjmHdLc93p9wLlQ+PvtNC8UavGLzybS6e6b4XL0v9+KSfGwPHuTFniVvXWd2lKxexbpGgsm0iSeEYfo6Bl3OSmnKk9Gh+A4F+j4aQmnSs94JF1MyRBJM+s7Ky0ILxSVycCX/p5ZdhxaqVaHXzTerGXY5OOa05In17rhNKZn1dxQb609N8Mn4SNOuesZAybpJcdtG/3e0dvPv+ezp7njPm337nbbzZ9a0/SFdx7/p2V7wlwmseu3aVaxEuVE8Cat57TNuQSJ7T3ZBS6n/ylCk6NvT2O9rjoksvwXkXXoCrr71Gd2764qsvEREZoX6NxZVxW+WxMJGz7CuwkPK5GgstV2SwdGZ1//fp21f9HApdXuyi/khiOX539uzZvju+rUPZZV+1GmrVrqtSvQaJrhX34KHW8lm63FfAc+DkK5uQCszDswnpX4Do66+I9YXrb36s/+Ugv0WglP85EJ0LLIziYsDSWErFdbjlRywva/rjM6tI/qeQ5EyDwj9aPlkq5r6guBQTg524e5ADbfoXo9MgF+4a6Mb4ECeKOclE/PvDHkXebUJ6HEAVVqD+40lI+RQrFKlDTk4UYDqaFNeuLEVRsQcbN3gx5mcvvurvxDvfluL170rxVr+9+HxcKobMTsRvETHYsj9OCGiUUFeO8+SMcCFFLnaRx2ObO1bIDsd4ColyChnykOj4yKabZEdIqIRN5mQecSNBZfd6uhAjkk36zVASxS7oUPFPEmoRVbUWylH967VFyCzhuY+siahVViQLcUJIZ/jGkG5SEmfdKyN9f5f4rZ56XZb3gyXAn+SduqOQWFp6JRkXXclz4KoCnNCVKfoh2U+XI3VMi3Ca6DPdY1mVk/kBIPc5DlfdhJxmsNufFlYhooxfhz0wDQlvkX0hp54QpMkHRrI7TIhsqJDSGGzIGI9N+bOlPkQjJCUG09ckoM8vaeg2NA8vfp+Plz4/gLe+KMH3Q7yYNhdI2CJtl/IDtmBCFnQsP9saixSqxU3qpZEjQaC/YyGkhryZ4779+/HKq6+impBFdtHXFPns66807NCRI9TSp4vFS1oPPfaodoEzLMV0jxOajjkKGXVzjUxaMAVz5i/AaWcKIa1RubPsn3zqKRQVFfnzw7wwT8XFxUomOUO+sLBQl60qknMDznwPCQ3F+qANiIqJxt69e313KkZmFmfBZ2LC9CmoW99aFqp8lz3TJbZt24bzzjtP/dSsVQtnCBF/652uGDpsKEaNHo1hI4fLcRSGDR+ON4VcNz/9NP9++pzwRKupAS2kV15zrRJSWkiff+FF3dnpx5/GSxzj5D2VqHXJTGoyz2IqCSmtrjYhtX4GNiE9eliNhuiPOhTdVYpIgxiT48Urk714sE8BJobQMipJ8AckX/Pcs1oXkGb6vle5/k8/lmOZ0J1fvb6vf7rRj+Zb0mHT6xuGp/+ZP8tBPfLGIcEGm7PmnS7fft5CBXL3OzB0mQsd+zlxy4BidBxcgof6udC+P9B2iAPDlrtxoFhSEf9GjhRWecvCmOOxElLLclss5RFdi1LYOOuJ1Vb8u0EVVvAIDCFl4x+faK2fezDkPuuW1n/+47MR/fFlLv/rszW/DVr2fdZx65lbzqx7VLF26fGCFVJnw7t0BvyCxQ6816MYT7/lxIufuPDJ0Ez0nZGG8au3YvnWOMQfEPKCUJ1ktFeID2d5s0ueXcXJJJEkSSQ3ShbZ7U7LGgmmz8KmZCraEnW3rJ0WkYxRdyVYSsBIJn0kSsNT2J0vcau7RZJoNbQsh2XETclbgB+6k5AuT/oFa1MXYDutrv57/z+FulFCqteBZacuwqTslrArX63Bcl91ovrltdGPfCiIXmktZXw6YUrC6LnGRb+WmOfAYQK65JU+T1qiY7EkcSbWpvyKHRLXLqkb+WpB5YSrKITlxWNe1CaMWx6LPpOy8V7vfDz5rgOPvQl80d+FkEgHvA5WRhoBSqX6yjnH9AtjpQXVKbXWmqGvtVeO7P1hpZZLqef0wdrOGOhM5JKQtm7lH3tYESElGA/dyh/1PSMoFpLWvcfnqF27NqpXrylxVUXrm2/R+Il8IWqPP/mkpqGkSdL76JOPJb9CRkU0nwIeVeTcyoOkQ4IkQsyYPRsnNT/Visc3hpNjNnWMqpBdDgvgOWfgs1ud40xrCXHlBKtqtWqgqtyjVKlZXY5WPhjXq6+/jlIf0SQx052qfGkeDXK3b0dKWiqWr1iOiZMnoU//fvikR3c8/dyzePSJx9Hiplb4XEj66J/G6U5TTLtDxw7Ylb9Hw7N942x3tj0kwtOmT8MJTU9Qf0ZYPpJxlo1lNCTUHE88qRkmTpyo+qNuidCIcFzh26mpYaMmGPfTT+oeCJbX6XIeZK22Ztnbk5r8FdQmpH8BojvWQ2uZGash8qIIEWHAG++LXkWfxyqdhrgwYm0JirXCS+XlUdtBPjc2e+zet77gea0NjPyn5JXdn/K/v7tf3K1GqETkgIjk12qLFLxn7ZaiHi05DLTbQyLgj4rWBXZ07Xe40PvXItzTz4FOQkg7DPfgjkEH0HFQAdr0LsLIFU6Uao+Mr0H8kzQCwXIy9yaMOR4rIVX9eElI+Rx919TtkWft/y9YxgrKGWgh3VQRIeVtVjStL3Lgb0D1xj9Lhw5PqX+pLx03LX49Tt84aa277IJnYHnRSpOzPd+BqXNceP1TLzq94MFTn5ag59RM/BIai5XpcYjYFydEZTNyhWTkgksLhSDTG2bN6KYVjUTHR0oCxZp0Q5FrJT2BEuhWnkgZ98oXkqZ/EyGtPPnretePBA9n78dgheh2XdpCOY8TN6kXJLYeTpYK14lTnLDG9Vm3CiEO2R2NpYmb8PO6JHQbmIsH3nTijpc86P6DC2s3uLBHuIEaDtWEyu59thO08Alh9bX7Ln6cSVXmEmTcJtX8HqwhAV5sz8vG9S1JSC0ycygLKdu08tZM087tyd+Ld7q9h7p166FGzVo6k7vJCc0w/ZeZep/d3sTatWtx1tlnazokT3Xq1gW720sc8nv0WUAJxs2tOM1vnQu1W0MCgN9Xr0LrW27GmWefhQsuvgjnX3iBCmfbc31Sdp2fIoSVxFTTENLGcawcOsAlks698Hz1Q+EMeM6KP+ucs7Wb3aRhxprm7dyBJ595Gq1atcKtt96Ktm3b6jhNijlv06aNCu+3vqm1rr3KZZiYl6Ynnagz8c2MeyOPP/0URo0bq93qvOZe9nm7dlp6FuHQAC7dRDLJc+6yxAX9OWaWVmZDvtWqLYSa53Tn/ccffxTBwUEHPT8ilAvjX22tQ9qgUWMd52ughJ/toTxX6uAPhNTusrd+AIRNSI8etAlaFlL5WXFwvNQtvmodUvEKCr3YsdONlAwP1oRIQyG6PRYJv/0tbN3sQVqOB7v3c/A302fjwkaIldqcS37k0hr7xMZMLlWEDOg1L6wGVTLvE5ZBhKH1SPLL9fgOXw/UOsrJSi6HNGZyKNWEsaPEjb5LinF3vwPo1LMEbQaU4tbBJRizvBT5xcynlQ8jR4rjQUgZhRZfzi09sVy0cJDQ/wfAglPKwbykYuJi/cuVHQw+CzaoxfLylHrni0cev1Qf0Ry7PEWZtKLzI8chYn0uWXXUIcR09x4vouJdmDzfha5fl6DDc0V49MMDGDgnC6u3xiJmFy2dcULY4kVoXdsohNQilylOdu+yK1cIpFo5aW2zCGl5KZsFfnxJ5tGITUiPh9D6ysX9Ld2SkOZK/eEQAVpauTpCmq6QQIsuLeD8wCExDUKeNxg73ZHILIpEVFYcZoRuwedjd+Hht0pw3wsufDHEiV/XlSJpmwcH8tl2snVgZXdJVeekHLap/DA3H1/SIJr2VrB9+3bc0EIIaRVrFndFhFTbaLlmGNOdTJC4hIdH4JFHH0P16lxn1NomlMcvv/pa3tf8TckvSwipITlDhw/TPdbVYilEissoceH4rcnb/GnyaNKj8JzWu1JnKfYXFqgVMj0zAxmZmbpdKCca5eTk6G5LbBc4NlQJqY+ocawnw3B8a3amSFY2sswxIxMZaenWjHSWT9OhMQWaxnlcxkn08peE1leSRh9xNO7Pv/QiRowZ7beQci97zvQnrJ2c/ojC4iJkZWdh7vx56HhnJ9SScpFs0xJM/S38daEuhG9INUEyy+dFCQ4J0y57pkdCOmyERUhVx9S3HGkd1XVxxT/diSm2hdSCUYhNSI8eUr2sE61s0giJKq0vZq7ByQprqrwXW7ZuQkJCPEpL5EtXCGVIuBtTZwB9Bokf0ftfleUrvbrETW6ekL18DkFlmky7LG8WObDOrTFRbETlC1yu2WVhrRXKH4c0TrykSDDTTVQRWG+cbIQtj/pD46kyUxRjt8ONMWtceKAf0Lm/Bz9vdGBf0QHJlTSYvvCm7h0pKpuQMrw2yL5ylBWX5eGnxV/L5/8rsGgVFC+QkBoLqdGDpTcSTV7xhSZ1h8rTuiP3uFsOSb1T9Kj1gTPm5aUtL6GsjGLd83zAOBde+tyBzm8fwEvf5mH4/M0Iy9qCnYVxyPMEC0ngzOpwZHP5IMd65Og4Q2vCC62emUJCtXuek5R0cpFvQtEfSEoZUa3o3t8lNiE9HmIRUlpIAwlpmts3OY1CP34rrLW6AklqsosfNhwqwFUXuMj/eux0rkXK3nAsjE5Cjx9z8fAHRXisWyk+lg/sSQudiNnkxN697H4meeQQKCGEJKc+F36AOTj0R5Cbl4uWLW6UJvvQXfb6U9TfluXG8ZwkgV989ZVaJ0m42IVMkskjF2jn8kqWX6sNM0fKl19+pUsUVfXNIGe6F1x0IXr37Y3NW82SWFZYWkqPFFy+cOeunfjy6680L5z4RGLaq3dvn48jB8ucnpGBc8+3xnBWJNp1ziEB9esebAWVtHkk4a4jhLFR40Y6kevCSy/BVddeg2GjRmLClMlo6COk7e9o7x9DyvceSR+3EqUbhZbavfv26RjXfXLkKgUkoyxjk6YnoP/AAcjLy9MxuVxyixOY5sybK6RzOLr3+Azf9+yFWXPno+XNt2h63Klp6HBrmSc+U33XyB+HKZhrgynTp/rKYxNSPdqE9OhhERi+haWaCRH0ei1rJbfHdMoLmHY28x0dw4Xxk6x14UwDZt0R+igR5e0S0rrZi77jJVJ5Dn9Ffr/mXfQf7cX0hSU6CzlpG5Czyxp36mvuRJiuNFqSR87e1xn8kg2Xi8TMVxb5sZI8KMk4DLTqkADLP480xA4pPzXgKuFQAQ+K5Stw2kY3ZkeRIlsTVDT5w0d7SEhORZg/KwJz/OuElP+RjBfrRDN2t3E8GK0fHNPI4pvG/V8L1YF1GohDEVIKG1JaONg1aX3gUF+sO6xHXhSXyH1tbFkb3NpTsDYIGDQWeOa9IjzywR682S8L41akIWh7go7x5NI+uUIGUoQMZAqhyPZyAlGQWrDSkSSEklZQTkSySAMnzKRyHUshpNbYw4rJKMUmpP8F4fOXZ/wHQhovhFPqi9Qxa4wr60G41Bn5gOEwDjlPFvdUqVe6NJV+5HC1hVjxy+e0BruwGrulPm7bm4ClcZsxYHY6Xvs6D0++cwDvfAf8OEt+J4lCRJXUWb8bNiPsNfN6rfGS27fn4YYbbxZS+edd9nTLzs7GD71+wJVXXWWRSR/p48zuOnXq4LPPP9fJP4R27wt59YvPusp4vvjiC9SqJeGFzDIedq/zeNW1V2PsTz8q8SL4zuci77Hye+e48ajoaMRIu8r1s+NEYmJj9EiZM3euWklfeuVlf5zMW7f33sWmhE0aJlriYdsRJeF4pFuMSKzEGREVqfEnbd4Mp7wjaLV8oUsX3HzrLbrYPvecN4vu83jaGafrONZqQq5PPfMM3buf40Qfe+pJvPDyi3jvww+UDE+aPAmLlizWrndOaKJRYbIQUt1pSnTeoVNHJZ0Edda3fz/cdc/d6Hzfvbj/wQf0+IAcuezTQ488jGuvv07LR0JMK+vFQnRvkI+Kyy6/DOecdy5OFfLbQEhwbd2atCpOO+ts9Bs0GHfceZemV7+BENJhw+S5Ws/UPOuK3ieTp5GQ2hZSv3JsQnr0sBoQWoisr0uPEBvdgo7tAd/PviNJWEJCok4OYRi3WftO2ZlAn4HlsUBe8pM2lqBDPyfa9zmAj6fuQe4TR7kOajnpOciLqbO9+G0ZEJ/kQaE+X8tqRTBl0/3P8aVujwMuaVy5/uPhoCRcftjW1o0SRsIWyrk4gbujwMUfFYm5B6XUExNiY1nBD/JIIKmIlBFEc/wrhJRhVUTf1DufBM9cTnmGLpJxHqyGxKTzrwSLVkHxDCG1ZtmXJ6Q8usRPkTxOS1f8HbhoBdU6RW16EJ0IDB7nxUufeHDf2/vxWr9M/Lw2Awn7Q5HhiRAiRuJpLYdkzcime5BItBCDCGzDOiWoqULYkoXAcdF1Lq3E2fI6AYlHJahJIjEWIfkDUflnik1IK190QllFhJTrxXL1A/FjTaSyiKh+2Aj5zGC3vtQjtbxzXDJn7TuFmAopTZG4kj0i7mi12G/HeolzIzjrf1nyFnw9KRdPfrYbj7zrQPdeXixY5sHO3WzoCB6tNj43Zzuua30dqtS0rHuHIqQGG4KCdMwl/ZKMcRknnp/QtCn6DewPh2/bSqfj4PUsDUi4CH4o/tC7l389T1oSa5Dgyvkpp5/m3/M+OzcH9z30IE4/+ywd70nCRatl+SOFs9B5PPHkk5SIkrDxyDGkHD96jtw7W+QsioSjnM0xpD53LtrPsnEpqSwh3iw3Z83v3bcXe/Lzkb/XEpIyDgEgOTRd8S8KCS4oLtLxsDom1mW9ew+FWbNn+VcJYJc9LaJEUWkx7hYySneNm1K9mn8CF62iZmwsdWfKaYYGmKEQVavLB4ZvXHDzM89Cr379ywhpgIXUajf/+JwMbELqg3nZ2oT0L0BewvzBc2tDfo1Zk2MoNMnTaiQNghAzr7y0N8XHyNejtW2YmzswyUud3QY6w1jcnEJ+nEruSIs8mB3mwAfzHdi0V2mST3wve3lOlSHxnd7G0lVubNlqzWq2GlD+wHmkME3WDx95KydwsVvbmnDlcYh/+TrndCnLWuaRxqJIyYrqhsqQf7o3v8Z99PjLhFT9WX4NGNYMSSh1upG7qxiFtBJT//K8SEa5cgAbkYoaEl/S///xR9UojHE80EJq/Fll9+mGVUSfJ9cJLcaufDcWy4fPp309ePzdAjz5yS4MmpGD8B0x8jK3duJJFzKma3q6I5HhDJVjsJACkgkhB1zWh5NQ5DwdCSIkG0EiJKE8pz+SB2uGu1q9hJhaJKNsxnugBJKWf4rYhLTyJZCQco3XdakLVbeWhZx+2C3vE0RL3aBlNETDMDzrED90uDECP3C0e18+gKyVFkKtdWa5XBiXBuN4VFco9knd3CP+fo3chPf75uLh9w7guU9KMfBHICRWfhEO60ezewfHkLb0E6sKCal4DWzf+vTrq2MYlTSJ0FpK6yRBfwzLnq783Xswa85sjJ80ETOFgHG8KmHiZmzcyegy3x7xJFQkV5zwY8ZCstv86uuFMMt9kl/eryaEjASNS0hReG12SOI580YLIkkbLYg8VyLnC8Mdlkh+6dcvdBNhHmhh5HJOBsxv+QXjOSP/scceRVXdH78KuMYpYQ0RkzZa/HNv+/DICKzbsEFkHdauX6fLQ3Er0e9/6Om3kNLyun2ntRoB30md7upk6UPybPSiEnDO4QjmmfndzbkKLdf10OTEk4XQP4zxk6fgpjZt9R4tp2bdUUKfF4+SNvNunjNhTWr6GwhpYCaOBuULcCgcqT8D4/e/TEhZTVhJtLbww9LrlOtiuTR6lCPd5S1tzV1nV4y4+SsWrUVlPyJ6FoomFVDi9Z3HJWxGQnySxMTwQnggPzwhrhxjRCJrEUEnHEKGuCc3c5WjZJTxMh8OIbGlcCjLNW70x6MLxa/ID1WeX2XI0lVexMYVIiddckmeoXlgXpgW4SUX1fzTSkbixuVFvS7OCmXXtzUhyCneOabWJeWj7ZVuHFelQwPIeBidCgMHXh8sPAg/lLBMj36pd4mJp3IvJi4KiQkWadIfOwmxJEa904P8ryrjDlhcmop54PhZxuiUD4YpGx14Y3wJfovhQHc+e0mpRJ6dEGw+38AG0oAWwcOBsVvCvLLkrCcc33X4cP9LaN2V7OiRWmHdYn7l2bhcVnd7bEwikpKsSU1am+V5cykcls3SrOjQ40BonAf9fgJe+xh4sVsRuvbNwYLgRGyXF/geIZO0gqY64+VFvl6IALtGuVi6NZ7PIgy+bSkRJ0ICwPF+XAKI51zLkoSDRIKEgjPqSSZ8JETuW8sw/ZGMUgJJyz9FbEJa2cJ6YXXZc1ITCela3y5YZrUFazITP4isesS6wWWoTB3hxw13h9KPHalbXA81kx9N8oGkO23Jdaqb9ZZuEo+Q0hSPiDMSO7EeBQhGVF4Chs9Oxlu9cvD4h/vx1tfAjIVARHw2rr3xMmleLSIz5icfIZU2hm0Vf0r8fbFd9LLhlFOOZ7z3kUdx8mknyXv5Ne1C1zD6+7TaJiI2JlbXDOWOTc1PPx2/LV6k7rSSqujvGgiPCMc773bT3Z1eee01HCjkXAcLySkpOpve5O9/Idw3PjUtTdPnkCklbCplbW5BQSEee/wJKZtlhXyj65uiIrZXDGOR6XVCQK+7/gZccOEFuPCii/2rAXB2P7v7SZgZlpOUaHE1evv8i8/R8ubWIjehbft2uKVtG7S5rS1uadMGN3GG/+23yfmtuOnWW/TeY08+gVfkOTz17DP45ttvMXrMGEycOAm/zJype/RvEx1yrdSrrr1e0+OkptFjx2hetY3VfAsvMOe+fBDcUeofO8ven/mADFeEQH+H83sk9/6rhJTFd0kDYH21yIuWJh/5AVtry5HVkFLSmikeea5rbvL+oXVKeIX4qFVQzkhCYmNjhDSxe8Qaf8fdaIppWeUXtNON/JJi7C6k3kkNAq2ITuw8UIKxazxYl2KRVh04Lz/YYome4zah23IyPyaMlEGe5bHK3Au64vUP3ejd34txU1xYt9qFzCySaeaDBJXHIpZQLaMkc8IGUSwNCqmfkhySe8mrjskUdzWpsbFhVlWFDCe6lz+STkvbcsJ7qmOmQ30IjSfx1xt8VqIl+brnFccnJcTHyxl98+OgVEiSECf6l/R10X42crRWC9nX/fQln/udJRi+ukAX7b/hh1I8NLAAsyJcKGFdkHxa/pgNplIeRtcVg40Ohc/aGtZhia/Q/wiwXBZJLssjdcbicu1FPpfQuEj/NoFmnDSXhyE4hG3Wci+6fO7F0+8W4b0B2zF0cTI2pHFpnfXyCwhCticGm93sSg9Fuosvena1CwlQEvpHObjb3ZyTQBi3iuTP7v/zxCaklS0HE1JLt/OEkLI7npZTDgupKNyhhTtNBcpBdZVE1ueezBn8LolfiOtucefmDJmucCwKi0avCdl4s89ePNbtAC64diAaNbFmk48aYxFSp7cEDg53kt8e20e2gXDKu4OWQjmNTIlEUOgGFO2zxouSiJJkKnnztUvcaah+kyYab0MhQTNnzVJ344fi8M3Ep0V0zZo1fiuqy9pPVfdz//zLL3QPee7C9Nzzz+Oll17EM0K+nnrmaTz3wvPq/sKLXXSMJXdKelruPe9z5znv0d+zzz+H57u8YMUj13SnmxEr/ufApag4mYil4NJL+p6Qd6Fbe6gsEl1YVIyHH3lMF5pn+Tizn6BuzNqfv/220LdFJ4lugDWTUs0ae8vzjp06Yvfu3X6ivnPnTmxO3obErVuwLTVFCGWyWoopGSJpWZlITk9T2Sr3d+zZjSJHKfIPaHdihSiSRnHhokUYMXYcxk+c7J88xrIxTbb/1nvgYCghVdL9/6zLvqKXo6l0h8KR3PvPWkil+Pwio1XPKUIrGidmyHuZN5SYkFwJfZRrqVCsU1KfPE5pICqoWAYkRqRLJEckagkJSYgzpEnaAH4Zc1IIkbITeH+WB4OXFWN/gUX2mCYJ3849Lnw014FbBrrwzBgvNm5mmrT9SdySb11uSio6SWwp1xaVyLXLnORQ46BY6bCsjlIPduU7sadL5VlUD+yXtKUR9TpEJySbmp5PUdSR1DHloiLUr1CastzRXb2xPLROWlRWda7Pg5Y78cAfs3jmDG79cdM/G3H5i4pJwKbErUxNvPGBsnErEZ4uz1T+3NLoW/Fz3UCJRzzuLSrFkDUudBrgws39C9FpVBHu6FUs1w6MXuPAHmm4S6lHRlfh74epHRosNgmwIbXMPo8VxfR3QcslwjpOa4MSaNY90Z9O8pKXQ5S87KKE8FsB+NS4SgQwbb4b97/uxn3v78Kw2RmYFbQZQbs5zm6dSAQyPcHIcXP8ZzS2yTUnKWW6uX2k1T36XxebkFa2VD4hPZwc/PHEtDl0xEojW/LAZcp2yEdYpkj0rk2YvDIKbR+ZgtOvXYkmF43AuJ9Wyge1/KT44SttncNVKqS0RNpwtlcc6iQtoK873UDbe/5e+bsNQFRUJJqefIo0xVXQ7KSTdeY3Ud4v281AaDsqv3M2SjwvKCrEnr17dXH9vXv36bhOPd+3F/v378fe/ft0WaSg4I1qrWVXeb64kVRytj9J1IGCAvXDuA5Q5JqWXobVo0i+xLdX4qOFVhenp0gm1HLIMorQjSgoLMYjjz2hZaO88tqr6h6IJUsW44SmJ+pSWDVqWcMGKGbClbGQ6ix7IaHUiUUO/4jU9FTExschdtMmxCcm6sd40pYtSEhKFLd4nfAVLWXnuzwyKkonUHGSFocM8BgWHq5DyGLiE8RPAnYJASaYnjU8gs/kj++Ov4WQVlSZjgZ/Ft7cP5o0jN//cpe9V79Q2REvFYedy9JI0PDo9RSBTUTYNg9WxzuEkgopFVJDXkqyJJq2IgiA0b+OQZSmhpXPIz/6yIQoRG21LE3koV4hK9wacfM+F7rNEcLZ14F2g4oxYqkDe2n6lLTSDwgZneXE7X2L0a5/kRydeHCMByvji60vWx9509F7uhCoROzkDH+JWaLnfuBwFVh5EJ8WmC6F19Z5KdcPlWdf2VL6Vjdp6CQJRWC6/FpnLq1uJ1ZBPbI0bKD5tSzXltVa7kkQj5SXeuSQACV5JJgufiR4ER8njUYSyb64O6SstGR7aKEWIkpSqOxQ4pJGoUB0zmESS6JdaN+nCG37OHHnYCGkA0tw3yAXbu/lwT2DHfg9jkMqrBmy5jdyMP7YqARC88dxDPwn+WcUOkmqwrj+HjArlj6lrKpzuRZHl7sYTkeBeHBga2w00hJT9eWYvcuFH39x4P5XivBEtwP4ccEWBO8KQciBMHz6+0a8tigMQfnhyHNvRI43Tkgpu98jsMUbghxPjLjFCDkt6yL9L4tNSCtb/reE1IgZAmANA7CIarKQ0xTvJmyTvGRgPfbJvW171+O2R25H/fMuwRmtPsL1D2Xilc8gBIZd89pii0hDIW0XPwpL2H6x/dBmXT6OhaRahFR/ugeBFtIThIjy/X1iACElydR3kbab0iZK+8drnhsh6G4W1T8cikuKlaAuWrwIw4YP03GPn/bojhdffkmPI0ePwtz583UHpe078pSUBoJGFP4Fwmr35WhdWte+PBLcPvSZF7qgVu06ulrABx99qO6EIZXbtm3FBx9+hBde6qIz/19743Ud4vCqCLvpzaSm9u3bYceOHf40CHMkIqOjtGuek7VOPq25dvdznCsX3+cmALzmhC5uHXqqXJ/K+zyXIyeI8dhc/HJi2KnNT8d5F1yIsT+OU0uuKZO1c+LBOiD+sRbSwIdhEKg0A7oFSiAqcjsUjL//roWURIVjHoVACsmklc5bIvoXd6e7EOsTHLhngBsPDHNhYwIbDlr35Ed+CPX6dc9BlqBpX0ijnG7aHInEJGsMUIkSAC82Z3jwztQSdByyH+37FeNuIaW3DXRgxOoSRCe78M6kIrTu78TdQpbulWPHgUVo11f8Di3CkkTrxyiJYU2SF70Xu7BNJxBKHsWtSG5z9zu1OArhtqxbVr1Sy6L4YZlpDWNjqN3t+kOhCFHs1u0PBLMypOSNbigpkHyQ/bABlrSspsqiqSTrdNJnQvJPXYrIr0JEGmVaTMULJ1DBKfp1kpDGIio+BgUOWvg4mUp80yrKiFh2ScvJ35RTnh0bX4knr6AIPRd40K636Ly/Q56BGx16l+DOQaWiy2L5spd0JB4reU2xHCxdVgjx79FBtiyPED3mlfVAysTn8U8By8V64FRdl+i6oS756ZO4w22R8YiYaMyfH4Npc4AH3irB/R/nY2LQNqQVxeCAkM01u6Lx8tL16DhpMe6ZEounpofg9x1cvmk1kt3B1ssZ0cjmXubeYD0v/1L/L4pNSCtb/reENJCEGikbsyz5cIUhwxWjE6wyEYao3Wtx+/1CSJs1RsPT66D/5EEYtaAU7V8oxkufAAtXcP91/iitNpHj8jl0SIkoiWSJ9V7R36y0ZYFtEpdQOuFki5CedPIpmDtvnrobP/RP6xyvSeLM+FO9JkmSltJcK2kSMQSVbunp6Rg7dqwuiURSVr9RQ90mlJZHWiBpjeREJRI/zkhv1KgRzjznbHS+tzNGjhmFrSnbNA2CPVQmrcB8GCGYvq6P7UN4dAyGjxqjE4TWbVivboZkazzSfrFHhwvUlzhLUSpl5X0uKTVj5izdWYm66dChg3bZ854hs8wWjQcErZtnnXuO+j0m0bGg1XTjghEjR2rczCsT07+Ashn8v+2yP1IEPuDDwfj571pIWUVIMuVHSzYkvIyWuL1C4KZudOPx4W7cPnAfWvdz4vGhxVgVLw2E9ROWv4NhdG5VOC9is91I3EMyAmyNSkRc4mY6yz8n9hR78MZ4D274vhgP9vXi/j5Ap4HFaNdvD9r3LsXbE0vQdbwLreX8tqEleFAI6/1CStv2duKuAQWYEWeR47BkB54dU4obv3Hi7VmSzh4SUnl+UhaH5IOEk2P/pCUQdwoP0hCwrCR3tKIKaWNDwZVEdEA9l68Sj2tj3XhhjKQ5qBjfLS/B7n0lyCv0YHaQeJS6UunCzKlQf6yDXH6KjSnL4RC9cuFpIXbUsRAmWrHpd318HD4YsQVfL3MglhPBWKfF375iL4K2uVBQzIK5pHEvkaIK8WIDJGR3v3zAD10iZLR/Ka7v6cGdg0vxY4g0aDqprMiKRoV5Ko8/NiqBYBJqJRcSLDFIg0T6z7pg1Yd/Algu2th1tQeOGWU90C8tawpacATw/tcFaNclD499sQM/L9+M7NJYIaJCMj3rsDAzEq/OicTtE0Nw94wN6DglDB1+CcGzc0IxKzUa25wxQrw4Fo/dmaFyHgHuKR/4Ev+vik1IK1v+DkJqPq7YdU/hJKko+fDitrYbsc0bi62eeOQhCVt2rcNt97VCg+aN0eC0ahg7c7D8wlIRsiMc/Wdl49G39+HVT9wYN9OJzExaFq02sNBdiBJpj+Tnqb/X8kJEk5D6LKSBXfYWCbKOJGCBRyPWUB3fuRA5HpUoyh+74bnj0zXXX+dfKork05oNXgER84l2lXMmvZzTP2f3jx03TocAMM9Mp3x+CN7jOYdocc9+ks/fli7FhuAQbN9pLWhPGH/qV/LulBeX9oL5QK34OKZuq+qfZX9He7+F1ISnRxoNiOiYGNzatg1OP+MMJaZcmurMs85U4flZZ59lCd3N0edHl8W64Hw0PakZatdvIPqqq+uQDgtYGJ9lZX7NcwvE39Zlbynxjxky4D1mnA+t/BIIDBUY1sTHNSPNQy4f9+HSIsz9/zYhZSeJcDYhbV53EXYXuzBmA3CXEJU7B5Sgw+ASdBxWhLb9CvDwMC8mBTtwoISk5Y+wyKgHm7a78dzPLjwrEpfhwNb4GMRu3ir3mY4bB+TFPz7Ei7sHu9C+ZzHuGixEcyi7jL14bFgpVqUWI3WvBx9NcaHNABc6DSpEm9578cxPJViv1lEPliTtw6OjCnF770J0GurErX2K0XVaCeK3l0hGrPVEWTamqV2zHGagPwgN7nMnV+WPxRpIb3X5e7EwoRRPDhYyrl3aB9Dm+wP45Beg+zw3np24HyuTrHISrkIXCve6MWVVMW7rVogrn/Jg4vnHtnaqykGQ34U8JIcQPG7NapFuB/JLvPjsp0jc8P4W3DrIg/dnlWJLuuRHyODIdQ48PMiJIcv26/PiE1PSzbGkyhM9uk3euNVu0bnkf0MJDghB152b5OuaZI06qvg3ZJX9UKC+iwqsRsVakYDJyUlAw/l3g+Wy1pCVkpZajTLLFZfkwA8jgAdfc+KRD1IwfmW87oy0V166WU7uZBOBhJJofLw8HG3HhOKBqbHoPGUjOs8Iwj1TonD7z0HoOi8MMcWh2O7heNJN8uoNFUIgRNZlTQYJfLn/r+WfMGTgzwlpGck52M0693cR+462/G8JqbXEGFd6YLzh4L74meLOmfzbvNzmVvzIvWRXMHYiEYm0kD50PRo1b4j6pzTG6OlDUCwhcoS47sQGROwKw9BfN+OJ9/fjOWk6py50o5B2gSP4iI2XD/ITTuIY0qo46eRTsfC3X313jhzkETrUiWRU2oTdu3eBSyyZZaeqcXF9OapUq4pmJ5+kC8Rfc+01un8995bnLlB0D1wmyUwoqt+gAd7/8ANdiJ/vv1LhGJom20QfmK653pacrES2ao0aaNDkBAwcMtTfDvNI0TWQaWyRNpXhzH1C5xIIxo+f6M/LjS1uRG5urvpVC2uAf4ZlnrZu3arjQa2NAWJ0nCi78jlmlmsyUziOlG56Lv4ioyIRJ88gMSkRX371pZS5LqpUrYYGDRsroSesNPWlI2n98R3wj7CQUglGkYHKPBTUtKz/+PcnCPBwuHFrJt1/MyFlCVXkP60LvOBRz+koFUXOlayhADsLnPhaiE3bgQ7cPbAUdw0pxR1CCO8Z5EWrPi58MasE+QXyY5Dg/I9xclqRmVWfkOdGlwklaDNwP9r0cuKZsU4M+y0OqduirKRdnOik8/AxO9yF+yWd2/vtwS0DivD0eBeCM9X0J3Bi1z7Jy3wXWvYpxCM/OjFro6QjDGdRnBv3DypBuwFAOyFd9whh7jSgEDf/4MRLP5UikZMoaR2VzJkdo3w/B33m+tiZd6Yi5MnlLRAPtAq6MC+uBHdLeW/pL2RZSHLHIVL2gcBtA524acAe3DWoFHf3c2LiemlYhNwxlpA04OlxB3Db8CLcOcSNe4Y60JFk+wvguleE3H/gxZoWb/2RdB6N+EFq6RLCXoyei4TEf7gO7b6IkOckefzBgW4T3Ph6kUN0Ix8Sg9xoO6AUfZaVothXrT1Cvl1CZmlBZlz7iuUDIpfjcHnXIQ2HU3TMbn6lpKpHVZjqjBWFlN1H5DjcIVCZjFLyFplegiGL9iNGVzVxi7PHGtdLP3wS6lefhj4XDablss4qE/pRwnh9+eNB22taB2g511nzHuyVNnDUFOC+l6T+fpGB2aEJWJ08ByHZs5EnpCnZFY1k33qM3Dlp+a6NeHtxEG6ftBEPTt+ARyZvwN0TQvDivI2Yl01rUYTOsk/3xGKbriXKlzYXsK/4JX+8xBASEtFkD7ccZTeqtRA6Z0srmSkX5nhLRYTU6vINR4Zb8utJ1H38df1VLoclJCcd8WqB47qYWxHsmyzGNTMtclQ+jf+WlBFSszD+8SWkJJwW6dQF9uXaWhOXM++jRbirWBSy5LntQDQ27d6Itg+1QYPTGqFB8/oYM70PiuRpprs2IsXNnoRoqQdBiC2KQo/xobjxiRi8+pkHvwcDKSnJ2JwYiaTEWGxNkvOkrUjaEo+EbUnYkpyGOXPmo8mJTXWNzGYnNcXYcWORkZGNxMTN2Lw5SYhSEpKSNqts3rxFj4mJlltsQgKycnLAHZ4IHR4gx4GDB6NW3dq6DifXFCU3uKFlC3whhOv9jz/CiNEjERoWCu7sFBYeiojIcGwIWo9Zs2eqVZAz9klSGY4WUx65heePP/9kpSO8h8SUMPzHcBEiUfJ9yWWXarjqteugZ+8+6s5wRuhfSbTknddEYBw8j4iIxBeSl88++ww//fSTTsTStNj2BoShcMvQ0LAwLFq6DEtXrMDy33/H4qVLsXT5cpUly5dhmbgvXSHXIkuWGXder5B7v+O9jz5EvQYNUb1GLTRo1ASDh8hLyQcrj5I/Xx4D8zp5Gvey/x8T0uycXHz19Xfy0OYoSTSKCAQXd+32/nu6nMKLXV7E119/jVTf4rGc9co1Fs26YkEhIXj/ow/Q5cUueKHLC1oJ+GVB8EFR4RxQyypm0iqfnrn+dxNSvo755Sc/OiEX3F9bx8lJ0Vl8rqPodbDrwPJLUpKbX4pP57pwU18hjH0OoP2g/biljwdfznFg5wESDEYsfiUeF2eHc+ypxBu81YUXfvKgfW837hpcik79D6Bt31K077EJv6yJIwcQCBW1Zk1pV/T8CODR4cV4aUIp4jKYL3GXFDySD6axa78TY4Ic+H6ZB2/9WIqpEW6sSCrFk6M9aNPXIQSxGJ2G5aPDEI+k5cF7k4uRtNMJh5aHcR3mC1vi9zgdUgwhaEJMSyXNpUnFeHKYEGop+91Cku/pV4h2Q0pw13AH7u0nxHegS8i2Ex0GFmFqsBO/b3PjuZGFaC/lvHNIATrLvfuEzN451Cn5OiBSimcmuTEtxIm0bA+CQuWLcA7Qb7QQMKlzx0Nu61+MOwcX4a6+tHAzrw70/60UGftEF3z+QqStsbR8kvw98flTLHJm1Q2SRQ7m4PhKh5JUl6dEblsfDF6OSfUeEI1JfKUSQL6AuRrDhm1OPDfZgdbfO/D0mFKEpzB+fhhQz06pb7Rgi5OwQpJFbh1LXsgdvCr6ej52SBvgLITLQau5pCd50DFaWg5xkzo8c4kLT7xXikfe34+xv8tLSohnvrxgf986U1/sOfpi982Q54tfjpnywg3fF4a3l4Wj7U8b0X7CBryxMATrcznLWPz6/FmWvb+RMEk+khEi51G6C1Qmx7MKybOInMnj/1YqJKSSz22eYF0+KNOTIHkOR7I3BKnuaGQIycn0ckziegkbhs3uWCGt8ch1rcVmlxBtXTvTtyRROSmf9r9T/khI16VxHdLjQ0gPJ7qZg++3wg+J7fIhQUJ624M3CRltgAan18PoGf1wQHwku7l1KdfgDUOOkNiovKXo+v3TOOvGlqh97ku4/u5IdHhkFVq17YzW11+pVr4bWt+I61tdJwTxRrRqdROuvLYlGjRsJiSoti7GfvmVV+pamje0bCn+b8INN7aSY6C0RouWrfX82uuuxzPPvqDd84YL7Ni5Cx3vvEeaUWuRfI4V5dJPZoOMBDlmZmbo+eEQExMj5Op1XTTfdOHffW9nnZVPBBJLgkdzHkhI6zdqjL4DBqp7oB+C54aMHiloHZWA2gYHxkWL582it0ZNmqDZKaeKnIwTRZqedKJOcuJ1mZyqwyQsf5acfPoZqNe4CWrVrotq1WuiXv2GuiEBYfIdOKkpMG3dy74GdfQ/JKTLlv+uCu76djc4ddKLvCrkZWAGEP/62xKcc84fB9VycHCyfCURLt8agFz81r/zQoC0u6O9VBhrIWs+KDOA1ygkUAmEuf7Xd9mTaAjhUIohL2J5LYs4UOIuUkslJ3W4PXuFYMiz8H0tZu3y4tv5Rbiltwu39nNi0K8O7Cvks+L4TJdOonFybKKSWy8KCj34ZrobLb4uRodBhUJIvXhggBP3DnHhim7B+GBkFIqFg+0qkbRLJIy7VGLiTHEgWB5vTJrUCSEKHHbodsqzYh3R5+PF/GgP7hlVipv6OHBHv/2YFF6IiAwHnhtTjNt7OXHPQCGQvVz4ZHYBsvZwwWPSWQlLCyb50CFBP6IXkULxWKqeHYhMceCFcR7c1qcU9wjJbCOk97ZexXhYiF3nAYW4RwjrbX056cqDu4cU447+QlSHFeG+AaVCAN1CBt1CXA+go4R9YGgp2vQUstzfgQkbOVmGfVGWNXBPkQfb0oA1G1147jvJq9TB4ynzk2ktlDyIbr2cxENTIc85gYkEkSRVfFAL/CiwJlbJ85LfEkmjVzRU7C1BzgEJJ54cbFQZnhOqJOyS1EI8NdKLtj+4RQ9FUm9K8Og4BzZuZd2zxmg5JCJOONOhEq5i/TiiEVYft6Rb2WCZ+MHhcQkZdhdLui4pGa3mDqyNcaDLxy488HYxBiyIx9bdkVLCKGS5woUYbcbvm2djXYClSV+yXChcXqKp7lBkeRMRnR+DbiuD8OrKUGzYFY5dQpjMWqOBL+q/S9iVulWIQaoQt2zJ+1ZsFKIQjDQheiRyFYU53lJhl73oK9nJ7l5unbpWCOhqyTstbfHILOVKBRuxWQj1FjfJi5ACRyxyXGFCYlkOi9CWl/Lp/nvln0VIzSL83N42kJDWP7W+kNK6GDOjv7S36UiRZ7lNyGiyKxR5ktfg1N/QplNL1K9XBSefK6Tm3KvR8KJPcfJV41HvjA9RpWpDacb4rqc1rey9X6t2PdSqUws1a3G85MH3/kwuuugS5Ofns6HQ9iIiMgqXX2FZN7k9JnkGZ80TXB90Y2gwkpKSxLu0k3KtBE+gbZtwmaKSIpRybJSA5PPqa69BTd9Md24bunbDOr1H/5RAXsJrYqvwHUNI6zZo6LeQ0sgW6J8w58adYuLmGFmOR+Wa1cwb8+rnRLSS+vwTIWGhuOiSSyy9VDv8ONnDSzVdgopro7LLnh//Jh22vTQSESZdwto69H9sIb3zLuur45NPe4ii+Moreyhbt23DJZdaBPOWtrdi5JjRGDpsKJo2a6pub3Z9S4kiC7E9Lw9t292m7je2aIHhI4bj+57f4/SzzlK31998A7v3WOtf6UBleQGadAKVQJjrfzUhZRHVRM8flIhc6xI8QsKcLlZScZRKS5LqEFZAQlhMvQjx2HPAhUG/A8NWiy51nJ0HaXuKMXOdA91nlSJ+t8QrboUSukjiScwEPvqlGG0HHEBbIaJ3D3Gg3Q9OdP4uDmvCEhGRBXw+zYlZ6wpQyrSd1m4ZhQ4nsvYJyZXvZi415SFRlmfHOTpzw114SEhd60Ee3DXMgQ599uHO4U78vMaNkNQSvPyLGzd/40CvJSXYXcjGwSmEVgpLoiznh7e6MfdCvaS8ah3ko9e6WYjwdC+eG+8VslmM50a58MiwQrQX4nvXQCfu7FeIZ0cV4r25xejUtxgdB3rRfoAbd41wCDl2CiF3op0Q1U5DPejUrxj3DHUKqXWhba9SjFrrxH6yO9EZ9blbGq9hqz24f1Qx2g914N5BQoKFXLf67PhZUCnud7tKDrgQfqluMMBPFPmF6G/CWn7KIqKsL/oB6aJl04XFcW68P92J4C0cbyqNDC3vEjo0w4OnRznR9psS3NcLaD/CiY7D5IOhj1MJe9Rm+uNyLlLTpGg6ftMtJ05aXTnGldZY6/dYmWB5yLvZMDo9/BjYj7ztpfisp9TLd1zoPj4XK1NidEelHSSatLh5hLDJC/X3LXOEkM7Xl6ohpLrFopxznFyKOx7b3SGI2bcBEftDkOENFcLHnZT+OYSIi5Sne2KQJZLhjkUiNiPVE4usUimHu+Iwx1sqIqQkMFneOGyRfNJSmi1EM9VJHa7Ddm8IgvIi8emqBEzeFiRhrOEPqa4geS4h+kwCieg/Rff/O/l/QkibN0DD0+tj9Iy+0tKnKhHl2ryp/MiQOrEuYxHuuPdW1G9aF43PbIo6zauiwdknoOml7dH8ht4488o5OLHpA6hTsw5q1K5tzeiuya71mkKirK0uq1XjdS3fvWpCdHwTkSoSaQevEPLJhfENwiMicamPiyjHaNlCWyWnz1ATFhGObcnb9JycwhBStjN6Le8d7jPPtowz31vffJM1GUryxln6S5YtVf8khYaT8EgYPsJhBhybyvRJSPsNGqTuxwqTFo8mLdN1z52srrjySslrTR0m0OTEE3HZVVfi6uuuxeU8Xn8dLr/6KpUrrrlG5Gq/XHXttbhSiLfev1LuX3E1rrnuesycPVvToY5MupKipmfSJ/4WQspxBVTwx5909xNSk9EhQ4fqvctEIdyHlWAF4ABlfqWcKV8WXJCW+PHnn3WZhQsuvFBZPcExIBOmTNZ9Zus2qI/fVwqLoju/COQFyDTKFFIGc/3vtpDqT0OO1IN8oZCc0gLJQX08yg+jVAgcNcE1LklInfKDUpOY/HMKWXS5HUjO4Y5JpXhtkgP3DS7B7f3z8dRYL1an0AJldd07hdHt2OfA97NL0fYHF1r3deLVKcVYEboJi1YmottM4OZ+QrpGFmBGqPw4hCTsLHSj76JivDCuBKHJFulVa5rkd/UWLx7kGNY+Bbif41n779cu6Pb9DqDjDwWYHu7GppxiTA1xIbvI9/Ul/7ylnBBHuiXx0fx2SMiPhRY7Ei7+MEUfJV6WQxoZIexxOVKvQkuQJd83kze4ccswN9oMLMRjg0uxPNqJXY4C/Li2BHcK0ewg+btDyORdQmDvHiQ6EkLesR+tt27cM6REyOwB3CllWU4DvpR7U4oDQUm0MhZhUugBdB4kpHaoC3eNcqC9kNl2ouP7RxZhehBnxLuwY4cXGakuhKxzY+hYBx573YNr2rpx9hX7cfqF+/5AOCtDnKKPAv2SkdohxHPR5lI8PcaF9t8V4JmxhVi+mQSvSPWYtc+Dtyd4hJh70GEol5AqQqc+Xtze14FnxpWi3wovUsSPVCyJz6Gz+SV6X4NVIuo+Tr87vki8xZKqC/xpr14pdeplD175Mh9rkuKR4dkoRHSDvEDDsM0bha1CiriNZ44Qy9+3zsF6JU1lhJS703DnJb5IOYM+xxWCbO49L9dcDJ9jHA0h4kv54Jf1/77rnuuhpnmikOnegCwXZz9HI12IdDbHagqxqyjM8ZZDTWpK5ioE7mghVrFIdicKiWYeg7B8exTeXhKO239ahUenrcPEBJJWbpkagizVOa3S/1UySvn/Q0gbnFYPo37piwJ5eqnc5Un8pmqXfQKi88Px8ei38HDXjnjyrQfw5Hv34ql3O+CFt+7E8+89ile++Rk3P5WGEy8Zh1vaPYYnn3oUTzzxGB55/Gk8/PDzePTRp/HYY4/g4UcexiOPPYMHH30CDz32KB5+/DEVnht58NFHcO9996PHZ5/r+Em2Q5TklFS0bNlamr8qqFGzBpo0PQH9+vdHSQl7t6z1Os3QwEAYYmrAd+KCXxfqOp66J7zEx3GlXEDe3KfBzCCQm3BYgLGQ1qxbD8+/+JJyIcZHmbdggch8zF+4wC+Wm3VOP/MXWv7M9azZs3RXP6ZLMeU1INEmISUpJDm8uc2tiEvYhNy87cjKyUZmdhYysjKRnpmB1Ix0ZOfmqKTJOe+pn5wspKSl6xjerJxcFJeWKEE36dEIJqlqeoFpT5r6NxBSmnI5++rT7p8pISVBJGjW5n6pVP5H3burm9kWi7sa8CFWq14d337/nbq91fUt9du9R3e/aZzYum0rbr3dspz27tfXX0EMGTXpBcK4/ZsJqfBPefGzGkhZhWx51ErE8Xz8gXkQn+HAoHUOpO3hdYllXRTfe/a7MXadE2GbXdia5cE704rQketWDhUZ5EQHWgaFXD4zyoU1W0hKSHgt4puf78RHc7z4RAho5u4i/LI2Enf03ITbONFnoIh88D063IMJQuq+mu3Cbf09uLW/E13GubF+G9OXH6oQoQNCVoevK5Vwe9GpdynuHULCwzVJ9+HT+W6k64et+JcKz/EppSTc8vy49mUpdzWSo26BeijwN8EfCSfqSDQeSVcn82gW5KabFnY2GuLm8GLEChe6jHdg4xZ6Js13SNhCzAnzSB7dQkoPoNfC/Vi4yYGfV7txv+ioTV8PWgp5fmTYPiyLk7wI6Q9PEsI6sBgP/ejGWiHdzMP8TV7cN8KJW3uW4I6+JbhHCN30DVb99nr5bGhWZMaEbEt+ikpdoh8v1q5OQZ9BqXj3Cyfue6QI7e704upWEKLqxUkXSHpSrytL5t3+Bm6Vj4H7fyjF7QOdeHyCCysTXSiUrxjmKXNfEd6Y7kQLrhcrZWgnfrrPc+H7xU50Hu7ESxNLkbSdgynccHiLRNdW9z3rKB/j8QEjLpXG1IPP+wC3Pn0AI+ZkIL00FFs869Qql8Vu39Jgfamnejao5TBbXqS/b2GX/cEWUt1zXohomlfIkBCALRKee3xne+PlnhA/B8drmpfz301ImeckIaGc5R+CPFqBPauRISSaFt5kWJbgisMePylPSElgOJ51qztEiHMwOGt7K4c+iF4XpoXhldnBuG36OtwxbSPunhiJzpNDMCh6gzyzMMtSGtBlX1F6/375/0NIG55RX7vsiyVHGfI70uWj+OxcEdYqFK5gpDqkLhTL83XIB5QjGlsdkdhWGiX1Nhgb80Lx2g95uOf5YsxfWop9+wqlZcxFkWs/Sh2lKC2WVtlRhOKS/dpdXVIqH7+OMuH73Qjvl9LgooYrp3ywsj33Crf4XJo7zpKvhWpCSrmWJ7ftjImLxdz583SmOYkWjWbkKtx1kN3j3JmJJI3+vv3uW11EnqS2Jq25Et8bwl24QxPTYJqGqBkYPrJFuAz3oydfqlGLRraGqFO3vi6lxLGZdes1UAk8r1uvvt/N+FNpIO4N6qFmzZo6z4YwRDgwbRLSa669TvJZVQh0NdzYqiVWrl6lZQkND1PjH8n0QTszSRje45H3QyPC1MIcGhaBkNBwbAwJUXLJdFg2cpCKeiyn/fIL/udjSG+++VZ9KOyyZyUwoPI5aLbRiSfq9H/CLItQVFyMz76wKkeXl15Utn6bkM7qNWpgduAWYfqiBr6RSkC/t4gfsniC8RgJhFES8e+e1EQOJOUU0QlN3lK5FoIld2KzitBtfBFu/t6Jt6Y5sSWHxMeF3EIPei0WMvXDfjw6ugTPjStG+yEFuKufG3cPLcLdg0UGFKPzkAO4SYjiU+NcCNpaouM+nZIO6cn2AtI7+drLdeO+byLQ5otE3DXag05Di3FPLzc6Di7FzQMOoFM/DzoIOdV1SPtLnCM9mB3pRGERrZRO7Cv1YNRaN+4dWogWvd24pXcJegrBcfB7g9ZNNgglQoblR+aUBofjBUnA+WP3uNjAiL9DgTeFjNL6xyrkEr24JGLtiiYxFUeOtVXyLmR7zwEnMnaWSL1hyUhW5eCRRk/S/GlDCQYvL0EBLc+iAZLjyaHFUi43Hh1TijWbabX1YnGCENURUuYBJWjdpxgPDwHWxDOMB/MTvHhw+F7cMawUU4L585U8UJ/MmyTmkGen43zZAMrHGMlzfEICkpKsXbCYpx35bqwSfQ2Qj4ZPPivCM2840PZhJy5q6cTpF7rR7BwnBtWthGWpRGbc1BX3DizFqhQ+DP6WhJTucaH7TBfuHLgbr84swDfzHXhwsJSXE8JE3p6Yj/hd1scQl5fid6ODfeoa/q9B2wB9lvzwss71WsAPlSUrSvH4Ww48+mUu1gvB4RJOyS6+QEOR7rEsNGmeUCGawXK9UYimEEx5ka5QQjpXXnfxcp8vfHlp6ix7ziiORYaQ0zR5kaa5N8q1kD4hp/QXSIwOR5T40uYsZXNt/B6bHBwPSUqekNHg4s2YnxODbE+Q5DsKycy/d+Mf/B9vYTkP1WXPbSeThZRmCJHJwgas3hWK1+euRbsJwdbSWtND8ODUELSbEoK7Jm/AtISN4pcTtCpOp/J0+s8W66PCetZHQ0griutYhWRUybHGX25S02kN1UI6aQGXA9ql+cuV558jflJcQfLbWY8sF39rCbpHfrpLPjjUisrZ+7HyASkfgbpUVBDGLN6CO1/Zj0/7Askp/KUXyS+/BA42LWzTwe2t5S3HV5+vPVBRLmC9+7lOMlsJunM9Tl2PWK4TEyXuztYQQ87er8pJSXKs37gRLr/majzz/HP46uuv0adfP/QbMAB9+/fHl3L98quv4I6OHXRnI4blsk/VfUMDbmjdChs2Bkns0koLkSUp1HR9HMTkj+Ae8BdefJHuYV9TiGiV6jVRo0ZtIbeMr5aec4ymua7JIQxybvwcJJJ3CvPQ/bMeGn9JqbU6SmCaJJhXXn0NqlSrgVpCbOvUq4dGTRrrpCwS8oZSdh55zXMSXQrP6c/4bdBQ/Akhrlm7rlp5N4YEa/xWOlZa5UGS/z+3kM6dN1+V0uPzL+AoLSOky35fgXqNG+LSK6/QPVQJVgyDmbNnabinnn0GK9eswUmnnCpysrJyggU1jH/kqJFaqDPPOQcJm5PUTXm5VsKyB2/OzdFPSN/49xBSPn8Kx0eSaFm75AipkR/sb1ElmB7pQLexu3BLnwK0E8Jwfe9ivDnRgXUJQijmlOLWPhDS6ULb4W60GFCEdlzuaLAXneXYsU8R7hBC9SC7zweV4KrvStBnYaGQQu5GbM1W5wQYaj9xjwdP9w1Hy483o/MI4J6hBejAru2BLglfgnsHFUpcQnAHChkbVIBWXOJpXCkyuMg9J72wEstxdlQRHh+9B30Xl+r6m8rSpGEh+eQ0LV19wWdtMzPIeX44niM1QcIJsVSLvRBPIZe0lrIVYze+0FytIywJhyTIZ7SGYg8/v/Q49IFfx/RJEqt5ortck+TSirkk2oGIVA4e8GD8BreQ7kK0GeBAhyEWoW8/WMj28CIhoPJV7/AiJN2LlZtI8Jh52mDlT8g1txHi5Ct11i2F6AeIEUIan+Dbb90PWlatgnO8vrRvWLMSGD3Riw+/LcFTzwBt23lwSQsXap/tRZW6TlSp6UG1RhK5/A6OVvZ8+KUkx253K83c3W6MWefAWxOc6Nzfg9v6eoWgckUED26Wj5oXftqNjRyeQTU5fKSf1nXVnbj78q5lVeEQDtZhOsozoJqVxPIFI0c5ZwgXPyx8Lxl62rkX6DPEi3ueL0Xvmdny4lsr5CwYKc4keclx3KEQGnlxprg2C6nkGEt5sZfEIN3Nlyu77GdhQ9oCCRMvRFXIKq0+8rJMdcfJMRrpzhB5YYYoCdXuZnkR89p6OVsvfbWo8qVKN15LupwUlYFobOWYU3nRWssWlb3Uj1bSSYzZBS+EhGVSUuzm8jthyMd6JBWF4ItV0Xhk+hqM3xqkZDtTyADHylYU37HKQWUuJyxnFklT4nSsTaH1mYSURCZcdBeGbZKvFMl7lmcNIgqj8MXaaHQavw73TwrDg0JK75m6CrdPCsYzs2LxW7bom0TsGHT3bxBDSEkALUI6XQjpwcs+KVEsJxXFdazC34DpCUiRjzwS0vjdQbjtgZtQ71QhMGc2wJufd8HkxSMxeOZ3GDTrO0xbOxKZLvk4k487rmOaLJIq1xxqwg+9TFeonMsHn/w+M7iUmvx2coWYrs+Ox8s/bMfTLwNzfmULwEX12ZslbbKbO9uxNWEjI/98TQrfC24PtyJl75nlpsRM2hGuQ2qGE7Jb/omnn0KdOtaEpKrVq6NaTY5VLVtntEpVIZtC4LT317iJkACa5Z4one+7F6ERERov31N8pwR2mxtOom2ZgF32XHw+MM7KELP1qMPJ97O2njrckSBZPv2MMysM91flhGZN8fsqefEIOImV6e3ZswcLFv6KMWPG4uefx2PGjJl4/c23hFhbFtJXX3/zf0NIZ8+ZrZns/vlnah4n+CBG/zhOl0W46+67UFRcpA/K3CM4BqJa9Wq485570H/oUNSuUxeXX3Y5ks0ST76HS8yYMUu/HE5oeiJiY7m/t6+yiQRWAHNuuvVXrfYR0jffUELKOPWe+Dmk/NMQmCc5lyJIOeUoqrEWyiVJcWPGOqDzwANoy8Xu+3DWOJdnEsIg5PCOAcW4a6gDnYRwdhpcKmRCSOigYnTo58I9/V3iVoj2Q4VkcHLPIAduGyxxDCzG+5OcSMihXkguLEKqxFTIwcJIDzp9EYXWnycIGXXhvr5CQIdKeEmvQy83butTgs6DhaAJsW3VrxBPji7UheeLi4VoCsHRHaSkEFwnMyEjHweKuI4pnYQsape8r6UR8JmWh3HToxHfNSfWcHikKEgtj+ylJx/iFp2lJPEkq5KOm6RJ/LilwdDlkTgrXZJVUqrp+0TiY5uiE6SEtSqJkjvsMs53OPDJNJcQfVoK2b3vEN3u13Glrb514OsFTuzW7Y+t/JkD4+SSXYFlCzjVLhWzssThwZywbruwf78Xyds8WLbchcFj3Hj/MwcefsaD624GGp7qRpV6LlRpDDQ4FTjpYg/Ob+HGjyd3/QMR9ctX/PK2hhfId7/870b8LgeeHFqIW38owv1DPLhD6tGdA4twq5S7/Q8OzAwvkoKIb9GT0FF5BNS1EEq6UW+sS6y/Eh0/GpRs8tlwrCmP/IjQ8JKmRz6E+DKR8KU63tWJxKRSvPAB8NR7efg1NkkIYARyvauRy0lLTr48hTSRYPIl6oxFmitEiB0tpbHIFHJHS8zSbTMQlLIMuyGEVYhmsvjV7npaSflCDxB9wRtRMsqXMnd1Mi9rcWNaniA58jwW29wbhRRGS95i1BLE+5bF8o8SSCTKS7a8uNOctHpyrVTGI4RXXui5ch51IBRfrY/AfWOj0WFSEB6eEYZpCUL+SkkYWQ6LPBytVJRHIywzpaJwtGaSNK1I/AUbUkn2E/SjgISU5CPFIyRKSEyGZ53kPxgxJZvRf2Mk7pocgc6T16PThGC8tiwSK7eHYZdbwjm4d/of0yFBs6Sie/824UQ6DiUJ1clBy0S3a1NpIZV6XaH/4yis7/JxxufPcb4kpAm7g9HuoVtRv3l9NDu/GZqe1xSNz26CJmc3Rb3mtdHx0Zuxw7tF8s86acXD3wzHa+vvR66tBfjlyDrmDpNjjJSPH4gb0WvuFnR6fjd6jZT3RAnNB2y7hYp6i1EiH+8uDt/iZEppori5iMdbKB+01ruf7Srf9+ac3IDvfrrlC3ni+p2dO3dGvXrWjkd+4Ux0kiha9oSUWnNkyogpd3fqfO+9OtOc4ys1fkpAWge36XKt72noJKu+/fri08+648uvv8KX336jvb9/Rb6WsBzu+P4HH2DR4sVSdq8OdSQ9VMLue39u3rIFL7zYBW1va4vb27c7Jrmt3W24vd3teOyJx3U5KcIMw4yJj8dVOjRA9ERCLzqrXpPLa9VXt1defV3eT9x2vExH5vlUJqrMmjVTE/zkMyGkJIR80cuxlyie7o89/rh6LC7mGEe+1K1MrFm3FvUb1cctbW7FW+++q35vvLGFf31SwhDLlStXoXnz03UsRdDGEHULLBT9UXhNmDRWrbEI6atvvH7QuNR/BVhEKS6tyOM3OoUMunE7J9AMduO+wS7cO4AEtRR3DivAHUI47xpQIgSiGB2FNHYcBtwxvAR3C+l8YHABOg7eh/bDuKSPE50GenCzEMn35niwfa9FdknAaAskWM9pMFsWBzzQYzNu75GMu0Z4hXwWoWP/Atwu+eix0IGvfvMK2QVuFWL8yDgv1mxlaOsLroSZ54nvQPh+P4rKqaisO1I/5H+/bc1pLd5vgQ2F+NGvV6ur+c9gfW5ZUG1IUA5g2Jbvxfvz3GgvHwCdB/IjwIFbe5ai93xgX9FfK0vspngkbt7su/ozMDcVp7Mn343QsCLMmOvCQHnur70D3NDBi7OvcODUczxofo4bzc50odnZpTjhLCfGNBIP8puhrLrtc8yY6UFigjR2+vNhOm7EZbrw6i8luGkg0Gl4gdStUtzLXaHWefVDQz4DfHZ0BhIplzU+FX7gqJVDb/JFY/0+eUXhkA3Gwi9wfWTeIixf5cH9r5Ti4yG5SNyXqFZRrhuaLC+9NE+iEKJgeaFtEIIaI0eS0U3iRlK0QV5+wSJ8+UVgWfIsrE5eJOFpxYwREaLEuBherg8ltOAEnhvhdTaS5GXLcY9h8kJNFOIbKi9YdlNb3daB/gPFxFeRpPu6vWm1zZIyZkicHI4Qkp+At5dHodP4SNw9NRT3/7IOnSbH4aGfIzAyUl7+iJOyVBznn0lFeaxI/hguSrtoV22bi40Zi7FDyL7lL0rywmWf2AXPoQVCOFwxOrksSdz7xESh8/j1eH9ZOCILI4TorBEdhmK7Qz4gSMhVd2X6owXakoPT/zdKutRPlpUEnLpduXUOgjIXSf2yxucanZSXiuI6VjH1iRZ45omENHHPRrR5oJWQz3o48dyT0eiMRmh4WiM0PbsZ6p5cG+0euBl7JPdWnqx8lc8nF8/PVImS3wrrSpy40dIfJWmsw8LYCNz/+gG88RWQup0tgzQG8mHq4jAnFGhbQsOMTpE4DNjusxnhUkkGO4UgchIRe2CfeOpJtLr5Flx29TU4qflpOPnU03DqaWfg/Asuws03t8HLr7yKIcOGYs7cOX4iSjDOfwJ0/34f/zEw77pde3YjJT31oElMf0Uys7J0ghPjIdcj+TWI2ZSAy6+5VvlWDd+uTlVrcrtVa5ztK6++4SekBoavVSb8hPSjHj3g8JFCksO+A/qr+yMPP6weSUgNiSSCQ0NwQrMT0Prmm/HGO93Ub6vWrZGWrtvAKKmlEOs3bMAFF16shHTdemu2vkmHfkhgeKTZOCMjAzm5ubqMlA4LqFoVTz/3LLalJKtbliiVCjWzyf4/CMtD0eucXGRl8zoPW9J3o/eMZLT6fAtu6ZmDTt/m4e7P03FnrzQhROm45etEtPk6CW8PzcPAX/PxyOBs3P51skgq2n6fjHbfZOIOkdu+z0GHnnl4sl867v9+C7oNkeZiy27s2pmDFEkvffs+5GVJuunpSM6WirkjA5nbt2HI1BW4pes6SSsTN/XajBs/z8WbP+YhMSMXKdvS8cm4LNzXJwvz1qYgb9dOJG/frpV6O2frZW5H1o5MeR7b5Dod2ZnpyNWysbx8TtZ5Rbow54d6jjm52SIZSM/hrEHJa24qtmenYmfqbmRnZIkOpQ5IGtnyI8tKz0S25CN7Vz5SmaecP8ZHyRT3lB1ZyJU85WbJj1vKkpO1B7mik127sxGbnIc3f8pAy4+3ot3naXh3YgoSU9OxcwfLLHmWsvnloLitMrBc2liI5ORtF/K1Eqvlo23X7l1+v2X1QHSTK3nPTkN2dja25+5ETs5OOc9DrtTxzO2ZSMmW30HeTuzcuUOeYwb278vCvl3ZSN2WjQ3h2zH3t+3oPTAHL76Rh5va78RFN+zGeTcU4ISLHajSTKShB7VO8eD0i4GrWnnR6UE33v2gCJPHAZHxwML1DjzUKxttv0vFQ4O3Y/RS+c3tzMRuyWea5Cdre67WmfS8LKTyN5ct+cuSsrB8OWnIkXq0PXMPcjL4rJPFv+R3+16kZciz2J4ueU9HWlaaxJmNHbk7MG7iAdzaJRufTY1AzJ5liNu9DlE7ViB853LE7FyGqNzliNi5BrG7liJyxxKEb1+GiF0rEbZrGYLzliBsx2qE72CYDZgbPAm/xUxG/H65v2eR3FuL0O1r5f5i5Hz0nJ+QU8J3/X5EEpm7DmG7VyF0t6Sd9zuidi/Hxp0rECRu4bvL/IWJW2C4w0nwTok3/zfE5v2GhOw1iN6xAGvl+rs1y+Uj81d0HDUf949bgs4/zkHHn5bhtmHLcPdPSzB581Js2ltxnMcizLuR8F2BshyhO5cieu9qzAwZh4VRkxG3dx1CdywV9+WI3LlSdLBEdLMIkXmrEZcbhJjtqxC981es270YQyIWYl7iamzeaT0DTWvPaoTKswuTZ0thGgfLkevx/6uEyfPXcopu4/LXYFbIz1gUOw2b9q0T9/L6CJTK103kbnmG8txD5HcVtmMZNu1fi/Upv6LNoy3R+Jx6OOWSE9H8spPQ/NKT0Oz8pmh6fhN0erwNtuSHy2/Q1JPydags3gimQ/cd8jvWMoub/G62lqzAik3r8eBHibjj1b1YvqEQBflsM6SNyNmB9NTtSM9KQVaevA+k3cvJkra/XBtrSJh5X2RI28PzHGnDd+bvwYGiQvy2dAkWLlqEqNgYbNi4EUHBwboCUHBYKKKiorXndk9+vu5dnyttW7q0++Qa2yWObInLxM3jQe8lvk/0nWK5m7ykyTFdhNd/RTIyhSRK+hmZ8n6T+PgeyJF0zPuRafCo7wzJb/7+vTrRfOfOnWqpPVohed+9e7ce8+Qdw/SyRKiLHfJuX7NhPa698UYdk1urXj3UblAfdSj1G4Drl77VtZsQ0rIue8PZKht+QvqxEFKzphcTGzBooLo//Mgj6maWVzBYsfJ31K1fV3dfeO+jj5VR39iyJdLLTVoifvttEU4+pbnuoxoRGa1uZvAwC8UjF4jdtm0bgqUiRUZGIj5hk27pRQVxOQjOGouPj0dISIiOU+WMsv8vEjgLLlzKHxYeKT+cKPweEYsuA4Jx7Tsb0LZHLG7/JBztPg3CdZ/GoMWHIbjh3XC8MSAGP8/biJcHhqL1p2Fo88EGtPs4FG0+CkbbT6Nw+6cRaPtxGDp+vA79p8Zh7tqtWLs2BDHh4QiJi8LGmBCEh3ArNV6vRUR0guQhHlHRkfp12efn+XiydzRafbAWPcZuwqp1MUJmY7E5IgxhGzZh7kohEJEbRWIQKnmPiZX4wmIQHBmFyKhwxEZFITxc3MIjEBkdh6BQOYq/yAgpt0h4VIAu5Fz1QLdA9wDh/Sg5hslxQ1Si5DsaIdEbERbDdKSxiY5AcGwwksIisCUqBkFRIVgfKeWLiJP8xPjjCJf8GTFpBosuIsIiEcOyxYRJvLEIDZYGNzgMCXGhWB8cge5jI/DJj3FYExuL4IRgqXcxiJK4wyOiLZG6WT7PmqboU2c9St2MlEZxyoxfMHPObCQkJfrLynzQn55LPJESX6ScU4+qw4gQKXsoosV/VIyUhemFx4r/eIRR/xI2OiEMWzaHY+uWRMQnyn1p7JcFrcbsxUmYvaAEo8aW4N1PivDQc15c0sqFGieVokoTj0gxGpzuRqMLvTj3UuDm9gVo0XELLrotEg+9EYopE2KwblUUYhLDkbBZGvB4SSdSdBojeU/ciA2RQQiLlbxHR2NjaJiUQ/InzyJcnkNoaKQ8r0Qpi/gP3YhoKUtESBxiopOwNigEXboloe2rOzFi2VoEpU/BipRfsGTzDCxNHI9lST9jRuxUzIqdreMXF8dPwdKEOVixWfxsm4JfE6diecKvWJ3wG1YkzMD6bXMwddlgTFs1AuuTF2HppqlYtmmehF2AZVsnYdtb0l4FENJAWZI0wy9LfcLzxYnMi8SdNBGrkyZg8TbJR9JcLBO3JVtEJK9WuF/E73Q9lsXF80NIwnQsSpqERRrHYqzYOg8rkqdjftRMvD91CtoNmorbBs3A7YMmoGO/Keg4Yg76rpEyx0/GUpa/ojiPQRYnBoqUMUAWJU3F7ymzMWpRH4xfMRirUuaJ+1TRw3Qs3zRD8j4Ti7fItfhdljRHntFcKd88rEmah3VbJuF30dnyLXPlOczCItHXr1unSJmnSrrTfEK9mXNzXXE+/y2yKIHH6VK3pmK11Nsxi/tj8uoROrHJKv/h5I/xHYssThSdb5Znt3WW9QzlfMXmmfhp0RAMndkbw2aLzOmFobN+kPO+GD6nL8YvHYRV22arf4oVT5mUxf2L1Ff5HUm+f0uYLEfWm6lCREU2z8XKtDFYvXU8uo9LRssH9qH3UGnH4kIQH70ZUaEx0g5KGxclbXFUkLZ3EdLWBb4j2K5S2H7y3e+fRS732N6GynHy9GlYLKSUBjFu2JMqR/bW8nzLli3KHcLCpH0W/sD3Ends4pFcg9uNmrRM/Dy3rvlei1I3zuJnunot92iU0zb9r4jEy/yEy3uZ50bC6SZx0w/TYzo853snOEy4j6TPMEcrTItljYyQuOSc1xHiHhoaqmUMkrJM+WW6DtX8ccJ4/DxpIsb89CPG/vQTenz2BX5btES4WpkZO9A4WZkQQmpNTvr088+VkJoJEHzAXLy2Tdu2yqzLJ04yQ7LILv3JU6ahZp16OO/CC/xbeZGMOq1+QkydNl3HkJ508qmI32SNqzNd9BSSUl6TlJL4UjjAd+nyZZq3l157RQfU8j4ttWZ5iP/PUlpaouuB5eSVoseU/P9j7zwA7CiurO21vckbbK9xBpzXa6/t3bX/tdcJEBLKARCYbDA5IxOMweSMQOQMyjmgBCiHGc28HCfnHJTTxJfPf071a2n0NCOEZmSQeFe60/06VlVXV31dVfcWfvHwLpz+/E6c9sxOnPV0Nx5d0oH5ngjK66J4eOle/OqxXRj0VDtGavrJiZ0Y+mwnRk5sx5Cn9+K0l7pw6mPbcfvibWht28X05D26OtHduRfd7W1ctqGzuwvtTNeuSAc1ikh3DEXhAArK/QjVR7HQ0Y0dO/ciEeMXbLQTeyNdiDJ8CR4f4e/ODl2Tad/dhnaGX9rdyXh0R3ndCNq6oujgdTu53tXVbeInzYy3xhJl/rbV3haLdqAzsht7O6KId3bxHh1mjGoH790WYxiibfCVtcFVqtk32hHpYFz59Rbh/p7XPkh1D14zqjDzGnuiexnmThPeLqZPMhrB7rYuNO/ZhSjTsKuLx3cqHj2ukaF6hpnb5MYkwMIkXFho5Vkec9BxDIPSzro2w8/0jjAMEd2P4enuVJprm72/3Vyjg/v2dvIZ6VlGNXhCrr06+B7JoIrvE9/fSGcSm/ldyG8erM1N4MkX47jgqiS+9dMkTjgJ+NyJSXz6pC7868kRfOnrEXz7h1346Sld+NW4vTj3mm48+VwH1m3sQF1jlF/T7eho6+AL3cXrd/I97eDHpN5RxZ3hi8iNC5+N4ti9A9EOhr+9nWVJO7bvjOCGO7px1u07CGJBbEMIddEAyrvcKI25URMvQv72fFy9JB8TVhHC29yojQVR0SV3MjomF+VRFxqiQdR1OlAd24CKmAvT3XOwILQcDbL8jXpQ0+3j8V5UxvzYec+VB4Fopu6+6XxU8jxpRdTN8zyoi3uQ35qPdQ38nQigutuDhm4HaqObUKVjeh6fXn8/rYswXAx/OeNazPXKSAGqOr1oijlR0uXBPXn8kJzFD8w3HTh3QQ7mVzrRnMhHTTSP92F8ernm0VM36mMhrClbgJyq5WiMFZrtVdR6ak3Ux2fhN3HRcymJ5vBZOFHd5eW+IMribpTEN5lwV8sVUNTJ7W6e7zV68P0+Dqrnz7hHXEzbICF+PnKrlbZymXT4+WggVPm2ivlcz6eMeVthUt5sShWZ4SpWl34QMmyzu/Y1LWxZJK/X62VqdSwdV65bS8Xbh5p25p8OjaPdZIygJq+pwW8v3Isps7pYnnewfNxjlXEsCzsie0x5LJdQB5SV1J7lp+U2ylqqXlMZqhbRwuJiXofbWHaKE7pYB2pdqu2mrNW5GWpfz77PQfeyldt1DZXvhkO4zfw+ArXPt6/Rc6n7mntwvYNxsN1i6XfPa/RXdS87bTRpgD1uVX9Fezbxebx8tpbLhH0NiOK7owuk6TGktqzduAH/8K//bKatElFL7FZN6RRStM77/e8vRV6+E1/9+kn43Be+AIfbcpSvCKsylrz22uvm2H///g9QWlZhttnXUQT7itzGnBxz3lXXXn38jSE1Yj32rduBu99OYtATcjifwDQ3oUlAbx2EMPPCBW/GcdqkpBnjOOylBIZoTvqX4hj+UgS/fbwLF78Ww/oKGQHJaIdX1aOUZaIMflJys8St5vFq9J+V5QrLSlFQYRmhaZcZU6Ixmfyve+soWaunZLxj9trPSMftO7Rf0vv5KSwJxvG2T/ObMyQJ3ZkhVKR4gnxsjn2mG9fOBEparMHykmSP/Gsk8+KmA6BHLGR5oyvzuvJ4YF1Ge2OMG++bPv5IpKCo0MzscXiiMCm1pRLeU++D/psw6Y/gM50j7GjqcK3vC6I26IfeFXsHQTvFAqczju17uhH2pfDKlCh+f30cvxoZwU9/ncA3f5DA576Twj9Lvwmc8J0IvvajGP795wmMPBd49DFg3QaglPlr6w5N98nLGrHvJ9FGPgsTxG7U74jj+rtTuOaeNoRay7DFVHIaS+iHXALJmClvlx/XvZePodP9GD27ELescsPNbVu4rxUBYxQjl00t8PA3K/BkGd4q82H0S3Nw7ezl2Li7mBWoxi3moQ4OapEZ2ybo/CCqe63b6seFb+fhgoV+LK6VQ33LUtwYVJlwW0ZGloGU1jWOru+xpVJjeZx0s8J3sHJ3MV5FDG8xatJjX5siHjzlDuLqpYV4lyC8Lc778phmwoB1z96ve2i1wtrXPsuoy/ptxYe/lc5cb+F915UvhKPuHYa11GzTWEcta5OyCidomucoi235UJXqGnJrpPQqYdw07lcO1TVW0Rqb2rtmhu340wY+Z8W1jukjF2XrKhYiv/4dM37T9gnau/Z+vf6pnp2uXcDnpPdGhlWWVwnznIw3Crn1ssKg6WGt8cN9j3W1VMZOcl+leCqvaDypnrt1XkOScY3LdZjcioWYN1yYFyjH4Ava8docFhem+LDKYeOBZV/h1qNYyxC5h7LFHgcpX5uaWfJw5Ei7mntjlP6K3YssORrXfz+x76llX/d3e7yoqLTS1j7uUMf3R/Z12d95191m9iRbKqqrceI3v4FP/e2n8eprr5ltAkxVnaJ7uSrQeVdcdSW279iFESMt/2Cz5sw2x6quikfllzKOe+9/wOwbd+ZZ2Lpt/3RgPSOlpf1w7G3rN2ww511znWVlLzkaifBhiAV4ggXLsq6lI4JnV3Rg/qYUIrJ8k8VhUpbNOjKO59cTSJ+NYejTXRg7sdu4ehryVAy/fawNV02PYF2IL7OBdkKcrBd5jowDk2o5E2DxOnwaBBxu1PtIqiguDqOwxIImFQwxWUfznhpkLkt3Y89CqDWwZOCt24THQJKO4XapsWjSRsGrXDDpvjxEZ5jbUc02Pt+6HUm0GZ+gvI9gOc6QcWnnPFnKL/JEMfiJKIZPimCKk1+66S+3RKwby71RjHs2jlFPAYOe7sTvZ3XAW2cVMDJ5Mu6edLjJJwqX8hXDwnvIclxpHlea84Zpj0aKEf8pzXWgcF2AqgBr8L0F+H2L7mOJ/WGlLbJilJuQTDH702ETEKtw1S+zxVxKYbQAWfc2+/jHJIGW/KGt+mlt0j/rOCP7rsFrm2emtNEzYT4wyWQ9Rx0YS3QjUBnHy5OBG/8UxTmXpfCrYSn8+89S+Op/RPDZb7XhH78Wwye/nMInPt+Nr3y/G+MviePBiREsfjcClyeBphZ5XrBDY2nN5jguvj6JK+/djoI2waWLFZMbNQlr5qWamB8bNodw7XIXhk5zYcRcB4bPzsWImQ5ctywfeds1H70P1UkPQUhW6ZrrXQY/AVwwLQ+DXn0HgyYtwq3v+rBhp1zNsAKUaygeo0pRalfuLEAOS5eOuQjjpuXizNlehiOER4IuFHU5CQ8y1iC8ES7rUmHGQcZOMqCy72VDRG8aRnWKx/NYAwLyk5qUSyvLVZXxCsB0ydnqwDYCXL3uIwt7wvDB13p/FVzKQ4H1m+FjGlpgoOsJ8NMAwXvIjY+5X0LusHgMj20mMMjKPq92OYG0JH0enwOvp3jKotq4spIHghRBI0Gw5rKFcdDMWlY8eR+qdY71LHpqZpiPbxX0y0ODpuAshO2H1AbS3tJH2vu1+qv8cOAztp6jZf1fp0kO9D4yH8oHrj4YTZ4xHx76KLMhtvdnKTX5jPlC8ZRLMX3cmON5nQbmrRpuN5Mp6PoJ5ccixt+NuYEKDDk3jlfnqH6xJ3BhWZtg2aW6hfWAWbcKRZZ7VsuccVOkMpBL9arazOD2elGWdil5gOh0U4CyZEqfmym9bbPFzFOvXmOFw1YdrkX63v2RnvfODEdf4T0SybyW/Vtqp7NJax1iNP2b4nB5DgBSnSs9GrK/hfRuAmm6G1030wDgkaNHm33X3nC9CaDcQnGvmdVAMxZotoNnX3jeXOiWW/9ojr3m2mvMNezu+oraWvzPz//P7HvltVfTcbUSwtZMsbcd31OHWqKoCswknV3tTF3rGzFGGEKyA3u6Y5jiS2LsM5p7PIHhL+7Cmc924vzJ3biIIHrj9C74mnQG00eteoeSjKTWON3iEgua+noW/RGBqPypCQYFvBuLk7iC4X5yVRd2del5WgUQE4D7U9gbSWCWsxtDJ8Yx7IVO/PbpCKEzham5XdjZlsDM/CTOeD6C4U/GMIxgPujlNvx6YicufiGKVSUpdCct2FThtqMthXeK5GlAcUqQrfXScZU/9YWsNE83IKfBTcd9cNH7wJTbl3b2MlhQgOLSw20h/euJgicI1nigA593HHu7UggUJDF/cRTPvE5IvRsYPj6On5yawsn/lcI/fY0Fxt8RTj+ZwN9+rhs/+EUKI38fx40TUnj+lRRW5USQ50rgkjtjuPrxbdiNUuZKWa2H0BgLozHiMuvBjiJc9V4eTp3sxVmzgxizIB/DZ+Vg/OwABk11446NHtO9rVa4WjhQHA/g2SIXzpq5CWNmhpk35mPky0sxdIobV63Mx+ImQmlC03Hu99+ZWXGqZVMzI7XdctEBIHoodf3ufFRFQtjOMMilTV3Cau3RfRpTrGxZYeu6mfeyVZ4BVFELTBrl8F7bWFHrHAGCcYxOVSuvgT/us1qk+gaAvtQCDoGGJgaQ31XBvJvX5H4Dvgw/w9uimXdiXlRoG+9Zx7RtEpTyeMsPKaFpn2N8Hsvn19v9sno4KjCzPgzk9smadOBAP6TKE72fe+yr7Spq/+80tBJg91KXeksw8pp2vDRddUWXqfnUUJCKcS3OEpvllNo55Oc5yY/nBMtplbW2qPyywcjt830AryZZOUB6VgM9xE5bjZWtqDRudvbJQLOCLZ+YP38+y14B6V37gNRU2NTJU61u+ZO++Q28/fai9CnAxKefMtbvP/jPH+4L6LyF8/HZz30Wn//85zBj9iyzTXLXvffhE5/6FE744heNYY3EJmzdq7eI2duObyC14phUGqTX40oXrsplYzdBbmsb4W1lNwY90WGclw97NorBz3QTypL83Ybb+HVZ2qp0iTE9+dK+H1hl7DraQGoAOSZ3YTEsKY3inBdj+O0jcfy/xzvw0HspbN1rtdalWAppTOTzq9sx6PkOnDIxikEvMs7Py2F9FMMm7cE9i2O49E05cI/gdF5HMyoNfbYdo5+N4b8fTOGptbH0EJEEdrR349GVKZw+MYJ7liXRsltf4AkD+eqKj7Nws764lRcV90w4O3w5loBUcbXim7GkqhGVUaEo/HouCXR0JdDcBPgCEcyb342HHwUuuyaJU8dEcOJ/JvCJf2QB8jfdxmjqcyel8LNfdOO/TuvGicO34I9vlGDeWhdWyFBrh4uA40UbK+idrJhrCEDTazZi/DwvQdSLsbMdGDvdidEz/Pj9EjdWNrtQHw2hJh5Gc6wQL/mCGPzmJpw+Mx9jFhbg1FcW4/TnF+OstwvwyzfzMIn7W5JBlBHAelaAthpYI1xVGMAKcuk+ADwPR/dOON+0jGq++dpUMcpSXlQT4NT93ds9paqQ1X1Zp5bJpAA0aGa6kT9ICxS5LtA1rY6W9uUs/f1UkKsWrhZqrZkYQPeXSy3eKxk2U0DWa978aD52MDzNqUJUqXWMadJgWq7kh7TAGLoISOWmyIQz4z5Z/SD68QbSTLU/Fs3kDNTdTJ/lwTL85vx2vDJD7KFGFZWn8pbdTVUvj2CU29RryO2mvLWKWFPWZoF0ACSdnpnyIQPp3WZGBIk99nPHrp0YNXaM2f+t733X+AO9/Kor8em/tWY8uOueu01cFLi2tr0453fnmmO//PWvmVbV8y++GP/6uX8z2+66+y9mAK09A4HOsTVT7G3H99Sh+icwFxhZgM4VMxuWuszlcHxXRwzPLU/g1Me6MOiFNox9PoKhkzQ/exRDHkth8ga1PKbBislqdSEcIqNk7DraQGqN6Uzi3eIkRj8fw6lPES6fi+N0xuGUpyO4fX4nqrfqqzeJHbE4nnynC4MfT2Lwi90YMymOEU+1Y9SzO3DaU12YlNOFcF0SN0yJ4tcTExgxCRgzsRvDeJ1H3+vC5r0C3yS27gYeejuOQQLWZ9rxqyc7cefcCBq2Mm3T/9SKambm0Ne3lR2PWI4tILXC2TOsUm1XFRBlJrI+ilgRmG59u8VdS6vluaM7hbLqKFauTeD1N+O4+Y44fjU2ihN+EKcCn//5Dnz37Ar84CwffjjGjV9eXohRf/HjuldceIIAutgbRnnEj72EIecuBy5dmoOhUz0YM6sIf1jqw8btLkJrEM2agSmeg4Z4AWYXFmIMYXTwjByMmePAaS/MwPDXFmHYjCJct9wL1558bEUpygSHAoBeKsOGpBdb407uJ6wRvgLb3XBt9yK0JwT3uecdBKB96d4J56EyqdmW/GhJqOv6wNZM0/K5T8NmHKzWm9LbNF6vzozXs4BEQGrDSX+B1LS2JjV7jq7BMMoPqFpF1UXMbWollf9QxzY33LsZpqj8iuYz3UoICj4zxk/QlFe/nNBUbOCht3tl9XA1C6SZakGpWt0djH8QW5CPGZ4iDL48iuXLVC51suzRcC6WOKwTWFqbspoFFdWyhUgXX+myywZSL4H0o9cjdUxIOj0z5UMB0gULrDGkf7n/PtMqKrFbSCWFxUX41W9+Y46x9W8+9UmMP/ccbN625YDKWC5u/veXVvd8T73oot9j585dzFj7W0Z1fS17i5i97XjvslcXxT7DGo3VJBho3G1K42diSqcIOjqANzYkCKLtGPR0AmcQ5oY81YbnN0SwN2I5hOfrS7gSnFpjTvuUjF1HG0gFyFWNMZz3ZgT/R9A8+5kohj7XhpHPEiQZn/95qAsvrOtCLK7uGGBLFyE7N46zCJIjn0tiFMH79EldeHlDDF3GIXIEpZuB2+elMOSJdpz2bDueJpR3dFvg27wjjlvnRDH40S4MfZpA+pJaUWMY9FgEN8yMo36bNZZWQwjMLFmKroG09wH5Q8ixBKQ9w2ir/Vtu7JmLmBzcbt5TtbjrGLWVWsqt5nhLdG4CkXgUpZVxXPKnOE67ajtue9WPUROC+PFFIXzvHB9OHFOELw0L4avDPfjGCD9+dkEZTp9QgCseCuLZuV48l+fB+DlOXLuKgNrmJFg6CEbFrKg1djQX1chDJSv0OVUenDs3gJHT8zH0xdkY/Oxy/Dk3SKDkcYnVBCuNdQyZlpeDQUpd4yG0JAt4/QByWkvwh3ccuO4dN3J3uFDV6cbdeT4Mn52HsTPWY9xsH94Zfnhd+3snXLjvPhZwcpmGDRmGqCW0AW7ucxEQCYsGQmRMIoDcf6yt2mYbiHxwlTWzm3BagGqBMiv+ZlX+UYcZz7eFx6ze6sVlK6lLPdi0Pc+M56tPFvFY675ryuYgr245t5dY4HzEYclqFkgPVgtI+eHFvKWPutpkLt9JD2asr8bg87uxPqj6kOWMPopjqhfVTtplhleZsZwZZW0WSAdArOQ8SD4UIC0oLDTThm7M27QvABKtqwtfIgewjzz+GM48ZzzOOf88vDn5LbRuIRlQzBy0hEv7XDl8vffBBzCex5174QV44YWXsGfPHrPPVHI8TpHpqZlibzvegZSxt/4yvib9+NMeQJ3iG9jNtNXYxyjXpxPUhj9F2JrUhlfXxdEZ5XGa1pFpKihSN7SmYTOX7Esy9h39LvsU2jsSWBCOYtQrbTj1ib0Y/VwEp74Yx28JjPcujqNmq8YKEazNvZMoa+3Eha9145QXNFQhhWfX8+PIACPQoWZgFk4122O4b0EUT6/rxvaYBeXi+lBNEsNfjuLXGmv7dJJQa83T/kv+Pu35brhLdiMSVTzNKbyvVL91/SOL+7EEpLbYz/qA5810UJoYJaybQe5CVH7kRJg++hxQe4XWlFdjEeY7jS3hltnvAb+b0IlN9YSwqAv+zXlYRYB8bUMAt73mwnn3hXD6DUX44fgATjrDjy+f4sAJg704aVQBfnBeAD+42IGzH/Th+WVBLPESGGtZWbUVYHuymBW5jyAly/sw5lZ68Lt5IfzysRm4ZdlaFEeLsF0QlgyhLqbWRa1bmgmltjXx0uZcXLHYjTMm+3DGHC8uXkoIa3ajsiuAxz0ejJ3twtAZTgyd7sAFCx1YWu/DngmH34Jqq1or6+IaEyrjLIJ1wsF1dYMTUjQGldvtbnsbTrSu846khdRSv+mGr2Q8BeeNhM2mRL7pkm9GKVZt8eH3C/MxeJoDp8/ZiMuWObGyMUz4lEGLNcPO6tK5yKlZTGgqYliyMNo/zQJpb6rhM3pnW1MVqGXebEo4sSMVxpOLG3HW1XFU1Kpc3YNktM1qnGHJIwPPeNwemra/rLW5Iwuk/ZAe1UBPsdP2rwqkspiPEDyNuyAGwNyI/824jR43lY/SXXt2Y0/b/umjNA+qjrBbPu3z5aJJx+3ay0ylio4SIyxZFb8VGXu8as972GJv+3gYNVlx7bnUmmmxSkWMFbq6S3fzeUzNT2JZMIEIYUBNVjFuiyl9Tbd9FKmoxuBY1+lVMnYd9S57Xc/ATQLvVcZxLkH0Nw9r3vguPLy0Czs6dD8WNvqgQTc/fOK4b0kUQyd1mBbU057pxD2LoqjfZsVLFvj6XlZL6e5dwK4udSN38YOIcY8l0RGNY1lpDOe8HMMZz3Rj5KRODJrYaeb9nxPqxp6oZT2vfGu10FtJIo8CRxrzYxFIJZnP2k4LxUUx0pttKd9rfhBp+IU8KBjlwdZ7HYPDE8epF3Vjgb8CbYSsRjiwlZXvVuNahuAVzUd1h5+Q48E0hwsPLvLjskkBDLq6AN8YXYivjPLjWyMC+PawQnztjCB+fGYYw6/14KLHfLjrjWK8tcaH/KYwmnd6+fHhwNptbtzz3gKsaVzOKiuMhriH6ESgSpUSQmUxrhaYnmrBqSz2lzRswkVvO3AGYfO82V6MmuXE6W/m45JFLqxoLEBdNIgFVW6cuygX4xf78E59AXYk87E5FiZEhNA+4cKDwPNwtFatkIS7hlgRmgjZMlyygNSCULNkOM06VRBzcDz2a2+VvNRYPPM69thWdd83ENRrU9VY1BjEZUvzMWKGF2Nn5uGsGWsxeHoQ5873Y1GNC1UxDSsoxtry+YSmtwmp1vSPcs/V272yejiaBdLelUCquMfLzFS0jUm16qvscOL2x7bhhru70bpXZXsUiQjL60QEUflIT3abD+QskA6wHFgV7JMPBUhNtxxXVPmotVNim/+rtc4OlL20xVRa5muFx6QzhqzwM49TuPsau9ZzW0+xt30cgFRpY9LH/ONvpYlZ4xPRc1BXtWkZ5JYIl+n+U3mljKe6yXM8joeoYVUpdGDqZ0hGUh/9FlIFXaFiABlOb0MKF0yJ4ol3Iug0roKYf2LtXEZQuj2Fq9+M4bdPRTDkuQRGPx235u1/OorLX4ujaouOt9yIRdP+mmQMZUagpvRBRYA3bp3iCFQlcemUGP5nYhd+91o3XGXaru9sXUHusDQWifdW2iuM3H6kMdd1zRNLp529/Ch32WeK2a7/SlM9K5NSSl/1k1llgNxQ6cMzxjQW0Gt/49YExl8XxyPzm1iZ5BpDmboY4S/hRUNKrYAW0GyBF82scIx7JlZEZZ1BBHeEsbI0Hy8sd+OyRwP47bUF+OEFAZx4lgtfHOXBicO8+OZoP75/fgF+cXkAI2514M4pYbzlDGF67jzkla5kZVZE8M3htV1U3UO+FdWqZ3Xd1zAcMsxRGAq63Lg7x4NhbxViyBQ/Rs13YMxcL0bO2YTB09y4YY0DNR3F2A4P1m72Yt02Xk/nJqwxn+oCL0/JRY7LtNo2Jtxou+WCg+CzL912w4WYEd6EdQ1+ppPGawpACZgJWcTLcj/A9FFLpsaUWsZPGn+qMaDqet+3LmDttZJXPAU+AV6Tv3m9FqZ1U6oYoe5S3Ld2BU6fQiCd6yaQBnD+rAIMm5WHU6duxK2rfCjpcDFMhVhfsQh5addEBpYOcb+svp9mgbQvrQE/VNVTEA+b8c/VTKNmplcVP14vumUXHng5DuMdkCVSQsaoLHPkDsrwRpoxVG7Z61kg7Yf0Xi3sS9u/KpDK2b3tz0s36e1G2maPK9VxPY+1j+95nvbbx/c8r+cxPdczxd73cQDSwxElxyGS6/Al4xpHHUiZn9XCmzT+PAmNzAMtm/dyqV28H3+bH9yXW5PCua/G8IuHYxj7bAwjJ7XjjBcjOH0ScMGz7XDXpK/BvGSH1VY7TwqYBKgSZ30C183qwvoqAZZBYjXW8njlT6l9vtl9xHIsAemRioaPpPgRoHgqEeXvNsGPiDufS+KGh7eifK+6hzeiPlmC+rgHDcl81BGKBFYGaKjqTpcKmtQ62EJI3EwYayGUyeCnNBrAO+VBPLEgiKue8mLUnV787x8C+M64IE4c5cc3Rnlx8oggvjk8hP8424nhd3jwp5lBTHMGsarCiWIZ6STDvG6QMBWgulnxE/40PlLd5ITW3CY3bnzHQwAlmM5yYvRcF4ZOz8G1KzzY1Owk9MmQR4ZKBNo4YTGmOFhax7BKGwh6xjUTYULO4gWKstzX2M9MCH0/bUwWoizqwhamS2U8BGebB3VRN7byd1XCwwq7APVMx9oU1xkmpWmjfvP+vVXy6uo3Tut5vOVCKsRlkNdww7nDh2tX+jGE8R0xx4sxM1wYPtOFK9/Jx+pWddnzWRCa1pXNR36txpDK7ZN1Xd3P1n3b0kBl/85qb3pkQGr7Ds3cfjit5MeiqrXUfDxSm/jermO9NPTqbqz3qCyVbUQUyUQXZA+t3qx9DWdaV2FOyVrZ90P6qAPttP2rAqlgtCcw9nYj7bOP6wmYmWqfr/09r2svDzcS9nFZILXETtfD0UNKxu6j3mWvBjaqnP8LJjX6wDT4cl9cX72EGg07sBqAI3CWJ3DZyyn86skohj/fZXyMjnuj08CoTurUseg8IL7SfXlQrZ4J5pOYCq0U2qhm/CmvH0tGTEGWeU5/hVeiWtc0v9PL4wlIzbjReDfTSx+uah2NYXV+Emdf24GVhQXYTpipjoYJZZrdx0eYC6MmRqARDLEytivffZUwtRJOlLLyqUqV8PhiQpP8lTqwi9fajRKU7inEQocTzyzw4/bXC3HmX3z42eUe/PD8IL49zo8TTg3gs78owBd/EyC4hnH2Iz7cMSuIN9e5sbLSjYI96hIMYxu8vJ4LOwSn8CBvrxN/XOPD6VOcGDItDxNWueFv02xQTobLzXOCaEqECbch1EQI04TSfbMUEUY15k2AbRkeydG8D9UaB8d9TQkXt2vGqMN3yN8x4Xxez4UZVUUYv9yHZ0OslAmUGtfZIqf6iTxUqAueUK2W5xrCjLo8e6vYLVWLprVfAFnDsFdTBenBdi9u2eDFEMb9F1O8uHZ1CO6dcv4vcFULVdgAaV7tMj4Lgnz6mpkwauuRj3X9uOiRAemh9HgEUqNKD/NeWe/cYwtqcdUdSXR18NOXxbSMdo2xJYvXLJAOsPRR7dtp+1cF0p6weKib2BV4X2qfb2tv+w5X7GOzQGqJnX6Ho4eUjN1HHUj3FSQad6gxw9xItVx3WGOK5QZMUIqEjJO64K5P4Mo34/h/D0Rx+Rtd8NWpSz8B2XApL5khCumw9lRr6IO6dSy/pun+ebPU9oQMpwSP5v7WOQMhxzOQ2ulknmOqmx+WmlkM2LI9iQuuTeGRtxoJo1ZraHVERjAFrFjUvewgwDgMrMl626qUe6q2eVgBedFI+Gvkb83kVBd3E2QLUBNXS5+HEBmkWuNS/VsdeCfoInAW4trnHBhzx3qcfkMQ/36WB58/1YFP/ncePv/bIH4w1offXE1AfSCICW/58dJqL94LeRBo9GIb750koMrZ/V9y/LhxXQ7y9+QRFhieeLkBzZpELsPmNGFoSAkEPahS643CqHCrxVdx4DlmZiTTcilfpAUoJ2JXCma787CVaRKOFOPe9R4sPuP8g0A0U1cMPw+nvOXGkOkeTAqFURkrJJznMg01LjZEcBdoWuB4UGW+TwkrTC+rdS1owEVAamYMYlzUYlyyN4Db1rtwc44D7u35BHZZ/svYygLStQRS+SEVkNrgY0OQDaXHJRAdFR0gINWxXJoPAK4fD+mfGQfFTWmh3ghNFVyyO4hL7mzDrAUsfPjWRlWPqHdG5VEWSAdW+qgK7bT9qwLp0bqwLXal9kHEPj4LpAMsGY/hqHfZUzQjkNWqpszNAkTNpMzo+mdc0nJ/jPsjvLVaUgWfgfo4Jq6MINhsdberZU7TnsZiHQRcnXQI4bXjhE9ZhMfsZSpiDQ84CsIYCUf3pZ29PD6A1IpP0rQuM47p5/jSNOCC23aheLcTm1mB1CcLIAOmOhnvqLIlpNakNGuSjGsOrjwFcvXc35DcBM0oZNwfGZgiQBGe5Ky9hmCr8ZvN8TC2cP9ObtvBimoL77G2di5WVSzGuhoPXlvrwYMzS3Dl4wGcco0DXxhagn/5dQFOONWD74314Ce/8+PXV4Yw7u4C3PJCMV5Y5MeyYjd87ZrdKYQ9BAUBXFXCj+q4xr6q+9BDMCacxgkUDIOAUGCnMZ/WVIrWmDcTTgKuutOr06BgZnKK5qOBcP2434shM90YLp3jw5jZH2ye/bXbvby/hh4wHY1jexfT7dAzJ5nZlzK22d2/aultQRkCbWEUmDGjBO9EARpiFrxqpiYZNW2qs2Zq2tcqKnhQ/ATsVB17PEDR0dcjA9IDuuvTx1nDXqx0Px7T3k4PqabY1bs+Y0MIYy9PoHlzukxXz6spl6yy3CqbrPUskPZD+qj2PxQgTS8PkA96s0MdfyQBt8/JAukAS8ajONpAqqvZ1zVAqHGbamLjb37smm58eQeQS4/ovhbUFNGzA+2xTvWz87+cJBNUEzyOy5hp9uxddLoMliyAkp+CTrPUfP4J46N14OV4BVL7uVmFEj8EjIunOMqrIjjnxnbMcJSYbvCauJNgqYrEheqEk0tZu6tFUa2G6vbtvfKsJfxUs5KuMUtrWk8zpzbh01TSAq+E/Ghq2k0CH4GsOhkyQJVTvgB5dYuxm+saM6rWycL2Imys9mCx24WJC3w4+88e/PA8L04e58NJYzw4cYwfXxvjxY/GuPGLyzw4+74CXDcphJff9cHZkMdw6P5uAw8NvLe6uFsIyy1xTalZQCBgmEz4LDAQoAqsZcXf3O0lNGtWJPkdFTR7sbi+BOfNdWHE7I0YtcCPUTO9BFIvzpoRxojpeZgYcKDq8kO3nL47+jwsa/SiJRHAtkQh76256g/VQnqg7gNRhlfPpMpU+EXYnRAgEcIJRtWRfF4/zOvKyt4GUssPqQ1LNigIimw/r8crGA2s9h9ITRozzY2a4SLHKZBqmY5nA1XTBjdFHLj6oe14/DWVSHFE4hGW6RrPvr+szQLpAEgfFeNHCkg/yA3tYzPPe7/ffYl9TBZIB1gykv7oA6lgLd1NrrGkJoMnxaWWsnDROFLje5WqbvVuM1aRBwtQ1f2eYCEkwFQ3PM/hR/IhJWFuxGMJUPqnpX7bvkwHWj4OQBqL84PAuNyK4JWpcVx5/1YzlrIxxoo1IcfqGkspYNJc6oI0Wdh7rEqmDzXnyGjHVL5qMVW3slocnQQ7wqGBVbWWynK+iPvVSugxcLquejE21rxtKvbqiIAxaFTGUlsJg83YhLKdTrgaCjDHU4hbXwvhzNvCOPVKF/7jAhe+OTSMr5wexFdHuPD9s/34r0sIize68OCsEsz0+7Fxiw/BvYTPuNXN3WiAIsR1uZfymqEGxmCL8FzJ8NQnis2Y2DKGsTFRSZB1w9vuxQ2r83HmND9GE0aHztuI8XM2YeT0jbhsrQuuHX5s7SrA824fFo84PD+neyZcRIB5vzGklh7QykZVC24l00Yw0yzIjjlRE2XYGcfqmFp5NTQijDU9WkhtWLLcVFlgaqCUyyyMHo72D0iVxtZx+kjSGGju5/K4BNJ9cbXiW8XyYS/cWOwqxpjroyivVLmaMP9sULLLJ0kWSPshVpV1kHzkgPSD3jTznL5+99zWm9j7P95AqszQlx6hZCT7XwtI0z94fXGnIJSxMH9UoPC+avTk7+5UxHLpFEuY7hnj2oowKSvvRLKTl+iyLtJD7HDvCz/B09yVq+lbmN8mANaWPvTIxIpj+t76nV4ea0Bqh7unqECyVPviqKlP4tLb45iT08hKMw+NcS9a5OqJlUh10mFaz2QdLqt5M5d6su+KUxWx8cUJde17zLEN8klIqFO3uOWU3YNq7q/SOEpCmFonTSte5WI46pdjCyt5q8uf8Mjza7i/ksfVoxTNKflC9WEbfzdHfahu82BjXQFe2hDGTW94cN4DPvzvlT58bbQXXxtUiC+cEcAXhwbx9WFe/PIPIVz0oBf3zXRh8qYA8hvyUd5G6I0VECY8ZtzlNoZRFvAVjLOm4GwlmCv+TRpvyv1PB30YPceD0Zqrf6oTZ872YdjCAIZNycEN73jga6u0jMEiTrzic2PkbDdOneE8CEL70t7SVGp1syvt+GHAdWtYgdxv+dBq0idAcCbUyAhLLVEEUgH2gUC6lPEsNnCga6o1tYnwLSDSFKRmGlLCrWVAdXAYbBVY7YcnLfVstD29j7+tIQb8kOE2O+zGn6rZd+C1rH2WHrhd59ph0TARLe1r2Mfa4TgSVT61163rWuv7w9G7cr/iz7Q9GEi5n2rCn04jtVJrrLL5ONM9eJ7GZ6vXoIXbNLWr3i0zBtuEQWlop4l+W9c5FjQTqvflC26vTvLjNhFCM8uUxkQQNz65FQ+8IDsEFe8q263yWmVWFkgHQA4u+o18ZID0wxY7stkW0gGWjDz01xhD+kHEDoPUBqH94bL1oyXHK5Da6a7noDiqdWLxqhQuvnsLCrtUYXoIpKxEWWFYsyNZrW/9b73pWcnblaxARnAjMCA0VS5CXu1SAqnV0qT9gsH9LSy8hrrYebxATD4/rRmfwoRUVvAJFwr3urGmOoQ3NoTwl+kEx7uC+OnvvfjmqCC+OrQQXzzNh6+c4cR/nBvE4Js8uOB+D+5+y4N5Th98DQS43V4CXiHB1MVrFqAhXszrCoxzUUmoXlZTiEsX+TFsWj6hdCPGz8vHcK6Pm+vDC4U+FMtoKhHG5ngI1Qk/Xit149x5fgyewbDMc2DZ8N8dBKGZ2nPa0sNRk1Y91P6tpaBexl0rSufDUbPMAFQFwUct3auafZhf5kdZPIgtcQ/qu9Xi6iSYunh+7/eSyitBA+MpbwuCS7Uuy91XIz8WrA8PJ49z895FzD+8Ju8lKGmGg3DGNDaup6xWaZ0jcNWHTBPP1QeMoFit8gI4DbkQOOpacmFVp/Gx3FZFuLFgx22u1Vs4pT0hd79qm9LGaWC8IUnwY57SB4fyuWm1P+icnsrzTRrLYExAusAMhxDsNyeYvrxODdOmkfmxRtfmvVr0O17Ka/PDTmnNd62V57p2BPFmsRPuPX7+lkcLGQ9awy6UNi0pTb5w6Dh+VFVpac+wZsYoJ0PYkixCedz6oJyXV4GL/rgHVdUqmTQESyWu1RtmTb0NeLzMn2UVZj0rH1D6qFazQJoWO7JZIB1gychDHzUgldjhMCD0EQnToeR4B1Jru6aAjePxV2N4dFojK3zNNiRQCLMCEYQe/W7cQwMpK7U0kNrH2+HpqRqXpq7nJkERVS1OgpgKAlBtxAlPaxCvrfHiyokODL3Vj59dVoBvjfPiy2eU4MvDgzj5TD++/7tC/PzSIC5+yIVJ73ixKuSCv8VHMBA4CIYKCapy2O/Ce/Uu/OFdN4ZMc2LIDD/GzfZiXql8pBKcEoQugo5aCAUrOxNubGhaj1tWOzB4Zh5GzfHjrDkBDJ3txEWLHKi67OKDgNTWwwXT3tJEalrqZNDF9HmvnGlbk8PwBwmPTqwnjF4yz8vwu/GYl8AQY1gY5tpUOVqiZUzz3u8lrY150EKwqOZHSy2hqSZJCCN4VfLamswgsCeM8lgBATOPYbBau5tTDoIuz5dP21QJryPQJAAyfas15MC0ljMcgjmu60OoPqlW3lIznKCeHwS6joDWeBYg1DQT/N+vNbd3VX6ywl5lxhdzG9cFpfW8vglnr+fZ2jeQNpoZtKyxy+opUIt70a4AitrT4eS9aqMhbOd9wh1e3Jy7ESPeyMNNq1xw7wry+RQxnzkNoJfzHgqLvFX0bFU+ltTOiwLSOn5gNPC5yXdwXaIIBXtLcOND27FwiUomQej+FlJ73eMjkJZngfSIpI8qNgukabEjmwXSAZaMPPRRBFKJHZaPSngOJccLkPYm+54BC6aK2iQuubMbawpLCVSqpFmRqGtRlWC6MumtohkoPTSQWhX//m7Vg1XgV21gRt3XBEcCTGOy2GphMyAjoJUxkw87eY+KeBjLCn14epEL103yY8StHvzkEj++MT6Ir4z14qsjCaqD/fj3sQUYRni9dYobr6x1Y1WJH+UdhQaadhKiAu1yL+UwU3a+UV3MMLoIXV40JRiupIOwppbmIjNcQZ4KivaEcM+aAEZMzcewKR6Mn5uLJY0B7GK4M0G0L+0t/odSDZGoSRUSFMPYWDUfObWrCDyVWN3kxNlvW5MInD7Ph8GzXHjC7UW1gSYZQqlVr/drSuVuSqCuCQW2qrUvpiEOiqcTOS35uHiZB/c4fSjrksU/ASsZslr9CPQactFgJgfINwCrlkALOLlNXhDS+U1QqtZPtV5Wq8WekKbZfyoShahKFGCrWmn50aRrZIbPzrdW3rW05zbrQ4sgTDjW2Ga1YFbHGQ4CdpMgmTCcec0DNX3PA4D0HYJ+EcPD9ND7w7Bu4W9fuxe3rivEzWty4e/IN2mkNHHtKsStG4MYMc2FMbMCGDXdj6tXeJC/y0tYJYTGmXZMt1Kqnp/VdZ8Zjo++9kx36zefI591LT8m1Kr+yLQa3P9MAp1yx4IoCyfZGbBoknUsxe1nPqo4EJqycphiJeFBkgXStNiRzQLpAEtGHvqoAumxJMcbkPaaB6IprMoHzr69DfXdqlwJCRoryUqw967Ogdf+AqmOqUfalZEc4LPCbyQAqnWqmdCkMZIC0sq4A5UxwYAgsAjt1BZ44WzMxfx8LyYuLMSVT4Yx9JYgfvZ7H745Loy//6UP//CrEL44zIH/u8qBCx9y4o5pfryy3oW8Jj/WbnZhxdb16OB15KRfQwoq4qUEpWK0EtYM9CRchDUPIcyHojYPHtiYh+vf9WBRvZvx9KIlWoDqmEBQ3dxB0yqaCaK9ae9p0VP1/NSNrlbjUqyumA1n7SLMqQ5hzHwvBk1z4qzZG3HWTA9GznFh+GQ3HljpRag9n+epi7i3a1oqR/56LoJMteDtTORjB5ermwO45G0HfjM1D0Nm5uBxrxclnV7sJFRWxQSfCgufTcKBeqZHLQiEAtmYpppk/AlhzYTCZoEiQbcqtZ7HOwmOgtIgNscLmDcLUJIUrHIb9wlIe+aPngB0KK1jHm+Oab71TahheOpkiMf71CRlfJduzexTewNStZAWEZaZnxNO7CFc+3d6cc16D0bPCOH0qZtw89p8OPY4mcZuXLO4AIOnujFu9iaMmePF2OlujJzhxnmLc7ByBz9wmB4tzLcaHtGzh+BYVrl8q+b72By3xow38/kt8JbghodiqKgxBZKl5CXZr0rcfne2hfRIpY9qPwukabEjmwXSAZaMPPRhA+lf+35HQ45nIDWrVE1+9cxU4I/PN2M7HAQ0FysNq5Xs0BA4cHq4QGogIuNcW2WhL5cyDQI/dbnyWE39KT+ixvF9soiQU2pmXaoTcCQFqEWmctxCSGojvG4nhFW0+QgWIczxOjFpXhDXT3Jg0I0OfG1EAP/4izD+9TdBfG10EX54kROnXFuAKx8rJMh6MX2TFwV1QbQkCozT/+0E4XpWuo28l5zvy5CrJS4IcqM4EkL+7qAB5lZCRy2hqCpRBHkd6Jnm7wemh9Odr9bh5qiDlX8IayvnwlO3ElNL3DhzTg5hNIjRGj4w1Y9zFgQxaKoP16wIINzpNmM5zfz6vVxTKn+SGtqhvKLxoRrPuaiqAJct8uO0GQGcM5/XnroBp8/OwR9zPfBsZ5oIrBhn86yZ7o2JYjQQMBv5LDQWWM/ffETww6Gpi88zJtdi1vjlRqZhS6wAm5MaBqH8kM9ruIwPV1mpZ4bvQPC0lft6Kj8YmrsJwLxHTYIALu8S3Kau5Wq1/mZc80DtHUjVQlrPjwvNyOXY4cX1q/Mw4i0/RkzNxZmzNYNYMW5Y4cdrBS6c/XYuhs7wYsR8H4bNyceZs/wE0nyMnpuPJc0afyp4YxgZrma1KNr3PJaV8alm3mqKW9P4CkgDW4vwh/vasZ4fxqZQSgNpSl5UKC6fB6Xl2RbSI5L9Rf4BkgXStNiRzQLpAEtGHsoCaf/leO6yN963kim0dQKX/ymGOTklrEw9rCA0Js/DikOtMr1UKEdB+wJSM3uSKmFWYocCUnVlyjhGlvoWbNitu2qBE9BoXfdQZajZkVw81kFwdaCK+yp5bk3ChZakQLIE21AMuYFqIjyWtoeQV1+EBe4gHp0bwpl3hs0c/F8aWoIvDAnh5OFhfG9sAP9zSRBDbvPh4se9eHCuE0tL8lAT82MrwWYzYbM2KpdOGlKgVtEgVfBFYI7nmpYixb2KHwP7QKeHZoLooTTzXMFaU8LDGIXwTvkilNavwMYdpbhwmRPDCaBD53pw1qw8nDFtE67cEIZzr8bfug0IHWrMosY0yn2PhiJsQx5W7yjARcscOP0tJ0bymmNnenHWvAAGMc1+PdWJhxybUNntMeNXzexUXMpoTsY9Giu5aW8BZtaEkLNH1/Qa7wn1kULIwKnGGIgVmJb7aSWF2LDdY7wIyGBIflabCJG9hdEow6mWaWm9jqOqRdeMy+S1BUUViWpUJitRSyjVM29QF3kfec1WDVlQntSY00wgbeB1yuNegrgPp091EzA1eYIfY2d5MGJWPka97sc174awcGsezns330ywcOYMB4bP9uDcRU6s3ExANx8zzC/MO5UEdusjsfewHEvaYPI615MyXtMYWz5/vidXPdGM6YssLy0pkAdY1JqJVrjF5fNmgfRIpY9qOAukabEjmwXSAZaMPPRRANK+7vnXDsuRynELpIyGJsVKJpLYvCuFEZd0oXAzK2dWpjI0qDVdx7JqlsueQ1fMA6GHDaSHUh5rQagFnjpexk0NMowhcAqu6wlAVvenjicAJgsJNH40c1utaRlTXL2oThu5yIrf8tNZQA2a6xTsdMBR58TkDT5c85wL/3e1Gz/+XdjMwf+1MT6cPNSDH5/twk8vCOK068K49Y0g5gVcCOzyoJKQJQMtWXU38j7WtJ+6NsPE7bZLICtOjIeJz4FplQmgfamdLjqngunRwHs5KufgNfc7uHJ9iICUT2h0UYMYPtOJu3I3INCh8Z2FVLnbsgDIStP997fCJdBNt0KrJZvpWB0NYmZRHs5emI9hMzwYOT8fo2duwpi3vLhpdQDrN2tMrdK/gHnMiXLmsVrCrGbnChM878/zYvRrG/BQng/hmFrOPKhXizI/HBr5EaGxlK+E3Bg6x4cbVnjg3u7mc+PHBEHTmlDADueB+VV5oDLqNaoWdAFpHc+T6zIZwDnbvHjDnYMVjUp7j+khqCMg1TANzDV6tBILnA1MmeV+ILXcPlk+XgWkzcw7AnqND/79YhcGT9uIs2a4MGKuZvfahIsJncsa1BtRgLWNalUO4nQ+g0uWb8CKzUFjja/8p4klzNAGfkDJbZQdjmNV9V7K768MuswUvga0vdjFdL/rrVo8NzWCzoigNGaVUTH12cfTbp+qrLIrKx9M+qhqs0CaFjuyWSAdYMnIQ9kxpP2X4wlIM+NgTfmagqM0hrEE0pZ2VhoCUIEIK2tV2kfDiKInKNktnhb0aGyhgHThEYwh3X/N3tSOh+5jA5YFVqwYBaEGUDW+jXCj1lKqSQdzvuBE27WucW8eyF/pVkJSY7cLpbuDeDdcgHsme3D+/SGcdn0IPzjbj2+NCuDLI1z40nAfThwZxv9e6sMfnvThuZVhLC0KILDdiya1oPK62xkW+a80LaWspKsJJFUEVRmyKP6CarW6WRbgQQMnhzPOdO8tcrbPa6mljdeY5ZmNsS8ux+mzCzFywQacOduDIbOCGDffhQUNarUtRUOMaUFwU0thvfEXSaiTVTRhUtbtNQJ5PRfGXx8Q5eajhccpbKkKzCzOwwVz12HMjBwMmrYe16/xwr2z0KSZWh1liV/LczVGVUMkivc6cbfLjzNmOzFqNuFtpgd3b3AhvEdjOwWmBEqC6UthL0bNchJIHQReP65d4sWqFoGNrusgIBdZ4dTHBM+rNs/KjbION+7OdeBPOS4UdVoQquETuxjmvJ1u3LjWhSGT1+OKBT68R4AUwNYTlloF3Mkw08P2o6pJGQSsTCNjtKbhAB7TOruZYLm6bCZy65dwfzmP5QedwJ7nrdvqxA3LnNBY0VMJnRctycN7WwuZ1oybGd4RgKPFjfucbry7JYRt/K1WbT0Dy8uFNVbXzsvHupoWUvORSOCPFzJP+fks8vHGskrcMSmKHbu6VTohznJKM/GpjHL5PSipPLZ7pD406aPazwJpWuzIZoF0gCUjD2WBtP9y/ANpEgvXduHav3Rgc5e6jwVtHgM9DQSPo2FIcbSA9EhVYehLbXg98Hg73B4z1lDGQrKkbkp6UBYJYH19AG+uDeH+aWFceK8HP7/Eh++MLsBXhgTxxdMIqIPc+NH5YZx1fxFuet2L51e7sbaS5+70EGy82EmQ2kHdwgq7MeYyrYRqvdXUpqa1Vn49E4WoJixqStYqOA4C0UPpryYuxe/myrJ7E86Z68O4Ofk44/U8/Gl9LqpkLc84VREyG2OMe5LAEMkxYxlrzMeK20y52ihgFaBruIOAVc8ukW9aP6tT1VhUU4RL54dw2wYv/B3yEVtqWqfrYk40x3kdAqNav/N3+XHD6iBGTvHizBm5DIubugHDZubj2ncDcLeHUBhx4N48B4bPLcVIAunYOTkYN9PN8Htw8VI/3q0twOa41f1bCRfTMIDWuAA/DOceF+7cGMaQqR6MfCsff853MTwegrALjt0BXLMmjOEzXThjTh5On+HG+QsCWNSg9GbcEhpS4UVVQtf0oyTqwswKP3K2FRI6NamDw9ynuptpg2IC6WJsqlnBZ1fCdCoxkyq0Mr3kImzD7gLc9I4bVyzOx4pmgbg8D3hRQuBVvm+Rr1Kmt/K/gFn5XmrlwwPz37Gu+nhR67tpgWceljeH3fxweDu/Etc8HEVTszVBSiypKahVRgFevxdlFVnH+EckfVT7WSBNix3ZLJAOsGTkoSyQ9l8+Di2ks5YCNz62GVsicgjOSiKlsZh2a+LxD6QfVK10UWthMaFE4+HUcplHIHObcaeCylYeV03YCLWFsLYxhOdWuXH5RCeG3hDET37nw9eHefCvv3GbFtQfXBTAz//gw/h7XJi4OIQlfj88zU5ex4c9rLy38R51/FCoUuVNKFS3vmZTMkMRCD0aXiADrdro4buOWjLifIyeHcComQ4Mm+LA5ctCWNUqv5+as9+HMvkOTVQybgW8P8GbMCkH/01cauiCXDQJUtWiW8dj6hMetCbzGc5NqOT5GrO7YXcIwUghtjF8jYTqekJ0LeMhAx35EFXL7bLGAoycmYfB0z0YO02GVl6MnpGD02f7MXKOB2uaA3C15eP8pbkY/GY+xsz2YNysAPflYPD8XIyZug5vhdSyW4gKQmQ1r1nV5UZVhxuOnV7c/K4Hp8wowBnz3Bg/3YlR09Ui6sbs2gAuX+zFaZNdOHO2rNw9GP62F4NmBnDuDCcWNroI/jKY4kcCYbeV+owrbMD5quVOrGhx8p5qaS1FDfc1MA3erV6G3IaFhE25MmJY1NUugy2mUxW35e4og39HmM/VGrIgYyh7GIh6JDbzmCaTdhaM9pb3jgdV3jCTKiiO/IjQx48+wNZXlODy+ztRU29BqGkh1bgiikdd9lkgPTLpo9rPAmla7MhmgXSAJSMPZYG0/3LcAynXX50J/OmlBmyLqZJU96DGOXLJykMW0fvH5g2MHktAarVQHQgH9jYZvshyXX5HjWU/K1YNc5C1di02EVhdBJViNDMeci2l8YfeHUHMc4dx3+QALrjPj/+7KoSvj/DixGEF+PbIIL5+hgffPSuEEXf48acpPry1PoicenWRy4eqVA7tHWhO5lJ5fUKixmXKI4Kur7RSS2FNchPaJhzeHPo3vOeFe5dgKIQKjdk011CXsgvhTh+W1xcwLkVojckKPWzgt1JQxXwiqDTDPOTCh1DalJLBGNMiIl+sMjxyc2kNdygnxKpFrFowTYhX63IVrzG/0oXzFnoweI4L42c7MGK2DyPnuzG1VDMbhdDIeK5rDeDq5X6MmuLB2QTpIQTI0Tx2UtBFENWzCKI1lQtvRxB/WefF7avycOOKfIycno+z5hJc567D2XMKceY0L4ZNy8PFi9QC68LY+fL/6ce5Mzdg3PRNGDLTh8uWObGymc+YYWxifKsiATzkLiAoBwjMLgL0JvzubQ/WNigeGlbgYTj9WKMu+7oVzMOagWo9z2caxeUTV89Ied6Frck8ppEfJRpzm1K+cDLfeFCRLEYVP2DsGdF65rfjTa1hMoRSrmtohCzuNWOTsyWAS+5pR6Vx/aSRoyx9k5p3GnB7ZdSUdft0RNJHtZ8F0rTYkc0C6QBLRh7KAmn/5XgG0pRxPp3C3Q+n8My7VdiuMYIyaFLLECtjVRqHcvtzpHosAandGtpzmw2kAi+FSfPG1wiK9sGZWgwLCSOCqQChhsdGCfiEvQbGcTMr5N08trbbjRW+EJ5fWIAbX/Tg9Ak+/OTiEnz77DA+P8SLfz41gK+O8OO0GwK46hkvHl/oxLKiAIo6yxkOyxJdrae6Xq1mhkIOwU+ttZp6Uv40Nb5SLW6+gyD0/XQ3r5m/y4lb39uEs2fmYl6DXGIRWuXCimoZX3khd096PnLyXs34aciHoHWzwDauOcuZRvGNpoVQzvC3RZlGah1LEMSYJo3xYmzldRY35Brfpae9nocLlniwuCofu3gfk0+YjpoS1rXHi1tW5OGUyU6MnRvAqwEXmmMFTFsNCQigpCOAP68L4lRC569nbsTQaQGMmenEmXNzGIcgRs91YcgsJ34/34dF1T749vpw6wYnBs8gAM9wYAiP/8NSF9ZuluN6ueAqRLAzD3es1ThbHwYvWIuxTIszCa1nzHCbsaBLG3PQyvBvIXyuL1a+fRebTd5wMc6lqIp70aI52/lBUcmPBA29aE7kc7/8scqYzcFnFDDr8lZgQJ2/7fcjM+8dD2oZZ+m9DjG+yj/WuFnPFj8uvKsDZcZ2KY4YyyYbmiyjpgOhKSuHKX1U+1kgTYsd2SyQDrBk5KEskPZfjnsgpTz8bAr3zyrGthjhK1lKtcYqyqDiaFSIxxKQHkplNFOlJQHCMoIiUBCi5F6oMabWNbdpPavnUuM/dY7StDJO6Ih7DFBqLOEexruqy4f8Oh/mu/24d2Y+Ln3YiUHXBfCtMQ788/9txGd/FcDJo0rwP5f7MPY+L+6YEcDUvALk1RP0Ij7s5bXVMieH/6Y7PVVKrTAtbmZOeTPW1ItV5QvRePmIgwC0N1077iIMmlyGUTNyMG7OJsystqzC5StVYCpraTOkg0t9vFQRNOsI4uqmrmEcNf1mU5LAmJA3Acax3Qf/bicqBLYEs21y+6NufO7fwbCvaCjChHVOLKlXF67mvHebllcNi6hmnGTctHGvF3flbMT0Cs1/78FmjfPkPfJ35OG29V4MneLBuHkBjJ3vx5gZ+Qy3D6cRXkcTIM+euwGDZrnwYEgtzaW8RymCOzy4IzcXp0534eKlIaxudWAzn5nGuWpcrLfNiUuXhjFoehij5+Ri3Kxc/G5amNdW974P4xcWYR7htpUA+27JMmyqW0GY15hWxpdpoFZSWdvLbZO6puvjhHcZp6VnEWvmh0RjLMT0Yt7ncWZWLd635ztyvKmAVOBtvEsQzNULs53qbinAJXdHUF6t8ikCTdKUsIoo4/apJNtCemRiFfcHSRZI02JHNgukAywZeSgLpP2X477LnnF7bUEcNz+9E61RWSoTMEy3swxPBIrqsu+9YjlSPZaA1G4N7W2fpgNVV7FcQymd1DppWeYzrOq2BkHDdM1qnKXVWml8YbIyNmM+kzJ+4b6kg3EVVAaxU61kCQ9KdhdhXXkBXlvnwR/f8uPUG4M4aZgfX/i1H18a7MVJo/348QUhDL3Zj2ue8WLifC/WlvDa8SLCkVr45AifYMjnqLRtIPTJ4ntt5RLk1Cw7CD4PR0cRwl4uYBwjYQvAGX/jJ5Pr8uFqnmkiYPxnNmgYAdOgmPHXsIaqjjw85vXgkmUuLKpzE2xDBmplqS+fpHKMXx8PoCQiIxf5wvWgMaEZmcIoZ3rpevVRtSiqCz0Xtfx4MtbujGdJzI+H8hw4dTJhnWEcNWs9xszOw9i5Xoye6cDZs4MYMdOLsXMc+N1sN1Y261xNW5pnWpgDhNxppT6s3KL8FzLDImo19z8/NBqZB/N3hTBhhROjpwcwak7ItLSOmpVDyM3D0BkeMwZ1RkUYaytmE0oXYn5FKco6+FxTm5hOmn0qSOX7xOdh5ScX76393GbSsZD5xBq/bbv5Ov6BVM++iB9rzKMpJ5+DG/kNJbjkLgGpuum7DJDG0zM1OX18J7JThx6ZWMX9QZIF0rTYkc0C6QBLRh7KAmn/5XgC0p5ixcOKy+x3Urj+iQ5sIzSoFacpWWyMVDTuzXTbZ1Qoh4K0w9FjCUgPpQqz8W0qADXbFAeBR891wg2X1m/GxRyveKtlyDLssQzHlKY6T66K1OIWMoZRMnopiwbh2urFO2VePLwoiKE3+fC9cYX4+sggThzhxclj+PtsN379BxfO+lMQ90z3471qH8q7nKaltjVeRnAWqPqwrnI+cqpWEroqURvl9QWUcc0rf/gGUbYKsPV8NBZQHzJmDGuS26hNGuqRcGArobS6y48HHbkYQTAcprGz85x4uymASu7T2FR5DdAc9nVJWbNb077WM++p5VOulmTNLov+ZkKcllsEq0yvauYPTWjQRLBc3+LE5UtcGDbbh6Gz8zFu5jqMmb8JQ2fl4cxZhMjZIZwxxYfLCcTOPTI8cxI6eU/GwcCx4kA18M6l5tKX43y5Ztqwy4ELluXirGluDCOEnrYkD+fNy8VYXXv6RoycthHjFwZw0/yluHHhQoyc78H9Tj8qI3IP5uJ1XJBv11qmfxVh3YwTNeNrme68fjXjqAkR6gVpXLfyipXHjketVb5Xb4JgXd4I+JGmXoJ3vIW46cF21DSrXIoRRiNImI9mwEsgLc8C6ZGJVcwfJFkgTYsd2SyQDrBk5KEskPZfjl8g1R9rfYMLGHl1K7Z3Coy8hAG1jhKkBBx9VI5ZIB0I7S0NtU1xFajaKuMhdVmHTEtb9V4HcirdeGSuF2ffG8Svrg7jP88J4qQRQXxjjBvfGuvGv4/zYtDVLtw104PFFSG4W93mua6vmAlnwwLTJW4ZXvlQRgiU6x0NI6iMOBDoLoBj/OEZRNlqoLSHyoq+nhDs2xvGPbl+jJvnwxkCuDluDJ/G5TwXphT5UC0rdo0VjbpRTmiToY8ZW0iglTGYGQ4gB+oJdXsrj2gIAqGNAKvW6XoeL1dTrYzDmpZ8XLo4jOFTSzFsph/DZ7kxbpbHeBI4fYobVyzhMZs1BpZwG9PQAjdhUOMY5Zs0He60mskgEl4sryHkLynA4OlBjJm7CWfODWLs9DCB14ERvP7I2V7jGWA4PwKGPEMYfX4RRs0uxNiZbjzg3oiKrjCfmazpCb5xQmdMQzvUEirw1FSggnI9c+V1xff4hlGpmVAgyTirF4HxrSCg72L6zF5fjtsfbUdti0BJZW4C8TQ0eb3MH9ku+yOTPqr9LJCmxY5sFkgHWDLyUBZI+y/HG5D2zAPWagq1jcDpF3eglvDQijxW2OquLDYVhgGCXiqVLJAeLVV89wOp4q6WU1mm12l+9KiHlbnXzAS0PenG5oQTuY1ePLcihOufL8TwCW78+LwAvjGqEF8cEsDnBrnx5eEOnPpHF26fUk6IfQ9LfO+htk3jGeWPU+M1LQv9Mt6jKlaALQTXMsLTQw5+qWSA5+GoriUL9RZe/9niIvxmcj7GTAtg7DzN0Z5DqHNi0GQfzp/jQf5WDxpTufwAks/VMCrUjW0gUVAq4yl5DChguIq4DBMglTYEN4Z1C4G0iWlSGQ2jEqWQq6X85nxMeCcP1yx34b51QZwzcxNOnZ6Ly97egPeaNpru+NZupq0s/xnG2kSByWNGTfpbQKgPgKIuL65e7sRvpxI6CdBjZ63DmYTQswi5g6YGCaGEUwLqyNkejGS8hr0wGUNeWIwx88MYTSCV4dPduT742zUcIYRWquZtl5GWhinIIEyto2opVyuxfL5q+8F54vhSQbjciWkiA425Vn7fznR4ZEYVHn0xgd3tAqU4kiyf1G0vcfvcKC3Pun06Itlf5B8gWSBNix3ZLJAOsGTkoSyQ9l+OtzGkPfOAWU0l0daewvgb41hdVGiMbNRaUyuXQqyUzdSWvVQq/dEskL6/7gdS/bagVC6SyvWRQBhrlCN4GcKwIldlvpPHqXvf0erDHE8B7p0Rxvi7vPjl74P4/rgg/u0UNz73yxD+46wwhtzowZVPhPH04hCWl+ajYLvGrhahnYC2VS6Loj7I1VJNPIgn3QTZ1XlYt1WW5J6D4PNw9J51AQwllI6cJ+MoN0ZN9hNKXXit1INwRNb5cp3lIRz6jYFTLRzUfMKaWhaLIHdUjYkgmmOKtzXmso6QKv+eLer6ZfwrmSa1cSfD70bBHh827vSgOBXG64Ve3PBeCJsYR0340JQsZ54qJcBuQnnChWZNBMG8pXx44EcW11NeLKz24Ky5IQydsQFnzcvF2TPzMXyqExcs3WSmSB0yZz2GTnNizAwPTn96Gka+9J7x7zp2nhMjCKwXLXRgbqMPL4e8mFJcyPCGsc2MsdXsX3qums2J8UrlW4C875kfvyoQ15CIJn706rmb4Rp85jc91YzJc1Tmqps+bmA0ajETXATSkiyQHpnsL/IPkCyQpsWObBZIB1gy8lAWSPsvxzuQqlDq6urCn5+M4+l59azQ81k5ylpbxjByGdR7pdIfzQJp33owGFmqClyGP81qESkrsdsAAP/0SURBVIwVGUt109WbUNd4yLQ0taYcfH4aH6n0dKGEoLeivBBPLfLj948X4TfX+PCNUX584TQPvj7SiR+c48fPLyrBhQ/48fACD5a4ed3dXl7DiRam/VZev4T3DHVrvnl1s+bzebhQFc9HQ/yDw+nQGXJMH8CYWSHMrHATCjcYGGthHOoI2JqetZlwKYf/suQv52+5yaqNuQgvLjPMoEU+XnlvtSpa43HVmu9heJxMGznv10QFeQyv4I7XIICW7bUmKqhJlqIirjnhNX1pCHLyb7rm0xBo0p5Lk+ZcVzf+tkQIC+vCOPdtF4a/5cYZczy4bVUA7r1uPBtw4ow3XbhmlQ/P+csx7qmFOOXVpTh3oYyf8nDenHxMKwvi/lwf456L0XOcmFkooy/GmeEz08HGCxhnxSPXALjGVxoYtsNxXKof1SnGX1b2MoIjkAb4EXTNw3uwdKVKpihV89kDsUQamjR1aBZIj0z6qPazQJoWO7JZIB1gychDWSDtvxyvXfZaSJOani/RhbffS+LKB7abSljg05IoISBoTnVZ/w5sBZkF0r7VQFEv6a0PAxkOtSblLF7dvHkEGHU5FxGsCtGirs+kKnlZvctYRukpQxmXsSivSfiwsTaIe2evxPgHVuKUGwP49/EhfGOEHyef7sKXRgTxvYu9GHdvPu6Z7sAclwfF7fKN6cM2gp0Mi7apGz1aTOiTazCN4dR4Tj47hisTPvvSFaPOw4waGUP5CLxq9ZXVtcZVMs6Ezea4HOoXEXo1nrKAcXIyDmE4O4vxZuEq5O8NMV+UG4MpOdY3lutxxZnhYZ6ti9eaqT4bZCCVku9TDQmQ2y2mIdOuglDdxG2bk2HjUF8eEOyWaJP2XCpOSj/BsNarqSu35JvZrK7bUIxwZx7TlOd0l2JGmQtrd/J9QQme2DAbv31tKYbOCuOcxV5MLsrHw/k+nDFds0vl4OxpmzBiZj5eKQ+hMCrgdRo41dhRjeWtUXylxzmQaspQqwcgzLzkNENGVlRV44p72uAvUPnEMpewFONqImVBk9PrRXF2DOmRiVXkHyRZIE2LHdkskA6wZOShLJD2X45foybFSUvrd3FxCufcthfO7X5sS8nhuB9VrMCNT0RV1AKGXiqXI9EskH5QVRoIvjTuUC1ostxWyyBhipV7NZ+XWtd0rIZYCLwsmOJ5hLa6pKYc9RAo/XDXLUB++Qq4KorxxpoAbn7ZgeETvPjfiwvxpaFu/MupBfjSaQH8z7kOjL4zhDun+bHI70VgqwtVsaCB0u0mPFaYjFU9n40Fcfs1E0T70o4JF6CasFijFlhep4qAoqXmvW8lnGqYgGtvIW5Z7cEwgvJfNnnh212MHQTi+mQeKtWCbyCc5zJManlrSgYJoYIe5a8g00YuqXg8182kAfzdLHdTSpuMHgCNXW0yMMoPM4XDvAMBtFOnV3tx/Uo3VjY60cznoLTeyus2pPJ5XAgbK+fh2dzFuC0vhBnVLvxpTQiDGOZhs9dh9EwXxk8rwrC5Lgyf6sDLMujiefK1WpUkgPNaDXpuGeE5HrVZz4MQXk34rk5uZJ7y4tnlVbjt8S5s3WkVSEkWTGonjSfl9ykBt8+PkgrjMT8rH1TSZXymHFdAalVoVqDt9Z7bDiX2MVkgHWDJSPoskPZfjm8gZexUKCVj2LELuOHRGN54t9RUss1xjXGzjC8GGgazQPpB1QZAdTHL6EfppiEVSjO5RZJqrK9gVcdbMGbG/6YBx7Lk9mN1yTy4G94lYBUbsKzqDMDVHMQchwv3TPPivPsK8d/nhvBvp7nxD6d6cfJQH356oRcjJgRw4+thvLHBBX+z5nEPmG5wY/EOJ2rUAsn7GzdNSbVsWi2XmQB6KFUYa7DRjF9tRiVaCKehNhduWePGkDcdGDvdj6FTvbhhjRP+dhljCbQJNkwHuYGS/9JqhkXxFozrehbAK4wamyroVRpqXeNTrTzXM62tljt73U9w1fX8yNkcwi3LczF4ahDnLXViWbMbrWrlNXPVq6XXg9zyefDWLkclwb0kmoc7NgUxZLoHo+fnYcQcN8ZN9hvXV+fM3IDpJQqb0i+PcZAzfIGyk6rxlArX/jAdD2q/8/Z7r2ckl2M1SXk68ODOiVvw0rQ4EgLQdBkrKLXcPqUMkGanDj1C6aPaPyaB1K64BjKA9rWyQDrAkvGIskDaf/lYAGkigQiXr88HbnpsC+TcXFbIclputSpZLWCZlcyRas+KKQukA6GHATAm/Qqwsnw+cuuWoQXy/enDZoLZTgLBDqZ1TTQExxYHllZ48eSyQpx9pwvfHh3AV08P4psjSnHSUD9+fJ4XI//oxVVPhDB5bRiFbUVoiHnRlLLGfqqFT/40a1MELeOWqQw1mj40mYe9t5x/EIT21L0TLjAgWakudoLg2s1BXLl8E86YtRGj53hxziw/Rs7IJ5Tm4saVOVi/zcsPJ3XVC0TtFuLe0uIIAU9pRtB+d0shLnk7H6NneHDGHBkwufCHeU7MrXKhOlaJuqjLwPmKwgXYVLnSGIjJ6XtRpwvPeJ0YNj2MUXM2YtjsjRg/24U5NSFUxEuhmboaNC6Xz6UqVWyeh2nVzgzHcaL2e1/F59Ek8E5qGt0A1lcX44IJ27DR0a2SiSBqgdK+8oliTR2aHUN6RNJHtf+RB9LeAnE0AmZfMwukAywZjyoLpP2X4x1ILdWWBFwB4ILbO7G+tpBg6EZtTL4rWSmzYs4C6bGvDQSf1QTSvLrlBKhi092ubukWGfgQ7NSV2kJIauZx9bESlLUXYUNjGA/Oc2H4rT788NwwvjMuhG+M8eDEMV78YLwbp1zmx41PefG214einWFURzTlpnyIOgmncpBfiGbdJyHDJHkG8KEqoRbBYgLoJQdBaU9d1uTF2QscOGVWGKPn+jB6+gacOc+BwbN9OH9eHlZvk7ukPF7TxfxRyDgOLMyp6z6npRDnz/di8DSHaekcNjMfYxSWaS6GJQfzq4PG/ZTccK2oWI5N9auh2Z803KA16URlzImnPE6cPcONCxflYU4V4dyksRMtTJMW09JdgkrN3ERA+zjkccVRszNpOMQOpvHjM+tw1f0xdHVZZW0WSAdY+qj2P9pAmnn/Hr97Bm5/JWbpkYh9XhZIB1gyHkcWSPsvxyuQSuw8ETPO/iLY257CXROBO96qIbDkoiEuP4HZFtLjQZXejQTNteULDgBS+ZnVNJZmKlC5WiJEaQyqYEwfJZqJqoXH6eMkt64AD0z34Kw7PfjN5T58/6wgvjI8jC+OLMDnh7rw2xsCuG9WAPOcHrhbQqiOaRYkBzYTwOQjtCbhRHXcQRDxGKt5zWeeCaG96YULfQRBGQbJxZIbv3vbj3c2F/Oa6uYOo4qgW8182lu8+6PK885dPty42ochb+Vh1Gwnxi0KYOz0PJw2Nx+XLHfg3QYBqVr6ivBe+RJsYtrKI0FDXJMNyBOCB2XdAbzoLsBKzXlveh0Io0zTlmQhoT2EKjOEwM30FqwOLFR/lNS861S1DFcy3oJRf7MH59zejWXrVSJFTZe9uuolKpuyQDoA0ke1/6EDqQKQSCSMat2ukBLang6cRBlC+7U0+3m8fazZ3vNYrtv7DlfsY7NAOsCS8QiyQNp/+TgAqSztkyl1l0WwYh0w6rpOOBvk9keVaraF9HjQTCDdLCBlmlpTc7oIdbJ0LyKMFnFd4xsFq340yx9tzINm7t+MjdhJaC3rCOLdUAiPvu3DhQ8RTq8oxvfO9uILgzz4+5+G8O3xIYz7cxEmvJaPKW4nNjUVo7w7jF0Mww61DsY1U1IYTYkCY8hTm8rHngl9zwxVf9X5uHj+JpzxphvXLHVjdbPVtd2QdBPqCHIMZw3zSm/x7p8KnjYh3O7BLavCGDI1gFHTN2HIzBzcsjJshhS0Mk0bE7K6L8GaskXYVL2Y2yr5i+ktp/tJL8NXjNZkANu5Td4OlOfrZdBDNdb1TH/N5NSUCPEjYeDB+sNQ+/3uqXqXpfr4aUyVYhs/dibOLsYFN6fQ1Z1ggUTOMGWRxRdW2ZQF0n5LH9W+nbYfCpDqBgLLeDxu1IZSaVzbmRnkYqFXTQOpOTZ9vn0NW7Xf1vcT+5gskA6wZCR9Fkj7L8z1xy2Q2pJKdvM9l/FAFHvbUrjpbuDOSVuNX0trej+rtSizgjlSzQLpX1+V3k1Mz7VlBNKaZYTLknTaa/ynLMoJiITRBkKRLPdlJGTggcClqTw177p8hdYlighfBcYyWn5KKzp9WF2aj+eXeXHxQ07875U+fGFoMT7zixC+NtSNn1zgwbCbQrj9lVLMywvB16DW0qBpRWxMFZo59BsSsrrON6CSCaO9qaC2PuFAeUJup+THlICa0oQOAwtzGj/dEtXsSj6EOkJ4eH3AzDp1xTovynaGsIf3ayWsa+ynDKbWls2Gs/ptHk+wJ9xXx/OxJZmH1gSBnmEtT4UIoWrV1ThZjzGEMvfR/eRLNlHGex4fbp8ygdSGUbXKVxDOtzL/OWrKcOYNrVizUWVsFAkyhYrXLJAOsPRR7X+oQCrRTWyYVGD02zx0ZgBliVgibtSqgmEgNRqPIRaL7QNYrUv3AWl8P5AertjHZoF0gCXjEWSBtP/ysQDSRNS0TFjzRsfhCaQw7KrdeCdYhb0GBtUidWAF0x/NAulfX5Xemht+Xel8bKpZalpIlZ7GMTyB1Ep7fXjIQl+gJ3dOMhSSf8wAagRM6oo2hkuypPeYrn217MmgRxBWGvVjdb0HT7/twyUP+/G/v/fjq0N8OOEMJ04e68EPz3Vi9O1B3P5qALPyfCiPC0w0jpKwLB+ivF6FWmoJcJkQ2pvW8J6aMEBzw2vZW7yPXK08p9mwKpluMsIJt+VhZqkfnt0ljC8/1jSkIRpEDaFax68omgNX1UqTzrK81xhapW8tgbkySehmfDW7VAOhzDJeUlrKRZVmngoxPpb1f+/hObbUxNu80xZwK28pP8lYsolp18D0uffVzbj1wYgpY+PdUcRjYo/9PbAqa7NAOgDSR7X/IQOp9XBtFVRqKbC0JUa47BmMJH9HCYo2wNrnZEo8acGqLSnzhdN3hOzIZoF0gCUjybNA2n/5OACpIFQfpWbYTtyK3+OvxHDJHbtQsaPItITVmCkdBZCsbNVqqso4XdkcXBlZmrnd1p77s0D619MmddmXzUNurVpIi/dtt9w1CSAsILJAQi6/lOZ61loKmHyoIkDqA6U+GTRTfeqZWefLvZJmINI0pvmoiDjxXiiAp5cWY+zd+fjPC9z41pmlOGGoB18+PQc/vcCHcX/24u7pbqyqKUZlJIxWwkor79HM+zerpZD5rO19LPOlmj1K+VJ5SGryFEFPAK0xmdZsTAenx/up0kI+XuuTYVQRxGuTbsbNj1Zeu0ItfQyfQLhGY2IZ/9WlyrcrmLalDJMFnrUoMe6d5Ae1OSlIZXiUfuYeajXUR4DlnN+aOvTYB1Llnwp+LDSknARwy41WBZ9tnTGQlEcHPxYGKjDs2igKKlTekCtY7sTVU8N1u5pSWWtzhdvnJZAeL+XtX1nS6Zkpdtp+SF32ahGVWpWrWjVtGC0vr8TTk57FZZddgauvvRbTZkxHS0uL2ceDDYhG0sCoLvxVa9fgjclv4rXXX4eHXy4S+7qSpPEdth9QM8U+LgukAywZeSgLpP2XjwOQqmDaZ0gQjyCV6MDWPQn84bYknprVwgrFbWYHqkk5WEFr3nFW9EkBQAH14Mo+C6QfTRWQrukFSA+tei77f2vGKD0z89wIXFZXrN3FT+jgtpq41S0vJ/rbCCZFWz1YFvLggVk+nHmXB/99UTG+dkYIJ5ziwVeH+fFfFwZw0cN+PLvcg1XlLlR2hwmlboZR4CYH6h9smtJ9YU0yjP3NNwmpWvZ4HbPOa6Z/Ky2MMRhhVVOtrilbiE11an0uSqeLxl5b+Vvp2Pc7sf+Yg/cdqypjSBeqE/yAUYtwqgjlcX1wuFDcHsAFd+7CxOmEUHFCjIxhvoX3D/0zZRGXWSAdAOmj2v/QgRRUu7XTDsyGjRvxne/+Oz75yU/hE3/zSerf4G//7u9w1vizUVVlzYxgB27z1i245rprccKXvohP/93f4lOf+hS+9vUT8dzzz5mufh21P0NZ1+9N7OtlgXSAJSMPZYG0//KxaCHlq5pAF2Mpw4IokgRSbVmbn8KwK9qwuriEFYmmdKSysjEtPqxsLefsB1dGWSD9aOqRAemBasOodD90WWOMe2pjwoOGqB8t8SJsJ5juJGBq/vviXWEs8Idx33wvRv85H98Z7cLXBofxteE+fGWsF//vch+ueNKDScudyG8MYHPMS6gV8BZQWZZlwGdfunfChfvDTCDqGYcPonYce1MLMpkWBwDpMr4rVr6VKi16u+7xrGZCgaQHVcxjZgYuM6Wth3mihPnOjXumNuLiCR3YtqeT5UycRU2SQJrQwtRhPcvaLJAOgPRR7X+oQKpQ2S2kNpS6vR6ceNJJfH8/iV/9+je49/77ccMtN+Okb36T2z6BsWeOw5ZtW83ZsXgME279o9n+yU99Ej/80X/iu9/7nvn96U9/2rSqqtU1Go2ae6QyvnZ6ir0tC6QDLBlJnQXS/svHAkgZxyQ6WDXErPU4Y83VVCqCp95I4Pzb9yC82xpXqJYOdVNWp3LNnPdqJcqskLJA+tHUgQbS3vbrGRlNljCvFKeP5fNLWFNyboOHwBZCdSKIwE4P3g75MOFVN375Bxe+NyaArw8vxNdHFOI/xwdw2hUhXPGIG7PdThTv8PIaLl7DaeLBiuMD6aHCfKRq51m1AGaB1FI7neVdQL5VG5OaJEBuxfKwh+XHlPU1GHllBKEK9aJ2ESwi/PSNkEfEJDFTEtnVlMraLJAOgPRR7X/oQBrXGFDzGQLs2LUTF158Ed/VT+Cc88/Hth3bTXe8xoNWVlfhW9/5Nv7xM5/B1BkzzfG5+Ztw8jdOxqf/9tN48qmJZmzp5s1bcNHFl5hr/OePfoSCokJzrKb7isdtMD04Yva2LJAOsGQkdRZI+y8fCyA1eaPLtFJoHJflfkXlRBLt7SlcfncKt73cSogsQEVSs+gUGGOOurhang6u5LNA+tHUgQDSnmo9s973VfJZVhE+axJ5BDTem3BSTTAt4zn1yEdzSk74y6jFfMZeFLaV4K01hbjwPh9+fXUY/3F2AN8YFcI3Rwbw76P8OO0aL+6frnGahSjukJGMj/lDFvBeVCUOz59pT+0tzB9UzdSsWk8JSIuyQEq1gbSaQKoPVhmDye/sdi7X1hRj2BWdWLxW0NlpAFSDBg2SRDsR5wewMLVnWZsF0gGQPqr9Dx1II93diEXVCgLUNzbgm4TOv/+nf8LUmRZ0RqIR0xIqoHz44Uf53n4CF1x8sdl3z333mt/jxp+NtvZ246JB4g2w4Pj2t8y+6TNnmLirAo+bLx6rRTYzcvbvLJAOsGTkoSyQ9l8+DkCq3gz5IFVc46wdEomI1UoataC0rjmFoVfG8ejMOkKAB1XJIBriQUKGDF8sv4oHVEpp7bmtp2aB9MPRgQbSTLVhRC3ojQJOddUSRvRsawiktco3BEhZ7csZf11MYzH5gUO41LNvJqhug5NQ58XDs4O44NFC/PxqL/79nAC+OjSAE07z4z/Gu3DxRDeeXevHymrmxYgXuwiG2xmfVgJufSKIPTe/vyFUT+0tLoejJs8qf2aB1GjP51+VKENrrIJlhZPPNB+lO8MYdcNePPRCAtFYN8scNY7F1UZKlmCZSu5QD40pbXuUtVkgHQDpo9r/cIE0xYomRtiMq/IBKqqrcMKXv4QTvvIVrFy71myLRqIKCSujJObNW8B39RM457zz0N3dhXPP+535/dqUN/f5CdOxewmnl199ldl32eV/wK49u82uJCs5RdiOdE+xI5sF0gGWjDyUBdL+y8cBSImh5p1XF30sJldv+qBUZaCPSmucl6M4huG/78Jby6pN15ssjmVdrPF5FlTuh1LLYnv/70zNAumHo0cbSKU2lDTKejwhC3SNs9xvhS/jJ8v6XM9V02WGUJfwWJ4bkjpeBk1e7JbFeacfS/wuPDy3EL+7J4j/vjiAzw8J4J/+z4eTh4Uw9IZC3PJCEJPXBeFskON+L/NmGe/L68d9B4Hn++n+ePSVd5VHpft/m3iYLvuPKpCm358Dwj0war+P+9719MdpDZ+jcW3Fj4XN/B3cU4QL796CW+8BdrV1s7whh5BFUgRT4YHFChq7TiA1wwqtckllbRZIB0D6qPY/ZCC1bmADaVNLM/77pz/D3/3D3+PVN9802zq7ukwLaZzH3DJhAt/RT+Du++5FsDCM7/3H9/HP//ov2JibY45V938sSoClPP/ii+bY7//HD1CZNoRSK6udobTsGUE7ITZuzDHnXXX1tVkgHQCx09hO72ICaWmZ9RL3TP+sHL5kwqilAtLCfUBqbz9mhUFPJhgHM9TGMk6Mycew3t0ky4SU1RuyxhXDby7swORVDdiOTax4vKiSJTMro8ZUAYzfRfO7ADUpy21Qn2pXZlw3lVl6Xd2gq6sWYVPtEgKGNfuOAVhWcKoAD7hGVg9TlW7q5haQzjfQJMf4Bqh6Pb4/aj2jal5bBi0GhAibdSknt3shx/DGyCjlJsh5CG0ahyyI4XnGit36bZzSE3Q0u5GmHfXv9mKBN4R73yrA8FvC+PqwID53agBfGebAD8/3YNSdHtw9bRPm5ZegqruY5zkYXyeqZRWvDyjmRxs8309rmZdrFU4Crgx0NDGEAFvTe9bCxXjxQ4xhsl1j6eNMxn6ry+cxbS0re9Nyym09P6L00WW1qvY/H9vXlOq30ktpXa0ucoZZbrkaYhq3y7iYbS4u9SEgQ8R0OHhuTfr8vrTnfWy191UqfVgGtCZ0jzAqeC89V81T3xLXlLEu1BFKr524C+P/CGzdot7ZCD92CaOmbCE/JJJpIGX9nzaMNqVuujzdB6R+H8orKsz6MV3WfgjSM716W3e69wOpttl6NIRvmCW6ge3AXv/kyunFl1/l+/cJ/Oi//gtefoFINI70zclv4XOf+xz+7YsnICc/D6vWrcVnPvuvOPlb30R52jmtnNgKSiVTpk4zFvonfPmrKCyyWuR0L1t6Rk7rdibLyck197/6musQSQ8lOFoJ8XETpWNRURHK0kCalSOTnrmxZ94MFhQdR0ZNvQjjqvhqTHk8yndZFQe6MOcd4Jdnx/DWumpsUyWXcqBKFVFSYwEFGFJV1JqFRhVa76qK2qqstW79tvaFsEotpPVLsIXX1T7TAkPYtVqbDrxOVg9HLZCQr8x1FQJSQVMJ05PPyXxA/DV0/7M2jvgFUAeoFUYDtFpSjY/PNBTJN2mTgSovnE1FeHNtGJc/FcZPLgjgxKFenDgsgJNGhfGzy/y4+JFCPLc0DN8OtVwSvpIFBEon752PSvkV5TV7Amhfat2f0JV2c1Zn8rXcGWlKULWCWq2+mvpTBluryubwQ2op70lAE3Tvi7uldp43adBPtd6ZdHqa9PIyHJqGVGnLd4VAWh8vIJArXTV/vj4K5O/UeqeamRcaGR9rtqiDr2/r/jBb4bbut3+pjw19SNTECcBMG40zl8/iVk2DGg3h1ldqceltMdRvEQ90kQusXlirZO2pEpFJWtJlrV3megikPaEpK/0XOx0drt6AVA2JFqcNpPDN2i92a2UsPf6zoakFpw45g+/eJ4wR06DTB+HXv/0NvkAQ/eTffho33fpHRAmdU6ZNw6c+/Sn87Of/i5raWnOuxIbOZcvfwee+cAL+5XOfh9PlMdvsiEns+0q0tM9bt26dufd119+Irm6rhdT2AGCfn9XDV4m9lBQUFBgolWh7b+lq78tqH5pOHzudrCUQCBegsHj/cIieot/HUh7OlJ77+DamZ3KKUGV6H8O8ZRH89rwY3lhXiz2slBqTuShX5cxKurablVRc8KNWMFXmB6vZntR6z2OsdVVyq8rnYlPN25A1tmYFUmVrpjBVK+m+47N6+Kq0lcP5MNZXzCM0vW2gSU7aez/+aKueY+9ax3xh5Yn0ejqfSNXyVo2NzBdyUF+Myj0erCnz4dEFhRj2xzB+eJ4fJ49YhROHOPHvY4txylV+3PaaD4tLwiju0qxIbuxmXmo1niKK+SF16KlKmwSeGlZAGLPAWHmccGusx63ueMWnNinPAUVYWTIX+bXvEvaLe+TrgVPzfmRu4731bgicqw2E6iPDwXRyoJLvT3UyxLDqg7GIcMo0TPdo1PEYTdnaJNjOuOaB2vP5WNusMHh4rvJVIe/DD4qEA618VpUsB+Smqz7iwvUvtOLS2+NoalV9HzPTE+8b7teHyB+yXSKpDJVKXF5Pr132djkr6VluZfVAtaXnNpvDXB4PKqosILXTm0fymL8CkHbLsClhAWkikcT9Dz/Cd+8TB+mXvvJlLFq21Bz3+htvmG0//8XPUd/QYLbZ04xKNuTk4Ovf+Cb+8Z/+eR+Q9pxe1M400v0RBnJyrS7762+4mUBqdf9nZeBEraN2i3ZWBlaKSkpRljHu5viUhLF8tcX4KkUE894DTvl9Eq+9U4HtqfXYglI0oowVs1qQBA+ygFaXYfggbeR26cHragUrwIaaJXA1vMOKrZi/rRl3tE9A1fM6WT1ctVwuaf5wDYVwNb5r1q3n0/szOrpq3/eDqcLbSpBsSRQR+nzGAEo+TtUKWrzLi0WuQtzyohen3OjFN8cE8KXBPpw4ykNQ9eHCewN4aVUIOS0BVHc7CLQebEkG0ByTwdWBLaYd147HnvuuQFOiEFvixWiMu5j/8qgu5m/NRa/WQi/Dw7zJjySFS7MzrSpeiPy6dw2cKk8rv/amvafJ+6veAUut9Nj/HqmFWeEqZFr4CYpqwdSQCU3Tyd8EVXPflIZtqHW0gMdpOlS+bym9cwffqze17ydt4Lnqttf8+60EXk0AUJPaZJ5LqL0Y1zzeimv/FMf2XSo1uvgxa7HCwZ+/hxYxg8QXChrvP1kZeHG5CaSV+4dD7If8D/q03l/2Aalusk9Fv/w3bcZM/PPnPo9/+Kd/wsjRI3HDTTfixptvwv/96pf427/7W/y///sFahvqMWPWTAOO2i7rfHM9Brg7arVqbszNxYkE0n/4zD/tA1KBqCKlpcBUgLp3715s374dO3fuxK5du7Bs+XJz3SuuvAZbt23H7t27sWPHDrN/J/dn9QNqOl3tpc/ng9/vx549e8zvTNVxJr21ntVedYfSKJ2etiqfun1+eKhat9PSTvd9v7U8FjQd9p5qx2P7ru3YwVpl8/bNaNq1E9t2bsPenVu5bzOmLNiBUy7cg4nzKtHUsRblHfko2LsJZXvzUbzHiZK9jt51jwOle51Gta5t1no+yto8eK9oAdaXvI3qNi+vk4eiNl6P1zTHZF4rq4ehSr88VDI9VxTMwbqSRahq9zFtrXTt/Zyjp8Vmqfv2oulnbcLF9Z6/S3c7UbHbjcI9OQjszUVBm4vruajhMY2dXHasQ9E2J1aUOTFplRsj78zFN4bl4uQzvPjCIDe+eaYfg24I4foXAlgUCKByez7zrQN1EYaH1y7cuRHlvF7F3gCKd4dQttvL38p3ytN5qGCertjpYjgcKGrPY3jzULhrI493oGqvD6sKF2J9+dsoa1ccFZ8D431UlO9PMVVhK9m1hvfdwDQqQfmOIKo7NqBgdy78OxwMUy4q97hQvTsHpQxzeJefx3oZt429Xzet9nt6wLund9a8t7nc7mba+fl7I+qiGxHY5sE5dzdg9FXbUV3Vio5de7CFdczmnbuwdddWliXbsHOHypzeVe4oe5ZBqp9UxubkbUKAUKq6TNtsTjDllI7XeSrLsnqwKp2Ytna9ZJftSkMt165fh7IKq+HK/gAQjP5VWkgFhpLq2hr86Cf/jb/7u7/HYxMnIk5wjMSiZsxYc2sLzklb1d91z18wf+ECfPKTn8TP/t/PUFVdbc6XcZTd5Pv24iX4h3/8J3z+376AgsJis81uHbUd5Xd2dsLj8WDZsmWmq37t2rWYNOkZ3uNvMO7Ms/HeilVYv34D3nvvPaxavQqr1qzO6gfVVauwZs0arF692qTxG2+8galTpyKXHwzaZu87SHu7VlaNrlReXLUaa5l2Sj/lWxnjvf7mZOpbXN+4Lx3t9DfpTO3teh9JZbhtPSBfUJetewcrV2zAmrVr8O6KdVi/9l2sW/se1q3agBWrF+O5qUEMvbQbl9yfi9kbXsXSwFtY4JyGpa5pWOR5izq5V31b6p1irXNp1t1vYbF/Op5e+BBeWvwY3vXPxEL3m1igc3RM+tysfnBdyGexLDAdz8y/Dy8tYdoGZpn07u3Yo60KS1+6yGsf9xbzhPKGtW79nsJjpmKOZwoWBKbhbR/Pcb7K/DYF850zsNCrba9juXcqluTPwJQ1L+OpJbNwyysu/ObaIL43zoevjPTi5DPd+M/zgzj12vW47qnZeGbpG1gUno7lBa8xTV7GfMfLWOR6FXPyX8Zsz5uYF5iJuc6ZWOpgvs59GUu93Bd8HfN4vwWuybz/q1jM455b9CBefecJvgNTrbhkxLu/ar8n+96X9HZzLyfX81/HEv80zM3jPsebDPtkXP3ay7jgucmYtIFp55uKxXlMH89svO1nOjpf4Tul9/TA+/TUPu/J93K++w3GW+/tq1gRegOTFi3EaRc14Nrbt2Pu4pVYnbsC61bkYOXK97CE5cx7q9dh9QrV7yxz+lBTbqbLofXr11vlbc5GPPfii5jcoy6T7itrde6aLDP0pSa9WIfZ6WanndJZnPDSyy8jWBAy3CZWE5MKRq0p4AdWDgJS64YpTJ0+zUwXesbwEejs7jatneqCl1GTxnnkOR3453/5FwwaMhhvTJ2ML375S/jKV7+CAL8sJXIRJcMmyeTJUwxYfv2kb6C4ZL/lsX0/u7XUFm2X2EZNcvsUiVrXMmRu/mb1A2uPNJZUVFSgshfruczjJAdcJ6sHqaRnupWUV6K8su8upMzzP8p6KFFXW0wOrDU8J8ayIRFFAjHrvJQMFOIorEng3OsT+OMTm+FtKcY2+E3XvVw4WappH+31MBpSGhuqrj9r/YDtKMTammVwNr6HLWYsXhCyvNdYvp7HZvWDqYxS1E2bU7PYpK26mNXtag2H6P2co6WWQ/lgr2o9a8sSXGGT2lbhshCX0Zu6yltM93MB6lMypuO+hHyehtCUUle0l8fxNzTlbRnzkR/uLV48Pt+Ps+/04ifnufCdcX58bYQXXx8bxuDrQrh/bhDvFgVRFS3nOT7s5DktzG8yZKpOFPCeGuLgxlbee8POEF4oDsK/O8Dflby/NWxgQ8VCpu1Kpm058+rB+VXDUaQ9t/VPrfdIxkTqsm/kM21OBBnfAEIdxXhwoxtjZjoxfJYbN690Yv22UobNGlbTIMv7JN/RZLG5ltUl35fuD7OVX/RcZFFfiu3IZ1qFMdNZgxFXd+HPTwDtbarLWcezvIyluo3De6vLXlb05ALzt69/llgTc+yXQDiMqhqrMSxbf31wtaVn2tkc5vZ69xk1GS8rPMY6rueZAyP7gFQ3UDe7aSVl5fLgQw8ZGLz2hhvN/u5It1naBk+NTU340Y9/jC+ccAIefPQRnDbodHzmnz6D5e+8Y/ZLkukW0meefc5c679++lPU1NaZbXakzH15z56qSEv0BaTzZGVvGzUZMrfDmtUPpkzbns+5oLBwn1GTPgp6PoOez2ffOVk9WPXPfC1K7TQE/KEwijJ8vB6r6dlb+G3VkFHT28F/8hOYiEdYrejDle+/bJyMS6go6hqjuPrPcZx93U4sDGmKyFwzbs1YcSdk2SwDCLnQITxomwyUWCGaZdpIosaojJoWYFOd3D6p0pOrGsvVjH0N2xm5pfbvrB5KjbU403Ft+Vzk1S3lsyk0brvkCqi344+22q6DetMaPldp5m+dJxdMxn2U5spX/knI0b5cDcknrpv7HKhJOAmoIdTGg6gkqFYl/GgmuO2BC2VtfszOKcKtr4Yx6EYHvjMmDyec4sEXf+PDf53nxk3Pl+DNNWE4mxzMw5vQQbitjQpwvQS9TcjbE8aE95w47eUc3LNmI3L3ElwJeFsJxu8VT0MugV/jqS0/pLYxkBV221q9Zzp8UK1n/I1vXnPNtPIdUhyrmCZVsTw4t/nwp1V+DHqDMDoviGHzfDh9qh/XLsrHimYnKuS+KuEjcJegLi7DKKapMR7reS/9Zth5XCPTV0aIZpwq01HW+/UxpSfTHRvw4IwqDLs0ipfnxtEZEXR2stzghyvLiIj8G8dZlrCYkHsn/uF/lakycOpN0+VSup6ye2GdHg9KykrNem/1l7RnmZbVA3VfGvVIu0TaBijf6TzAYMxOe5bu1oYBlB5AqllY9hsZPT1pkoHBK6+6yuzv6OjY15IpbWhowA9+8AMzfeiiRUtw221/Msc/89yzxlepLVu2bsd5519o9t355ztN17ykJ2lLeyaEFVn5Ic06xj8aYmejrGP8/gtzK3V/2tnL42su+yOTZEr+BImnaihFN9o6o5j0KjDkD+14cm4VNsdkeGJVlDWqNKnVhIRGVsoGIFTRcb+ppAlG8peoVrK1FXIwvpQVe5HZZ/l8DKCnk/F9ANNjW1b7VqWTWrbkGD+vbjlaYc0z39uxx55aratWnlDe6JE/0tuMa6l4gB85HjOxQ0MijFVVAUx614OLHg7jP8/Nw2d/48XnTynAf5xdgPF3h3H/TD/WFvpNHt7Bc/K3F+Ky5V4MmuvAyFlODJ7hwi0rPcjZ4uUxZVhVscjk220Mi5kAgGHrmWf7q3qGlv9QtRZbv7VdHxsNiRJjfFVH6L43x4Nhr3swYoELZ87Ox/jpPoya68evpzhwy5ochLuL0BQPoy4myHQa0Kwm2Atu9Z6qhdp8qDAOgtV6pllDyoUaA68eNFJ3cr+3uQhXP9KIMVdHsS5fJQK5gGwQkU9jU0J8cNF5PctamxXcPh+hKWugO5Bip+2HNnWo3cIjeXfFe8ZwST5IK6qqzfbOrk7TQiqiXrFqJT5DGP35L36BXbv24MmJT+OTn/oU/vcXP8e2ndvN2FBJTm4ePv9vJxiwfHvJYrPNzkhSrWdGzg5DFkiPjtipnQXS/ksWSPuWuFo6EkqTBKKEU26hRrByLTD2Dylc/fAWhHcUEgICqGbl1pIIoSEia+Ui/i5AjVqfWPlVJvymQmxOlqOZW9dULjDW4DaQ1qhi5DKzcu8JHT23Z/VgPb6B9NBq+eh0cD1EoCq0Wv2M71APNYhwRxhz/S7c+lYA/32RB/92qgsnjgvjxPEF+On1Qdz1kguvvxPEZSucOH2uC6fPdOCsmQUYPtODkdNzcfmKDVi13Y+NxUuxqepdXlPDCKz8OrBAqudlPTN7GIPWNW+8Wo63JNR6GsTbtT784V0nhs7YiNHz3Bg914mRM3Mwdk4O3ihm3KN812Ju1DEd5PpKM64ZP7DJIGoSvGaqkHlDwyMK+J4WoYL5RC2wTfEiNGqJDZibV4nTL+vChIcTKKtT3d3F159MkOxgeWDV70ciKl17lrU2K2SBdODFTtsPBUitTJLaB5KtW7bg1MGnGyAcf+65qG+oRzQRw+69e4w124//+yf4xN/8jenalwTDIfzoJz82x190ycVoaWmB0+XCKacOMtsGDR6MhsZGc6wNo3ZrbKbY27JThx4dsbNSFkj7L1kg7VsShNB948P4P8YKKQEN/UmitiGCmx9IYfj13ZjvrUCznGWbcX1qiSFEypm2VK0z/N2Y8qIpqa5BH9ZWWjM1vR+QSrNQenj6cQZSdfdXqjs/3bqo2YTU4tfMvNeSLIZmgtK4ytKYD+tqvXhoPsHzKgf+c4wf3x3pw7dG5uMnF/jx/as3YvATHpw1x4txszcR9PIxfEoYFyz2YtVeNzaVzEduxSrmU6Wt1U1v8voApbPdk2BDqdTch9uqGadqQmUTlxoDm7O3BH94x4Uh05wYNMOJsxb6sKzUi82CTu7fnMonbGp8bAmBNj8Nt7bfVcsVlq6vFtM6zfhkxsO6UNrlxf2vtWLwRTFMWwbs0mT04Hsf11jzJCKJOMuDI69ndGbPstZmhSyQDrzYafuhtpBqWlBZ0qsVNNeRj29+5zsGCr/7ve9ixKiRBMvT8aUvf8lsG3f2mdi+c0f6fODFl17Cv3z2X82+k04+GV/4whfN+pe+/FW88+675hh11auVVRHKAumHI3ZWygJp/yULpIeQuMaDJ9HFNDHjwqL6zfSRsRMiaOtIYOoMYPjlcdw5fSs2bZWBisbiBVkxqpvRxd8uA6d1iWJW5FbLlYBU4xwFpKrQDwWk0iyQvr9+nIFUsCX4VOthtYaNmKEiLuYnaspjWk0b4qUGSrfAyY8jD7zNQby+IohTbwvjh+NL8c1xAXzvbJfpzv/xRSH85pF8DHnViT+uKMG6zfKLGsaayhnIr5XBWDE/tvaPgT0wLDZYfnC1Zkfy8prpcdVSc32No1UrsNMMhZFuZXg82zy4/r1cXLgkiHeqA9jK+OveZdxXxWu0xpxMD53vY3jVS2Hdo95cx2G651u4bTs/JOtihXg7UIqL79qJS/9IQCzZzXecH5+ET00BGuM7381qXdMMJzR49AirGp3Ws6zNAunRkw8VSI2xkAFECxQjaR+iTpcbv/ntKfjs5z+LT//d3+If//EfDZBec921Zr57SSQNi3IN9cZbb+In//Xf+OIXv4Kvfu1E/O/Pf4klS5aaCMillJbdXd281wdrIbWNmrLSf7GzUhZI+y9ZIO1bUqyENP99khVSN/YgYn6rnEgiwnImLuOGVBdKilO49oG9GH3DDkxfUYum7hArfsJnjJCZECyo9YWVIitDWdmvq3q7VyBVZZoFzyPTjzuQyvCoUeNImdc0vWUt85m6pmuSmj4zj+uE1EQBqiP68CkgVFYhGA3gylX5OGNiIX5CMP3O+Xn43lk+fH9YKb59dgj/eVkefv+SG+vq/MzTRVhTPhu+ehmM8ZqEuZ7pK48GGjutj6ojBVLbiMnyUmCpWed9mhLqtg+hQrNLpfjeEDbVI7FpjxerW/xoNecRZOMhM960lgAqY7DGlMadcp3poLGkdSDQIs+Es4V5ZAd/57fmYMIrTRhyeQwvvwXs3pUenqP6nQAaVTe9LBxlwJTU3G4aunNkotK1Z1mbBdKjJx8qkOpRy6oqFo0ZwNQsTfIlKtm2bZvxR/XCCy9gzpw5xrWTjJwkCphcPGkKUYmiUF1bB7fHB4/Xj82bt5jtEmONy0yqJntdWxHW+ZmRs39ngfToiJ3aWSDtv2SBtG+R8yfT25KIsGJiGZFKIGbKFY0lY3mhKUfRziMjiHQlsfidBMZdk8AVD2/FirIyVtyactFDMC0klLpNxVqXqiCQLkI+gXQzoUGV+n4gVSVqtTwdVFmzwj94W1Zt/TgDqdVNL+BSy6Is8dOwqHGTgjS1LibCxuuDZcWvbn4vfG1O/HGdA2NnezBkth+nvxLEKXfm4cfnefCt0Q58Y7gb3z8zjF9cWoRbXvLjpRXzkVe/BjvNUBM3IU+tmVYrqWkZ5XWNJftB4ZNa2+3jM1XeJ3SuBbX6gNPHm66rdZ0XNOM8G9TKyWUj41pmWkQ1laeD8dbUopqZyo2WuAzAfKjQNQiiir/GjDYQZqsSLpNGMtKq7CzGW6saMPyKPbj27iR8RXzP5XaDb7XslwSecX14yopedX2ii3V+G1X9+EdW1+isnmVtFkiPnnzoQGrUeuIGGg8nz9jjQRRA61/vYvZTDZAqMvqf3pYp9rYNaaOmnm6fstJ/sVM8C6T9lyyQHkpYJTE99KmaSnXypzU+XUZOZsw6k0plnlLMmoA0goatKdxxfwqjLu/G/TOIpNsKWPmpNUfWvvKPWIa1lQuxoXqx6fo0cMAKVxVvPStPQYOppAkZMojSPssi2Nujcs9qplpAGjZAuuljZ9Qkozq1wFvjLy3/plYXvvKXxnw2c598cwoiG6hqwW/meZNLPRg/14WzZcg0y4Ux8/04b24Af57hxqg/hfDjs0I48QwfvjHOh++Pd+PySX4sdIZR0a4WURntaVgK75skPPK6dRonLQDU2ExZtAs0macb+fFVrTzN8Gi7DJhquF4V13F8duZDjGHjMTXREBZVe7CsWWOyNS1oEJW8ToXm2Od71JR08nzNae8zY0rlE1XvSTk2cruX1ypANQHcSgMteS+CrIYztOh8bl/ir8C1j1dh5B/2YsESIB7TW6xyUGPHCaHGiJFqbTYunsxoHZWX4hxtPwIxl+tR1maB9OjJhwykHx2xI5sdQzrAkpGHskDaf8kC6UCLCsEY1ufF8YfrgN/d2oFn3q1EYVvQuJJpZoW5omIBNlWvIBQUs/L0Gqto+U2sScqfKStbbqsxMBpmJa4WVMGoKn8LPnrT3kDl46Zyyi4gza1dZmC/t2M+bqqWxRoDhPogErDKSbwHZfEg5tYEcNGSfAyd5cC4mS6cO9uH0yZ7cI9LrZYBFO0M4eXlQZx/XwA/vsCBk0cH8KXTA/jW2CB+/5gfUzaFULBHrs/C2Kr7Mf8K+tQaqTGmjYTUBubluiiBM2E9D6s1lHld+Z7hqmc4NKxFXekyCKyKePCiz4UhU/04e5EXy+plDOgxkNug8AtieQ9do17Xp1ofdYRwAnG9ADdRgLp4gQHeEvltjVtjTuVQP7emAH9+aYtpFb37uRiaWzRWlACq3g6SpsBUY0QTxv/wwEtmWbsfSP1ZID1S6aPazwJpWuzIZoF0gCUjD2WBtP+SBdKBFRWCCVMQRrB3dxxT5gHn3hbB7+7cjikrqtEa8cNTNxeb6pexApYDbheaWInKcbfAsooVpyzzLUfeLtMKpdalWjn5VqWf1T41C6QHqwFStRIKDJOFaCas1cdzsXQrgW+OC6PfdGPMHAeGzvfhzPl5GDFnPYbNzMfkUj/T0Is9zI+BbS7Myg/hyicc+K+LcvDl4X78y28d+NEFAZx/fxjPL/UhuDVA4PPzg4sgGC9i/i1AVdyPSuSbvFzD9RaN6Uxq6IqgUkMKgnxmhFFBJfN4RaQIL3h8GD7NhWGznThjmgNnzduEueUh41e0CQTeRAlhN2QAVdeolX9SlFMD5vpy3SQL+iq+O/U8bhvXdxN28xtDuPONaoybsBc33se62bkfOGOaECPZzXc3TiCVBx2VgxbMDLRkgfQoSB/VfhZI02JHNgukAywZeSgLpP2XLJAOrGgIkMabRZN63613vqElgRfnAuffGsElE7bjmVluVuDLsQMhVMZlNexgBUtwSBSiSjPwpDzGGKMp5TMVthlbKkvgDNjI6oGaBdJeNBVCY4J5KOlAtcaQJooIpS6EukJ43EEYnebF4LkBDJ2XjzNmbMLw6X5MWJ2DnJ0ERh2PjdjO6+xkDnynYC5e3bAU984sw/9c4sfnf+vEV4f48MPzvBj75xCenB9GeLec7DPvJsIEQrXeyx2VDIvUIlpIVRc983O8wHS1Wx9dQZR0BfCEMx/DZngwdI5cTzkwbk4ew0Qone/C5AJ+tHUXmh6Fap6j1k+1qJrhARriwm2VyTzehzBK6G3AJobDjbLtZbj7+c0Yd80e3PpEBCs3Am0dei+jpj6JxmQXIldumqUthqT65inEUrMcaMksa7NAOgBiJedBkgXStNiRzQLpAEtGHsoCaf8lC6QDLEw+4yIqwXRNJJDQ2FONL00lUN4YwwtLkxh2aTfOvn47Fvsr0ZAsRitBqpGV6WZW4q2sxJvUmqWK1YydY0Usw6gskL6vZoG0dxUENpuWSR80YYNAcGuSH0LRPDwTcmD0XB+GTCecznDjttX58LUHsZX5TxM6lMnBPIGvNVWIDbKyb1mGpqRmgfLh7ukB/OLyAL4+3I2Thwfxg7NdGPrHACa9HUBBp8aWetGaLEdLssR0p6sbX+FRq21dvAibU4RjgnILwxRs92LCinUYND0XZ8zNxahZfoyf5cXoWS5C6XpMCuSjUT0JyGH45VGghHHJ428n4bcALQJghrnadP0T7nYX4cHptfj5ZZ248pEYcnwJtO/ROO8OvotRJOMyWJT7Rr2rcQMv1sekQCbB1zjbZX/MSB/VfhZI02JHNgukAywZeSgLpP2XLJAOvKiFVN32cTN3dRt5tEsJyz2q6ICVuUWY8EgZxl0Xx+UPbMVCdw0KdxYYi/ztVI0prUyquzOIalXeKRk7FRwEGlk9ULNAerDK0KlC/jajhQS6IMrUkogwKmNegqAbNZF8vBx049x5ITyQ70So04Et3F8bDRiL9sZkCNXG6b4fK8rmIKdmCWFVedXJfOpFXksB/jItSDDNw3fPDuFrw/z47lkBnHGLH6/m+ODfoa56+fp08pmE0awPrqSMm5ifma+NOyrm8ZZkJTbtDODWtU6MnhHAuGluDJ/qxujZbjwVDqG4WwZNmt9fU3yGUR3l8+V70sDryt9qM8PXQPD2tZTgqYWtGHVjFy77UzdW5wJ7dumti/Ptk9W8/JTLSCmJaGIvYlF9LBJe0sb1ghgBKdeoAy9ZID0KYiXnQZIF0rTYkc0C6QBLRh7KAmn/JQuk/ZPe8pxSVFb3KdV8MaZtkr/V6qLf3FtS7kVZcSG2tgLPvJLAWdfGcMl92/Die1XIaS5DHSFgF9Ry5EJdRONJ5VvSxUpcrUuWmrnLzVJj8XpCyMfDsrw3zQLpwWqNSw6gOUkgpcoa34zZJAxWpYqwlXAoh/Grt/vg3BNGU9yPevnyZL5qTIYJeYUERjeBz433SuYybVcb/51yqySjolbu25b0wlEXxl1vBHHKdT6cNKYI/zbYiZOGBjD6tgBeWR+Ea6ss7n0GduWKqiruJvD60CrLed6/mvs2U4v3enF3bhCDp7swdpYLrxRzP4G6NVFgjRnluU3JYjTE5Uc0j3AcRGlnIZaXFuGhKZsx9pou/OH2bqzNAdqNZ0e+n6yHU9EIoTNmWkBTqbiZ3CbGH3p/5btcat5c40GD6we/1gMimWVtFkgHQPp4VlkgTYsd2SyQDrBk5KEskPZfskDaP+k9z6m7T74K5URbcGplXXXjS0LBIpSk8632tGxLYerCJC69NYlzb+nAA1NasCIQQkvUib3wEAZ8KE84UctKWOPyBALVxqLZY8YFyorauPwhpNYTygQh+i21XEalIZawesROy48BzQJpb2q5EatLebhuOYdviLqxmXlH++VOSX49t6echFBZrzPdNNWmxmoyv8idUh3znCB0bek8OGqWMD+GUBOTz1A/mpXnqDI4Usunoz6M+2f4cCrB9GujAvj8EA++OTaAcXeE8PxKB4ItIWjqzxZ4zZAAuW5qSRYQhN1cl9/eEEra/Hg4z4lJxbnMrx5s4TGVfBeamO+V//U+7MAmFG1z461V1bj16W0477o2TLg3gY2eBLrievf0rrF0e2YSKYGYYKvplt/LXVK9nRHTWqq+CznBN131fFlT6bGkAy2ZZW0WSAdA+nhUWSBNix3ZLJAOsGTkoSyQ9l+yQHp0xc6XUruADIfDBwCpvezsTGDNJuCOh2MYeUUnrntiN2ZsLEZ5uws7CQaajUcubTSGTi6iallB12icKStxtXhpmkTLl2nAwIX8QwoW5DzcMvwQkKoFVesEDe47GGCOXT0egLQ3N17G6XzGtoFSO19oTnep/Xv/MdqmKW8LsNqk7VJCYxEaCJOC3BrlIea5hogfLfEC5lFZ2vvg3FyAe2YEcepNxfjqsCBOGuHB98/0YcQtBXhmuRuF27zYzes0qguekCw3TfVxL8Pg4XNkXo7KSt7DfFyIWs3SlHQQQv0GWDc1FeCJeU244I9dOPOaKJ56I0aYi5iueGOsZD4GE0hs2HAgjNqaFpV9sSTP47sZF4yaITaEU7l8SmbHkB4z0ke1nwXStNiRzQLpAEtGHsoCaf8lC6RHV3rmy/1AWojS0lKzbnUVSlQ5aV0OuTsRLkvh4WeA8VfH8Ic7t+G5eQ3Y2KA5ymVwEsA2FGIzwbMlIVc3lmPxBjjQlHRzWxCthIQmAwuCmQPB03T7cykH6j23H+t6vABp5raPJJDG1UqvaThdJo9V80OpGm40JnIJl8yLzHs7BKZ1Ydw71YPf3uDD18cE8NXRbpw82oOxf/FjSk4hKjq8fFb5ptXfOMzXx1SilB9eLt4nTMAtIuB6UEFgneeqxe3PN+HC23bhD39M4fVZCWzbbaatMENkEnx3YpqdUcNCqVpNTbjlYCCVUvS6RfRKqjU02c33VHOzydip25SKR0Myy9oskA6A9PGoskCaFjuyWSAdYMnIQ1kg7b9kgfToSs88aa+HQoUoKdkPpPb2JGvRaDyC7pjKCrmiiaO2Fnh1FvD7u7txyR1bMeGpFrzyXhW8O8KssJ0EUxdaUtZ0iGpN0jzf1QSJCu5Td30zK3jLqb7VdW9NQWqBqNVaaoPHsa/HApDq46Av/TCmh7UBtKceeEzvQFqdKkBzIozmeB6qUgTGRBGhkiBKSK0nTMplWU3UxfzpNuM811UU4s/T/Dj9RjdOGlaAzw0J4KSzHLjsCScW+/2o6JLjej8/qDQVaC528uOqOlKAdZXleGx6I668bw/Ovbkd907sxjsr43xHNBAmwdIrgQhBUt3tiWSE71PcdLdbY0VVtsUPhlFbJTxG53CF/yPGH6laShOaGljbBlgyy9oskA6A9PGYskCaFjuyWSAdYMnIQ1kg7b9kgfToSs88aa+Hw0UoTaetNllOuLXCJQE1ytWuVBQJNfOkwXRHWwwbNwETX0ziuvsjGH/7Llz5RCNm5pey4i7GbgKDQKGS8FkTd6M5SkBLOxDXLDgGSg1wCEbVxe+HZsvpG0SOPT0WgLRnemeqDNSOZmtob3pQGA46JhNIl5l8Zoya5KYsKeB0ooF5rSJOoNasS+kxzTWEVrl6Emzv4PPYmQpiY0UR7ppcjP+72IOTBxfjhNPc+OllQVw7sQjvBLyQY/3czV48sqAKF9+9C5fd0Y3bHkqaCSaCJapDjaWSkViS4EgQFXiYV8W8X/IlquPUPKrWzrSRUiaMUlMTJhhPGPvcQLEs1Pz1BmTT5/XUgZDMsjYLpAMgfTyaLJCmxY5sFkgHWDLyUBZI+y9ZIP3riZ224XDBvhZSyQFpn1a1nKonURWq6VvkcxKcylK4uYllS04SL89I4OI7OjDs+j24/dk6rC0MYUvUgc1JzQleYsaXam5va25zgoLGjWqcqcBDANKji7ZvIDl29Jjoslca96Fm3vce2tDb+X917R1I6+Hgx48fJYkSlHYpn4VNq6lmhKrnsioSQlPSAt6qhAe1sSCfiYab5KMx4cLqcg9ufqMA3/2dD18f5sW3hxbgN7+vwwV37cCZV3fizscSmLUsBoc/hW17NC7UHtPJ94LwKE9qxldT0oLJRDxKKLUgVG7XrPeIWGoxiSUZQNpTn3o3ghdyu7Fbffj8IpSPUlMyWq+j0YGQzLI2C6QDIH08myyQpsWObBZIB1gy8lAWSPsvWSD964mdtqFQaJ9R04H5Vq09Haxn1TpDVW3K/2opjaVipoPSHmOqHRHW0S0tCbicSdzxTAJn/L4bo6/YjSdnNyK/sRKBXfmoiOWb8XzNZjyexo0SDtJO0jX2Lwukf13dB5vp5UHKj4Sevz/8Z3IgkOaYLnvNmFSAUNSDhxxuXDp/E+bU5ZhjGnU881xjohRVSX4ExcNoTXkIsDlU+dINohq5hNcwAq0FeGB6Jb43dDu+dWoEX/5/Hfjcf0Rx8reBBx5KYMduCyjMS8CPsliMbwAhQ99ncfOOCEJjVM1Dr54EHsd96mhImF54/TAXMGLeswwQ7amDn03grXVR7GxTXc1yUadnaH8ls6zNAukASB/PJQukabEjmwXSAZaMPJQF0v5LFkj/+lJQECSQFpn1A7Ks1lnbWs671dqjFiDbdZT9fKSqLNPAarbH0N2dxJadwKINKVx6Zwxjrk3i0j/vwmOTt+FtTxFBgs+zTfOBe0wX61Z4CRbqXg2hJqHue8IPpITUfTAiGNLYU22XL1Sru9+4EjL7NfZRrXsyqBLs8nrmHGvf/qWt1rn7YcdWndN/8DoWgFTGZwJNTX1pw6darpu4z3ww8Hd90mu2mZbTpKDUHmN68PXeT63naZ27fyiA/Tx0XWt7vcJj1q1ja+xnIndR5vkWEkjnwlG3FDtRgtLOfDySU4RhMwMYNM2Byxa6sbjBhyaGWVN6NjKPbWbe0RhSuXmqjRcgsM2P1cWlmLmxAX+ctBnjr92BS69N4Pk3E3h1XhQjz4/iqz9I4Z9PiuGfvp7EkDOBJauT2LVH+VwfYoRPvgAGOPWO8Ld8icYJHupil8jHqHUsl8Zy3oIS+90SoyT43iRvmXAQkEpHPN2BZ3Ij2LxX5/I0Hq9zpAe8q0comWVtFkgHQPp4LlkgTYsd2SyQDrBk5KEskPZfskB6FERJ2EtWTKbTNlQQRlFpsVk/0jxr53erxUgWxlarqe6bSCTQuiOJJSuBvzwM/P7WGC6/pw1/fGYrnpxfi0WeMoRaC7A5HkQHAXU3ZNFMaCCYViVsgBGAavyfBas2sApYNDVjlX7LJQ9/VyU0dziPJUhplim1ntVxn2BXEFtvlLAjS2qBFtcPaJnVvakCIA0vyIQvG5p6butNP/pAGkRrQmnkRTmhrVrryaBpVVQrds6uEAoiQTOrUSX31TI+TXKvZMZkWoZofameQ0+1wd9aLzTp2si0b5AVeypshnNUCTjVasnrN/DZNFMFlJY7MJ6TLGb4nOYZ1TPE60pnwF23GIVt1bh1YxBnTPNizIxNGDfXjdOn+3H+fCfm1vsY/qDJU5XtbuRVFmPqmko8OLUFVz1CAL0jimvvjGPiS91whRLoigkaNC40ipYtUbwyOY7fDk/iH09K4hMnJPHV70Zx5U0x5DijiMfVdc8Mzv8x5v24aSFVl30aGvWBZqbqjZh3zYJIvSc8IM7fZpIK7ua9WiOE1gwYtfVXD3ThuQ3EXR6ia8epCcKs/c5Jj1R49r7ztcwC6QBIH48jC6RpsSObBdIBlow8lAXS/ksWSI+CKAl7yYpHA0gt1TSlMasCZuVp1bpWK5HMNLbuYKEcAl6ZA9xIQL34z3Fc/uBO3PxMI15YWoiVoSLUthcaOG3DJuww3foElniRAUuBZKPpdnUQcKSa7lG/BZaa6Ud+UQOoTHrMrD8GWg3ESHWc5uF3EYqcXLet/XtXc82MbYerH3UgVdwqCIO1CRc2pxyEziC2EBJbmC7Tq5y4aH4envQSRmPcFvegMREmIDL9eGypSc/er9ub6hnsA3u1uOqZmWegMcXa7yWUyvl9iKpu9ACVEKzxxwZOwwTnAnNOhT40UIGNJTOwpm4ZJgUDGDzZgVFvunHmAh9GL3Nh7LIVGDE3B2dN92HSimJMnN2Ia57YifPu7MSV9wAPPh3HomVRVFQn0dap1kx1sXfxpSDsKasa/6FmBZUNSTw8MYaf/CyBz/xbCv/w9QR++AvgoYeA0iqda4FpKmZNAxphpk9wmwBE19IQF70PegeTCRkraZ1L7jTQSohti3Vi2gaGIQNGbV0d0rHWq2R5wtAljuxd7Sm80r7raJkF0gGQPh5LFkjTYkc2C6QDLBl5KAuk/ZcskB4FURL2khUHEkgldp7XJYw9h7mpyhlWwBpoJ2WNanVmilStirxlSwrvrE3hsZeSuPI+4II7I7j8/t2484VWvPluBfIaNebUg22Ez80GZNRSqhmg5HyfMENtTLrRlHSihRDaHA+gQQ77oRZTtbq5zHSPjQIZwZAxnlIrn9UyZyy0ewCTNYsU19U6x2N7gtUH0Y9+C6lagzWOUt3gmpqzAM2M+5RKl2llHDVjA4bPceMvm8Io75LXBLWKuplmLqbVoVtILfjnutJS6WirhgWYNNVz8Rtfo9VmG9OLz6QxlUMgtvzbVvD4KuOFQVN5Oomg8k3KfQnNylSEjcXzEWhcA/fefNyXtwZjFuViyGw3hj0Zxm/vrsa3r2jFzy7ai/NviuCORyN4c1YEXn8M7R3KlzZwKn9GmGeZHw3tWXl3v7W8jtMxcXgDUVw9IYKTfxTHZ74KfOakCH4zNoFZ87rR3a1ryW9oF6E0RgDtQiLZxWtw3fzjdeRXlBAa1zvAlyTJbcZ6vtt6R9p5yBxP+0Ew2lMVckk/XtMDJLOszQLpAEgfzyYLpGmxI5sF0gGWjDyUBdL+SxZIj4IoCXvJigMNpPuF15DfRLUKqaVI/3RZNfHIusOAqYA0DatpRNVSvaAFRQnMWBjHvc8CV90DXPKndlx172bc9WotXl9Tj9Xl1SjeTeCMycWPlxog8AlSCDeme1eg6SFsEZw02466/glQmsXHdEknQ1RCa5xAFpc7oP3QKRitSQqU0mCaBijB1QdpEZQeC2NI1XVueTfwoDRWgDfKwhg9y43TZ7gwck4YQ2f4MGKmG7dvzINDY34J+i1mGk+1ch54rZ7DHmTdbmbn4rqtVloKfAmZiUKCKD8YNCsStwkyG+L8SOCylssmhqUpHuYz5nbjqkn3LMIWPuMdBFY5qV9ZtgjvFazHmpIW3P1WA34+oQUnn7cF3x2WwOkXAY8+Dyx/D2hsUh4TDAgurfytUdDqZu9ORtFt1k0vOqHB3q9W/ji3q7udYBm3gLOb2xYuimHEmXH8y7fi+IeT4vi37wKX3xCD16v8nB6qwiydjKr7vhPxRITXYd5W5jZW+LyX9vPaJFTRL8GUsEqAjRCA53h5iQwQPUAHUDLL2iyQDoBYyXmQZIE0LXZks0A6wJKRh7JA2n/JAulRECVhL1nx6AEpRRVtis+SlxN6CjkNmBJKzRPmdjVIqXvfWO3ziIgxBNH9tRQ8dGHrtjg2OYEpC4GHXwNufCSGS9Xt+kAnbpy4DfdNLsfUjRVYV1mCgj0FaIbGPDqwDXlUD1oIMBoPKQhqEBAlCKkpF+rk81TwQ/BUy50xojEAmqn7oeoA+Oqx3pceCy2kxhI9HmL48rB+Zx7OmufCoDfcOGu2lyDqxbjZboyYk4tTpm/E5HIPNifcaE4VMm7hA9KgJ4xKTcuynXZMxwamraUETLVy8sNAWicPC5qr3nha0OxKcuEkd0wu7OJz3E343KpnSCgNNgXxrteHZ5eWY8KbW3H+X6px3s21uOaBFP7yFDB1BnDHiwn87slurC5SF3x7Oj8xNzETym2ZcpZyW0ofQvxgivMDKSEgVHZVnlQrpsaCEkxN3pT1vPZzn7rXLahIoKEhipdejuK/Tk3gU19O4e9PSOG/fwk8+zLQslU5nqpDk8TdmBzcMwz8o+8wbjJd93IHldJYUl2b97JmZNI+YHUJw5cJorYOoDAUjJuVRlpmgXQAxErOgyQLpGmxI5sF0gGWjDyUBdL+SxZIj4IoCXvJikcVSM0z5F+Wwdbt1eLUTTDoQJS1smySjXW+QICVtAEAdW/GuScRZQVuKUNpzpZEeGzTlijCpR1Y74hh5hLgkVdiuPHRblx2915c9KcduPyeFtzzShOmra3CurIAyvcQSmMWSG0lgGn2HXX/11IrqLLelnGNppeUqqVOAGVUrXYCqrQa0BJ8pXU/2PWuxwKQ1sl5fFzztbtREivA82EHzp/hxOiZuRg3fz3GztyEYTPy8XC+G6G2sDmvKuZEU0Lx2Q/pfQFpHdPQUt6HalpIme7NqWI0RUvQHPPzo8HF+2vYgBe7Yi5sjwZRsqsQy8LFeGphFW54sgXn3b4d5/6pHVfc34nbJnXjxflJPPNiPRYvakZ1XQRb9qr1MYUd8TiKOiJoY/5SHosk2gmVO5i35Ioptb8rPkbQjLMOTEp1bhf3d5vjlOfMe6D/BMaUZlzivxjhVeBovptMnuTHUn4CV/0xgS98J4q//bdufPnbcYy7KIWVeRorqmtRCZ9R40tUH1/89GJ+17WMf1KuR/mnm/eTMWBEtKrWWJ4T4W/N+HQQkE6YoAAMiGSWtVkgHQCxkvMgyQJpWuzIZoF0gCUjD2WBtP+SBdKjIErCXrLi0QRSVeDqFtUaL2oqWLmFMu6hrCYhc0yM1XFMLVLpJirtM25wtF+H8Y81vk8tWlzqeunrqnzvaAe2bgYqagFnAbDwvSQmvZHCzQ8mMPaadgy6vB0X/mk37n5xC15/txFrSyoQag2geqcPjXuCaI6ECUhBApHXQJnASOuNVFnqN3Gf5ULKBlIbwixXU4eC0yYUYm35/B5ASrDl9v1d//b19l/TtkbvqYczVMC+7r6xmwdcx75+T7XupfGzDakQqjXulnFvSBZgVlUxxr+djzNm5ZkxpPfnB1DZGUAr8lApi/iUjMQE9dZ1zNhbQb0ZiyuDIyvtGnlfLS21tkmNp4SoF5V7nCjd4oanrgwL8moxaW4Dbn5oF866thlDr9iFC+6I4s6n4pgyO4Hc/BR8pSnU1wC7t5LZmBVCYd67WtCkPCufoFpl3iBUap3ZSuRnQSDzSyKhsaLMVwlBoQCUH0kmD0oFsMxT2q9zbfdmypsyduJf+6NJ+ZrZ2dxVw072tMUxe0kCvxwawz9/NY5/PRH4/s+Aex9OoqZRXf0MCMMVIwDrI0u5WB9lKUOmKf7vNm22JuiMWEK/dXw6ZCbbZ0Kprf0U3tWkiVk3cVciZoG0X2Il50GSBdK02JHNAukAS0YeygJp/0WYkllISrJA2g9REvaSFY9uC+nhifWsBaoHPnMV3rZqvzlSrVNmm32stttqhzuFSCSB9g5g5w6goT6GleujmPgGcPkdEYy4PIYhl0Zx8R2duGPiVkycUYc315ZjaUENVleWYX1tAZybgwjtCaGkS+NOLVdRFrT6zBjGLQTXLYS3FoJVM0FLqvGrBsZM66DlhqqeQLqGQLqxegmBtIzb1WUdMjDXyP3yk1qbknW5iypXU3JPpe1paCTk1Rv405Sr1raeENxTNSxB07Lq2jpfXgnkKsmMgzXXtO4neBRYW0ZJms3IYaC0gscrrrJor+axc2sKcMX8fDzi8aGoW/O5bzQtmTVyv8TrtyKfcfKaFme1PFtjeF1GjReDRACl7V4Etvvhai1GTl0FVpYRPH2leHpxBe55oxlX3d+Fs66IYdSFMYy9YjfufCaGqXMTcPlTaN0Wx+497eju6ubztp7wPjH5gWVCiPcotWYY0+QNVl5hPtAJyk8mn5jdadmfR+x1e83es1+sPGblzf35017XN5HcNsnBmQFOdKC+NYJrb23DN34s36XAZ78NnDIihrXrDWnyGH6M7cvDBGRBrxzoC5iT1pXse+jdtO9pJBNEbe2n8A777qGlwiXJAmk/5ODMZMRO2yyQpiObBdIBlow8lAXS/ksWSI+CKAl7yYofBSC1JfN9sX/3tS1T9wvzj6n8eyAMwcS0iiWiiHbHsXUnsNEFTFsM3PN8FJfd3o0Lriew3p7EjQ9246ZH9uCOZ7fjkekNeGFpNV59rwrTN1VhrrcEy/mOr6wLY1NLCKVbCHvtBLRoAeoTMrSRJwAvdnK5Bw50EszyqqfD2zTfzO2v1lZ1V7fCaWBWrZF1Cbmyku9NWZDLpZFcMVEJqFVJD8HWY1mbc7vtf7U3reBx1VxWJUO8hqDSy20uVGo/YbMqoaU19EAusppSbgOYW3jcNoatmdt3cb2TYWtHLuNAqE3IkXyQuBXkdh9aEk40xApQ3VGAyt1hFG4hbNZ7sabUj4WBQsxw1uLV9c14fsVmPD6rBXe/Vo+bJzbh+kd245p7Y7jk1iQuuCmOm+6RRwVgzrvMe1UxdETjiEUtg7YIM6qFZmoR53M1bKlSQc+U6/wtH5ySQCCAMkKuxIbR3vPEkUnm9Q5QA8BxaO55jTNVHkvFu7E3Ecfs5RGMGpfAVwilf//VLnzrR3G89BrQuGVv+soxRAii3YyrhgBogGuqW+NdrWEFmXqAqLu+J5D2s/ued9h3Dy2zQDoA0kfWywJpWuzIZoF0gCUjD2WBtP+SBdKjIErCXrLiRwlIJZn31u8PEp79h+6HE0ssoFEnrFqi9CtTumMJNG9NIcjXd2VuEtMWJPHUq8Ddk1K477kU/jQxhlsIqtfctx03PNSB6x/dixufasXtL23HXW9uxn0zGvD4wlo8RYB9aUUFFm4owvJNJZizei3e3rQW3toginf5ULqTELWnhGDqJ/S50EZAbUeIIOZnuNwMo5ug4iKauLnNzaWHMCj1YS9/7+lD23lON6/RYdTBazl57gZqntGIWbqMb1eB5y5C5nZBZ1cxKnYQrjvz4d/sgaPch/zyIrznL8H83CDmbizDC8sq8fiCejw0s8E4lP/Ly62484UduH7iTtzwZBuBswvXPdCJCY/GcOtjUfzlaQs4X54JLFgB5LhSKK2MY+duPRmJnosAUy2LWgrMCJqEu6QZp2kZHek5WV3oOkb1lZ7p/ufcE0g/SD4ZCDEwmugikBIuY+lu9S6Gw8ByAvUNcdz5QBIn/wj49FdS+MxJ3Tjrog6s3aj8Z8F1LEr4Zn5UV35SDkw1npXyvvm+J5D21CMQ3mnfvbTMAukASB+PLgukabEjmwXSAZaMPJQF0v6LKqHMQlKSBdJ+iJKwl6z4UQPS/or9zpnxqAZ9lJe41IA/btL0pxorqHGr+qv5x9XapnpC3aSWc3TTcUrdD0wRwuquPSls2Q5U1gC+ILA2N45FK4FpixJ4aUYMT09O4r7no7jtyShueiSCq+7twNX3duGC21px8Z1bcd3ju3EN9erH9+DaRwm1T27HTU9vw40Tm3Dz07X488s1eHhyHZ54vQDPTqnB06/X4glue2V2PeatbcC8DcWYu7aMWt6rzllXgdnrizAvpwQzV9Rj4qvVeOa1bZj0eguefqMOE1+vw8Ov1OP252tx3aR6XPPcFlz63GZc+sgOXPPYNlwxcTMufmAHrnxoN+Eyhqv+Qr1/D9fbccvDSdz2WAyPvQU8Nb0Lr83rxtzlKSxZA6x3AmFyS21zAtt2xNHWTuiXTyOmr6UWfBlREmsX/yQNYGp8Jn/x+dize8mmSI9CZUCCD8bKo1TzfLTOv+k86vcTmtJd9n/9fKux0AnLep+/5MIpFmHgzRhQ5RuNDU1g3jsx/N+IbvzDlzrx2a8DP/y/OJ55JYb2vYqP0irOWKdMTktFTeK8v2SCqK1HIJllbRZIB0D6yIpZIE2LHdkskA6wZOShLJD2X7JAehRESdhLVvywgPRo3KPnJdV6ZbWqqQJIQI7I5WOShCMqpVowoRZTIgEPIziZ7VwKUnm8MawiiJpLHCDmQmmV6LdUB1rrsa4EtmxJYPMWYNm7VVi2shmOAPD2ijgWr4rj7ZUJvDEjgYmvJPHk6wk8OaUbD73WjT89BdwxMa1cv21iEhOeiOGGR7txAyH3hofiuOHhRK963SNdPC7K9Thu/P/snQWg1MbahoHi0NKWeqne3tvbe//eurcUK1J3F1oKbYEKdXejeN3d3Q04cNwdd/fjZz3Z9//eyc6enJw92O4ibV74TrLJZDLzZZI8mcxMng7hntGy/cgQ7h0J3C1xjRhp4MGxYTz/ehijXzcx9g0IsJp454sQvvwtLOAE/JgiN8tSAreJmTMNLF8XxMpKuU8EJF/Kwfp1OueJULyH0OhrLmPtH0Pwm+6C/OJX1TZStmUP86D4NCSmOg9JaG7CBwKG4c2abSrVS3t2SpJjwPs3d0tTXzSKSJcfJ5BuibKrxR75plmv9imPLFK+vPCHAggKYAYMmfIhSPnKj2kz63HPI8Ce/wA67hvGHocA198URvkc5skjoVhDykxu4j3Z+fqetomv8J3XWhdIE6BmiqELpBHpzLpAmmA5ypALpPHLBdIkiC6MURS3JpAmej8c39SqGaV0/GIyJWCGZJ4AGpT5YKRWlOKwOn74hLkIRvLbCAmMeoWxWPUl4QQu2MtftUuV7dRIATINBUIIsUaMy2Q3wSBrXGU/8jvA3tMWcqF0Wh5mzy1X8+qdroI3rqMxvZGEUMolTBvDWKrzGFghcLt8BbBsVVg1K4hlS1ea6otXy5YFsWoNhymSdAkYWibp5ygF9n3JUmv/dnG9LRwnapGEMwQyvR4FlUFJX1DgyXrdLPMcpksCKhNnsCaadX5mWJYrY39xDoJEVCWgSnSyHR8K1IHg+24FeGxHKelV77+ZNs7LfmR71dZSpbmh7PCV/daqISV4q3Kh2pIKkLL3vCSBNaZ8tuHr+JBfZgjz4he/lIkPvwzh2O4mOu1noM3eBrqfBXz/mwZ6iZPftpd8bFJehg+PC0pZSvT+OHWBNAFq5vC5QBqRzqwLpAmWowy5QBq/XCBNgujCGEVxawNpIvdlvXJnrZqUH2e8/KnAUTCJQCoLFOBE2iyqWjqmR5U9WcblAhtsH0iIJWBZNXyseWXtKSEkUtsn0Vjb8zdv6JZf+YlIggZ7gpdOK1PJIAgLt0a+1MN4WZsmcZPLZEoAs+BE1z7ytw0Q1ZThYhnVsJ6gZEmWMa8qCivf1r4Jlhz30qugUphStpF5ySPfHBMdw4ZHZvh1IlOQXXxLSJf/1mDu9J3sh9Ezv5I3+pngbg3tZflRPSRYTrHCMhzn5YcagF693ibMshEFhzlS0ahwapxOWcP6VCv6yG+CrKhxDamabDExTSwffECx8mblSZYq34cD4jfTx7pPGOpWy+NoILckjIuvNbDL/kG02SuMQ/5n4tnRIdSoz4cyX4xnEzMTq6ZU2wYke4vuj1MXSBOgZg6fC6QR6cy6QJpgOcqQC6Txizcd50WScoE0DtGFMYri1gLSZKrZ9EcWN6zlnBjDRxc2rKVUOVRTbdZ6+z7U5pGfahqd580njKKSIim3Db5t2JLSe7Dmo6YisranReOnRVbHNCtYRI0X6Flr2vBLn2+WIueemudfKw38a91KRVwc3VzP2NV4mZW2SB6UEWw59izXGqisDKFsaRgVQbkfCeiGBXr5jXcLZiWE/CGssqaXEVhxqY236it7poVwr0CUv+SPBc1Mh3iLnxwVOCeDqC898Skk4snKdWGMGhnE/v8TKN0jjK4Hm7juFj8WLbaAlPn3C+yqt/7ytMIHIP5br/iw4IRRbeuRlV7Lb5y6QJoAWe5sIhdII9KZdYE0wXKUIRdI45e+QWrf6akLpHGILoxRFP+KQLqtKFpuS4ql3DZcE/5uYp4t47xaAH42U2awtKoOj//gw8XjTLw2NYTaAO9JrMElGEWuAUEBLfkdYhxWhNZy0dYF0tgidNBUWgijMs8mB6z/VeebSmMQfgHU734ADu8VQLs9g9hv3zBOOzuA9HzWska29cucACl9sQEcteQEUbs1I3pV+41TF0gTIMudTeQCaUQ6sy6QJliOMuQCafxygTQJogtjFEUXSJOnaLl1gTRinNc+MFBR68cTP3nR61kDp48x0W9sGC9N8cLrD0rBDEnZDMIr1wK2WSWN+WUzdTuPxEdtLJDqdc2td2pjwnK1DmI1P2DqLGOtKfvJqW/fSz74zy+Z8DMvsg0/X8o2p/yRVQicc7mJzgeF0XZfE/85JohPv5QwqlkC42KTEms7p5rNlxNGac20K5Wto9tz6gJpAhTjWFFbFUh1QUnWjjZFOg0ukCZYjkPrAmn8coE0CaILYxRFF0iTp2i5dYFU3YgVU0W4al6Vice+DqDP8wbOGluPc8Z5BUhN9B/txfg/67GywpBwBrwS3s8GtiGrdlF5j9OIHzcVSDdFGwrPtcpU3IRHsUjbWdX2Vb2it/IREBD1SziO9sDrG5v3hoOSpwiUzlvhx00PebH/vwy07mri4H+bGDUhhLW1Vvth1clLDRPRVM3mzQmkdrNJto5uz6kLpAlQ7EO1bQDptiCdDhdIEyzH4XWBNH65QJoE0YUxiqILpMlTtNz+zYHUgtEIkEayP3GagRMERk97wYv+L9ej/9iQQGkQpzznQ48xHmTNk0BkPNXsUjYM+lhlyE2VD7Uft/Yre54/zFtD7Sh/Wx3crE+C0gRAhStVHzMCqSzj153YrpRtTAmrzGxtTRBvvGXi0KMIpSHsdoiJW+4PYvE6QqvX8sOmygmidovIea11gTQBaqYYblUgdUqfMNo2V5sThw7rAmmC5TgELpDGLxdIkyC6MEZRdIE0eYqW2y0EpIy7Odua4v4bAalMK2sMvJlroveEAHqNrkfvl8LoPqYaF74cwNclJio8km4jAF+IvfuJa0KmYd2pyYqT2hwg1eEawutt7Ms2TqrWNgKjRohDVKnsqTESaIYpy1hTKstDaixXOsHq7FQvFpLcGRyxIMgRCaza0h9+M3DcqT503NeHXQ4MYeBNYRSVc1wIpqshjZuSzpi98CNivDouTl0gTYCaOTRbFUh1odFmnZSW6WFDNtXYlkRvq+PdGOlwLpAmWA73u0Aav1wgTYLowhhF0QXS5Clabv/mQOqUlRwDQQGzj9JNnDcuhBNf8OGSl72YNJ3ViLwvyVWAHYFYm8h7n2xjjU3K/Fh5pTYVSHUYmrqHilkIGTHb+o2RdR9mmiWNkRpcTzCIgpmrULSwTlXwchxVjgGr7t2S/iDv30GZynZ+CcG88fW+HsuVHZ4yckz0OctA5/0M7LhvGGdeWB8ZRF8Ftt3/5efGygmkEZNYVFyU9gvlAmkcaua4aN9utRpS7sIv4EeI5MDJNA2Udumk6HWBQEAZExkK8CmrIbGqYPOVgEytses2nBm93gXSBMvhdhdI45cLpEkQXRijKLpAmjxFy22SgJRxWcZ5jvrDoZTk/sF5ubT7eW8Q45iiHKhd8RbvO0wC7x/q1TGHWNqy4v58TIchOBYK4r004MZX6/H7NAvsCKsNZZXpZQYjP0U639RGAylflYtjWMcqeIgwHaI+XhDGzHVhjJ9cj/wlli/YHz4crpP7qzUmakzJftSYsmIMU69glK1Fg/iuOIizx3pw/ft+lM9nYH4e1aNqQgnXIY69qoJLOtRW+g9zKysiY6yWyul40VUh7LRfAJ27CbT3MpGVyRDW/d8ICsByrFfZWB3W5vJuV6xB9MX0tpy6QJoANXMotiqQcufcCcEyFJInIIFRDadUXV0dli5fhvKZM7B89SoFmlRANXaWgivb0Kja2lqsWLECa9asQb3Ho24kITmh+LqAYfS+tDmll7lAmmA5XO0CafxygTQJogtjFEUXSJOnaLlNYg0p42OUNHaYMYO1qqaOg7GzmzfvCzTCixrIXtXICTgJmRFO2d5RJltYbD8p9zDet8J+1IUMLK00LEjdCFl5tvy4sUAakn3q1+eGwChrKYmes9cFcecXPnR/sg5XvO5B5jwCI+FV0sh7bwQOneJ+2FNeDdAvJtiPGiOMN6YYOHO8Bz1H+9DjBS+ue89A+jzewyU++prbsP2oOmax0srjwfV8fW9iwcoQbh5hYue9gHZ7AiecZmJyildCMUdyTI06SYdX+ZHbbpSaG0RfxDSxvFB/ZyDVZWljrYmaORTat1sNSPVYaoRGXfvJp5qMrCwMGHAWdtltD3TZbXf887D/4PlRo1FVU6PAlNvw02qE05KyUlx0ycU44OCDsN9BB2LYrcMVnPLrIdb3fiMXHYlfO8hulJ66QJpgOcqQC6TxywXSJIgujFEUXSBNnqLldgu9smfnGNb8sec2v8BUV8fWlwJYCjoJTXKPUCDDNoyyhmOBcmZLH27ek5lOpoZjIxm1ssCjOvnwi1AbSg59qP240TWk4hvWZlqfemWPfVPViA79xIMeo/w4bbwfPZ+rwRWvepAyV1BVIJlNBOieWOJ+mAP6ORysUxVNE6aE0XucxCMw2meciTPHBXHySD8ueMmD1IWGQLBPOEDyS5dLMmOnlV8SE9TkN+0VCxtYWenHiPtN7HaAiU77B3DU6V5M/IPr+L18v1Xzqj45ymUbKSeM0ubOtfIVyfTfDUh1+YnXrMisiVPat1utDSkLYAOIWokplhvrf//7XykDLbBnt/1w0L8ORYvWbdCqTVs88MijKrz6zq9s/8VXX2KvffZRYVu0jJjMd+9xOmbNma3CEHBj1ZI6jXKBNMFylCEXSOOXC6RJEF0Yoyi6QJo8RcvtFgBSFa26vbDGDvi91MDTv/mwpo4vqfnFn5AFOLLODLOGjXgqU37T0rotbTExqQG2mYy8ujb4RpD3SMlESNJmhWhe9KH248YCqTCe2kdAoJRAOntFENe9FUb3Z4PoP6EOfV/0oO8EP/qM8ePcscAfBT5JhVfgsJn4ZDnvt4zPkHBLK+sx/O2wAGgAZ0hcZ7/gw4CxAfQVKO3xXB3GpwXh8fhVrTRHb2K0sdKq3njKsWKYEP8EedBCqBPgfOhZP3Y71Icu+wdxQg9gSjq3CKrPwBLmN1mEULu1bg0MHPi3BFJddhJlzRXhrQykrLXkBUEKrZwMIbGa2lrcOPgmBYWn9eqN7378ESVl5XjymWfRoUNHHHjIP5Gema0St3jJEpzW/TQV9vhTTsYjjz+Gu+6/D/867N9q2Y2Dh2DdugoFpF6fr9kaUpp2hAukCZajDLlAGr9cIE2C6MIYRdEF0uQpWm6TDKSMkpxlEacffxaF0evlIE4ZU4v7v/RhVRWv/YRPgT1+r5O1k/x+P4cSYs9169awxcRzOyjgGTL9wlumIJWYQBjvXxxvlCHWJ/pQ+3FjgZS1mX6Bb6vtaBjTl5q4/TMD3Uf6cd5oH/qOr0HPl0I47YUgrn41gD+L2atd7o8E+ViS/aiKIL9AaZB5CGHuijBu/iCMU0f70X9cHXqODaHfmDBG/xpCJUcNIA+EfIoxmczYaWUzAb6Cl3jl2PATq2zewOPqkXQ/+qyJfQ7xotXuIRzVO4i0HL7aV1/LV3FusnoI2RJGnSb6uwCpLjexjNy0Pou1jTLrhGwibkNtHSCVAmt9y7ahLeiUqWlo1WoHHCTgmZmXp5Zp3Xvf/VIWWuCGwYNV4l5743W0b98eB//zH8grLIg64Y133kH7jp3Qtl17/Prb7+pE9vmDcmJY+6E1co6Ydp4LpAmWowy5QBq/XCBNgujCGEXRBdLkKVpuk9yGlPc41jSyZu1zgdEzBKz6jq7GgHEe9BSAuffLIOZWEpn4Wlyu+XxrTfZjm1LeOLf04aYPBAzDCooFpOR8l5uWtawZ/rOLedZ+3PhOTSG2uFSvw1lDyiYCy6oDGPFlCN2fD2PAC2Gc9jRw7Zt+pC/gfVFSJaDZHFhY++F6SbsarYnb1GLeOg8e+BY47hk/Thf/v5sq/EsIVu1XA+JzCSd55Oax02pBOWtz2UGKx4gVWeypr9ZKep4YC+xxmB+td/XgpNNN/JmpcqYgVvugWT/EUHhKSlMgjdhfHUjt/rKbZi2aemMdw+xhmsQhx4lTpxiW2npAakjhEiClCICPPf6kHOcWuHn4cATlJNSv26n5C+ejX/9+uHHIYFW4htw0RIV99PHHVBi2J6Uj5i9Zgl59+6l1jzzymOrkRBj1BwRKIx2onE7Sv10gTbAcZcgF0vjFG5R4Luo7PXWBNA7RhTGKogukyVO03G4BICUcvTUF6D7axGmjfbhgrAcDxps4dbwf3UfVYMTbfsxZx/OqToEfAYpwJLeTLS66gP0f2LPKunGznavcB7mcwBiroNrEPGs/bvQre8apmFcAQtUKW00DllSGMOIrD4552sCQt70oXkhYtWoy2alJQqvtnVK7EchlJ6Ug0y9Tg0MbCBguWBfEM9/78EmaT+7xpFUBGIHMgPwTxpV5a/tYaeW1j3FJxAp22ayBuKle87NdqYTwBMJ4cqyB3Q810GpPEyf1Ej+UMN30HQGpeT/EkvKNMEEs+zsCqYZMO3ySqdgpnZ3LOeVvvU6H14ylLHIMaHYxDLVVgJRiY3INnKvXrMFJp5yGth064s2331HLmDmKiSGELlgwH4sWL8KSpcvRo2cvtGrdGl9+/ZXKOBtO+3w++AQ6H3n0MXTp0gUnnXwq5s1fYDlJzA6k2lkq7sh0cgRIB998C7xs4O0qoSorL29ygaTF+u0qtpx+0tPislJMb8a3lH3eVWPZfeWcp4pL6FsLmvRFk/epyB9XmyFdu1ZcUtKo3CbSpQ3HMow/S8K44KV6nDHWh7NHh9FrTBg9x3lx6gtejP3Bj7W1BKzI2zNOWTvJQ72FDzF3Z4GemHIHf/GlszW/MdLllkA63VEBoNfZf3MRWTcsZGcYYoRT7lD2t6QqiM8yKzFzFV+NW/6xerrzntl8ephWQ8IaHGNUtjMkqIIX+VfjN+GplwVqJ3Jflp37xVTcTItKU0NaKeu35QvlJIZTvyzfsHlFONKm1OP34NaHTOx0sImd9wP6XmjIQw83YpojFWE6DsbL7ZtRNA0OGLWbPZ2Uldb1xbrtS+fBbrz2aXYiR2kQJVdVVVVFjb+bA1NnXPo3xd9UVk626gNE2cMmQ3IEG0sD6eKlS3DAQQdjz3274bc//sTiRYvw3nvvYezYsZg6dSrWrVsXTTxfxXfdbU/s3a0bcvJyo04hoVdWVuL7775X04svuRRZ2bkKVrWTnM5ifJzndHJKipQvAdKhQ+HxWTWkXO5q86X9x2lZWVkjIHW1+aL/aPpEZS2ehibK9W/iVCJA2qTcqklyLpJ/BzUAaXG03CrfxlFs9TlhN3XT4w1N/uXMMXDFayGcOLYeA0aF0f85E8/9EcRaH+9BRFD+tbZTiiMtW1M6/c4a0mYlq7iaxspZXlL0lPJ7CaNyr5S/yhhuA0WftaP8mlRY7rEETmIp26haUMlB7rk+rDok1UuEYRKryVrpza8Isr76VC9zBtbUBDBoWABdugGdD/Jh4OAwVq1l6r1yv2enLBNeIW8OD2nlagOSICqNw4Y1AVJlfzHp80ebhkINo2QoGtmKrFVdXa3CaQbjch1Gs5aOwxk3Te+TcgKpM1wi1ejI6URSTMCuXXfDEUcfg7vuuw8HHXwQ2rRpg9ZtWqNz58644KILUTatXIX/9LPPZXk7/Ouww1S1OSGzpqYGK1euVFPGS3k8HhQUFqGioiLqIA2net/MpJ5OnDxJylYLDBk6DF4JR9md4dqmmfKf+mupvLw8WhvSXMF0bf3mlHhRTTn8mRNI7eXb9XfzZveP3U+cp1hDWj6t4ZV9Qzjrgda1zTOKNaT6lb2S7XXepppTjddZ4DF1ronL3vGh79g6vDHRhxqfBUAMwXBGpF+Djs8ex7ZuWnq+sLAQsyKvle3l2ml2NV7HSkz6BAiEDJk2xGHIwsZhG5uEVm81ZaJGMSCCBuUQBGhyLNgc5vcyL279zIOU+UxDWO2rXo4/t4uV3vXlgSZHTT14qCpe+LBsTRiXXAV03NtQnxod8UAYHh/PaY5YwA8fcCQD6zFkg5Ig0baPzYxVyvTpNG4ordu66bxos4Mo+YnGN9KsKGStKLdRbpIp4XTt2rXwer2NKgM1mGqzx63nKVYyzp5rvbLX8SZLjYCUidSJmDFrJvbb/0C079QZHcTatW+HE08+Caecdip23nUXOd4tcL5AKTP5zrvvq9/Hn3gi5syfq5bxlT+d4MwAM0uHcdB8DravHcMp12kncbtJkyereG8aNhx+Wc+YdPpcbbqU/8Sv1j+oBwrna2X5o3672jhpv9HoW93O0QJSy7euEqvSsvJo2+fGcq8Nmyt17otUG1Kbb3XN6ebIfm4ok2u3gogI5MgMQyFrYQifFtajRrMITcEGFzCMdVw3PyVbRxqYaBRrSGfOtNqVR5dH1tml1ylTPouY/Oa9kZ7gEI3Wq3prewmpps2JSMi2nRKBBA6BX4BSX8ciqkrcP+QB540O4qTnqnHJa35kzLLak/JzoZvreEOOH5sEqPu5h8cwgJkLTfQ+K4Q2+4aw2z9MjHvJlHu7ADJ758u9n4dc3aMieZYMNvjCZhYwWVOlCIQ2MgFVhv0rqGneG0NpLBjV4m87lDqBVMdn3wdNf16WNaS6DalelyzJUbOkEhBJGMUOL/sfeDBatWmDtu3a4alnnkaVZKqiqhKffPYpuu6+GzrvtCO++uZrvP/BR3L8W+CoY4/FdHkCZMYZtrmE0yEcLF+3byC106F0kHI0C6ZsmzIl0ob0lqHw8VFOpNPnatPlPBo8xnzwoFRB41T9crWp0n7TUwLpjJkukCZDJaVlquw2lVt645XV1CT55ZZXc9VrXsEmpwF1DVLQ9BcVa0j1NWHzr7f0lwb1hu03FJe1jpBpVeyo1+moRbUvhC9zgbMmGOg9KoQBo030GePFxS+FkT6HveHZoWpzJbADr/zlvrhXxhVCVl4Yh5/mx077BnHgUSY++8EaKooAHxK/sHe+8o/YhmR5EcgpyG8KpDTWnv4FpP1BU4xkg1EyFF/Ns5KP87HE7chb9prSDUGpepCQqXplP9t6ZU/p9cmQHLEGcSc6Q3Pnz8O+++0vx7QFzrvwQqxeuyaaYPaUf+SRR9S64bfehg8/+kTNH3vCCSgoKoy2X4ildRUVWL16ddQxquNTBEY16QfEWdzXHxMnSrwtMeimm1En+2ScQXkyDBoS1rVNtoD4jj1E1byYuvnIBZJHyh+UpyaGi6zn8B06rGvrN7uftI/zi4sEmqYr33KZCic+jW5jm3cttsXyF2tz2OyHtfu63HIdL54cR1mHd23TjNd9uc2o67eGfS7jNTlW+HgtFJB7jVkHD48Z24z6BFVkuT/skWMs55AcT8skvNwb2AmWNTYc6SVWfNuq8VrA85++zRNoom85H+t6GxRItG8by0ImK3DY7pJvFE3xjVXDGZJt13u9lvW+cB28Zr36SpY4Hd6AD+/mAT3G+nD6mCr0G+3FWWMD6D/Gg1PG+HHeq0FkzSMobl4Z4BeZgn4pR0Ex5k+ObZAVS+EgPvnKg26H+dFxvzB6nhVC2QyrttYTrBYTLpCy5wv4lZ/09TMar5g63yXvgZBVbjNzszF99qymQCpm33Z7NfpAG31C33j9Pnh8XmGjetTW1ylGW75iuYLNWCI/VVRWYPnKFaipq1XbcXvGQ1O+JuBG9sNlLJfpmRmYFakhtUNrMhQFUu5AUzI1U4h4vwMOlOPZAk8986xazzagmqZ/++03tGzZEtddNxDffPs92rVrj4MOOUTVuDWX2KlTU5Galh6tWmZ8ugqZ09myz/T0dOTl5aGktBSvvfGG7L8lzrvoYmRm58lNaBpyc3ORX1igLpyubZrRb3wlV1Bs/f7sy8/x488/ybGepS6WXG/3rfO3azFMfFko8GmfLxFY+viLz/HVt9+o80H7Vvvd9ev6ze6bxvP5qnb0408+xdfffR0ttwWF4nf6tCAvGta1TbP8fAuWPv6Mvv026tuiokjZ3lzjuRHDSgpKZH0+MorykFtUJsewBPklBSgsKpbjWIQ8Oab5YnkFjKcIRcXFqoaxYHs6b+R850M//Vgq1wS+Wfzp118w3XZNcJZ1y+S3PHTFslxuJ/7Lp5/oswK5nhdy3tpfo/1HrQB5xaWyXQmKCnielEvYEuRI+Ld+LMIVT2eh+925OO2eXJx+XzpOfSALJ9yZhaFjcvHF73lyTWucTm2xlmnLl7hzS8plf6UozS9CsRy/XKZP0lFcIPfw/AJcN2wJdjwoiJ0ODOLGYbWybCZKC3MkP5YPlEXi43U1ep0VY7ksEn8Uyvy0mTPw/scf4fufflS+zc/NaQKlq668Mrrt9mgNZUOOpZQBWm5+nmrfyRrMzOwsBY6Tp6Tgz0kTVT+dWCK7sZ04++dwG27LOGj2eLkfDvdUKLzwofiWI/Lo7TUjJkNRIKV0FS01d/587HfQQXIsW+C5kS+o5X6f9YUlWkZGJjp26oxzz79ATrLfsG+3/XHhxRc3m9iJEyfin4f+W5yQraqXWYtaX18frSXllK/x586diwULFmDhokX47LPP1f6vuvY6zJ4zD4sXL8Z8Sdd8Wb9goWubbgvFr2Iy5e+JkyYhRQrw0mXLlM9p9C3XW2HEXF9vwCw/2f22aMkS/D7pT3XSL122NOpbK2xk3vXreo3nvyqrkfLK6fwF8+UasAS//fGH8u2y5VJuVVhdXmPH5dpGmJTHxUsW42cBpj/khqbKrSxfJMehSdiNtPVdpxfOX4B5C5Zg/sJ5WLhkKWbLdP7COVi4YCnmzZfrPI/nApqUg4UsC5IOiW97uvZb5XaRKrccHvEnefifMmWK8q3Kh8pLpHyr8msZ182XvMcyDpu4kPdB8ck88Q39Qz9tyC/z6ccFi7F4PtOzBHMWLZY0zceapfMxvXwB7n5zAU58cC5OfXQ2jn5wFp7+Yp7ci+dgzQrZ12b4nMdvnuR5gRzTxQvmYBGPr+x/Ac9rmV+2dA5mzazAFYNMdNjfwC7/qMHTYxZh2ZK5EpbHfT7mLZwp01mSbknzfJYPK176TfuMtmTpUvUVyZSplm+5/5prr20CpTU33NAojduTsQxpmye+mDtvrrLZc2Zjljw8sinINHmgLJcHHwJ9jsAkGSuWyGhz5NgyHLdjReAc4a558+ZJ3JH9yJTx89r6/Y8/qHblZEDNh81VOsarJkDKV+fc2YqVK3HkMUcrIBw5epTKhG6vwDCTU6aiXfuO6N3nDBSVlOGRRx6Nvu53auasWejQoQP6njlANQUgkNIIpOoVfeTVkK591RlnjSr3P3z47Wzj7irBIvzPcQx46yoxmikXCpZ1V4kXa+94AXWVeHFkCNe3yRGH2dtWr7dra4HH/wC6jzPxaoqJGtX7PfkqKAb+7zQDLfcI4uQeBqarS6b9Zs/2p9b4542XN1ZRaYkA+oLIr4hi9b7fTqWZiEZG0qxGbuIrelbokad0Zd+qVauwVEB9fa/vdedybru+NqWsNeWoS3rfevtkqNER4k6YIFq914OHH7Xaid59770qIX626YjA49tvv6vW9Tmjn8oYt4mliopKHHPc8SrshJdfQlV1lTisRvWw144gkGpj3DSmZdKkSC/7m4fCq4cDSZIj/g7SvtPTUn5NyDF8jqtNk/aY9p86ieU3X3U0Gj7H1UbLXhad8xQ7jDm/JqSnrjZP+kbj/FKT69fNl/af9q3q1LSBYfa2hkw1mkEIq6uA7HlB1AeYjoAahgnq2/SJkTOv/LJTEB68+pEXe3YLocNufgy6TUCp2g/DDID9rtj5Khz2qTFSrWtrg5841b7Nyc9TD6pNRC4hiDptO5Pdb8zz+oCUQ22SyTjs5pIlSzYIpezToysH7WDKKffF1/r0rd63TkcyFD0y3BETEaXjsKnaFXTs3An/+Och6hUZG5czkfMWzFc1o4TFt956p9nEsY3ow488psLttvvumDhponIWzVk7at83p4xTD4x/8y3D4HO/1JRw8YndBdL4JF5TAOpUEYd9ivSodZUY6fJp/wqWq8Qo6tst1Mv+7yTtWwKpHvZpW5Iav5c99w0SIO+zcg+Wf1wWUkNzJUb6HkNjRx2548tSU1jAxJDbw2i/bxBdDgzg86+53Posajgk6VHDO4XBcVGdb0q1b9m2lv1eYmr48KZAStuOZPedZiQNjWQoshR5ixV9Gkg5ID6bQbKp4/qglOF0TSnjcQIp25o6gZTTZCh6VLgDGjOnM1tVU41bb79Njl0LnHDySXjl9ddUA9dzzjtXLbvppluaTRhh56yzz0H7Dh1VWH4+dO26dcpZdBpJXteONgJhMQ2k0XFIVQ1pbIe62nxxYHwXSONTdFzXiO/0lEA6zb2xJ1RR35YWo9xR++yW3fgU9W2J+HZ65Jqg/rqKR/Sr9q29hnSbKq8CnfwuP7+dTzgNqU95yv1Y0hhIAncw6/zgQZBDSil+CGNKroEjeoTQvlsYvc4IYcYi63v34ZCkQ6WHIxV4xMgIlu/oQ80fOfkE0vV8y347f32vy5HOs+YkshMZyllLytf2hFJ2blq+fLlqC07YjCXGybDO1/c07kMB6SwLSO1p4DTRUkfFvgNONSHT+O3dfv36KTC026AbB6vExhI7MLHNKMN17NQJA68fhNlz5kbJXb+uj1U7yjRoIJ3sAmlSpAsSYdT+bWVXmy6n17Qf2abJBdLNE32o/eicp5p7Za/nXW26tO8aAanrz7hlL5fre2W/tWUIlIZDco81fPBL2nwcGoo1pmbse3y8EsqwAFju/cy/zOGRkXXoenAA+xwEPPUCB+8XYBXXmOQBMByb8vHtreUvtZ3EQa23hlRLWKKJbSeylxWdbw2kZKhYtaSEUtZ+bi6U0hi/BlJ7mbXPJ1ItdKR6JzRmkInS0MjeVo898TjOPe9cXHjhhRg/frwKF0t0xmOPP4nrBUIH33QLXnrtdSxdtkI5qLaqGvV1Vs96tlHVQErHamO8GkhTIq/sCaQ+cQ6VaAf8nSRHOTJnSX061AXSuOT0mvZjcbn7yn5zRR9qPzrnKQtIXd8mUtq3TT4d6iou2cuv/ZW9Xq7XbW2pgfJNuRdLcvj5TiMkwCjwx68tJUPWV5gkfvIGwVeupLMXetCjP2tJgZNOD0s5JGMEEAoSQpk++ktCRnxm919uAduQbgBIKSeQ0rYD6bxq06xmh1JdSxrr1f3GQqn99T2N8WZkZWKGlFu9T71/e3oSpUZAqjNGY6aYQVUFXFOrErc88nWl5hLg9XnVcAHMOB3AzDF8RWUVqiqq4InUjCr6DjQ0nrVnlKbnU1KsLzVZQOp2aopXTt9xbDH3lX18ktKqQF/7Tk+L2D53xrbXXmx7lq4ZYTvH8hluLV4iFS23jk5NruITfaj9yE+HbpOv7JXUVUwAlOklCPKrSVYf92TIZHvQEEHTtJoIyD2fevcdD3Y7xMRO+xp4enStpIL3fUkTa2oFXJnGWDWk7NQ0Y9Z6XtlrOWGUtp1IlyVtmps0lNpf3ccDpbqmVDMgxzclkOoKQ23O9CRCjYBUZ0yDqc4Y2yQsW7ZMDWjf3I6ZQY4JxqEGOOQAe3hxuo6fEa2qVHF4IjDa3Kt6bfp3YyB1X9nHLceh46s5/d1q7XtXmyYpreoiqX2np0UcwcAF0s0TXRijKLpAmjxFy60LpAkVfaj96ATSv7N/Cb1BAVK5fCrYZBtRue2jrsaHMy/yo93eBo7rX4MlKwicAYQJoxKOPiPEWnHYgTR/44CUcgLpdvJ5UV1m7Mb822tJ7VDKysR4oJT8xnjS0tNVR0c7r3HqTAstXkWBVO/EnjmdMdIyE9jcDpkxZtBZM8o2DHQIjfHYYZSmM6fTYE8L5QJpguU4fC6Qxi8prcTRqO/01AXSOEQXxiiKLpAmT9Fy6wJpQkUfaj+6QGpX5L4vt3r25uc380OmdY//8OsQOu9hYud9w3jxDdbR1ggvBMBv3LMGN24gpS6+uDGUbifS5cZumt0SDaUMS/abmpaK8mnTVNwaSptjN1o8UkDKiGk6Q7TNgVHWoGogpQM0jOqq3w3VjNqNcoE0wXIcQhdI45cLpEkQXRijKLpAmjxFy60LpAkVfaj96AKploClqV/FQ7FAGH45v32Cpj6srDLRYwDQciegzwUCRvUh1QFKfa+f8NpML/tNAlJhkEZAup3UklK67NiNfkgGlDL8b7//jtKyMhWf5jea5kZnWuJRCx2pPTNMICGSA6Yy8c3tRMOofp3PsMwAM85X9BpGGW5jYZTSUxdIEyzHYXSBNH65QJoE0YUxiqILpMlTtNy6QJpQ0Yfajy6QNigcGWdUzYsbwuywFPkXCofwyjsmWu8OHPAf4JMfGY5QyjakFq9Y28UBpJSzllTbdiBdfuzm5LgNQSmZjey2aOH6oTRfym12Tk70LTfjpmmOi8VymysFpM5McMeE0Q3VjOo2o2vXrlXEbYdROkBnwA6j6wNSLT3vAmmC5TiULpDGLxdIkyC6MEZRdIE0eYqWWxdIEyr6UPvRBdIGWa/prR78rCUNCZ8KEsgyLgmhqDyAI04JoU1XYPCdwiZGAKYh8COBE/LKnhIWwcCB2yWQUroM2S0Wz9mhlGymoZTMpqB0qUDpempKGSdHh9C97xknbWNYblPVCEi5EyaKgMn2n81FzDALFiyIwqiuHeU264NRnXhtzWVA/3aBNMFyHE4XSOOXC6RJEF0Yoyi6QJo8RcutC6QJFX2o/egCaYM4zKmQh8xxfFFO5UqqYJM+CaO6LowhwwVI9w7jpD5hFE3jK36+JuZ1IEFAquUcNH87ki5HdrMzXXNQah+jdN1aq6aUFYzrg1JuQ95jGMbnZDp7GjZXLewwyp1ouGwu0vXBKMnb+ZreDqTORGtzSi9zgTTBcrjaBdL45QJpEkQXxiiKLpAmT9Fy6wJpQkUfaj+6QNog5pzXTUFTZYRSwxBGkCmXBgMmPvzExB7/DGO3f5h4/zN2bgpIOA2tlg/JFFRcQErZgVTbdiJdluxGvzihlEwWC0oJpGQ5Mh3ZrjkoZbysWSXzMYyzotG+/81VFEgZOUGS1bKEyljijli1S5JmOGbC/qreDqOEW2eCYwFpLOnlLpAmWA53u0Aav1wgTYLowhhF0QXS5Clabl0gTajoQ+1HF0jXL+0T67V9GGUlJo48Eei0v4l7nhYc9ROUWKPK9Vb4BiDlOKRxXG9jfe9+O5L2XdSHEd6y8x2ZjGxGRrO3J61YV6FYjkxHtiPjMY5Y4nYMR6hdH5A2t/2G1KiGlPTMnREym4uQGbLXkNqB1PmqfnNglNLrXCBNsBwud4E0frlAmgTRhTGKogukyVO03LpAmlDRh9qPLpCuX9on6itOcgFYvhK44GofOu/vR/+LgEULWJtqcYQOT66g4gZS6i/0vXvtG5qd8chmupbUCaQbU0NK3iMjEmqdjOfc/+ZIASlJV1fpMqEc1H5DUEqS5rABzbUdjYee9XoXSBMsh9tdII1fLpAmQXRhjKLoAmnyFC23LpAmVPSh9qMLpOtX1CeRNqX+UBiPjwpix24BHH4ikJXTEE5PEwqklBNIaduRtA+12YFU15I2eW1fUalYbkNtSAmtZEPNeWRGxqkZz8l5m6OYQEpyZgKZgOYiZtjFixerBGogtbcddYF0G5TD7S6Qxi8XSJMgujBGUXSBNHmKllsXSBMq+lD70QXS9Uv7RH0mNOKb734Bdt4njIOODOOL76yaU8us8GQLygVSS1EfRoz+sQOp5jyymgbSlStWKpZbH4xyHFIyof1N+BYBUp1QVuWyCpfVs81FTtpmGA4R5daQbgdyuN0F0vjlAmkSRBfGKIoukCZP0XLrAmlCRR9qP7pAun5pn5iKGaxa0uzsMPb5h4FdDgli/GscUF+F5B8rrLAFlTAgpZxASttOpH0Y9aX4xw6kzhpSstvSJUvV8lhiHJnZWUhNS1NMqCsekwqkTKwdSNlwleTM1/Yk5w1BKYcM0A1dNZAyPjuQOhO7vgTrdS6QJlgOl7tAGr9cIE2C6MIYRdEF0uQpWm5dIE2o6EPtx40FUrU8Ynpeh4/1O7p8O5c9HxynVM54zJpl4OQBJtrsaeL+hwGvx1qr/kpYcgWVUCClnEBK28al/adNc5ed8exASmYju60PRvk9++9/+B55+fmKCXXHdQ2km1vp2JyiQOqkZ93glV382euKJN3cTrjdihUrVFgmlmDLZc5a0o1NtF7uAmmC5XC3C6TxywXSJIgujFEUXSBNnqLl1gXSJqIXrPo6zskZLxPr5TGXrl/0ofbj+oA0OitTLg+Zcl+WKYdBkrunrOC+rGGRgvJbLZOwBodBkrDsCMRr0fYs7RM1tJPklVq10o/Lb/KgRacwrr4xjIp1dJTlLIYlU1BxD/vklBNGaduwGnxnmeYtJ9/pSkeyGpltfTDK9WS/3//8Q32tyf66nvE4+c6Zhs1RIyC115Lq9gVqnKqNgFJuqztD6QRz2YYSHSs+vcwF0gTL4WoXSOMXbwLiuajv9NQF0jhEF8Yoii6QJk/RcusCqUM8twUCBZIMUyApTCgUNBQzYX2PfX2iD7UfCwsLGwGpFuf5fXYuIl+FTT/8ZkBi56cyQ/DKnmasDqLSw/0Zss76rrthBiVdEsIIIEyTtP0VZBK5JW+U1+fHrXfXoUVHE+ddF8LSFY39pv2YI8A0c9ZsNZ8wOYF0G/3evfaD3ZwwqtmObEZGI6txWSxxe65nj3uy35+TJqJAyq5+Xc94YlU42ve/uWrypSbuSNeSxguljGtzoFT/doE0wXIcNhdI45cLpEkQXRijKLpAmjxFy60LpA6JDwh6BKSQwUIo9zB+xpLLIkHWI/pQ+3FjgRQCl9anjIKy9xB+Ljdw2avAmN8Aj4/LJYxf7ttBP8Jyb/WbAqkbmZ7tQawfNQwLSOmTR54RUOkE9L88hAWLGzJJlqBRVg1pgoGUivW9+21IunzZzc50GkY1120sjJL1+Eqf7Ddx8iQUFRc3apJJszOdk+s2VzG/Za9rSdleIBaUrq9NaSKgVM+7QJpgOQ6ZC6TxywXSJIgujFEUXSBNnqLl9m8KpM3llWe3n4hEEBUeDYblXsnaSMKp3Ms2JMar424OSCkrHKfch/whZxk+/DitDmeONdBjpA99xwTx2p8GKjxyL+R9m9uEfAhJ2nz8/RcBUuUHyZP8Vb8ffU5ApR0w4LIwFiyyltNfGoSopAGpMMu2CqS6bNktFs9tCoyyzSgZj6xHI/tNnpKC4pKSaO0ot6etj+c2VwpInZlgBuxQyrYDdijdUEcnJpYZ21wo1VMXSBMsx+FygTR+uUCaBNGFMYqiC6TJU7Tc/o2B1Jlf/iQXyR1LfllfCZI7lxWOY2XSNiB7vHYg5f3PLitcZJ+yl9UBL74uDeCiCUF0HxdE/5d9OGNMPXqO8eHJn+uxoEbupaxVNYMwfR65p7LV5YbTsz2InE/3WE0QDDzMGtI2pgLSRYutMJTdt0l5Za/lBFJtW1E673ZzchyZyw6jZDIuiyVuz/VkOzIeWY9G9kuZOgUlcj+zv6qnaY6LxXKbqxbcWEe6rUApjXKBNMFyHCoXSOOXC6RJEF0Yoyi6QJo8RcvtXwhImf5GxmXNWSQMxQlNbk8Is7FoyEBAwI8GvhoXEPWbPgHADVdJ2uN1AmnD/nQarf3yT86celwgMNrjOT96TzBw5hgD540z0HO0Dyc+H8Tb6WEYXtm/3FO9piHJEmA2/hr3SD4EhCVrJtvsipetGtKwACm2DpBS29CnRRvKS4M5+S1eGCXrsVM72W9K6lSUlZdHYZT7oGludKYlHikgpenItwUo5TLKBdIEy3GYXCCNXy6QJkF0YYyi6AJp8hQtt39hIOWZ2pw1hON2FozyFT01b6WJ53/xYeIswmi9gJ/c7AVU2flIFliBmpGOl7IDKe99ejmnug0pQYw952vrDXyQ6UPv0QYGjPOj/4QK9Btbh34jPXjwixBmr5VtDJ+YCT8ra7lhJL7tXRGvKGdwJINHnxVQac9X9sDCRWqlkt23SQdSyvlp0a3QyUnn2W5ObttkGF3ZFEbJejSyX2p6GsqnTWvEbc2xGy0eRYGUxh04M7c1oFT/doE0wXIcIhdI45eUVrEG3+mpC6RxiC6MURRdIE2eouV2ewZSJlcnWaYcContLNXQSGG5iRJwBPzImXy9LUvV2cvhlZhXlV917yEVWpUic1YCd3/hw8lja3HFW35kzAjIFuxsJOGC3IkKFlsSH8us9mNBQR5mTLeANGhIChSEWmEMg3FZ8wRhWaPakn6YK0D6kgc9x9SpdqTP/mRgrcAqwj4E2J6VeRRONhWQWmne3sVjxc5c9ALz9RBf2bcL48xLTSxa0uDw6DETJa0NqVNbsZOTzq/dnLy2yTDKmtFFTWGUrEcj+6Wlp2O6PEjZeY1TZ1po8aoRkNK4M2cmEwWlDG+HUnsGafY0cOoCaYLlODwukMYvKa1iDb7TUxdI4xBdGKMoukCaPEXL7fYMpMJpcjtRqCk3EYRDJvySBcKfGfYiwHsNX8EL7MgdDWEuF6gMyCLDCCBoBgUSOdRSQCDPj5krw7jhPQO9R9fh3PH1OFWA8LxXvJg02y8gyP1IWPGRNqcIUyGBKzNs9RjPzs9DsVxzWbgDvMcyDrkHhsJyPxQKDUqkIQFTppGsq04CiffHUuCS1ww89bMP6wijspwAK1FwdXT6VxF9GVQ+C6GuPohb7gujRYcQrhhoYM06hpAMixiOrEAlfBzS5iTHqwmQ0raA7GVN552mWc0Oo2StjYJR1oyubQqjZD0a40vPzMCMmTMbsRrNmZ5EqAmQ0pwZTRaUOmtJdSb1dPLkFDnWLpAmTI5D4wJp/JLSKtbgOz11gTQO0YUxiqILpMlTtNxux0DK1JI3/fp8ZG2o8Iop9xn4WavJrkkGFlT4EAiS4uQe5/MqPGX7UJ9AaS1r5gQO568K49o3TZw6KogBowycNT6MAeNr0eMFgdMxJtLKAnKfagDSpmJNrNzXCL2Rtp25RUUonF2i1gFeMdZ0Sjr8kqpQEB7eb4WO2VTVL3EaArMEoLqAiemrgYo6xiLJY764qUSjssmsxErC9irJC2uz6Z+li4Gzrwyj5S4h3HJXCNW1DMB1zLPFCtQWA1LKCaPakihdzrRpXnIy2ibDKGtGK5rCKFmPcTHejKxMBaR6n3r/9vQkSsqL9oi1NZfhREEp4+FvJ5TqfXPqAmmC5TgsLpDGLymtYg2+01MXSOMQXRijKLpAmjxFy+12/cpe0mvwXJRZQpr8kzuLwKbMC+QFAz78VOzHje+E8OFUOXPDvKd4ZX1AwFUILxiCL0zINLFkHXDLex6cPM6DM18M4cwxbMfpw6mjA7hwvA+TZghQ8jV7s2Ii/AqIw6yCFRUX5mH+3FJkLTQwa4VPrhyyPwFRMjCracOyf94HWQcalL9B2dhkFa9qzCoRMZxMeMWJtjlV1nD9+UuIeZN80ofFJSYOPyWMHQ8AHhtpwMuDSd/yr+SZrEBtUSClnDBKS6L0MdbmZDOyFJlqk2FUwldXNYVRsh6N8fNb9jPFt5rL9P71fCIV9aKO3G7cqTPjiYBSDq7PHlyMi7/tQKqN27tAmmA5DokLpPFLzhKxBt/pqQukcYgujFEUXSBNnqLldruuIWV7UGJeQM5KViFKmTH4naMqAc0APigM4ByBydOfCqH/+DDezBZgDMmNW5iQXzoSYlXz3hDP6QAWV9bj3u8C6DXah7NH1eKUZwIY9KmBomU1kFt15LVy8z4Kyz1NaFTubdbv6QKkH/5UgKveMjD4HQNZC9hWkuDgUa/2mQQzFPkMqECZ6uAv8wpITckV24yuZ39/FZmmX7LMfIaRkhXAHv8MYu9DDbz6jlxtVZm0IJTlk6xAbTSQani8/HIh3MciCzdTOi5tSezkxLxq04ykuYwMRZYiU5GtNglGWTNa3RRGNeRyHxpInWngNNESLzbIvkNtzswnAkq5PR3H7ZhpZy2pzqwLpAmW43C4QBq/5AwRa/CdnrpAGofowhhF0QXS5ClabrdjIA2F5eZsWl96D/J1utxHWEtZ7/PjixwDZ441ccZYL/q+WoXTx3txxhgf3srxoIZvzwUAg6pGU27G6h5EigxgaTXw5A9B9HyhDje+48WsFWpPAq6yF75Sb07iOt7HQqbX+tCTLPrizxL0fWgmeowGTh0dxHWvmJhSxppSuZ8KgBFyVfMCwhiTLv9M1dZVfjAu1eCA1aR/bZlhDwufzIXx0Y8hdOzmwz+O8OHn37mW11oLQlk+6WNqk4FUW7zaQp2cmFdtTh4jQ5GlyFRkq1jidjFhlDWjtU1hVMfNfRFIZ82e3SQNyVAT79l3at+50wmbC6X8zfV0Hre1O8AF0iTLcX9xgTR+8ZYhnov6Tk9dII1DdGGMougCafIULbfbdQ2pYdVKyn/eUyxwCSJnbhhXjw6h9/M+nDvaj97jAxjwYgg9ng+i38ggPkgnWMp9JxyIvCpnzaQXQX6NSbSw1sT7Aq7ZC1kjStCV+1RAAFZWx/IQ/Ubja3WfQGvQ8OPTHBM978rCSffPwBkvhdF3fK1AbghXvWLg1yLAG2BtqU91bDLCFggo/5v8KpTEKXGxJ5WC07+4TDUgfhg1tcAdj4bRcd8wTu4XQmkZ894AQ5aPrfmNAlInONLilXBLUuJ1SJcpnWcni5GlyFRkK1VubOLvZmGUNaP1TWFUx899ZeVkNwFS5z4SpZiec+6YxoTFcoQdSvVnRll1zCEHlixZgrVr16rtdbyEVH6+iuE31LnJBdIEy1GGXCCNX3JmiDX4Tk9dII1DdGGMougCafIULbdbCkgZtZg6d6wlosh8ZEHjdRsGMYZQkCgQx1flqqu6zC/3hjA6xUT3CSH0nFCL80d50Hu0Dz3HhPHCTyHMquCNV8IGTLkXhdW34cOyPcf4ZG94gq5usykhEBJg9IQ9MNj7yCH6TFtQgDgsQLq4KoTBX5g44bYynPHgTJzxmg/9x3lxxuhadH82gGd+DKAqKKBreCVOuf8Ri2V/TJIsJGYLqrL2NlLVGpHez19NHKqLWrjIQPf+fnQ5ALjiJghUEVTlWETWM+9kBWqDQDpuXPKg0RmvtgRKH2udZyeHkaXIVGQre0UgpwRVshiZjGxGRiOrKRhlzai3KYxyH5zn9k4g1fEmQ816Te/cbhoWNwVKly5dqqic29FRK1asUGRu/1A/q5xdIN0CcpQhF0jjlwukSRBdGKMoukCaPEXL7ZYCUvVamu0kA4IY8k/BG4dA4n2GVYLWa3fiWZiv3wXJOD6lGm9zE2TlIQyP3FNezwig9/N+9HrOwGkveDBhsgE/v3bEWk8JxqhpBEH120oiN4+qYTnPeS5pmh7uU3Vmosm9LSDpn1MN3PFKAY69ZxbOFDA+c7wPPUYGcO+XISyrDqq2o2wjao0nGonIJl5j/mqyly/O699sAUy/5mb78e9jTXTsZuLZCVYtNv0gh1KJ4ckK1HqBNBaM0hKpWPHTEiTtH51nzWBkJw2kZCqyFRmLrKWZiwzWLIyyZtQXu1KQ89yfHUi17POJ1Ho9ph1gN3tiY0EpncIM21/hL1u2TNny5cvVMjrDDqSxnMF9uUCaYDnKkAuk8UvOCHWR1L7TUxdI4xBdGKMoukCaPEXL7RYCUoPwafos2Ix8cYi7CwmYmSF2yghKAvjuXO4NEoZfkpc7jixjLdnGi3lQ+SDg+oN4p8DEha/XYvzEAOoDpsBPQFaxhlTKVzOmNm/GJITaj13cH4GUr/wJmD7JJ5WRW4prXyzDgFf96DemDk//FMa6KolE9q9eybN6lz3yVbzJVTKP7cbKngbO875v/bBqrF9+JYDd/2liv/8z8dkPXCeMIGHUQwKD2bZpFkidgKgtGYq1H1oCxLxqi8VfGkjJVmQsspbmLvsrerIZw0VhlPwViM1fTiC1i8uToQ16SzvBbjrR64NSXVuqwZRtGDiN6RAXSLeMHGXIBdL45QJpEkQXxiiKLpAmT9Fyu6WAVAGbF0HTb9UkhgQOWQmmOu2I8WYoGBoSIOViv9wT+Do9VrlYn5gHmmzOAsQdoWBxPWq9fjlzCaSyjJzLVc3Y+mUBUSPJNiHZlydUpzrIG14rkhll0/DMJ3PQY5yJx34QGFd55U1fUkIgl3scmxvwerI50nltTnq93bYVMS26WQSkTKxeZ+LSQWG02jmE/pf5sXQteUNWirvVsYxuY/2ICaROMKQJZyRVsfaZANmP2YbYi4xlZy4NoroisAl7RYYbs7MXzQ6ks+fMiaTEEpcnQxvlLZ1Au+nEx3IMad0OpnbTDrG/rneBdAvJUYZcII1fciaoG4j2nZ66QBqH6MIYRdEF0uQpWm631Ct79oYXwAiFiGVsq+mTHQZRtjSAouU81vJTYJRjhPp5YzRCEpYQuWlpYh6UqZrQejFFvZYEAoWDefZGFmyOmgIp98c2oP6w7NNrvY5n//g3v0xVvex7jzTw1I8CWXXcrx8hw4tQuF7VGnuteuDNEvdrBwqn6XurPcy2IiZFkqWm1NTsMPY+0sRO+wTx4POsYZYyEnkgYdmgdJ6oJkDqhEJtW0J6XzffHP/QUhHp46XzbOcu+2v7jeGuJhWBrMl3lAuaBtLs3JxtC0gpe0K16Uw4naOhVDtIO0nPx3SKxKHj045xgTTBcpQhF0jjl5wF6oamfaenLpDGIbowRlF0gTR5ipbbLdapiV86ImjSPLLAj5LVPtzwhh8XvxlA2hLBMrKGTEKGQF2YMCr3CbXxpovYy/aqZJpgZEgnju3JV+Wb2i61sZoDUsBH/0n+hAfwRrqJvk+l4KQHCjBgPNDnOT9u/caPvCW8ekgmJX/0hdWOdPP8zv2uz+z3Vm3bilg7qmpARaw1f/BZEy26hvGfY4NIybR8rL56pfKgfkbzRDUCUg2ETtuOZT9m+jjauctZGRiLuTR3NakElMLqLBc0rqO2SSClnAmmxXKOJnZm3g6n2iFcp53iBFIdJ6cukCZYjjLkAmn8ktIq1uA7PXWBNA7RhTGKogukyVO03G4hIGU3JbnlyT9rKKXyxQYuf8tE9zGGmA9Xvx5E/mLuX84vuTcEjIAApaSpKf9tlHiWEmmDbLsqe2W7VZist/SrFDCvzdn61TRB3IY1pGwfWx8w8EaqFxeMAnrenoteT5ai9xsmeo/3o8dTHgz52ED5SsYhHmGbBYPfB928OlJnummyVFmsdbRtRTy3hTeV5i8P4X+nhLHDLsAV1wcQCMqxp2vkwYQfCpD/Skw/WYHaIJBu53IeNydzObnLyVxO7rIzl9V+u3H8eh/UNguklDPRNJWpZhyknaRNL9NhGjlGTMfHqQukCZajDLlAGr+ktPJyH/WdnrpAGofowhhF0QXS5ClabrcQkLKmkuDFLyX9UiQw+qqBPqMC6Dvei7PGetB7TAAXvlaPHwpN9muyajJZ7RgDADdKsllYiNbqsS83bSHboOSPTQHYfnXz1XRb+o1J5bBPITOIifP8uOQN4Ng7C9Hj4Wk4++Uweo6vQe9nQhj1XQCr/HxRH5S0cKgouRfGKvxN1DQMzw/u25oyXQ33VIbn1GlbTw37VqmT5KqKa9GTzxpov2cIe/47gK9+4lqrDATJCRJasqTE9DN/VBRI+Yr8LwajlPO4aV5KCHPx4ckRP6V9u22+spdESypUQnRGNFlrp+ipdpDdOfytncOpDueEUR0/py6QJliOMuQCafyS0irW4Ds9dYE0DtGFMYqiC6TJU7TcbiEgZdxs17nGZ+KBb7zo/qwHZ44XKB1Xj/4T6jBgfB1OeaYO934dxGp2CgoEYQblPhGrYGysopty35Gf0ZnNlbWxyo/NX5xlXSy/B2qGg5i6KIR+z2TjxPvL0H8c0GPkOjz3q4EaD+tn6+WeJxuIGRKfLudajeKWCb+7b8CrlhHidLMD9WlRuZ/61UgEftR6PXg3y4/vi637K6V2IxupobVkGWslIxy4RaTzIoQgaZH7vyRIdePiE4okceZCE/872UCbrmGcc5GBteuYOnloUPkOqXxqX6j8R/JFIF31wAONQZRfUfqLSPvNbpqbnNzVnGneasJccgzs8Wpp326jQNqQAeUE/pbCoZdpZzCzCjz91tiiBFBWF3PK3xuCUR0/pykpU1wgTaQcZcgF0vglpZWX06jv9NQF0jhEF8Yoii6QJk/RcrsFgZSfyuTnN2evCWL4VwZOetaHs8YGMEDs1FEGbvnAwLzlHBqKmMY2p7RIBNuMLB8xP3Z/cdZqkCAJVlV/Yfz0awnOfmwGTnspjNenGqiT+yJhi2yooFI8wrakDGuXPW7CpGF6FXiyRpXb8eOjatB8n8TlYdtY+e0z8EYK0HOMiYte9OLLPB+8Idk2zEoiuecS7sNeBNnxSgHslhHzwfPYLy7h/T/AGmpyhMyzVvnehwLY6UA/9js0hDc+qhMPMm1cz/Of6Cr5jrhHxaULhB1ENYwKY/yVpMuB3TQ/adCkab6ym16nw9Oi8diA1C6GobY5IOXOmThmjFOVMSkaQSlMQQ7LYXOEHTj9kdpQf8CqGWVvLi4nuGqn0LQztOllLpAmWI4y5AJp/JLSKtbgOz11gTQO0YUxiqILpMlTtNxusU5NrB0TIFHAYWBZZQB3fx1E7+cCOOMZD+772sCCaoKc3GuCcu3nV5H4un2bO9xNCZl+o5mmT9X+8VOgshTzSkrwy6QS/F4eRrXAI5sKEAasr0vRD/waE+99KpqYYlvaQOQ+DMOqXQ2q7WQ/AQveKnwm3vy9DmeN8+EUAfseE7w4Y4KhPgxQHyQEC94LkIbYPIAdxkJb7t6qfcP0sj1oyJR98zCLcosNHNvDQOeDgf7nebBcHlRU7aggN/2jhoXiv4iDLB+LH5wwShMf/dWkfec0zVE0zWJOs4dpEkcESJ1iWGqbBFJ75uwKCJASMvU6nUl/UABULjjaCV6/TwEpwzB8TMdETDvCBdIEy1GGXCCNXy6QJkF0YYyi6AJp8hQtt1sMSOUar+4P7FnOgfANVNaF8fT3Bh75KogKD2tFffAIiLLmTFVysNPPNne4rXuVXfSbgidJO9uEIuxl3SdGf5eHN38oh0/lIahqNsMclFyi4L0SAoYE2KYxahFuJRgBXSDXK45ZVsERCuQeK5tzIP6qoAeP/laHE17w4+wxdegvMNpnvExHBtBH7L0MQ+7N4lsCYUj2JraeHSZc9A1rRMNhP3xsGCoJ59tXn9fE3Q8HsdMhAex6iIl3PrHu9wzP1/tqFAJ5iKHrdLlUUyeIavuLyvJfbNOs1ZzF2kaZlIVY4jbUNvnKniDJ2k7qm+++xRtvvYm58+epEykgy/lanolcsHARXnn9Vdz3wP148JGH8dGnn6CiqlKtC0bAdb3OiRjlAmmC5ShDLpDGLxdIkyC6MEZRdIE0eYqW2y31yp4m8RtBOX/kHhI0+AI/jFX1QEWNrDVD8HMMUsUsQXgMmWeveALeNqXmgZS1nazhC4V8eDsTOPneXBx/fz7GTAFq+c5ashkOyHoJFhbA5PBXHFC/GT6QMDwHWGsYkPso8FWegds+qUMmP6LDGuSwDxU+Dx7/lk0ewujxnBcDXg6i71gDZzxnos+zQXyUJpgfFCdL2oIh7kvmxbdbSvQNgdSQYxtkEwyVVxM/Twrin0cE0G5PExdc68XqassJ6nW+zIbluFtAartPOSFU219clg8TZ+pkjKFtFkjtr9knTZ6Mvbvtg5127oIPPvrQWi/rmMCi4mKcefZZaN2mtZSLFso6d+6MocOHYXXk26q6UbK9NtVulJ66QJpgOcqQC6TxywXSJIgujFEUXSBNnqLldou1IZXrv8Ge7hAwYW2dFwHTK2vkJij3CdU5h6+VfV457oQ6CSsgxn/blpoBUskXy6unzsSrfwYwYHQIJ95XiN4PlKHf82G89nsQtR7Wh8r9k/lnW0rWo6pX95YYj/0YsCaLbSoJu59M9aP/hABOe8aLq94I4udSDo3kY1UrKuqCeHGKgZ6j16LXGC/OGB1UYd9Oh9xH6T+//POKP637tvXqf8tI58kac9R6uFi0GDjvhhA67B3Cwf8OICWV93phBeVbQquh8i0b8r+VZg2fTvubSPsxXrMisyZObbNAyoSxDSh16eWXyXFvgU47dsarr7+mllH8PNUVV14RWbcjrr3hepxzwfloscMOaLVDKzw/6oWoE5yv7J3Sy1wgTbAcrnaBNH65QJoE0YUxiqILpMlTtNxuwVf2PHMESwWk2LyLNYV8g8Z2hT4FaKwFDJpBIph6Va061iqQ2ZYUG0j5r9oDPPZzQICwGgNGmTj5wRyc+kQZ+k4AzhgTwpPf1KGqnhUzfgvQmD/llUgcEdNxqg5N8vODVC/6suPXaD96jA/htJFBnD/Bj+9LGYbh6+ALBvBWWhDdZd05L/rxVU49vAL1IbbHFNA3AoJ4BD3u1trFFlFDvoijhMwAxowF2u8VQut9DTwyUo47B5wVPxCa6RN23rL8IgygwTOGNfl06N9EDT7dOGuiZo7/VgZSuTBwaICAFIhgAzBymdb7H36AXbruKse+BbruvhveevvtyBrgm2+/wy677Y72HTrh+x9+Up+rqqisxFPPPq3C77VvN+QVFKmwOqN6H07pZXYg9Xi3tSfj7VDiVvqW3uXpXVpepqBUreLyGMfC1fplebPBb9qHhSUlLpAmWNq3JWWEfQua9LXELb/xKVpui4ui14Rki3tUexU4pfiXySB+cEYfTc5Z4SK2DauhHMq9M2DirVwP+r/owzmjQjjh4Wwc+1ghzngROPOFMF6bYgokCpSxgkbgW+68AoesIW3IpI5Px/lpNtD9BdZ+mjh7XA36jgtJfPU4bbQH/QRO8xey1pEIH4LHF8KnecBnBeJRjizPNAl9qjaDVuWk2pOKOtGSOE3mDfUyKz+4EzFDoDKgXr2TK0ykpIVw4H+BHfb24fSzA5i/SG2tRAi1Emj91uAZy3LyCzBzNtsuuNpkaf86tNWB1HoClacnKbzBQEDt1OqwZErh9uLc88+TY98C+x94AHbfcw+8/e47UmSshN1z731q3aDBN8HPhj8R8ebxvyOOVOve//DjaCYNeQLeFCB1a0gTIHGr9i3/8qZurw2JdSxcrV+8efKCG/VrZFossD995t/ziT3ZKrYBqavESJdbew2pq02Xvo4qf8qtri4YwicZPpz7YhjH3pmFng9NQ98JJl5PCWIF25ES2MwADAkfZH0x74+Ry7A9LhWfrFi8LoB7vzBxzMgw+k3wY8C4Wpwx2os+z4fw9A/1WFPD+zZrlD3CpT74Zb4+UgXKCaOx4rLJ8TMx4o5Y2822vxxnVfLFW7/s22/Uy0wAc+eF0OecADrvHUa3Iwx88yvv8QKxhGaVUAa3JU5YIKaJOA6pC6SbqYivrVld1rY2kErhCQuI8unJ72ejaas3fEg9WQEff/oJOu+4I0486URcfOklCkjfeseqIWWnpbPPORctWrbEJ599oZbxFb9O9COPPirlpgXOu+AirFy1Wi1jZjWQOjOnf6dMsQOpVUOaLEf8LSSui/pcfrpAGr8sT1q+o+mTuEigyQXSzZO9LDrnqSL1yt6FpkQqWm5dII1busxaX4Ay4DNC+LIEOPeBHJz1YBk+KhIMVR2J2BE4gFA4qJomqCPAP7bLcDQuZVziw+rKIB75PoRTXwhjwEgD3V8w8epU2U8979UmvMGwAlw5qEDQ2kfQ4HWf28dQc8vjFCu+mY4Q24Eq0BTgVD4Jo7Y2hNvuCmPHfU3suD9w32PiEzYLlDBsW8z8RmWHT5tpv1BZeXmYOcsF0s0SfRhxt92n+pqwVYCUT1VMGHekOxxZU2DV6jXoO6Af2rVrh19//w033DgIO++6C9774H21bXpmBg48+CDsuPOumJqWoZZRHKOUev3119GyVSsc9I9/RguNs7e9XdoRUyJAOuSmW+D1WTWkyXLE30LiOu0//uWrOfeVfXxSrxflr/af9qHbhnTzZfejnlJ6njWk02fMUPNa9m1cbbpcIE2crLLI2kEv/BxBgG0f5Rrx9k9FeP/3mUQzuQEKfAk/BuWHhOZG6rfVVnI95dg6TKj3BvHMTyH0Gx3CW+kh+NSwSARRtr2UfZoCgoxPbsFBObb8Yj93YZkj/vXsLl6xXXCIA9ozLaZHJYhZeOktE90OM9DpgDDOuwpYuFiWSpqF3VUaG8kBospE9nPe+nSoC6SbpWaO/1YFUqbK+qSYNVYoX92zYTn1zrvvoU3bNjjrnLOxtmIdbhk2FDt22UmWv6vWf//jD2jfoQMOOfTfmDVnrlrGONgzn3r/gw/Qsk07dN1jT5SVWxc73WvfXqi0GoB0qpQ93YbUfWUft2xu5mXPbUMav9gDNNYNxALSxtDkKjFiDanujOcqMdLnfnFJScM1IUa5drVh0ZfsgBfkUE5+U31Aht4sKMnHnFnlKgxBlF9MUjWZhMkgawf5IjsgOMmaTku8F2rj8VD1RhyaQBBztd/A92XcPiTAF2IXIAkn24Y4kHwAJoeUknX8lCgHoZdbuqy30tfoWp+kw8yOWqpNLPfHWk/uXPL2y0TgsBPYkSmII043kZXH0BLWL2AtwMorajRR48Y1hVFaRDof2XxlHwHSRnlztWE14y7NYVsNSNmuk6/oOTST+jSZLJ2/YCGOOvoYtGvfHp989qlad+OQwQpI33zrLbXlO++9K2WkJY485jgsWGS1Sg7JGcdX/tQvv/6GrrvviR136oLcvAK1jBlSJxkLa8S09LxuQ3rLLcPg9Vmv7Jv1nqsNS1ynB8HlX9543Ff28YonbYPftA/Zqal8ugukmyN7WWw0Hym77GVvL7euGqT9FcvWJ33zsfvW/t1wV5sm8bh1aeB3+E1+HQnIy5VrQpn11oSjrvJVftDwiu9r1AD1dLXVsUmg0nbcosdP/nPAJoPDOxFmVV2rQK+cF9yeQ2OpUaP4AQG5f/P1txrvU5Eoj6eKtiE+LdtsosToeftXY7FKokxVOWUitcSDE3uE0HZPAwf8J4gPP6KTJK0C2WSOIGolnQLYTJMTQi++WPnVnnZdbnMKCjBrtgVNTfLnav2iryLusvtuqwOpes0gpYgJ4YD3rCF9/oUXFBRefe01qKqpViGvuuZq9cqeIEq9/uYbKswxx5+I+QstIGWCA5Ea0ozMLBxw8CHo2GlHpEZe6XN4Cu6HZneCXVMjNaS33j5C0pMcB/ydNX/hAsye27iguUqMZs+fhznz5kd+uUqkZs6aqT7K4Srx4kOq8+bjanMloGWbFk2bgZkLdbmVmz1vabz/yT+G2Jg7nNw11V/1Dlxtwa25TO61Fj+opVyr926t2JjYEy1WIun9mpg9O4gzL/SjzV4mdj04jFEvckQfrmOve7allVlWAVMaQu0WqeCKpaLSMsybvyDyy1UilZuftxXakPLEEOizethbIDlj5kzstfe+6NS5M7765mu1jE88110/UAHp62+9qZa98eabUl5a4PgTTsCixYvVMjWEVARIWdO5734HoNOOXZCXb9WQsqAyU3y1T/FLT2VlZZg0aRLS0tKQmp6O8S+9iBatWuH8iy/Cb3/+oUg9JSUFk6dMweSpU13bRJs0JQVT0lKRkpqqfr/z/nvqS1rZeblIkd9TaKkNNlXC0bjOGZdrlqVMnaJsCk18lir+Tc/KxDsfvI/3PvwQGdnZmMQwso4W3c4271pTs/zFstpQFlOk/E5NT8M74texL76IL7/5Bp98/oWU4c/wwcef4OPPPsMnn36Kr77+GpNTJsuxSFO+n2zzvzbnMnu5j2UqrsmT1XFOkzQw/smSHh77qXLMaVzGc0zHP0muU5MkL1PS0uV3qmwr4aamqWmKPGzr+SkybfRbtuN+Jk+V85Xp5PVO4uV1kdc/rp8q+9D75bKpsixNrpm/T5qIz778Ap9/9ZX45GN1fvPNFu2Djz/CN99/h7SMdFVO7eWWxr4AHMqPHVh5rZ0s8TJOKz+uNWv0j8Msn01S5XaS+DFdfP7622/g0y8/QQ6vt/o4sixIGGsbHg+Z0iJx2E2FkfAsS5NTpfzpfUs5oanrtMQxSZZNlOnEyDaTU2W9WJP4VBnTxt+bYizbafhzaqbEPRFTWFZkfkpKupRFKccpaZgoZWdK2lRkpedJuAJcdn0Vdt4H6PQPLy64pBzf/ZKGtJzfxUdM259SlqUcynnQBEQjpv3KMku/qnNDLFPK6qvCICzrmTnW9Vaffypvso21LFY+XFOmrrVyfYlO5XonxyI9M0t1XudoSVq6AjEZUCpHukH8NChrSLkjjiN6+x0jpBy0wPDbblcdlNT3dkXXD7pBvbJ/W4CG+lwugG3atcV//vsfzJ9v1Qqpr3BEBtP/8MOP1fiku3bdHeXTrDY0JqvxI7WjnHK/HFx/1apVyjiG6fc//YgWLVvg6oHXYfnKlVi7dp1at2btWqxe59qm2qq1a1Qb4NUyXbVmNdLkBpSbl4eqqipZt1otp62RsE6LFZ9rEd9E/LZyjZRd8esqWcaLIGG0Uny7UpYxnPa92o7z3Na1pkZfRvykfUv/rVq9CusqKvDrxIk49sST5aG4K7p03Q277bUPdt9jL+y59z7YSa5Ll11xOZYuXybXkArlex3H6nUNpo6TfZkOE8MYllNedzi/UtLB9KxYtVL95nGlMX1r1q3DCjmXaKtlfuU6ScNq5kPCyPwqmed1bK2sW7O2AqvXSDkQU8tlvVq2WvYpcfGcZDheC1X+5dq3lmngNVL2u3zVCitdso7LKyXcHwLFx550IrrsvDO67NZVfLMndt19N7Gu6po94p67sE78Qj+uqWjwL/3E5bzBZ+fkqGvC8pUrVNy0JsfItQ0ajx39zGPFY0PfRq+3skz7XvtY+TnyO1Z8G2uN4kuqSbmtkHvKupVYt0Z+r5HzgWVp7So5NxZgjVwPq6qXYPrMClx902rsemA9uh4UwLmXGrKsRtatxPI1S6Q8S5lfJduvXtcEQrXpffK6Sd/x3GCZZRmtEH/+MXmSAn379da+jZ53rXnTPtNlZ4Vcg3jtYUd2Vk5a3JbcZjxytBvE2krd7rOwqEgB5EEH/QOp6RmqExJrMb1+H6657lp1cXvtrTfhF+j87fffsdseu2OPvfdSJxzFsUv1153ee/9DtGrVGvvtfyBmRr6mYBoW+NK4Tw3C2iiewATiITffJPuJdGqKrHMVv+xtSK0XR6y3bmquNl7aZ6Xy4KXHxeNJ7GrTFKvsaT9m5eXjqOOOV9eGlm3ayrSVWMuItcBZ552L6toaFZblmrJKd2M1XbJ+2Y8jr1HV1dXILyxQtV+8GfLiTQXk4Z1x820Sp/b96K9NMT367ZCWfuCnuC+ddru4jdfrRVl5udpnZnYWlq9YHo2LtfMHHHyg5ZsdxC/yQM/51u3bqemIu+5U4Rr80ljsZe8cwcBVfNI+5kcHps+0fPtXut6y3IY5hBXYqtUqh+zQxdzUVfsw/CEvdjkY6LingZ7nmJgzm7msk7Veue+r4A2SMtrEHLL7SM/nynk4a47bqSmR0iyYnZfTyLfJ9G/0aHMnvIDqhux8xbND67b4178Pw4i778ZNt9yMW2+7FcOGD8d/D/8/dOjUEb3O6IPb7rhDDf90jtwEeAH8+ttvVHwspIRYxvXc8yOlXLVA9x49sGz5MrXelAsoL6LqwssLt4TTYKovrpMmT1TbEUg9chFm6dNjlLm26eZUudzUpjs+Herappkuu/Su/SbDEQzsT5V2MbyeuhbbtOzL9AWSQHrkscehxQ6t0bZ9R7Rp0w7tOG3XXl0vzr/kItTW8YZnHR9Kd4hKhHT6+MqVw921atVKfSyEo41QvI7ar6XO49+c1IdJxPQ10B8M4M9JE9UbqE8+/1QgtEyFW7p0KU7tfhp22GEH7LRzF7m+PqfeblEZWVk49LBD1TB77Tq0V9a6XVtl9M09992rwjEHhOOofyJ5KioSaLKNYMD12v+ubb5RBQUFmBGB/Vjrncu2fZOyYbJTlZTZMMc7ld+8p6vGoCHUe0w8MhLosIeJVnsEcHgvP0rKeA77EAx5YAQlDvYl4fgABM8YFmu/iht4bkeMysnPxSzHp0MZ1i2/G2da9mX6epuZk4VZto8OaJ8mQ3LUG8ROTCEBScIkL6577rm3lImWasB7/aRNaytP2zu0aY0WrawaiTHjxuKxJx5X8088+aTqLRfgMBaiFStXo2//M9W6x596Un1xiZkxOe5FRCxgGkLtjmAbEW435Jabol9qIpBKIDXvavOk/C+FikA6MwJNXJasQvZ3EQGEF0h6kW1umqtpcn29AdE1NobT/uJDLJWRk4tjTzwJLVu3lutQW1x2+ZV49rnn8dQzz+K+hx5UbSjVcDoitY3M8m3N4sWLsWjxoog1nl+8aFFj4zKGkXk2Q+IrVxWfnDc0avLkydhjzz3VNWrnXXbGl19/pZbr8ZcpQ65lzmOtf+t4KHWTjVzo9fqaulqcQvCUa23b9u3x8KOPqOULFy7EMcccrfbbqvUOeOiRh6PXzBUrVuCtt9/CY48/hifkevvMc8/i7PPPQ5tIDend996jwlEa0u15Ki0tda8JCZL2nZ46gXT7F+8jITXOqcEhrljW1YACJiqrvXh8ZAC7/stEm32BI3oSbDgwVa0CWLlYqjFSw7K9Ea5pAqLsUd+sIq7jlZbjrlLseDNrdmMg1ecT5Zbj5tWcb/Q1gW9hZttGMNBKhk+jQMrIafogLli0EG+++TbGjp2AF198CS+98jLGTRiPl195BSefego67tgZ19xwPSa8+KLceKfj3fffQ9u2bfGvQw+Nvgam+Lp+l113VRD725+/q2W8+KpOVI59KrMVouiXmobeAo/PGjqD46NGw7q2Saalf5dPm4YZsxrffOymFWuda41N+UnKrn4la9WQNgXSWNu61tSiNx3bMv1KOzu/AMeccKJ6UG7brgO+/c6qmbSLNZS6ppFih8l+A/qj9xl90KfvGTijX19lnO/bX+a5zGZ9ZR2tj4Q/vcfpGD9hgnrgUA/PkXSwE9Ne+/KhvQV23a0rPv/ic7Wc4jWNI4kw3RxK7+dffsVdd9+taijvuf9+3HvffWIyvfc+3HPP3XjnnXcRlId0lh9Dfc0GqK6pxlER8KTdE4HJBQsW4LjjrSYLrdu2UZUB9puvU+NffgntO3VU4e1Aqq7Dso1925KSkig0cTnFda5tnlHaj4WFhVHY1z7XYbTs227rJn8UUAbVUJFCl/wSk5y4a6qDuPOBIPb+N9B5jwD+1zeA1Bw+MFnrg3L+8OtRsqlM5VySctnIOLxT5O1qc0Zxqs/FfIH92ZHXylrOsK7FNqssNvYXxesXRSDVr+zt5dYeNlGKAqnErm6o6oIrRvBrToNvGqLakH746SeRJXKRFIA9RUCVF73+Zw7A62+8jhdGjcZh/z1CLbt20PVYvWa1ypCKO4YDOM8aDX0CT0xJUdsOHnozvLoNqavNFj0txUlNqbJp5Y0eHlxtulh8dRlW5TbiXDWeo+3Vp7Osu2peLKENpdRyKU3XhuTkFeDY405Ay1at0bpNO3z2+ZfqOFBqTMaIr/W1jOLDbSu+1ZHriTK+8bG99dmQXXn1VSpNCnQjcU4SIN272z5q/a5dd8VXX1k1pOr6yWtp5ILu8QbAoeuccdqtV+8z1DB5zCHb31OslT3+xBMUeLdsvQPue/ABtZw1pMedIMtlOwLp408+YeWT+Y5cO7XoszETxqNdxw4qvH5lT6lrcSS8LpvFxcVNmvG4ik/ax6wh/Wv5lvliNSfbGzIvflRVGRh+J7DTgSba7BfCcb0CSEnlGwM+HAqE8rwIs0Oz3M+5iZTJJrYet9j9Zp1j1rnIGlLdP8Wpv4avkyf1lU51LOmjBjN1BUB20zakyfKnHH2bZCf6IqUONi/o8vTDCyUb6mu79PLL0GqHVqrGlMnS441+/sUX2LfbvlKm5CIbeZ1PO+roo6LfnmacatD99WRML5scGRh/yM23qM5UruKUuNXubQKp+6Wm+CRes/5FfKen7peaEiN7meQ1icrJzRUgZQ1hKwWknwuQUgzLMJzq7fRvDtvUtoMFZS1atkKr1m3Qqm1buU7toJazTbxub8lrFwGwBTsFRa5jV119tYI9jhyi0zFx8iTsvY91vSOQfq2HxiMcKllp8Pp8AqS3WwDcpo3EK3G3bo2WMmWzA27fq0+f6MOirmVnDemxxx9npVnSce8D96vlCxY21JBydBO+nmea9HaSYWsqYt7Hjp8gebRqSHUtq5byVWRKFZc0fDpUL/s7ix4ICEyFVKcd+cX//Dqbqi3nRzr5W4yvoPlPuSzEgmeF5b+IH/Pz87dDIJU0EjaZJZmXRy0ukcV8AJJ5KetWU5owlq8L4pY767Hj/gba7w2c1sPEpEwLRsMB2Z4dmU0xiUXlXcpjTFuP7P7kNHpNyOOnQ63aZ1ebKOXPpqaBNCsnu1EbUipZZbfR0efB5cVU70xdzCMXOl/ArxrZs43p2+++ozoacQw81W5OwnAdoZFDBFx0ycXyBH88jjnuWAweMlj13FTxSSZZvR+SwmyHUqf0Mv2lJn46VLchdRWHHK5Wvezd2pC4xNuQ8yJJud+yT4zsZbLh5tMYSD/77Au13F6G9by2vLw8HHjQP9BtvwNw0MGHyIPzAei2/wHYe9/90K5TZwV2bFa06x67Y7+DDkS3Aw/AAf84GPsesD/22mdvVbOo4iJ4RGowOQrIPrI9r1Fdd+sarSG10kkgsdLC9qtPPvWkxLMX9t1/PxUnrdtBsn95gN9z771w7cDr1MM+pXPcCEgFju+31ZByzGc7kDJtvE6rbSP7pbh83PgX0bZjJxXeCaQUQzMcZf+WvV72dxY9wPsVP8UpPIWgwQHcg3Kf5A1bHk7YIYeHm/cz1CFo+q3PdLKTjyoDDX6M1alpexDbiRr8Bj3fPki+CZecEsAl4wyBGTPDuGRQWGDUj657mjihZxhT0lgefbKtH2FCrf6MqBowXyTlsYltQNxa+43T6DUhX3zbTA2pqw2omWKofbuVvtRkJYCmTxZ9wFW7JpkSRhWcChxWVFUKXIbURVS11ZL1+pVaZXUVFi1ZrL4EVFtfp5Yx+X5+3oxxyC918YyYU3qZC6QJlsPVLpDGL16WxXNR3+mpC6SJkb1MRm8+GwGkFMPrdqS1tbUoLCpBbl4+iopLUVhcgtKyaXj5ldew+977qBpRjhIy8PqBcl5MR0FRIbLkQpxXmI+8gnw1tBLjtj+wq1f2kRpSDnv31ZcWkFrpkLQyvRKU6Vi1cqUCEqadcTPO3HyJu7AABWJz5ILPa6gemYSqqa3BcSdaNaGsIbW/sneBdAuJLlAcxWMaQlDgNGjUyDIeJy6X+588oFi14uyw60dAfvtZe6i2byiT2yOQMleClKpmVPGnwKkZFCbgZ0ojX2LKLzYx4OJ67NgtgC77AwMuNFFQ5pF1HgF0duoT/wiUGgZ75MtiemZcjG/Ub4RYwrXfOI1eE1wg3Xw1Uwy1b7cakOoDzKndWJupL+46kRTX8UTUxt/29Xbp9fwXnY+YU3qZC6QJlsPVLpDGLxdIkyt7mdTXlo0FUs47r1lOffvdt9h9zz3UdaZV69a46+67Ims2LNaQ2oH0yy+tpgPcH1/rGmzKJMmxp6k5cRs7jFIcS/U4tiGV+F0g3XriF9b9gmUhQ/yhvksfRJ3PJ38FtATMWPkXZO2hmpH7VIj3N2tb+lD7cXsEUp45wp8KyiH5DwlR+iXn4XCtLPDj93TgpD5h7NTNQNeDfeh/YQhl6ts44gd+b182lq2sdqPMrpTBmLaRYgnXfuM0ek1wgXTz1Uwx1L7dakBKxTpR9LL1LacRNLXsYbncukg3AC+lt3NKL3OBNMFyuNoF0vjlAmlyZS+T0ZvPeoDUObVfb2RG/VZvfKyqGjw38nnVflQNIi/XmsuvvEKNecwt9Lb8/d2PP0TGA/0MH33ysfqU8qNPPIauu+2u2oZ23X03fPGFlQ6rVpZ38PjEV/Zs+qSAVPbhvrLf8uLZzfajZjgAQ3ULN1CyOozHvq1FzkI2sRBAJaSF/fCH/FDN7oICpOr487rQ4Mft9ZU9CwjLFl/Zs2yz5tMvefzw4yD+eUwAHfcwsctBQVw9NIhFi3le8byRqYA5w5riG7U9l0kZjGkbKee1NnpNcIF089VMMdS+3apA2pzsB9+ZGHWRj5gOx4LLef3bPnVrSLeSHK52gTR+SalucpGkXCBNjOxlktcPamOBVMu5XF2H1BzUBz84zqf+khF7tesPGqgaS5muWLkCe+9r9aZvybACgWzTyR7ubdu1VzDLYZ80kFo1nSbKZ0zDNz98j2/FvhP74acf8d3336npDwK43377LX76+WeZ/1F9UOTHn39SY6jq4WuqqqsaAel9kU5NLpBuWVkjNwiIhcKYMhe44E0/Tn+mDje/bWLaIpZJnwLQkFEPv0BrUP5xpATLfQ3Xhu0RSJlGdlryCYgH1DNWCFVVPjw7ykTXQ+rRuZsH+xxi4s5Hg1i5TgJI/kN+vpoXM/hKn8sYkdzzx45qDKEca1QB7saLJVz7TaVNXxNcIN18NVMMtW+3OpA6d6YTpguA/TeNgKlrQalY6/V2/G1fp3/bpZe5QJpgOVztAmn8coE0ubKXSX1d2dhX9nZxub4G6Vfj/G54z969FOwpIG3VAnvstSe+/e47tY3an4RbuWIF9t2vG1q03gGtBEJpHGi+TZs2aNeOtas7qF72X35hvbLXX026S+BvBwnH8J277KTGAu3QuZOydrK88447otOOnVXvfi7bcecu6nr3wpjRavsKF0i3uuiCsKr2DGHqDAMXvuzFaWP9OGO0ie6jQrjhTQNZc622lAj6EDLF1EZqc+VD7cdtGUh1epikhnnrnAmx3WiITRUCmDMvhEFDQ+h6oIFOB5g44HDg5ff4OVuCpQmfGVBtaAnxbHfKj4nSf+ExYxvDKG0zJKlS6VLzkfRRLpDGoWaKofbtNldDqgunntdyJipWIu3LdM0oFSusll7nAmmC5XC5C6TxywXS5MpeJqM3n2aAlGIY57Gg1Lbym8t0PBybdN/9BTTlGsNxOncQcOT8Aw8+GHk1KZLwy5Yvxy5du6p1TmvTVoCTQLpbV3wZ6WXPXvXUzUNvscIRZNu0VlDJfSiT34RJ1q7SuEwNNSXhR44apbbnt/GPsQ37dP/DD6nlLpA2lco/z0Me2nAIfgEhC5EkD2y8uGkVcVExVr52Tp8eRP+XDZw6vgoDxnlw9svAmS/4cNrIAC4c78ek6QJsLHsCY/LIo9pbctf2a8PWBVLuK/b+mEbWgoYjHZX4ly1nOdg9m8VaZ4sfEyfXo9cFJnbcX2wfA8f1NvDdn4R1K16JQrk5wB744nPiqPKFlLuYthmy+1Mdc31NcIF08xW7WER9u02+st+S0pl1gTTBcpQhF0jjFy+7zosk5QJpYmQvk9GbzwZqSO0WbR4k2+qvvBHcqEcF5Pj6fYc2bdSQT4Q7Xm/4daRZkTENuX11Xa36Ut2Y0aMxZuwYvDDqBYwZPw6DbhqCLl26oGXLlhaQRj4dym2oYbfequIjTPITnzTWjLJGlPviPjlvh1KGf+7ZZ9X2ayvW4biTTrTiEJi9260hbVZMKz8Xa4TF9wJSwaDgkDwX8NU5h2BS36ncLNEHBsqXyvF8FzjmeR/OECA9c4wHvcdX4PRRQdzyQRBlS+vBQdqNAHviyz7VMEfW9tqP2yqQkuLZPlZ9QYmjBwT1OWL5jIPev/kp8K/jTHTaPYwdDwTOuwooLLWQn6cl+Zv+53aWqU0tSblrZJv4mt4ulnDtN05dIE2AmikWLpBGpDPrAmmC5ShDLpDGL7kkNrlIUi6QJkb2MrkhIOV6DYO6d70u1/o1PddzeKU1a9eiV5/e6vrSWqCQMKhfx/OjHyNfGKnioXScTqVmZqDbftY4pHYg1en8+NNP1Piil191pfrS0w03DsJpp3ePwijboB5x1JFq3VXXXI1rrx+ICy68ED/8YH0KtaqmGsecYNWQcgD9u++/Ty13gbSpmFaObBAQiFK94f3y2+QYmNYr56CsscJYttGSoJHDiUXLPbj9Aw9OGRnG6c/6ccpLftz1fRArKr0Sjvsx4BPwZc971hKqvdj2t60CKb8oxu/Rq3+SV36THqoXvYFVAuJ33hvC7gf70XrfAHY5TPL8oIkFC7illUdt7ChIs66IEUmZa2JxiDFrv3EavSa4QLr5ih6sxtK+dYE0klkXSBMsRxlygTR+uUCaXNnLZPTms4FX9gRIXZ45r5dxSjDllD3k27Vrp2o3O3buhN79+2Hv/bpZnZYEFnfqugs+iXybnu3h1LnD15A2OJ2cOrVZIOW+ec3i0E0Ey6rqatTW1eG1N15XtaGqZrRVS/XZT47bXF1Tg5q6WtR56tX2VL3MHxsZh7Rlq1bRz366QNpUKq0ChByU3qsyJMc6LBgqx4zjhPoFEukXhrPbhiXhWPPJ7eHF0nV1uOOLEHo+Czwoh3tZLZtnBBCS25Ofr6rVQPkCperlNfcRSZtoWwVSlhtCadgn6wPWl5R8ph9//BlG/4uAzgeE0Xl3A4cea+CND4Oo91ltZrldg5gfnnc8PyLLpbw1sTgle4n6jVN9rrhAGodiF4uob10gjWTWBdIEy1GGXCCNX7wFOS+SlAukiZG9TEZvPhvRqYlhCZ8EUXYysteYvvzqK2jPNqMCn3yNftAh/8CCJYvVN99ZO0oo5SvyXfbYXfV6121CVftAvgKOpOPPlMnYJ9L73g6kKg0NyVbSN2/WmrbcoaWqIeV2Tz3ztCpBFD/BTHhds3YN1qxZg4WLFuKYyCdCOUbqAw89qMK5QNpUKq3CQvw8pRxp1AVZwydAGjRRq2pLrQcShrPbhkSP8ktNJsuPTFkHu7y+Hp9lB7Gw0hqTNBQOCQQHYAgAw/CrBxh9vO372daAVKeByQgJiJpGvSyVh6iqMJ5/BTjgOAMd9zfRXqzXeSYyJus45Bygl02P2taStdwykZS1mBaneDy03ziNXhNcIN18RY9hY2nfukAayawLpAmWowy5QBq/XCBNruxlMnrz2YhX9pzajQqGgnjjrTexU5edVLvOth3aq+vLE089iaCAzMrVq3DZFZerZQoYBVY7Sdj7H3oIc+fPU3EQbo1IG7iJ6ktNDUD6xVdWL3ulSLJ1+gnH1Ecffyyw21LBMNPAT4ryVS/L0Icff4TTe/bA6T1op6NHr57YWeJlMwLW5N4dgUkXSJuKaVVjXwowVtfLQ8dELybOEmDiSj5IhAKqfNCssBuXN4ayXkWzo5SAG7flSPGheokjCL/Exy8Wsv2oan8p5cgM8fOhDcdC72tbAlK9fy6RpIvoKx+KZ/oxcEgQ+x4cRqduJnY+LIw77vVg+UrCKnHTREB8qfKpRszXUjFFTCRlrYklQEyx9hun0WuCC6Sbr4Zi0Ujaty6QRjLrAmmC5ShDLpDGLxdIkyt7mYzefNZTQ9oIOvi6NgKP8xcswEOPPozOO+2oQJCvzHltOfPss1R7Uq25c+fijL591TrCHo3z/zvySLz7wfvw+vjFHgtw+enQfZoDUtk3zzeVDrFQwALS9z/4QL2qZ/tRTq8ZeJ0CGsIkB75nXHylzynTyeYDqgd+q1aq9z/lAmlTWWk1sKrOwJM/BNHjGR/6POvDD8VWj3shyIZyoUxttlEi6IZC/GSoPFgYrBEV+JTDGQiySQjbrMqe5Y/JrxHJcQ+GBe5M3q/0vqydbYtAqpd5hDc/+9rA4aeG0WEfYMc9DRx3agjvfMyHPMkj6hEImPBJ2acfQwKlVrOEGJJy1sQSJEl11G+cRq8JLpBuvhqKRSNp37pAGsmsC6QJlqMMuUAav1wgTa7sZTJ681lPG9JGNaOmAY/Pqwas79mrl7qWcPgljvnJeXZqmjXbGoTelLCBoPVqftq0adb4pAzfege0icBr9549BD44ALoFpBMnTcLe++yt1nUVIOXg9ko8lwg/hpVe6wZubTNqzGgVXtXOCnAefewxqu0o9dAjD6t1XK5M5rlva8iolnjwofiHfdK1rHYxOPsBUUUlJdFrgnhQSjfTLStVnA3GUi/4JZmzrdbr2Y6Q0MZffH3NVRGpSky1Qm1gibN6eQzpxWrKPyqSoEyECqPbhLCswsR9nwKnjPGi94Rq9BntR/8JHnyaK+XAI9swLDsbqXIU3VAlRZ3DKlfRBEYnKoDAWFiKR0DwloPk0zMcIEnoU8oDW13S/7JMyhGfRRSxyvHnpoyRKigstAGpFTXX0ehlPa/+cCXjFOO+1PINSO1WTH0RiXN6geyMyzirIhIjZKvf8qOo1MCIe8PY//8MtNgliC4HhnHtcBN5RQws0MkmC/BK3izg5jENGPKbmRCpvETmpZA1tQRKHafofiVf+prgAunmK3LonHKBNCKdWRdIEyxHGXKBNH5Zt4zGF0nKBdLEyF4mNwSkDMswnCqTf4S9f//nMHUdaSvwpttu9j/7LFVrSpkCi4GAT5ne3+y5c3HlNVeptqQMzxrQX3//TcXpj7QpTUlJwT7drG/Z77HnHo06NUXTQSCLpJudmtjTnnF23GlHBbt77b036mS5BMbosWOwb7du2Gf//bD/gQfggIMORHuBZwWkAqj33Lv5nZraaSC9rymQciONJ0WFxZgx3Sq3jI8gw2+2s5sO286q8Sr5Clzm2YGIgM6hlqxvldMEXhS4cMq8078MT1Djcn7BT2LU8woqGYj+skCWaVEYzCTRdfyhVskCmXIYokCYPehlW/Xa2ItZyw3c/k4Ip7wQQo9xfpzzohdnvujHSaP86DXah3cyDNSF/PDL9grOJA3qS0JMg3qlbx0r7pSwpvIk6VD/wnwFb72Wp5uYLobnIJ1Ms8FX9bKeTS/0ciE2K+/yLyTrCadFBfmYOd0C0pDJJgSyneyF6bGGTGK66BfGy1DcmumwwqgqWv3kEENsdsIHMYlJwvN+Sb/LX+V7r2zqVXlmcriOr97ffd/AKf2D6HQA0HF3E4cfG8QLL4WxRj0jyd5lW1WOuVs1te3fmRQpXzEtgZIURNOgyjwzKHKBNA41U6S0b10gjWTWBdIEy1GGXCCNX7z4Oy+SlAukiZG9TEZvPusBUj3VtaQBufvys5078lV9S6vm8eprrsHiZUtVWNaK8nUrvz3P8D6fT71CpyoqK/DGm29ht913x8AbrlfL/AxPMBFNnjw5CqS77r4bPv38M7Wc+9dpYZr1fJ4AyX4H7K/SYI1/2ho7dtkJkyQewt/yFcuRJXnLkhtAXl4eJqdMxv+OOlLFz7D3xzEOabtO63tlTyyy8KugIAezZk5TS1XXcYKYuMMQEDJZu0ggYo9zmgCSGuaHNYHym20rw6xJlCAMxg5G9BVrDcPiYwJbgP6QKSHXL9sGIgBq/0f4sv5JeGWcs167k0jJU3Xyl+sIhAEB0uXVwBM/BtF9XAUGjPHhrJEmBowLovfYMM4Zb+LrsjB8Anvclt5hGhV4yi+2C1UgLb8sP0jamX6GUYdaIC7MLxAJlktYLgpxW/qEW0l++BqfNYgcyzMosGlIOQkHWJvKjnUE1jBycnJRWl7OCMUXIYkvIC6U8PQlE8S889W/hKX/OIaqXq6mDMdENSMCvqG+p8/8SPymR+JheZU0BAm67IRl+XHu0hCG3xXCwf8Edt4njJ0P8OPCy4LIzpF45B/9LDmQY0Qfy1FR6diApHw1sQRLlZBIWlSZd4E0fjVzaF0gjUhn1gXSBMtRhlwgjV+8JTkvkpQLpImRvUxuDJBq00Cqtxk1ejS67NRFtdOsrhF6EXE9OzqxF71qAyhh1XbspEIYiIjnyIpVK9U8AZc1UdSff/4psLqbukaxo9RX33ytluse/doYJ/X5F1+osPwqFIGUg+QTKK8fdIMAhCpFKpxWQOI54eST1DZsQ3pvHOOQ6hrSe+6JUUMqIpBJaBQUFWLaTNbihRUsqYHmBXRYc0foIohZMCblXlGT7FPA1OrFLmFCPlnkk99eQRoBMoEfBX0SI41eJRTqeWVMdyTJ1jrL91ykwzBnqtZS/MnaSDWQe0DSE5J807+yz9qAFy9M9uPkl0M4dWwAZ0wI4vwvPPhqtlcNlK92ImmXDVR+CF0W9jYgsbVnLWuZdfT4q7ER2BrSZ011rARu1iATrkNB696Vk5slQFqq5tnsI1qDzOSLP62aUpmnyXIaIybMEoRZL89Fzck0CaNSlqV80i/0EXvNywJZyXmgstrEG5/W49ieAXTew0DbfWvx7xPk/BhrYMVqppO5lXTIg4UpMMtjs0FJuYppSZA6IpE0qTJPB4pcII1DzRxi7VsXSCOZdYE0wXKUIRdI4xdvSc6LJOUCaWJkL5PRm88mAKn+XVlZieLi4uh35hWMRsYk1TWiWgzv9wdQV+eFx8taJUus4bOLtZjHn3C8+v49v+70+59/qOWMk6ZAVOKiVqxcib79+6nhm9hswPp0qPW50MP+779YvnKFQIcJn8ALYYVp4Cv+o4471mo2sAPHIY0fSO+9x4qjQfQp4dL6VVhUhPJpVi1eQAAnxFe/rJkTUiKj01M0bsW9cMpN9XKFMzxO9K3Xg0B9PXyV1TDWrEN47RqYq1cjuGwZjGULgAWzEBYANtLTEU7PBNIyEP7hTxgffCD2JsIfvwt88h7w3tvAhJcQfuJ5hB96AnjiMZhPPozwY88Ajz4PPHYP/M88jvALL6Du4afx3ZlP48V+j2FC/yeQOuQJBEc9jfDTT0mYB2E+9SjCT4q/nnkKGDcGePdN4CPZx7vvwHz/A/g/+hCh776V9KTCzEqHN2USQnKcsXAewosXIbRoMUKrVgHr1iK8Zi2C1VWA5DHk8cDwiwfoKvEBfUN/cKott3w6ymfNlzkJJoFoBGw1BqhawGYE4m9VfiwQ5nb8w98+iZyw25zod9b6qhpSVbsq5ciwEJ/7SM82cfkgE3v9y8QOXQ3s/o8wLhkUQkqOPDDIAxnDefmAxni4uRpNQEW9fmkAtVuSxBLOMq3mWeZZ1kQukMYhy51NpH3rAmkksy6QJliOMuQCafxygTS5spfJ6M2nGSBVr3olPE21dxSzgynF2kuv16tqndQ4pZE42Xt+gYBedk4uXnzpVdx734O44sqrceFFl+Ciiy/GHSPuwPgXJyAzKwtz5OJcV1ur4mWPdPZMnzFrpjWovezHPuYpxfm3BXjad+qoajo5EP9h//2P6gjFdqTs4PTwY4+qsIRe3WmKg+ofeewx6hrIdqTxfKmpoYbUeu1viXkXE3BRn42UX4Ust7OtGzt/0ywPUfLL5wEqBS6XLYU5by7MsmKguFDgLRuhPybB/PIbGK+8hvC4l2Hcey/CI26HOXwYAmeehVC/PjDO6AHz1BNhnHIazD59YZ57Noxzz4J/QH/4zj8ToYGXwLz+aphXXonA5ZfCc6XYdVfBO3ggfLcMgm/oYASGD4b3psHw33yTLBuI4NCbEbj5FtTcPATm7YMRvvkK1AwZjPo7hiA8fCBws2w3aLiEGQrPTTeL3YTA0Ftgynzouhvgv+Ia+K++GoErr4BxTWTf550H/1lnwTjvXITO7wdf/17w9uyOUE9Jf59eMPr1gnn+AJgMf9swGHfdDfOZZxB6+02Yn36G8B+/wz8ljT2ZxD9lMBYsQPbkXzC9OFcKWz0PjPItj7SFgpafuYxzrFMOyBr2b1fVpgygau2tELGknhtYSyrlLaieo3hMDcxfbOKJ0WH887ggdtrdRKd9gMNODeD1D+VBbR3jjNRLswwQhEMBmbJ9MB/YrPbSzWrcuKYwSkuSnNfa6DXBBdLNVzNFSvvWBdJIZl0gTbAcZcgF0vjlAmlyZS+T0ZvPempI1e2VECo3V10LylfyXEdTgMr2dKpGSG7D8ju3IE8B534HHIC27ToKOHZGGwG4Vm3boaXE36YdvzlvfXeextfzNwvUpKenR1/fU3ydr/djF2sc/3v4/6laToIlxzZ98aWX0K9fP3V9Yw3of/73fygsLlLhVe2WqLKqquFb9q1aCJBuZBtS24nO5QTSth07qvB33W8NHaXFkNwbp7TSvBzMz8kGBLDN3FwEJk5G6KfvYH7yPkLjxsB84CGEh9wM89JLYZwpAHns/xA84r8wjjka5smnItj7DHgvvhCeG65F/X23w/fgPQg88jDqX3sRla++gsp33kP977+iZtKfqP39D/h/+xN+2UdNSgoqxeonTUH9lKmonZqKmtQ0VKWloTojE7WZ2ajLykN1dh4qc1LkdzrqZH5t7h+ozsqBd0ohfHI8arJSUJWbj+rcQvhz0hFIS4U/IxfVOZmoEKvJzkRdZiY8mTmoF6vJyEFlajqqZd91qVNRN1Vscgq8KVPhnTwFHkmbZ+KfqPv5Z9T+9jM8f/wE/5efwiN5qX9xPHzPPYu6e++D7767EbhxEAIXXgjjwnPgPfVkBI8/DqGjjoRx1DEwzj4TKwf0xrrrrwTuuwfms8/DeP0N4LtvEPj9N3izsxBg290li2CsXiPPCPxikoWKVmloOE7NiVci60tiil5RVRvE1z8bOK1fADvvH0S7fQLodjhw7RBgzmJrUH9FwwKhqiOVbMvPhnLfIYP1sSFhYes8iSknjMqDW7LFEq7PL1XmXSCNX80UKhdII9KZdYE0wXKUIRdI4xcRyHmRpFwgTYzsZbIBSPMiQLpDDCAVkynn7cdE15Ky5odf3aH4Oc8JL7+ErrtZ7UA5NighVHV+kt9NTMCRbT9btWmjfrfr0AEPPfoIliy1OkjZ9839UTW1NRg6bKjqyNS2vTV8VJ++fbFmzVo8M3KUxNUOO7S2xjo9+7xzsGLFCrUdSaHGU40TI21IW7RqhfsesGpI5y9YhBNPsJa3lvQ+/IQAKfNHsGCWIwzBWdrI199Gi047S/hWuPs+gdr6GhiL5iGUlQnzzz8Q/uJLmC+9iuBTz2L51Vej6oILgAvPg3lGd/hOOQbek05CsFcfBM6/CN5BN8L74APwjh0F75uvov6nX1FNgCwpRO3caVg3pxzVAla1pWWoLSxGVVGxTIvgzcpHfZ6EKSxUIFmbkSUgmSXwKFCYI3CYw/X5qJBjW5mXjZq8LNTlZstyWg7qcnJlmWwnoFmbV4QageW63ALZpljmi7E2PxP1BTnwSPjqfFmn4kjHuvxyVOQz/hz4BGhrZbtK+c1lNRKmXkDQK3HXFhQK6OZIegReZd267DSsyxUYzpd0Zkt8Ajx1ksZaAdha2W+N5KlO8ufJL0J9aYnKY43kuWbWDFTPEJs7G3Wzp6FGgLj2159R/+47mP/oA1g5bDjCw0cgePmF8J5xBvxyHAPHHo9wz54In38W/Feej8CwETAefQqhF8fB/OxjBH74DmFJozG9DMaaJTC9Xuu1vDrKDbJ+e8U8KCoOYOhtAeyxj4l2ewNd/mWi7wUGPvzEC2/AKiDqfGLbUtaCqnLL7mPsbMX2sX4pSwKnslq9vm84DS2NG9sYRmmOpi/JkKRSnV9qXqYukCZAzmMbkQukEenMukCaYDnKkAuk8Yu3BedFknKBNDGyl8nozSc3X4CUNYStm21DGkvcXg+Uz9f2991/n7q+0PRA+bSddu6iesP/89B/4eRTT8G/D/8/7LN/N3Tpums0TJv2HdCytQWmF158kWojSqk2gRpGa2oEIu9XX1lSnyndoTV27doVv/8+Ua1fsmopjjqJ+RCwbs39t8Q5F16E2QuXyFoTK6vW4thTIp2aBFof1gPjz18oQEogl3R0bIN7n31Cndp8uUrj3n0VVTBmzgYmT8LEm2/BDV264IZOnfBb9+4wBIpCV16FwDkXIHjxhQhecB58Z/aH/6rLsPjay7Hkvjvh++Bd1H39FTyTJmJdSSnqFy5A/YplqFi8EOvmzxHwmoW68nKBMgFMgYEagbZKgcwqgmamwGB2jqq5jJrAHpfVEv4icKlMADB5xvhlv5Hf1Y3WNbXaSHqqmUaBY5qatxvD2X7X0CTvVn4FhiXvURPYrZM4asQ/HoHUrB++R3naVHiXL0Pd0mXwLF6CqjLxbVYGvD98C/8776DmhZHw3X0v6q64GjVn9ZVjcxZ858jxuUhA9ZJzER54GUw5fub9T8IYNRqhD99A4PdfEJ5WCtSuQ8k8EyMmAPucIjf3fQy0PgA4+hQTjz8WxsJlPH88MP0G+JnTULhSzgm5r3IUACFP1obK4xrrRa121SzHYhyeygJXKWUsaFLuYpoWw8Q+BeOW81rrAmkC1MyxcoE0Ip1ZF0gTLEcZcoE0frlAmlzZy2S8QMrl+hOe773/HjpHBsjna2/Wfh5z3LHqe/HsLT85JQUZWZmqx3lufj4mT0lRy/nt+dO6n662Y80mxzYlcN4+4g74Q0FVQ0otXbIUtwwbqr6ypD8V2l6g94mnnkIgGEJIgJjQ+fvvv6Fj113QopWs38GqKb34ymuwatVa1Nd5cPRxx6F1y1ZoscMOuOP+u1Tc85YuxlEnnKrCtugocT54D0KSvsB7r8N8ZASCNwxE6PLLgEsvhu+885B36ml4XGD6ti474puTTkLg4ccQnPAiP6wP7x8/ozblT1QWFMO/dAlSf/8Z+emp8C5dgYqyuagtnYNAjgCVQFd1Zo5Ap4BWVi7qBcTqMrMikGbVPLKmk6agjTCogc1uDLeNmgZSPW//vSGz8t/YqvPzBEglDgHV+sIC5Hz0EaZ/9x18rE1NS0NdlvivoBBVxSUCpjNQO3MhPHNXoH6ZQP+ccnjl+lybkYma335B7Wcfw/PGa6h/9CnU3z4C3sFDELxyMAwpK8HrzsG6Sy5C/WVXYN6p12PcjiNwfesJ6NMtHUOHLEZ6jio2luQUCtfLORCsQyjoUczJ/lSsBpVSqdqggsNDhXyqXTHHSgjKP78Aq4/nn5Q5p4XlnGrunEu0nNdaF0gToGYOnQukEenMukCaYDnKkAuk8csF0uTKXibjAVIu052Nli9frr7SxGsLX9OzkxFBtGxaeXQf6xMH1H/0sSew2+57yv5bq3gOPuQfmD13jjrFli5diiuvvFIt56v6Nh07KOA974LzUcle2SJPgB2JZEbY4NU3X0P7jm0ESK1PhvJ6V11bj3pPNY47/ihZ1lKAtC3uePRhte2y7AzcduQReKR1C/zSpiMWHHQIjP79UHPxuahhzee996LyqSfgeekl+D77DK/fMRz77bU72nbojHtuvgnhZUtQO28GaqaXY015CepKi1FFSMorQtnHX2Dhl98D+UWozWS7ywwFVXUCmDS+Vq8T/9fkscbRqvlUtZ82OOM6BWmbCHV/NavIi/hFgNQr4Fn48ceY8/13CJeUKICtpn8KJFxupsxniD/TZHkqavOzZZoDvxyTKoHWegnvnTELnukzUTd9FqrLilFdkA5/9lT4fk/Fb8M+w537v4mhO07AI+0fxDudr0H+4edj4RFnofbYU4Hz+iM05FoYE0bCzM0WgPSqtql8V8DOU/6QHz4+THEsWXagknOANf1+odUgmwbIrZcdpqQgxrYtKOe11gXSBKjp5VLJBdKIdGZdIE2wHGXIBdL45QJpcmUvk4kAUorfnOeA9Ky15HfjL73s0ujnOykOv8QB8Nlhicbv0IdYs2qLl+NwXn/DjWi1ww6qBpRQ+/Krr6h1/PLSU089hc5duigg5TXsjH59o21NgwEfvKYBj0THwdVZa3XPo4+iResdcOTxJ2LGbOtrPnVLVqLvCd1xcKedcHXXXTH5iP8AvU5H3dFH4+1ue2DYLl1wfccu+PySq1En4Fn15y+qbaavsBjryorgnVWOcHkZXnvwQey5667o0rYDHh54A4zScnhyC1GdXSjwWCrwU4R1Ak8VhXnI/eJTTP/+WxgCQX5Z5hWA4bpKsWqZ5yvwyuxMWZaNiiJ2HmoKYhpSY8FoTIDdjq25/DDvVfRBjsxnix8FLvM+/QjTf/oWAQHK+uxceLIiJmEC+fni7zx4srNQpY5LmcBoJvwF+fBml6AyIxNVBWnwl2bDX5QlAJuJ/M/z8cAVOeh1SD6O2aMMx+1Xjj5HFuCtR+SY/fonwj9/h9BHHyM4ZgwCg2+E0bc/vKccBe/JJ8I45zIYjz0G36/fwFy5GkZNJcIenyqLhFXebVXFqZh6rW8HULttYTmvtS6QJkANl7VGcoE0Ip1ZF0gTLEcZcoE0frlAmlzZy2Q8QErp4ZReeuVldV0hkLKG89sfvlfL2TOf45Sy/Rz3pXrqy5S93gmlXGZ9894C29/+mKg+/cnaT4LprbffppazDSnjue2OERJ/GwWjqzh2pSgU9El87EHtl5LDYXksLVqyBLcOugbv3D4c+PFbhB58GN7zLsa0PfbHZx064emduyC9//mQxGL+J5/j3KOOxM4d2mFnAeEn7rkb1VLePEUFCGQLNObnYl0BwTEL/sISvPrgk9i7697o2LEtHrvpRpjFRfAV5MGfm4c1+ayZy1C9vH0lhcj97COUffs1fKw1zctFlYBSHU0gq07CeASyPHKDUq+o+aqetXw2c4KZ07ZVINVpd+ZjY/JkN729MvGPh7XKApwe8XnOZ59g2s/fw1suDwFZ9GOe6ihVI1ZFkweDqhyB1RzuMw1r2blKfL8uK0MgtBihUolLlpd+lYdnhhTg9H9k4Zg9S3DMbmkYcHgqHr8uB+XfCdiW8LgXwps3Hf7iYnimF8NXLCCbmgnvn1Pg/egDeB98FMblFyB42pHwnXgCjAvPR/DuO2C89w6M1DSY8xYjXFGjvsAVhU+HsdPTlpbzWusCaQIU+3IZ9a0LpJHMukCaYDnKkAuk8csF0uTKXibjAVIeIz2w/ZhxY9V1hUDKNp4fRz75GeA1hturYXC4r8hrfrkpc6rmwxy8nnVIAqSTJmH3vfZQQMr4br3tVrVcjXMq8dTVe/H8yFFYtGiRWk4xZarmye9DcP48GFnpwNtvASPuRPCSyxA480wE+w9A6OYhqHzyMdx4xGE4oHN77N2+I54k8K6rxKzfp+C0o49G27atsMcuO+KJEbeiSkB0TU4G1ghEBnMFeDILUF1QiFoBkhcffAh77LYLOndoi0eH3CDAUghfvgBTpJMRAYhtQ6sKCpD/1ZeY/tNP8LPHONuNsiaPPeAlDHu61+dmwyPb8jc7K9khzAln277FAs88eAvZ9lPmWbvJvKmazkhtp8Ma4mow7Y9K1iiL/2qzxGdyLPI+/gQzf/gBgZJSNbpAtTwU8OGhNj8L9XlZsm2mgH8GAhKvJ2uabFuG2oIMhMrTEJQHhBlfFWHcsAJceHQ+/tclF4ftUoBT/5GLB67IR857BfAWFSIk4OrLKRToz0dlYRbWZecr8OXIBZVlM1BXUoL6YoHVstmoLyiHNyMDtV99g/pR4+CT8hU6/xyETj0ZRt8zEODnciPw6TSeHWx1qjo6idnPOc4pi5yLsWxzJVtHt+fUBdIEqJnD4QJpRDqzLpAmWI4y5AJp/HKBNLmyl8mGC2QejjnWGvapTdt2+PTTz9VyXYYZzr6dntdA+vGnn6DzTjuqryS1FCg9Y0B/rFhpDbcU4pdqAgHV+YkAym35BfSQyRrSMAIGjzZQW1uLK666BjuwI1KrVmjfsQPGvzxe1kgYfoo0MpaorkNSU5+AalERAj9+h+AD9yHQozdCJ50E34A+CNxxM8JvvQHPr3+iOiUdRlkplgukdD/pWLTt2B5dOnbG47cJkC5bhNk/fo0+Jx6DDu3aY7dOu+CFEfcikFcIT3amQGI6ggJAgRy2W8yBrygfrwmQHrDzbtipXSc8NOhGGNOmCagWqDahrAWtj4CUt7gI+Z98jFnffI2wzNcLIBGWdE0oh1OqyM2yXt+z93gU4izTNZ8ayOzrtrpJmmvyBRBZ+yhm1fCyU5aY+KBCflfK70BxHpZPEZiTm3BdYbas5zYC9rlFEUDlNhyGikNJZaFaHo6qCa+yvZrPZ00nt2MtMuO2ho3yF5ai4OPPMPe7X+TiMF3t3yM+4oNBVXYGKuSBgrXWqkNU/hTUyXytgLG3NAPzfs3DK3dl4eLjs3HSvpk4snM6eu6bg7vOzsXvLxF8sxAsluMt+2aziqocDkvFoa1SUVvEmm05VtkSd4HAKdsEy/6qOJyVbFMjEOstLJeHDNaslqMyXR5sfvgJwQ/ebwKh2kKZ2QhWV6vzgKWcU37O1QLTyPnGr0TxQxVyznGoNS5TixXARjZSE+v6GfkRXd6cGFafz5y6QJoANeNzF0gj0pl1gTTBcpQhF0jjlwukiVdzZVEvyxQAOJqf1JRrAzslffTJR2o5X7GrWky5kHKqpYdh4vacZ41lj1491fZtONzTDq1w2RWXq++4swa0qRovmz1nNgYPHYZObTug9Q7tJJ6WOPhf/0Y5v3Ak+whxP5Gwobp6+AUSzddeAm4ZDG/Pk+E57kiELr8CvheeR+3kH1EpEOTNLYaRXSwgUoDqIvkt8LAqNRUDjjkOO3XqjK5ddsYzrIFdvFiA9Cf0Of5YdG7XVpZ3wTO33opKgSM/gUbgke0SFURKHEG+sn/gUXTrugc6t2+H+wZdD5RNE+ix4IcdllRNHyFL8p/32WeY8f0PCJaUqfUatrZvE5gWMKzKS0Mtx0MVPxPC6wsEzgTQ2C62Qtb7itIxLyUfY57OwzfvSd6LMuDNyxQfiW+ySuAR4KyTbaoEUvmq3SdxeGR5ZV4GKvPTVfOG2rwCgXgJT8CUuKslfI3ALEoKUfLlZ5j20y8IFU5Tr+PDYrXpRXj7tTS89mIGlv4h+yjKQaA8D/7iHCyYlIu3H87GZcdm4cTdCnDMbvk4uVsBbuiTh0+fSReILkdAwnsl7d68IoFcAU/JS2wfNDb90GB/cGATAw7hVRsxwqfTjNNOROiY42Fccy0wbjQwcSLCVWtUeedZwimHjQqEre9MGRwySq3kuctmMGHVe58tAVR4AVf+47w6vwlBTU/9qJzXWhdIE6Bm/O0CaUQ6sy6QJliOMuQCafxygTTxaq4s6gtkhgDBcSeeoF6VE0i//+EHtdwu5/GgOK9BlbWkO++yi+qQpKBUrjP/PuzfePzJJ/D+hx8iIzMT02fMUD3vy8tmokQg5muBtWeeewTHH38cWrTaATsI4LVoZ72uf/CRR9QYoOrGWl0NMy0V5phnYAy8Ev7TTlVf7vEKkNZ88B6qBRLr585DrUBffbaARHquAsp1hWmoLJokEJOKQEkxlqZMRvfDDkOH1m3QuU1bPH7LTcDy5Zj1w0/ocdSR6NSmDXbbeWc8f+sdAo/Z8LPNqICmUVCMYFkpwjOmCT3PxtuPPoYDuu6GnTp2xAM3CpDydbyAJjvdqKGasq3pXxdIxVgzyoHxWTtKAJd8VQtosu2mv0D8lF+I+T9Pwd0P5eLyYVm4cXg+Pn1d1ueXwls8VcAzQx4sClGdKfGwVrOwQAC3AL5sOWbZqar2uE4eBHxTMxEsKMQ6CbNGbuR+Oa6hoiIU/1KIj0Z9iBm/fqk6NRncXh443n05GxfekodrBhdi9Kh8zJGHl2WTs/HNM9kY2nsmju1SgP/ulIqTuhXi6tPK8O6DpViaJvudmSkwKTBKqM0WgJQHGg70HzPvzZgarkuDKR9OxDd6NAX/HSOawKhn9gzUTS9E7befoP62YfD07IXAqafBvOIKeB97BEE5D8PLVqi3AZHvQMnJEIAZ8iDIcU4FRPnmIGiGBEjluhmSc5OBZcLW1Bx2KgyPLLDO81hyXmtdIE2AGi6RjeQCaUQ6sy6QJliOMuQCafxygTTxaq4s6prOXLnZH0solGsD24G+8uqrmCXgNXfeXFWmFy1uaLOpL6oU4ySQ0ng9eW7k82hHqJR42nFoJpnS2GP+UIHT4048HkcefRSOPOY4HP6/w9F1t4aB8Tu2E4htI9ayHYY88DDWVlUjnJYO85EHYVx+Ecwzz4LnrL7wDhuMwLvvqq8TeeYvQ+2sBVYv6tx8BQGezFw1lNK6gjysE0jw5nC4JQEZAdI16ekY2O8MHNZtP/x33254hV9qWrYUs3/6GT2OPRqd2rUTIO2C528TIBWI8GZmqVf2C3/7DWU//ohpP/+AWX/8qmpW99tlV4Hadrh/0PUIS9msKypQ26jhh/4GQFqbw686lai8VmdnquYG1heY2Da2ECU/FuHhx3Nx1ZAcXHPXVFxxz1TcOCwbn76cj6VZ01BdnImqzD8RENj0sPNRJodmkmNWmC7xFMmDRZkCOj9f28uxXiWwytf04dI0pHw1FcMezsXFV32IP97+CZhRgJXpaRj7YiYuuX0Kht6VicH3Z+LSGyfjzmtzMPSsDJy0Vw7+1aYMx+2dj4G98vDOQ1NR/l06QuVSxthhSXV+SkNdXrHKW6UAsxqOK0beN2QsAxpEWSalgDcyf++e8rCTg0BqhtXueM5M+BYtgLekFLVffoTgPffAOOdsoF8fhM86HxjxAPDt1whXWq/1g/ALgPoVkPIFBJvFBA0fAgabwsh5yWYwAqY8PznmKa+ozcl5rXWBNAFqxt0ukEakM+sCaYLlKEMukMYvF0gTL3tZtM/rC2RWTrYC0latd1CD2hMeTzntVJza/TQcfsT/cP9DD8DrZx1Ng3QcGkgpj9eLt959G//+z2HqOsM2pQRcDZ1NrCUHw2+vamX5mn63f/0bT956KypGj0Hw8stRd/rJMK68DN677oXnzbdQn5aLqrKZqJkzQ4BGbviZaaqmrZ6QJzfQCplWcMzJfNZ0WWN8VghcVIuxI0x1ZiaKvv4Kkz74CFM++gRzfv4FASlXs375BacdcTjaSnp23bETnh42DFWyfXjadEz74TsMOfdc9DnmGAwQHw044Tgc8+9DsU/X3bFzuw546MZB1jiYhezZLSDK2rF89vT+i9eQyk21KkegMldgVOY9Ao0BgcaAAOWMP1Jw+0MTcfmwVAy+rRC33JmOa0ZMxDW3pWLQ8BR8/WIaKooFOAsmw0dwyxTLlmOZmy5xcnisYlRLvCsKM1FRaD1QBAtysGJqMd55IxM33T0Rg4el44LrvsagYT9g8ucFeHVCCm64LRs3jSjFwNtTceb5U9DniEKcumcx/m+XfBzeNR/X9MzGOw+nYtp3uXI8SoCyXAHDbNRnCVxns+0q2/cKiMq+vDmpAqfMW8Mr+I01DaSxYJRWw3anXJ8nIM5PtWbKwxSbhRQUoE7uIQTU2rxs+D//FL6nn0Bg0A0wevaD/4y+CDz4OMx5i1SdpwWaAqHqH1/om2KynJQqsMpAPDUjp2pMOa+1LpAmQM342wXSiHRmXSBNsBxlyAXS+OUCaeJlL4t6nqZrSHMEko4+9hgFiB06dVTXCLude8F5qPfw1V/D8XDGoy+2/LLSnLlz8Nbbb+GUU09R45Oy1pSfEiWctuvYXqwNOrTtgE47dUG7XbvggP8djmeGDUdxn97w/++/wLkD5Mb7AOo+/gw1qVmoLixHtcBhnZQBNewPx5AUYKkoykalAIQnJysCNYWqM0mNgFJ1lgCFrGNva7VNNnu/ZyNUWgZfabnYNHgFoPhN9nm//4aBZ5+Jw/beG8f9619485FHsTY3G5Abcu5XX+MoWdZxhzbYvVNndOnYATt26oTdduqKndt3xCNDBqtX9uxpTSDl4Paqg89fGkjzBPIzVY/1aoE3wpUvW6ZZchyKipHyfRZuHJGJgcMzcePwHJnmYtCIKbhS7N6HMjDrZ9YgF0t4gcCMAoH4QtTwlbtAUG1WHvwSD1+d1xcJMOZMgV98WvxLDh57ZCquHpqBK2/LEcgtxFXXfoQrbvgEwx4owWNP5+DW2/Jxbr989DoyFb0OyMbJ+xTh5P3zcP7/CvHRk3ny4DEV/qJSGIUCe3mp8PD4C/DWF2RiXe5UOXZyDHMtAPbm8Tv+cizlmDVnsX1jGdfLyRPTAjkEUbbDlfgL5CGrIFt+SznNlHRlFqKiQB6kxB/VZWWoKCtBTdpUeL78Ev4xz6DurN7Afw+HccUlMCTdoQBHoFCnnqoVDclt3eDrfPjkXJQfQVkZWR9LcgY3OqddIE2AmvG3C6QR6cy6QJpgOcqQC6TxywXSxMteFvU8TQNpZnaWepWuAbRl61Zo0UrmI4PQn3fhBaizASkvrLqnL3vK62U6Poq1pitWrMCCBQtQUlqCF196Efc/8ADuuu8+DHv4cYx/5VVkf/s75n/6PRZfeC4C//kPcMklCH70AarTJgmk5COYVwr2viZ4EiY5z6F/1HfR8+XGzVfzAqB1AhZV7KGdnylhslAr+eHr3xpZp8b+5Ot9Cc8e4HwVW18gAERAlTBsI+oRgFicmoqFU1KxICUVFbKuWkABM2ci99PPcNShh6JDq9bo2rEzdurcAV0ESHfv2EUtu3fgdTCKBGoESNWg9ho4/9JASpPjodpYFqje6L78dIGrEmT/PBMPPDgZg27Ox+ChkzHk/hRcd0cWrr0lBw89komyPwQ65TjUpBUKbJbJccrBOoGxCgG0KjlGlQKn3sx0+PKKsTw1B2vTU1H4UyHufqgA196WihtGZOO6e3/FDffl4LIb3sGgwZ/gmsFFuOC8HAw4PBMn7ZWFE3bNQvf9i9Drf9kYfVcalkySNJawVjRdYLcY9ZkCwQVpqja9MrtU1Ub6BArrC/lAIw827NCUUS5lRKY2AHVabL+IybEneMYyNTyVlE8vm3XItFLAvk7KNseirZTyW8HhpPhp1Pxi8Wce1mWnooblv1jKTrGEzUhDiENd3TAI5mH/Rei8cxH+5FOEF89WPfP5roJnYdgMyvnog5/f05dTX5/zTYzXW5lSnLpAmgBZ7myi7Q9IN5CmzU203s4F0gTLcThcII1f6gLJfxHf6akLpJsve1nU8zQNkPkF+bhxyGA14HyfvmegZ5/e6NOvH3rL/ImnnIwnnn4avgC7GDUcD8q6wFo3MdaM8pf69jzj57rIBZjicsbAV4qeRQtgfPQpcNllwLFHATffjPrvv8O6kgKsKZsmN+JiAZJ8gQbCZBbq2U4xX270+dbNnOBH4KzPEniQm3eNwAQ7oLB2skJBq35lan3dp0riqiRACIBwGB/VEzoCFBwH1JuZjQBrOTnUk4BAML9IoCATZnk5ZgtMjrj6apzX/XRc3LMXLjqjDy7s3RsXn94TZ5/eA289/jiM4hLU8ZU9IYPASfuLA6nyr+r8UypgJXAq0JTzUxbuvW+SgGMeBt6ThltuzcENt2fiqjun4qmnsjDrx0x4Sjg4vcRB6CPEFk4WSMuS+OTBgg8dBZkIF09F2S/FeOaZHDz3Qh4eeXwqrhyagYF3ZmPgiCwMvisXg2/Px4VXfI4ze01Gz/8rxqn7ZOE/O2fjlIOy0e/oHFxyZiq+f6MQQXlQ8BWmqY8RcCzRaqZbji/nCdN+KROrphSh8IsMrJ4qDyeq1jITNYVWDTs7t9E4ZiwfiNiuVcEo8yxTdoRSPfEZN6GaQ1PJcieI0qLHnuEKOewXh7oSGJUHILaBrhAIrJQyT1j1ZEk5ZlmWhylfrkB0lkB1djFqikuxtlTSP60UvokTUXfn3fCfcgpCffsCz49U5axezjF1lvp4jotxnuekGPvfy5ycmpap6y3PWRXEOpcpF0jjUMMlspG2OSDlTqM7lomaV48v8psFxJDCwd9cHQmrw3OqLvxi9mVaOrOxpMO5QJpgNbhfyQXS+KUukPznKOMukCZWvF5wbFCqpKxUlV3K5/NFjV9H4pThnNcXHhX25OVg3kaIvX3lZsdXhRx2Riwk82EzgDA7XARN9enE4MrVwItvAmcNgOe0Pqi//V7U/PgjfLLvusISVAkY6x7KscwJRRtrzi8ZqX1ETA/TRMBi73i1n8hUW3VmFirSM6zPTco8pxVilVlZqCIQO+ImjP4dakgJVGy7W5dbjomfZGPo3RNxlQDowNvTMejOHLF0DBQ4HTpsKjJ/yhHoZ7te1gIKiGWViG8zVa12pfi7Pp9jjGYjWFiE4h8zcP9DKbhiWB6uuS0DV946FTfcmYdB96fixtuzcM1V2Ti3ZypO/28ujtunEEfvlI/j98nBFadn49NncpH1cSFKf8yCpzgTAYHOOvXBAXkoUfDIpgGZVjvRwgLMn1iEUSOzcO2tGXjtpSysyimFt6QY/qJcNaC+V9LlLbHafHrl2NXnSXw8tiwj2fzqlkBrdprkRR5iigqwLjcV/jvuaAKjsX246UawVu13Zb6eTVhK+BnUdPhVkTWKAADidElEQVSefAyhU05H6Pjj4X3iEVW7z9pSnrVBk52e5IwNhdX39A0jpL5uZp3TDfcoXmv1ee4CaRxqcGkjad9ukzWkTIBOBGsq9G9da8F5ZkCH4bzOkJbeZkPSYVwgTbAcrneBNH65QLplxGsJX6vTu0VyA5420/re+8bIKtsylUsVPx/KG5xQKUKmR5aHEAwL7AqkCoeq4Wp83NfX3yDY9xz4jz0BgfsfQGDKT6gqy4RRVIzq9GysLZQbLmunsjkIegMM2i3WDXpzLQqlEq9Vm9oApaz50lDKZTRPXr7ASQG87BUuU1o9O6EIIHCqQDQS91+/lz2hOxP1uRnq2/wcJP7nD/Nw44hJuHLoVAwenoUhI6Zg0Ig/cdnwfDzwZD6mTc6Dv4DDPZUjmGl9T75a4K2mOAP8KhZ9zO/PF3yfj7seTBUIzcJ1I7Ix8O4M3HJPKgYPTceVl+XjzJNLcerB2ei+fx6O3aUEp++fixsHZODDu4uxUvYxd0oBVorfAzPlIYJtiAVEWbNYnyHQKzDM4Zw88nDhK07BzN9Tcc8TBbj29lRcNfQPXHlnGt6YkIFFv+dgzqQirMsux9KpxZg+uVQemNg0IRtrVC27lIu8QqwUOGXzAzX2qix3Qigt2KtXDP9tvulyVk2fib84zm6lLFtVPANVOYUIvjIB9SecgHD3U1E/aiz8VWvVOe4JBCDPhggHwwj5vQiEvfpKq85piue1ZgwXSONQg0sbSft2qwHp+nZiB0xCqL39FcV11oW/wXR4/VvPb0g6jAukCZbD9S6Qxi8XSLeM6Fd9zSkuLYnWkPIaw+WsFdU1o/ZrUYNkeTCAAKFUfoUFQP0coJsnhcHBZqBeHQYK8oArrkb4X/+GOfQm1GVNhlf2x9fq1axtEphR4FcgYJcuwMAaRwJhLLPdmBNmEi87ISmL7EdPCZUWXBJA2FY1XzUV0Ka/I2+HUV2D9VevIeXQSHViVTnpquNYTVERvn0/B0NH5OGGWwtx061TcfGwDDz6dCrmTcwBCJx56errRpX5fPDgUFzp4lO+jp4Bf2EOFk/NxP3PpODK4ekCtLkYdH86Lh02FZdekIWzThYI3S8Xx++RgaP3SEePQ/Nw1emT8e79k1GTJfHPysTULzJxx4NpeGVCLqrSsxDKzcLaAta8SnrzMlCbkQpfTrmUyXyU/lmA+x5Jw7U3c19pGHTHRNxwRxYG356JO++bgrseTsfbb2Zj9PPpeODhTGT/nImQAHWgMB/V+cUCq3kIFk2FjzW8+aVYnZvWBEZpNVnsuR/bh/GYvcyxvNZnZwiUZqGqdAbqcwS6n34Wnv8dDfOCc4DffpCzkt2c+FaDlV9BNUQUO+LLj+h5zalmjBwpxy6Qbqbsl0mbtG+3KpDqC7o2DZ801lDY52kMo28E+jfj4aszSsfBdVpctj7pzLpAmmA5ypALpPHLBdItI/qV1xGKr+yn2YBUl91YFlVYrk9mAPVy6WHNC2tEjXAAvrBcs2S1UbkK5uhngGOOQvC8cxD84TvUTp+JihKO98g2fIWozy0UABWoE0BYm58LH1+vbubYj5tqGib1b97gNVzapyqMzOvfrM2LLtfTSHw6nr9HL3t+8jQPFQUlAqbZcpdNhyezCN+8n42bHkjF+UPz8dRThVjyZyaMwgxM/rwUn76Zh5WyTV1xLgL5U7E2ZypWpeUgnJ0FoygPn74/Bdc+MBU335GL62/MwrlnZaPP/wpwyv45OHyvPBy5ex7OPDQf910wFT+PK0XK+19gboqUq5IS/P5RHm55IBOXCFheNTgd454txNr0fHiLU+HJToW/LAfrCgsRyCJcZuHWB0px9dBMDLptKq67Ox+D7s3FzbfnCEzn4Io7MnHtbem4amgarr8rHTfe+hvufjgHr7xYgMLvMmEW5UqecrEmLVusCJUFcs13gKi22P6L3+zlk81OAjKtVTXAAt1sMz1rnoB+KkI3XIvQCSfBuOcBhBbPVw+PfjmPg2waGOK5bp3v6pSWqWYJF0jjkO0yaZf27VYFUg2cGiIJm2ybpZfxO800huVyrtdhrW84W2H4m+uZKRqX6QxuKDN6vQukCZbD7S6Qxi8XSLectG8VkM6wyi2vKVyup81K1vOa5CPT8loUqJXw8rAsP4NZKTAuOBfGaX1QNXokKmaWolaOHTt+8NOQFXzVmJ8HXwY/Byk3UplfJ9O1/FSnBrotaLy5b+i3XtYIPCPL7OHVPMOIJRpIWRPWnMUKnzTj/gqyBUjTJb9yTPMKUZdeAINNF4qy8edXqXhlfAHmTMqBvzQdv36Yj6F3FeK64Xl4edwk1Au4rsybhhdeyMSLY6dg8aQs/PZOBm4U6Lvkqhyc2ycdPY4sRq/909FnzzQcsVMOLjq6GHdeVYLfXitBZdpkYGYx8r/4Ci88+hWeHV2AGx7MxA23TMTQEVm47s5MXHNLPkaPzsSKtHwsSSvFnF+L4c0uEFjLQdrPmRh6dzauvFUA+I4MDLxDwPPWNAy+LQs33p6GG+6eihsknpvuKJd1qQKsU3DdLYW4aFAGbnkoG+lf52DR5AyMeyEHr43Lhee2u5uAqOrwlOTjYi+L1fIwx1rn1QWpqMxNl/MoH1Uzy1E9XY7NBx8g3LsfcMqJwHc/qrcX/KhTWM5fOYuhP++rz3vKBdI41MxlU/t2qwEpE8CLNs0OpBpGOU8LBAOqBpThOdXhmUi9PaW3pzjVGdTT5qQz6wJpguUoQy6Qxi8XSLecor5lG9IIkNr9TlO95m2/o5KbmGkGrdeAJr+zzRubXIs++gqho49BYMhNWPPTt1i7YAYqCwVaBEK8+WXwZKejLisDtVlZ4JihlTmsccxGgD3cM60ezc4bb7JN3dDl5u6cxgqrTYdhjSl/2+EgWTWkTgi1W6zwyTN2quHXsfIE8lLAT36uLmAv9gz4czmEkTUyQqC4BD9+nI3BI6bg6ltSMfCWLFw/NBMTns/CixPycPWQLFwuAHjXk5m48vJinHpcEU7/Ty5O2n8qTtonDafsnY+TD0rDk8MLUPRhLlZMToNROg3hWalYJnD5zMNv49JrvsDVt5fhuhF5GCpweePQdIHJNAwUKB14Sy7GPpeHZ5/NxF33ZCH/q8nwF+Yi+4tc3HxnBq66S8LLlPB5LXvv35mGIbdPwY23pWPQ7am46fbJqoPWdXcWCpxmSD4ycM3tubj9wXTc9YTM3zEVn548tAmM0pJ9XOzlU404kV1qfZ2MtaQCo/58fjlM5uVhr3KanHeTJsJ7793wH/5/wNOPyrnrV7WlRFI1IgZPaZ7vkXkXSOOQ7TJpl/btVgdSDaAaMleuXo2XXn4JPXv3wjnnnYtnnnsWy5YvV9vwM2C6xpSqravF3Llz8frrr+Orr77CLCkkrCmldBgXSLeSHGXIBdL45QLplpP2rb2G1Ol3meEf9VuPAKLKvRjHPTQNn6oVNYMGzGcfQvjAQ+B/5gmoz0gWF8Kbmy83yzw1hFNFdqrAizXsEmuQ1gnMrSPI8KaanaUGB1djeW5hs0OofRorLM0OAzS2G9Xh1ZTrxRL+yl4BDuPORh39q5bJfgQC69VQSjniP77GlTzIlG0nY8azHmuUNwVVBGzGK+v4qp6dmJgGjuvKTj3ZGaiQB44K+V2XlSowKg8fheXwyHH++LVcXHPrVFwhsDdEgPEmAb6BIwT27k7HNXel4LqhWbjs3Dyccng2TjggAz32ykSP3UvR/eB89DgyB2f1z8WEkQKiArehsmxAQNefn4O5aUV4cVQJLrrmXVxx0ze46a48VcN57R35uOGebIl/Cq69PQWDbsuxaktvS8VVt2Zh+MNTMOXbQrz3YgauG56qXs/fxOltHFIqA1cKjA66IweDh+UpoL16xCRcf1uWWjbozj8xaEQKBt6VjoHDBXoljBNCtdVwbFPxYzKAVJdP/SCky1u9HJMqKQPsHFYv++XIBWz+Uis+43Jv0XR5MCxE/TuvIXzk8TDuvAlG3Rq52pIfeNXlqd4ApNkukG6+IpdJp7YqkFo31YY2o7qWs2xaObr37CnltvHXUI448mgUFpWoMPrCv3zlCgwaMrjR11N22XUXPPv8c/ALtFLMiAbd5qTXuUCaYDlc7gJp/HKBNAmiC2MURV37qTo1zbDakDYqszIb5veywx4EwDc11s0rzOsZb2ISVrVC5Sv7kS/Ae/R/4X/tddSVzUJtYZFq28YbJG+aCo7ENLjRqu03bLmpbg0YTZpJfhINpFWZ+agqzhH4S1MdiurVsEtZqCvMFMuGrygHXgH8+vxsVOVOFX/zAwGEyubb5fJrQUxTNeFF1VhnyrGTZQIxnqw8BMSqZB8VAp9WrWiWircuv0D19OZA7hzXk183CuRnop7HXMLWyPzn73H4pz8FFLMx5M583HR3tqpVvHRQCi7pnY4+B5bixH0LcGy3FJy0VxH6/isHZ55QgH7npOKaYZn4YJzkNStTAFdAK6sYkOkqSfPrL+Xg2lvzcel1X+LqwV/hegFSDjF19e1s85mJQbdn4IrbpgpYZuBGgdLBd2Rg6J2FuGxYGu66Zyq+eTcX48cQjqfgutun4rrb8nH98KkYOXIKxr9ULABaiMtvybKGrxJYvWpYNq4UqB18RzquuiOzCYBqe3nsb9YDFvPv8HPyzfYgIWY/l6o4GgIhNisd9eUzUf/HrwiddBJC558Lc8E8BaN1vObyq04RTknPy8fMmS6QbpZiXGuprVxDygu21UFJd0iqqa3BlddcI2W3BU48+UTce/99GHHnCPzvyCPUstN79MLKlathcsgU2W7orcPU8g6dO6F7j9Nx/IknqM/78dvPb7z1JoKhoMoIbX21pDqzLpAmWI4y5AJp/HKBNAmiC2MUxQ0BKed4NGAGUR82VGcIhHwIhn3wqNuYhPH4EXz+SfhPOx7+r35EzaxyAU2+NrTgM5bZb5x/WUsCkHqy2BmoWPzL7/YXSXz5AqC5yPu+DF+/k4816YXw5JTAU5yGoDwIVLGHt0CjR8KzxjRWnGoQf4FPVUvN2jWCpqSzKpvDXBWiKi8Dq2Vf/KpVIDsVvtwSVAq4VhSkC6hOkbD8NGsW/GxHmlkgQJuhjrE3o1jgJw+Tvi7BHfel4dKb03HhpVk466QC9PhnHk7qlo4Td8vFaQfkoef/MnFlj0x8/1IBvvtkKu5/dDLeeyUdazJKJS/Zkr58BAqzsC63CB+9JXB7eyquF+C8fND7uPzGHzDkngLceDvbhWbiagFZfrL01nuzcM1tf+L6Oyfjxjtycc3dk3D1iDRcPDQTDz6ehQUT8/DhS3m4dFgOrhiah9HPZmBpluRVYP7jl7LwyP1p+PC1HIwZm4nB92fhptv46t4aAYDwGctSPpiqai45kL0TELemqSYVcpw4bFld5iSsmSbHZ2oRgt37IHRefwSqIzWlHuGOsNUksCAnD/NmudfbzVLDJbSRtnoNKcfn4470zlJSUqTctsBRxx6nakq1CuTCtW+3/dG580745NPP1LLffv8de+69F9q3b48XRo/CylUr1at7flGFcfzr0H8pAKKYUft+nGrYvwukCZXD3S6Qxi8XSJMgujBGUdwYIGUNKPs8BIwwQnKzCpt1MvVZOCoPzcZzz8Fz4hHwfvkxvGUzUS039NqCbedmvNUsCUBKKPRwcP4s8XF2DoIFRUj/PgP33DNV4Csbr76YjjfHZ+Lr94pRK3DoE4DjMEuExljxKcthEwpJK2tJJU5Vm6q+gCVg+v/sXQVgFEcXLnUF6u5ufx1oqbsrbSnu7hTqLaVCXagbDqWlLe4WvbvkLoo71PC4XuT73/d2J1muFywJgXa/8LiV2dmZN29nvnEhMlviU5AlaZrnnyXEM1bc+XW/+YwYkt0kFHiSxa0cJ0Vjc5w8E5OAgoAHRcvEBhLjEPFDEjrcF4dbr/Ch4QUxaHBCHK47wY+bzvPhzsuFpN7nR5N2Cej/QhSWRESjRML791xu9RoldpQg5DcO+fGxuv7n0K+9aNN3NpoK4ez0rBdPtxqKZzpOQsc+sWjdMxrP9fPg84/iMOKLWPgnxGPg2/Fo0X02WvWbg5ZCYDt0W4reL8Rh/ujZCArJTRd/hwz24UvR2crIFBRJ+Ev93OkrFqmzOTEoHn9GeLF4dhy++DQKD3WqeH/6wLhECXMyciRt8iSd9qbW/jypXLDFO8+TKoRZKh1xEcgTe8yeP1NI6e0I9uqA4qJCnejErUb53ccJIV22zG0h3S2UZ6HboMZbSAsLrdn0BH/fe+89sd39MGDgG3qNLZzFJVIrEeLatl0HvdejZy+917d/Pz1/ukljZOVkl3Xjk7yedc7Zem/4yJF6jWBkKyKm5twlpFWMEBtyCWnl4RLSagBVGMYUd9hlL2CeUlwsGSl78iSf4gqjpbpcjJxOmYiiay9H/vdfoiBRCjifECHfHOT4rAkv4QrH/4xUAyHdQkIohCknICRNiJv3txh0fS4az/SIRMv+MWjePRJPd/OgbTcfZnwXhXwhFblJPm3lDOcfWzJ15yE51u5cViaksMyR8xyfEF9/rBBaH/Jj2fXvRWYK1x4V4iYktSjZhzxfItKFxGUm+nWLyxw5Ll6UjD/mxmLC+xF4oYkXd1wYi9vOjMMtQkRvPjGAOy/04f6bhUw2ikK3ZxPQsX8cWvWeg7a94vH8K154J8QhMC0CS2d7EExaiEKxo7XRsUIyxW2PBDTpMVPHoLZ/NhlPtxiJ5h3HoV0fIaqig+7PxWLJzBQUp/hQ4k/C2vlxePd1eVfXaDQTEtv/RR+Sp0SjNIGtuEuQnsBxsHN06EF+IFVIvuhF4k1yTjKc700UchlAXlLCPwiokT4veJAyTYgqW4r98djsjxQiK3pz6LmmhdvabpHfLfEebJEKB7c/zYmbg9zUhQjOmIvi664APvpSP/HCIqvvwxeXhOWLVzILcLGrCJPXEjVKSEukpsEuexJRBiQzMxPNmjXDYUcdhe9+GKJu2C1vCOngz74Q+94PzVu0RHp6Oh557FE9HzpimOVG3HIcamZWFnr37aP3mrZojvSMdPWLEXIJ6R5GiA25hLTycAlpNYAqDGOKO24hlfxLtwCVa+Sk8sPdl8hPizf/jYJHHkB2r/7IXLAU+Sz44r3IDQhBETIWOvHnPyfVQUjZ0hWIQa7Pi9mj49GmbxSadvGhTZ9otOMs8F5etOo7D817R6Bj91iM+SoKf3iEXCVa3fGh/nFYRXZcgo5HzRaykifuuIe/jjv1R0tYI5FHAix+pAsJzRaSEvR4sHCmFyO+jUTq3GjkLokT4kg3fiT9GIfP+/jQ7nYPbjkpAZcflYjrTvXjprMjcPflXjxybxyebuND+36ReOedGAx4IwYtuC3os3PQRtf+9KOXkMbufWPx/PMe+H/2SaaagPlT5qFHn3i07J6Ejn2FjPaIQctecXim1RC0ajcWbfolo3WvSLR6VsI12Ic/oj1CtGOElEYLmU3FZ+8ko/8rsYiZIcQzKVqIp1fIdjLShJxlxSXqWNnc+ChkJjDObOFkK7BPhPGuuFWUsmCqDwX+GHDZpWwh9EwfdpGH6romJSPWh7RE7oQ1F3neaCHNC+W62EOsHC9ORtaIkci/8hqUxvrlG+fclGLExie4k5p2F2HyWqJGCSknNAWD1vqhJKWcGR+QzHrO/Pn4e/0GOlB3vJ+Tl4sXXnxZ7Hs/9OrdRwuICy66EIcecTjmzJur7hjgQptEfvX11+r24ksvxlK7WZ33GWETaSdMZF1CWsUIsSGXkFYeLiGtBlCFYUxxx4SU3fTWuRwJGS1GcT6Lq0IEh32FjOtvQKEUYpnJS7FRyMyW+PnI5zg1zqoX8hWucPzPSDUQ0iyO7xSilBMdwIQR3MVoPtp2iUPH3jFC6GLQrnesEDNuuenHU/08eKTzbIz6mltdpiCHa7yG8ZPjUHU2eHy0jv/M4Qz5hEXISuKkNB9yYxPkHlu8STzjsGRGLF55ORZPdZuL9z6aJ6QxEXMHRWHAkx7cf0UAVx3nxTW141DvlFjccpEXD93uxaONhCR38wjxjEP7/rFCKBPRs38Uej4fidadfejEnZJ6zELzPvPQtFcUWnYN4Kme0ejeLwpx4zxIT/JjyighnL3m6B75Hbv70Ubi2qz9MDRt95tcCwgJJyH3oUW3+Rj2dRLS2aLrn4P8xFhsFhK9ek4s8sSf3BgOdyAR96NQ4r5V0ikrQeLnET0xbbzc4SkOeb6kf5DPUCkSv4Mc7iAkdEuiENzYJF2gPs1v6WtvkTypLGRJWHOjI6Xy4Ue2tgzHCxn36BCMvPgkZHfvipJmLeTjJiEtQbQ/DguXbUuaXOwkwuS1RM0SUrYucHuuEmst0VCiyG4vXi8qLsLWrVtx+eWc2FQL330/BDPnzNKJTGeff54UwhbBCRZKIVBoDTj+fsgPOrnp2OOPQ+oCaywq/TetsaEwkXUJaRUjxIZcQlp5uIS0GkAVhjHFHXbZyyEn3hbyWmk+SiWv0kGlm9ag5Lb7kf/pRyhKFrLjFaIUSJBCPBJcU5Rd9/+GLnsuc8TWQnbF6hhLKUis6+Z3O3GsBkK6OZ4bCSQKgQhggy8ek4ZHoF2fSDTr6kUbzggXMtrqWWt2ecfu8WjUxYthg7k9Z9w/9ts3wmWdrElo0UJ4fdjsXYTo4TOwYHIM8gLJVsu3xL8oMRHJU+Lw8lvz0LK7D42fjMeDN/px31V+3Hq+F/87LgaX1vXgulN9uPNaHx5+SIhxsxS07hiJLs/HoO2zXiWTbXpJmIU8N+kVieZCPtv2SkTLPl607OtFhx5cjJ5LMAkpfXYuGveMRK/eAUROTMAvwyWOQkKf6Ttfu+e79IpD49Y/oVHbCejczydkPAotunvxTNcofPmOB1sS4hH0e4RQe1Ag8SjSVlwhmwGJt6TDRr9UpHxsSY0Wu/Uj3yMkltdEcqL9/yCfTsmKS5B0jEWGVLzyvHLM94gO8+Q8Tcn93tU7kC7h2Uy742oI0V7kxHqRlpCIHJ2QJuGmXU4chdw77kHp7Aj99L0BLvvkdtnvFhxZqBM1SkhLdLkUClsti1Cs40UtAsqufAagUAhknhDN/i+8KHa+H84553wsXboco0aP1vNr6l2HNevW2f4JgWWBIJgybQqOPfFEHFm7LrxS2yMMISUqIqYRkZHqb/tOnVFQaPnlouqwSCoPS5a4pKmyCPdpJqWmuF1I1QSuQ7r4HzNqrVSQ3Es4qOQVzC7YZy8onjUZRVfXR+6iVN32M1fyoDwhNrmS0aYLEeMuMVybc3dEW24qEIvkbitcBNwStlTJNc4Y53JICSyA2QJEkXth3kXRsMr9vDgPsrxyHhCCLc9zuar0uFQhGnFIi/FjozcVmwORQtI8OkkoXQhemkg6iQ+XPvJKIS/v55JHnBik3d4JAfjH/oglkyYhmCK6YmtcmDA4xcS17BrjSCHRkXcXxAmR8CQgUyoROQmRmDrMj67dA2jeJRYdhZQ16zNbyCkJmw9ffRjAn1F+FCQHkBOXJOQrwfKPupQ4a1i4kL3Ep0BIFtcVHfOtkEchiwMGRMEzMQXffRKL2J89iJsYi65CFB+5Kxp3XpmAO87zoeHJSbj2lEhcc2o07rgwgJeeTMBznWPxZLdotO7tRft+8WjFnY+49qiQznZCOttwAlIvIaB95qM1j3uLGyHS7eS4fbdYtOodI/cj0KGnXOvlR8tuHnR9TuLWV+49G4Pmz1tLNbXvG0DT5j+headf0LpfAB26x6KdkPCm4le3vnGYOUziRX2q7hhvORYbzaGtyDHTnWnE8bNcE5cTxlT3cs8Qz3CSobrj80wjdtNbRJ/LXeUIcSehJYF3pmlNC1dS0MqVHKtdyrEVB7a6067isSUmElnd+6LohT76jQeExC9b4RLSqoQhnV7RuyGkvFZdZJQQqy0HX2SIohLQYBB5BfllBW5mdhbefu9dHHjoodj/oIPx7rsf6HUu6UTieF2D+mWElM8XFFqtmvMjI3DmOefgkMOOQIzUdgi+wxBRM950y5Yt+OOPP/D3339rK+y4X39Rf5u3aoPf//gLm7dsxcYNG7DBld2S9evXbyORQvhjY2ORlpamOg/3jCs7kI0bsV5+qU/qkL8bNm7APLH5GI9H7di43Shuwx27sq0Y+/zH8d/rJQ/YgnkR8xEdG6O6/XvDemzctFHzhb/Wi2z4Gxs3y/lfm/D7xr/kfANy+z6LjJbNsTIqAstnzMCaadOxdto0rJ4xHStFVs+csfvC5ysU3p9pyXQ5dshaubdu1ix1s2r6dKxhuOR3nX0v7LtEVsyaiVXyu37qZDmehWUzpmHdtAn4Y850bI6YhPiJ4/HKc7/gq/dnY/WsaGycI26nzcPvU6diw6xpWDNnNn6fNgtrZs/FynlzsWraZAnDPCs8c+dg9rffwDtyJDZEREq4xP1sCXtIGLYRxnObaxIXxkdk9ewpWDN3On6fHaHhjP9tClbPn4ZfhkxGl96T8VSnSXi6wxQ80fY3fD5I4jFzvoRxssTnF3luqqWbaRKuOTOxgmkmcV8xdybWzonESnnXV+9PRYvOE/FMh6lCBCejdY/ZaNFlPlq0S0Cju1LR8Lw43HC6D/VPSUU9jg09ZQ6uOX8uHrtzMqZ/OwtjPp+GNkIQ23aZLM9NRsuuU9C882SRSSrNOk1Ac7nWost0cTcBzTqLdJ2GpzuNQ4uOY9Gyi9zvJO47ReDJ9jPRWO636DRe7k1H085z0KHDTDTtEIsW7aeirfjTqPEneKzFcLTuOksI+SS07jAZz3T6FY27ij8Sh4k/zJZ4z8eK6RJHsZk1MyWd+Fsmlr2E2pmTgBpZJdcp27i102hNWVpte7zXSEi4nfFYKXZAG/tj7lxsev4FpDd5HFs2rseMGbMRK5WscPktf938tmIx+WvoMcuzLaLPqZIPLFqyWHmbIaSGK1Y1tiGkhiQqUSwtUUJaLC8mOBmpa/duYuv7afd79x49kZOTq/e++sYaI3rd9Q2wet1avUaCSaJJzJ03D6eddRYOO+IoxHp8eo1gpOiO7+NuTykpKZgzZw68YlhenxefDh4s/tZCo6efwbz5kXLdh4j58xEVFVWhkGS5El4iIiJUR9HR0YiJicGIESMwZswYHSsczj3F1en2JSLK+o2OitZf6oskf9jIERgxaiR8Pt8/dEj9u3rdeTE2y1+P5A0/DB2C4aJfdiWxsmvuzYucj4iYSLkWgzmRUZjvi4YnOgZ/XXUVVr76GqLHjEbMsKHwjRiOmBFDED1iKKKHD4VXzmNHDNst8WxH1M1wS2KGbSvRci2KIm6i5f1RtkQOHylhqzg8MUIWo4cOg3fY9/ANH4GI4d9L+L9Fotja6MHD0LnrWDzR9Fs8+sQXeLXfaMwY8j0CP36DBWNGYuSgn/DZKyMxb/Q38I8dg7jvxyJu2Hfy3q8RIzr1/jgKI994Hb+8/x7ifxqLKLkWOzJ8OJxSFldzLvHyiJ4jhvyM5DE/YO6Q7zCwx0g81XQo3nr+B0SOHI64n4bhw5dHo2PLkXjvNQkD3zN8FOYN+xZRw4aoDryjhyFyyA+IHToWvpGj4R06CtHDhmPekGF489lheLz1D3iszVg88+RIPHD3d7jxpl9x91UxuPa0FFx1bCLuOdmLO8+IwN0X+nDnrT7cce9QdOv8FaZ/Pwa/fipEtN13eLTNEDRqNhyNWwxVeabFMDRpORRPN/seTzb5Fs+0lPutvkCjFl+gRYsxeOTJEWjX+TsMGjAUv370M17t/j0eaPwdnmg+Cr06D0eLNl/g/uZfi/uv8Xizb/F0kxFo8swPeLzlt7jrkdfxwKMfiL/D8GizLyT88r5nhuPRpp+je7+h+O3L75E0SuI9bESZ3fxDQnS9ummTf5DRUDs0Evrs3irhwl4uI8RWhyJ+9Ggs7tcLv9/cEDFS+Rkq+cHYceOUOzAvMML8w81vdyxOffGXOuMx81sOueQwKYJcjZyNIH+raoQlpDqbni8usbrUN2zYiOYtW4it74c6devo4vimO55gwXvAgQfg8quuxLKVK/SaafUkfv3tNxxZpy6OqnM0klNS9Rr9J8iyOYHKuHXCdNl36d5D3FdfM/F/FStXrtS1Yl1UPZauWI6Vq1fZZy6qEkuXL8MKsd3w4Iheq8dekZWLwuuuRs6PvyBv4SLkJyWjcEEqclISkZ2aiNzkJBTItfzkqpcCqWAXViBBkYKEJBTJb0nqAj0vlLyxIEkkOSWsf/kMa6rcl3DnSwGRJ9eKkhegaMEixM1KxgtvLUHr7klo1zMarfrFo22vhRjybQJWxwaQMC0ZvV+IRbPn/ZgzLh5ICaA4eYmEMYDS1HgExa/gokVYOGECVs2cidIlyyQs8j4JV/iwWJIn4TDHBY7fQpEi8W+LL4AhX/jRrm8imnRLQpf+8Rj3g7hJ9CMnaTmSJy9CbgK76b3ISV2C/EUrEExN0e7rIglfYeJCFEo48vypKE5aCPyRioRZHnToE8DjbRfgkYd8uKceF69PwQ1nJeH6OnFoeFIcbr0oAbfVi0bH5j681i8aT3UJYOC7cVgRGY0180VXryTgqZ6xaP9sAB36BtD62ThwEhN/2/bnlp5xaNXXg9b9KD606JGEJ9sH8NwLfsRMWiBhSgCWpWB9RCrefj8W333lx19zluGX75PQqncc2nf3o8UL89GsbzxayfGnXyThrVfGY9Drs/HOh6l4po8f3XsuRdsuCRj0QTI2xiwGFsaLXhJFd+K/2sM/RdPdFicJpRTfdVdZWvxbJU++kbykFBQvXYq84V+j6IEHgexcBBYkY/kqt8u+OuCLj8NymycY3lbtLaR8AV/GXxJESrG8kN3oTZo1U2J48smn4Jtvv9XWTMKQyBmzZuK4E47HCaecrGPnCPpl3H351dfY/8ADccppZ+i4RYLPmkiZiJljE+m5862F+Tt07oKcHGv3qFK5z+cqEhfbh0ljysKFC7HIndRUKVBjRm/UbQlFzhOkEF3g0K2L3YOxS4rJJxKFmHFCHmE0a+lYhHmIZEtFJVIhDuahOD0DwcuvQe6IkbqOIxdTz42Ll1+PzmzmOEnupa2z7HdDrDFuFYiX4lPRvdxVeCzv9AeQrou8e6HL78TFICOe4z3FPcfMhXlXpk+ue+eLf1HiJkXInhDauPnYMjcRfV6IxjM951lktHcMWjwbiWd6zUerrhF4aaAHvXsKqertQeNe89BVCNKIL+KwKSEG+XE+ZHiEAIr/HL8XP2o0lvw2HkVCjDMlnLoc1j/CUS6MZ9mxxI+6zJVw5sXHY1VEHAa9F4kmPWbjmWc9aM/xl91i0Kx7JL74eCbWRfqBBbG6w5LuoCTxyouJRmZ0ADmxQj6om7gI0UuUEJAAChbGwjMsGr2bROP2G+fhhvNiccepUbj95AAaHJ+AG8/04d7r4/DUXR481WwuOrw8H/EThYTO8WL4Vz4snykkMsWPRVN8eG7AbDTuMhedunvRScLUvqcXHYVItuXYzh4c3+qTa7FoK/dai7wwMAYjv/bD/xsnFkkcA5ESzhhkJcRjS6wX6yXc+YsC2OpLxc9fciemaLTsMRcdu8/D2O9TkSFx9A37CqnjJ+HPuAQM/kTe32E+3nwnDn9G+JHv5+L0yciUuGZx/dYye9lWODbX2JeTjFKyPPbWqxWIM932ZgkXdiNbxB457jlPvv/Mrz9GwZ33AGnp8CUmYIk9Zt/Nb3cfzvy22OZ3sZJXmjGkzIOrU79lhJTgi0hEDTHMzcvFS69YyzudctrpGDFqjO1QCt+iYsnwrQCzVbReveuEdB6AiVMmayHB502X/ceffKp+NLzpFqz93Ux6KidGhiSZX0N0DSHt2LmrhMUaj8phBEYpruyaEOaXWLBggZJSwtXpborozhwbHRLJC1OxcLE17obXnTBuzHOu/FMMwh1zUtMiW7e8wuuqeznmespyovvXFxTloig/F8UPNEbROwORkcK1HC3SlC1kULdL5LGQp3CF346Fz1UsnHyiZFTfZ5M1uc4JKXkJSUjjPXl3np/3hJgJ0eGuObmcwBH2fSJSIHOmcUZA3uHhmpLJ2OpJwK/fcwa4kKcec9Cieww69hQC2D0CTTiTXchV207RQrAi0UHctBRi2FhI17DB8+W93BVHCniGKZCAhNFjsGz8BJSkLCwLa9hwlMm293V3JokTF8KfNorkOEIInQ9tukejdV9OYBJCKuS4Vd85iPvNL8RXdBMbiTT/AuR4vQh6Y9SP/IAHeclCzlLisGR6AGPfTMTAxsl46Ao/rjw5DvWOT8Ht5/hx46mRuOtirhnqQ+PGXrSU97TtPw+thUw+O8CLv2I9KPLHKIkp8PhREJ2sJHJVjB9vve5Hs27xQh5JPj3oQELawyOEVIRktAfJaCxe4AL10xJRnCRh80dgS1ICtnDpJa4JGhfQuOaL//mSHvkBIadyPn5MBDr3no9J30v85Dy4IBUxY8dgycQpKE1JxZ+R0Zjxkx9r53kAXTt1Pjb7o8W/BJ39bi32L78hQjsyBDRUQu3vn+JMt71ZwoXdknSJP7eXzVyUguDgj1H44MNATg7iJD2W2cs+hctvXalYnHBeL5I8lIjxxGKxY7nO6oRYcjmKdE/68iWfAgmJOPqYY3HAQQfjAyGVZdCFp0XkH7vuuYNTm3Zt5ZvYD28NenubQHMw8VNPPaP3+j//YtnyTVxiiu6chbhpNTUtpJy8wOfadegkz5W3ym5PKbznyo6Fek9NTcViU7CH3Hci9J4r5UIaZLTFc57wSmJq8jaENPQ5IvSaK5ZsT18EW0gNITVLQek9+RcsLdLW0VLJwopLCqTiXIiCt95H8OnHkbl0IbZy5i6JIMmoPcs+XQgUl0baOeEM4HDX/yllrT52IavkU8hJXoIfW71+rJsbJWRSCAvDJASZM6ozvdYz6WH8o6TFcwmfgJC3aKTFxehMea7PyG0gpw3zopOQoGbdY9FCSODrr/jw0Zt+IVtReKr/HLTuFY0OQrRaCil9qocX778ehY1RQpITpICXQj6Lyz6NtZZ9KkpdoLOaM7XlLnxYLHHqg8cmrnHYEJmMEZ9HoIWQvTbd4tCul7y7TwTa9JqPjr3i8dngWPwl7y/VWd5x2LIwTogbd1eKxcqZcZj5aQpeftKLp69JwPUnxuHyo2NxzelRuPlsH+4+LxEP35SAhxtFoVlXIZRCujuxy70vF6yPEP+FkAuZfPcdD1bHeFGYGIN0SfcCId8FCTFIneHHGwO4l3wkWj47D61EN617x6BNH0voR5PuUej/ajwWTYpHZiJnegtBFvKf7UkSAikkMj5aiCNbtRMlPeKFTEdJ2kllwZ+IAtHBsqmJUgHyICvJI+/1Im7UOCyb8JuQ/UTRUbKQ11hkJ4ruxS5yfanIihfCyxZy7uUfX65Pp3B5LkNAjQRvv12vb5su+76E+wa4UkWB2MumZD+yBwxEabOm8qEXIl50vmyZ1a0cLv9wZftChF4zPIwtpEuWL9Njc6+6sA0hZQBM6ySJ48uvDVBC2KxlK205JZSH2uHhTzFzfsH7H3+EWgccgEsuuxR//PWXXiMmT5+GI2rXlnv7Y+LkSXqNESoSEmsiZyIY+mvWIe3QsbO7DmkVwOiV4DG7PctamuTced/FzsFQUqM785uQXE5IXewaKrJFQz61y95eh9RcM2B+VCQFkpRKci9P06Y4dh4KL79cd3rJSPQjGJMkBbhHCn92f0fLcYoUdkLshBiQPFoFnxArm6imCTlIl0KQS+yQLHDLSV2ixyvkgwUliRvJAp+xSQNbMjO4lqaQywJvIkrleGNsPGaNTcCaiBhMH+VHvxc8+GlohJAWCUNyopDjBH0+TcJi/AsVvkvDSv95HM/ln3zIFZJaKER33tg4dOkzAy8K2Vw8j3vEezH0o3loJqS0aW8/WvSKxDO95+KdQV6snk8dpIhfQrLEj5yEbdchtbamtHSxTRhsckBJ9waEUHF5Hq7nyuEPQqqFrGX5Y4X4JYubWIwZHoFu/RLk3fG6h3vbXvPQRkhq895efPi5D5s8kiYpHiye7MdvH8RiUFsPnqrnx91nJOHqOl5cfGQ8rjw+Frdd7sV9NwbwxEMetOvssxeeD6Bz/0S06i1+9vWhXU+vkPEotOwn0isKjbrFY+AH0UL+Pcj3RwkZ9CB1Shz6vxzA00JAm/USgtyX4RGyLNJcCHNL8eupLhF48eVkLJgiRJM7RwVEuGyS6CpXKhOMKys1GVzQXuxByaLYCfXDZbRyxFaKkkWvkj5p4q4wKQD/j6OxZPxvKJa8IVP84NJb1F26PKNbmoqt6Jantp5DxUlCjSgZ9Wxn7/99UDLEdtKEwHPHrQyx33TRU758P1x/NZfLnXHXqujpyG/WHHjnQ11qODLgw3J3Yfzdwz+zWgWJPcExpHt8HVKCAWA3O1/11/q/cW29BmLz++GJpxtjyJBheP+Dj/DhR5/g/Q8/xnsffIiPPv4UEZFR+iwXWP/flVwsfz/cc9/9cj0aY38eh/9dfZVee+jRR7Bh0yZ1y3eYWkw4mOvuwvhVjBB1uwvjVx4VEVJ3YfxKgCoMY4qGfFa4ML6VEsJK5UhqzqWwelWwdSNKH38ahb36IG3pAiFxQsLirb3PNycKwYiNUYJHAmpIafmx/HoThEBwe8V4pHmlQBRyQpLBbnNdR9RJSOUZrp2p62f6YnRnqOzEeGyIm4Mfvo9GRyFhA1+PR4/no/F0V+4CFI3vPotAejzX1xSy65srxIR7uVdMSkNFxxVK+NlVnimFddyv85E6LRrBhYkoTPRgoycZY7+JRZvuMWjZxYPPPknEX1EBlPqFyARisDng0a7gcIRU1xMN905bP1vjhUyzlU+IVLoQdCVUJGZC4NkaXcLWTyEVX346D406CyHtF4/OvTxCJGOFEM5Fy04ReKF3Cl5tEUDjG2Nx47l+XHFSPC6rI78nxOH2sxPxWpMABr89H+3aRqJN10i040SjPlFoJX606yfx6in3egsB7eZF224cR+tHx66J6NhjDhrL9Y7dPIgYvgwFicnwjvfglZf8aNk1WgjofHQSUtqyN/3zoFN3D7r38qLPyx68/WYsFs+NQVCJqBVXSyT+ZcfbTyPaBfXHVvj8pETEjRVCOmECipKEkPo4PlZsw05nJfjiLtQPp5CAhko4d/u6ZIkuaDOsAGYkssIjFSf57lgxzPHGIDuwCPnDRqPohnooFRtlDhArlQWuie5iNxAmryUMIa2RhfEJvsSM+1y1ejVOOvlUsXku87S/JTwWqbX/gWXHfZ/tVxbwb7//DnWOrqvXDzniSOx/8MF6fNY5Z2PuvLkab7bC0r15JhxMZF1CWsUIsSGXkFYeLiGtBlCFYUxxx4SUbSWF4OIgwWKmTBFKJTvj1eKfRyL/mv8ha9pUpCcnIScuVQo/H7ZyAknA3g/dQTKcxxxvyu7UjIRIZCZHCdGK0q7YDO7VLvcrIqTpIrkJKdgQH4kvB89FcyFKHbpG6djO5j28aNk/Es/08KFDDz++/8SDrUKMc9jSGCA52baQ3p5YhFTCoUMR4lAox0ESbLYIC0nMDySIvwkYP9SLj98RAhqVgGCKFfaCaCHYjCufDbAVz0FIbX+duiBpchKnbO6JTuLA1lSJb5a8i0R0I7uq5dnCpEhsifVh8CdCIIVMcg/4lh2i0ewpLx69yY/bz4/GjWdF49rT4lDv1DjcfIIX914QgzaPxmPoi/HYOM6H9fO9+ObjBLTjzkl9I9C2r/jR14MOPaNEd3PRTo5bdY1Hh95z0LzvPDTrMR/duUd9t0h06D4Po7+LRU6yHylT4tHvpQCaMBzd5V5PH1r3nIcO4q6pVAy69vZj5ghuKrAImyJikOeNlEpLJbbVpN5EB+EJKdPKshO6VTty6DWcSGH4Dwnnbl+XnNh45Itdbfb75DtjOvAblQqXVP7SEkWf0SkofOQRlHL7UHbZCjzifuESd5b9biFMXkvUKCHlC9hdbwKxZs0atG3XHo8++gQee6IRHn38MTzxZCM89MjDeLzRE3j40UdUhgwZoluEGiL79bffoP4NDXHGuefjvIsuwt333K2z8AkOkjVkdHsRMvdcQlrFCFG5S0grD5eQVgOowjCmuGNCyvHlBbp9aDGzsRJr+ToS0mDWFhS1b4a8Jx5BdkoSMr3JyIn2IRgv5DI+UQiBRQzCCXdW2uoVAhrgXuJeIRhe3QO/0EfCEUIihIBwdjol1xvA7zEefPyeENDOQqKE8LCVslXfaCVUbYQ4te4bhZby26JLANE/+1CYmITN7M51+rkDMcTRjEHNEILICTfs7syXeKV5YiWOJKB+FCyMERIubmIXIjdZ4iSFfzA6Wbvss7lTUxhCqu+wCak5NudpQqCVkHP/eE8CMqL9Og4SCziDPhmrojwY9k08mraKwdNPz8NDt3nQ8LJoNDw5Htcen4RrTkrCLXL84CUJ6PiAB18JkVz8sxcbAjGInBCHpNlefPdBFJp35bJMkWjbZTba9/KKHhPRqWc0fvh+Pmb85sNbb3rRvNd8IfqcmJSMp7oJWe3tEzIqYfTHotQ/HxuEfH8oxP9p7rAkz7Z5luNZI9G4eyz6vxmJhROjUcwuYolbTkIMimKTkO+I9y4L9ST6qwpCmt+797+eiBrJEnKZlsDWY6+kByuE8dgsku9NQEHqAuS9PwjFN9ZDwaoV8n3rh4/4hHgsWeYus7dbCJPXEjVKSA1RdI4j3VkwcFziyZDS1WvXYl5kNDzygXGnJ4Jk1ESC79GhAXLuFANz7BLSKkaIDbmEtPJwCWk1gCoMY4o7JKSlkn+VFoM5BTf2QHG+kNNCuSwVbd4OJKG0wQ3AK88jY/lCIWnJyPUIcROCuW2B6DyOF2LJrUYTdTJLWnSCEL9kfSbdGyluwpAIm8hlJEYjZWoU2vZMROPO8UKUAmjVxyuEdD7a94xHi35JaMfJM11n4qOPErB6vleeE//iubd+xeQkVAxxZMGtBEfIVGYCu+EDyIyRa/FeIWWRCCZKwR4bjSGfzcf07zm5x4PMJKv1V1tIExLCElJDlAwRdRLSDH+MthaTpBekRgMrhPwtiMfWuX4k/BiHt3vF4NabYnHbJalCPFPRoG4M6gsRvemcGDxwqR/dHk3Ady/FwjOUra1eYG2i+J2IkZ/Ho2XXGHThmqBCRBv3nYeWQh7bcV1POW/SOQqvvObB30KiscCDVfM9GDQoHl98GI/pw2PxyhuR+HlUFLKSEpAbl4ICiV9hwINNUT589pFfCKsXLbpPRYuuUXj+1UQsmRyD4gUxSE8OYIukN2fN69ADIexOXe+SVBEhDSWj/3ZCmuvzY2NcLDbFR0s6JGCLj5WdROSvWIacb79G4UXnoeSXX0FmUaxDc0oQkArX0qXumtq7hTB5LVGjhJTgSxgIElISxuJiElQuXF8oCV+MwmAhCouCuvQStwXltaC4NS2r+qypstignyS5/KU7/jqvOcXAHLuEtIoRYkMuIa08XEJaDaAKw5jijgmpVHwlDxUKKn9S4S2WvEmXgSIphVwRTJ6K4IXnIffNN5C2drUUdlxOR8ibEIMyYuc4JjnNFWJZvFCOvfOFxAlpEPdbRLYmCImwiZkRQ9Y4o35zwIs8Lko/Lg7PvhiJpt0j0Kl/FDp0jUazdvPRsUcsmnaNxA9fJmK914vChPnI5Xg5PyfL7DwRMmG1iDD36pc4xUg4hVixtalACF6B14M/ozz48hN5Z5dYXdZo/HdCSP1CmJKEHJGQBsKPId2GgApp4iSTNI+QUPGzxC8kcmECSpYmYW1UFGYMicBn/ePR54kUPHJNHG46MwYNTojHzbWTccMpAdx82Tw8fn0cHnwgEe8+50NalBDZ5XNQstiD0tRIbJrnxWfv+dGK4027xqJNl7lo39tqzWzbxYfOPRPwTO/5aPecvGtEJBCXigLRcYnEY11kHP6OFkKcEIVVkTHIkbQqEH1wFnxaQizShFwiRo5FD9986RM9ePDOWwlYPCuAQr9fyKcX2YmJyPMEkOOJx4ZANLYk1CwhDSWiRkLd/atEvsk0+Q7y5DtIF6K5iasOLJF0mTAWpZfWR85nH2sFU3vrtfEsiFghrovcLvvdQ5i8lqhRQuosUMuF59Y1EziFHRbjjgvoGzcUTijg2A7zrHGr9+TXXKsI5r5LSKsYIWp3CWnl4RLSagBVGMYUd5aQBoWEFpXmi7BCzecK5Zj5T7EWZMHRQ1F4yWUofPs1ZC9O0CWTsoW4sJudBMIQUk70yROiEjXej1kjZyEtsEAIo5CLuCghfbHIYSvaPwpUzsy3CEZRYhzWzo7HtOFezJ0Qhz6vzkezLtHo/awP737oQ/dnZ2LoNyQkCcgLyPtiE+W9nLyxayRISaMIjzljO1MKcF0RQAhZRpwHwUAAf8yPx6D3PGjZI4AWvXx4ukcMOgrJ++VLjoXleprhJzXp8AMdI0uyRPEiR8IaTPWjdHEAK2f7MWWwBx928aPzPQm49yIvGpziwbUn+HFVnRRcWNeHOy7246EbIvHEExF4vCMnIcWircjzz8dg7i+RSBdiXxCbirVz4/HeB1Fo3DkWrbpHoU2fKLTm0IbuPnTonYg2vT1o3i0K3brFYOZYjull+DjhjMQ7HnmJXP6KyzGJPuUex/6S2HNIAdd25RqWJId5AalMePyIGOHDqnl+5CXHCuH2i97lXoxUIkhgheBm+rmCAeO+m1INhPTfNqPeKdQBf3NjrVUbskT/ebFiG2KLOb+ORkGDhih6a6BwUGvidVA4RrCE1cwSeLWF1For08UuIkxeS9QoId0W1sv4znDvDQ1MuAI59DnnMzuKjLnvEtIqRojaXUJaebiEtBpAFYYxxR2PIeU5H2WqmHQx5ySrQRRyGye6G/oNglddguDL/ZU4sKuWrYB5QiByhMjkJAk5EOISMdaLnpwg0zMCw78SoiIFX1AITk5sNIJCIHOF/LDw3BInpEaXpolEQbwHpUKIYsdF4rnXItGykwffD/Zi9oQAXn6bC8YHsEmIVMKUWGwVIpwTz656LiWUZJGYuHBEd0dCMk0iGi/EOVpn7bOrnhOxVsek4oOBc9G8o8SjV0DX22wi0lyIcccOERj9bawQpFjkJXnhGTMGS36bjJIkEvQYFAY4MSsOhVw7UwjTViFoK2b6Mf6DRLzYKAHP1E/Enef4cK0Qz2vrJqGeEFFOUrr3f1682sqPiR958VIfjtP0ok1/H9r0i0GHXnFo2TsBLbrOwdCvSCZTUeSPxYJpAXR7Nlq749v296Bpr3kSXo679eoM+qZ9Y9H3ucmYN0KInD9RiGWs6EyOSfoSvNjKLnY5tgi9iKRTugh35eKmBJzJvtXPMaKsaMRLOgp5lTQmybZa5Sy/2LrNcafWcI3dSQtbmJYMWxkhFd0K2S9KSvknId0JMkoJdbM3i2lVpzB+WnGS+FKo71z5hri2a4ZUnNgiHRS7z42Xil6A6RSQdEjC5kUB5H/5MYIX1EfRwHdQVJgjX7MFdteb7c3jJD2XLHXz293CtlloGfYiQlqzMJF1CWkVI8SGXEJaebiEtBpAFYYxxZ0hpBWiVChqYR4KgiXIl0eYaiXTJiH/6utR+Exj5M6YidwFi3Tppa3eJCF1AUQLoezZ34smPRLQrMccIUXz8c3XcdjiFQKVGI1NgSikxXiQlchCNkEXRyd5y0z0IH5CMvq+FIfGQqSa6Gzu+fj200gsj4iS+4k6WaaQ61tKZm/ICIcHkGCZQnxXRVtFxT8S0kxfgpLrXAnjn54UfP5BLJr38KBT1wi06RGN9s9GoFV7+e3nxa8jhHR5kpDPhfF//glLf5uCkuRk0Qd3xglg3TQffMN9GP5KAD0f9uH+SyNx42k+XFU3ARfW9uCaU4SAXhqLNrfEY1CrAKZ9EsDy2ZxMFYPcJVFYOz8eAwb48ESX+fI+0WNfCUPneAz7OgZ/C/nPjfEjX8K+KdGL+IkB9H/Rh6bdZ6NNHy7w70WPvvMx+od4jPkuFtOGSNySFiKLk158UUIqOUZUKgUJJJRCrMPohWJa37aZLCbEtOw4RJQ0ya95brekEoQ0lIhSnPf3FSEppbAyYCb7UbZKRSc9wMof7Z8VAmshfLaWZwi5TE9eKBWJBOT3743Ci85B6Refo7SQg3GYNVjfPL99Q5p8fj8Wuy2ku4cKslCXkNowkXUJaRUjxIZcQlp5uIS0GkAVhjHFShFS8ZDjSQvEPVtVSu2WlSKvF6VPPoyCWxsg49tvkC2FWk7KAsz8PgY9+3jRtOtctOgdjc7y2763B0939mDoZ/H4K0LIhJIiLn4vhI7rbcbEIN+fjIiJyejYPwKNOieiQ88ItJXn2vSW5zt58OFHHqydOwdBPxfV35Z8aisShw04ru2KWOQ2VlsAOes9zyOk18sF4eOw3uvHV59zVyMhjn2i0bxLFLh/+5RR8owQ5FwOGRBCFxg3BssnTUF2IBXjPojBGy0j0fGOKNx9thdX1/XjymMCIsm48ug4nZTU+zEvvnw+HnOGxmLlXA+ykwJCuPwoFlJe6BeyKGEplmt/z/Bh0DvRQs49aN3Ng1GfxmKrkNCilEglldkctylEukSIZcqUJDz30nw82Xk+OveLxqzREcjnblK+JOQkLpJ3cDH5CGT7ORlLyI48y/hzTGuoTmpUdpOQhhJRI2X+7iNSVtESPZSd075FJzl+D9I90cjjUIpAIrYmpSI3ltuwJiFrUSqKx09A/v13orBePWD6dMgXiyL5Kykt36mRvy4hrQJUkIW6hNSGiaxLSKsYITbkEtLKwyWk1QCqMIwpVoaQMo3YXV/EdUlLsiXVMuXXmuhUlLERpYMGoOji85HXsyvyfXMw9PtIPMYtOIWUduobg3bdRbr58ESnSLw2aC5WzeKSStxXnoTIh3S/T/eiz5dCd8IPsWjbh0s5RaGTENG2fWLQtkcCGsvzffrH645E+ckkj0ICpSDVrUPtQtu0KJlCfdeEXf8cMxkQUhqr65AGfSnIkzAVJcdiS3Q8hnwRgWZ9ItG+XzJmjQ0IGYwRMhotYeBSVh54R4zGiqkTUbw6Ad0fiMM1tX24vK78nhSHm8/z4eGro/BikxhM+sgr5Coa6ZEJyI9PRDBJdBGIUX9yAlx2yoMMIZHpcQlIj44CUhPwd0QMPn03EeOHcfvUKA3vFl8y0oTQZ/s8yJNztqQFAx6kTkrCh4PiMXFUJHJJcEUnuf4oZAkJzfBEyXvYtRsvJFR05+NwAhKefy8hLfNzH5NQUmqO82K5XJgHGxOlYualiLvFKZKe0ch482WUXngBStt3QnDlOqGh8s2KkB9pfuvIa11CWgWoIAt1CakNE1mXkFYxQmzIJaSVh0tIqwFUYRhTrFyXvbgrLkRJYRHyiwok1SSzLSlFgVxmgUdfSufMQGGDa1F8Uz1s+egjfD04Dm1fiMcz/aPQrEcEmnePx/vvROPP+fHa6pgrRCjfI0RPiFKmX0hGjBBMIWLZiX5MH5kspI/jRyPRpHc0GnWLxstveLBociwKkv1CGKUAlsKahXMoITUF966Ktjx5E6VQFyKUGIUMf4S8I1UK+ySkx8p7OSYvIQ7jvvUg9heJQ0DIUrwQPi4zJWQuP+BD4rifsWjizyhZlYDPn12MJ6+OQ6vbkzCoUxTmfRuB9KgUId3JQsQDyEtMkvhyPKa8V8gkJ3zlceyfh+Fgiys3ERCynsSF+QPIoc68QlTjopGVkIg0ISW5ianidiGyGWb/PKQFhJyIDvJ9SSj0sBWa5DoR2THc/93SL7fu5DjbrfLL9VazOY5X/OWY2XB6qTGReOwqIQ0lopRt/NyHhGNxGS8K7Zqi8RTJi+UkslixDanEBRYiz5OAvDE/IPjEXSi9/joUfP4NcoWGcmmnwgKumMEtge3c1pHXuoS0ClBBFuoSUhsmsi4hrWKE2JBLSCsPl5BWA6jCMKZYuRZSeb5I0qmoUAho0Eo1KeC0yZTdgMVCVMVNfsbfKH35RZQ2uBXFjZtgfNuP0aFXEpq8sArvvu/H7/NiUJAUi01xMchiS6A3VkhHDDKEzHGmdr5cz5HCMUdI3tyhMejUNx6PdJ6Jdwf6sXJuMnKSY6RAFrLImeFsFbILbFOIm4LbWbDvvLC7X8hurBDCRA8yE4QsewNIi0sRUiSkTQheppDnUgl3bowXGznWVJ7LEzdZvhTdWtP340gsnfAbiheK/c6MFhIlZEncYGk8ihPjkReVjKzIeIkjiaNXyLT4yXGvPpJq0Qfj4/UqeczzCHmMS8ZWTzI2i36yhfwWx3B/93hslGNOSioS/RUqsfQgnTr1SFi8DC+3T52PAnbresx7JI7iVtdXlTBzfGuWP0GXoGIrWzZnxpfpYi8QpmUlCek2/u1DwvTXjRqYZhQ553JhFMZ1c0IyNq1YisyUROQO+x7Blm0QvOJmFLXvhNI/V2vPRX5QqoqsRMqXWSLfbUnRP/Nal5BWASrIQl1CasNE1iWkVYwQG3IJaeXhEtJqAFUYxhQr22XPJWKKpIArFimUzFaz22Ihp7o8FLvzSUyLtcW0SMhOccfOKGp4E2ZdcB9Gtv0EvyctQ9GqNdgUG6UELtcbg3SSTy41xG5kIUkkb+lcf1QIG+K8+PXnBHz5UQxWzY5BIZeX8khhHRBCJf7nsOAWUlpGSLczyWZHorPr44XUcUF8tnh62GpIgkvSy/33eV9IYqxXiAK3ZBQSlCAkknuDe6yWRhJpz5ixWDZ+JorZqpkSiaIFJJKxSI8RIihu2GWeLfHLErdpnIzCrVeFeGRw8XKOBRWym8bueiGgmWxFjY/Q1k/qKTtO3PiShKBxBrv4I2Hmgvpb46J1aaYsnxB2IdTsvs8QneruT3xG3r/VP1/8pRt5F4cjiHuGN0vexb3Os/zUvUXu9hrZDUIavOuuvZCQ2va5k1I2gYyt5BJ/2kcWJyqx4iDn+YsXI3vVMuSPGIH8xxqh6LYbUdK6BQpmTEchP0l+r/wIgyUIykFxSYHVQipfrK6e4chrXUJaBaggC3UJqQ0TWZeQVjFCbMglpJWHS0irAVRhGFOs7KQmFmncyYklHhtH9UnJc/mr3hRZ65YWyTELRS6xj/gYlL7YG8GrrwDuuRUZX3yF9KVLkLPkd+QKkePuQmlC0nKEfORw/cQkLt00X4lSTgK7y2OwWQhsZmoUcoWk5bCVSAhXrhSgZh3TDI6dFIJFcsKZ+hwH6izgd1bSxZ90P1sTE5BBkil+ZZPocUkqkkRtZeQ2qeKW7yO501ZVvjMGuUnxiP9RCOmE6QgmCPkUQsHF4jOFRHNYQQbX7+Se/iSg4n8OW3iF3NI/FSVVVrc5W2ozSIzjhLzzHlvG9BpJpg+53K5VSPlWEhUhyxkSFoaX5DIzQcIkfpGsp7NrXtyUzaCXcKsbDTfJPMkow2GtM+rUR43LbhDSgnbtapSMbtM6L2Hi8ImtklaZsaxAMe1op6ykSKWGvQNynZWrrVxiTCRXbDcvVuLlke9Cew1idEhHVoz4k7IA+asWIXfUcOQ/+BByr6wH9OyB4pnTUFiYy09RPjzJT4vlW+WqGFxPWC7ptyk3LTpaESENuIR0d2Gp8x9wCakNE1mXkFYxQmzIJaSVh0tIqwFUYRhTrBwh3QHojbBUtsTobCcrL1bwVpGQouAbr6Go4dUovOkG5L7/lhDOuUhPCOiyRbkeIU1SKG6V33RdQ9GLPK+QJSFK+UlCTIUIbiSBksJZ1zrl+Ej5JWEhqWMLknbXk5RVYuknS0JbtJz+hd4TYXjknTmJSfCPHo1lkyahMCFZSCNbTi2izHBaLV72sQl7qF/bCN8VGhfr/boMkPyGXVFgG39JPPlbWZ3UgOwGIa0pqej9vM5xwvlSIcmLFXuO5SoOQkalEsA0ZEs2J6PlCAHlBgW6+YDEmy3iufGRupJCZvwiqailIHvotyh54BEUX/o/FHfrjsLIGRwjo62iLN1Lg9zpkcNpLNJpxInQvNYlpFWACrJQl5DaMJF1CWkVI8SGXEJaebiEtBpAFYYxxWolpGwytQmpklL7XK/xR5wUoRiFSxeh9IP3UXxDQ5Q2aICsPn2QP/5n5MbOQ9biBGToAvtsXVyATI9fC3SSkgwPtyeVwl2IZ3ackFgfJV5n6RtSYhX0nCW/h8kXCaBXwsadmkaPwdKJk1CQkKTkk/edBDRU/uGXK+WyjxNStnrrbmVCNrnxA7fK5eS0XN1aVWw8Vtz5o+1n/cjmUJSAPCff56YFC5AdK5W43yYh/+1XkHNnfZRcczlKnu2NEvEvL580lLuqSf2P31xBMYKFxSiQ783a5bFcnJArZdf46xLSKsC2Ki6DS0htmMi6hLSKEWJDLiGtPFxCWg2gCsOYYnUSUmP/YYXrlkphWVrKtAby5P+8vzcAY35CcePHELzxemTddy+CL76Mgl9/07GhOVIgZy1ORoHPg8LYaOT5vAhqd7kfW9mVGbAmAZGQKLFj9zdJALukbUKwR8UmpHHcqUlIEyc4uYSzkvIvaCGlbBHZLBWl9ERrAhknJmUl0369yI9NwAaS0NQAClNTkCXxzJw0HkXvvIVg0+bIrVcPwbtvR+knH6Fk2TIUB60VLkhHuRRwMcd1lxbKtyWENBjUiUv8yMy3Fwq5Wnadvy4hrQJUkIW6hNSGiaxLSKsYITbkEtLKwyWk1QCqMIwpVmsLqQOh30JREUloCYJFUoyyW5HXRJhdl2bnozg+CSUff4qSex9AUb1rkdnoQRS+PxAF02Zhc1wSMpcuQ5oQ1I1ScOcKSckVkpImhXkax46SCMg1jkHV/eRZ2NvkdI8KCRJbSIWQci/7QiFNLiGtpOxDhLQiyYiXcAZitWKVwZUPxG4LY2OR54lCxoIAspYsFhIqlZeoGGwd/A2CLVui+MYGKL7rVhS89CxKImcCW9P0gyEJzeN3I0SnFPkoKA3KdS7FVoh8ORZqKh8Uv6yKv+nQvNYlpFWACtTtElIbJrIuIa1ihNiQS0grD5eQVgOowjCmuKcI6Tag98JIubtTsFSK1BIpRDkbv6QUxUV5KJY/LWRFCnOyuak2Sl58Gbj7bhTdVB+FzZ5G7rvvInf8RBTEJyCDY+kSUpAf7xcC6rEm5titouwezfeSsFpEpiIJJQ1VIiRIiYnwjx0rhHQCgsmp1rtqqsX23yD7CCHlGF2Gw2ljRjh+NMvn1cl2hd4EZCYkYeuShchNSkLutJnI+PxDFLXvpkNYCm64CUU9eqBkykwUp21Gbol8J/JdcIKg1OPkWxVhd3yRfDX6aw3XLpTrRUJ+Crn8GklquI/fRmhe6xLSKkAF6nYJqQ0TWZeQVjFCbMglpJWHS0irAVRhGFOs7i57J8rPmboFKC4ulgxazuS/0pJCFBVbpJT3SoWocjIGOINfil9m48V8fO4coHNnoGEDlNzWAPnNnkH2gDeQO/QH5MycabWKsptTvsO05GSkk6B4OBPfGnfKsZ2hBEGv2ySmXEhmyglNuIlCZimeCoXvTEywCelEJaQ6ttRvTWwKJ7u/Xup/RGqYkIameUU2oNeNfXHohkiOhCsnIQG5KQuQlboY6UnJyIuJQc7o0ch48zUUtm2O0tvvQHHDW1DSoimKhw4DsrJ1/VASTI4LJRMtFvIpX49U2rR/nh+x9i4UlnKh+2IUyvUcIaJFcs4PR78xuV8RQvNal5BWASpQuEtIbZjIuoS0ihFiQy4hrTxcQloNoArDmGLNEFIrKCxoSTetLFqukYyyAJWblCAzb5a0dFRA8mp17fO0dNMmlP78I4pf6o1g4ydQfNdDKHjgEeS3bIHiVwagcMQoZEZHIX3pQmSsWCkEdYmu3VjAnYw8XOdTSA0Xh2fLKVtU47i4PhfkFxJJ0uPnEkqJQiqt+1v8Pp0gxdZNLvXE2fG5ck9nP/u4PFJA3HPJKS7DZM2UzuCaokJIA2N/wpLxbCFNkfd4kO7fdjtOQ5z0vS4h3a6YSUEkpHmiW9+Po7F4/HgEE5OVACohtYmgk5BynVjufMU0zqD45TjA7Wk94qekuTzHdNalvLQrnUM/+Ky1E1I67wW4rBiX0vIhTdI5PT6APPnNkXu6mYP8cl1ahi1H7CybZJOT2IR8pq1ch+wVq5HH4SNit1lvv4mCTh0RfOwhlN5zF3D/wyjt0hUlQ78U296odq7tmiX5UifLk3P542z5Is6a5/hQVtZYgWNlrsSqrOl4bH4d8jSbSnlPzniPvxUhNK91CWkVoAKFu4TUhomsS0irGCE25BLSysMlpNUAqjCMKdZIl/2OYBiphMN8Qxom+VdUUoDiQimQJV9nKJm9l2zdAERHAF99hYLn+iKn5VMoue8OFN18M3IeexL5rw5A1vjJ2Jy0ANnrfkfWsuXITUhCLokDiQZJgxDQrVIAbyHBJKH0CGkUUpIdEFIiBIZbdLKVNJ2tXSQl8gwXjdeletj9KpIvZCRH3NI910XlMlVZyQmI+2ksFk20xpBmcztOrvNpk0+XgO6a6PhLByH1jhklZJ+ENEmJo7Zkk0gqmSyXNF0+SSoNumYrdc6WVBJYklQRrWhIuooNsBVWt2+V67lyP13Sfittgs9IuvP9XFaMac+NBfI8PrElazMCCjdpyJYyIG/daqQtFTI6bQryOSGpyZMouPs2FD9wH/DUUyjt2QNFn36ma4aW/LlWbZlElOBmEiryHZTYx0ow9VuwvlEVurUe2W3QF/2+eCy/LiGtAlSQKC4htWEi6xLSKkaIDbmEtPJwCWk1gCoMY4p7JSHdHkolzxIpKeGC/GIjNjElWJgXFAVR+McaFEZFoWT0cJS8/ioKn3wcOVddibxrrkVBo8cRfPstZE+cjMzkFG29yg0kIccTgwIhGnlsIVNS4UE+d2jS1q8E5HsShcz4sVlICLvy0/xcsicW+T5x64uUe9xhSgiokJk8XwIKhfxkR0cLKfXBP2YkFk8cj8KUVCFM7K5PUOJkhGTIJaY7J9x8QLvsJQ3YZe/7cZTodgKKmJZyL9OsPevQJ4mqjilmCyd3uvLE6Rq3uZJO2dy3XwhnjqRdjvjLtWy51Wq6pNEWbSWXa7QBbjQg5JQtsHl+PhcvFRghoWIn3OEqM5CMrJSFKFiYgtzZk5H94XvIb9kaOQ0boOiKS4AHHgBefg0lo35EsZTBpasXozgnU22WFMV8nmzt1IOyStm2x9VRpoTmtS4hrQJUkEQuIbVhIusS0ipGiA25hLTycAlpNYAqDGOK+xoh5Y4zbDXi1I5iRojltwhzsqCj/7/ssKgQxX/+ieIEHzD+ZxS98BKCDzyMgv9dgaL616Hw0XuR8/ILyB/1M4JTpiNz1mykR0YJEWFraZIQDSGrCQFkCCHhjH2S1mx2ufuihNCwJZTdyCQrbL3j7keWcJck7sKTncBxjqOwaMKvCCYLaeEOTVxzUp7R8YV83svWN4uUcvtQJwFzZVtJIzkUgmkR0qRyQip5A6+pO7mvLaSiVz3WVm3RccArFYpYbOSvdteLvrlzloi2rrKlW0gnt63NlvskqlkJycgJpEpac49/L9KTuHuSVD6i5yNn7jwUzY1Azs/jsPW1V5DX7BmU3HQTSi6/EsE7b0fh832AUWOE2cWheN06lAS5uFn5p0i7pdFyYl9eKZdqsrrZ9zRC81qXkFYBLHX+Ay4htWEi6xLSKkaIDbmEtPJwCWk1gCoMY4r7GiHNl6Dliljj66QA53g6rrtIq+EYOinUi0VKlJKWgzGiVRUKKSjctAlgYTBzOkrffgPFzzRC8JYbUHjzzSh+UMhq6zbIeVFI6scfIvuHb7Dlt5+QNm+qEJZoISh+ZCxagPQFXJpnMTJSFiBbiFGBkJsCrwd5bI0TYpPBsalR7CJOhPenMVgwdTwKF6Vod322Luhvd/+SmJKQ6nOWhJIwV8olTYhlRS2k1KO2copwcwSzSUIe00IqCHxOr3m9kgZR4p5bz0YjJzFR0nIhMlNTkZ7KVvMkZCVLpYEVkXipdETNQc74ScgZNgYZX32FjEEDEWzXEcUPPYrgjTeg5NrrUPLAAyju/xwwcTKwYgWwfgNK87lWBJdmskZ2WlSE1SjaqBxJxapYCEqx2C2/Q9qs5XLPwiWk1QBLnf+AS0htmMi6hLSKEWJDLiGtPFxCWg2gCsOY4j7XQsplb3T1b7YmkXhaRThbm3jGnZ90NrIU9sz8S8RdcVG+FPzFuvYpW1F5m/ZFchAsLkZBbi6K0zejOCUJGDsWpW+8CbRrCzz+EEoevh8l9z0s5KORENX2yHq2HzIGvo3sb75F7uRfkD5XiKoQ0UwSmsWrkLl8BbKXL9QdprKSk5ArNps4egxW/PwbiuMDQoSiheREIz3WgwyPRa6UnJKYynGNrJe6Dwm73jmGky3KOsv+x9FYMnEiiklIhcyTjPI+Z7VneqRiIJImuuY4UO7vz61cC1IXIX/RcuSIZCxeifREtmhHSAUiAtmTpiLnh2HIHvQusp5/Hvmd26Gw0SMovvtOlN5/L/DIoyht1hKlL76I0u+/BjwRwJa/UZyXo8ss0apIObhQvS5VXxwU2xSqWSR2ygXqabc6KUnu6rATLnsmNi0MlRUqUlLn91fRcVUiNK91CWkVoIKkcgmpDRNZl5BWMUJsyCWklYdLSKsBVGEYU9znCKm2gkqxbc8wZvg5lpQLQxWVsLWUItS0KChks0C7QXW8qRBSJbJcTqqU1zlrnySBboUk0G8RHrH1VRgCSrdmoXjlKiGS0Sj66WeUvPsB0KUH0KgxcOcdKLrjViGqD6DoqSdQ2LE1cl/sj9xPPkDuiBHI/W08cmdNQ0EgDvETxmPhvEgUrvkT2QuXIGdBKjKTk5GRkIB0IVac7V+2NBC7kB0EzJUQsXXEYQ75gQT4Ro/SNV6LEpKRJoSU+72nCVFlS2fakkVIX7kMaWtWIl+IVXZCAFsj5iJ96nhkjxqC3I/eQ95rA5HXqSsKn34apQ8K4bytIXDHLYCkKbp0AV5+BUVDvkOBZz5Kli1FyfrNKA1yYSXuD8+cijbDJZh4LhATKxK7ItkMkmjSDe2Ux7Q5IaZKSsQO1Y7L/KAt2zPnHd9fRcdVidC81iWkVYAKksolpDZMZF1CWsUIsSGXkFYezKJDM0nCJaSVAFUYxhT3RkJqghpOWHozeMzWKRpWKditFcHlmIfsAjUu+JBcQ5H8J4WB8YPlAkkAb1kXLf9ISPkbCl6jW6s9Vp7M2orgAtHXz5OAjz9FcdeOKGr6DEoeeRgl9z6K4nsbIffhR5H1yCNY9/CDWN++DQreeRuZn3yC3KHDkPPrT8idPQNZQkbTxZ/NiclIF5LK7v80sfOMBQuEtApx5XJGCXJNyBSJVkaAM8FF5Ff355djzg7X5ac4Y1yEYyG5lBFnkuf45D4JHFtj5ZfLG/E6t1ilcPwru785YYfP6FhY/nL4AAmgaXHkuFjOLI+X8HI8pvzyXRnxHnCnIQqPyySOS1vZM9idos/QDxGvR8LEcZvWezQ+QtKz/IyXvI9xTEwQSdS4b00SAs/tNVPkWnIA+WKvcb+Ow6LpU1HCpb34jJRvWRMnIn/4cAQ/GYzga6+hsF9/BFs1Q+ETj6BA0qPgvvtReK/Igw+i5GlJs85dUfrWO8DYcfwQULo5TUgnyaJlGrZ56K/aBw/EDGh6PKdYxiMXORvePCTXaIvW8kxCWIWU0uaK5EG9rPctp2XgueNCRcdO8BuozDcbmte6hLQKUEFyuITUhomsS0irGCE25BLSysMlpNUAqjCMKe5rLaS7C/MtViTbBRmIEf5jmWIdKg/hL2kqRZcoXykFzfx5KBnyAwreGIDNrVoh7emngDYtUNT4aRQ//gQKHnoYhfc/gGCjxxB88knkdmiLnO7dkf/iC8gb8Cpy3xuErM8HI3PEcGSNn4DMydORNWMeMudEIDMiGtkxQuaENGYLSctZyI0AhMQuXoysxUuRs3QZspYsQbYcZy9cjEzJj7IlX8pekIL0lCSVDLbQCvnN5lJU7O7mhCs5zxLymxngzPNE5MTL/fgEkYCSVy6HpLPYOY42UUhkolxPSpVn+byI+EXJTBISzX375Th94UKky/uz5Dd7wSJkLl2CtOUSRvmOc5axy3wRtkr4GbYciUuGEFQu6ZQeE4PM+RHInjUb+VOmIf+3Ccj9aRwyvvgcOZ99gvQ3Xkf+ay/hr5bNsEUqAgWtWyD4oJDM++5B0QP3oeiJx1HS6EmUNmmK4jatUdK7N0pfewX49luUTpuG0iVLUZydIylmpZ8RA10Tl93o8stvxBqf/E9bcdrQrsjeBAlRWZj46xLSKkAFSewSUhsmsi4hrWKE2JBLSCsPl5BWA6jCMKb4XyGkVQ5REdvQ8tnmxS7/QjkrdizcbwsRv2ItFqz9A5zxj7WrUerzArNmovjnn1D03bcoGfwpMGgQ8NKLKOnVE+jaASXtWqHomacQfOJRIVePoOTJR1H61MNy7RkUNmmGYNOmCLZojsKWzVHQqplKbqduyHt1APIHvY381wci6/13kDnsK+QO/QrZ3/+A9KEjkP3jjyiYNBH506Yge+okZE+fjFwhfDkTZgjpFZk5B9lRUUJGvchO8CEzJYCtKYnYmuhHthDZwgULkC+kNSPGi7RZc5HDZ6fOUMm1JWfKDGRPm4r0iT8hZ9gw5H79HXJ+GILsIUOR88mXyHnjfeS8OQAFAwcgt09vZLVtI4SyFYJC2AuaCblswjiKNG6MoicbobhRI5Q89hiKHxNdsEWzZWsEu3ZHcd+++LNjR2zs3w/BzwYj+O3XKP1xFEqnTkaJhL9wxWIU5aRpOhnwyKIEhOQzJYU6vMPaNYzn4qLc+X8CLiGtBlRgQy4htWEi6xLSKkaIDbmEtPJwCWk1gCoMY4ouId19UE/cxpFElLplUUMyyqGqJcJMgxyNWlqMpCQfFi9boPeFklpjVAV0y+Oy3/w8FG3dhNL161G6bh2KlyxFUUIARbGRKJ0rBHbybyj5ZTRKxgxDybDvgW+/QunHH6Pk7UEoeUNkwAAhal2R37oNCju3R1GnDihu3ATFTz2J4NONEGzyNEqefgoFjzyM/PvvQ/F996PonnsR1FbFu+X3LgTvuQPBu25D/m03IvvGesi9/loEG9RD8PoGKK7fAMF61yFXzgvuFbeP3IfCe2+T5+SZbeR2BMW/QiGSQSHQHMpQ/NTTKiWtWqC0QzsUtu2MYOfuKH3+JeDNtxB88w0Uvfce8PVXEq8vgGHfAT+NBiaNR+mcGSgRHRQLycSiFGDpIpT8JQQ/PR2J8QEsWL5StGfpliWaMXXqW9NESGZR0CKeJfYkozIbl99w9s5r/5XvIDSvdQlpFaAC03EJqQ0TWZeQVjFCbMglpJWHS0irAVRhGFN0CWklwRY1bVWjzRbLH8cICsHUSyx8SpEsul24aLGqvxjWzGpObikUMltcGhTJV+LE+1Q9CSpbWnmt7HqYcwVnbucJnc2TJ3KzULp5PUr+/gPFIsG1qxFcthwFi5eicImQuGWSL8lvMCEeQa8HiIuTktGHYjkuipdzEj5ejyIBnouS6TNROmMWMGc2imfMRMnMWUIO56KY96KiLLc+W+Lk2TLhuQ8ScSGPQmhWLEPpogUoWpgqRFsK4U1CJtf/gdINfwIZacIiJf7BIIqKilAougxKlJzxLIurgKST+qEQgeQEIU2L5agEJYV5KA3mi05EH+KPDi2Whzm0mFtusuJQtj2tCCfDcb93Jt+u4t+Ut4fmtS4hrQJUYBouIbVhIusS0ipGiA25hLTycAlpNYAqDGOKLiHdfZAUcV1Utm7SYkkjucc4O+51LGmxkCM58yUtQOqSFXIsZ8E8+S9XyFCJRbyEJAWFiHFJIE58KZVnSrkskIhO1CKrYiEmaWLGMfKYfyza+Daht2Utr+aXfjNEdEMJTVHrnhVqxoME2OmeQvCXXd5OP0jqJKT6HK+FE96jGx4TfJ7h4nVzzF/jryXUAXW3LbRFUycL2b8SuRJOIBIEEgJYtNjOb0sKRDh7na2g1Kn4ZZNQq+00T1QpbiS2nM7G2GvcdtHemQZG/g1Qa7Ljwl+XkFYBKjANl5DaMJF1CWkVI8SGXEJaeWjBFJJJEi4hrQSowjCm6BLS3YeZ+EJ1KbGSA6v7XuxXCSevliAhORmLFth5gtxnCyony/C5UiFNJUWF1hJVQqYKuEwVn5c/LppewqWBeC4Ei13OckEeokd8jbiyz81yWEUl3PmHywuRtEkYhMAp2bXDVirH6ocVTNs7vo9EkPTMJtN6LP6II7M+pv6v4WNYSPZ4znj8Uxj2Qv6K6PJaIkE5DvKXTZaiBOpOHOv9IvGrqFj85PJcNonUFk66EwJaqqskyD3RVSm73Rl4gT+QgEVLLNJUIv4VBemfhJTuVSfUWYGE2SKgqndxyzBaCqA7XtkWJh7/BVAjJq78dQlpFaAC03EJqQ0TWZeQVjFCbMglpJWHZIn/yCQJl5BWAlRhGFN0CelOwOjuH8L/bKLzj3ssfCxyl5QSwCKOfbRvsXVQHlI9U//qSn6Vy7LhT/21iAGFZ5ZP/CrKQWfq1HnMRlXxR9dmtS8yhFwrk7/2l2U9JOCRPmdL+TdH25Bflp8U67LVzS0npKxWyMKLtdyR/SB/SRCVVNoeauuvCAfbqvLkVH54aLtQ/61Qs62VLZtCRnnN1gsRCAhpWsQue4GSSwmdinW/zJb5y0NbeF1JvHWyzb1t5D8A6qA83V1CWiWowHZcQmrDRNYlpFWMEBtyCWnl4RLSagBVGMYUXUJafSiz2+QksVs3T6gqOHWohHSxRUhd3e4eQvNal5BWASoww32WkFZ14Ix/LiGtYoQkk0tIKw+XkFYDqMIwpugS0upDmd26hLRK4dShS0grj9C81iWkVYAKzNBtIbVhIusS0ipGiA25hLTycAlpNYAqDGOKLiGtPpTZrUtIqxROHbqEtPIIzWtdQloFqMAM9ylCaj4oZ8BCz3cXxg+XkFYxQpLGJaSVh0tIqwFUYRhTdAlp9aHMbl1CWqVw6tAlpJVHaF7rEtIqQAVmuM8QUvMxGXEi3HnoNQNzL9wzhEtIqxghyeAS0srDJaTVAKowjCm6hLT6UGa3LiGtUjh16BLSyiM0r3UJaRWgAjPcZwkpA26Ow6Gi++ZauOuES0irGCHJ4xLSysMlpNUAqjCMKbqEtPpQZrcuIa1SOHXoEtLKIzSvdQlpFaACM9wnCSn31Q0Grf11DbampWHFihVYvWY1srJz9JoxHhMRpx/mmoE5dwlpFSPEhlxCWnm4hLQaQBWGMUWXkFYfyuzWJaRVCqcOXUJaeYTmtS4hrQJUYIb7DCE1YKC4w0SwMKiFBRcMnjJjOpq1aI4rrrwC19Wvj46duyIldYG655psxogMOQ0XMXPNJaRVjBBVu4S08nAJaTWAKgxjii4hrT6U2W0IIXVROVCHRo8uIa08QvNal5BWASoww32OkLJVlIFmCynx07ifceLJJymJ3P+gA/WXUq9efSE/ViZHUmpaUyv6KM01l5BWMUJU7RLSysMlpNUAqjCMKbqEtPpQZrcuIa1SUIdGjy4hrTxC81qXkFYBKjDDfZKQGnLJ7vkGDa9XAnn/gw9g1KhRGPzZZ7js8iv0WtPmzfH3+r+FkAqJtT9GI6Ew11xCWsUIUbVLSCsPl5BWA6jCMKboEtLqQ5nduoS0SkEdGj26hLTyCM1rXUJaBajADPc5QsoAF9hE8dPBg3HQwQfjkssuRUpqql4jRggxPeLI2jj4kEMwY/YsvabbqXEP4Ao+SnPNJaRVjBBVu4S08nAJaTWAKgxjii4hrT6U2a1LSKsU1KHRo0tIK4/QvNYlpFWACsxw3ySk+RZRbN+xg5LHN956U+NXVMQdhIH16zfgvgcf0nsvvvYKsnNzGBuUuoR0zyNE1S4hrTxcQloNoArDmKJLSKsPZXbrEtIqBXVo9OgS0sojNK91CWkVoAIz3CcIqTMgnNDE87W/r8WNN92Igw89BBOnTNZ7wcJCJau8/877HyqxrN/wBnG7Tu+7hLQGEKJql5BWHi4hrQZQhWFM0SWk1Ycyu3UJaZWCOjR6dAlp5RGa17qEtApQgRnutYTU+fE4A2JaQWfOnoXjTjgBx554AvwJAb3mbD39fuhQJZYnnXZqeWZXYhlTuIiZay4hrWKEqJqEdJGbQVYKFRHSJJeQ7j6owjCm6CSkC11CWqUwelRCKvkC4eq28qAOjR5dQlp5hOa1LiGtAlRghnstIXXC+SEZQvrj2J9w4EEH49L//Q+r1qzWa4xMYWGhHo8e8yMOOfxI1Dn6WCQnp+g13ueEKOMfz1ng0OfiUksRc+fOVULaoWMX5OXn67XqUsR/BaWiZ6PD1NTUbTJIF7sOY7+qPxHzEStpchTsrn6rALYOSZoWmZZ9W9+ujiuHMrtNStJ8wUXlQXukXo1d+v1+LFzokv3KwpRhRr+ELz4OS5ZaDQDmnovKweStHp9XdGuRfaPbUuVoVa/j3RpDahLbLPf05VdfK3G8/saGWL1urV4j2TQTnuZHROLUM87CkbXrItbj02v0w8zSN8ehiI6NVX+7du9pX3FRlVi5ahVWrlxln7moSixdsRyrVq+xz1xUJZYuW4blK1faZy6qEosWL3HzhGoCe6PWrLXKRxdVi6TUFKxdZw0HdFG1YG/fMinPCG04LDGk9J+crbLY5S57whwbQvrV198ocbyuQQOsXG1lZgx40G5BjYqOwRlnn4tDDjsC0TEevUY/TAurIaMbNm7UiK9cswq///EHRo0Zo/62bNsOK+RDXiMGt0YI7+o1a6WwDy+850p4Wb5ipehojXy4v2O1/EZGxajwQw7n3pWdk5Wr1qjtrV33h9jn7/INrMac+ZGIionFOjkPtU/nsSvbF9orxXltXmQ0IsRuV62Re+qGabB6Gzeu7JqsWSt5gOh51px5Vp4g566dVk5WrKRNrlHdUp8zZ83BPMkXmP+SmIZ7xpXty8pVlq2qvdJGeU10PHXGLER7vJrf0p3Tbl073j1hvvvnX39j4qTJSF1kbW5kuB85W0lJDRFSwklIDQwhHTJ0mBLH+jfcgDX2pCUSUu7cREyaPAVHH3eCtpAmJCbqNZJR46fp2u/77LO4+rprcfudd+Cue+/G/665GgcecgjOPPc83Hz7Hbj97rtxy+234jY5vu32O8PKrbfd4UoFcvsddzl0dRfq1b8e9RvcgDvvvrdMd+X3yyXUH1fK5Y477y47vl2Ob75D9HXX3bju+htwXf0bcLfq1uj9rm3SwOmPK9uK0dMtckzR89vuVB1f0+B61e8tomfq1KSBq9PdE6O3O++6B9fVa6D5Ao95jXp3unVl54V2Sbnl1tvl19Jtg+sblumWYvICpzj9cGVb4ffO35tvuU11e/Odkqfecy+urlcf9aQsc+a3tF2Tj4T640q5OG3PKbRb2upVV1+j84QI06NtkdF/csLKolKE1LRsTpg4CYcfcRTOPu+8sklLvGeI5oiRo7DfAQfhuBNOxMJF1phFEzGKxbZLpHY+W8jtUIwaMxqjRo/Cy6++igMOOgh33/8Aho0ajZFjxmD4yBEYOWqM3HdlV2X0mLE6nnfkqFEYI78fffypCo9dne6eUJ/8pY2riG5/HDsWHw/+HB99Mlh1a9zwd7TYsPN5V8JLqJ7M+Zgff8T7H30iuv0Uo+V4xMjRqlfa74iR2z7jys4JdTd8hNjtj2Px4Ucfl+UJvGZs15VdE8seLf1Zv2Mw6J338cmng217ZRkX/llXti/U5/ARIy0dj/4RP/70k+QJH+PTzz5Xu3W6dfPbysmIkSMx4PXXkZBkNyQGgzYXNONIqxaVIqTmWkysF2efcx4OP+ooREZH6TXeMy2on3/xJfartT8uuuRSLF9ujf0yz7Kl1Nla6kR0TAz2268WOnftbl9xUZVYtWoVVq22JqG5qFpwjKM7Xqx6wGE97Ap1UfVYsmQJ1ri6rRYsXrIUq938tlrALuXf//zTPnNRlUhMTsayldYYUmvrdzNR75+crbLYrUlNTjBwm7em46GHHhHSWQvDRgzXhXA04PY2oS++9JJ26T/5dGNs3rJFn2OEKGwZ5eQntqayiz+/sEAXz+e9WbNmKyHtIoQ0KztXr+Xn5yuBZauqK7subGrX4RSiw5SUFJ2tTL1S/6xAuLrdNTH6ov7MOW0+kJiAZNEvdctrrl53XirSF+2Ttkvdpi5IZR1d3Rm7dXW8e2LyA9oqlyZasGCBHnMtaVenlRNjl4RZ9on6ps2GzW9dfe+0mDKLthrticGChQvd/LYKhPZp8gROYIqJjcWSZaGz7PciQmoCxECb9UH7P/+cks5WbVojJy9XrxFc/ubiSy/Rez8MHVr2nPHDnFuRt5aCopER7MLnc526dEZuXp5eI9GVp/TYxa6D+ja/hpCac2OQxo2LnQPtVqW03DZThDAtchcYrzScurPyDS5NlFK2XBlhXafdVv0g+/8KqEMiMTFRW0kJc83F7oG2a4QgIXXmt9Svm9/uHozeDFfgklqLbbt19Vk1oI6JuLg4LLWXfbLyWku/1aHnnSKkfHG4l/OaybQmTp6Eo485GgcefBB+Hf8bMjIysGnzJgwY+LqSyjPOOrNs0Xy2iDojZYR+mY+UmDnbIqQkubn5edryZBbHdrH7MLonITVrDvIa9e5mkLsPU1snOOaGNXYXlYPTFk1ek5CQFLKeI/MOtkK5BGp3QT1SuA6pU7cmL3ax6zC26yzY2fpMOMs6487FjuHUlfPY5/OVVaRcVB7Obz8yMnKbilR12mulCKn5oPiblZWFVq1aKYE84qgj0aR5Mzz48EPYr9Z+2P+A/fHhxx/pM8afcP6Z95iCJ1EK9dtvvx2fDP4UBcFCBIuCKKqGpQb+KwjV/bp16/DHH3/ouUlHN4PcNTh1ylZ+sWA95gYRv//xu95zUTWgXinLly9X2yVos+Y6xcXuwehx5cqV2+jW2XjgYtdg8lJTsFO3ofmt0buLnQN1ZcRZVrEF76+//tLjUBj3LnYeRr8EK6i//26VZUaX1aXTSnXZM8CcdVUcLJKL1oD4Bx9+ELWEgJKYKjk98gh069kdGzZtLHuGH+H2QHcmM8zNzS0bD1LiMEAXuw6n7nhM/ZqhEk5xdbzzUF2JmMyR+qNOCwoLRdztbqsSxjadY8ectsr7LnYPRo/ULYW65K+L3YfTNgnmt7RbUwYaCXXnYvtw6svokrp17bXqQB0b+8zLy1PdOvVeXTa7Wy2k5pyB1UHYhUUoso2Bu/98/e03ePm1V/HSq69gzE8/Ii09Te+Zj0+fE0PaHuiOBbsTO/Oci4rhTDfCmR7m2CkudgxqibriBD7+htpoRbp09btrcOrW2KohToT5dbF7oD6Nbs059RuaB7vYNVCfxl6dNmzOjbjYOVBXTv3x2Iwj5bnRtYvKweiSujU2zLzA6J3n1YFKjyGlQRQXWWMPnZmXBt4+JnheFgm5UVJccYSc73MqhdeqSxH/JTCtCKaJ82M2cOrfxfZBLVHEOtU2jZ1St87vwUXlYHRLKS5mKxNtt3y5OK724WL3QT1Styaf1nxdhMcudh/OvNSUkeaa856LnYdTZ0aH1Ktrr1UH6pS6NHmC027N/epApbvsuT2oOTYGQdGN+eW6iQjv8Vfvye82bNUB3jNi/HP6rc+62C04dWfSiYSU4rxn9O9ix9CJdmLM1BbFqVfavouqgdErtVxSQptl62h5XkFzdU22cqAeTT5rGgFc7D6M/spt1NIv8wXe47mL3QP1SFCH1CV1aq6Fwujexfbh1JM5NnZK3ZprRqoDu0VIDRgoBthkYgbmujESE6nQiISeG5hr4dyGc/9fw+7qwvmcEaZNRemzr2NHcdnZ+Bp34dzymq63a9u/nofYvEG454lQd9vDzrrb0zDxJXYUxh3FN9w9XrNslbq19Ot8JxF6/m8E42fi6DwmQo+d5zuCcW90aH535Mf27ofe25FfexImbpUN0/b8CL1OnZqCneAvr1WE7fm9r8AZ/srGxzzr1COF56G6JXbnXcZPg3B+GDfh7lU3quO9oX6ac6PX0GMnQs/DwfhnUNEzvF4pQmoQ7gUmEKHiYu/Evy1tKrI35/WK3OwqQv2p6MN1Xgu9H4od3d+bEBo3Jyq6Z65XdK8ihD5T0bGBcW/uVXS8NyE0TDsbzh25cfpjjnf0DBHqznlujp3n4WDc8NuoKVQUtnAw4d2VZ0IR6sfOFOpO9wbOa+Hu/9uwoziG3jfnobp1HhsYt07s6Dwcwvnzb8WO4ml04XTnPA93ryJUCSHdXWwvYC5c7C7MB1BZ+9pdP0KfqQo/9lUYHe6qTswzppAxYu4ZOI93BqH+7OrzewLbC1Nlwr8rbp3Y3ef2NmwvHpWNI58PFXM9HJzXd9X9vobqDvv2/Oe9Hb1/d8NX3fHaVVRlPHjNSEUw93bkbldQ44S0KiPzX0F16OzfkgZGNzsTH+OmIrc744/zvtO9OXbeNwh3bWdRmWf3FHYnzrxvZG/A3hYeJ5xhqyh84e45zyt6bldQFX7sLdhb4lLVabQ3obriE6qz7Z1vD6HP7WuoiTDv7jv5nBEnqoyQOl8Q+hIndsaNCxe7i+3ZlvN6RcdViXBhCXetIoS63ZVnawq7Gj4Tp9C4hfPH6SbUfSjM/VAxqOg4FNu7V10wYa3o3bsTJqd//A3XdbwzcD5DPwyc/hO74/eeQmhYiXDhD+cuFBW5c56Hu0+EXg893pUu6HD3ahqhYdrdMO7oOed9Hm/v3IkduQ093xtQk2EK925nHkCEugk9Dn3eCd7b4y2kFQXIBHZ7911UjO3p7r8Op252dOyUHcG4KXPveCb0+TI3Nsx56DXz67xOhLqrSGoSzvfzeGdIT+h9nu/oGSdC31PR8877TjjPK3p2bwLDZybNGYTGYUcIjWdooRKKivwP9YcId74jN3sS4d7Na86JiFWF7fnFe+a+8zgU5l5F9/dmmDDrryP8zjgZ2RkYd/zdGZt1+ru9dzjdhj5HbO/ZGocELTTM5jz0elXA+Of0e2fe47y/vbSr9klNO4Jxx0AaMdf4eLj7/3WU66dc/qm7qpGd8XNvhgmjxkOXDCrXEwsh50oQznvh4rWNXyH3eU0ult3XcwHP6b9zEXeC15x+OZ9jmCgGvKfhtBff357UJMz7GQezqLqJXzjwemj8+QyXHKJ++Et/KM40cvpnnjGgOyPGX/lP3fEa/XKCz5p3O/13Sk0gNEwUhj8c6NbomuIMu5HQ604Y/ZnrTncUp355znCof/Jn3muuG7073Zr05LmRvQEMtwl/KHjNxGd7MO6MrdI/85wunVUcPj2cOqVbEwbjH90QPKa/zjCG+uWUvQkmLs6wE6Wl29p1aLid5zx2ujVwPut0Iyd6zveWged2OoeKcctjg3D2StmbsKOw8Vo43YcD3dAei4JW3usU44d5B3957vSXx6E64zHF3A917/THPEPU+BhSBtp8xObXCiQ/aG61xo+RhQY/zHw9/q+DegsWi07MuS0GZr//0ASnqOFRz0WWnk1mZ+6Z7UTL0kH/LP+55iZRLNd5n0ZIt3zWCfOuvQkaP/ngGCfGncdWHMoX/dV7Zfb3z/AbHQRVL8D6DRvhi4tDVHQUMrOzLL2I7st+xS+j5yI5/vOvPzF33jysWL4SpSXW+8x7jZj04LNLli7B/IgIbEnbar1frvPF9J9pvDdomPGQSGjYuLUvdcn1QblQfSF1yzDTnbhhnPRY/oqKuc6lcV9OYMvTxLrHY0phobUupnXfOi5hwSb+5ovN+uJ8iPV6kZGVpc8Zf+meblRfDKcI9xOfM28uUhakIi8/X3VaIu9jXLiucrBIMlf72XB2sCdgwq9xkW+d9kRsSUvDmJ/Gon2nTnj+xRcQHRNTFjfqsFh0YvRsni8lKbLXbDX6WLFypTzrwZo168R/K43olt8/nxPHckX8lPw3v6AQi5csQ0REJDaIzdMP2rV4ZB2rnvhe2jOQkZ0NT3w8klJSkJuXq+EiNM1s0XDIb6h+q0/f5d8boe+3471xw2a89+FHaNuhIwa+9TYWLlmi14tte6goTNSplT5SNolNUld0XyD2Uyi/eUwPSRunLdEd04tbC8fEehEX78eGjZt0LWPm6XRLd5Sg2Dz9IzZv2QKPz4vE5BTk5OTpNfpJ8Fl9Ts/2Dph0JoISztlz5+PVgQPx+dff4o/1G/W6sQETD7VRtVM91etKjEQHTIv1mzaJzjxIEbui/hhnhTzA75fuC0X3fJx6XiI2G+uLw9+iX17X70jc6Xcibs37ic2bN8Mj+UcgMUFsNs+qSIjbEsl7NP+QMBi3Jm4V2UW1Ql5pwuHMF+ZHReGNt9/CR598ortlEgwf42jsyfmsCTvP6Yb6pM6Y91FXRlRH9vNm63b6wHz99z//xNTpM7Bq7Vp1Q5vX/MZ2r3kE3Ytb5uf+QCLmzY9AVlaOug8WsYyw0pfumdY1SkgJE3hmhBQemwwsFFqzEvmvgwlMPbDwycrJFsmRgjgTGZmZQoyylcBkZmdqYUt90r0pxIlMcbd69WosW7YMf4pRGaNWf0X0Y9V3WJnkX+v/xsLFi7ByzSr123yGdOf8UJ3ge2saJgxGB7QrZvL5JCGCuLh43HjjzXjr7XfkmrXvvH6A4jZc+A0JzJUC+u2338VZ55yLE046CXWPORpXXn0Vfv5lXJk76s8UJitXrcQzTZvgtNNOw9HHHIOTTz4FLVq0wLp16/R+2Tvt90ZGRuKOO+7AiSeeiKOPOwZnnnUmnnv+OWSkpVvu+R1ISJzxc/7uSWjay3v5buqWcSEGDnwTl195FRaI3RjQDd2XSOWSFUy1M9uGeI/2ePfdd+P66xuiXv3rcV29BnpcX46vva4eBrw+UDIwy97onhnyhEkTcV39ejjmuGNxjOj2nPPOxfsffFBm7/SfmS2xRQr1vv2exemnn47aR9fFCSeegBtvvgnR0dF6n88w7Ugw6D+f5e+ehtGTCQP1QyQkJuLWO27HYYcfjv3220/l2OOOQ6cunXR7ZqMT801q/FlQU2c2+Vq6dCmeaNRIbPBkHH30sTjllFPRslUbrSwRZXqz3xkVG4Obbr4VJ5xwIuoefTTOOOMMsf23kZ2do/dNOPXd8swHQuzOOvtssdvjcdzxx+OGGxti1uzZ6k71a4fNpD2f2xOwWuWs95kwE/zWLr3sf9jvgAMtne5/AE486WR8+NEnyCuwdrHjc6Ewz6+Vb/i+B+5HvQb1Va6tdx3qN7wB18rxNXL87HP9rXxD3DO+fPekKZNx/Q03SF5Amz0WZ8j3/fobA5FfKOWf+ElSYMKYm5+Ht98ZhDPPPBPHnXCc6PQE/S7mCMGjG0JJsJDhvQmmTFm6bCmeeupp1KlbF/sffAgOOOhgnHfRxRj3yy8afor5/lWEeJp4md+tku/1frYfThcd8Bs/XuzqjrvuhD8hoPf5fBHt1k6ThKRE3HzrLVb+ecxxOP2MMyUdnkNahpV/qnsRc/zp4E9x9jnnaB5y3PHH4eprr8G4cZKXi3f8fkw4CdqwCWtNgOEw75ZQYNWa1WjavJl8m3XFhvfHgQcfhHPOPRefffG5lZdJ/PgMbU8UVP6s/Jo4Mf5XX3ON2m6DG65XoS1fdc3VuPf++xAf8Ks78jMiOTUF9z30IE459VTUrl0Xp0i51qptW6z783e9z3KW+Y2x98mTJ+OGhg1xnOQJderUxfkXXISXXn4VWdm5DJJyDFNJqPEWUqMYZoAF8kEywQnWtn//4w8sW7Ec6/74XTIHSxnMcI0iDYw//xXwoyVWr1mDZ/v3w+NPPomnn2mMRk89iafkt7GQHx6/8967yMzK0kzO6CfW68HDjzwimdvxSqQu+9/lGPz5Z6p7ggacXyBEVo557fuhP+gHWrtuHX3mkcceRVRMeQFujC40DfaG9DBh4K/aGIUfpo233h6khVD/51+Uj83K0HnfxMkJ4xc/no8+/VSeqyWyP04VcnPSKSerP6eefhpmzZmt7kwB8ftff+HW22/X+0fUPkpI7Nk44sgj9PzRxx7bhpQSPp8P5557nt5nBnmmEKxaBx6g5127drV0LhmNtoTZBV1N69pqnSkPQ7zUhC+97HIlJWwlI0w4LaFumRblxInw+/3Yv9b+Gtf9DjgAtQ4+WAmCnos83bSZ6L88Q2YF4ORTT9F7xwu5PPe881BLMuX9998fb7z5hlWwM2TingV71+7d1O1Bhx2G088+S8J3rJ5ffMnFSF2wQONgeh7C5TN7Cnwvw6y6se1i/Yb1eOyJxzW8F0l4SYJIpo8Um+K1Hr16qjtTaBi9Ukzhu0byizvvvEPd83s+59zzcfDBh+k584+0dKvANhU2FkQkl7x/jKTleRdcgP1tW2TrbE6eFCjiP0G7fPPNN/Ue5UxJC1bWeEybnzt/nrpji4j5vigmLasbxuZMnkUsXb4M5190kYbxymuuxQOPPCqVmwZyXgtHHlUHPwwdpu5MWvDXhNf8snAmCdiv1n6qm1r711IbNHq47/77kZeXV+Z++swZWmnivZOkYnrmWWcLSbPI8ECxWW2YkXyX7yNB5TX6zftnis0eZ3R69jnweLzqL9PXGbaahgnHH1LJaXjTjRreiy6+BHffcx+uvvo6PT9ByOLsOXPUnXHPtDEVJ2NX6ZkZ8t1212cOPPhQ0d15Wqnn+f+uvgqJon+CzxKJQkYvvuwSvV9HKlAXXHgRDjhQ0kfOe/Xtjbzc3LL3UW8kbswveP/UM07Hyaedqscnip6nTp2q7pgmTh07pSZg7PfPv//SMoThPe3MM3D7HXcomeT5cVJRHffrL+rO5AmECbezjOvSras+o3Yr9qti29wxQtCnzZiu7vjMMvlmLr9CKnBy7/CjjsIFF1yMQw+3yrOHHnkYGzdZrd8mHSdL5esUW6cnSSX4rHOsso3ynJS77N1insuwMK+r8RZSBkQTnArSTAPYsHEj3nv/Q9STmuAZZ56tjLqv1JA2bd6i90MNoaYMo0YgcTWJPWPmzLJCNZzccc/dUpBtULdEUnKyFma8V0dqVPwAjduvvv5KDU5rKpIOTJNPPxssH7NVALHgP+GEE/T44ksv0e4jQsmIbeTGwPcWGLvgL+Om8RKiyIJ5xKiROENqxYzPS68NKGtFYxycH2soEpOTcJxkpgcccCDate+I2FgP5s6bqwSBft16+23IlUzPdCc/+8KLcr2WPvPNd98ideECfP7lFzjN1v2gdwcp+SHSMzLQsnUrvc5KwG8TJ2iG2++F53HwoYdoC5XJZIJCRhlGZxxrAnwrhbXxTZs2Ic4fQKPGz2gczjrvfNFXsuXO1qemRQkzoCLRs9VSQX3zOlvS+Nydd9+D9z78AIPeew/vvP8e3v/oQ7z1zjuYKoV5kZ1HsLJ65913qfvbhWTNnDVTW0zatm+HWrVqaYE3L2K+uhUtaUXsyNq1cfgRR+C5l16EPzERP4sur65nFZCPPPqIdlGRxDIsNa1XoxcJgKYzCwWGs36D+qpTCaHmmQOFBLLCct6FF2DJ0qUaXrV1ES3gbXvmd/3J4MHqx7nnn4chw4ZKWsXjw48+1lbWgw85BJ9JxZTgM6yU3nf/fer+6uvqYaIULGx56v/8c1qhOlYKqllzLUJBzJs3D8dL/nDoYYeie88eQtQWYLZ8F/weNI3uugN/b9ygrXkMN8PktN/qB9PUIsEGXSWc+wkZue+hh8SeftcwZWVnobNU/Egs2cq2afNm23V4RERF4sCDDhIdXYuPP/kEH4itfiC2y8aAtwcNwsSJE8vimJObg0ZPP6X6aNjwJkyfPl2HmlBfzGdZSZgydZq65TPU91F1akul4WCtTMXFx2P6rNm46XarUnH/Qw8iW8LLOKlI+PcWsFz4+vvvNJw333YrFi5apDb719/r0aZNO71+l5RPHOZAMelidMVfHv06YbwQ9oO0gvDCiy8jIN/teMkXL7/yCvWjTccOOkSC72NFqnETK+9h694vv/2q+e0rr76mLYisOIz96Sf9tojlK5bjgosuwIEHHqj5bownVm32vgcfUD9Y4UuXShrtguFx/tYYqBe7QWrytKlWXIWYM+y8ujUtTRupaL/1rm+ADUIQVZdi+/w1emb5xLKQlaVmLZrjEClf+NyHYr/vffC+9jK9I3nud999h7/++svyQ55r16G9vvN0IcDfDxmCxUuW4KOPP8KxJxyv38HX336j/hMbt2zWhjG6Z0/JpMmTkJSail59+sq1Wqhb91j8NmGCumW4mEfVeAup+WWBRrAw79C5kwaYETniyNrya9VgmjRtgdw8i+2bZ/+LMEY1ZeoUrdVcKjUWkpZXBryG519+Cf3l+LkXX8CoH8doyxA/II7vaNK8mepRyY586PFSINHADpHCiAYZExujRkcwMzxDjI7uW7RqqeNrZksBZGq8bK3hcAHCmY4Ge1v6MDwkpNESx+uEhLC10rTAvfjaa9pyQ2jGLhIafp7zAx7wxusa/3vuuR/rfre6KAhffBxOFNJ+5FFHYszYH/Xa4mXLcO31N6j7Dz78WK8ZvDXobb1+/Q0NtduFYJcsW0XZcj1FMhsDvvfue++x3iskQUlTWUpZMDaxp0Gyx5Cwda1FqxY4SWrD7JpjF+jZ51+A5AWp6q5sUoFWpkhKSfwsPdM+Sd5JkhjHN958S58JB5Mu3w/5QfKGI1VXCxYt1GvEX3//pQU1/XlOvgOSH1Y22razCsEWbVojRzJhgxFjRqO2+HHciScoaSX4jorsYE+A7ySZNK0yLDTeeOtNJS3fODJ8gt2Q5woZ3f/gA/G2FCCEdpnZYTeyaNFinCcVhAMPPEgrmgaMXe8+fVQ3Dwspz8nJ0fRg/kBb5NAG0+pPkFA+1fhpdd+r77OiW4azGC+98opeY0srSZ0Bx+keLt/EwYceiq+lcCMK8guUPO1Z/TJNLUJBFMvvlddeLQXpCYiRvI1ghYRYsWolzjn3HO0R8gesbuGK8OU3X2u82cpUEQyBmSrfNP2sc+wxktfG6jWCjQb33Hev+tO9V29tDGDvRyu7cspvfrMU7gZz5kdq78NRQmBZCeO3ZYb71DRMGJgfNLipoba0Df7ic71m8qxFQk7Zan7iySchKSVZ46q2YBMtE5fNW7fi0UZPqA7atG0ndmWVN4SSMSFdtP2AlFVEZFS0VPTPVGI0e155ZYno0Kmj+vPgww8pySSGjxyh19j9v04quAZs9WbYDjn8MHwgZIvgtxiaJ9SEvs37+R2+8tqrGv4vvvrSvmuB9nT2BefjICnTvxb7JDikgc+p8Fuw02Ll6lWoL8SV6cFx5eFg8qHlK1fgwosu1ArSl19/Zd+1wB4ao8utW9P02tQZM7WVmkN3WO4asOHl9jusxgS2fnOcudFljRFSBsAoV8ds2dfZKnQEMzAp1Po/9wJ+HPuT1oxOPc0iR59++rnWhEwECOfxvx2Mq8ngfvr5Z9XJC6+8rOfhQOOj8bImc8ppp6B2nTqYLETW4O/1f+PeB6yWELYuMVOmAb7z7jt67eY7bsPa361uZSIiOhLHSIbKLtKZs2fpNaYjsbenCXXx9TffaLyM7H/QIfJhv64Fq7qRcDuFcTP65od+yeWXatccx50SHFpCMLN8UAp0+tleau3Ejz+PwxF1j0GdY47F2nW/q3+mdh7r8eCMM87GYYcfgVmz50qmXIoff7TS874HHkS2kH0d4K+uxa+fxgohORCXSeWDrbSEGTNF0O+aAN9KWbN2LQ49/NByvQrxOeeCC6VGbHWpUY+Mu2bsSkRJDqxaMUHSOGCgRfb/QUjlBTq2rMjSNfOLXn16q9vOXbtohmb8J76UDJr3bmILlxTkTBt2Fx1y5BFaCBEmTTdt2YKLLr9MK3a9n+2r19hyK4HU8WNsednTMDbH+DBdOeGCLY3snp81q/ybY/qz1e02KQQY3x69e+k91bHDD2L+/Ah1c+llV2grE2H8nyF+Hi664TfNLmWiT1+LpLKVxXSpmXGBX379DY444kgpnC7B+vUb8ddfG3DHnXfpd/GFXVAZvaVJ4XPTbbeWha+ggJPIxK7lPt+9p+zWqvyUpyW7Hk87/XTtBqceSQIZkvxggVbiWUjvf9ABmGHrw8AZZlYa2NrOuD0vlR8nGH8liuLW2Dhbnej2icZPISMzQ69Rr8Snn32m9y687HIslYosca6QCpKrN6TySpiesYyMTNx5l1VBZasWUcjw24SuJmF0wzA+1uhJ3HH3XVpZ51X2BJEKbd26Bdc3vEFbf8f+/JO6p77Upqm3oGWzCxYuxNHHH4fDjjgCI0eO0mtGB2vWrcWV11wt+jkQH35iVfbf/+BDqXAdjOvqX28NVZOwmK78r7/9Vvw5HGecfaamfU5urvas7FerFga+tW1+Q35xv93j1bJ1a71m0tCkv5E9DcaejXdsQGF+eclll5YNh9FJRIKt6Wm4UfI+hp8TnQjqgeFVHUsqsHGGYIXmvAvO00YqZwML4ZwTQHBo36FHHIYLpBKQLfkOQW4hmkBkdJTmH7Xr1JV0W6z32AjDMLRr3171TZiGx+EjRuq9a+vVlzLC6kUjaryFlBHWjFMCypagx55qpAFt1bqN7YoFRIl2o/D6GWeepTM9CfMx15Rx1ASccf1kMMcy7qcFMMGPhoUHhd0gLLhpVASb3/nxsmDjuBxmwmw1JV57fYAWyGefe44WcCRe7IKi3+98+IG6MQXbps2bymrzHN9EmI/ehM0ZxpqECQN/TWa3dMlSfC41dtYc77v/AdSqdQBeeXWAZOjlGY4TmkHaHyXHMh997NE46ui6GGFnkJytTzBDfcmusXIsDfH++x9pC+yNN92CzRs3ieeWfyWSPlmSYTZ+pqm6//a7H4RUFaJb91563qlzF30nZ0cTLLyZiXN4xpF162jXP/GPMaQ1oHLGh+/nhLohw4bh888/R+8+fXHMMcdL5n+OdtE43VFISIuKOYjd7pYWbNm6FQ88/JCQ2sMxfNRovb54yeJthpwYQsSJdY8+bo2dmiAVWOOvsdHxE8bjcCFvx59ysma4G8SPg6RWf65kvKwIEMZmmW6mG/UJ+SWYpqVCfjXMemXPgu9lXBhGHnMS4qgxo5VMMy4ky/zW+Q1nyfd6/c03aktUDyHphClI+Dx/qbfPJF0YxyefaozNW6wWDFPIcmLjBfZQHnbXERyLznP6Wd66bemfs2XPPe8C0elhWLliFRISk3DscSfg1DPOQFSM1RJi0lXf/eUX6tf9jz6s494UYtom3fYM+B7rfRSO3R4+fDh+HvsTigrLJ7lQJ+z54QQPdvHOdLQOE84wszfv6aZNlOiwlYo9F2yt5yRQgu7or/otj/S0W5Fee/vNMt0bO5w2fQZq1z0aBx12hK7csXrtGhx/8kk44dSTMWW63Y1v5wdE7z7Pql+3CakimN/vDTD6YZm9QmyDXfWsMGqlRulUCTZs/FuJFFuL2XJGbep9rTTI8/zu5Hf6rJk44JCDcf6FF8Lj9an/nE1P5EuloVsPa2xpH7si2bp1Wz3v1/95qWAUWuGw3S9euhRXXH2VDk0ZP2mCNrJw2MnhdY6Sb2uMulFIYGjv7777rvp15z334O+/y9OToG3rsX2+J8FvXucPiPz+15/ags/ynC3+Rjc8v4xDGvavhfftFl6Gmd8wn1NeIPom2BNCXvDEk400X10rRH/VqlVl34NZvYDo5mgFVX/EDfXAdGNPTb369bU8nTR5KrKz89C5izVmnxUFQt3aNhwXH8DhUqmte/QxUiGeqdcYvr2CkPKXClq1Zg3OOuccHHFUbe0iJkz3Wqw3Vms3B4mBcpYioRGkkqls25//Clij54xhJji75gm2RpgsizUX6sZMVjIFeM/efdSoqSn6QUyYNAknnHQyjqxdB4GERM1EDj70MJ0F+tuEieqmsMjOQMXfF19+Wf1q2ry51ib5HgNnGtREeoS+02kjZnkbg0GDrElNr7w2UDOwcHD6x0zxkEMPx4UXX6LLjxDM8KyWzFL8MGwo9j/wQKmh18fvf/6F/s+/oP5zhnxOjtQQba+KRJecaW4Gk7OrlWl319336AD89963KgEMN9/P7hbOEL/AnoDx5tuDyu4b8P2GsO1JMHyhOo/xeIU8k6CciZQFC+yr24JjSIukADdx4NI39W9oiNpHH4u2HTqhWfMWuPqaa3H3vfdp95DzDX8Igbr5ZqvVjWP4lOCKXZqMM5CQgAuFYHHcLcdeasF24AFoeNPN2lKtEA8Zburs1dcGiF+1pLJ2hxJrgt3QNQWGy6S9sV0nioPlLZ+rhFidLpX0g6Sg/ejjT/Qa7YXPmOe4FFaz5i1VX8+/+KL9/ZenGwnpLXdY4xLZWkRCxvFzPOcYPsL6fqzWkNVr1+qsXN5nwRIZGSOEeH80aNhQCzQD4z/Hm9PtNfXraasXwXtG9hTYQkp9Or8bwiwBZ/Q1b/58HQ97vBCmBLElg9Cw0lbuuu8+1JZ8snmr1mqzV119De64826pjH5YVugTWzZvwf322MTvhg8tC4NpSY73J+CiSy/X+7PmzsVvkidzssgVV12l3z5h8m3ig4+ksnsA85oGek6Cuyd1aeBMQ+dxWUAFRq8G7MJnt+9ll1+uRMZUnPis9k4IqJ/P7Z4OTqQl+Vf/7Tyc5dDAN9/S++3bdxBdB/HII1YZZwgmG7moX5aB/F4ef8Lq/v/qm6+1+7mW6I+T7+ZKehN8p9HwnLlzdLLZeRdciHkREXrNwMRzz2vbUivfzTzPINSex/z0s1bAOa48Qcpzlk/UA5+j3tjwZ1oqWdHleNNbbrtVhzXcdMvNQizrCZnsgoWOb5W216RZc9FfLXTv0VPTS/MgWwlc5efeB2jftfCG5CF//vW39vTVknzBTA6ke1OpXbhosVRqL5R3H4AxY8fqNcZjr5jUxOZnRvrX3ybox33BJZfqWoEEkz2vwCI9D9hjwzpJQc4ZiASvqzHLr3b9iz//BXACCVt2DjvyCLRq3w5NWzRH/Rtv0PFGHFhMAwyytm+Pu2HXCXX33gcfqZ4Io6s/hDxdfU09KbQPwS+/TtAWjwMOPFi75DyeOHVDA9aPQWTo8OHq19133/ePiWZO/e8NacEwUGgntCXGg5kb8dqA1zQerwx4o6zL3qDsGfuXGD5iNPY/4CDcfMtt2GzHW7vliq14cowtW+Y4mWfitOno1sNq8eTgevXHzkTUXuWv33P99X6rNq11TbeLxe6POLIORo+xxqCylYEfMZ/NEMLKTIPu+wnR1fs2aeJ9+X+bTKomYCo4kyXudY49DqeffU4ZIbXCaNKD3ywLIXtck1xftXotTjvjbBxwyGFSEJR3/VMOP/xwbQUxY5Y93jhceOElOPKoo3RiDv3QfMBOp783rNdaPJ/9dfxveHWgEM5a++GxRk9JXmPpjGlgpS8wYqSVrlddfS0W2WtQqi41rFa49yT4TqY7w2gyfhIOFia6vI2jYtWtZw/N9K+48mr89fffEifGy9KHsVva1g0NLYL5pt09SbJk4sYxdU1bWuMVn3vpJSxZvgz/u/IKKdQO0oJbw8Clo6gPcb9x8yadkEL3PwwZhpmz5uox82cz1pFhphCcTMn751xwftnYSfqjab8H9WveZ4TDk1g4s1JidE2dNWnSxIrPgw/qJBEDE1YTLw6luEKIeS0hLgcecrA+Y4RjZtt2aK/rhxKBQEBXNOH16Y5WV+MXu0tvvd2y2R9GjMBb776nSyRx1jShpE3eTxtnTjZ6zFgcdNjhumQV82/LlvecLp0w7zV6pTBvYtyoU55zbcwhQ4ejU5euOO6kk3FU7Tr48itreAfjRreMA/MEwtng0rFzp7JrZf6LjX/z3Q96/+577sWKVSu0x4vnU+0WZfIK2mx2rpVvcPIO77/59pta6div1gG4psH1ZUvT6TejlskW1cU6VIANNT+Os4YV8L3mmyJqQtsMg/mlzijUy3r59n8e96uWOSeeepr2NJkezCL2mFC3kqdRH5S8QmslDaYBCekhh0mea8+sN8JufE7YJTZu2ox773tAbPIQfPvd91Ya2N8MK6r8lmjvfI7ptXDJYpwt5WDdo4/FZHu1An5nRn/rfv8Dt95qVYLNkAvmcXsJIbVap1597XWttdz30MPapakGIkrMybcIBMc4MgJcA8s5CYVK0WM7sf4LYJcTu2u4ZMVBNCYxKmNQHA/GQcZmrC272a9rUB+HHHGkkCOri1MzACnYaKh5+QW61iAL5QGvv6GGXUv8pQHSEAnTBUKwmf+Qw45QwhEZbXXROT9UA+O+JsEwUCxbko9I7Il6IQa8zpax/fAyW0i3Q0iNvC9knu7vuvtesT8W6EIYWVDbBIEzOusedxxOOu0M/PjLr+jU1epSMhOUqHMu8k6/CDNmkjMRObHp7HPOk4y6LsZKDZfQj12eIUiiH7cH+PfpZ40bM/5o3BjWsvbxmoEJ67QZM0QPx/+DkJrwWsfs1bC6pYkly5YJAbKI6M233o4ZM2frYuzPSlzZK8Lxie/bw0e4BuNpp5+JY449VheyJugn05dEiySD677SL4695dhQ1fPTz6hbwmmvkVEx2vJ92eVXwOOzKmAMqUn/PQ2Ni7yb6W9ajyi8Rh0bcvrtD9/peHu2SphJc9bqBZZbE0dm/iSs1IEhpAVFJGLWfa5X/Kzdmt9b9O2J8+lqHCyo2HXMMOi7xV+CrSFP2sMcuO7o7Nnz9JgTHTn0gjBxIDhJhBMsTj/rzPKVD+Tbsexgz+nXqRMlQVJAUpScyzUuiP7Syy/jgAMO0O5ks9yNgYmTCfPatWtx/oUXaNw52XPGrBm67iYn0+nyWJIfcx1SuiYRP/W0U3UcMNd2NTDhyZbvu3FTa9Lpl999hxdfG6CElOs3EiQdVjitd0+fMUsbb84+7wIsWmxVovakLg2MTkJh8i7+Et9+/52UGdYSY5RWbdrpOESG2KSL5ZflnpPrzEQkjhMnzDAHgx9/Gic63h8NG94oNpaM+21CyrkNhnzR/3ybfJkZ4sx3OVOfXOMGKfeWrliu9/X9tn5XCsHlpEkOoxgmFQQn6M7pdk/D6NQqT+zGvF9/xcmnWMsrUR63u+AJjsnlM7QfCsNNAsnn3n3/PXXP8Z8ksBxywh5oVp54/a6779JZ9lu2pmlDDDkCG0w0/na6mXy3pz3unJOgU6QsPFHCc/wJJ2P6TKtLnnmWsZX0jCy0aNFa3Q98682y/KDGu+wpbG4nOHaOAWzXsVO50uXXtIayGZlLutzMpXXyy2fKGmOuGfOoGXCJFy6/RH1xpiG7f996+208+vjjOh6UGSLHhlKPbOXgmJ0j6hyj4zsI6ov3jB5JPukXJ5BxTCOPH33sCWRlS6YhtVEzS4+I8/tx5NHH4KTTzyjr7jDpRRh3ewvUNhhfxkMyPNOSZwjpS6++rrvRhMIZDx4Pesf6eElIc/OsTE6Nzna3SAqjY6QgO1n0MkpIJbue6Z67AhHMQOiUXdXEm29bXU5PSeFOQsolzlij/OW33/S+CTeFGfRjNiElaSCM3Zcd1wAhdYbBENIp02doC+kZ55wrJL18Bnw5+K1yTchCJfR8foFkYPWvvx4tW7XGypWrNJNjppkvhZApSLgMD8c9z54zT3V1/Iknlk3wMmHgM3yWmSKf4aSJ3nZLy9NNmqkbgu5N5mgI6cWXXK475xAaQkfc9jSsmdO23cq3xV+j3+zsbF0HdH8hToxX+w4dkCf2yNn41lJalnsTdhLSy/93pbrlIuuEEjH5pgkOJ+n1bD+93++FF+AXks8CaX/JRzhZzYSBYyQJdrNyzBndkwiz8sBjdq2myz2CujP6ZTc9yQjXeOROZYQJnwljdcP5PgrDRkJOeyG42wzHEDMeJI2vDhigayQqsbHtgGLAawuksnXrbbdphZLL6xCsDHGCXofOFpniCigcex4XF4dTTjlFl25zzjimXlkYc2OOZi2tAvrTL7+SdOBkqf116ARhKtHaci+YMWs26hxznK7ruGCB1cLnDN+egtFlOKjN2DY2fsIEXH7FlTjv/AuV1BwtlUmSVIJE09i4xFCvsQLOljbqo5NNSE2+TdDlz1Lp329/IZVCSNlTcu+91uTc6VIxYLppq6D4W2Q3eHFyDe9zE4LfJo6XCteBuPG223WmOWGlhaXD5SuX46jatZWQDh81Uq+ZeBo973ltWzDvZ3gpxJw5c3SoCMd2HywV+8OPYAvpm6oz7bKXPMG0UGpFQY6pY25yceGFF+KncT9vk44c13msvaTk6NGjhQfk4vqGN2najfnRajGme10tw9ZELxJSqYQ1b9lCKgipOPbEk3DCSafopEmC7k3Y09Iz0aSp1WL91jtv63dD7BWE1Cx6b8Y5cTkR0/3OSJB9Ex98+KEOwL3uhuuxaavVckc3akgaWaOafz+4KD5bJNiNy7XsDDibjbO8qUcO4mZ3xJq1a3DRxRfh8Np1MXmqVes3xmHIviGkPXv1wVdff6vHTzR6Cnn5YiiiVHb/m8zQGx+HI+VDPV5qQMbYzIdB0N+9CQyP2pIEixZiCnbTQskW0lBCap5x4vsfuCzR/rjl1tvLlrZwfmTTpWZ+RN26Ort86vSZZZOUzMeuYZBfkgaOIWVLCu+TcHGyxyWXXi4ZyVEYJRkA4XwmPV1qqPbMyedefEnvm3tlx3Zmvidh4k6YsEydIYSULaQkpAv+OWaQcaeYljcK7Yc1aGaUhKn5E/MjI3TiyNnnniu2LIV7fEAz3tqi6/hAvLqhH6YFj5NKbrvD2oyAOzm9Zi8uzi57bldnYFUQSjFs+EjNaNmKuHKVtQTXtim/58H4UycMHwtso1u2VnTu0lXjc9BBB+n6lGYNXYuMlreomm/y7/UbpDCxlmsb9K61OgTXsTXjZLlET/PWbfT+8y+/jKUrrMWvOcN7+YoV6oZ+me9//cYNZUMiRo3+UQrD+XrMMZKmy17TQ/ULXdqH9zmmzcwNMC0iJo2rG8bO+D7GhWEzBDtZwvfAQw9pGLkE2OtvvIFsqQCSnJjn6N75PI/5S5s1MaB/htCQ5Bx7wnFCGo/WZbNY4br44ot1HVznMlom/qw03C6EgmEYITp9970PRP+H6PqNHIKhxM6uoBAcZnLoEUdql/3f69frdYapJmDCZMLAXwp7Mdn7SWLIChDzX0506tS5q67jzKWGuLwgQV1SzJfHyoDpsmfPKGHILUFXX9rl1AMPPSwVijW46x5rsq1p2da0kXDoyg6C1m0tG2dPC/MU9i5yWb5FS6xZ4awcG67BlkK2kB57wokY99uvei1Uvyat9ySMro2+KIbQExwj36t3Xx0zz8X9OVyMMPmJsWMe89eIAYdHEhyWwwom9fXWW29pLwo3NuBQPtNlr/6If0r+xb+mQkTpni3aHPp01vkX4Mg6R2PSFGtVH4ac7ye0y/42q8v+48Gf6jX6V+Nd9owYjY94pklTDWCffv3ViI1RG/bMXRUOPuRg7X7m0gYEFUExCfVfAOPK1hC2Xphmec1gRVfUAj8mjrurKzWcCZMnYYMUIFwo+JDDjsRvEyapG6MzZhQ8v/Mu+Zhr1dIu+x/H/qzj0u6970FtqieYHqZAYoZ66KGH46xzz0esxy5gHEZtsLelCUNDMR+FIaShY0gZbv3YbNsycSMRYksaCwEOFiecZOG7oUNQ64ADcMNNN2P9hk3o09dqdSLxZHrRXWEhMwTqvASdunTW++9/+L7a8x133KXE6MOPre5Xdu+bMGyRgv7c889HrYMO1kXiCRNOgr8SYj2uKZj05v7GJKRnnHteWQuphs8Wkk4psjRetFleY00+JydbjuWenGvhQHsWP1lgcPu/4084CdwLmROgzJhIFiy0S/ph0pXd+Ow94Lg+2uqkaVOxv1RkG958qw62J+gvhRPduMoCu72Z4Zq8qCZ3alLdMJMX4VgvQ7S5SPsz9vhGLmY/6N13JbxWAWLZiUVIGS/qjvpgipBwNrG7g1946cUy/038OIv4Znux9TcGDdKtiM16wxyeQ09MuhGcocxZ6LyfkJiMyKhY7bm66ZabsMpubaJ7hoFgiyDdcgkpDmsh9Fu002BPgWEyceZ7aTeLly7BVddaE7TOOf88nZhIIkNQp9Qhf/kcnzE2a+6x58K03NFmmJ8yvViwk4BzKbSfx43TZZ64DSPfM2zkCI2/PmO/i4ven3/hxZoHR0XH4NfxE6QSdqSO4zPjUEuD/DaYetCtTdldzS12CdOCWhMwaVhRWrIV2iKk1v38giLcYpORsmWrbFLFCZ8E9f3RJx9rxUsnNdmTm+mGYH79jpB2+tGpU2e99uAjFoH68ccx8j5JL7nGMBUWFmhlwbTqc44Fx7QeePAhOPuCCzHHXjaJ7zTfGvMNTgziBNbokPWJDWqCkBLOMBDGJg3Ye8f1VhnXHj2tHdw0L5Dw8tcIn6HtUniu8eevuKP9mjkOPW0/rAbDWrrCA9+paSH2yO+Iw3ju4VJZkl4cBsAdCm9hniI2OnTYMHVD3dJ/YsHCRbrhEYeljLbX7aZ/ewUhNcrk4reqxN59yggpMwdDSLkQLJdtuF5qjWYdLJM4aiwi/wU4Pwx+diTtTEw2n/OXRPXCiyWxpUD+xu4W4d7oNKYvvvq2PDOU53jMBYjrN7hByNDBWvPmsi771ToQV199LVJTLUIRpN9ME/kbMdJaQ4z7wK9evUbvM0zOX8J5vDeAoaGYj8J02ZOQ5ocQUqNjirFP1uqOOqou6h5zHIYNs8YVGb+Y4b5q+/fQo4/ptdcHvqXj8NiatHHTJvXLEFguhWIWGP9+yPdq4x0kY2Uade3eXd5vEWK+m+63Shpx2afD69TFV/YC49pdIvfKwlsDLaSESWcSSWLKtOmobbrs7RbSbcIpcaMdMX7Uh9GhAbvYSouKkS8ZK92ylY7bXJ4ghJRj57Jz8vDQw9aM2p/G/ST+MBMlibXSia2i3JnllFNPQVJKEtb+8YeS03POv7BsWSJnS+LT9s5SjZ9pYt1TUmERERO3PQm+U3fiEh3RLhgCEh/Ton6e6GLs2HFlqc3vUtehpA7seFkQfyQenGXMne/4LHtVuDYrYcbuc9WCCy+9TO9/8Mkn+j4zRpSL5htybtyze/Tc887VVQyWLV+p+QWHmnD3sfn2jGSmqbaeSFhIAOjX/Y88pK2rzKe1UmLbw54A38OwMB6WLVo9b4aksEU4Qio3ZW5pk1LYmjUxeY1xMnbMXyeod105oiQo/gaF1GfhgosuxGGHH4YxP1oFbs/eVo/JS6+/ZqWr+EP7JyZPmYKj6hyNgw/nsk/xWC561aW0Tj+tbMhPcYGQNvtbMcs+cYFxokAIKf3b03C+03m8WfK7YSOG6URPguu7ctw9tUZXnC/C8DMP1PsSfuo0KO6Mbtn1zqW3ONws3m/vp24Tb+YBPXpaYxbZIki0tje/4G5iHJNr+cc8oVTsdCmuuOpKnajHRpq169bhyNpHa0+fIUR0y7Cxssadtlg5uPu++7HFntjGuQImbPzd89q2dEw75kTEESNGYM7sOao7/d7Uvq1Qcew8dUFiyrKDYJjphn6YeJRBnqMfauMSfxLSl1+zNrvo0MFaV5u9pzy/88671R/rG2cvQRCb07bgOqlwkpByA4hMya862EMw33nvPUuv9jOE1xePQw89DHWlnOAqKATDVONd9oSp3T3/vLXNYuMmTbWLmPf5oZsuKS5Sywje98ADWusykTRSEwZSE1CjFKNhpmbGQBlDJThmiS2iHEvKnUSIxx+39sF+tv9zes6PlDomuDc9l47h9mxcfiQpOVVbAo8/6WRMmmbNWAzaXftByXTfFQOjX02aNENWVrZ8yJY/DINJ05pG+LBY10xX3et2C+lLrwz4RwuD+Xj5wbGw57PcROCCi7heYy288eab6s68g2nxqBT29K9127Z6jTNhj6hTR8UsOmzG7LJF5Jxzz9O12MwsxJGjxujz99x7X9nMUBPWiUKymDlfdCkzZ2v3GGf8NL41/AWYTG6y2MyRRx9tTWqyW0h19qzYLMNJAqXjHO3JYCyUh0vm2rNnD/wkGal1jdt4WpnXosWLceKJJ+GMM87UlumgPNvDzhw7dOqkw1Tor5no+OVX1u45N950M/7asAHZeXliyyfpMjrDh1vjwYrsdUbp19XX1lP3XXv0sO4JWeK7ed+p4z0Jq0WhvDs4yhOL2nVqSyFaG9+aComIaX1i64Ozy56t69SxafHhAu+MI5cOo+0Rpss+OjZWCua6UuE5TtOO4HaWdH9t/Xo2KaZ+re/8h6FDlGixFZrDAf788y/RNceX7Y9vvrXWyC1fEzGzrHu/J9c0ZdrbhF9t1pY9AaZnuQCff/WVhutEyefKSJ+d9jpungWurT+dACo6pc3qmDy5PmPGdHTv1lUK/x/FP7tBQGxQW+REV2edd562crKFlDBj0J9o3HibsbbEMHuh8LMuuBCLlizVa+edf77qdMAbA/W8sIBkgcOsuHOb1T3NCgNBO64pWw2XhvxmDzj4ENwrhE6HHNjfMkkf7ZRjlVUXUiEgLEJKXZO0WN8xlwaqLfkIG6G4sgthyhp2KV9z7XU6Ae2jj6weJa6hy6Warr72Wh1ywTQyrdfDR44Et7xlpWnZ8uW68cjNt1qrlrzxtpWXM70ZiwIhxQ9J5Yn3mjZvofescFu2QNRU3mDsZaEOKThCdx1cutSyF6uxg/lrMYYMH6bhf/CRh8tWimD4zSRc+rNk6TL06tUbL7/yCtauXafX2INHcGOBrt2tPODlV1/Ta4M/+0Innl5wwUWiV6thhX5SC1za7cRTTtY1upMXpuq1Dz4uXxjfrPZjuNz4SZP13hVXX41AUvnE1BolpIwQxbDmL7/8GgcffJjuYb9BMjrGih85B+wTTz9tdVc1bd6sbKyH8SPcR/FvBndnoB7Mmqz8oE381/y+Ttdh5Oxkdg8R/fr109oLx3mxtYUwXXDvyofMdUdPOPFknf22Rozz3POt2aMcYE8UBa004ISGps2b6r0XXrDGMoaSub0BofbAY7ZgyFUU2rbz6mvWsk8DXh+ohQhhnqFNbQurtYq7pvAZLuL+l939S3CLxNPOOlMzCTMGdIFkytfdYHV9cu07wvg62F6onF1uK1Za4xZZEahT52gce9zxOqjcCS62r++V9HOuM2ni6cwsawIaHlt33Nbv6OOPFUJ6NpLKZtlT5ySAHKe1bVipa6OP+x94yL4qhYCdTqN/HKMFz1VXXVlWkH/7wxAcIgTzmBNOxJJl1ixZ4q+//8Z991vLw7340iv6vkIprDmrl9c6duSmA+V2oUvNHX0Mjjv5JCV9vMP3GsJkdLwnYe1ixdbjAiUgzMRffMVa+7dbr17Ic0zoDAUL7H/arhCEJQt1DO6BB0meMHTbWcNmvVzaFlc3YWzH/fqLtshzTGV0TPk2l0Rze4mobj16atiYf7/48kt6rfEzjXXSlUFcQkCXpuOyMt98Y5FV/f7kJcZ294R+qRMlHPa7uAX1FVddg1oHHoTX37J2QgoH6l8Lervy5AQX1mecG956i56TqAYLLDI1e9YsrQCddc652qJMTJoyVfLYE3HM8ccj0R47SXDzh0fsBoOuQhA4Xo8toU2aWfnsI088gRwziVIQEROt2xRzhQXuYc55AGaTk5qA0akzLdkCWbvOMTjt9LMwe45F9o1d0rYfesyKbxd7wpJpyXRiw6YtePBRqyeke29WZsrzDe4oxtZOjkONtytYkaIXtiiTwJrVHAza2zP2uTSZyUO4wQiv3XXfvWVDeQiuWnDKqafj8MOPxCefWtvsktiWh788vnsa5p3r/liHelw5R76riZMm6TVhQVqR5WYZjeyNLcwKBYZjObFs+SpcdoU12XHSVKsiWlRk+U99XH+TNWfh48+srV+XLF2uk9IOPexwqXj+oNdMmr3w4ktaebr5jtuxYas1xGSycBNu7XzCiSdsM8+F6/dyJSUTPk6u4nfGCkmNt5CaROaai1xf8KSTT1VixJmZJA+MLguFjRs3SeHNfcFr6Q5FJmGcBXFNGEhN4Zdff9UE5RqWbHVTY7R1mZCcpAsPc5kV02USGRkpxnEMTpBaDNcZdKKZPSP5gQcf1jF07FphNwivPfVM0/IuC3nHitWrdLYsW2uck29CUdNpEfp+y9ZYmytVskFwFQLG8eVXXtNuTScYJxbObP35++/1uoMVkZCcjCNq19GCvUuX7mB3cnJKCu6zt5rjxKPMrMyypTZ62+NImVGOGDUSmdlZGDZiuI6J5PU33xpU1oq1ZWt62e5N19Wvp602GzZuxFuDBknhdphO7BnpmPGpXUxhvoM9CUPYVOxrXObqmOOPw5lCgEwLKa0nWMSxXEViY4W6nBjXC2UFh+BamWedfS6OPPIofPHVN5pBMRPlEkRs7adOunSzM1chlOt+/xM32ePQHnr4USxYsFBq+b+jTQcWPLVQ99hjdTa+AWeCH3Tooeo/W6r4ft6/tn4D9YOFEsFWVhJSbfESHYfa0Z4AdWrez+M//vpTuy2Z/q8MeB3z50diwsRJKhMnTpYCaQqmTpuB1WtWa3jZOpqWlq7benK94hLRI1s3B737vsb1ggsvxs/jfsGWLWn49PMvdOLG/vvXwoeOfbtZAJt1b6+XShUXv98oBOG1AQN129C6dY/BtOnllSbmM8cK0Tr00EN0xQ9OLIvxenRpOvrBHeLYqmWRfX6H1jdppLpR9i4hjcQ80SHLmuNOPEm3+J002dLh5CnTMH6C6FV0SpvhN6npIMKxnL//+Qc22wUu48iJo4eIXXHcHHVG3bMFmi3LjDc3JDHjfDmO1Iztu+Ouu3WoAyeh9ObsZNE/t3WeONlqYOA76c9hhx8uhP5I9HvuBfwuNu+Ta2bCHluemfdr/r+H9BgK5zt5zHATJPFmiALzRrOeLVvw3n3/Xf0Oj5EKz0x7Uixtjt3QnNxJmzX5yk+cSS9+sOzibOw/pMI5S/LFq+0xzFxb1PSM5IgezN73XEeXpJXLkL3x1pti48frOHIuBG/8XrxsKU4/8wxwS+b2nbvI+XKpKCTjkUctP66t1wBp6RmazzoJnYljTYHvZxnGDUMYTn6n3MyG1wuKgvjmhx+0ZZkr7XC7T0L1m5EhNrRO8oX1mj5Mus+/tDYfuPXOu7Fy9Rr9NtmayfkP1Msll10Ob5xF+FknMxPPTz/jLPw2frzYXq5ux81dr/i+Tz4bXFYO8PswDSm0WZ9UzP6Qa/049EjsnatZjPrR5hDiOVvG94oueyqSiZ6dk4sG1zeUCNTC56JstmdZjehSm/n+eyECtaXGfkzZwHgmimXkdtOx7d9/AcuWLcOV9lZow6SmzloGdcCuYdNFxlY8ToQgmFneaS9m/diTjXRcSVp6Gr7+/jscIeSS42Xmz58v2rZ0OGu2FOCHHKyrGnwyeLBmFuz+bGSPe7zFLmDCgelQ02nxz/dbhJQfIoUwrTqvvDYAeXnWWreEefaLL7/AmWedretTcm1WXuUH+95HVlfEgQcfqq1OZ513rp4fJx/lOLt7Trss5YFNQnxutWfHs7bIiQ6cecvzhjfeiMX2Quw6yUTey+ETJK+8f+LJJ+l6kByrx3O2mDAdGX7aPMPJXwPn8Z6CM61Npj156hRdduTk005z7GVPkmfdT05J1WE3HIf4dJPGZeMKx/32C/Y74AAcLDXwG2+9FbeLHZ9yxukadxL0JcvMovXW+74b8gPqHF1X759x5pk474LzsR/Xf5Rz7uHMbn8TtuzsHLTraLWSkNhx/ciTTz1Fz9mNxxZukiWmA2HylZoCdWnyNO5tzuE3+x0gRFvyv+OOPwnHHHsCjj7mOJU6dY+V3+Px4YcWoWRcm0vBcfrpZ6BRo0ZlO/1wchhnbTPOtUVv5110kXbV81xnyKdttdLTJm1sfaNueJ8tRhdfcpnO/OZ5+w6dhGBlqTs+w4rGcy9aY1wP4DatF11YZsdsIWGLK8FWLurV2K9Jnz0B5/s4ppYzhrlqxolCTI859niV41W3x+vwJU668PqssYusPHEW8Wli09wudL1UFAkuwn6IfJ/sKqZuuT+6yQ+4solZloxpSfz62284+ZST9f6pZ56llYODDrZ0+uKLLzq6rqEtny/ZLeNcooitU6fI+3l+4kkn6ndGkCzTbvekLrcHEw52jV948YUa3nPOPx8PPPKITvg86FBrPdJu3btruU9s3LQRbTt20EYUTqjjmHuCPXZdulpbULJSfr7olK3DPL9AjrmHOmF6U2J8Xp2cxvsniZ4vvuwSLcd43kzSz0yGZhjZqjzovXf03v5iC1wd5SSxc54fc+xxGPOjtR40w+jMC2pSz85wsKx/wG4IOe3007W8Z77JzVl4rfEzz2hvhRl3y2W0Tpfv+Q6xUbO6ARs8zAoTXD7ywUcfwVXXXYtaQkb3P/hAraSysdDEmVuwcmw03R8lpPfiyy8TXma9j8SYu74Z8JmffxmnZFXDKGl7/iUXacWA5+07tC+b7GukxgkphQGRIzkGXnrZ2g/8ksv/h4SUFGwSA1q4dIkweKum/YAwbjb58jlnE776QQ/+A9BxTBJXrrHIyRr84NgVwRa/y6+4QvVEMjPa3kLN6GWcZIZcJ1ONQwrws+XD1UX15bxJ06bIsrdNNONTOSOX90hKz5FMli2jPOc4kaH2UAAzNojvcOp/b0oLhoX2we5MHpuWxU8+/UQK7dN1r12zeDKJgMkkX7IJay0pMD4Z/JkQIb2MTCnwX3vtdV1X8NAjj8QRdWsrceT++Hxe00fE7KS0TD7ie+65B7Xr1tGliurWPVrJlsfr0XBoqzTHAkqmyu9gytSpOimNBJbdcix8ODyDLTO0eYbPquFuq2PGsSZgiJN5P7fzZKvmTTffgoWL7SVViti1a1UE5kdG6m4i1C3dsQWQ8WZLD5dkOfHEE/UehQuqN5SCnnvSW2ALd7G2aFPXn0plia2HR0mmeLjo6qSTTsLLr75StnyJkndJC3lMJ++0bNUKJ5xwguqVwkqdGR7BOBiNmvzExG1Pgu82hJTCvaWvuPJKqRhdhksvv1xs7TJdIuxSqShddPGlQmou0uMv7eE17JJscINFPJkf6P73AsYjJjZGWyuPElvkt09Cf6+Q0UX2bjUaZ7Fb2hjzAc6y56oSRxxZW+Qo7XJu1aqNtlATzpY5vrd3v7663Az3CGdBxZaqH6TioDm8uOMQrD2tT0Lf7fg+PvvsM/zvf9Tp/yxdShz/d8VVOkb80ssuV6JIHXJlDUJXFmhQX3V65bXX6DJDBAnk+x+8L0TxVCnErcrQ/gcfhCvErg0ZpQ0yHfl+fr/sKuaanIcdVVuJL7/vfs8+i0zuSc48wBFWthZylzKOoaZbro1JQjCcM/XFHcfjape9pJfJt2oCzjRl2E1YvEIQL7/yf1pJ4c5I1A97mBo3aVJml8Tvf/yO+jdcr/dJBjn0hj7S29//+ANt27WVysLxorOjdAgIK6gkO/xiTX7AsojknMPYrrnuOrU/fuPcArZl61a6yQPh/KbZ8zVg4EBdVJ7pcYTomN/Ul199I36Wp4VJD54747qnEfp+DldgA9SBhxykumPLIyvcTz71lG6eo2GX+BI33WL1eOjkQ3sCH8FeqFvuuB0HCglVP5gGQiJfET7BOQzUl1VRsnTAjS6YVnWPO0Z0xqWxjsd999+nrbQE3fEZk4dxlj3LR6bHoZJ2rKB26dq1bOigc3JujRJSgoHQwNiRXbR4qTaVq+KkBvlk48Y432bk3E0gPmDVWFkjYrKYiPynYEc3IysDLwhpOubYY8oMicKWou++/071YjJD1ZWcs8BnK91+bHERt4cfdYR2K7G7j6ARUac0xHWSCbfr2B61JRNk8z3HoJ5x9llSq3xP3VqTKPYdQqrdoEJO2MpInWyU2iE3GMjMykFRqfUB0Z0hklwC5hIhANwEYPDnX1qFr22nROqCVB08zgH39ItgV30hZ8OK/yx86CczTNYEWbhznPSMGbPK9MP7ptVTnxEhuFICu+e/lcKLyxiZFgDeZ2ZPMX7UpK6dYWBc+MtaOTNDjkPi8iy8xtmzFBYgyQsWoFXb9jo058qrrhFC+pf6wfFPRFJyCjp16YJOnTtrVyiXLSLYpVNUbHWfaTrZuuIEBnYbcbKNP2ARCG3tFP3TjYZLahMmr/DFx+mYXs5ELdsnXO3Dum9++Sx/9zT4XlMA8JiiBFHixF/LpmjHck3cWMMM6I76L1F99OrbVwriE3HZFf/DVjuOfI7gsBGuRMCFySdNniz+WBUF6t+8k26NzXFSBLs6P//yC3jtsWDUitEvn6HNG3BGNCdT8vvJzLFbUUWMvzWhU4bAxM2krQk7JwQxriqqWzl3/BIbt2zWhb+5x339hjfoOH2C+ia4EDi3cW3dvj1ef/ONspUMWLHnO1RH8o2bSYokXNzxZsiw4fDbY0ypFiudrfTmMwwrJS4ugO+HDpc8YbQu00XQHckow8j31AS2l5YMH8GWvI8/+UQ3vuncrZvutc5wE8z7CC5N2O/557RXhYvRc6gU/eZ96oKIjfXiuyFDMHL0qDIyQ3uiXs2vCQ+7p7kazPdSGeKEG0K0qd+LSXujW4LDroZKXs5haGvWrdVrhEkHujfpaOA83lNgeFmGmTARmZmZ2n3PFmBOchsi+aDRGd1QLwS74c86+xzVMXviCDM2mss2MU9sJcT/uZde1B5SgmWe0RX94XupMTYKTpo8SfMEjtdlhYD3TVoYfen3Lu7/lDye+e0QyRM4npR5OdPQ+G3c7hUtpJqRSoDMkgUcx3NNgxuENNmsX4gQa4U/iDGaRJDoWt2cVJDtz38FOstTEo/IE0P4bdIkzSzZJE9jMrWfwnwxDpsQsCZNXRGxXo+Qynd1bCJrL2UzPumOxiRiDJpj/Mb8OBZvvf2OLoVhFnWmnyVCDujW6N6ZBntTemhYaV9iZ0WOD8bYElFUwsLI/oiFVBLr/voDz7/2Kk469TTMmWuNR+SkBXbHW91q5XEkidXr4id1x9ZO1bm8m7/MCJ1gN4jz46WYD57XTFoZGDfMoCnmfjjd72kwLEbHDGN5mHiPLRiMo0UmqY+tkvnF+OK0VapDxy46S17jLXo3Szc5oa1qtHkSBil4tSVEdK0teaKzUNAv6sjoluMnNRzid9CxvBehlQfxx8DEgWA8akKvDKt5LcNDe+KQEg55yM/P03OG0cSPlR0SWJ3spqS9CF4hhVdeW0+78VhgEXRLsYqUchTmi67URi0/+U4VCQSJDtOtHCyYWPhQv1beQre6XzbDY387BnxToTzPMNNdTeiTsNJS7MuOH39VZ/JrxcWyPbUvEZ1QRp3Y7nkcnxjAhZdeoltaMs9kYW7yyiKbmBrQXpmnFOvkNFY2rcoC8xiTzzjB4SWcbMeVD3RbYv5Rt7Rx8d8JXqefvM44sHeFy4TxmT0NZ3o6jy2dWeK8blAQzJcKgGWrLPv5jS5dtgINGt6EO+6+VypB6Vb8aZOaT5Z/o4R+A/r9W9+0trLJudUzJWkm505onkE38i7mDUZ/6o+EIRS0bbo3eTSF4akovnsKanP2N8a4OFsunaA7hpm2xsYWwp+QhMefaozLr74af0sFgOCzjGc40+HzzItoW1pZE10xj6ZOQkF/9L6tZ3NsdByqK/aWUe90Uy412GVvEpdCo+MvlxwwBfeCRYvx8aeDMXDgG7qsQ1nNXN1bmSXd8txcN8f/dmhmJ4nMhA8lOgZKkMQoqRO644evegvjXj9s4x/d2kalmUUYnZr7zGCt5vbyNNgbYWyDS1dpoemIo/kgi6Xw0IJDdGEIyqy5s3HmeefqcjVc99boz3qemaD1wTH+1INFCCwdcvaxtiCJe2YKvMYJD3y+KGjpjNecGZ7x33luvct+LuS6iZeRmoJ5v4kPf7UwZ+Ypx+acBQEzPs6y5nJNDRpcX7YzkmZgLIg1blJosKDhNYmv+kEbFb+1gJJzuuU1i6jymqSFvsd6p5UuVibJNFA3vCZ+O/01eq1IhzWhV8afBbAJn/VrSSh4r0z3Eq/CoNXi1LNvX1xw8cWItVuH1F5tv0z3rtqriOrAfpfqS44pqiO5ZqVdvgoLEVYueI2zpemOzxQIqWU4tCC0/aCf+i55t94Tv/hrZE+D+ZUlVliMrVq64bdl4sU8kjrltyZ6kTix4OdkrYsuuaSsa5L2WNYbQj3od27lI7zH75/PG5JLvZXrzy7g9XtmD4JljwwbdWYqB0q2JKz6Ldm2Trs34aeO9T0Mc81lARpu80vRsEs8GE61Iwknf1XUPtgzRDJluSVeHzgQ511wATxxcXquz4reqEPreX7vVh6pLdjql/gtvySi9JfnTC+1Q7luwmCE5+XpbvnB5/U9EiaWEbQDCsPIXz5D93sDlHTbOnbGgWEsG7YgojqQ+Oo9iQfxgfAoto4OHWFtzKCNJYwz3YidUX+sGPCb53Ms0/Qd1IMI7Yy6U13SHu37POcvw2DCYu7xnL+abrwm58yzaf+mImieo43XeJc9YZRrGYAlFUEjJ+6pUf5SGXouML//BZTrjBlm+cdiGYttJPaHbLmxDJTPGTH3jNEYwzK/ofesD31bd8avfQGh8WG4za+xO3OfwoljY0aP1m5doy/zy8xRdWLrwip8ynVu7pXdt4Xn+l6SeYcbpzseMxz8JZznzjAb2RvAMG0bTytcPLbCbOmYx/ydPm0aUlLMhCfrWWfGz2tGVKdGv/Rb/bevy7FeM27l2Hpf+bEhrduTvQ3lhbBlj+HSWeNmC+NLcmKWYeK6o1H2hA9zz+lfmb54T65pYWFf5++2x/wtF/NOYhu/Qp6jv+q3nBv3ewNMeJxhNnGyrlti3BAkpNOnT0dMTEzZNSXx8h2buDrjTiGM3Tv14HRr3Ic+R3c85jusZ8vt2vmMiv0c79c0GAYjznA6w67nxXLOnafEnow+Zs+Zo+PPCfMso8Rjp85C/dJKk6QD8w+KuW6eIfiMeV6fcR6XXbN+y67b51Y4rDjtDTDxZ7hMHE0YneEvE/1ui3X8+Pjx4217skg981BDCHkt1H+KVe5b587r5hmjGx47r4W63yYPl1/j3pzzmb2CkBImQkZCr/HYxY5BPVUkoeC1UP063Zv7odfCyb4AZ1xDw+zUAY/5kTjBc3Ofv3RjjisSA+exE6HunWL8J8w5f825Od6bYMLlDFuoXp2/BO+x1s1fkzGZ67srzucNeEy/K5K9CSbsJszOeFQEp3tm8gbOOIbz03m+s+JEuPtGnO91IvS8puAM6/YQet/Eib+EuV/RL2F0YcB7OyMG4e6Fyt6EcGFznrOlT1ikCs9JCp0ItZvQc+OPEec1J5zn5v6uijPd9gaEhs0cbw/b2J6jshWqVyLceTgJfTb0mnG3PQkNw15DSENhAujCxZ4Ca4qE+UgoLNyrwhbNB7izCHX7b/geGAeT+Rj9mtq5i6oD9Wu6Jc353mQ/e1NYdgRjq+aXcFZOt4dQNzsb74rc7ezzexIM0+6Ey+q2La/40w9txS8VXdvnTlQm7rsbxn0N24unuReaJ4RzH+5aRQh1uyvPhsNeTUgrGzkXLnYFpoXO2J45rgg7a5/GP6f8FxAurs5rRt8Erzl17yI8tqcbozvq0ejS+eti92D0ZyqnlKqqqO7rMPrYVV1oK538MQ8wujS2alDR8Y6wq2HZXeyp9+wsGB6nhMJcM8MaKnJnsKP71YG9ipAaBexpJezL2Nt0ta+mnbPANjYYWpsMxb4a1z0Fp37C6cpkivx1SmX1Gvreyvq3t8DEZXvxMQW80aNxG+6Z7fmzM9jR887376tg+KnPUNJkjncE43Z3Udnn9wR2N4zO7915vC9gd+NcHdiZsPA+8wb+Gl0TzuNQ7Iy/VY29toV0e6hISXtaefsyqsPYjJ/7ajqYsJuMMfS4JlBT760qGN2FxsN5jb/OAr+iDHJn4XyX8z37GkzYdyn84tQ5AUEvcawef0P82Vl/d+n9/0Iw/mW6lGMjOwOn2115bl/D7sTNqRfC5LUuqh7ME8zYUdUx/zFf2IG693R6uGNI/6MoM8wqhPFzb027nQlbaBzCuXfe313s7PMVvX9fQaiuQo9D71cFwr1jX4QJ+06Hn87oVn/Lj3em4Nke9lX9VRVM/MOlxa6ch3v+34RdiZtx69SJacFzwnl/d1CZZ8tAPxzeqJ+V8HZ7YQq9x3Mj1gXrh+A1Z+V9G3ehkMt0a4gpz5WgmuMwz/Kck80q8rPCd5WB9xlG9jRabs2x81kem/N9soXUhQsXLly4cOGiqlAh8RLSZtY8NufiuEL3BiSAZtiXaf2lOI+NGJhzJY8h7vQaCaUc01+KGU5izim8b+B8VtcSlftmDCmhftpLEBp35nmz1jsnmnEtU7oz/hm3FYH3uIwn1/Tlr7WMHcNqre9qnmd4zC+vuYTUhQsXLly4cOEiDEjPnKSJIAkkDDmrSMwz5pf+OO8bGDf017wrdAF/fcYmxyR1ZqtbEky9Lm7NewzMe+gnYfzjr3mP8xleM9d1fVueiwachNT4Zfw2zzph3Dnfw7V8zftMnJzv4zMuIXXhwoULFy5cuAiBIVuGOBmiRdlZ8BmKIV3Gz1AYYmbEPOMkbpabEmtbaiGK3DaW7sq2UJX7FflPv8x943foMcFffZft3izHZZ7Vew5/KgLvmZ2dzHPGPY/NO51+uYTUhQsXLly4cPGfhCFD4RBKmJzHJIo7At1xy2Qn+aMYOK9R6L/ZKMTcN886WxVJEHPz85CemWFtNVskxJWtmI7wGXH6w9bUcGs/m+f4SyHoxoSUv/oeRzwqQrj7hpjm5eWVx8EOD90af11C6sKFCxcuXLhwEQYkSqEEbldAsmUIHwmYOTekzBw7hSQ2LS1Nf/mcIbVK3ORvxaqVePDhhzBi9Ci972yJ3BE4NpTkMiMzE9m5uWXvJMzz5l3pGelYvHQJNm/dol32vEbQXVl4Kngn3WfnZCNLhP7zt3ef3njp5ZfKhiOYMJtfl5C6cOHChQsXLv61INnZGVFyZk8ccl4jIf3zzz+xaOFCLBRZtHgRFi9ejIVLFv1T5N4Ckd9//32b1sCdgSF448aNwz333INRo0bpdV5zErgPP/4IdY45GhMmTdT73Ce+lPdExIG6oRhsFXK7eMkSrFi5Urv7p8+cgTvvuguff/mF3mecjd/mOZ4P/mwwatetg6+++bosbJTQ+DifM9i4aRO69+yBp595But+/0Pv8/yMM8/E/9s777CsjnyPR0DAgqCADRsWEM0Vxa5ZRQGzSTSmaDTWbDZurhWNMXVj7HVjDCqKYkw0dsCa7CZ20VhiRGMBpFhQAUEFBSlqvne+v/MO+8aN2bv3uf+QZz46z3nPnDlz5hz/+TjlN6dOnSrrCbZPRkgNBoPBYDAY7NCCVlRcJOfDX/8TnnjiCTi5OMPRWaWKFeHwK6mCk5OUe+HFF5B/547UcffuXRw5egTfffedpF27dmHX7t0qqSN/q3Tt2jV5JtPMmTOljilTpsizCeshlzOuwNPbC31felHOueDo3xG1YoUIbJeuXXHz9i1ELFks9Y8aM1qus8dUSyGfTy5dvozQp3tJubhtWyVPD7GzTFZ2trxLQoKSS5X/KInJyWgV2BpV3arh+yNHJe+HH0/Cu2YtjB07Vs65KOsBE2VX1WmE1GAwGAwGQ/nGts5Ii5X+fenyJcRuiUPc1i3YosSKR55L2modN8dsRow6rlfHDSp9p0SxuKRYFvaUFBVLXYOGDhE5c6teA951fVC7Xn3UqVsPtev4yJGprk991K7tg+o1PDHizb/IkDU5c+YMGvo2kvsfl1avXi1l75fex+w5syXv3fffE5m9V3RPrpEFCz+Fe3UPRC5bKufFJSVKmotxNSsT6VcuI+P6dWRcyxBxzb11U8pErlgOl6pu6NChE27dzkNE5FKpf1z4OLlefN96R/tvd+DQYVT1cIdfywCcPntG8vTUALI5NlbqeObZ3si9aT1H30vOJSchsG0beKi2Hj1uCWnenXy069ABLZ9shYyrV0VEy3qR1dEIqcFgMBgMhnKNjg8qv+3EakV0NBydHOHs6mIlF2e73y6o6FwRFdXvylWrSK+ni6srnnnuWZk/yfBKD5QgkleHDBYBGzl2LPYeOKiE7RAOHGSKx8H4Q3YpHnv3HUBSygVrNbySrasZGRg5aiQ6duqIbj17IKRXGLqrY/fQENSnqFaogJjYGHkOy8+fP1/y2rQNwquDBuHzVZ+LDHIhU7sO7dHUrxmybmSLiPI9D+zfj5df6Y8eIT3x9DN/RJiqP0TVPXL0KOTk5iL6yy9FSDt17qLk8TYWLVsm7zJm7Bh5ZnGpJaSE9XEKQPSqVVJm/KSJZT2oXDzF+axkx9dfq+sV0H/gIOTl5Use266/O4U0qF1bVPesge+PHpG8IiX5CyM+g4OjE6bNmCF594qLyqTUCKnBYDAYDIbyjfioJaJMeiHSF0rG3D3cRYz+JdWwHb085ejmXk0kLFQJ3U32Lqo6S5UIEi2kz/Xti+mz52DG7NmYMXOWpJmzrN88Tps+E1Onz8C+A/vlPooWZfLa9Wu4kJoiopqSnobUtFSkpqdj0PBhUu+GjRukPHsN582fp4T0n72ngwYPkhXqu/buQQ1vLwQrmSV3CwrkuHbdWlRxq1pWXie/5v5ITU3DqjVr4FylKjp27KzeKw+Lo6LkepmQKlEkem5oTm4OBigRZpmly6Mkj8P1/B76u37z93+oNjqgf/+BuH07T/L0tyeJSkgp1B41quPIsWOSR84nJSnxd0ZwSAgyb2RJrFPWyaMRUoPBYDAYDOUbipD6q6VK99Zxcc2B+IM4eCi+LPFcp33792Pv/n0yx/PN0SPxhEMF9AwNwa2821JfsW3Ifuhrr/1C9v5d+u9RI+U+Pe/ycUx4Z5KUX7dunZyz7Jy5cySvy1NdMVpJ49q1X0k9H0z+CK6VKynhnSbvKZKo2LBpI7xqesOnfj2s27BeFi1t27EDhw8flh7NpStWoLK7B9rLkP3tMiEdN842ZF9q9bTqb8fFTw19fdGgYSP5RoTSqHRTfpPtO3eKkL74cn9ZNEX4zZlI8oVk6SGlkB774QfJ4zOuZGSgsX9zeKj/BGyMs3qF2ZPMmKpGSA0Gg8FgMJRr7Lf01DLK9J/wyWcL4VLJFa+PeEMEiaGLSmxD1HoO6YBBg7E+JhZfrd+A1WvWSlrz1bqy4xdfrsGXq9fg5KkEqw7VFq7QDx8/XobUe4aFSg9sr2f+iJCnw6whe1Xv+vXr5Tlk6tSpksc5pJREpoKCAjzbp7f04lKq+W7seSWbYjfDUwlpk2ZNkW+bt2rPoqVLRUg7duqCvPw7SlCjpf6x46zFRSKk8sti5zdfw8HBAUOHvybP0L2jMqfW9szNcXGo4OiETl264kJKiuSxTVpqky9cQFDbIOmdPnrMmkOqCsjw/ivqG/L5c+bNk2xZ3PTAzCE1GAwGg8FQ3qF8ipP+c6U4j5wPydib/E2x0vMVWY6/mTgsz7yZc2bDWQnpKCVq90qKREiL7lmr7AfahuyH/ul1bN66DXHbdyAmZgs2x8QhNm4rYmK3IG7LNnW+BRs2bsaJkz9Kzx9JTExE6zat5f5/SY4OcHJyUjK7RsryHWbNmiXX3np7oiwYKigsREZGBloEtoJ7DQ8kJSfJ+3JOJ9kUGyND+c38/ZCVc0Pezb4HdVl0tLWoqWNn3Lqdj2UrV0r9Y8ZYQ/aFRYVy5H2lSqInT/lYrn88bbrk8xvJt9UhsdSfTxZ+KvNc/QJayEp7QlnV357xS1sHtYGnpyeOHz8ueWwT719mE+K335lk1afSfdVWI6QGg8FgMBjKN0qY5GATHCYiIvrA2gteY/+bsAyldcz4cDhVrIhZc+eUhVPSQ/ZcNCQCyeRUUVLlylVlRX0ldazg4KiSk5I0RynTp+/zspMSoZBy+Lqii7OSsHcwbcZ0GXafPmumlWbOwLlz56QspW3ePGsOaf2GDdCkaRNMU2VPnT6NBo0bob5vQ6SlpVllbUK6OS5WhNS3SWMlsLmSp6WbRC5fLj2kvo2bYvGSpRg4dKi0UfeQFtmG7PknMysLwT2C4entjZ3ffCPXZVtSijzFVME5px9PmyZ1eHrVxIEDBySfu0VpCU5KviBzSCmkx2xzSLmSnnzN+afq3lcHD0JurtVePt8IqcFgMBgMht8tlLw7d+4gPj4e8QcPSq9ncVGR9Nzt3bsX1zOzpNygIUOUkDpi5cqVck5Jun/fEqzp06ejV69eKoUhJCQEPXr0QIMGDeDo6AifevXQo2dPhIaGisz1VL/Z+8cwRyQxKQmtWgfKfErGJn0cbGdxaQnmzp+n5LYCqlStAgdV/4hRI3Ho6BE0bNRQeh2zb2RLeem5VGyOjZH4nhTO7OwbksftRbWQLl62DG5KnCnMjk7OcHBxESEcP2G8XOe0BMroA5VOnzuLqtXc0L5De1zLvC7XHzzgkD2nDljfIj//Dv78xgipg2nbju2ST1FljzRJTOKQfXt4VK+Bo8dtQqrej+zavUfu48KmC2mpkmeE1GAwGAwGw++ec+fPo07duiKPnNN57fp1dOrcCRWdnZVQ7ZQyIWFhcHJ2QlxcnJyz1/S3mPj2RBGr9z5435bz65xnTE4lki6uLli/aaOEhtq9ezd27NyBjep806ZN+HL1aqsn9KfTmDNvrtT7Ur+XsWjJYsR/fxgJKt+nng/atmuLGzmWdOrh8ZjYWHgpIW3azB+ZWZasEi2kHLJnD6lb1WpoHtAS3nXqSP1jbYuaiu7dk3elxG7eEifXBg0ZLPFPrVXwpXioZPRnJaUkLe0iuj7VTcoxzZozW6IAcMheP5M9pBRS9+rVy4RUt3ffgYNKjCsiqH17eS/Ca0ZIDQaDwWAw/C6hIFF2GHLJv7m/pKvXr0kK7hkM71q1sG3711L2D927yyp29pqS0vsPlDT+HVOnzcCCTz/DvPmfSFqwMAKz58xDcGiICBljis5WEjl/wSeY+7f5mD1/Huap3zPmzsG++IM4k3gegW2DpGxV92oSYopbcmqhs08M1K+FlEP5moTTp1DHp67EMs3JyZE83ePIHlJPL28RUh2kniKpBXAxFzVVc0fr1kHYs3cfPvx4itSvhVSLJOOcDh42VGK1cntScl89g0Kqe0nJ/v3x8FCiWcHJEY7OFeHfIgCpqVZP50PbNAJZ1BTUDu4eHjhqG7LX7fn+yBE4VXRGYJugMiE1YZ8MBoPBYDD8LqBUPZoIe/+SLiTLoh8Glb+elSlxQbv+4Sl41ayppPMblJbeR5ugIOmF5F7r5EZOLp7v+8IvhPE/TQMHD8KF9DS82L8ffBrUR72GDdDAtxGat2whAvxU927o0SsMA1Q5zmFNVO2coUSU906c9La0g3MzTyT8iDp166B9xw64qaST76YFL4ZzSJWQNmnqh+wbNlm1G7KPjIpCFXcPdOrUBYX3irHiyy+k/nHh4XK9qKhIFmDl372LuqqN3FWKK/mJnhZAIWViIPuPJltC22/gAJHyCg4O+EQJOAVZ9tNXyBzSNkpI7XpIdV2UYt7ftkMHnDrzk+TxXiOkBoPBYDAYyjVa0Cg2OulzkpxyAc2UjDZvESBCyh7S7sHd4e5RHbt271USegY1a9UUaeWQPikoKMSs2XPx3HN90PeFl9C7T185vvjiy+ijRLX/K/0xeOgQ9FPH3n36yEIm7mH/vDo+/0JfPNent2z1WXCvEBdSU3FEidnxH0/gmEqJqj1XVBsuq2dxu8+b+XkotAWoj1qxHI2bNkXEogg5JwmnElBbCSnbn5mZKe+mhZO7PHHIvnETJaRKoimNBffuyTA6YRxSBsbn1qHsQV24ZIkIod5TnuVY1w+qXdzBKiQsVHpLifUNGZbJGrK/fOUKPL284ObhIVusfhYRIXX5NvHFiRMn5B6SaBNS9qQes62y10LK7817ej/fFxnXrkken2OE1GAwGAwGQ7nmcUKqU1JSEpo1awY/Pz9cUxJEsQoODoanpxe+27UHGVevy1xIBplnXEzewzoZ9P3KlQzk5t6UnknK6tWr15CQkIDPv1iFFSuj5Z5ziedlf/YrVzMkGP8NlTKV+Obl5ZWJoybn1k0s+PRTPNu7N7opKX6qWzd06tJZ4pOO4dak+/chMSkRt+wCzqekpKCJktRadWrLKnvKHfNJTJy1qKl+A195j4LCAtlHn/dzOJ5C6urmhnbtOkhg/LKtQ3XYp0Ir7NO48eNlY4AxttX3ehelhw8tkbx1K1e2JuW9g4cPl6D7fD/uHMU8inhmtrVALPlCigzZ2wupbm9c3FYpP2TYcGsDAgUXVRkhNRgMBoPBUO7RUqpl0p4rSkADAgLg7++PvPx83FZiFhYWJkK6/+AhW6nfhhI6YsQIkdq6devC3d1dkqeXJ+rVr4fAwECEh4fj/PnztjssCdOJbN++QwLYU8iY2CPJ+aSuVSqLDDLPu1ZNTHr3HYkMoMnOykK79krwalSXEFHWvE6r95dD9hRSrqB/8r8CpReV8lqzZk2EhYZi4rvvom7DhmjfviNylFgviVouzxk9erTczyF7fi1GAqhczQ3Rqz6XfArpgwds+33k3szBsNescFE+jXzx7Z49UoZwcZZ3TW+5xnitOUrcU9PSbXNI/zlkT9jm6TNnS9mPpkyxvg1X+Kt8I6QGg8FgMBjKNQ8fslf0vsydZEB7DltzWD41LQ0XL13C8ZMJ8GsegGYqnU1KRsLZswgOCUV1T2+s27gJly5fxqWMDKSrY0r6RSQrocrMzi5b8MPeUM4BpUhRCrmQJ7BdEJq3ehJt2rVV9fqjctUqcr15QHPs2r3P1q6HKC62wiV9f+QY6jVoKGXade6IMRPGI2rFCmz/ZifWbtqAyTOmoe/L/VCVC56UnE56Z5I8n5TcL0b/V19FFbdqsvCJw+elpdY1BuWvWbuOzOV84okKsle8S+UqcHF1xR+f7Y33Jk9GbZ966GgbsufOTWyDXtTEOKMpaamoo6S6QWNfXM28jocMgv+Q/ZZA7q3csp2qGEv1s0URMi+XsVpFJtX3fv/DD+S6S+VKiD90CGkXL6JNUBvpIT1i26mJ3yJLfdOQZ56VsgsjFpXlsyfWCKnBYDAYDIZyjRZSDreTtIvpMoezQaNGaOYfgMZ+/nCt6gbXKm7wbeaHxs38lfhVh6OzqxLNRvALaCm7DjVr3gJN/JqjoW8ThE94S+o6dfoUWjzZUiSq/8AB0iN5NvG8Etd0pKjnpKSn4qczZ7B+wwZ07xEs5Xr0DEVOzi0ljuwVtHprBwwcJNc6de2CyxlXJO9RSpUELllmCWOr1q1kKoDFz5i/YAGclWj+5b/fFGGkyLHm1LSL+Nsnn+Kvf/0YU6dOx9KlUVi7br1qzyb89NMZRC5fgUrcqUnvZW+rXwfGJ5yuwF2qeoSGSG8lNwR4UMq5ow9wt7AAw14bLnNH3//gAynP1fcU0QdKSQnLcP9+vYc/5+wyZqrsZW8bsicUf8/atdU39sPhw99LHp/BgPpGSA0Gg8FgMJRrflZyRGnTC2cocv4BzUW8dHJwdPrFOVNFCRJvDZU/ml55ZYDUFb0yWoLFV1Ep/dJFyXscXM3v4OiARo18cebcORFSPXsg7Omnpd7Bg4dYGQq9Kt2elNQU2ZaTEQGO/qCHu39WEpyIOj4+6Nyls+RwDqeEZVJy+lssUgJaqZq7betQJaRRlpByviqh2Pbr3192h1q8NLIsj9t5Mtg9ybqRLSJ+t6BAzrnyn89mbzSH9q081RYdGD852dqpydvrF0K6/8ABefbw19+Qc8oon2WG7A0Gg8FgMJR72ENKKaXckJu3b2H9xg1YGBGBJZGRWLxkCSIWL5JA84sWL5ZhZ55LWrIIiyOXyIrxhRGfYVHkYll0tGv3bqlr7759qNewPhycnPDh5I+kd1PvSMTtO/nMouIikdUPP/qryCR7VNMvpUsZPbQ+bkK4XOOOS9u3b0fhvUKUqGta6O4VFeHHkwn4y8g3Rdo6KvFkT6/Fz9IXydX79erXx+mfzshzuff8Q4qgbU7po3NnyUL1zo6uldAqsI3M74xYFin1jx1v7dREiaY8cspBxrWrVpB8XZf6S+m0h/kczte/2Q6Ktf2zGb6K26Wyh/TwEasntEjJ7YSJE+Hh5Y3VX62VvFJOSVD3mSF7g8FgMBgMvwMsiWLi8O+vidn/BdbDsEjvvveeCClFrstTXTFs+DDZejNcJe7YNPy14ejctYtc545Ms+fOEUlleyhbnAualJwsw9gs4+5ZAy/174eR4WMxXt0fPvEtmacZ0MKaGlBdiVzU8iiRPUuyOTz/M/7+7T9QqXIVTHjLilFaot5V6ldHq5zVu2l/XL1uHTxr1kJY2NO4nZenBNwK+zRq1Cjr+to1Io5sG1e9a0EW8ZRfVl1M+n2I/t5EytoSOXf+HAJbB8qCrfjD1qKx7JwbeLJVK/X9/oCCggL5d2IgfU4/YD1GSA0Gg8FgMJRzHkpvG2WJQ9kUHPYeFherPBEeK0wSr4tYqaMWKuZJeSVIFEcZCld5PGc+y3OoOyp6RZl0Pi5xa88lSyNx9+5daRXbxPpYF/kx4ST+POIN1PDy/NX7OX2gqxLer9atla07CdvEHlBK9x1Vb7v2HdG1W7CSyzuqbUrEbe1nOymEPBIth5k3buBA/GGcOnla2rIo0hLScNuiprFKqnnOHaIKbTFJWYe1naglmXqRE9HX7J/Ho04kNSUVQUFBsivV8RM/SN7W7duU+NaQ3a5IaYlqd4klpepGI6QGg8FgMBjKOz/jvhI3LZbS+/aQkmYJ0qPCpI/kUaFiHVrw9DxNwjsuXbmMXXt2Y8u2rVi+aiU+nj4NUSujsUXJFuOHcotSXTPvo0zquvT8SsYH5bxK1sF5mTNmzcTSZcuwdetW7N6z9xfzVLUUW4HplUyr9sVu2QY3t2pYHr3SKlOiBFxJKdtu/y5EHzX3lQAyXur2nTtw/uw5Cfn0weSP0LFzJ5xPSrTaqeuy1SN1sBqVKKZEPUWOUu6R78dz9iofPnwYe/buQf7dOyguLcErAwcgoGULXLqcYd2jksio+jei7BohNRgMBoPBUK7RIqRlUictS/9bWF4n+zrZ22pfC39zaJvixeHyX1zT9z1Sj04a6ZlV55RCqxfUGgon9vfw+bxGOWY+e0k3bdokUsvrnDury/PIZI91zfoecp1/WEb95T35+fnIvZlbdv/j6hF+Le/fQKnmd/r2229x7NgxqVf/+9g/wwipwWAwGAyGco0WKMqUffpVqfoN7OvQ9/J3mczZrvNco8vrpMs9LhEetZTZn+u6H61H5+uhf8IeRl1Wzu3KPwrL6HI8lvWCqt+6vD7//4B1Pdo2Srf+rZ/LZAH8D3jups0CzhvxAAAAAElFTkSuQmCC)"
   ]
  },
  {
   "cell_type": "markdown",
   "metadata": {
    "id": "tG9QB_fUXKtM"
   },
   "source": [
    "위의 도표에서 보다시피 교통량이 증가하다가 도로의 최대 수용 교통량에 다다랐을 때 속도가 급감하면서 교통량이 다시 줄어드는 구간을 확인할 수 있다. 이 지점을 '임계 교통량'이라 명명하고 이것을 바탕으로 우리가 확인하고자 하는 지점들의 임계 교통량을 조사하였다."
   ]
  },
  {
   "cell_type": "markdown",
   "metadata": {
    "id": "VBRZ99heWMSZ"
   },
   "source": [
    "### 3-2) 차선 확대에 따른 임계속도 예측 "
   ]
  },
  {
   "cell_type": "markdown",
   "metadata": {
    "id": "WexLYCDMWMSZ"
   },
   "source": [
    "### (1) RandomForest 모델 구축"
   ]
  },
  {
   "cell_type": "code",
   "execution_count": null,
   "metadata": {
    "colab": {
     "base_uri": "https://localhost:8080/"
    },
    "executionInfo": {
     "elapsed": 497,
     "status": "ok",
     "timestamp": 1630399707044,
     "user": {
      "displayName": "Foshe 0402",
      "photoUrl": "https://lh3.googleusercontent.com/a-/AOh14GgajKr8Hw9h3vJC2ivv8lu8-6KtcBNS4fiPGhMw=s64",
      "userId": "12082443723334275296"
     },
     "user_tz": -540
    },
    "id": "OpDQVgypWMSZ",
    "outputId": "1a35d111-bcf0-4e1f-eefe-28b6fbafd9f2"
   },
   "outputs": [],
   "source": [
    "# 구글 코랩을 사용하였으므로 관련 모듈을 import 시켜준다.\n",
    "from google.colab import drive\n",
    "drive.mount('/content/gdrive')"
   ]
  },
  {
   "cell_type": "code",
   "execution_count": null,
   "metadata": {
    "executionInfo": {
     "elapsed": 1121,
     "status": "ok",
     "timestamp": 1630399708162,
     "user": {
      "displayName": "Foshe 0402",
      "photoUrl": "https://lh3.googleusercontent.com/a-/AOh14GgajKr8Hw9h3vJC2ivv8lu8-6KtcBNS4fiPGhMw=s64",
      "userId": "12082443723334275296"
     },
     "user_tz": -540
    },
    "id": "ZT6gkUpgXept"
   },
   "outputs": [],
   "source": [
    "#기타 필요한 모듈을 import 시켜준다.\n",
    "import pandas as pd\n",
    "import matplotlib.pyplot as plt\n",
    "import matplotlib\n",
    "from sklearn.tree import export_graphviz\n",
    "import graphviz\n",
    "\n",
    "from sklearn.model_selection import train_test_split\n",
    "from sklearn.ensemble import RandomForestRegressor\n",
    "from sklearn.ensemble import RandomForestClassifier\n",
    "from sklearn.metrics import confusion_matrix\n",
    "from sklearn.model_selection import GridSearchCV"
   ]
  },
  {
   "cell_type": "code",
   "execution_count": null,
   "metadata": {
    "executionInfo": {
     "elapsed": 299,
     "status": "ok",
     "timestamp": 1630399709520,
     "user": {
      "displayName": "Foshe 0402",
      "photoUrl": "https://lh3.googleusercontent.com/a-/AOh14GgajKr8Hw9h3vJC2ivv8lu8-6KtcBNS4fiPGhMw=s64",
      "userId": "12082443723334275296"
     },
     "user_tz": -540
    },
    "id": "I29OsaPuXeu2"
   },
   "outputs": [],
   "source": [
    "#원본 학습데이터, 차선 +1이 됐을 때 예측할 데이터, 차선-1이 됐을 때 예측할 데이터 총 3개를 준비한다.\n",
    "df1 = pd.read_csv('/content/gdrive/MyDrive/bigdata_contest/test.csv', engine='python', encoding = 'euc-kr')\n",
    "df2 = pd.read_csv('/content/gdrive/MyDrive/bigdata_contest/test.csv', engine='python', encoding = 'euc-kr')\n",
    "df3 = pd.read_csv('/content/gdrive/MyDrive/bigdata_contest/test.csv', engine='python', encoding = 'euc-kr')"
   ]
  },
  {
   "cell_type": "code",
   "execution_count": null,
   "metadata": {
    "executionInfo": {
     "elapsed": 2,
     "status": "ok",
     "timestamp": 1630399710904,
     "user": {
      "displayName": "Foshe 0402",
      "photoUrl": "https://lh3.googleusercontent.com/a-/AOh14GgajKr8Hw9h3vJC2ivv8lu8-6KtcBNS4fiPGhMw=s64",
      "userId": "12082443723334275296"
     },
     "user_tz": -540
    },
    "id": "V2CmX0hxXeyO"
   },
   "outputs": [],
   "source": [
    "#예측을 위해 차선+1,-1 데이터를 준비\n",
    "df2['LANES'] = df2['LANES']+1\n",
    "df3['LANES'] = df3['LANES']-1"
   ]
  },
  {
   "cell_type": "code",
   "execution_count": null,
   "metadata": {
    "executionInfo": {
     "elapsed": 2,
     "status": "ok",
     "timestamp": 1630399711316,
     "user": {
      "displayName": "Foshe 0402",
      "photoUrl": "https://lh3.googleusercontent.com/a-/AOh14GgajKr8Hw9h3vJC2ivv8lu8-6KtcBNS4fiPGhMw=s64",
      "userId": "12082443723334275296"
     },
     "user_tz": -540
    },
    "id": "JBv5pzKrXe1g"
   },
   "outputs": [],
   "source": [
    "#불필요한 변수 제거\n",
    "df1 = df1.drop('STREET', axis=1)\n",
    "df2 = df2.drop('STREET', axis=1)\n",
    "df3 = df3.drop('STREET', axis=1)\n",
    "\n",
    "df1 = df1.drop('POINT', axis=1)\n",
    "df2 = df2.drop('POINT', axis=1)\n",
    "df3 = df3.drop('POINT', axis=1)\n",
    "\n",
    "df1 = df1.drop('LONG', axis=1)\n",
    "df2 = df2.drop('LONG', axis=1)\n",
    "df3 = df3.drop('LONG', axis=1)\n",
    "\n",
    "df1 = df1.drop('MAX_SPD', axis=1)\n",
    "df2 = df2.drop('MAX_SPD', axis=1)\n",
    "df3 = df3.drop('MAX_SPD', axis=1)"
   ]
  },
  {
   "cell_type": "code",
   "execution_count": null,
   "metadata": {
    "executionInfo": {
     "elapsed": 300,
     "status": "ok",
     "timestamp": 1630399713821,
     "user": {
      "displayName": "Foshe 0402",
      "photoUrl": "https://lh3.googleusercontent.com/a-/AOh14GgajKr8Hw9h3vJC2ivv8lu8-6KtcBNS4fiPGhMw=s64",
      "userId": "12082443723334275296"
     },
     "user_tz": -540
    },
    "id": "fZPmN_MgXe4t"
   },
   "outputs": [],
   "source": [
    "#train data와 test data를 나눠준다.\n",
    "df_raw_y = df1['임계 교통량']\n",
    "df_raw_x = df1.drop(\"임계 교통량\",axis=1,inplace=False)\n",
    "df_train_x,df_test_x,df_train_y,df_test_y = train_test_split(df_raw_x,\n",
    "                                                             df_raw_y,test_size=0.3,\n",
    "                                                             random_state=1234)"
   ]
  },
  {
   "cell_type": "code",
   "execution_count": null,
   "metadata": {
    "executionInfo": {
     "elapsed": 3,
     "status": "ok",
     "timestamp": 1630399715100,
     "user": {
      "displayName": "Foshe 0402",
      "photoUrl": "https://lh3.googleusercontent.com/a-/AOh14GgajKr8Hw9h3vJC2ivv8lu8-6KtcBNS4fiPGhMw=s64",
      "userId": "12082443723334275296"
     },
     "user_tz": -540
    },
    "id": "MJWMEFMxXe74"
   },
   "outputs": [],
   "source": [
    "#df1에서 원래 lane 수를 학습시키고 df2에서 lane+1, -1 데이터로 임계 교통량을 예측한다.\n",
    "df_test_x2 = df2.drop(\"임계 교통량\",axis=1,inplace=False)\n",
    "df_test_x3 = df3.drop(\"임계 교통량\",axis=1,inplace=False)"
   ]
  },
  {
   "cell_type": "code",
   "execution_count": null,
   "metadata": {
    "executionInfo": {
     "elapsed": 794,
     "status": "ok",
     "timestamp": 1630399716214,
     "user": {
      "displayName": "Foshe 0402",
      "photoUrl": "https://lh3.googleusercontent.com/a-/AOh14GgajKr8Hw9h3vJC2ivv8lu8-6KtcBNS4fiPGhMw=s64",
      "userId": "12082443723334275296"
     },
     "user_tz": -540
    },
    "id": "BWS6oPg2Xe_A"
   },
   "outputs": [],
   "source": [
    "#모델 파라미터 조정, n_estimators 트리 수 변경에 따른 모델 성능\n",
    "#train 및 test 설명력 결과 저장\n",
    "train_score = []; test_score = []\n",
    "#n_estimatos : 트리 수 변경 : 1~100\n",
    "para_n_tree = [n_tree * 1 for n_tree in range(1, 400, 100)]\n",
    "\n",
    "for v_n_estimators in para_n_tree :\n",
    "    rf = RandomForestRegressor(n_estimators = v_n_estimators, random_state = 1234)\n",
    "    rf.fit(df_train_x, df_train_y)\n",
    "    train_score.append(rf.score(df_train_x, df_train_y))\n",
    "    test_score.append(rf.score(df_test_x, df_test_y))\n",
    "\n",
    "#결과 저장\n",
    "df_score_n = pd.DataFrame()\n",
    "df_score_n['n_estimators']=para_n_tree\n",
    "df_score_n['TrainScore']=train_score\n",
    "df_score_n['TestScore']=test_score"
   ]
  },
  {
   "cell_type": "code",
   "execution_count": null,
   "metadata": {
    "colab": {
     "base_uri": "https://localhost:8080/",
     "height": 171
    },
    "executionInfo": {
     "elapsed": 13,
     "status": "ok",
     "timestamp": 1630399716572,
     "user": {
      "displayName": "Foshe 0402",
      "photoUrl": "https://lh3.googleusercontent.com/a-/AOh14GgajKr8Hw9h3vJC2ivv8lu8-6KtcBNS4fiPGhMw=s64",
      "userId": "12082443723334275296"
     },
     "user_tz": -540
    },
    "id": "mw--nCVSXfCU",
    "outputId": "04a93a60-6fbf-48b9-d9ba-793b053e9f99"
   },
   "outputs": [],
   "source": [
    "#모델 설명력 확인\n",
    "df_score_n.round(3)"
   ]
  },
  {
   "cell_type": "code",
   "execution_count": null,
   "metadata": {
    "colab": {
     "base_uri": "https://localhost:8080/",
     "height": 300
    },
    "executionInfo": {
     "elapsed": 606,
     "status": "ok",
     "timestamp": 1630399717939,
     "user": {
      "displayName": "Foshe 0402",
      "photoUrl": "https://lh3.googleusercontent.com/a-/AOh14GgajKr8Hw9h3vJC2ivv8lu8-6KtcBNS4fiPGhMw=s64",
      "userId": "12082443723334275296"
     },
     "user_tz": -540
    },
    "id": "d1fD56srXfGB",
    "outputId": "d564abe3-8604-4b00-8c21-28e772d59c94"
   },
   "outputs": [],
   "source": [
    "plt.plot(para_n_tree, train_score, linestyle='-', label = 'Train Score')\n",
    "plt.plot(para_n_tree, test_score, linestyle='-', label = 'Test Score')\n",
    "plt.ylabel('score'); plt.xlabel('n_estimators')\n",
    "plt.legend"
   ]
  },
  {
   "cell_type": "code",
   "execution_count": null,
   "metadata": {
    "executionInfo": {
     "elapsed": 1469,
     "status": "ok",
     "timestamp": 1630399720082,
     "user": {
      "displayName": "Foshe 0402",
      "photoUrl": "https://lh3.googleusercontent.com/a-/AOh14GgajKr8Hw9h3vJC2ivv8lu8-6KtcBNS4fiPGhMw=s64",
      "userId": "12082443723334275296"
     },
     "user_tz": -540
    },
    "id": "4QMckFhgXlcR"
   },
   "outputs": [],
   "source": [
    "#모델 파라미터 조정, 잎사귀 노드 수\n",
    "#train 및 test 설명력 결과 저장\n",
    "train_score = []; test_score = []\n",
    "#n_estimatos : 트리 수 변경 : 1~100\n",
    "#para_n_tree = [n_tree * 10 for n_tree in range(1, 11)]\n",
    "#min_samples_leaf : 잎사귀 최소 자료 수\n",
    "para_leaf=[n_leaf * 1 for n_leaf in range(1, 110, 10)]\n",
    "\n",
    "for v_min_samples_leaf in para_leaf :\n",
    "    rf = RandomForestRegressor(n_estimators = 100, random_state = 1234,\n",
    "                              min_samples_leaf=v_min_samples_leaf)\n",
    "    rf.fit(df_train_x, df_train_y)\n",
    "    train_score.append(rf.score(df_train_x, df_train_y))\n",
    "    test_score.append(rf.score(df_test_x, df_test_y))\n",
    "\n",
    "#결과 저장\n",
    "df_score_leaf = pd.DataFrame()\n",
    "df_score_leaf['min_samples_leaf']=para_leaf\n",
    "df_score_leaf['TrainScore']=train_score\n",
    "df_score_leaf['TestScore']=test_score"
   ]
  },
  {
   "cell_type": "code",
   "execution_count": null,
   "metadata": {
    "colab": {
     "base_uri": "https://localhost:8080/",
     "height": 387
    },
    "executionInfo": {
     "elapsed": 5,
     "status": "ok",
     "timestamp": 1630399720867,
     "user": {
      "displayName": "Foshe 0402",
      "photoUrl": "https://lh3.googleusercontent.com/a-/AOh14GgajKr8Hw9h3vJC2ivv8lu8-6KtcBNS4fiPGhMw=s64",
      "userId": "12082443723334275296"
     },
     "user_tz": -540
    },
    "id": "kjpYu9MpXlfy",
    "outputId": "6d8fd830-1783-43b9-d609-0e70d4f99d5f"
   },
   "outputs": [],
   "source": [
    "#모델 설명력 확인\n",
    "df_score_leaf.round(3)"
   ]
  },
  {
   "cell_type": "code",
   "execution_count": null,
   "metadata": {
    "colab": {
     "base_uri": "https://localhost:8080/",
     "height": 297
    },
    "executionInfo": {
     "elapsed": 613,
     "status": "ok",
     "timestamp": 1630399721866,
     "user": {
      "displayName": "Foshe 0402",
      "photoUrl": "https://lh3.googleusercontent.com/a-/AOh14GgajKr8Hw9h3vJC2ivv8lu8-6KtcBNS4fiPGhMw=s64",
      "userId": "12082443723334275296"
     },
     "user_tz": -540
    },
    "id": "EBV33pVKXljI",
    "outputId": "142769ac-43d0-4344-dd1e-5f3b0e8f78d6"
   },
   "outputs": [],
   "source": [
    "plt.plot(para_leaf, train_score, linestyle='-', label = 'Train Score')\n",
    "plt.plot(para_leaf, test_score, linestyle='-', label = 'Test Score')\n",
    "plt.ylabel('score'); plt.xlabel('min_samples_leaf')\n",
    "plt.legend"
   ]
  },
  {
   "cell_type": "code",
   "execution_count": null,
   "metadata": {
    "executionInfo": {
     "elapsed": 1412,
     "status": "ok",
     "timestamp": 1630399723577,
     "user": {
      "displayName": "Foshe 0402",
      "photoUrl": "https://lh3.googleusercontent.com/a-/AOh14GgajKr8Hw9h3vJC2ivv8lu8-6KtcBNS4fiPGhMw=s64",
      "userId": "12082443723334275296"
     },
     "user_tz": -540
    },
    "id": "wpXrMf_HXlmm"
   },
   "outputs": [],
   "source": [
    "#모델 파라미터 조정, 깊이 수치\n",
    "#train 및 test 설명력 결과 저장\n",
    "train_score = []; test_score = []\n",
    "#n_estimatos : 트리 수 변경 : 1~100\n",
    "#para_n_tree = [n_tree * 10 for n_tree in range(1, 11)]\n",
    "#min_samples_leaf : 잎사귀 최소 자료 수\n",
    "para_depth=[depth for depth in range(1, 11)]\n",
    "\n",
    "for v_max_depth in para_depth :\n",
    "    rf = RandomForestRegressor(n_estimators = 100, random_state = 1234,\n",
    "                               min_samples_leaf=1,\n",
    "                              max_depth = v_max_depth)\n",
    "    rf.fit(df_train_x, df_train_y)\n",
    "    train_score.append(rf.score(df_train_x, df_train_y))\n",
    "    test_score.append(rf.score(df_test_x, df_test_y))\n",
    "\n",
    "#결과 저장\n",
    "df_score_depth = pd.DataFrame()\n",
    "df_score_depth['Depth']=para_depth\n",
    "df_score_depth['TrainScore']=train_score\n",
    "df_score_depth['TestScore']=test_score"
   ]
  },
  {
   "cell_type": "code",
   "execution_count": null,
   "metadata": {
    "colab": {
     "base_uri": "https://localhost:8080/",
     "height": 356
    },
    "executionInfo": {
     "elapsed": 6,
     "status": "ok",
     "timestamp": 1630399723578,
     "user": {
      "displayName": "Foshe 0402",
      "photoUrl": "https://lh3.googleusercontent.com/a-/AOh14GgajKr8Hw9h3vJC2ivv8lu8-6KtcBNS4fiPGhMw=s64",
      "userId": "12082443723334275296"
     },
     "user_tz": -540
    },
    "id": "x7B9MOrWXlpb",
    "outputId": "76077bb5-8ca5-466a-acc0-b2d0425aea10"
   },
   "outputs": [],
   "source": [
    "#모델 설명력 확인\n",
    "df_score_depth.round(3)"
   ]
  },
  {
   "cell_type": "code",
   "execution_count": null,
   "metadata": {
    "colab": {
     "base_uri": "https://localhost:8080/",
     "height": 296
    },
    "executionInfo": {
     "elapsed": 7,
     "status": "ok",
     "timestamp": 1630399724860,
     "user": {
      "displayName": "Foshe 0402",
      "photoUrl": "https://lh3.googleusercontent.com/a-/AOh14GgajKr8Hw9h3vJC2ivv8lu8-6KtcBNS4fiPGhMw=s64",
      "userId": "12082443723334275296"
     },
     "user_tz": -540
    },
    "id": "Rx34B6CMXls7",
    "outputId": "cfe3cf3d-cd2d-4724-9c53-b68138368955"
   },
   "outputs": [],
   "source": [
    "plt.plot(para_depth, train_score, linestyle='-', label = 'Train Score')\n",
    "plt.plot(para_depth, test_score, linestyle='-', label = 'Test Score')\n",
    "plt.ylabel('score'); plt.xlabel('max depth')\n",
    "plt.legend"
   ]
  },
  {
   "cell_type": "code",
   "execution_count": null,
   "metadata": {
    "colab": {
     "base_uri": "https://localhost:8080/"
    },
    "executionInfo": {
     "elapsed": 4,
     "status": "ok",
     "timestamp": 1630399725972,
     "user": {
      "displayName": "Foshe 0402",
      "photoUrl": "https://lh3.googleusercontent.com/a-/AOh14GgajKr8Hw9h3vJC2ivv8lu8-6KtcBNS4fiPGhMw=s64",
      "userId": "12082443723334275296"
     },
     "user_tz": -540
    },
    "id": "0QBYyvZLXlwN",
    "outputId": "4a906210-7b81-4ec9-c9db-34caedd70806"
   },
   "outputs": [],
   "source": [
    "#최종 모델 생성\n",
    "rf_final=RandomForestRegressor(random_state=1234, n_estimators=100, min_samples_leaf=1,\n",
    "                               max_depth=6)\n",
    "rf_final.fit(df_train_x, df_train_y)\n",
    "#train 데이터 설명력\n",
    "print('Score on training sef: {:.3f}'.format(rf_final.score(df_train_x, df_train_y)))\n",
    "#test 데이터 설명력\n",
    "print('Score on test set: {:.3f}'.format(rf_final.score(df_test_x, df_test_y)))"
   ]
  },
  {
   "cell_type": "code",
   "execution_count": null,
   "metadata": {
    "colab": {
     "base_uri": "https://localhost:8080/"
    },
    "executionInfo": {
     "elapsed": 5,
     "status": "ok",
     "timestamp": 1630399726823,
     "user": {
      "displayName": "Foshe 0402",
      "photoUrl": "https://lh3.googleusercontent.com/a-/AOh14GgajKr8Hw9h3vJC2ivv8lu8-6KtcBNS4fiPGhMw=s64",
      "userId": "12082443723334275296"
     },
     "user_tz": -540
    },
    "id": "_3q3-nc-Xlzi",
    "outputId": "902ee5dd-0ed3-41e8-8db3-b690f198cd95"
   },
   "outputs": [],
   "source": [
    "y_pred = rf_final.predict(df_test_x)\n",
    "print('Accuracy: {:.3f}'.format(rf_final.score(df_test_x,df_test_y)))"
   ]
  },
  {
   "cell_type": "code",
   "execution_count": null,
   "metadata": {
    "executionInfo": {
     "elapsed": 2,
     "status": "ok",
     "timestamp": 1630399727589,
     "user": {
      "displayName": "Foshe 0402",
      "photoUrl": "https://lh3.googleusercontent.com/a-/AOh14GgajKr8Hw9h3vJC2ivv8lu8-6KtcBNS4fiPGhMw=s64",
      "userId": "12082443723334275296"
     },
     "user_tz": -540
    },
    "id": "asN298zIXl3X"
   },
   "outputs": [],
   "source": [
    "#각각의 예측 데이터를 다른 변수에 저장한다.\n",
    "prob2 = rf_final.predict(df_test_x2)\n",
    "prob2 = pd.DataFrame(prob2)\n",
    "\n",
    "prob3 = rf_final.predict(df_test_x3)\n",
    "prob3 = pd.DataFrame(prob3)"
   ]
  },
  {
   "cell_type": "code",
   "execution_count": null,
   "metadata": {
    "colab": {
     "base_uri": "https://localhost:8080/"
    },
    "executionInfo": {
     "elapsed": 3,
     "status": "ok",
     "timestamp": 1630399728765,
     "user": {
      "displayName": "Foshe 0402",
      "photoUrl": "https://lh3.googleusercontent.com/a-/AOh14GgajKr8Hw9h3vJC2ivv8lu8-6KtcBNS4fiPGhMw=s64",
      "userId": "12082443723334275296"
     },
     "user_tz": -540
    },
    "id": "dQ85MKxMXfJZ",
    "outputId": "b9dda7a8-a2c6-4db5-b646-0a6c696b94fe"
   },
   "outputs": [],
   "source": [
    "rf_final.feature_importances_"
   ]
  },
  {
   "cell_type": "code",
   "execution_count": null,
   "metadata": {
    "colab": {
     "base_uri": "https://localhost:8080/",
     "height": 202
    },
    "executionInfo": {
     "elapsed": 4,
     "status": "ok",
     "timestamp": 1630399729549,
     "user": {
      "displayName": "Foshe 0402",
      "photoUrl": "https://lh3.googleusercontent.com/a-/AOh14GgajKr8Hw9h3vJC2ivv8lu8-6KtcBNS4fiPGhMw=s64",
      "userId": "12082443723334275296"
     },
     "user_tz": -540
    },
    "id": "r8gRHmm4XfMZ",
    "outputId": "5ac9188c-0b9e-4db7-bcdf-8af1bb16d7c8"
   },
   "outputs": [],
   "source": [
    "v_feature_name=df_train_x.columns\n",
    "#설명변수의 중요도\n",
    "#tree.feature_importances_로 설명변수 중요도 확인 및 테이블로 저장\n",
    "df_importance = pd.DataFrame()\n",
    "df_importance['Feature']=v_feature_name\n",
    "df_importance['Importance']=rf_final.feature_importances_\n",
    "\n",
    "#df_feature_importance의 테이블을 중요도 순으로 정렬\n",
    "df_importance.sort_values('Importance', ascending=False, inplace=True)\n",
    "df_importance.round(3)"
   ]
  },
  {
   "cell_type": "code",
   "execution_count": null,
   "metadata": {
    "executionInfo": {
     "elapsed": 2,
     "status": "ok",
     "timestamp": 1630399730678,
     "user": {
      "displayName": "Foshe 0402",
      "photoUrl": "https://lh3.googleusercontent.com/a-/AOh14GgajKr8Hw9h3vJC2ivv8lu8-6KtcBNS4fiPGhMw=s64",
      "userId": "12082443723334275296"
     },
     "user_tz": -540
    },
    "id": "lW0beNzrXvv2"
   },
   "outputs": [],
   "source": [
    "df1['차선+교통량'] = prob2\n",
    "df1['차선-교통량'] = prob3"
   ]
  },
  {
   "cell_type": "code",
   "execution_count": null,
   "metadata": {
    "colab": {
     "base_uri": "https://localhost:8080/",
     "height": 295
    },
    "executionInfo": {
     "elapsed": 5,
     "status": "ok",
     "timestamp": 1630399731929,
     "user": {
      "displayName": "Foshe 0402",
      "photoUrl": "https://lh3.googleusercontent.com/a-/AOh14GgajKr8Hw9h3vJC2ivv8lu8-6KtcBNS4fiPGhMw=s64",
      "userId": "12082443723334275296"
     },
     "user_tz": -540
    },
    "id": "zk-1GJyQXv0F",
    "outputId": "22fd8778-fee7-4116-a2ef-55da91379b8a"
   },
   "outputs": [],
   "source": [
    "#평균값을 확인해봄으로써 대략적인 수치를 짐작할 수 있다.\n",
    "df1.describe()"
   ]
  },
  {
   "cell_type": "markdown",
   "metadata": {
    "id": "A0dYz5k-Xv3V"
   },
   "source": [
    "### (2) GradientBoosting 모델 구축"
   ]
  },
  {
   "cell_type": "code",
   "execution_count": null,
   "metadata": {
    "colab": {
     "base_uri": "https://localhost:8080/"
    },
    "executionInfo": {
     "elapsed": 319,
     "status": "ok",
     "timestamp": 1630399734390,
     "user": {
      "displayName": "Foshe 0402",
      "photoUrl": "https://lh3.googleusercontent.com/a-/AOh14GgajKr8Hw9h3vJC2ivv8lu8-6KtcBNS4fiPGhMw=s64",
      "userId": "12082443723334275296"
     },
     "user_tz": -540
    },
    "id": "kMaOw4ScXv6l",
    "outputId": "a20ed51a-bc50-43d3-b2df-234745d37aa9"
   },
   "outputs": [],
   "source": [
    "from google.colab import drive\n",
    "drive.mount('/content/gdrive')"
   ]
  },
  {
   "cell_type": "code",
   "execution_count": null,
   "metadata": {
    "executionInfo": {
     "elapsed": 3,
     "status": "ok",
     "timestamp": 1630399735855,
     "user": {
      "displayName": "Foshe 0402",
      "photoUrl": "https://lh3.googleusercontent.com/a-/AOh14GgajKr8Hw9h3vJC2ivv8lu8-6KtcBNS4fiPGhMw=s64",
      "userId": "12082443723334275296"
     },
     "user_tz": -540
    },
    "id": "J2xYC_XCXv-T"
   },
   "outputs": [],
   "source": [
    "import pandas as pd\n",
    "import matplotlib.pyplot as plt\n",
    "import matplotlib\n",
    "from sklearn.tree import export_graphviz\n",
    "import graphviz\n",
    "from sklearn.model_selection import train_test_split\n",
    "from sklearn.ensemble import GradientBoostingRegressor\n",
    "from sklearn.model_selection import GridSearchCV\n",
    "from sklearn.metrics import confusion_matrix\n",
    "\n",
    "from sklearn.metrics import r2_score,mean_squared_error\n",
    "\n",
    "# 최대 줄 수 설정\n",
    "pd.set_option('display.max_rows', 500)\n",
    "# 최대 열 수 설정\n",
    "pd.set_option('display.max_columns', 500)\n",
    "# 표시할 가로의 길이\n",
    "pd.set_option('display.width', 1000)"
   ]
  },
  {
   "cell_type": "code",
   "execution_count": null,
   "metadata": {
    "executionInfo": {
     "elapsed": 2,
     "status": "ok",
     "timestamp": 1630399737062,
     "user": {
      "displayName": "Foshe 0402",
      "photoUrl": "https://lh3.googleusercontent.com/a-/AOh14GgajKr8Hw9h3vJC2ivv8lu8-6KtcBNS4fiPGhMw=s64",
      "userId": "12082443723334275296"
     },
     "user_tz": -540
    },
    "id": "QoVWlsFlXwB0"
   },
   "outputs": [],
   "source": [
    "df1 = pd.read_csv('/content/gdrive/MyDrive/bigdata_contest/test.csv', engine='python', encoding = 'euc-kr')\n",
    "df2 = pd.read_csv('/content/gdrive/MyDrive/bigdata_contest/test.csv', engine='python', encoding = 'euc-kr')\n",
    "df3 = pd.read_csv('/content/gdrive/MyDrive/bigdata_contest/test.csv', engine='python', encoding = 'euc-kr')"
   ]
  },
  {
   "cell_type": "code",
   "execution_count": null,
   "metadata": {
    "executionInfo": {
     "elapsed": 2,
     "status": "ok",
     "timestamp": 1630399737617,
     "user": {
      "displayName": "Foshe 0402",
      "photoUrl": "https://lh3.googleusercontent.com/a-/AOh14GgajKr8Hw9h3vJC2ivv8lu8-6KtcBNS4fiPGhMw=s64",
      "userId": "12082443723334275296"
     },
     "user_tz": -540
    },
    "id": "sW28tar8XwFG"
   },
   "outputs": [],
   "source": [
    "df2['LANES'] = df2['LANES']+1\n",
    "df3['LANES'] = df3['LANES']-1"
   ]
  },
  {
   "cell_type": "code",
   "execution_count": null,
   "metadata": {
    "executionInfo": {
     "elapsed": 2,
     "status": "ok",
     "timestamp": 1630399738366,
     "user": {
      "displayName": "Foshe 0402",
      "photoUrl": "https://lh3.googleusercontent.com/a-/AOh14GgajKr8Hw9h3vJC2ivv8lu8-6KtcBNS4fiPGhMw=s64",
      "userId": "12082443723334275296"
     },
     "user_tz": -540
    },
    "id": "ykNzIo__XwIw"
   },
   "outputs": [],
   "source": [
    "df1 = df1.drop('STREET', axis=1)\n",
    "df2 = df2.drop('STREET', axis=1)\n",
    "df3 = df3.drop('STREET', axis=1)\n",
    "\n",
    "df1 = df1.drop('POINT', axis=1)\n",
    "df2 = df2.drop('POINT', axis=1)\n",
    "df3 = df3.drop('POINT', axis=1)\n",
    "\n",
    "df1 = df1.drop('LONG', axis=1)\n",
    "df2 = df2.drop('LONG', axis=1)\n",
    "df3 = df3.drop('LONG', axis=1)\n",
    "\n",
    "df1 = df1.drop('MAX_SPD', axis=1)\n",
    "df2 = df2.drop('MAX_SPD', axis=1)\n",
    "df3 = df3.drop('MAX_SPD', axis=1)"
   ]
  },
  {
   "cell_type": "code",
   "execution_count": null,
   "metadata": {
    "executionInfo": {
     "elapsed": 2,
     "status": "ok",
     "timestamp": 1630399739860,
     "user": {
      "displayName": "Foshe 0402",
      "photoUrl": "https://lh3.googleusercontent.com/a-/AOh14GgajKr8Hw9h3vJC2ivv8lu8-6KtcBNS4fiPGhMw=s64",
      "userId": "12082443723334275296"
     },
     "user_tz": -540
    },
    "id": "jWuxan_FXwMg"
   },
   "outputs": [],
   "source": [
    "df_raw_y = df1['임계 교통량']\n",
    "df_raw_x = df1.drop(\"임계 교통량\",axis=1,inplace=False)\n",
    "df_train_x,df_test_x,df_train_y,df_test_y = train_test_split(df_raw_x,\n",
    "                                                             df_raw_y,test_size=0.3,\n",
    "                                                             random_state=1234)"
   ]
  },
  {
   "cell_type": "code",
   "execution_count": null,
   "metadata": {
    "executionInfo": {
     "elapsed": 2,
     "status": "ok",
     "timestamp": 1630399740705,
     "user": {
      "displayName": "Foshe 0402",
      "photoUrl": "https://lh3.googleusercontent.com/a-/AOh14GgajKr8Hw9h3vJC2ivv8lu8-6KtcBNS4fiPGhMw=s64",
      "userId": "12082443723334275296"
     },
     "user_tz": -540
    },
    "id": "0YR0wMViXwQR"
   },
   "outputs": [],
   "source": [
    "#df1에서 원래 lane 수를 학습시키고 df2에서 lane+1,-1 데이터로 임계 교통량을 예측한다.\n",
    "df_test_x2 = df2.drop(\"임계 교통량\",axis=1,inplace=False)\n",
    "df_test_x3 = df3.drop(\"임계 교통량\",axis=1,inplace=False)"
   ]
  },
  {
   "cell_type": "code",
   "execution_count": null,
   "metadata": {
    "executionInfo": {
     "elapsed": 506,
     "status": "ok",
     "timestamp": 1630399742491,
     "user": {
      "displayName": "Foshe 0402",
      "photoUrl": "https://lh3.googleusercontent.com/a-/AOh14GgajKr8Hw9h3vJC2ivv8lu8-6KtcBNS4fiPGhMw=s64",
      "userId": "12082443723334275296"
     },
     "user_tz": -540
    },
    "id": "BmHqrAemXwUL"
   },
   "outputs": [],
   "source": [
    "train_accuracy = []; test_accuracy=[]\n",
    "\n",
    "para_lr = [lr*0.1 for lr in range(1,10)]\n",
    "\n",
    "for v_learning_rate in para_lr:\n",
    "    gb = GradientBoostingRegressor(learning_rate=v_learning_rate, random_state=1234)\n",
    "    gb.fit(df_train_x,df_train_y)\n",
    "    train_accuracy.append(gb.score(df_train_x,df_train_y))\n",
    "    test_accuracy.append(gb.score(df_test_x,df_test_y))\n",
    "    \n",
    "df_accuracy_lr = pd.DataFrame()\n",
    "df_accuracy_lr['LearningRate'] = para_lr\n",
    "df_accuracy_lr['TrainScore']=train_accuracy\n",
    "df_accuracy_lr['TestScore']=test_accuracy"
   ]
  },
  {
   "cell_type": "code",
   "execution_count": null,
   "metadata": {
    "colab": {
     "base_uri": "https://localhost:8080/",
     "height": 326
    },
    "executionInfo": {
     "elapsed": 6,
     "status": "ok",
     "timestamp": 1630399742876,
     "user": {
      "displayName": "Foshe 0402",
      "photoUrl": "https://lh3.googleusercontent.com/a-/AOh14GgajKr8Hw9h3vJC2ivv8lu8-6KtcBNS4fiPGhMw=s64",
      "userId": "12082443723334275296"
     },
     "user_tz": -540
    },
    "id": "lXkInKb2XwW0",
    "outputId": "0d0f6c1f-988d-4949-d2a2-1942a74c82b8"
   },
   "outputs": [],
   "source": [
    "df_accuracy_lr.round(3)"
   ]
  },
  {
   "cell_type": "code",
   "execution_count": null,
   "metadata": {
    "colab": {
     "base_uri": "https://localhost:8080/",
     "height": 296
    },
    "executionInfo": {
     "elapsed": 552,
     "status": "ok",
     "timestamp": 1630399744842,
     "user": {
      "displayName": "Foshe 0402",
      "photoUrl": "https://lh3.googleusercontent.com/a-/AOh14GgajKr8Hw9h3vJC2ivv8lu8-6KtcBNS4fiPGhMw=s64",
      "userId": "12082443723334275296"
     },
     "user_tz": -540
    },
    "id": "5oqCEPnNXfPM",
    "outputId": "e83444e7-b256-4aca-c302-cad6e7af0be5"
   },
   "outputs": [],
   "source": [
    "plt.plot(para_lr, train_accuracy, linestyle=\"-\", label = 'Train Accuracy')\n",
    "plt.plot(para_lr, test_accuracy, linestyle=\"--\", label = 'Test Accuracy')\n",
    "plt.ylabel('accuracy'); plt.xlabel('learning rate') # estimators : 추정량\n",
    "plt.legend()"
   ]
  },
  {
   "cell_type": "code",
   "execution_count": null,
   "metadata": {
    "executionInfo": {
     "elapsed": 499,
     "status": "ok",
     "timestamp": 1630399746464,
     "user": {
      "displayName": "Foshe 0402",
      "photoUrl": "https://lh3.googleusercontent.com/a-/AOh14GgajKr8Hw9h3vJC2ivv8lu8-6KtcBNS4fiPGhMw=s64",
      "userId": "12082443723334275296"
     },
     "user_tz": -540
    },
    "id": "f5PT6B7nWMSZ"
   },
   "outputs": [],
   "source": [
    "train_accuracy = []; test_accuracy=[]\n",
    "\n",
    "para_n_tree = [n_tree*10 for n_tree in range(1,16)]\n",
    "\n",
    "for v_n_estimators in para_n_tree :\n",
    "    gb = GradientBoostingRegressor(n_estimators=v_n_estimators, learning_rate = 0.4,\n",
    "             random_state=1234)\n",
    "    gb.fit(df_train_x,df_train_y)\n",
    "    train_accuracy.append(gb.score(df_train_x,df_train_y))\n",
    "    test_accuracy.append(gb.score(df_test_x,df_test_y))\n",
    "    \n",
    "df_accuracy_n = pd.DataFrame()\n",
    "df_accuracy_n['Estimators'] = para_n_tree\n",
    "df_accuracy_n['TrainScore']=train_accuracy\n",
    "df_accuracy_n['TestScore']=test_accuracy"
   ]
  },
  {
   "cell_type": "code",
   "execution_count": null,
   "metadata": {
    "colab": {
     "base_uri": "https://localhost:8080/",
     "height": 511
    },
    "executionInfo": {
     "elapsed": 322,
     "status": "ok",
     "timestamp": 1630399748415,
     "user": {
      "displayName": "Foshe 0402",
      "photoUrl": "https://lh3.googleusercontent.com/a-/AOh14GgajKr8Hw9h3vJC2ivv8lu8-6KtcBNS4fiPGhMw=s64",
      "userId": "12082443723334275296"
     },
     "user_tz": -540
    },
    "id": "UbVTc0OBX768",
    "outputId": "8bb4a8f6-c07a-4e57-b83c-25ce9e1f0fe4"
   },
   "outputs": [],
   "source": [
    "df_accuracy_n.round(3)"
   ]
  },
  {
   "cell_type": "code",
   "execution_count": null,
   "metadata": {
    "colab": {
     "base_uri": "https://localhost:8080/",
     "height": 297
    },
    "executionInfo": {
     "elapsed": 364,
     "status": "ok",
     "timestamp": 1630399753127,
     "user": {
      "displayName": "Foshe 0402",
      "photoUrl": "https://lh3.googleusercontent.com/a-/AOh14GgajKr8Hw9h3vJC2ivv8lu8-6KtcBNS4fiPGhMw=s64",
      "userId": "12082443723334275296"
     },
     "user_tz": -540
    },
    "id": "t03Dv73qX7-S",
    "outputId": "bce5ee6c-917b-43f8-de38-9bec5fb09702"
   },
   "outputs": [],
   "source": [
    "plt.plot(para_n_tree, train_accuracy, linestyle=\"-\", label = 'Train Accuracy')\n",
    "plt.plot(para_n_tree, test_accuracy, linestyle=\"--\", label = 'Test Accuracy')\n",
    "plt.ylabel('accuracy'); plt.xlabel('n_estimators') # estimators : 추정량\n",
    "plt.legend()"
   ]
  },
  {
   "cell_type": "code",
   "execution_count": null,
   "metadata": {
    "executionInfo": {
     "elapsed": 584,
     "status": "ok",
     "timestamp": 1630399755038,
     "user": {
      "displayName": "Foshe 0402",
      "photoUrl": "https://lh3.googleusercontent.com/a-/AOh14GgajKr8Hw9h3vJC2ivv8lu8-6KtcBNS4fiPGhMw=s64",
      "userId": "12082443723334275296"
     },
     "user_tz": -540
    },
    "id": "w1moZWLnX8Bp"
   },
   "outputs": [],
   "source": [
    "train_accuracy = []; test_accuracy=[]\n",
    "\n",
    "para_depth = [depth for depth in range(1,11)]\n",
    "\n",
    "for v_max_depth in para_depth :\n",
    "    gb = GradientBoostingRegressor(max_depth = v_max_depth, n_estimators = 100, learning_rate = 0.4,\n",
    "             random_state=1234)\n",
    "    gb.fit(df_train_x,df_train_y)\n",
    "    train_accuracy.append(gb.score(df_train_x,df_train_y))\n",
    "    test_accuracy.append(gb.score(df_test_x,df_test_y))\n",
    "    \n",
    "df_accuracy_depth = pd.DataFrame()\n",
    "df_accuracy_depth['Depth'] = para_depth\n",
    "df_accuracy_depth['TrainScore']=train_accuracy\n",
    "df_accuracy_depth['TestScore']=test_accuracy"
   ]
  },
  {
   "cell_type": "code",
   "execution_count": null,
   "metadata": {
    "colab": {
     "base_uri": "https://localhost:8080/",
     "height": 356
    },
    "executionInfo": {
     "elapsed": 4,
     "status": "ok",
     "timestamp": 1630399756039,
     "user": {
      "displayName": "Foshe 0402",
      "photoUrl": "https://lh3.googleusercontent.com/a-/AOh14GgajKr8Hw9h3vJC2ivv8lu8-6KtcBNS4fiPGhMw=s64",
      "userId": "12082443723334275296"
     },
     "user_tz": -540
    },
    "id": "nZ-j8SRPX8EL",
    "outputId": "d831468d-434e-4adf-af1e-d99c18a88221"
   },
   "outputs": [],
   "source": [
    "df_accuracy_depth.round(3)"
   ]
  },
  {
   "cell_type": "code",
   "execution_count": null,
   "metadata": {
    "colab": {
     "base_uri": "https://localhost:8080/",
     "height": 296
    },
    "executionInfo": {
     "elapsed": 5,
     "status": "ok",
     "timestamp": 1630399757106,
     "user": {
      "displayName": "Foshe 0402",
      "photoUrl": "https://lh3.googleusercontent.com/a-/AOh14GgajKr8Hw9h3vJC2ivv8lu8-6KtcBNS4fiPGhMw=s64",
      "userId": "12082443723334275296"
     },
     "user_tz": -540
    },
    "id": "5bK_b5blX8HO",
    "outputId": "8a918c4d-6430-49b0-939f-756887c8cac5"
   },
   "outputs": [],
   "source": [
    "plt.plot(para_depth, train_accuracy, linestyle=\"-\", label = 'Train Accuracy')\n",
    "plt.plot(para_depth, test_accuracy, linestyle=\"--\", label = 'Test Accuracy')\n",
    "plt.ylabel('accuracy'); plt.xlabel('depth')\n",
    "plt.legend()"
   ]
  },
  {
   "cell_type": "code",
   "execution_count": null,
   "metadata": {
    "colab": {
     "base_uri": "https://localhost:8080/"
    },
    "executionInfo": {
     "elapsed": 3,
     "status": "ok",
     "timestamp": 1630399758065,
     "user": {
      "displayName": "Foshe 0402",
      "photoUrl": "https://lh3.googleusercontent.com/a-/AOh14GgajKr8Hw9h3vJC2ivv8lu8-6KtcBNS4fiPGhMw=s64",
      "userId": "12082443723334275296"
     },
     "user_tz": -540
    },
    "id": "kjSl39NrX8KG",
    "outputId": "d47a3d6c-3623-4a0c-e6c2-97024f7a5ed4"
   },
   "outputs": [],
   "source": [
    "gb_final = GradientBoostingRegressor(max_depth = 4, n_estimators = 100, learning_rate = 0.4, random_state=1234)\n",
    "gb_final.fit(df_train_x,df_train_y)\n",
    "y_pred  = gb_final.predict(df_test_x)\n",
    "\n",
    "print(\"Train Acc : {:.3f}\".format(gb_final.score(df_train_x,df_train_y)))\n",
    "print(\"Test Acc : {:.3f}\".format(gb_final.score(df_test_x,df_test_y)))"
   ]
  },
  {
   "cell_type": "code",
   "execution_count": null,
   "metadata": {
    "colab": {
     "base_uri": "https://localhost:8080/",
     "height": 202
    },
    "executionInfo": {
     "elapsed": 468,
     "status": "ok",
     "timestamp": 1630399759822,
     "user": {
      "displayName": "Foshe 0402",
      "photoUrl": "https://lh3.googleusercontent.com/a-/AOh14GgajKr8Hw9h3vJC2ivv8lu8-6KtcBNS4fiPGhMw=s64",
      "userId": "12082443723334275296"
     },
     "user_tz": -540
    },
    "id": "Lqo5WAlTX8M_",
    "outputId": "c668958e-75b4-4eb2-92e9-ce989b7d7c9a"
   },
   "outputs": [],
   "source": [
    "v_feature_name = df_train_x.columns\n",
    "df_importance = pd.DataFrame()\n",
    "df_importance['Feature'] = v_feature_name\n",
    "df_importance['Importance'] = gb_final.feature_importances_\n",
    "df_importance.sort_values('Importance',ascending=False,inplace=True)\n",
    "df_importance.round(3)"
   ]
  },
  {
   "cell_type": "code",
   "execution_count": null,
   "metadata": {
    "colab": {
     "base_uri": "https://localhost:8080/",
     "height": 854
    },
    "executionInfo": {
     "elapsed": 11,
     "status": "ok",
     "timestamp": 1630399760944,
     "user": {
      "displayName": "Foshe 0402",
      "photoUrl": "https://lh3.googleusercontent.com/a-/AOh14GgajKr8Hw9h3vJC2ivv8lu8-6KtcBNS4fiPGhMw=s64",
      "userId": "12082443723334275296"
     },
     "user_tz": -540
    },
    "id": "eDYODyYvX8QB",
    "outputId": "2c3f77a9-5c7f-43eb-de0d-0c42c4c0c5d1"
   },
   "outputs": [],
   "source": [
    "df_importance.sort_values('Importance',ascending=True,inplace=True)\n",
    "coordinates=range(len(df_importance))\n",
    "plt.barh(y=coordinates,width=df_importance['Importance'])\n",
    "plt.yticks(coordinates,df_importance['Feature'])\n",
    "plt.xlabel('variable Importance')\n",
    "plt.ylabel('variable')"
   ]
  },
  {
   "cell_type": "code",
   "execution_count": null,
   "metadata": {
    "executionInfo": {
     "elapsed": 2,
     "status": "ok",
     "timestamp": 1630399761596,
     "user": {
      "displayName": "Foshe 0402",
      "photoUrl": "https://lh3.googleusercontent.com/a-/AOh14GgajKr8Hw9h3vJC2ivv8lu8-6KtcBNS4fiPGhMw=s64",
      "userId": "12082443723334275296"
     },
     "user_tz": -540
    },
    "id": "U3_QHvJMX8TE"
   },
   "outputs": [],
   "source": [
    "prob2 = gb_final.predict(df_test_x2)\n",
    "prob2 = pd.DataFrame(prob2)\n",
    "\n",
    "prob3 = gb_final.predict(df_test_x3)\n",
    "prob3 = pd.DataFrame(prob3)"
   ]
  },
  {
   "cell_type": "code",
   "execution_count": null,
   "metadata": {
    "executionInfo": {
     "elapsed": 3,
     "status": "ok",
     "timestamp": 1630399762410,
     "user": {
      "displayName": "Foshe 0402",
      "photoUrl": "https://lh3.googleusercontent.com/a-/AOh14GgajKr8Hw9h3vJC2ivv8lu8-6KtcBNS4fiPGhMw=s64",
      "userId": "12082443723334275296"
     },
     "user_tz": -540
    },
    "id": "EjaKuLYzX8WA"
   },
   "outputs": [],
   "source": [
    "df1.reset_index(inplace=True)"
   ]
  },
  {
   "cell_type": "code",
   "execution_count": null,
   "metadata": {
    "executionInfo": {
     "elapsed": 4,
     "status": "ok",
     "timestamp": 1630399764823,
     "user": {
      "displayName": "Foshe 0402",
      "photoUrl": "https://lh3.googleusercontent.com/a-/AOh14GgajKr8Hw9h3vJC2ivv8lu8-6KtcBNS4fiPGhMw=s64",
      "userId": "12082443723334275296"
     },
     "user_tz": -540
    },
    "id": "FEYNo1hOX8Yy"
   },
   "outputs": [],
   "source": [
    "df1['차선+교통량'] = prob2\n",
    "df1['차선-교통량'] = prob3"
   ]
  },
  {
   "cell_type": "code",
   "execution_count": null,
   "metadata": {
    "colab": {
     "base_uri": "https://localhost:8080/",
     "height": 295
    },
    "executionInfo": {
     "elapsed": 4,
     "status": "ok",
     "timestamp": 1630399765276,
     "user": {
      "displayName": "Foshe 0402",
      "photoUrl": "https://lh3.googleusercontent.com/a-/AOh14GgajKr8Hw9h3vJC2ivv8lu8-6KtcBNS4fiPGhMw=s64",
      "userId": "12082443723334275296"
     },
     "user_tz": -540
    },
    "id": "gpzWpjeAX8cn",
    "outputId": "ee78e864-7add-4c22-e22c-52844b8b29a4"
   },
   "outputs": [],
   "source": [
    "df1.describe()"
   ]
  },
  {
   "cell_type": "code",
   "execution_count": null,
   "metadata": {
    "id": "9NfawaskX8fD"
   },
   "outputs": [],
   "source": [
    "df1.to_csv('/content/gdrive/MyDrive/bigdata_contest/prob1_gb.csv', encoding = 'euc-kr')"
   ]
  },
  {
   "cell_type": "markdown",
   "metadata": {
    "id": "MW43ii2dX8h-"
   },
   "source": [
    "### (3) XGBoosting 모델 구축"
   ]
  },
  {
   "cell_type": "code",
   "execution_count": null,
   "metadata": {
    "colab": {
     "base_uri": "https://localhost:8080/"
    },
    "executionInfo": {
     "elapsed": 301,
     "status": "ok",
     "timestamp": 1630399769827,
     "user": {
      "displayName": "Foshe 0402",
      "photoUrl": "https://lh3.googleusercontent.com/a-/AOh14GgajKr8Hw9h3vJC2ivv8lu8-6KtcBNS4fiPGhMw=s64",
      "userId": "12082443723334275296"
     },
     "user_tz": -540
    },
    "id": "BpeE7uowX8k_",
    "outputId": "b920b720-a354-4b88-e016-75e6a58493a7"
   },
   "outputs": [],
   "source": [
    "from google.colab import drive\n",
    "drive.mount('/content/gdrive')"
   ]
  },
  {
   "cell_type": "code",
   "execution_count": null,
   "metadata": {
    "executionInfo": {
     "elapsed": 2,
     "status": "ok",
     "timestamp": 1630399771075,
     "user": {
      "displayName": "Foshe 0402",
      "photoUrl": "https://lh3.googleusercontent.com/a-/AOh14GgajKr8Hw9h3vJC2ivv8lu8-6KtcBNS4fiPGhMw=s64",
      "userId": "12082443723334275296"
     },
     "user_tz": -540
    },
    "id": "k4ulB7ImX8oA"
   },
   "outputs": [],
   "source": [
    "from sklearn.datasets import load_boston\n",
    "import xgboost\n",
    "import matplotlib.pyplot as plt\n",
    "from sklearn.model_selection import train_test_split\n",
    "from sklearn.metrics import explained_variance_score\n",
    "import pandas as pd"
   ]
  },
  {
   "cell_type": "code",
   "execution_count": null,
   "metadata": {
    "executionInfo": {
     "elapsed": 2,
     "status": "ok",
     "timestamp": 1630399771421,
     "user": {
      "displayName": "Foshe 0402",
      "photoUrl": "https://lh3.googleusercontent.com/a-/AOh14GgajKr8Hw9h3vJC2ivv8lu8-6KtcBNS4fiPGhMw=s64",
      "userId": "12082443723334275296"
     },
     "user_tz": -540
    },
    "id": "vZa0AiJ7X8ri"
   },
   "outputs": [],
   "source": [
    "df1 = pd.read_csv('/content/gdrive/MyDrive/bigdata_contest/test.csv', engine='python', encoding = 'euc-kr')\n",
    "df2 = pd.read_csv('/content/gdrive/MyDrive/bigdata_contest/test.csv', engine='python', encoding = 'euc-kr')\n",
    "df3 = pd.read_csv('/content/gdrive/MyDrive/bigdata_contest/test.csv', engine='python', encoding = 'euc-kr')"
   ]
  },
  {
   "cell_type": "code",
   "execution_count": null,
   "metadata": {
    "executionInfo": {
     "elapsed": 2,
     "status": "ok",
     "timestamp": 1630399772186,
     "user": {
      "displayName": "Foshe 0402",
      "photoUrl": "https://lh3.googleusercontent.com/a-/AOh14GgajKr8Hw9h3vJC2ivv8lu8-6KtcBNS4fiPGhMw=s64",
      "userId": "12082443723334275296"
     },
     "user_tz": -540
    },
    "id": "7ln6oY5AYKTL"
   },
   "outputs": [],
   "source": [
    "df2['LANES'] = df2['LANES']+1\n",
    "df3['LANES'] = df3['LANES']-1"
   ]
  },
  {
   "cell_type": "code",
   "execution_count": null,
   "metadata": {
    "executionInfo": {
     "elapsed": 4,
     "status": "ok",
     "timestamp": 1630399772643,
     "user": {
      "displayName": "Foshe 0402",
      "photoUrl": "https://lh3.googleusercontent.com/a-/AOh14GgajKr8Hw9h3vJC2ivv8lu8-6KtcBNS4fiPGhMw=s64",
      "userId": "12082443723334275296"
     },
     "user_tz": -540
    },
    "id": "u4Gz0MlNYKXD"
   },
   "outputs": [],
   "source": [
    "df1 = df1.drop('STREET', axis=1)\n",
    "df2 = df2.drop('STREET', axis=1)\n",
    "df3 = df3.drop('STREET', axis=1)\n",
    "\n",
    "df1 = df1.drop('POINT', axis=1)\n",
    "df2 = df2.drop('POINT', axis=1)\n",
    "df3 = df3.drop('POINT', axis=1)\n",
    "\n",
    "df1 = df1.drop('LONG', axis=1)\n",
    "df2 = df2.drop('LONG', axis=1)\n",
    "df3 = df3.drop('LONG', axis=1)\n",
    "\n",
    "df1 = df1.drop('MAX_SPD', axis=1)\n",
    "df2 = df2.drop('MAX_SPD', axis=1)\n",
    "df3 = df3.drop('MAX_SPD', axis=1)"
   ]
  },
  {
   "cell_type": "code",
   "execution_count": null,
   "metadata": {
    "executionInfo": {
     "elapsed": 4,
     "status": "ok",
     "timestamp": 1630399772643,
     "user": {
      "displayName": "Foshe 0402",
      "photoUrl": "https://lh3.googleusercontent.com/a-/AOh14GgajKr8Hw9h3vJC2ivv8lu8-6KtcBNS4fiPGhMw=s64",
      "userId": "12082443723334275296"
     },
     "user_tz": -540
    },
    "id": "iZI0aWSSYKav"
   },
   "outputs": [],
   "source": [
    "df_raw_y = df1['임계 교통량']\n",
    "df_raw_x = df1.drop(\"임계 교통량\",axis=1,inplace=False)\n",
    "df_train_x,df_test_x,df_train_y,df_test_y = train_test_split(df_raw_x,\n",
    "                                                             df_raw_y,test_size=0.3,\n",
    "                                                             random_state=1234)"
   ]
  },
  {
   "cell_type": "code",
   "execution_count": null,
   "metadata": {
    "executionInfo": {
     "elapsed": 3,
     "status": "ok",
     "timestamp": 1630399773067,
     "user": {
      "displayName": "Foshe 0402",
      "photoUrl": "https://lh3.googleusercontent.com/a-/AOh14GgajKr8Hw9h3vJC2ivv8lu8-6KtcBNS4fiPGhMw=s64",
      "userId": "12082443723334275296"
     },
     "user_tz": -540
    },
    "id": "TwsF04z6YKdL"
   },
   "outputs": [],
   "source": [
    "#df1에서 원래 lane 수를 학습시키고 df2에서 lane+1,-1 데이터로 임계 교통량을 예측한다.\n",
    "df_test_x2 = df2.drop(\"임계 교통량\",axis=1,inplace=False)\n",
    "df_test_x3 = df3.drop(\"임계 교통량\",axis=1,inplace=False)"
   ]
  },
  {
   "cell_type": "code",
   "execution_count": null,
   "metadata": {
    "colab": {
     "base_uri": "https://localhost:8080/"
    },
    "executionInfo": {
     "elapsed": 568,
     "status": "ok",
     "timestamp": 1630399774032,
     "user": {
      "displayName": "Foshe 0402",
      "photoUrl": "https://lh3.googleusercontent.com/a-/AOh14GgajKr8Hw9h3vJC2ivv8lu8-6KtcBNS4fiPGhMw=s64",
      "userId": "12082443723334275296"
     },
     "user_tz": -540
    },
    "id": "fVa01vFUYKgM",
    "outputId": "11f561ba-4010-4eca-dcce-e12a9c7ab895"
   },
   "outputs": [],
   "source": [
    "train_accuracy = []; test_accuracy=[]\n",
    "\n",
    "para_lr = [lr*0.1 for lr in range(1,10)]\n",
    "\n",
    "for v_learning_rate in para_lr:\n",
    "    xg = xgboost.XGBRegressor(learning_rate=v_learning_rate, random_state=1234)\n",
    "    xg.fit(df_train_x,df_train_y)\n",
    "    train_accuracy.append(xg.score(df_train_x,df_train_y))\n",
    "    test_accuracy.append(xg.score(df_test_x,df_test_y))\n",
    "    \n",
    "df_accuracy_lr = pd.DataFrame()\n",
    "df_accuracy_lr['LearningRate'] = para_lr\n",
    "df_accuracy_lr['TrainScore']=train_accuracy\n",
    "df_accuracy_lr['TestScore']=test_accuracy"
   ]
  },
  {
   "cell_type": "code",
   "execution_count": null,
   "metadata": {
    "colab": {
     "base_uri": "https://localhost:8080/",
     "height": 326
    },
    "executionInfo": {
     "elapsed": 35,
     "status": "ok",
     "timestamp": 1630399774033,
     "user": {
      "displayName": "Foshe 0402",
      "photoUrl": "https://lh3.googleusercontent.com/a-/AOh14GgajKr8Hw9h3vJC2ivv8lu8-6KtcBNS4fiPGhMw=s64",
      "userId": "12082443723334275296"
     },
     "user_tz": -540
    },
    "id": "5wcbgL_3YKjE",
    "outputId": "4babddf2-2a30-4c1d-8376-3029414ed21b"
   },
   "outputs": [],
   "source": [
    "df_accuracy_lr.round(3)"
   ]
  },
  {
   "cell_type": "code",
   "execution_count": null,
   "metadata": {
    "colab": {
     "base_uri": "https://localhost:8080/",
     "height": 296
    },
    "executionInfo": {
     "elapsed": 582,
     "status": "ok",
     "timestamp": 1630399774582,
     "user": {
      "displayName": "Foshe 0402",
      "photoUrl": "https://lh3.googleusercontent.com/a-/AOh14GgajKr8Hw9h3vJC2ivv8lu8-6KtcBNS4fiPGhMw=s64",
      "userId": "12082443723334275296"
     },
     "user_tz": -540
    },
    "id": "St0XgdKSYKvU",
    "outputId": "0612ac80-b9d7-4a20-bf7f-35fe9caaca41"
   },
   "outputs": [],
   "source": [
    "plt.plot(para_lr, train_accuracy, linestyle=\"-\", label = 'Train Accuracy')\n",
    "plt.plot(para_lr, test_accuracy, linestyle=\"--\", label = 'Test Accuracy')\n",
    "plt.ylabel('accuracy'); plt.xlabel('learning rate') # estimators : 추정량\n",
    "plt.legend()"
   ]
  },
  {
   "cell_type": "code",
   "execution_count": null,
   "metadata": {
    "colab": {
     "base_uri": "https://localhost:8080/"
    },
    "executionInfo": {
     "elapsed": 545,
     "status": "ok",
     "timestamp": 1630399775123,
     "user": {
      "displayName": "Foshe 0402",
      "photoUrl": "https://lh3.googleusercontent.com/a-/AOh14GgajKr8Hw9h3vJC2ivv8lu8-6KtcBNS4fiPGhMw=s64",
      "userId": "12082443723334275296"
     },
     "user_tz": -540
    },
    "id": "l5XmEbLyYKwa",
    "outputId": "b0686bc9-4e39-417f-fed0-c2f0b783018a"
   },
   "outputs": [],
   "source": [
    "train_accuracy = []; test_accuracy=[]\n",
    "\n",
    "para_n_tree = [n_tree*10 for n_tree in range(1,16)]\n",
    "\n",
    "for v_n_estimators in para_n_tree :\n",
    "    xg = xgboost.XGBRegressor(n_estimators=v_n_estimators, learning_rate = 0.6,\n",
    "             random_state=1234)\n",
    "    xg.fit(df_train_x,df_train_y)\n",
    "    train_accuracy.append(xg.score(df_train_x,df_train_y))\n",
    "    test_accuracy.append(xg.score(df_test_x,df_test_y))\n",
    "    \n",
    "df_accuracy_n = pd.DataFrame()\n",
    "df_accuracy_n['Estimators'] = para_n_tree\n",
    "df_accuracy_n['TrainScore']=train_accuracy\n",
    "df_accuracy_n['TestScore']=test_accuracy"
   ]
  },
  {
   "cell_type": "code",
   "execution_count": null,
   "metadata": {
    "colab": {
     "base_uri": "https://localhost:8080/",
     "height": 511
    },
    "executionInfo": {
     "elapsed": 18,
     "status": "ok",
     "timestamp": 1630399775125,
     "user": {
      "displayName": "Foshe 0402",
      "photoUrl": "https://lh3.googleusercontent.com/a-/AOh14GgajKr8Hw9h3vJC2ivv8lu8-6KtcBNS4fiPGhMw=s64",
      "userId": "12082443723334275296"
     },
     "user_tz": -540
    },
    "id": "kGkYeWcgYKxb",
    "outputId": "8f754a83-e5ad-4623-e4a2-e0ff58eab789"
   },
   "outputs": [],
   "source": [
    "df_accuracy_n.round(3)"
   ]
  },
  {
   "cell_type": "code",
   "execution_count": null,
   "metadata": {
    "colab": {
     "base_uri": "https://localhost:8080/",
     "height": 297
    },
    "executionInfo": {
     "elapsed": 18,
     "status": "ok",
     "timestamp": 1630399775126,
     "user": {
      "displayName": "Foshe 0402",
      "photoUrl": "https://lh3.googleusercontent.com/a-/AOh14GgajKr8Hw9h3vJC2ivv8lu8-6KtcBNS4fiPGhMw=s64",
      "userId": "12082443723334275296"
     },
     "user_tz": -540
    },
    "id": "NaPsPGAWYKzF",
    "outputId": "79e2cb0e-f256-4eec-c695-881c432be33d"
   },
   "outputs": [],
   "source": [
    "plt.plot(para_n_tree, train_accuracy, linestyle=\"-\", label = 'Train Accuracy')\n",
    "plt.plot(para_n_tree, test_accuracy, linestyle=\"--\", label = 'Test Accuracy')\n",
    "plt.ylabel('accuracy'); plt.xlabel('n_estimators') # estimators : 추정량\n",
    "plt.legend()"
   ]
  },
  {
   "cell_type": "code",
   "execution_count": null,
   "metadata": {
    "colab": {
     "base_uri": "https://localhost:8080/"
    },
    "executionInfo": {
     "elapsed": 12,
     "status": "ok",
     "timestamp": 1630399775126,
     "user": {
      "displayName": "Foshe 0402",
      "photoUrl": "https://lh3.googleusercontent.com/a-/AOh14GgajKr8Hw9h3vJC2ivv8lu8-6KtcBNS4fiPGhMw=s64",
      "userId": "12082443723334275296"
     },
     "user_tz": -540
    },
    "id": "ifjUgM1kYK4j",
    "outputId": "a73034ee-038f-4d74-f292-45593a836544"
   },
   "outputs": [],
   "source": [
    "train_accuracy = []; test_accuracy=[]\n",
    "\n",
    "para_depth = [depth for depth in range(1,11)]\n",
    "\n",
    "for v_max_depth in para_depth :\n",
    "    xg = xgboost.XGBRegressor(max_depth = v_max_depth, n_estimators = 80, learning_rate = 0.6,\n",
    "             random_state=1234)\n",
    "    xg.fit(df_train_x,df_train_y)\n",
    "    train_accuracy.append(xg.score(df_train_x,df_train_y))\n",
    "    test_accuracy.append(xg.score(df_test_x,df_test_y))\n",
    "    \n",
    "df_accuracy_depth = pd.DataFrame()\n",
    "df_accuracy_depth['Depth'] = para_depth\n",
    "df_accuracy_depth['TrainScore']=train_accuracy\n",
    "df_accuracy_depth['TestScore']=test_accuracy"
   ]
  },
  {
   "cell_type": "code",
   "execution_count": null,
   "metadata": {
    "colab": {
     "base_uri": "https://localhost:8080/",
     "height": 356
    },
    "executionInfo": {
     "elapsed": 4,
     "status": "ok",
     "timestamp": 1630399775433,
     "user": {
      "displayName": "Foshe 0402",
      "photoUrl": "https://lh3.googleusercontent.com/a-/AOh14GgajKr8Hw9h3vJC2ivv8lu8-6KtcBNS4fiPGhMw=s64",
      "userId": "12082443723334275296"
     },
     "user_tz": -540
    },
    "id": "seZ8UDp0YK5y",
    "outputId": "1d832ae9-d8de-4463-d34d-6127554acd37"
   },
   "outputs": [],
   "source": [
    "df_accuracy_depth.round(3)"
   ]
  },
  {
   "cell_type": "code",
   "execution_count": null,
   "metadata": {
    "colab": {
     "base_uri": "https://localhost:8080/",
     "height": 296
    },
    "executionInfo": {
     "elapsed": 9,
     "status": "ok",
     "timestamp": 1630399776900,
     "user": {
      "displayName": "Foshe 0402",
      "photoUrl": "https://lh3.googleusercontent.com/a-/AOh14GgajKr8Hw9h3vJC2ivv8lu8-6KtcBNS4fiPGhMw=s64",
      "userId": "12082443723334275296"
     },
     "user_tz": -540
    },
    "id": "-S6Ql3hRYK7F",
    "outputId": "09cee107-2a88-4074-e711-6747e695e2b6"
   },
   "outputs": [],
   "source": [
    "plt.plot(para_depth, train_accuracy, linestyle=\"-\", label = 'Train Accuracy')\n",
    "plt.plot(para_depth, test_accuracy, linestyle=\"--\", label = 'Test Accuracy')\n",
    "plt.ylabel('accuracy'); plt.xlabel('depth')\n",
    "plt.legend()"
   ]
  },
  {
   "cell_type": "code",
   "execution_count": null,
   "metadata": {
    "colab": {
     "base_uri": "https://localhost:8080/"
    },
    "executionInfo": {
     "elapsed": 21,
     "status": "ok",
     "timestamp": 1630399777413,
     "user": {
      "displayName": "Foshe 0402",
      "photoUrl": "https://lh3.googleusercontent.com/a-/AOh14GgajKr8Hw9h3vJC2ivv8lu8-6KtcBNS4fiPGhMw=s64",
      "userId": "12082443723334275296"
     },
     "user_tz": -540
    },
    "id": "SNf7q4mTYK9L",
    "outputId": "a9de43c5-5c5b-4cbf-d0ca-a2fbeda9eef5"
   },
   "outputs": [],
   "source": [
    "train_accuracy = []; test_accuracy=[]\n",
    "\n",
    "para_gamma = [gamma1*0.01 for gamma1 in range(1,10)]\n",
    "\n",
    "for ga in para_gamma :\n",
    "    xg = xgboost.XGBRegressor(gamma = ga, max_depth = 3, n_estimators = 80, learning_rate = 0.6,\n",
    "             random_state=1234)\n",
    "    xg.fit(df_train_x,df_train_y)\n",
    "    train_accuracy.append(xg.score(df_train_x,df_train_y))\n",
    "    test_accuracy.append(xg.score(df_test_x,df_test_y))\n",
    "    \n",
    "df_accuracy_gamma = pd.DataFrame()\n",
    "df_accuracy_gamma['Gamma'] = para_gamma\n",
    "df_accuracy_gamma['TrainScore']=train_accuracy\n",
    "df_accuracy_gamma['TestScore']=test_accuracy"
   ]
  },
  {
   "cell_type": "code",
   "execution_count": null,
   "metadata": {
    "colab": {
     "base_uri": "https://localhost:8080/",
     "height": 326
    },
    "executionInfo": {
     "elapsed": 15,
     "status": "ok",
     "timestamp": 1630399777414,
     "user": {
      "displayName": "Foshe 0402",
      "photoUrl": "https://lh3.googleusercontent.com/a-/AOh14GgajKr8Hw9h3vJC2ivv8lu8-6KtcBNS4fiPGhMw=s64",
      "userId": "12082443723334275296"
     },
     "user_tz": -540
    },
    "id": "WCzu-ulBYU4r",
    "outputId": "a4713986-e02f-4c72-a09a-47aeaabd5641"
   },
   "outputs": [],
   "source": [
    "df_accuracy_gamma.round(3)"
   ]
  },
  {
   "cell_type": "code",
   "execution_count": null,
   "metadata": {
    "colab": {
     "base_uri": "https://localhost:8080/",
     "height": 296
    },
    "executionInfo": {
     "elapsed": 693,
     "status": "ok",
     "timestamp": 1630399778095,
     "user": {
      "displayName": "Foshe 0402",
      "photoUrl": "https://lh3.googleusercontent.com/a-/AOh14GgajKr8Hw9h3vJC2ivv8lu8-6KtcBNS4fiPGhMw=s64",
      "userId": "12082443723334275296"
     },
     "user_tz": -540
    },
    "id": "EIX-su3BYU84",
    "outputId": "04e062e4-7f87-4552-8a75-f74dedcae227"
   },
   "outputs": [],
   "source": [
    "plt.plot(para_gamma, train_accuracy, linestyle=\"-\", label = 'Train Accuracy')\n",
    "plt.plot(para_gamma, test_accuracy, linestyle=\"--\", label = 'Test Accuracy')\n",
    "plt.ylabel('accuracy'); plt.xlabel('gamma')\n",
    "plt.legend()"
   ]
  },
  {
   "cell_type": "code",
   "execution_count": null,
   "metadata": {
    "colab": {
     "base_uri": "https://localhost:8080/"
    },
    "executionInfo": {
     "elapsed": 14,
     "status": "ok",
     "timestamp": 1630399778096,
     "user": {
      "displayName": "Foshe 0402",
      "photoUrl": "https://lh3.googleusercontent.com/a-/AOh14GgajKr8Hw9h3vJC2ivv8lu8-6KtcBNS4fiPGhMw=s64",
      "userId": "12082443723334275296"
     },
     "user_tz": -540
    },
    "id": "M2leblGIYVAl",
    "outputId": "f5336aa4-2ff8-4c68-8a17-0c557fc22241"
   },
   "outputs": [],
   "source": [
    "train_accuracy = []; test_accuracy=[]\n",
    "\n",
    "para_subsample = [subsample1*0.1 for subsample1 in range(1,10)]\n",
    "\n",
    "for subsample2 in para_subsample :\n",
    "    xg = xgboost.XGBRegressor(subsample = subsample2, max_depth = 3, n_estimators = 80, learning_rate = 0.6,\n",
    "             random_state=1234)\n",
    "    xg.fit(df_train_x,df_train_y)\n",
    "    train_accuracy.append(xg.score(df_train_x,df_train_y))\n",
    "    test_accuracy.append(xg.score(df_test_x,df_test_y))\n",
    "    \n",
    "df_accuracy_subsample = pd.DataFrame()\n",
    "df_accuracy_subsample['Subsample'] = para_subsample\n",
    "df_accuracy_subsample['TrainScore']=train_accuracy\n",
    "df_accuracy_subsample['TestScore']=test_accuracy"
   ]
  },
  {
   "cell_type": "code",
   "execution_count": null,
   "metadata": {
    "colab": {
     "base_uri": "https://localhost:8080/",
     "height": 326
    },
    "executionInfo": {
     "elapsed": 10,
     "status": "ok",
     "timestamp": 1630399778451,
     "user": {
      "displayName": "Foshe 0402",
      "photoUrl": "https://lh3.googleusercontent.com/a-/AOh14GgajKr8Hw9h3vJC2ivv8lu8-6KtcBNS4fiPGhMw=s64",
      "userId": "12082443723334275296"
     },
     "user_tz": -540
    },
    "id": "Xez4ppUMYVDG",
    "outputId": "d02a65ec-d233-499c-cfbf-84cd298f371c"
   },
   "outputs": [],
   "source": [
    "df_accuracy_subsample.round(3)"
   ]
  },
  {
   "cell_type": "code",
   "execution_count": null,
   "metadata": {
    "colab": {
     "base_uri": "https://localhost:8080/",
     "height": 296
    },
    "executionInfo": {
     "elapsed": 495,
     "status": "ok",
     "timestamp": 1630399778937,
     "user": {
      "displayName": "Foshe 0402",
      "photoUrl": "https://lh3.googleusercontent.com/a-/AOh14GgajKr8Hw9h3vJC2ivv8lu8-6KtcBNS4fiPGhMw=s64",
      "userId": "12082443723334275296"
     },
     "user_tz": -540
    },
    "id": "V9D6NQooYVGQ",
    "outputId": "c5acd2a5-f2c7-472f-f46a-54c3c7438861"
   },
   "outputs": [],
   "source": [
    "plt.plot(para_subsample, train_accuracy, linestyle=\"-\", label = 'Train Accuracy')\n",
    "plt.plot(para_subsample, test_accuracy, linestyle=\"--\", label = 'Test Accuracy')\n",
    "plt.ylabel('accuracy'); plt.xlabel('subsample')\n",
    "plt.legend()"
   ]
  },
  {
   "cell_type": "code",
   "execution_count": null,
   "metadata": {
    "colab": {
     "base_uri": "https://localhost:8080/"
    },
    "executionInfo": {
     "elapsed": 23,
     "status": "ok",
     "timestamp": 1630399778938,
     "user": {
      "displayName": "Foshe 0402",
      "photoUrl": "https://lh3.googleusercontent.com/a-/AOh14GgajKr8Hw9h3vJC2ivv8lu8-6KtcBNS4fiPGhMw=s64",
      "userId": "12082443723334275296"
     },
     "user_tz": -540
    },
    "id": "7N72_c-RYVJ2",
    "outputId": "017b62ba-ead7-4eb0-8e6d-67165c86fdca"
   },
   "outputs": [],
   "source": [
    "train_accuracy = []; test_accuracy=[]\n",
    "\n",
    "para_bytree = [value1*0.1 for value1 in range(1,10)]\n",
    "\n",
    "for value2 in para_bytree :\n",
    "    xg = xgboost.XGBRegressor(colsample_bytree = value2, subsample = 0.7, max_depth = 3, n_estimators = 80, learning_rate = 0.6,\n",
    "             random_state=1234)\n",
    "    xg.fit(df_train_x,df_train_y)\n",
    "    train_accuracy.append(xg.score(df_train_x,df_train_y))\n",
    "    test_accuracy.append(xg.score(df_test_x,df_test_y))\n",
    "    \n",
    "df_accuracy_bytree = pd.DataFrame()\n",
    "df_accuracy_bytree['bytree'] = para_bytree\n",
    "df_accuracy_bytree['TrainScore']=train_accuracy\n",
    "df_accuracy_bytree['TestScore']=test_accuracy"
   ]
  },
  {
   "cell_type": "code",
   "execution_count": null,
   "metadata": {
    "colab": {
     "base_uri": "https://localhost:8080/",
     "height": 326
    },
    "executionInfo": {
     "elapsed": 17,
     "status": "ok",
     "timestamp": 1630399778939,
     "user": {
      "displayName": "Foshe 0402",
      "photoUrl": "https://lh3.googleusercontent.com/a-/AOh14GgajKr8Hw9h3vJC2ivv8lu8-6KtcBNS4fiPGhMw=s64",
      "userId": "12082443723334275296"
     },
     "user_tz": -540
    },
    "id": "BO2lTJz8YVMl",
    "outputId": "79b06878-7a56-4c3e-c31c-fc462630a4e8"
   },
   "outputs": [],
   "source": [
    "df_accuracy_bytree.round(3)"
   ]
  },
  {
   "cell_type": "code",
   "execution_count": null,
   "metadata": {
    "colab": {
     "base_uri": "https://localhost:8080/",
     "height": 296
    },
    "executionInfo": {
     "elapsed": 370,
     "status": "ok",
     "timestamp": 1630399779293,
     "user": {
      "displayName": "Foshe 0402",
      "photoUrl": "https://lh3.googleusercontent.com/a-/AOh14GgajKr8Hw9h3vJC2ivv8lu8-6KtcBNS4fiPGhMw=s64",
      "userId": "12082443723334275296"
     },
     "user_tz": -540
    },
    "id": "bb52EPy9YVRz",
    "outputId": "9cb66b6e-d83d-4e53-e099-38020909d525"
   },
   "outputs": [],
   "source": [
    "plt.plot(para_bytree, train_accuracy, linestyle=\"-\", label = 'Train Accuracy')\n",
    "plt.plot(para_bytree, test_accuracy, linestyle=\"--\", label = 'Test Accuracy')\n",
    "plt.ylabel('accuracy'); plt.xlabel('bytree')\n",
    "plt.legend()"
   ]
  },
  {
   "cell_type": "code",
   "execution_count": null,
   "metadata": {
    "colab": {
     "base_uri": "https://localhost:8080/"
    },
    "executionInfo": {
     "elapsed": 3,
     "status": "ok",
     "timestamp": 1630399780366,
     "user": {
      "displayName": "Foshe 0402",
      "photoUrl": "https://lh3.googleusercontent.com/a-/AOh14GgajKr8Hw9h3vJC2ivv8lu8-6KtcBNS4fiPGhMw=s64",
      "userId": "12082443723334275296"
     },
     "user_tz": -540
    },
    "id": "4Zrq51dBYbf4",
    "outputId": "f6b2e550-56c3-48da-f047-461c92698a32"
   },
   "outputs": [],
   "source": [
    "xg_final = xgboost.XGBRegressor(n_estimators=80, learning_rate=0.6, gamma=0, subsample=0.7,\n",
    "                           colsample_bytree=0.7, max_depth=3)\n",
    "xg_final.fit(df_train_x,df_train_y)\n",
    "y_pred  = xg_final.predict(df_test_x)\n",
    "\n",
    "print(\"Train Acc : {:.3f}\".format(xg_final.score(df_train_x,df_train_y)))\n",
    "print(\"Test Acc : {:.3f}\".format(xg_final.score(df_test_x,df_test_y)))"
   ]
  },
  {
   "cell_type": "code",
   "execution_count": null,
   "metadata": {
    "colab": {
     "base_uri": "https://localhost:8080/",
     "height": 202
    },
    "executionInfo": {
     "elapsed": 4,
     "status": "ok",
     "timestamp": 1630399780683,
     "user": {
      "displayName": "Foshe 0402",
      "photoUrl": "https://lh3.googleusercontent.com/a-/AOh14GgajKr8Hw9h3vJC2ivv8lu8-6KtcBNS4fiPGhMw=s64",
      "userId": "12082443723334275296"
     },
     "user_tz": -540
    },
    "id": "XBYrmSXsYbj5",
    "outputId": "e786bf0b-2935-4b50-d1b8-15d64920846a"
   },
   "outputs": [],
   "source": [
    "v_feature_name = df_train_x.columns\n",
    "df_importance = pd.DataFrame()\n",
    "df_importance['Feature'] = v_feature_name\n",
    "df_importance['Importance'] = xg_final.feature_importances_\n",
    "df_importance.sort_values('Importance',ascending=False,inplace=True)\n",
    "df_importance.round(3)"
   ]
  },
  {
   "cell_type": "code",
   "execution_count": null,
   "metadata": {
    "colab": {
     "base_uri": "https://localhost:8080/",
     "height": 854
    },
    "executionInfo": {
     "elapsed": 505,
     "status": "ok",
     "timestamp": 1630399781980,
     "user": {
      "displayName": "Foshe 0402",
      "photoUrl": "https://lh3.googleusercontent.com/a-/AOh14GgajKr8Hw9h3vJC2ivv8lu8-6KtcBNS4fiPGhMw=s64",
      "userId": "12082443723334275296"
     },
     "user_tz": -540
    },
    "id": "eBldmXH6Ybn3",
    "outputId": "5fee3f7b-0937-4756-910c-6e6d43ffefba"
   },
   "outputs": [],
   "source": [
    "df_importance.sort_values('Importance',ascending=True,inplace=True)\n",
    "coordinates=range(len(df_importance))\n",
    "plt.barh(y=coordinates,width=df_importance['Importance'])\n",
    "plt.yticks(coordinates,df_importance['Feature'])\n",
    "plt.xlabel('variable Importance')\n",
    "plt.ylabel('variable')"
   ]
  },
  {
   "cell_type": "code",
   "execution_count": null,
   "metadata": {
    "executionInfo": {
     "elapsed": 5,
     "status": "ok",
     "timestamp": 1630399781980,
     "user": {
      "displayName": "Foshe 0402",
      "photoUrl": "https://lh3.googleusercontent.com/a-/AOh14GgajKr8Hw9h3vJC2ivv8lu8-6KtcBNS4fiPGhMw=s64",
      "userId": "12082443723334275296"
     },
     "user_tz": -540
    },
    "id": "cenub86TYbp_"
   },
   "outputs": [],
   "source": [
    "prob2 = xg_final.predict(df_test_x2)\n",
    "prob2 = pd.DataFrame(prob2)\n",
    "\n",
    "prob3 = xg_final.predict(df_test_x3)\n",
    "prob3 = pd.DataFrame(prob3)"
   ]
  },
  {
   "cell_type": "code",
   "execution_count": null,
   "metadata": {
    "executionInfo": {
     "elapsed": 2,
     "status": "ok",
     "timestamp": 1630399783045,
     "user": {
      "displayName": "Foshe 0402",
      "photoUrl": "https://lh3.googleusercontent.com/a-/AOh14GgajKr8Hw9h3vJC2ivv8lu8-6KtcBNS4fiPGhMw=s64",
      "userId": "12082443723334275296"
     },
     "user_tz": -540
    },
    "id": "0uCuHTGzYbs6"
   },
   "outputs": [],
   "source": [
    "df1.reset_index(inplace=True)"
   ]
  },
  {
   "cell_type": "code",
   "execution_count": null,
   "metadata": {
    "executionInfo": {
     "elapsed": 8,
     "status": "ok",
     "timestamp": 1630399784640,
     "user": {
      "displayName": "Foshe 0402",
      "photoUrl": "https://lh3.googleusercontent.com/a-/AOh14GgajKr8Hw9h3vJC2ivv8lu8-6KtcBNS4fiPGhMw=s64",
      "userId": "12082443723334275296"
     },
     "user_tz": -540
    },
    "id": "fcpHulIwYbxI"
   },
   "outputs": [],
   "source": [
    "df1['차선+교통량'] = prob2\n",
    "df1['차선-교통량'] = prob3"
   ]
  },
  {
   "cell_type": "code",
   "execution_count": null,
   "metadata": {
    "colab": {
     "base_uri": "https://localhost:8080/",
     "height": 295
    },
    "executionInfo": {
     "elapsed": 7,
     "status": "ok",
     "timestamp": 1630399784641,
     "user": {
      "displayName": "Foshe 0402",
      "photoUrl": "https://lh3.googleusercontent.com/a-/AOh14GgajKr8Hw9h3vJC2ivv8lu8-6KtcBNS4fiPGhMw=s64",
      "userId": "12082443723334275296"
     },
     "user_tz": -540
    },
    "id": "26rBgQRkYby9",
    "outputId": "d1b1219f-0304-4ef7-d30b-c028f3e2838b"
   },
   "outputs": [],
   "source": [
    "df1.describe()"
   ]
  },
  {
   "cell_type": "code",
   "execution_count": null,
   "metadata": {
    "executionInfo": {
     "elapsed": 7,
     "status": "ok",
     "timestamp": 1630399784642,
     "user": {
      "displayName": "Foshe 0402",
      "photoUrl": "https://lh3.googleusercontent.com/a-/AOh14GgajKr8Hw9h3vJC2ivv8lu8-6KtcBNS4fiPGhMw=s64",
      "userId": "12082443723334275296"
     },
     "user_tz": -540
    },
    "id": "-Z5IMeb5Yb2P"
   },
   "outputs": [],
   "source": [
    "df1.to_csv('/content/gdrive/MyDrive/bigdata_contest/prob1_xg.csv', encoding = 'euc-kr')"
   ]
  },
  {
   "cell_type": "markdown",
   "metadata": {
    "id": "IsquYBmuYb4n"
   },
   "source": [
    "변수 중요도를 봤을 때, 임계 교통량은 차선보다 신호등이나 진입로에 더 큰 영향을 받는다. 그러나 이번 프로젝트에서는 차선과의 상호관계를 파악하는 것이 목적이므로 차선 중요도가 더 높은 모델인 XGB를 사용하여 예측해보았다."
   ]
  },
  {
   "cell_type": "markdown",
   "metadata": {
    "id": "7uukqYjIWMSZ"
   },
   "source": [
    "---"
   ]
  },
  {
   "cell_type": "markdown",
   "metadata": {
    "id": "NzngsL7rWMSa"
   },
   "source": [
    "# 결론"
   ]
  },
  {
   "cell_type": "markdown",
   "metadata": {
    "id": "6qtpRxDSWMSa"
   },
   "source": [
    "## 5. 로드지퍼 활용 방안  "
   ]
  },
  {
   "cell_type": "markdown",
   "metadata": {
    "id": "0OrJp4dSWMSa"
   },
   "source": [
    "### 5-1) 로드지퍼 활용 방안"
   ]
  },
  {
   "cell_type": "code",
   "execution_count": null,
   "metadata": {
    "id": "ldNk1agWWMSa"
   },
   "outputs": [],
   "source": []
  }
 ],
 "metadata": {
  "colab": {
   "collapsed_sections": [
    "7H2x9vvgWMRm",
    "BxtyV1rrWMRn",
    "q9Hs14TxWMRo",
    "o2M4pBhgWMRo",
    "1KqlS-GBWMRp",
    "6f7k36oXWMRq",
    "Ota3GQ8xWMRq",
    "a7v9sh1EWMRq",
    "jqOmsYjHWMRr",
    "qIzMqCZrWMRr",
    "Mhm4RS5EWMRs",
    "3-d6raLnWMRs",
    "35oRFoTjWMRt",
    "G2N3x7rYWMRt",
    "OmwcLfSZWMRt",
    "n32nmFeMWMRu",
    "RDcVRVNVWMRu",
    "yEZl5F_YWMRz",
    "R_i7QNYyWMR0",
    "UiUlwVOhWMR0",
    "BuotgJ3vWMR1",
    "JT2nnzezWMR3",
    "qHLVeGN-WMR4",
    "EtGZWSGsWMR5",
    "R7PSBjp6WMR5",
    "Yh2NoD4VWMR6",
    "uMp51A71WMR6",
    "Hp7HsqkgWMR7",
    "DKiGR4k_WMR7",
    "v0vhWDwTWMR7",
    "vRjEYiGKWMR7",
    "vrrqKmEWWMR8",
    "2rMJuFZrWMR9",
    "2mkaw2JMWMR9",
    "6a2h1TfqWMR9",
    "Fpq_dsQFWMR-",
    "fLkpB3XiWMR-",
    "GrO5cSEjWMR_",
    "njQwSyqHWMR_",
    "3eUO9AzgWMSA",
    "8GK7FmE0WMSA",
    "3BBTV5-cWMSD",
    "wKtz1hS8WMSE",
    "fToy1l-nWMSF",
    "fYJhZ88aWMSG",
    "H6MWD66RWMSH",
    "MDH0N_h1WMSK",
    "tlW--RxBWMSK",
    "mpCfuB-gWMSL",
    "q8cnXE3SWMSM",
    "DG8sZGZzWMSN",
    "l8YvB_5oWMSO",
    "Rmb6N91bWMSP",
    "nYbMDQgZWMSR",
    "eFjzkzSFWMST",
    "608tEAfqWMST",
    "_0ItCjsBWMSU",
    "B-3p5WvlWMSW",
    "xxKLSf64WMSW",
    "kUhMg3OHWMSX",
    "JFO7kr1HWMSY",
    "zwjqq66_WMSZ",
    "WexLYCDMWMSZ",
    "A0dYz5k-Xv3V",
    "MW43ii2dX8h-",
    "6qtpRxDSWMSa",
    "0OrJp4dSWMSa"
   ],
   "name": "로드지퍼 코드 최종.ipynb",
   "provenance": []
  },
  "kernelspec": {
   "display_name": "Python 3",
   "language": "python",
   "name": "python3"
  },
  "language_info": {
   "codemirror_mode": {
    "name": "ipython",
    "version": 3
   },
   "file_extension": ".py",
   "mimetype": "text/x-python",
   "name": "python",
   "nbconvert_exporter": "python",
   "pygments_lexer": "ipython3",
   "version": "3.7.7"
  }
 },
 "nbformat": 4,
 "nbformat_minor": 4
}
