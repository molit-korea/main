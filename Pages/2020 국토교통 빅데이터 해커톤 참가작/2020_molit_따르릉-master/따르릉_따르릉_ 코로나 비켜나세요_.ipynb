{
 "cells": [
  {
   "cell_type": "markdown",
   "metadata": {},
   "source": [
    "# 코로나 이후 이동 수단의 변화에 대하여  \n",
    "\n",
    "## 목차\n",
    "+ 데이터 전처리 \n",
    "+ 코로나 데이터 시각화\n",
    "+ DSRC 데이터 시각화\n",
    "+ 교통카드 데이터 시각화\n",
    "+ KT 유동인구 데이터 시각화\n",
    "+ 서울시 공공자전거 데이터 & 날씨 데이터 시각화\n",
    "+ 결론\n",
    "+ 대안책\n",
    "\n",
    "## 데이터\n",
    "+ DACON 제공 데이터\n",
    "    + 한국도로공사 DSRC 데이터\n",
    "    + 한국교통안전공단 교통카드 데이터\n",
    "    + KT 행정동별 유동인구 데이터\n",
    "    + DS4C팀 COVID-19 데이터\n",
    "+ 외부 데이터\n",
    "    + [서울시 공공자전거 이용현황](https://data.seoul.go.kr/dataList/OA-14994/F/1/datasetView.do) - 2019.01.01 ~ 2020.06.30\n",
    "    + [서울시 공공자전거 신규가입자 정보(일별)](https://data.seoul.go.kr/dataList/OA-15243/S/1/datasetView.do) - 2019.01.01 ~ 2020.06.30\n",
    "    + [기상청 기상자료개방포털, 기온 데이터](https://data.kma.go.kr/stcs/grnd/grndTaList.do?pgmNo=70) - 서울 지점, 2019.01.01 ~ 현재\n",
    "    + [기상청 기상자료개발포털, 강수량 데이터](https://data.kma.go.kr/stcs/grnd/grndRnList.do?pgmNo=69) - 서울 지점, 2019.01.01 ~ 현재\n"
   ]
  },
  {
   "cell_type": "markdown",
   "metadata": {},
   "source": [
    "## 데이터 전처리  \n",
    "### DSRC 데이터 전처리  \n",
    "DSRC 데이터 양이 워낙 많아서 모든 데이터를 다 분석하는 것을 어렵다고 판단하여 **출근 첨두시(오전 7-10시)**에 대해 분석하기 위해 모든 날짜에 대해 해당 시간대의 데이터만 필터링하여 데이터를 새로 생성했습니다. 대용량 파일을 가장 빠르게 읽을 수 있는 fread 함수를 사용하기 위해 data.table 패키지를 사용했으며, 조금이라도 빨리 필터링 된 데이터를 저장하기 위해 병렬 처리 패키지인 doParallel 패키지를 사용했습니다."
   ]
  },
  {
   "cell_type": "code",
   "execution_count": null,
   "metadata": {},
   "outputs": [],
   "source": [
    "library(doParallel)\n",
    "library(data.table)\n",
    "\n",
    "cat(\"\\014\")\n",
    "rm(list=ls())\n",
    "gc()\n",
    "\n",
    "savedsrc = function(a, b) {\n",
    "  setwd(a)\n",
    "  \n",
    "  cl <- makeCluster(8)\n",
    "  registerDoParallel(cl)\n",
    "  \n",
    "  flist = list.files()\n",
    "  \n",
    "  foreach(i=1:length(flist)) %dopar% {\n",
    "    require(data.table)\n",
    "    \n",
    "    dt = fread(flist[i],encoding = \"UTF-8\")\n",
    "    dt7to10 = dt[dt$RSE수집시분초>70000 & dt$RSE수집시분초<100000]\n",
    "    # 위에 코드가 게시글로 올리면 이상하게 나오네요, and 연산자 때문에 그런 것 같은데 다운 받아 보시면 제대로 나옵니다.\n",
    "    \n",
    "    write.csv(dt7to10[,-grep('V10', colnames(dt7to10)),with=F], paste0(b,flist[i]), row.names = F, fileEncoding = \"UTF-8\")\n",
    "    \n",
    "  }\n",
    "  stopCluster(cl)\n",
    "  \n",
    "}\n",
    "\n",
    "savedsrc(\"C:/Users/USER/dataset/dacon/DSRC원시자료/DSRC_201901\", \"../DSRC_201901_0710/\")\n",
    "savedsrc(\"C:/Users/USER/dataset/dacon/DSRC원시자료/DSRC_201902\", \"../DSRC_201902_0710/\")\n",
    "savedsrc(\"C:/Users/USER/dataset/dacon/DSRC원시자료/DSRC_201903\", \"../DSRC_201903_0710/\")\n",
    "savedsrc(\"C:/Users/USER/dataset/dacon/DSRC원시자료/DSRC_201904\", \"../DSRC_201904_0710/\")\n",
    "savedsrc(\"C:/Users/USER/dataset/dacon/DSRC원시자료/DSRC_201905\", \"../DSRC_201905_0710/\")\n",
    "\n",
    "savedsrc(\"C:/Users/USER/dataset/dacon/DSRC원시자료/DSRC_202001\", \"../DSRC_202001_0710/\")\n",
    "savedsrc(\"C:/Users/USER/dataset/dacon/DSRC원시자료/DSRC_202002\", \"../DSRC_202002_0710/\")\n",
    "savedsrc(\"C:/Users/USER/dataset/dacon/DSRC원시자료/DSRC_202003\", \"../DSRC_202003_0710/\")\n",
    "savedsrc(\"C:/Users/USER/dataset/dacon/DSRC원시자료/DSRC_202004\", \"../DSRC_202004_0710/\")\n",
    "savedsrc(\"C:/Users/USER/dataset/dacon/DSRC원시자료/DSRC_202005\", \"../DSRC_202005_0710/\")"
   ]
  },
  {
   "cell_type": "markdown",
   "metadata": {},
   "source": [
    "이렇게 모든 날짜에 대해 출근 첨두시만 필터링 된 데이터를 통해 각 일자별, 시간대별로 몇 대의 차량이 RSE 검지기에 탐지 되었는지 카운팅하여 하나의 파일로 만들었습니다."
   ]
  },
  {
   "cell_type": "code",
   "execution_count": null,
   "metadata": {},
   "outputs": [],
   "source": [
    "counting = function(a) {\n",
    "  setwd(a)\n",
    "  flist = list.files()\n",
    "    \n",
    "  cl <- makeCluster(8)\n",
    "  registerDoParallel(cl)\n",
    "  \n",
    "  d = foreach(i=1:length(flist), .combine = rbind) %dopar% {\n",
    "    require(data.table)\n",
    "    dt = fread(flist[i],encoding = \"UTF-8\")\n",
    "    dt7to10 = dt[dt$RSE수집시분초>70000 & dt$RSE수집시분초<100000]\n",
    "    # 위에 코드가 게시글로 올리면 이상하게 나오네요, and 연산자 때문에 그런 것 같은데 다운 받아 보시면 제대로 나옵니다.\n",
    "    dt7to10$time = substr(dt7to10$RSE수집시분초,1,1)\n",
    "    final <- dt7to10[!duplicated(dt7to10$가상OBU_ID),]\n",
    "    tmp = final[, .(count = .N), by = list(date=기준일자, time)]\n",
    "    tmp\n",
    "  }\n",
    "  write.table(d, \"../DSRC_count.csv\", sep = \",\", col.names = !file.exists(\"../DSRC_count.csv\"), append = T, row.names = F)\n",
    "  \n",
    "  stopCluster(cl)\n",
    "}\n",
    "\n",
    "counting(\"C:/Users/USER/dataset/dacon/DSRC원시자료/DSRC_201901_0710\")\n",
    "counting(\"C:/Users/USER/dataset/dacon/DSRC원시자료/DSRC_201902_0710\")\n",
    "counting(\"C:/Users/USER/dataset/dacon/DSRC원시자료/DSRC_201903_0710\")\n",
    "counting(\"C:/Users/USER/dataset/dacon/DSRC원시자료/DSRC_201904_0710\")\n",
    "counting(\"C:/Users/USER/dataset/dacon/DSRC원시자료/DSRC_201905_0710\")\n",
    "\n",
    "counting(\"C:/Users/USER/dataset/dacon/DSRC원시자료/DSRC_202001_0710\")\n",
    "counting(\"C:/Users/USER/dataset/dacon/DSRC원시자료/DSRC_202002_0710\")\n",
    "counting(\"C:/Users/USER/dataset/dacon/DSRC원시자료/DSRC_202003_0710\")\n",
    "counting(\"C:/Users/USER/dataset/dacon/DSRC원시자료/DSRC_202004_0710\")\n",
    "counting(\"C:/Users/USER/dataset/dacon/DSRC원시자료/DSRC_202005_0710\")"
   ]
  },
  {
   "cell_type": "code",
   "execution_count": 62,
   "metadata": {
    "scrolled": true
   },
   "outputs": [
    {
     "data": {
      "text/html": [
       "<table>\n",
       "<caption>A data.table: 10 × 3</caption>\n",
       "<thead>\n",
       "\t<tr><th scope=col>date</th><th scope=col>time</th><th scope=col>count</th></tr>\n",
       "\t<tr><th scope=col>&lt;int&gt;</th><th scope=col>&lt;int&gt;</th><th scope=col>&lt;int&gt;</th></tr>\n",
       "</thead>\n",
       "<tbody>\n",
       "\t<tr><td>20190101</td><td>7</td><td> 62006</td></tr>\n",
       "\t<tr><td>20190101</td><td>8</td><td> 71474</td></tr>\n",
       "\t<tr><td>20190101</td><td>9</td><td>108913</td></tr>\n",
       "\t<tr><td>20190102</td><td>7</td><td>249633</td></tr>\n",
       "\t<tr><td>20190102</td><td>8</td><td>187285</td></tr>\n",
       "\t<tr><td>20190102</td><td>9</td><td>142170</td></tr>\n",
       "\t<tr><td>20190103</td><td>7</td><td>227326</td></tr>\n",
       "\t<tr><td>20190103</td><td>8</td><td>195056</td></tr>\n",
       "\t<tr><td>20190103</td><td>9</td><td>147928</td></tr>\n",
       "\t<tr><td>20190104</td><td>7</td><td>227547</td></tr>\n",
       "</tbody>\n",
       "</table>\n"
      ],
      "text/latex": [
       "A data.table: 10 × 3\n",
       "\\begin{tabular}{lll}\n",
       " date & time & count\\\\\n",
       " <int> & <int> & <int>\\\\\n",
       "\\hline\n",
       "\t 20190101 & 7 &  62006\\\\\n",
       "\t 20190101 & 8 &  71474\\\\\n",
       "\t 20190101 & 9 & 108913\\\\\n",
       "\t 20190102 & 7 & 249633\\\\\n",
       "\t 20190102 & 8 & 187285\\\\\n",
       "\t 20190102 & 9 & 142170\\\\\n",
       "\t 20190103 & 7 & 227326\\\\\n",
       "\t 20190103 & 8 & 195056\\\\\n",
       "\t 20190103 & 9 & 147928\\\\\n",
       "\t 20190104 & 7 & 227547\\\\\n",
       "\\end{tabular}\n"
      ],
      "text/markdown": [
       "\n",
       "A data.table: 10 × 3\n",
       "\n",
       "| date &lt;int&gt; | time &lt;int&gt; | count &lt;int&gt; |\n",
       "|---|---|---|\n",
       "| 20190101 | 7 |  62006 |\n",
       "| 20190101 | 8 |  71474 |\n",
       "| 20190101 | 9 | 108913 |\n",
       "| 20190102 | 7 | 249633 |\n",
       "| 20190102 | 8 | 187285 |\n",
       "| 20190102 | 9 | 142170 |\n",
       "| 20190103 | 7 | 227326 |\n",
       "| 20190103 | 8 | 195056 |\n",
       "| 20190103 | 9 | 147928 |\n",
       "| 20190104 | 7 | 227547 |\n",
       "\n"
      ],
      "text/plain": [
       "   date     time count \n",
       "1  20190101 7     62006\n",
       "2  20190101 8     71474\n",
       "3  20190101 9    108913\n",
       "4  20190102 7    249633\n",
       "5  20190102 8    187285\n",
       "6  20190102 9    142170\n",
       "7  20190103 7    227326\n",
       "8  20190103 8    195056\n",
       "9  20190103 9    147928\n",
       "10 20190104 7    227547"
      ]
     },
     "metadata": {},
     "output_type": "display_data"
    }
   ],
   "source": [
    "require(data.table)\n",
    "dsrc_count = fread(\"C:/Users/USER/dataset/dacon/DSRC원시자료/DSRC_count.csv\")\n",
    "head(dsrc_count,10)"
   ]
  },
  {
   "cell_type": "markdown",
   "metadata": {},
   "source": [
    "### 코로나 데이터 전처리   "
   ]
  },
  {
   "cell_type": "code",
   "execution_count": 63,
   "metadata": {
    "scrolled": true
   },
   "outputs": [
    {
     "data": {
      "text/html": [
       "<table>\n",
       "<caption>A data.table: 10 × 7</caption>\n",
       "<thead>\n",
       "\t<tr><th scope=col>date</th><th scope=col>time</th><th scope=col>test</th><th scope=col>negative</th><th scope=col>confirmed</th><th scope=col>released</th><th scope=col>deceased</th></tr>\n",
       "\t<tr><th scope=col>&lt;chr&gt;</th><th scope=col>&lt;int&gt;</th><th scope=col>&lt;int&gt;</th><th scope=col>&lt;int&gt;</th><th scope=col>&lt;int&gt;</th><th scope=col>&lt;int&gt;</th><th scope=col>&lt;int&gt;</th></tr>\n",
       "</thead>\n",
       "<tbody>\n",
       "\t<tr><td>2020-01-20</td><td>16</td><td>  1</td><td>  0</td><td>1</td><td>0</td><td>0</td></tr>\n",
       "\t<tr><td>2020-01-21</td><td>16</td><td>  1</td><td>  0</td><td>1</td><td>0</td><td>0</td></tr>\n",
       "\t<tr><td>2020-01-22</td><td>16</td><td>  4</td><td>  3</td><td>1</td><td>0</td><td>0</td></tr>\n",
       "\t<tr><td>2020-01-23</td><td>16</td><td> 22</td><td> 21</td><td>1</td><td>0</td><td>0</td></tr>\n",
       "\t<tr><td>2020-01-24</td><td>16</td><td> 27</td><td> 25</td><td>2</td><td>0</td><td>0</td></tr>\n",
       "\t<tr><td>2020-01-25</td><td>16</td><td> 27</td><td> 25</td><td>2</td><td>0</td><td>0</td></tr>\n",
       "\t<tr><td>2020-01-26</td><td>16</td><td> 51</td><td> 47</td><td>3</td><td>0</td><td>0</td></tr>\n",
       "\t<tr><td>2020-01-27</td><td>16</td><td> 61</td><td> 56</td><td>4</td><td>0</td><td>0</td></tr>\n",
       "\t<tr><td>2020-01-28</td><td>16</td><td>116</td><td> 97</td><td>4</td><td>0</td><td>0</td></tr>\n",
       "\t<tr><td>2020-01-29</td><td>16</td><td>187</td><td>155</td><td>4</td><td>0</td><td>0</td></tr>\n",
       "</tbody>\n",
       "</table>\n"
      ],
      "text/latex": [
       "A data.table: 10 × 7\n",
       "\\begin{tabular}{lllllll}\n",
       " date & time & test & negative & confirmed & released & deceased\\\\\n",
       " <chr> & <int> & <int> & <int> & <int> & <int> & <int>\\\\\n",
       "\\hline\n",
       "\t 2020-01-20 & 16 &   1 &   0 & 1 & 0 & 0\\\\\n",
       "\t 2020-01-21 & 16 &   1 &   0 & 1 & 0 & 0\\\\\n",
       "\t 2020-01-22 & 16 &   4 &   3 & 1 & 0 & 0\\\\\n",
       "\t 2020-01-23 & 16 &  22 &  21 & 1 & 0 & 0\\\\\n",
       "\t 2020-01-24 & 16 &  27 &  25 & 2 & 0 & 0\\\\\n",
       "\t 2020-01-25 & 16 &  27 &  25 & 2 & 0 & 0\\\\\n",
       "\t 2020-01-26 & 16 &  51 &  47 & 3 & 0 & 0\\\\\n",
       "\t 2020-01-27 & 16 &  61 &  56 & 4 & 0 & 0\\\\\n",
       "\t 2020-01-28 & 16 & 116 &  97 & 4 & 0 & 0\\\\\n",
       "\t 2020-01-29 & 16 & 187 & 155 & 4 & 0 & 0\\\\\n",
       "\\end{tabular}\n"
      ],
      "text/markdown": [
       "\n",
       "A data.table: 10 × 7\n",
       "\n",
       "| date &lt;chr&gt; | time &lt;int&gt; | test &lt;int&gt; | negative &lt;int&gt; | confirmed &lt;int&gt; | released &lt;int&gt; | deceased &lt;int&gt; |\n",
       "|---|---|---|---|---|---|---|\n",
       "| 2020-01-20 | 16 |   1 |   0 | 1 | 0 | 0 |\n",
       "| 2020-01-21 | 16 |   1 |   0 | 1 | 0 | 0 |\n",
       "| 2020-01-22 | 16 |   4 |   3 | 1 | 0 | 0 |\n",
       "| 2020-01-23 | 16 |  22 |  21 | 1 | 0 | 0 |\n",
       "| 2020-01-24 | 16 |  27 |  25 | 2 | 0 | 0 |\n",
       "| 2020-01-25 | 16 |  27 |  25 | 2 | 0 | 0 |\n",
       "| 2020-01-26 | 16 |  51 |  47 | 3 | 0 | 0 |\n",
       "| 2020-01-27 | 16 |  61 |  56 | 4 | 0 | 0 |\n",
       "| 2020-01-28 | 16 | 116 |  97 | 4 | 0 | 0 |\n",
       "| 2020-01-29 | 16 | 187 | 155 | 4 | 0 | 0 |\n",
       "\n"
      ],
      "text/plain": [
       "   date       time test negative confirmed released deceased\n",
       "1  2020-01-20 16     1    0      1         0        0       \n",
       "2  2020-01-21 16     1    0      1         0        0       \n",
       "3  2020-01-22 16     4    3      1         0        0       \n",
       "4  2020-01-23 16    22   21      1         0        0       \n",
       "5  2020-01-24 16    27   25      2         0        0       \n",
       "6  2020-01-25 16    27   25      2         0        0       \n",
       "7  2020-01-26 16    51   47      3         0        0       \n",
       "8  2020-01-27 16    61   56      4         0        0       \n",
       "9  2020-01-28 16   116   97      4         0        0       \n",
       "10 2020-01-29 16   187  155      4         0        0       "
      ]
     },
     "metadata": {},
     "output_type": "display_data"
    }
   ],
   "source": [
    "covidtime = fread(\"C:/Users/USER/dataset/dacon/코로나19확진자데이터/COVID_19(수정)/Time.csv\")\n",
    "head(covidtime, 10)"
   ]
  },
  {
   "cell_type": "markdown",
   "metadata": {},
   "source": [
    "제공되는 코로나 데이터는 일별 누적 확진자 수로 되어있기 때문에 diff 함수를 이용해서 일별 발생한 확진자 수로 변환하였습니다.\n"
   ]
  },
  {
   "cell_type": "code",
   "execution_count": 3,
   "metadata": {
    "scrolled": false
   },
   "outputs": [
    {
     "data": {
      "text/html": [
       "<style>\n",
       ".list-inline {list-style: none; margin:0; padding: 0}\n",
       ".list-inline>li {display: inline-block}\n",
       ".list-inline>li:not(:last-child)::after {content: \"\\00b7\"; padding: 0 .5ex}\n",
       "</style>\n",
       "<ol class=list-inline><li>0</li><li>0</li><li>0</li><li>1</li><li>0</li><li>1</li><li>1</li><li>0</li><li>0</li><li>2</li><li>5</li><li>1</li><li>3</li><li>0</li><li>1</li><li>2</li><li>5</li><li>1</li><li>0</li><li>3</li><li>0</li><li>1</li><li>0</li><li>0</li><li>0</li><li>0</li><li>1</li><li>1</li><li>1</li><li>20</li><li>53</li><li>100</li><li>229</li><li>169</li><li>231</li><li>144</li><li>284</li><li>505</li><li>571</li><li>813</li><li>586</li><li>476</li><li>600</li><li>516</li><li>438</li><li>518</li><li>483</li><li>367</li><li>248</li><li>131</li><li>242</li><li>114</li><li>110</li><li>107</li><li>40</li><li>110</li><li>84</li><li>93</li><li>152</li><li>87</li><li>147</li><li>98</li><li>64</li><li>76</li><li>100</li><li>104</li><li>91</li><li>146</li><li>105</li><li>78</li><li>125</li><li>101</li><li>89</li><li>86</li><li>94</li><li>81</li><li>47</li><li>47</li><li>53</li><li>39</li><li>27</li><li>30</li><li>32</li><li>25</li><li>27</li><li>27</li><li>22</li><li>22</li><li>18</li><li>8</li><li>13</li><li>9</li><li>11</li><li>8</li><li>6</li><li>10</li><li>10</li><li>10</li><li>14</li><li>9</li><li>4</li><li>9</li><li>6</li><li>13</li><li>8</li><li>3</li><li>2</li><li>4</li><li>12</li><li>18</li><li>34</li><li>35</li><li>27</li><li>26</li><li>29</li><li>27</li><li>19</li><li>13</li><li>15</li><li>13</li><li>32</li><li>12</li><li>20</li><li>23</li><li>25</li><li>16</li><li>19</li><li>40</li><li>79</li><li>58</li><li>39</li><li>27</li><li>35</li><li>38</li><li>49</li><li>39</li><li>39</li><li>51</li><li>57</li><li>38</li><li>38</li><li>50</li><li>45</li><li>56</li><li>48</li><li>34</li><li>36</li><li>34</li><li>43</li><li>59</li><li>49</li><li>67</li><li>48</li><li>17</li><li>46</li><li>51</li><li>28</li><li>39</li><li>51</li><li>62</li><li>42</li><li>43</li></ol>\n"
      ],
      "text/latex": [
       "\\begin{enumerate*}\n",
       "\\item 0\n",
       "\\item 0\n",
       "\\item 0\n",
       "\\item 1\n",
       "\\item 0\n",
       "\\item 1\n",
       "\\item 1\n",
       "\\item 0\n",
       "\\item 0\n",
       "\\item 2\n",
       "\\item 5\n",
       "\\item 1\n",
       "\\item 3\n",
       "\\item 0\n",
       "\\item 1\n",
       "\\item 2\n",
       "\\item 5\n",
       "\\item 1\n",
       "\\item 0\n",
       "\\item 3\n",
       "\\item 0\n",
       "\\item 1\n",
       "\\item 0\n",
       "\\item 0\n",
       "\\item 0\n",
       "\\item 0\n",
       "\\item 1\n",
       "\\item 1\n",
       "\\item 1\n",
       "\\item 20\n",
       "\\item 53\n",
       "\\item 100\n",
       "\\item 229\n",
       "\\item 169\n",
       "\\item 231\n",
       "\\item 144\n",
       "\\item 284\n",
       "\\item 505\n",
       "\\item 571\n",
       "\\item 813\n",
       "\\item 586\n",
       "\\item 476\n",
       "\\item 600\n",
       "\\item 516\n",
       "\\item 438\n",
       "\\item 518\n",
       "\\item 483\n",
       "\\item 367\n",
       "\\item 248\n",
       "\\item 131\n",
       "\\item 242\n",
       "\\item 114\n",
       "\\item 110\n",
       "\\item 107\n",
       "\\item 40\n",
       "\\item 110\n",
       "\\item 84\n",
       "\\item 93\n",
       "\\item 152\n",
       "\\item 87\n",
       "\\item 147\n",
       "\\item 98\n",
       "\\item 64\n",
       "\\item 76\n",
       "\\item 100\n",
       "\\item 104\n",
       "\\item 91\n",
       "\\item 146\n",
       "\\item 105\n",
       "\\item 78\n",
       "\\item 125\n",
       "\\item 101\n",
       "\\item 89\n",
       "\\item 86\n",
       "\\item 94\n",
       "\\item 81\n",
       "\\item 47\n",
       "\\item 47\n",
       "\\item 53\n",
       "\\item 39\n",
       "\\item 27\n",
       "\\item 30\n",
       "\\item 32\n",
       "\\item 25\n",
       "\\item 27\n",
       "\\item 27\n",
       "\\item 22\n",
       "\\item 22\n",
       "\\item 18\n",
       "\\item 8\n",
       "\\item 13\n",
       "\\item 9\n",
       "\\item 11\n",
       "\\item 8\n",
       "\\item 6\n",
       "\\item 10\n",
       "\\item 10\n",
       "\\item 10\n",
       "\\item 14\n",
       "\\item 9\n",
       "\\item 4\n",
       "\\item 9\n",
       "\\item 6\n",
       "\\item 13\n",
       "\\item 8\n",
       "\\item 3\n",
       "\\item 2\n",
       "\\item 4\n",
       "\\item 12\n",
       "\\item 18\n",
       "\\item 34\n",
       "\\item 35\n",
       "\\item 27\n",
       "\\item 26\n",
       "\\item 29\n",
       "\\item 27\n",
       "\\item 19\n",
       "\\item 13\n",
       "\\item 15\n",
       "\\item 13\n",
       "\\item 32\n",
       "\\item 12\n",
       "\\item 20\n",
       "\\item 23\n",
       "\\item 25\n",
       "\\item 16\n",
       "\\item 19\n",
       "\\item 40\n",
       "\\item 79\n",
       "\\item 58\n",
       "\\item 39\n",
       "\\item 27\n",
       "\\item 35\n",
       "\\item 38\n",
       "\\item 49\n",
       "\\item 39\n",
       "\\item 39\n",
       "\\item 51\n",
       "\\item 57\n",
       "\\item 38\n",
       "\\item 38\n",
       "\\item 50\n",
       "\\item 45\n",
       "\\item 56\n",
       "\\item 48\n",
       "\\item 34\n",
       "\\item 36\n",
       "\\item 34\n",
       "\\item 43\n",
       "\\item 59\n",
       "\\item 49\n",
       "\\item 67\n",
       "\\item 48\n",
       "\\item 17\n",
       "\\item 46\n",
       "\\item 51\n",
       "\\item 28\n",
       "\\item 39\n",
       "\\item 51\n",
       "\\item 62\n",
       "\\item 42\n",
       "\\item 43\n",
       "\\end{enumerate*}\n"
      ],
      "text/markdown": [
       "1. 0\n",
       "2. 0\n",
       "3. 0\n",
       "4. 1\n",
       "5. 0\n",
       "6. 1\n",
       "7. 1\n",
       "8. 0\n",
       "9. 0\n",
       "10. 2\n",
       "11. 5\n",
       "12. 1\n",
       "13. 3\n",
       "14. 0\n",
       "15. 1\n",
       "16. 2\n",
       "17. 5\n",
       "18. 1\n",
       "19. 0\n",
       "20. 3\n",
       "21. 0\n",
       "22. 1\n",
       "23. 0\n",
       "24. 0\n",
       "25. 0\n",
       "26. 0\n",
       "27. 1\n",
       "28. 1\n",
       "29. 1\n",
       "30. 20\n",
       "31. 53\n",
       "32. 100\n",
       "33. 229\n",
       "34. 169\n",
       "35. 231\n",
       "36. 144\n",
       "37. 284\n",
       "38. 505\n",
       "39. 571\n",
       "40. 813\n",
       "41. 586\n",
       "42. 476\n",
       "43. 600\n",
       "44. 516\n",
       "45. 438\n",
       "46. 518\n",
       "47. 483\n",
       "48. 367\n",
       "49. 248\n",
       "50. 131\n",
       "51. 242\n",
       "52. 114\n",
       "53. 110\n",
       "54. 107\n",
       "55. 40\n",
       "56. 110\n",
       "57. 84\n",
       "58. 93\n",
       "59. 152\n",
       "60. 87\n",
       "61. 147\n",
       "62. 98\n",
       "63. 64\n",
       "64. 76\n",
       "65. 100\n",
       "66. 104\n",
       "67. 91\n",
       "68. 146\n",
       "69. 105\n",
       "70. 78\n",
       "71. 125\n",
       "72. 101\n",
       "73. 89\n",
       "74. 86\n",
       "75. 94\n",
       "76. 81\n",
       "77. 47\n",
       "78. 47\n",
       "79. 53\n",
       "80. 39\n",
       "81. 27\n",
       "82. 30\n",
       "83. 32\n",
       "84. 25\n",
       "85. 27\n",
       "86. 27\n",
       "87. 22\n",
       "88. 22\n",
       "89. 18\n",
       "90. 8\n",
       "91. 13\n",
       "92. 9\n",
       "93. 11\n",
       "94. 8\n",
       "95. 6\n",
       "96. 10\n",
       "97. 10\n",
       "98. 10\n",
       "99. 14\n",
       "100. 9\n",
       "101. 4\n",
       "102. 9\n",
       "103. 6\n",
       "104. 13\n",
       "105. 8\n",
       "106. 3\n",
       "107. 2\n",
       "108. 4\n",
       "109. 12\n",
       "110. 18\n",
       "111. 34\n",
       "112. 35\n",
       "113. 27\n",
       "114. 26\n",
       "115. 29\n",
       "116. 27\n",
       "117. 19\n",
       "118. 13\n",
       "119. 15\n",
       "120. 13\n",
       "121. 32\n",
       "122. 12\n",
       "123. 20\n",
       "124. 23\n",
       "125. 25\n",
       "126. 16\n",
       "127. 19\n",
       "128. 40\n",
       "129. 79\n",
       "130. 58\n",
       "131. 39\n",
       "132. 27\n",
       "133. 35\n",
       "134. 38\n",
       "135. 49\n",
       "136. 39\n",
       "137. 39\n",
       "138. 51\n",
       "139. 57\n",
       "140. 38\n",
       "141. 38\n",
       "142. 50\n",
       "143. 45\n",
       "144. 56\n",
       "145. 48\n",
       "146. 34\n",
       "147. 36\n",
       "148. 34\n",
       "149. 43\n",
       "150. 59\n",
       "151. 49\n",
       "152. 67\n",
       "153. 48\n",
       "154. 17\n",
       "155. 46\n",
       "156. 51\n",
       "157. 28\n",
       "158. 39\n",
       "159. 51\n",
       "160. 62\n",
       "161. 42\n",
       "162. 43\n",
       "\n",
       "\n"
      ],
      "text/plain": [
       "  [1]   0   0   0   1   0   1   1   0   0   2   5   1   3   0   1   2   5   1\n",
       " [19]   0   3   0   1   0   0   0   0   1   1   1  20  53 100 229 169 231 144\n",
       " [37] 284 505 571 813 586 476 600 516 438 518 483 367 248 131 242 114 110 107\n",
       " [55]  40 110  84  93 152  87 147  98  64  76 100 104  91 146 105  78 125 101\n",
       " [73]  89  86  94  81  47  47  53  39  27  30  32  25  27  27  22  22  18   8\n",
       " [91]  13   9  11   8   6  10  10  10  14   9   4   9   6  13   8   3   2   4\n",
       "[109]  12  18  34  35  27  26  29  27  19  13  15  13  32  12  20  23  25  16\n",
       "[127]  19  40  79  58  39  27  35  38  49  39  39  51  57  38  38  50  45  56\n",
       "[145]  48  34  36  34  43  59  49  67  48  17  46  51  28  39  51  62  42  43"
      ]
     },
     "metadata": {},
     "output_type": "display_data"
    }
   ],
   "source": [
    "confirmed_diff = diff(covidtime$confirmed)\n",
    "confirmed_diff"
   ]
  },
  {
   "cell_type": "markdown",
   "metadata": {},
   "source": [
    "데이터가 1월20일부터 있기 때문에 1월 20일은 1명으로 추가해줍니다.  \n",
    "[국내 최초 코로나 확진자 발생 뉴스(2020.01.20)]( https://www.doctorsnews.co.kr/news/articleView.html?idxno=133009)"
   ]
  },
  {
   "cell_type": "code",
   "execution_count": 4,
   "metadata": {
    "scrolled": true
   },
   "outputs": [
    {
     "data": {
      "text/html": [
       "<style>\n",
       ".list-inline {list-style: none; margin:0; padding: 0}\n",
       ".list-inline>li {display: inline-block}\n",
       ".list-inline>li:not(:last-child)::after {content: \"\\00b7\"; padding: 0 .5ex}\n",
       "</style>\n",
       "<ol class=list-inline><li>1</li><li>0</li><li>0</li><li>0</li><li>1</li><li>0</li><li>1</li><li>1</li><li>0</li><li>0</li><li>2</li><li>5</li><li>1</li><li>3</li><li>0</li><li>1</li><li>2</li><li>5</li><li>1</li><li>0</li><li>3</li><li>0</li><li>1</li><li>0</li><li>0</li><li>0</li><li>0</li><li>1</li><li>1</li><li>1</li><li>20</li><li>53</li><li>100</li><li>229</li><li>169</li><li>231</li><li>144</li><li>284</li><li>505</li><li>571</li><li>813</li><li>586</li><li>476</li><li>600</li><li>516</li><li>438</li><li>518</li><li>483</li><li>367</li><li>248</li><li>131</li><li>242</li><li>114</li><li>110</li><li>107</li><li>40</li><li>110</li><li>84</li><li>93</li><li>152</li><li>87</li><li>147</li><li>98</li><li>64</li><li>76</li><li>100</li><li>104</li><li>91</li><li>146</li><li>105</li><li>78</li><li>125</li><li>101</li><li>89</li><li>86</li><li>94</li><li>81</li><li>47</li><li>47</li><li>53</li><li>39</li><li>27</li><li>30</li><li>32</li><li>25</li><li>27</li><li>27</li><li>22</li><li>22</li><li>18</li><li>8</li><li>13</li><li>9</li><li>11</li><li>8</li><li>6</li><li>10</li><li>10</li><li>10</li><li>14</li><li>9</li><li>4</li><li>9</li><li>6</li><li>13</li><li>8</li><li>3</li><li>2</li><li>4</li><li>12</li><li>18</li><li>34</li><li>35</li><li>27</li><li>26</li><li>29</li><li>27</li><li>19</li><li>13</li><li>15</li><li>13</li><li>32</li><li>12</li><li>20</li><li>23</li><li>25</li><li>16</li><li>19</li><li>40</li><li>79</li><li>58</li><li>39</li><li>27</li><li>35</li><li>38</li><li>49</li><li>39</li><li>39</li><li>51</li><li>57</li><li>38</li><li>38</li><li>50</li><li>45</li><li>56</li><li>48</li><li>34</li><li>36</li><li>34</li><li>43</li><li>59</li><li>49</li><li>67</li><li>48</li><li>17</li><li>46</li><li>51</li><li>28</li><li>39</li><li>51</li><li>62</li><li>42</li><li>43</li></ol>\n"
      ],
      "text/latex": [
       "\\begin{enumerate*}\n",
       "\\item 1\n",
       "\\item 0\n",
       "\\item 0\n",
       "\\item 0\n",
       "\\item 1\n",
       "\\item 0\n",
       "\\item 1\n",
       "\\item 1\n",
       "\\item 0\n",
       "\\item 0\n",
       "\\item 2\n",
       "\\item 5\n",
       "\\item 1\n",
       "\\item 3\n",
       "\\item 0\n",
       "\\item 1\n",
       "\\item 2\n",
       "\\item 5\n",
       "\\item 1\n",
       "\\item 0\n",
       "\\item 3\n",
       "\\item 0\n",
       "\\item 1\n",
       "\\item 0\n",
       "\\item 0\n",
       "\\item 0\n",
       "\\item 0\n",
       "\\item 1\n",
       "\\item 1\n",
       "\\item 1\n",
       "\\item 20\n",
       "\\item 53\n",
       "\\item 100\n",
       "\\item 229\n",
       "\\item 169\n",
       "\\item 231\n",
       "\\item 144\n",
       "\\item 284\n",
       "\\item 505\n",
       "\\item 571\n",
       "\\item 813\n",
       "\\item 586\n",
       "\\item 476\n",
       "\\item 600\n",
       "\\item 516\n",
       "\\item 438\n",
       "\\item 518\n",
       "\\item 483\n",
       "\\item 367\n",
       "\\item 248\n",
       "\\item 131\n",
       "\\item 242\n",
       "\\item 114\n",
       "\\item 110\n",
       "\\item 107\n",
       "\\item 40\n",
       "\\item 110\n",
       "\\item 84\n",
       "\\item 93\n",
       "\\item 152\n",
       "\\item 87\n",
       "\\item 147\n",
       "\\item 98\n",
       "\\item 64\n",
       "\\item 76\n",
       "\\item 100\n",
       "\\item 104\n",
       "\\item 91\n",
       "\\item 146\n",
       "\\item 105\n",
       "\\item 78\n",
       "\\item 125\n",
       "\\item 101\n",
       "\\item 89\n",
       "\\item 86\n",
       "\\item 94\n",
       "\\item 81\n",
       "\\item 47\n",
       "\\item 47\n",
       "\\item 53\n",
       "\\item 39\n",
       "\\item 27\n",
       "\\item 30\n",
       "\\item 32\n",
       "\\item 25\n",
       "\\item 27\n",
       "\\item 27\n",
       "\\item 22\n",
       "\\item 22\n",
       "\\item 18\n",
       "\\item 8\n",
       "\\item 13\n",
       "\\item 9\n",
       "\\item 11\n",
       "\\item 8\n",
       "\\item 6\n",
       "\\item 10\n",
       "\\item 10\n",
       "\\item 10\n",
       "\\item 14\n",
       "\\item 9\n",
       "\\item 4\n",
       "\\item 9\n",
       "\\item 6\n",
       "\\item 13\n",
       "\\item 8\n",
       "\\item 3\n",
       "\\item 2\n",
       "\\item 4\n",
       "\\item 12\n",
       "\\item 18\n",
       "\\item 34\n",
       "\\item 35\n",
       "\\item 27\n",
       "\\item 26\n",
       "\\item 29\n",
       "\\item 27\n",
       "\\item 19\n",
       "\\item 13\n",
       "\\item 15\n",
       "\\item 13\n",
       "\\item 32\n",
       "\\item 12\n",
       "\\item 20\n",
       "\\item 23\n",
       "\\item 25\n",
       "\\item 16\n",
       "\\item 19\n",
       "\\item 40\n",
       "\\item 79\n",
       "\\item 58\n",
       "\\item 39\n",
       "\\item 27\n",
       "\\item 35\n",
       "\\item 38\n",
       "\\item 49\n",
       "\\item 39\n",
       "\\item 39\n",
       "\\item 51\n",
       "\\item 57\n",
       "\\item 38\n",
       "\\item 38\n",
       "\\item 50\n",
       "\\item 45\n",
       "\\item 56\n",
       "\\item 48\n",
       "\\item 34\n",
       "\\item 36\n",
       "\\item 34\n",
       "\\item 43\n",
       "\\item 59\n",
       "\\item 49\n",
       "\\item 67\n",
       "\\item 48\n",
       "\\item 17\n",
       "\\item 46\n",
       "\\item 51\n",
       "\\item 28\n",
       "\\item 39\n",
       "\\item 51\n",
       "\\item 62\n",
       "\\item 42\n",
       "\\item 43\n",
       "\\end{enumerate*}\n"
      ],
      "text/markdown": [
       "1. 1\n",
       "2. 0\n",
       "3. 0\n",
       "4. 0\n",
       "5. 1\n",
       "6. 0\n",
       "7. 1\n",
       "8. 1\n",
       "9. 0\n",
       "10. 0\n",
       "11. 2\n",
       "12. 5\n",
       "13. 1\n",
       "14. 3\n",
       "15. 0\n",
       "16. 1\n",
       "17. 2\n",
       "18. 5\n",
       "19. 1\n",
       "20. 0\n",
       "21. 3\n",
       "22. 0\n",
       "23. 1\n",
       "24. 0\n",
       "25. 0\n",
       "26. 0\n",
       "27. 0\n",
       "28. 1\n",
       "29. 1\n",
       "30. 1\n",
       "31. 20\n",
       "32. 53\n",
       "33. 100\n",
       "34. 229\n",
       "35. 169\n",
       "36. 231\n",
       "37. 144\n",
       "38. 284\n",
       "39. 505\n",
       "40. 571\n",
       "41. 813\n",
       "42. 586\n",
       "43. 476\n",
       "44. 600\n",
       "45. 516\n",
       "46. 438\n",
       "47. 518\n",
       "48. 483\n",
       "49. 367\n",
       "50. 248\n",
       "51. 131\n",
       "52. 242\n",
       "53. 114\n",
       "54. 110\n",
       "55. 107\n",
       "56. 40\n",
       "57. 110\n",
       "58. 84\n",
       "59. 93\n",
       "60. 152\n",
       "61. 87\n",
       "62. 147\n",
       "63. 98\n",
       "64. 64\n",
       "65. 76\n",
       "66. 100\n",
       "67. 104\n",
       "68. 91\n",
       "69. 146\n",
       "70. 105\n",
       "71. 78\n",
       "72. 125\n",
       "73. 101\n",
       "74. 89\n",
       "75. 86\n",
       "76. 94\n",
       "77. 81\n",
       "78. 47\n",
       "79. 47\n",
       "80. 53\n",
       "81. 39\n",
       "82. 27\n",
       "83. 30\n",
       "84. 32\n",
       "85. 25\n",
       "86. 27\n",
       "87. 27\n",
       "88. 22\n",
       "89. 22\n",
       "90. 18\n",
       "91. 8\n",
       "92. 13\n",
       "93. 9\n",
       "94. 11\n",
       "95. 8\n",
       "96. 6\n",
       "97. 10\n",
       "98. 10\n",
       "99. 10\n",
       "100. 14\n",
       "101. 9\n",
       "102. 4\n",
       "103. 9\n",
       "104. 6\n",
       "105. 13\n",
       "106. 8\n",
       "107. 3\n",
       "108. 2\n",
       "109. 4\n",
       "110. 12\n",
       "111. 18\n",
       "112. 34\n",
       "113. 35\n",
       "114. 27\n",
       "115. 26\n",
       "116. 29\n",
       "117. 27\n",
       "118. 19\n",
       "119. 13\n",
       "120. 15\n",
       "121. 13\n",
       "122. 32\n",
       "123. 12\n",
       "124. 20\n",
       "125. 23\n",
       "126. 25\n",
       "127. 16\n",
       "128. 19\n",
       "129. 40\n",
       "130. 79\n",
       "131. 58\n",
       "132. 39\n",
       "133. 27\n",
       "134. 35\n",
       "135. 38\n",
       "136. 49\n",
       "137. 39\n",
       "138. 39\n",
       "139. 51\n",
       "140. 57\n",
       "141. 38\n",
       "142. 38\n",
       "143. 50\n",
       "144. 45\n",
       "145. 56\n",
       "146. 48\n",
       "147. 34\n",
       "148. 36\n",
       "149. 34\n",
       "150. 43\n",
       "151. 59\n",
       "152. 49\n",
       "153. 67\n",
       "154. 48\n",
       "155. 17\n",
       "156. 46\n",
       "157. 51\n",
       "158. 28\n",
       "159. 39\n",
       "160. 51\n",
       "161. 62\n",
       "162. 42\n",
       "163. 43\n",
       "\n",
       "\n"
      ],
      "text/plain": [
       "  [1]   1   0   0   0   1   0   1   1   0   0   2   5   1   3   0   1   2   5\n",
       " [19]   1   0   3   0   1   0   0   0   0   1   1   1  20  53 100 229 169 231\n",
       " [37] 144 284 505 571 813 586 476 600 516 438 518 483 367 248 131 242 114 110\n",
       " [55] 107  40 110  84  93 152  87 147  98  64  76 100 104  91 146 105  78 125\n",
       " [73] 101  89  86  94  81  47  47  53  39  27  30  32  25  27  27  22  22  18\n",
       " [91]   8  13   9  11   8   6  10  10  10  14   9   4   9   6  13   8   3   2\n",
       "[109]   4  12  18  34  35  27  26  29  27  19  13  15  13  32  12  20  23  25\n",
       "[127]  16  19  40  79  58  39  27  35  38  49  39  39  51  57  38  38  50  45\n",
       "[145]  56  48  34  36  34  43  59  49  67  48  17  46  51  28  39  51  62  42\n",
       "[163]  43"
      ]
     },
     "metadata": {},
     "output_type": "display_data"
    }
   ],
   "source": [
    "confirmed_diff = c(1, confirmed_diff)\n",
    "confirmed_diff"
   ]
  },
  {
   "cell_type": "markdown",
   "metadata": {},
   "source": [
    "## 데이터 시각화\n",
    "### 코로나 데이터 시각화"
   ]
  },
  {
   "cell_type": "markdown",
   "metadata": {},
   "source": [
    "월별, 일별, 요일별 패턴을 한 눈에 볼 수 있는 **Calendar Heat Map** 시각화를 통해 일별 코로나 확진자 수를 시각화했습니다.  \n",
    "(참조 링크: https://towardsdatascience.com/time-series-calendar-heatmaps-9f576578fcfe)"
   ]
  },
  {
   "cell_type": "code",
   "execution_count": 5,
   "metadata": {
    "scrolled": true
   },
   "outputs": [
    {
     "name": "stderr",
     "output_type": "stream",
     "text": [
      "Loading required package: lattice\n",
      "\n",
      "Loading required package: grid\n",
      "\n",
      "Loading required package: chron\n",
      "\n"
     ]
    },
    {
     "data": {
      "image/png": "[encoded data removed]",
      "text/plain": [
       "plot without title"
      ]
     },
     "metadata": {
      "image/png": {
       "height": 240,
       "width": 900
      }
     },
     "output_type": "display_data"
    }
   ],
   "source": [
    "source(\"https://raw.githubusercontent.com/iascchen/VisHealth/master/R/calendarHeat.R\")\n",
    "#install.packages(\"chron\")\n",
    "\n",
    "library(repr)\n",
    "# Change plot size to 15 x 4\n",
    "options(repr.plot.width=15, repr.plot.height=4)\n",
    "calendarHeat(dates = covidtime$date, values = confirmed_diff, color = \"g2r\", varname = \"일별 코로나 확진자 수\")"
   ]
  },
  {
   "cell_type": "markdown",
   "metadata": {},
   "source": [
    "1월 20일 최초 국내 확진자를 시작으로 __2월 말 ~ 3월 초__ 동안에 많은 수의 확진자가 나왔으며 이후 점점 감소하면서 안정화가 되어가는 모습을 확인할 수 있습니다. 코로나가 가장 극심했던 시기 전후로 국민들의 이동 패턴에 어떠한 변화가 생겼는지 DSRC 데이터와 대중교통 이용 데이터를 통해 살펴보겠습니다."
   ]
  },
  {
   "cell_type": "markdown",
   "metadata": {},
   "source": [
    "### DSRC 데이터 시각화  \n",
    "위에서 전처리한 일자별, 시간대별 DSRC 차량 수 데이터를 불러옵니다."
   ]
  },
  {
   "cell_type": "code",
   "execution_count": 57,
   "metadata": {
    "scrolled": true
   },
   "outputs": [
    {
     "data": {
      "text/html": [
       "<table>\n",
       "<caption>A data.table: 6 × 3</caption>\n",
       "<thead>\n",
       "\t<tr><th scope=col>date</th><th scope=col>time</th><th scope=col>count</th></tr>\n",
       "\t<tr><th scope=col>&lt;int&gt;</th><th scope=col>&lt;int&gt;</th><th scope=col>&lt;int&gt;</th></tr>\n",
       "</thead>\n",
       "<tbody>\n",
       "\t<tr><td>20190101</td><td>7</td><td> 62006</td></tr>\n",
       "\t<tr><td>20190101</td><td>8</td><td> 71474</td></tr>\n",
       "\t<tr><td>20190101</td><td>9</td><td>108913</td></tr>\n",
       "\t<tr><td>20190102</td><td>7</td><td>249633</td></tr>\n",
       "\t<tr><td>20190102</td><td>8</td><td>187285</td></tr>\n",
       "\t<tr><td>20190102</td><td>9</td><td>142170</td></tr>\n",
       "</tbody>\n",
       "</table>\n"
      ],
      "text/latex": [
       "A data.table: 6 × 3\n",
       "\\begin{tabular}{lll}\n",
       " date & time & count\\\\\n",
       " <int> & <int> & <int>\\\\\n",
       "\\hline\n",
       "\t 20190101 & 7 &  62006\\\\\n",
       "\t 20190101 & 8 &  71474\\\\\n",
       "\t 20190101 & 9 & 108913\\\\\n",
       "\t 20190102 & 7 & 249633\\\\\n",
       "\t 20190102 & 8 & 187285\\\\\n",
       "\t 20190102 & 9 & 142170\\\\\n",
       "\\end{tabular}\n"
      ],
      "text/markdown": [
       "\n",
       "A data.table: 6 × 3\n",
       "\n",
       "| date &lt;int&gt; | time &lt;int&gt; | count &lt;int&gt; |\n",
       "|---|---|---|\n",
       "| 20190101 | 7 |  62006 |\n",
       "| 20190101 | 8 |  71474 |\n",
       "| 20190101 | 9 | 108913 |\n",
       "| 20190102 | 7 | 249633 |\n",
       "| 20190102 | 8 | 187285 |\n",
       "| 20190102 | 9 | 142170 |\n",
       "\n"
      ],
      "text/plain": [
       "  date     time count \n",
       "1 20190101 7     62006\n",
       "2 20190101 8     71474\n",
       "3 20190101 9    108913\n",
       "4 20190102 7    249633\n",
       "5 20190102 8    187285\n",
       "6 20190102 9    142170"
      ]
     },
     "metadata": {},
     "output_type": "display_data"
    }
   ],
   "source": [
    "dsrc_count = fread(\"C:/Users/USER/dataset/dacon/DSRC원시자료/DSRC_count.csv\")\n",
    "head(dsrc_count)"
   ]
  },
  {
   "cell_type": "markdown",
   "metadata": {},
   "source": [
    "calendarHeat 함수의 입력 형식에 맞도록 DSRC 데이터의 date 변수를 %Y-%m-%d 형식으로 변환해 주고, 7-9시 데이터를 한 번에 보기 위해 일자별로 그룹핑하여 합계를 구합니다."
   ]
  },
  {
   "cell_type": "code",
   "execution_count": 58,
   "metadata": {
    "scrolled": true
   },
   "outputs": [
    {
     "data": {
      "text/html": [
       "<table>\n",
       "<caption>A data.table: 6 × 2</caption>\n",
       "<thead>\n",
       "\t<tr><th scope=col>date</th><th scope=col>count</th></tr>\n",
       "\t<tr><th scope=col>&lt;date&gt;</th><th scope=col>&lt;int&gt;</th></tr>\n",
       "</thead>\n",
       "<tbody>\n",
       "\t<tr><td>2019-01-01</td><td>242393</td></tr>\n",
       "\t<tr><td>2019-01-02</td><td>579088</td></tr>\n",
       "\t<tr><td>2019-01-03</td><td>570310</td></tr>\n",
       "\t<tr><td>2019-01-04</td><td>564725</td></tr>\n",
       "\t<tr><td>2019-01-05</td><td>392217</td></tr>\n",
       "\t<tr><td>2019-01-06</td><td>240385</td></tr>\n",
       "</tbody>\n",
       "</table>\n"
      ],
      "text/latex": [
       "A data.table: 6 × 2\n",
       "\\begin{tabular}{ll}\n",
       " date & count\\\\\n",
       " <date> & <int>\\\\\n",
       "\\hline\n",
       "\t 2019-01-01 & 242393\\\\\n",
       "\t 2019-01-02 & 579088\\\\\n",
       "\t 2019-01-03 & 570310\\\\\n",
       "\t 2019-01-04 & 564725\\\\\n",
       "\t 2019-01-05 & 392217\\\\\n",
       "\t 2019-01-06 & 240385\\\\\n",
       "\\end{tabular}\n"
      ],
      "text/markdown": [
       "\n",
       "A data.table: 6 × 2\n",
       "\n",
       "| date &lt;date&gt; | count &lt;int&gt; |\n",
       "|---|---|\n",
       "| 2019-01-01 | 242393 |\n",
       "| 2019-01-02 | 579088 |\n",
       "| 2019-01-03 | 570310 |\n",
       "| 2019-01-04 | 564725 |\n",
       "| 2019-01-05 | 392217 |\n",
       "| 2019-01-06 | 240385 |\n",
       "\n"
      ],
      "text/plain": [
       "  date       count \n",
       "1 2019-01-01 242393\n",
       "2 2019-01-02 579088\n",
       "3 2019-01-03 570310\n",
       "4 2019-01-04 564725\n",
       "5 2019-01-05 392217\n",
       "6 2019-01-06 240385"
      ]
     },
     "metadata": {},
     "output_type": "display_data"
    }
   ],
   "source": [
    "dsrc_count$date = as.Date(as.character(dsrc_count$date), \"%Y%m%d\")\n",
    "dsrc_count_bydate = dsrc_count[,.(count=sum(count)),by=date]\n",
    "head(dsrc_count_bydate)"
   ]
  },
  {
   "cell_type": "markdown",
   "metadata": {},
   "source": [
    "코로나 전후로 출근 첨두시(오전 7-10시)에 대해 어떠한 변화가 있었는지 코로나 데이터와 마찬가지로 **Calendar Heat Map**을 통해 시각화했습니다."
   ]
  },
  {
   "cell_type": "code",
   "execution_count": 59,
   "metadata": {
    "scrolled": true
   },
   "outputs": [
    {
     "data": {
      "image/png": "[encoded data removed]",
      "text/plain": [
       "plot without title"
      ]
     },
     "metadata": {
      "image/png": {
       "height": 240,
       "width": 900
      }
     },
     "output_type": "display_data"
    }
   ],
   "source": [
    "calendarHeat(dates = dsrc_count_bydate$date, values = dsrc_count_bydate$count, color = \"g2r\", varname = \"DSRC(7-9AM)\")"
   ]
  },
  {
   "cell_type": "markdown",
   "metadata": {},
   "source": [
    "**코로나 확진자 급증 이후**로 DSRC 데이터가 **약간 감소**했다 **시간이 지남에 따라 지난해 보다 증가**하는 것을 확인할 수 있습니다. 이번에는 각 시간대별로 어떠한 변화가 있었는지 조금 더 자세하게 살펴보겠습니다."
   ]
  },
  {
   "cell_type": "code",
   "execution_count": 60,
   "metadata": {
    "scrolled": true
   },
   "outputs": [
    {
     "data": {
      "image/png": "[encoded data removed]",
      "text/plain": [
       "plot without title"
      ]
     },
     "metadata": {
      "image/png": {
       "height": 240,
       "width": 900
      }
     },
     "output_type": "display_data"
    }
   ],
   "source": [
    "dsrc_count7 = dsrc_count[dsrc_count$time==7]\n",
    "calendarHeat(dates = dsrc_count7$date, values = dsrc_count7$count, color = \"g2r\", varname = \"DSRC(7AM)\")"
   ]
  },
  {
   "cell_type": "markdown",
   "metadata": {},
   "source": [
    "**7시 기준**으로는 코로나 확진자 수가 급증한 **2월말에서 3월초 사이에 변화는 미미**했고, **오히려 시간이 지남에 따라 전년도 대비 증가**하였습니다."
   ]
  },
  {
   "cell_type": "code",
   "execution_count": 10,
   "metadata": {
    "scrolled": true
   },
   "outputs": [
    {
     "data": {
      "image/png": "[encoded data removed]",
      "text/plain": [
       "plot without title"
      ]
     },
     "metadata": {
      "image/png": {
       "height": 240,
       "width": 900
      }
     },
     "output_type": "display_data"
    }
   ],
   "source": [
    "dsrc_count8 = dsrc_count[dsrc_count$time==8]\n",
    "calendarHeat(dates = dsrc_count8$date, values = dsrc_count8$count, color = \"g2r\", varname = \"DSRC(8AM)\")"
   ]
  },
  {
   "cell_type": "markdown",
   "metadata": {},
   "source": [
    "**8시 기준**으로는 **2월말에서 3월초에 조금 감소**하였으나, 7시와 마찬가지로 **시간이 지남에 따라 전년도보다 증가**한 것을 확인할 수 있습니다."
   ]
  },
  {
   "cell_type": "code",
   "execution_count": 11,
   "metadata": {
    "scrolled": true
   },
   "outputs": [
    {
     "data": {
      "image/png": "[encoded data removed]",
      "text/plain": [
       "plot without title"
      ]
     },
     "metadata": {
      "image/png": {
       "height": 240,
       "width": 900
      }
     },
     "output_type": "display_data"
    }
   ],
   "source": [
    "dsrc_count9 = dsrc_count[dsrc_count$time==9]\n",
    "calendarHeat(dates = dsrc_count9$date, values = dsrc_count9$count, color = \"g2r\", varname = \"DSRC(9AM)\")"
   ]
  },
  {
   "cell_type": "markdown",
   "metadata": {},
   "source": [
    "9시 기준으로는 조금 다른 패턴을 보입니다. **2월말에서 3월초에 눈에 띄게 감소**했으며 **시간이 지나면서 전년도와 비슷한 수준으로 증가**했습니다. **7-8시는 출근시간대**인 것을 감안할 때, **코로나 확진자 급증 이후 개인 이동 수단을 선호**하게 되어 자가용 차를 타고 다니는 사람이 늘어난 것으로 예상해 볼 수 있습니다. 일반적으로 출근 시간은 9시까지이므로 **9시 이후 데이터**는 **유연근무제를 시행하는 회사에 출근**하거나, **휴가를 통해 놀러가는 차량**으로 볼 수 있습니다. 유연 근무제를 시행하는 회사의 경우 코로나 확진자가 급증하자 **재택 근무**를 시행했을 수 있고([유연근무제 근로자 10명 중 4명은 재택근무 택했다](https://www.ajunews.com/view/20200623140331544)), 코로나 위험으로 외출을 자제하여 휴가를 통해 놀러가는 빈도 역시 줄어들었을 것이므로 이와 같은 결과가 나온 것이라 추측해볼 수 있습니다."
   ]
  },
  {
   "attachments": {
    "image.png": {
     "image/png": "[encoded data removed]"
    }
   },
   "cell_type": "markdown",
   "metadata": {},
   "source": [
    "### 교통 카드 데이터 시각화  \n",
    "이번에는 대중 교통 이용량에는 어떤 변화가 생겼는지 살펴보겠습니다.  \n",
    "사용한 데이터는 교통수단별 이용량(DM_TFBY_USEV_SMY.dat) 파일입니다. ( CARD_0001.zip 파일에 있습니다.)\n",
    "![image.png](attachment:image.png)  \n",
    "해당 데이터를 통해 일별 대중교통 이용량을 파악할 수 있습니다.  \n",
    "시도, 시군구 코드와 교통수단 코드는 아래와 같습니다."
   ]
  },
  {
   "cell_type": "code",
   "execution_count": 12,
   "metadata": {},
   "outputs": [],
   "source": [
    "dd_area = fread(\"C:/Users/USER/dataset/dacon/교통카드 대중교통 이용정보/DD_AREA.dat\", sep='|', header = F, encoding = \"UTF-8\")\n",
    "dw_tfcmn = fread(\"C:/Users/USER/dataset/dacon/교통카드 대중교통 이용정보/DW_TFCMN.dat\", sep='|', header = F, encoding = \"UTF-8\")"
   ]
  },
  {
   "cell_type": "code",
   "execution_count": 13,
   "metadata": {},
   "outputs": [
    {
     "data": {
      "text/html": [
       "<table>\n",
       "<caption>A data.table: 20547 × 7</caption>\n",
       "<thead>\n",
       "\t<tr><th scope=col>V1</th><th scope=col>V2</th><th scope=col>V3</th><th scope=col>V4</th><th scope=col>V5</th><th scope=col>V6</th><th scope=col>V7</th></tr>\n",
       "\t<tr><th scope=col>&lt;int&gt;</th><th scope=col>&lt;int&gt;</th><th scope=col>&lt;int&gt;</th><th scope=col>&lt;int64&gt;</th><th scope=col>&lt;chr&gt;</th><th scope=col>&lt;chr&gt;</th><th scope=col>&lt;chr&gt;</th></tr>\n",
       "</thead>\n",
       "<tbody>\n",
       "\t<tr><td>1</td><td>11</td><td>11000</td><td>1100000000</td><td>서울특별시</td><td>서울특별시</td><td>서울특별시</td></tr>\n",
       "\t<tr><td>2</td><td>11</td><td>11110</td><td>1111000000</td><td>서울특별시</td><td>종로구    </td><td>종로구    </td></tr>\n",
       "\t<tr><td>3</td><td>11</td><td>11110</td><td>1111010100</td><td>서울특별시</td><td>종로구    </td><td>청운동    </td></tr>\n",
       "\t<tr><td>3</td><td>11</td><td>11110</td><td>1111010200</td><td>서울특별시</td><td>종로구    </td><td>신교동    </td></tr>\n",
       "\t<tr><td>3</td><td>11</td><td>11110</td><td>1111010300</td><td>서울특별시</td><td>종로구    </td><td>궁정동    </td></tr>\n",
       "\t<tr><td>3</td><td>11</td><td>11110</td><td>1111010400</td><td>서울특별시</td><td>종로구    </td><td>효자동    </td></tr>\n",
       "\t<tr><td>3</td><td>11</td><td>11110</td><td>1111010500</td><td>서울특별시</td><td>종로구    </td><td>창성동    </td></tr>\n",
       "\t<tr><td>3</td><td>11</td><td>11110</td><td>1111010600</td><td>서울특별시</td><td>종로구    </td><td>통의동    </td></tr>\n",
       "\t<tr><td>3</td><td>11</td><td>11110</td><td>1111010700</td><td>서울특별시</td><td>종로구    </td><td>적선동    </td></tr>\n",
       "\t<tr><td>3</td><td>11</td><td>11110</td><td>1111010800</td><td>서울특별시</td><td>종로구    </td><td>통인동    </td></tr>\n",
       "\t<tr><td>3</td><td>11</td><td>11110</td><td>1111010900</td><td>서울특별시</td><td>종로구    </td><td>누상동    </td></tr>\n",
       "\t<tr><td>3</td><td>11</td><td>11110</td><td>1111011000</td><td>서울특별시</td><td>종로구    </td><td>누하동    </td></tr>\n",
       "\t<tr><td>3</td><td>11</td><td>11110</td><td>1111011100</td><td>서울특별시</td><td>종로구    </td><td>옥인동    </td></tr>\n",
       "\t<tr><td>3</td><td>11</td><td>11110</td><td>1111011200</td><td>서울특별시</td><td>종로구    </td><td>체부동    </td></tr>\n",
       "\t<tr><td>3</td><td>11</td><td>11110</td><td>1111011300</td><td>서울특별시</td><td>종로구    </td><td>필운동    </td></tr>\n",
       "\t<tr><td>3</td><td>11</td><td>11110</td><td>1111011400</td><td>서울특별시</td><td>종로구    </td><td>내자동    </td></tr>\n",
       "\t<tr><td>3</td><td>11</td><td>11110</td><td>1111011500</td><td>서울특별시</td><td>종로구    </td><td>사직동    </td></tr>\n",
       "\t<tr><td>3</td><td>11</td><td>11110</td><td>1111011600</td><td>서울특별시</td><td>종로구    </td><td>도렴동    </td></tr>\n",
       "\t<tr><td>3</td><td>11</td><td>11110</td><td>1111011700</td><td>서울특별시</td><td>종로구    </td><td>당주동    </td></tr>\n",
       "\t<tr><td>3</td><td>11</td><td>11110</td><td>1111011800</td><td>서울특별시</td><td>종로구    </td><td>내수동    </td></tr>\n",
       "\t<tr><td>3</td><td>11</td><td>11110</td><td>1111011900</td><td>서울특별시</td><td>종로구    </td><td>세종로    </td></tr>\n",
       "\t<tr><td>3</td><td>11</td><td>11110</td><td>1111012000</td><td>서울특별시</td><td>종로구    </td><td>신문로1가 </td></tr>\n",
       "\t<tr><td>3</td><td>11</td><td>11110</td><td>1111012100</td><td>서울특별시</td><td>종로구    </td><td>신문로2가 </td></tr>\n",
       "\t<tr><td>3</td><td>11</td><td>11110</td><td>1111012200</td><td>서울특별시</td><td>종로구    </td><td>청진동    </td></tr>\n",
       "\t<tr><td>3</td><td>11</td><td>11110</td><td>1111012300</td><td>서울특별시</td><td>종로구    </td><td>서린동    </td></tr>\n",
       "\t<tr><td>3</td><td>11</td><td>11110</td><td>1111012400</td><td>서울특별시</td><td>종로구    </td><td>수송동    </td></tr>\n",
       "\t<tr><td>3</td><td>11</td><td>11110</td><td>1111012500</td><td>서울특별시</td><td>종로구    </td><td>중학동    </td></tr>\n",
       "\t<tr><td>3</td><td>11</td><td>11110</td><td>1111012600</td><td>서울특별시</td><td>종로구    </td><td>종로1가   </td></tr>\n",
       "\t<tr><td>3</td><td>11</td><td>11110</td><td>1111012700</td><td>서울특별시</td><td>종로구    </td><td>공평동    </td></tr>\n",
       "\t<tr><td>3</td><td>11</td><td>11110</td><td>1111012800</td><td>서울특별시</td><td>종로구    </td><td>관훈동    </td></tr>\n",
       "\t<tr><td>...</td><td>...</td><td>...</td><td>...</td><td>...</td><td>...</td><td>...</td></tr>\n",
       "\t<tr><td>3</td><td>50</td><td>50130</td><td>5013025921</td><td>제주특별자치도</td><td>서귀포시</td><td>성산리</td></tr>\n",
       "\t<tr><td>3</td><td>50</td><td>50130</td><td>5013025922</td><td>제주특별자치도</td><td>서귀포시</td><td>오조리</td></tr>\n",
       "\t<tr><td>3</td><td>50</td><td>50130</td><td>5013025923</td><td>제주특별자치도</td><td>서귀포시</td><td>시흥리</td></tr>\n",
       "\t<tr><td>3</td><td>50</td><td>50130</td><td>5013025924</td><td>제주특별자치도</td><td>서귀포시</td><td>고성리</td></tr>\n",
       "\t<tr><td>3</td><td>50</td><td>50130</td><td>5013025925</td><td>제주특별자치도</td><td>서귀포시</td><td>수산리</td></tr>\n",
       "\t<tr><td>3</td><td>50</td><td>50130</td><td>5013025926</td><td>제주특별자치도</td><td>서귀포시</td><td>온평리</td></tr>\n",
       "\t<tr><td>3</td><td>50</td><td>50130</td><td>5013025927</td><td>제주특별자치도</td><td>서귀포시</td><td>신산리</td></tr>\n",
       "\t<tr><td>3</td><td>50</td><td>50130</td><td>5013025928</td><td>제주특별자치도</td><td>서귀포시</td><td>삼달리</td></tr>\n",
       "\t<tr><td>3</td><td>50</td><td>50130</td><td>5013025929</td><td>제주특별자치도</td><td>서귀포시</td><td>신풍리</td></tr>\n",
       "\t<tr><td>3</td><td>50</td><td>50130</td><td>5013025930</td><td>제주특별자치도</td><td>서귀포시</td><td>신천리</td></tr>\n",
       "\t<tr><td>3</td><td>50</td><td>50130</td><td>5013025931</td><td>제주특별자치도</td><td>서귀포시</td><td>난산리</td></tr>\n",
       "\t<tr><td>3</td><td>50</td><td>50130</td><td>5013031000</td><td>제주특별자치도</td><td>서귀포시</td><td>안덕면</td></tr>\n",
       "\t<tr><td>3</td><td>50</td><td>50130</td><td>5013031001</td><td>제주특별자치도</td><td>서귀포시</td><td>대평리</td></tr>\n",
       "\t<tr><td>3</td><td>50</td><td>50130</td><td>5013031021</td><td>제주특별자치도</td><td>서귀포시</td><td>화순리</td></tr>\n",
       "\t<tr><td>3</td><td>50</td><td>50130</td><td>5013031022</td><td>제주특별자치도</td><td>서귀포시</td><td>창천리</td></tr>\n",
       "\t<tr><td>3</td><td>50</td><td>50130</td><td>5013031023</td><td>제주특별자치도</td><td>서귀포시</td><td>감산리</td></tr>\n",
       "\t<tr><td>3</td><td>50</td><td>50130</td><td>5013031024</td><td>제주특별자치도</td><td>서귀포시</td><td>상창리</td></tr>\n",
       "\t<tr><td>3</td><td>50</td><td>50130</td><td>5013031025</td><td>제주특별자치도</td><td>서귀포시</td><td>사계리</td></tr>\n",
       "\t<tr><td>3</td><td>50</td><td>50130</td><td>5013031026</td><td>제주특별자치도</td><td>서귀포시</td><td>덕수리</td></tr>\n",
       "\t<tr><td>3</td><td>50</td><td>50130</td><td>5013031027</td><td>제주특별자치도</td><td>서귀포시</td><td>서광리</td></tr>\n",
       "\t<tr><td>3</td><td>50</td><td>50130</td><td>5013031028</td><td>제주특별자치도</td><td>서귀포시</td><td>동광리</td></tr>\n",
       "\t<tr><td>3</td><td>50</td><td>50130</td><td>5013031029</td><td>제주특별자치도</td><td>서귀포시</td><td>광평리</td></tr>\n",
       "\t<tr><td>3</td><td>50</td><td>50130</td><td>5013031030</td><td>제주특별자치도</td><td>서귀포시</td><td>상천리</td></tr>\n",
       "\t<tr><td>3</td><td>50</td><td>50130</td><td>5013032000</td><td>제주특별자치도</td><td>서귀포시</td><td>표선면</td></tr>\n",
       "\t<tr><td>3</td><td>50</td><td>50130</td><td>5013032021</td><td>제주특별자치도</td><td>서귀포시</td><td>표선리</td></tr>\n",
       "\t<tr><td>3</td><td>50</td><td>50130</td><td>5013032022</td><td>제주특별자치도</td><td>서귀포시</td><td>하천리</td></tr>\n",
       "\t<tr><td>3</td><td>50</td><td>50130</td><td>5013032023</td><td>제주특별자치도</td><td>서귀포시</td><td>성읍리</td></tr>\n",
       "\t<tr><td>3</td><td>50</td><td>50130</td><td>5013032024</td><td>제주특별자치도</td><td>서귀포시</td><td>가시리</td></tr>\n",
       "\t<tr><td>3</td><td>50</td><td>50130</td><td>5013032025</td><td>제주특별자치도</td><td>서귀포시</td><td>세화리</td></tr>\n",
       "\t<tr><td>3</td><td>50</td><td>50130</td><td>5013032026</td><td>제주특별자치도</td><td>서귀포시</td><td>토산리</td></tr>\n",
       "</tbody>\n",
       "</table>\n"
      ],
      "text/latex": [
       "A data.table: 20547 × 7\n",
       "\\begin{tabular}{lllllll}\n",
       " V1 & V2 & V3 & V4 & V5 & V6 & V7\\\\\n",
       " <int> & <int> & <int> & <int64> & <chr> & <chr> & <chr>\\\\\n",
       "\\hline\n",
       "\t 1 & 11 & 11000 & 1100000000 & 서울특별시 & 서울특별시 & 서울특별시\\\\\n",
       "\t 2 & 11 & 11110 & 1111000000 & 서울특별시 & 종로구     & 종로구    \\\\\n",
       "\t 3 & 11 & 11110 & 1111010100 & 서울특별시 & 종로구     & 청운동    \\\\\n",
       "\t 3 & 11 & 11110 & 1111010200 & 서울특별시 & 종로구     & 신교동    \\\\\n",
       "\t 3 & 11 & 11110 & 1111010300 & 서울특별시 & 종로구     & 궁정동    \\\\\n",
       "\t 3 & 11 & 11110 & 1111010400 & 서울특별시 & 종로구     & 효자동    \\\\\n",
       "\t 3 & 11 & 11110 & 1111010500 & 서울특별시 & 종로구     & 창성동    \\\\\n",
       "\t 3 & 11 & 11110 & 1111010600 & 서울특별시 & 종로구     & 통의동    \\\\\n",
       "\t 3 & 11 & 11110 & 1111010700 & 서울특별시 & 종로구     & 적선동    \\\\\n",
       "\t 3 & 11 & 11110 & 1111010800 & 서울특별시 & 종로구     & 통인동    \\\\\n",
       "\t 3 & 11 & 11110 & 1111010900 & 서울특별시 & 종로구     & 누상동    \\\\\n",
       "\t 3 & 11 & 11110 & 1111011000 & 서울특별시 & 종로구     & 누하동    \\\\\n",
       "\t 3 & 11 & 11110 & 1111011100 & 서울특별시 & 종로구     & 옥인동    \\\\\n",
       "\t 3 & 11 & 11110 & 1111011200 & 서울특별시 & 종로구     & 체부동    \\\\\n",
       "\t 3 & 11 & 11110 & 1111011300 & 서울특별시 & 종로구     & 필운동    \\\\\n",
       "\t 3 & 11 & 11110 & 1111011400 & 서울특별시 & 종로구     & 내자동    \\\\\n",
       "\t 3 & 11 & 11110 & 1111011500 & 서울특별시 & 종로구     & 사직동    \\\\\n",
       "\t 3 & 11 & 11110 & 1111011600 & 서울특별시 & 종로구     & 도렴동    \\\\\n",
       "\t 3 & 11 & 11110 & 1111011700 & 서울특별시 & 종로구     & 당주동    \\\\\n",
       "\t 3 & 11 & 11110 & 1111011800 & 서울특별시 & 종로구     & 내수동    \\\\\n",
       "\t 3 & 11 & 11110 & 1111011900 & 서울특별시 & 종로구     & 세종로    \\\\\n",
       "\t 3 & 11 & 11110 & 1111012000 & 서울특별시 & 종로구     & 신문로1가 \\\\\n",
       "\t 3 & 11 & 11110 & 1111012100 & 서울특별시 & 종로구     & 신문로2가 \\\\\n",
       "\t 3 & 11 & 11110 & 1111012200 & 서울특별시 & 종로구     & 청진동    \\\\\n",
       "\t 3 & 11 & 11110 & 1111012300 & 서울특별시 & 종로구     & 서린동    \\\\\n",
       "\t 3 & 11 & 11110 & 1111012400 & 서울특별시 & 종로구     & 수송동    \\\\\n",
       "\t 3 & 11 & 11110 & 1111012500 & 서울특별시 & 종로구     & 중학동    \\\\\n",
       "\t 3 & 11 & 11110 & 1111012600 & 서울특별시 & 종로구     & 종로1가   \\\\\n",
       "\t 3 & 11 & 11110 & 1111012700 & 서울특별시 & 종로구     & 공평동    \\\\\n",
       "\t 3 & 11 & 11110 & 1111012800 & 서울특별시 & 종로구     & 관훈동    \\\\\n",
       "\t ... & ... & ... & ... & ... & ... & ...\\\\\n",
       "\t 3 & 50 & 50130 & 5013025921 & 제주특별자치도 & 서귀포시 & 성산리\\\\\n",
       "\t 3 & 50 & 50130 & 5013025922 & 제주특별자치도 & 서귀포시 & 오조리\\\\\n",
       "\t 3 & 50 & 50130 & 5013025923 & 제주특별자치도 & 서귀포시 & 시흥리\\\\\n",
       "\t 3 & 50 & 50130 & 5013025924 & 제주특별자치도 & 서귀포시 & 고성리\\\\\n",
       "\t 3 & 50 & 50130 & 5013025925 & 제주특별자치도 & 서귀포시 & 수산리\\\\\n",
       "\t 3 & 50 & 50130 & 5013025926 & 제주특별자치도 & 서귀포시 & 온평리\\\\\n",
       "\t 3 & 50 & 50130 & 5013025927 & 제주특별자치도 & 서귀포시 & 신산리\\\\\n",
       "\t 3 & 50 & 50130 & 5013025928 & 제주특별자치도 & 서귀포시 & 삼달리\\\\\n",
       "\t 3 & 50 & 50130 & 5013025929 & 제주특별자치도 & 서귀포시 & 신풍리\\\\\n",
       "\t 3 & 50 & 50130 & 5013025930 & 제주특별자치도 & 서귀포시 & 신천리\\\\\n",
       "\t 3 & 50 & 50130 & 5013025931 & 제주특별자치도 & 서귀포시 & 난산리\\\\\n",
       "\t 3 & 50 & 50130 & 5013031000 & 제주특별자치도 & 서귀포시 & 안덕면\\\\\n",
       "\t 3 & 50 & 50130 & 5013031001 & 제주특별자치도 & 서귀포시 & 대평리\\\\\n",
       "\t 3 & 50 & 50130 & 5013031021 & 제주특별자치도 & 서귀포시 & 화순리\\\\\n",
       "\t 3 & 50 & 50130 & 5013031022 & 제주특별자치도 & 서귀포시 & 창천리\\\\\n",
       "\t 3 & 50 & 50130 & 5013031023 & 제주특별자치도 & 서귀포시 & 감산리\\\\\n",
       "\t 3 & 50 & 50130 & 5013031024 & 제주특별자치도 & 서귀포시 & 상창리\\\\\n",
       "\t 3 & 50 & 50130 & 5013031025 & 제주특별자치도 & 서귀포시 & 사계리\\\\\n",
       "\t 3 & 50 & 50130 & 5013031026 & 제주특별자치도 & 서귀포시 & 덕수리\\\\\n",
       "\t 3 & 50 & 50130 & 5013031027 & 제주특별자치도 & 서귀포시 & 서광리\\\\\n",
       "\t 3 & 50 & 50130 & 5013031028 & 제주특별자치도 & 서귀포시 & 동광리\\\\\n",
       "\t 3 & 50 & 50130 & 5013031029 & 제주특별자치도 & 서귀포시 & 광평리\\\\\n",
       "\t 3 & 50 & 50130 & 5013031030 & 제주특별자치도 & 서귀포시 & 상천리\\\\\n",
       "\t 3 & 50 & 50130 & 5013032000 & 제주특별자치도 & 서귀포시 & 표선면\\\\\n",
       "\t 3 & 50 & 50130 & 5013032021 & 제주특별자치도 & 서귀포시 & 표선리\\\\\n",
       "\t 3 & 50 & 50130 & 5013032022 & 제주특별자치도 & 서귀포시 & 하천리\\\\\n",
       "\t 3 & 50 & 50130 & 5013032023 & 제주특별자치도 & 서귀포시 & 성읍리\\\\\n",
       "\t 3 & 50 & 50130 & 5013032024 & 제주특별자치도 & 서귀포시 & 가시리\\\\\n",
       "\t 3 & 50 & 50130 & 5013032025 & 제주특별자치도 & 서귀포시 & 세화리\\\\\n",
       "\t 3 & 50 & 50130 & 5013032026 & 제주특별자치도 & 서귀포시 & 토산리\\\\\n",
       "\\end{tabular}\n"
      ],
      "text/markdown": [
       "\n",
       "A data.table: 20547 × 7\n",
       "\n",
       "| V1 &lt;int&gt; | V2 &lt;int&gt; | V3 &lt;int&gt; | V4 &lt;int64&gt; | V5 &lt;chr&gt; | V6 &lt;chr&gt; | V7 &lt;chr&gt; |\n",
       "|---|---|---|---|---|---|---|\n",
       "| 1 | 11 | 11000 | 1100000000 | 서울특별시 | 서울특별시 | 서울특별시 |\n",
       "| 2 | 11 | 11110 | 1111000000 | 서울특별시 | 종로구     | 종로구     |\n",
       "| 3 | 11 | 11110 | 1111010100 | 서울특별시 | 종로구     | 청운동     |\n",
       "| 3 | 11 | 11110 | 1111010200 | 서울특별시 | 종로구     | 신교동     |\n",
       "| 3 | 11 | 11110 | 1111010300 | 서울특별시 | 종로구     | 궁정동     |\n",
       "| 3 | 11 | 11110 | 1111010400 | 서울특별시 | 종로구     | 효자동     |\n",
       "| 3 | 11 | 11110 | 1111010500 | 서울특별시 | 종로구     | 창성동     |\n",
       "| 3 | 11 | 11110 | 1111010600 | 서울특별시 | 종로구     | 통의동     |\n",
       "| 3 | 11 | 11110 | 1111010700 | 서울특별시 | 종로구     | 적선동     |\n",
       "| 3 | 11 | 11110 | 1111010800 | 서울특별시 | 종로구     | 통인동     |\n",
       "| 3 | 11 | 11110 | 1111010900 | 서울특별시 | 종로구     | 누상동     |\n",
       "| 3 | 11 | 11110 | 1111011000 | 서울특별시 | 종로구     | 누하동     |\n",
       "| 3 | 11 | 11110 | 1111011100 | 서울특별시 | 종로구     | 옥인동     |\n",
       "| 3 | 11 | 11110 | 1111011200 | 서울특별시 | 종로구     | 체부동     |\n",
       "| 3 | 11 | 11110 | 1111011300 | 서울특별시 | 종로구     | 필운동     |\n",
       "| 3 | 11 | 11110 | 1111011400 | 서울특별시 | 종로구     | 내자동     |\n",
       "| 3 | 11 | 11110 | 1111011500 | 서울특별시 | 종로구     | 사직동     |\n",
       "| 3 | 11 | 11110 | 1111011600 | 서울특별시 | 종로구     | 도렴동     |\n",
       "| 3 | 11 | 11110 | 1111011700 | 서울특별시 | 종로구     | 당주동     |\n",
       "| 3 | 11 | 11110 | 1111011800 | 서울특별시 | 종로구     | 내수동     |\n",
       "| 3 | 11 | 11110 | 1111011900 | 서울특별시 | 종로구     | 세종로     |\n",
       "| 3 | 11 | 11110 | 1111012000 | 서울특별시 | 종로구     | 신문로1가  |\n",
       "| 3 | 11 | 11110 | 1111012100 | 서울특별시 | 종로구     | 신문로2가  |\n",
       "| 3 | 11 | 11110 | 1111012200 | 서울특별시 | 종로구     | 청진동     |\n",
       "| 3 | 11 | 11110 | 1111012300 | 서울특별시 | 종로구     | 서린동     |\n",
       "| 3 | 11 | 11110 | 1111012400 | 서울특별시 | 종로구     | 수송동     |\n",
       "| 3 | 11 | 11110 | 1111012500 | 서울특별시 | 종로구     | 중학동     |\n",
       "| 3 | 11 | 11110 | 1111012600 | 서울특별시 | 종로구     | 종로1가    |\n",
       "| 3 | 11 | 11110 | 1111012700 | 서울특별시 | 종로구     | 공평동     |\n",
       "| 3 | 11 | 11110 | 1111012800 | 서울특별시 | 종로구     | 관훈동     |\n",
       "| ... | ... | ... | ... | ... | ... | ... |\n",
       "| 3 | 50 | 50130 | 5013025921 | 제주특별자치도 | 서귀포시 | 성산리 |\n",
       "| 3 | 50 | 50130 | 5013025922 | 제주특별자치도 | 서귀포시 | 오조리 |\n",
       "| 3 | 50 | 50130 | 5013025923 | 제주특별자치도 | 서귀포시 | 시흥리 |\n",
       "| 3 | 50 | 50130 | 5013025924 | 제주특별자치도 | 서귀포시 | 고성리 |\n",
       "| 3 | 50 | 50130 | 5013025925 | 제주특별자치도 | 서귀포시 | 수산리 |\n",
       "| 3 | 50 | 50130 | 5013025926 | 제주특별자치도 | 서귀포시 | 온평리 |\n",
       "| 3 | 50 | 50130 | 5013025927 | 제주특별자치도 | 서귀포시 | 신산리 |\n",
       "| 3 | 50 | 50130 | 5013025928 | 제주특별자치도 | 서귀포시 | 삼달리 |\n",
       "| 3 | 50 | 50130 | 5013025929 | 제주특별자치도 | 서귀포시 | 신풍리 |\n",
       "| 3 | 50 | 50130 | 5013025930 | 제주특별자치도 | 서귀포시 | 신천리 |\n",
       "| 3 | 50 | 50130 | 5013025931 | 제주특별자치도 | 서귀포시 | 난산리 |\n",
       "| 3 | 50 | 50130 | 5013031000 | 제주특별자치도 | 서귀포시 | 안덕면 |\n",
       "| 3 | 50 | 50130 | 5013031001 | 제주특별자치도 | 서귀포시 | 대평리 |\n",
       "| 3 | 50 | 50130 | 5013031021 | 제주특별자치도 | 서귀포시 | 화순리 |\n",
       "| 3 | 50 | 50130 | 5013031022 | 제주특별자치도 | 서귀포시 | 창천리 |\n",
       "| 3 | 50 | 50130 | 5013031023 | 제주특별자치도 | 서귀포시 | 감산리 |\n",
       "| 3 | 50 | 50130 | 5013031024 | 제주특별자치도 | 서귀포시 | 상창리 |\n",
       "| 3 | 50 | 50130 | 5013031025 | 제주특별자치도 | 서귀포시 | 사계리 |\n",
       "| 3 | 50 | 50130 | 5013031026 | 제주특별자치도 | 서귀포시 | 덕수리 |\n",
       "| 3 | 50 | 50130 | 5013031027 | 제주특별자치도 | 서귀포시 | 서광리 |\n",
       "| 3 | 50 | 50130 | 5013031028 | 제주특별자치도 | 서귀포시 | 동광리 |\n",
       "| 3 | 50 | 50130 | 5013031029 | 제주특별자치도 | 서귀포시 | 광평리 |\n",
       "| 3 | 50 | 50130 | 5013031030 | 제주특별자치도 | 서귀포시 | 상천리 |\n",
       "| 3 | 50 | 50130 | 5013032000 | 제주특별자치도 | 서귀포시 | 표선면 |\n",
       "| 3 | 50 | 50130 | 5013032021 | 제주특별자치도 | 서귀포시 | 표선리 |\n",
       "| 3 | 50 | 50130 | 5013032022 | 제주특별자치도 | 서귀포시 | 하천리 |\n",
       "| 3 | 50 | 50130 | 5013032023 | 제주특별자치도 | 서귀포시 | 성읍리 |\n",
       "| 3 | 50 | 50130 | 5013032024 | 제주특별자치도 | 서귀포시 | 가시리 |\n",
       "| 3 | 50 | 50130 | 5013032025 | 제주특별자치도 | 서귀포시 | 세화리 |\n",
       "| 3 | 50 | 50130 | 5013032026 | 제주특별자치도 | 서귀포시 | 토산리 |\n",
       "\n"
      ],
      "text/plain": [
       "      V1  V2  V3    V4         V5             V6         V7        \n",
       "1     1   11  11000 1100000000 서울특별시     서울특별시 서울특별시\n",
       "2     2   11  11110 1111000000 서울특별시     종로구     종로구    \n",
       "3     3   11  11110 1111010100 서울특별시     종로구     청운동    \n",
       "4     3   11  11110 1111010200 서울특별시     종로구     신교동    \n",
       "5     3   11  11110 1111010300 서울특별시     종로구     궁정동    \n",
       "6     3   11  11110 1111010400 서울특별시     종로구     효자동    \n",
       "7     3   11  11110 1111010500 서울특별시     종로구     창성동    \n",
       "8     3   11  11110 1111010600 서울특별시     종로구     통의동    \n",
       "9     3   11  11110 1111010700 서울특별시     종로구     적선동    \n",
       "10    3   11  11110 1111010800 서울특별시     종로구     통인동    \n",
       "11    3   11  11110 1111010900 서울특별시     종로구     누상동    \n",
       "12    3   11  11110 1111011000 서울특별시     종로구     누하동    \n",
       "13    3   11  11110 1111011100 서울특별시     종로구     옥인동    \n",
       "14    3   11  11110 1111011200 서울특별시     종로구     체부동    \n",
       "15    3   11  11110 1111011300 서울특별시     종로구     필운동    \n",
       "16    3   11  11110 1111011400 서울특별시     종로구     내자동    \n",
       "17    3   11  11110 1111011500 서울특별시     종로구     사직동    \n",
       "18    3   11  11110 1111011600 서울특별시     종로구     도렴동    \n",
       "19    3   11  11110 1111011700 서울특별시     종로구     당주동    \n",
       "20    3   11  11110 1111011800 서울특별시     종로구     내수동    \n",
       "21    3   11  11110 1111011900 서울특별시     종로구     세종로    \n",
       "22    3   11  11110 1111012000 서울특별시     종로구     신문로1가 \n",
       "23    3   11  11110 1111012100 서울특별시     종로구     신문로2가 \n",
       "24    3   11  11110 1111012200 서울특별시     종로구     청진동    \n",
       "25    3   11  11110 1111012300 서울특별시     종로구     서린동    \n",
       "26    3   11  11110 1111012400 서울특별시     종로구     수송동    \n",
       "27    3   11  11110 1111012500 서울특별시     종로구     중학동    \n",
       "28    3   11  11110 1111012600 서울특별시     종로구     종로1가   \n",
       "29    3   11  11110 1111012700 서울특별시     종로구     공평동    \n",
       "30    3   11  11110 1111012800 서울특별시     종로구     관훈동    \n",
       "...   ... ... ...   ...        ...            ...        ...       \n",
       "20518 3   50  50130 5013025921 제주특별자치도 서귀포시   성산리    \n",
       "20519 3   50  50130 5013025922 제주특별자치도 서귀포시   오조리    \n",
       "20520 3   50  50130 5013025923 제주특별자치도 서귀포시   시흥리    \n",
       "20521 3   50  50130 5013025924 제주특별자치도 서귀포시   고성리    \n",
       "20522 3   50  50130 5013025925 제주특별자치도 서귀포시   수산리    \n",
       "20523 3   50  50130 5013025926 제주특별자치도 서귀포시   온평리    \n",
       "20524 3   50  50130 5013025927 제주특별자치도 서귀포시   신산리    \n",
       "20525 3   50  50130 5013025928 제주특별자치도 서귀포시   삼달리    \n",
       "20526 3   50  50130 5013025929 제주특별자치도 서귀포시   신풍리    \n",
       "20527 3   50  50130 5013025930 제주특별자치도 서귀포시   신천리    \n",
       "20528 3   50  50130 5013025931 제주특별자치도 서귀포시   난산리    \n",
       "20529 3   50  50130 5013031000 제주특별자치도 서귀포시   안덕면    \n",
       "20530 3   50  50130 5013031001 제주특별자치도 서귀포시   대평리    \n",
       "20531 3   50  50130 5013031021 제주특별자치도 서귀포시   화순리    \n",
       "20532 3   50  50130 5013031022 제주특별자치도 서귀포시   창천리    \n",
       "20533 3   50  50130 5013031023 제주특별자치도 서귀포시   감산리    \n",
       "20534 3   50  50130 5013031024 제주특별자치도 서귀포시   상창리    \n",
       "20535 3   50  50130 5013031025 제주특별자치도 서귀포시   사계리    \n",
       "20536 3   50  50130 5013031026 제주특별자치도 서귀포시   덕수리    \n",
       "20537 3   50  50130 5013031027 제주특별자치도 서귀포시   서광리    \n",
       "20538 3   50  50130 5013031028 제주특별자치도 서귀포시   동광리    \n",
       "20539 3   50  50130 5013031029 제주특별자치도 서귀포시   광평리    \n",
       "20540 3   50  50130 5013031030 제주특별자치도 서귀포시   상천리    \n",
       "20541 3   50  50130 5013032000 제주특별자치도 서귀포시   표선면    \n",
       "20542 3   50  50130 5013032021 제주특별자치도 서귀포시   표선리    \n",
       "20543 3   50  50130 5013032022 제주특별자치도 서귀포시   하천리    \n",
       "20544 3   50  50130 5013032023 제주특별자치도 서귀포시   성읍리    \n",
       "20545 3   50  50130 5013032024 제주특별자치도 서귀포시   가시리    \n",
       "20546 3   50  50130 5013032025 제주특별자치도 서귀포시   세화리    \n",
       "20547 3   50  50130 5013032026 제주특별자치도 서귀포시   토산리    "
      ]
     },
     "metadata": {},
     "output_type": "display_data"
    }
   ],
   "source": [
    "dd_area"
   ]
  },
  {
   "cell_type": "code",
   "execution_count": 14,
   "metadata": {
    "scrolled": true
   },
   "outputs": [
    {
     "data": {
      "text/html": [
       "<table>\n",
       "<caption>A data.table: 12 × 2</caption>\n",
       "<thead>\n",
       "\t<tr><th scope=col>V1</th><th scope=col>V2</th></tr>\n",
       "\t<tr><th scope=col>&lt;int&gt;</th><th scope=col>&lt;chr&gt;</th></tr>\n",
       "</thead>\n",
       "<tbody>\n",
       "\t<tr><td> 1</td><td>시내      </td></tr>\n",
       "\t<tr><td> 2</td><td>시외      </td></tr>\n",
       "\t<tr><td> 3</td><td>좌석      </td></tr>\n",
       "\t<tr><td> 4</td><td>마을      </td></tr>\n",
       "\t<tr><td> 5</td><td>간선      </td></tr>\n",
       "\t<tr><td> 6</td><td>지선      </td></tr>\n",
       "\t<tr><td> 7</td><td>광역      </td></tr>\n",
       "\t<tr><td> 8</td><td>순환      </td></tr>\n",
       "\t<tr><td> 9</td><td>농어촌버스</td></tr>\n",
       "\t<tr><td>10</td><td>공항버스  </td></tr>\n",
       "\t<tr><td>11</td><td>도시철도  </td></tr>\n",
       "\t<tr><td>12</td><td>기타버스  </td></tr>\n",
       "</tbody>\n",
       "</table>\n"
      ],
      "text/latex": [
       "A data.table: 12 × 2\n",
       "\\begin{tabular}{ll}\n",
       " V1 & V2\\\\\n",
       " <int> & <chr>\\\\\n",
       "\\hline\n",
       "\t  1 & 시내      \\\\\n",
       "\t  2 & 시외      \\\\\n",
       "\t  3 & 좌석      \\\\\n",
       "\t  4 & 마을      \\\\\n",
       "\t  5 & 간선      \\\\\n",
       "\t  6 & 지선      \\\\\n",
       "\t  7 & 광역      \\\\\n",
       "\t  8 & 순환      \\\\\n",
       "\t  9 & 농어촌버스\\\\\n",
       "\t 10 & 공항버스  \\\\\n",
       "\t 11 & 도시철도  \\\\\n",
       "\t 12 & 기타버스  \\\\\n",
       "\\end{tabular}\n"
      ],
      "text/markdown": [
       "\n",
       "A data.table: 12 × 2\n",
       "\n",
       "| V1 &lt;int&gt; | V2 &lt;chr&gt; |\n",
       "|---|---|\n",
       "|  1 | 시내       |\n",
       "|  2 | 시외       |\n",
       "|  3 | 좌석       |\n",
       "|  4 | 마을       |\n",
       "|  5 | 간선       |\n",
       "|  6 | 지선       |\n",
       "|  7 | 광역       |\n",
       "|  8 | 순환       |\n",
       "|  9 | 농어촌버스 |\n",
       "| 10 | 공항버스   |\n",
       "| 11 | 도시철도   |\n",
       "| 12 | 기타버스   |\n",
       "\n"
      ],
      "text/plain": [
       "   V1 V2        \n",
       "1   1 시내      \n",
       "2   2 시외      \n",
       "3   3 좌석      \n",
       "4   4 마을      \n",
       "5   5 간선      \n",
       "6   6 지선      \n",
       "7   7 광역      \n",
       "8   8 순환      \n",
       "9   9 농어촌버스\n",
       "10 10 공항버스  \n",
       "11 11 도시철도  \n",
       "12 12 기타버스  "
      ]
     },
     "metadata": {},
     "output_type": "display_data"
    }
   ],
   "source": [
    "dw_tfcmn"
   ]
  },
  {
   "cell_type": "markdown",
   "metadata": {},
   "source": [
    "다음은 교통수단별 이용량 데이터입니다."
   ]
  },
  {
   "cell_type": "code",
   "execution_count": 15,
   "metadata": {
    "scrolled": false
   },
   "outputs": [
    {
     "data": {
      "text/html": [
       "<table>\n",
       "<caption>A data.table: 6 × 5</caption>\n",
       "<thead>\n",
       "\t<tr><th scope=col>V1</th><th scope=col>V2</th><th scope=col>V3</th><th scope=col>V4</th><th scope=col>V5</th></tr>\n",
       "\t<tr><th scope=col>&lt;int&gt;</th><th scope=col>&lt;chr&gt;</th><th scope=col>&lt;chr&gt;</th><th scope=col>&lt;chr&gt;</th><th scope=col>&lt;int&gt;</th></tr>\n",
       "</thead>\n",
       "<tbody>\n",
       "\t<tr><td>20190101</td><td>11</td><td>11000</td><td>01</td><td>682</td></tr>\n",
       "\t<tr><td>20190101</td><td>11</td><td>11000</td><td>04</td><td> 75</td></tr>\n",
       "\t<tr><td>20190101</td><td>11</td><td>11000</td><td>05</td><td> 31</td></tr>\n",
       "\t<tr><td>20190101</td><td>11</td><td>11000</td><td>07</td><td> 62</td></tr>\n",
       "\t<tr><td>20190101</td><td>11</td><td>11000</td><td>10</td><td> 45</td></tr>\n",
       "\t<tr><td>20190101</td><td>11</td><td>11000</td><td>11</td><td>  1</td></tr>\n",
       "</tbody>\n",
       "</table>\n"
      ],
      "text/latex": [
       "A data.table: 6 × 5\n",
       "\\begin{tabular}{lllll}\n",
       " V1 & V2 & V3 & V4 & V5\\\\\n",
       " <int> & <chr> & <chr> & <chr> & <int>\\\\\n",
       "\\hline\n",
       "\t 20190101 & 11 & 11000 & 01 & 682\\\\\n",
       "\t 20190101 & 11 & 11000 & 04 &  75\\\\\n",
       "\t 20190101 & 11 & 11000 & 05 &  31\\\\\n",
       "\t 20190101 & 11 & 11000 & 07 &  62\\\\\n",
       "\t 20190101 & 11 & 11000 & 10 &  45\\\\\n",
       "\t 20190101 & 11 & 11000 & 11 &   1\\\\\n",
       "\\end{tabular}\n"
      ],
      "text/markdown": [
       "\n",
       "A data.table: 6 × 5\n",
       "\n",
       "| V1 &lt;int&gt; | V2 &lt;chr&gt; | V3 &lt;chr&gt; | V4 &lt;chr&gt; | V5 &lt;int&gt; |\n",
       "|---|---|---|---|---|\n",
       "| 20190101 | 11 | 11000 | 01 | 682 |\n",
       "| 20190101 | 11 | 11000 | 04 |  75 |\n",
       "| 20190101 | 11 | 11000 | 05 |  31 |\n",
       "| 20190101 | 11 | 11000 | 07 |  62 |\n",
       "| 20190101 | 11 | 11000 | 10 |  45 |\n",
       "| 20190101 | 11 | 11000 | 11 |   1 |\n",
       "\n"
      ],
      "text/plain": [
       "  V1       V2 V3    V4 V5 \n",
       "1 20190101 11 11000 01 682\n",
       "2 20190101 11 11000 04  75\n",
       "3 20190101 11 11000 05  31\n",
       "4 20190101 11 11000 07  62\n",
       "5 20190101 11 11000 10  45\n",
       "6 20190101 11 11000 11   1"
      ]
     },
     "metadata": {},
     "output_type": "display_data"
    }
   ],
   "source": [
    "dm_tf = fread(\"C:/Users/USER/dataset/dacon/교통카드 대중교통 이용정보/DM_TFBY_USEV_SMY.dat\", sep='|', header = F)\n",
    "head(dm_tf)"
   ]
  },
  {
   "cell_type": "markdown",
   "metadata": {},
   "source": [
    "변수명을 엑셀파일을 참고하여 변경해주고, DSRC 데이터와 마찬가지로 date 포맷을 변경해줍니다.  \n",
    "지역별로 일별 대중교통 이용량을 분석하기 위해 시도 코드와 운행 일자로 group by 하여 USE_CNT의 합을 계산합니다."
   ]
  },
  {
   "cell_type": "code",
   "execution_count": 16,
   "metadata": {
    "scrolled": true
   },
   "outputs": [
    {
     "data": {
      "text/html": [
       "<table>\n",
       "<caption>A data.table: 6 × 3</caption>\n",
       "<thead>\n",
       "\t<tr><th scope=col>OPRAT_DATE</th><th scope=col>SD_CD</th><th scope=col>V1</th></tr>\n",
       "\t<tr><th scope=col>&lt;date&gt;</th><th scope=col>&lt;chr&gt;</th><th scope=col>&lt;int&gt;</th></tr>\n",
       "</thead>\n",
       "<tbody>\n",
       "\t<tr><td>2019-01-01</td><td>11</td><td>5137990</td></tr>\n",
       "\t<tr><td>2019-01-01</td><td>26</td><td>1304078</td></tr>\n",
       "\t<tr><td>2019-01-01</td><td>27</td><td> 465545</td></tr>\n",
       "\t<tr><td>2019-01-01</td><td>28</td><td> 741922</td></tr>\n",
       "\t<tr><td>2019-01-01</td><td>29</td><td> 175491</td></tr>\n",
       "\t<tr><td>2019-01-01</td><td>30</td><td> 239090</td></tr>\n",
       "</tbody>\n",
       "</table>\n"
      ],
      "text/latex": [
       "A data.table: 6 × 3\n",
       "\\begin{tabular}{lll}\n",
       " OPRAT\\_DATE & SD\\_CD & V1\\\\\n",
       " <date> & <chr> & <int>\\\\\n",
       "\\hline\n",
       "\t 2019-01-01 & 11 & 5137990\\\\\n",
       "\t 2019-01-01 & 26 & 1304078\\\\\n",
       "\t 2019-01-01 & 27 &  465545\\\\\n",
       "\t 2019-01-01 & 28 &  741922\\\\\n",
       "\t 2019-01-01 & 29 &  175491\\\\\n",
       "\t 2019-01-01 & 30 &  239090\\\\\n",
       "\\end{tabular}\n"
      ],
      "text/markdown": [
       "\n",
       "A data.table: 6 × 3\n",
       "\n",
       "| OPRAT_DATE &lt;date&gt; | SD_CD &lt;chr&gt; | V1 &lt;int&gt; |\n",
       "|---|---|---|\n",
       "| 2019-01-01 | 11 | 5137990 |\n",
       "| 2019-01-01 | 26 | 1304078 |\n",
       "| 2019-01-01 | 27 |  465545 |\n",
       "| 2019-01-01 | 28 |  741922 |\n",
       "| 2019-01-01 | 29 |  175491 |\n",
       "| 2019-01-01 | 30 |  239090 |\n",
       "\n"
      ],
      "text/plain": [
       "  OPRAT_DATE SD_CD V1     \n",
       "1 2019-01-01 11    5137990\n",
       "2 2019-01-01 26    1304078\n",
       "3 2019-01-01 27     465545\n",
       "4 2019-01-01 28     741922\n",
       "5 2019-01-01 29     175491\n",
       "6 2019-01-01 30     239090"
      ]
     },
     "metadata": {},
     "output_type": "display_data"
    }
   ],
   "source": [
    "colnames(dm_tf) =  c('OPRAT_DATE', 'SD_CD', 'SGG_CD', 'TFCMN_CD', 'USE_CNT')\n",
    "dm_tf$OPRAT_DATE = as.Date(as.character(dm_tf$OPRAT_DATE), \"%Y%m%d\")\n",
    "new_dm_tf = dm_tf[, sum(USE_CNT), by=c(\"OPRAT_DATE\", \"SD_CD\")]\n",
    "head(new_dm_tf)"
   ]
  },
  {
   "cell_type": "markdown",
   "metadata": {},
   "source": [
    "**서울특별시(시도코드 11)**의 대중교통 이용 패턴을 살펴보겠습니다."
   ]
  },
  {
   "cell_type": "code",
   "execution_count": 17,
   "metadata": {
    "scrolled": false
   },
   "outputs": [
    {
     "data": {
      "image/png": "[encoded data removed]",
      "text/plain": [
       "plot without title"
      ]
     },
     "metadata": {
      "image/png": {
       "height": 240,
       "width": 900
      }
     },
     "output_type": "display_data"
    }
   ],
   "source": [
    "new_dm_tf_SEOUL = new_dm_tf[new_dm_tf$SD_CD == 11]\n",
    "calendarHeat(dates = new_dm_tf_SEOUL$OPRAT_DATE, values = new_dm_tf_SEOUL$V1, color = \"g2r\", varname = \"대중교통 이용 건수(서울특별시)\")"
   ]
  },
  {
   "cell_type": "markdown",
   "metadata": {},
   "source": [
    "아직은 국내 확진자가 나오지 않은 1월 초와 비교했을 때, 첫 확진자가 발생한 1월 20일 이후에 1차적으로 대중교통 이용 수가 약간 감소한 것을 볼 수 있습니다.\n",
    "이후 코로나 확진자가 가장 많이 나온 2월말에 대중교통 이용량이 눈에 띄게 감소하였습니다.\n",
    "기업들이 재택근무를 시작하기도 하고, 불안함에 외출을 자제한 영향도 있겠지만, 타인과 밀집하여 이동할 수 밖에 없는 대중 교통의 특성이 반영된 것으로 보입니다.\n",
    "확진자 추세가 안정화되는 4월 말부터 다시 조금씩 이용량이 증가하는 것도 확인할 수 있습니다.  \n",
    "**마스크 미착용시 대중교통 이용 불가 정책이 5월 26일에 시행 됐는데, 제공되는 데이터는 5월 말까지라 그 이후에 어떠한 변화가 있었는지도 볼 수 있었으면 좋았을 것 같습니다.** 모두가 마스크를 착용했을 때 감염율이 대폭 낮아지니 국민들이 조금이라도 더 안심하고 대중교통을 이용해서, 이용 수가 더 늘어나지 않았을까 조심스럽게 예측해 봅니다.(물론 당장 눈에 보이는 5월 26-31까지는 별다른 차이가 없지만요..)"
   ]
  },
  {
   "cell_type": "markdown",
   "metadata": {},
   "source": [
    "이번에는 이동 수단별 이용량에 대해 패턴을 살펴보겠습니다."
   ]
  },
  {
   "cell_type": "code",
   "execution_count": 18,
   "metadata": {
    "scrolled": true
   },
   "outputs": [
    {
     "data": {
      "text/html": [
       "<table>\n",
       "<caption>A data.table: 6 × 3</caption>\n",
       "<thead>\n",
       "\t<tr><th scope=col>OPRAT_DATE</th><th scope=col>TFCMN_CD</th><th scope=col>V1</th></tr>\n",
       "\t<tr><th scope=col>&lt;date&gt;</th><th scope=col>&lt;chr&gt;</th><th scope=col>&lt;int&gt;</th></tr>\n",
       "</thead>\n",
       "<tbody>\n",
       "\t<tr><td>2019-01-01</td><td>01</td><td>3348926</td></tr>\n",
       "\t<tr><td>2019-01-01</td><td>04</td><td>1182935</td></tr>\n",
       "\t<tr><td>2019-01-01</td><td>05</td><td>1368309</td></tr>\n",
       "\t<tr><td>2019-01-01</td><td>07</td><td> 250770</td></tr>\n",
       "\t<tr><td>2019-01-01</td><td>10</td><td>  18566</td></tr>\n",
       "\t<tr><td>2019-01-01</td><td>11</td><td>4490965</td></tr>\n",
       "</tbody>\n",
       "</table>\n"
      ],
      "text/latex": [
       "A data.table: 6 × 3\n",
       "\\begin{tabular}{lll}\n",
       " OPRAT\\_DATE & TFCMN\\_CD & V1\\\\\n",
       " <date> & <chr> & <int>\\\\\n",
       "\\hline\n",
       "\t 2019-01-01 & 01 & 3348926\\\\\n",
       "\t 2019-01-01 & 04 & 1182935\\\\\n",
       "\t 2019-01-01 & 05 & 1368309\\\\\n",
       "\t 2019-01-01 & 07 &  250770\\\\\n",
       "\t 2019-01-01 & 10 &   18566\\\\\n",
       "\t 2019-01-01 & 11 & 4490965\\\\\n",
       "\\end{tabular}\n"
      ],
      "text/markdown": [
       "\n",
       "A data.table: 6 × 3\n",
       "\n",
       "| OPRAT_DATE &lt;date&gt; | TFCMN_CD &lt;chr&gt; | V1 &lt;int&gt; |\n",
       "|---|---|---|\n",
       "| 2019-01-01 | 01 | 3348926 |\n",
       "| 2019-01-01 | 04 | 1182935 |\n",
       "| 2019-01-01 | 05 | 1368309 |\n",
       "| 2019-01-01 | 07 |  250770 |\n",
       "| 2019-01-01 | 10 |   18566 |\n",
       "| 2019-01-01 | 11 | 4490965 |\n",
       "\n"
      ],
      "text/plain": [
       "  OPRAT_DATE TFCMN_CD V1     \n",
       "1 2019-01-01 01       3348926\n",
       "2 2019-01-01 04       1182935\n",
       "3 2019-01-01 05       1368309\n",
       "4 2019-01-01 07        250770\n",
       "5 2019-01-01 10         18566\n",
       "6 2019-01-01 11       4490965"
      ]
     },
     "metadata": {},
     "output_type": "display_data"
    }
   ],
   "source": [
    "new_dm_tf2 = dm_tf[, sum(USE_CNT), by=c(\"OPRAT_DATE\", \"TFCMN_CD\")]\n",
    "head(new_dm_tf2)"
   ]
  },
  {
   "cell_type": "markdown",
   "metadata": {},
   "source": [
    "그 중 특별한 패턴을 보이는 **시외버스(TFCMN_CD 02)**와 **공항버스(TFCMN_CD 10)**에 대해 살펴보겠습니다."
   ]
  },
  {
   "cell_type": "code",
   "execution_count": 19,
   "metadata": {},
   "outputs": [
    {
     "data": {
      "image/png": "[encoded data removed]",
      "text/plain": [
       "plot without title"
      ]
     },
     "metadata": {
      "image/png": {
       "height": 240,
       "width": 900
      }
     },
     "output_type": "display_data"
    }
   ],
   "source": [
    "new_dm_tf2_SEOUL_TFCNM2 = new_dm_tf2[new_dm_tf2$TFCMN_CD==\"02\"]\n",
    "calendarHeat(dates = new_dm_tf2_SEOUL_TFCNM2$OPRAT_DATE, values = new_dm_tf2_SEOUL_TFCNM2$V1, color = \"g2r\", varname = \"대중교통 이용 건수(시외버스)\")"
   ]
  },
  {
   "cell_type": "code",
   "execution_count": 20,
   "metadata": {
    "scrolled": true
   },
   "outputs": [
    {
     "data": {
      "image/png": "[encoded data removed]",
      "text/plain": [
       "plot without title"
      ]
     },
     "metadata": {
      "image/png": {
       "height": 240,
       "width": 900
      }
     },
     "output_type": "display_data"
    }
   ],
   "source": [
    "new_dm_tf2_SEOUL_TFCNM2 = new_dm_tf2[new_dm_tf2$TFCMN_CD==\"10\"]\n",
    "calendarHeat(dates = new_dm_tf2_SEOUL_TFCNM2$OPRAT_DATE, values = new_dm_tf2_SEOUL_TFCNM2$V1, color = \"g2r\", varname = \"대중교통 이용 건수(공항버스)\")"
   ]
  },
  {
   "cell_type": "markdown",
   "metadata": {},
   "source": [
    "시외버스와 공항버스 모두 코로나 확진자 수가 급증한 시기부터 급격하게 감소한 것을 확인할 수 있으나, 2020년 1,2월에 이용 건수가 집중되어 있는 것은 조금 더 살펴볼 필요가 있는 것 같습니다."
   ]
  },
  {
   "cell_type": "markdown",
   "metadata": {},
   "source": [
    "데이터를 조금 더 자세히 보기 위해 **시도별** 시외버스 및 공항버스 이용 건수를 시각화 했습니다."
   ]
  },
  {
   "cell_type": "code",
   "execution_count": 21,
   "metadata": {},
   "outputs": [
    {
     "data": {
      "image/png": "[encoded data removed]",
      "text/plain": [
       "plot without title"
      ]
     },
     "metadata": {
      "image/png": {
       "height": 240,
       "width": 900
      }
     },
     "output_type": "display_data"
    },
    {
     "data": {
      "image/png": "[encoded data removed]",
      "text/plain": [
       "plot without title"
      ]
     },
     "metadata": {
      "image/png": {
       "height": 240,
       "width": 900
      }
     },
     "output_type": "display_data"
    }
   ],
   "source": [
    "dm_tf = fread(\"C:/Users/USER/dataset/dacon/교통카드 대중교통 이용정보/DM_TFBY_USEV_SMY.dat\", sep='|', header = F)\n",
    "colnames(dm_tf) =  c('OPRAT_DATE', 'SD_CD', 'SGG_CD', 'TFCMN_CD', 'USE_CNT')\n",
    "\n",
    "dd_area = fread(\"C:/Users/USER/dataset/dacon/교통카드 대중교통 이용정보/DD_AREA.dat\", sep='|', header = F, encoding=\"UTF-8\")\n",
    "colnames(dd_area) = c(\"AREA_GB\", \"SD_CD\", \"SGG_CD\", \"USE_AREA_CD\", \"SD_NM\", \"SGG_NM\", \"EMD_NM\")\n",
    "\n",
    "dm_tf$SD_NM = dd_area$SD_NM[match(dm_tf$SD_CD, dd_area$SD_CD)] # 시도 코드를 시도 이름으로 매칭하여 컬럼에 추가\n",
    "\n",
    "dm_tf$OPRAT_DATE = as.Date(as.character(dm_tf$OPRAT_DATE), \"%Y%m%d\")\n",
    "tfcmn02 = dm_tf[dm_tf$TFCMN_CD==\"02\"]\n",
    "tfcmn10 = dm_tf[dm_tf$TFCMN_CD==10]\n",
    "tfcmn02 = tfcmn02[,.(USE_CNT=sum(USE_CNT)),by=list(OPRAT_DATE, SD_NM)]\n",
    "tfcmn10 = tfcmn10[,.(USE_CNT=sum(USE_CNT)),by=list(OPRAT_DATE, SD_NM)]\n",
    "\n",
    "library(ggplot2)\n",
    "ggplot(tfcmn02, aes(x = OPRAT_DATE, y = USE_CNT)) + \n",
    "  ggtitle(\"시도별 시외버스 이용 건수\") +\n",
    "  geom_line(aes(color = SD_NM), size = 1) +\n",
    "  theme_minimal() + \n",
    "  theme(plot.title = element_text(face = \"bold\", hjust = 0.5, size = 20, color = \"darkblue\"))\n",
    "ggplot(tfcmn10, aes(x = OPRAT_DATE, y = USE_CNT)) + \n",
    "  ggtitle(\"시도별 공항버스 이용 건수\") +\n",
    "  geom_line(aes(color = SD_NM), size = 1) +\n",
    "  theme_minimal() + \n",
    "  theme(plot.title = element_text(face = \"bold\", hjust = 0.5, size = 20, color = \"darkblue\"))"
   ]
  },
  {
   "cell_type": "markdown",
   "metadata": {},
   "source": [
    "중간에 선이 길게 이어지는 부분은 해당 구간에 데이터가 없어서 생긴 것입니다. **제공된 데이터는 2019년 1-5월, 2020년 1-5월**에 대한 데이터입니다."
   ]
  },
  {
   "cell_type": "markdown",
   "metadata": {},
   "source": [
    "**시외버스**의 경우는 **2019년**에는 **강원도**와 **경상북도** 데이터만 있고, **2020년**에는 강원도 데이터가 사라지고, **경상북도, 부산광역시, 경산남도** 데이터가 포함되어 있습니다. 2019년과 2020년 데이터가 모두 있는 경상북도를 기준으로 본다면 1,2월 데이터가 작년과는 크게 차이가 없는 것을 확인할 수 있고, 2월말에 이용 수가 급감하는 것을 확인할 수 있습니다. **이를 통해 캘린더 히트맵에서 보인 1,2월에 이용 건수가 집중되어 있는 것은 데이터 수집 관련된 이슈로 보여집니다.**"
   ]
  },
  {
   "cell_type": "markdown",
   "metadata": {},
   "source": [
    "**공항버스**의 경우 인천광역시의 1월 이용 건수가 작년과 비교했을 때 3배 이상 증가한 것을 확인할 수 있습니다. 다른 시는 작년과 1월과 비교했을 때 큰 차이가 없습니다. 시외버스와 마찬가지로 데이터가 수집 된 지역이 다른지 확인하기 위해 **인천광역시**의 데이터만 가지고 **구별** 공항버스 이용 건수를 시각화했습니다."
   ]
  },
  {
   "cell_type": "code",
   "execution_count": 22,
   "metadata": {},
   "outputs": [
    {
     "data": {
      "image/png": "[encoded data removed]",
      "text/plain": [
       "plot without title"
      ]
     },
     "metadata": {
      "image/png": {
       "height": 240,
       "width": 900
      }
     },
     "output_type": "display_data"
    }
   ],
   "source": [
    "dm_tf$SGG_NM = dd_area$SGG_NM[match(dm_tf$SGG_CD, dd_area$SGG_CD)] # 시군구 코드를 시군구 이름으로 매칭하여 컬럼에 추가\n",
    "\n",
    "tfcmn10 = dm_tf[dm_tf$TFCMN_CD==10]\n",
    "tfcmn10 = tfcmn10[,.(USE_CNT=sum(USE_CNT)),by=list(OPRAT_DATE, SD_NM, SGG_NM)]\n",
    "\n",
    "ggplot(tfcmn10[tfcmn10$SD_NM=='인천광역시'], aes(x = OPRAT_DATE, y = USE_CNT)) + \n",
    "  ggtitle(\"인천광역시 구별 공항버스 이용 건수\") +\n",
    "  geom_line(aes(color = SGG_NM), size = 1) +\n",
    "  theme_minimal() + \n",
    "  theme(plot.title = element_text(face = \"bold\", hjust = 0.5, size = 20, color = \"darkblue\"))"
   ]
  },
  {
   "cell_type": "markdown",
   "metadata": {},
   "source": [
    "몇몇 구를 보면 2019년에 없던 데이터가 생긴 구도 있지만, 중구 데이터가 약 3배 늘은 것이 가장 먼저 보입니다. 중구는 인천국제공항이 있는 곳입니다. 혹시 작년 대비 해외여행객이 많이 늘은 것이 아닌가 해서 공항 이용자 수 통계를 찾아보았습니다. [한국공항공사 - 공항별 전년대비 통계](https://www.airport.co.kr/www/extra/stats/airportYearStats/layOut.do?menuId=398)"
   ]
  },
  {
   "cell_type": "markdown",
   "metadata": {},
   "source": [
    "기준 연도를 2020년, 시작 월과 종료 월을 1월, 공항 구분을 인천으로 설정했습니다. 전년대비 통계는 아래와 같습니다."
   ]
  },
  {
   "cell_type": "markdown",
   "metadata": {},
   "source": [
    "<img src=\"https://drive.google.com/uc?export=download&id=16O69I0h_Udfx-IRGfwX0sYLnv6yocRvX\" style=\"width:100%\">"
   ]
  },
  {
   "cell_type": "markdown",
   "metadata": {},
   "source": [
    "위의 표를 보면 여객 수는 2019년보다 0.9% 밖에 증가하지 않았습니다. 즉, 여행객 수가 늘어서 공항버스 이용 건수가 3배나 늘었다고 볼 수는 없는 것 같아 보입니다. 기사를 살펴봐도 이러한 상황을 설명하기는 어렵습니다. [인천공항 5월 이용객 13만명 ‘역대 최저’](http://news.khan.co.kr/kh_news/khan_art_view.html?art_id=202006011425011)"
   ]
  },
  {
   "cell_type": "markdown",
   "metadata": {},
   "source": [
    "<img src=\"https://drive.google.com/uc?export=download&id=1SScWToAE36mR9N4HRp5R3Cz0ZirtBI0Q\" style=\"width: 60%;\"/>"
   ]
  },
  {
   "cell_type": "markdown",
   "metadata": {},
   "source": [
    "데이터가 제공되는 기간인 올해 1~5월과 지난해 같은 기간을 비교했을 때, 누적 이용객이 64.2%나 감소한 반면, 공항버스 이용 건수는 늘었다는 것은 이해가 되지 않습니다. 5월 기준으로 인천공항 이용객은 지난해 대비 무려 97.6%나 감소했음에도 불구하고 2019년과 2020년의 5월 공항버스 이용량을 보면 2020년이 오히려 2배 이상 많은 것을 확인할 수 있습니다. *데이터를 취합하는 과정에서 2020년 인천광역시 공항버스 데이터가 중복해서 여러 번 입력된 것이 아닌가하는 생각이 듭니다.*"
   ]
  },
  {
   "cell_type": "code",
   "execution_count": 23,
   "metadata": {
    "scrolled": false
   },
   "outputs": [
    {
     "data": {
      "image/png": "[encoded data removed]",
      "text/plain": [
       "plot without title"
      ]
     },
     "metadata": {
      "image/png": {
       "height": 240,
       "width": 900
      }
     },
     "output_type": "display_data"
    }
   ],
   "source": [
    "tfcmn10_ICN = tfcmn10[tfcmn10$SD_NM=='인천광역시',.(USE_CNT=sum(USE_CNT)),by=list(OPRAT_DATE, SD_NM)]\n",
    "ggplot(tfcmn10_ICN, aes(x = OPRAT_DATE, y = USE_CNT)) + \n",
    "  ggtitle(\"인천광역시 공항버스 이용 건수\") +\n",
    "  geom_line(aes(color = SD_NM), size = 1) +\n",
    "  theme_minimal() + \n",
    "  theme(plot.title = element_text(face = \"bold\", hjust = 0.5, size = 20, color = \"darkblue\"))"
   ]
  },
  {
   "cell_type": "markdown",
   "metadata": {},
   "source": [
    "어떠한 이유로 인해 2020년 데이터의 양이 급증했지만 코로나가 극심했던 시기부터 이용 건수는 급격하게 감소한다는 사실은 변하지 않습니다.  "
   ]
  },
  {
   "cell_type": "markdown",
   "metadata": {},
   "source": [
    "특이한 패턴이 나온 이유를 살펴보다 잠시 딴 길로 새긴 했지만, 결론은 코로나로 인해 대중교통 이용량이 감소했다는 것입니다."
   ]
  },
  {
   "cell_type": "markdown",
   "metadata": {},
   "source": [
    "### KT 유동인구 데이터 시각화"
   ]
  },
  {
   "cell_type": "markdown",
   "metadata": {},
   "source": [
    "코로나로 인해 **외출이 감소하면서 대중교통 이용이 줄은 것인지**, **실제로 이용 빈도가 줄었는지** 확인하기 위해 **KT 유동인구 데이터**와 대중교통 이용건수 데이터를 함께 살펴보겠습니다."
   ]
  },
  {
   "cell_type": "markdown",
   "metadata": {},
   "source": [
    "<img src=\"https://drive.google.com/uc?export=download&id=1pjuLeuDKJgXhXv42jEelJNIgwgdhGvu4\" style=\"width:100%\">"
   ]
  },
  {
   "cell_type": "code",
   "execution_count": 24,
   "metadata": {},
   "outputs": [
    {
     "data": {
      "text/plain": [
       "\n",
       "      11 \n",
       "25391659 "
      ]
     },
     "metadata": {},
     "output_type": "display_data"
    },
    {
     "data": {
      "text/plain": [
       "\n",
       "      11 \n",
       "25737734 "
      ]
     },
     "metadata": {},
     "output_type": "display_data"
    }
   ],
   "source": [
    "fpopl_2019 = fread(\"C:/Users/USER/dataset/dacon/KT유동인구데이터/fpopl_2019/fpopl_2019.csv\")\n",
    "fpopl_2020 = fread(\"C:/Users/USER/dataset/dacon/KT유동인구데이터/fpopl_2020/fpopl_2020.csv\")\n",
    "fpopl_2019$base_ymd = as.Date(as.character(fpopl_2019$base_ymd), \"%Y%m%d\")\n",
    "fpopl_2020$base_ymd = as.Date(as.character(fpopl_2020$base_ymd), \"%Y%m%d\")\n",
    "fpopl_2019$SD_CD = substr(fpopl_2019$adstrd_code, 1, 2)\n",
    "fpopl_2020$SD_CD = substr(fpopl_2020$adstrd_code, 1, 2)\n",
    "table(fpopl_2019$SD_CD)\n",
    "table(fpopl_2020$SD_CD)"
   ]
  },
  {
   "cell_type": "markdown",
   "metadata": {},
   "source": [
    "행정동 코드를 보니 앞에 2자리가 위에서 사용한 시도 코드인 것 같아서 시도별로 몇 개씩 데이터가 있는지 먼저 확인해봤습니다. 행정동 코드 상세 테이블을 참고해보니 맨 앞이 11로 시작하는 것은 대중교통 데이터와 마찬가지로 서울특별시에 대한 코드였습니다. 따라서 제공받은 **KT 유동인구 데이터**는 **서울시**에 대한 데이터인 것을 확인할 수 있습니다.  \n",
    "일자별로 유동인구 수를 보기 위해 데이터를 처리하고 Calendar Heat Map을 그려보았습니다."
   ]
  },
  {
   "cell_type": "code",
   "execution_count": 25,
   "metadata": {},
   "outputs": [
    {
     "data": {
      "image/png": "[encoded data removed]",
      "text/plain": [
       "plot without title"
      ]
     },
     "metadata": {
      "image/png": {
       "height": 240,
       "width": 900
      }
     },
     "output_type": "display_data"
    }
   ],
   "source": [
    "fpopl_2019_byDate = fpopl_2019[,.(popltn_cascnt=sum(popltn_cascnt)),by=list(date = base_ymd)]\n",
    "fpopl_2020_byDate = fpopl_2020[,.(popltn_cascnt=sum(popltn_cascnt)),by=list(date = base_ymd)]\n",
    "\n",
    "fpopl_total = rbind(fpopl_2019_byDate, fpopl_2020_byDate)\n",
    "\n",
    "calendarHeat(dates = fpopl_total$date, values = fpopl_total$popltn_cascnt, color = \"g2r\", varname = \"서울특별시 일자별 유동인구\", )"
   ]
  },
  {
   "cell_type": "markdown",
   "metadata": {},
   "source": [
    "유동인구 역시 코로나가 확산한 2월말부터 급감한 것을 확인할 수 있습니다. 여기까지 본다면 유동인구가 줄어서 대중교통 이용량이 줄었다고 생각할 수도 있기 때문에, **유동인구 대비 대중교통 이용량**을 살펴볼 필요가 있습니다."
   ]
  },
  {
   "cell_type": "code",
   "execution_count": 26,
   "metadata": {},
   "outputs": [
    {
     "data": {
      "image/png": "[encoded data removed]",
      "text/plain": [
       "plot without title"
      ]
     },
     "metadata": {
      "image/png": {
       "height": 240,
       "width": 900
      }
     },
     "output_type": "display_data"
    }
   ],
   "source": [
    "dm_tf_SEOUL = dm_tf[dm_tf$SD_CD==11] # 서울시 대중교통 이용 건수\n",
    "dm_tf_SEOUL_byDate = dm_tf_SEOUL[,.(USE_CNT=sum(USE_CNT)), by=list(date = OPRAT_DATE)]\n",
    "\n",
    "merged_dm_fpopl = merge(dm_tf_SEOUL_byDate, fpopl_total)\n",
    "merged_dm_fpopl$ratio = merged_dm_fpopl$USE_CNT / merged_dm_fpopl$popltn_cascnt # 유동인구 대비 대중교통 이용 비율 계산\n",
    "\n",
    "calendarHeat(dates = merged_dm_fpopl$date, values = merged_dm_fpopl$ratio, color = \"g2r\", varname = \"일자별 유동인구 대비 대중교통 이용 비율\", )"
   ]
  },
  {
   "cell_type": "markdown",
   "metadata": {},
   "source": [
    "적당한 데이터 처리와 계산을 통해 일별로 유동인구 대비 대중교통 이용 비율을 계산해서 시각화 한 결과, **대중교통 이용 비율 또한 코로나 확산 시기에 급감한 것을 확인할 수 있습니다.** 따라서 코로나로 인해 외출이 감소했을 뿐만 아니라, 외출시에도 대중교통을 이전보다 덜 이용하게 되었다고 볼 수 있습니다."
   ]
  },
  {
   "cell_type": "markdown",
   "metadata": {},
   "source": [
    "그에 비해 DSRC 데이터는 시간대별로 다르지만, 눈에 띄게 감소하진 않았으며 오히려 시간이 지남에 따라 전년도보다 증가한 것을 확인할 수 있었습니다. 즉 **사람들은 안전한 이동을 위해 많은 사람들이 이용하는 대중교통 보다 자가용 차를 선호**하게 되었고, 이는 **도로에 차가 많아지게 해 교통 혼잡을 불러 일으킬 수 있습니다.**"
   ]
  },
  {
   "cell_type": "markdown",
   "metadata": {},
   "source": [
    "### 서울시 공공 자전거 데이터 시각화"
   ]
  },
  {
   "cell_type": "markdown",
   "metadata": {},
   "source": [
    "앞서 분석한 내용을 통해 국민들은 코로나의 위험으로부터 벗어나기 위해 대중교통 이용을 꺼려하고 상대적으로 안전한 자차를 이용하는 것을 확인했습니다. 대중교통 이용의 감소는 도로에 차를 더욱 많게 하고, 이는 교통 혼잡을 불러 일으킬 수 있습니다. 이를 해결하기 위한 대체 이동 수단이 필요합니다. 최근 국내 및 해외에서는 코로나의 여파로 자전거의 판매량이 급증했다고 합니다([두 바퀴로 가는 지구촌… 코로나19에 ‘자전거 열풍’](http://m.cnews.co.kr/m_home/view.jsp?idxno=202006151709031330918)).  코로나 때문에 실내 운동을 하지 못하게 되자, 개인 이동수단이면서 동시에 운동까지 되는 자전거를 찾게 된 것입니다. 실제로 자전거 이용량이 많이 늘었는지 서울시 공공 자전거인 따릉이 데이터를 통해 살펴보겠습니다."
   ]
  },
  {
   "cell_type": "code",
   "execution_count": 27,
   "metadata": {
    "scrolled": true
   },
   "outputs": [
    {
     "data": {
      "image/png": "[encoded data removed]",
      "text/plain": [
       "plot without title"
      ]
     },
     "metadata": {
      "image/png": {
       "height": 240,
       "width": 900
      }
     },
     "output_type": "display_data"
    }
   ],
   "source": [
    "seoul_bike = fread(\"C:/Users/USER/dataset/dacon/따릉이/일일 대여건수.csv\")\n",
    "seoul_bike$date = as.Date(as.character(seoul_bike$date), \"%Y.%m.%d\")\n",
    "seoul_bike$count = as.integer(gsub(',', '', seoul_bike$count))\n",
    "calendarHeat(dates = seoul_bike$date, values = seoul_bike$count, color = \"g2r\", varname = \"따릉이 일별 이용 건수\")"
   ]
  },
  {
   "cell_type": "markdown",
   "metadata": {},
   "source": [
    "일별 따릉이 이용 건수를 살펴본 결과 실제로 전년 대비 왼쪽으로 약간 쉬프트 된 것을 확인할 수 있습니다. 코로나 확진자가 증가한 이후에 대중교통 대신 따릉이를 이용 수단으로 사용한 것으로 보여집니다. 따릉이 일평균 이용자 수가 매년 증가하는 추세라서 ([서울시, 따릉이 4년…누적 대여 3천만 건 돌파](https://www.mk.co.kr/news/society/view/2019/11/902106/)) 이런 결과가 나온 것일 수도 있습니다. 이를 확인하기 위해 **일별 신규 가입자 수**를 분석해 보았습니다."
   ]
  },
  {
   "cell_type": "code",
   "execution_count": 28,
   "metadata": {},
   "outputs": [
    {
     "data": {
      "image/png": "[encoded data removed]",
      "text/plain": [
       "plot without title"
      ]
     },
     "metadata": {
      "image/png": {
       "height": 240,
       "width": 900
      }
     },
     "output_type": "display_data"
    }
   ],
   "source": [
    "seoul_bike_new = fread(\"C:/Users/USER/dataset/dacon/따릉이/신규가입자 정보(일별).csv\", encoding=\"UTF-8\")\n",
    "seoul_bike_new_bydate = seoul_bike_new[,.('가입 수'=sum(`가입 수`)),by=list(`가입일자`)]\n",
    "calendarHeat(dates = seoul_bike_new_bydate$`가입일자`, values = seoul_bike_new_bydate$`가입 수`, color = \"g2r\", varname = \"따릉이 일별 신규 가입자 수\")"
   ]
  },
  {
   "cell_type": "markdown",
   "metadata": {},
   "source": [
    "그 결과 일별 이용 건수와 마찬가지로 전년 대비 왼쪽으로 쉬프트 된 것을 볼 수 있습니다. 저도 따릉이 월정액권을 구매해서 출퇴근했던 이용자로써, 날씨가 너무 춥거나 너무 더울 땐 월정액권을 구매하지 않고 지하철을 이용했었습니다. **2019년** 데이터 역시 조금씩 **따뜻해지는 4월부터 이용 건수와 신규 가입자 수가 증가**한 반면, **2020년**은 보다 빠르게 **3월 중순부터 증가**한 것을 볼 수 있습니다. 혹시 올해가 지난 해보다 날씨가 빨리 따뜻해졌는지를 살펴볼 필요가 있습니다."
   ]
  },
  {
   "cell_type": "code",
   "execution_count": 29,
   "metadata": {},
   "outputs": [
    {
     "data": {
      "image/png": "[encoded data removed]",
      "text/plain": [
       "plot without title"
      ]
     },
     "metadata": {
      "image/png": {
       "height": 240,
       "width": 900
      }
     },
     "output_type": "display_data"
    }
   ],
   "source": [
    "temp = fread(\"C:/Users/USER/dataset/dacon/날씨데이터/평균기온.csv\", encoding=\"UTF-8\")\n",
    "colnames(temp) = c('date', 'avg_temp')\n",
    "temp$year = substr(temp$date,1,4)\n",
    "calendarHeat(dates = temp$date, values = temp$avg_temp, color = \"g2r\", varname = \"서울특별시 평균 기온\", )"
   ]
  },
  {
   "cell_type": "markdown",
   "metadata": {},
   "source": [
    "3월 기준으로 평균 기온은 전년도와 크게 다를게 없어 보입니다. 그렇다면 혹시 2019년 3월에 비가 많이 온 것은 아닐지, 강수량 데이터를 통해 확인해보겠습니다."
   ]
  },
  {
   "cell_type": "code",
   "execution_count": 42,
   "metadata": {
    "scrolled": false
   },
   "outputs": [
    {
     "data": {
      "image/png": "[encoded data removed]",
      "text/plain": [
       "plot without title"
      ]
     },
     "metadata": {
      "image/png": {
       "height": 240,
       "width": 900
      }
     },
     "output_type": "display_data"
    }
   ],
   "source": [
    "precipitation = fread(\"C:/Users/USER/dataset/dacon/날씨데이터/강수량.csv\")\n",
    "colnames(precipitation) = c('date', 'loc', 'precipitation')\n",
    "precipitation$precipitation[is.na(precipitation$precipitation)]=0 # NA to 0\n",
    "calendarHeat(dates = precipitation$date, values = precipitation$precipitation, color = \"g2r\", varname = \"서울특별시 강수량\", )"
   ]
  },
  {
   "cell_type": "markdown",
   "metadata": {},
   "source": [
    "강수량 역시 3월 기준으로 전년도와 크게 다르지 않았습니다. 조금 더 명확하게 구분하기 위하여 비가 오지 않은(강수량이 0인) 날짜만 시각화 해봤습니다."
   ]
  },
  {
   "cell_type": "code",
   "execution_count": 44,
   "metadata": {},
   "outputs": [
    {
     "data": {
      "image/png": "[encoded data removed]",
      "text/plain": [
       "plot without title"
      ]
     },
     "metadata": {
      "image/png": {
       "height": 240,
       "width": 900
      }
     },
     "output_type": "display_data"
    }
   ],
   "source": [
    "seoul_bike$date = as.character(seoul_bike$date)\n",
    "precipitation$date = as.character(precipitation$date)\n",
    "merge_ps = merge(precipitation, seoul_bike)\n",
    "merge_ps2 = merge_ps\n",
    "merge_ps2[merge_ps2$precipitation!=0]$count = NA\n",
    "calendarHeat(dates = merge_ps2$date, values = merge_ps2$count, color = \"g2r\", varname = \"서울시 공공자전거 대여 건수(강수량 0mm)\", )"
   ]
  },
  {
   "cell_type": "markdown",
   "metadata": {},
   "source": [
    "이를 통해 **코로나 확진자가 급증한 이후**로 상대적으로 안전한 이동수단인 **공공 자전거의 수요가 증가**한 것을 확인할 수 있습니다."
   ]
  },
  {
   "cell_type": "markdown",
   "metadata": {},
   "source": [
    "## 결론"
   ]
  },
  {
   "cell_type": "markdown",
   "metadata": {},
   "source": [
    "코로나 확진자의 증가가 국민들의 이동 패턴에 어떠한 변화를 일으켰는지 자가용 차, 대중교통, 유동인구, 공공자전거 및 날씨 데이터를 통해 살펴보았습니다. 거리두기가 중요한 만큼 사람들이 많이 이용하는 대중교통 이용 감소는 자가용 차의 증가로 이어집니다. 도로의 용량은 한정되어 있기 때문에 이러한 **자가용 차의 증가**는 **교통 혼잡**을 불러 일으킬 수 있고, **교통 혼잡 비용은 날이 갈수록 증가**하고 있습니다."
   ]
  },
  {
   "cell_type": "markdown",
   "metadata": {},
   "source": [
    "<img src=\"https://drive.google.com/uc?export=download&id=1HMA4ssKVCZ0D4nhFpi6Mmx5sTcy8CTec\" style=\"width:60%\">"
   ]
  },
  {
   "cell_type": "markdown",
   "metadata": {},
   "source": [
    "이러한 문제를 해결하기 위해 대중교통과 자동차를 대신할 수 있는 **안전하고 편리한 개인 이동 수단**이 필요합니다. 대표적인 예로 자전거가 있으며 서울시 공공 자전거 대여 건수와 신규 가입자 수 분석을 통해 실제로 많은 사람들이 대체 이동 수단으로 자전거를 선택한 것을 확인할 수 있었습니다."
   ]
  },
  {
   "cell_type": "markdown",
   "metadata": {},
   "source": [
    "## 대안책 - 자전거를 편리하고 안전한 이동 수단으로!"
   ]
  },
  {
   "cell_type": "markdown",
   "metadata": {},
   "source": [
    "자전거를 편리하고 안전한 이동 수단으로 이용하기 위해서는 몇 가지 이슈가 있습니다.  "
   ]
  },
  {
   "cell_type": "markdown",
   "metadata": {},
   "source": [
    "**첫 번째로**, **자전거 도로가 많이 부족**한 상황입니다([강북 따릉이가 더 위험한 이유…](http://newslabit.hankyung.com/article/201803086185G)). 그렇다고 **무작정 자전거 도로를 늘리는 것**은 **기존의 인도나 차도의 폭을 줄어들게 하여 오히려 불편함을 유발**할 수도 있습니다. 공유 자전거의 **O-D 패턴 및 수요 등을 분석**하여 **꼭 필요한 경로에 자전거 도로를 확충**하는 것이 중요한 과제가 될 것입니다.  "
   ]
  },
  {
   "cell_type": "markdown",
   "metadata": {},
   "source": [
    "**두 번째는**, 스마트폰으로 공공 자전거를 이용하기 때문에 **스마트폰이 익숙하지 않은 어르신들은 이용하기 어렵습니다**. 버스나 지하철을 이용하듯이 **공공자전거 대여소에 교통카드를 태그하는 방식으로 변화**한다면 누구나 쉽게 이용 가능해질 것입니다.  "
   ]
  },
  {
   "cell_type": "markdown",
   "metadata": {},
   "source": [
    "**세 번째로**, **출퇴근 길에 오르막이 많은 경우** 이용하기 꺼려진다는 점입니다. 운동이라고 생각하고 탄다면 문제가 되지 않지만, 날이 더운 경우 땀을 뻘뻘 흘리며 출근하게 되는 불상사가 생깁니다. 이를 해결하기 위한 방법은 **전기 자전거**가 있습니다. 이미 카카오에서 카카오 T 바이크 라는 것을 도입하여 전기 자전거 대여 서비스를 제공하고 있습니다([인천 연수구 '공유 전기자전거' 1천대 도입…자전거 활성화 추진](https://www.mk.co.kr/news/society/view/2019/02/104256/)). 각 **지자체에서도 공용 전기자전거 충전소 및 대여소를 설치**하고, **기존의 공공자전거와 다른 가격 정책**을 사용하여 서비스한다면 더욱 많은 사람이 자전거를 이용할 것으로 전망됩니다."
   ]
  },
  {
   "cell_type": "markdown",
   "metadata": {},
   "source": [
    "(8/28 추가)  \n",
    "**마지막으로**, 여러 사람이 사용하다보니 **손잡이를 통한 감염 위험**이 있습니다. [서울 관악구, 1천700여명 투입해 10일까지 코로나19 집중방역](https://m.yna.co.kr/view/AKR20200702047500004) 해당 기사의 이미지를 보면 공공 자전거의 손잡이를 사람이 직접 닦고 있습니다. 모든 공공 자전거를 사람이 직접 소독하는 것은 많은 인력과 시간이 소모됩니다.  \n",
    "이를 해결할 수 있는 방법에는 **두 가지**가 있습니다.  \n",
    "+ 이번에 [LG 이노텍에서 개발한 에스컬레이터 살균기](http://www.epnc.co.kr/news/articleView.html?idxno=76031)와 마찬가지로 기계가 대신할 수 있다고 생각합니다. 현재 자전거 거치대에는 자전거의 앞 바퀴만 끼우고 연결 고리를 거는 것으로 되어 있습니다. 여기에 **손잡이를 끼우는 부분을 추가하고 자외선 살균 기능**을 넣는다면 사람들이 더욱 안심하고 이용할 것입니다.  \n",
    "+ 다른 하나는 [NanoSeptic](https://www.autoevolution.com/news/wheels-launches-self-cleaning-e-bikes-to-prevent-covid-19-infection-142362.html)과 같은 기술을 적용하는 것입니다. NanoSeptic은 **빛으로 자체 소독**하는 특징을 가지고 있습니다. 미네랄 나노 결정을 사용하여 빛이 결정에 부딪히면 위험한 화학 물질을 사용하지 않고 표백제보다 강한 산화 반응으로 소독되는 방식입니다. **스킨과 같은 형태**라 **유지 보수를 하기엔 자외선 살균기보다 용이**하지만, 직접적으로 소독되고 있다는 느낌은 받지 못 하여 되려 찜찜한 느낌이 들 수는 있을 것 같습니다."
   ]
  },
  {
   "cell_type": "markdown",
   "metadata": {},
   "source": [
    "### 긴 글 읽어주셔서 감사합니다. 아직 부족한 내용이 많습니다. \n",
    "### 대회가 끝나는 날까지 계속해서 보완하도록 하겠습니다.\n",
    "### 피드백은 언제나 환영입니다. \n",
    "## 감사합니다!"
   ]
  },
  {
   "cell_type": "markdown",
   "metadata": {},
   "source": [
    "---"
   ]
  },
  {
   "cell_type": "markdown",
   "metadata": {},
   "source": [
    "본 저작물의 저작권은 Apache License v2.0을 따릅니다"
   ]
  },
  {
   "cell_type": "code",
   "execution_count": null,
   "metadata": {},
   "outputs": [],
   "source": []
  }
 ],
 "metadata": {
  "kernelspec": {
   "display_name": "R",
   "language": "R",
   "name": "ir"
  },
  "language_info": {
   "codemirror_mode": "r",
   "file_extension": ".r",
   "mimetype": "text/x-r-source",
   "name": "R",
   "pygments_lexer": "r",
   "version": "4.0.2"
  }
 },
 "nbformat": 4,
 "nbformat_minor": 4
}
